{
  "nbformat": 4,
  "nbformat_minor": 0,
  "metadata": {
    "colab": {
      "provenance": [],
      "authorship_tag": "ABX9TyMVVddotXovNmJKDD8qVNdN",
      "include_colab_link": true
    },
    "kernelspec": {
      "name": "python3",
      "display_name": "Python 3"
    },
    "language_info": {
      "name": "python"
    }
  },
  "cells": [
    {
      "cell_type": "markdown",
      "metadata": {
        "id": "view-in-github",
        "colab_type": "text"
      },
      "source": [
        "<a href=\"https://colab.research.google.com/github/michalis0/Business-Intelligence-and-Analytics/blob/master/Exercise_API.ipynb\" target=\"_parent\"><img src=\"https://colab.research.google.com/assets/colab-badge.svg\" alt=\"Open In Colab\"/></a>"
      ]
    },
    {
      "cell_type": "code",
      "source": [
        "#@title Exercise on API - Lab 2\n",
        "\n",
        "%%html\n",
        "\n",
        "<div>\n",
        "<td> \n",
        "<img src=\"https://upload.wikimedia.org/wikipedia/commons/thumb/2/2b/Logo_Universit%C3%A9_de_Lausanne.svg/2000px-Logo_Universit%C3%A9_de_Lausanne.svg.png\" style=\"padding-right:10px;width:240px;float:left\"/></td>\n",
        "<h2 style=\"white-space: nowrap\">Business Intelligence and Analytics</h2></td>\n",
        "<hr style=\"clear:both\">\n",
        "<p style=\"font-size:0.85em; margin:2px; text-align:justify\">\n",
        "\n",
        "</div>"
      ],
      "metadata": {
        "colab": {
          "base_uri": "https://localhost:8080/",
          "height": 133
        },
        "cellView": "form",
        "id": "LIG51I0NZ0QE",
        "outputId": "d3293d3f-17f2-45b2-e683-5e1991f90f20"
      },
      "execution_count": null,
      "outputs": [
        {
          "output_type": "display_data",
          "data": {
            "text/plain": [
              "<IPython.core.display.HTML object>"
            ],
            "text/html": [
              "\n",
              "<div>\n",
              "<td> \n",
              "<img src=\"https://upload.wikimedia.org/wikipedia/commons/thumb/2/2b/Logo_Universit%C3%A9_de_Lausanne.svg/2000px-Logo_Universit%C3%A9_de_Lausanne.svg.png\" style=\"padding-right:10px;width:240px;float:left\"/></td>\n",
              "<h2 style=\"white-space: nowrap\">Business Intelligence and Analytics</h2></td>\n",
              "<hr style=\"clear:both\">\n",
              "<p style=\"font-size:0.85em; margin:2px; text-align:justify\">\n",
              "\n",
              "</div>\n"
            ]
          },
          "metadata": {}
        }
      ]
    },
    {
      "cell_type": "markdown",
      "source": [
        "# Introduction\n",
        "\n",
        ">This exercise aims at illustrating the practical use of API requests to obtain data from the Internet. During this exercise, we will show you how to obtain API data from various websites in `json` format. Then, you will use a small program that allows you to retrieve the data in Colab. From this point onwards, the data will be accessible for you to work on.\n",
        "\n",
        "> We are going to use **2 examples**: one where you retrieve IMDb data about your **favorite movie** and another where you retrieve **current weather** data from any city in the world.\n",
        "\n",
        "_Note_: data treatment will be developed in the following labs: \"Pandas and Python\" and \"Data cleaning\", respectively the 2nd and 3rd labs. This exercise only shows you the process of obtaining _real time_ online data from an API.\n",
        "\n",
        "_Reminder_: data obtained in such a way is called _external_ data.\n",
        "\n",
        "\n"
      ],
      "metadata": {
        "id": "nPrgCqTTVXmg"
      }
    },
    {
      "cell_type": "markdown",
      "source": [
        "# 1. Data from your favorite movie\n",
        "\n",
        "In this example, you will understand how to extract data concerning the movie of your choice.\n",
        "\n",
        "First, you will have to make a request against an API to obtain the data.\n",
        "\n",
        "Second, you will translate this data in Colab."
      ],
      "metadata": {
        "id": "LoodZhsh0eaH"
      }
    },
    {
      "cell_type": "markdown",
      "source": [
        "## Making a OMDb API request\n",
        "\n",
        "**Let us take a look at the [OMDb API](https://www.omdbapi.com/)**\n",
        "\n",
        "> You can see that you will be able to make a HTTP request with this URL: ```http://www.omdbapi.com/?apikey=[yourkey]&```\n",
        "\n",
        "For this, you will need a **key** (see theory) for the API to control your requests. For OMDb API, free requests are limited to 1'000 per day.\n",
        "\n",
        "> You can get your own key [here](https://www.omdbapi.com/apikey.aspx) by inputing your email address.\n",
        "\n",
        "> You can also use the key I generated : `6be81d95`.\n",
        "\n",
        "You will then need to apply **filters** to your HTTP request for the API to recognize what you are looking for. Those will be appended to the end of your URL.\n",
        "\n",
        "For example, say I want to search for the movie \"The Big Short\" with a full plot.\n",
        "> The filters would be the following: `t=The+Big+Short&plot=full`. You can see that `t` indicates the title of the movie (for this API, it is mandatory) and `plot` has an option `full`.\n",
        "\n",
        "> The filters are always separed by a `&` sign.\n",
        "\n",
        "Therefore, the URL of my request would be the following:\n",
        "\n",
        "```https://www.omdbapi.com/?apikey=6be81d95&t=The+Big+Short&plot=full```\n",
        "\n",
        "**Try inputing that URL in your browser and see what happens!**\n"
      ],
      "metadata": {
        "id": "a6GT0pj-eIMz"
      }
    },
    {
      "cell_type": "markdown",
      "source": [
        "### Result\n",
        "\n",
        "If everything goes well, you get a webpage in `json` format !\n",
        "\n",
        "You might recognize the **semi-structured** data type from your theory class.\n",
        "\n",
        ">However, all of this is still happening in your web browser, and you cannot process this data with any program of your choice."
      ],
      "metadata": {
        "id": "ZY0tP7cNvAo9"
      }
    },
    {
      "cell_type": "markdown",
      "source": [
        "## Loading the data in Colab\n",
        "\n",
        "More on this process can be found [here](https://colab.research.google.com/github/nestauk/im-tutorials/blob/3-ysi-tutorial/notebooks/APIs/API_tutorial.ipynb). This exercise is largely inspired by the official Colab tutorial."
      ],
      "metadata": {
        "id": "A2xDQI_oew6Q"
      }
    },
    {
      "cell_type": "code",
      "source": [
        "import requests  # Import the requests library\n",
        "\n",
        "# Query URL\n",
        "url = ('https://www.omdbapi.com/?apikey=6be81d95&t=The+Big+Short&plot=full')  # Movie 'The Big Short' with a full plot\n",
        "\n",
        "print(url)\n",
        "\n",
        "response = requests.get(url)  # Make a GET request to the URL.\n",
        "\n",
        "# Print status code (and associated text).\n",
        "print(f\"Request returned {response.status_code} : '{response.reason}'\")\n",
        "\n",
        "#Note: status 200 means the request was successful. Search online for documentation about request statuses.\n",
        "\n",
        "# Print data returned (parsing as JSON)\n",
        "payload = response.json()  # Parse `response.text` into JSON\n",
        "\n",
        "import pprint #This library makes the result look good.\n",
        "\n",
        "pp = pprint.PrettyPrinter(indent=1)\n",
        "pp.pprint(payload)"
      ],
      "metadata": {
        "colab": {
          "base_uri": "https://localhost:8080/"
        },
        "id": "Sa-33IjZaGdI",
        "outputId": "55624a9c-b495-4045-d543-0a0ac93d6b28"
      },
      "execution_count": null,
      "outputs": [
        {
          "output_type": "stream",
          "name": "stdout",
          "text": [
            "https://www.omdbapi.com/?apikey=6be81d95&t=The+Big+Short&plot=full\n",
            "Request returned 200 : 'OK'\n",
            "{'Actors': 'Christian Bale, Steve Carell, Ryan Gosling',\n",
            " 'Awards': 'Won 1 Oscar. 37 wins & 81 nominations total',\n",
            " 'BoxOffice': '$70,259,870',\n",
            " 'Country': 'United States',\n",
            " 'DVD': '15 Mar 2016',\n",
            " 'Director': 'Adam McKay',\n",
            " 'Genre': 'Biography, Comedy, Drama',\n",
            " 'Language': 'English',\n",
            " 'Metascore': '81',\n",
            " 'Plot': 'Three separate but parallel stories of the U.S mortgage housing '\n",
            "         'crisis of 2005 are told. Michael Burry, an eccentric ex-physician '\n",
            "         'turned one-eyed Scion Capital hedge fund manager, has traded '\n",
            "         'traditional office attire for shorts, bare feet and a Supercuts '\n",
            "         'haircut. He believes that the US housing market is built on a bubble '\n",
            "         'that will burst within the next few years. Autonomy within the '\n",
            "         'company allows Burry to do largely as he pleases, so Burry proceeds '\n",
            "         'to bet against the housing market with the banks, who are more than '\n",
            "         'happy to accept his proposal for something that has never happened '\n",
            "         'in American history. The banks believe that Burry is a crackpot and '\n",
            "         'therefore are confident in that they will win the deal. Jared '\n",
            "         'Vennett with Deutschebank gets wind of what Burry is doing and, as '\n",
            "         \"an investor believes he too can cash in on Burry's beliefs. An \"\n",
            "         'errant telephone call to FrontPoint Partners gets this information '\n",
            "         'into the hands of Mark Baum, an idealist who is fed up with the '\n",
            "         'corruption in the financial industry. Baum and his associates, who '\n",
            "         'work at an arms length under Morgan Stanley, decide to join forces '\n",
            "         'with Vennett despite not totally trusting him. In addition to '\n",
            "         \"Burry's information, they further believe that most of the mortgages \"\n",
            "         'are overrated by the bond agencies, with the banks collating all the '\n",
            "         'sub-prime mortgages under AAA packages. Charlie Geller and Jamie '\n",
            "         'Shipley, who are minor players in a $30 million start-up garage '\n",
            "         \"company called Brownfield, get a hold of Vennett's prospectus on the \"\n",
            "         'matter. Wanting in on the action but not having the official clout '\n",
            "         'to play, they decide to call an old \"friend\", retired investment '\n",
            "         'banker Ben Rickert, to help out. All three of these groups work on '\n",
            "         \"the premise that the banks are stupid and don't know what's going \"\n",
            "         'on, while for them to win, the general economy has to lose, which '\n",
            "         'means the suffering of the general investor who trusts the financial '\n",
            "         'institutions. That latter aspect may not sit well with Baum. Some of '\n",
            "         'these assumptions may be incorrect and may be far more manipulative '\n",
            "         'than they could have ever imagined, which in turn may throw curves '\n",
            "         'into the process.',\n",
            " 'Poster': 'https://m.media-amazon.com/images/M/MV5BNDc4MThhN2EtZjMzNC00ZDJmLThiZTgtNThlY2UxZWMzNjdkXkEyXkFqcGdeQXVyNDk3NzU2MTQ@._V1_SX300.jpg',\n",
            " 'Production': 'N/A',\n",
            " 'Rated': 'R',\n",
            " 'Ratings': [{'Source': 'Internet Movie Database', 'Value': '7.8/10'},\n",
            "             {'Source': 'Rotten Tomatoes', 'Value': '89%'},\n",
            "             {'Source': 'Metacritic', 'Value': '81/100'}],\n",
            " 'Released': '23 Dec 2015',\n",
            " 'Response': 'True',\n",
            " 'Runtime': '130 min',\n",
            " 'Title': 'The Big Short',\n",
            " 'Type': 'movie',\n",
            " 'Website': 'N/A',\n",
            " 'Writer': 'Charles Randolph, Adam McKay, Michael Lewis',\n",
            " 'Year': '2015',\n",
            " 'imdbID': 'tt1596363',\n",
            " 'imdbRating': '7.8',\n",
            " 'imdbVotes': '437,558'}\n"
          ]
        }
      ]
    },
    {
      "cell_type": "markdown",
      "source": [
        "**You did it!** You can now process the data obtained in the movie description"
      ],
      "metadata": {
        "id": "mDdTMPOym_FE"
      }
    },
    {
      "cell_type": "code",
      "source": [
        "#Show the actors that played in the movie\n",
        "\n",
        "payload['Actors']"
      ],
      "metadata": {
        "colab": {
          "base_uri": "https://localhost:8080/",
          "height": 36
        },
        "id": "HfMM215ukpIU",
        "outputId": "b6df1fa2-5009-4d3e-fff2-18555d3c16fc"
      },
      "execution_count": null,
      "outputs": [
        {
          "output_type": "execute_result",
          "data": {
            "text/plain": [
              "'Christian Bale, Steve Carell, Ryan Gosling'"
            ],
            "application/vnd.google.colaboratory.intrinsic+json": {
              "type": "string"
            }
          },
          "metadata": {},
          "execution_count": 11
        }
      ]
    },
    {
      "cell_type": "code",
      "source": [
        "#Show the plot of the movie\n",
        "\n",
        "plot = payload['Plot']\n",
        "\n",
        "print(plot)"
      ],
      "metadata": {
        "colab": {
          "base_uri": "https://localhost:8080/"
        },
        "id": "dodnN5bXk3wH",
        "outputId": "c9471a40-3583-4377-c16b-2166718bfbd4"
      },
      "execution_count": null,
      "outputs": [
        {
          "output_type": "stream",
          "name": "stdout",
          "text": [
            "Three separate but parallel stories of the U.S mortgage housing crisis of 2005 are told. Michael Burry, an eccentric ex-physician turned one-eyed Scion Capital hedge fund manager, has traded traditional office attire for shorts, bare feet and a Supercuts haircut. He believes that the US housing market is built on a bubble that will burst within the next few years. Autonomy within the company allows Burry to do largely as he pleases, so Burry proceeds to bet against the housing market with the banks, who are more than happy to accept his proposal for something that has never happened in American history. The banks believe that Burry is a crackpot and therefore are confident in that they will win the deal. Jared Vennett with Deutschebank gets wind of what Burry is doing and, as an investor believes he too can cash in on Burry's beliefs. An errant telephone call to FrontPoint Partners gets this information into the hands of Mark Baum, an idealist who is fed up with the corruption in the financial industry. Baum and his associates, who work at an arms length under Morgan Stanley, decide to join forces with Vennett despite not totally trusting him. In addition to Burry's information, they further believe that most of the mortgages are overrated by the bond agencies, with the banks collating all the sub-prime mortgages under AAA packages. Charlie Geller and Jamie Shipley, who are minor players in a $30 million start-up garage company called Brownfield, get a hold of Vennett's prospectus on the matter. Wanting in on the action but not having the official clout to play, they decide to call an old \"friend\", retired investment banker Ben Rickert, to help out. All three of these groups work on the premise that the banks are stupid and don't know what's going on, while for them to win, the general economy has to lose, which means the suffering of the general investor who trusts the financial institutions. That latter aspect may not sit well with Baum. Some of these assumptions may be incorrect and may be far more manipulative than they could have ever imagined, which in turn may throw curves into the process.\n"
          ]
        }
      ]
    },
    {
      "cell_type": "code",
      "source": [
        "#Count the number of words in the plot\n",
        "print(type(plot))\n",
        "\n",
        "plot_length = plot.split() #use the split method on a string\n",
        "\n",
        "print(len(plot_length)) #count the length of the list containing all words"
      ],
      "metadata": {
        "colab": {
          "base_uri": "https://localhost:8080/"
        },
        "id": "HvlhtmJ5oLfW",
        "outputId": "301b4897-a2ce-4687-cf36-cfff36e403e5"
      },
      "execution_count": null,
      "outputs": [
        {
          "output_type": "stream",
          "name": "stdout",
          "text": [
            "<class 'str'>\n",
            "364\n"
          ]
        }
      ]
    },
    {
      "cell_type": "markdown",
      "source": [
        "## Your turn !\n",
        "\n",
        "Here, you will be able to search for your own favorite movie and retrieve the corresponding IMDb data."
      ],
      "metadata": {
        "id": "gZRqqUm1rK80"
      }
    },
    {
      "cell_type": "code",
      "source": [
        "your_url = ('Your url here') \n",
        "\n",
        "#You will need the key and the name of the movie from omdbapi.com (see the first part of this example)"
      ],
      "metadata": {
        "id": "FeqPoaFfrZn9"
      },
      "execution_count": null,
      "outputs": []
    },
    {
      "cell_type": "code",
      "source": [
        "import requests  \n",
        "\n",
        "print(your_url) #The URL of your choice.\n",
        "\n",
        "response = requests.get(your_url)  # Make a GET request to the URL.\n",
        "\n",
        "# Print status code (and associated text).\n",
        "print(f\"Request returned {response.status_code} : '{response.reason}'\")\n",
        "\n",
        "\n",
        "# Print data returned (parsing as JSON)\n",
        "your_movie = response.json()  \n",
        "\n",
        "import pprint\n",
        "pp = pprint.PrettyPrinter(indent=1)\n",
        "pp.pprint(your_movie)"
      ],
      "metadata": {
        "id": "tNs2IYQLxzBH"
      },
      "execution_count": null,
      "outputs": []
    },
    {
      "cell_type": "code",
      "source": [
        "#Find the ratings of your movie!\n",
        "\n",
        "your_movie['Your code here']"
      ],
      "metadata": {
        "id": "yKzT96KkzFhC"
      },
      "execution_count": null,
      "outputs": []
    },
    {
      "cell_type": "code",
      "source": [
        "#Find the writer of your movie!\n",
        "\n",
        "'Your code here'"
      ],
      "metadata": {
        "id": "xiTf-AfPzPIt"
      },
      "execution_count": null,
      "outputs": []
    },
    {
      "cell_type": "markdown",
      "source": [
        "# 2. Current weather data\n",
        "\n",
        "In this example, you will see how to obtain real-time weather data on the city of your choice.\n",
        "\n",
        "> We will use [OpenWeather API](https://openweathermap.org/api). You can find documentation there.\n",
        "\n",
        "The process is relatively similar to the first example, and hopefully by now you will have understood the intuition. This will therefore be a more concise illustration."
      ],
      "metadata": {
        "id": "mzEXDyT599Cm"
      }
    },
    {
      "cell_type": "markdown",
      "source": [
        "## Current weather in Lausanne\n",
        "\n",
        "We have already generated an API key: `APPID=c3b012a09cda741d210d8739c796c3da`\n",
        "\n",
        "The only parameters inputted here are the name of the city and the country code: `Lausanne,ch`.\n",
        "\n",
        "You could also input the latitude and longitude according to [the documentation](https://openweathermap.org/current).\n",
        "\n",
        "> The OpenWeather API is going to return the following `JSON`formatted data."
      ],
      "metadata": {
        "id": "QVrdMG7-CZMS"
      }
    },
    {
      "cell_type": "code",
      "source": [
        "url = ('https://api.openweathermap.org/data/2.5/weather?q=London,uk&APPID=c3b012a09cda741d210d8739c796c3da') #City of Lausanne, CH"
      ],
      "metadata": {
        "id": "FB76ieSJJNqC"
      },
      "execution_count": null,
      "outputs": []
    },
    {
      "cell_type": "code",
      "source": [
        "import requests  # Import the requests library\n",
        "\n",
        "\n",
        "print(url)\n",
        "\n",
        "response = requests.get(url)  # Make a GET request to the URL.\n",
        "\n",
        "# Print status code (and associated text).\n",
        "print(f\"Request returned {response.status_code} : '{response.reason}'\")\n",
        "\n",
        "#Note: status 200 means the request was successful. Search online for documentation about request statuses.\n",
        "\n",
        "# Print data returned (parsing as JSON)\n",
        "payload = response.json()  # Parse `response.text` into JSON\n",
        "\n",
        "import pprint #This library makes the result look good.\n",
        "\n",
        "pp = pprint.PrettyPrinter(indent=1)\n",
        "pp.pprint(payload)"
      ],
      "metadata": {
        "colab": {
          "base_uri": "https://localhost:8080/"
        },
        "id": "6eLmKv9X-G0t",
        "outputId": "cd85655e-4810-4aac-ee12-83f8c31cff40"
      },
      "execution_count": null,
      "outputs": [
        {
          "output_type": "stream",
          "name": "stdout",
          "text": [
            "https://api.openweathermap.org/data/2.5/weather?q=London,uk&APPID=c3b012a09cda741d210d8739c796c3da\n",
            "Request returned 200 : 'OK'\n",
            "{'base': 'stations',\n",
            " 'clouds': {'all': 40},\n",
            " 'cod': 200,\n",
            " 'coord': {'lat': 51.5085, 'lon': -0.1257},\n",
            " 'dt': 1677338246,\n",
            " 'id': 2643743,\n",
            " 'main': {'feels_like': 277.01,\n",
            "          'humidity': 68,\n",
            "          'pressure': 1016,\n",
            "          'temp': 280.38,\n",
            "          'temp_max': 281.61,\n",
            "          'temp_min': 279.1},\n",
            " 'name': 'London',\n",
            " 'sys': {'country': 'GB',\n",
            "         'id': 2075535,\n",
            "         'sunrise': 1677308119,\n",
            "         'sunset': 1677346337,\n",
            "         'type': 2},\n",
            " 'timezone': 0,\n",
            " 'visibility': 10000,\n",
            " 'weather': [{'description': 'scattered clouds',\n",
            "              'icon': '03d',\n",
            "              'id': 802,\n",
            "              'main': 'Clouds'}],\n",
            " 'wind': {'deg': 60, 'speed': 5.66}}\n"
          ]
        }
      ]
    },
    {
      "cell_type": "markdown",
      "source": [
        "_Note_: You can play with this request by changing the URL with the city of your choice."
      ],
      "metadata": {
        "id": "zQY99f-oFIAf"
      }
    },
    {
      "cell_type": "code",
      "source": [
        "#What is the temperature?\n",
        "print(type(payload['main']))\n",
        "\n",
        "main_info = payload['main']\n",
        "main_info"
      ],
      "metadata": {
        "colab": {
          "base_uri": "https://localhost:8080/"
        },
        "id": "X2vS-wAaFEn9",
        "outputId": "c0d027a9-9c79-4757-c25d-8f0174db69f0"
      },
      "execution_count": null,
      "outputs": [
        {
          "output_type": "stream",
          "name": "stdout",
          "text": [
            "<class 'dict'>\n"
          ]
        },
        {
          "output_type": "execute_result",
          "data": {
            "text/plain": [
              "{'temp': 280.38,\n",
              " 'feels_like': 277.01,\n",
              " 'temp_min': 279.1,\n",
              " 'temp_max': 281.61,\n",
              " 'pressure': 1016,\n",
              " 'humidity': 68}"
            ]
          },
          "metadata": {},
          "execution_count": 81
        }
      ]
    },
    {
      "cell_type": "code",
      "source": [
        "#Translating this data into a pandas DataFrame (cf. pandas walkthrough)\n",
        "import pandas as pd\n",
        "\n",
        "name = payload['name']\n",
        "main_index = []\n",
        "main_index.append(name)\n",
        "\n",
        "df_main = pd.DataFrame(main_info, index=main_index)\n",
        "df_main"
      ],
      "metadata": {
        "colab": {
          "base_uri": "https://localhost:8080/",
          "height": 81
        },
        "id": "5B6hmLxlF4Un",
        "outputId": "e1c942cf-f031-450f-8b50-17255a8e85f3"
      },
      "execution_count": null,
      "outputs": [
        {
          "output_type": "execute_result",
          "data": {
            "text/plain": [
              "          temp  feels_like  temp_min  temp_max  pressure  humidity\n",
              "London  280.38      277.01     279.1    281.61      1016        68"
            ],
            "text/html": [
              "\n",
              "  <div id=\"df-bb02325f-4298-4cdb-883c-42f62f71acf6\">\n",
              "    <div class=\"colab-df-container\">\n",
              "      <div>\n",
              "<style scoped>\n",
              "    .dataframe tbody tr th:only-of-type {\n",
              "        vertical-align: middle;\n",
              "    }\n",
              "\n",
              "    .dataframe tbody tr th {\n",
              "        vertical-align: top;\n",
              "    }\n",
              "\n",
              "    .dataframe thead th {\n",
              "        text-align: right;\n",
              "    }\n",
              "</style>\n",
              "<table border=\"1\" class=\"dataframe\">\n",
              "  <thead>\n",
              "    <tr style=\"text-align: right;\">\n",
              "      <th></th>\n",
              "      <th>temp</th>\n",
              "      <th>feels_like</th>\n",
              "      <th>temp_min</th>\n",
              "      <th>temp_max</th>\n",
              "      <th>pressure</th>\n",
              "      <th>humidity</th>\n",
              "    </tr>\n",
              "  </thead>\n",
              "  <tbody>\n",
              "    <tr>\n",
              "      <th>London</th>\n",
              "      <td>280.38</td>\n",
              "      <td>277.01</td>\n",
              "      <td>279.1</td>\n",
              "      <td>281.61</td>\n",
              "      <td>1016</td>\n",
              "      <td>68</td>\n",
              "    </tr>\n",
              "  </tbody>\n",
              "</table>\n",
              "</div>\n",
              "      <button class=\"colab-df-convert\" onclick=\"convertToInteractive('df-bb02325f-4298-4cdb-883c-42f62f71acf6')\"\n",
              "              title=\"Convert this dataframe to an interactive table.\"\n",
              "              style=\"display:none;\">\n",
              "        \n",
              "  <svg xmlns=\"http://www.w3.org/2000/svg\" height=\"24px\"viewBox=\"0 0 24 24\"\n",
              "       width=\"24px\">\n",
              "    <path d=\"M0 0h24v24H0V0z\" fill=\"none\"/>\n",
              "    <path d=\"M18.56 5.44l.94 2.06.94-2.06 2.06-.94-2.06-.94-.94-2.06-.94 2.06-2.06.94zm-11 1L8.5 8.5l.94-2.06 2.06-.94-2.06-.94L8.5 2.5l-.94 2.06-2.06.94zm10 10l.94 2.06.94-2.06 2.06-.94-2.06-.94-.94-2.06-.94 2.06-2.06.94z\"/><path d=\"M17.41 7.96l-1.37-1.37c-.4-.4-.92-.59-1.43-.59-.52 0-1.04.2-1.43.59L10.3 9.45l-7.72 7.72c-.78.78-.78 2.05 0 2.83L4 21.41c.39.39.9.59 1.41.59.51 0 1.02-.2 1.41-.59l7.78-7.78 2.81-2.81c.8-.78.8-2.07 0-2.86zM5.41 20L4 18.59l7.72-7.72 1.47 1.35L5.41 20z\"/>\n",
              "  </svg>\n",
              "      </button>\n",
              "      \n",
              "  <style>\n",
              "    .colab-df-container {\n",
              "      display:flex;\n",
              "      flex-wrap:wrap;\n",
              "      gap: 12px;\n",
              "    }\n",
              "\n",
              "    .colab-df-convert {\n",
              "      background-color: #E8F0FE;\n",
              "      border: none;\n",
              "      border-radius: 50%;\n",
              "      cursor: pointer;\n",
              "      display: none;\n",
              "      fill: #1967D2;\n",
              "      height: 32px;\n",
              "      padding: 0 0 0 0;\n",
              "      width: 32px;\n",
              "    }\n",
              "\n",
              "    .colab-df-convert:hover {\n",
              "      background-color: #E2EBFA;\n",
              "      box-shadow: 0px 1px 2px rgba(60, 64, 67, 0.3), 0px 1px 3px 1px rgba(60, 64, 67, 0.15);\n",
              "      fill: #174EA6;\n",
              "    }\n",
              "\n",
              "    [theme=dark] .colab-df-convert {\n",
              "      background-color: #3B4455;\n",
              "      fill: #D2E3FC;\n",
              "    }\n",
              "\n",
              "    [theme=dark] .colab-df-convert:hover {\n",
              "      background-color: #434B5C;\n",
              "      box-shadow: 0px 1px 3px 1px rgba(0, 0, 0, 0.15);\n",
              "      filter: drop-shadow(0px 1px 2px rgba(0, 0, 0, 0.3));\n",
              "      fill: #FFFFFF;\n",
              "    }\n",
              "  </style>\n",
              "\n",
              "      <script>\n",
              "        const buttonEl =\n",
              "          document.querySelector('#df-bb02325f-4298-4cdb-883c-42f62f71acf6 button.colab-df-convert');\n",
              "        buttonEl.style.display =\n",
              "          google.colab.kernel.accessAllowed ? 'block' : 'none';\n",
              "\n",
              "        async function convertToInteractive(key) {\n",
              "          const element = document.querySelector('#df-bb02325f-4298-4cdb-883c-42f62f71acf6');\n",
              "          const dataTable =\n",
              "            await google.colab.kernel.invokeFunction('convertToInteractive',\n",
              "                                                     [key], {});\n",
              "          if (!dataTable) return;\n",
              "\n",
              "          const docLinkHtml = 'Like what you see? Visit the ' +\n",
              "            '<a target=\"_blank\" href=https://colab.research.google.com/notebooks/data_table.ipynb>data table notebook</a>'\n",
              "            + ' to learn more about interactive tables.';\n",
              "          element.innerHTML = '';\n",
              "          dataTable['output_type'] = 'display_data';\n",
              "          await google.colab.output.renderOutput(dataTable, element);\n",
              "          const docLink = document.createElement('div');\n",
              "          docLink.innerHTML = docLinkHtml;\n",
              "          element.appendChild(docLink);\n",
              "        }\n",
              "      </script>\n",
              "    </div>\n",
              "  </div>\n",
              "  "
            ]
          },
          "metadata": {},
          "execution_count": 82
        }
      ]
    },
    {
      "cell_type": "code",
      "source": [
        "#Temperature is in Kelvin- let us translate into Celsius\n",
        "\n",
        "df_main[['temp', 'feels_like', 'temp_min', 'temp_max']] = df_main[['temp', 'feels_like', 'temp_min', 'temp_max']] - 273.15\n",
        "df_main"
      ],
      "metadata": {
        "colab": {
          "base_uri": "https://localhost:8080/",
          "height": 81
        },
        "id": "FXx9vFnTHvyN",
        "outputId": "c91b8988-cc09-4977-efad-ed266ef418ca"
      },
      "execution_count": null,
      "outputs": [
        {
          "output_type": "execute_result",
          "data": {
            "text/plain": [
              "        temp  feels_like  temp_min  temp_max  pressure  humidity\n",
              "London  7.23        3.86      5.95      8.46      1016        68"
            ],
            "text/html": [
              "\n",
              "  <div id=\"df-819f9aa4-8f9d-49b7-88b0-609b022e528f\">\n",
              "    <div class=\"colab-df-container\">\n",
              "      <div>\n",
              "<style scoped>\n",
              "    .dataframe tbody tr th:only-of-type {\n",
              "        vertical-align: middle;\n",
              "    }\n",
              "\n",
              "    .dataframe tbody tr th {\n",
              "        vertical-align: top;\n",
              "    }\n",
              "\n",
              "    .dataframe thead th {\n",
              "        text-align: right;\n",
              "    }\n",
              "</style>\n",
              "<table border=\"1\" class=\"dataframe\">\n",
              "  <thead>\n",
              "    <tr style=\"text-align: right;\">\n",
              "      <th></th>\n",
              "      <th>temp</th>\n",
              "      <th>feels_like</th>\n",
              "      <th>temp_min</th>\n",
              "      <th>temp_max</th>\n",
              "      <th>pressure</th>\n",
              "      <th>humidity</th>\n",
              "    </tr>\n",
              "  </thead>\n",
              "  <tbody>\n",
              "    <tr>\n",
              "      <th>London</th>\n",
              "      <td>7.23</td>\n",
              "      <td>3.86</td>\n",
              "      <td>5.95</td>\n",
              "      <td>8.46</td>\n",
              "      <td>1016</td>\n",
              "      <td>68</td>\n",
              "    </tr>\n",
              "  </tbody>\n",
              "</table>\n",
              "</div>\n",
              "      <button class=\"colab-df-convert\" onclick=\"convertToInteractive('df-819f9aa4-8f9d-49b7-88b0-609b022e528f')\"\n",
              "              title=\"Convert this dataframe to an interactive table.\"\n",
              "              style=\"display:none;\">\n",
              "        \n",
              "  <svg xmlns=\"http://www.w3.org/2000/svg\" height=\"24px\"viewBox=\"0 0 24 24\"\n",
              "       width=\"24px\">\n",
              "    <path d=\"M0 0h24v24H0V0z\" fill=\"none\"/>\n",
              "    <path d=\"M18.56 5.44l.94 2.06.94-2.06 2.06-.94-2.06-.94-.94-2.06-.94 2.06-2.06.94zm-11 1L8.5 8.5l.94-2.06 2.06-.94-2.06-.94L8.5 2.5l-.94 2.06-2.06.94zm10 10l.94 2.06.94-2.06 2.06-.94-2.06-.94-.94-2.06-.94 2.06-2.06.94z\"/><path d=\"M17.41 7.96l-1.37-1.37c-.4-.4-.92-.59-1.43-.59-.52 0-1.04.2-1.43.59L10.3 9.45l-7.72 7.72c-.78.78-.78 2.05 0 2.83L4 21.41c.39.39.9.59 1.41.59.51 0 1.02-.2 1.41-.59l7.78-7.78 2.81-2.81c.8-.78.8-2.07 0-2.86zM5.41 20L4 18.59l7.72-7.72 1.47 1.35L5.41 20z\"/>\n",
              "  </svg>\n",
              "      </button>\n",
              "      \n",
              "  <style>\n",
              "    .colab-df-container {\n",
              "      display:flex;\n",
              "      flex-wrap:wrap;\n",
              "      gap: 12px;\n",
              "    }\n",
              "\n",
              "    .colab-df-convert {\n",
              "      background-color: #E8F0FE;\n",
              "      border: none;\n",
              "      border-radius: 50%;\n",
              "      cursor: pointer;\n",
              "      display: none;\n",
              "      fill: #1967D2;\n",
              "      height: 32px;\n",
              "      padding: 0 0 0 0;\n",
              "      width: 32px;\n",
              "    }\n",
              "\n",
              "    .colab-df-convert:hover {\n",
              "      background-color: #E2EBFA;\n",
              "      box-shadow: 0px 1px 2px rgba(60, 64, 67, 0.3), 0px 1px 3px 1px rgba(60, 64, 67, 0.15);\n",
              "      fill: #174EA6;\n",
              "    }\n",
              "\n",
              "    [theme=dark] .colab-df-convert {\n",
              "      background-color: #3B4455;\n",
              "      fill: #D2E3FC;\n",
              "    }\n",
              "\n",
              "    [theme=dark] .colab-df-convert:hover {\n",
              "      background-color: #434B5C;\n",
              "      box-shadow: 0px 1px 3px 1px rgba(0, 0, 0, 0.15);\n",
              "      filter: drop-shadow(0px 1px 2px rgba(0, 0, 0, 0.3));\n",
              "      fill: #FFFFFF;\n",
              "    }\n",
              "  </style>\n",
              "\n",
              "      <script>\n",
              "        const buttonEl =\n",
              "          document.querySelector('#df-819f9aa4-8f9d-49b7-88b0-609b022e528f button.colab-df-convert');\n",
              "        buttonEl.style.display =\n",
              "          google.colab.kernel.accessAllowed ? 'block' : 'none';\n",
              "\n",
              "        async function convertToInteractive(key) {\n",
              "          const element = document.querySelector('#df-819f9aa4-8f9d-49b7-88b0-609b022e528f');\n",
              "          const dataTable =\n",
              "            await google.colab.kernel.invokeFunction('convertToInteractive',\n",
              "                                                     [key], {});\n",
              "          if (!dataTable) return;\n",
              "\n",
              "          const docLinkHtml = 'Like what you see? Visit the ' +\n",
              "            '<a target=\"_blank\" href=https://colab.research.google.com/notebooks/data_table.ipynb>data table notebook</a>'\n",
              "            + ' to learn more about interactive tables.';\n",
              "          element.innerHTML = '';\n",
              "          dataTable['output_type'] = 'display_data';\n",
              "          await google.colab.output.renderOutput(dataTable, element);\n",
              "          const docLink = document.createElement('div');\n",
              "          docLink.innerHTML = docLinkHtml;\n",
              "          element.appendChild(docLink);\n",
              "        }\n",
              "      </script>\n",
              "    </div>\n",
              "  </div>\n",
              "  "
            ]
          },
          "metadata": {},
          "execution_count": 83
        }
      ]
    }
  ]
}