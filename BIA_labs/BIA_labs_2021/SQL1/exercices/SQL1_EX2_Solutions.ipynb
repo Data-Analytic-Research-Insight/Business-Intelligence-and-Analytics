{
  "nbformat": 4,
  "nbformat_minor": 0,
  "metadata": {
    "colab": {
      "name": "SQL1_Solutions.ipynb",
      "provenance": [],
      "collapsed_sections": [],
      "include_colab_link": true
    },
    "kernelspec": {
      "name": "python3",
      "display_name": "Python 3"
    }
  },
  "cells": [
    {
      "cell_type": "markdown",
      "metadata": {
        "id": "view-in-github",
        "colab_type": "text"
      },
      "source": [
        "<a href=\"https://colab.research.google.com/github/michalis0/Business-Intelligence-and-Analytics/blob/master/week5%20-%20SQL/exercices/SQL1_EX2_Solutions.ipynb\" target=\"_parent\"><img src=\"https://colab.research.google.com/assets/colab-badge.svg\" alt=\"Open In Colab\"/></a>"
      ]
    },
    {
      "cell_type": "markdown",
      "metadata": {
        "id": "FnSwSz5vSOG3"
      },
      "source": [
        "# Week 5 - SQL (1/2) - Exercice 2"
      ]
    },
    {
      "cell_type": "markdown",
      "metadata": {
        "id": "Re4_0fl9ZS0v"
      },
      "source": [
        "# National Collegiate Athletic Association | NCAA\n",
        "We will now use an extract of a dataset about the NCAA, which oversees and regulates North American university sports.\n",
        "\n",
        "College presidents across the USA recognized a need to track how student-athletes are doing academically prior to graduation. Therefore, they implemeted a comprehensive academic refore package designed to improve the academic success and graduation of all student-athletes. The centerpiece of the academic reform package was the development of a real-time academic measurement for sports teams, known as the Academic Progress Rate (APR).\n",
        "\n",
        "The APR includes student-athlete eligibility, retention and graduation as factors in a formula that yields a single number, providing a much clearer picture of the current academic culture on each sports team. Since its inception, the APR has become an important measure of student-athlete academic success. Additionally, student-athletes can be ruled ineligible to play if they demonstrate poor academic performances.\n",
        "\n",
        "In the extract of the data we will be using, we will compare teams based on their number of student-athletes on the roster (`(Previous)Athletes`), their APR score (`(Previous)Score`), and their ratio of eligible players (`(previous)Eligibility`). We have these information for both the \"current\" year (2014) and \"two\" years back (2012).\n",
        "\n",
        "[(data source)](https://www.kaggle.com/ncaa/academic-scores)"
      ]
    },
    {
      "cell_type": "code",
      "metadata": {
        "id": "AwN8qMPRZBLF"
      },
      "source": [
        "import pandas as pd\n",
        "from sqlalchemy import create_engine\n",
        "db = create_engine('sqlite://', echo=False)\n",
        "csvfile = 'https://raw.githubusercontent.com/michalis0/Business-Intelligence-and-Analytics/master/data/NCAA.csv'\n",
        "df = pd.read_csv(csvfile, delimiter=';')\n",
        "table_name = 'ncaa'\n",
        "df.to_sql(table_name, con=db)"
      ],
      "execution_count": null,
      "outputs": []
    },
    {
      "cell_type": "markdown",
      "metadata": {
        "id": "so66dzTPVqIa"
      },
      "source": [
        "Now, let's take a first look at the data we will be working with."
      ]
    },
    {
      "cell_type": "code",
      "metadata": {
        "id": "zQ5TK705Vxki",
        "colab": {
          "base_uri": "https://localhost:8080/",
          "height": 204
        },
        "outputId": "a22082c8-9c4a-4048-f781-a3b0d0772c5d"
      },
      "source": [
        "query = \"\"\"\n",
        "select *\n",
        "from ncaa\n",
        "limit 5\n",
        "\"\"\"\n",
        "sql_df = pd.read_sql(query, con=db)\n",
        "sql_df"
      ],
      "execution_count": null,
      "outputs": [
        {
          "output_type": "execute_result",
          "data": {
            "text/html": [
              "<div>\n",
              "<style scoped>\n",
              "    .dataframe tbody tr th:only-of-type {\n",
              "        vertical-align: middle;\n",
              "    }\n",
              "\n",
              "    .dataframe tbody tr th {\n",
              "        vertical-align: top;\n",
              "    }\n",
              "\n",
              "    .dataframe thead th {\n",
              "        text-align: right;\n",
              "    }\n",
              "</style>\n",
              "<table border=\"1\" class=\"dataframe\">\n",
              "  <thead>\n",
              "    <tr style=\"text-align: right;\">\n",
              "      <th></th>\n",
              "      <th>index</th>\n",
              "      <th>School</th>\n",
              "      <th>Sport</th>\n",
              "      <th>Conference</th>\n",
              "      <th>Athletes</th>\n",
              "      <th>Score</th>\n",
              "      <th>Eligibility</th>\n",
              "      <th>PreviousAthletes</th>\n",
              "      <th>PreviousScore</th>\n",
              "      <th>PreviousEligibility</th>\n",
              "    </tr>\n",
              "  </thead>\n",
              "  <tbody>\n",
              "    <tr>\n",
              "      <th>0</th>\n",
              "      <td>0</td>\n",
              "      <td>Northwestern University</td>\n",
              "      <td>Men's Basketball</td>\n",
              "      <td>Big Ten Conference</td>\n",
              "      <td>12</td>\n",
              "      <td>932</td>\n",
              "      <td>0.9565</td>\n",
              "      <td>12.0</td>\n",
              "      <td>979.0</td>\n",
              "      <td>0.9583</td>\n",
              "    </tr>\n",
              "    <tr>\n",
              "      <th>1</th>\n",
              "      <td>1</td>\n",
              "      <td>University of Oregon</td>\n",
              "      <td>Men's Basketball</td>\n",
              "      <td>Pac-12 Conference</td>\n",
              "      <td>13</td>\n",
              "      <td>905</td>\n",
              "      <td>0.9565</td>\n",
              "      <td>13.0</td>\n",
              "      <td>952.0</td>\n",
              "      <td>1.0000</td>\n",
              "    </tr>\n",
              "    <tr>\n",
              "      <th>2</th>\n",
              "      <td>2</td>\n",
              "      <td>Dartmouth College</td>\n",
              "      <td>Women's Basketball</td>\n",
              "      <td>The Ivy League</td>\n",
              "      <td>15</td>\n",
              "      <td>1000</td>\n",
              "      <td>1.0000</td>\n",
              "      <td>10.0</td>\n",
              "      <td>1000.0</td>\n",
              "      <td>1.0000</td>\n",
              "    </tr>\n",
              "    <tr>\n",
              "      <th>3</th>\n",
              "      <td>3</td>\n",
              "      <td>Texas Christian University</td>\n",
              "      <td>Men's Basketball</td>\n",
              "      <td>Big 12 Conference</td>\n",
              "      <td>14</td>\n",
              "      <td>926</td>\n",
              "      <td>0.9259</td>\n",
              "      <td>13.0</td>\n",
              "      <td>918.0</td>\n",
              "      <td>0.8800</td>\n",
              "    </tr>\n",
              "    <tr>\n",
              "      <th>4</th>\n",
              "      <td>4</td>\n",
              "      <td>University of Louisville</td>\n",
              "      <td>Women's Basketball</td>\n",
              "      <td>Atlantic Coast Conference</td>\n",
              "      <td>14</td>\n",
              "      <td>1000</td>\n",
              "      <td>1.0000</td>\n",
              "      <td>17.0</td>\n",
              "      <td>1000.0</td>\n",
              "      <td>1.0000</td>\n",
              "    </tr>\n",
              "  </tbody>\n",
              "</table>\n",
              "</div>"
            ],
            "text/plain": [
              "   index                      School  ... PreviousScore PreviousEligibility\n",
              "0      0     Northwestern University  ...         979.0              0.9583\n",
              "1      1        University of Oregon  ...         952.0              1.0000\n",
              "2      2           Dartmouth College  ...        1000.0              1.0000\n",
              "3      3  Texas Christian University  ...         918.0              0.8800\n",
              "4      4    University of Louisville  ...        1000.0              1.0000\n",
              "\n",
              "[5 rows x 10 columns]"
            ]
          },
          "metadata": {
            "tags": []
          },
          "execution_count": 2
        }
      ]
    },
    {
      "cell_type": "markdown",
      "metadata": {
        "id": "W880RGIylNtD"
      },
      "source": [
        "Each row contains a team. We can see that the dataset contains the following information:\n",
        "- **`School`:** Name of the university affiliated to the team.\n",
        "- **`Sport`:** Name of the sport (and gender) the team plays.\n",
        "- **`Conference`:** Conference the team is playing in.\n",
        "- **`Athletes`:** Number of athletes currently on the team (2014).\n",
        "- **`Score`:**  Current Academic Progress Rate (APR) of the team (2014).\n",
        "- **``Eligibility:``** Ratio of players currently eligible to play (2014).\n",
        "- **`PreviousAthletes`:** Number of athletes previously on the team (2012).\n",
        "- **`PreviousScore`:**  Previous Academic Progress Rate (APR) of the team (2012).\n",
        "- **``PreviousEligibility:``** Ratio of players previously eligible to play (2012)."
      ]
    },
    {
      "cell_type": "markdown",
      "metadata": {
        "id": "mmREmtmFWtIh"
      },
      "source": [
        "### Question 1\n",
        "Find all the schools whose name contains a `W` and have an ice-hockey team.\n",
        "\n",
        "Hint: To account for both women and men's teams, use `'%Ice Hockey'`."
      ]
    },
    {
      "cell_type": "code",
      "metadata": {
        "id": "jBuUh6kQWpbX",
        "colab": {
          "base_uri": "https://localhost:8080/",
          "height": 142
        },
        "outputId": "f195257f-eb2a-4a83-8133-275345557ec2"
      },
      "source": [
        "query = \"\"\"\n",
        "select distinct School\n",
        "from ncaa\n",
        "where School like '%W%' and Sport like '%Ice Hockey'\n",
        "\"\"\"\n",
        "sql_df = pd.read_sql(query, con=db)\n",
        "sql_df"
      ],
      "execution_count": null,
      "outputs": [
        {
          "output_type": "execute_result",
          "data": {
            "text/html": [
              "<div>\n",
              "<style scoped>\n",
              "    .dataframe tbody tr th:only-of-type {\n",
              "        vertical-align: middle;\n",
              "    }\n",
              "\n",
              "    .dataframe tbody tr th {\n",
              "        vertical-align: top;\n",
              "    }\n",
              "\n",
              "    .dataframe thead th {\n",
              "        text-align: right;\n",
              "    }\n",
              "</style>\n",
              "<table border=\"1\" class=\"dataframe\">\n",
              "  <thead>\n",
              "    <tr style=\"text-align: right;\">\n",
              "      <th></th>\n",
              "      <th>School</th>\n",
              "    </tr>\n",
              "  </thead>\n",
              "  <tbody>\n",
              "    <tr>\n",
              "      <th>0</th>\n",
              "      <td>University of Minnesota, Twin Cities</td>\n",
              "    </tr>\n",
              "    <tr>\n",
              "      <th>1</th>\n",
              "      <td>University of Wisconsin, Madison</td>\n",
              "    </tr>\n",
              "    <tr>\n",
              "      <th>2</th>\n",
              "      <td>Brown University</td>\n",
              "    </tr>\n",
              "  </tbody>\n",
              "</table>\n",
              "</div>"
            ],
            "text/plain": [
              "                                 School\n",
              "0  University of Minnesota, Twin Cities\n",
              "1      University of Wisconsin, Madison\n",
              "2                      Brown University"
            ]
          },
          "metadata": {
            "tags": []
          },
          "execution_count": 3
        }
      ]
    },
    {
      "cell_type": "markdown",
      "metadata": {
        "id": "_Qhb1LCQbROa"
      },
      "source": [
        "### Question 2\n",
        "Select the worst team that received the worst `Score`, as well as that `Score`.\n",
        "\n",
        "Hint: You need to select the `School`, the `Sport`, and the `Score` as `WorstScore`."
      ]
    },
    {
      "cell_type": "code",
      "metadata": {
        "colab": {
          "base_uri": "https://localhost:8080/",
          "height": 80
        },
        "id": "7vZXkko5bRqV",
        "outputId": "864ce785-a1bc-449e-b673-dd04c936fc20"
      },
      "source": [
        "query = \"\"\"\n",
        "select School, Sport, min(Score) as WorstScore\n",
        "from ncaa\n",
        "\"\"\"\n",
        "sql_df = pd.read_sql(query, con=db)\n",
        "sql_df"
      ],
      "execution_count": null,
      "outputs": [
        {
          "output_type": "execute_result",
          "data": {
            "text/html": [
              "<div>\n",
              "<style scoped>\n",
              "    .dataframe tbody tr th:only-of-type {\n",
              "        vertical-align: middle;\n",
              "    }\n",
              "\n",
              "    .dataframe tbody tr th {\n",
              "        vertical-align: top;\n",
              "    }\n",
              "\n",
              "    .dataframe thead th {\n",
              "        text-align: right;\n",
              "    }\n",
              "</style>\n",
              "<table border=\"1\" class=\"dataframe\">\n",
              "  <thead>\n",
              "    <tr style=\"text-align: right;\">\n",
              "      <th></th>\n",
              "      <th>School</th>\n",
              "      <th>Sport</th>\n",
              "      <th>WorstScore</th>\n",
              "    </tr>\n",
              "  </thead>\n",
              "  <tbody>\n",
              "    <tr>\n",
              "      <th>0</th>\n",
              "      <td>University of South Dakota</td>\n",
              "      <td>Women's Tennis</td>\n",
              "      <td>875</td>\n",
              "    </tr>\n",
              "  </tbody>\n",
              "</table>\n",
              "</div>"
            ],
            "text/plain": [
              "                       School           Sport  WorstScore\n",
              "0  University of South Dakota  Women's Tennis         875"
            ]
          },
          "metadata": {
            "tags": []
          },
          "execution_count": 4
        }
      ]
    },
    {
      "cell_type": "markdown",
      "metadata": {
        "id": "1khvRDbfLBMz"
      },
      "source": [
        "### Question 3\n",
        "Find the three schools whose athletes have the worst `Score` on average.\n",
        "\n",
        "Hint: Use `order by` and `limit`."
      ]
    },
    {
      "cell_type": "code",
      "metadata": {
        "id": "oxV_1de_YCwd",
        "colab": {
          "base_uri": "https://localhost:8080/",
          "height": 142
        },
        "outputId": "6f33e5dc-ebee-4342-8f48-66de055d920e"
      },
      "source": [
        "query = \"\"\"\n",
        "select School, avg(Score) as AverageScore\n",
        "from ncaa\n",
        "group by School\n",
        "order by AverageScore asc\n",
        "limit 3\n",
        "\"\"\"\n",
        "sql_df = pd.read_sql(query, con=db)\n",
        "sql_df"
      ],
      "execution_count": null,
      "outputs": [
        {
          "output_type": "execute_result",
          "data": {
            "text/html": [
              "<div>\n",
              "<style scoped>\n",
              "    .dataframe tbody tr th:only-of-type {\n",
              "        vertical-align: middle;\n",
              "    }\n",
              "\n",
              "    .dataframe tbody tr th {\n",
              "        vertical-align: top;\n",
              "    }\n",
              "\n",
              "    .dataframe thead th {\n",
              "        text-align: right;\n",
              "    }\n",
              "</style>\n",
              "<table border=\"1\" class=\"dataframe\">\n",
              "  <thead>\n",
              "    <tr style=\"text-align: right;\">\n",
              "      <th></th>\n",
              "      <th>School</th>\n",
              "      <th>AverageScore</th>\n",
              "    </tr>\n",
              "  </thead>\n",
              "  <tbody>\n",
              "    <tr>\n",
              "      <th>0</th>\n",
              "      <td>University of South Dakota</td>\n",
              "      <td>941.0</td>\n",
              "    </tr>\n",
              "    <tr>\n",
              "      <th>1</th>\n",
              "      <td>Georgia Institute of Technology</td>\n",
              "      <td>955.0</td>\n",
              "    </tr>\n",
              "    <tr>\n",
              "      <th>2</th>\n",
              "      <td>Oregon State University</td>\n",
              "      <td>963.0</td>\n",
              "    </tr>\n",
              "  </tbody>\n",
              "</table>\n",
              "</div>"
            ],
            "text/plain": [
              "                            School  AverageScore\n",
              "0       University of South Dakota         941.0\n",
              "1  Georgia Institute of Technology         955.0\n",
              "2          Oregon State University         963.0"
            ]
          },
          "metadata": {
            "tags": []
          },
          "execution_count": 5
        }
      ]
    },
    {
      "cell_type": "markdown",
      "metadata": {
        "id": "_rzid89AJmTH"
      },
      "source": [
        "### Questions 4\n",
        "Find the three conferences with the most schools in them. Display both the name of the conferences and the respective number of schools they contain (as `NumberOfSchools`).\n",
        "\n",
        "Hint: You need to count the amount of distinct schools in each conference."
      ]
    },
    {
      "cell_type": "code",
      "metadata": {
        "id": "mUWkP55nX7T1",
        "colab": {
          "base_uri": "https://localhost:8080/",
          "height": 142
        },
        "outputId": "6e1e21c6-40f6-426f-c5e3-7b94de4ea606"
      },
      "source": [
        "query = \"\"\"\n",
        "select Conference, count(distinct School) as NumberOfSchools\n",
        "from ncaa\n",
        "group by Conference\n",
        "order by NumberOfSchools desc\n",
        "limit 3\n",
        "\"\"\"\n",
        "sql_df = pd.read_sql(query, con=db)\n",
        "sql_df"
      ],
      "execution_count": null,
      "outputs": [
        {
          "output_type": "execute_result",
          "data": {
            "text/html": [
              "<div>\n",
              "<style scoped>\n",
              "    .dataframe tbody tr th:only-of-type {\n",
              "        vertical-align: middle;\n",
              "    }\n",
              "\n",
              "    .dataframe tbody tr th {\n",
              "        vertical-align: top;\n",
              "    }\n",
              "\n",
              "    .dataframe thead th {\n",
              "        text-align: right;\n",
              "    }\n",
              "</style>\n",
              "<table border=\"1\" class=\"dataframe\">\n",
              "  <thead>\n",
              "    <tr style=\"text-align: right;\">\n",
              "      <th></th>\n",
              "      <th>Conference</th>\n",
              "      <th>NumberOfSchools</th>\n",
              "    </tr>\n",
              "  </thead>\n",
              "  <tbody>\n",
              "    <tr>\n",
              "      <th>0</th>\n",
              "      <td>Atlantic Coast Conference</td>\n",
              "      <td>15</td>\n",
              "    </tr>\n",
              "    <tr>\n",
              "      <th>1</th>\n",
              "      <td>Big Ten Conference</td>\n",
              "      <td>14</td>\n",
              "    </tr>\n",
              "    <tr>\n",
              "      <th>2</th>\n",
              "      <td>Pac-12 Conference</td>\n",
              "      <td>12</td>\n",
              "    </tr>\n",
              "  </tbody>\n",
              "</table>\n",
              "</div>"
            ],
            "text/plain": [
              "                  Conference  NumberOfSchools\n",
              "0  Atlantic Coast Conference               15\n",
              "1         Big Ten Conference               14\n",
              "2          Pac-12 Conference               12"
            ]
          },
          "metadata": {
            "tags": []
          },
          "execution_count": 6
        }
      ]
    },
    {
      "cell_type": "markdown",
      "metadata": {
        "id": "H-Ey_gRhQJBG"
      },
      "source": [
        "### Question 5\n",
        "How many `PreviousAthletes` that played in teams where every athlete was eligible (`PreviousEligibility = 1`) did each schools of the `The Ivy League` conference have? Additionally, display the numbers you find as `TotalPreviousAthletes`\n",
        "\n",
        "Hint: Select the name of the schools and the sum of `PreviousAthletes`."
      ]
    },
    {
      "cell_type": "code",
      "metadata": {
        "id": "mdJBNdYYLUUz",
        "colab": {
          "base_uri": "https://localhost:8080/",
          "height": 297
        },
        "outputId": "c5530972-6d01-4447-ef93-b494d7b09d63"
      },
      "source": [
        "query = \"\"\"\n",
        "select School, sum(PreviousAthletes) as TotalPreviousAthletes\n",
        "from ncaa\n",
        "where PreviousEligibility == 1 and Conference like 'The Ivy League'\n",
        "group by School\n",
        "\"\"\"\n",
        "sql_df = pd.read_sql(query, con=db)\n",
        "sql_df"
      ],
      "execution_count": null,
      "outputs": [
        {
          "output_type": "execute_result",
          "data": {
            "text/html": [
              "<div>\n",
              "<style scoped>\n",
              "    .dataframe tbody tr th:only-of-type {\n",
              "        vertical-align: middle;\n",
              "    }\n",
              "\n",
              "    .dataframe tbody tr th {\n",
              "        vertical-align: top;\n",
              "    }\n",
              "\n",
              "    .dataframe thead th {\n",
              "        text-align: right;\n",
              "    }\n",
              "</style>\n",
              "<table border=\"1\" class=\"dataframe\">\n",
              "  <thead>\n",
              "    <tr style=\"text-align: right;\">\n",
              "      <th></th>\n",
              "      <th>School</th>\n",
              "      <th>TotalPreviousAthletes</th>\n",
              "    </tr>\n",
              "  </thead>\n",
              "  <tbody>\n",
              "    <tr>\n",
              "      <th>0</th>\n",
              "      <td>Brown University</td>\n",
              "      <td>163.0</td>\n",
              "    </tr>\n",
              "    <tr>\n",
              "      <th>1</th>\n",
              "      <td>Columbia University-Barnard College</td>\n",
              "      <td>75.0</td>\n",
              "    </tr>\n",
              "    <tr>\n",
              "      <th>2</th>\n",
              "      <td>Cornell University</td>\n",
              "      <td>98.0</td>\n",
              "    </tr>\n",
              "    <tr>\n",
              "      <th>3</th>\n",
              "      <td>Dartmouth College</td>\n",
              "      <td>185.0</td>\n",
              "    </tr>\n",
              "    <tr>\n",
              "      <th>4</th>\n",
              "      <td>Harvard University</td>\n",
              "      <td>151.0</td>\n",
              "    </tr>\n",
              "    <tr>\n",
              "      <th>5</th>\n",
              "      <td>Princeton University</td>\n",
              "      <td>75.0</td>\n",
              "    </tr>\n",
              "    <tr>\n",
              "      <th>6</th>\n",
              "      <td>University of Pennsylvania</td>\n",
              "      <td>71.0</td>\n",
              "    </tr>\n",
              "    <tr>\n",
              "      <th>7</th>\n",
              "      <td>Yale University</td>\n",
              "      <td>149.0</td>\n",
              "    </tr>\n",
              "  </tbody>\n",
              "</table>\n",
              "</div>"
            ],
            "text/plain": [
              "                                School  TotalPreviousAthletes\n",
              "0                     Brown University                  163.0\n",
              "1  Columbia University-Barnard College                   75.0\n",
              "2                   Cornell University                   98.0\n",
              "3                    Dartmouth College                  185.0\n",
              "4                   Harvard University                  151.0\n",
              "5                 Princeton University                   75.0\n",
              "6           University of Pennsylvania                   71.0\n",
              "7                      Yale University                  149.0"
            ]
          },
          "metadata": {
            "tags": []
          },
          "execution_count": 7
        }
      ]
    },
    {
      "cell_type": "markdown",
      "metadata": {
        "id": "GWt8BNqtTWx9"
      },
      "source": [
        "### Question 6\n",
        "Find the three sports that currently have the smartest athletes. For a sport to be considered, it needs to have at least 555 athletes.\n",
        "\n",
        "Hint: Select the sport and the average score of its teams and use a having clause."
      ]
    },
    {
      "cell_type": "code",
      "metadata": {
        "id": "rSiFKA4xLUX9",
        "colab": {
          "base_uri": "https://localhost:8080/",
          "height": 142
        },
        "outputId": "571e4f09-36b1-4927-896f-1eb08eac8171"
      },
      "source": [
        "query = \"\"\"\n",
        "Select Sport, avg(Score) as AverageScore\n",
        "from ncaa\n",
        "group by Sport\n",
        "having sum(Athletes) >= 555\n",
        "order by AverageScore desc\n",
        "limit 3\n",
        "\"\"\"\n",
        "sql_df = pd.read_sql(query, con=db)\n",
        "sql_df"
      ],
      "execution_count": null,
      "outputs": [
        {
          "output_type": "execute_result",
          "data": {
            "text/html": [
              "<div>\n",
              "<style scoped>\n",
              "    .dataframe tbody tr th:only-of-type {\n",
              "        vertical-align: middle;\n",
              "    }\n",
              "\n",
              "    .dataframe tbody tr th {\n",
              "        vertical-align: top;\n",
              "    }\n",
              "\n",
              "    .dataframe thead th {\n",
              "        text-align: right;\n",
              "    }\n",
              "</style>\n",
              "<table border=\"1\" class=\"dataframe\">\n",
              "  <thead>\n",
              "    <tr style=\"text-align: right;\">\n",
              "      <th></th>\n",
              "      <th>Sport</th>\n",
              "      <th>AverageScore</th>\n",
              "    </tr>\n",
              "  </thead>\n",
              "  <tbody>\n",
              "    <tr>\n",
              "      <th>0</th>\n",
              "      <td>Women's Soccer</td>\n",
              "      <td>989.181818</td>\n",
              "    </tr>\n",
              "    <tr>\n",
              "      <th>1</th>\n",
              "      <td>Women's Tennis</td>\n",
              "      <td>988.424242</td>\n",
              "    </tr>\n",
              "    <tr>\n",
              "      <th>2</th>\n",
              "      <td>Women's Basketball</td>\n",
              "      <td>985.794118</td>\n",
              "    </tr>\n",
              "  </tbody>\n",
              "</table>\n",
              "</div>"
            ],
            "text/plain": [
              "                Sport  AverageScore\n",
              "0      Women's Soccer    989.181818\n",
              "1      Women's Tennis    988.424242\n",
              "2  Women's Basketball    985.794118"
            ]
          },
          "metadata": {
            "tags": []
          },
          "execution_count": 13
        }
      ]
    },
    {
      "cell_type": "markdown",
      "metadata": {
        "id": "oVx1-SQNMwKT"
      },
      "source": [
        "### Question 7\n",
        "Find the average points by which each school, all sports combined, improved their `Score` compared to `PreviousScore`. Additionally, round that average to 2 decimals, call it `AverageScoreImprovement` and order the results by that average.\n",
        "\n",
        "Hint: You need to group the observations by `School` and take the average of ` (Score - PreviousScore)`."
      ]
    },
    {
      "cell_type": "code",
      "metadata": {
        "id": "FQSqsZBDYC2Y",
        "colab": {
          "base_uri": "https://localhost:8080/",
          "height": 419
        },
        "outputId": "af447e35-669d-4e39-903f-5a64c00bac49"
      },
      "source": [
        "query = \"\"\"\n",
        "select School, round(avg(Score - PreviousScore), 2) as AverageScoreImprovement\n",
        "from ncaa\n",
        "group by School\n",
        "order by AverageScoreImprovement desc\n",
        "\"\"\"\n",
        "sql_df = pd.read_sql(query, con=db)\n",
        "sql_df"
      ],
      "execution_count": null,
      "outputs": [
        {
          "output_type": "execute_result",
          "data": {
            "text/html": [
              "<div>\n",
              "<style scoped>\n",
              "    .dataframe tbody tr th:only-of-type {\n",
              "        vertical-align: middle;\n",
              "    }\n",
              "\n",
              "    .dataframe tbody tr th {\n",
              "        vertical-align: top;\n",
              "    }\n",
              "\n",
              "    .dataframe thead th {\n",
              "        text-align: right;\n",
              "    }\n",
              "</style>\n",
              "<table border=\"1\" class=\"dataframe\">\n",
              "  <thead>\n",
              "    <tr style=\"text-align: right;\">\n",
              "      <th></th>\n",
              "      <th>School</th>\n",
              "      <th>AverageScoreImprovement</th>\n",
              "    </tr>\n",
              "  </thead>\n",
              "  <tbody>\n",
              "    <tr>\n",
              "      <th>0</th>\n",
              "      <td>University of Maryland, College Park</td>\n",
              "      <td>43.60</td>\n",
              "    </tr>\n",
              "    <tr>\n",
              "      <th>1</th>\n",
              "      <td>University of Nebraska Omaha</td>\n",
              "      <td>38.71</td>\n",
              "    </tr>\n",
              "    <tr>\n",
              "      <th>2</th>\n",
              "      <td>Clemson University</td>\n",
              "      <td>29.83</td>\n",
              "    </tr>\n",
              "    <tr>\n",
              "      <th>3</th>\n",
              "      <td>University of Southern California</td>\n",
              "      <td>25.60</td>\n",
              "    </tr>\n",
              "    <tr>\n",
              "      <th>4</th>\n",
              "      <td>Syracuse University</td>\n",
              "      <td>23.33</td>\n",
              "    </tr>\n",
              "    <tr>\n",
              "      <th>...</th>\n",
              "      <td>...</td>\n",
              "      <td>...</td>\n",
              "    </tr>\n",
              "    <tr>\n",
              "      <th>63</th>\n",
              "      <td>University of Oregon</td>\n",
              "      <td>-18.00</td>\n",
              "    </tr>\n",
              "    <tr>\n",
              "      <th>64</th>\n",
              "      <td>Oregon State University</td>\n",
              "      <td>-25.25</td>\n",
              "    </tr>\n",
              "    <tr>\n",
              "      <th>65</th>\n",
              "      <td>University of Iowa</td>\n",
              "      <td>-30.20</td>\n",
              "    </tr>\n",
              "    <tr>\n",
              "      <th>66</th>\n",
              "      <td>Georgia Institute of Technology</td>\n",
              "      <td>-33.50</td>\n",
              "    </tr>\n",
              "    <tr>\n",
              "      <th>67</th>\n",
              "      <td>University of South Dakota</td>\n",
              "      <td>-38.75</td>\n",
              "    </tr>\n",
              "  </tbody>\n",
              "</table>\n",
              "<p>68 rows × 2 columns</p>\n",
              "</div>"
            ],
            "text/plain": [
              "                                  School  AverageScoreImprovement\n",
              "0   University of Maryland, College Park                    43.60\n",
              "1           University of Nebraska Omaha                    38.71\n",
              "2                     Clemson University                    29.83\n",
              "3      University of Southern California                    25.60\n",
              "4                    Syracuse University                    23.33\n",
              "..                                   ...                      ...\n",
              "63                  University of Oregon                   -18.00\n",
              "64               Oregon State University                   -25.25\n",
              "65                    University of Iowa                   -30.20\n",
              "66       Georgia Institute of Technology                   -33.50\n",
              "67            University of South Dakota                   -38.75\n",
              "\n",
              "[68 rows x 2 columns]"
            ]
          },
          "metadata": {
            "tags": []
          },
          "execution_count": 9
        }
      ]
    },
    {
      "cell_type": "markdown",
      "metadata": {
        "id": "lFopMJ0iipo-"
      },
      "source": [
        "### Question 8\n",
        "Rank the men's spoyrts according to their `PastPopularit`, which is the total amount of `Athletes` that played a sport.\n",
        "\n",
        "Hint: To select only men's sports you can use `'M%'` with a `like` in a `where` clause."
      ]
    },
    {
      "cell_type": "code",
      "metadata": {
        "colab": {
          "base_uri": "https://localhost:8080/",
          "height": 204
        },
        "id": "vOirTLyDZJJf",
        "outputId": "ed10a13e-124f-42c7-8f02-366afb0ca8f7"
      },
      "source": [
        "query = \"\"\"\n",
        "select Sport, sum(PreviousAthletes) as PastPopularity\n",
        "from ncaa\n",
        "where Sport like 'M%'\n",
        "group by Sport\n",
        "Order by PastPopularity desc\n",
        "\"\"\"\n",
        "sql_df = pd.read_sql(query, con=db)\n",
        "sql_df"
      ],
      "execution_count": null,
      "outputs": [
        {
          "output_type": "execute_result",
          "data": {
            "text/html": [
              "<div>\n",
              "<style scoped>\n",
              "    .dataframe tbody tr th:only-of-type {\n",
              "        vertical-align: middle;\n",
              "    }\n",
              "\n",
              "    .dataframe tbody tr th {\n",
              "        vertical-align: top;\n",
              "    }\n",
              "\n",
              "    .dataframe thead th {\n",
              "        text-align: right;\n",
              "    }\n",
              "</style>\n",
              "<table border=\"1\" class=\"dataframe\">\n",
              "  <thead>\n",
              "    <tr style=\"text-align: right;\">\n",
              "      <th></th>\n",
              "      <th>Sport</th>\n",
              "      <th>PastPopularity</th>\n",
              "    </tr>\n",
              "  </thead>\n",
              "  <tbody>\n",
              "    <tr>\n",
              "      <th>0</th>\n",
              "      <td>Men's Basketball</td>\n",
              "      <td>885.0</td>\n",
              "    </tr>\n",
              "    <tr>\n",
              "      <th>1</th>\n",
              "      <td>Men's Soccer</td>\n",
              "      <td>866.0</td>\n",
              "    </tr>\n",
              "    <tr>\n",
              "      <th>2</th>\n",
              "      <td>Men's Tennis</td>\n",
              "      <td>518.0</td>\n",
              "    </tr>\n",
              "    <tr>\n",
              "      <th>3</th>\n",
              "      <td>Men's Ice Hockey</td>\n",
              "      <td>356.0</td>\n",
              "    </tr>\n",
              "    <tr>\n",
              "      <th>4</th>\n",
              "      <td>Men's Skiing</td>\n",
              "      <td>61.0</td>\n",
              "    </tr>\n",
              "  </tbody>\n",
              "</table>\n",
              "</div>"
            ],
            "text/plain": [
              "              Sport  PastPopularity\n",
              "0  Men's Basketball           885.0\n",
              "1      Men's Soccer           866.0\n",
              "2      Men's Tennis           518.0\n",
              "3  Men's Ice Hockey           356.0\n",
              "4      Men's Skiing            61.0"
            ]
          },
          "metadata": {
            "tags": []
          },
          "execution_count": 10
        }
      ]
    },
    {
      "cell_type": "markdown",
      "metadata": {
        "id": "YGgdzEPyZRu7"
      },
      "source": [
        "### Question 9\n",
        "Find how many athletes each of the 5 women's sports have gained (or lost).\n",
        "\n",
        "Hint: To select only women's sports you can use `'W%'` with a `like` in a `where` clause."
      ]
    },
    {
      "cell_type": "code",
      "metadata": {
        "colab": {
          "base_uri": "https://localhost:8080/",
          "height": 204
        },
        "id": "9a2KvLE-ZJAC",
        "outputId": "5f8d2b71-0ab4-45c7-cb4b-09cd2f48f65a"
      },
      "source": [
        "query = \"\"\"\n",
        "select Sport, sum(Athletes - PreviousAthletes) as GainedAthletes\n",
        "from ncaa\n",
        "where Sport like 'W%'\n",
        "group by Sport\n",
        "\"\"\"\n",
        "sql_df = pd.read_sql(query, con=db)\n",
        "sql_df"
      ],
      "execution_count": null,
      "outputs": [
        {
          "output_type": "execute_result",
          "data": {
            "text/html": [
              "<div>\n",
              "<style scoped>\n",
              "    .dataframe tbody tr th:only-of-type {\n",
              "        vertical-align: middle;\n",
              "    }\n",
              "\n",
              "    .dataframe tbody tr th {\n",
              "        vertical-align: top;\n",
              "    }\n",
              "\n",
              "    .dataframe thead th {\n",
              "        text-align: right;\n",
              "    }\n",
              "</style>\n",
              "<table border=\"1\" class=\"dataframe\">\n",
              "  <thead>\n",
              "    <tr style=\"text-align: right;\">\n",
              "      <th></th>\n",
              "      <th>Sport</th>\n",
              "      <th>GainedAthletes</th>\n",
              "    </tr>\n",
              "  </thead>\n",
              "  <tbody>\n",
              "    <tr>\n",
              "      <th>0</th>\n",
              "      <td>Women's Basketball</td>\n",
              "      <td>25.0</td>\n",
              "    </tr>\n",
              "    <tr>\n",
              "      <th>1</th>\n",
              "      <td>Women's Ice Hockey</td>\n",
              "      <td>-15.0</td>\n",
              "    </tr>\n",
              "    <tr>\n",
              "      <th>2</th>\n",
              "      <td>Women's Skiing</td>\n",
              "      <td>-3.0</td>\n",
              "    </tr>\n",
              "    <tr>\n",
              "      <th>3</th>\n",
              "      <td>Women's Soccer</td>\n",
              "      <td>38.0</td>\n",
              "    </tr>\n",
              "    <tr>\n",
              "      <th>4</th>\n",
              "      <td>Women's Tennis</td>\n",
              "      <td>11.0</td>\n",
              "    </tr>\n",
              "  </tbody>\n",
              "</table>\n",
              "</div>"
            ],
            "text/plain": [
              "                Sport  GainedAthletes\n",
              "0  Women's Basketball            25.0\n",
              "1  Women's Ice Hockey           -15.0\n",
              "2      Women's Skiing            -3.0\n",
              "3      Women's Soccer            38.0\n",
              "4      Women's Tennis            11.0"
            ]
          },
          "metadata": {
            "tags": []
          },
          "execution_count": 11
        }
      ]
    },
    {
      "cell_type": "markdown",
      "metadata": {
        "id": "K2hH3Q3JjvIW"
      },
      "source": [
        "### Question 10\n",
        "There are some schools that have adopted new sports between the last survey and the present one. Find out which schools adopted which new sports.\n",
        "\n",
        "Hint: If a school did not offer a sport, its `PreviousAthletes`, `PreviousScore`, and `PreviousEligibility` are missing. If a school is offering a spoort, its `Athletes`, `Score`, and `Eligibility` are not missing. Use `Null`"
      ]
    },
    {
      "cell_type": "code",
      "metadata": {
        "colab": {
          "base_uri": "https://localhost:8080/",
          "height": 142
        },
        "id": "i3QzMD_TZJQz",
        "outputId": "92b3272e-9d3d-4dde-9ddd-1d6bcd2ed871"
      },
      "source": [
        "query = \"\"\"\n",
        "select School, Sport\n",
        "from ncaa\n",
        "where PreviousAthletes is Null and Athletes is not Null\n",
        "\"\"\"\n",
        "sql_df = pd.read_sql(query, con=db)\n",
        "sql_df"
      ],
      "execution_count": null,
      "outputs": [
        {
          "output_type": "execute_result",
          "data": {
            "text/html": [
              "<div>\n",
              "<style scoped>\n",
              "    .dataframe tbody tr th:only-of-type {\n",
              "        vertical-align: middle;\n",
              "    }\n",
              "\n",
              "    .dataframe tbody tr th {\n",
              "        vertical-align: top;\n",
              "    }\n",
              "\n",
              "    .dataframe thead th {\n",
              "        text-align: right;\n",
              "    }\n",
              "</style>\n",
              "<table border=\"1\" class=\"dataframe\">\n",
              "  <thead>\n",
              "    <tr style=\"text-align: right;\">\n",
              "      <th></th>\n",
              "      <th>School</th>\n",
              "      <th>Sport</th>\n",
              "    </tr>\n",
              "  </thead>\n",
              "  <tbody>\n",
              "    <tr>\n",
              "      <th>0</th>\n",
              "      <td>Pennsylvania State University</td>\n",
              "      <td>Men's Ice Hockey</td>\n",
              "    </tr>\n",
              "    <tr>\n",
              "      <th>1</th>\n",
              "      <td>Pennsylvania State University</td>\n",
              "      <td>Women's Ice Hockey</td>\n",
              "    </tr>\n",
              "    <tr>\n",
              "      <th>2</th>\n",
              "      <td>Western Illinois University</td>\n",
              "      <td>Women's Tennis</td>\n",
              "    </tr>\n",
              "  </tbody>\n",
              "</table>\n",
              "</div>"
            ],
            "text/plain": [
              "                          School               Sport\n",
              "0  Pennsylvania State University    Men's Ice Hockey\n",
              "1  Pennsylvania State University  Women's Ice Hockey\n",
              "2    Western Illinois University      Women's Tennis"
            ]
          },
          "metadata": {
            "tags": []
          },
          "execution_count": 12
        }
      ]
    }
  ]
}