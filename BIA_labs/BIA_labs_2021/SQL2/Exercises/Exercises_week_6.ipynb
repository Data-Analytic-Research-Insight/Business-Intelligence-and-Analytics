{
  "nbformat": 4,
  "nbformat_minor": 0,
  "metadata": {
    "kernelspec": {
      "display_name": "Python 3",
      "language": "python",
      "name": "python3"
    },
    "language_info": {
      "codemirror_mode": {
        "name": "ipython",
        "version": 3
      },
      "file_extension": ".py",
      "mimetype": "text/x-python",
      "name": "python",
      "nbconvert_exporter": "python",
      "pygments_lexer": "ipython3",
      "version": "3.6.7"
    },
    "colab": {
      "name": "Exercises week 6",
      "provenance": [],
      "collapsed_sections": [
        "v1dXQKXu8WTv",
        "i1uXCjq68WUJ"
      ],
      "toc_visible": true,
      "include_colab_link": true
    },
    "nteract": {
      "version": "0.22.0"
    }
  },
  "cells": [
    {
      "cell_type": "markdown",
      "metadata": {
        "id": "view-in-github",
        "colab_type": "text"
      },
      "source": [
        "<a href=\"https://colab.research.google.com/github/michalis0/Business-Intelligence-and-Analytics/blob/master/week6%20-%20SQL2/Exercises/Exercises_week_6.ipynb\" target=\"_parent\"><img src=\"https://colab.research.google.com/assets/colab-badge.svg\" alt=\"Open In Colab\"/></a>"
      ]
    },
    {
      "cell_type": "markdown",
      "metadata": {
        "id": "Ow3xcCbn8WSO"
      },
      "source": [
        "# Lab SQL and Python"
      ]
    },
    {
      "cell_type": "code",
      "metadata": {
        "id": "QDym0OMZ30rN"
      },
      "source": [
        "# Example how to read from Python\n",
        "import pandas as pd\n",
        "from sqlalchemy import create_engine\n",
        "import seaborn as sns\n",
        "import matplotlib\n",
        "import matplotlib.pyplot as plt\n",
        "%matplotlib inline\n",
        "\n",
        "# create the database\n",
        "db = create_engine('sqlite://', echo=False)\n",
        "\n",
        "# first table\n",
        "csvfile = 'https://raw.githubusercontent.com/michalis0/Business-Intelligence-and-Analytics/master/data/Players.csv'\n",
        "df = pd.read_csv(csvfile)\n",
        "table_name = \"Players\"\n",
        "df.to_sql(table_name, con=db) # populate it with the data\n",
        "\n",
        "# second table\n",
        "csvfile = 'https://raw.githubusercontent.com/michalis0/Business-Intelligence-and-Analytics/master/data/Teams.csv'\n",
        "df = pd.read_csv(csvfile)\n",
        "table_name = \"Teams\"\n",
        "df.to_sql(table_name, con=db) # populate it with the data\n",
        "\n"
      ],
      "execution_count": null,
      "outputs": []
    },
    {
      "cell_type": "markdown",
      "metadata": {
        "id": "H2Ea0LTO8WSe"
      },
      "source": [
        "### <font color = 'green'>World Cup Data</font>"
      ]
    },
    {
      "cell_type": "markdown",
      "metadata": {
        "id": "meZCn5os8WSu"
      },
      "source": [
        "#### Take a look at a sample of the Players and Teams tables"
      ]
    },
    {
      "cell_type": "code",
      "metadata": {
        "id": "meh70hNH8WSx",
        "colab": {
          "base_uri": "https://localhost:8080/",
          "height": 1000
        },
        "outputId": "51ad6390-52fd-4cfd-ba6d-389fd32383f8"
      },
      "source": [
        "query = \"\"\"\n",
        "\n",
        "\"\"\"\n",
        "sql_df = pd.read_sql(query, con=db)\n",
        "sql_df"
      ],
      "execution_count": null,
      "outputs": [
        {
          "output_type": "execute_result",
          "data": {
            "text/html": [
              "<div>\n",
              "<style scoped>\n",
              "    .dataframe tbody tr th:only-of-type {\n",
              "        vertical-align: middle;\n",
              "    }\n",
              "\n",
              "    .dataframe tbody tr th {\n",
              "        vertical-align: top;\n",
              "    }\n",
              "\n",
              "    .dataframe thead th {\n",
              "        text-align: right;\n",
              "    }\n",
              "</style>\n",
              "<table border=\"1\" class=\"dataframe\">\n",
              "  <thead>\n",
              "    <tr style=\"text-align: right;\">\n",
              "      <th></th>\n",
              "      <th>index</th>\n",
              "      <th>team</th>\n",
              "      <th>ranking</th>\n",
              "      <th>games</th>\n",
              "      <th>wins</th>\n",
              "      <th>draws</th>\n",
              "      <th>losses</th>\n",
              "      <th>goalsFor</th>\n",
              "      <th>goalsAgainst</th>\n",
              "      <th>yellowCards</th>\n",
              "      <th>redCards</th>\n",
              "    </tr>\n",
              "  </thead>\n",
              "  <tbody>\n",
              "    <tr>\n",
              "      <th>0</th>\n",
              "      <td>0</td>\n",
              "      <td>Brazil</td>\n",
              "      <td>1</td>\n",
              "      <td>5</td>\n",
              "      <td>3</td>\n",
              "      <td>1</td>\n",
              "      <td>1</td>\n",
              "      <td>9</td>\n",
              "      <td>4</td>\n",
              "      <td>7</td>\n",
              "      <td>2</td>\n",
              "    </tr>\n",
              "    <tr>\n",
              "      <th>1</th>\n",
              "      <td>1</td>\n",
              "      <td>Spain</td>\n",
              "      <td>2</td>\n",
              "      <td>6</td>\n",
              "      <td>5</td>\n",
              "      <td>0</td>\n",
              "      <td>1</td>\n",
              "      <td>7</td>\n",
              "      <td>2</td>\n",
              "      <td>3</td>\n",
              "      <td>0</td>\n",
              "    </tr>\n",
              "    <tr>\n",
              "      <th>2</th>\n",
              "      <td>2</td>\n",
              "      <td>Portugal</td>\n",
              "      <td>3</td>\n",
              "      <td>4</td>\n",
              "      <td>1</td>\n",
              "      <td>2</td>\n",
              "      <td>1</td>\n",
              "      <td>7</td>\n",
              "      <td>1</td>\n",
              "      <td>8</td>\n",
              "      <td>1</td>\n",
              "    </tr>\n",
              "    <tr>\n",
              "      <th>3</th>\n",
              "      <td>3</td>\n",
              "      <td>Netherlands</td>\n",
              "      <td>4</td>\n",
              "      <td>6</td>\n",
              "      <td>6</td>\n",
              "      <td>0</td>\n",
              "      <td>0</td>\n",
              "      <td>12</td>\n",
              "      <td>5</td>\n",
              "      <td>15</td>\n",
              "      <td>0</td>\n",
              "    </tr>\n",
              "    <tr>\n",
              "      <th>4</th>\n",
              "      <td>4</td>\n",
              "      <td>Italy</td>\n",
              "      <td>5</td>\n",
              "      <td>3</td>\n",
              "      <td>0</td>\n",
              "      <td>2</td>\n",
              "      <td>1</td>\n",
              "      <td>4</td>\n",
              "      <td>5</td>\n",
              "      <td>5</td>\n",
              "      <td>0</td>\n",
              "    </tr>\n",
              "    <tr>\n",
              "      <th>5</th>\n",
              "      <td>5</td>\n",
              "      <td>Germany</td>\n",
              "      <td>6</td>\n",
              "      <td>6</td>\n",
              "      <td>4</td>\n",
              "      <td>0</td>\n",
              "      <td>2</td>\n",
              "      <td>13</td>\n",
              "      <td>3</td>\n",
              "      <td>8</td>\n",
              "      <td>1</td>\n",
              "    </tr>\n",
              "    <tr>\n",
              "      <th>6</th>\n",
              "      <td>6</td>\n",
              "      <td>Argentina</td>\n",
              "      <td>7</td>\n",
              "      <td>5</td>\n",
              "      <td>4</td>\n",
              "      <td>0</td>\n",
              "      <td>1</td>\n",
              "      <td>10</td>\n",
              "      <td>6</td>\n",
              "      <td>7</td>\n",
              "      <td>0</td>\n",
              "    </tr>\n",
              "    <tr>\n",
              "      <th>7</th>\n",
              "      <td>7</td>\n",
              "      <td>England</td>\n",
              "      <td>8</td>\n",
              "      <td>4</td>\n",
              "      <td>1</td>\n",
              "      <td>2</td>\n",
              "      <td>1</td>\n",
              "      <td>3</td>\n",
              "      <td>5</td>\n",
              "      <td>6</td>\n",
              "      <td>0</td>\n",
              "    </tr>\n",
              "    <tr>\n",
              "      <th>8</th>\n",
              "      <td>8</td>\n",
              "      <td>France</td>\n",
              "      <td>9</td>\n",
              "      <td>3</td>\n",
              "      <td>0</td>\n",
              "      <td>1</td>\n",
              "      <td>2</td>\n",
              "      <td>1</td>\n",
              "      <td>4</td>\n",
              "      <td>6</td>\n",
              "      <td>1</td>\n",
              "    </tr>\n",
              "    <tr>\n",
              "      <th>9</th>\n",
              "      <td>9</td>\n",
              "      <td>Greece</td>\n",
              "      <td>13</td>\n",
              "      <td>3</td>\n",
              "      <td>1</td>\n",
              "      <td>0</td>\n",
              "      <td>2</td>\n",
              "      <td>2</td>\n",
              "      <td>5</td>\n",
              "      <td>5</td>\n",
              "      <td>0</td>\n",
              "    </tr>\n",
              "    <tr>\n",
              "      <th>10</th>\n",
              "      <td>10</td>\n",
              "      <td>USA</td>\n",
              "      <td>14</td>\n",
              "      <td>4</td>\n",
              "      <td>1</td>\n",
              "      <td>2</td>\n",
              "      <td>1</td>\n",
              "      <td>5</td>\n",
              "      <td>5</td>\n",
              "      <td>9</td>\n",
              "      <td>0</td>\n",
              "    </tr>\n",
              "    <tr>\n",
              "      <th>11</th>\n",
              "      <td>11</td>\n",
              "      <td>Serbia</td>\n",
              "      <td>15</td>\n",
              "      <td>3</td>\n",
              "      <td>1</td>\n",
              "      <td>0</td>\n",
              "      <td>2</td>\n",
              "      <td>2</td>\n",
              "      <td>3</td>\n",
              "      <td>8</td>\n",
              "      <td>1</td>\n",
              "    </tr>\n",
              "    <tr>\n",
              "      <th>12</th>\n",
              "      <td>12</td>\n",
              "      <td>Uruguay</td>\n",
              "      <td>16</td>\n",
              "      <td>6</td>\n",
              "      <td>3</td>\n",
              "      <td>2</td>\n",
              "      <td>1</td>\n",
              "      <td>9</td>\n",
              "      <td>5</td>\n",
              "      <td>8</td>\n",
              "      <td>2</td>\n",
              "    </tr>\n",
              "    <tr>\n",
              "      <th>13</th>\n",
              "      <td>13</td>\n",
              "      <td>Mexico</td>\n",
              "      <td>17</td>\n",
              "      <td>4</td>\n",
              "      <td>1</td>\n",
              "      <td>1</td>\n",
              "      <td>2</td>\n",
              "      <td>4</td>\n",
              "      <td>5</td>\n",
              "      <td>9</td>\n",
              "      <td>0</td>\n",
              "    </tr>\n",
              "    <tr>\n",
              "      <th>14</th>\n",
              "      <td>14</td>\n",
              "      <td>Chile</td>\n",
              "      <td>18</td>\n",
              "      <td>4</td>\n",
              "      <td>2</td>\n",
              "      <td>0</td>\n",
              "      <td>2</td>\n",
              "      <td>3</td>\n",
              "      <td>5</td>\n",
              "      <td>13</td>\n",
              "      <td>1</td>\n",
              "    </tr>\n",
              "    <tr>\n",
              "      <th>15</th>\n",
              "      <td>15</td>\n",
              "      <td>Cameroon</td>\n",
              "      <td>19</td>\n",
              "      <td>3</td>\n",
              "      <td>0</td>\n",
              "      <td>0</td>\n",
              "      <td>3</td>\n",
              "      <td>2</td>\n",
              "      <td>5</td>\n",
              "      <td>5</td>\n",
              "      <td>0</td>\n",
              "    </tr>\n",
              "    <tr>\n",
              "      <th>16</th>\n",
              "      <td>16</td>\n",
              "      <td>Australia</td>\n",
              "      <td>20</td>\n",
              "      <td>3</td>\n",
              "      <td>1</td>\n",
              "      <td>1</td>\n",
              "      <td>1</td>\n",
              "      <td>3</td>\n",
              "      <td>6</td>\n",
              "      <td>7</td>\n",
              "      <td>2</td>\n",
              "    </tr>\n",
              "    <tr>\n",
              "      <th>17</th>\n",
              "      <td>17</td>\n",
              "      <td>Nigeria</td>\n",
              "      <td>21</td>\n",
              "      <td>3</td>\n",
              "      <td>0</td>\n",
              "      <td>1</td>\n",
              "      <td>2</td>\n",
              "      <td>3</td>\n",
              "      <td>5</td>\n",
              "      <td>5</td>\n",
              "      <td>1</td>\n",
              "    </tr>\n",
              "    <tr>\n",
              "      <th>18</th>\n",
              "      <td>18</td>\n",
              "      <td>Switzerland</td>\n",
              "      <td>24</td>\n",
              "      <td>3</td>\n",
              "      <td>1</td>\n",
              "      <td>1</td>\n",
              "      <td>1</td>\n",
              "      <td>1</td>\n",
              "      <td>1</td>\n",
              "      <td>8</td>\n",
              "      <td>1</td>\n",
              "    </tr>\n",
              "    <tr>\n",
              "      <th>19</th>\n",
              "      <td>19</td>\n",
              "      <td>Slovenia</td>\n",
              "      <td>25</td>\n",
              "      <td>3</td>\n",
              "      <td>1</td>\n",
              "      <td>1</td>\n",
              "      <td>1</td>\n",
              "      <td>3</td>\n",
              "      <td>3</td>\n",
              "      <td>9</td>\n",
              "      <td>0</td>\n",
              "    </tr>\n",
              "    <tr>\n",
              "      <th>20</th>\n",
              "      <td>20</td>\n",
              "      <td>Ivory Coast</td>\n",
              "      <td>27</td>\n",
              "      <td>3</td>\n",
              "      <td>1</td>\n",
              "      <td>1</td>\n",
              "      <td>1</td>\n",
              "      <td>4</td>\n",
              "      <td>3</td>\n",
              "      <td>5</td>\n",
              "      <td>0</td>\n",
              "    </tr>\n",
              "    <tr>\n",
              "      <th>21</th>\n",
              "      <td>21</td>\n",
              "      <td>Algeria</td>\n",
              "      <td>30</td>\n",
              "      <td>3</td>\n",
              "      <td>0</td>\n",
              "      <td>1</td>\n",
              "      <td>2</td>\n",
              "      <td>0</td>\n",
              "      <td>2</td>\n",
              "      <td>4</td>\n",
              "      <td>2</td>\n",
              "    </tr>\n",
              "    <tr>\n",
              "      <th>22</th>\n",
              "      <td>22</td>\n",
              "      <td>Paraguay</td>\n",
              "      <td>31</td>\n",
              "      <td>5</td>\n",
              "      <td>1</td>\n",
              "      <td>3</td>\n",
              "      <td>1</td>\n",
              "      <td>3</td>\n",
              "      <td>2</td>\n",
              "      <td>9</td>\n",
              "      <td>0</td>\n",
              "    </tr>\n",
              "    <tr>\n",
              "      <th>23</th>\n",
              "      <td>23</td>\n",
              "      <td>Ghana</td>\n",
              "      <td>32</td>\n",
              "      <td>5</td>\n",
              "      <td>2</td>\n",
              "      <td>2</td>\n",
              "      <td>1</td>\n",
              "      <td>5</td>\n",
              "      <td>4</td>\n",
              "      <td>11</td>\n",
              "      <td>0</td>\n",
              "    </tr>\n",
              "    <tr>\n",
              "      <th>24</th>\n",
              "      <td>24</td>\n",
              "      <td>Slovakia</td>\n",
              "      <td>34</td>\n",
              "      <td>4</td>\n",
              "      <td>1</td>\n",
              "      <td>1</td>\n",
              "      <td>2</td>\n",
              "      <td>5</td>\n",
              "      <td>7</td>\n",
              "      <td>11</td>\n",
              "      <td>0</td>\n",
              "    </tr>\n",
              "    <tr>\n",
              "      <th>25</th>\n",
              "      <td>25</td>\n",
              "      <td>Denmark</td>\n",
              "      <td>36</td>\n",
              "      <td>3</td>\n",
              "      <td>1</td>\n",
              "      <td>0</td>\n",
              "      <td>2</td>\n",
              "      <td>3</td>\n",
              "      <td>6</td>\n",
              "      <td>6</td>\n",
              "      <td>0</td>\n",
              "    </tr>\n",
              "    <tr>\n",
              "      <th>26</th>\n",
              "      <td>26</td>\n",
              "      <td>Honduras</td>\n",
              "      <td>38</td>\n",
              "      <td>3</td>\n",
              "      <td>0</td>\n",
              "      <td>1</td>\n",
              "      <td>2</td>\n",
              "      <td>0</td>\n",
              "      <td>3</td>\n",
              "      <td>7</td>\n",
              "      <td>0</td>\n",
              "    </tr>\n",
              "    <tr>\n",
              "      <th>27</th>\n",
              "      <td>27</td>\n",
              "      <td>Japan</td>\n",
              "      <td>45</td>\n",
              "      <td>4</td>\n",
              "      <td>2</td>\n",
              "      <td>1</td>\n",
              "      <td>1</td>\n",
              "      <td>4</td>\n",
              "      <td>2</td>\n",
              "      <td>7</td>\n",
              "      <td>0</td>\n",
              "    </tr>\n",
              "    <tr>\n",
              "      <th>28</th>\n",
              "      <td>28</td>\n",
              "      <td>South Korea</td>\n",
              "      <td>47</td>\n",
              "      <td>4</td>\n",
              "      <td>1</td>\n",
              "      <td>1</td>\n",
              "      <td>2</td>\n",
              "      <td>6</td>\n",
              "      <td>8</td>\n",
              "      <td>6</td>\n",
              "      <td>0</td>\n",
              "    </tr>\n",
              "    <tr>\n",
              "      <th>29</th>\n",
              "      <td>29</td>\n",
              "      <td>New Zealand</td>\n",
              "      <td>78</td>\n",
              "      <td>3</td>\n",
              "      <td>0</td>\n",
              "      <td>3</td>\n",
              "      <td>0</td>\n",
              "      <td>2</td>\n",
              "      <td>2</td>\n",
              "      <td>6</td>\n",
              "      <td>0</td>\n",
              "    </tr>\n",
              "    <tr>\n",
              "      <th>30</th>\n",
              "      <td>30</td>\n",
              "      <td>South Africa</td>\n",
              "      <td>83</td>\n",
              "      <td>3</td>\n",
              "      <td>1</td>\n",
              "      <td>1</td>\n",
              "      <td>1</td>\n",
              "      <td>3</td>\n",
              "      <td>5</td>\n",
              "      <td>4</td>\n",
              "      <td>1</td>\n",
              "    </tr>\n",
              "    <tr>\n",
              "      <th>31</th>\n",
              "      <td>31</td>\n",
              "      <td>North Korea</td>\n",
              "      <td>105</td>\n",
              "      <td>3</td>\n",
              "      <td>0</td>\n",
              "      <td>0</td>\n",
              "      <td>3</td>\n",
              "      <td>1</td>\n",
              "      <td>12</td>\n",
              "      <td>2</td>\n",
              "      <td>0</td>\n",
              "    </tr>\n",
              "  </tbody>\n",
              "</table>\n",
              "</div>"
            ],
            "text/plain": [
              "    index          team  ranking  ...  goalsAgainst  yellowCards  redCards\n",
              "0       0        Brazil        1  ...             4            7         2\n",
              "1       1         Spain        2  ...             2            3         0\n",
              "2       2      Portugal        3  ...             1            8         1\n",
              "3       3   Netherlands        4  ...             5           15         0\n",
              "4       4         Italy        5  ...             5            5         0\n",
              "5       5       Germany        6  ...             3            8         1\n",
              "6       6     Argentina        7  ...             6            7         0\n",
              "7       7       England        8  ...             5            6         0\n",
              "8       8        France        9  ...             4            6         1\n",
              "9       9        Greece       13  ...             5            5         0\n",
              "10     10           USA       14  ...             5            9         0\n",
              "11     11        Serbia       15  ...             3            8         1\n",
              "12     12       Uruguay       16  ...             5            8         2\n",
              "13     13        Mexico       17  ...             5            9         0\n",
              "14     14         Chile       18  ...             5           13         1\n",
              "15     15      Cameroon       19  ...             5            5         0\n",
              "16     16     Australia       20  ...             6            7         2\n",
              "17     17       Nigeria       21  ...             5            5         1\n",
              "18     18   Switzerland       24  ...             1            8         1\n",
              "19     19      Slovenia       25  ...             3            9         0\n",
              "20     20   Ivory Coast       27  ...             3            5         0\n",
              "21     21       Algeria       30  ...             2            4         2\n",
              "22     22      Paraguay       31  ...             2            9         0\n",
              "23     23         Ghana       32  ...             4           11         0\n",
              "24     24      Slovakia       34  ...             7           11         0\n",
              "25     25       Denmark       36  ...             6            6         0\n",
              "26     26      Honduras       38  ...             3            7         0\n",
              "27     27         Japan       45  ...             2            7         0\n",
              "28     28   South Korea       47  ...             8            6         0\n",
              "29     29   New Zealand       78  ...             2            6         0\n",
              "30     30  South Africa       83  ...             5            4         1\n",
              "31     31   North Korea      105  ...            12            2         0\n",
              "\n",
              "[32 rows x 11 columns]"
            ]
          },
          "metadata": {
            "tags": []
          },
          "execution_count": 11
        }
      ]
    },
    {
      "cell_type": "code",
      "metadata": {
        "id": "flnoKz4U8WS6"
      },
      "source": [
        "query = \"\"\"\n",
        "\"\"\"\n",
        "sql_df = pd.read_sql(query, con=db)\n",
        "sql_df"
      ],
      "execution_count": null,
      "outputs": []
    },
    {
      "cell_type": "markdown",
      "metadata": {
        "id": "v1dXQKXu8WTv"
      },
      "source": [
        "## <font color = 'green'>World Cup Advanced Queries</font>"
      ]
    },
    {
      "cell_type": "markdown",
      "metadata": {
        "id": "js1aBftZ8WTy"
      },
      "source": [
        "### Question 1\n",
        "\n",
        "Find all pairs of teams who have the same number of `goalsFor` against\n",
        "each other and the same number of `goalsAgainst` against each other.\n",
        "Return the teams and numbers of goalsFor and goalsAgainst.\n",
        "Make sure to return each pair only once.\n",
        "\n",
        "__Hint: You basically need to do a self join of the Teams table. For that you need to join different name aliases of the Teams table. checkout [here](https://www.w3schools.com/sql/sql_join_self.asp) for help.__"
      ]
    },
    {
      "cell_type": "code",
      "metadata": {
        "id": "LzpO1c3V8WTz"
      },
      "source": [
        "query = \"\"\"\n",
        "\n",
        "\"\"\"\n",
        "sql_df = pd.read_sql(query, con=db)\n",
        "sql_df\n"
      ],
      "execution_count": null,
      "outputs": []
    },
    {
      "cell_type": "markdown",
      "metadata": {
        "id": "g9QX2Jie8WT4"
      },
      "source": [
        "### Question 2\n",
        "Find all teams with ranking <30 where no player made more than 150 passes. Return the team and ranking.\n",
        "\n",
        "__Hint: use HAVING clause (documentation [here](https://www.w3schools.com/sql/sql_having.asp))__"
      ]
    },
    {
      "cell_type": "code",
      "metadata": {
        "id": "xPOBexhd8WT4"
      },
      "source": [
        "query = \"\"\"\n",
        "\n",
        "\"\"\"\n",
        "sql_df = pd.read_sql(query, con=db)\n",
        "sql_df"
      ],
      "execution_count": null,
      "outputs": []
    },
    {
      "cell_type": "markdown",
      "metadata": {
        "id": "NbJzKIm98WT7"
      },
      "source": [
        "### Question 3\n",
        "Which team has the highest ratio of `goalsFor` to `goalsAgainst`?"
      ]
    },
    {
      "cell_type": "code",
      "metadata": {
        "id": "Bi2SUQgM8WT8"
      },
      "source": [
        "query = \"\"\"\n",
        "\n",
        "\"\"\"\n",
        "sql_df = pd.read_sql(query, con=db)\n",
        "sql_df"
      ],
      "execution_count": null,
      "outputs": []
    },
    {
      "cell_type": "markdown",
      "metadata": {
        "id": "u_7fplnQ8WT-"
      },
      "source": [
        "### Question 4\n",
        "Find all teams whose defenders averaged more than 150 passes. Return the team and average number of passes by defenders, in descending order of average passes.\n",
        "\n",
        "__Hint: again you may use the HAVING clause here__"
      ]
    },
    {
      "cell_type": "code",
      "metadata": {
        "id": "qOapic7E8WT_"
      },
      "source": [
        "query = \"\"\"\n",
        "\n",
        "\"\"\"\n",
        "sql_df = pd.read_sql(query, con=db)\n",
        "sql_df"
      ],
      "execution_count": null,
      "outputs": []
    },
    {
      "cell_type": "markdown",
      "metadata": {
        "id": "DWtBlt4jPgVZ"
      },
      "source": [
        "## <font color = 'green'>World Cup Basic Queries and Python</font>"
      ]
    },
    {
      "cell_type": "markdown",
      "metadata": {
        "id": "7_-A-UimMRfY"
      },
      "source": [
        "### Question 1\n",
        "Use seaborn to find if their is a correlation for players between: `minutes`,`shots`, `minutes`,`passes`, `tackles`. "
      ]
    },
    {
      "cell_type": "code",
      "metadata": {
        "id": "-N7apE4INhhz"
      },
      "source": [
        "#hints: you need to do a query and have a look at the last plot of the:\"walkthroughs week 3 BIA\" \n",
        "query = \"\"\"\"\n",
        "\"\"\"\n",
        "sql_df = pd.read_sql(query, con=db)\n",
        "sql_df\n",
        "g = sns.PairGrid(sql_df, vars=[],\n",
        "                 palette='pale red')\n",
        "g.map(plt.scatter, alpha=0.2)\n",
        "plt.subplots_adjust(top=0.9)\n",
        "g.fig.suptitle('PairGrid to find a possible correlation', size=24)\n",
        "g.add_legend();\n",
        "\n",
        "sql_df.corr(method='pearson')"
      ],
      "execution_count": null,
      "outputs": []
    },
    {
      "cell_type": "markdown",
      "metadata": {
        "collapsed": true,
        "id": "aLralf658WTb"
      },
      "source": [
        "###Question 2\n",
        "Find the goalkeepers of teams that played more than four games. List the surname of the goalkeeper, the team, and the number of minutes the goalkeeper played.\n",
        "\n",
        "**Hint: You should join the two tables**"
      ]
    },
    {
      "cell_type": "code",
      "metadata": {
        "id": "AMRLCwdh8WTc"
      },
      "source": [
        "query = \"\"\"\n",
        "\n",
        "\"\"\"\n",
        "sql_df = pd.read_sql(query, con=db)\n",
        "sql_df"
      ],
      "execution_count": null,
      "outputs": []
    },
    {
      "cell_type": "code",
      "metadata": {
        "id": "AzBzw9jFpxFd"
      },
      "source": [
        "fig = plt.gcf() #the aera of the plt figure\n",
        "fig.set_size_inches(16, 12) #resize the figure\n",
        "ax = sns.barplot(x=\"\", y=\"\", data=sql_df)\n",
        "plt.show() "
      ],
      "execution_count": null,
      "outputs": []
    },
    {
      "cell_type": "markdown",
      "metadata": {
        "id": "as0Jh2YK8WTF"
      },
      "source": [
        "\n",
        "## <font color = 'green'>World Cup Basic Queries</font>"
      ]
    },
    {
      "cell_type": "markdown",
      "metadata": {
        "collapsed": true,
        "id": "C4zdhp2c8WTG"
      },
      "source": [
        "### Question 1\n",
        "What player on a team with “ia” in the team name played less than 200 minutes and made more than 100 passes? Return the player surname and team. \n",
        "\n",
        "**Hint: To check if attribute A contains string S use \\\"A like '%S%'\"**"
      ]
    },
    {
      "cell_type": "code",
      "metadata": {
        "id": "6K_kIn3b8WTK"
      },
      "source": [
        "query = \"\"\"\n",
        "\n",
        "\"\"\"\n",
        "sql_df = pd.read_sql(query, con=db)\n",
        "sql_df"
      ],
      "execution_count": null,
      "outputs": []
    },
    {
      "cell_type": "markdown",
      "metadata": {
        "id": "CY78pmNuN5Xy"
      },
      "source": [
        "###Question 2\n",
        "Return players names, their teams and the ranking of their team."
      ]
    },
    {
      "cell_type": "code",
      "metadata": {
        "id": "6ybE3EuhOgSZ"
      },
      "source": [
        "query = \"\"\"\n",
        "\n",
        "\"\"\"\n",
        "sql_df = pd.read_sql(query, con=db)\n",
        "sql_df"
      ],
      "execution_count": null,
      "outputs": []
    },
    {
      "cell_type": "markdown",
      "metadata": {
        "collapsed": true,
        "id": "vRT0J7sY8WTh"
      },
      "source": [
        "### Question 3\n",
        "How many players who play on a team with ranking <10 played more than 350 minutes? Return one number in a column named 'superstar'.*\n",
        "\n",
        "__Hint: use \"SELECT ... AS new_col_name\" to rename a column__"
      ]
    },
    {
      "cell_type": "code",
      "metadata": {
        "id": "hSseV7oi8WTi"
      },
      "source": [
        "query = \"\"\"\n",
        "\n",
        "\"\"\"\n",
        "sql_df = pd.read_sql(query, con=db)\n",
        "sql_df"
      ],
      "execution_count": null,
      "outputs": []
    },
    {
      "cell_type": "markdown",
      "metadata": {
        "collapsed": true,
        "id": "DZlTul358WTl"
      },
      "source": [
        "### Question 4\n",
        "What is the average number of passes made by forwards? By midfielders? Write one query that returns both values with the corresponding position.\n",
        "\n",
        "__Hint: use the GROUP BY clause__\n",
        "\n",
        "__Hint: when selecting columns you can use AVG, SUM or COUNT clauses to calculate aggregates__"
      ]
    },
    {
      "cell_type": "code",
      "metadata": {
        "id": "76mZ7BVJ8WTm"
      },
      "source": [
        "query = \"\"\"\n",
        "\n",
        "\"\"\"\n",
        "sql_df = pd.read_sql(query, con=db)\n",
        "sql_df"
      ],
      "execution_count": null,
      "outputs": []
    },
    {
      "cell_type": "markdown",
      "metadata": {
        "collapsed": true,
        "id": "4gNjdG4H8WTR"
      },
      "source": [
        "### Question 5\n",
        " Find all players who made more than 20 shots. Return all player information in descending order of shots made.\n",
        "\n",
        "**Hint: SQL ordering syntax: \"ORDER BY column1, column2,... ASC|DESC\\\"**"
      ]
    },
    {
      "cell_type": "code",
      "metadata": {
        "id": "wmYeLAw68WTU"
      },
      "source": [
        "query = \"\"\"\n",
        "\n",
        "\"\"\"\n",
        "sql_df = pd.read_sql(query, con=db)\n",
        "sql_df"
      ],
      "execution_count": null,
      "outputs": []
    },
    {
      "cell_type": "markdown",
      "metadata": {
        "collapsed": true,
        "id": "pLjyR6wh8WTo"
      },
      "source": [
        "###Question 6\n",
        "Which team has the highest average number of passes per minute played? Return the team and average passes per minute.\n",
        "\n",
        "**Hint 1: You can compute a team's average number of passes per minute played by dividing the total number of passes by the total number of minutes. To force floating point division, multiply one operand by 1.0.**\n",
        "\n",
        "**Hint 2: Consider using Limit.**"
      ]
    },
    {
      "cell_type": "code",
      "metadata": {
        "id": "7ApyOn9N8WTq"
      },
      "source": [
        "query = \"\"\"\n",
        "\n",
        "\"\"\"\n",
        "sql_df = pd.read_sql(query, con=db)\n",
        "sql_df"
      ],
      "execution_count": null,
      "outputs": []
    }
  ]
}