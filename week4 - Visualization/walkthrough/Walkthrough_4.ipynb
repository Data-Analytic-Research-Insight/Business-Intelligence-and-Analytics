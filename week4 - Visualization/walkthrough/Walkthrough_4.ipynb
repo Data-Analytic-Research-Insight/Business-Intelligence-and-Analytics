{
  "nbformat": 4,
  "nbformat_minor": 0,
  "metadata": {
    "colab": {
      "name": "Walkthrough_4.ipynb",
      "provenance": [],
      "collapsed_sections": [],
      "include_colab_link": true
    },
    "kernelspec": {
      "name": "python3",
      "display_name": "Python 3"
    },
    "widgets": {
      "application/vnd.jupyter.widget-state+json": {
        "1c0eb8be4f1047b396a332af52e1fa1f": {
          "model_module": "@jupyter-widgets/controls",
          "model_name": "VBoxModel",
          "state": {
            "_view_name": "VBoxView",
            "_dom_classes": [
              "widget-interact"
            ],
            "_model_name": "VBoxModel",
            "_view_module": "@jupyter-widgets/controls",
            "_model_module_version": "1.5.0",
            "_view_count": null,
            "_view_module_version": "1.5.0",
            "box_style": "",
            "layout": "IPY_MODEL_9f32253942f647a7b8ae2150e08e3cc3",
            "_model_module": "@jupyter-widgets/controls",
            "children": [
              "IPY_MODEL_37c3313506a847ef8c9fd1f1efda46e6",
              "IPY_MODEL_69342a2dfd684cc6b8362964b163877d",
              "IPY_MODEL_764082a069a34c359c6b91097372eb89",
              "IPY_MODEL_0bd61bcd2df84fd0b5a597deb5098788"
            ]
          }
        },
        "9f32253942f647a7b8ae2150e08e3cc3": {
          "model_module": "@jupyter-widgets/base",
          "model_name": "LayoutModel",
          "state": {
            "_view_name": "LayoutView",
            "grid_template_rows": null,
            "right": null,
            "justify_content": null,
            "_view_module": "@jupyter-widgets/base",
            "overflow": null,
            "_model_module_version": "1.2.0",
            "_view_count": null,
            "flex_flow": null,
            "width": null,
            "min_width": null,
            "border": null,
            "align_items": null,
            "bottom": null,
            "_model_module": "@jupyter-widgets/base",
            "top": null,
            "grid_column": null,
            "overflow_y": null,
            "overflow_x": null,
            "grid_auto_flow": null,
            "grid_area": null,
            "grid_template_columns": null,
            "flex": null,
            "_model_name": "LayoutModel",
            "justify_items": null,
            "grid_row": null,
            "max_height": null,
            "align_content": null,
            "visibility": null,
            "align_self": null,
            "height": null,
            "min_height": null,
            "padding": null,
            "grid_auto_rows": null,
            "grid_gap": null,
            "max_width": null,
            "order": null,
            "_view_module_version": "1.2.0",
            "grid_template_areas": null,
            "object_position": null,
            "object_fit": null,
            "grid_auto_columns": null,
            "margin": null,
            "display": null,
            "left": null
          }
        },
        "37c3313506a847ef8c9fd1f1efda46e6": {
          "model_module": "@jupyter-widgets/controls",
          "model_name": "IntSliderModel",
          "state": {
            "_view_name": "IntSliderView",
            "style": "IPY_MODEL_e0bd9494f22c4265906730c5c7e7ae22",
            "_dom_classes": [],
            "description": "Initial Amount",
            "step": 1,
            "_model_name": "IntSliderModel",
            "orientation": "horizontal",
            "max": 300,
            "_view_module": "@jupyter-widgets/controls",
            "_model_module_version": "1.5.0",
            "value": 10,
            "_view_count": null,
            "disabled": false,
            "_view_module_version": "1.5.0",
            "min": 10,
            "continuous_update": true,
            "readout_format": "d",
            "description_tooltip": null,
            "readout": true,
            "_model_module": "@jupyter-widgets/controls",
            "layout": "IPY_MODEL_c7f3ef111b6340168495c4d93f2d9737"
          }
        },
        "69342a2dfd684cc6b8362964b163877d": {
          "model_module": "@jupyter-widgets/controls",
          "model_name": "FloatSliderModel",
          "state": {
            "_view_name": "FloatSliderView",
            "style": "IPY_MODEL_fb484fa126814d509d6b99821068c10c",
            "_dom_classes": [],
            "description": "Interest Rate",
            "step": 0.01,
            "_model_name": "FloatSliderModel",
            "orientation": "horizontal",
            "max": 1,
            "_view_module": "@jupyter-widgets/controls",
            "_model_module_version": "1.5.0",
            "value": 0,
            "_view_count": null,
            "disabled": false,
            "_view_module_version": "1.5.0",
            "min": 0,
            "continuous_update": true,
            "readout_format": ".2f",
            "description_tooltip": null,
            "readout": true,
            "_model_module": "@jupyter-widgets/controls",
            "layout": "IPY_MODEL_e7bdde37bc3e43ef92d065f2bfb16549"
          }
        },
        "764082a069a34c359c6b91097372eb89": {
          "model_module": "@jupyter-widgets/controls",
          "model_name": "IntSliderModel",
          "state": {
            "_view_name": "IntSliderView",
            "style": "IPY_MODEL_45b6bff537444f40a9daf3de03cd79f3",
            "_dom_classes": [],
            "description": "Term (years)",
            "step": 1,
            "_model_name": "IntSliderModel",
            "orientation": "horizontal",
            "max": 20,
            "_view_module": "@jupyter-widgets/controls",
            "_model_module_version": "1.5.0",
            "value": 1,
            "_view_count": null,
            "disabled": false,
            "_view_module_version": "1.5.0",
            "min": 1,
            "continuous_update": true,
            "readout_format": "d",
            "description_tooltip": null,
            "readout": true,
            "_model_module": "@jupyter-widgets/controls",
            "layout": "IPY_MODEL_9d9606662a474eb69faec73154bbf238"
          }
        },
        "0bd61bcd2df84fd0b5a597deb5098788": {
          "model_module": "@jupyter-widgets/output",
          "model_name": "OutputModel",
          "state": {
            "_view_name": "OutputView",
            "msg_id": "",
            "_dom_classes": [],
            "_model_name": "OutputModel",
            "outputs": [
              {
                "output_type": "display_data",
                "metadata": {
                  "tags": []
                },
                "text/plain": "10.0"
              }
            ],
            "_view_module": "@jupyter-widgets/output",
            "_model_module_version": "1.0.0",
            "_view_count": null,
            "_view_module_version": "1.0.0",
            "layout": "IPY_MODEL_9038c9399cc04850846e4ec0342a5b47",
            "_model_module": "@jupyter-widgets/output"
          }
        },
        "e0bd9494f22c4265906730c5c7e7ae22": {
          "model_module": "@jupyter-widgets/controls",
          "model_name": "SliderStyleModel",
          "state": {
            "_view_name": "StyleView",
            "handle_color": null,
            "_model_name": "SliderStyleModel",
            "description_width": "",
            "_view_module": "@jupyter-widgets/base",
            "_model_module_version": "1.5.0",
            "_view_count": null,
            "_view_module_version": "1.2.0",
            "_model_module": "@jupyter-widgets/controls"
          }
        },
        "c7f3ef111b6340168495c4d93f2d9737": {
          "model_module": "@jupyter-widgets/base",
          "model_name": "LayoutModel",
          "state": {
            "_view_name": "LayoutView",
            "grid_template_rows": null,
            "right": null,
            "justify_content": null,
            "_view_module": "@jupyter-widgets/base",
            "overflow": null,
            "_model_module_version": "1.2.0",
            "_view_count": null,
            "flex_flow": null,
            "width": null,
            "min_width": null,
            "border": null,
            "align_items": null,
            "bottom": null,
            "_model_module": "@jupyter-widgets/base",
            "top": null,
            "grid_column": null,
            "overflow_y": null,
            "overflow_x": null,
            "grid_auto_flow": null,
            "grid_area": null,
            "grid_template_columns": null,
            "flex": null,
            "_model_name": "LayoutModel",
            "justify_items": null,
            "grid_row": null,
            "max_height": null,
            "align_content": null,
            "visibility": null,
            "align_self": null,
            "height": null,
            "min_height": null,
            "padding": null,
            "grid_auto_rows": null,
            "grid_gap": null,
            "max_width": null,
            "order": null,
            "_view_module_version": "1.2.0",
            "grid_template_areas": null,
            "object_position": null,
            "object_fit": null,
            "grid_auto_columns": null,
            "margin": null,
            "display": null,
            "left": null
          }
        },
        "fb484fa126814d509d6b99821068c10c": {
          "model_module": "@jupyter-widgets/controls",
          "model_name": "SliderStyleModel",
          "state": {
            "_view_name": "StyleView",
            "handle_color": null,
            "_model_name": "SliderStyleModel",
            "description_width": "",
            "_view_module": "@jupyter-widgets/base",
            "_model_module_version": "1.5.0",
            "_view_count": null,
            "_view_module_version": "1.2.0",
            "_model_module": "@jupyter-widgets/controls"
          }
        },
        "e7bdde37bc3e43ef92d065f2bfb16549": {
          "model_module": "@jupyter-widgets/base",
          "model_name": "LayoutModel",
          "state": {
            "_view_name": "LayoutView",
            "grid_template_rows": null,
            "right": null,
            "justify_content": null,
            "_view_module": "@jupyter-widgets/base",
            "overflow": null,
            "_model_module_version": "1.2.0",
            "_view_count": null,
            "flex_flow": null,
            "width": null,
            "min_width": null,
            "border": null,
            "align_items": null,
            "bottom": null,
            "_model_module": "@jupyter-widgets/base",
            "top": null,
            "grid_column": null,
            "overflow_y": null,
            "overflow_x": null,
            "grid_auto_flow": null,
            "grid_area": null,
            "grid_template_columns": null,
            "flex": null,
            "_model_name": "LayoutModel",
            "justify_items": null,
            "grid_row": null,
            "max_height": null,
            "align_content": null,
            "visibility": null,
            "align_self": null,
            "height": null,
            "min_height": null,
            "padding": null,
            "grid_auto_rows": null,
            "grid_gap": null,
            "max_width": null,
            "order": null,
            "_view_module_version": "1.2.0",
            "grid_template_areas": null,
            "object_position": null,
            "object_fit": null,
            "grid_auto_columns": null,
            "margin": null,
            "display": null,
            "left": null
          }
        },
        "45b6bff537444f40a9daf3de03cd79f3": {
          "model_module": "@jupyter-widgets/controls",
          "model_name": "SliderStyleModel",
          "state": {
            "_view_name": "StyleView",
            "handle_color": null,
            "_model_name": "SliderStyleModel",
            "description_width": "",
            "_view_module": "@jupyter-widgets/base",
            "_model_module_version": "1.5.0",
            "_view_count": null,
            "_view_module_version": "1.2.0",
            "_model_module": "@jupyter-widgets/controls"
          }
        },
        "9d9606662a474eb69faec73154bbf238": {
          "model_module": "@jupyter-widgets/base",
          "model_name": "LayoutModel",
          "state": {
            "_view_name": "LayoutView",
            "grid_template_rows": null,
            "right": null,
            "justify_content": null,
            "_view_module": "@jupyter-widgets/base",
            "overflow": null,
            "_model_module_version": "1.2.0",
            "_view_count": null,
            "flex_flow": null,
            "width": null,
            "min_width": null,
            "border": null,
            "align_items": null,
            "bottom": null,
            "_model_module": "@jupyter-widgets/base",
            "top": null,
            "grid_column": null,
            "overflow_y": null,
            "overflow_x": null,
            "grid_auto_flow": null,
            "grid_area": null,
            "grid_template_columns": null,
            "flex": null,
            "_model_name": "LayoutModel",
            "justify_items": null,
            "grid_row": null,
            "max_height": null,
            "align_content": null,
            "visibility": null,
            "align_self": null,
            "height": null,
            "min_height": null,
            "padding": null,
            "grid_auto_rows": null,
            "grid_gap": null,
            "max_width": null,
            "order": null,
            "_view_module_version": "1.2.0",
            "grid_template_areas": null,
            "object_position": null,
            "object_fit": null,
            "grid_auto_columns": null,
            "margin": null,
            "display": null,
            "left": null
          }
        },
        "9038c9399cc04850846e4ec0342a5b47": {
          "model_module": "@jupyter-widgets/base",
          "model_name": "LayoutModel",
          "state": {
            "_view_name": "LayoutView",
            "grid_template_rows": null,
            "right": null,
            "justify_content": null,
            "_view_module": "@jupyter-widgets/base",
            "overflow": null,
            "_model_module_version": "1.2.0",
            "_view_count": null,
            "flex_flow": null,
            "width": null,
            "min_width": null,
            "border": null,
            "align_items": null,
            "bottom": null,
            "_model_module": "@jupyter-widgets/base",
            "top": null,
            "grid_column": null,
            "overflow_y": null,
            "overflow_x": null,
            "grid_auto_flow": null,
            "grid_area": null,
            "grid_template_columns": null,
            "flex": null,
            "_model_name": "LayoutModel",
            "justify_items": null,
            "grid_row": null,
            "max_height": null,
            "align_content": null,
            "visibility": null,
            "align_self": null,
            "height": null,
            "min_height": null,
            "padding": null,
            "grid_auto_rows": null,
            "grid_gap": null,
            "max_width": null,
            "order": null,
            "_view_module_version": "1.2.0",
            "grid_template_areas": null,
            "object_position": null,
            "object_fit": null,
            "grid_auto_columns": null,
            "margin": null,
            "display": null,
            "left": null
          }
        },
        "f34f5866fe0842688ab713c62c474415": {
          "model_module": "@jupyter-widgets/controls",
          "model_name": "VBoxModel",
          "state": {
            "_view_name": "VBoxView",
            "_dom_classes": [
              "widget-interact"
            ],
            "_model_name": "VBoxModel",
            "_view_module": "@jupyter-widgets/controls",
            "_model_module_version": "1.5.0",
            "_view_count": null,
            "_view_module_version": "1.5.0",
            "box_style": "",
            "layout": "IPY_MODEL_16b479e94e944426a28fdc3001e5c9f6",
            "_model_module": "@jupyter-widgets/controls",
            "children": [
              "IPY_MODEL_7dd7ea7ba593415c898d3bd244acb2a0",
              "IPY_MODEL_e752b66ac9d4494e97620649ecc4daa2"
            ]
          }
        },
        "16b479e94e944426a28fdc3001e5c9f6": {
          "model_module": "@jupyter-widgets/base",
          "model_name": "LayoutModel",
          "state": {
            "_view_name": "LayoutView",
            "grid_template_rows": null,
            "right": null,
            "justify_content": null,
            "_view_module": "@jupyter-widgets/base",
            "overflow": null,
            "_model_module_version": "1.2.0",
            "_view_count": null,
            "flex_flow": null,
            "width": null,
            "min_width": null,
            "border": null,
            "align_items": null,
            "bottom": null,
            "_model_module": "@jupyter-widgets/base",
            "top": null,
            "grid_column": null,
            "overflow_y": null,
            "overflow_x": null,
            "grid_auto_flow": null,
            "grid_area": null,
            "grid_template_columns": null,
            "flex": null,
            "_model_name": "LayoutModel",
            "justify_items": null,
            "grid_row": null,
            "max_height": null,
            "align_content": null,
            "visibility": null,
            "align_self": null,
            "height": null,
            "min_height": null,
            "padding": null,
            "grid_auto_rows": null,
            "grid_gap": null,
            "max_width": null,
            "order": null,
            "_view_module_version": "1.2.0",
            "grid_template_areas": null,
            "object_position": null,
            "object_fit": null,
            "grid_auto_columns": null,
            "margin": null,
            "display": null,
            "left": null
          }
        },
        "7dd7ea7ba593415c898d3bd244acb2a0": {
          "model_module": "@jupyter-widgets/controls",
          "model_name": "SelectModel",
          "state": {
            "_options_labels": [
              "All",
              " Male",
              "Female"
            ],
            "_view_name": "SelectView",
            "style": "IPY_MODEL_5e3ce5b66a054e09915d373d39cba5d4",
            "rows": 5,
            "_dom_classes": [],
            "description": "x",
            "_model_name": "SelectModel",
            "index": 0,
            "_view_module": "@jupyter-widgets/controls",
            "_model_module_version": "1.5.0",
            "_view_count": null,
            "disabled": false,
            "_view_module_version": "1.5.0",
            "description_tooltip": null,
            "_model_module": "@jupyter-widgets/controls",
            "layout": "IPY_MODEL_0d1ccc440d3e478babc9c7b1983e9338"
          }
        },
        "e752b66ac9d4494e97620649ecc4daa2": {
          "model_module": "@jupyter-widgets/output",
          "model_name": "OutputModel",
          "state": {
            "_view_name": "OutputView",
            "msg_id": "",
            "_dom_classes": [],
            "_model_name": "OutputModel",
            "outputs": [
              {
                "output_type": "display_data",
                "metadata": {
                  "tags": []
                },
                "text/html": "<div>\n<style scoped>\n    .dataframe tbody tr th:only-of-type {\n        vertical-align: middle;\n    }\n\n    .dataframe tbody tr th {\n        vertical-align: top;\n    }\n\n    .dataframe thead th {\n        text-align: right;\n    }\n</style>\n<table border=\"1\" class=\"dataframe\">\n  <thead>\n    <tr style=\"text-align: right;\">\n      <th></th>\n      <th>CustomerID</th>\n      <th>Income</th>\n      <th>Limit</th>\n      <th>Rating</th>\n      <th>Cards</th>\n      <th>Age</th>\n      <th>Education</th>\n      <th>Gender</th>\n      <th>Student</th>\n      <th>Married</th>\n      <th>Ethnicity</th>\n      <th>Balance</th>\n    </tr>\n  </thead>\n  <tbody>\n    <tr>\n      <th>0</th>\n      <td>1</td>\n      <td>14.891</td>\n      <td>3606</td>\n      <td>283</td>\n      <td>2</td>\n      <td>34</td>\n      <td>11</td>\n      <td>Male</td>\n      <td>No</td>\n      <td>Yes</td>\n      <td>Caucasian</td>\n      <td>333</td>\n    </tr>\n    <tr>\n      <th>1</th>\n      <td>2</td>\n      <td>106.025</td>\n      <td>6645</td>\n      <td>483</td>\n      <td>3</td>\n      <td>82</td>\n      <td>15</td>\n      <td>Female</td>\n      <td>Yes</td>\n      <td>Yes</td>\n      <td>Asian</td>\n      <td>903</td>\n    </tr>\n    <tr>\n      <th>2</th>\n      <td>3</td>\n      <td>104.593</td>\n      <td>7075</td>\n      <td>514</td>\n      <td>4</td>\n      <td>71</td>\n      <td>11</td>\n      <td>Male</td>\n      <td>No</td>\n      <td>No</td>\n      <td>Asian</td>\n      <td>580</td>\n    </tr>\n    <tr>\n      <th>3</th>\n      <td>4</td>\n      <td>148.924</td>\n      <td>9504</td>\n      <td>681</td>\n      <td>3</td>\n      <td>36</td>\n      <td>11</td>\n      <td>Female</td>\n      <td>No</td>\n      <td>No</td>\n      <td>Asian</td>\n      <td>964</td>\n    </tr>\n    <tr>\n      <th>4</th>\n      <td>5</td>\n      <td>55.882</td>\n      <td>4897</td>\n      <td>357</td>\n      <td>2</td>\n      <td>68</td>\n      <td>16</td>\n      <td>Male</td>\n      <td>No</td>\n      <td>Yes</td>\n      <td>Caucasian</td>\n      <td>331</td>\n    </tr>\n    <tr>\n      <th>...</th>\n      <td>...</td>\n      <td>...</td>\n      <td>...</td>\n      <td>...</td>\n      <td>...</td>\n      <td>...</td>\n      <td>...</td>\n      <td>...</td>\n      <td>...</td>\n      <td>...</td>\n      <td>...</td>\n      <td>...</td>\n    </tr>\n    <tr>\n      <th>395</th>\n      <td>396</td>\n      <td>12.096</td>\n      <td>4100</td>\n      <td>307</td>\n      <td>3</td>\n      <td>32</td>\n      <td>13</td>\n      <td>Male</td>\n      <td>No</td>\n      <td>Yes</td>\n      <td>Caucasian</td>\n      <td>560</td>\n    </tr>\n    <tr>\n      <th>396</th>\n      <td>397</td>\n      <td>13.364</td>\n      <td>3838</td>\n      <td>296</td>\n      <td>5</td>\n      <td>65</td>\n      <td>17</td>\n      <td>Male</td>\n      <td>No</td>\n      <td>No</td>\n      <td>African American</td>\n      <td>480</td>\n    </tr>\n    <tr>\n      <th>397</th>\n      <td>398</td>\n      <td>57.872</td>\n      <td>4171</td>\n      <td>321</td>\n      <td>5</td>\n      <td>67</td>\n      <td>12</td>\n      <td>Female</td>\n      <td>No</td>\n      <td>Yes</td>\n      <td>Caucasian</td>\n      <td>138</td>\n    </tr>\n    <tr>\n      <th>398</th>\n      <td>399</td>\n      <td>37.728</td>\n      <td>2525</td>\n      <td>192</td>\n      <td>1</td>\n      <td>44</td>\n      <td>13</td>\n      <td>Male</td>\n      <td>No</td>\n      <td>Yes</td>\n      <td>Caucasian</td>\n      <td>0</td>\n    </tr>\n    <tr>\n      <th>399</th>\n      <td>400</td>\n      <td>18.701</td>\n      <td>5524</td>\n      <td>415</td>\n      <td>5</td>\n      <td>64</td>\n      <td>7</td>\n      <td>Female</td>\n      <td>No</td>\n      <td>No</td>\n      <td>Asian</td>\n      <td>966</td>\n    </tr>\n  </tbody>\n</table>\n<p>400 rows × 12 columns</p>\n</div>",
                "text/plain": "     CustomerID   Income  Limit  ...  Married         Ethnicity  Balance\n0             1   14.891   3606  ...      Yes         Caucasian      333\n1             2  106.025   6645  ...      Yes             Asian      903\n2             3  104.593   7075  ...       No             Asian      580\n3             4  148.924   9504  ...       No             Asian      964\n4             5   55.882   4897  ...      Yes         Caucasian      331\n..          ...      ...    ...  ...      ...               ...      ...\n395         396   12.096   4100  ...      Yes         Caucasian      560\n396         397   13.364   3838  ...       No  African American      480\n397         398   57.872   4171  ...      Yes         Caucasian      138\n398         399   37.728   2525  ...      Yes         Caucasian        0\n399         400   18.701   5524  ...       No             Asian      966\n\n[400 rows x 12 columns]"
              }
            ],
            "_view_module": "@jupyter-widgets/output",
            "_model_module_version": "1.0.0",
            "_view_count": null,
            "_view_module_version": "1.0.0",
            "layout": "IPY_MODEL_c38aa33956d6491d81a135953770b63a",
            "_model_module": "@jupyter-widgets/output"
          }
        },
        "5e3ce5b66a054e09915d373d39cba5d4": {
          "model_module": "@jupyter-widgets/controls",
          "model_name": "DescriptionStyleModel",
          "state": {
            "_view_name": "StyleView",
            "_model_name": "DescriptionStyleModel",
            "description_width": "",
            "_view_module": "@jupyter-widgets/base",
            "_model_module_version": "1.5.0",
            "_view_count": null,
            "_view_module_version": "1.2.0",
            "_model_module": "@jupyter-widgets/controls"
          }
        },
        "0d1ccc440d3e478babc9c7b1983e9338": {
          "model_module": "@jupyter-widgets/base",
          "model_name": "LayoutModel",
          "state": {
            "_view_name": "LayoutView",
            "grid_template_rows": null,
            "right": null,
            "justify_content": null,
            "_view_module": "@jupyter-widgets/base",
            "overflow": null,
            "_model_module_version": "1.2.0",
            "_view_count": null,
            "flex_flow": null,
            "width": null,
            "min_width": null,
            "border": null,
            "align_items": null,
            "bottom": null,
            "_model_module": "@jupyter-widgets/base",
            "top": null,
            "grid_column": null,
            "overflow_y": null,
            "overflow_x": null,
            "grid_auto_flow": null,
            "grid_area": null,
            "grid_template_columns": null,
            "flex": null,
            "_model_name": "LayoutModel",
            "justify_items": null,
            "grid_row": null,
            "max_height": null,
            "align_content": null,
            "visibility": null,
            "align_self": null,
            "height": null,
            "min_height": null,
            "padding": null,
            "grid_auto_rows": null,
            "grid_gap": null,
            "max_width": null,
            "order": null,
            "_view_module_version": "1.2.0",
            "grid_template_areas": null,
            "object_position": null,
            "object_fit": null,
            "grid_auto_columns": null,
            "margin": null,
            "display": null,
            "left": null
          }
        },
        "c38aa33956d6491d81a135953770b63a": {
          "model_module": "@jupyter-widgets/base",
          "model_name": "LayoutModel",
          "state": {
            "_view_name": "LayoutView",
            "grid_template_rows": null,
            "right": null,
            "justify_content": null,
            "_view_module": "@jupyter-widgets/base",
            "overflow": null,
            "_model_module_version": "1.2.0",
            "_view_count": null,
            "flex_flow": null,
            "width": null,
            "min_width": null,
            "border": null,
            "align_items": null,
            "bottom": null,
            "_model_module": "@jupyter-widgets/base",
            "top": null,
            "grid_column": null,
            "overflow_y": null,
            "overflow_x": null,
            "grid_auto_flow": null,
            "grid_area": null,
            "grid_template_columns": null,
            "flex": null,
            "_model_name": "LayoutModel",
            "justify_items": null,
            "grid_row": null,
            "max_height": null,
            "align_content": null,
            "visibility": null,
            "align_self": null,
            "height": null,
            "min_height": null,
            "padding": null,
            "grid_auto_rows": null,
            "grid_gap": null,
            "max_width": null,
            "order": null,
            "_view_module_version": "1.2.0",
            "grid_template_areas": null,
            "object_position": null,
            "object_fit": null,
            "grid_auto_columns": null,
            "margin": null,
            "display": null,
            "left": null
          }
        }
      }
    }
  },
  "cells": [
    {
      "cell_type": "markdown",
      "metadata": {
        "id": "view-in-github",
        "colab_type": "text"
      },
      "source": [
        "<a href=\"https://colab.research.google.com/github/michalis0/Business-Intelligence-and-Analytics/blob/master/week4%20-%20Visualization/walkthrough/Walkthrough_4.ipynb\" target=\"_parent\"><img src=\"https://colab.research.google.com/assets/colab-badge.svg\" alt=\"Open In Colab\"/></a>"
      ]
    },
    {
      "cell_type": "code",
      "metadata": {
        "colab": {
          "base_uri": "https://localhost:8080/",
          "height": 133
        },
        "id": "xelqowdAL51s",
        "cellView": "form",
        "outputId": "2c324e0e-07a9-45d5-e4d6-525284af1249"
      },
      "source": [
        "#@title Data Visualization - Lab 4\n",
        "\n",
        "%%html\n",
        "\n",
        "<div>\n",
        "<td> \n",
        "<img src=\"https://upload.wikimedia.org/wikipedia/commons/thumb/2/2b/Logo_Universit%C3%A9_de_Lausanne.svg/2000px-Logo_Universit%C3%A9_de_Lausanne.svg.png\" style=\"padding-right:10px;width:240px;float:left\"/></td>\n",
        "<h2 style=\"white-space: nowrap\">Business Intelligence and Analytics</h2></td>\n",
        "<hr style=\"clear:both\">\n",
        "<p style=\"font-size:0.85em; margin:2px; text-align:justify\">\n",
        "\n",
        "</div>"
      ],
      "execution_count": 1,
      "outputs": [
        {
          "output_type": "display_data",
          "data": {
            "text/html": [
              "\n",
              "<div>\n",
              "<td> \n",
              "<img src=\"https://upload.wikimedia.org/wikipedia/commons/thumb/2/2b/Logo_Universit%C3%A9_de_Lausanne.svg/2000px-Logo_Universit%C3%A9_de_Lausanne.svg.png\" style=\"padding-right:10px;width:240px;float:left\"/></td>\n",
              "<h2 style=\"white-space: nowrap\">Business Intelligence and Analytics</h2></td>\n",
              "<hr style=\"clear:both\">\n",
              "<p style=\"font-size:0.85em; margin:2px; text-align:justify\">\n",
              "\n",
              "</div>"
            ],
            "text/plain": [
              "<IPython.core.display.HTML object>"
            ]
          },
          "metadata": {
            "tags": []
          }
        }
      ]
    },
    {
      "cell_type": "markdown",
      "metadata": {
        "id": "BM5wVWxxjdZz"
      },
      "source": [
        ">The goal of this week's walkthrough is to introduce you to visualization tools and to teach you how to present and interpret data in graphical formats. In essence, Data Visualiation can be thought of as whole science looking at the numerous ways and choices one has to represent Data. Therefore, we will also show you some typical examples of visualization for proper representation or analysis of a given problem. \n",
        ">\n",
        "> In the first part of this walkthrough, you will likely encounter visualization used in the last lab session along some new ones.\n",
        ">\n",
        "> Then in a second part, we will go a bit further and show you how to build interactive visualizations. "
      ]
    },
    {
      "cell_type": "markdown",
      "metadata": {
        "id": "389Q2JK58WLb"
      },
      "source": [
        "##Imports and data set\n",
        ">First, let's import the various librairies we'll need throughout the walkthrough.\n",
        ">\n",
        ">We will use [matplotlib](https://matplotlib.org/stable/index.html) a librairy for plotting and [seaborn](https://seaborn.pydata.org) a package for statistical data visualization."
      ]
    },
    {
      "cell_type": "code",
      "metadata": {
        "id": "_AtSzzEOjYVf"
      },
      "source": [
        "#Library imports \n",
        "import pandas as pd #nothing new here\n",
        "import matplotlib\n",
        "import matplotlib.pyplot as plt\n",
        "import seaborn as sns"
      ],
      "execution_count": 2,
      "outputs": []
    },
    {
      "cell_type": "markdown",
      "metadata": {
        "id": "-7ZhLjcm94AH"
      },
      "source": [
        ">Today, we will use the **credit.csv** data set, wich contains personal and economical information of credit card owners."
      ]
    },
    {
      "cell_type": "code",
      "metadata": {
        "colab": {
          "base_uri": "https://localhost:8080/",
          "height": 204
        },
        "id": "3CbyEYa3-tHx",
        "outputId": "77c9155a-2596-4096-d3a7-f0d1d91af3df"
      },
      "source": [
        "url = 'https://media.githubusercontent.com/media/michalis0/Business-Intelligence-and-Analytics/master/data/Credit.csv'\n",
        "data = pd.read_csv(url)\n",
        "data.head()\n"
      ],
      "execution_count": 3,
      "outputs": [
        {
          "output_type": "execute_result",
          "data": {
            "text/html": [
              "<div>\n",
              "<style scoped>\n",
              "    .dataframe tbody tr th:only-of-type {\n",
              "        vertical-align: middle;\n",
              "    }\n",
              "\n",
              "    .dataframe tbody tr th {\n",
              "        vertical-align: top;\n",
              "    }\n",
              "\n",
              "    .dataframe thead th {\n",
              "        text-align: right;\n",
              "    }\n",
              "</style>\n",
              "<table border=\"1\" class=\"dataframe\">\n",
              "  <thead>\n",
              "    <tr style=\"text-align: right;\">\n",
              "      <th></th>\n",
              "      <th>Unnamed: 0</th>\n",
              "      <th>Income</th>\n",
              "      <th>Limit</th>\n",
              "      <th>Rating</th>\n",
              "      <th>Cards</th>\n",
              "      <th>Age</th>\n",
              "      <th>Education</th>\n",
              "      <th>Gender</th>\n",
              "      <th>Student</th>\n",
              "      <th>Married</th>\n",
              "      <th>Ethnicity</th>\n",
              "      <th>Balance</th>\n",
              "    </tr>\n",
              "  </thead>\n",
              "  <tbody>\n",
              "    <tr>\n",
              "      <th>0</th>\n",
              "      <td>1</td>\n",
              "      <td>14.891</td>\n",
              "      <td>3606</td>\n",
              "      <td>283</td>\n",
              "      <td>2</td>\n",
              "      <td>34</td>\n",
              "      <td>11</td>\n",
              "      <td>Male</td>\n",
              "      <td>No</td>\n",
              "      <td>Yes</td>\n",
              "      <td>Caucasian</td>\n",
              "      <td>333</td>\n",
              "    </tr>\n",
              "    <tr>\n",
              "      <th>1</th>\n",
              "      <td>2</td>\n",
              "      <td>106.025</td>\n",
              "      <td>6645</td>\n",
              "      <td>483</td>\n",
              "      <td>3</td>\n",
              "      <td>82</td>\n",
              "      <td>15</td>\n",
              "      <td>Female</td>\n",
              "      <td>Yes</td>\n",
              "      <td>Yes</td>\n",
              "      <td>Asian</td>\n",
              "      <td>903</td>\n",
              "    </tr>\n",
              "    <tr>\n",
              "      <th>2</th>\n",
              "      <td>3</td>\n",
              "      <td>104.593</td>\n",
              "      <td>7075</td>\n",
              "      <td>514</td>\n",
              "      <td>4</td>\n",
              "      <td>71</td>\n",
              "      <td>11</td>\n",
              "      <td>Male</td>\n",
              "      <td>No</td>\n",
              "      <td>No</td>\n",
              "      <td>Asian</td>\n",
              "      <td>580</td>\n",
              "    </tr>\n",
              "    <tr>\n",
              "      <th>3</th>\n",
              "      <td>4</td>\n",
              "      <td>148.924</td>\n",
              "      <td>9504</td>\n",
              "      <td>681</td>\n",
              "      <td>3</td>\n",
              "      <td>36</td>\n",
              "      <td>11</td>\n",
              "      <td>Female</td>\n",
              "      <td>No</td>\n",
              "      <td>No</td>\n",
              "      <td>Asian</td>\n",
              "      <td>964</td>\n",
              "    </tr>\n",
              "    <tr>\n",
              "      <th>4</th>\n",
              "      <td>5</td>\n",
              "      <td>55.882</td>\n",
              "      <td>4897</td>\n",
              "      <td>357</td>\n",
              "      <td>2</td>\n",
              "      <td>68</td>\n",
              "      <td>16</td>\n",
              "      <td>Male</td>\n",
              "      <td>No</td>\n",
              "      <td>Yes</td>\n",
              "      <td>Caucasian</td>\n",
              "      <td>331</td>\n",
              "    </tr>\n",
              "  </tbody>\n",
              "</table>\n",
              "</div>"
            ],
            "text/plain": [
              "   Unnamed: 0   Income  Limit  Rating  ...  Student  Married  Ethnicity Balance\n",
              "0           1   14.891   3606     283  ...       No      Yes  Caucasian     333\n",
              "1           2  106.025   6645     483  ...      Yes      Yes      Asian     903\n",
              "2           3  104.593   7075     514  ...       No       No      Asian     580\n",
              "3           4  148.924   9504     681  ...       No       No      Asian     964\n",
              "4           5   55.882   4897     357  ...       No      Yes  Caucasian     331\n",
              "\n",
              "[5 rows x 12 columns]"
            ]
          },
          "metadata": {
            "tags": []
          },
          "execution_count": 3
        }
      ]
    },
    {
      "cell_type": "markdown",
      "metadata": {
        "id": "Kbl4xwJrk_Kj"
      },
      "source": [
        ">As you probably wondered, it is not very helpfull nor usefull to have an \"Unnamed: 0\" column. Lets rename it and use it as index."
      ]
    },
    {
      "cell_type": "code",
      "metadata": {
        "colab": {
          "base_uri": "https://localhost:8080/",
          "height": 204
        },
        "id": "ibIxmwrLkbGx",
        "outputId": "11142bd2-301b-4470-8451-864a9bd63377"
      },
      "source": [
        "data = data.rename( columns = {'Unnamed: 0' : 'CustomerID' })\n",
        "#data = data.set_index('CustomerID')\n",
        "data.head()"
      ],
      "execution_count": 4,
      "outputs": [
        {
          "output_type": "execute_result",
          "data": {
            "text/html": [
              "<div>\n",
              "<style scoped>\n",
              "    .dataframe tbody tr th:only-of-type {\n",
              "        vertical-align: middle;\n",
              "    }\n",
              "\n",
              "    .dataframe tbody tr th {\n",
              "        vertical-align: top;\n",
              "    }\n",
              "\n",
              "    .dataframe thead th {\n",
              "        text-align: right;\n",
              "    }\n",
              "</style>\n",
              "<table border=\"1\" class=\"dataframe\">\n",
              "  <thead>\n",
              "    <tr style=\"text-align: right;\">\n",
              "      <th></th>\n",
              "      <th>CustomerID</th>\n",
              "      <th>Income</th>\n",
              "      <th>Limit</th>\n",
              "      <th>Rating</th>\n",
              "      <th>Cards</th>\n",
              "      <th>Age</th>\n",
              "      <th>Education</th>\n",
              "      <th>Gender</th>\n",
              "      <th>Student</th>\n",
              "      <th>Married</th>\n",
              "      <th>Ethnicity</th>\n",
              "      <th>Balance</th>\n",
              "    </tr>\n",
              "  </thead>\n",
              "  <tbody>\n",
              "    <tr>\n",
              "      <th>0</th>\n",
              "      <td>1</td>\n",
              "      <td>14.891</td>\n",
              "      <td>3606</td>\n",
              "      <td>283</td>\n",
              "      <td>2</td>\n",
              "      <td>34</td>\n",
              "      <td>11</td>\n",
              "      <td>Male</td>\n",
              "      <td>No</td>\n",
              "      <td>Yes</td>\n",
              "      <td>Caucasian</td>\n",
              "      <td>333</td>\n",
              "    </tr>\n",
              "    <tr>\n",
              "      <th>1</th>\n",
              "      <td>2</td>\n",
              "      <td>106.025</td>\n",
              "      <td>6645</td>\n",
              "      <td>483</td>\n",
              "      <td>3</td>\n",
              "      <td>82</td>\n",
              "      <td>15</td>\n",
              "      <td>Female</td>\n",
              "      <td>Yes</td>\n",
              "      <td>Yes</td>\n",
              "      <td>Asian</td>\n",
              "      <td>903</td>\n",
              "    </tr>\n",
              "    <tr>\n",
              "      <th>2</th>\n",
              "      <td>3</td>\n",
              "      <td>104.593</td>\n",
              "      <td>7075</td>\n",
              "      <td>514</td>\n",
              "      <td>4</td>\n",
              "      <td>71</td>\n",
              "      <td>11</td>\n",
              "      <td>Male</td>\n",
              "      <td>No</td>\n",
              "      <td>No</td>\n",
              "      <td>Asian</td>\n",
              "      <td>580</td>\n",
              "    </tr>\n",
              "    <tr>\n",
              "      <th>3</th>\n",
              "      <td>4</td>\n",
              "      <td>148.924</td>\n",
              "      <td>9504</td>\n",
              "      <td>681</td>\n",
              "      <td>3</td>\n",
              "      <td>36</td>\n",
              "      <td>11</td>\n",
              "      <td>Female</td>\n",
              "      <td>No</td>\n",
              "      <td>No</td>\n",
              "      <td>Asian</td>\n",
              "      <td>964</td>\n",
              "    </tr>\n",
              "    <tr>\n",
              "      <th>4</th>\n",
              "      <td>5</td>\n",
              "      <td>55.882</td>\n",
              "      <td>4897</td>\n",
              "      <td>357</td>\n",
              "      <td>2</td>\n",
              "      <td>68</td>\n",
              "      <td>16</td>\n",
              "      <td>Male</td>\n",
              "      <td>No</td>\n",
              "      <td>Yes</td>\n",
              "      <td>Caucasian</td>\n",
              "      <td>331</td>\n",
              "    </tr>\n",
              "  </tbody>\n",
              "</table>\n",
              "</div>"
            ],
            "text/plain": [
              "   CustomerID   Income  Limit  Rating  ...  Student  Married  Ethnicity Balance\n",
              "0           1   14.891   3606     283  ...       No      Yes  Caucasian     333\n",
              "1           2  106.025   6645     483  ...      Yes      Yes      Asian     903\n",
              "2           3  104.593   7075     514  ...       No       No      Asian     580\n",
              "3           4  148.924   9504     681  ...       No       No      Asian     964\n",
              "4           5   55.882   4897     357  ...       No      Yes  Caucasian     331\n",
              "\n",
              "[5 rows x 12 columns]"
            ]
          },
          "metadata": {
            "tags": []
          },
          "execution_count": 4
        }
      ]
    },
    {
      "cell_type": "markdown",
      "metadata": {
        "id": "oI4HKF0jAKmb"
      },
      "source": [
        ">As mentioned in previous labs, it is always important to check the types of each data entry in case of later of processings. We can start by getting an overview of our data set to be sure to what to expect."
      ]
    },
    {
      "cell_type": "code",
      "metadata": {
        "colab": {
          "base_uri": "https://localhost:8080/"
        },
        "id": "McXHYoub_3gP",
        "outputId": "597decfb-621d-424d-8c6f-0f3f197a7ae0"
      },
      "source": [
        "#get information from data frame\n",
        "data.info()"
      ],
      "execution_count": 5,
      "outputs": [
        {
          "output_type": "stream",
          "text": [
            "<class 'pandas.core.frame.DataFrame'>\n",
            "RangeIndex: 400 entries, 0 to 399\n",
            "Data columns (total 12 columns):\n",
            " #   Column      Non-Null Count  Dtype  \n",
            "---  ------      --------------  -----  \n",
            " 0   CustomerID  400 non-null    int64  \n",
            " 1   Income      400 non-null    float64\n",
            " 2   Limit       400 non-null    int64  \n",
            " 3   Rating      400 non-null    int64  \n",
            " 4   Cards       400 non-null    int64  \n",
            " 5   Age         400 non-null    int64  \n",
            " 6   Education   400 non-null    int64  \n",
            " 7   Gender      400 non-null    object \n",
            " 8   Student     400 non-null    object \n",
            " 9   Married     400 non-null    object \n",
            " 10  Ethnicity   400 non-null    object \n",
            " 11  Balance     400 non-null    int64  \n",
            "dtypes: float64(1), int64(7), object(4)\n",
            "memory usage: 37.6+ KB\n"
          ],
          "name": "stdout"
        }
      ]
    },
    {
      "cell_type": "markdown",
      "metadata": {
        "id": "T53kfj7_Hhdh"
      },
      "source": [
        ">Now, let's begin with the visualization. During the course of this lab, we will always apply the major guidlines for successful visualization presented in the course.\n",
        ">\n",
        ">As a refresher : \n",
        "1. Keep It Simple\n",
        "2. Design and choose the visualization well\n",
        "3. Know your audience, tell a story\n",
        "4. Have graphical integrity"
      ]
    },
    {
      "cell_type": "markdown",
      "metadata": {
        "id": "nqCQ9nrgCag2"
      },
      "source": [
        "#Static Visualizations"
      ]
    },
    {
      "cell_type": "markdown",
      "metadata": {
        "id": "1CyiuaAaAQt_"
      },
      "source": [
        "##Boxplots\n",
        "\n",
        ">These kinds of charts are a must when you need a statistical overview of numerical data. In a boxplot, we can see: \n",
        ">\n",
        ">- Mean\n",
        "- Median\n",
        "- Quartiles (1st and 3rd)\n",
        "- Minimum\n",
        "- Maximum\n",
        "- Outliers\n",
        ">\n",
        ">For instance, imagine we were to investigate the **income distribution**. Having information on the Income satistics can be of major help in identifying the outliers. "
      ]
    },
    {
      "cell_type": "code",
      "metadata": {
        "colab": {
          "base_uri": "https://localhost:8080/",
          "height": 428
        },
        "id": "RAru8Mk5Ar0U",
        "outputId": "8d93692f-0585-41e6-a8bb-0ac46e302b1e"
      },
      "source": [
        "#using figure size to increase the window\n",
        "fig=plt.figure(figsize=(11,7))\n",
        "box_plot=data.boxplot(column='Income')"
      ],
      "execution_count": 6,
      "outputs": [
        {
          "output_type": "display_data",
          "data": {
            "image/png": "[encoded data removed]",
            "text/plain": [
              "<Figure size 792x504 with 1 Axes>"
            ]
          },
          "metadata": {
            "tags": [],
            "needs_background": "light"
          }
        }
      ]
    },
    {
      "cell_type": "markdown",
      "metadata": {
        "id": "p_Oxpt7_BDJr"
      },
      "source": [
        "##Bar plot/ Histogram\n",
        "\n",
        ">Now let's say we were to investigate the proportion of credit card holder per gender. Using a bar chart of each gender is a good way to gain rapid insights on this customer proportion. \n"
      ]
    },
    {
      "cell_type": "code",
      "metadata": {
        "colab": {
          "base_uri": "https://localhost:8080/",
          "height": 475
        },
        "id": "tug4uXVqHC0_",
        "outputId": "8d2c8c3f-2d6f-4a10-c571-bd29714616d0"
      },
      "source": [
        "data_bar = data['Gender'].value_counts()\n",
        "fig=plt.figure(figsize=(11,7))\n",
        "\n",
        "graph = data_bar.plot(kind= 'bar')\n",
        "\n",
        "# It is possible to ad many details to a graph by using simple commands. eg.\n",
        "graph.set_title('Number of men and women', size=18)\n",
        "graph.set_xlabel('')\n",
        "txt=graph.set_ylabel('Number of people', size=14)\n"
      ],
      "execution_count": 7,
      "outputs": [
        {
          "output_type": "display_data",
          "data": {
            "image/png": "[encoded data removed]",
            "text/plain": [
              "<Figure size 792x504 with 1 Axes>"
            ]
          },
          "metadata": {
            "tags": [],
            "needs_background": "light"
          }
        }
      ]
    },
    {
      "cell_type": "markdown",
      "metadata": {
        "id": "KJ5DcJwFKZMR"
      },
      "source": [
        ">It's possible to do it horizontally too by setting the kind of bar plot to `barh`."
      ]
    },
    {
      "cell_type": "code",
      "metadata": {
        "colab": {
          "base_uri": "https://localhost:8080/",
          "height": 448
        },
        "id": "IttcA3A6KgzL",
        "outputId": "0756de53-8750-4933-ed67-3ef9d20a9430"
      },
      "source": [
        "fig=plt.figure(figsize=(11,7))\n",
        "\n",
        "data_bar = data['Gender'].value_counts()\n",
        "graph = data_bar.plot(kind= 'barh')\n",
        "graph.set_title('Number of men and women', size=18)\n",
        "graph.set_xlabel('')\n",
        "txt=graph.set_ylabel('Number of people', size=14)"
      ],
      "execution_count": 8,
      "outputs": [
        {
          "output_type": "display_data",
          "data": {
            "image/png": "[encoded data removed]",
            "text/plain": [
              "<Figure size 792x504 with 1 Axes>"
            ]
          },
          "metadata": {
            "tags": [],
            "needs_background": "light"
          }
        }
      ]
    },
    {
      "cell_type": "markdown",
      "metadata": {
        "id": "I2c82OWnLoeJ"
      },
      "source": [
        "###**Exercise 1**\n",
        ">Now it's your turn ! Create a barplot so that we can see the proportion of married student. \n",
        ">\n",
        ">Be sure, to name your graph and the axes."
      ]
    },
    {
      "cell_type": "code",
      "metadata": {
        "id": "5g5sezBukRHS"
      },
      "source": [
        "#CODE HERE "
      ],
      "execution_count": 9,
      "outputs": []
    },
    {
      "cell_type": "markdown",
      "metadata": {
        "id": "7K07jyPy4WLP"
      },
      "source": [
        ">Lastly, you have to keep in mind that granularity (how much datas are being shown on the graph) plays an important role in visualization.\n",
        "Here, let's take the example of the distribution of Income depending on Age."
      ]
    },
    {
      "cell_type": "code",
      "metadata": {
        "colab": {
          "base_uri": "https://localhost:8080/",
          "height": 428
        },
        "id": "v-8USsKO5D0e",
        "outputId": "13df54ef-da14-4496-dfdf-9dca122ad61d"
      },
      "source": [
        "fig=plt.figure(figsize=(11,7))\n",
        "\n",
        "hist = plt.hist(data.groupby('Age')['Income'].mean())"
      ],
      "execution_count": 10,
      "outputs": [
        {
          "output_type": "display_data",
          "data": {
            "image/png": "[encoded data removed]",
            "text/plain": [
              "<Figure size 792x504 with 1 Axes>"
            ]
          },
          "metadata": {
            "tags": [],
            "needs_background": "light"
          }
        }
      ]
    },
    {
      "cell_type": "code",
      "metadata": {
        "colab": {
          "base_uri": "https://localhost:8080/",
          "height": 428
        },
        "id": "P7goD10hFEn3",
        "outputId": "e63c286d-e0e5-454d-da83-40159f86d293"
      },
      "source": [
        "fig=plt.figure(figsize=(11,7))\n",
        "\n",
        "hist_2=plt.hist(data.groupby('Age')['Income'].mean(), bins=5)"
      ],
      "execution_count": 11,
      "outputs": [
        {
          "output_type": "display_data",
          "data": {
            "image/png": "[encoded data removed]",
            "text/plain": [
              "<Figure size 792x504 with 1 Axes>"
            ]
          },
          "metadata": {
            "tags": [],
            "needs_background": "light"
          }
        }
      ]
    },
    {
      "cell_type": "code",
      "metadata": {
        "colab": {
          "base_uri": "https://localhost:8080/",
          "height": 428
        },
        "id": "LatiZVcNL69a",
        "outputId": "0a9502e8-d65c-4afc-cd8d-a5ee32215d20"
      },
      "source": [
        "fig=plt.figure(figsize=(11,7))\n",
        "\n",
        "hist_3= plt.hist(data.groupby('Age')['Income'].mean(), bins=20)"
      ],
      "execution_count": 12,
      "outputs": [
        {
          "output_type": "display_data",
          "data": {
            "image/png": "[encoded data removed]",
            "text/plain": [
              "<Figure size 792x504 with 1 Axes>"
            ]
          },
          "metadata": {
            "tags": [],
            "needs_background": "light"
          }
        }
      ]
    },
    {
      "cell_type": "markdown",
      "metadata": {
        "id": "vkePOTmkLcIj"
      },
      "source": [
        ">Is there another kind of chart that come to your mind when thinking about how to visualize data propotion ?"
      ]
    },
    {
      "cell_type": "markdown",
      "metadata": {
        "id": "rIXP1jW-Xb5P"
      },
      "source": [
        "##Pie chart\n",
        ">Let's have a look at the proportion men and women of customer in the customer base.\n"
      ]
    },
    {
      "cell_type": "code",
      "metadata": {
        "colab": {
          "base_uri": "https://localhost:8080/",
          "height": 448
        },
        "id": "RiZqH_LzYyjq",
        "outputId": "36762dd0-109e-4350-f045-fe54b4dde949"
      },
      "source": [
        "data_pie = data['Student'].value_counts()\n",
        "fig=plt.figure(figsize=(11,7))\n",
        "\n",
        "graph = data_pie.plot(kind = 'pie') #you can ad as much parameters as you wish\n",
        "graph.set_title(\"Proportion of customer that are students\", size=18)"
      ],
      "execution_count": 13,
      "outputs": [
        {
          "output_type": "execute_result",
          "data": {
            "text/plain": [
              "Text(0.5, 1.0, 'Proportion of customer that are students')"
            ]
          },
          "metadata": {
            "tags": []
          },
          "execution_count": 13
        },
        {
          "output_type": "display_data",
          "data": {
            "image/png": "[encoded data removed]",
            "text/plain": [
              "<Figure size 792x504 with 1 Axes>"
            ]
          },
          "metadata": {
            "tags": []
          }
        }
      ]
    },
    {
      "cell_type": "markdown",
      "metadata": {
        "id": "Cl9dtG8TbF8-"
      },
      "source": [
        "###**Exercise 2**\n",
        ">Try to create a pie chart giving the proportion of customer with a partner. Percentage should be indicated on the chart and rounded at 2 digit, for this you can use **autopct**='%.x'\n",
        ">\n",
        ">**autopct** enables you to display the percent value rounded to the rounding you wish"
      ]
    },
    {
      "cell_type": "code",
      "metadata": {
        "id": "zTSXrxORkZCp"
      },
      "source": [
        "#CODE HERE "
      ],
      "execution_count": 14,
      "outputs": []
    },
    {
      "cell_type": "markdown",
      "metadata": {
        "id": "kittvL2lfI1h"
      },
      "source": [
        "##Scatter plot and Lines plot\n",
        "\n",
        "###1. Lines plot\n",
        "\n",
        ">Now moving on to linear representations, Lines plot are used to represent evolution of a value in function of another variable. For this example, we want to represent the evolution of Income with respect to the age."
      ]
    },
    {
      "cell_type": "code",
      "metadata": {
        "id": "N0SmS2kpNPmH",
        "colab": {
          "base_uri": "https://localhost:8080/",
          "height": 442
        },
        "outputId": "baaa78fe-0dc9-4acd-aaa3-44717c7d13c6"
      },
      "source": [
        "fig=plt.figure(figsize=(11,7))\n",
        "sb = sns.lineplot(x=data['Age'], y=data.groupby('Age')['Income'].mean())"
      ],
      "execution_count": 15,
      "outputs": [
        {
          "output_type": "display_data",
          "data": {
            "image/png": "[encoded data removed]",
            "text/plain": [
              "<Figure size 792x504 with 1 Axes>"
            ]
          },
          "metadata": {
            "tags": [],
            "needs_background": "light"
          }
        }
      ]
    },
    {
      "cell_type": "markdown",
      "metadata": {
        "id": "ioprdXsimnWL"
      },
      "source": [
        "###2. Scatter plot\n",
        "\n",
        ">This kind of charts is very useful to visualize correlation between inputs. Let's check if device maximum debit limit is correlated with Monthly charges.\n",
        ">\n",
        ">You can plot a regression line by using the command **plt.plot**"
      ]
    },
    {
      "cell_type": "code",
      "metadata": {
        "colab": {
          "base_uri": "https://localhost:8080/",
          "height": 428
        },
        "id": "gSlkeggFHw7C",
        "outputId": "876520f1-2c4c-48cb-ffb7-40c6f89a34e7"
      },
      "source": [
        "fig=plt.figure(figsize=(11,7))\n",
        "plt.scatter(data['Income'], data['Limit'], alpha=(1/2))\n",
        "plot=plt.plot([0,200], [0,14000], color='red')"
      ],
      "execution_count": 16,
      "outputs": [
        {
          "output_type": "display_data",
          "data": {
            "image/png": "[encoded data removed]",
            "text/plain": [
              "<Figure size 792x504 with 1 Axes>"
            ]
          },
          "metadata": {
            "tags": [],
            "needs_background": "light"
          }
        }
      ]
    },
    {
      "cell_type": "markdown",
      "metadata": {
        "id": "d2ZwNaz-nzCA"
      },
      "source": [
        "##HeatMaps\n",
        "\n",
        ">Heatmaps enable you to visualize very easily the pearsons coefficiant of correlation with an apropriate color map weach can be changed depending on user's preference. \n",
        ">\n",
        ">Let's try to create a heatmap of **correlations** of columns 'Limit', 'Income','Age' and 'Rating'. \n"
      ]
    },
    {
      "cell_type": "code",
      "metadata": {
        "id": "g1Z6f0yePGil",
        "colab": {
          "base_uri": "https://localhost:8080/",
          "height": 432
        },
        "outputId": "ad4c5172-e8ff-42e1-9b28-2c10fdf5198a"
      },
      "source": [
        "fig=plt.figure(figsize=(11,7))\n",
        "\n",
        "heat_map = data[['Limit','Income', 'Age', 'Rating']].corr() #We must ad .corr() here as we are looking for the correlations between our variables.\n",
        "sb= sns.heatmap(data = heat_map)"
      ],
      "execution_count": 17,
      "outputs": [
        {
          "output_type": "display_data",
          "data": {
            "image/png": "[encoded data removed]",
            "text/plain": [
              "<Figure size 792x504 with 2 Axes>"
            ]
          },
          "metadata": {
            "tags": [],
            "needs_background": "light"
          }
        }
      ]
    },
    {
      "cell_type": "markdown",
      "metadata": {
        "id": "ca-7MkP2cXN0"
      },
      "source": [
        ">Which variables are the least correlated ?"
      ]
    },
    {
      "cell_type": "markdown",
      "metadata": {
        "id": "bJqipZm3TWGy"
      },
      "source": [
        "### **Exercise 3**\n",
        "Like with every other data visualization tool, you can improve its look so that it's easier to read and understand.\n",
        "\n",
        "With the same heatmap try modifying it so that it is easier to read, use this [link](https://likegeeks.com/seaborn-heatmap-tutorial/) to find out how to easily do so."
      ]
    },
    {
      "cell_type": "code",
      "metadata": {
        "id": "o8SZIlwvlaRQ"
      },
      "source": [
        "#Code here "
      ],
      "execution_count": 18,
      "outputs": []
    },
    {
      "cell_type": "markdown",
      "metadata": {
        "id": "44-ZDAZrDEex"
      },
      "source": [
        "#Interactive Visualization"
      ]
    },
    {
      "cell_type": "markdown",
      "metadata": {
        "id": "24hYcOvmTQWW"
      },
      "source": [
        "## Ipywidgets\n",
        ">In this second part of the lab, we move to more interactive representations. As a first instance, we introduce widgets.  Notebooks come alive when interactive widgets are used. Using widgets helps you gain control on data and enables you to visualize changes in the data."
      ]
    },
    {
      "cell_type": "code",
      "metadata": {
        "id": "9E9AF25xRclR",
        "colab": {
          "base_uri": "https://localhost:8080/"
        },
        "outputId": "cb2c2755-2348-40a3-fca7-f7c2c741fd52"
      },
      "source": [
        "!pip install ipywidgets --upgrade"
      ],
      "execution_count": 19,
      "outputs": [
        {
          "output_type": "stream",
          "text": [
            "Requirement already up-to-date: ipywidgets in /usr/local/lib/python3.7/dist-packages (7.6.3)\n",
            "Requirement already satisfied, skipping upgrade: traitlets>=4.3.1 in /usr/local/lib/python3.7/dist-packages (from ipywidgets) (5.0.5)\n",
            "Requirement already satisfied, skipping upgrade: ipython>=4.0.0; python_version >= \"3.3\" in /usr/local/lib/python3.7/dist-packages (from ipywidgets) (5.5.0)\n",
            "Requirement already satisfied, skipping upgrade: nbformat>=4.2.0 in /usr/local/lib/python3.7/dist-packages (from ipywidgets) (5.1.2)\n",
            "Requirement already satisfied, skipping upgrade: ipykernel>=4.5.1 in /usr/local/lib/python3.7/dist-packages (from ipywidgets) (4.10.1)\n",
            "Requirement already satisfied, skipping upgrade: widgetsnbextension~=3.5.0 in /usr/local/lib/python3.7/dist-packages (from ipywidgets) (3.5.1)\n",
            "Requirement already satisfied, skipping upgrade: jupyterlab-widgets>=1.0.0; python_version >= \"3.6\" in /usr/local/lib/python3.7/dist-packages (from ipywidgets) (1.0.0)\n",
            "Requirement already satisfied, skipping upgrade: ipython-genutils in /usr/local/lib/python3.7/dist-packages (from traitlets>=4.3.1->ipywidgets) (0.2.0)\n",
            "Requirement already satisfied, skipping upgrade: pygments in /usr/local/lib/python3.7/dist-packages (from ipython>=4.0.0; python_version >= \"3.3\"->ipywidgets) (2.6.1)\n",
            "Requirement already satisfied, skipping upgrade: pickleshare in /usr/local/lib/python3.7/dist-packages (from ipython>=4.0.0; python_version >= \"3.3\"->ipywidgets) (0.7.5)\n",
            "Requirement already satisfied, skipping upgrade: simplegeneric>0.8 in /usr/local/lib/python3.7/dist-packages (from ipython>=4.0.0; python_version >= \"3.3\"->ipywidgets) (0.8.1)\n",
            "Requirement already satisfied, skipping upgrade: decorator in /usr/local/lib/python3.7/dist-packages (from ipython>=4.0.0; python_version >= \"3.3\"->ipywidgets) (4.4.2)\n",
            "Requirement already satisfied, skipping upgrade: prompt-toolkit<2.0.0,>=1.0.4 in /usr/local/lib/python3.7/dist-packages (from ipython>=4.0.0; python_version >= \"3.3\"->ipywidgets) (1.0.18)\n",
            "Requirement already satisfied, skipping upgrade: pexpect; sys_platform != \"win32\" in /usr/local/lib/python3.7/dist-packages (from ipython>=4.0.0; python_version >= \"3.3\"->ipywidgets) (4.8.0)\n",
            "Requirement already satisfied, skipping upgrade: setuptools>=18.5 in /usr/local/lib/python3.7/dist-packages (from ipython>=4.0.0; python_version >= \"3.3\"->ipywidgets) (54.0.0)\n",
            "Requirement already satisfied, skipping upgrade: jupyter-core in /usr/local/lib/python3.7/dist-packages (from nbformat>=4.2.0->ipywidgets) (4.7.1)\n",
            "Requirement already satisfied, skipping upgrade: jsonschema!=2.5.0,>=2.4 in /usr/local/lib/python3.7/dist-packages (from nbformat>=4.2.0->ipywidgets) (2.6.0)\n",
            "Requirement already satisfied, skipping upgrade: tornado>=4.0 in /usr/local/lib/python3.7/dist-packages (from ipykernel>=4.5.1->ipywidgets) (5.1.1)\n",
            "Requirement already satisfied, skipping upgrade: jupyter-client in /usr/local/lib/python3.7/dist-packages (from ipykernel>=4.5.1->ipywidgets) (5.3.5)\n",
            "Requirement already satisfied, skipping upgrade: notebook>=4.4.1 in /usr/local/lib/python3.7/dist-packages (from widgetsnbextension~=3.5.0->ipywidgets) (5.3.1)\n",
            "Requirement already satisfied, skipping upgrade: six>=1.9.0 in /usr/local/lib/python3.7/dist-packages (from prompt-toolkit<2.0.0,>=1.0.4->ipython>=4.0.0; python_version >= \"3.3\"->ipywidgets) (1.15.0)\n",
            "Requirement already satisfied, skipping upgrade: wcwidth in /usr/local/lib/python3.7/dist-packages (from prompt-toolkit<2.0.0,>=1.0.4->ipython>=4.0.0; python_version >= \"3.3\"->ipywidgets) (0.2.5)\n",
            "Requirement already satisfied, skipping upgrade: ptyprocess>=0.5 in /usr/local/lib/python3.7/dist-packages (from pexpect; sys_platform != \"win32\"->ipython>=4.0.0; python_version >= \"3.3\"->ipywidgets) (0.7.0)\n",
            "Requirement already satisfied, skipping upgrade: pyzmq>=13 in /usr/local/lib/python3.7/dist-packages (from jupyter-client->ipykernel>=4.5.1->ipywidgets) (22.0.3)\n",
            "Requirement already satisfied, skipping upgrade: python-dateutil>=2.1 in /usr/local/lib/python3.7/dist-packages (from jupyter-client->ipykernel>=4.5.1->ipywidgets) (2.8.1)\n",
            "Requirement already satisfied, skipping upgrade: nbconvert in /usr/local/lib/python3.7/dist-packages (from notebook>=4.4.1->widgetsnbextension~=3.5.0->ipywidgets) (5.6.1)\n",
            "Requirement already satisfied, skipping upgrade: Send2Trash in /usr/local/lib/python3.7/dist-packages (from notebook>=4.4.1->widgetsnbextension~=3.5.0->ipywidgets) (1.5.0)\n",
            "Requirement already satisfied, skipping upgrade: jinja2 in /usr/local/lib/python3.7/dist-packages (from notebook>=4.4.1->widgetsnbextension~=3.5.0->ipywidgets) (2.11.3)\n",
            "Requirement already satisfied, skipping upgrade: terminado>=0.8.1 in /usr/local/lib/python3.7/dist-packages (from notebook>=4.4.1->widgetsnbextension~=3.5.0->ipywidgets) (0.9.2)\n",
            "Requirement already satisfied, skipping upgrade: bleach in /usr/local/lib/python3.7/dist-packages (from nbconvert->notebook>=4.4.1->widgetsnbextension~=3.5.0->ipywidgets) (3.3.0)\n",
            "Requirement already satisfied, skipping upgrade: entrypoints>=0.2.2 in /usr/local/lib/python3.7/dist-packages (from nbconvert->notebook>=4.4.1->widgetsnbextension~=3.5.0->ipywidgets) (0.3)\n",
            "Requirement already satisfied, skipping upgrade: defusedxml in /usr/local/lib/python3.7/dist-packages (from nbconvert->notebook>=4.4.1->widgetsnbextension~=3.5.0->ipywidgets) (0.7.1)\n",
            "Requirement already satisfied, skipping upgrade: pandocfilters>=1.4.1 in /usr/local/lib/python3.7/dist-packages (from nbconvert->notebook>=4.4.1->widgetsnbextension~=3.5.0->ipywidgets) (1.4.3)\n",
            "Requirement already satisfied, skipping upgrade: testpath in /usr/local/lib/python3.7/dist-packages (from nbconvert->notebook>=4.4.1->widgetsnbextension~=3.5.0->ipywidgets) (0.4.4)\n",
            "Requirement already satisfied, skipping upgrade: mistune<2,>=0.8.1 in /usr/local/lib/python3.7/dist-packages (from nbconvert->notebook>=4.4.1->widgetsnbextension~=3.5.0->ipywidgets) (0.8.4)\n",
            "Requirement already satisfied, skipping upgrade: MarkupSafe>=0.23 in /usr/local/lib/python3.7/dist-packages (from jinja2->notebook>=4.4.1->widgetsnbextension~=3.5.0->ipywidgets) (1.1.1)\n",
            "Requirement already satisfied, skipping upgrade: webencodings in /usr/local/lib/python3.7/dist-packages (from bleach->nbconvert->notebook>=4.4.1->widgetsnbextension~=3.5.0->ipywidgets) (0.5.1)\n",
            "Requirement already satisfied, skipping upgrade: packaging in /usr/local/lib/python3.7/dist-packages (from bleach->nbconvert->notebook>=4.4.1->widgetsnbextension~=3.5.0->ipywidgets) (20.9)\n",
            "Requirement already satisfied, skipping upgrade: pyparsing>=2.0.2 in /usr/local/lib/python3.7/dist-packages (from packaging->bleach->nbconvert->notebook>=4.4.1->widgetsnbextension~=3.5.0->ipywidgets) (2.4.7)\n"
          ],
          "name": "stdout"
        }
      ]
    },
    {
      "cell_type": "code",
      "metadata": {
        "id": "9FiqQRh8V6Rz"
      },
      "source": [
        "import ipywidgets as widgets\n",
        "from ipywidgets import interact, interact_manual"
      ],
      "execution_count": 20,
      "outputs": []
    },
    {
      "cell_type": "code",
      "metadata": {
        "id": "Y9GkGODCcp04"
      },
      "source": [
        "from __future__ import print_function\n",
        "from ipywidgets import interact, interactive, fixed, interact_manual\n",
        "import ipywidgets as widgets"
      ],
      "execution_count": 21,
      "outputs": []
    },
    {
      "cell_type": "markdown",
      "metadata": {
        "id": "B2DFqFKrq2Yh"
      },
      "source": [
        ">In this example, we'll simply calculate the total amount of a loan considering the **Loan Amount**, the **Interest Rate** and the number of **Years** until the term of the loan. "
      ]
    },
    {
      "cell_type": "code",
      "metadata": {
        "id": "aH9ynxIHTnpZ"
      },
      "source": [
        "def total_amount(amount,rate, years):\n",
        "  return (amount*pow((1+rate),years))"
      ],
      "execution_count": 22,
      "outputs": []
    },
    {
      "cell_type": "code",
      "metadata": {
        "id": "8xFMPCBteOBU",
        "colab": {
          "base_uri": "https://localhost:8080/",
          "height": 147,
          "referenced_widgets": [
            "1c0eb8be4f1047b396a332af52e1fa1f",
            "9f32253942f647a7b8ae2150e08e3cc3",
            "37c3313506a847ef8c9fd1f1efda46e6",
            "69342a2dfd684cc6b8362964b163877d",
            "764082a069a34c359c6b91097372eb89",
            "0bd61bcd2df84fd0b5a597deb5098788",
            "e0bd9494f22c4265906730c5c7e7ae22",
            "c7f3ef111b6340168495c4d93f2d9737",
            "fb484fa126814d509d6b99821068c10c",
            "e7bdde37bc3e43ef92d065f2bfb16549",
            "45b6bff537444f40a9daf3de03cd79f3",
            "9d9606662a474eb69faec73154bbf238",
            "9038c9399cc04850846e4ec0342a5b47"
          ]
        },
        "outputId": "8413f09e-34d9-478b-d6f6-b3b54b8f19be"
      },
      "source": [
        "interact(total_amount, amount= widgets.IntSlider(min=10, max=300, description=\"Initial Amount\"),\n",
        "         rate = widgets.FloatSlider(min=0, max= 1,step=0.01, description='Interest Rate'), \n",
        "         years= widgets.IntSlider(min=1, max=20, description='Term (years)'))\n",
        "print(total_amount)"
      ],
      "execution_count": 23,
      "outputs": [
        {
          "output_type": "display_data",
          "data": {
            "application/vnd.jupyter.widget-view+json": {
              "model_id": "1c0eb8be4f1047b396a332af52e1fa1f",
              "version_minor": 0,
              "version_major": 2
            },
            "text/plain": [
              "interactive(children=(IntSlider(value=10, description='Initial Amount', max=300, min=10), FloatSlider(value=0.…"
            ]
          },
          "metadata": {
            "tags": []
          }
        },
        {
          "output_type": "stream",
          "text": [
            "<function total_amount at 0x7fe70ea6c200>\n"
          ],
          "name": "stdout"
        }
      ]
    },
    {
      "cell_type": "markdown",
      "metadata": {
        "id": "urdZk-EiiNnf"
      },
      "source": [
        ">It is also, possible to use widgets as filters. Let's get back to our **credit** dataset and suppose that we want to limit the display of rows to just the rows for which the value in a particular column matches a particular categorical value.\n",
        ">\n",
        ">We can create a drop down list containing the distinct/unique values contained within the column, and use this to control the display of the dataframe rows. Adding an “All” option allows us to display all the rows.\n",
        ">\n",
        " >Here we want to filter the values regarding the **gender** of customers: "
      ]
    },
    {
      "cell_type": "code",
      "metadata": {
        "id": "TgoKnOOxhWTk",
        "colab": {
          "base_uri": "https://localhost:8080/",
          "height": 535,
          "referenced_widgets": [
            "f34f5866fe0842688ab713c62c474415",
            "16b479e94e944426a28fdc3001e5c9f6",
            "7dd7ea7ba593415c898d3bd244acb2a0",
            "e752b66ac9d4494e97620649ecc4daa2",
            "5e3ce5b66a054e09915d373d39cba5d4",
            "0d1ccc440d3e478babc9c7b1983e9338",
            "c38aa33956d6491d81a135953770b63a"
          ]
        },
        "outputId": "83bb58f6-1345-412c-db63-94b60f5aa9ff"
      },
      "source": [
        "items = ['All']+sorted(data['Gender'].unique().tolist())\n",
        " \n",
        "def view(x=''):\n",
        "    if x=='All': return data\n",
        "    return data[data['Gender']==x]\n",
        " \n",
        "w = widgets.Select(options=items)\n",
        "interact(view, x=w)"
      ],
      "execution_count": 24,
      "outputs": [
        {
          "output_type": "display_data",
          "data": {
            "application/vnd.jupyter.widget-view+json": {
              "model_id": "f34f5866fe0842688ab713c62c474415",
              "version_minor": 0,
              "version_major": 2
            },
            "text/plain": [
              "interactive(children=(Select(description='x', options=('All', ' Male', 'Female'), value='All'), Output()), _do…"
            ]
          },
          "metadata": {
            "tags": []
          }
        },
        {
          "output_type": "execute_result",
          "data": {
            "text/plain": [
              "<function __main__.view>"
            ]
          },
          "metadata": {
            "tags": []
          },
          "execution_count": 24
        }
      ]
    },
    {
      "cell_type": "markdown",
      "metadata": {
        "id": "WLt2e2CvBXdO"
      },
      "source": [
        "##Folium \n",
        ">Sometimes, we need to show locations on maps. Here is a way to do so."
      ]
    },
    {
      "cell_type": "code",
      "metadata": {
        "id": "osL_vga6SdgN",
        "colab": {
          "base_uri": "https://localhost:8080/"
        },
        "outputId": "6f6c2a63-5167-4e29-f38d-fb89780e3e39"
      },
      "source": [
        "!pip install folium --upgrade"
      ],
      "execution_count": 25,
      "outputs": [
        {
          "output_type": "stream",
          "text": [
            "Collecting folium\n",
            "\u001b[?25l  Downloading https://files.pythonhosted.org/packages/c3/83/e8cb37afc2f016a1cf4caab8d22caf7fe4156c4c15230d8abc9c83547e0c/folium-0.12.1-py2.py3-none-any.whl (94kB)\n",
            "\r\u001b[K     |███▌                            | 10kB 15.5MB/s eta 0:00:01\r\u001b[K     |███████                         | 20kB 16.5MB/s eta 0:00:01\r\u001b[K     |██████████▍                     | 30kB 8.6MB/s eta 0:00:01\r\u001b[K     |█████████████▉                  | 40kB 6.8MB/s eta 0:00:01\r\u001b[K     |█████████████████▎              | 51kB 4.3MB/s eta 0:00:01\r\u001b[K     |████████████████████▊           | 61kB 4.8MB/s eta 0:00:01\r\u001b[K     |████████████████████████▏       | 71kB 4.9MB/s eta 0:00:01\r\u001b[K     |███████████████████████████▋    | 81kB 5.1MB/s eta 0:00:01\r\u001b[K     |███████████████████████████████ | 92kB 5.1MB/s eta 0:00:01\r\u001b[K     |████████████████████████████████| 102kB 3.6MB/s \n",
            "\u001b[?25hRequirement already satisfied, skipping upgrade: requests in /usr/local/lib/python3.7/dist-packages (from folium) (2.23.0)\n",
            "Requirement already satisfied, skipping upgrade: numpy in /usr/local/lib/python3.7/dist-packages (from folium) (1.19.5)\n",
            "Requirement already satisfied, skipping upgrade: branca>=0.3.0 in /usr/local/lib/python3.7/dist-packages (from folium) (0.4.2)\n",
            "Requirement already satisfied, skipping upgrade: jinja2>=2.9 in /usr/local/lib/python3.7/dist-packages (from folium) (2.11.3)\n",
            "Requirement already satisfied, skipping upgrade: certifi>=2017.4.17 in /usr/local/lib/python3.7/dist-packages (from requests->folium) (2020.12.5)\n",
            "Requirement already satisfied, skipping upgrade: chardet<4,>=3.0.2 in /usr/local/lib/python3.7/dist-packages (from requests->folium) (3.0.4)\n",
            "Requirement already satisfied, skipping upgrade: urllib3!=1.25.0,!=1.25.1,<1.26,>=1.21.1 in /usr/local/lib/python3.7/dist-packages (from requests->folium) (1.24.3)\n",
            "Requirement already satisfied, skipping upgrade: idna<3,>=2.5 in /usr/local/lib/python3.7/dist-packages (from requests->folium) (2.10)\n",
            "Requirement already satisfied, skipping upgrade: MarkupSafe>=0.23 in /usr/local/lib/python3.7/dist-packages (from jinja2>=2.9->folium) (1.1.1)\n",
            "\u001b[31mERROR: datascience 0.10.6 has requirement folium==0.2.1, but you'll have folium 0.12.1 which is incompatible.\u001b[0m\n",
            "Installing collected packages: folium\n",
            "  Found existing installation: folium 0.8.3\n",
            "    Uninstalling folium-0.8.3:\n",
            "      Successfully uninstalled folium-0.8.3\n",
            "Successfully installed folium-0.12.1\n"
          ],
          "name": "stdout"
        }
      ]
    },
    {
      "cell_type": "code",
      "metadata": {
        "colab": {
          "base_uri": "https://localhost:8080/",
          "height": 808
        },
        "id": "Kza7Jb8ZCVjx",
        "outputId": "a3c8c8b3-7d6a-4e8a-feab-4b402677d108"
      },
      "source": [
        "import folium\n",
        "df2 = pd.DataFrame({\n",
        "   'lon':[46.5213,46.5236, 46.5209, 46.5228],\n",
        "   'lat':[6.5741, 6.5846, 6.5769, 6.5796],\n",
        "   'name':['Amphimax', 'Anthropole', 'Biophore', 'Banane'],\n",
        "   'value':[20, 50, 40, 30]\n",
        "})\n",
        "# Create an empty map\n",
        "v = folium.Map(location=[46.5211,  6.5802], zoom_start=17)\n",
        " \n",
        "# Add marker one by one on the map\n",
        "for i in range(0,len(df2)):\n",
        "   folium.Circle(\n",
        "      location=[df2.iloc[i]['lon'], df2.iloc[i]['lat']],\n",
        "      popup=df2.iloc[i]['name'],\n",
        "      radius=float(df2.iloc[i]['value'])*2,\n",
        "      fill=True,\n",
        "      fill_color='crimson'\n",
        "   ).add_to(v)\n",
        "# Show the map\n",
        "display(v)"
      ],
      "execution_count": 26,
      "outputs": [
        {
          "output_type": "display_data",
          "data": {
            "text/html": [
              "<div style=\"width:100%;\"><div style=\"position:relative;width:100%;height:0;padding-bottom:60%;\"><span style=\"color:#565656\">Make this Notebook Trusted to load map: File -> Trust Notebook</span><iframe src=\"about:blank\" style=\"position:absolute;width:100%;height:100%;left:0;top:0;border:none !important;\" data-html=%3C%21DOCTYPE%20html%3E%0A%3Chead%3E%20%20%20%20%0A%20%20%20%20%3Cmeta%20http-equiv%3D%22content-type%22%20content%3D%22text/html%3B%20charset%3DUTF-8%22%20/%3E%0A%20%20%20%20%0A%20%20%20%20%20%20%20%20%3Cscript%3E%0A%20%20%20%20%20%20%20%20%20%20%20%20L_NO_TOUCH%20%3D%20false%3B%0A%20%20%20%20%20%20%20%20%20%20%20%20L_DISABLE_3D%20%3D%20false%3B%0A%20%20%20%20%20%20%20%20%3C/script%3E%0A%20%20%20%20%0A%20%20%20%20%3Cstyle%3Ehtml%2C%20body%20%7Bwidth%3A%20100%25%3Bheight%3A%20100%25%3Bmargin%3A%200%3Bpadding%3A%200%3B%7D%3C/style%3E%0A%20%20%20%20%3Cstyle%3E%23map%20%7Bposition%3Aabsolute%3Btop%3A0%3Bbottom%3A0%3Bright%3A0%3Bleft%3A0%3B%7D%3C/style%3E%0A%20%20%20%20%3Cscript%20src%3D%22https%3A//cdn.jsdelivr.net/npm/leaflet%401.6.0/dist/leaflet.js%22%3E%3C/script%3E%0A%20%20%20%20%3Cscript%20src%3D%22https%3A//code.jquery.com/jquery-1.12.4.min.js%22%3E%3C/script%3E%0A%20%20%20%20%3Cscript%20src%3D%22https%3A//maxcdn.bootstrapcdn.com/bootstrap/3.2.0/js/bootstrap.min.js%22%3E%3C/script%3E%0A%20%20%20%20%3Cscript%20src%3D%22https%3A//cdnjs.cloudflare.com/ajax/libs/Leaflet.awesome-markers/2.0.2/leaflet.awesome-markers.js%22%3E%3C/script%3E%0A%20%20%20%20%3Clink%20rel%3D%22stylesheet%22%20href%3D%22https%3A//cdn.jsdelivr.net/npm/leaflet%401.6.0/dist/leaflet.css%22/%3E%0A%20%20%20%20%3Clink%20rel%3D%22stylesheet%22%20href%3D%22https%3A//maxcdn.bootstrapcdn.com/bootstrap/3.2.0/css/bootstrap.min.css%22/%3E%0A%20%20%20%20%3Clink%20rel%3D%22stylesheet%22%20href%3D%22https%3A//maxcdn.bootstrapcdn.com/bootstrap/3.2.0/css/bootstrap-theme.min.css%22/%3E%0A%20%20%20%20%3Clink%20rel%3D%22stylesheet%22%20href%3D%22https%3A//maxcdn.bootstrapcdn.com/font-awesome/4.6.3/css/font-awesome.min.css%22/%3E%0A%20%20%20%20%3Clink%20rel%3D%22stylesheet%22%20href%3D%22https%3A//cdnjs.cloudflare.com/ajax/libs/Leaflet.awesome-markers/2.0.2/leaflet.awesome-markers.css%22/%3E%0A%20%20%20%20%3Clink%20rel%3D%22stylesheet%22%20href%3D%22https%3A//cdn.jsdelivr.net/gh/python-visualization/folium/folium/templates/leaflet.awesome.rotate.min.css%22/%3E%0A%20%20%20%20%0A%20%20%20%20%20%20%20%20%20%20%20%20%3Cmeta%20name%3D%22viewport%22%20content%3D%22width%3Ddevice-width%2C%0A%20%20%20%20%20%20%20%20%20%20%20%20%20%20%20%20initial-scale%3D1.0%2C%20maximum-scale%3D1.0%2C%20user-scalable%3Dno%22%20/%3E%0A%20%20%20%20%20%20%20%20%20%20%20%20%3Cstyle%3E%0A%20%20%20%20%20%20%20%20%20%20%20%20%20%20%20%20%23map_978276d5749841f4a55b887863530ce0%20%7B%0A%20%20%20%20%20%20%20%20%20%20%20%20%20%20%20%20%20%20%20%20position%3A%20relative%3B%0A%20%20%20%20%20%20%20%20%20%20%20%20%20%20%20%20%20%20%20%20width%3A%20100.0%25%3B%0A%20%20%20%20%20%20%20%20%20%20%20%20%20%20%20%20%20%20%20%20height%3A%20100.0%25%3B%0A%20%20%20%20%20%20%20%20%20%20%20%20%20%20%20%20%20%20%20%20left%3A%200.0%25%3B%0A%20%20%20%20%20%20%20%20%20%20%20%20%20%20%20%20%20%20%20%20top%3A%200.0%25%3B%0A%20%20%20%20%20%20%20%20%20%20%20%20%20%20%20%20%7D%0A%20%20%20%20%20%20%20%20%20%20%20%20%3C/style%3E%0A%20%20%20%20%20%20%20%20%0A%3C/head%3E%0A%3Cbody%3E%20%20%20%20%0A%20%20%20%20%0A%20%20%20%20%20%20%20%20%20%20%20%20%3Cdiv%20class%3D%22folium-map%22%20id%3D%22map_978276d5749841f4a55b887863530ce0%22%20%3E%3C/div%3E%0A%20%20%20%20%20%20%20%20%0A%3C/body%3E%0A%3Cscript%3E%20%20%20%20%0A%20%20%20%20%0A%20%20%20%20%20%20%20%20%20%20%20%20var%20map_978276d5749841f4a55b887863530ce0%20%3D%20L.map%28%0A%20%20%20%20%20%20%20%20%20%20%20%20%20%20%20%20%22map_978276d5749841f4a55b887863530ce0%22%2C%0A%20%20%20%20%20%20%20%20%20%20%20%20%20%20%20%20%7B%0A%20%20%20%20%20%20%20%20%20%20%20%20%20%20%20%20%20%20%20%20center%3A%20%5B46.5211%2C%206.5802%5D%2C%0A%20%20%20%20%20%20%20%20%20%20%20%20%20%20%20%20%20%20%20%20crs%3A%20L.CRS.EPSG3857%2C%0A%20%20%20%20%20%20%20%20%20%20%20%20%20%20%20%20%20%20%20%20zoom%3A%2017%2C%0A%20%20%20%20%20%20%20%20%20%20%20%20%20%20%20%20%20%20%20%20zoomControl%3A%20true%2C%0A%20%20%20%20%20%20%20%20%20%20%20%20%20%20%20%20%20%20%20%20preferCanvas%3A%20false%2C%0A%20%20%20%20%20%20%20%20%20%20%20%20%20%20%20%20%7D%0A%20%20%20%20%20%20%20%20%20%20%20%20%29%3B%0A%0A%20%20%20%20%20%20%20%20%20%20%20%20%0A%0A%20%20%20%20%20%20%20%20%0A%20%20%20%20%0A%20%20%20%20%20%20%20%20%20%20%20%20var%20tile_layer_cbe9b4a18e834872a35397dbfc00ddda%20%3D%20L.tileLayer%28%0A%20%20%20%20%20%20%20%20%20%20%20%20%20%20%20%20%22https%3A//%7Bs%7D.tile.openstreetmap.org/%7Bz%7D/%7Bx%7D/%7By%7D.png%22%2C%0A%20%20%20%20%20%20%20%20%20%20%20%20%20%20%20%20%7B%22attribution%22%3A%20%22Data%20by%20%5Cu0026copy%3B%20%5Cu003ca%20href%3D%5C%22http%3A//openstreetmap.org%5C%22%5Cu003eOpenStreetMap%5Cu003c/a%5Cu003e%2C%20under%20%5Cu003ca%20href%3D%5C%22http%3A//www.openstreetmap.org/copyright%5C%22%5Cu003eODbL%5Cu003c/a%5Cu003e.%22%2C%20%22detectRetina%22%3A%20false%2C%20%22maxNativeZoom%22%3A%2018%2C%20%22maxZoom%22%3A%2018%2C%20%22minZoom%22%3A%200%2C%20%22noWrap%22%3A%20false%2C%20%22opacity%22%3A%201%2C%20%22subdomains%22%3A%20%22abc%22%2C%20%22tms%22%3A%20false%7D%0A%20%20%20%20%20%20%20%20%20%20%20%20%29.addTo%28map_978276d5749841f4a55b887863530ce0%29%3B%0A%20%20%20%20%20%20%20%20%0A%20%20%20%20%0A%20%20%20%20%20%20%20%20%20%20%20%20var%20circle_b8db436cc02a4f1b900372b1c7e7e8f5%20%3D%20L.circle%28%0A%20%20%20%20%20%20%20%20%20%20%20%20%20%20%20%20%5B46.5213%2C%206.5741%5D%2C%0A%20%20%20%20%20%20%20%20%20%20%20%20%20%20%20%20%7B%22bubblingMouseEvents%22%3A%20true%2C%20%22color%22%3A%20%22%233388ff%22%2C%20%22dashArray%22%3A%20null%2C%20%22dashOffset%22%3A%20null%2C%20%22fill%22%3A%20true%2C%20%22fillColor%22%3A%20%22crimson%22%2C%20%22fillOpacity%22%3A%200.2%2C%20%22fillRule%22%3A%20%22evenodd%22%2C%20%22lineCap%22%3A%20%22round%22%2C%20%22lineJoin%22%3A%20%22round%22%2C%20%22opacity%22%3A%201.0%2C%20%22radius%22%3A%2040.0%2C%20%22stroke%22%3A%20true%2C%20%22weight%22%3A%203%7D%0A%20%20%20%20%20%20%20%20%20%20%20%20%29.addTo%28map_978276d5749841f4a55b887863530ce0%29%3B%0A%20%20%20%20%20%20%20%20%0A%20%20%20%20%0A%20%20%20%20%20%20%20%20var%20popup_2e449db4f6ec4b25953a4589acc47a36%20%3D%20L.popup%28%7B%22maxWidth%22%3A%20%22100%25%22%7D%29%3B%0A%0A%20%20%20%20%20%20%20%20%0A%20%20%20%20%20%20%20%20%20%20%20%20var%20html_1704a56ca41c4d328f81d389f1706c89%20%3D%20%24%28%60%3Cdiv%20id%3D%22html_1704a56ca41c4d328f81d389f1706c89%22%20style%3D%22width%3A%20100.0%25%3B%20height%3A%20100.0%25%3B%22%3EAmphimax%3C/div%3E%60%29%5B0%5D%3B%0A%20%20%20%20%20%20%20%20%20%20%20%20popup_2e449db4f6ec4b25953a4589acc47a36.setContent%28html_1704a56ca41c4d328f81d389f1706c89%29%3B%0A%20%20%20%20%20%20%20%20%0A%0A%20%20%20%20%20%20%20%20circle_b8db436cc02a4f1b900372b1c7e7e8f5.bindPopup%28popup_2e449db4f6ec4b25953a4589acc47a36%29%0A%20%20%20%20%20%20%20%20%3B%0A%0A%20%20%20%20%20%20%20%20%0A%20%20%20%20%0A%20%20%20%20%0A%20%20%20%20%20%20%20%20%20%20%20%20var%20circle_b4c5998d3a9e4d7ba06158b0cadd49b0%20%3D%20L.circle%28%0A%20%20%20%20%20%20%20%20%20%20%20%20%20%20%20%20%5B46.5236%2C%206.5846%5D%2C%0A%20%20%20%20%20%20%20%20%20%20%20%20%20%20%20%20%7B%22bubblingMouseEvents%22%3A%20true%2C%20%22color%22%3A%20%22%233388ff%22%2C%20%22dashArray%22%3A%20null%2C%20%22dashOffset%22%3A%20null%2C%20%22fill%22%3A%20true%2C%20%22fillColor%22%3A%20%22crimson%22%2C%20%22fillOpacity%22%3A%200.2%2C%20%22fillRule%22%3A%20%22evenodd%22%2C%20%22lineCap%22%3A%20%22round%22%2C%20%22lineJoin%22%3A%20%22round%22%2C%20%22opacity%22%3A%201.0%2C%20%22radius%22%3A%20100.0%2C%20%22stroke%22%3A%20true%2C%20%22weight%22%3A%203%7D%0A%20%20%20%20%20%20%20%20%20%20%20%20%29.addTo%28map_978276d5749841f4a55b887863530ce0%29%3B%0A%20%20%20%20%20%20%20%20%0A%20%20%20%20%0A%20%20%20%20%20%20%20%20var%20popup_05f98648576d46d0b98c8616ee1ce2e2%20%3D%20L.popup%28%7B%22maxWidth%22%3A%20%22100%25%22%7D%29%3B%0A%0A%20%20%20%20%20%20%20%20%0A%20%20%20%20%20%20%20%20%20%20%20%20var%20html_4a6a1f2e02974a4b8b955003b1169dc0%20%3D%20%24%28%60%3Cdiv%20id%3D%22html_4a6a1f2e02974a4b8b955003b1169dc0%22%20style%3D%22width%3A%20100.0%25%3B%20height%3A%20100.0%25%3B%22%3EAnthropole%3C/div%3E%60%29%5B0%5D%3B%0A%20%20%20%20%20%20%20%20%20%20%20%20popup_05f98648576d46d0b98c8616ee1ce2e2.setContent%28html_4a6a1f2e02974a4b8b955003b1169dc0%29%3B%0A%20%20%20%20%20%20%20%20%0A%0A%20%20%20%20%20%20%20%20circle_b4c5998d3a9e4d7ba06158b0cadd49b0.bindPopup%28popup_05f98648576d46d0b98c8616ee1ce2e2%29%0A%20%20%20%20%20%20%20%20%3B%0A%0A%20%20%20%20%20%20%20%20%0A%20%20%20%20%0A%20%20%20%20%0A%20%20%20%20%20%20%20%20%20%20%20%20var%20circle_1e02395c28324bc0bbeb1837742c6869%20%3D%20L.circle%28%0A%20%20%20%20%20%20%20%20%20%20%20%20%20%20%20%20%5B46.5209%2C%206.5769%5D%2C%0A%20%20%20%20%20%20%20%20%20%20%20%20%20%20%20%20%7B%22bubblingMouseEvents%22%3A%20true%2C%20%22color%22%3A%20%22%233388ff%22%2C%20%22dashArray%22%3A%20null%2C%20%22dashOffset%22%3A%20null%2C%20%22fill%22%3A%20true%2C%20%22fillColor%22%3A%20%22crimson%22%2C%20%22fillOpacity%22%3A%200.2%2C%20%22fillRule%22%3A%20%22evenodd%22%2C%20%22lineCap%22%3A%20%22round%22%2C%20%22lineJoin%22%3A%20%22round%22%2C%20%22opacity%22%3A%201.0%2C%20%22radius%22%3A%2080.0%2C%20%22stroke%22%3A%20true%2C%20%22weight%22%3A%203%7D%0A%20%20%20%20%20%20%20%20%20%20%20%20%29.addTo%28map_978276d5749841f4a55b887863530ce0%29%3B%0A%20%20%20%20%20%20%20%20%0A%20%20%20%20%0A%20%20%20%20%20%20%20%20var%20popup_3e24bd6f5b8646cd8d8b3a3be6adc1ac%20%3D%20L.popup%28%7B%22maxWidth%22%3A%20%22100%25%22%7D%29%3B%0A%0A%20%20%20%20%20%20%20%20%0A%20%20%20%20%20%20%20%20%20%20%20%20var%20html_e63dce57461f4b1c869a5080f407c196%20%3D%20%24%28%60%3Cdiv%20id%3D%22html_e63dce57461f4b1c869a5080f407c196%22%20style%3D%22width%3A%20100.0%25%3B%20height%3A%20100.0%25%3B%22%3EBiophore%3C/div%3E%60%29%5B0%5D%3B%0A%20%20%20%20%20%20%20%20%20%20%20%20popup_3e24bd6f5b8646cd8d8b3a3be6adc1ac.setContent%28html_e63dce57461f4b1c869a5080f407c196%29%3B%0A%20%20%20%20%20%20%20%20%0A%0A%20%20%20%20%20%20%20%20circle_1e02395c28324bc0bbeb1837742c6869.bindPopup%28popup_3e24bd6f5b8646cd8d8b3a3be6adc1ac%29%0A%20%20%20%20%20%20%20%20%3B%0A%0A%20%20%20%20%20%20%20%20%0A%20%20%20%20%0A%20%20%20%20%0A%20%20%20%20%20%20%20%20%20%20%20%20var%20circle_61a3cd7154da4b899bdc3c82a17eba3d%20%3D%20L.circle%28%0A%20%20%20%20%20%20%20%20%20%20%20%20%20%20%20%20%5B46.5228%2C%206.5796%5D%2C%0A%20%20%20%20%20%20%20%20%20%20%20%20%20%20%20%20%7B%22bubblingMouseEvents%22%3A%20true%2C%20%22color%22%3A%20%22%233388ff%22%2C%20%22dashArray%22%3A%20null%2C%20%22dashOffset%22%3A%20null%2C%20%22fill%22%3A%20true%2C%20%22fillColor%22%3A%20%22crimson%22%2C%20%22fillOpacity%22%3A%200.2%2C%20%22fillRule%22%3A%20%22evenodd%22%2C%20%22lineCap%22%3A%20%22round%22%2C%20%22lineJoin%22%3A%20%22round%22%2C%20%22opacity%22%3A%201.0%2C%20%22radius%22%3A%2060.0%2C%20%22stroke%22%3A%20true%2C%20%22weight%22%3A%203%7D%0A%20%20%20%20%20%20%20%20%20%20%20%20%29.addTo%28map_978276d5749841f4a55b887863530ce0%29%3B%0A%20%20%20%20%20%20%20%20%0A%20%20%20%20%0A%20%20%20%20%20%20%20%20var%20popup_5b59d6cbcf9748d0b619945313638563%20%3D%20L.popup%28%7B%22maxWidth%22%3A%20%22100%25%22%7D%29%3B%0A%0A%20%20%20%20%20%20%20%20%0A%20%20%20%20%20%20%20%20%20%20%20%20var%20html_2c9a4434ee134bfa82b58ff2f6ddfec7%20%3D%20%24%28%60%3Cdiv%20id%3D%22html_2c9a4434ee134bfa82b58ff2f6ddfec7%22%20style%3D%22width%3A%20100.0%25%3B%20height%3A%20100.0%25%3B%22%3EBanane%3C/div%3E%60%29%5B0%5D%3B%0A%20%20%20%20%20%20%20%20%20%20%20%20popup_5b59d6cbcf9748d0b619945313638563.setContent%28html_2c9a4434ee134bfa82b58ff2f6ddfec7%29%3B%0A%20%20%20%20%20%20%20%20%0A%0A%20%20%20%20%20%20%20%20circle_61a3cd7154da4b899bdc3c82a17eba3d.bindPopup%28popup_5b59d6cbcf9748d0b619945313638563%29%0A%20%20%20%20%20%20%20%20%3B%0A%0A%20%20%20%20%20%20%20%20%0A%20%20%20%20%0A%3C/script%3E onload=\"this.contentDocument.open();this.contentDocument.write(    decodeURIComponent(this.getAttribute('data-html')));this.contentDocument.close();\" allowfullscreen webkitallowfullscreen mozallowfullscreen></iframe></div></div>"
            ],
            "text/plain": [
              "<folium.folium.Map at 0x7fe717305c10>"
            ]
          },
          "metadata": {
            "tags": []
          }
        }
      ]
    },
    {
      "cell_type": "markdown",
      "metadata": {
        "id": "OvSTZxZJoKWw"
      },
      "source": [
        "##Plotly"
      ]
    },
    {
      "cell_type": "markdown",
      "metadata": {
        "id": "m8HOA5sEAzWd"
      },
      "source": [
        "### Treemap"
      ]
    },
    {
      "cell_type": "markdown",
      "metadata": {
        "id": "4_l-xf9GoQY2"
      },
      "source": [
        ">Lastly, Treemaps allow to display hierarchical data using nested rectangles. Label based, this visualiation allow all sorts of dynamic manipulations such as zooming, sector clicking etc... Execute the next cell and play with the Tree map. \n",
        "We will be using the [`plotly`](https://plotly.com) library and specifically the `express` package. \n",
        "\n",
        "\n",
        "\n",
        "\n",
        "\n"
      ]
    },
    {
      "cell_type": "code",
      "metadata": {
        "id": "Z3VxjS2J410Y",
        "colab": {
          "base_uri": "https://localhost:8080/"
        },
        "outputId": "0eececb6-e70f-4c78-f071-666cbec1f729"
      },
      "source": [
        "# will probably not need it but incase of a 'path' error\n",
        "!pip install plotly --upgrade\n"
      ],
      "execution_count": 27,
      "outputs": [
        {
          "output_type": "stream",
          "text": [
            "Collecting plotly\n",
            "\u001b[?25l  Downloading https://files.pythonhosted.org/packages/1f/f6/bd3c17c8003b6641df1228e80e1acac97ed8402635e46c2571f8e1ef63af/plotly-4.14.3-py2.py3-none-any.whl (13.2MB)\n",
            "\u001b[K     |████████████████████████████████| 13.2MB 305kB/s \n",
            "\u001b[?25hRequirement already satisfied, skipping upgrade: retrying>=1.3.3 in /usr/local/lib/python3.7/dist-packages (from plotly) (1.3.3)\n",
            "Requirement already satisfied, skipping upgrade: six in /usr/local/lib/python3.7/dist-packages (from plotly) (1.15.0)\n",
            "Installing collected packages: plotly\n",
            "  Found existing installation: plotly 4.4.1\n",
            "    Uninstalling plotly-4.4.1:\n",
            "      Successfully uninstalled plotly-4.4.1\n",
            "Successfully installed plotly-4.14.3\n"
          ],
          "name": "stdout"
        }
      ]
    },
    {
      "cell_type": "markdown",
      "metadata": {
        "id": "DzG-21grsY_x"
      },
      "source": [
        ">Here, we get back to our initial dataset and are going to use Treemap to visualize the income repartition according to marital status, academic situation, gender and ethnicity.\n",
        "\n"
      ]
    },
    {
      "cell_type": "code",
      "metadata": {
        "id": "kPwZXRpVsWmu",
        "colab": {
          "base_uri": "https://localhost:8080/",
          "height": 204
        },
        "outputId": "bb19d1f9-289d-4f98-a8ae-e6ef62d616af"
      },
      "source": [
        "data.head()"
      ],
      "execution_count": 28,
      "outputs": [
        {
          "output_type": "execute_result",
          "data": {
            "text/html": [
              "<div>\n",
              "<style scoped>\n",
              "    .dataframe tbody tr th:only-of-type {\n",
              "        vertical-align: middle;\n",
              "    }\n",
              "\n",
              "    .dataframe tbody tr th {\n",
              "        vertical-align: top;\n",
              "    }\n",
              "\n",
              "    .dataframe thead th {\n",
              "        text-align: right;\n",
              "    }\n",
              "</style>\n",
              "<table border=\"1\" class=\"dataframe\">\n",
              "  <thead>\n",
              "    <tr style=\"text-align: right;\">\n",
              "      <th></th>\n",
              "      <th>CustomerID</th>\n",
              "      <th>Income</th>\n",
              "      <th>Limit</th>\n",
              "      <th>Rating</th>\n",
              "      <th>Cards</th>\n",
              "      <th>Age</th>\n",
              "      <th>Education</th>\n",
              "      <th>Gender</th>\n",
              "      <th>Student</th>\n",
              "      <th>Married</th>\n",
              "      <th>Ethnicity</th>\n",
              "      <th>Balance</th>\n",
              "    </tr>\n",
              "  </thead>\n",
              "  <tbody>\n",
              "    <tr>\n",
              "      <th>0</th>\n",
              "      <td>1</td>\n",
              "      <td>14.891</td>\n",
              "      <td>3606</td>\n",
              "      <td>283</td>\n",
              "      <td>2</td>\n",
              "      <td>34</td>\n",
              "      <td>11</td>\n",
              "      <td>Male</td>\n",
              "      <td>No</td>\n",
              "      <td>Yes</td>\n",
              "      <td>Caucasian</td>\n",
              "      <td>333</td>\n",
              "    </tr>\n",
              "    <tr>\n",
              "      <th>1</th>\n",
              "      <td>2</td>\n",
              "      <td>106.025</td>\n",
              "      <td>6645</td>\n",
              "      <td>483</td>\n",
              "      <td>3</td>\n",
              "      <td>82</td>\n",
              "      <td>15</td>\n",
              "      <td>Female</td>\n",
              "      <td>Yes</td>\n",
              "      <td>Yes</td>\n",
              "      <td>Asian</td>\n",
              "      <td>903</td>\n",
              "    </tr>\n",
              "    <tr>\n",
              "      <th>2</th>\n",
              "      <td>3</td>\n",
              "      <td>104.593</td>\n",
              "      <td>7075</td>\n",
              "      <td>514</td>\n",
              "      <td>4</td>\n",
              "      <td>71</td>\n",
              "      <td>11</td>\n",
              "      <td>Male</td>\n",
              "      <td>No</td>\n",
              "      <td>No</td>\n",
              "      <td>Asian</td>\n",
              "      <td>580</td>\n",
              "    </tr>\n",
              "    <tr>\n",
              "      <th>3</th>\n",
              "      <td>4</td>\n",
              "      <td>148.924</td>\n",
              "      <td>9504</td>\n",
              "      <td>681</td>\n",
              "      <td>3</td>\n",
              "      <td>36</td>\n",
              "      <td>11</td>\n",
              "      <td>Female</td>\n",
              "      <td>No</td>\n",
              "      <td>No</td>\n",
              "      <td>Asian</td>\n",
              "      <td>964</td>\n",
              "    </tr>\n",
              "    <tr>\n",
              "      <th>4</th>\n",
              "      <td>5</td>\n",
              "      <td>55.882</td>\n",
              "      <td>4897</td>\n",
              "      <td>357</td>\n",
              "      <td>2</td>\n",
              "      <td>68</td>\n",
              "      <td>16</td>\n",
              "      <td>Male</td>\n",
              "      <td>No</td>\n",
              "      <td>Yes</td>\n",
              "      <td>Caucasian</td>\n",
              "      <td>331</td>\n",
              "    </tr>\n",
              "  </tbody>\n",
              "</table>\n",
              "</div>"
            ],
            "text/plain": [
              "   CustomerID   Income  Limit  Rating  ...  Student  Married  Ethnicity Balance\n",
              "0           1   14.891   3606     283  ...       No      Yes  Caucasian     333\n",
              "1           2  106.025   6645     483  ...      Yes      Yes      Asian     903\n",
              "2           3  104.593   7075     514  ...       No       No      Asian     580\n",
              "3           4  148.924   9504     681  ...       No       No      Asian     964\n",
              "4           5   55.882   4897     357  ...       No      Yes  Caucasian     331\n",
              "\n",
              "[5 rows x 12 columns]"
            ]
          },
          "metadata": {
            "tags": []
          },
          "execution_count": 28
        }
      ]
    },
    {
      "cell_type": "code",
      "metadata": {
        "colab": {
          "base_uri": "https://localhost:8080/",
          "height": 967
        },
        "id": "K0JfMboj4FGp",
        "outputId": "cf96a06a-1d78-44d7-9ea3-93a93f5f9097"
      },
      "source": [
        "\n",
        "import plotly.express as px\n",
        "df =data.groupby(['Ethnicity','Gender','Student','Married'])[['Income']]\\\n",
        "                                                                          .mean().reset_index()\n",
        "           \n",
        "df[\"all\"] = \"all\" # in order to have a single root node\n",
        "print(df)\n",
        "fig = px.treemap(df, path=['Ethnicity',\t'Gender'\t,'Student',\t'Married'], values='Income')\n",
        "fig.show()"
      ],
      "execution_count": 29,
      "outputs": [
        {
          "output_type": "stream",
          "text": [
            "           Ethnicity  Gender Student Married     Income  all\n",
            "0   African American    Male      No      No  54.204056  all\n",
            "1   African American    Male      No     Yes  41.602923  all\n",
            "2   African American    Male     Yes      No  78.496500  all\n",
            "3   African American    Male     Yes     Yes  57.805667  all\n",
            "4   African American  Female      No      No  41.816280  all\n",
            "5   African American  Female      No     Yes  52.408800  all\n",
            "6   African American  Female     Yes      No  52.250500  all\n",
            "7   African American  Female     Yes     Yes  44.895000  all\n",
            "8              Asian    Male      No      No  44.305250  all\n",
            "9              Asian    Male      No     Yes  39.282148  all\n",
            "10             Asian    Male     Yes      No  17.156000  all\n",
            "11             Asian    Male     Yes     Yes  31.029000  all\n",
            "12             Asian  Female      No      No  37.460200  all\n",
            "13             Asian  Female      No     Yes  47.697250  all\n",
            "14             Asian  Female     Yes      No  66.516667  all\n",
            "15             Asian  Female     Yes     Yes  60.651167  all\n",
            "16         Caucasian    Male      No      No  44.224273  all\n",
            "17         Caucasian    Male      No     Yes  48.629842  all\n",
            "18         Caucasian    Male     Yes      No  39.399000  all\n",
            "19         Caucasian    Male     Yes     Yes  58.045000  all\n",
            "20         Caucasian  Female      No      No  40.332636  all\n",
            "21         Caucasian  Female      No     Yes  44.431458  all\n",
            "22         Caucasian  Female     Yes      No  33.219500  all\n",
            "23         Caucasian  Female     Yes     Yes  36.271000  all\n"
          ],
          "name": "stdout"
        },
        {
          "output_type": "display_data",
          "data": {
            "text/html": [
              "<html>\n",
              "<head><meta charset=\"utf-8\" /></head>\n",
              "<body>\n",
              "    <div>            <script src=\"https://cdnjs.cloudflare.com/ajax/libs/mathjax/2.7.5/MathJax.js?config=TeX-AMS-MML_SVG\"></script><script type=\"text/javascript\">if (window.MathJax) {MathJax.Hub.Config({SVG: {font: \"STIX-Web\"}});}</script>                <script type=\"text/javascript\">window.PlotlyConfig = {MathJaxConfig: 'local'};</script>\n",
              "        <script src=\"https://cdn.plot.ly/plotly-latest.min.js\"></script>                <div id=\"18fa5219-c25b-43a0-869b-c02d0c25b736\" class=\"plotly-graph-div\" style=\"height:525px; width:100%;\"></div>            <script type=\"text/javascript\">                                    window.PLOTLYENV=window.PLOTLYENV || {};                                    if (document.getElementById(\"18fa5219-c25b-43a0-869b-c02d0c25b736\")) {                    Plotly.newPlot(                        \"18fa5219-c25b-43a0-869b-c02d0c25b736\",                        [{\"branchvalues\": \"total\", \"domain\": {\"x\": [0.0, 1.0], \"y\": [0.0, 1.0]}, \"hovertemplate\": \"labels=%{label}<br>Income=%{value}<br>parent=%{parent}<br>id=%{id}<extra></extra>\", \"ids\": [\"African American/ Male/No/No\", \"Asian/ Male/No/No\", \"Caucasian/ Male/No/No\", \"African American/Female/No/No\", \"Asian/Female/No/No\", \"Caucasian/Female/No/No\", \"African American/ Male/Yes/No\", \"Asian/ Male/Yes/No\", \"Caucasian/ Male/Yes/No\", \"African American/Female/Yes/No\", \"Asian/Female/Yes/No\", \"Caucasian/Female/Yes/No\", \"African American/ Male/No/Yes\", \"Asian/ Male/No/Yes\", \"Caucasian/ Male/No/Yes\", \"African American/Female/No/Yes\", \"Asian/Female/No/Yes\", \"Caucasian/Female/No/Yes\", \"African American/ Male/Yes/Yes\", \"Asian/ Male/Yes/Yes\", \"Caucasian/ Male/Yes/Yes\", \"African American/Female/Yes/Yes\", \"Asian/Female/Yes/Yes\", \"Caucasian/Female/Yes/Yes\", \"African American/ Male/No\", \"Asian/ Male/No\", \"Caucasian/ Male/No\", \"African American/Female/No\", \"Asian/Female/No\", \"Caucasian/Female/No\", \"African American/ Male/Yes\", \"Asian/ Male/Yes\", \"Caucasian/ Male/Yes\", \"African American/Female/Yes\", \"Asian/Female/Yes\", \"Caucasian/Female/Yes\", \"African American/ Male\", \"Asian/ Male\", \"Caucasian/ Male\", \"African American/Female\", \"Asian/Female\", \"Caucasian/Female\", \"African American\", \"Asian\", \"Caucasian\"], \"labels\": [\"No\", \"No\", \"No\", \"No\", \"No\", \"No\", \"No\", \"No\", \"No\", \"No\", \"No\", \"No\", \"Yes\", \"Yes\", \"Yes\", \"Yes\", \"Yes\", \"Yes\", \"Yes\", \"Yes\", \"Yes\", \"Yes\", \"Yes\", \"Yes\", \"No\", \"No\", \"No\", \"No\", \"No\", \"No\", \"Yes\", \"Yes\", \"Yes\", \"Yes\", \"Yes\", \"Yes\", \" Male\", \" Male\", \" Male\", \"Female\", \"Female\", \"Female\", \"African American\", \"Asian\", \"Caucasian\"], \"name\": \"\", \"parents\": [\"African American/ Male/No\", \"Asian/ Male/No\", \"Caucasian/ Male/No\", \"African American/Female/No\", \"Asian/Female/No\", \"Caucasian/Female/No\", \"African American/ Male/Yes\", \"Asian/ Male/Yes\", \"Caucasian/ Male/Yes\", \"African American/Female/Yes\", \"Asian/Female/Yes\", \"Caucasian/Female/Yes\", \"African American/ Male/No\", \"Asian/ Male/No\", \"Caucasian/ Male/No\", \"African American/Female/No\", \"Asian/Female/No\", \"Caucasian/Female/No\", \"African American/ Male/Yes\", \"Asian/ Male/Yes\", \"Caucasian/ Male/Yes\", \"African American/Female/Yes\", \"Asian/Female/Yes\", \"Caucasian/Female/Yes\", \"African American/ Male\", \"Asian/ Male\", \"Caucasian/ Male\", \"African American/Female\", \"Asian/Female\", \"Caucasian/Female\", \"African American/ Male\", \"Asian/ Male\", \"Caucasian/ Male\", \"African American/Female\", \"Asian/Female\", \"Caucasian/Female\", \"African American\", \"Asian\", \"Caucasian\", \"African American\", \"Asian\", \"Caucasian\", \"\", \"\", \"\"], \"type\": \"treemap\", \"values\": [54.20405555555556, 44.30525, 44.22427272727273, 41.81628, 37.4602, 40.33263636363637, 78.4965, 17.156000000000002, 39.399, 52.2505, 66.51666666666667, 33.219500000000004, 41.602923076923084, 39.282148148148146, 48.629842105263144, 52.4088, 47.69725, 44.43145762711865, 57.80566666666666, 31.029, 58.044999999999995, 44.895, 60.651166666666676, 36.271, 95.80697863247865, 83.58739814814814, 92.85411483253587, 94.22507999999999, 85.15745, 84.76409399075501, 136.30216666666666, 48.185, 97.44399999999999, 97.1455, 127.16783333333333, 69.4905, 232.1091452991453, 131.77239814814814, 190.29811483253584, 191.37058, 212.32528333333335, 154.25459399075504, 423.47972529914523, 344.09768148148146, 344.55270882329086]}],                        {\"legend\": {\"tracegroupgap\": 0}, \"margin\": {\"t\": 60}, \"template\": {\"data\": {\"bar\": [{\"error_x\": {\"color\": \"#2a3f5f\"}, \"error_y\": {\"color\": \"#2a3f5f\"}, \"marker\": {\"line\": {\"color\": \"#E5ECF6\", \"width\": 0.5}}, \"type\": \"bar\"}], \"barpolar\": [{\"marker\": {\"line\": {\"color\": \"#E5ECF6\", \"width\": 0.5}}, \"type\": \"barpolar\"}], \"carpet\": [{\"aaxis\": {\"endlinecolor\": \"#2a3f5f\", \"gridcolor\": \"white\", \"linecolor\": \"white\", \"minorgridcolor\": \"white\", \"startlinecolor\": \"#2a3f5f\"}, \"baxis\": {\"endlinecolor\": \"#2a3f5f\", \"gridcolor\": \"white\", \"linecolor\": \"white\", \"minorgridcolor\": \"white\", \"startlinecolor\": \"#2a3f5f\"}, \"type\": \"carpet\"}], \"choropleth\": [{\"colorbar\": {\"outlinewidth\": 0, \"ticks\": \"\"}, \"type\": \"choropleth\"}], \"contour\": [{\"colorbar\": {\"outlinewidth\": 0, \"ticks\": \"\"}, \"colorscale\": [[0.0, \"#0d0887\"], [0.1111111111111111, \"#46039f\"], [0.2222222222222222, \"#7201a8\"], [0.3333333333333333, \"#9c179e\"], [0.4444444444444444, \"#bd3786\"], [0.5555555555555556, \"#d8576b\"], [0.6666666666666666, \"#ed7953\"], [0.7777777777777778, \"#fb9f3a\"], [0.8888888888888888, \"#fdca26\"], [1.0, \"#f0f921\"]], \"type\": \"contour\"}], \"contourcarpet\": [{\"colorbar\": {\"outlinewidth\": 0, \"ticks\": \"\"}, \"type\": \"contourcarpet\"}], \"heatmap\": [{\"colorbar\": {\"outlinewidth\": 0, \"ticks\": \"\"}, \"colorscale\": [[0.0, \"#0d0887\"], [0.1111111111111111, \"#46039f\"], [0.2222222222222222, \"#7201a8\"], [0.3333333333333333, \"#9c179e\"], [0.4444444444444444, \"#bd3786\"], [0.5555555555555556, \"#d8576b\"], [0.6666666666666666, \"#ed7953\"], [0.7777777777777778, \"#fb9f3a\"], [0.8888888888888888, \"#fdca26\"], [1.0, \"#f0f921\"]], \"type\": \"heatmap\"}], \"heatmapgl\": [{\"colorbar\": {\"outlinewidth\": 0, \"ticks\": \"\"}, \"colorscale\": [[0.0, \"#0d0887\"], [0.1111111111111111, \"#46039f\"], [0.2222222222222222, \"#7201a8\"], [0.3333333333333333, \"#9c179e\"], [0.4444444444444444, \"#bd3786\"], [0.5555555555555556, \"#d8576b\"], [0.6666666666666666, \"#ed7953\"], [0.7777777777777778, \"#fb9f3a\"], [0.8888888888888888, \"#fdca26\"], [1.0, \"#f0f921\"]], \"type\": \"heatmapgl\"}], \"histogram\": [{\"marker\": {\"colorbar\": {\"outlinewidth\": 0, \"ticks\": \"\"}}, \"type\": \"histogram\"}], \"histogram2d\": [{\"colorbar\": {\"outlinewidth\": 0, \"ticks\": \"\"}, \"colorscale\": [[0.0, \"#0d0887\"], [0.1111111111111111, \"#46039f\"], [0.2222222222222222, \"#7201a8\"], [0.3333333333333333, \"#9c179e\"], [0.4444444444444444, \"#bd3786\"], [0.5555555555555556, \"#d8576b\"], [0.6666666666666666, \"#ed7953\"], [0.7777777777777778, \"#fb9f3a\"], [0.8888888888888888, \"#fdca26\"], [1.0, \"#f0f921\"]], \"type\": \"histogram2d\"}], \"histogram2dcontour\": [{\"colorbar\": {\"outlinewidth\": 0, \"ticks\": \"\"}, \"colorscale\": [[0.0, \"#0d0887\"], [0.1111111111111111, \"#46039f\"], [0.2222222222222222, \"#7201a8\"], [0.3333333333333333, \"#9c179e\"], [0.4444444444444444, \"#bd3786\"], [0.5555555555555556, \"#d8576b\"], [0.6666666666666666, \"#ed7953\"], [0.7777777777777778, \"#fb9f3a\"], [0.8888888888888888, \"#fdca26\"], [1.0, \"#f0f921\"]], \"type\": \"histogram2dcontour\"}], \"mesh3d\": [{\"colorbar\": {\"outlinewidth\": 0, \"ticks\": \"\"}, \"type\": \"mesh3d\"}], \"parcoords\": [{\"line\": {\"colorbar\": {\"outlinewidth\": 0, \"ticks\": \"\"}}, \"type\": \"parcoords\"}], \"pie\": [{\"automargin\": true, \"type\": \"pie\"}], \"scatter\": [{\"marker\": {\"colorbar\": {\"outlinewidth\": 0, \"ticks\": \"\"}}, \"type\": \"scatter\"}], \"scatter3d\": [{\"line\": {\"colorbar\": {\"outlinewidth\": 0, \"ticks\": \"\"}}, \"marker\": {\"colorbar\": {\"outlinewidth\": 0, \"ticks\": \"\"}}, \"type\": \"scatter3d\"}], \"scattercarpet\": [{\"marker\": {\"colorbar\": {\"outlinewidth\": 0, \"ticks\": \"\"}}, \"type\": \"scattercarpet\"}], \"scattergeo\": [{\"marker\": {\"colorbar\": {\"outlinewidth\": 0, \"ticks\": \"\"}}, \"type\": \"scattergeo\"}], \"scattergl\": [{\"marker\": {\"colorbar\": {\"outlinewidth\": 0, \"ticks\": \"\"}}, \"type\": \"scattergl\"}], \"scattermapbox\": [{\"marker\": {\"colorbar\": {\"outlinewidth\": 0, \"ticks\": \"\"}}, \"type\": \"scattermapbox\"}], \"scatterpolar\": [{\"marker\": {\"colorbar\": {\"outlinewidth\": 0, \"ticks\": \"\"}}, \"type\": \"scatterpolar\"}], \"scatterpolargl\": [{\"marker\": {\"colorbar\": {\"outlinewidth\": 0, \"ticks\": \"\"}}, \"type\": \"scatterpolargl\"}], \"scatterternary\": [{\"marker\": {\"colorbar\": {\"outlinewidth\": 0, \"ticks\": \"\"}}, \"type\": \"scatterternary\"}], \"surface\": [{\"colorbar\": {\"outlinewidth\": 0, \"ticks\": \"\"}, \"colorscale\": [[0.0, \"#0d0887\"], [0.1111111111111111, \"#46039f\"], [0.2222222222222222, \"#7201a8\"], [0.3333333333333333, \"#9c179e\"], [0.4444444444444444, \"#bd3786\"], [0.5555555555555556, \"#d8576b\"], [0.6666666666666666, \"#ed7953\"], [0.7777777777777778, \"#fb9f3a\"], [0.8888888888888888, \"#fdca26\"], [1.0, \"#f0f921\"]], \"type\": \"surface\"}], \"table\": [{\"cells\": {\"fill\": {\"color\": \"#EBF0F8\"}, \"line\": {\"color\": \"white\"}}, \"header\": {\"fill\": {\"color\": \"#C8D4E3\"}, \"line\": {\"color\": \"white\"}}, \"type\": \"table\"}]}, \"layout\": {\"annotationdefaults\": {\"arrowcolor\": \"#2a3f5f\", \"arrowhead\": 0, \"arrowwidth\": 1}, \"autotypenumbers\": \"strict\", \"coloraxis\": {\"colorbar\": {\"outlinewidth\": 0, \"ticks\": \"\"}}, \"colorscale\": {\"diverging\": [[0, \"#8e0152\"], [0.1, \"#c51b7d\"], [0.2, \"#de77ae\"], [0.3, \"#f1b6da\"], [0.4, \"#fde0ef\"], [0.5, \"#f7f7f7\"], [0.6, \"#e6f5d0\"], [0.7, \"#b8e186\"], [0.8, \"#7fbc41\"], [0.9, \"#4d9221\"], [1, \"#276419\"]], \"sequential\": [[0.0, \"#0d0887\"], [0.1111111111111111, \"#46039f\"], [0.2222222222222222, \"#7201a8\"], [0.3333333333333333, \"#9c179e\"], [0.4444444444444444, \"#bd3786\"], [0.5555555555555556, \"#d8576b\"], [0.6666666666666666, \"#ed7953\"], [0.7777777777777778, \"#fb9f3a\"], [0.8888888888888888, \"#fdca26\"], [1.0, \"#f0f921\"]], \"sequentialminus\": [[0.0, \"#0d0887\"], [0.1111111111111111, \"#46039f\"], [0.2222222222222222, \"#7201a8\"], [0.3333333333333333, \"#9c179e\"], [0.4444444444444444, \"#bd3786\"], [0.5555555555555556, \"#d8576b\"], [0.6666666666666666, \"#ed7953\"], [0.7777777777777778, \"#fb9f3a\"], [0.8888888888888888, \"#fdca26\"], [1.0, \"#f0f921\"]]}, \"colorway\": [\"#636efa\", \"#EF553B\", \"#00cc96\", \"#ab63fa\", \"#FFA15A\", \"#19d3f3\", \"#FF6692\", \"#B6E880\", \"#FF97FF\", \"#FECB52\"], \"font\": {\"color\": \"#2a3f5f\"}, \"geo\": {\"bgcolor\": \"white\", \"lakecolor\": \"white\", \"landcolor\": \"#E5ECF6\", \"showlakes\": true, \"showland\": true, \"subunitcolor\": \"white\"}, \"hoverlabel\": {\"align\": \"left\"}, \"hovermode\": \"closest\", \"mapbox\": {\"style\": \"light\"}, \"paper_bgcolor\": \"white\", \"plot_bgcolor\": \"#E5ECF6\", \"polar\": {\"angularaxis\": {\"gridcolor\": \"white\", \"linecolor\": \"white\", \"ticks\": \"\"}, \"bgcolor\": \"#E5ECF6\", \"radialaxis\": {\"gridcolor\": \"white\", \"linecolor\": \"white\", \"ticks\": \"\"}}, \"scene\": {\"xaxis\": {\"backgroundcolor\": \"#E5ECF6\", \"gridcolor\": \"white\", \"gridwidth\": 2, \"linecolor\": \"white\", \"showbackground\": true, \"ticks\": \"\", \"zerolinecolor\": \"white\"}, \"yaxis\": {\"backgroundcolor\": \"#E5ECF6\", \"gridcolor\": \"white\", \"gridwidth\": 2, \"linecolor\": \"white\", \"showbackground\": true, \"ticks\": \"\", \"zerolinecolor\": \"white\"}, \"zaxis\": {\"backgroundcolor\": \"#E5ECF6\", \"gridcolor\": \"white\", \"gridwidth\": 2, \"linecolor\": \"white\", \"showbackground\": true, \"ticks\": \"\", \"zerolinecolor\": \"white\"}}, \"shapedefaults\": {\"line\": {\"color\": \"#2a3f5f\"}}, \"ternary\": {\"aaxis\": {\"gridcolor\": \"white\", \"linecolor\": \"white\", \"ticks\": \"\"}, \"baxis\": {\"gridcolor\": \"white\", \"linecolor\": \"white\", \"ticks\": \"\"}, \"bgcolor\": \"#E5ECF6\", \"caxis\": {\"gridcolor\": \"white\", \"linecolor\": \"white\", \"ticks\": \"\"}}, \"title\": {\"x\": 0.05}, \"xaxis\": {\"automargin\": true, \"gridcolor\": \"white\", \"linecolor\": \"white\", \"ticks\": \"\", \"title\": {\"standoff\": 15}, \"zerolinecolor\": \"white\", \"zerolinewidth\": 2}, \"yaxis\": {\"automargin\": true, \"gridcolor\": \"white\", \"linecolor\": \"white\", \"ticks\": \"\", \"title\": {\"standoff\": 15}, \"zerolinecolor\": \"white\", \"zerolinewidth\": 2}}}},                        {\"responsive\": true}                    ).then(function(){\n",
              "                            \n",
              "var gd = document.getElementById('18fa5219-c25b-43a0-869b-c02d0c25b736');\n",
              "var x = new MutationObserver(function (mutations, observer) {{\n",
              "        var display = window.getComputedStyle(gd).display;\n",
              "        if (!display || display === 'none') {{\n",
              "            console.log([gd, 'removed!']);\n",
              "            Plotly.purge(gd);\n",
              "            observer.disconnect();\n",
              "        }}\n",
              "}});\n",
              "\n",
              "// Listen for the removal of the full notebook cells\n",
              "var notebookContainer = gd.closest('#notebook-container');\n",
              "if (notebookContainer) {{\n",
              "    x.observe(notebookContainer, {childList: true});\n",
              "}}\n",
              "\n",
              "// Listen for the clearing of the current output cell\n",
              "var outputEl = gd.closest('.output');\n",
              "if (outputEl) {{\n",
              "    x.observe(outputEl, {childList: true});\n",
              "}}\n",
              "\n",
              "                        })                };                            </script>        </div>\n",
              "</body>\n",
              "</html>"
            ]
          },
          "metadata": {
            "tags": []
          }
        }
      ]
    }
  ]
}