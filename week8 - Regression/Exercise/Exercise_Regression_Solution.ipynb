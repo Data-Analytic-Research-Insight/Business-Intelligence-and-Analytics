{
  "nbformat": 4,
  "nbformat_minor": 0,
  "metadata": {
    "colab": {
      "name": "Exercise1_draft.ipynb",
      "provenance": [],
      "include_colab_link": true
    },
    "kernel_info": {
      "name": "python3"
    },
    "kernelspec": {
      "display_name": "Python 3",
      "language": "python",
      "name": "python3"
    },
    "language_info": {
      "codemirror_mode": {
        "name": "ipython",
        "version": 3
      },
      "file_extension": ".py",
      "mimetype": "text/x-python",
      "name": "python",
      "nbconvert_exporter": "python",
      "pygments_lexer": "ipython3",
      "version": "3.7.6"
    },
    "nteract": {
      "version": "0.15.0"
    }
  },
  "cells": [
    {
      "cell_type": "markdown",
      "metadata": {
        "id": "view-in-github",
        "colab_type": "text"
      },
      "source": [
        "<a href=\"https://colab.research.google.com/github/michalis0/Business-Intelligence-and-Analytics/blob/master/week8%20-%20Regression/Exercise/Exercise_Regression_Solution.ipynb\" target=\"_parent\"><img src=\"https://colab.research.google.com/assets/colab-badge.svg\" alt=\"Open In Colab\"/></a>"
      ]
    },
    {
      "cell_type": "markdown",
      "metadata": {
        "id": "icCrOh56Uji9"
      },
      "source": [
        "# Exercise: Supervised Learning, Linear Regression\n",
        "\n",
        "This exercise is an application of what you learned in the walkthrough. The following cell gather the different modules you need for this exercise (take a look at the sklearn library).\n",
        "\n",
        "Some exercises consist of filling a part of the code without writing the whole code. Replace the `\"YOUR CODE HERE\"` by your own code."
      ]
    },
    {
      "cell_type": "code",
      "metadata": {
        "id": "ZhVTlweGUji-"
      },
      "source": [
        "# Useful starting lines\n",
        "%matplotlib inline\n",
        "%load_ext autoreload\n",
        "%autoreload 2\n",
        "\n",
        "import numpy as np\n",
        "import matplotlib.pyplot as plt\n",
        "#from matplotlib import collections  as mc\n",
        "import pandas as pd \n",
        "import seaborn as sns\n",
        "sns.set_style(\"darkgrid\")\n",
        "\n",
        "import warnings\n",
        "warnings.filterwarnings('ignore')\n",
        "\n",
        "# Sklearn import\n",
        "from sklearn.preprocessing import MinMaxScaler # Normalization\n",
        "from sklearn.linear_model import LinearRegression # Regression linear model\n",
        "from sklearn.model_selection import train_test_split # Splitting the data set\n",
        "from sklearn.metrics import r2_score, mean_squared_error, mean_absolute_error # Metrics for errors\n",
        "from sklearn.model_selection import KFold # Cross validation\n",
        "\n"
      ],
      "execution_count": 1,
      "outputs": []
    },
    {
      "cell_type": "markdown",
      "metadata": {
        "id": "-1tSmSs_UjjH"
      },
      "source": [
        "## 1. Load the data\n",
        "We are going to use an advertisement data. The task is to figure out how different means of advertisement influence the amount of sales of a product.\n",
        "     \n",
        "Load the pandas dataset from the given URL. Then display the first 5 rows. How many observations  and columns we have? Hint: use the `shape` attribute."
      ]
    },
    {
      "cell_type": "code",
      "metadata": {
        "id": "zyq6KkQvUjjL",
        "scrolled": true,
        "colab": {
          "base_uri": "https://localhost:8080/",
          "height": 238
        },
        "outputId": "be0ba7e9-6d34-4f71-9389-8b0b20fa938c"
      },
      "source": [
        "url = 'https://raw.githubusercontent.com/michalis0/Business-Intelligence-and-Analytics/master/data/Advertising.csv'\n",
        "# Load the data\n",
        "ad_df = pd.read_csv(url)\n",
        "display(ad_df.head())\n",
        "\n",
        "# Observations and columns (dimensions)\n",
        "print(\"Number of observations\", ad_df.shape[0])\n",
        "print(\"Number of dimensions\", ad_df.shape[1])\n"
      ],
      "execution_count": 2,
      "outputs": [
        {
          "output_type": "display_data",
          "data": {
            "text/html": [
              "<div>\n",
              "<style scoped>\n",
              "    .dataframe tbody tr th:only-of-type {\n",
              "        vertical-align: middle;\n",
              "    }\n",
              "\n",
              "    .dataframe tbody tr th {\n",
              "        vertical-align: top;\n",
              "    }\n",
              "\n",
              "    .dataframe thead th {\n",
              "        text-align: right;\n",
              "    }\n",
              "</style>\n",
              "<table border=\"1\" class=\"dataframe\">\n",
              "  <thead>\n",
              "    <tr style=\"text-align: right;\">\n",
              "      <th></th>\n",
              "      <th>id</th>\n",
              "      <th>TV</th>\n",
              "      <th>Radio</th>\n",
              "      <th>Newspaper</th>\n",
              "      <th>Sales</th>\n",
              "    </tr>\n",
              "  </thead>\n",
              "  <tbody>\n",
              "    <tr>\n",
              "      <th>0</th>\n",
              "      <td>1</td>\n",
              "      <td>230.1</td>\n",
              "      <td>37.8</td>\n",
              "      <td>69.2</td>\n",
              "      <td>22.1</td>\n",
              "    </tr>\n",
              "    <tr>\n",
              "      <th>1</th>\n",
              "      <td>2</td>\n",
              "      <td>44.5</td>\n",
              "      <td>39.3</td>\n",
              "      <td>45.1</td>\n",
              "      <td>10.4</td>\n",
              "    </tr>\n",
              "    <tr>\n",
              "      <th>2</th>\n",
              "      <td>3</td>\n",
              "      <td>17.2</td>\n",
              "      <td>45.9</td>\n",
              "      <td>69.3</td>\n",
              "      <td>9.3</td>\n",
              "    </tr>\n",
              "    <tr>\n",
              "      <th>3</th>\n",
              "      <td>4</td>\n",
              "      <td>151.5</td>\n",
              "      <td>41.3</td>\n",
              "      <td>58.5</td>\n",
              "      <td>18.5</td>\n",
              "    </tr>\n",
              "    <tr>\n",
              "      <th>4</th>\n",
              "      <td>5</td>\n",
              "      <td>180.8</td>\n",
              "      <td>10.8</td>\n",
              "      <td>58.4</td>\n",
              "      <td>12.9</td>\n",
              "    </tr>\n",
              "  </tbody>\n",
              "</table>\n",
              "</div>"
            ],
            "text/plain": [
              "   id     TV  Radio  Newspaper  Sales\n",
              "0   1  230.1   37.8       69.2   22.1\n",
              "1   2   44.5   39.3       45.1   10.4\n",
              "2   3   17.2   45.9       69.3    9.3\n",
              "3   4  151.5   41.3       58.5   18.5\n",
              "4   5  180.8   10.8       58.4   12.9"
            ]
          },
          "metadata": {
            "tags": []
          }
        },
        {
          "output_type": "stream",
          "text": [
            "Number of observations 200\n",
            "Number of dimensions 5\n"
          ],
          "name": "stdout"
        }
      ]
    },
    {
      "cell_type": "markdown",
      "metadata": {
        "id": "PFqlnctxUjjQ"
      },
      "source": [
        "In what follows we will try a simple linear regression using only one feature (univariate regression), that is, we want to predict the `sales` using only the `TV` advertisments.\n",
        "\n",
        "To get a first sense of the relationship between the different variables, display the correlation table."
      ]
    },
    {
      "cell_type": "code",
      "metadata": {
        "id": "ZjUD2jHmf_xT",
        "colab": {
          "base_uri": "https://localhost:8080/",
          "height": 173
        },
        "outputId": "7ed0164d-1aca-467d-b575-376270030bce"
      },
      "source": [
        "# Display the correlation table of ['Sales', 'TV', 'Radio', 'Newspaper']\n",
        "ad_df[['Sales', 'TV', 'Radio', 'Newspaper']].corr()"
      ],
      "execution_count": 3,
      "outputs": [
        {
          "output_type": "execute_result",
          "data": {
            "text/html": [
              "<div>\n",
              "<style scoped>\n",
              "    .dataframe tbody tr th:only-of-type {\n",
              "        vertical-align: middle;\n",
              "    }\n",
              "\n",
              "    .dataframe tbody tr th {\n",
              "        vertical-align: top;\n",
              "    }\n",
              "\n",
              "    .dataframe thead th {\n",
              "        text-align: right;\n",
              "    }\n",
              "</style>\n",
              "<table border=\"1\" class=\"dataframe\">\n",
              "  <thead>\n",
              "    <tr style=\"text-align: right;\">\n",
              "      <th></th>\n",
              "      <th>Sales</th>\n",
              "      <th>TV</th>\n",
              "      <th>Radio</th>\n",
              "      <th>Newspaper</th>\n",
              "    </tr>\n",
              "  </thead>\n",
              "  <tbody>\n",
              "    <tr>\n",
              "      <th>Sales</th>\n",
              "      <td>1.000000</td>\n",
              "      <td>0.782224</td>\n",
              "      <td>0.576223</td>\n",
              "      <td>0.228299</td>\n",
              "    </tr>\n",
              "    <tr>\n",
              "      <th>TV</th>\n",
              "      <td>0.782224</td>\n",
              "      <td>1.000000</td>\n",
              "      <td>0.054809</td>\n",
              "      <td>0.056648</td>\n",
              "    </tr>\n",
              "    <tr>\n",
              "      <th>Radio</th>\n",
              "      <td>0.576223</td>\n",
              "      <td>0.054809</td>\n",
              "      <td>1.000000</td>\n",
              "      <td>0.354104</td>\n",
              "    </tr>\n",
              "    <tr>\n",
              "      <th>Newspaper</th>\n",
              "      <td>0.228299</td>\n",
              "      <td>0.056648</td>\n",
              "      <td>0.354104</td>\n",
              "      <td>1.000000</td>\n",
              "    </tr>\n",
              "  </tbody>\n",
              "</table>\n",
              "</div>"
            ],
            "text/plain": [
              "              Sales        TV     Radio  Newspaper\n",
              "Sales      1.000000  0.782224  0.576223   0.228299\n",
              "TV         0.782224  1.000000  0.054809   0.056648\n",
              "Radio      0.576223  0.054809  1.000000   0.354104\n",
              "Newspaper  0.228299  0.056648  0.354104   1.000000"
            ]
          },
          "metadata": {
            "tags": []
          },
          "execution_count": 3
        }
      ]
    },
    {
      "cell_type": "markdown",
      "metadata": {
        "id": "fvAy5m2vUjj-"
      },
      "source": [
        "## 2. Using Sklearn\n",
        "When using sklearn we don't need to add a column of ones to the data in order to have the constant parameter. Sklearn takes care of it, you should just pass the `fit_intercept` argument to be True (which is also the default value for this argument).\n",
        "\n",
        "1. From the advertising dataset, save the feature ``TV`` and the target `sales` in two different variables X and y respectively, in a dataframe pandas format and not as a series (`X[['sth']]` instead of `X['sth']`).\n",
        "2. Split the data into a train and a test set. The test set size should be 20% of the original data. Additionally, set the `random_state` to 0 and `shuffle` to `True`.\n",
        "3. Create a new Linear model from the `LinearRegression` module of sklearn. Make sure it includes an intercept. Fit the model with the corresponding data.  \n",
        "4. Print the values of the slope and the constant.  \n",
        "5. Predict the sales using the 12th TV value of X (hint: `iloc[[12]]`) with your model (i.e `.predict()`) and compare with the true value from y.\n",
        "6. Compute the r2, MAE, and MSE.\n",
        "7. Plot the regression."
      ]
    },
    {
      "cell_type": "code",
      "metadata": {
        "id": "fCfLe7lmUjj-"
      },
      "source": [
        "# 1) Use the original dataframe\n",
        "X = ad_df[[\"TV\"]]\n",
        "y = ad_df[[\"Sales\"]]"
      ],
      "execution_count": 4,
      "outputs": []
    },
    {
      "cell_type": "code",
      "metadata": {
        "id": "Jls-WhqNgrjg"
      },
      "source": [
        "# 2) Do the train test split\n",
        "X_train, X_test, y_train, y_test = train_test_split(X, y, test_size=0.2, random_state=0, shuffle=True)"
      ],
      "execution_count": 5,
      "outputs": []
    },
    {
      "cell_type": "markdown",
      "metadata": {
        "id": "tjnW4gwRhdb4"
      },
      "source": [
        "We don't normalize the data here, but this is how it would be done:\n",
        "```\n",
        "scaler = MinMaxScaler()\n",
        "scaler.fit(X_train)\n",
        "X_train = pd.DataFrame(scaler.transform(X_train))\n",
        "X_test = pd.DataFrame(scaler.transform(X_test))\n",
        "```"
      ]
    },
    {
      "cell_type": "code",
      "metadata": {
        "id": "RfDnuxKxUjkB",
        "colab": {
          "base_uri": "https://localhost:8080/"
        },
        "outputId": "51d9bb55-5bcd-4d60-e4ed-74317472caa4"
      },
      "source": [
        "# 3) Create the linear model\n",
        "LR = LinearRegression(fit_intercept=True)\n",
        "\n",
        "# Fit the model using X and y\n",
        "LR.fit(X_train, y_train)"
      ],
      "execution_count": 6,
      "outputs": [
        {
          "output_type": "execute_result",
          "data": {
            "text/plain": [
              "LinearRegression(copy_X=True, fit_intercept=True, n_jobs=None, normalize=False)"
            ]
          },
          "metadata": {
            "tags": []
          },
          "execution_count": 6
        }
      ]
    },
    {
      "cell_type": "code",
      "metadata": {
        "id": "gEUDRnowUjkF",
        "colab": {
          "base_uri": "https://localhost:8080/"
        },
        "outputId": "b18aa1d3-e809-4ba9-d117-62f306ab61e9"
      },
      "source": [
        "# 4) Model output\n",
        "print(\"Slope: %.4f\" % LR.coef_.flatten()[0])\n",
        "print(\"Constant (intercept): %.4f\" % LR.intercept_[0])"
      ],
      "execution_count": 7,
      "outputs": [
        {
          "output_type": "stream",
          "text": [
            "Slope: 0.0460\n",
            "Constant (intercept): 7.2925\n"
          ],
          "name": "stdout"
        }
      ]
    },
    {
      "cell_type": "code",
      "metadata": {
        "id": "aa4vJkPTUjkI",
        "colab": {
          "base_uri": "https://localhost:8080/"
        },
        "outputId": "dc7ed417-4ae1-4857-8772-5632d1d73c73"
      },
      "source": [
        "# 5) Predict the Sales \n",
        "print(\"y_pred: %.4f\" % LR.predict(X_test.iloc[[12]]).flatten()[0],  \"y_true: \", y_test.iloc[12].Sales)"
      ],
      "execution_count": 8,
      "outputs": [
        {
          "output_type": "stream",
          "text": [
            "y_pred: 14.4973 y_true:  10.5\n"
          ],
          "name": "stdout"
        }
      ]
    },
    {
      "cell_type": "code",
      "metadata": {
        "id": "pqWdMQFKorqw",
        "colab": {
          "base_uri": "https://localhost:8080/"
        },
        "outputId": "183f939a-bbe0-4912-c173-ff99ad17b7f5"
      },
      "source": [
        "# 6) First you have to make the predictions for the test set\n",
        "prediction = LR.predict(X_test)\n",
        "\n",
        "# r2, MAE, and MSE \n",
        "print('R^2: %.2f' % r2_score(y_test, prediction))\n",
        "print('Mean absolute error: %.2f' % mean_absolute_error(y_test, prediction))\n",
        "print('Mean squared error: %.2f' % mean_squared_error(y_test, prediction))"
      ],
      "execution_count": 9,
      "outputs": [
        {
          "output_type": "stream",
          "text": [
            "R^2: 0.68\n",
            "Mean absolute error: 2.51\n",
            "Mean squared error: 10.19\n"
          ],
          "name": "stdout"
        }
      ]
    },
    {
      "cell_type": "code",
      "metadata": {
        "id": "yOkGh2GeQXQH",
        "colab": {
          "base_uri": "https://localhost:8080/",
          "height": 295
        },
        "outputId": "ba1b27d0-93aa-4e73-dfb3-1ed3cca4368e"
      },
      "source": [
        "# 7) Plot of the regression\n",
        "plt.scatter(X_test, y_test)\n",
        "# When using the MinMaxScaler, replace X_test with X_test[0] below\n",
        "plt.plot(X_test, prediction)\n",
        "plt.title('Sales Predicted by TV Ads')\n",
        "plt.xlabel('TV')\n",
        "plt.ylabel('Sales')\n",
        "plt.show()"
      ],
      "execution_count": 10,
      "outputs": [
        {
          "output_type": "display_data",
          "data": {
            "image/png": "[encoded data removed]",
            "text/plain": [
              "<Figure size 432x288 with 1 Axes>"
            ]
          },
          "metadata": {
            "tags": [],
            "needs_background": "light"
          }
        }
      ]
    },
    {
      "cell_type": "code",
      "metadata": {
        "id": "ngYASi6MhhZQ",
        "colab": {
          "base_uri": "https://localhost:8080/",
          "height": 380
        },
        "outputId": "fffe7d38-e858-4377-aa7d-d7b77fcf1fdb"
      },
      "source": [
        "# Bonus: The same graph as above, we just made it pretty\n",
        "plt.figure(figsize=(10,5), facecolor='lightpink')\n",
        "plt.axes().set_facecolor('pink')\n",
        "plt.scatter(X_test, y_test, color='red', alpha=1, marker='*', label='actual values')\n",
        "# When using the MinMaxScaler, replace X_test with X_test[0] below\n",
        "plt.plot(X_test, prediction, color='darkred', alpha=0.6, linestyle='-', linewidth=2, label='predicted values')\n",
        "plt.title(\"Sales Predicted by TV Ads\", fontdict={'family': 'serif', 'color':  'darkred', 'weight': 'normal', 'size': 36})\n",
        "plt.xlabel('TV', fontdict={'family': 'serif', 'color':  'darkred', 'weight': 'normal', 'size': 24})\n",
        "plt.ylabel('Sales', fontdict={'family': 'serif', 'color':  'darkred', 'weight': 'normal', 'size': 24})\n",
        "plt.legend()\n",
        "plt.show()"
      ],
      "execution_count": 11,
      "outputs": [
        {
          "output_type": "display_data",
          "data": {
            "image/png": "[encoded data removed]",
            "text/plain": [
              "<Figure size 720x360 with 1 Axes>"
            ]
          },
          "metadata": {
            "tags": []
          }
        }
      ]
    },
    {
      "cell_type": "markdown",
      "metadata": {
        "id": "AO6rjC0cLHfn"
      },
      "source": [
        "When you use this single-variate model, you can simply switch the features (TV, Radio, Newspaper) to see which predicts the target variable (Sales) the best. Which feature predicts the sales best?\n",
        "\n",
        "**Hint:** Simply change the target variable and re-run the cells above. Then compare the evaluation metrics (r2, MAE and MSE)."
      ]
    },
    {
      "cell_type": "code",
      "metadata": {
        "colab": {
          "base_uri": "https://localhost:8080/",
          "height": 204
        },
        "id": "3bbkYburMYN0",
        "outputId": "86d2796c-b54f-4dfe-9c9c-00c232b58ebf"
      },
      "source": [
        "Evaluation = pd.DataFrame(index=['Slope', 'Constant', 'r2', 'MAE', 'MSE'])\n",
        "for feature in ['TV', 'Radio', 'Newspaper']:\n",
        "  X = ad_df[[feature]]\n",
        "  y = ad_df[[\"Sales\"]]\n",
        "  X_train, X_test, y_train, y_test = train_test_split(X, y, test_size=0.2, random_state=0, shuffle=True)\n",
        "  scaler = MinMaxScaler()\n",
        "  # scaler.fit(X_train)\n",
        "  # X_train = pd.DataFrame(scaler.transform(X_train))\n",
        "  # X_test = pd.DataFrame(scaler.transform(X_test))\n",
        "  LR = LinearRegression(fit_intercept=True)\n",
        "  LR.fit(X_train, y_train)\n",
        "  prediction = LR.predict(X_test)\n",
        "  Evaluation[feature] = [LR.coef_.flatten()[0], LR.intercept_[0], r2_score(y_test, prediction), mean_absolute_error(y_test, prediction), mean_squared_error(y_test, prediction)]\n",
        "Evaluation.round(decimals = 2)"
      ],
      "execution_count": 12,
      "outputs": [
        {
          "output_type": "execute_result",
          "data": {
            "text/html": [
              "<div>\n",
              "<style scoped>\n",
              "    .dataframe tbody tr th:only-of-type {\n",
              "        vertical-align: middle;\n",
              "    }\n",
              "\n",
              "    .dataframe tbody tr th {\n",
              "        vertical-align: top;\n",
              "    }\n",
              "\n",
              "    .dataframe thead th {\n",
              "        text-align: right;\n",
              "    }\n",
              "</style>\n",
              "<table border=\"1\" class=\"dataframe\">\n",
              "  <thead>\n",
              "    <tr style=\"text-align: right;\">\n",
              "      <th></th>\n",
              "      <th>TV</th>\n",
              "      <th>Radio</th>\n",
              "      <th>Newspaper</th>\n",
              "    </tr>\n",
              "  </thead>\n",
              "  <tbody>\n",
              "    <tr>\n",
              "      <th>Slope</th>\n",
              "      <td>0.05</td>\n",
              "      <td>0.21</td>\n",
              "      <td>0.06</td>\n",
              "    </tr>\n",
              "    <tr>\n",
              "      <th>Constant</th>\n",
              "      <td>7.29</td>\n",
              "      <td>9.39</td>\n",
              "      <td>12.40</td>\n",
              "    </tr>\n",
              "    <tr>\n",
              "      <th>r2</th>\n",
              "      <td>0.68</td>\n",
              "      <td>0.23</td>\n",
              "      <td>-0.02</td>\n",
              "    </tr>\n",
              "    <tr>\n",
              "      <th>MAE</th>\n",
              "      <td>2.51</td>\n",
              "      <td>3.72</td>\n",
              "      <td>4.70</td>\n",
              "    </tr>\n",
              "    <tr>\n",
              "      <th>MSE</th>\n",
              "      <td>10.19</td>\n",
              "      <td>24.24</td>\n",
              "      <td>32.14</td>\n",
              "    </tr>\n",
              "  </tbody>\n",
              "</table>\n",
              "</div>"
            ],
            "text/plain": [
              "             TV  Radio  Newspaper\n",
              "Slope      0.05   0.21       0.06\n",
              "Constant   7.29   9.39      12.40\n",
              "r2         0.68   0.23      -0.02\n",
              "MAE        2.51   3.72       4.70\n",
              "MSE       10.19  24.24      32.14"
            ]
          },
          "metadata": {
            "tags": []
          },
          "execution_count": 12
        }
      ]
    },
    {
      "cell_type": "markdown",
      "metadata": {
        "id": "pVv2YnRUQb6F"
      },
      "source": [
        "The model predicting `Sales` with `TV` has the highest r2, lowest MAE, and lowest MSE. It is followed by `Radio`, leaving `Newspaper` as the \"worst\" of the three models."
      ]
    },
    {
      "cell_type": "markdown",
      "metadata": {
        "id": "QzGkUwaNUjkL"
      },
      "source": [
        "## 3. Using more features for prediction\n",
        "Let's try to use more features to predict the sales. For example we can observe the effect of TV and Radio advertisment in the same time.\n",
        "\n",
        "1. From the advertising dataset, save the features ``TV`` and `Radio` in to X  and the target `sales` into y, in a dataframe pandas format (`X[['sth']]` instead of `X['sth']`).\n",
        "2. Split the data into a train and a test set. The test set size should be 20% of the original data. Additionally, set the `random_state` to 0 and `shuffle` to `True`.\n",
        "3. Create a new Linear model from the `LinearRegression` module of sklearn. Fit the model with the corresponding data.\n",
        "4. Print the parameters of the slope and the constant (intercept).\n",
        "5. Predict the sales using the 12th TV value of X (hint: iloc[[12]]) with your model (i.e .predict()) and compare with the true value from y.  \n",
        "6. Compute the r2 (`r2_score`), MAE (`mean_absolute_error`), and MSE (`mean_squared_error`).\n",
        "\n"
      ]
    },
    {
      "cell_type": "code",
      "metadata": {
        "id": "hdwQWaVGUjkL"
      },
      "source": [
        "# 1) Use the original dataframe\n",
        "X = ad_df[[\"TV\", \"Radio\"]]\n",
        "y = ad_df[[\"Sales\"]]"
      ],
      "execution_count": 13,
      "outputs": []
    },
    {
      "cell_type": "code",
      "metadata": {
        "id": "_F2uRgQlq0na"
      },
      "source": [
        "# 2) Do the train test split\n",
        "X_train, X_test, y_train, y_test = train_test_split(X, y, test_size=0.2, random_state=0, shuffle=True)"
      ],
      "execution_count": 14,
      "outputs": []
    },
    {
      "cell_type": "markdown",
      "metadata": {
        "id": "MHo8wFSxq54q"
      },
      "source": [
        "We don't normalize the data here, but this is how it would be done:\n",
        "```\n",
        "scaler = MinMaxScaler()\n",
        "scaler.fit(X_train)\n",
        "X_train = pd.DataFrame(scaler.transform(X_train))\n",
        "X_test = pd.DataFrame(scaler.transform(X_test))\n",
        "```"
      ]
    },
    {
      "cell_type": "code",
      "metadata": {
        "id": "a1ZYaDiGUjkO",
        "colab": {
          "base_uri": "https://localhost:8080/"
        },
        "outputId": "6c8dc1b0-bab9-4bad-aa98-b957b29275e8"
      },
      "source": [
        "# 3) Create the linear model\n",
        "LR = LinearRegression(fit_intercept=True)\n",
        "\n",
        "# Fit the model using X and y\n",
        "LR.fit(X_train, y_train)"
      ],
      "execution_count": 15,
      "outputs": [
        {
          "output_type": "execute_result",
          "data": {
            "text/plain": [
              "LinearRegression(copy_X=True, fit_intercept=True, n_jobs=None, normalize=False)"
            ]
          },
          "metadata": {
            "tags": []
          },
          "execution_count": 15
        }
      ]
    },
    {
      "cell_type": "code",
      "metadata": {
        "id": "1PHZ5oDyrIOg",
        "colab": {
          "base_uri": "https://localhost:8080/"
        },
        "outputId": "14e2f7b5-011e-438f-c803-93a668b1d913"
      },
      "source": [
        "# 4) Parameters and Intercept\n",
        "print(\"Parameters: \", LR.coef_)\n",
        "print(\"Intercept: \", LR.intercept_)"
      ],
      "execution_count": 16,
      "outputs": [
        {
          "output_type": "stream",
          "text": [
            "Parameters:  [[0.04451639 0.19520741]]\n",
            "Intercept:  [2.95144076]\n"
          ],
          "name": "stdout"
        }
      ]
    },
    {
      "cell_type": "code",
      "metadata": {
        "id": "iUbB5RsCUjkR",
        "colab": {
          "base_uri": "https://localhost:8080/"
        },
        "outputId": "647bfb11-948b-4adb-9872-8832b65a1f5b"
      },
      "source": [
        "# 5) Predict the sales\n",
        "print(\"y_pred: %.4f\" % LR.predict(X_test.iloc[[12]]).flatten()[0],  \"y_true: \", y_test.iloc[12].Sales)"
      ],
      "execution_count": 17,
      "outputs": [
        {
          "output_type": "stream",
          "text": [
            "y_pred: 10.4302 y_true:  10.5\n"
          ],
          "name": "stdout"
        }
      ]
    },
    {
      "cell_type": "code",
      "metadata": {
        "id": "A2UnyUYCreKG",
        "colab": {
          "base_uri": "https://localhost:8080/"
        },
        "outputId": "9b289f53-ef61-4c57-8baa-069024905f65"
      },
      "source": [
        "# 6) First you have to make the predictions for the test set\n",
        "prediction = LR.predict(X_test)\n",
        "\n",
        "# r2, MAE, and MSE \n",
        "print('R^2: %.2f' % r2_score(y_test, prediction))\n",
        "print('Mean absolute error: %.2f' % mean_absolute_error(y_test, prediction))\n",
        "print('Mean squared error: %.2f' % mean_squared_error(y_test, prediction))"
      ],
      "execution_count": 18,
      "outputs": [
        {
          "output_type": "stream",
          "text": [
            "R^2: 0.86\n",
            "Mean absolute error: 1.37\n",
            "Mean squared error: 4.39\n"
          ],
          "name": "stdout"
        }
      ]
    },
    {
      "cell_type": "code",
      "metadata": {
        "id": "xNtKXPR75ojy",
        "colab": {
          "base_uri": "https://localhost:8080/",
          "height": 305
        },
        "outputId": "f8362ddd-e2f6-4476-f0d9-68e02ec44cf1"
      },
      "source": [
        "# Bonus: Here is how you could plot this regression\n",
        "x1_range = np.arange(X_test.iloc[:, 0].min(), X_test.iloc[:, 0].max())\n",
        "x2_range = np.arange(X_test.iloc[:, 1].min(), X_test.iloc[:, 1].max())\n",
        "x1, x2 = np.meshgrid(x1_range, x2_range)\n",
        "y = LR.intercept_[0] + LR.coef_[0][0]*x1 + LR.coef_[0][1]*x2\n",
        "\n",
        "fig = plt.figure(figsize=(10,5), facecolor='lightpink')\n",
        "ax = fig.add_subplot(111, projection='3d')\n",
        "ax.set_facecolor('pink')\n",
        "ax.scatter(X_test.iloc[:, 0], X_test.iloc[:, 1], y_test, alpha=1, color='red')\n",
        "ax.plot_surface(x1, x2, y, rstride=50, cstride=300, color='darkred', alpha=0.25)\n",
        "ax.set_title(\"Sales Predicted by TV and Radio Ads\", fontdict={'family': 'serif', 'color':  'darkred', 'weight': 'normal', 'size': 24})\n",
        "ax.set_xlabel('TV', fontdict={'family': 'serif', 'color':  'darkred', 'weight': 'normal', 'size': 18})\n",
        "ax.set_ylabel('Radio', fontdict={'family': 'serif', 'color':  'darkred', 'weight': 'normal', 'size': 18})\n",
        "ax.set_zlabel('Sales', fontdict={'family': 'serif', 'color':  'darkred', 'weight': 'normal', 'size': 18})\n",
        "plt.show()"
      ],
      "execution_count": 19,
      "outputs": [
        {
          "output_type": "display_data",
          "data": {
            "image/png": "[encoded data removed]",
            "text/plain": [
              "<Figure size 720x360 with 1 Axes>"
            ]
          },
          "metadata": {
            "tags": []
          }
        }
      ]
    },
    {
      "cell_type": "markdown",
      "metadata": {
        "id": "iliyvMX5RRW8"
      },
      "source": [
        "Did the model metrics (r2, MAE, MSE) improve significantly when `Radio` was added to the features to predict `Sales`? Did the model become \"better\"?"
      ]
    },
    {
      "cell_type": "code",
      "metadata": {
        "colab": {
          "base_uri": "https://localhost:8080/"
        },
        "id": "juyuqZ8gRelN",
        "outputId": "0c70fba3-c4d9-4f94-a9dc-ddca84b5dc79"
      },
      "source": [
        "# Compute by how much each of the metrics changed in comparaison to the single-variate model\n",
        "print('Variation in r2:  ', round(r2_score(y_test, prediction) - 0.68, 2))\n",
        "print('Variation in MAE:', round(mean_absolute_error(y_test, prediction) - 2.51, 2))\n",
        "print('Variation in MSE:', round(mean_squared_error(y_test, prediction) - 10.19, 2))"
      ],
      "execution_count": 20,
      "outputs": [
        {
          "output_type": "stream",
          "text": [
            "Variation in r2:   0.18\n",
            "Variation in MAE: -1.14\n",
            "Variation in MSE: -5.8\n"
          ],
          "name": "stdout"
        }
      ]
    },
    {
      "cell_type": "markdown",
      "metadata": {
        "id": "Pl3uOgTaSlWc"
      },
      "source": [
        "Every evaluation metric significatly improved (increase in r2, decrease in MAE and MSE), therefore we can concluded that the model became \"better\"."
      ]
    },
    {
      "cell_type": "markdown",
      "metadata": {
        "id": "29Zb1Xz5uHaa"
      },
      "source": [
        "## 4. Using all features\n",
        "Redo steps 1-6 with `TV`, `Radio`, and `Newspaper` as features predicting `Sales`."
      ]
    },
    {
      "cell_type": "code",
      "metadata": {
        "id": "-U-CLP3_updq",
        "colab": {
          "base_uri": "https://localhost:8080/"
        },
        "outputId": "707e122e-b54a-4f53-f987-089fef717614"
      },
      "source": [
        "# Find the features and the target\n",
        "X = ad_df[[\"TV\", \"Radio\", \"Newspaper\"]]\n",
        "y = ad_df[[\"Sales\"]]\n",
        "# Split the data\n",
        "X_train, X_test, y_train, y_test = train_test_split(X, y, test_size=0.2, random_state=0, shuffle=True)\n",
        "# The scaling would take place here\n",
        "# Create and fit the linear regression model\n",
        "LR = LinearRegression(fit_intercept=True)\n",
        "LR.fit(X_train, y_train)\n",
        "# Display the various parameters\n",
        "print(\"The Model Parameters:\", \"\\nw_0 (constant):  \", round(LR.intercept_[0], ndigits=3), \"\\nw_1 (TV):        \", round(LR.coef_[0][0], ndigits=3), \"\\nw_2 (Radio):     \", round(LR.coef_[0][1], ndigits=3), \"\\nw_3 (Newspaper):\", round(LR.coef_[0][2], ndigits=3))\n",
        "# Make a prediction for the 12th obsercation\n",
        "print('\\nPrediction for the 12th Observation:', \"\\ny_pred: %.4f\" % LR.predict(X_test.iloc[[12]]).flatten()[0],  \"y_true: \", y_test.iloc[12].Sales)\n",
        "# Compute the model metrics \n",
        "prediction = LR.predict(X_test)\n",
        "print('\\nMetrics to Judge the Model:', '\\nR^2: %.2f' % r2_score(y_test, prediction), '\\nMean absolute error: %.2f' % mean_absolute_error(y_test, prediction), '\\nMean squared error: %.2f' % mean_squared_error(y_test, prediction))"
      ],
      "execution_count": 21,
      "outputs": [
        {
          "output_type": "stream",
          "text": [
            "The Model Parameters: \n",
            "w_0 (constant):   2.995 \n",
            "w_1 (TV):         0.045 \n",
            "w_2 (Radio):      0.196 \n",
            "w_3 (Newspaper): -0.003\n",
            "\n",
            "Prediction for the 12th Observation: \n",
            "y_pred: 10.4646 y_true:  10.5\n",
            "\n",
            "Metrics to Judge the Model: \n",
            "R^2: 0.86 \n",
            "Mean absolute error: 1.36 \n",
            "Mean squared error: 4.40\n"
          ],
          "name": "stdout"
        }
      ]
    }
  ]
}