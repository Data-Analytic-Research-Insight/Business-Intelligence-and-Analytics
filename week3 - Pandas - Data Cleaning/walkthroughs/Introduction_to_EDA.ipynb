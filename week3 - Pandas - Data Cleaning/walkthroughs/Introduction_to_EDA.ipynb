{
  "nbformat": 4,
  "nbformat_minor": 0,
  "metadata": {
    "colab": {
      "name": "Introduction to EDA.ipynb",
      "provenance": [],
      "collapsed_sections": [],
      "include_colab_link": true
    },
    "kernelspec": {
      "name": "python3",
      "display_name": "Python 3"
    }
  },
  "cells": [
    {
      "cell_type": "markdown",
      "metadata": {
        "id": "view-in-github",
        "colab_type": "text"
      },
      "source": [
        "<a href=\"https://colab.research.google.com/github/michalis0/Business-Intelligence-and-Analytics/blob/master/week3%20-%20Pandas%20-%20Data%20Cleaning/walkthroughs/Introduction_to_EDA.ipynb\" target=\"_parent\"><img src=\"https://colab.research.google.com/assets/colab-badge.svg\" alt=\"Open In Colab\"/></a>"
      ]
    },
    {
      "cell_type": "code",
      "metadata": {
        "id": "-Et-C3loyXPx",
        "colab": {
          "base_uri": "https://localhost:8080/",
          "height": 133
        },
        "cellView": "form",
        "outputId": "29570b82-acd2-41aa-ed31-20d2d8dd7497"
      },
      "source": [
        "#@title Introduction to EDA - Lab 3\n",
        "\n",
        "%%html\n",
        "\n",
        "<div>\n",
        "<td> \n",
        "<img src=\"https://upload.wikimedia.org/wikipedia/commons/thumb/2/2b/Logo_Universit%C3%A9_de_Lausanne.svg/2000px-Logo_Universit%C3%A9_de_Lausanne.svg.png\" style=\"padding-right:10px;width:240px;float:left\"/></td>\n",
        "<h2 style=\"white-space: nowrap\">Business Intelligence and Analytics</h2></td>\n",
        "<hr style=\"clear:both\">\n",
        "<p style=\"font-size:0.85em; margin:2px; text-align:justify\">\n",
        "\n",
        "</div>"
      ],
      "execution_count": 8,
      "outputs": [
        {
          "output_type": "display_data",
          "data": {
            "text/html": [
              "\n",
              "<div>\n",
              "<td> \n",
              "<img src=\"https://upload.wikimedia.org/wikipedia/commons/thumb/2/2b/Logo_Universit%C3%A9_de_Lausanne.svg/2000px-Logo_Universit%C3%A9_de_Lausanne.svg.png\" style=\"padding-right:10px;width:240px;float:left\"/></td>\n",
              "<h2 style=\"white-space: nowrap\">Business Intelligence and Analytics</h2></td>\n",
              "<hr style=\"clear:both\">\n",
              "<p style=\"font-size:0.85em; margin:2px; text-align:justify\">\n",
              "\n",
              "</div>"
            ],
            "text/plain": [
              "<IPython.core.display.HTML object>"
            ]
          },
          "metadata": {
            "tags": []
          }
        }
      ]
    },
    {
      "cell_type": "markdown",
      "metadata": {
        "id": "FPvLJ-TYoQQJ"
      },
      "source": [
        "# Web scrapping - Part 0\n",
        ">The goal of this Walkthrough is to provide you with insights on exploratory data analysis throughout the use of a fun and interactive technique known as webscrapping. During this laboratary, you will be provided with a broad overview of this technique as well as the major tools used in the process. You will also understand how data analysis can be conducted on real-time web data and hopefully see how this combination can be further applied to any other context. \n",
        "\n",
        "\n",
        ">In essence, webscrapping consits in harvesting the content of a web page in order to process its information for further use. In our example, webscrapping is used as fun way to extract data that we will analyse afterwards. In most cases, this thechniques comes hand in hand with data cleaning and data analysis. For futher information on webscrapping, click on the following [link](https://en.wikipedia.org/wiki/Web_scraping).\n"
      ]
    },
    {
      "cell_type": "markdown",
      "metadata": {
        "id": "Jm-4rNdQvDZ_"
      },
      "source": [
        "## Web scrapping with Pandas\n",
        "\n",
        ">Last week you were introduced with Pandas library and its DataFrame. Many different functions were presented to you for Dataframe manipulation. You should have noticed by now that this is a really usefull library when it comes to using tables. More over, one of the perks of using this Pandas is that you can diretly scrap HTML tables from the web... Lets dive into it.\n",
        "\n",
        "> The main function we are going to be using is `read_html`, it allows you the directly put the data of webpage table into a DataFrame. For more information, just click on this [link](https://pandas.pydata.org/pandas-docs/stable/reference/api/pandas.read_html.html). \n",
        "\n",
        "For example, imagine we wanted to demonstrate the importance of the reserch department for the future of a company, we would have at some point to provide evidences for such statment. To that end, lets get the [top 50 companies](https://en.wikipedia.org/wiki/List_of_companies_by_research_and_development_spending) with the highest research and development expenses in 2018."
      ]
    },
    {
      "cell_type": "code",
      "metadata": {
        "id": "IZRM0yOyKKNa"
      },
      "source": [
        "import pandas as pd"
      ],
      "execution_count": 9,
      "outputs": []
    },
    {
      "cell_type": "code",
      "metadata": {
        "colab": {
          "base_uri": "https://localhost:8080/",
          "height": 1000
        },
        "id": "WNqFVaQe0o0r",
        "outputId": "671afa49-0f77-4985-cc06-c2205908adda"
      },
      "source": [
        "pd.read_html('https://en.wikipedia.org/wiki/List_of_companies_by_research_and_development_spending')[0]\n",
        "\n"
      ],
      "execution_count": 10,
      "outputs": [
        {
          "output_type": "execute_result",
          "data": {
            "text/html": [
              "<div>\n",
              "<style scoped>\n",
              "    .dataframe tbody tr th:only-of-type {\n",
              "        vertical-align: middle;\n",
              "    }\n",
              "\n",
              "    .dataframe tbody tr th {\n",
              "        vertical-align: top;\n",
              "    }\n",
              "\n",
              "    .dataframe thead th {\n",
              "        text-align: right;\n",
              "    }\n",
              "</style>\n",
              "<table border=\"1\" class=\"dataframe\">\n",
              "  <thead>\n",
              "    <tr style=\"text-align: right;\">\n",
              "      <th></th>\n",
              "      <th>Rank</th>\n",
              "      <th>Company</th>\n",
              "      <th>Country</th>\n",
              "      <th>Sector</th>\n",
              "      <th>Expenditures on R&amp;D (billions of US$)</th>\n",
              "    </tr>\n",
              "  </thead>\n",
              "  <tbody>\n",
              "    <tr>\n",
              "      <th>0</th>\n",
              "      <td>1</td>\n",
              "      <td>Amazon</td>\n",
              "      <td>United States</td>\n",
              "      <td>Software and Internet</td>\n",
              "      <td>22.62</td>\n",
              "    </tr>\n",
              "    <tr>\n",
              "      <th>1</th>\n",
              "      <td>2</td>\n",
              "      <td>Alphabet Inc.</td>\n",
              "      <td>United States</td>\n",
              "      <td>Software and Internet</td>\n",
              "      <td>16.23</td>\n",
              "    </tr>\n",
              "    <tr>\n",
              "      <th>2</th>\n",
              "      <td>3</td>\n",
              "      <td>Volkswagen Group</td>\n",
              "      <td>Germany</td>\n",
              "      <td>Automotive</td>\n",
              "      <td>15.77</td>\n",
              "    </tr>\n",
              "    <tr>\n",
              "      <th>3</th>\n",
              "      <td>4</td>\n",
              "      <td>Samsung Electronics</td>\n",
              "      <td>South Korea</td>\n",
              "      <td>Computing and Electronics</td>\n",
              "      <td>15.31</td>\n",
              "    </tr>\n",
              "    <tr>\n",
              "      <th>4</th>\n",
              "      <td>5</td>\n",
              "      <td>Microsoft</td>\n",
              "      <td>United States</td>\n",
              "      <td>Software and Internet</td>\n",
              "      <td>14.74</td>\n",
              "    </tr>\n",
              "    <tr>\n",
              "      <th>5</th>\n",
              "      <td>6</td>\n",
              "      <td>Huawei</td>\n",
              "      <td>China</td>\n",
              "      <td>Computing and Electronics</td>\n",
              "      <td>13.60</td>\n",
              "    </tr>\n",
              "    <tr>\n",
              "      <th>6</th>\n",
              "      <td>7</td>\n",
              "      <td>Intel</td>\n",
              "      <td>United States</td>\n",
              "      <td>Computing and Electronics</td>\n",
              "      <td>13.10</td>\n",
              "    </tr>\n",
              "    <tr>\n",
              "      <th>7</th>\n",
              "      <td>8</td>\n",
              "      <td>Apple Inc.</td>\n",
              "      <td>United States</td>\n",
              "      <td>Computing and Electronics</td>\n",
              "      <td>11.58</td>\n",
              "    </tr>\n",
              "    <tr>\n",
              "      <th>8</th>\n",
              "      <td>9</td>\n",
              "      <td>Roche Holding</td>\n",
              "      <td>Switzerland</td>\n",
              "      <td>Health Care</td>\n",
              "      <td>10.80</td>\n",
              "    </tr>\n",
              "    <tr>\n",
              "      <th>9</th>\n",
              "      <td>10</td>\n",
              "      <td>Johnson &amp; Johnson</td>\n",
              "      <td>United States</td>\n",
              "      <td>Health Care</td>\n",
              "      <td>10.55</td>\n",
              "    </tr>\n",
              "    <tr>\n",
              "      <th>10</th>\n",
              "      <td>11</td>\n",
              "      <td>Daimler AG</td>\n",
              "      <td>Germany</td>\n",
              "      <td>Automotive</td>\n",
              "      <td>10.40</td>\n",
              "    </tr>\n",
              "    <tr>\n",
              "      <th>11</th>\n",
              "      <td>12</td>\n",
              "      <td>Merck &amp; Co.</td>\n",
              "      <td>United States</td>\n",
              "      <td>Health Care</td>\n",
              "      <td>10.21</td>\n",
              "    </tr>\n",
              "    <tr>\n",
              "      <th>12</th>\n",
              "      <td>13</td>\n",
              "      <td>Toyota</td>\n",
              "      <td>Japan</td>\n",
              "      <td>Automotive</td>\n",
              "      <td>10.02</td>\n",
              "    </tr>\n",
              "    <tr>\n",
              "      <th>13</th>\n",
              "      <td>14</td>\n",
              "      <td>Novartis</td>\n",
              "      <td>Switzerland</td>\n",
              "      <td>Health Care</td>\n",
              "      <td>8.51</td>\n",
              "    </tr>\n",
              "    <tr>\n",
              "      <th>14</th>\n",
              "      <td>15</td>\n",
              "      <td>Ford Motor Company</td>\n",
              "      <td>United States</td>\n",
              "      <td>Automotive</td>\n",
              "      <td>8.00</td>\n",
              "    </tr>\n",
              "    <tr>\n",
              "      <th>15</th>\n",
              "      <td>16</td>\n",
              "      <td>Facebook, Inc.</td>\n",
              "      <td>United States</td>\n",
              "      <td>Software and Internet</td>\n",
              "      <td>7.75</td>\n",
              "    </tr>\n",
              "    <tr>\n",
              "      <th>16</th>\n",
              "      <td>17</td>\n",
              "      <td>Pfizer</td>\n",
              "      <td>United States</td>\n",
              "      <td>Health Care</td>\n",
              "      <td>7.66</td>\n",
              "    </tr>\n",
              "    <tr>\n",
              "      <th>17</th>\n",
              "      <td>18</td>\n",
              "      <td>BMW</td>\n",
              "      <td>Germany</td>\n",
              "      <td>Automotive</td>\n",
              "      <td>7.33</td>\n",
              "    </tr>\n",
              "    <tr>\n",
              "      <th>18</th>\n",
              "      <td>19</td>\n",
              "      <td>General Motors</td>\n",
              "      <td>United States</td>\n",
              "      <td>Automotive</td>\n",
              "      <td>7.30</td>\n",
              "    </tr>\n",
              "    <tr>\n",
              "      <th>19</th>\n",
              "      <td>20</td>\n",
              "      <td>Robert Bosch GmbH</td>\n",
              "      <td>Germany</td>\n",
              "      <td>Industrials</td>\n",
              "      <td>7.12</td>\n",
              "    </tr>\n",
              "    <tr>\n",
              "      <th>20</th>\n",
              "      <td>21</td>\n",
              "      <td>Honda</td>\n",
              "      <td>Japan</td>\n",
              "      <td>Automotive</td>\n",
              "      <td>7.08</td>\n",
              "    </tr>\n",
              "    <tr>\n",
              "      <th>21</th>\n",
              "      <td>22</td>\n",
              "      <td>Sanofi</td>\n",
              "      <td>France</td>\n",
              "      <td>Health Care</td>\n",
              "      <td>6.57</td>\n",
              "    </tr>\n",
              "    <tr>\n",
              "      <th>22</th>\n",
              "      <td>23</td>\n",
              "      <td>Bayer</td>\n",
              "      <td>Germany</td>\n",
              "      <td>Health Care</td>\n",
              "      <td>6.19</td>\n",
              "    </tr>\n",
              "    <tr>\n",
              "      <th>23</th>\n",
              "      <td>24</td>\n",
              "      <td>Siemens</td>\n",
              "      <td>Germany</td>\n",
              "      <td>Industrials</td>\n",
              "      <td>6.10</td>\n",
              "    </tr>\n",
              "    <tr>\n",
              "      <th>24</th>\n",
              "      <td>25</td>\n",
              "      <td>Oracle Corporation</td>\n",
              "      <td>United States</td>\n",
              "      <td>Software and Internet</td>\n",
              "      <td>6.09</td>\n",
              "    </tr>\n",
              "    <tr>\n",
              "      <th>25</th>\n",
              "      <td>26</td>\n",
              "      <td>Cisco Systems</td>\n",
              "      <td>United States</td>\n",
              "      <td>Computing and Electronics</td>\n",
              "      <td>6.06</td>\n",
              "    </tr>\n",
              "    <tr>\n",
              "      <th>26</th>\n",
              "      <td>27</td>\n",
              "      <td>GlaxoSmithKline</td>\n",
              "      <td>United Kingdom/ United States</td>\n",
              "      <td>Health Care</td>\n",
              "      <td>6.05</td>\n",
              "    </tr>\n",
              "    <tr>\n",
              "      <th>27</th>\n",
              "      <td>28</td>\n",
              "      <td>Bristol-Myers Squibb</td>\n",
              "      <td>United States</td>\n",
              "      <td>Health Care</td>\n",
              "      <td>5.96</td>\n",
              "    </tr>\n",
              "    <tr>\n",
              "      <th>28</th>\n",
              "      <td>29</td>\n",
              "      <td>Celgene</td>\n",
              "      <td>United States</td>\n",
              "      <td>Health Care</td>\n",
              "      <td>5.92</td>\n",
              "    </tr>\n",
              "    <tr>\n",
              "      <th>29</th>\n",
              "      <td>30</td>\n",
              "      <td>Nokia</td>\n",
              "      <td>Finland</td>\n",
              "      <td>Computing and Electronics</td>\n",
              "      <td>5.90</td>\n",
              "    </tr>\n",
              "    <tr>\n",
              "      <th>30</th>\n",
              "      <td>31</td>\n",
              "      <td>IBM</td>\n",
              "      <td>United States</td>\n",
              "      <td>Computing and Electronics</td>\n",
              "      <td>5.79</td>\n",
              "    </tr>\n",
              "    <tr>\n",
              "      <th>31</th>\n",
              "      <td>32</td>\n",
              "      <td>Qualcomm</td>\n",
              "      <td>United States</td>\n",
              "      <td>Computing and Electronics</td>\n",
              "      <td>5.47</td>\n",
              "    </tr>\n",
              "    <tr>\n",
              "      <th>32</th>\n",
              "      <td>33</td>\n",
              "      <td>AstraZeneca</td>\n",
              "      <td>United Kingdom/ Sweden</td>\n",
              "      <td>Health Care</td>\n",
              "      <td>5.41</td>\n",
              "    </tr>\n",
              "    <tr>\n",
              "      <th>33</th>\n",
              "      <td>34</td>\n",
              "      <td>Eli Lilly and Company</td>\n",
              "      <td>United States</td>\n",
              "      <td>Health Care</td>\n",
              "      <td>5.28</td>\n",
              "    </tr>\n",
              "    <tr>\n",
              "      <th>34</th>\n",
              "      <td>35</td>\n",
              "      <td>Fiat Chrysler Automobiles</td>\n",
              "      <td>Italy/ United States</td>\n",
              "      <td>Automotive</td>\n",
              "      <td>5.14</td>\n",
              "    </tr>\n",
              "    <tr>\n",
              "      <th>35</th>\n",
              "      <td>36</td>\n",
              "      <td>AbbVie Inc.</td>\n",
              "      <td>United States</td>\n",
              "      <td>Health Care</td>\n",
              "      <td>4.98</td>\n",
              "    </tr>\n",
              "    <tr>\n",
              "      <th>36</th>\n",
              "      <td>37</td>\n",
              "      <td>General Electric</td>\n",
              "      <td>United States</td>\n",
              "      <td>Industrials</td>\n",
              "      <td>4.80</td>\n",
              "    </tr>\n",
              "    <tr>\n",
              "      <th>37</th>\n",
              "      <td>38</td>\n",
              "      <td>Dell</td>\n",
              "      <td>United States</td>\n",
              "      <td>Computing and Electronics</td>\n",
              "      <td>4.76</td>\n",
              "    </tr>\n",
              "    <tr>\n",
              "      <th>38</th>\n",
              "      <td>39</td>\n",
              "      <td>Ericsson</td>\n",
              "      <td>Sweden</td>\n",
              "      <td>Computing and Electronics</td>\n",
              "      <td>4.63</td>\n",
              "    </tr>\n",
              "    <tr>\n",
              "      <th>39</th>\n",
              "      <td>40</td>\n",
              "      <td>Nissan</td>\n",
              "      <td>Japan</td>\n",
              "      <td>Automotive</td>\n",
              "      <td>4.62</td>\n",
              "    </tr>\n",
              "    <tr>\n",
              "      <th>40</th>\n",
              "      <td>41</td>\n",
              "      <td>Sony</td>\n",
              "      <td>Japan</td>\n",
              "      <td>Computing and Electronics</td>\n",
              "      <td>4.32</td>\n",
              "    </tr>\n",
              "    <tr>\n",
              "      <th>41</th>\n",
              "      <td>42</td>\n",
              "      <td>Panasonic</td>\n",
              "      <td>Japan</td>\n",
              "      <td>Computing and Electronics</td>\n",
              "      <td>4.23</td>\n",
              "    </tr>\n",
              "    <tr>\n",
              "      <th>42</th>\n",
              "      <td>43</td>\n",
              "      <td>Denso</td>\n",
              "      <td>Japan</td>\n",
              "      <td>Automotive</td>\n",
              "      <td>4.21</td>\n",
              "    </tr>\n",
              "    <tr>\n",
              "      <th>43</th>\n",
              "      <td>44</td>\n",
              "      <td>SAP SE</td>\n",
              "      <td>Germany</td>\n",
              "      <td>Software and Internet</td>\n",
              "      <td>4.03</td>\n",
              "    </tr>\n",
              "    <tr>\n",
              "      <th>44</th>\n",
              "      <td>45</td>\n",
              "      <td>Gilead Sciences</td>\n",
              "      <td>United States</td>\n",
              "      <td>Health Care</td>\n",
              "      <td>3.73</td>\n",
              "    </tr>\n",
              "    <tr>\n",
              "      <th>45</th>\n",
              "      <td>46</td>\n",
              "      <td>Continental AG</td>\n",
              "      <td>Germany</td>\n",
              "      <td>Automotive</td>\n",
              "      <td>3.73</td>\n",
              "    </tr>\n",
              "    <tr>\n",
              "      <th>46</th>\n",
              "      <td>47</td>\n",
              "      <td>Boehringer Ingelheim</td>\n",
              "      <td>Germany</td>\n",
              "      <td>Health Care</td>\n",
              "      <td>3.69</td>\n",
              "    </tr>\n",
              "    <tr>\n",
              "      <th>47</th>\n",
              "      <td>48</td>\n",
              "      <td>Alibaba Group</td>\n",
              "      <td>China</td>\n",
              "      <td>Software and Internet</td>\n",
              "      <td>3.63</td>\n",
              "    </tr>\n",
              "    <tr>\n",
              "      <th>48</th>\n",
              "      <td>49</td>\n",
              "      <td>Amgen</td>\n",
              "      <td>United States</td>\n",
              "      <td>Health Care</td>\n",
              "      <td>3.56</td>\n",
              "    </tr>\n",
              "    <tr>\n",
              "      <th>49</th>\n",
              "      <td>50</td>\n",
              "      <td>Renault</td>\n",
              "      <td>France</td>\n",
              "      <td>Automotive</td>\n",
              "      <td>3.55</td>\n",
              "    </tr>\n",
              "  </tbody>\n",
              "</table>\n",
              "</div>"
            ],
            "text/plain": [
              "    Rank  ... Expenditures on R&D (billions of US$)\n",
              "0      1  ...                                 22.62\n",
              "1      2  ...                                 16.23\n",
              "2      3  ...                                 15.77\n",
              "3      4  ...                                 15.31\n",
              "4      5  ...                                 14.74\n",
              "5      6  ...                                 13.60\n",
              "6      7  ...                                 13.10\n",
              "7      8  ...                                 11.58\n",
              "8      9  ...                                 10.80\n",
              "9     10  ...                                 10.55\n",
              "10    11  ...                                 10.40\n",
              "11    12  ...                                 10.21\n",
              "12    13  ...                                 10.02\n",
              "13    14  ...                                  8.51\n",
              "14    15  ...                                  8.00\n",
              "15    16  ...                                  7.75\n",
              "16    17  ...                                  7.66\n",
              "17    18  ...                                  7.33\n",
              "18    19  ...                                  7.30\n",
              "19    20  ...                                  7.12\n",
              "20    21  ...                                  7.08\n",
              "21    22  ...                                  6.57\n",
              "22    23  ...                                  6.19\n",
              "23    24  ...                                  6.10\n",
              "24    25  ...                                  6.09\n",
              "25    26  ...                                  6.06\n",
              "26    27  ...                                  6.05\n",
              "27    28  ...                                  5.96\n",
              "28    29  ...                                  5.92\n",
              "29    30  ...                                  5.90\n",
              "30    31  ...                                  5.79\n",
              "31    32  ...                                  5.47\n",
              "32    33  ...                                  5.41\n",
              "33    34  ...                                  5.28\n",
              "34    35  ...                                  5.14\n",
              "35    36  ...                                  4.98\n",
              "36    37  ...                                  4.80\n",
              "37    38  ...                                  4.76\n",
              "38    39  ...                                  4.63\n",
              "39    40  ...                                  4.62\n",
              "40    41  ...                                  4.32\n",
              "41    42  ...                                  4.23\n",
              "42    43  ...                                  4.21\n",
              "43    44  ...                                  4.03\n",
              "44    45  ...                                  3.73\n",
              "45    46  ...                                  3.73\n",
              "46    47  ...                                  3.69\n",
              "47    48  ...                                  3.63\n",
              "48    49  ...                                  3.56\n",
              "49    50  ...                                  3.55\n",
              "\n",
              "[50 rows x 5 columns]"
            ]
          },
          "metadata": {
            "tags": []
          },
          "execution_count": 10
        }
      ]
    },
    {
      "cell_type": "markdown",
      "metadata": {
        "id": "B9s0aUxc0mgL"
      },
      "source": [
        "## Web Scrapping libraries"
      ]
    },
    {
      "cell_type": "markdown",
      "metadata": {
        "id": "CEPj9faM0zJn"
      },
      "source": [
        "In order to get the data from the Web with Python, we will require during the course of this lab to use the follwing two essential libraries:\n",
        "\n",
        "*  Requests (HTTP): retreives the web pages (html) to parse.\n",
        "\n",
        "*  Beautiful Soup (HTML Parsing): parses the html.\n",
        "\n",
        "Thanks to google colab, no specific environmental installation is needed to work on this lab. We can directly import the need libraries. \n",
        "Moreover, last week you were introduced with a very important library when it comes to EDA known as [Pandas](https://pandas.pydata.org/pandas-docs/version/0.15/tutorials.html). Dataframes and the allowed manipulations come in very handy for the analysis we shall conduct on the newly fetched Data. Therefore, we will continue using this library throughout this lab as well. If you feel like you are still not at ease with Pandas basic concepts, please refer to the previous documentation or ask one of the TAs. \n"
      ]
    },
    {
      "cell_type": "code",
      "metadata": {
        "id": "py3-Qcm_rmgh"
      },
      "source": [
        "# Import libraries\n",
        "import requests\n",
        "from bs4 import BeautifulSoup\n",
        "import pandas as pd\n",
        "import re \n"
      ],
      "execution_count": 11,
      "outputs": []
    },
    {
      "cell_type": "markdown",
      "metadata": {
        "id": "4k79JLnx28V9"
      },
      "source": [
        "## Retreiving the Data\n"
      ]
    },
    {
      "cell_type": "markdown",
      "metadata": {
        "id": "bketijLl3_zo"
      },
      "source": [
        ">In order to get started with webscrapping we must first make a [request](https://requests.readthedocs.io/en/master/user/quickstart/). In simple words, we will ask the server hosting the webpage we are interested in for its content.\n",
        "\n",
        "> In this laboratory, we will use the [Boat24.ch](https://www.boot24.ch/chde/motorboote/furtif-28-modele-unique/detail/463101/) by specifying its URL as parameter to the ``requests.get`` method. \n",
        "\n",
        "> We can check the status of our request using the library method ``status_code``. You can find more on the HTTP status code on this [link](https://en.wikipedia.org/wiki/List_of_HTTP_status_codes). A code of **200** means the HTTP request was successfuly completed. On the other hand, the response header display metadata aboug the request itself. You can see for yourself the details of the header running the next cell. \n",
        "\n"
      ]
    },
    {
      "cell_type": "code",
      "metadata": {
        "colab": {
          "base_uri": "https://localhost:8080/"
        },
        "id": "4YFEk6eAst0b",
        "outputId": "9b0d7197-b9d4-4a67-8023-e5b8493995d1"
      },
      "source": [
        "# Make the request\n",
        "r = requests.get('https://www.bateau24.ch/chfr/bateauxamoteur/furtif-28-modele-unique/detail/463101/')\n",
        "# Response content\n",
        "print('Response status code: {0}\\n'.format(r.status_code))\n",
        "print('Response headers: {0}\\n'.format(r.headers))\n"
      ],
      "execution_count": 12,
      "outputs": [
        {
          "output_type": "stream",
          "text": [
            "Response status code: 200\n",
            "\n",
            "Response headers: {'Date': 'Tue, 02 Mar 2021 17:49:33 GMT', 'Server': 'Apache', 'Expires': '0', 'Cache-Control': 'private, post-check=0, pre-check=0, max-age=0', 'Pragma': 'no-cache', 'X-Frame-Options': 'deny', 'Set-Cookie': 'domaincheck=1; expires=Wed, 02-Mar-2022 17:49:33 GMT; Max-Age=31536000; path=/; domain=.bateau24.ch, lan=chfr; expires=Wed, 02-Mar-2022 17:49:33 GMT; Max-Age=31536000; path=/; domain=.bateau24.ch, data=a%3A1%3A%7Bs%3A3%3A%22cat%22%3Ba%3A1%3A%7Bi%3A2%3Bi%3A1%3B%7D%7D; expires=Wed, 02-Mar-2022 17:49:33 GMT; Max-Age=31536000; path=/; domain=.bateau24.ch', 'Upgrade': 'h2', 'Connection': 'Upgrade, Keep-Alive', 'Vary': 'Accept-Encoding', 'Content-Encoding': 'gzip', 'Content-Length': '12006', 'Keep-Alive': 'timeout=4, max=256', 'Content-Type': 'text/html; charset=utf-8'}\n",
            "\n"
          ],
          "name": "stdout"
        }
      ]
    },
    {
      "cell_type": "markdown",
      "metadata": {
        "id": "w0GBTKBQ8XAX"
      },
      "source": [
        "Now, lets see the raw content of our request. The body of the response here will be in HTML since we are asking for a webpage. Different format such as  JSON or XML could also be imagined for web services."
      ]
    },
    {
      "cell_type": "code",
      "metadata": {
        "colab": {
          "base_uri": "https://localhost:8080/"
        },
        "id": "ULW1S7GM8VOg",
        "outputId": "147e6bd6-aa7b-4b33-b296-5f1f6eadbe6c"
      },
      "source": [
        "print('Response body: {0}'.format(r.text))\n"
      ],
      "execution_count": 13,
      "outputs": [
        {
          "output_type": "stream",
          "text": [
            "Response body: <!doctype html>\n",
            "<html class=\"no-js\" lang=\"fr\" data-lan=\"chfr\">\n",
            "<head>\n",
            "<meta charset=\"utf-8\">\n",
            "<meta http-equiv=\"X-UA-Compatible\" content=\"IE=edge\">\n",
            "<title>Furtif 28, modèle unique., 2020, 2h, CHF 295.000,- | bateau24.ch</title>\n",
            "<meta name=\"keywords\" content=\"furtif 28, mod&egrave;le unique.,bateau &agrave; console centrale,bateau &agrave; moteur,nouveau bateau disponible en stock,acheter\" />\n",
            "<meta name=\"description\" content=\"Furtif 28, mod&egrave;le unique. acheter - Ann&eacute;e de fabrication: 2020, Longueur: 9.00 m, Largeur: 2.80 m - Suivez ce lien pour plus de details, photos, informations et coordonnées : bateau24.ch (ID: 463101)\" />\n",
            "<meta name=\"revisit-after\" content=\"1 days\" />\n",
            "<meta name=\"page-topic\" content=\"Bateaux d'occasion, Bateaux\" />\n",
            "<meta name=\"page-type\" content=\"Annonces, Petites annonces\" />\n",
            "<meta name=\"audience\" content=\"all\" />\n",
            "<meta name=\"publisher\" content=\"bateau24.ch\" />\n",
            "<meta name=\"copyright\" content=\"bateau24.ch\" />\n",
            "<meta name=\"distribution\" content=\"global\" />\n",
            "<meta name=\"author\" content=\"bateau24.ch\" />\n",
            "<meta name=\"language\" content=\"fr\" />\n",
            "<meta name=\"country\" content=\"CH\" />\n",
            "<meta name=\"viewport\" content=\"width=device-width, initial-scale=1\">\n",
            "<meta name=\"robots\" content=\"index,follow,noodp\" />\n",
            "<meta property=\"fb:pages\" content=\"111820172182512\">\n",
            "<link rel=\"shortcut icon\" href=\"/favicon.ico\">\n",
            "<link rel=\"apple-touch-icon\" sizes=\"180x180\" href=\"/v/a012510/assets/favicons/apple-touch-icon.png\">\n",
            "<link rel=\"icon\" type=\"image/png\" sizes=\"32x32\" href=\"/v/a012510/assets/favicons/favicon-32x32.png\">\n",
            "<link rel=\"icon\" type=\"image/png\" sizes=\"16x16\" href=\"/v/a012510/assets/favicons/favicon-16x16.png\">\n",
            "<link rel=\"manifest\" href=\"/chfr/site.webmanifest\">\n",
            "<link rel=\"mask-icon\" href=\"/v/a012510/assets/favicons/safari-pinned-tab.svg\" color=\"#0073c0\">\n",
            "<link rel=\"shortcut icon\" href=\"/v/a012510/assets/favicons/favicon.ico\">\n",
            "<meta name=\"msapplication-TileColor\" content=\"#f5f5f6\">\n",
            "<meta name=\"msapplication-config\" content=\"/v/a012510/assets/favicons/browserconfig.xml\">\n",
            "<meta name=\"theme-color\" content=\"#ffffff\">\n",
            "<link rel=\"stylesheet\" href=\"/v/a012510/css/main.min.css\"><link rel=\"preload\" href=\"/v/a012510/fonts/source-sans-pro-v14-latin-regular.woff2\" as=\"font\" type=\"font/woff2\" crossorigin>\n",
            "<link rel=\"preload\" href=\"/v/a012510/fonts/source-sans-pro-v14-latin-700.woff2\" as=\"font\" type=\"font/woff2\" crossorigin>\n",
            "<link rel=\"preload\" href=\"/v/a012510/fonts/oswald-v35-latin-500.woff2\" as=\"font\" type=\"font/woff2\" crossorigin><script src=\"https://adnz.co/header.js?adTagId=121\"></script><link rel=\"alternate\" type=\"application/rss+xml\" title=\"bateau24.ch - Nouvelle annonces\" href=\"https://www.bateau24.ch/chfr/rss/latestAds.xml\">\n",
            "<link rel=\"canonical\" href=\"https://www.bateau24.ch/chfr/bateauxamoteur/furtif-28-modele-unique/detail/463101/\">\n",
            "<link rel=\"alternate\" hreflang=\"de\" href=\"https://www.boat24.com/de/motorboote/furtif-28-modele-unique/detail/463101/\">\n",
            "<link rel=\"alternate\" hreflang=\"de-AT\" href=\"https://www.boat24.com/at/motorboote/furtif-28-modele-unique/detail/463101/\">\n",
            "<link rel=\"alternate\" hreflang=\"it\" href=\"https://www.boat24.com/it/barcheamotore/furtif-28-modele-unique/detail/463101/\">\n",
            "<link rel=\"alternate\" hreflang=\"fr\" href=\"https://www.boat24.com/fr/bateauxamoteur/furtif-28-modele-unique/detail/463101/\">\n",
            "<link rel=\"alternate\" hreflang=\"es\" href=\"https://www.boat24.com/es/barcosamotor/furtif-28-modele-unique/detail/463101/\">\n",
            "<link rel=\"alternate\" hreflang=\"pt\" href=\"https://www.boat24.com/pt/barcosamotor/furtif-28-modele-unique/detail/463101/\">\n",
            "<link rel=\"alternate\" hreflang=\"nl\" href=\"https://www.boat24.com/nl/motorboten/furtif-28-modele-unique/detail/463101/\">\n",
            "<link rel=\"alternate\" hreflang=\"nl-BE\" href=\"https://www.boat24.com/bn/motorboten/furtif-28-modele-unique/detail/463101/\">\n",
            "<link rel=\"alternate\" hreflang=\"fr-BE\" href=\"https://www.boat24.com/bf/bateauxamoteur/furtif-28-modele-unique/detail/463101/\">\n",
            "<link rel=\"alternate\" hreflang=\"da\" href=\"https://www.boat24.com/dk/motorbade/furtif-28-modele-unique/detail/463101/\">\n",
            "<link rel=\"alternate\" hreflang=\"sv\" href=\"https://www.boat24.com/se/motorbatar/furtif-28-modele-unique/detail/463101/\">\n",
            "<link rel=\"alternate\" hreflang=\"no\" href=\"https://www.boat24.com/no/motorbater/furtif-28-modele-unique/detail/463101/\">\n",
            "<link rel=\"alternate\" hreflang=\"fi\" href=\"https://www.boat24.com/fi/moottoriveneet/furtif-28-modele-unique/detail/463101/\">\n",
            "<link rel=\"alternate\" hreflang=\"en-GB\" href=\"https://www.boat24.com/uk/powerboats/furtif-28-modele-unique/detail/463101/\">\n",
            "<link rel=\"alternate\" hreflang=\"en-CH\" href=\"https://www.boat24.ch/chen/powerboats/furtif-28-modele-unique/detail/463101/\">\n",
            "<link rel=\"alternate\" hreflang=\"it-CH\" href=\"https://www.barca24.ch/chit/barcheamotore/furtif-28-modele-unique/detail/463101/\">\n",
            "<link rel=\"alternate\" hreflang=\"fr-CH\" href=\"https://www.bateau24.ch/chfr/bateauxamoteur/furtif-28-modele-unique/detail/463101/\">\n",
            "<link rel=\"alternate\" hreflang=\"de-CH\" href=\"https://www.boot24.ch/chde/motorboote/furtif-28-modele-unique/detail/463101/\">\n",
            "<link rel=\"alternate\" hreflang=\"en\" href=\"https://www.boat24.com/en/powerboats/furtif-28-modele-unique/detail/463101/\">\n",
            "<link rel=\"alternate\" hreflang=\"x-default\" href=\"https://www.boat24.com/en/powerboats/furtif-28-modele-unique/detail/463101/\">\n",
            "<script type=\"application/ld+json\">{\"@context\":\"http:\\/\\/schema.org\",\"@graph\":[{\"@type\":\"Vehicle\",\"sku\":\"463101\",\"category\":{\"@type\":\"Thing\",\"name\":\"Bateau \\u00e0 moteur\",\"url\":\"https:\\/\\/www.bateau24.ch\\/chfr\\/bateauxamoteur\\/\"},\"name\":\"Furtif 28, mod\\u00e8le unique.\",\"description\":\"Bateau neuf, construction unique du chantier naval du Vieux Rh\\u00f4ne SA \\u00e0 Noville\\r\\nHomologation CE cat\\u00e9gorie C, 8 personnes + bagages.\\r\\nPlace de port possible au chantier naval du Vieux Rh\\u00f4ne\",\"material\":\"Bois\",\"productionDate\":\"2020\",\"image\":\"https:\\/\\/d196r9c7cfkkpm.cloudfront.net\\/thumbs\\/large\\/463101-1613370867.jpg\",\"offers\":[{\"@type\":\"Offer\",\"price\":\"295000\",\"priceCurrency\":\"CHF\",\"itemCondition\":\"NewCondition\",\"availability\":\"InStock\",\"url\":\"https:\\/\\/www.bateau24.ch\\/chfr\\/bateauxamoteur\\/furtif-28-modele-unique\\/detail\\/463101\\/\",\"offeredBy\":{\"@type\":\"Person\",\"name\":\"Monsieur Ries\",\"telephone\":\"\"}}],\"additionalType\":\"Product\",\"bodyType\":\"Bateau \\u00e0 console centrale\",\"color\":\"\",\"fuelType\":\"sans plomb\",\"vehicleEngine\":\"Mercury 1 x 350 cv \\/ 257 kW\"}]}</script><meta property=\"fb:app_id\" content=\"266441973484279\" />\n",
            "<meta property=\"og:site_name\" content=\"bateau24.ch\" />\n",
            "<meta property=\"og:type\" content=\"product\">\n",
            "<meta property=\"og:title\" content=\"Furtif 28, modèle unique.\">\n",
            "<meta property=\"og:description\" content=\"Ann&amp;eacute;e de fabrication: 2020, Longueur: 9.00 m, Largeur: 2.80 m\">\n",
            "<meta property=\"og:image\" content=\"https://d196r9c7cfkkpm.cloudfront.net/thumbs/xxlarge/463101-1613370867.jpg\">\n",
            "<meta property=\"og:url\" content=\"https://www.bateau24.ch/chfr/bateauxamoteur/furtif-28-modele-unique/detail/463101/\">\n",
            "<meta property=\"og:updated_time\" content=\"1613370867\">\n",
            "</head>\n",
            "<body id=\"body\" class=\"l-page\">\n",
            "    <header class=\"header\"><a href=\"https://www.bateau24.ch/chfr/\" title=\"March&eacute; &agrave; bateaux d&#039;occasion\" class=\"header__logo\" rel=\"home\"><img src=\"https://www.bateau24.ch/logos/logo_bateau24_ch.svg\" alt=\"bateau24.ch\" class=\"logo\"></a>\n",
            "<nav class=\"header__nav l-hide--md-d\"><ul class=\"header__nav-list\"><li class=\"header__nav-item\"><a href=\"https://www.bateau24.ch/chfr/bateauxdoccasion/\" title=\"achat d&#039;un bateau\" class=\"header__nav-link\">Acheter</a></li><li class=\"header__nav-item\"><a href=\"https://www.bateau24.ch/chfr/charter/\" title=\"Louer un bateau\" class=\"header__nav-link\">Louer</a></li><li class=\"header__nav-item\"><a href=\"https://www.bateau24.ch/chfr/vendre/\" title=\"Vendre un bateau\" class=\"header__nav-link\">Vendre</a></li><li class=\"header__nav-item\"><a href=\"https://www.bateau24.ch/chfr/dealers/infos/\" title=\"Accès professionnels\" class=\"header__nav-link\">Accès professionnels</a></li></ul></nav><div class=\"header__side\"><a href=\"https://www.bateau24.ch/chfr/user/favorites/\" class=\"header__favorites\" style=\"display: none\"><span class=\"header__favorites-text\">Favoris</span><span class=\"badge\">0</span></a><a href=\"https://www.bateau24.ch/chfr/user/\" title=\"S'inscrire\" class=\"header__login button l-hide--sm-d\">S'inscrire</a><button class=\"header__menu js-menu-trigger\" data-menu=\"mainmenu\"><span class=\"l-hide--sm-d\">Menu</span></button>\n",
            "<div class=\"menu js-menu\" data-menu=\"mainmenu\">\n",
            "\t<div class=\"menu__container\">\n",
            "\t\t<div class=\"menu__header\">\n",
            "\t\t\t<a href=\"https://www.bateau24.ch/chfr/\" title=\"March&eacute; &agrave; bateaux d&#039;occasion\" class=\"menu__logo\" rel=\"home\"><img src=\"https://www.bateau24.ch/logos/logo_bateau24_ch.svg\" alt=\"bateau24.ch\" class=\"logo\"></a>\n",
            "\t\t\t<button class=\"menu__close js-menu-trigger\" data-menu=\"mainmenu\"></button>\n",
            "\t\t</div>\n",
            "\t\t<div class=\"menu__search\">\n",
            "\t\t\t<div class=\"search search--menu\">\n",
            "\t\t\t\t<form action=\"https://www.bateau24.ch/chfr/bateauxdoccasion/\" method=\"POST\">\n",
            "\t\t\t\t\t<div class=\"search__field\">\n",
            "\t\t\t\t\t\t<input type=\"search\" name=\"src\" class=\"search__input\" placeholder=\"Recherche\">\n",
            "\t\t\t\t\t\t<button type=\"submit\" class=\"search__button button button--primary js-search-action\" title=\"Chercher\">\n",
            "\t\t\t\t\t\t\t<span class=\"icon icon--search\"></span>\n",
            "\t\t\t\t\t\t</button>\n",
            "\t\t\t\t\t</div>\n",
            "\t\t\t\t</form>\n",
            "\t\t\t\t<a href=\"https://www.bateau24.ch/chfr/chercher/\" title=\"Recherche détaillée\" class=\"link link--internal link--small l-mt-16\">Recherche détaillée</a>\t\t\t</div>\n",
            "\t\t</div>\n",
            "\t\t<div class=\"menu__content l-mt-32 l-mb-32\"><a href=\"https://www.bateau24.ch/chfr/vendre/\" title=\"Vendre\" class=\"button button--primary button--full-width\">Vendre</a></div><div class=\"menu__usernav menu__usernav--light\"><a href=\"https://www.bateau24.ch/chfr/user/\" title=\"S'inscrire\" class=\"button button--full-width\">S'inscrire</a></div><ul class=\"menu__list\"><li class=\"menu__list-item\"><a href=\"https://www.bateau24.ch/chfr/service/kaufvertrag_fuer_gebrauchtboote/\" title=\"Contrat-modèle\" class=\"menu__list-link\">Contrat-modèle</a></li><li class=\"menu__list-item\"><a href=\"https://www.bateau24.ch/chfr/schools/\" title=\"Écoles de navigation\" class=\"menu__list-link\">Écoles de navigation</a></li><li class=\"menu__list-item\"><a href=\"https://www.bateau24.ch/chfr/service/temperaturen/\" title=\"Température de l'eau\" class=\"menu__list-link\">Température de l'eau</a></li></ul><ul class=\"menu__list menu__list--alternative\"><li class=\"menu__list-item menu__list-item--submenu js-accordion\"><a href=\"https://www.bateau24.ch/chfr/bateauxamoteur/\" title=\"Bateaux &agrave; moteur\" class=\"menu__list-link\"><img src=\"/img/alpha.gif\" class=\"icon icon--bigger image--lazy lazyload\" data-src=\"/v/a012510/assets/icons/boat-types/large/type-2-406.svg\" alt=\"Bateaux &agrave; moteur\">Bateaux à moteur</a><span class=\"menu__list-accordion js-accordion-trigger\"></span><ul class=\"menu__list\"><li class=\"menu__list-item\"><a href=\"https://www.bateau24.ch/chfr/bateauxamoteur/bateau-a-cabine/?typ=821\" title=\"Bateau &agrave; cabine\" class=\"menu__list-link\"><img src=\"/img/alpha.gif\" class=\"icon icon--bigger image--lazy lazyload\" data-src=\"/v/a012510/assets/icons/boat-types/large/type-2-821.svg\" alt=\"Bateau &agrave; cabine\">Bateau à cabine</a></li><li class=\"menu__list-item\"><a href=\"https://www.bateau24.ch/chfr/bateauxamoteur/catamaran-a-moteur/?typ=823\" title=\"Catamaran &agrave; moteur\" class=\"menu__list-link\"><img src=\"/img/alpha.gif\" class=\"icon icon--bigger image--lazy lazyload\" data-src=\"/v/a012510/assets/icons/boat-types/large/type-2-823.svg\" alt=\"Catamaran &agrave; moteur\">Catamaran à moteur</a></li><li class=\"menu__list-item\"><a href=\"https://www.bateau24.ch/chfr/bateauxamoteur/yacht-a-moteur/?typ=824\" title=\"Yacht &agrave; moteur\" class=\"menu__list-link\"><img src=\"/img/alpha.gif\" class=\"icon icon--bigger image--lazy lazyload\" data-src=\"/v/a012510/assets/icons/boat-types/large/type-2-824.svg\" alt=\"Yacht &agrave; moteur\">Yacht à moteur</a></li><li class=\"menu__list-item\"><a href=\"https://www.bateau24.ch/chfr/bateauxamoteur/offshore/?typ=825\" title=\"Offshore\" class=\"menu__list-link\"><img src=\"/img/alpha.gif\" class=\"icon icon--bigger image--lazy lazyload\" data-src=\"/v/a012510/assets/icons/boat-types/large/type-2-825.svg\" alt=\"Offshore\">Offshore</a></li><li class=\"menu__list-item\"><a href=\"https://www.bateau24.ch/chfr/bateauxamoteur/runabout/?typ=826\" title=\"Runabout\" class=\"menu__list-link\"><img src=\"/img/alpha.gif\" class=\"icon icon--bigger image--lazy lazyload\" data-src=\"/v/a012510/assets/icons/boat-types/large/type-2-826.svg\" alt=\"Runabout\">Runabout</a></li><li class=\"menu__list-item\"><a href=\"https://www.bateau24.ch/chfr/bateauxamoteur/bateau-de-sport/?typ=827\" title=\"Bateau de sport\" class=\"menu__list-link\"><img src=\"/img/alpha.gif\" class=\"icon icon--bigger image--lazy lazyload\" data-src=\"/v/a012510/assets/icons/boat-types/large/type-2-827.svg\" alt=\"Bateau de sport\">Bateau de sport</a></li><li class=\"menu__list-item\"><a href=\"https://www.bateau24.ch/chfr/bateauxamoteur/pilothouse/?typ=2127\" title=\"Pilothouse\" class=\"menu__list-link\"><img src=\"/img/alpha.gif\" class=\"icon icon--bigger image--lazy lazyload\" data-src=\"/v/a012510/assets/icons/boat-types/large/type-2-2127.svg\" alt=\"Pilothouse\">Pilothouse</a></li><li class=\"menu__list-item\"><a href=\"https://www.bateau24.ch/chfr/bateauxamoteur/bowrider/?typ=2104\" title=\"Bowrider\" class=\"menu__list-link\"><img src=\"/img/alpha.gif\" class=\"icon icon--bigger image--lazy lazyload\" data-src=\"/v/a012510/assets/icons/boat-types/large/type-2-2104.svg\" alt=\"Bowrider\">Bowrider</a></li><li class=\"menu__list-item\"><a href=\"https://www.bateau24.ch/chfr/bateauxamoteur/deck-boat/?typ=2105\" title=\"Deck-boat\" class=\"menu__list-link\"><img src=\"/img/alpha.gif\" class=\"icon icon--bigger image--lazy lazyload\" data-src=\"/v/a012510/assets/icons/boat-types/large/type-2-2105.svg\" alt=\"Deck-boat\">Deck-boat</a></li><li class=\"menu__list-item\"><a href=\"https://www.bateau24.ch/chfr/bateauxamoteur/bateau-de-travail/?typ=562\" title=\"Bateau de travail\" class=\"menu__list-link\"><img src=\"/img/alpha.gif\" class=\"icon icon--bigger image--lazy lazyload\" data-src=\"/v/a012510/assets/icons/boat-types/large/type-2-562.svg\" alt=\"Bateau de travail\">Bateau de travail</a></li><li class=\"menu__list-item\"><a href=\"https://www.bateau24.ch/chfr/bateauxamoteur/bateau-de-pche/?typ=1919\" title=\"Bateau de p&ecirc;che\" class=\"menu__list-link\"><img src=\"/img/alpha.gif\" class=\"icon icon--bigger image--lazy lazyload\" data-src=\"/v/a012510/assets/icons/boat-types/large/type-2-1919.svg\" alt=\"Bateau de p&ecirc;che\">Bateau de pêche</a></li><li class=\"menu__list-item\"><a href=\"https://www.bateau24.ch/chfr/bateauxamoteur/bateau-a-deplacement/?typ=3493\" title=\"Bateau &agrave; d&eacute;placement\" class=\"menu__list-link\"><img src=\"/img/alpha.gif\" class=\"icon icon--bigger image--lazy lazyload\" data-src=\"/v/a012510/assets/icons/boat-types/large/type-2-3493.svg\" alt=\"Bateau &agrave; d&eacute;placement\">Bateau à déplacement</a></li><li class=\"menu__list-item\"><a href=\"https://www.bateau24.ch/chfr/bateauxamoteur/bateau-maison/?typ=2123\" title=\"Bateau-maison\" class=\"menu__list-link\"><img src=\"/img/alpha.gif\" class=\"icon icon--bigger image--lazy lazyload\" data-src=\"/v/a012510/assets/icons/boat-types/large/type-2-2123.svg\" alt=\"Bateau-maison\">Bateau-maison</a></li><li class=\"menu__list-item\"><a href=\"https://www.bateau24.ch/chfr/bateauxamoteur/flybridge/?typ=406\" title=\"Flybridge\" class=\"menu__list-link\"><img src=\"/img/alpha.gif\" class=\"icon icon--bigger image--lazy lazyload\" data-src=\"/v/a012510/assets/icons/boat-types/large/type-2-406.svg\" alt=\"Flybridge\">Flybridge</a></li><li class=\"menu__list-item\"><a href=\"https://www.bateau24.ch/chfr/bateauxamoteur/superyacht/?typ=2126\" title=\"Superyacht\" class=\"menu__list-link\"><img src=\"/img/alpha.gif\" class=\"icon icon--bigger image--lazy lazyload\" data-src=\"/v/a012510/assets/icons/boat-types/large/type-2-2126.svg\" alt=\"Superyacht\">Superyacht</a></li><li class=\"menu__list-item\"><a href=\"https://www.bateau24.ch/chfr/bateauxamoteur/bateau-ponton/?typ=2113\" title=\"Bateau ponton\" class=\"menu__list-link\"><img src=\"/img/alpha.gif\" class=\"icon icon--bigger image--lazy lazyload\" data-src=\"/v/a012510/assets/icons/boat-types/large/type-2-2113.svg\" alt=\"Bateau ponton\">Bateau ponton</a></li><li class=\"menu__list-item\"><a href=\"https://www.bateau24.ch/chfr/bateauxamoteur/hardtop/?typ=2665\" title=\"Hardtop\" class=\"menu__list-link\"><img src=\"/img/alpha.gif\" class=\"icon icon--bigger image--lazy lazyload\" data-src=\"/v/a012510/assets/icons/boat-types/large/type-2-2665.svg\" alt=\"Hardtop\">Hardtop</a></li><li class=\"menu__list-item\"><a href=\"https://www.bateau24.ch/chfr/bateauxamoteur/classiques/?typ=4545\" title=\"Classiques\" class=\"menu__list-link\"><img src=\"/img/alpha.gif\" class=\"icon icon--bigger image--lazy lazyload\" data-src=\"/v/a012510/assets/icons/boat-types/large/type-2-4545.svg\" alt=\"Classiques\">Classiques</a></li><li class=\"menu__list-item\"><a href=\"https://www.bateau24.ch/chfr/bateauxamoteur/bateau-a-console-centrale/?typ=2119\" title=\"Bateau &agrave; console centrale\" class=\"menu__list-link\"><img src=\"/img/alpha.gif\" class=\"icon icon--bigger image--lazy lazyload\" data-src=\"/v/a012510/assets/icons/boat-types/large/type-2-2119.svg\" alt=\"Bateau &agrave; console centrale\">Bateau à console centrale</a></li><li class=\"menu__list-item\"><a href=\"https://www.bateau24.ch/chfr/bateauxamoteur/navire-a-passagers/?typ=4551\" title=\"Navire &agrave; passagers\" class=\"menu__list-link\"><img src=\"/img/alpha.gif\" class=\"icon icon--bigger image--lazy lazyload\" data-src=\"/v/a012510/assets/icons/boat-types/large/type-2-4551.svg\" alt=\"Navire &agrave; passagers\">Navire à passagers</a></li><li class=\"menu__list-item\"><a href=\"https://www.bateau24.ch/chfr/bateauxamoteur/ski-nautique/?typ=4552\" title=\"Ski nautique\" class=\"menu__list-link\"><img src=\"/img/alpha.gif\" class=\"icon icon--bigger image--lazy lazyload\" data-src=\"/v/a012510/assets/icons/boat-types/large/type-2-4552.svg\" alt=\"Ski nautique\">Ski nautique</a></li><li class=\"menu__list-item\"><a href=\"https://www.bateau24.ch/chfr/bateauxamoteur/wakeboardwakesurf/?typ=4553\" title=\"Wakeboard/Wakesurf\" class=\"menu__list-link\"><img src=\"/img/alpha.gif\" class=\"icon icon--bigger image--lazy lazyload\" data-src=\"/v/a012510/assets/icons/boat-types/large/type-2-4553.svg\" alt=\"Wakeboard/Wakesurf\">Wakeboard/wakesurf</a></li><li class=\"menu__list-item\"><a href=\"https://www.bateau24.ch/chfr/bateauxamoteur/chaloupe/?typ=4562\" title=\"Chaloupe\" class=\"menu__list-link\"><img src=\"/img/alpha.gif\" class=\"icon icon--bigger image--lazy lazyload\" data-src=\"/v/a012510/assets/icons/boat-types/large/type-2-4562.svg\" alt=\"Chaloupe\">Chaloupe</a></li></ul></li><li class=\"menu__list-item menu__list-item--submenu js-accordion\"><a href=\"https://www.bateau24.ch/chfr/voiliers/\" title=\"Voiliers\" class=\"menu__list-link\"><img src=\"/img/alpha.gif\" class=\"icon icon--bigger image--lazy lazyload\" data-src=\"/v/a012510/assets/icons/boat-types/large/type-1-230.svg\" alt=\"Voiliers\">Voiliers</a><span class=\"menu__list-accordion js-accordion-trigger\"></span><ul class=\"menu__list\"><li class=\"menu__list-item\"><a href=\"https://www.bateau24.ch/chfr/voiliers/yacht-a-voile/?typ=230\" title=\"Yacht &agrave; voile\" class=\"menu__list-link\"><img src=\"/img/alpha.gif\" class=\"icon icon--bigger image--lazy lazyload\" data-src=\"/v/a012510/assets/icons/boat-types/large/type-1-230.svg\" alt=\"Yacht &agrave; voile\">Yacht à voile</a></li><li class=\"menu__list-item\"><a href=\"https://www.bateau24.ch/chfr/voiliers/catamaran/?typ=231\" title=\"Catamaran\" class=\"menu__list-link\"><img src=\"/img/alpha.gif\" class=\"icon icon--bigger image--lazy lazyload\" data-src=\"/v/a012510/assets/icons/boat-types/large/type-1-231.svg\" alt=\"Catamaran\">Catamaran</a></li><li class=\"menu__list-item\"><a href=\"https://www.bateau24.ch/chfr/voiliers/voilier-a-moteur-auxiliaire/?typ=232\" title=\"Voilier &agrave; moteur auxiliaire\" class=\"menu__list-link\"><img src=\"/img/alpha.gif\" class=\"icon icon--bigger image--lazy lazyload\" data-src=\"/v/a012510/assets/icons/boat-types/large/type-1-232.svg\" alt=\"Voilier &agrave; moteur auxiliaire\">Voilier à moteur auxiliaire</a></li><li class=\"menu__list-item\"><a href=\"https://www.bateau24.ch/chfr/voiliers/quillard/?typ=235\" title=\"Quillard\" class=\"menu__list-link\"><img src=\"/img/alpha.gif\" class=\"icon icon--bigger image--lazy lazyload\" data-src=\"/v/a012510/assets/icons/boat-types/large/type-1-235.svg\" alt=\"Quillard\">Quillard</a></li><li class=\"menu__list-item\"><a href=\"https://www.bateau24.ch/chfr/voiliers/deriveur-yole/?typ=236\" title=\"D&eacute;riveur / Yole\" class=\"menu__list-link\"><img src=\"/img/alpha.gif\" class=\"icon icon--bigger image--lazy lazyload\" data-src=\"/v/a012510/assets/icons/boat-types/large/type-1-236.svg\" alt=\"D&eacute;riveur / Yole\">Dériveur / yole</a></li><li class=\"menu__list-item\"><a href=\"https://www.bateau24.ch/chfr/voiliers/bateau-de-regate/?typ=566\" title=\"Bateau de r&eacute;gate\" class=\"menu__list-link\"><img src=\"/img/alpha.gif\" class=\"icon icon--bigger image--lazy lazyload\" data-src=\"/v/a012510/assets/icons/boat-types/large/type-1-566.svg\" alt=\"Bateau de r&eacute;gate\">Bateau de régate</a></li><li class=\"menu__list-item\"><a href=\"https://www.bateau24.ch/chfr/voiliers/trimaran/?typ=2577\" title=\"Trimaran\" class=\"menu__list-link\"><img src=\"/img/alpha.gif\" class=\"icon icon--bigger image--lazy lazyload\" data-src=\"/v/a012510/assets/icons/boat-types/large/type-1-2577.svg\" alt=\"Trimaran\">Trimaran</a></li><li class=\"menu__list-item\"><a href=\"https://www.bateau24.ch/chfr/voiliers/daysailer/?typ=2114\" title=\"Daysailer\" class=\"menu__list-link\"><img src=\"/img/alpha.gif\" class=\"icon icon--bigger image--lazy lazyload\" data-src=\"/v/a012510/assets/icons/boat-types/large/type-1-2114.svg\" alt=\"Daysailer\">Daysailer</a></li><li class=\"menu__list-item\"><a href=\"https://www.bateau24.ch/chfr/voiliers/flatboat/?typ=4193\" title=\"flatboat\" class=\"menu__list-link\"><img src=\"/img/alpha.gif\" class=\"icon icon--bigger image--lazy lazyload\" data-src=\"/v/a012510/assets/icons/boat-types/large/type-1-4193.svg\" alt=\"flatboat\">Flatboat</a></li><li class=\"menu__list-item\"><a href=\"https://www.bateau24.ch/chfr/voiliers/superyacht/?typ=2126\" title=\"Superyacht\" class=\"menu__list-link\"><img src=\"/img/alpha.gif\" class=\"icon icon--bigger image--lazy lazyload\" data-src=\"/v/a012510/assets/icons/boat-types/large/type-1-2126.svg\" alt=\"Superyacht\">Superyacht</a></li><li class=\"menu__list-item\"><a href=\"https://www.bateau24.ch/chfr/voiliers/ketch/?typ=390\" title=\"Ketch\" class=\"menu__list-link\"><img src=\"/img/alpha.gif\" class=\"icon icon--bigger image--lazy lazyload\" data-src=\"/v/a012510/assets/icons/boat-types/large/type-1-390.svg\" alt=\"Ketch\">Ketch</a></li><li class=\"menu__list-item\"><a href=\"https://www.bateau24.ch/chfr/voiliers/classiques/?typ=4545\" title=\"Classiques\" class=\"menu__list-link\"><img src=\"/img/alpha.gif\" class=\"icon icon--bigger image--lazy lazyload\" data-src=\"/v/a012510/assets/icons/boat-types/large/type-1-4545.svg\" alt=\"Classiques\">Classiques</a></li><li class=\"menu__list-item\"><a href=\"https://www.bateau24.ch/chfr/voiliers/goelette/?typ=4546\" title=\"Go&eacute;lette\" class=\"menu__list-link\"><img src=\"/img/alpha.gif\" class=\"icon icon--bigger image--lazy lazyload\" data-src=\"/v/a012510/assets/icons/boat-types/large/type-1-4546.svg\" alt=\"Go&eacute;lette\">Goélette</a></li><li class=\"menu__list-item\"><a href=\"https://www.bateau24.ch/chfr/voiliers/cockpit-central/?typ=4547\" title=\"Cockpit central\" class=\"menu__list-link\"><img src=\"/img/alpha.gif\" class=\"icon icon--bigger image--lazy lazyload\" data-src=\"/v/a012510/assets/icons/boat-types/large/type-1-4547.svg\" alt=\"Cockpit central\">Cockpit central</a></li><li class=\"menu__list-item\"><a href=\"https://www.bateau24.ch/chfr/voiliers/croisiere/?typ=4548\" title=\"Croisi&egrave;re\" class=\"menu__list-link\"><img src=\"/img/alpha.gif\" class=\"icon icon--bigger image--lazy lazyload\" data-src=\"/v/a012510/assets/icons/boat-types/large/type-1-4548.svg\" alt=\"Croisi&egrave;re\">Croisière</a></li><li class=\"menu__list-item\"><a href=\"https://www.bateau24.ch/chfr/voiliers/salon-de-pont/?typ=4555\" title=\"Salon de pont\" class=\"menu__list-link\"><img src=\"/img/alpha.gif\" class=\"icon icon--bigger image--lazy lazyload\" data-src=\"/v/a012510/assets/icons/boat-types/large/type-1-4555.svg\" alt=\"Salon de pont\">Salon de pont</a></li><li class=\"menu__list-item\"><a href=\"https://www.bateau24.ch/chfr/voiliers/deriveur-de-croisiere/?typ=4563\" title=\"D&eacute;riveur de croisi&egrave;re\" class=\"menu__list-link\"><img src=\"/img/alpha.gif\" class=\"icon icon--bigger image--lazy lazyload\" data-src=\"/v/a012510/assets/icons/boat-types/large/type-1-4563.svg\" alt=\"D&eacute;riveur de croisi&egrave;re\">Dériveur de croisière</a></li></ul></li><li class=\"menu__list-item menu__list-item--submenu js-accordion\"><a href=\"https://www.bateau24.ch/chfr/canotspneumatiques/\" title=\"Canots pneumatiques\" class=\"menu__list-link\"><img src=\"/img/alpha.gif\" class=\"icon icon--bigger image--lazy lazyload\" data-src=\"/v/a012510/assets/icons/boat-types/large/type-4-563.svg\" alt=\"Canots pneumatiques\">Canots pneumatiques</a><span class=\"menu__list-accordion js-accordion-trigger\"></span><ul class=\"menu__list\"><li class=\"menu__list-item\"><a href=\"https://www.bateau24.ch/chfr/canotspneumatiques/bateau-annexe/?typ=563\" title=\"Bateau annexe\" class=\"menu__list-link\"><img src=\"/img/alpha.gif\" class=\"icon icon--bigger image--lazy lazyload\" data-src=\"/v/a012510/assets/icons/boat-types/large/type-4-563.svg\" alt=\"Bateau annexe\">Bateau annexe</a></li><li class=\"menu__list-item\"><a href=\"https://www.bateau24.ch/chfr/canotspneumatiques/canot-pneumatique-a-coque-rigide/?typ=2103\" title=\"Canot pneumatique &agrave; coque rigide\" class=\"menu__list-link\"><img src=\"/img/alpha.gif\" class=\"icon icon--bigger image--lazy lazyload\" data-src=\"/v/a012510/assets/icons/boat-types/large/type-4-2103.svg\" alt=\"Canot pneumatique &agrave; coque rigide\">Canot pneumatique à coque rigide</a></li></ul></li><li class=\"menu__list-item menu__list-item--submenu js-accordion\"><a href=\"https://www.bateau24.ch/chfr/petitsbateaux/\" title=\"Petits bateaux\" class=\"menu__list-link\"><img src=\"/img/alpha.gif\" class=\"icon icon--bigger image--lazy lazyload\" data-src=\"/v/a012510/assets/icons/boat-types/large/type-5-3223.svg\" alt=\"Petits bateaux\">Petits bateaux</a><span class=\"menu__list-accordion js-accordion-trigger\"></span><ul class=\"menu__list\"><li class=\"menu__list-item\"><a href=\"https://www.bateau24.ch/chfr/petitsbateaux/bateau-annexe/?typ=563\" title=\"Bateau annexe\" class=\"menu__list-link\"><img src=\"/img/alpha.gif\" class=\"icon icon--bigger image--lazy lazyload\" data-src=\"/v/a012510/assets/icons/boat-types/large/type-5-563.svg\" alt=\"Bateau annexe\">Bateau annexe</a></li><li class=\"menu__list-item\"><a href=\"https://www.bateau24.ch/chfr/petitsbateaux/canoe/?typ=2307\" title=\"Cano&euml;\" class=\"menu__list-link\"><img src=\"/img/alpha.gif\" class=\"icon icon--bigger image--lazy lazyload\" data-src=\"/v/a012510/assets/icons/boat-types/large/type-5-2307.svg\" alt=\"Cano&euml;\">Canoë</a></li><li class=\"menu__list-item\"><a href=\"https://www.bateau24.ch/chfr/petitsbateaux/bateau-a-rame/?typ=3223\" title=\"Bateau &agrave; rame\" class=\"menu__list-link\"><img src=\"/img/alpha.gif\" class=\"icon icon--bigger image--lazy lazyload\" data-src=\"/v/a012510/assets/icons/boat-types/large/type-5-3223.svg\" alt=\"Bateau &agrave; rame\">Bateau à rame</a></li><li class=\"menu__list-item\"><a href=\"https://www.bateau24.ch/chfr/petitsbateaux/jet-ski/?typ=2111\" title=\"Jet-Ski\" class=\"menu__list-link\"><img src=\"/img/alpha.gif\" class=\"icon icon--bigger image--lazy lazyload\" data-src=\"/v/a012510/assets/icons/boat-types/large/type-5-2111.svg\" alt=\"Jet-Ski\">Jet-ski</a></li><li class=\"menu__list-item\"><a href=\"https://www.bateau24.ch/chfr/petitsbateaux/pedalo/?typ=4554\" title=\"P&eacute;dalo\" class=\"menu__list-link\"><img src=\"/img/alpha.gif\" class=\"icon icon--bigger image--lazy lazyload\" data-src=\"/v/a012510/assets/icons/boat-types/large/type-5-4554.svg\" alt=\"P&eacute;dalo\">Pédalo</a></li></ul></li><li class=\"menu__list-item menu__list-item--submenu js-accordion\"><a href=\"https://www.bateau24.ch/chfr/remorques/\" title=\"Remorques\" class=\"menu__list-link\"><img src=\"/img/alpha.gif\" class=\"icon icon--bigger image--lazy lazyload\" data-src=\"/v/a012510/assets/icons/boat-types/large/type-7-679.svg\" alt=\"Remorques\">Remorques</a><span class=\"menu__list-accordion js-accordion-trigger\"></span><ul class=\"menu__list\"><li class=\"menu__list-item\"><a href=\"https://www.bateau24.ch/chfr/remorques/un-essieu/?typ=677\" title=\"un essieu\" class=\"menu__list-link\"><img src=\"/img/alpha.gif\" class=\"icon icon--bigger image--lazy lazyload\" data-src=\"/v/a012510/assets/icons/boat-types/large/type-7-677.svg\" alt=\"un essieu\">Un essieu</a></li><li class=\"menu__list-item\"><a href=\"https://www.bateau24.ch/chfr/remorques/tandem/?typ=679\" title=\"Tandem\" class=\"menu__list-link\"><img src=\"/img/alpha.gif\" class=\"icon icon--bigger image--lazy lazyload\" data-src=\"/v/a012510/assets/icons/boat-types/large/type-7-679.svg\" alt=\"Tandem\">Tandem</a></li><li class=\"menu__list-item\"><a href=\"https://www.bateau24.ch/chfr/remorques/trois-essieux/?typ=676\" title=\"trois essieux\" class=\"menu__list-link\"><img src=\"/img/alpha.gif\" class=\"icon icon--bigger image--lazy lazyload\" data-src=\"/v/a012510/assets/icons/boat-types/large/type-7-676.svg\" alt=\"trois essieux\">Trois essieux</a></li><li class=\"menu__list-item\"><a href=\"https://www.bateau24.ch/chfr/remorques/remorque-de-port/?typ=678\" title=\"Remorque de port\" class=\"menu__list-link\"><img src=\"/img/alpha.gif\" class=\"icon icon--bigger image--lazy lazyload\" data-src=\"/v/a012510/assets/icons/boat-types/large/type-7-678.svg\" alt=\"Remorque de port\">Remorque de port</a></li><li class=\"menu__list-item\"><a href=\"https://www.bateau24.ch/chfr/remorques/remorque-dhivernage/?typ=681\" title=\"Remorque d&#039;hivernage\" class=\"menu__list-link\"><img src=\"/img/alpha.gif\" class=\"icon icon--bigger image--lazy lazyload\" data-src=\"/v/a012510/assets/icons/boat-types/large/type-7-681.svg\" alt=\"Remorque d&#039;hivernage\">Remorque d'hivernage</a></li></ul></li><li class=\"menu__list-item menu__list-item--submenu js-accordion\"><a href=\"https://www.bateau24.ch/chfr/moteurs/\" title=\"Moteurs\" class=\"menu__list-link\"><img src=\"/img/alpha.gif\" class=\"icon icon--bigger image--lazy lazyload\" data-src=\"/v/a012510/assets/icons/boat-types/large/type-8-352.svg\" alt=\"Moteurs\">Moteurs</a><span class=\"menu__list-accordion js-accordion-trigger\"></span><ul class=\"menu__list\"><li class=\"menu__list-item\"><a href=\"https://www.bateau24.ch/chfr/moteurs/hors-bord/?typ=352\" title=\"Hors-bord\" class=\"menu__list-link\"><img src=\"/img/alpha.gif\" class=\"icon icon--bigger image--lazy lazyload\" data-src=\"/v/a012510/assets/icons/boat-types/large/type-8-352.svg\" alt=\"Hors-bord\">Hors-bord</a></li><li class=\"menu__list-item\"><a href=\"https://www.bateau24.ch/chfr/moteurs/moteur-inboard/?typ=1313\" title=\"Moteur inboard\" class=\"menu__list-link\"><img src=\"/img/alpha.gif\" class=\"icon icon--bigger image--lazy lazyload\" data-src=\"/v/a012510/assets/icons/boat-types/large/type-8-1313.svg\" alt=\"Moteur inboard\">Moteur inboard</a></li></ul></li><li class=\"menu__list-item menu__list-item--submenu js-accordion\"><a href=\"https://www.bateau24.ch/chfr/placesdamarrage/\" title=\"Places d&#039;amarrage\" class=\"menu__list-link\"><img src=\"/img/alpha.gif\" class=\"icon icon--bigger image--lazy lazyload\" data-src=\"/v/a012510/assets/icons/boat-types/large/type-9-4559.svg\" alt=\"Places d&#039;amarrage\">Places d'amarrage</a><span class=\"menu__list-accordion js-accordion-trigger\"></span><ul class=\"menu__list\"><li class=\"menu__list-item\"><a href=\"https://www.bateau24.ch/chfr/placesdamarrage/hangar-chauffe/?typ=1346\" title=\"Hangar chauff&eacute;\" class=\"menu__list-link\"><img src=\"/img/alpha.gif\" class=\"icon icon--bigger image--lazy lazyload\" data-src=\"/v/a012510/assets/icons/boat-types/large/type-9-1346.svg\" alt=\"Hangar chauff&eacute;\">Hangar chauffé</a></li><li class=\"menu__list-item\"><a href=\"https://www.bateau24.ch/chfr/placesdamarrage/hangar-non-chauffe/?typ=1347\" title=\"Hangar non chauff&eacute;\" class=\"menu__list-link\"><img src=\"/img/alpha.gif\" class=\"icon icon--bigger image--lazy lazyload\" data-src=\"/v/a012510/assets/icons/boat-types/large/type-9-1347.svg\" alt=\"Hangar non chauff&eacute;\">Hangar non chauffé</a></li><li class=\"menu__list-item\"><a href=\"https://www.bateau24.ch/chfr/placesdamarrage/hangar-pour-bateaux/?typ=1342\" title=\"Hangar pour bateaux\" class=\"menu__list-link\"><img src=\"/img/alpha.gif\" class=\"icon icon--bigger image--lazy lazyload\" data-src=\"/v/a012510/assets/icons/boat-types/large/type-9-1342.svg\" alt=\"Hangar pour bateaux\">Hangar pour bateaux</a></li><li class=\"menu__list-item\"><a href=\"https://www.bateau24.ch/chfr/placesdamarrage/jetee/?typ=4557\" title=\"Jet&eacute;e\" class=\"menu__list-link\"><img src=\"/img/alpha.gif\" class=\"icon icon--bigger image--lazy lazyload\" data-src=\"/v/a012510/assets/icons/boat-types/large/type-9-4557.svg\" alt=\"Jet&eacute;e\">Jetée</a></li><li class=\"menu__list-item\"><a href=\"https://www.bateau24.ch/chfr/placesdamarrage/amarrage/?typ=4558\" title=\"Amarrage\" class=\"menu__list-link\"><img src=\"/img/alpha.gif\" class=\"icon icon--bigger image--lazy lazyload\" data-src=\"/v/a012510/assets/icons/boat-types/large/type-9-4558.svg\" alt=\"Amarrage\">Amarrage</a></li><li class=\"menu__list-item\"><a href=\"https://www.bateau24.ch/chfr/placesdamarrage/amarrage-a-une-bouee/?typ=1993\" title=\"Amarrage &agrave; une bou&eacute;e\" class=\"menu__list-link\"><img src=\"/img/alpha.gif\" class=\"icon icon--bigger image--lazy lazyload\" data-src=\"/v/a012510/assets/icons/boat-types/large/type-9-1993.svg\" alt=\"Amarrage &agrave; une bou&eacute;e\">Amarrage à une bouée</a></li><li class=\"menu__list-item\"><a href=\"https://www.bateau24.ch/chfr/placesdamarrage/dept-exterieur/?typ=1340\" title=\"D&eacute;p&ocirc;t ext&eacute;rieur\" class=\"menu__list-link\"><img src=\"/img/alpha.gif\" class=\"icon icon--bigger image--lazy lazyload\" data-src=\"/v/a012510/assets/icons/boat-types/large/type-9-1340.svg\" alt=\"D&eacute;p&ocirc;t ext&eacute;rieur\">Dépôt extérieur</a></li><li class=\"menu__list-item\"><a href=\"https://www.bateau24.ch/chfr/placesdamarrage/ponton/?typ=4549\" title=\"Ponton\" class=\"menu__list-link\"><img src=\"/img/alpha.gif\" class=\"icon icon--bigger image--lazy lazyload\" data-src=\"/v/a012510/assets/icons/boat-types/large/type-9-4549.svg\" alt=\"Ponton\">Ponton</a></li><li class=\"menu__list-item\"><a href=\"https://www.bateau24.ch/chfr/placesdamarrage/emplacement/?typ=1352\" title=\"Emplacement\" class=\"menu__list-link\"><img src=\"/img/alpha.gif\" class=\"icon icon--bigger image--lazy lazyload\" data-src=\"/v/a012510/assets/icons/boat-types/large/type-9-1352.svg\" alt=\"Emplacement\">Emplacement</a></li><li class=\"menu__list-item\"><a href=\"https://www.bateau24.ch/chfr/placesdamarrage/dauphins/?typ=4559\" title=\"Dauphins\" class=\"menu__list-link\"><img src=\"/img/alpha.gif\" class=\"icon icon--bigger image--lazy lazyload\" data-src=\"/v/a012510/assets/icons/boat-types/large/type-9-4559.svg\" alt=\"Dauphins\">Dauphins</a></li></ul></li><li class=\"menu__list-item menu__list-item--submenu js-accordion\"><a href=\"https://www.bateau24.ch/chfr/accessoires/\" title=\"Accessoires\" class=\"menu__list-link\"><img src=\"/img/alpha.gif\" class=\"icon icon--bigger image--lazy lazyload\" data-src=\"/v/a012510/assets/icons/boat-types/large/type-12-1823.svg\" alt=\"Accessoires\">Accessoires</a><span class=\"menu__list-accordion js-accordion-trigger\"></span><ul class=\"menu__list\"><li class=\"menu__list-item\"><a href=\"https://www.bateau24.ch/chfr/accessoires/systeme-electronique-de-bord/?typ=1656\" title=\"Syst&egrave;me &eacute;lectronique de bord\" class=\"menu__list-link\"><img src=\"/img/alpha.gif\" class=\"icon icon--bigger image--lazy lazyload\" data-src=\"/v/a012510/assets/icons/boat-types/large/type-12-1656.svg\" alt=\"Syst&egrave;me &eacute;lectronique de bord\">Système électronique de bord</a></li><li class=\"menu__list-item\"><a href=\"https://www.bateau24.ch/chfr/accessoires/piece-de-rechange/?typ=1981\" title=\"Pi&egrave;ce de rechange\" class=\"menu__list-link\"><img src=\"/img/alpha.gif\" class=\"icon icon--bigger image--lazy lazyload\" data-src=\"/v/a012510/assets/icons/boat-types/large/type-12-1981.svg\" alt=\"Pi&egrave;ce de rechange\">Pièce de rechange</a></li><li class=\"menu__list-item\"><a href=\"https://www.bateau24.ch/chfr/accessoires/autre/?typ=1134\" title=\"Autre\" class=\"menu__list-link\"><img src=\"/img/alpha.gif\" class=\"icon icon--bigger image--lazy lazyload\" data-src=\"/v/a012510/assets/icons/boat-types/large/type-12-1134.svg\" alt=\"Autre\">Autre</a></li><li class=\"menu__list-item\"><a href=\"https://www.bateau24.ch/chfr/accessoires/voilure/?typ=3868\" title=\"Voilure\" class=\"menu__list-link\"><img src=\"/img/alpha.gif\" class=\"icon icon--bigger image--lazy lazyload\" data-src=\"/v/a012510/assets/icons/boat-types/large/type-12-3868.svg\" alt=\"Voilure\">Voilure</a></li><li class=\"menu__list-item\"><a href=\"https://www.bateau24.ch/chfr/accessoires/securite/?typ=1823\" title=\"S&eacute;curit&eacute;\" class=\"menu__list-link\"><img src=\"/img/alpha.gif\" class=\"icon icon--bigger image--lazy lazyload\" data-src=\"/v/a012510/assets/icons/boat-types/large/type-12-1823.svg\" alt=\"S&eacute;curit&eacute;\">Sécurité</a></li><li class=\"menu__list-item\"><a href=\"https://www.bateau24.ch/chfr/accessoires/ferrures/?typ=1824\" title=\"Ferrures\" class=\"menu__list-link\"><img src=\"/img/alpha.gif\" class=\"icon icon--bigger image--lazy lazyload\" data-src=\"/v/a012510/assets/icons/boat-types/large/type-12-1824.svg\" alt=\"Ferrures\">Ferrures</a></li><li class=\"menu__list-item\"><a href=\"https://www.bateau24.ch/chfr/accessoires/vtements/?typ=1825\" title=\"V&ecirc;tements\" class=\"menu__list-link\"><img src=\"/img/alpha.gif\" class=\"icon icon--bigger image--lazy lazyload\" data-src=\"/v/a012510/assets/icons/boat-types/large/type-12-1825.svg\" alt=\"V&ecirc;tements\">Vêtements</a></li><li class=\"menu__list-item\"><a href=\"https://www.bateau24.ch/chfr/accessoires/ski-nautique-wakeboard/?typ=1826\" title=\"Ski nautique / Wakeboard\" class=\"menu__list-link\"><img src=\"/img/alpha.gif\" class=\"icon icon--bigger image--lazy lazyload\" data-src=\"/v/a012510/assets/icons/boat-types/large/type-12-1826.svg\" alt=\"Ski nautique / Wakeboard\">Ski nautique / wakeboard</a></li><li class=\"menu__list-item\"><a href=\"https://www.bateau24.ch/chfr/accessoires/accessoires-pour-moteur/?typ=1827\" title=\"Accessoires pour moteur\" class=\"menu__list-link\"><img src=\"/img/alpha.gif\" class=\"icon icon--bigger image--lazy lazyload\" data-src=\"/v/a012510/assets/icons/boat-types/large/type-12-1827.svg\" alt=\"Accessoires pour moteur\">Accessoires pour moteur</a></li></ul></li></ul>\t</div>\n",
            "</div></div></header><div class=\"sticky-header js-sticky\" data-sticky-trigger=\"#sticky-header-trigger\"><a class=\"sticky-header__back-link\" onclick=\"history.back()\"></a><a href=\"https://www.bateau24.ch/chfr/\" title=\"Accueil\" class=\"sticky-header__logo\"><img src=\"/v/a012510/assets/images/boat24-logo-compact.svg\" alt=\"bateau24.ch\" class=\"logo\"></a><p class=\"sticky-header__title\">Furtif 28, modèle unique.</p><div class=\"sticky-header__divider\"></div><nav class=\"sticky-header__nav\"><ul class=\"list list--horizontal list--divider js-scrollspy\"><li><a href=\"#images\">Photos</a></li><li><a href=\"#specs\">Caractéristiques</a></li><li><a href=\"#location\">Emplacement</a></li><li><a href=\"#description\">Remarques</a></li><li><a href=\"#equipment\">Équipement</a></li></ul></nav><div class=\"sticky-header__button button-group button-group--row\"><a class=\"sticky-header__button button button--primary button--small\" href=\"#contact\">Contact</a></div><div class=\"sticky-header__side\"><ul class=\"sticky-header__pagelinks pagelinks\">\n",
            "                <li class=\"pagelinks__item\"><a href=\"#\" class=\"pagelinks__link js-toggle-favorite\" data-id=\"463101\" data-type=\"ads\" data-notifications-title=\"Furtif 28, mod&egrave;le unique.\" data-notifications-message=\"Ajout&eacute; &agrave; vos favoris\" data-notifications-picture=\"https://d196r9c7cfkkpm.cloudfront.net/thumbs/small/463101-1613370867.jpg\"><span class=\"icon icon--star\"></span><span class=\"pagelinks__text\">Favori</span></a></li>\n",
            "                <li class=\"pagelinks__item\"><a href=\"https://www.bateau24.ch/chfr/src/share/463101/\" title=\"partager\" class=\"pagelinks__link\"><span class=\"icon icon--share\"></span><span class=\"pagelinks__text\">Partager</span></a></li>\n",
            "            </ul><a href=\"#body\" class=\"sticky-header__top-link\" title=\"vers le haut\"></a></div></div><main class=\"l-page__main\"><section class=\"l-section\"><div class=\"l-section__content l-section__content--full-width l-mt-24 l-mb-16\"><div class=\"slider slider--hero is-loading\" id=\"images\"><div class=\"slider__wrapper js-slider\" data-gallery=\"detail\"><ul class=\"slider__slides js-slider-slides\"><li class=\"slider__slide js-slider-slide\" data-image-id=\"image1\"><img src=\"https://d196r9c7cfkkpm.cloudfront.net/fotos/medium/463101-4652193b3e56ee526f0bb21d34959a44.jpg\" data-srcset=\"https://d196r9c7cfkkpm.cloudfront.net/fotos/medium/463101-4652193b3e56ee526f0bb21d34959a44.jpg 480w, https://d196r9c7cfkkpm.cloudfront.net/fotos/large/463101-4652193b3e56ee526f0bb21d34959a44-ch.jpg 800w, https://d196r9c7cfkkpm.cloudfront.net/fotos/xlarge/463101-4652193b3e56ee526f0bb21d34959a44-ch.jpg 1280w\" data-sizes=\"auto\" class=\"slider__image image image--lazy lazyload\" width=\"480\" height=\"480\" alt=\"Furtif 28, mod&egrave;le unique.\"></li><li class=\"slider__slide js-slider-slide\" data-image-id=\"image2\"><img src=\"https://d196r9c7cfkkpm.cloudfront.net/fotos/medium/463101-291558ed37374375683dc1bef4b40a20.jpg\" data-srcset=\"https://d196r9c7cfkkpm.cloudfront.net/fotos/medium/463101-291558ed37374375683dc1bef4b40a20.jpg 480w, https://d196r9c7cfkkpm.cloudfront.net/fotos/large/463101-291558ed37374375683dc1bef4b40a20-ch.jpg 800w, https://d196r9c7cfkkpm.cloudfront.net/fotos/xlarge/463101-291558ed37374375683dc1bef4b40a20-ch.jpg 1280w\" data-sizes=\"auto\" class=\"slider__image image image--lazy lazyload\" width=\"480\" height=\"480\" alt=\"Furtif 28, mod&egrave;le unique.\"></li><li class=\"slider__slide js-slider-slide\" data-image-id=\"image3\"><img src=\"https://d196r9c7cfkkpm.cloudfront.net/fotos/medium/463101-0b684328577b17881cf2e54a1f189b79.jpg\" data-srcset=\"https://d196r9c7cfkkpm.cloudfront.net/fotos/medium/463101-0b684328577b17881cf2e54a1f189b79.jpg 480w, https://d196r9c7cfkkpm.cloudfront.net/fotos/large/463101-0b684328577b17881cf2e54a1f189b79-ch.jpg 800w, https://d196r9c7cfkkpm.cloudfront.net/fotos/xlarge/463101-0b684328577b17881cf2e54a1f189b79-ch.jpg 1280w\" data-sizes=\"auto\" class=\"slider__image image image--lazy lazyload\" width=\"480\" height=\"480\" alt=\"Furtif 28, mod&egrave;le unique.\"></li><li class=\"slider__slide js-slider-slide\" data-image-id=\"image4\"><img src=\"https://d196r9c7cfkkpm.cloudfront.net/fotos/medium/463101-79f0edc0ae31352e0ff5ed9c441c47d8.jpg\" data-srcset=\"https://d196r9c7cfkkpm.cloudfront.net/fotos/medium/463101-79f0edc0ae31352e0ff5ed9c441c47d8.jpg 480w, https://d196r9c7cfkkpm.cloudfront.net/fotos/large/463101-79f0edc0ae31352e0ff5ed9c441c47d8-ch.jpg 800w, https://d196r9c7cfkkpm.cloudfront.net/fotos/xlarge/463101-79f0edc0ae31352e0ff5ed9c441c47d8-ch.jpg 1280w\" data-sizes=\"auto\" class=\"slider__image image image--lazy lazyload\" width=\"480\" height=\"480\" alt=\"Furtif 28, mod&egrave;le unique.\"></li><li class=\"slider__slide js-slider-slide\" data-image-id=\"image5\"><img src=\"https://d196r9c7cfkkpm.cloudfront.net/fotos/medium/463101-ef7d377a44a153bec3b95b896c8de706.jpg\" data-srcset=\"https://d196r9c7cfkkpm.cloudfront.net/fotos/medium/463101-ef7d377a44a153bec3b95b896c8de706.jpg 480w, https://d196r9c7cfkkpm.cloudfront.net/fotos/large/463101-ef7d377a44a153bec3b95b896c8de706-ch.jpg 800w, https://d196r9c7cfkkpm.cloudfront.net/fotos/xlarge/463101-ef7d377a44a153bec3b95b896c8de706-ch.jpg 1280w\" data-sizes=\"auto\" class=\"slider__image image image--lazy lazyload\" width=\"480\" height=\"480\" alt=\"Furtif 28, mod&egrave;le unique.\"></li><li class=\"slider__slide js-slider-slide\" data-image-id=\"image6\"><img src=\"https://d196r9c7cfkkpm.cloudfront.net/fotos/medium/463101-2d1f433fb0eea59d20e5799d69fd22e5.jpg\" data-srcset=\"https://d196r9c7cfkkpm.cloudfront.net/fotos/medium/463101-2d1f433fb0eea59d20e5799d69fd22e5.jpg 480w, https://d196r9c7cfkkpm.cloudfront.net/fotos/large/463101-2d1f433fb0eea59d20e5799d69fd22e5-ch.jpg 800w, https://d196r9c7cfkkpm.cloudfront.net/fotos/xlarge/463101-2d1f433fb0eea59d20e5799d69fd22e5-ch.jpg 1280w\" data-sizes=\"auto\" class=\"slider__image image image--lazy lazyload\" width=\"480\" height=\"480\" alt=\"Furtif 28, mod&egrave;le unique.\"></li><li class=\"slider__slide js-slider-slide\" data-image-id=\"image7\"><img src=\"https://d196r9c7cfkkpm.cloudfront.net/fotos/medium/463101-7ff90359223ba9c3523f90c50bd6682a.jpg\" data-srcset=\"https://d196r9c7cfkkpm.cloudfront.net/fotos/medium/463101-7ff90359223ba9c3523f90c50bd6682a.jpg 480w, https://d196r9c7cfkkpm.cloudfront.net/fotos/large/463101-7ff90359223ba9c3523f90c50bd6682a-ch.jpg 800w, https://d196r9c7cfkkpm.cloudfront.net/fotos/xlarge/463101-7ff90359223ba9c3523f90c50bd6682a-ch.jpg 1280w\" data-sizes=\"auto\" class=\"slider__image image image--lazy lazyload\" width=\"480\" height=\"480\" alt=\"Furtif 28, mod&egrave;le unique.\"></li><li class=\"slider__slide js-slider-slide\" data-image-id=\"image8\"><img src=\"https://d196r9c7cfkkpm.cloudfront.net/fotos/medium/463101-1119c4895031b1971d92db763a2b0927.jpg\" data-srcset=\"https://d196r9c7cfkkpm.cloudfront.net/fotos/medium/463101-1119c4895031b1971d92db763a2b0927.jpg 480w, https://d196r9c7cfkkpm.cloudfront.net/fotos/large/463101-1119c4895031b1971d92db763a2b0927-ch.jpg 800w, https://d196r9c7cfkkpm.cloudfront.net/fotos/xlarge/463101-1119c4895031b1971d92db763a2b0927-ch.jpg 1280w\" data-sizes=\"auto\" class=\"slider__image image image--lazy lazyload\" width=\"480\" height=\"480\" alt=\"Furtif 28, mod&egrave;le unique.\"></li><li class=\"slider__slide js-slider-slide\" data-image-id=\"image9\"><img src=\"https://d196r9c7cfkkpm.cloudfront.net/fotos/medium/463101-46240d15c4422b15a716e797b4b06b39.jpg\" data-srcset=\"https://d196r9c7cfkkpm.cloudfront.net/fotos/medium/463101-46240d15c4422b15a716e797b4b06b39.jpg 480w, https://d196r9c7cfkkpm.cloudfront.net/fotos/large/463101-46240d15c4422b15a716e797b4b06b39-ch.jpg 800w, https://d196r9c7cfkkpm.cloudfront.net/fotos/xlarge/463101-46240d15c4422b15a716e797b4b06b39-ch.jpg 1280w\" data-sizes=\"auto\" class=\"slider__image image image--lazy lazyload\" width=\"480\" height=\"480\" alt=\"Furtif 28, mod&egrave;le unique.\"></li><li class=\"slider__slide js-slider-slide\" data-image-id=\"image10\"><img src=\"https://d196r9c7cfkkpm.cloudfront.net/fotos/medium/463101-26dd7ee2909b0fb2b130dfdbc93eec55.jpg\" data-srcset=\"https://d196r9c7cfkkpm.cloudfront.net/fotos/medium/463101-26dd7ee2909b0fb2b130dfdbc93eec55.jpg 480w, https://d196r9c7cfkkpm.cloudfront.net/fotos/large/463101-26dd7ee2909b0fb2b130dfdbc93eec55-ch.jpg 800w, https://d196r9c7cfkkpm.cloudfront.net/fotos/xlarge/463101-26dd7ee2909b0fb2b130dfdbc93eec55-ch.jpg 1280w\" data-sizes=\"auto\" class=\"slider__image image image--lazy lazyload\" width=\"480\" height=\"480\" alt=\"Furtif 28, mod&egrave;le unique.\"></li></ul><div class=\"slider__slide-prev js-slider-previous\">précédent</div><div class=\"slider__slide-next js-slider-next\">suivant</div></div></div><div class=\"gallery js-gallery\" id=\"js-gallery-detail\"><div class=\"gallery__ui\"><button class=\"button button--primary js-gallery-contact\">Contact</button><button class=\"button button--opaque js-gallery-close\">fermer</button></div><div class=\"gallery__content\"><ul class=\"gallery__slides\"><li class=\"gallery__slide\"><figure><img src=\"data:image/svg+xml;base64,PHN2ZyB4bWxucz0iaHR0cDovL3d3dy53My5vcmcvMjAwMC9zdmciIHdpZHRoPSI4NTEiIGhlaWdodD0iMTI4MCIgdmlld0JveD0iMCAwIDg1MSAxMjgwIj48L3N2Zz4=\" data-src=\"https://d196r9c7cfkkpm.cloudfront.net/fotos/xlarge/463101-4652193b3e56ee526f0bb21d34959a44-ch.jpg\" class=\"gallery__image image--lazy lazyload\" id=\"image1\" alt=\"Furtif 28, mod&egrave;le unique.\"></figure></li><li class=\"gallery__slide\"><figure><img src=\"data:image/svg+xml;base64,PHN2ZyB4bWxucz0iaHR0cDovL3d3dy53My5vcmcvMjAwMC9zdmciIHdpZHRoPSIxMjgwIiBoZWlnaHQ9Ijg1MSIgdmlld0JveD0iMCAwIDEyODAgODUxIj48L3N2Zz4=\" data-src=\"https://d196r9c7cfkkpm.cloudfront.net/fotos/xlarge/463101-291558ed37374375683dc1bef4b40a20-ch.jpg\" class=\"gallery__image image--lazy lazyload\" id=\"image2\" alt=\"Furtif 28, mod&egrave;le unique.\"></figure></li><li class=\"gallery__slide\"><figure><img src=\"data:image/svg+xml;base64,PHN2ZyB4bWxucz0iaHR0cDovL3d3dy53My5vcmcvMjAwMC9zdmciIHdpZHRoPSIxMjgwIiBoZWlnaHQ9Ijg1MSIgdmlld0JveD0iMCAwIDEyODAgODUxIj48L3N2Zz4=\" data-src=\"https://d196r9c7cfkkpm.cloudfront.net/fotos/xlarge/463101-0b684328577b17881cf2e54a1f189b79-ch.jpg\" class=\"gallery__image image--lazy lazyload\" id=\"image3\" alt=\"Furtif 28, mod&egrave;le unique.\"></figure></li><li class=\"gallery__slide\"><figure><img src=\"data:image/svg+xml;base64,PHN2ZyB4bWxucz0iaHR0cDovL3d3dy53My5vcmcvMjAwMC9zdmciIHdpZHRoPSIxMjgwIiBoZWlnaHQ9Ijg1MSIgdmlld0JveD0iMCAwIDEyODAgODUxIj48L3N2Zz4=\" data-src=\"https://d196r9c7cfkkpm.cloudfront.net/fotos/xlarge/463101-79f0edc0ae31352e0ff5ed9c441c47d8-ch.jpg\" class=\"gallery__image image--lazy lazyload\" id=\"image4\" alt=\"Furtif 28, mod&egrave;le unique.\"></figure></li><li class=\"gallery__slide\"><figure><img src=\"data:image/svg+xml;base64,PHN2ZyB4bWxucz0iaHR0cDovL3d3dy53My5vcmcvMjAwMC9zdmciIHdpZHRoPSIxMjgwIiBoZWlnaHQ9Ijg1MSIgdmlld0JveD0iMCAwIDEyODAgODUxIj48L3N2Zz4=\" data-src=\"https://d196r9c7cfkkpm.cloudfront.net/fotos/xlarge/463101-ef7d377a44a153bec3b95b896c8de706-ch.jpg\" class=\"gallery__image image--lazy lazyload\" id=\"image5\" alt=\"Furtif 28, mod&egrave;le unique.\"></figure></li><li class=\"gallery__slide\"><figure><img src=\"data:image/svg+xml;base64,PHN2ZyB4bWxucz0iaHR0cDovL3d3dy53My5vcmcvMjAwMC9zdmciIHdpZHRoPSIxMjgwIiBoZWlnaHQ9Ijg1MSIgdmlld0JveD0iMCAwIDEyODAgODUxIj48L3N2Zz4=\" data-src=\"https://d196r9c7cfkkpm.cloudfront.net/fotos/xlarge/463101-2d1f433fb0eea59d20e5799d69fd22e5-ch.jpg\" class=\"gallery__image image--lazy lazyload\" id=\"image6\" alt=\"Furtif 28, mod&egrave;le unique.\"></figure></li><li class=\"gallery__slide\"><figure><img src=\"data:image/svg+xml;base64,PHN2ZyB4bWxucz0iaHR0cDovL3d3dy53My5vcmcvMjAwMC9zdmciIHdpZHRoPSIxMjgwIiBoZWlnaHQ9Ijg1MSIgdmlld0JveD0iMCAwIDEyODAgODUxIj48L3N2Zz4=\" data-src=\"https://d196r9c7cfkkpm.cloudfront.net/fotos/xlarge/463101-7ff90359223ba9c3523f90c50bd6682a-ch.jpg\" class=\"gallery__image image--lazy lazyload\" id=\"image7\" alt=\"Furtif 28, mod&egrave;le unique.\"></figure></li><li class=\"gallery__slide\"><figure><img src=\"data:image/svg+xml;base64,PHN2ZyB4bWxucz0iaHR0cDovL3d3dy53My5vcmcvMjAwMC9zdmciIHdpZHRoPSIxMjgwIiBoZWlnaHQ9Ijg1MSIgdmlld0JveD0iMCAwIDEyODAgODUxIj48L3N2Zz4=\" data-src=\"https://d196r9c7cfkkpm.cloudfront.net/fotos/xlarge/463101-1119c4895031b1971d92db763a2b0927-ch.jpg\" class=\"gallery__image image--lazy lazyload\" id=\"image8\" alt=\"Furtif 28, mod&egrave;le unique.\"></figure></li><li class=\"gallery__slide\"><figure><img src=\"data:image/svg+xml;base64,PHN2ZyB4bWxucz0iaHR0cDovL3d3dy53My5vcmcvMjAwMC9zdmciIHdpZHRoPSIxMjgwIiBoZWlnaHQ9Ijg1MSIgdmlld0JveD0iMCAwIDEyODAgODUxIj48L3N2Zz4=\" data-src=\"https://d196r9c7cfkkpm.cloudfront.net/fotos/xlarge/463101-46240d15c4422b15a716e797b4b06b39-ch.jpg\" class=\"gallery__image image--lazy lazyload\" id=\"image9\" alt=\"Furtif 28, mod&egrave;le unique.\"></figure></li><li class=\"gallery__slide\"><figure><img src=\"data:image/svg+xml;base64,PHN2ZyB4bWxucz0iaHR0cDovL3d3dy53My5vcmcvMjAwMC9zdmciIHdpZHRoPSIxMjgwIiBoZWlnaHQ9Ijg1MSIgdmlld0JveD0iMCAwIDEyODAgODUxIj48L3N2Zz4=\" data-src=\"https://d196r9c7cfkkpm.cloudfront.net/fotos/xlarge/463101-26dd7ee2909b0fb2b130dfdbc93eec55-ch.jpg\" class=\"gallery__image image--lazy lazyload\" id=\"image10\" alt=\"Furtif 28, mod&egrave;le unique.\"></figure></li></ul></div></div></div><div class=\"l-section__content l-mt-16 l-mb-24\"><ul class=\"pagelinks\"><li class=\"pagelinks__item\"><span class=\"pagelinks__link h-cursor--pointer js-toggle-favorite\" data-id=\"463101\" data-type=\"ads\" data-notifications-title=\"Furtif 28, mod&egrave;le unique.\" data-notifications-message=\"Ajout&eacute; &agrave; vos favoris\" data-notifications-picture=\"https://d196r9c7cfkkpm.cloudfront.net/thumbs/small/463101-1613370867.jpg\"><span class=\"icon icon--star\"></span>Favori</span></li><li class=\"pagelinks__item\"><span data-link=\"/pdf/ins/463101.chfr.pdf\" data-target=\"blank\" class=\"pagelinks__link js-link\" title=\"imprimer l&#039;annonce\"><span class=\"icon icon--print\"></span>PDF</span></li><li class=\"pagelinks__item\"><span data-link=\"https://www.bateau24.ch/chfr/src/share/463101/\" class=\"js-link pagelinks__link\" title=\"Partager l&#039;annonce\"><span class=\"icon icon--share\"></span>Partager</span></li><li class=\"pagelinks__item\"><span data-link=\"https://www.bateau24.ch/chfr/src/report/463101/\" class=\"js-link pagelinks__link\" title=\"signaler une annonce suspecte\"><span class=\"icon icon--report\"></span>Signaler</span></li></ul></div></section><section class=\"l-section l-mt-24 l-mb-96\" id=\"sticky-header-trigger\"><div class=\"l-section__content\"><div class=\"l-grid l-grid--main-side\"><div><div id=\"specs\"><header class=\"heading heading--page l-mb-32\"><p class=\"heading__title-header\">Nouveau bateau disponible en stock, <a href=\"https://www.bateau24.ch/chfr/bateauxamoteur/bateau-a-console-centrale/?typ=2119\" title=\"Bateau à console centrale\">Bateau à console centrale</a></p><h1 class=\"heading__title\">Furtif 28, modèle unique.</h1><p class=\"heading__subtitle\">Furtif 28, modèle unique en cp époxy, place de port possible</p></header><ul class=\"list l-mb-24 l-hide--md-u\"><li><span class=\"list__value list__value--large\">CHF 295.000,-</span><span class=\"list__key\"></span></li></ul><ul class=\"list\"><li><span class=\"list__value\">2020</span><span class=\"list__key\">année de fabrication</span></li>\n",
            "<li><span class=\"list__value\">neuf</span><span class=\"list__key\">état</span></li>\n",
            "</ul><ul class=\"list l-mt-16\">\n",
            "<li><span class=\"list__value\">9.00 m x 2.80 m</span><span class=\"list__key\">longueur x largeur</span></li>\n",
            "<li><span class=\"list__value\">1.00 m</span><span class=\"list__key\">tirant d'eau</span></li>\n",
            "<li><span class=\"list__value\">2'200 kg</span><span class=\"list__key\">déplacement</span></li>\n",
            "<li><span class=\"list__value\">C - Eaux côtières</span><span class=\"list__key\">catégorie de conception ce</span></li>\n",
            "<li><span class=\"list__value\">Bois</span><span class=\"list__key\">matériau</span></li>\n",
            "</ul><ul class=\"list l-mt-16\">\n",
            "<li><span class=\"list__value\">8 personnes</span><span class=\"list__key\">nombre de personnes admises</span></li>\n",
            "<li><span class=\"list__value\">1 cabine</span><span class=\"list__key\">nombre de cabines</span></li>\n",
            "<li><span class=\"list__value\">1 couchette</span><span class=\"list__key\">nombre de couchettes</span></li>\n",
            "<li><span class=\"list__value\">50 l Eau</span><span class=\"list__key\">réservoir d'eau douce</span></li>\n",
            "</ul><ul class=\"list l-mt-16\">\n",
            "<li><span class=\"list__value\">Hors-bord 4 temps</span><span class=\"list__key\">propulsion</span></li>\n",
            "<li><span class=\"list__value\">Mercury</span><span class=\"list__key\">moteur</span></li>\n",
            "<li><span class=\"list__value\">1 x 350 cv / 257 kW</span><span class=\"list__key\">puissance du moteur</span></li>\n",
            "<li><span class=\"list__value\">sans plomb</span><span class=\"list__key\">carburant</span></li>\n",
            "<li><span class=\"list__value\">250 l</span><span class=\"list__key\">réservoir de carburant</span></li>\n",
            "<li><span class=\"list__value\">2 h</span><span class=\"list__key\">heures moteur</span></li></ul><hr class=\"divider l-mt-32 l-mb-32\"></div><div id=\"location\"><h2 class=\"heading\"><span class=\"heading__icon icon icon--marker\"></span>Emplacement</h2><p class=\"text\">Suisse &raquo; Lac Léman &raquo; <strong>Chantier naval du Vieux Rhône, 1845 Noville</strong></p><p class=\"text l-mt-8\">Place d'amarrage disponible</p><hr class=\"divider l-mt-32 l-mb-32\"></div><div id=\"description\"><h2 class=\"heading\"><span class=\"heading__icon icon icon--text\"></span>Remarques</h2><div class=\"content\"><div class=\"content content--readmore js-readmore\" data-readmore-moretext=\"Continuer de lire\"><p class=\"text\">Bateau neuf, construction unique du chantier naval du Vieux Rh&ocirc;ne SA &agrave; Noville<br />\r\n",
            "Homologation CE cat&eacute;gorie C, 8 personnes + bagages.<br />\r\n",
            "Place de port possible au chantier naval du Vieux Rh&ocirc;ne</p><p><span data-link=\"http://www.chantier-naval-vieux-rhone.ch\" data-target=\"blank\" class=\"js-link link link--external\">Autres informations</span></p></div></div><hr class=\"divider l-mt-32 l-mb-32\"></div><div id=\"equipment\"><h2 class=\"heading\"><span class=\"heading__icon icon icon--compass\"></span>Équipement</h2><ul class=\"list list--space-8 l-columns l-columns--sm-2 l-columns--md-1 l-columns--lg-2 list--commas\"><li><span class=\"icon icon--bigger\" style=\"background-image: url('/v/a012510/assets/icons/equipment/473.svg')\"></span>Batterie</li><li><span class=\"icon icon--bigger\" style=\"background-image: url('/v/a012510/assets/icons/equipment/487.svg')\"></span>Ancre</li><li><span class=\"icon icon--bigger\" style=\"background-image: url('/v/a012510/assets/icons/equipment/528.svg')\"></span>Pompe de cale</li><li><span class=\"icon icon--bigger\" style=\"background-image: url('/v/a012510/assets/icons/equipment/3482.svg')\"></span>feux de navigation</li><li><span class=\"icon icon--bigger\" style=\"background-image: url('/v/a012510/assets/icons/equipment/531.svg')\"></span>Propulseur d'étrave</li><li><span class=\"icon icon--bigger\" style=\"background-image: url('/v/a012510/assets/icons/equipment/521.svg')\"></span>Installation d'eau sous pression</li><li><span class=\"icon icon--bigger\" style=\"background-image: url('/v/a012510/assets/icons/equipment/431.svg')\"></span>Ordinateur de bord</li><li><span class=\"icon icon--bigger\" style=\"background-image: url('/v/a012510/assets/icons/equipment/438.svg')\"></span>Compas</li><li><span class=\"icon icon--bigger\" style=\"background-image: url('/v/a012510/assets/icons/equipment/440.svg')\"></span>GPS</li><li><span class=\"icon icon--bigger\" style=\"background-image: url('/v/a012510/assets/icons/equipment/444.svg')\"></span>Traceur de cartes</li><li><span class=\"icon icon--bigger\" style=\"background-image: url('/v/a012510/assets/icons/equipment/2163.svg')\"></span>Sondeur</li><li><span class=\"icon icon--bigger\" style=\"background-image: url('/v/a012510/assets/icons/equipment/2294.svg')\"></span>Tachymètre</li><li><span class=\"icon icon--bigger\" style=\"background-image: url('/v/a012510/assets/icons/equipment/539.svg')\"></span>Glacière</li><li><span class=\"icon icon--bigger\" style=\"background-image: url('/v/a012510/assets/icons/equipment/464.svg')\"></span>Top Bimini</li><li><span class=\"icon icon--bigger\" style=\"background-image: url('/v/a012510/assets/icons/equipment/503.svg')\"></span>Échelle de bain</li><li><span class=\"icon icon--bigger\" style=\"background-image: url('/v/a012510/assets/icons/equipment/526.svg')\"></span>Douche de pont</li><li><span class=\"icon icon--bigger\" style=\"background-image: url('/v/a012510/assets/icons/equipment/533.svg')\"></span>Extincteur</li><li><span class=\"icon icon--bigger\" style=\"background-image: url('/v/a012510/assets/icons/equipment/556.svg')\"></span>Peinture sous-marine</li></ul><hr class=\"divider l-mt-32 l-mb-32\"></div><h2 class=\"heading\"><span class=\"heading__icon icon icon--special\"></span>Services</h2><ul class=\"list list--space-24\"><li class=\"l-media\"><p class=\"l-media__text\"><a href=\"https://www.bateau24.ch/chfr/allianz/offerte/463101/\" class=\"link\" rel=\"nofollow\" title=\"Allianz Suisse\"  onclick=\"gtag('event', 'click', {'event_category': 'powerlink', 'event_label': 'allianz', 'value': 0})\">Alliance Suisse - Assurances bateaux</a><br><span class=\"text--small\">Assurez votre bateau auprès du leader du marché.</span></p><img src=\"/img/alpha.gif\" data-src=\"https://www.bateau24.ch/img/powerlinks/allianz.png\" class=\"l-hide--xs-d lazyload\" alt=\"Allianz Suisse\" /></li></ul><hr class=\"divider l-mt-32 l-mb-32\"></div><aside><section class=\"contact-box l-mt-8 l-mb-32\"><div class=\"contact-box__price-section\" id=\"contact\"><div class=\"l-hide--sm-d\"><p class=\"contact-box__price\"><strong>CHF 295.000,-</strong></p><p class=\"contact-box__price-type\"></p></div><div class=\"l-hide--md-u l-media\"><img src=\"https://d196r9c7cfkkpm.cloudfront.net/thumbs/small/463101-1613370867.jpg\" width=\"120\" height=\"90\" class=\"l-media__media\" alt=\"Furtif 28, mod&egrave;le unique. Bateau à console centrale\" /><div class=\"l-media__text\"><h3 class=\"heading--paragraph\">Furtif 28, modèle unique.</h3><p class=\"text text--light\">CHF 295.000,-</p><p class=\"text text--light\">2020</p></div></div></div><div class=\"contact-box__contact-section\"><h2 class=\"contact-box__heading\">Vendeur</h2><p class=\"contact-box__seller\">Monsieur Ries<span class=\"contact-box__verified\"><span class=\"icon icon--verified\"></span>Vendeur vérifié</span></p><h3 class=\"heading heading--block\" id=\"contactform\">Formulaire de contact</h3><form method=\"post\" action=\"#contactform\"><div class=\"floating-label-field js-floating-label contact-box__field\"><input class=\"floating-label-field__input\" type=\"text\" name=\"name\" value=\"\" id=\"input-name\" ><label class=\"floating-label-field__label\" for=\"input-name\">Nom</label></div><div class=\"floating-label-field js-floating-label contact-box__field\"><input class=\"floating-label-field__input\" type=\"email\" name=\"phone\" value=\"\" id=\"input-phone\" ><label class=\"floating-label-field__label\" for=\"input-phone\">E-mail</label></div><div class=\"floating-label-field js-floating-label contact-box__field\"><input class=\"floating-label-field__input\" type=\"tel\" name=\"street\" value=\"\" id=\"input-street\" ><label class=\"floating-label-field__label\" for=\"input-street\">Téléphone</label></div><div class=\"floating-label-field js-floating-label contact-box__field l-mb-8\"><textarea class=\"floating-label-field__input\" name=\"message\" id=\"input-message\" rows=\"3\"></textarea><label class=\"floating-label-field__label\" for=\"input-message\">Message</label></div><p class=\"text text--small text--light\">Vous allez recevoir une copie de ce message par e-mail.</p><button type=\"submit\" name=\"contact\" class=\"button contact-box__submit button button--primary button--full-width l-mt-12\" >Envoyer</button></form><div class=\"l-mt-16\"><p class=\"text text--tiny text--light l-mb-8\">En soumettant ce formulaire, vos coordonnées seront transmises au vendeur de cette offre.</p><p class=\"text text--tiny text--light l-mb-8\">Le formulaire de contact ne peut pas être utilisé pour annoncer vos propres produits ou services.</p><p class=\"text text--tiny text--light l-mb-8\">Nos <a href=\"https://www.bateau24.ch/pdf/gtc/b2c.chfr.pdf\" class=\"link\" target=\"_blank\">CGV</a> s'appliquent.</p></div></div></section><section><h2 class=\"heading l-mb-16\">Infos</h2><ul class=\"list list--space-8\"><li>Identifiant: <strong>463101</strong></li><li>Publiée le: <strong>08.02.2021</strong></li><li>Nombre de vues depuis 7 jours: <strong>546</strong></li><li>Dans les favoris: de <strong>1</strong> personnes</li></ul><p class=\"l-mt-16 l-mb-32\"><a href=\"https://www.bateau24.ch/chfr/src/report/463101/\" title=\"Signaler une annonce suspecte\"><span class=\"link link--not-bold link--not-colored icon icon--report\"></span>Signaler une annonce suspecte</a></p><ul class=\"list list--space-8\"></ul></section></aside></div></div></section><section class=\"l-section l-section--shade l-pt-48 l-pb-96\"><div class=\"l-section__content\"><h2 class=\"heading\">Annonces similaires</h2><ul class=\"l-grid l-grid--lg-4 l-grid--xs-2\"><li><div class=\"blurb blurb--card blurb--singleline\"><div class=\"blurb__link-area js-link\" data-link=\"https://www.bateau24.ch/chfr/bateauxamoteur/chris-craft/chris-craft-catalina-30/detail/463495/\"><div class=\"blurb__image-area\"><figure class=\"blurb__image blurb__image--ratio-4-3\"><img src=\"/img/alpha.gif\" data-srcset=\"https://d196r9c7cfkkpm.cloudfront.net/thumbs/small/463495-1613370849.jpg 120w, https://d196r9c7cfkkpm.cloudfront.net/thumbs/large/463495-1613370849.jpg 240w, https://d196r9c7cfkkpm.cloudfront.net/thumbs/xlarge/463495-1613370849.jpg 480w\" data-sizes=\"auto\" alt=\"Chris Craft Catalina 30\" class=\"image image--lazy lazyload\"></figure></div><div class=\"blurb__main\"><p class=\"blurb__title-header\">Bateau à console centrale</p><h3 class=\"blurb__title blurb__title--small-margin\"><a href=\"https://www.bateau24.ch/chfr/bateauxamoteur/chris-craft/chris-craft-catalina-30/detail/463495/\" title=\"Chris Craft Catalina 30\" >Chris Craft Catalina 30</a></h3></div><aside class=\"blurb__side\"><p class=\"blurb__price\">CHF 350.000,-</p></aside></div></div></li><li><div class=\"blurb blurb--card blurb--singleline\"><div class=\"blurb__link-area js-link\" data-link=\"https://www.bateau24.ch/chfr/bateauxamoteur/de-antonio-yachts/de-antonio-yachts-d34-cruiser/detail/435166/\"><div class=\"blurb__image-area\"><figure class=\"blurb__image blurb__image--ratio-4-3\"><img src=\"/img/alpha.gif\" data-srcset=\"https://d196r9c7cfkkpm.cloudfront.net/fotos/thumbnail/435166-c003cad62e15e070405f41e477e1c84a.jpg 120w, https://d196r9c7cfkkpm.cloudfront.net/fotos/thumblarge/435166-c003cad62e15e070405f41e477e1c84a.jpg 240w, https://d196r9c7cfkkpm.cloudfront.net/fotos/medium/435166-c003cad62e15e070405f41e477e1c84a.jpg 480w, https://d196r9c7cfkkpm.cloudfront.net/fotos/large/435166-c003cad62e15e070405f41e477e1c84a-ch.jpg 800w\" data-sizes=\"auto\" alt=\"De Antonio Yachts D34 Cruiser\" class=\"image image--lazy lazyload\"></figure></div><div class=\"blurb__main\"><p class=\"blurb__title-header\">Bateau à console centrale</p><h3 class=\"blurb__title blurb__title--small-margin\"><a href=\"https://www.bateau24.ch/chfr/bateauxamoteur/de-antonio-yachts/de-antonio-yachts-d34-cruiser/detail/435166/\" title=\"De Antonio Yachts D34 Cruiser\" >De Antonio Yachts D34 Cruiser</a></h3></div><aside class=\"blurb__side\"><p class=\"blurb__price\">CHF 210.533,-</p></aside></div></div></li><li><div class=\"blurb blurb--card blurb--singleline\"><div class=\"blurb__link-area js-link\" data-link=\"https://www.bateau24.ch/chfr/bateauxamoteur/nuova-jolly/nuova-jolly-prince-38-cc/detail/463424/\"><div class=\"blurb__image-area\"><figure class=\"blurb__image blurb__image--ratio-4-3\"><img src=\"/img/alpha.gif\" data-srcset=\"https://d196r9c7cfkkpm.cloudfront.net/thumbs/small/463424-1613111227.jpg 120w, https://d196r9c7cfkkpm.cloudfront.net/thumbs/large/463424-1613111227.jpg 240w, https://d196r9c7cfkkpm.cloudfront.net/thumbs/xlarge/463424-1613111227.jpg 480w, https://d196r9c7cfkkpm.cloudfront.net/thumbs/xxlarge/463424-1613111227.jpg 960w\" data-sizes=\"auto\" alt=\"Nuova Jolly Prince 38 CC\" class=\"image image--lazy lazyload\"></figure></div><div class=\"blurb__main\"><p class=\"blurb__title-header\">Bateau à console centrale</p><h3 class=\"blurb__title blurb__title--small-margin\"><a href=\"https://www.bateau24.ch/chfr/bateauxamoteur/nuova-jolly/nuova-jolly-prince-38-cc/detail/463424/\" title=\"Nuova Jolly Prince 38 CC\" >Nuova Jolly Prince 38 CC</a></h3></div><aside class=\"blurb__side\"><p class=\"blurb__price\">CHF 210.000,-</p></aside></div></div></li><li><div class=\"blurb blurb--card blurb--singleline\"><div class=\"blurb__link-area js-link\" data-link=\"https://www.bateau24.ch/chfr/bateauxamoteur/de-antonio-yachts/de-antonio-yachts-d28-open/detail/330366/\"><div class=\"blurb__image-area\"><figure class=\"blurb__image blurb__image--ratio-4-3\"><img src=\"/img/alpha.gif\" data-srcset=\"https://d196r9c7cfkkpm.cloudfront.net/thumbs/small/330366-1516779432.jpg 120w, https://d196r9c7cfkkpm.cloudfront.net/thumbs/large/330366-1516779432.jpg 240w\" data-sizes=\"auto\" alt=\"De Antonio Yachts D28 Open\" class=\"image image--lazy lazyload\"></figure></div><div class=\"blurb__main\"><p class=\"blurb__title-header\">Bateau à console centrale</p><h3 class=\"blurb__title blurb__title--small-margin\"><a href=\"https://www.bateau24.ch/chfr/bateauxamoteur/de-antonio-yachts/de-antonio-yachts-d28-open/detail/330366/\" title=\"De Antonio Yachts D28 Open\" >De Antonio Yachts D28 Open</a></h3></div><aside class=\"blurb__side\"><p class=\"blurb__price\">CHF 195.200,-</p></aside></div></div></li></ul><ul class=\"list list--space-8 l-mt-48\"></ul></div></section><section class=\"l-section l-section--base is-dark l-pt-64 l-pb-96\"><div class=\"l-section__content\"><h2 class=\"heading\">Vous souhaitez vendre un bateau?</h2><a href=\"https://www.bateau24.ch/chfr/vendre/bateaumoteur/\" title=\"Vendre un bateau &agrave; moteur\" class=\"link link--internal l-mt-8\">Vendre un bateau à moteur</a></div></section><div class=\"ad ad--section l-pt-48 l-pb-48 sticky-max\" style=\"min-height: 196px\" id=\"adnz_leaderboard_2\"></div></main><footer class=\"footer sticky-max\"><div class=\"footer__breadcrumb l-section l-section--base\"><nav class=\"l-section__content l-pt-8 l-pb-8\"><ul class=\"footer__breadcrumb-list\" itemscope itemtype=\"https://schema.org/BreadcrumbList\"><li class=\"footer__breadcrumb-item\"><a href=\"https://www.bateau24.ch/chfr/\" class=\"footer__breadcrumb-link\">bateau24.ch</a></li><li class=\"footer__breadcrumb-item\" itemprop=\"itemListElement\" itemscope itemtype=\"https://schema.org/ListItem\"><a class=\"footer__breadcrumb-link\" itemscope itemtype=\"https://schema.org/WebPage\" itemprop=\"item\" itemid=\"https://www.bateau24.ch/chfr/bateauxamoteur/\" href=\"https://www.bateau24.ch/chfr/bateauxamoteur/\" title=\"Bateaux à moteur\"><span itemprop=\"name\">Bateaux à moteur</span></a><meta itemprop=\"position\" content=\"1\" /></li><li class=\"footer__breadcrumb-item is-selected\" itemprop=\"itemListElement\" itemscope itemtype=\"https://schema.org/ListItem\"><span class=\"footer__breadcrumb-link\" itemprop=\"name\">Furtif 28, modèle unique.</span><meta itemprop=\"position\" content=\"2\" /></li></ul></nav></div><div class=\"l-section l-section--shade\"><div class=\"l-section__content\"><section class=\"footer__main l-pt-48 l-pb-48\"><ul class=\"footer__columns\"><li class=\"footer__column\"><h3 class=\"footer__column-heading\">Pour les acheteurs</h3><ul><li><a href=\"https://www.bateau24.ch/chfr/chercher/\" title=\"Rechercher bateaux d&#039;occasion\" class=\"footer__link\">Recherche détaillée</a></li><li><a href=\"https://www.bateau24.ch/chfr/src/tests/\" title=\"Tests des yachts et des bateaux les plus r&eacute;cents\" class=\"footer__link\">Rapports d'essai</a></li><li><a href=\"https://www.bateau24.ch/chfr/sitemap/\" title=\"Fabricants de bateaux\" class=\"footer__link\">Fabricants de bateaux</a></li></ul></li><li class=\"footer__column\"><h3 class=\"footer__column-heading\">Pour les vendeurs</h3><ul><li><a href=\"https://www.bateau24.ch/chfr/user/newlisting/\" title=\"Vendre des bateaux d&#039;occasion\" class=\"footer__link\">Publier une annonce</a></li><li><a href=\"https://www.bateau24.ch/chfr/sell/pricing/\" title=\"Liste des prix\" class=\"footer__link\">Liste des prix</a></li><li><a href=\"https://www.bateau24.ch/chfr/src/archive/\" title=\"Archives des annonces\" class=\"footer__link\">Archives des annonces</a></li><li><a href=\"https://www.bateau24.ch/chfr/service/kaufvertrag_fuer_gebrauchtboote/\" title=\"Contrat de vente pour bateaux d&#039;occasion\" class=\"footer__link\">Contrat-modèle</a></li><li><a href=\"https://www.bateau24.ch/chfr/sell/feedbacks/\" title=\"Avis de nos clients\" class=\"footer__link\">Avis de nos clients</a></li></ul></li><li class=\"footer__column\"><h3 class=\"footer__column-heading\">Accès professionnels</h3><ul><li><a href=\"https://www.bateau24.ch/chfr/dealers/infos/\" title=\"infos sur le compte pro\" class=\"footer__link\">Compte pro</a></li><li><a href=\"https://www.bateau24.ch/chfr/dealers/pricing/\" title=\"Prix des abonnements\" class=\"footer__link\">Prix des abonnements</a></li><li><a href=\"https://www.bateau24.ch/chfr/professionnels/\" title=\"Liste\" class=\"footer__link\">Liste</a></li><li><span class=\"footer__link js-link\" data-link=\"https://login.boatvertizer.com/\" data-target=\"blank\">Accès professionnel</span></li></ul></li><li class=\"footer__column\"><h3 class=\"footer__column-heading\">Service</h3><ul><li><a href=\"https://www.bateau24.ch/chfr/about/ads/\" title=\"Publicité\" class=\"footer__link\">Publicité</a></li><li><a href=\"https://www.bateau24.ch/chfr/service/temperaturen/\" title=\"Temp&eacute;ratures de l&#039;eau\" class=\"footer__link\">Température de l'eau</a></li><li><a href=\"https://www.bateau24.ch/chfr/charter/\" title=\"Bateaux de location\" class=\"footer__link\">Bateaux de location</a></li><li><a href=\"https://www.bateau24.ch/chfr/schulen/\" title=\"Registre des &eacute;coles de navigation suisses\" class=\"footer__link\">Écoles de navigation</a></li><li><a href=\"https://www.bateau24.ch/chfr/service/events/\" title=\"Salons et événements\" class=\"footer__link\">Salons et événements</a></li></ul></li></ul></section><section class=\"footer__bottom l-pt-32 l-pb-32\"><a href=\"https://www.bateau24.ch/chfr/\" title=\"March&eacute; &agrave; bateaux d&#039;occasion\" class=\"footer__logo\" rel=\"home\"><img src=\"https://www.bateau24.ch/logos/logo_bateau24_ch.svg\" alt=\"bateau24.ch\" class=\"logo\"></a>\n",
            "             <nav class=\"footer__legal\">\n",
            "                \t<ul>\n",
            "                <li class=\"footer__legal-item\"><a href=\"https://www.bateau24.ch/chfr/about/\" title=\"Qui sommes-nous?\" class=\"footer__legal-link\">Qui sommes-nous?</a></li>\n",
            "<li class=\"footer__legal-item\"><a href=\"https://www.bateau24.ch/chfr/about/impressum/\" title=\"Mentions légales \" class=\"footer__legal-link\">Mentions légales </a></li>\n",
            "<li class=\"footer__legal-item\"><a href=\"https://www.bateau24.ch/chfr/about/privacy/\" title=\"Politique de protection des données personnelles\" class=\"footer__legal-link\">Politique de protection des données personnelles</a></li>\n",
            "<li class=\"footer__legal-item\"><a href=\"https://www.bateau24.ch/chfr/about/agb/\" title=\"CGV\" class=\"footer__legal-link\">CGV</a></li>\n",
            "<li class=\"footer__legal-item\"><a href=\"https://www.bateau24.ch/chfr/about/security/\" title=\"Conseils de sécurité\" class=\"footer__legal-link\">Conseils de sécurité</a></li>\n",
            "<li class=\"footer__legal-item\"><a href=\"https://www.bateau24.ch/chfr/sell/faq/\" title=\"FAQ\" class=\"footer__legal-link\">FAQ</a></li>\n",
            "<li class=\"footer__legal-item\"><a href=\"https://www.bateau24.ch/chfr/about/contact/\" title=\"Contact\" class=\"footer__legal-link\">Contact</a></li>\n",
            "                    </ul>\n",
            "                </nav>\n",
            "                <form class=\"footer__locale-switch\" action=\"#\">\n",
            "                \t<select name=\"locale\" id=\"locale\" class=\"dropdown\">\n",
            "                \t\t<option value=\"https://www.boot24.ch/chde/motorboote/furtif-28-modele-unique/detail/463101/\">Schweiz - deutsch</option>\n",
            "<option value=\"https://www.bateau24.ch/chfr/bateauxamoteur/furtif-28-modele-unique/detail/463101/\" selected>Suisse - fran&ccedil;ais</option>\n",
            "<option value=\"https://www.barca24.ch/chit/barcheamotore/furtif-28-modele-unique/detail/463101/\">Svizzera - italiano</option>\n",
            "<option value=\"https://www.boat24.ch/chen/powerboats/furtif-28-modele-unique/detail/463101/\">Switzerland - english</option>\n",
            "<option value=\"https://www.boat24.com/fr/bateauxamoteur/furtif-28-modele-unique/detail/463101/\">International</option>\n",
            "                \t</select>\n",
            "                </form>\n",
            "            </section>\n",
            "        </div>\n",
            "\t</div>\n",
            "</footer><script async src=\"https://www.googletagmanager.com/gtag/js?id=UA-486402-1\"></script>\n",
            "<script>\n",
            "window.dataLayer = window.dataLayer || [];\n",
            "function gtag(){dataLayer.push(arguments);}\n",
            "gtag('js', new Date());\n",
            "gtag('config', 'UA-486402-1', { 'page_path': '/chfr/src/detail/463101' });\n",
            "gtag('config', 'AW-1006457411');\n",
            "</script>\n",
            "<script data-main=\"/v/a012510/js-built/views/detail\" src=\"/v/a012510/js-built/require.min.js\"></script>\n",
            "</body>\n",
            "</html>\n",
            "\n"
          ],
          "name": "stdout"
        }
      ]
    },
    {
      "cell_type": "markdown",
      "metadata": {
        "id": "lSEkOX3k_Urr"
      },
      "source": [
        "## Parsing the Data"
      ]
    },
    {
      "cell_type": "markdown",
      "metadata": {
        "id": "-jv_Vnnc-HSk"
      },
      "source": [
        "Now as you can see, the HTTP response's body as it is, is hardly usable. Therefore, we rely on BeautifulSoup to parse the content to for further processings. Thus, we specify we need the html.parser. For more information, you can click [here](https://www.crummy.com/software/BeautifulSoup/bs4/doc/#installing-a-parser)\n",
        "\n",
        "BeatifulSoup, thanks to parsing the content, will allow us to conduct a series of different operations and commands that you will be discovering in the remaining part of this lab. Note that this library can be very powerfull and complete when it comes to parsing and manipulations, this overview is not meant to display all possible features offered by BeautifulSoup.\n"
      ]
    },
    {
      "cell_type": "code",
      "metadata": {
        "id": "v9eDztcDsxwx"
      },
      "source": [
        "page_body = r.text\n",
        "soup = BeautifulSoup(page_body, 'html.parser')\n"
      ],
      "execution_count": 14,
      "outputs": []
    },
    {
      "cell_type": "markdown",
      "metadata": {
        "id": "Avgq_l9sAgiG"
      },
      "source": [
        "For instance, you can very easily get the title of the page using ``soup.title``."
      ]
    },
    {
      "cell_type": "code",
      "metadata": {
        "colab": {
          "base_uri": "https://localhost:8080/"
        },
        "id": "1ge1IoVduZzy",
        "outputId": "556a3ba3-9911-4b2a-ce82-de3d843bd9cd"
      },
      "source": [
        "soup.title\n"
      ],
      "execution_count": 15,
      "outputs": [
        {
          "output_type": "execute_result",
          "data": {
            "text/plain": [
              "<title>Furtif 28, modèle unique., 2020, 2h, CHF 295.000,- | bateau24.ch</title>"
            ]
          },
          "metadata": {
            "tags": []
          },
          "execution_count": 15
        }
      ]
    },
    {
      "cell_type": "markdown",
      "metadata": {
        "id": "dtI-JGIQAs_R"
      },
      "source": [
        "Yet, this is stil in HTML format, therefore using the ``.string`` allows for a more conventional layout."
      ]
    },
    {
      "cell_type": "code",
      "metadata": {
        "colab": {
          "base_uri": "https://localhost:8080/",
          "height": 36
        },
        "id": "ENWhB2qaueGh",
        "outputId": "b77e5791-b223-48d0-cba6-82d8ea37e578"
      },
      "source": [
        "soup.title.string\n"
      ],
      "execution_count": 16,
      "outputs": [
        {
          "output_type": "execute_result",
          "data": {
            "application/vnd.google.colaboratory.intrinsic+json": {
              "type": "string"
            },
            "text/plain": [
              "'Furtif 28, modèle unique., 2020, 2h, CHF 295.000,- | bateau24.ch'"
            ]
          },
          "metadata": {
            "tags": []
          },
          "execution_count": 16
        }
      ]
    },
    {
      "cell_type": "markdown",
      "metadata": {
        "id": "MI6Mj7DaBAzQ"
      },
      "source": [
        "To go further with this laboratory and with Data retreival after parsing, some html notions are required. In essence, you should get acquainted with concepts like **HTML tags**. Several functions and manipulations allowed by beautifulSoup rely on the different tags (headers,divisions, paragraphs, classes, ids etc..) to retreive the data they contain. You can find more on HTML tags [here](https://www.w3schools.com/html/html_elements.asp).\n",
        "\n",
        "**Important** : All the manipulations that are performed bellow rely on a study of the HTML body of the repsonse. As it is specific to the website, it is fundamental to understand how to retreive the information and how where to get it from.  \n",
        "\n",
        "In the next cell, we use the \"`a`\" tag as it is generally used for website links embedding (combined with ``href``). \n",
        "\n",
        "``soup.find`` and ``soup.find_all`` will be extensively in this lab to navigate the data structure, please do not hesitate to refere to the correpsonding  [documentation](https://https://www.crummy.com/software/BeautifulSoup/bs4/doc/) for more information.\n"
      ]
    },
    {
      "cell_type": "code",
      "metadata": {
        "colab": {
          "base_uri": "https://localhost:8080/"
        },
        "id": "kZjmpyJLu--P",
        "outputId": "a6887142-4ce2-45ed-d970-6ccb2efd4343"
      },
      "source": [
        "links = soup.find_all('a')\n",
        "print('The webpage cointains {0} links...'.format(len(links)))"
      ],
      "execution_count": 17,
      "outputs": [
        {
          "output_type": "stream",
          "text": [
            "The webpage cointains 141 links...\n"
          ],
          "name": "stdout"
        }
      ]
    },
    {
      "cell_type": "markdown",
      "metadata": {
        "id": "6I8s5mzzEZb8"
      },
      "source": [
        "Analysis of the body can also allow us to easily retreive the purchase price. "
      ]
    },
    {
      "cell_type": "code",
      "metadata": {
        "colab": {
          "base_uri": "https://localhost:8080/",
          "height": 36
        },
        "id": "tOD0bt61hQSa",
        "outputId": "43176ec0-9865-430d-cc22-43a2d90c1ee7"
      },
      "source": [
        "price = soup.find_all('span',class_=\"list__value list__value--large\")\n",
        "price[0].text"
      ],
      "execution_count": 18,
      "outputs": [
        {
          "output_type": "execute_result",
          "data": {
            "application/vnd.google.colaboratory.intrinsic+json": {
              "type": "string"
            },
            "text/plain": [
              "'CHF 295.000,-'"
            ]
          },
          "metadata": {
            "tags": []
          },
          "execution_count": 18
        }
      ]
    },
    {
      "cell_type": "markdown",
      "metadata": {
        "id": "4quEHHOTEyx7"
      },
      "source": [
        "Another usefull concept of html on wich BeautifulSoup relies is the notion of children. In fact, in HTML, tags are often assembled as a serie of containers each containg other tags. It is typical of a documented object model structure, you can find more clicking on this link : [DOM](https://www.w3schools.com/whatis/whatis_htmldom.asp).\n",
        "\n",
        "Inspecting the page and using this notion led to the following commands to retreive the advertisment metadata. "
      ]
    },
    {
      "cell_type": "code",
      "metadata": {
        "colab": {
          "base_uri": "https://localhost:8080/"
        },
        "id": "YUbCOXNRkaB_",
        "outputId": "5658d8c2-c170-4363-f98d-fec92f18cfd5"
      },
      "source": [
        "t=soup.find(\"ul\",class_=\"list list--space-8\")\n",
        "\n",
        "for child in t.children:\n",
        "    print(child.text)"
      ],
      "execution_count": 19,
      "outputs": [
        {
          "output_type": "stream",
          "text": [
            "Identifiant: 463101\n",
            "Publiée le: 08.02.2021\n",
            "Nombre de vues depuis 7 jours: 546\n",
            "Dans les favoris: de 1 personnes\n"
          ],
          "name": "stdout"
        }
      ]
    },
    {
      "cell_type": "markdown",
      "metadata": {
        "id": "DsfdWpHYGR8_"
      },
      "source": [
        "Similarly, you can also retreive and display articles with their links worth consulting as they are similar to the boat we seem to be interested in. "
      ]
    },
    {
      "cell_type": "code",
      "metadata": {
        "id": "dCve6Z_rBC4_",
        "colab": {
          "base_uri": "https://localhost:8080/"
        },
        "outputId": "e9a1805a-0d78-4d15-db33-d716903f4378"
      },
      "source": [
        "t = soup.find_all(\"div\", class_=\"blurb__link-area js-link\")\n",
        "for link in t:\n",
        "    link_ = link.findAll('a', attrs={'href': re.compile(\"^https://\")})\n",
        "    print( \"Item : {0}, Link : {1}\".format( link_[0].text,link_[0].get('href') ))\n",
        "        "
      ],
      "execution_count": 20,
      "outputs": [
        {
          "output_type": "stream",
          "text": [
            "Item : Chris Craft Catalina 30, Link : https://www.bateau24.ch/chfr/bateauxamoteur/chris-craft/chris-craft-catalina-30/detail/463495/\n",
            "Item : De Antonio Yachts D34 Cruiser, Link : https://www.bateau24.ch/chfr/bateauxamoteur/de-antonio-yachts/de-antonio-yachts-d34-cruiser/detail/435166/\n",
            "Item : Nuova Jolly Prince 38 CC, Link : https://www.bateau24.ch/chfr/bateauxamoteur/nuova-jolly/nuova-jolly-prince-38-cc/detail/463424/\n",
            "Item : De Antonio Yachts D28 Open, Link : https://www.bateau24.ch/chfr/bateauxamoteur/de-antonio-yachts/de-antonio-yachts-d28-open/detail/330366/\n"
          ],
          "name": "stdout"
        }
      ]
    },
    {
      "cell_type": "markdown",
      "metadata": {
        "id": "20eb7zBIHdp5"
      },
      "source": [
        "Now, we are interesting in getting the description for our boat, to that end, we first retreived the according section in the page. "
      ]
    },
    {
      "cell_type": "code",
      "metadata": {
        "colab": {
          "base_uri": "https://localhost:8080/"
        },
        "id": "M34oni74fBJQ",
        "outputId": "154d7e9f-54d0-43ff-c8db-92b32ec988fc"
      },
      "source": [
        "informations = soup.find_all(\"ul\",class_=\"list l-mt-16\")\n",
        "informations\n"
      ],
      "execution_count": 21,
      "outputs": [
        {
          "output_type": "execute_result",
          "data": {
            "text/plain": [
              "[<ul class=\"list l-mt-16\">\n",
              " <li><span class=\"list__value\">9.00 m x 2.80 m</span><span class=\"list__key\">longueur x largeur</span></li>\n",
              " <li><span class=\"list__value\">1.00 m</span><span class=\"list__key\">tirant d'eau</span></li>\n",
              " <li><span class=\"list__value\">2'200 kg</span><span class=\"list__key\">déplacement</span></li>\n",
              " <li><span class=\"list__value\">C - Eaux côtières</span><span class=\"list__key\">catégorie de conception ce</span></li>\n",
              " <li><span class=\"list__value\">Bois</span><span class=\"list__key\">matériau</span></li>\n",
              " </ul>, <ul class=\"list l-mt-16\">\n",
              " <li><span class=\"list__value\">8 personnes</span><span class=\"list__key\">nombre de personnes admises</span></li>\n",
              " <li><span class=\"list__value\">1 cabine</span><span class=\"list__key\">nombre de cabines</span></li>\n",
              " <li><span class=\"list__value\">1 couchette</span><span class=\"list__key\">nombre de couchettes</span></li>\n",
              " <li><span class=\"list__value\">50 l Eau</span><span class=\"list__key\">réservoir d'eau douce</span></li>\n",
              " </ul>, <ul class=\"list l-mt-16\">\n",
              " <li><span class=\"list__value\">Hors-bord 4 temps</span><span class=\"list__key\">propulsion</span></li>\n",
              " <li><span class=\"list__value\">Mercury</span><span class=\"list__key\">moteur</span></li>\n",
              " <li><span class=\"list__value\">1 x 350 cv / 257 kW</span><span class=\"list__key\">puissance du moteur</span></li>\n",
              " <li><span class=\"list__value\">sans plomb</span><span class=\"list__key\">carburant</span></li>\n",
              " <li><span class=\"list__value\">250 l</span><span class=\"list__key\">réservoir de carburant</span></li>\n",
              " <li><span class=\"list__value\">2 h</span><span class=\"list__key\">heures moteur</span></li></ul>]"
            ]
          },
          "metadata": {
            "tags": []
          },
          "execution_count": 21
        }
      ]
    },
    {
      "cell_type": "markdown",
      "metadata": {
        "id": "Eg0DNzPeH0Fy"
      },
      "source": [
        "Each part can be separatly processed. We can choose to view the first 5 characteristics. "
      ]
    },
    {
      "cell_type": "code",
      "metadata": {
        "colab": {
          "base_uri": "https://localhost:8080/"
        },
        "id": "2NK8rrjIfBOM",
        "outputId": "201fd083-d15a-402f-bf20-b4e076533e1b"
      },
      "source": [
        "[description,description2,description3]= informations[0],informations[1],informations[2]\n",
        "description"
      ],
      "execution_count": 22,
      "outputs": [
        {
          "output_type": "execute_result",
          "data": {
            "text/plain": [
              "<ul class=\"list l-mt-16\">\n",
              "<li><span class=\"list__value\">9.00 m x 2.80 m</span><span class=\"list__key\">longueur x largeur</span></li>\n",
              "<li><span class=\"list__value\">1.00 m</span><span class=\"list__key\">tirant d'eau</span></li>\n",
              "<li><span class=\"list__value\">2'200 kg</span><span class=\"list__key\">déplacement</span></li>\n",
              "<li><span class=\"list__value\">C - Eaux côtières</span><span class=\"list__key\">catégorie de conception ce</span></li>\n",
              "<li><span class=\"list__value\">Bois</span><span class=\"list__key\">matériau</span></li>\n",
              "</ul>"
            ]
          },
          "metadata": {
            "tags": []
          },
          "execution_count": 22
        }
      ]
    },
    {
      "cell_type": "code",
      "metadata": {
        "id": "yPbNkTyCxKFk"
      },
      "source": [
        "list__value =description.find_all(\"span\", class_=\"list__value\")\n",
        "list__key =description.find_all(\"span\", class_=\"list__key\")\n",
        "  "
      ],
      "execution_count": 23,
      "outputs": []
    },
    {
      "cell_type": "code",
      "metadata": {
        "colab": {
          "base_uri": "https://localhost:8080/"
        },
        "id": "yiEaM0B1jWev",
        "outputId": "e117edab-a146-4fa9-9368-4d4da5adb00b"
      },
      "source": [
        "list__value"
      ],
      "execution_count": 24,
      "outputs": [
        {
          "output_type": "execute_result",
          "data": {
            "text/plain": [
              "[<span class=\"list__value\">9.00 m x 2.80 m</span>,\n",
              " <span class=\"list__value\">1.00 m</span>,\n",
              " <span class=\"list__value\">2'200 kg</span>,\n",
              " <span class=\"list__value\">C - Eaux côtières</span>,\n",
              " <span class=\"list__value\">Bois</span>]"
            ]
          },
          "metadata": {
            "tags": []
          },
          "execution_count": 24
        }
      ]
    },
    {
      "cell_type": "markdown",
      "metadata": {
        "id": "AXOnVGSOILy8"
      },
      "source": [
        "Here comes Pandas and its Dataframes. We put the information in a two column Dataframe that could be further used. "
      ]
    },
    {
      "cell_type": "code",
      "metadata": {
        "id": "gwfoC8-2hYjF"
      },
      "source": [
        "\n",
        "specs = pd.DataFrame(data={\n",
        "     'list__key': list__key,'list__value': list__value})"
      ],
      "execution_count": 25,
      "outputs": []
    },
    {
      "cell_type": "code",
      "metadata": {
        "colab": {
          "base_uri": "https://localhost:8080/",
          "height": 206
        },
        "id": "aj7iNfckgzbL",
        "outputId": "ece452c1-bc98-4395-9c2e-c50a6f463179"
      },
      "source": [
        "specs"
      ],
      "execution_count": 26,
      "outputs": [
        {
          "output_type": "execute_result",
          "data": {
            "text/html": [
              "<div>\n",
              "<style scoped>\n",
              "    .dataframe tbody tr th:only-of-type {\n",
              "        vertical-align: middle;\n",
              "    }\n",
              "\n",
              "    .dataframe tbody tr th {\n",
              "        vertical-align: top;\n",
              "    }\n",
              "\n",
              "    .dataframe thead th {\n",
              "        text-align: right;\n",
              "    }\n",
              "</style>\n",
              "<table border=\"1\" class=\"dataframe\">\n",
              "  <thead>\n",
              "    <tr style=\"text-align: right;\">\n",
              "      <th></th>\n",
              "      <th>list__key</th>\n",
              "      <th>list__value</th>\n",
              "    </tr>\n",
              "  </thead>\n",
              "  <tbody>\n",
              "    <tr>\n",
              "      <th>0</th>\n",
              "      <td>[longueur x largeur]</td>\n",
              "      <td>[9.00 m x 2.80 m]</td>\n",
              "    </tr>\n",
              "    <tr>\n",
              "      <th>1</th>\n",
              "      <td>[tirant d'eau]</td>\n",
              "      <td>[1.00 m]</td>\n",
              "    </tr>\n",
              "    <tr>\n",
              "      <th>2</th>\n",
              "      <td>[déplacement]</td>\n",
              "      <td>[2'200 kg]</td>\n",
              "    </tr>\n",
              "    <tr>\n",
              "      <th>3</th>\n",
              "      <td>[catégorie de conception ce]</td>\n",
              "      <td>[C - Eaux côtières]</td>\n",
              "    </tr>\n",
              "    <tr>\n",
              "      <th>4</th>\n",
              "      <td>[matériau]</td>\n",
              "      <td>[Bois]</td>\n",
              "    </tr>\n",
              "  </tbody>\n",
              "</table>\n",
              "</div>"
            ],
            "text/plain": [
              "                      list__key          list__value\n",
              "0          [longueur x largeur]    [9.00 m x 2.80 m]\n",
              "1                [tirant d'eau]             [1.00 m]\n",
              "2                 [déplacement]           [2'200 kg]\n",
              "3  [catégorie de conception ce]  [C - Eaux côtières]\n",
              "4                    [matériau]               [Bois]"
            ]
          },
          "metadata": {
            "tags": []
          },
          "execution_count": 26
        }
      ]
    },
    {
      "cell_type": "markdown",
      "metadata": {
        "id": "7T7AOFGPIaIP"
      },
      "source": [
        "For processing purposes, we get rid of the braquets, it is trickier than it looks as the dtype of the dataframe is not ``string``. You can investigate the innerworkings of this command to feel more comfertable with the output. "
      ]
    },
    {
      "cell_type": "code",
      "metadata": {
        "id": "k_7NjVhtbghG"
      },
      "source": [
        "specs.list__key=specs.list__key.apply(lambda x: re.search('>(.*)<',str(x)).group(1) )\n"
      ],
      "execution_count": 27,
      "outputs": []
    },
    {
      "cell_type": "code",
      "metadata": {
        "colab": {
          "base_uri": "https://localhost:8080/",
          "height": 206
        },
        "id": "-SvUDszBjZRe",
        "outputId": "e7e50801-7fad-4702-eb09-e3e3244d14b4"
      },
      "source": [
        "specs"
      ],
      "execution_count": 28,
      "outputs": [
        {
          "output_type": "execute_result",
          "data": {
            "text/html": [
              "<div>\n",
              "<style scoped>\n",
              "    .dataframe tbody tr th:only-of-type {\n",
              "        vertical-align: middle;\n",
              "    }\n",
              "\n",
              "    .dataframe tbody tr th {\n",
              "        vertical-align: top;\n",
              "    }\n",
              "\n",
              "    .dataframe thead th {\n",
              "        text-align: right;\n",
              "    }\n",
              "</style>\n",
              "<table border=\"1\" class=\"dataframe\">\n",
              "  <thead>\n",
              "    <tr style=\"text-align: right;\">\n",
              "      <th></th>\n",
              "      <th>list__key</th>\n",
              "      <th>list__value</th>\n",
              "    </tr>\n",
              "  </thead>\n",
              "  <tbody>\n",
              "    <tr>\n",
              "      <th>0</th>\n",
              "      <td>longueur x largeur</td>\n",
              "      <td>[9.00 m x 2.80 m]</td>\n",
              "    </tr>\n",
              "    <tr>\n",
              "      <th>1</th>\n",
              "      <td>tirant d'eau</td>\n",
              "      <td>[1.00 m]</td>\n",
              "    </tr>\n",
              "    <tr>\n",
              "      <th>2</th>\n",
              "      <td>déplacement</td>\n",
              "      <td>[2'200 kg]</td>\n",
              "    </tr>\n",
              "    <tr>\n",
              "      <th>3</th>\n",
              "      <td>catégorie de conception ce</td>\n",
              "      <td>[C - Eaux côtières]</td>\n",
              "    </tr>\n",
              "    <tr>\n",
              "      <th>4</th>\n",
              "      <td>matériau</td>\n",
              "      <td>[Bois]</td>\n",
              "    </tr>\n",
              "  </tbody>\n",
              "</table>\n",
              "</div>"
            ],
            "text/plain": [
              "                    list__key          list__value\n",
              "0          longueur x largeur    [9.00 m x 2.80 m]\n",
              "1                tirant d'eau             [1.00 m]\n",
              "2                 déplacement           [2'200 kg]\n",
              "3  catégorie de conception ce  [C - Eaux côtières]\n",
              "4                    matériau               [Bois]"
            ]
          },
          "metadata": {
            "tags": []
          },
          "execution_count": 28
        }
      ]
    },
    {
      "cell_type": "code",
      "metadata": {
        "id": "NuJC_E90hx-4"
      },
      "source": [
        "list__value =description2.find(\"span\", class_=\"list__value\")\n",
        "list__key =description2.find_all(\"span\", class_=\"list__key\")\n",
        "specs2 = pd.DataFrame(data={'list__value': list__value,\n",
        "     'list__key': list__key})"
      ],
      "execution_count": 29,
      "outputs": []
    },
    {
      "cell_type": "code",
      "metadata": {
        "id": "reqOTCORhyE8"
      },
      "source": [
        "list__value =description3.find(\"span\", class_=\"list__value\")\n",
        "list__key =description3.find_all(\"span\", class_=\"list__key\")\n",
        "specs3 = pd.DataFrame(data={'list__value': list__value,\n",
        "     'list__key': list__key})"
      ],
      "execution_count": 30,
      "outputs": []
    },
    {
      "cell_type": "code",
      "metadata": {
        "colab": {
          "base_uri": "https://localhost:8080/",
          "height": 520
        },
        "id": "AgXF_stFh5vU",
        "outputId": "013c44cd-5d7c-48af-fc7a-c81c6170dc4c"
      },
      "source": [
        "concatenated = pd.concat([specs,specs2,specs3])\n",
        "\n",
        "concatenated"
      ],
      "execution_count": 31,
      "outputs": [
        {
          "output_type": "execute_result",
          "data": {
            "text/html": [
              "<div>\n",
              "<style scoped>\n",
              "    .dataframe tbody tr th:only-of-type {\n",
              "        vertical-align: middle;\n",
              "    }\n",
              "\n",
              "    .dataframe tbody tr th {\n",
              "        vertical-align: top;\n",
              "    }\n",
              "\n",
              "    .dataframe thead th {\n",
              "        text-align: right;\n",
              "    }\n",
              "</style>\n",
              "<table border=\"1\" class=\"dataframe\">\n",
              "  <thead>\n",
              "    <tr style=\"text-align: right;\">\n",
              "      <th></th>\n",
              "      <th>list__key</th>\n",
              "      <th>list__value</th>\n",
              "    </tr>\n",
              "  </thead>\n",
              "  <tbody>\n",
              "    <tr>\n",
              "      <th>0</th>\n",
              "      <td>longueur x largeur</td>\n",
              "      <td>[9.00 m x 2.80 m]</td>\n",
              "    </tr>\n",
              "    <tr>\n",
              "      <th>1</th>\n",
              "      <td>tirant d'eau</td>\n",
              "      <td>[1.00 m]</td>\n",
              "    </tr>\n",
              "    <tr>\n",
              "      <th>2</th>\n",
              "      <td>déplacement</td>\n",
              "      <td>[2'200 kg]</td>\n",
              "    </tr>\n",
              "    <tr>\n",
              "      <th>3</th>\n",
              "      <td>catégorie de conception ce</td>\n",
              "      <td>[C - Eaux côtières]</td>\n",
              "    </tr>\n",
              "    <tr>\n",
              "      <th>4</th>\n",
              "      <td>matériau</td>\n",
              "      <td>[Bois]</td>\n",
              "    </tr>\n",
              "    <tr>\n",
              "      <th>0</th>\n",
              "      <td>[nombre de personnes admises]</td>\n",
              "      <td>8 personnes</td>\n",
              "    </tr>\n",
              "    <tr>\n",
              "      <th>1</th>\n",
              "      <td>[nombre de cabines]</td>\n",
              "      <td>8 personnes</td>\n",
              "    </tr>\n",
              "    <tr>\n",
              "      <th>2</th>\n",
              "      <td>[nombre de couchettes]</td>\n",
              "      <td>8 personnes</td>\n",
              "    </tr>\n",
              "    <tr>\n",
              "      <th>3</th>\n",
              "      <td>[réservoir d'eau douce]</td>\n",
              "      <td>8 personnes</td>\n",
              "    </tr>\n",
              "    <tr>\n",
              "      <th>0</th>\n",
              "      <td>[propulsion]</td>\n",
              "      <td>Hors-bord 4 temps</td>\n",
              "    </tr>\n",
              "    <tr>\n",
              "      <th>1</th>\n",
              "      <td>[moteur]</td>\n",
              "      <td>Hors-bord 4 temps</td>\n",
              "    </tr>\n",
              "    <tr>\n",
              "      <th>2</th>\n",
              "      <td>[puissance du moteur]</td>\n",
              "      <td>Hors-bord 4 temps</td>\n",
              "    </tr>\n",
              "    <tr>\n",
              "      <th>3</th>\n",
              "      <td>[carburant]</td>\n",
              "      <td>Hors-bord 4 temps</td>\n",
              "    </tr>\n",
              "    <tr>\n",
              "      <th>4</th>\n",
              "      <td>[réservoir de carburant]</td>\n",
              "      <td>Hors-bord 4 temps</td>\n",
              "    </tr>\n",
              "    <tr>\n",
              "      <th>5</th>\n",
              "      <td>[heures moteur]</td>\n",
              "      <td>Hors-bord 4 temps</td>\n",
              "    </tr>\n",
              "  </tbody>\n",
              "</table>\n",
              "</div>"
            ],
            "text/plain": [
              "                       list__key          list__value\n",
              "0             longueur x largeur    [9.00 m x 2.80 m]\n",
              "1                   tirant d'eau             [1.00 m]\n",
              "2                    déplacement           [2'200 kg]\n",
              "3     catégorie de conception ce  [C - Eaux côtières]\n",
              "4                       matériau               [Bois]\n",
              "0  [nombre de personnes admises]          8 personnes\n",
              "1            [nombre de cabines]          8 personnes\n",
              "2         [nombre de couchettes]          8 personnes\n",
              "3        [réservoir d'eau douce]          8 personnes\n",
              "0                   [propulsion]    Hors-bord 4 temps\n",
              "1                       [moteur]    Hors-bord 4 temps\n",
              "2          [puissance du moteur]    Hors-bord 4 temps\n",
              "3                    [carburant]    Hors-bord 4 temps\n",
              "4       [réservoir de carburant]    Hors-bord 4 temps\n",
              "5                [heures moteur]    Hors-bord 4 temps"
            ]
          },
          "metadata": {
            "tags": []
          },
          "execution_count": 31
        }
      ]
    },
    {
      "cell_type": "markdown",
      "metadata": {
        "id": "2xHTYcO7I9iL"
      },
      "source": [
        "**Advanced**\n",
        "\n",
        "Now, we use a different approach to get all the characteristics at once. Yet, there is one odd piece of Data in our Dataframe, can you notice it ? "
      ]
    },
    {
      "cell_type": "code",
      "metadata": {
        "id": "2tAOYAP5iaRp"
      },
      "source": [
        "\n",
        "list__value =soup.find_all(\"span\", class_=\"list__value\")\n",
        "list__key =soup.find_all(\"span\", class_=\"list__key\")\n",
        "furn = pd.DataFrame(data={'list__value': list__value,\n",
        "     'list__key': list__key})\n",
        "furn.list__value=furn.list__value.apply(lambda x: re.search('>(.*)<',str(x)).group(1) )\n",
        "furn.list__key=furn.list__key.apply(lambda x: re.search('>(.*)<',str(x)).group(1) )"
      ],
      "execution_count": 32,
      "outputs": []
    },
    {
      "cell_type": "code",
      "metadata": {
        "colab": {
          "base_uri": "https://localhost:8080/",
          "height": 206
        },
        "id": "ioR5c_zSiaWM",
        "outputId": "5a3da451-4685-4087-957e-1ec9d37d985d"
      },
      "source": [
        "furn.head()"
      ],
      "execution_count": 33,
      "outputs": [
        {
          "output_type": "execute_result",
          "data": {
            "text/html": [
              "<div>\n",
              "<style scoped>\n",
              "    .dataframe tbody tr th:only-of-type {\n",
              "        vertical-align: middle;\n",
              "    }\n",
              "\n",
              "    .dataframe tbody tr th {\n",
              "        vertical-align: top;\n",
              "    }\n",
              "\n",
              "    .dataframe thead th {\n",
              "        text-align: right;\n",
              "    }\n",
              "</style>\n",
              "<table border=\"1\" class=\"dataframe\">\n",
              "  <thead>\n",
              "    <tr style=\"text-align: right;\">\n",
              "      <th></th>\n",
              "      <th>list__value</th>\n",
              "      <th>list__key</th>\n",
              "    </tr>\n",
              "  </thead>\n",
              "  <tbody>\n",
              "    <tr>\n",
              "      <th>0</th>\n",
              "      <td>CHF 295.000,-</td>\n",
              "      <td></td>\n",
              "    </tr>\n",
              "    <tr>\n",
              "      <th>1</th>\n",
              "      <td>2020</td>\n",
              "      <td>année de fabrication</td>\n",
              "    </tr>\n",
              "    <tr>\n",
              "      <th>2</th>\n",
              "      <td>neuf</td>\n",
              "      <td>état</td>\n",
              "    </tr>\n",
              "    <tr>\n",
              "      <th>3</th>\n",
              "      <td>9.00 m x 2.80 m</td>\n",
              "      <td>longueur x largeur</td>\n",
              "    </tr>\n",
              "    <tr>\n",
              "      <th>4</th>\n",
              "      <td>1.00 m</td>\n",
              "      <td>tirant d'eau</td>\n",
              "    </tr>\n",
              "  </tbody>\n",
              "</table>\n",
              "</div>"
            ],
            "text/plain": [
              "       list__value             list__key\n",
              "0    CHF 295.000,-                      \n",
              "1             2020  année de fabrication\n",
              "2             neuf                  état\n",
              "3  9.00 m x 2.80 m    longueur x largeur\n",
              "4           1.00 m          tirant d'eau"
            ]
          },
          "metadata": {
            "tags": []
          },
          "execution_count": 33
        }
      ]
    },
    {
      "cell_type": "code",
      "metadata": {
        "colab": {
          "base_uri": "https://localhost:8080/",
          "height": 583
        },
        "id": "Ty-vG-iNusRV",
        "outputId": "3e6c958d-0264-4dbf-df77-ff2aaf513c2a"
      },
      "source": [
        "furn[1:]"
      ],
      "execution_count": 34,
      "outputs": [
        {
          "output_type": "execute_result",
          "data": {
            "text/html": [
              "<div>\n",
              "<style scoped>\n",
              "    .dataframe tbody tr th:only-of-type {\n",
              "        vertical-align: middle;\n",
              "    }\n",
              "\n",
              "    .dataframe tbody tr th {\n",
              "        vertical-align: top;\n",
              "    }\n",
              "\n",
              "    .dataframe thead th {\n",
              "        text-align: right;\n",
              "    }\n",
              "</style>\n",
              "<table border=\"1\" class=\"dataframe\">\n",
              "  <thead>\n",
              "    <tr style=\"text-align: right;\">\n",
              "      <th></th>\n",
              "      <th>list__value</th>\n",
              "      <th>list__key</th>\n",
              "    </tr>\n",
              "  </thead>\n",
              "  <tbody>\n",
              "    <tr>\n",
              "      <th>1</th>\n",
              "      <td>2020</td>\n",
              "      <td>année de fabrication</td>\n",
              "    </tr>\n",
              "    <tr>\n",
              "      <th>2</th>\n",
              "      <td>neuf</td>\n",
              "      <td>état</td>\n",
              "    </tr>\n",
              "    <tr>\n",
              "      <th>3</th>\n",
              "      <td>9.00 m x 2.80 m</td>\n",
              "      <td>longueur x largeur</td>\n",
              "    </tr>\n",
              "    <tr>\n",
              "      <th>4</th>\n",
              "      <td>1.00 m</td>\n",
              "      <td>tirant d'eau</td>\n",
              "    </tr>\n",
              "    <tr>\n",
              "      <th>5</th>\n",
              "      <td>2'200 kg</td>\n",
              "      <td>déplacement</td>\n",
              "    </tr>\n",
              "    <tr>\n",
              "      <th>6</th>\n",
              "      <td>C - Eaux côtières</td>\n",
              "      <td>catégorie de conception ce</td>\n",
              "    </tr>\n",
              "    <tr>\n",
              "      <th>7</th>\n",
              "      <td>Bois</td>\n",
              "      <td>matériau</td>\n",
              "    </tr>\n",
              "    <tr>\n",
              "      <th>8</th>\n",
              "      <td>8 personnes</td>\n",
              "      <td>nombre de personnes admises</td>\n",
              "    </tr>\n",
              "    <tr>\n",
              "      <th>9</th>\n",
              "      <td>1 cabine</td>\n",
              "      <td>nombre de cabines</td>\n",
              "    </tr>\n",
              "    <tr>\n",
              "      <th>10</th>\n",
              "      <td>1 couchette</td>\n",
              "      <td>nombre de couchettes</td>\n",
              "    </tr>\n",
              "    <tr>\n",
              "      <th>11</th>\n",
              "      <td>50 l Eau</td>\n",
              "      <td>réservoir d'eau douce</td>\n",
              "    </tr>\n",
              "    <tr>\n",
              "      <th>12</th>\n",
              "      <td>Hors-bord 4 temps</td>\n",
              "      <td>propulsion</td>\n",
              "    </tr>\n",
              "    <tr>\n",
              "      <th>13</th>\n",
              "      <td>Mercury</td>\n",
              "      <td>moteur</td>\n",
              "    </tr>\n",
              "    <tr>\n",
              "      <th>14</th>\n",
              "      <td>1 x 350 cv / 257 kW</td>\n",
              "      <td>puissance du moteur</td>\n",
              "    </tr>\n",
              "    <tr>\n",
              "      <th>15</th>\n",
              "      <td>sans plomb</td>\n",
              "      <td>carburant</td>\n",
              "    </tr>\n",
              "    <tr>\n",
              "      <th>16</th>\n",
              "      <td>250 l</td>\n",
              "      <td>réservoir de carburant</td>\n",
              "    </tr>\n",
              "    <tr>\n",
              "      <th>17</th>\n",
              "      <td>2 h</td>\n",
              "      <td>heures moteur</td>\n",
              "    </tr>\n",
              "  </tbody>\n",
              "</table>\n",
              "</div>"
            ],
            "text/plain": [
              "            list__value                    list__key\n",
              "1                  2020         année de fabrication\n",
              "2                  neuf                         état\n",
              "3       9.00 m x 2.80 m           longueur x largeur\n",
              "4                1.00 m                 tirant d'eau\n",
              "5              2'200 kg                  déplacement\n",
              "6     C - Eaux côtières   catégorie de conception ce\n",
              "7                  Bois                     matériau\n",
              "8           8 personnes  nombre de personnes admises\n",
              "9              1 cabine            nombre de cabines\n",
              "10          1 couchette         nombre de couchettes\n",
              "11             50 l Eau        réservoir d'eau douce\n",
              "12    Hors-bord 4 temps                   propulsion\n",
              "13              Mercury                       moteur\n",
              "14  1 x 350 cv / 257 kW          puissance du moteur\n",
              "15           sans plomb                    carburant\n",
              "16                250 l       réservoir de carburant\n",
              "17                  2 h                heures moteur"
            ]
          },
          "metadata": {
            "tags": []
          },
          "execution_count": 34
        }
      ]
    },
    {
      "cell_type": "markdown",
      "metadata": {
        "id": "1C_urPUSYx2A"
      },
      "source": [
        "## Scrapping exercise \n",
        "\n",
        "Now, we want you to exercise your scrapping skills to rapidly retreive [the list of countries by unemployment rate.]('https://en.wikipedia.org/wiki/List_of_countries_by_unemployment_rate')"
      ]
    },
    {
      "cell_type": "code",
      "metadata": {
        "colab": {
          "base_uri": "https://localhost:8080/",
          "height": 424
        },
        "id": "0rko5pLzZW5L",
        "outputId": "a6ae9e25-f9b0-48ae-9134-ca41138a6e27"
      },
      "source": [
        "#To be hidden   \n",
        "pd.read_html('https://en.wikipedia.org/wiki/List_of_countries_by_unemployment_rate')[2]"
      ],
      "execution_count": 35,
      "outputs": [
        {
          "output_type": "execute_result",
          "data": {
            "text/html": [
              "<div>\n",
              "<style scoped>\n",
              "    .dataframe tbody tr th:only-of-type {\n",
              "        vertical-align: middle;\n",
              "    }\n",
              "\n",
              "    .dataframe tbody tr th {\n",
              "        vertical-align: top;\n",
              "    }\n",
              "\n",
              "    .dataframe thead th {\n",
              "        text-align: right;\n",
              "    }\n",
              "</style>\n",
              "<table border=\"1\" class=\"dataframe\">\n",
              "  <thead>\n",
              "    <tr style=\"text-align: right;\">\n",
              "      <th></th>\n",
              "      <th>Country</th>\n",
              "      <th>Unemployment rate (%)</th>\n",
              "      <th>Source / date of information</th>\n",
              "    </tr>\n",
              "  </thead>\n",
              "  <tbody>\n",
              "    <tr>\n",
              "      <th>0</th>\n",
              "      <td>Afghanistan</td>\n",
              "      <td>11.2</td>\n",
              "      <td>2020 (June)[4]</td>\n",
              "    </tr>\n",
              "    <tr>\n",
              "      <th>1</th>\n",
              "      <td>Albania</td>\n",
              "      <td>11.9</td>\n",
              "      <td>2020 (Q2)[5]</td>\n",
              "    </tr>\n",
              "    <tr>\n",
              "      <th>2</th>\n",
              "      <td>Algeria</td>\n",
              "      <td>11.5</td>\n",
              "      <td>2020[4]</td>\n",
              "    </tr>\n",
              "    <tr>\n",
              "      <th>3</th>\n",
              "      <td>American Samoa (United States)</td>\n",
              "      <td>18.0</td>\n",
              "      <td>2012[6]</td>\n",
              "    </tr>\n",
              "    <tr>\n",
              "      <th>4</th>\n",
              "      <td>Andorra</td>\n",
              "      <td>3.7</td>\n",
              "      <td>2016[7]</td>\n",
              "    </tr>\n",
              "    <tr>\n",
              "      <th>...</th>\n",
              "      <td>...</td>\n",
              "      <td>...</td>\n",
              "      <td>...</td>\n",
              "    </tr>\n",
              "    <tr>\n",
              "      <th>218</th>\n",
              "      <td>U.S. Virgin Islands (United States)</td>\n",
              "      <td>8.8</td>\n",
              "      <td>2020[4]</td>\n",
              "    </tr>\n",
              "    <tr>\n",
              "      <th>219</th>\n",
              "      <td>Wallis and Futuna (France)</td>\n",
              "      <td>8.8</td>\n",
              "      <td>2013[7]</td>\n",
              "    </tr>\n",
              "    <tr>\n",
              "      <th>220</th>\n",
              "      <td>Yemen</td>\n",
              "      <td>12.8</td>\n",
              "      <td>2020[4]</td>\n",
              "    </tr>\n",
              "    <tr>\n",
              "      <th>221</th>\n",
              "      <td>Zambia</td>\n",
              "      <td>11.4</td>\n",
              "      <td>2020[4]</td>\n",
              "    </tr>\n",
              "    <tr>\n",
              "      <th>222</th>\n",
              "      <td>Zimbabwe</td>\n",
              "      <td>5.0</td>\n",
              "      <td>2020[4]</td>\n",
              "    </tr>\n",
              "  </tbody>\n",
              "</table>\n",
              "<p>223 rows × 3 columns</p>\n",
              "</div>"
            ],
            "text/plain": [
              "                                 Country  ... Source / date of information\n",
              "0                            Afghanistan  ...               2020 (June)[4]\n",
              "1                                Albania  ...                 2020 (Q2)[5]\n",
              "2                                Algeria  ...                      2020[4]\n",
              "3         American Samoa (United States)  ...                      2012[6]\n",
              "4                                Andorra  ...                      2016[7]\n",
              "..                                   ...  ...                          ...\n",
              "218  U.S. Virgin Islands (United States)  ...                      2020[4]\n",
              "219           Wallis and Futuna (France)  ...                      2013[7]\n",
              "220                                Yemen  ...                      2020[4]\n",
              "221                               Zambia  ...                      2020[4]\n",
              "222                             Zimbabwe  ...                      2020[4]\n",
              "\n",
              "[223 rows x 3 columns]"
            ]
          },
          "metadata": {
            "tags": []
          },
          "execution_count": 35
        }
      ]
    },
    {
      "cell_type": "markdown",
      "metadata": {
        "id": "jyij8neZz4yD"
      },
      "source": [
        "# <a class=\"anchor\"></a> 1. Exploratory Data Analysis\r\n",
        "\r\n",
        "\r\n",
        "\r\n"
      ]
    },
    {
      "cell_type": "markdown",
      "metadata": {
        "id": "5gy-XniJZG9p"
      },
      "source": [
        "## <a class=\"anchor\"></a> 1.1. Loading and getting a first look at our Data \r\n"
      ]
    },
    {
      "cell_type": "code",
      "metadata": {
        "id": "HNZaB3NzUPt5"
      },
      "source": [
        "#Let's import pandas\r\n",
        "import pandas as pd\r\n",
        "import numpy as np\r\n",
        "import matplotlib\r\n",
        "import matplotlib.pyplot as plt\r\n",
        "import seaborn as sns\r\n"
      ],
      "execution_count": 36,
      "outputs": []
    },
    {
      "cell_type": "markdown",
      "metadata": {
        "id": "2Tc1olNXUl6D"
      },
      "source": [
        "The dataset we will use is available under the following url :`'https://data.cityofnewyork.us/api/views/43nn-pn8j/rows.csv?accessType=DOWNLOAD'`. This dataset containts the results of restaurant inspections in NYC."
      ]
    },
    {
      "cell_type": "code",
      "metadata": {
        "colab": {
          "base_uri": "https://localhost:8080/",
          "height": 678
        },
        "id": "3R9aJHOtVAep",
        "outputId": "5ea10fcf-d1af-4cc4-8b79-aa7482454eac"
      },
      "source": [
        "#You should already know what this block of code does. Ignore the arguments after url for now\r\n",
        "restaurants = pd.read_csv('https://data.cityofnewyork.us/api/views/43nn-pn8j/rows.csv?accessType=DOWNLOAD')\r\n",
        "\r\n",
        "#Let's have a look at the data\r\n",
        "restaurants.head()"
      ],
      "execution_count": 93,
      "outputs": [
        {
          "output_type": "execute_result",
          "data": {
            "text/html": [
              "<div>\n",
              "<style scoped>\n",
              "    .dataframe tbody tr th:only-of-type {\n",
              "        vertical-align: middle;\n",
              "    }\n",
              "\n",
              "    .dataframe tbody tr th {\n",
              "        vertical-align: top;\n",
              "    }\n",
              "\n",
              "    .dataframe thead th {\n",
              "        text-align: right;\n",
              "    }\n",
              "</style>\n",
              "<table border=\"1\" class=\"dataframe\">\n",
              "  <thead>\n",
              "    <tr style=\"text-align: right;\">\n",
              "      <th></th>\n",
              "      <th>CAMIS</th>\n",
              "      <th>DBA</th>\n",
              "      <th>BORO</th>\n",
              "      <th>BUILDING</th>\n",
              "      <th>STREET</th>\n",
              "      <th>ZIPCODE</th>\n",
              "      <th>PHONE</th>\n",
              "      <th>CUISINE DESCRIPTION</th>\n",
              "      <th>INSPECTION DATE</th>\n",
              "      <th>ACTION</th>\n",
              "      <th>VIOLATION CODE</th>\n",
              "      <th>VIOLATION DESCRIPTION</th>\n",
              "      <th>CRITICAL FLAG</th>\n",
              "      <th>SCORE</th>\n",
              "      <th>GRADE</th>\n",
              "      <th>GRADE DATE</th>\n",
              "      <th>RECORD DATE</th>\n",
              "      <th>INSPECTION TYPE</th>\n",
              "      <th>Latitude</th>\n",
              "      <th>Longitude</th>\n",
              "      <th>Community Board</th>\n",
              "      <th>Council District</th>\n",
              "      <th>Census Tract</th>\n",
              "      <th>BIN</th>\n",
              "      <th>BBL</th>\n",
              "      <th>NTA</th>\n",
              "    </tr>\n",
              "  </thead>\n",
              "  <tbody>\n",
              "    <tr>\n",
              "      <th>0</th>\n",
              "      <td>50072759</td>\n",
              "      <td>GFG BAKERY</td>\n",
              "      <td>Manhattan</td>\n",
              "      <td>39</td>\n",
              "      <td>BEEKMAN STREET</td>\n",
              "      <td>10038.0</td>\n",
              "      <td>2123443465</td>\n",
              "      <td>Cakes, Cupcakes, Desserts</td>\n",
              "      <td>10/10/2019</td>\n",
              "      <td>Violations were cited in the following area(s).</td>\n",
              "      <td>02H</td>\n",
              "      <td>Food not cooled by an approved method whereby ...</td>\n",
              "      <td>Y</td>\n",
              "      <td>24.0</td>\n",
              "      <td>NaN</td>\n",
              "      <td>NaN</td>\n",
              "      <td>03/01/2021</td>\n",
              "      <td>Cycle Inspection / Initial Inspection</td>\n",
              "      <td>40.710274</td>\n",
              "      <td>-74.005490</td>\n",
              "      <td>101.0</td>\n",
              "      <td>1.0</td>\n",
              "      <td>1501.0</td>\n",
              "      <td>1001284.0</td>\n",
              "      <td>1.000930e+09</td>\n",
              "      <td>MN25</td>\n",
              "    </tr>\n",
              "    <tr>\n",
              "      <th>1</th>\n",
              "      <td>50064392</td>\n",
              "      <td>PATIALA GRILL</td>\n",
              "      <td>Manhattan</td>\n",
              "      <td>371</td>\n",
              "      <td>WEST   34 STREET</td>\n",
              "      <td>10001.0</td>\n",
              "      <td>2125648255</td>\n",
              "      <td>Indian</td>\n",
              "      <td>06/11/2019</td>\n",
              "      <td>Violations were cited in the following area(s).</td>\n",
              "      <td>10F</td>\n",
              "      <td>Non-food contact surface improperly constructe...</td>\n",
              "      <td>N</td>\n",
              "      <td>34.0</td>\n",
              "      <td>NaN</td>\n",
              "      <td>NaN</td>\n",
              "      <td>03/01/2021</td>\n",
              "      <td>Cycle Inspection / Initial Inspection</td>\n",
              "      <td>40.752969</td>\n",
              "      <td>-73.995304</td>\n",
              "      <td>104.0</td>\n",
              "      <td>3.0</td>\n",
              "      <td>11100.0</td>\n",
              "      <td>1013555.0</td>\n",
              "      <td>1.007580e+09</td>\n",
              "      <td>MN13</td>\n",
              "    </tr>\n",
              "    <tr>\n",
              "      <th>2</th>\n",
              "      <td>50001693</td>\n",
              "      <td>ANKA GRILL</td>\n",
              "      <td>Manhattan</td>\n",
              "      <td>642</td>\n",
              "      <td>LEXINGTON AVENUE</td>\n",
              "      <td>10022.0</td>\n",
              "      <td>6466926494</td>\n",
              "      <td>Turkish</td>\n",
              "      <td>10/19/2018</td>\n",
              "      <td>Violations were cited in the following area(s).</td>\n",
              "      <td>04H</td>\n",
              "      <td>Raw, cooked or prepared food is adulterated, c...</td>\n",
              "      <td>Y</td>\n",
              "      <td>33.0</td>\n",
              "      <td>C</td>\n",
              "      <td>10/19/2018</td>\n",
              "      <td>03/01/2021</td>\n",
              "      <td>Cycle Inspection / Re-inspection</td>\n",
              "      <td>40.759237</td>\n",
              "      <td>-73.970368</td>\n",
              "      <td>105.0</td>\n",
              "      <td>4.0</td>\n",
              "      <td>10000.0</td>\n",
              "      <td>1071461.0</td>\n",
              "      <td>1.013098e+09</td>\n",
              "      <td>MN19</td>\n",
              "    </tr>\n",
              "    <tr>\n",
              "      <th>3</th>\n",
              "      <td>50018652</td>\n",
              "      <td>KIABACCA PIZZA AND BEER</td>\n",
              "      <td>Manhattan</td>\n",
              "      <td>639</td>\n",
              "      <td>10 AVENUE</td>\n",
              "      <td>10036.0</td>\n",
              "      <td>2126494675</td>\n",
              "      <td>American</td>\n",
              "      <td>04/17/2019</td>\n",
              "      <td>Violations were cited in the following area(s).</td>\n",
              "      <td>10B</td>\n",
              "      <td>Plumbing not properly installed or maintained;...</td>\n",
              "      <td>N</td>\n",
              "      <td>12.0</td>\n",
              "      <td>A</td>\n",
              "      <td>04/17/2019</td>\n",
              "      <td>03/01/2021</td>\n",
              "      <td>Cycle Inspection / Initial Inspection</td>\n",
              "      <td>40.761758</td>\n",
              "      <td>-73.993928</td>\n",
              "      <td>104.0</td>\n",
              "      <td>3.0</td>\n",
              "      <td>12900.0</td>\n",
              "      <td>1026940.0</td>\n",
              "      <td>1.010740e+09</td>\n",
              "      <td>MN15</td>\n",
              "    </tr>\n",
              "    <tr>\n",
              "      <th>4</th>\n",
              "      <td>50012356</td>\n",
              "      <td>TEXAS CHICKEN &amp; BURGERS</td>\n",
              "      <td>Manhattan</td>\n",
              "      <td>151</td>\n",
              "      <td>EAST  103 STREET</td>\n",
              "      <td>10029.0</td>\n",
              "      <td>9173304730</td>\n",
              "      <td>Chicken</td>\n",
              "      <td>05/03/2018</td>\n",
              "      <td>Violations were cited in the following area(s).</td>\n",
              "      <td>02B</td>\n",
              "      <td>Hot food item not held at or above 140º F.</td>\n",
              "      <td>Y</td>\n",
              "      <td>12.0</td>\n",
              "      <td>A</td>\n",
              "      <td>05/03/2018</td>\n",
              "      <td>03/01/2021</td>\n",
              "      <td>Cycle Inspection / Initial Inspection</td>\n",
              "      <td>40.790198</td>\n",
              "      <td>-73.947393</td>\n",
              "      <td>111.0</td>\n",
              "      <td>8.0</td>\n",
              "      <td>16600.0</td>\n",
              "      <td>1051915.0</td>\n",
              "      <td>1.016310e+09</td>\n",
              "      <td>MN33</td>\n",
              "    </tr>\n",
              "  </tbody>\n",
              "</table>\n",
              "</div>"
            ],
            "text/plain": [
              "      CAMIS                      DBA       BORO  ...        BIN           BBL   NTA\n",
              "0  50072759               GFG BAKERY  Manhattan  ...  1001284.0  1.000930e+09  MN25\n",
              "1  50064392            PATIALA GRILL  Manhattan  ...  1013555.0  1.007580e+09  MN13\n",
              "2  50001693               ANKA GRILL  Manhattan  ...  1071461.0  1.013098e+09  MN19\n",
              "3  50018652  KIABACCA PIZZA AND BEER  Manhattan  ...  1026940.0  1.010740e+09  MN15\n",
              "4  50012356  TEXAS CHICKEN & BURGERS  Manhattan  ...  1051915.0  1.016310e+09  MN33\n",
              "\n",
              "[5 rows x 26 columns]"
            ]
          },
          "metadata": {
            "tags": []
          },
          "execution_count": 93
        }
      ]
    },
    {
      "cell_type": "markdown",
      "metadata": {
        "id": "htjkc528WuVJ"
      },
      "source": [
        "Let's use the `.describe()` function to get a quick overview of the Data we will be working with.\r\n"
      ]
    },
    {
      "cell_type": "code",
      "metadata": {
        "colab": {
          "base_uri": "https://localhost:8080/",
          "height": 300
        },
        "id": "ZaGkZwPSXhZ4",
        "outputId": "72533b17-8563-4549-af77-cdf5a1714902"
      },
      "source": [
        "restaurants.describe()"
      ],
      "execution_count": 94,
      "outputs": [
        {
          "output_type": "execute_result",
          "data": {
            "text/html": [
              "<div>\n",
              "<style scoped>\n",
              "    .dataframe tbody tr th:only-of-type {\n",
              "        vertical-align: middle;\n",
              "    }\n",
              "\n",
              "    .dataframe tbody tr th {\n",
              "        vertical-align: top;\n",
              "    }\n",
              "\n",
              "    .dataframe thead th {\n",
              "        text-align: right;\n",
              "    }\n",
              "</style>\n",
              "<table border=\"1\" class=\"dataframe\">\n",
              "  <thead>\n",
              "    <tr style=\"text-align: right;\">\n",
              "      <th></th>\n",
              "      <th>CAMIS</th>\n",
              "      <th>ZIPCODE</th>\n",
              "      <th>SCORE</th>\n",
              "      <th>Latitude</th>\n",
              "      <th>Longitude</th>\n",
              "      <th>Community Board</th>\n",
              "      <th>Council District</th>\n",
              "      <th>Census Tract</th>\n",
              "      <th>BIN</th>\n",
              "      <th>BBL</th>\n",
              "    </tr>\n",
              "  </thead>\n",
              "  <tbody>\n",
              "    <tr>\n",
              "      <th>count</th>\n",
              "      <td>3.960220e+05</td>\n",
              "      <td>389325.000000</td>\n",
              "      <td>377310.000000</td>\n",
              "      <td>394597.000000</td>\n",
              "      <td>394597.000000</td>\n",
              "      <td>388022.000000</td>\n",
              "      <td>388022.000000</td>\n",
              "      <td>388022.000000</td>\n",
              "      <td>3.862060e+05</td>\n",
              "      <td>3.945970e+05</td>\n",
              "    </tr>\n",
              "    <tr>\n",
              "      <th>mean</th>\n",
              "      <td>4.622461e+07</td>\n",
              "      <td>10679.809704</td>\n",
              "      <td>20.112738</td>\n",
              "      <td>40.049936</td>\n",
              "      <td>-72.711204</td>\n",
              "      <td>248.388287</td>\n",
              "      <td>20.056102</td>\n",
              "      <td>28750.317500</td>\n",
              "      <td>2.509389e+06</td>\n",
              "      <td>2.395162e+09</td>\n",
              "    </tr>\n",
              "    <tr>\n",
              "      <th>std</th>\n",
              "      <td>4.393569e+06</td>\n",
              "      <td>602.240918</td>\n",
              "      <td>14.730377</td>\n",
              "      <td>5.213847</td>\n",
              "      <td>9.465309</td>\n",
              "      <td>130.398593</td>\n",
              "      <td>15.828921</td>\n",
              "      <td>30522.905127</td>\n",
              "      <td>1.349104e+06</td>\n",
              "      <td>1.344780e+09</td>\n",
              "    </tr>\n",
              "    <tr>\n",
              "      <th>min</th>\n",
              "      <td>3.007544e+07</td>\n",
              "      <td>10000.000000</td>\n",
              "      <td>-1.000000</td>\n",
              "      <td>0.000000</td>\n",
              "      <td>-74.249101</td>\n",
              "      <td>101.000000</td>\n",
              "      <td>1.000000</td>\n",
              "      <td>100.000000</td>\n",
              "      <td>1.000000e+06</td>\n",
              "      <td>1.000000e+00</td>\n",
              "    </tr>\n",
              "    <tr>\n",
              "      <th>25%</th>\n",
              "      <td>4.140500e+07</td>\n",
              "      <td>10022.000000</td>\n",
              "      <td>11.000000</td>\n",
              "      <td>40.685173</td>\n",
              "      <td>-73.989201</td>\n",
              "      <td>105.000000</td>\n",
              "      <td>4.000000</td>\n",
              "      <td>7800.000000</td>\n",
              "      <td>1.042824e+06</td>\n",
              "      <td>1.010360e+09</td>\n",
              "    </tr>\n",
              "    <tr>\n",
              "      <th>50%</th>\n",
              "      <td>5.000901e+07</td>\n",
              "      <td>10468.000000</td>\n",
              "      <td>15.000000</td>\n",
              "      <td>40.732084</td>\n",
              "      <td>-73.958111</td>\n",
              "      <td>301.000000</td>\n",
              "      <td>20.000000</td>\n",
              "      <td>16100.000000</td>\n",
              "      <td>3.007692e+06</td>\n",
              "      <td>3.001640e+09</td>\n",
              "    </tr>\n",
              "    <tr>\n",
              "      <th>75%</th>\n",
              "      <td>5.005960e+07</td>\n",
              "      <td>11229.000000</td>\n",
              "      <td>26.000000</td>\n",
              "      <td>40.761562</td>\n",
              "      <td>-73.898493</td>\n",
              "      <td>401.000000</td>\n",
              "      <td>34.000000</td>\n",
              "      <td>40300.000000</td>\n",
              "      <td>4.001953e+06</td>\n",
              "      <td>4.001350e+09</td>\n",
              "    </tr>\n",
              "    <tr>\n",
              "      <th>max</th>\n",
              "      <td>5.010899e+07</td>\n",
              "      <td>30339.000000</td>\n",
              "      <td>164.000000</td>\n",
              "      <td>40.912822</td>\n",
              "      <td>0.000000</td>\n",
              "      <td>595.000000</td>\n",
              "      <td>51.000000</td>\n",
              "      <td>162100.000000</td>\n",
              "      <td>5.799501e+06</td>\n",
              "      <td>5.270001e+09</td>\n",
              "    </tr>\n",
              "  </tbody>\n",
              "</table>\n",
              "</div>"
            ],
            "text/plain": [
              "              CAMIS        ZIPCODE  ...           BIN           BBL\n",
              "count  3.960220e+05  389325.000000  ...  3.862060e+05  3.945970e+05\n",
              "mean   4.622461e+07   10679.809704  ...  2.509389e+06  2.395162e+09\n",
              "std    4.393569e+06     602.240918  ...  1.349104e+06  1.344780e+09\n",
              "min    3.007544e+07   10000.000000  ...  1.000000e+06  1.000000e+00\n",
              "25%    4.140500e+07   10022.000000  ...  1.042824e+06  1.010360e+09\n",
              "50%    5.000901e+07   10468.000000  ...  3.007692e+06  3.001640e+09\n",
              "75%    5.005960e+07   11229.000000  ...  4.001953e+06  4.001350e+09\n",
              "max    5.010899e+07   30339.000000  ...  5.799501e+06  5.270001e+09\n",
              "\n",
              "[8 rows x 10 columns]"
            ]
          },
          "metadata": {
            "tags": []
          },
          "execution_count": 94
        }
      ]
    },
    {
      "cell_type": "markdown",
      "metadata": {
        "id": "sFlEcTbLZZEr"
      },
      "source": [
        "## <a class=\"anchor\"></a> 1.2. Dtypes and descriptive statistics\r\n",
        "\r\n",
        "Recall from week2 that there are different dtypes in Pandas. Have a look at this table once again:\r\n",
        "\r\n",
        "\r\n",
        "| Pandas dtype  | Python type  | NumPy type|Usage\r\n",
        "| :--- | :--- | :--- | :--- |\r\n",
        "| object| str or mixed | string_, unicode_, mixed types| Text or mixed numeric and non_numeric values |\r\n",
        "| int 64| int| int_, int8, int16, int32, int64, uint8, uint18, uint32, uint64 | Integer numbers i.e. [1,2,3,...] |\r\n",
        "| float64| float| float_, float15, float32, float64 | Floating point numbers (They contain decimal points) |\r\n",
        "| bool| bool|bool_| True/False values|\r\n",
        "| datetime64 | NA | datetime64[ns]     | Date and time values  |\r\n",
        "| timedelta[ns] | NA  | NA| Differences between two datetime|\r\n",
        "| category | NA| NA| Finite list of text values|\r\n",
        "\r\n",
        "\r\n",
        "Now let's see what the dtypes of our DF are:\r\n"
      ]
    },
    {
      "cell_type": "code",
      "metadata": {
        "colab": {
          "base_uri": "https://localhost:8080/"
        },
        "id": "fOVgjWctXtvp",
        "outputId": "95c4a4bb-ba65-4361-ade8-bb276d636ba5"
      },
      "source": [
        "restaurants.dtypes"
      ],
      "execution_count": 95,
      "outputs": [
        {
          "output_type": "execute_result",
          "data": {
            "text/plain": [
              "CAMIS                      int64\n",
              "DBA                       object\n",
              "BORO                      object\n",
              "BUILDING                  object\n",
              "STREET                    object\n",
              "ZIPCODE                  float64\n",
              "PHONE                     object\n",
              "CUISINE DESCRIPTION       object\n",
              "INSPECTION DATE           object\n",
              "ACTION                    object\n",
              "VIOLATION CODE            object\n",
              "VIOLATION DESCRIPTION     object\n",
              "CRITICAL FLAG             object\n",
              "SCORE                    float64\n",
              "GRADE                     object\n",
              "GRADE DATE                object\n",
              "RECORD DATE               object\n",
              "INSPECTION TYPE           object\n",
              "Latitude                 float64\n",
              "Longitude                float64\n",
              "Community Board          float64\n",
              "Council District         float64\n",
              "Census Tract             float64\n",
              "BIN                      float64\n",
              "BBL                      float64\n",
              "NTA                       object\n",
              "dtype: object"
            ]
          },
          "metadata": {
            "tags": []
          },
          "execution_count": 95
        }
      ]
    },
    {
      "cell_type": "markdown",
      "metadata": {
        "id": "F6cXeIxnir33"
      },
      "source": [
        "### <a class=\"anchor\"></a> 1.2.1 Descriptive Statistics for numerical variables\n",
        " All our colums are `object` type. We will use the `pd.to_numeric()` function to convert some of the columns to `float64` type and see if the `.describe()` funciton can give us some more useful statistical information."
      ]
    },
    {
      "cell_type": "code",
      "metadata": {
        "colab": {
          "base_uri": "https://localhost:8080/"
        },
        "id": "3Z7jTfsQaRKp",
        "outputId": "be6c0db0-f6b4-41a6-ac37-f4c7ebcae4e8"
      },
      "source": [
        "#Describe the SCORE column\r\n",
        "restaurants.SCORE.describe()"
      ],
      "execution_count": 96,
      "outputs": [
        {
          "output_type": "execute_result",
          "data": {
            "text/plain": [
              "count    377310.000000\n",
              "mean         20.112738\n",
              "std          14.730377\n",
              "min          -1.000000\n",
              "25%          11.000000\n",
              "50%          15.000000\n",
              "75%          26.000000\n",
              "max         164.000000\n",
              "Name: SCORE, dtype: float64"
            ]
          },
          "metadata": {
            "tags": []
          },
          "execution_count": 96
        }
      ]
    },
    {
      "cell_type": "markdown",
      "metadata": {
        "id": "dWT6EPKDE8zE"
      },
      "source": [
        "We can use the `.hist()` function to plot an histogram and get a better look at our data."
      ]
    },
    {
      "cell_type": "code",
      "metadata": {
        "colab": {
          "base_uri": "https://localhost:8080/",
          "height": 284
        },
        "id": "8jvoTXbVE-rA",
        "outputId": "02a6910f-31a8-49ab-87f5-3ea5c84630c8"
      },
      "source": [
        "restaurants[\"SCORE\"].hist()"
      ],
      "execution_count": 97,
      "outputs": [
        {
          "output_type": "execute_result",
          "data": {
            "text/plain": [
              "<matplotlib.axes._subplots.AxesSubplot at 0x7fb6f0812090>"
            ]
          },
          "metadata": {
            "tags": []
          },
          "execution_count": 97
        },
        {
          "output_type": "display_data",
          "data": {
            "image/png": "[encoded data removed]",
            "text/plain": [
              "<Figure size 432x288 with 1 Axes>"
            ]
          },
          "metadata": {
            "tags": [],
            "needs_background": "light"
          }
        }
      ]
    },
    {
      "cell_type": "markdown",
      "metadata": {
        "id": "NLHK6ncaGNsB"
      },
      "source": [
        "The `hist()` function allows to pass multiple arguments, you can find more information if you follow this [link](https://pandas.pydata.org/pandas-docs/stable/reference/api/pandas.DataFrame.hist.html)\r\n"
      ]
    },
    {
      "cell_type": "code",
      "metadata": {
        "colab": {
          "base_uri": "https://localhost:8080/",
          "height": 283
        },
        "id": "0ZmdQWYHHl7g",
        "outputId": "4dab2f7c-c153-4ea1-84f5-22c2cf04e153"
      },
      "source": [
        "restaurants[\"SCORE\"].hist(bins = 50)"
      ],
      "execution_count": 42,
      "outputs": [
        {
          "output_type": "execute_result",
          "data": {
            "text/plain": [
              "<matplotlib.axes._subplots.AxesSubplot at 0x7fb7013636d0>"
            ]
          },
          "metadata": {
            "tags": []
          },
          "execution_count": 42
        },
        {
          "output_type": "display_data",
          "data": {
            "image/png": "[encoded data removed]",
            "text/plain": [
              "<Figure size 432x288 with 1 Axes>"
            ]
          },
          "metadata": {
            "tags": [],
            "needs_background": "light"
          }
        }
      ]
    },
    {
      "cell_type": "code",
      "metadata": {
        "colab": {
          "base_uri": "https://localhost:8080/",
          "height": 338
        },
        "id": "XGZTeED5Hyrg",
        "outputId": "e9ff43b5-8a0f-4490-b744-3670c6b7b24e"
      },
      "source": [
        "# A quick exposure to various options of the \"hist\" command \r\n",
        "restaurants.SCORE.hist(bins=50, # use 50 bars\r\n",
        "                          range=(0,50), # x-axis from 0 to 50\r\n",
        "                          density=False,  # show normalized count (density=True), or raw counts (density= False)\r\n",
        "                          figsize=(15,5), # controls the size of the plot\r\n",
        "                          alpha = 0.8 # make the plot 20% transparent\r\n",
        "                         )"
      ],
      "execution_count": 43,
      "outputs": [
        {
          "output_type": "execute_result",
          "data": {
            "text/plain": [
              "<matplotlib.axes._subplots.AxesSubplot at 0x7fb700e21190>"
            ]
          },
          "metadata": {
            "tags": []
          },
          "execution_count": 43
        },
        {
          "output_type": "display_data",
          "data": {
            "image/png": "[encoded data removed]",
            "text/plain": [
              "<Figure size 1080x360 with 1 Axes>"
            ]
          },
          "metadata": {
            "tags": [],
            "needs_background": "light"
          }
        }
      ]
    },
    {
      "cell_type": "markdown",
      "metadata": {
        "id": "QskynHO7ayNR"
      },
      "source": [
        "We now have some statistical information for the SCORE column. Let's convert some other columns to a more useful type."
      ]
    },
    {
      "cell_type": "markdown",
      "metadata": {
        "id": "ncwnUCNKch05"
      },
      "source": [
        "### <a class=\"anchor\"></a> 1.2.2 Descriptive statistics for DATETIME variables\r\n",
        "\r\n",
        "\r\n",
        "Remember that one of the dtypes handles Date and Time. Some of the columns in our DF contain this type of data, so let's convert these columns to the `datetime64` dtype.\r\n"
      ]
    },
    {
      "cell_type": "code",
      "metadata": {
        "colab": {
          "base_uri": "https://localhost:8080/"
        },
        "id": "GpHpl-lXdXOI",
        "outputId": "697b29eb-6869-48a4-ee53-730e0933efd5"
      },
      "source": [
        "restaurants[\"GRADE DATE\"].head(10)"
      ],
      "execution_count": 44,
      "outputs": [
        {
          "output_type": "execute_result",
          "data": {
            "text/plain": [
              "0           NaN\n",
              "1           NaN\n",
              "2    10/19/2018\n",
              "3    04/17/2019\n",
              "4    05/03/2018\n",
              "5    11/01/2019\n",
              "6    12/03/2018\n",
              "7           NaN\n",
              "8    03/04/2020\n",
              "9           NaN\n",
              "Name: GRADE DATE, dtype: object"
            ]
          },
          "metadata": {
            "tags": []
          },
          "execution_count": 44
        }
      ]
    },
    {
      "cell_type": "markdown",
      "metadata": {
        "id": "HM24xiHNdokw"
      },
      "source": [
        "For that, we need to understand first how to parse dates using the [Python conventions.](https://docs.python.org/3/library/datetime.html#strftime-and-strptime-behavior) \r\n",
        "\r\n",
        "The relevant entries from the table are:\r\n",
        "\r\n",
        "    %m Month as a zero-padded decimal number.\r\n",
        "    %d Day of the month as a zero-padded decimal number.\r\n",
        "    %Y Year with century as a decimal number.\r\n",
        "\r\n",
        "Now that we know in what format the dates were entried (remember that americans write dates like this `month/day/year` , as opposed to `day/month/year`), we can convert our columns."
      ]
    },
    {
      "cell_type": "code",
      "metadata": {
        "colab": {
          "base_uri": "https://localhost:8080/"
        },
        "id": "WkFnmcNNea9I",
        "outputId": "4f779347-0312-44bb-c8ec-e82f98bd3c5f"
      },
      "source": [
        "#We convert some columnd to the datetime64 tyoe\r\n",
        "restaurants[\"GRADE DATE\"] = pd.to_datetime(restaurants[\"GRADE DATE\"], format=\"%m/%d/%Y\")\r\n",
        "restaurants[\"RECORD DATE\"] = pd.to_datetime(restaurants[\"RECORD DATE\"], format=\"%m/%d/%Y\")\r\n",
        "restaurants[\"INSPECTION DATE\"] = pd.to_datetime(restaurants[\"INSPECTION DATE\"], format=\"%m/%d/%Y\")\r\n",
        "\r\n",
        "#Now we have another look at the dtaypes\r\n",
        "restaurants.dtypes"
      ],
      "execution_count": 98,
      "outputs": [
        {
          "output_type": "execute_result",
          "data": {
            "text/plain": [
              "CAMIS                             int64\n",
              "DBA                              object\n",
              "BORO                             object\n",
              "BUILDING                         object\n",
              "STREET                           object\n",
              "ZIPCODE                         float64\n",
              "PHONE                            object\n",
              "CUISINE DESCRIPTION              object\n",
              "INSPECTION DATE          datetime64[ns]\n",
              "ACTION                           object\n",
              "VIOLATION CODE                   object\n",
              "VIOLATION DESCRIPTION            object\n",
              "CRITICAL FLAG                    object\n",
              "SCORE                           float64\n",
              "GRADE                            object\n",
              "GRADE DATE               datetime64[ns]\n",
              "RECORD DATE              datetime64[ns]\n",
              "INSPECTION TYPE                  object\n",
              "Latitude                        float64\n",
              "Longitude                       float64\n",
              "Community Board                 float64\n",
              "Council District                float64\n",
              "Census Tract                    float64\n",
              "BIN                             float64\n",
              "BBL                             float64\n",
              "NTA                              object\n",
              "dtype: object"
            ]
          },
          "metadata": {
            "tags": []
          },
          "execution_count": 98
        }
      ]
    },
    {
      "cell_type": "markdown",
      "metadata": {
        "id": "x7FU3IlEe1MR"
      },
      "source": [
        "Let's see what the `.describe()` function can do now."
      ]
    },
    {
      "cell_type": "code",
      "metadata": {
        "colab": {
          "base_uri": "https://localhost:8080/",
          "height": 269
        },
        "id": "QjHjatoRedo5",
        "outputId": "26a961c7-7c73-46f1-9174-93286ac51abc"
      },
      "source": [
        "restaurants[[\"INSPECTION DATE\", \"GRADE DATE\", \"RECORD DATE\"]].describe(datetime_is_numeric=True)"
      ],
      "execution_count": 99,
      "outputs": [
        {
          "output_type": "execute_result",
          "data": {
            "text/html": [
              "<div>\n",
              "<style scoped>\n",
              "    .dataframe tbody tr th:only-of-type {\n",
              "        vertical-align: middle;\n",
              "    }\n",
              "\n",
              "    .dataframe tbody tr th {\n",
              "        vertical-align: top;\n",
              "    }\n",
              "\n",
              "    .dataframe thead th {\n",
              "        text-align: right;\n",
              "    }\n",
              "</style>\n",
              "<table border=\"1\" class=\"dataframe\">\n",
              "  <thead>\n",
              "    <tr style=\"text-align: right;\">\n",
              "      <th></th>\n",
              "      <th>INSPECTION DATE</th>\n",
              "      <th>GRADE DATE</th>\n",
              "      <th>RECORD DATE</th>\n",
              "    </tr>\n",
              "  </thead>\n",
              "  <tbody>\n",
              "    <tr>\n",
              "      <th>count</th>\n",
              "      <td>396022</td>\n",
              "      <td>197675</td>\n",
              "      <td>396022</td>\n",
              "    </tr>\n",
              "    <tr>\n",
              "      <th>mean</th>\n",
              "      <td>2017-08-26 10:03:53.841440256</td>\n",
              "      <td>2018-09-16 19:10:05.047770880</td>\n",
              "      <td>2021-02-28 23:59:59.990391296</td>\n",
              "    </tr>\n",
              "    <tr>\n",
              "      <th>min</th>\n",
              "      <td>1900-01-01 00:00:00</td>\n",
              "      <td>2011-05-27 00:00:00</td>\n",
              "      <td>2021-03-01 00:00:00</td>\n",
              "    </tr>\n",
              "    <tr>\n",
              "      <th>25%</th>\n",
              "      <td>2017-12-28 00:00:00</td>\n",
              "      <td>2018-01-11 00:00:00</td>\n",
              "      <td>2021-03-01 00:00:00</td>\n",
              "    </tr>\n",
              "    <tr>\n",
              "      <th>50%</th>\n",
              "      <td>2018-10-24 00:00:00</td>\n",
              "      <td>2018-10-23 00:00:00</td>\n",
              "      <td>2021-03-01 00:00:00</td>\n",
              "    </tr>\n",
              "    <tr>\n",
              "      <th>75%</th>\n",
              "      <td>2019-07-11 00:00:00</td>\n",
              "      <td>2019-07-03 00:00:00</td>\n",
              "      <td>2021-03-01 00:00:00</td>\n",
              "    </tr>\n",
              "    <tr>\n",
              "      <th>max</th>\n",
              "      <td>2021-02-26 00:00:00</td>\n",
              "      <td>2020-12-31 00:00:00</td>\n",
              "      <td>2021-03-01 00:00:00</td>\n",
              "    </tr>\n",
              "  </tbody>\n",
              "</table>\n",
              "</div>"
            ],
            "text/plain": [
              "                     INSPECTION DATE  ...                    RECORD DATE\n",
              "count                         396022  ...                         396022\n",
              "mean   2017-08-26 10:03:53.841440256  ...  2021-02-28 23:59:59.990391296\n",
              "min              1900-01-01 00:00:00  ...            2021-03-01 00:00:00\n",
              "25%              2017-12-28 00:00:00  ...            2021-03-01 00:00:00\n",
              "50%              2018-10-24 00:00:00  ...            2021-03-01 00:00:00\n",
              "75%              2019-07-11 00:00:00  ...            2021-03-01 00:00:00\n",
              "max              2021-02-26 00:00:00  ...            2021-03-01 00:00:00\n",
              "\n",
              "[7 rows x 3 columns]"
            ]
          },
          "metadata": {
            "tags": []
          },
          "execution_count": 99
        }
      ]
    },
    {
      "cell_type": "markdown",
      "metadata": {
        "id": "8bCF8YwP7g8c"
      },
      "source": [
        "We can also plot an histogram for datetime variables:"
      ]
    },
    {
      "cell_type": "code",
      "metadata": {
        "id": "A-Nlhi4D1fGb",
        "outputId": "43cdefdb-2a73-49cf-d34a-70ff93736f09",
        "colab": {
          "base_uri": "https://localhost:8080/",
          "height": 283
        }
      },
      "source": [
        "restaurants[\"GRADE DATE\"].hist()\r\n"
      ],
      "execution_count": 104,
      "outputs": [
        {
          "output_type": "execute_result",
          "data": {
            "text/plain": [
              "<matplotlib.axes._subplots.AxesSubplot at 0x7fb6f066f850>"
            ]
          },
          "metadata": {
            "tags": []
          },
          "execution_count": 104
        },
        {
          "output_type": "display_data",
          "data": {
            "image/png": "[encoded data removed]",
            "text/plain": [
              "<Figure size 432x288 with 1 Axes>"
            ]
          },
          "metadata": {
            "tags": [],
            "needs_background": "light"
          }
        }
      ]
    },
    {
      "cell_type": "markdown",
      "metadata": {
        "id": "J0rTfZ5medCI"
      },
      "source": [
        "### <a class=\"anchor\"></a> 1.2.3 Descriptive statistics for categorical variables\r\n",
        "\r\n",
        "Now let's handle categorical data. This is most commonly useful when we have variables that have an implicit order (e.g., the A/B/C grade of the restaurant).\r\n",
        "\r\n",
        "We can use the pandas `.Categorical` function for this."
      ]
    },
    {
      "cell_type": "code",
      "metadata": {
        "colab": {
          "base_uri": "https://localhost:8080/"
        },
        "id": "F_U3zpWKfslZ",
        "outputId": "fa3adddb-f6e2-490b-8243-d6751b460dee"
      },
      "source": [
        "#We convert the categorical columns\r\n",
        "restaurants[\"BORO\"] =  pd.Categorical(restaurants[\"BORO\"], ordered=False)\r\n",
        "restaurants[\"GRADE\"] =  pd.Categorical(restaurants[\"GRADE\"], categories = ['A', 'B', 'C'], ordered=True)\r\n",
        "restaurants[\"VIOLATION CODE\"] =  pd.Categorical(restaurants[\"VIOLATION CODE\"], ordered=False)\r\n",
        "restaurants[\"CRITICAL FLAG\"] =  pd.Categorical(restaurants[\"CRITICAL FLAG\"], ordered=False)\r\n",
        "restaurants[\"ACTION\"] =  pd.Categorical(restaurants[\"ACTION\"], ordered=False)\r\n",
        "restaurants[\"CUISINE DESCRIPTION\"] =  pd.Categorical(restaurants[\"CUISINE DESCRIPTION\"], ordered=False)\r\n",
        "\r\n",
        "#We have another look at the dtypes\r\n",
        "restaurants.dtypes"
      ],
      "execution_count": 48,
      "outputs": [
        {
          "output_type": "execute_result",
          "data": {
            "text/plain": [
              "CAMIS                             int64\n",
              "DBA                              object\n",
              "BORO                           category\n",
              "BUILDING                         object\n",
              "STREET                           object\n",
              "ZIPCODE                         float64\n",
              "PHONE                            object\n",
              "CUISINE DESCRIPTION            category\n",
              "INSPECTION DATE          datetime64[ns]\n",
              "ACTION                         category\n",
              "VIOLATION CODE                 category\n",
              "VIOLATION DESCRIPTION            object\n",
              "CRITICAL FLAG                  category\n",
              "SCORE                           float64\n",
              "GRADE                          category\n",
              "GRADE DATE               datetime64[ns]\n",
              "RECORD DATE              datetime64[ns]\n",
              "INSPECTION TYPE                  object\n",
              "Latitude                        float64\n",
              "Longitude                       float64\n",
              "Community Board                 float64\n",
              "Council District                float64\n",
              "Census Tract                    float64\n",
              "BIN                             float64\n",
              "BBL                             float64\n",
              "NTA                              object\n",
              "dtype: object"
            ]
          },
          "metadata": {
            "tags": []
          },
          "execution_count": 48
        }
      ]
    },
    {
      "cell_type": "code",
      "metadata": {
        "colab": {
          "base_uri": "https://localhost:8080/"
        },
        "id": "fytkMZlFgan5",
        "outputId": "17de94ef-584a-4b1f-bdf0-0aa6ac19266a"
      },
      "source": [
        "restaurants[\"DBA\"].value_counts()[:10]"
      ],
      "execution_count": 49,
      "outputs": [
        {
          "output_type": "execute_result",
          "data": {
            "text/plain": [
              "DUNKIN'                                  4149\n",
              "SUBWAY                                   2944\n",
              "STARBUCKS                                2130\n",
              "MCDONALD'S                               1925\n",
              "KENNEDY FRIED CHICKEN                    1339\n",
              "DUNKIN', BASKIN ROBBINS                  1165\n",
              "CROWN FRIED CHICKEN                      1106\n",
              "BURGER KING                              1032\n",
              "POPEYES                                   949\n",
              "GOLDEN KRUST CARIBBEAN BAKERY & GRILL     780\n",
              "Name: DBA, dtype: int64"
            ]
          },
          "metadata": {
            "tags": []
          },
          "execution_count": 49
        }
      ]
    },
    {
      "cell_type": "markdown",
      "metadata": {
        "id": "w9EaoV62gh4w"
      },
      "source": [
        "An explanation:\r\n",
        " * The `value_counts()` function counts how many different values there are.\r\n",
        " * The `[:10]` filters the list, thus showing us only the first 10 values.  \r\n",
        "\r\n",
        "\r\n",
        " "
      ]
    },
    {
      "cell_type": "code",
      "metadata": {
        "colab": {
          "base_uri": "https://localhost:8080/"
        },
        "id": "izY0a0Qyg_K6",
        "outputId": "e4be4032-516f-4dd1-f7f6-c34956868e3d"
      },
      "source": [
        "restaurants[\"CUISINE DESCRIPTION\"].value_counts()[:5]"
      ],
      "execution_count": 50,
      "outputs": [
        {
          "output_type": "execute_result",
          "data": {
            "text/plain": [
              "American                                      81633\n",
              "Chinese                                       41595\n",
              "Pizza                                         25393\n",
              "Café/Coffee/Tea                               19591\n",
              "Latin American (Central and South America)    17301\n",
              "Name: CUISINE DESCRIPTION, dtype: int64"
            ]
          },
          "metadata": {
            "tags": []
          },
          "execution_count": 50
        }
      ]
    },
    {
      "cell_type": "markdown",
      "metadata": {
        "id": "YXRJhWgMhErJ"
      },
      "source": [
        "We can also plot the data, lets start by plotting the different categories of food with the `.plot()` function."
      ]
    },
    {
      "cell_type": "code",
      "metadata": {
        "colab": {
          "base_uri": "https://localhost:8080/",
          "height": 494
        },
        "id": "38BuE0behB_o",
        "outputId": "7a11475b-9774-497c-b592-5128ee42443d"
      },
      "source": [
        "restaurants[\"CUISINE DESCRIPTION\"].value_counts()[:5].plot(kind='bar')"
      ],
      "execution_count": 51,
      "outputs": [
        {
          "output_type": "execute_result",
          "data": {
            "text/plain": [
              "<matplotlib.axes._subplots.AxesSubplot at 0x7fb70143bf50>"
            ]
          },
          "metadata": {
            "tags": []
          },
          "execution_count": 51
        },
        {
          "output_type": "display_data",
          "data": {
            "image/png": "[encoded data removed]",
            "text/plain": [
              "<Figure size 432x288 with 1 Axes>"
            ]
          },
          "metadata": {
            "tags": [],
            "needs_background": "light"
          }
        }
      ]
    },
    {
      "cell_type": "code",
      "metadata": {
        "colab": {
          "base_uri": "https://localhost:8080/"
        },
        "id": "PM_T_wejhv8g",
        "outputId": "b99b2748-3973-42cf-8edb-a2b83e0ca919"
      },
      "source": [
        "popular = restaurants[\"CUISINE DESCRIPTION\"].value_counts()\r\n",
        "popular"
      ],
      "execution_count": 52,
      "outputs": [
        {
          "output_type": "execute_result",
          "data": {
            "text/plain": [
              "American                                      81633\n",
              "Chinese                                       41595\n",
              "Pizza                                         25393\n",
              "Café/Coffee/Tea                               19591\n",
              "Latin American (Central and South America)    17301\n",
              "                                              ...  \n",
              "Iranian                                          68\n",
              "Czech                                            43\n",
              "Nuts/Confectionary                               43\n",
              "Chilean                                          32\n",
              "Basque                                            9\n",
              "Name: CUISINE DESCRIPTION, Length: 82, dtype: int64"
            ]
          },
          "metadata": {
            "tags": []
          },
          "execution_count": 52
        }
      ]
    },
    {
      "cell_type": "markdown",
      "metadata": {
        "id": "dY3l8-w_iWgw"
      },
      "source": [
        "If you have a look at the results of the last block of code, you will see that is seems to be quite detailed. We might for example want to treat \"Cuban\", \"Dominican\", \"Puerto Rican\", \"South & Central American\" just as \"Latin American\".\r\n",
        "\r\n",
        "The `.replace()` function allows us to do this."
      ]
    },
    {
      "cell_type": "code",
      "metadata": {
        "id": "picE57BmiUYY"
      },
      "source": [
        "#Latin American food\r\n",
        "restaurants[\"CUISINE DESCRIPTION\"].replace(\r\n",
        "    to_replace=['Latin American (Central and South America)', 'Chilean'],\r\n",
        "    value = 'Latin American',\r\n",
        "    inplace=True\r\n",
        ")\r\n",
        "\r\n",
        "#Coffe bar\r\n",
        "restaurants[\"CUISINE DESCRIPTION\"].replace(\r\n",
        "    to_replace='CafÃ©/Coffee/Tea',\r\n",
        "    value = 'Cafe/Coffee/Tea',\r\n",
        "    inplace=True\r\n",
        ")"
      ],
      "execution_count": 53,
      "outputs": []
    },
    {
      "cell_type": "code",
      "metadata": {
        "colab": {
          "base_uri": "https://localhost:8080/"
        },
        "id": "k7_Jad3FJzms",
        "outputId": "b1ccb513-e1a6-4aca-9546-8efc359c04ed"
      },
      "source": [
        "popular = restaurants[\"CUISINE DESCRIPTION\"].value_counts()\r\n",
        "popular"
      ],
      "execution_count": 54,
      "outputs": [
        {
          "output_type": "execute_result",
          "data": {
            "text/plain": [
              "American              81633\n",
              "Chinese               41595\n",
              "Pizza                 25393\n",
              "Café/Coffee/Tea       19591\n",
              "Latin American        17333\n",
              "                      ...  \n",
              "Fruits/Vegetables        80\n",
              "Iranian                  68\n",
              "Nuts/Confectionary       43\n",
              "Czech                    43\n",
              "Basque                    9\n",
              "Name: CUISINE DESCRIPTION, Length: 81, dtype: int64"
            ]
          },
          "metadata": {
            "tags": []
          },
          "execution_count": 54
        }
      ]
    },
    {
      "cell_type": "markdown",
      "metadata": {
        "id": "EbTrqDwXJVZx"
      },
      "source": [
        "We can now plot the same barchart again, and see what the results are:\r\n",
        "\r\n"
      ]
    },
    {
      "cell_type": "code",
      "metadata": {
        "colab": {
          "base_uri": "https://localhost:8080/",
          "height": 352
        },
        "id": "PTKa2mAbJjjY",
        "outputId": "755bdc9f-f716-4d00-8c0e-c503ec434ee2"
      },
      "source": [
        "popular = restaurants[\"CUISINE DESCRIPTION\"].value_counts()\r\n",
        "popular[:5].plot(kind='bar')"
      ],
      "execution_count": 55,
      "outputs": [
        {
          "output_type": "execute_result",
          "data": {
            "text/plain": [
              "<matplotlib.axes._subplots.AxesSubplot at 0x7fb700c52690>"
            ]
          },
          "metadata": {
            "tags": []
          },
          "execution_count": 55
        },
        {
          "output_type": "display_data",
          "data": {
            "image/png": "[encoded data removed]",
            "text/plain": [
              "<Figure size 432x288 with 1 Axes>"
            ]
          },
          "metadata": {
            "tags": [],
            "needs_background": "light"
          }
        }
      ]
    },
    {
      "cell_type": "markdown",
      "metadata": {
        "id": "L7m2LIHKjDBU"
      },
      "source": [
        "## <a class=\"anchor\"></a> 1.3 Selecting Subsets\r\n",
        "\r\n",
        "\r\n"
      ]
    },
    {
      "cell_type": "markdown",
      "metadata": {
        "id": "kU3TPOupkSDo"
      },
      "source": [
        "To select rows, we can use the following approach, where we generate a list of boolean values, one for each row of the dataframe, and then we use the list to select which of the rows of the dataframe we want to keep"
      ]
    },
    {
      "cell_type": "code",
      "metadata": {
        "colab": {
          "base_uri": "https://localhost:8080/"
        },
        "id": "JpZNv0mjki_f",
        "outputId": "09c9a648-3cfb-4c2a-c860-16bb32075996"
      },
      "source": [
        "# Create the condition \"has mice\" for code 04L\r\n",
        "mice = (restaurants[\"VIOLATION CODE\"] == \"04L\")\r\n",
        "mice.head()"
      ],
      "execution_count": 56,
      "outputs": [
        {
          "output_type": "execute_result",
          "data": {
            "text/plain": [
              "0    False\n",
              "1    False\n",
              "2    False\n",
              "3    False\n",
              "4    False\n",
              "Name: VIOLATION CODE, dtype: bool"
            ]
          },
          "metadata": {
            "tags": []
          },
          "execution_count": 56
        }
      ]
    },
    {
      "cell_type": "code",
      "metadata": {
        "colab": {
          "base_uri": "https://localhost:8080/",
          "height": 678
        },
        "id": "n5uQfBgnk4mZ",
        "outputId": "96107e46-7eae-4d17-c921-7349d4fb0297"
      },
      "source": [
        "# Apply the condition to the dataframe \"restaurants\" and store the result \r\n",
        "# in a dataframe called  has_mice\r\n",
        "\r\n",
        "has_mice = restaurants[mice]\r\n",
        "has_mice.head()"
      ],
      "execution_count": 57,
      "outputs": [
        {
          "output_type": "execute_result",
          "data": {
            "text/html": [
              "<div>\n",
              "<style scoped>\n",
              "    .dataframe tbody tr th:only-of-type {\n",
              "        vertical-align: middle;\n",
              "    }\n",
              "\n",
              "    .dataframe tbody tr th {\n",
              "        vertical-align: top;\n",
              "    }\n",
              "\n",
              "    .dataframe thead th {\n",
              "        text-align: right;\n",
              "    }\n",
              "</style>\n",
              "<table border=\"1\" class=\"dataframe\">\n",
              "  <thead>\n",
              "    <tr style=\"text-align: right;\">\n",
              "      <th></th>\n",
              "      <th>CAMIS</th>\n",
              "      <th>DBA</th>\n",
              "      <th>BORO</th>\n",
              "      <th>BUILDING</th>\n",
              "      <th>STREET</th>\n",
              "      <th>ZIPCODE</th>\n",
              "      <th>PHONE</th>\n",
              "      <th>CUISINE DESCRIPTION</th>\n",
              "      <th>INSPECTION DATE</th>\n",
              "      <th>ACTION</th>\n",
              "      <th>VIOLATION CODE</th>\n",
              "      <th>VIOLATION DESCRIPTION</th>\n",
              "      <th>CRITICAL FLAG</th>\n",
              "      <th>SCORE</th>\n",
              "      <th>GRADE</th>\n",
              "      <th>GRADE DATE</th>\n",
              "      <th>RECORD DATE</th>\n",
              "      <th>INSPECTION TYPE</th>\n",
              "      <th>Latitude</th>\n",
              "      <th>Longitude</th>\n",
              "      <th>Community Board</th>\n",
              "      <th>Council District</th>\n",
              "      <th>Census Tract</th>\n",
              "      <th>BIN</th>\n",
              "      <th>BBL</th>\n",
              "      <th>NTA</th>\n",
              "    </tr>\n",
              "  </thead>\n",
              "  <tbody>\n",
              "    <tr>\n",
              "      <th>12</th>\n",
              "      <td>50004512</td>\n",
              "      <td>TIO LUCA</td>\n",
              "      <td>Manhattan</td>\n",
              "      <td>421</td>\n",
              "      <td>MALCOLM X BOULEVARD</td>\n",
              "      <td>10037.0</td>\n",
              "      <td>2129399306</td>\n",
              "      <td>Spanish</td>\n",
              "      <td>2018-05-30</td>\n",
              "      <td>Violations were cited in the following area(s).</td>\n",
              "      <td>04L</td>\n",
              "      <td>Evidence of mice or live mice present in facil...</td>\n",
              "      <td>Y</td>\n",
              "      <td>24.0</td>\n",
              "      <td>NaN</td>\n",
              "      <td>NaT</td>\n",
              "      <td>2021-03-01</td>\n",
              "      <td>Cycle Inspection / Initial Inspection</td>\n",
              "      <td>40.811703</td>\n",
              "      <td>-73.942626</td>\n",
              "      <td>110.0</td>\n",
              "      <td>9.0</td>\n",
              "      <td>22600.0</td>\n",
              "      <td>1058102.0</td>\n",
              "      <td>1.019160e+09</td>\n",
              "      <td>MN03</td>\n",
              "    </tr>\n",
              "    <tr>\n",
              "      <th>31</th>\n",
              "      <td>40539661</td>\n",
              "      <td>BAKE AND THINGS RESTAURANT</td>\n",
              "      <td>Brooklyn</td>\n",
              "      <td>184</td>\n",
              "      <td>EAST   35 STREET</td>\n",
              "      <td>11203.0</td>\n",
              "      <td>7188261807</td>\n",
              "      <td>Caribbean (Inc. Cuban, Puerto Rican)</td>\n",
              "      <td>2017-10-05</td>\n",
              "      <td>Violations were cited in the following area(s).</td>\n",
              "      <td>04L</td>\n",
              "      <td>Evidence of mice or live mice present in facil...</td>\n",
              "      <td>Y</td>\n",
              "      <td>33.0</td>\n",
              "      <td>NaN</td>\n",
              "      <td>NaT</td>\n",
              "      <td>2021-03-01</td>\n",
              "      <td>Cycle Inspection / Initial Inspection</td>\n",
              "      <td>40.650633</td>\n",
              "      <td>-73.944740</td>\n",
              "      <td>317.0</td>\n",
              "      <td>45.0</td>\n",
              "      <td>85600.0</td>\n",
              "      <td>3109425.0</td>\n",
              "      <td>3.048880e+09</td>\n",
              "      <td>BK91</td>\n",
              "    </tr>\n",
              "    <tr>\n",
              "      <th>34</th>\n",
              "      <td>41634837</td>\n",
              "      <td>ST MARKS KARAOKE</td>\n",
              "      <td>Manhattan</td>\n",
              "      <td>6</td>\n",
              "      <td>ST MARKS PLACE</td>\n",
              "      <td>10003.0</td>\n",
              "      <td>2122286250</td>\n",
              "      <td>Bottled beverages, including water, sodas, jui...</td>\n",
              "      <td>2018-06-06</td>\n",
              "      <td>Violations were cited in the following area(s).</td>\n",
              "      <td>04L</td>\n",
              "      <td>Evidence of mice or live mice present in facil...</td>\n",
              "      <td>Y</td>\n",
              "      <td>5.0</td>\n",
              "      <td>NaN</td>\n",
              "      <td>NaT</td>\n",
              "      <td>2021-03-01</td>\n",
              "      <td>Cycle Inspection / Initial Inspection</td>\n",
              "      <td>40.729317</td>\n",
              "      <td>-73.989389</td>\n",
              "      <td>103.0</td>\n",
              "      <td>2.0</td>\n",
              "      <td>3800.0</td>\n",
              "      <td>1006662.0</td>\n",
              "      <td>1.004630e+09</td>\n",
              "      <td>MN22</td>\n",
              "    </tr>\n",
              "    <tr>\n",
              "      <th>76</th>\n",
              "      <td>50102576</td>\n",
              "      <td>CANYON ROAD</td>\n",
              "      <td>Manhattan</td>\n",
              "      <td>1470</td>\n",
              "      <td>1 AVENUE</td>\n",
              "      <td>10075.0</td>\n",
              "      <td>2127341600</td>\n",
              "      <td>Mexican</td>\n",
              "      <td>2020-02-03</td>\n",
              "      <td>Violations were cited in the following area(s).</td>\n",
              "      <td>04L</td>\n",
              "      <td>Evidence of mice or live mice present in facil...</td>\n",
              "      <td>Y</td>\n",
              "      <td>19.0</td>\n",
              "      <td>NaN</td>\n",
              "      <td>NaT</td>\n",
              "      <td>2021-03-01</td>\n",
              "      <td>Pre-permit (Operational) / Initial Inspection</td>\n",
              "      <td>40.770696</td>\n",
              "      <td>-73.953871</td>\n",
              "      <td>108.0</td>\n",
              "      <td>5.0</td>\n",
              "      <td>13200.0</td>\n",
              "      <td>1045948.0</td>\n",
              "      <td>1.014710e+09</td>\n",
              "      <td>MN31</td>\n",
              "    </tr>\n",
              "    <tr>\n",
              "      <th>103</th>\n",
              "      <td>50001526</td>\n",
              "      <td>EVERYDAY CHINESE RESTAURANT</td>\n",
              "      <td>Brooklyn</td>\n",
              "      <td>890</td>\n",
              "      <td>WYCKOFF AVENUE</td>\n",
              "      <td>11237.0</td>\n",
              "      <td>7183818899</td>\n",
              "      <td>Chinese</td>\n",
              "      <td>2020-01-13</td>\n",
              "      <td>Violations were cited in the following area(s).</td>\n",
              "      <td>04L</td>\n",
              "      <td>Evidence of mice or live mice present in facil...</td>\n",
              "      <td>Y</td>\n",
              "      <td>28.0</td>\n",
              "      <td>NaN</td>\n",
              "      <td>NaT</td>\n",
              "      <td>2021-03-01</td>\n",
              "      <td>Cycle Inspection / Initial Inspection</td>\n",
              "      <td>40.697097</td>\n",
              "      <td>-73.906759</td>\n",
              "      <td>304.0</td>\n",
              "      <td>37.0</td>\n",
              "      <td>43900.0</td>\n",
              "      <td>3393933.0</td>\n",
              "      <td>3.033930e+09</td>\n",
              "      <td>BK77</td>\n",
              "    </tr>\n",
              "  </tbody>\n",
              "</table>\n",
              "</div>"
            ],
            "text/plain": [
              "        CAMIS                          DBA  ...           BBL   NTA\n",
              "12   50004512                     TIO LUCA  ...  1.019160e+09  MN03\n",
              "31   40539661   BAKE AND THINGS RESTAURANT  ...  3.048880e+09  BK91\n",
              "34   41634837             ST MARKS KARAOKE  ...  1.004630e+09  MN22\n",
              "76   50102576                  CANYON ROAD  ...  1.014710e+09  MN31\n",
              "103  50001526  EVERYDAY CHINESE RESTAURANT  ...  3.033930e+09  BK77\n",
              "\n",
              "[5 rows x 26 columns]"
            ]
          },
          "metadata": {
            "tags": []
          },
          "execution_count": 57
        }
      ]
    },
    {
      "cell_type": "code",
      "metadata": {
        "colab": {
          "base_uri": "https://localhost:8080/"
        },
        "id": "PYkyVskFk9Np",
        "outputId": "bd251f5b-38d4-44d2-dd6a-1a070afee180"
      },
      "source": [
        "# List the most frequent DBA values in the data of restaurants that have mice\r\n",
        "has_mice[\"DBA\"].value_counts()[:20]"
      ],
      "execution_count": 58,
      "outputs": [
        {
          "output_type": "execute_result",
          "data": {
            "text/plain": [
              "SUBWAY                                   254\n",
              "DUNKIN'                                  146\n",
              "KENNEDY FRIED CHICKEN                    127\n",
              "CROWN FRIED CHICKEN                      116\n",
              "STARBUCKS                                 85\n",
              "MCDONALD'S                                74\n",
              "POPEYES                                   71\n",
              "GOLDEN KRUST CARIBBEAN BAKERY & GRILL     67\n",
              "BURGER KING                               65\n",
              "DUNKIN', BASKIN ROBBINS                   57\n",
              "KFC                                       40\n",
              "DOMINO'S                                  34\n",
              "LITTLE CAESARS                            33\n",
              "AMC THEATRES                              31\n",
              "CARVEL ICE CREAM                          29\n",
              "LE PAIN QUOTIDIEN                         24\n",
              "PAPA JOHN'S                               22\n",
              "VIVI BUBBLE TEA                           22\n",
              "EMPANADAS MONUMENTAL                      21\n",
              "INSOMNIA COOKIES                          21\n",
              "Name: DBA, dtype: int64"
            ]
          },
          "metadata": {
            "tags": []
          },
          "execution_count": 58
        }
      ]
    },
    {
      "cell_type": "code",
      "metadata": {
        "colab": {
          "base_uri": "https://localhost:8080/"
        },
        "id": "9IkowTLrlDVI",
        "outputId": "df4e78bc-3e77-4002-c196-3a846cf22efe"
      },
      "source": [
        "has_mice[\"CAMIS\"].value_counts()[:5]"
      ],
      "execution_count": 59,
      "outputs": [
        {
          "output_type": "execute_result",
          "data": {
            "text/plain": [
              "50016943    13\n",
              "50015263    13\n",
              "50058969    12\n",
              "50046623    12\n",
              "41642251    12\n",
              "Name: CAMIS, dtype: int64"
            ]
          },
          "metadata": {
            "tags": []
          },
          "execution_count": 59
        }
      ]
    },
    {
      "cell_type": "markdown",
      "metadata": {
        "id": "JKgTH03JlewI"
      },
      "source": [
        "And we can use more complex conditions."
      ]
    },
    {
      "cell_type": "code",
      "metadata": {
        "colab": {
          "base_uri": "https://localhost:8080/",
          "height": 678
        },
        "id": "i8QMmc3VlgMT",
        "outputId": "53dbef3c-7735-4fec-abae-c1340eddcf09"
      },
      "source": [
        "#Restaurants in Brooklyn that have mices\r\n",
        "mice_Brooklyn =  ( (restaurants[\"VIOLATION CODE\"] == \"04L\") \r\n",
        "                    & (restaurants[\"BORO\"] == \"Brooklyn\") )\r\n",
        "\r\n",
        "has_mice_brooklyn = restaurants[mice_Brooklyn]\r\n",
        "has_mice_brooklyn.head()"
      ],
      "execution_count": 60,
      "outputs": [
        {
          "output_type": "execute_result",
          "data": {
            "text/html": [
              "<div>\n",
              "<style scoped>\n",
              "    .dataframe tbody tr th:only-of-type {\n",
              "        vertical-align: middle;\n",
              "    }\n",
              "\n",
              "    .dataframe tbody tr th {\n",
              "        vertical-align: top;\n",
              "    }\n",
              "\n",
              "    .dataframe thead th {\n",
              "        text-align: right;\n",
              "    }\n",
              "</style>\n",
              "<table border=\"1\" class=\"dataframe\">\n",
              "  <thead>\n",
              "    <tr style=\"text-align: right;\">\n",
              "      <th></th>\n",
              "      <th>CAMIS</th>\n",
              "      <th>DBA</th>\n",
              "      <th>BORO</th>\n",
              "      <th>BUILDING</th>\n",
              "      <th>STREET</th>\n",
              "      <th>ZIPCODE</th>\n",
              "      <th>PHONE</th>\n",
              "      <th>CUISINE DESCRIPTION</th>\n",
              "      <th>INSPECTION DATE</th>\n",
              "      <th>ACTION</th>\n",
              "      <th>VIOLATION CODE</th>\n",
              "      <th>VIOLATION DESCRIPTION</th>\n",
              "      <th>CRITICAL FLAG</th>\n",
              "      <th>SCORE</th>\n",
              "      <th>GRADE</th>\n",
              "      <th>GRADE DATE</th>\n",
              "      <th>RECORD DATE</th>\n",
              "      <th>INSPECTION TYPE</th>\n",
              "      <th>Latitude</th>\n",
              "      <th>Longitude</th>\n",
              "      <th>Community Board</th>\n",
              "      <th>Council District</th>\n",
              "      <th>Census Tract</th>\n",
              "      <th>BIN</th>\n",
              "      <th>BBL</th>\n",
              "      <th>NTA</th>\n",
              "    </tr>\n",
              "  </thead>\n",
              "  <tbody>\n",
              "    <tr>\n",
              "      <th>31</th>\n",
              "      <td>40539661</td>\n",
              "      <td>BAKE AND THINGS RESTAURANT</td>\n",
              "      <td>Brooklyn</td>\n",
              "      <td>184</td>\n",
              "      <td>EAST   35 STREET</td>\n",
              "      <td>11203.0</td>\n",
              "      <td>7188261807</td>\n",
              "      <td>Caribbean (Inc. Cuban, Puerto Rican)</td>\n",
              "      <td>2017-10-05</td>\n",
              "      <td>Violations were cited in the following area(s).</td>\n",
              "      <td>04L</td>\n",
              "      <td>Evidence of mice or live mice present in facil...</td>\n",
              "      <td>Y</td>\n",
              "      <td>33.0</td>\n",
              "      <td>NaN</td>\n",
              "      <td>NaT</td>\n",
              "      <td>2021-03-01</td>\n",
              "      <td>Cycle Inspection / Initial Inspection</td>\n",
              "      <td>40.650633</td>\n",
              "      <td>-73.944740</td>\n",
              "      <td>317.0</td>\n",
              "      <td>45.0</td>\n",
              "      <td>85600.0</td>\n",
              "      <td>3109425.0</td>\n",
              "      <td>3.048880e+09</td>\n",
              "      <td>BK91</td>\n",
              "    </tr>\n",
              "    <tr>\n",
              "      <th>103</th>\n",
              "      <td>50001526</td>\n",
              "      <td>EVERYDAY CHINESE RESTAURANT</td>\n",
              "      <td>Brooklyn</td>\n",
              "      <td>890</td>\n",
              "      <td>WYCKOFF AVENUE</td>\n",
              "      <td>11237.0</td>\n",
              "      <td>7183818899</td>\n",
              "      <td>Chinese</td>\n",
              "      <td>2020-01-13</td>\n",
              "      <td>Violations were cited in the following area(s).</td>\n",
              "      <td>04L</td>\n",
              "      <td>Evidence of mice or live mice present in facil...</td>\n",
              "      <td>Y</td>\n",
              "      <td>28.0</td>\n",
              "      <td>NaN</td>\n",
              "      <td>NaT</td>\n",
              "      <td>2021-03-01</td>\n",
              "      <td>Cycle Inspection / Initial Inspection</td>\n",
              "      <td>40.697097</td>\n",
              "      <td>-73.906759</td>\n",
              "      <td>304.0</td>\n",
              "      <td>37.0</td>\n",
              "      <td>43900.0</td>\n",
              "      <td>3393933.0</td>\n",
              "      <td>3.033930e+09</td>\n",
              "      <td>BK77</td>\n",
              "    </tr>\n",
              "    <tr>\n",
              "      <th>105</th>\n",
              "      <td>40513885</td>\n",
              "      <td>ANOPOLI FAMILY RESTAURANT</td>\n",
              "      <td>Brooklyn</td>\n",
              "      <td>6920</td>\n",
              "      <td>3 AVENUE</td>\n",
              "      <td>11209.0</td>\n",
              "      <td>7187483863</td>\n",
              "      <td>American</td>\n",
              "      <td>2017-01-10</td>\n",
              "      <td>Violations were cited in the following area(s).</td>\n",
              "      <td>04L</td>\n",
              "      <td>Evidence of mice or live mice present in facil...</td>\n",
              "      <td>Y</td>\n",
              "      <td>11.0</td>\n",
              "      <td>NaN</td>\n",
              "      <td>NaT</td>\n",
              "      <td>2021-03-01</td>\n",
              "      <td>Cycle Inspection / Initial Inspection</td>\n",
              "      <td>40.635479</td>\n",
              "      <td>-74.026150</td>\n",
              "      <td>310.0</td>\n",
              "      <td>43.0</td>\n",
              "      <td>6800.0</td>\n",
              "      <td>3145627.0</td>\n",
              "      <td>3.058710e+09</td>\n",
              "      <td>BK31</td>\n",
              "    </tr>\n",
              "    <tr>\n",
              "      <th>137</th>\n",
              "      <td>50005180</td>\n",
              "      <td>J &amp; B YUMMY PIZZA</td>\n",
              "      <td>Brooklyn</td>\n",
              "      <td>5507</td>\n",
              "      <td>5 AVENUE</td>\n",
              "      <td>11220.0</td>\n",
              "      <td>7184391105</td>\n",
              "      <td>Pizza</td>\n",
              "      <td>2018-01-25</td>\n",
              "      <td>Violations were cited in the following area(s).</td>\n",
              "      <td>04L</td>\n",
              "      <td>Evidence of mice or live mice present in facil...</td>\n",
              "      <td>Y</td>\n",
              "      <td>25.0</td>\n",
              "      <td>NaN</td>\n",
              "      <td>NaT</td>\n",
              "      <td>2021-03-01</td>\n",
              "      <td>Cycle Inspection / Initial Inspection</td>\n",
              "      <td>40.642186</td>\n",
              "      <td>-74.013336</td>\n",
              "      <td>307.0</td>\n",
              "      <td>38.0</td>\n",
              "      <td>10000.0</td>\n",
              "      <td>3015006.0</td>\n",
              "      <td>3.008320e+09</td>\n",
              "      <td>BK34</td>\n",
              "    </tr>\n",
              "    <tr>\n",
              "      <th>154</th>\n",
              "      <td>41612487</td>\n",
              "      <td>LE PADDOCK</td>\n",
              "      <td>Brooklyn</td>\n",
              "      <td>1235</td>\n",
              "      <td>PROSPECT AVENUE</td>\n",
              "      <td>11218.0</td>\n",
              "      <td>7184350921</td>\n",
              "      <td>French</td>\n",
              "      <td>2018-04-03</td>\n",
              "      <td>Violations were cited in the following area(s).</td>\n",
              "      <td>04L</td>\n",
              "      <td>Evidence of mice or live mice present in facil...</td>\n",
              "      <td>Y</td>\n",
              "      <td>16.0</td>\n",
              "      <td>B</td>\n",
              "      <td>2018-04-03</td>\n",
              "      <td>2021-03-01</td>\n",
              "      <td>Cycle Inspection / Re-inspection</td>\n",
              "      <td>40.652936</td>\n",
              "      <td>-73.976110</td>\n",
              "      <td>307.0</td>\n",
              "      <td>39.0</td>\n",
              "      <td>50202.0</td>\n",
              "      <td>3122532.0</td>\n",
              "      <td>3.052750e+09</td>\n",
              "      <td>BK40</td>\n",
              "    </tr>\n",
              "  </tbody>\n",
              "</table>\n",
              "</div>"
            ],
            "text/plain": [
              "        CAMIS                          DBA  ...           BBL   NTA\n",
              "31   40539661   BAKE AND THINGS RESTAURANT  ...  3.048880e+09  BK91\n",
              "103  50001526  EVERYDAY CHINESE RESTAURANT  ...  3.033930e+09  BK77\n",
              "105  40513885    ANOPOLI FAMILY RESTAURANT  ...  3.058710e+09  BK31\n",
              "137  50005180            J & B YUMMY PIZZA  ...  3.008320e+09  BK34\n",
              "154  41612487                   LE PADDOCK  ...  3.052750e+09  BK40\n",
              "\n",
              "[5 rows x 26 columns]"
            ]
          },
          "metadata": {
            "tags": []
          },
          "execution_count": 60
        }
      ]
    },
    {
      "cell_type": "code",
      "metadata": {
        "colab": {
          "base_uri": "https://localhost:8080/"
        },
        "id": "d2Q3qHG7lnQA",
        "outputId": "54ac5558-791b-44c3-d427-1b1cfc92ba9a"
      },
      "source": [
        "has_mice_brooklyn[\"DBA\"].value_counts()[:20]"
      ],
      "execution_count": 61,
      "outputs": [
        {
          "output_type": "execute_result",
          "data": {
            "text/plain": [
              "CROWN FRIED CHICKEN                      69\n",
              "DUNKIN'                                  32\n",
              "BURGER KING                              31\n",
              "SUBWAY                                   29\n",
              "GOLDEN KRUST CARIBBEAN BAKERY & GRILL    27\n",
              "KENNEDY FRIED CHICKEN                    21\n",
              "KFC                                      18\n",
              "PAPA JOHN'S                              14\n",
              "DUNKIN', BASKIN ROBBINS                  13\n",
              "STARBUCKS                                13\n",
              "CAFE CREOLE                              12\n",
              "COLD STONE CREAMERY                      12\n",
              "TAQUERIA RESTAURANTE MI BARRIO           11\n",
              "FISHERMAN'S COVE                         11\n",
              "AUTHENTIC SZECHUAN                       11\n",
              "RINCONCITO FAMILIAR MEXICAN CUISINE      11\n",
              "COCO ROCO RESTAURANT                     11\n",
              "DOUBLE DRAGON                            11\n",
              "INDIAN KITCHEN                           10\n",
              "ISLAND GROVE RESTAURANT                  10\n",
              "Name: DBA, dtype: int64"
            ]
          },
          "metadata": {
            "tags": []
          },
          "execution_count": 61
        }
      ]
    },
    {
      "cell_type": "markdown",
      "metadata": {
        "id": "yM7_hpenLHWg"
      },
      "source": [
        "## <a class=\"anchor\"></a> 1.3 Exercice\r\n"
      ]
    },
    {
      "cell_type": "code",
      "metadata": {
        "id": "1sQADEghLNzo"
      },
      "source": [
        "# Use the .head() function on the \"VIOLATION CODE\" column\r\n",
        "#restaurants[\"Your code here\"].\"Your code here\""
      ],
      "execution_count": 62,
      "outputs": []
    },
    {
      "cell_type": "code",
      "metadata": {
        "id": "kjcEY_sdLhW4"
      },
      "source": [
        "#Use the .value_counts() function to count the number of occurences by violation code\r\n",
        "#violation_counts = \"Your code here\".\"Your code here\"\r\n"
      ],
      "execution_count": 63,
      "outputs": []
    },
    {
      "cell_type": "code",
      "metadata": {
        "id": "fu0RShUeMFkw"
      },
      "source": [
        "#Have a look at the first 10 values\r\n",
        "#violation_counts[\"Your code here\" : \"Your code here\"]"
      ],
      "execution_count": 64,
      "outputs": []
    },
    {
      "cell_type": "code",
      "metadata": {
        "id": "oTiRc5xfMunS"
      },
      "source": [
        "#Plot the 20 violation codes ocurring the most\r\n",
        "#\"Your code here\".plot(kind = 'bar')"
      ],
      "execution_count": 65,
      "outputs": []
    },
    {
      "cell_type": "markdown",
      "metadata": {
        "id": "QKp-KN8go5VM"
      },
      "source": [
        "## <a class=\"anchor\"></a> 1.4 Missing data\r\n",
        "\r\n",
        "Let's have a look at our missing data. We will write a function which counts the number of missing values per column, and then calculates the percentage of the total values that the missing values represent.\r\n"
      ]
    },
    {
      "cell_type": "code",
      "metadata": {
        "colab": {
          "base_uri": "https://localhost:8080/",
          "height": 865
        },
        "id": "53zMxx0kpcVq",
        "outputId": "b90b54af-d793-4f01-fb14-db0c435b4118"
      },
      "source": [
        "#We store this code as a function in order to use it again later on\r\n",
        "def missing_values_calculation():\r\n",
        "\r\n",
        "  #We store the number of missing values for every column\r\n",
        "  total = restaurants.isnull().sum().sort_values(ascending=False)\r\n",
        "\r\n",
        "  #We make a new column contaning the percentage of missing values \r\n",
        "  #out of the total number of values\r\n",
        "  percent = (restaurants.isnull().sum()/restaurants.isnull().count()).sort_values(ascending=False)\r\n",
        "\r\n",
        "  #We now make a DF containing these 2 values\r\n",
        "  missing = pd.concat([total, percent], axis=1, keys=['Total', 'Percent'])\r\n",
        "\r\n",
        "  #And we print the DataFrame\r\n",
        "  display(missing)\r\n",
        "\r\n",
        "#We call the function\r\n",
        "missing_values_calculation()"
      ],
      "execution_count": 66,
      "outputs": [
        {
          "output_type": "display_data",
          "data": {
            "text/html": [
              "<div>\n",
              "<style scoped>\n",
              "    .dataframe tbody tr th:only-of-type {\n",
              "        vertical-align: middle;\n",
              "    }\n",
              "\n",
              "    .dataframe tbody tr th {\n",
              "        vertical-align: top;\n",
              "    }\n",
              "\n",
              "    .dataframe thead th {\n",
              "        text-align: right;\n",
              "    }\n",
              "</style>\n",
              "<table border=\"1\" class=\"dataframe\">\n",
              "  <thead>\n",
              "    <tr style=\"text-align: right;\">\n",
              "      <th></th>\n",
              "      <th>Total</th>\n",
              "      <th>Percent</th>\n",
              "    </tr>\n",
              "  </thead>\n",
              "  <tbody>\n",
              "    <tr>\n",
              "      <th>GRADE</th>\n",
              "      <td>201571</td>\n",
              "      <td>0.508989</td>\n",
              "    </tr>\n",
              "    <tr>\n",
              "      <th>GRADE DATE</th>\n",
              "      <td>198347</td>\n",
              "      <td>0.500848</td>\n",
              "    </tr>\n",
              "    <tr>\n",
              "      <th>SCORE</th>\n",
              "      <td>18712</td>\n",
              "      <td>0.047250</td>\n",
              "    </tr>\n",
              "    <tr>\n",
              "      <th>CRITICAL FLAG</th>\n",
              "      <td>11157</td>\n",
              "      <td>0.028173</td>\n",
              "    </tr>\n",
              "    <tr>\n",
              "      <th>VIOLATION DESCRIPTION</th>\n",
              "      <td>11157</td>\n",
              "      <td>0.028173</td>\n",
              "    </tr>\n",
              "    <tr>\n",
              "      <th>BIN</th>\n",
              "      <td>9816</td>\n",
              "      <td>0.024787</td>\n",
              "    </tr>\n",
              "    <tr>\n",
              "      <th>NTA</th>\n",
              "      <td>8000</td>\n",
              "      <td>0.020201</td>\n",
              "    </tr>\n",
              "    <tr>\n",
              "      <th>Census Tract</th>\n",
              "      <td>8000</td>\n",
              "      <td>0.020201</td>\n",
              "    </tr>\n",
              "    <tr>\n",
              "      <th>Community Board</th>\n",
              "      <td>8000</td>\n",
              "      <td>0.020201</td>\n",
              "    </tr>\n",
              "    <tr>\n",
              "      <th>Council District</th>\n",
              "      <td>8000</td>\n",
              "      <td>0.020201</td>\n",
              "    </tr>\n",
              "    <tr>\n",
              "      <th>VIOLATION CODE</th>\n",
              "      <td>7831</td>\n",
              "      <td>0.019774</td>\n",
              "    </tr>\n",
              "    <tr>\n",
              "      <th>ZIPCODE</th>\n",
              "      <td>6697</td>\n",
              "      <td>0.016911</td>\n",
              "    </tr>\n",
              "    <tr>\n",
              "      <th>ACTION</th>\n",
              "      <td>3559</td>\n",
              "      <td>0.008987</td>\n",
              "    </tr>\n",
              "    <tr>\n",
              "      <th>INSPECTION TYPE</th>\n",
              "      <td>3559</td>\n",
              "      <td>0.008987</td>\n",
              "    </tr>\n",
              "    <tr>\n",
              "      <th>Latitude</th>\n",
              "      <td>1425</td>\n",
              "      <td>0.003598</td>\n",
              "    </tr>\n",
              "    <tr>\n",
              "      <th>BBL</th>\n",
              "      <td>1425</td>\n",
              "      <td>0.003598</td>\n",
              "    </tr>\n",
              "    <tr>\n",
              "      <th>Longitude</th>\n",
              "      <td>1425</td>\n",
              "      <td>0.003598</td>\n",
              "    </tr>\n",
              "    <tr>\n",
              "      <th>BUILDING</th>\n",
              "      <td>1047</td>\n",
              "      <td>0.002644</td>\n",
              "    </tr>\n",
              "    <tr>\n",
              "      <th>DBA</th>\n",
              "      <td>659</td>\n",
              "      <td>0.001664</td>\n",
              "    </tr>\n",
              "    <tr>\n",
              "      <th>STREET</th>\n",
              "      <td>86</td>\n",
              "      <td>0.000217</td>\n",
              "    </tr>\n",
              "    <tr>\n",
              "      <th>PHONE</th>\n",
              "      <td>18</td>\n",
              "      <td>0.000045</td>\n",
              "    </tr>\n",
              "    <tr>\n",
              "      <th>INSPECTION DATE</th>\n",
              "      <td>0</td>\n",
              "      <td>0.000000</td>\n",
              "    </tr>\n",
              "    <tr>\n",
              "      <th>CUISINE DESCRIPTION</th>\n",
              "      <td>0</td>\n",
              "      <td>0.000000</td>\n",
              "    </tr>\n",
              "    <tr>\n",
              "      <th>RECORD DATE</th>\n",
              "      <td>0</td>\n",
              "      <td>0.000000</td>\n",
              "    </tr>\n",
              "    <tr>\n",
              "      <th>BORO</th>\n",
              "      <td>0</td>\n",
              "      <td>0.000000</td>\n",
              "    </tr>\n",
              "    <tr>\n",
              "      <th>CAMIS</th>\n",
              "      <td>0</td>\n",
              "      <td>0.000000</td>\n",
              "    </tr>\n",
              "  </tbody>\n",
              "</table>\n",
              "</div>"
            ],
            "text/plain": [
              "                        Total   Percent\n",
              "GRADE                  201571  0.508989\n",
              "GRADE DATE             198347  0.500848\n",
              "SCORE                   18712  0.047250\n",
              "CRITICAL FLAG           11157  0.028173\n",
              "VIOLATION DESCRIPTION   11157  0.028173\n",
              "BIN                      9816  0.024787\n",
              "NTA                      8000  0.020201\n",
              "Census Tract             8000  0.020201\n",
              "Community Board          8000  0.020201\n",
              "Council District         8000  0.020201\n",
              "VIOLATION CODE           7831  0.019774\n",
              "ZIPCODE                  6697  0.016911\n",
              "ACTION                   3559  0.008987\n",
              "INSPECTION TYPE          3559  0.008987\n",
              "Latitude                 1425  0.003598\n",
              "BBL                      1425  0.003598\n",
              "Longitude                1425  0.003598\n",
              "BUILDING                 1047  0.002644\n",
              "DBA                       659  0.001664\n",
              "STREET                     86  0.000217\n",
              "PHONE                      18  0.000045\n",
              "INSPECTION DATE             0  0.000000\n",
              "CUISINE DESCRIPTION         0  0.000000\n",
              "RECORD DATE                 0  0.000000\n",
              "BORO                        0  0.000000\n",
              "CAMIS                       0  0.000000"
            ]
          },
          "metadata": {
            "tags": []
          }
        }
      ]
    },
    {
      "cell_type": "markdown",
      "metadata": {
        "id": "Kw2-7px1q6NX"
      },
      "source": [
        "### <a class=\"anchor\"></a> 1.4.1 Dropping columns\r\n",
        "\r\n",
        "\r\n",
        "The GRADE and GRADE DATE columns containt a lot of missing values (more than half the data is missing). \r\n",
        "We may want to drop these 2 columns as the missing data is too much. We can use the `.drop()` function for this, but we need to pass an additional argument to tell Pandas we want to drop a column and not a row. This argument is: `axis = 1`"
      ]
    },
    {
      "cell_type": "code",
      "metadata": {
        "colab": {
          "base_uri": "https://localhost:8080/",
          "height": 1000
        },
        "id": "xWIeVESkq9uf",
        "outputId": "0156fc41-a2a6-4c69-e597-660bb1d8a83f"
      },
      "source": [
        "restaurants.drop([\"GRADE\", 'GRADE DATE'], axis = 1)"
      ],
      "execution_count": 67,
      "outputs": [
        {
          "output_type": "execute_result",
          "data": {
            "text/html": [
              "<div>\n",
              "<style scoped>\n",
              "    .dataframe tbody tr th:only-of-type {\n",
              "        vertical-align: middle;\n",
              "    }\n",
              "\n",
              "    .dataframe tbody tr th {\n",
              "        vertical-align: top;\n",
              "    }\n",
              "\n",
              "    .dataframe thead th {\n",
              "        text-align: right;\n",
              "    }\n",
              "</style>\n",
              "<table border=\"1\" class=\"dataframe\">\n",
              "  <thead>\n",
              "    <tr style=\"text-align: right;\">\n",
              "      <th></th>\n",
              "      <th>CAMIS</th>\n",
              "      <th>DBA</th>\n",
              "      <th>BORO</th>\n",
              "      <th>BUILDING</th>\n",
              "      <th>STREET</th>\n",
              "      <th>ZIPCODE</th>\n",
              "      <th>PHONE</th>\n",
              "      <th>CUISINE DESCRIPTION</th>\n",
              "      <th>INSPECTION DATE</th>\n",
              "      <th>ACTION</th>\n",
              "      <th>VIOLATION CODE</th>\n",
              "      <th>VIOLATION DESCRIPTION</th>\n",
              "      <th>CRITICAL FLAG</th>\n",
              "      <th>SCORE</th>\n",
              "      <th>RECORD DATE</th>\n",
              "      <th>INSPECTION TYPE</th>\n",
              "      <th>Latitude</th>\n",
              "      <th>Longitude</th>\n",
              "      <th>Community Board</th>\n",
              "      <th>Council District</th>\n",
              "      <th>Census Tract</th>\n",
              "      <th>BIN</th>\n",
              "      <th>BBL</th>\n",
              "      <th>NTA</th>\n",
              "    </tr>\n",
              "  </thead>\n",
              "  <tbody>\n",
              "    <tr>\n",
              "      <th>0</th>\n",
              "      <td>50072759</td>\n",
              "      <td>GFG BAKERY</td>\n",
              "      <td>Manhattan</td>\n",
              "      <td>39</td>\n",
              "      <td>BEEKMAN STREET</td>\n",
              "      <td>10038.0</td>\n",
              "      <td>2123443465</td>\n",
              "      <td>Cakes, Cupcakes, Desserts</td>\n",
              "      <td>2019-10-10</td>\n",
              "      <td>Violations were cited in the following area(s).</td>\n",
              "      <td>02H</td>\n",
              "      <td>Food not cooled by an approved method whereby ...</td>\n",
              "      <td>Y</td>\n",
              "      <td>24.0</td>\n",
              "      <td>2021-03-01</td>\n",
              "      <td>Cycle Inspection / Initial Inspection</td>\n",
              "      <td>40.710274</td>\n",
              "      <td>-74.005490</td>\n",
              "      <td>101.0</td>\n",
              "      <td>1.0</td>\n",
              "      <td>1501.0</td>\n",
              "      <td>1001284.0</td>\n",
              "      <td>1.000930e+09</td>\n",
              "      <td>MN25</td>\n",
              "    </tr>\n",
              "    <tr>\n",
              "      <th>1</th>\n",
              "      <td>50064392</td>\n",
              "      <td>PATIALA GRILL</td>\n",
              "      <td>Manhattan</td>\n",
              "      <td>371</td>\n",
              "      <td>WEST   34 STREET</td>\n",
              "      <td>10001.0</td>\n",
              "      <td>2125648255</td>\n",
              "      <td>Indian</td>\n",
              "      <td>2019-06-11</td>\n",
              "      <td>Violations were cited in the following area(s).</td>\n",
              "      <td>10F</td>\n",
              "      <td>Non-food contact surface improperly constructe...</td>\n",
              "      <td>N</td>\n",
              "      <td>34.0</td>\n",
              "      <td>2021-03-01</td>\n",
              "      <td>Cycle Inspection / Initial Inspection</td>\n",
              "      <td>40.752969</td>\n",
              "      <td>-73.995304</td>\n",
              "      <td>104.0</td>\n",
              "      <td>3.0</td>\n",
              "      <td>11100.0</td>\n",
              "      <td>1013555.0</td>\n",
              "      <td>1.007580e+09</td>\n",
              "      <td>MN13</td>\n",
              "    </tr>\n",
              "    <tr>\n",
              "      <th>2</th>\n",
              "      <td>50001693</td>\n",
              "      <td>ANKA GRILL</td>\n",
              "      <td>Manhattan</td>\n",
              "      <td>642</td>\n",
              "      <td>LEXINGTON AVENUE</td>\n",
              "      <td>10022.0</td>\n",
              "      <td>6466926494</td>\n",
              "      <td>Turkish</td>\n",
              "      <td>2018-10-19</td>\n",
              "      <td>Violations were cited in the following area(s).</td>\n",
              "      <td>04H</td>\n",
              "      <td>Raw, cooked or prepared food is adulterated, c...</td>\n",
              "      <td>Y</td>\n",
              "      <td>33.0</td>\n",
              "      <td>2021-03-01</td>\n",
              "      <td>Cycle Inspection / Re-inspection</td>\n",
              "      <td>40.759237</td>\n",
              "      <td>-73.970368</td>\n",
              "      <td>105.0</td>\n",
              "      <td>4.0</td>\n",
              "      <td>10000.0</td>\n",
              "      <td>1071461.0</td>\n",
              "      <td>1.013098e+09</td>\n",
              "      <td>MN19</td>\n",
              "    </tr>\n",
              "    <tr>\n",
              "      <th>3</th>\n",
              "      <td>50018652</td>\n",
              "      <td>KIABACCA PIZZA AND BEER</td>\n",
              "      <td>Manhattan</td>\n",
              "      <td>639</td>\n",
              "      <td>10 AVENUE</td>\n",
              "      <td>10036.0</td>\n",
              "      <td>2126494675</td>\n",
              "      <td>American</td>\n",
              "      <td>2019-04-17</td>\n",
              "      <td>Violations were cited in the following area(s).</td>\n",
              "      <td>10B</td>\n",
              "      <td>Plumbing not properly installed or maintained;...</td>\n",
              "      <td>N</td>\n",
              "      <td>12.0</td>\n",
              "      <td>2021-03-01</td>\n",
              "      <td>Cycle Inspection / Initial Inspection</td>\n",
              "      <td>40.761758</td>\n",
              "      <td>-73.993928</td>\n",
              "      <td>104.0</td>\n",
              "      <td>3.0</td>\n",
              "      <td>12900.0</td>\n",
              "      <td>1026940.0</td>\n",
              "      <td>1.010740e+09</td>\n",
              "      <td>MN15</td>\n",
              "    </tr>\n",
              "    <tr>\n",
              "      <th>4</th>\n",
              "      <td>50012356</td>\n",
              "      <td>TEXAS CHICKEN &amp; BURGERS</td>\n",
              "      <td>Manhattan</td>\n",
              "      <td>151</td>\n",
              "      <td>EAST  103 STREET</td>\n",
              "      <td>10029.0</td>\n",
              "      <td>9173304730</td>\n",
              "      <td>Chicken</td>\n",
              "      <td>2018-05-03</td>\n",
              "      <td>Violations were cited in the following area(s).</td>\n",
              "      <td>02B</td>\n",
              "      <td>Hot food item not held at or above 140º F.</td>\n",
              "      <td>Y</td>\n",
              "      <td>12.0</td>\n",
              "      <td>2021-03-01</td>\n",
              "      <td>Cycle Inspection / Initial Inspection</td>\n",
              "      <td>40.790198</td>\n",
              "      <td>-73.947393</td>\n",
              "      <td>111.0</td>\n",
              "      <td>8.0</td>\n",
              "      <td>16600.0</td>\n",
              "      <td>1051915.0</td>\n",
              "      <td>1.016310e+09</td>\n",
              "      <td>MN33</td>\n",
              "    </tr>\n",
              "    <tr>\n",
              "      <th>...</th>\n",
              "      <td>...</td>\n",
              "      <td>...</td>\n",
              "      <td>...</td>\n",
              "      <td>...</td>\n",
              "      <td>...</td>\n",
              "      <td>...</td>\n",
              "      <td>...</td>\n",
              "      <td>...</td>\n",
              "      <td>...</td>\n",
              "      <td>...</td>\n",
              "      <td>...</td>\n",
              "      <td>...</td>\n",
              "      <td>...</td>\n",
              "      <td>...</td>\n",
              "      <td>...</td>\n",
              "      <td>...</td>\n",
              "      <td>...</td>\n",
              "      <td>...</td>\n",
              "      <td>...</td>\n",
              "      <td>...</td>\n",
              "      <td>...</td>\n",
              "      <td>...</td>\n",
              "      <td>...</td>\n",
              "      <td>...</td>\n",
              "    </tr>\n",
              "    <tr>\n",
              "      <th>396017</th>\n",
              "      <td>50097986</td>\n",
              "      <td>BAODEGA</td>\n",
              "      <td>Manhattan</td>\n",
              "      <td>7</td>\n",
              "      <td>WEST   20 STREET</td>\n",
              "      <td>10011.0</td>\n",
              "      <td>6463706034</td>\n",
              "      <td>Chinese</td>\n",
              "      <td>2019-11-14</td>\n",
              "      <td>Establishment Closed by DOHMH.  Violations wer...</td>\n",
              "      <td>06D</td>\n",
              "      <td>Food contact surface not properly washed, rins...</td>\n",
              "      <td>Y</td>\n",
              "      <td>32.0</td>\n",
              "      <td>2021-03-01</td>\n",
              "      <td>Pre-permit (Operational) / Re-inspection</td>\n",
              "      <td>40.739937</td>\n",
              "      <td>-73.991563</td>\n",
              "      <td>105.0</td>\n",
              "      <td>3.0</td>\n",
              "      <td>5400.0</td>\n",
              "      <td>1015497.0</td>\n",
              "      <td>1.008220e+09</td>\n",
              "      <td>MN13</td>\n",
              "    </tr>\n",
              "    <tr>\n",
              "      <th>396018</th>\n",
              "      <td>50016112</td>\n",
              "      <td>ANTOJITOS ECUATORIANOS</td>\n",
              "      <td>Brooklyn</td>\n",
              "      <td>3398</td>\n",
              "      <td>FULTON STREET</td>\n",
              "      <td>11208.0</td>\n",
              "      <td>7182770970</td>\n",
              "      <td>Latin American</td>\n",
              "      <td>2019-12-30</td>\n",
              "      <td>Violations were cited in the following area(s).</td>\n",
              "      <td>02H</td>\n",
              "      <td>Food not cooled by an approved method whereby ...</td>\n",
              "      <td>Y</td>\n",
              "      <td>13.0</td>\n",
              "      <td>2021-03-01</td>\n",
              "      <td>Cycle Inspection / Re-inspection</td>\n",
              "      <td>40.684208</td>\n",
              "      <td>-73.870173</td>\n",
              "      <td>305.0</td>\n",
              "      <td>37.0</td>\n",
              "      <td>118400.0</td>\n",
              "      <td>3092908.0</td>\n",
              "      <td>3.041490e+09</td>\n",
              "      <td>BK83</td>\n",
              "    </tr>\n",
              "    <tr>\n",
              "      <th>396019</th>\n",
              "      <td>41331156</td>\n",
              "      <td>ROOM MATE GRACE HOTEL</td>\n",
              "      <td>Manhattan</td>\n",
              "      <td>125</td>\n",
              "      <td>WEST   45 STREET</td>\n",
              "      <td>10036.0</td>\n",
              "      <td>2123542323</td>\n",
              "      <td>American</td>\n",
              "      <td>2017-04-28</td>\n",
              "      <td>Violations were cited in the following area(s).</td>\n",
              "      <td>06D</td>\n",
              "      <td>Food contact surface not properly washed, rins...</td>\n",
              "      <td>Y</td>\n",
              "      <td>22.0</td>\n",
              "      <td>2021-03-01</td>\n",
              "      <td>Cycle Inspection / Initial Inspection</td>\n",
              "      <td>40.757156</td>\n",
              "      <td>-73.983613</td>\n",
              "      <td>105.0</td>\n",
              "      <td>4.0</td>\n",
              "      <td>11900.0</td>\n",
              "      <td>1022637.0</td>\n",
              "      <td>1.009980e+09</td>\n",
              "      <td>MN17</td>\n",
              "    </tr>\n",
              "    <tr>\n",
              "      <th>396020</th>\n",
              "      <td>50044336</td>\n",
              "      <td>KING DRAGON 88</td>\n",
              "      <td>Manhattan</td>\n",
              "      <td>1548</td>\n",
              "      <td>MADISON AVENUE</td>\n",
              "      <td>10029.0</td>\n",
              "      <td>2123696788</td>\n",
              "      <td>Chinese</td>\n",
              "      <td>2017-04-24</td>\n",
              "      <td>Violations were cited in the following area(s).</td>\n",
              "      <td>06E</td>\n",
              "      <td>Sanitized equipment or utensil, including in-u...</td>\n",
              "      <td>Y</td>\n",
              "      <td>10.0</td>\n",
              "      <td>2021-03-01</td>\n",
              "      <td>Cycle Inspection / Initial Inspection</td>\n",
              "      <td>40.792678</td>\n",
              "      <td>-73.950194</td>\n",
              "      <td>111.0</td>\n",
              "      <td>8.0</td>\n",
              "      <td>16800.0</td>\n",
              "      <td>1051506.0</td>\n",
              "      <td>1.016100e+09</td>\n",
              "      <td>MN33</td>\n",
              "    </tr>\n",
              "    <tr>\n",
              "      <th>396021</th>\n",
              "      <td>50073021</td>\n",
              "      <td>NEW FUN SING RESTAURANT</td>\n",
              "      <td>Brooklyn</td>\n",
              "      <td>689</td>\n",
              "      <td>BROADWAY</td>\n",
              "      <td>11206.0</td>\n",
              "      <td>7187826915</td>\n",
              "      <td>Chinese</td>\n",
              "      <td>2019-02-19</td>\n",
              "      <td>Violations were cited in the following area(s).</td>\n",
              "      <td>04L</td>\n",
              "      <td>Evidence of mice or live mice present in facil...</td>\n",
              "      <td>Y</td>\n",
              "      <td>9.0</td>\n",
              "      <td>2021-03-01</td>\n",
              "      <td>Cycle Inspection / Initial Inspection</td>\n",
              "      <td>40.701751</td>\n",
              "      <td>-73.943622</td>\n",
              "      <td>301.0</td>\n",
              "      <td>34.0</td>\n",
              "      <td>49100.0</td>\n",
              "      <td>3071596.0</td>\n",
              "      <td>3.031190e+09</td>\n",
              "      <td>BK90</td>\n",
              "    </tr>\n",
              "  </tbody>\n",
              "</table>\n",
              "<p>396022 rows × 24 columns</p>\n",
              "</div>"
            ],
            "text/plain": [
              "           CAMIS                      DBA  ...           BBL   NTA\n",
              "0       50072759               GFG BAKERY  ...  1.000930e+09  MN25\n",
              "1       50064392            PATIALA GRILL  ...  1.007580e+09  MN13\n",
              "2       50001693               ANKA GRILL  ...  1.013098e+09  MN19\n",
              "3       50018652  KIABACCA PIZZA AND BEER  ...  1.010740e+09  MN15\n",
              "4       50012356  TEXAS CHICKEN & BURGERS  ...  1.016310e+09  MN33\n",
              "...          ...                      ...  ...           ...   ...\n",
              "396017  50097986                  BAODEGA  ...  1.008220e+09  MN13\n",
              "396018  50016112   ANTOJITOS ECUATORIANOS  ...  3.041490e+09  BK83\n",
              "396019  41331156    ROOM MATE GRACE HOTEL  ...  1.009980e+09  MN17\n",
              "396020  50044336           KING DRAGON 88  ...  1.016100e+09  MN33\n",
              "396021  50073021  NEW FUN SING RESTAURANT  ...  3.031190e+09  BK90\n",
              "\n",
              "[396022 rows x 24 columns]"
            ]
          },
          "metadata": {
            "tags": []
          },
          "execution_count": 67
        }
      ]
    },
    {
      "cell_type": "markdown",
      "metadata": {
        "id": "vRdaJpZDsK0Z"
      },
      "source": [
        "As you can see, the \"GRADE\" and \"GRADE DATE\" columns are not a part of our DataFrame anymore."
      ]
    },
    {
      "cell_type": "markdown",
      "metadata": {
        "id": "BIW5XpoyV-Qq"
      },
      "source": [
        "### <a class=\"anchor\"></a> 1.4.2 Fillna() and dropna()\r\n"
      ]
    },
    {
      "cell_type": "markdown",
      "metadata": {
        "id": "4E-WijGJsZ_i"
      },
      "source": [
        "For the remaining columns we may want to do three different things:\r\n",
        " * Replace the missing entries with a specific value\r\n",
        " * Either estimate a possible value using the median for example\r\n",
        " * Drop the row altogether.\r\n",
        "\r\n",
        " Remember that we can drop rows with `dropna()`. Another useful function is `fillna()`, this function allows us to replace missing values with a value we may want."
      ]
    },
    {
      "cell_type": "code",
      "metadata": {
        "colab": {
          "base_uri": "https://localhost:8080/",
          "height": 865
        },
        "id": "H8G9lzVEvvm5",
        "outputId": "be0c8e72-c675-4a65-c97d-20d333c11335"
      },
      "source": [
        "# Replacing missing values with a given value\r\n",
        "#In this case we are going to assume that if the value is missing then there was no critical flag\r\n",
        "restaurants['CRITICAL FLAG'].fillna(\"N\", inplace = True)\r\n",
        "\r\n",
        "# Replacing missing values with an estimation (median)\r\n",
        "median = restaurants['SCORE'].median()\r\n",
        "restaurants['SCORE'].fillna(median, inplace=True)\r\n",
        "\r\n",
        "#Dropping the row, you should already know this one\r\n",
        "restaurants['VIOLATION DESCRIPTION'].dropna()\r\n",
        "\r\n",
        "#Let's see how many \r\n",
        "missing_values_calculation()\r\n",
        "\r\n"
      ],
      "execution_count": 68,
      "outputs": [
        {
          "output_type": "display_data",
          "data": {
            "text/html": [
              "<div>\n",
              "<style scoped>\n",
              "    .dataframe tbody tr th:only-of-type {\n",
              "        vertical-align: middle;\n",
              "    }\n",
              "\n",
              "    .dataframe tbody tr th {\n",
              "        vertical-align: top;\n",
              "    }\n",
              "\n",
              "    .dataframe thead th {\n",
              "        text-align: right;\n",
              "    }\n",
              "</style>\n",
              "<table border=\"1\" class=\"dataframe\">\n",
              "  <thead>\n",
              "    <tr style=\"text-align: right;\">\n",
              "      <th></th>\n",
              "      <th>Total</th>\n",
              "      <th>Percent</th>\n",
              "    </tr>\n",
              "  </thead>\n",
              "  <tbody>\n",
              "    <tr>\n",
              "      <th>GRADE</th>\n",
              "      <td>201571</td>\n",
              "      <td>0.508989</td>\n",
              "    </tr>\n",
              "    <tr>\n",
              "      <th>GRADE DATE</th>\n",
              "      <td>198347</td>\n",
              "      <td>0.500848</td>\n",
              "    </tr>\n",
              "    <tr>\n",
              "      <th>VIOLATION DESCRIPTION</th>\n",
              "      <td>11157</td>\n",
              "      <td>0.028173</td>\n",
              "    </tr>\n",
              "    <tr>\n",
              "      <th>BIN</th>\n",
              "      <td>9816</td>\n",
              "      <td>0.024787</td>\n",
              "    </tr>\n",
              "    <tr>\n",
              "      <th>Community Board</th>\n",
              "      <td>8000</td>\n",
              "      <td>0.020201</td>\n",
              "    </tr>\n",
              "    <tr>\n",
              "      <th>NTA</th>\n",
              "      <td>8000</td>\n",
              "      <td>0.020201</td>\n",
              "    </tr>\n",
              "    <tr>\n",
              "      <th>Council District</th>\n",
              "      <td>8000</td>\n",
              "      <td>0.020201</td>\n",
              "    </tr>\n",
              "    <tr>\n",
              "      <th>Census Tract</th>\n",
              "      <td>8000</td>\n",
              "      <td>0.020201</td>\n",
              "    </tr>\n",
              "    <tr>\n",
              "      <th>VIOLATION CODE</th>\n",
              "      <td>7831</td>\n",
              "      <td>0.019774</td>\n",
              "    </tr>\n",
              "    <tr>\n",
              "      <th>ZIPCODE</th>\n",
              "      <td>6697</td>\n",
              "      <td>0.016911</td>\n",
              "    </tr>\n",
              "    <tr>\n",
              "      <th>INSPECTION TYPE</th>\n",
              "      <td>3559</td>\n",
              "      <td>0.008987</td>\n",
              "    </tr>\n",
              "    <tr>\n",
              "      <th>ACTION</th>\n",
              "      <td>3559</td>\n",
              "      <td>0.008987</td>\n",
              "    </tr>\n",
              "    <tr>\n",
              "      <th>Longitude</th>\n",
              "      <td>1425</td>\n",
              "      <td>0.003598</td>\n",
              "    </tr>\n",
              "    <tr>\n",
              "      <th>Latitude</th>\n",
              "      <td>1425</td>\n",
              "      <td>0.003598</td>\n",
              "    </tr>\n",
              "    <tr>\n",
              "      <th>BBL</th>\n",
              "      <td>1425</td>\n",
              "      <td>0.003598</td>\n",
              "    </tr>\n",
              "    <tr>\n",
              "      <th>BUILDING</th>\n",
              "      <td>1047</td>\n",
              "      <td>0.002644</td>\n",
              "    </tr>\n",
              "    <tr>\n",
              "      <th>DBA</th>\n",
              "      <td>659</td>\n",
              "      <td>0.001664</td>\n",
              "    </tr>\n",
              "    <tr>\n",
              "      <th>STREET</th>\n",
              "      <td>86</td>\n",
              "      <td>0.000217</td>\n",
              "    </tr>\n",
              "    <tr>\n",
              "      <th>PHONE</th>\n",
              "      <td>18</td>\n",
              "      <td>0.000045</td>\n",
              "    </tr>\n",
              "    <tr>\n",
              "      <th>BORO</th>\n",
              "      <td>0</td>\n",
              "      <td>0.000000</td>\n",
              "    </tr>\n",
              "    <tr>\n",
              "      <th>CRITICAL FLAG</th>\n",
              "      <td>0</td>\n",
              "      <td>0.000000</td>\n",
              "    </tr>\n",
              "    <tr>\n",
              "      <th>CUISINE DESCRIPTION</th>\n",
              "      <td>0</td>\n",
              "      <td>0.000000</td>\n",
              "    </tr>\n",
              "    <tr>\n",
              "      <th>INSPECTION DATE</th>\n",
              "      <td>0</td>\n",
              "      <td>0.000000</td>\n",
              "    </tr>\n",
              "    <tr>\n",
              "      <th>SCORE</th>\n",
              "      <td>0</td>\n",
              "      <td>0.000000</td>\n",
              "    </tr>\n",
              "    <tr>\n",
              "      <th>RECORD DATE</th>\n",
              "      <td>0</td>\n",
              "      <td>0.000000</td>\n",
              "    </tr>\n",
              "    <tr>\n",
              "      <th>CAMIS</th>\n",
              "      <td>0</td>\n",
              "      <td>0.000000</td>\n",
              "    </tr>\n",
              "  </tbody>\n",
              "</table>\n",
              "</div>"
            ],
            "text/plain": [
              "                        Total   Percent\n",
              "GRADE                  201571  0.508989\n",
              "GRADE DATE             198347  0.500848\n",
              "VIOLATION DESCRIPTION   11157  0.028173\n",
              "BIN                      9816  0.024787\n",
              "Community Board          8000  0.020201\n",
              "NTA                      8000  0.020201\n",
              "Council District         8000  0.020201\n",
              "Census Tract             8000  0.020201\n",
              "VIOLATION CODE           7831  0.019774\n",
              "ZIPCODE                  6697  0.016911\n",
              "INSPECTION TYPE          3559  0.008987\n",
              "ACTION                   3559  0.008987\n",
              "Longitude                1425  0.003598\n",
              "Latitude                 1425  0.003598\n",
              "BBL                      1425  0.003598\n",
              "BUILDING                 1047  0.002644\n",
              "DBA                       659  0.001664\n",
              "STREET                     86  0.000217\n",
              "PHONE                      18  0.000045\n",
              "BORO                        0  0.000000\n",
              "CRITICAL FLAG               0  0.000000\n",
              "CUISINE DESCRIPTION         0  0.000000\n",
              "INSPECTION DATE             0  0.000000\n",
              "SCORE                       0  0.000000\n",
              "RECORD DATE                 0  0.000000\n",
              "CAMIS                       0  0.000000"
            ]
          },
          "metadata": {
            "tags": []
          }
        }
      ]
    },
    {
      "cell_type": "markdown",
      "metadata": {
        "id": "CkYusmSUNHAH"
      },
      "source": [
        "# <a class=\"anchor\"></a> 2 Boxplots and correlations\r\n",
        "\r\n",
        "We will now change datasets. This dataset containts the compensation of the CEO's of different companies.\r\n"
      ]
    },
    {
      "cell_type": "code",
      "metadata": {
        "colab": {
          "base_uri": "https://localhost:8080/",
          "height": 337
        },
        "id": "tfGDiGWTNRpH",
        "outputId": "becc5122-dd90-45cc-a189-9b00b0f9c6ec"
      },
      "source": [
        "#Run this cell\r\n",
        "url = \"https://raw.githubusercontent.com/michalis0/Business-Intelligence-and-Analytics/master/data/CEO%20compensation.csv\"\r\n",
        "data = pd.read_csv(url) \r\n",
        "data.head(3) #only shows the first 3 rows"
      ],
      "execution_count": 69,
      "outputs": [
        {
          "output_type": "execute_result",
          "data": {
            "text/html": [
              "<div>\n",
              "<style scoped>\n",
              "    .dataframe tbody tr th:only-of-type {\n",
              "        vertical-align: middle;\n",
              "    }\n",
              "\n",
              "    .dataframe tbody tr th {\n",
              "        vertical-align: top;\n",
              "    }\n",
              "\n",
              "    .dataframe thead th {\n",
              "        text-align: right;\n",
              "    }\n",
              "</style>\n",
              "<table border=\"1\" class=\"dataframe\">\n",
              "  <thead>\n",
              "    <tr style=\"text-align: right;\">\n",
              "      <th></th>\n",
              "      <th>Total Comp</th>\n",
              "      <th>Top 20</th>\n",
              "      <th>Wide Industry</th>\n",
              "      <th>Company</th>\n",
              "      <th>CEO</th>\n",
              "      <th>City of Birth</th>\n",
              "      <th>State of Birth</th>\n",
              "      <th>Age</th>\n",
              "      <th>Undergrad</th>\n",
              "      <th>UG Degree</th>\n",
              "      <th>UG Date</th>\n",
              "      <th>AgeOfUnder</th>\n",
              "      <th>Graduate</th>\n",
              "      <th>Grad Degree</th>\n",
              "      <th>MBA?</th>\n",
              "      <th>MasterPhd?</th>\n",
              "      <th>G_date</th>\n",
              "      <th>AgeOfGradu</th>\n",
              "      <th>YearsFirm</th>\n",
              "      <th>YearsCEO</th>\n",
              "      <th>Salary</th>\n",
              "      <th>Bonus</th>\n",
              "      <th>other</th>\n",
              "      <th>St_gains</th>\n",
              "      <th>Comp for 5 yrs</th>\n",
              "      <th>Stock owned</th>\n",
              "      <th>Sales</th>\n",
              "      <th>Profits</th>\n",
              "      <th>Return over 5 yrs</th>\n",
              "      <th>Industry</th>\n",
              "      <th>Industry Code</th>\n",
              "    </tr>\n",
              "  </thead>\n",
              "  <tbody>\n",
              "    <tr>\n",
              "      <th>0</th>\n",
              "      <td>203020000.0</td>\n",
              "      <td>True</td>\n",
              "      <td>Travel</td>\n",
              "      <td>Walt Disney</td>\n",
              "      <td>Mr. Michael D Eisner</td>\n",
              "      <td>New York</td>\n",
              "      <td>NY</td>\n",
              "      <td>52</td>\n",
              "      <td>Denison U</td>\n",
              "      <td>BA</td>\n",
              "      <td>64.0</td>\n",
              "      <td>22.0</td>\n",
              "      <td>NaN</td>\n",
              "      <td>none</td>\n",
              "      <td>0</td>\n",
              "      <td>0</td>\n",
              "      <td>NaN</td>\n",
              "      <td>NaN</td>\n",
              "      <td>10</td>\n",
              "      <td>10</td>\n",
              "      <td>750000.0</td>\n",
              "      <td>NaN</td>\n",
              "      <td>9667.0</td>\n",
              "      <td>202261000.0</td>\n",
              "      <td>236771000.0</td>\n",
              "      <td>0.561</td>\n",
              "      <td>8865</td>\n",
              "      <td>779.5</td>\n",
              "      <td>17.0</td>\n",
              "      <td>Travel-hotelsrecreation</td>\n",
              "      <td>8</td>\n",
              "    </tr>\n",
              "    <tr>\n",
              "      <th>1</th>\n",
              "      <td>53110900.0</td>\n",
              "      <td>True</td>\n",
              "      <td>Financial</td>\n",
              "      <td>Travelers</td>\n",
              "      <td>Mr. Sanford I Weill</td>\n",
              "      <td>New York</td>\n",
              "      <td>NY</td>\n",
              "      <td>61</td>\n",
              "      <td>Cornell</td>\n",
              "      <td>BA</td>\n",
              "      <td>55.0</td>\n",
              "      <td>22.0</td>\n",
              "      <td>NaN</td>\n",
              "      <td>none</td>\n",
              "      <td>0</td>\n",
              "      <td>0</td>\n",
              "      <td>NaN</td>\n",
              "      <td>NaN</td>\n",
              "      <td>8</td>\n",
              "      <td>8</td>\n",
              "      <td>1018750.0</td>\n",
              "      <td>3030310.0</td>\n",
              "      <td>2161890.0</td>\n",
              "      <td>46900000.0</td>\n",
              "      <td>141605000.0</td>\n",
              "      <td>1.168</td>\n",
              "      <td>6797</td>\n",
              "      <td>950.0</td>\n",
              "      <td>28.0</td>\n",
              "      <td>Financial services-leasefinance</td>\n",
              "      <td>1</td>\n",
              "    </tr>\n",
              "    <tr>\n",
              "      <th>2</th>\n",
              "      <td>38675400.0</td>\n",
              "      <td>True</td>\n",
              "      <td>Insurance</td>\n",
              "      <td>Conseco</td>\n",
              "      <td>Mr. Stephen C Hilbert</td>\n",
              "      <td>Terre Haute</td>\n",
              "      <td>IN</td>\n",
              "      <td>48</td>\n",
              "      <td>NaN</td>\n",
              "      <td>NaN</td>\n",
              "      <td>NaN</td>\n",
              "      <td>NaN</td>\n",
              "      <td>NaN</td>\n",
              "      <td>none</td>\n",
              "      <td>0</td>\n",
              "      <td>0</td>\n",
              "      <td>NaN</td>\n",
              "      <td>NaN</td>\n",
              "      <td>15</td>\n",
              "      <td>15</td>\n",
              "      <td>250000.0</td>\n",
              "      <td>8287670.0</td>\n",
              "      <td>190570.0</td>\n",
              "      <td>29947100.0</td>\n",
              "      <td>51156100.0</td>\n",
              "      <td>2.842</td>\n",
              "      <td>2637</td>\n",
              "      <td>308.9</td>\n",
              "      <td>76.0</td>\n",
              "      <td>Insurance-lifehealth</td>\n",
              "      <td>4</td>\n",
              "    </tr>\n",
              "  </tbody>\n",
              "</table>\n",
              "</div>"
            ],
            "text/plain": [
              "    Total Comp  Top 20  ...                         Industry Industry Code\n",
              "0  203020000.0    True  ...          Travel-hotelsrecreation             8\n",
              "1   53110900.0    True  ...  Financial services-leasefinance             1\n",
              "2   38675400.0    True  ...             Insurance-lifehealth             4\n",
              "\n",
              "[3 rows x 31 columns]"
            ]
          },
          "metadata": {
            "tags": []
          },
          "execution_count": 69
        }
      ]
    },
    {
      "cell_type": "code",
      "metadata": {
        "id": "pA30fVB4OPRw"
      },
      "source": [
        "# Run this cell to drop the rows where there are missing values\r\n",
        "data.dropna(inplace=True)"
      ],
      "execution_count": 70,
      "outputs": []
    },
    {
      "cell_type": "markdown",
      "metadata": {
        "id": "Ww0jmyFlOjbR"
      },
      "source": [
        "## <a class=\"anchor\"></a> 2.1 Boxplots\r\n",
        "\r\n",
        "Pandas allows you to plot boxplots with your data. If you do not remember what a Boxplot is you can refresh your memory following this link. Essentially they allow to see the following elements:\r\n",
        "\r\n",
        "* Minimum\r\n",
        "* Maximum\r\n",
        "* Median\r\n",
        "* Quartiles\r\n",
        "* Outliers\r\n",
        "\r\n",
        "We will use the `.boxplot()` function to see how much the salaries and bonuses of CEO's can vary. What part of CEO's compensation can vary the most, which one varies the least? Which one has the biggest outliers?\r\n",
        "\r\n"
      ]
    },
    {
      "cell_type": "code",
      "metadata": {
        "colab": {
          "base_uri": "https://localhost:8080/",
          "height": 620
        },
        "id": "lxTrHGTVPO5H",
        "outputId": "1b3b65fe-c710-43ff-8644-dc5485ff1bd7"
      },
      "source": [
        "#Boxplot for salaries\r\n",
        "display(data.boxplot(column = \"Salary\", figsize = (20,10)))\r\n",
        "\r\n"
      ],
      "execution_count": 71,
      "outputs": [
        {
          "output_type": "display_data",
          "data": {
            "text/plain": [
              "<matplotlib.axes._subplots.AxesSubplot at 0x7fb700bd5a10>"
            ]
          },
          "metadata": {
            "tags": []
          }
        },
        {
          "output_type": "display_data",
          "data": {
            "image/png": "[encoded data removed]",
            "text/plain": [
              "<Figure size 1440x720 with 1 Axes>"
            ]
          },
          "metadata": {
            "tags": [],
            "needs_background": "light"
          }
        }
      ]
    },
    {
      "cell_type": "code",
      "metadata": {
        "id": "ceh3ApkcMzWe",
        "colab": {
          "base_uri": "https://localhost:8080/",
          "height": 620
        },
        "outputId": "a3261935-e2a6-4dec-bc7c-7f9794beb518"
      },
      "source": [
        "#Boxplot for bonuses\r\n",
        "display(data.boxplot(column = \"Bonus\", figsize = (20,10) ))"
      ],
      "execution_count": 72,
      "outputs": [
        {
          "output_type": "display_data",
          "data": {
            "text/plain": [
              "<matplotlib.axes._subplots.AxesSubplot at 0x7fb700b7b5d0>"
            ]
          },
          "metadata": {
            "tags": []
          }
        },
        {
          "output_type": "display_data",
          "data": {
            "image/png": "[encoded data removed]",
            "text/plain": [
              "<Figure size 1440x720 with 1 Axes>"
            ]
          },
          "metadata": {
            "tags": [],
            "needs_background": "light"
          }
        }
      ]
    },
    {
      "cell_type": "markdown",
      "metadata": {
        "id": "RMKBMlVCP8UB"
      },
      "source": [
        "### <a class=\"anchor\"></a> 2.1.2 Boxplot exercice\r\n",
        "\r\n",
        "Use the .boxplot function with the \"Bonus\" column. What is the mean, median, max, min and what are the outlier values?\r\n",
        "\r\n",
        "Subsequentially check your answers using the .describe() function.\r\n"
      ]
    },
    {
      "cell_type": "code",
      "metadata": {
        "id": "8lds-gnsQG7B"
      },
      "source": [
        "#Generate the Boxplot"
      ],
      "execution_count": 73,
      "outputs": []
    },
    {
      "cell_type": "code",
      "metadata": {
        "id": "dujQIpCUQGyv"
      },
      "source": [
        "#Check your answers"
      ],
      "execution_count": 74,
      "outputs": []
    },
    {
      "cell_type": "markdown",
      "metadata": {
        "id": "eTS_M7hIOjWA"
      },
      "source": [
        "## <a class=\"anchor\"></a> 2.1 Scatterplots and Correlation\r\n",
        "\r\n",
        "This plots are useful to find correlations between variables. Let's see if we can find any correlation (visually) between the Age and the Salary of the CEO's.\r\n",
        "\r\n",
        "The function's name is scatterplot and it is included in the sns library, it is therefore called like this:\r\n",
        "\r\n",
        "`sns.scatterplot(x= Your_data_1, y= Your_data_2)`\r\n"
      ]
    },
    {
      "cell_type": "code",
      "metadata": {
        "colab": {
          "base_uri": "https://localhost:8080/",
          "height": 308
        },
        "id": "FoaL2zSfRyEY",
        "outputId": "b2a07586-c908-4d37-cc99-2529f6db063f"
      },
      "source": [
        "sns.scatterplot(x=data[\"Age\"], y=data[\"Salary\"])"
      ],
      "execution_count": 75,
      "outputs": [
        {
          "output_type": "execute_result",
          "data": {
            "text/plain": [
              "<matplotlib.axes._subplots.AxesSubplot at 0x7fb700afdd10>"
            ]
          },
          "metadata": {
            "tags": []
          },
          "execution_count": 75
        },
        {
          "output_type": "display_data",
          "data": {
            "image/png": "[encoded data removed]",
            "text/plain": [
              "<Figure size 432x288 with 1 Axes>"
            ]
          },
          "metadata": {
            "tags": [],
            "needs_background": "light"
          }
        }
      ]
    },
    {
      "cell_type": "markdown",
      "metadata": {
        "id": "377oW8DISmGf"
      },
      "source": [
        "Pandas also includes a function `corr` which allows to easily calculate [Pearsons r coefficient](https://en.wikipedia.org/wiki/Pearson_correlation_coefficient)."
      ]
    },
    {
      "cell_type": "code",
      "metadata": {
        "colab": {
          "base_uri": "https://localhost:8080/"
        },
        "id": "TjM8U-cKStCz",
        "outputId": "71495b5c-b86c-44cc-892e-9419de1355f2"
      },
      "source": [
        "data[\"Age\"].corr(data[\"Salary\"])"
      ],
      "execution_count": 76,
      "outputs": [
        {
          "output_type": "execute_result",
          "data": {
            "text/plain": [
              "0.30571805690619325"
            ]
          },
          "metadata": {
            "tags": []
          },
          "execution_count": 76
        }
      ]
    },
    {
      "cell_type": "markdown",
      "metadata": {
        "id": "b6moiPS6O_1N"
      },
      "source": [
        "The correlation seems quite low, so let's see what else we can find.\r\n",
        "\r\n",
        "Usually, as a way to inentivize managers to do a good job, they are given stocks or options. This way, they have an intrinsic motivation to make the stock price grow, as they can benefit enormously from this. Let's see if we can find a correlation between the stock owned by a CEO and the return of the stock in the last 5 years."
      ]
    },
    {
      "cell_type": "code",
      "metadata": {
        "id": "SW-7jLfnPqVO",
        "colab": {
          "base_uri": "https://localhost:8080/",
          "height": 326
        },
        "outputId": "4d4fa68d-db03-48c6-a4f1-8a3aab95c71a"
      },
      "source": [
        "#Scatterplot\r\n",
        "sns.scatterplot(x=data[\"Profits\"], y=data[\"Salary\"])\r\n",
        "\r\n",
        "#Pearson's r coefficient\r\n",
        "display(print(\"Pearson's r coefficient is: {}\".format(round(data[\"Profits\"].corr(data[\"Salary\"]), 2))))\r\n"
      ],
      "execution_count": 77,
      "outputs": [
        {
          "output_type": "stream",
          "text": [
            "Pearson's r coefficient is: 0.66\n"
          ],
          "name": "stdout"
        },
        {
          "output_type": "display_data",
          "data": {
            "text/plain": [
              "None"
            ]
          },
          "metadata": {
            "tags": []
          }
        },
        {
          "output_type": "display_data",
          "data": {
            "image/png": "[encoded data removed]",
            "text/plain": [
              "<Figure size 432x288 with 1 Axes>"
            ]
          },
          "metadata": {
            "tags": [],
            "needs_background": "light"
          }
        }
      ]
    },
    {
      "cell_type": "markdown",
      "metadata": {
        "id": "KZnA9SNMR6ow"
      },
      "source": [
        "There seems to be a correlation between the fixed part of a CEO's  compensation and the companies profit, but always remember that correlation does not imply causation.\r\n",
        "\r\n",
        "You can also include a third variable if you want to. In order to plot 3-different variables in 2 dimensions we can change the collor of the third variable. This is done with the `hue` argument."
      ]
    },
    {
      "cell_type": "code",
      "metadata": {
        "colab": {
          "base_uri": "https://localhost:8080/",
          "height": 308
        },
        "id": "hwX12aPrSKAv",
        "outputId": "e090d168-8402-4150-824a-70d1dcb3e6e9"
      },
      "source": [
        "sns.scatterplot(x=data[\"YearsCEO\"], y=data[\"Bonus\"],hue=data[\"Top 20\"])"
      ],
      "execution_count": 78,
      "outputs": [
        {
          "output_type": "execute_result",
          "data": {
            "text/plain": [
              "<matplotlib.axes._subplots.AxesSubplot at 0x7fb700b54d90>"
            ]
          },
          "metadata": {
            "tags": []
          },
          "execution_count": 78
        },
        {
          "output_type": "display_data",
          "data": {
            "image/png": "[encoded data removed]",
            "text/plain": [
              "<Figure size 432x288 with 1 Axes>"
            ]
          },
          "metadata": {
            "tags": [],
            "needs_background": "light"
          }
        }
      ]
    },
    {
      "cell_type": "markdown",
      "metadata": {
        "id": "knvKIP4-UZ4_"
      },
      "source": [
        "## <a class=\"anchor\"></a> 2.2 Exercice\r\n",
        "\r\n",
        "1) Load the dataset from the following url: `https://raw.githubusercontent.com/michalis0/Business-Intelligence-and-Analytics/master/data/Birthweight.csv`, set ID as the index column and use the .head() funtion to obtain an overview."
      ]
    },
    {
      "cell_type": "code",
      "metadata": {
        "id": "x3Yt6nJGU_X5",
        "outputId": "b9c9cfd5-269d-40c0-e6b4-eb912d86f30a",
        "colab": {
          "base_uri": "https://localhost:8080/",
          "height": 206
        }
      },
      "source": [
        "birth_data = pd.read_csv(\"https://raw.githubusercontent.com/michalis0/Business-Intelligence-and-Analytics/master/data/Birthweight.csv\")\r\n",
        "birth_data.head()"
      ],
      "execution_count": 86,
      "outputs": [
        {
          "output_type": "execute_result",
          "data": {
            "text/html": [
              "<div>\n",
              "<style scoped>\n",
              "    .dataframe tbody tr th:only-of-type {\n",
              "        vertical-align: middle;\n",
              "    }\n",
              "\n",
              "    .dataframe tbody tr th {\n",
              "        vertical-align: top;\n",
              "    }\n",
              "\n",
              "    .dataframe thead th {\n",
              "        text-align: right;\n",
              "    }\n",
              "</style>\n",
              "<table border=\"1\" class=\"dataframe\">\n",
              "  <thead>\n",
              "    <tr style=\"text-align: right;\">\n",
              "      <th></th>\n",
              "      <th>ID</th>\n",
              "      <th>Length</th>\n",
              "      <th>Birthweight</th>\n",
              "      <th>Headcirc</th>\n",
              "      <th>Gestation</th>\n",
              "      <th>smoker</th>\n",
              "      <th>mage</th>\n",
              "      <th>mnocig</th>\n",
              "      <th>mheight</th>\n",
              "      <th>mppwt</th>\n",
              "      <th>fage</th>\n",
              "      <th>fedyrs</th>\n",
              "      <th>fnocig</th>\n",
              "      <th>fheight</th>\n",
              "      <th>lowbwt</th>\n",
              "      <th>mage35</th>\n",
              "    </tr>\n",
              "  </thead>\n",
              "  <tbody>\n",
              "    <tr>\n",
              "      <th>0</th>\n",
              "      <td>1360</td>\n",
              "      <td>56</td>\n",
              "      <td>4.55</td>\n",
              "      <td>34</td>\n",
              "      <td>44</td>\n",
              "      <td>0</td>\n",
              "      <td>20</td>\n",
              "      <td>0</td>\n",
              "      <td>162</td>\n",
              "      <td>57</td>\n",
              "      <td>23</td>\n",
              "      <td>10</td>\n",
              "      <td>35</td>\n",
              "      <td>179</td>\n",
              "      <td>0</td>\n",
              "      <td>0</td>\n",
              "    </tr>\n",
              "    <tr>\n",
              "      <th>1</th>\n",
              "      <td>1016</td>\n",
              "      <td>53</td>\n",
              "      <td>4.32</td>\n",
              "      <td>36</td>\n",
              "      <td>40</td>\n",
              "      <td>0</td>\n",
              "      <td>19</td>\n",
              "      <td>0</td>\n",
              "      <td>171</td>\n",
              "      <td>62</td>\n",
              "      <td>19</td>\n",
              "      <td>12</td>\n",
              "      <td>0</td>\n",
              "      <td>183</td>\n",
              "      <td>0</td>\n",
              "      <td>0</td>\n",
              "    </tr>\n",
              "    <tr>\n",
              "      <th>2</th>\n",
              "      <td>462</td>\n",
              "      <td>58</td>\n",
              "      <td>4.10</td>\n",
              "      <td>39</td>\n",
              "      <td>41</td>\n",
              "      <td>0</td>\n",
              "      <td>35</td>\n",
              "      <td>0</td>\n",
              "      <td>172</td>\n",
              "      <td>58</td>\n",
              "      <td>31</td>\n",
              "      <td>16</td>\n",
              "      <td>25</td>\n",
              "      <td>185</td>\n",
              "      <td>0</td>\n",
              "      <td>1</td>\n",
              "    </tr>\n",
              "    <tr>\n",
              "      <th>3</th>\n",
              "      <td>1187</td>\n",
              "      <td>53</td>\n",
              "      <td>4.07</td>\n",
              "      <td>38</td>\n",
              "      <td>44</td>\n",
              "      <td>0</td>\n",
              "      <td>20</td>\n",
              "      <td>0</td>\n",
              "      <td>174</td>\n",
              "      <td>68</td>\n",
              "      <td>26</td>\n",
              "      <td>14</td>\n",
              "      <td>25</td>\n",
              "      <td>189</td>\n",
              "      <td>0</td>\n",
              "      <td>0</td>\n",
              "    </tr>\n",
              "    <tr>\n",
              "      <th>4</th>\n",
              "      <td>553</td>\n",
              "      <td>54</td>\n",
              "      <td>3.94</td>\n",
              "      <td>37</td>\n",
              "      <td>42</td>\n",
              "      <td>0</td>\n",
              "      <td>24</td>\n",
              "      <td>0</td>\n",
              "      <td>175</td>\n",
              "      <td>66</td>\n",
              "      <td>30</td>\n",
              "      <td>12</td>\n",
              "      <td>0</td>\n",
              "      <td>184</td>\n",
              "      <td>0</td>\n",
              "      <td>0</td>\n",
              "    </tr>\n",
              "  </tbody>\n",
              "</table>\n",
              "</div>"
            ],
            "text/plain": [
              "     ID  Length  Birthweight  Headcirc  ...  fnocig  fheight  lowbwt  mage35\n",
              "0  1360      56         4.55        34  ...      35      179       0       0\n",
              "1  1016      53         4.32        36  ...       0      183       0       0\n",
              "2   462      58         4.10        39  ...      25      185       0       1\n",
              "3  1187      53         4.07        38  ...      25      189       0       0\n",
              "4   553      54         3.94        37  ...       0      184       0       0\n",
              "\n",
              "[5 rows x 16 columns]"
            ]
          },
          "metadata": {
            "tags": []
          },
          "execution_count": 86
        }
      ]
    },
    {
      "cell_type": "markdown",
      "metadata": {
        "id": "vnOHLRuPks4n"
      },
      "source": [
        "2) The above dataset contains information about newborn babis and their mothers. Plot an histogram of the \"Gestation\" column. What is the mode and the mean of the gestation period?"
      ]
    },
    {
      "cell_type": "code",
      "metadata": {
        "id": "MQ-SxzqrlTnO"
      },
      "source": [
        ""
      ],
      "execution_count": null,
      "outputs": []
    },
    {
      "cell_type": "markdown",
      "metadata": {
        "id": "aTYocBWblUHN"
      },
      "source": [
        "3) Plot a boxplot of the gestation period. Were you right about the mode and the median?"
      ]
    },
    {
      "cell_type": "code",
      "metadata": {
        "id": "PXlQpq_ZlVYV"
      },
      "source": [
        ""
      ],
      "execution_count": null,
      "outputs": []
    },
    {
      "cell_type": "markdown",
      "metadata": {
        "id": "OokRXQ_7mmO9"
      },
      "source": [
        "4) It might be interesting to see whether there is a correlation between smoker/ non-smoker mothers and the babies birthweight.\r\n",
        "\r\n",
        "Plot a scatterplot between the \"smoker\", \"Birthweight\" and \"mage\" columns."
      ]
    },
    {
      "cell_type": "code",
      "metadata": {
        "id": "Ycc7nNlKmkU8"
      },
      "source": [
        ""
      ],
      "execution_count": null,
      "outputs": []
    },
    {
      "cell_type": "code",
      "metadata": {
        "id": "vlp4eORnurBj"
      },
      "source": [
        "#Check the correlation between each pair of variables"
      ],
      "execution_count": null,
      "outputs": []
    },
    {
      "cell_type": "markdown",
      "metadata": {
        "id": "b4Li-RA-ToFB"
      },
      "source": [
        "## <a class=\"anchor\"></a> 2.3 Pairgrids and heatmaps\r\n",
        "\r\n",
        "Pairgrids can be a usefool tool to visualize correlations. They allow us to plot the relationships of multiple variables against each other, 2 at a time.\r\n"
      ]
    },
    {
      "cell_type": "code",
      "metadata": {
        "colab": {
          "base_uri": "https://localhost:8080/",
          "height": 586
        },
        "id": "grLoo9R7UF5w",
        "outputId": "bf233689-b342-454c-c77d-65d81e45abca"
      },
      "source": [
        "g = sns.PairGrid(birth_data, vars=['Length', 'Birthweight', 'Headcirc'],\r\n",
        "                 palette='pale red')\r\n",
        "g.map(plt.scatter, alpha=0.2)\r\n",
        "plt.subplots_adjust(top=0.9)\r\n",
        "g.fig.suptitle('PairGrid to find a possible correlation', size=24)\r\n",
        "g.add_legend();\r\n",
        "\r\n",
        "#add heatmap"
      ],
      "execution_count": 89,
      "outputs": [
        {
          "output_type": "stream",
          "text": [
            "/usr/local/lib/python3.7/dist-packages/seaborn/axisgrid.py:132: UserWarning: The handle <matplotlib.patches.Patch object at 0x7fb6f2805610> has a label of '_nolegend_' which cannot be automatically added to the legend.\n",
            "  figlegend = self.fig.legend(handles, labels, **kwargs)\n"
          ],
          "name": "stderr"
        },
        {
          "output_type": "display_data",
          "data": {
            "image/png": "[encoded data removed]",
            "text/plain": [
              "<Figure size 548x540 with 9 Axes>"
            ]
          },
          "metadata": {
            "tags": [],
            "needs_background": "light"
          }
        }
      ]
    },
    {
      "cell_type": "markdown",
      "metadata": {
        "id": "8yfeLB0U3ap8"
      },
      "source": [
        "Another more useful tools are [heatmaps](https://en.wikipedia.org/wiki/Heat_map). By first calculating the correlations between every variable, we can then plot a heatmap of those.\r\n"
      ]
    },
    {
      "cell_type": "code",
      "metadata": {
        "id": "58uUIo6-3mxT",
        "outputId": "7493c8b8-7e47-46b4-dfd0-69acbc29a13e",
        "colab": {
          "base_uri": "https://localhost:8080/",
          "height": 335
        }
      },
      "source": [
        "correlations = birth_data.corr()\r\n",
        "sns.heatmap(correlations)"
      ],
      "execution_count": 92,
      "outputs": [
        {
          "output_type": "execute_result",
          "data": {
            "text/plain": [
              "<matplotlib.axes._subplots.AxesSubplot at 0x7fb6f3566fd0>"
            ]
          },
          "metadata": {
            "tags": []
          },
          "execution_count": 92
        },
        {
          "output_type": "display_data",
          "data": {
            "image/png": "[encoded data removed]",
            "text/plain": [
              "<Figure size 432x288 with 2 Axes>"
            ]
          },
          "metadata": {
            "tags": [],
            "needs_background": "light"
          }
        }
      ]
    }
  ]
}