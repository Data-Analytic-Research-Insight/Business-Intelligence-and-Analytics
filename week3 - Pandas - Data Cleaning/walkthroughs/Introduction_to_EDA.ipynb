{
  "nbformat": 4,
  "nbformat_minor": 0,
  "metadata": {
    "colab": {
      "name": "Introduction_to_EDA.ipynb",
      "provenance": [],
      "authorship_tag": "ABX9TyP98RQrvnUZtB8Uwfaw+rqD",
      "include_colab_link": true
    },
    "kernelspec": {
      "name": "python3",
      "display_name": "Python 3"
    }
  },
  "cells": [
    {
      "cell_type": "markdown",
      "metadata": {
        "id": "view-in-github",
        "colab_type": "text"
      },
      "source": [
        "<a href=\"https://colab.research.google.com/github/michalis0/Business_Intelligence_Analytics_private2021/blob/main/Introduction_to_EDA.ipynb\" target=\"_parent\"><img src=\"https://colab.research.google.com/assets/colab-badge.svg\" alt=\"Open In Colab\"/></a>"
      ]
    },
    {
      "cell_type": "markdown",
      "metadata": {
        "id": "jyij8neZz4yD"
      },
      "source": [
        "# <a class=\"anchor\"></a> 1. Exploratory Data Analysis\r\n",
        "\r\n",
        "\r\n",
        "\r\n"
      ]
    },
    {
      "cell_type": "markdown",
      "metadata": {
        "id": "izvXpAkgrfDY"
      },
      "source": [
        "Now lets get into the Data Analysis per say. This part will extensively rely on the Pandas Dataframes, and functions. Please do not hesitate to refer to last sessions introduction if you don't feel yet comfortable. Throughout this part, you will learn more about the dtypes of data you can find in data frame and manipulate its columns for analysis purposes. "
      ]
    },
    {
      "cell_type": "markdown",
      "metadata": {
        "id": "5gy-XniJZG9p"
      },
      "source": [
        "## <a class=\"anchor\"></a> 1.1. Loading and getting a first look at our Data \r\n"
      ]
    },
    {
      "cell_type": "code",
      "metadata": {
        "id": "HNZaB3NzUPt5"
      },
      "source": [
        "#Let's import pandas\r\n",
        "import pandas as pd\r\n",
        "import numpy as np\r\n",
        "import matplotlib\r\n",
        "import matplotlib.pyplot as plt\r\n",
        "import seaborn as sns\r\n",
        "from pandas.plotting import scatter_matrix\r\n",
        "\r\n"
      ],
      "execution_count": 2,
      "outputs": []
    },
    {
      "cell_type": "markdown",
      "metadata": {
        "id": "2Tc1olNXUl6D"
      },
      "source": [
        "The dataset we will use is available under the following url :`'https://data.cityofnewyork.us/api/views/43nn-pn8j/rows.csv?accessType=DOWNLOAD'`. This dataset containts the results of restaurant inspections in NYC."
      ]
    },
    {
      "cell_type": "code",
      "metadata": {
        "colab": {
          "base_uri": "https://localhost:8080/",
          "height": 695
        },
        "id": "3R9aJHOtVAep",
        "outputId": "26ad6080-9c4a-4fa7-ce96-6fb5b71bfa2b"
      },
      "source": [
        "#You should already know what this block of code does. \r\n",
        "restaurants = pd.read_csv('https://data.cityofnewyork.us/api/views/43nn-pn8j/rows.csv?accessType=DOWNLOAD')\r\n",
        "\r\n",
        "#Let's have a look at the data\r\n",
        "restaurants.head()"
      ],
      "execution_count": 3,
      "outputs": [
        {
          "output_type": "execute_result",
          "data": {
            "text/html": [
              "<div>\n",
              "<style scoped>\n",
              "    .dataframe tbody tr th:only-of-type {\n",
              "        vertical-align: middle;\n",
              "    }\n",
              "\n",
              "    .dataframe tbody tr th {\n",
              "        vertical-align: top;\n",
              "    }\n",
              "\n",
              "    .dataframe thead th {\n",
              "        text-align: right;\n",
              "    }\n",
              "</style>\n",
              "<table border=\"1\" class=\"dataframe\">\n",
              "  <thead>\n",
              "    <tr style=\"text-align: right;\">\n",
              "      <th></th>\n",
              "      <th>CAMIS</th>\n",
              "      <th>DBA</th>\n",
              "      <th>BORO</th>\n",
              "      <th>BUILDING</th>\n",
              "      <th>STREET</th>\n",
              "      <th>ZIPCODE</th>\n",
              "      <th>PHONE</th>\n",
              "      <th>CUISINE DESCRIPTION</th>\n",
              "      <th>INSPECTION DATE</th>\n",
              "      <th>ACTION</th>\n",
              "      <th>VIOLATION CODE</th>\n",
              "      <th>VIOLATION DESCRIPTION</th>\n",
              "      <th>CRITICAL FLAG</th>\n",
              "      <th>SCORE</th>\n",
              "      <th>GRADE</th>\n",
              "      <th>GRADE DATE</th>\n",
              "      <th>RECORD DATE</th>\n",
              "      <th>INSPECTION TYPE</th>\n",
              "      <th>Latitude</th>\n",
              "      <th>Longitude</th>\n",
              "      <th>Community Board</th>\n",
              "      <th>Council District</th>\n",
              "      <th>Census Tract</th>\n",
              "      <th>BIN</th>\n",
              "      <th>BBL</th>\n",
              "      <th>NTA</th>\n",
              "    </tr>\n",
              "  </thead>\n",
              "  <tbody>\n",
              "    <tr>\n",
              "      <th>0</th>\n",
              "      <td>50081432</td>\n",
              "      <td>AUDREY BAKERY &amp; CAFE</td>\n",
              "      <td>Manhattan</td>\n",
              "      <td>12</td>\n",
              "      <td>CHATHAM SQUARE</td>\n",
              "      <td>10038.0</td>\n",
              "      <td>2126089188</td>\n",
              "      <td>Cakes, Cupcakes, Desserts</td>\n",
              "      <td>07/15/2019</td>\n",
              "      <td>Violations were cited in the following area(s).</td>\n",
              "      <td>10I</td>\n",
              "      <td>Single service item reused, improperly stored,...</td>\n",
              "      <td>N</td>\n",
              "      <td>13.0</td>\n",
              "      <td>A</td>\n",
              "      <td>07/15/2019</td>\n",
              "      <td>03/03/2021</td>\n",
              "      <td>Cycle Inspection / Re-inspection</td>\n",
              "      <td>40.713829</td>\n",
              "      <td>-73.997785</td>\n",
              "      <td>103.0</td>\n",
              "      <td>1.0</td>\n",
              "      <td>2900.0</td>\n",
              "      <td>1001705.0</td>\n",
              "      <td>1.001620e+09</td>\n",
              "      <td>MN27</td>\n",
              "    </tr>\n",
              "    <tr>\n",
              "      <th>1</th>\n",
              "      <td>50034105</td>\n",
              "      <td>ALFIE'S PIZZA AND PASTA</td>\n",
              "      <td>Queens</td>\n",
              "      <td>8608</td>\n",
              "      <td>117TH ST</td>\n",
              "      <td>11418.0</td>\n",
              "      <td>7188498701</td>\n",
              "      <td>Pizza</td>\n",
              "      <td>03/13/2018</td>\n",
              "      <td>No violations were recorded at the time of thi...</td>\n",
              "      <td>NaN</td>\n",
              "      <td>NaN</td>\n",
              "      <td>NaN</td>\n",
              "      <td>NaN</td>\n",
              "      <td>NaN</td>\n",
              "      <td>NaN</td>\n",
              "      <td>03/03/2021</td>\n",
              "      <td>Administrative Miscellaneous / Initial Inspection</td>\n",
              "      <td>40.699980</td>\n",
              "      <td>-73.832653</td>\n",
              "      <td>409.0</td>\n",
              "      <td>29.0</td>\n",
              "      <td>13200.0</td>\n",
              "      <td>4193387.0</td>\n",
              "      <td>4.092540e+09</td>\n",
              "      <td>QN54</td>\n",
              "    </tr>\n",
              "    <tr>\n",
              "      <th>2</th>\n",
              "      <td>50063229</td>\n",
              "      <td>LA PARRANDA BAR RESTAURANT</td>\n",
              "      <td>Bronx</td>\n",
              "      <td>2712</td>\n",
              "      <td>WHITE PLAINS ROAD</td>\n",
              "      <td>10467.0</td>\n",
              "      <td>7186841119</td>\n",
              "      <td>Spanish</td>\n",
              "      <td>05/03/2018</td>\n",
              "      <td>Violations were cited in the following area(s).</td>\n",
              "      <td>10F</td>\n",
              "      <td>Non-food contact surface improperly constructe...</td>\n",
              "      <td>N</td>\n",
              "      <td>11.0</td>\n",
              "      <td>A</td>\n",
              "      <td>05/03/2018</td>\n",
              "      <td>03/03/2021</td>\n",
              "      <td>Pre-permit (Operational) / Re-inspection</td>\n",
              "      <td>40.865693</td>\n",
              "      <td>-73.867337</td>\n",
              "      <td>211.0</td>\n",
              "      <td>15.0</td>\n",
              "      <td>33800.0</td>\n",
              "      <td>2053552.0</td>\n",
              "      <td>2.045090e+09</td>\n",
              "      <td>BX07</td>\n",
              "    </tr>\n",
              "    <tr>\n",
              "      <th>3</th>\n",
              "      <td>41436344</td>\n",
              "      <td>KIM'S ISLAND CHINESE RESTAURANT</td>\n",
              "      <td>Staten Island</td>\n",
              "      <td>175</td>\n",
              "      <td>MAIN STREET</td>\n",
              "      <td>10307.0</td>\n",
              "      <td>7183565168</td>\n",
              "      <td>Chinese</td>\n",
              "      <td>03/13/2019</td>\n",
              "      <td>Violations were cited in the following area(s).</td>\n",
              "      <td>22C</td>\n",
              "      <td>Bulb not shielded or shatterproof, in areas wh...</td>\n",
              "      <td>N</td>\n",
              "      <td>NaN</td>\n",
              "      <td>NaN</td>\n",
              "      <td>NaN</td>\n",
              "      <td>03/03/2021</td>\n",
              "      <td>Administrative Miscellaneous / Re-inspection</td>\n",
              "      <td>40.510623</td>\n",
              "      <td>-74.248372</td>\n",
              "      <td>503.0</td>\n",
              "      <td>51.0</td>\n",
              "      <td>24800.0</td>\n",
              "      <td>5088877.0</td>\n",
              "      <td>5.080260e+09</td>\n",
              "      <td>SI11</td>\n",
              "    </tr>\n",
              "    <tr>\n",
              "      <th>4</th>\n",
              "      <td>50041847</td>\n",
              "      <td>BURGER KING</td>\n",
              "      <td>Brooklyn</td>\n",
              "      <td>2425</td>\n",
              "      <td>CONEY ISLAND AVENUE</td>\n",
              "      <td>11223.0</td>\n",
              "      <td>7183821409</td>\n",
              "      <td>American</td>\n",
              "      <td>09/26/2018</td>\n",
              "      <td>Violations were cited in the following area(s).</td>\n",
              "      <td>04N</td>\n",
              "      <td>Filth flies or food/refuse/sewage-associated (...</td>\n",
              "      <td>Y</td>\n",
              "      <td>26.0</td>\n",
              "      <td>B</td>\n",
              "      <td>09/26/2018</td>\n",
              "      <td>03/03/2021</td>\n",
              "      <td>Cycle Inspection / Re-inspection</td>\n",
              "      <td>40.597616</td>\n",
              "      <td>-73.961125</td>\n",
              "      <td>315.0</td>\n",
              "      <td>48.0</td>\n",
              "      <td>58200.0</td>\n",
              "      <td>3199390.0</td>\n",
              "      <td>3.073430e+09</td>\n",
              "      <td>BK25</td>\n",
              "    </tr>\n",
              "  </tbody>\n",
              "</table>\n",
              "</div>"
            ],
            "text/plain": [
              "      CAMIS                              DBA  ...           BBL   NTA\n",
              "0  50081432             AUDREY BAKERY & CAFE  ...  1.001620e+09  MN27\n",
              "1  50034105          ALFIE'S PIZZA AND PASTA  ...  4.092540e+09  QN54\n",
              "2  50063229       LA PARRANDA BAR RESTAURANT  ...  2.045090e+09  BX07\n",
              "3  41436344  KIM'S ISLAND CHINESE RESTAURANT  ...  5.080260e+09  SI11\n",
              "4  50041847                      BURGER KING  ...  3.073430e+09  BK25\n",
              "\n",
              "[5 rows x 26 columns]"
            ]
          },
          "metadata": {
            "tags": []
          },
          "execution_count": 3
        }
      ]
    },
    {
      "cell_type": "markdown",
      "metadata": {
        "id": "htjkc528WuVJ"
      },
      "source": [
        "Let's use the `.describe()` function to get a quick overview of the Data we will be working with.\r\n"
      ]
    },
    {
      "cell_type": "code",
      "metadata": {
        "colab": {
          "base_uri": "https://localhost:8080/",
          "height": 300
        },
        "id": "ZaGkZwPSXhZ4",
        "outputId": "3427e400-bb46-4e63-bf56-5dae309b01a0"
      },
      "source": [
        "restaurants.describe()"
      ],
      "execution_count": 4,
      "outputs": [
        {
          "output_type": "execute_result",
          "data": {
            "text/html": [
              "<div>\n",
              "<style scoped>\n",
              "    .dataframe tbody tr th:only-of-type {\n",
              "        vertical-align: middle;\n",
              "    }\n",
              "\n",
              "    .dataframe tbody tr th {\n",
              "        vertical-align: top;\n",
              "    }\n",
              "\n",
              "    .dataframe thead th {\n",
              "        text-align: right;\n",
              "    }\n",
              "</style>\n",
              "<table border=\"1\" class=\"dataframe\">\n",
              "  <thead>\n",
              "    <tr style=\"text-align: right;\">\n",
              "      <th></th>\n",
              "      <th>CAMIS</th>\n",
              "      <th>ZIPCODE</th>\n",
              "      <th>SCORE</th>\n",
              "      <th>Latitude</th>\n",
              "      <th>Longitude</th>\n",
              "      <th>Community Board</th>\n",
              "      <th>Council District</th>\n",
              "      <th>Census Tract</th>\n",
              "      <th>BIN</th>\n",
              "      <th>BBL</th>\n",
              "    </tr>\n",
              "  </thead>\n",
              "  <tbody>\n",
              "    <tr>\n",
              "      <th>count</th>\n",
              "      <td>3.959800e+05</td>\n",
              "      <td>389283.000000</td>\n",
              "      <td>377235.000000</td>\n",
              "      <td>394555.000000</td>\n",
              "      <td>394555.000000</td>\n",
              "      <td>387980.000000</td>\n",
              "      <td>387980.000000</td>\n",
              "      <td>387980.000000</td>\n",
              "      <td>3.861640e+05</td>\n",
              "      <td>3.945550e+05</td>\n",
              "    </tr>\n",
              "    <tr>\n",
              "      <th>mean</th>\n",
              "      <td>4.622480e+07</td>\n",
              "      <td>10679.748712</td>\n",
              "      <td>20.114178</td>\n",
              "      <td>40.049869</td>\n",
              "      <td>-72.711076</td>\n",
              "      <td>248.380654</td>\n",
              "      <td>20.055317</td>\n",
              "      <td>28749.770545</td>\n",
              "      <td>2.509312e+06</td>\n",
              "      <td>2.395078e+09</td>\n",
              "    </tr>\n",
              "    <tr>\n",
              "      <th>std</th>\n",
              "      <td>4.393513e+06</td>\n",
              "      <td>602.234465</td>\n",
              "      <td>14.729644</td>\n",
              "      <td>5.214121</td>\n",
              "      <td>9.465805</td>\n",
              "      <td>130.400548</td>\n",
              "      <td>15.829222</td>\n",
              "      <td>30524.933863</td>\n",
              "      <td>1.349126e+06</td>\n",
              "      <td>1.344799e+09</td>\n",
              "    </tr>\n",
              "    <tr>\n",
              "      <th>min</th>\n",
              "      <td>3.007544e+07</td>\n",
              "      <td>10000.000000</td>\n",
              "      <td>-1.000000</td>\n",
              "      <td>0.000000</td>\n",
              "      <td>-74.249101</td>\n",
              "      <td>101.000000</td>\n",
              "      <td>1.000000</td>\n",
              "      <td>100.000000</td>\n",
              "      <td>1.000000e+06</td>\n",
              "      <td>1.000000e+00</td>\n",
              "    </tr>\n",
              "    <tr>\n",
              "      <th>25%</th>\n",
              "      <td>4.140501e+07</td>\n",
              "      <td>10022.000000</td>\n",
              "      <td>11.000000</td>\n",
              "      <td>40.685261</td>\n",
              "      <td>-73.989201</td>\n",
              "      <td>105.000000</td>\n",
              "      <td>4.000000</td>\n",
              "      <td>7800.000000</td>\n",
              "      <td>1.042824e+06</td>\n",
              "      <td>1.010360e+09</td>\n",
              "    </tr>\n",
              "    <tr>\n",
              "      <th>50%</th>\n",
              "      <td>5.000901e+07</td>\n",
              "      <td>10468.000000</td>\n",
              "      <td>15.000000</td>\n",
              "      <td>40.732089</td>\n",
              "      <td>-73.958119</td>\n",
              "      <td>301.000000</td>\n",
              "      <td>20.000000</td>\n",
              "      <td>16100.000000</td>\n",
              "      <td>3.007692e+06</td>\n",
              "      <td>3.001640e+09</td>\n",
              "    </tr>\n",
              "    <tr>\n",
              "      <th>75%</th>\n",
              "      <td>5.005960e+07</td>\n",
              "      <td>11229.000000</td>\n",
              "      <td>26.000000</td>\n",
              "      <td>40.761567</td>\n",
              "      <td>-73.898490</td>\n",
              "      <td>401.000000</td>\n",
              "      <td>34.000000</td>\n",
              "      <td>40300.000000</td>\n",
              "      <td>4.001953e+06</td>\n",
              "      <td>4.001350e+09</td>\n",
              "    </tr>\n",
              "    <tr>\n",
              "      <th>max</th>\n",
              "      <td>5.010908e+07</td>\n",
              "      <td>30339.000000</td>\n",
              "      <td>164.000000</td>\n",
              "      <td>40.912822</td>\n",
              "      <td>0.000000</td>\n",
              "      <td>595.000000</td>\n",
              "      <td>51.000000</td>\n",
              "      <td>162100.000000</td>\n",
              "      <td>5.799501e+06</td>\n",
              "      <td>5.270001e+09</td>\n",
              "    </tr>\n",
              "  </tbody>\n",
              "</table>\n",
              "</div>"
            ],
            "text/plain": [
              "              CAMIS        ZIPCODE  ...           BIN           BBL\n",
              "count  3.959800e+05  389283.000000  ...  3.861640e+05  3.945550e+05\n",
              "mean   4.622480e+07   10679.748712  ...  2.509312e+06  2.395078e+09\n",
              "std    4.393513e+06     602.234465  ...  1.349126e+06  1.344799e+09\n",
              "min    3.007544e+07   10000.000000  ...  1.000000e+06  1.000000e+00\n",
              "25%    4.140501e+07   10022.000000  ...  1.042824e+06  1.010360e+09\n",
              "50%    5.000901e+07   10468.000000  ...  3.007692e+06  3.001640e+09\n",
              "75%    5.005960e+07   11229.000000  ...  4.001953e+06  4.001350e+09\n",
              "max    5.010908e+07   30339.000000  ...  5.799501e+06  5.270001e+09\n",
              "\n",
              "[8 rows x 10 columns]"
            ]
          },
          "metadata": {
            "tags": []
          },
          "execution_count": 4
        }
      ]
    },
    {
      "cell_type": "markdown",
      "metadata": {
        "id": "sFlEcTbLZZEr"
      },
      "source": [
        "## <a class=\"anchor\"></a> 1.2. Dtypes and descriptive statistics\r\n",
        "\r\n",
        "Recall from week2 that there are different dtypes in Pandas. Have a look at this table once again:\r\n",
        "\r\n",
        "\r\n",
        "| Pandas dtype  | Python type  | NumPy type|Usage\r\n",
        "| :--- | :--- | :--- | :--- |\r\n",
        "| object| str or mixed | string_, unicode_, mixed types| Text or mixed numeric and non_numeric values |\r\n",
        "| int 64| int| int_, int8, int16, int32, int64, uint8, uint18, uint32, uint64 | Integer numbers i.e. [1,2,3,...] |\r\n",
        "| float64| float| float_, float15, float32, float64 | Floating point numbers (They contain decimal points) |\r\n",
        "| bool| bool|bool_| True/False values|\r\n",
        "| datetime64 | NA | datetime64[ns]     | Date and time values  |\r\n",
        "| timedelta[ns] | NA  | NA| Differences between two datetime|\r\n",
        "| category | NA| NA| Finite list of text values|\r\n",
        "\r\n",
        "\r\n",
        "Now let's see what the dtypes of our DF are:\r\n"
      ]
    },
    {
      "cell_type": "code",
      "metadata": {
        "colab": {
          "base_uri": "https://localhost:8080/"
        },
        "id": "fOVgjWctXtvp",
        "outputId": "0bd70436-cc98-4d80-f11e-ed9568d393ff"
      },
      "source": [
        "restaurants.dtypes"
      ],
      "execution_count": 5,
      "outputs": [
        {
          "output_type": "execute_result",
          "data": {
            "text/plain": [
              "CAMIS                      int64\n",
              "DBA                       object\n",
              "BORO                      object\n",
              "BUILDING                  object\n",
              "STREET                    object\n",
              "ZIPCODE                  float64\n",
              "PHONE                     object\n",
              "CUISINE DESCRIPTION       object\n",
              "INSPECTION DATE           object\n",
              "ACTION                    object\n",
              "VIOLATION CODE            object\n",
              "VIOLATION DESCRIPTION     object\n",
              "CRITICAL FLAG             object\n",
              "SCORE                    float64\n",
              "GRADE                     object\n",
              "GRADE DATE                object\n",
              "RECORD DATE               object\n",
              "INSPECTION TYPE           object\n",
              "Latitude                 float64\n",
              "Longitude                float64\n",
              "Community Board          float64\n",
              "Council District         float64\n",
              "Census Tract             float64\n",
              "BIN                      float64\n",
              "BBL                      float64\n",
              "NTA                       object\n",
              "dtype: object"
            ]
          },
          "metadata": {
            "tags": []
          },
          "execution_count": 5
        }
      ]
    },
    {
      "cell_type": "markdown",
      "metadata": {
        "id": "F6cXeIxnir33"
      },
      "source": [
        "### <a class=\"anchor\"></a> 1.2.1 Descriptive Statistics for numerical variables\n",
        "\n",
        "As you can see, the DataFrame comprises different types of Data. You always have to pay attention to this, as the supported operations depends on it. For instance, float64 is a desired type for decimal data, especially if we want to see statistics, distribution etc... \n"
      ]
    },
    {
      "cell_type": "code",
      "metadata": {
        "colab": {
          "base_uri": "https://localhost:8080/"
        },
        "id": "3Z7jTfsQaRKp",
        "outputId": "8a73d291-95e4-46d3-f1c5-8d7ac7230990"
      },
      "source": [
        "#Describe the SCORE column\r\n",
        "restaurants.SCORE.describe()"
      ],
      "execution_count": 6,
      "outputs": [
        {
          "output_type": "execute_result",
          "data": {
            "text/plain": [
              "count    377235.000000\n",
              "mean         20.114178\n",
              "std          14.729644\n",
              "min          -1.000000\n",
              "25%          11.000000\n",
              "50%          15.000000\n",
              "75%          26.000000\n",
              "max         164.000000\n",
              "Name: SCORE, dtype: float64"
            ]
          },
          "metadata": {
            "tags": []
          },
          "execution_count": 6
        }
      ]
    },
    {
      "cell_type": "markdown",
      "metadata": {
        "id": "dWT6EPKDE8zE"
      },
      "source": [
        "We can use the `.hist()` function to plot an histogram and analyze data distribution. "
      ]
    },
    {
      "cell_type": "code",
      "metadata": {
        "colab": {
          "base_uri": "https://localhost:8080/",
          "height": 266
        },
        "id": "8jvoTXbVE-rA",
        "outputId": "307b659c-5e65-46c6-d4c6-90514f2e3714"
      },
      "source": [
        "hist_score=restaurants[\"SCORE\"].hist()"
      ],
      "execution_count": 7,
      "outputs": [
        {
          "output_type": "display_data",
          "data": {
            "image/png": "[encoded data removed]",
            "text/plain": [
              "<Figure size 432x288 with 1 Axes>"
            ]
          },
          "metadata": {
            "tags": [],
            "needs_background": "light"
          }
        }
      ]
    },
    {
      "cell_type": "markdown",
      "metadata": {
        "id": "NLHK6ncaGNsB"
      },
      "source": [
        "Granularity is important for distribution analysis and precision. It can be changed by varying the number if bins used for display.  The `hist()` function allows to pass multiple arguments, you can find more information if you follow this [link](https://pandas.pydata.org/pandas-docs/stable/reference/api/pandas.DataFrame.hist.html)\r\n"
      ]
    },
    {
      "cell_type": "code",
      "metadata": {
        "colab": {
          "base_uri": "https://localhost:8080/",
          "height": 265
        },
        "id": "0ZmdQWYHHl7g",
        "outputId": "3fb28ed3-5d06-4972-8b78-88bef27d8e87"
      },
      "source": [
        "hist_score_2=restaurants[\"SCORE\"].hist(bins = 50)"
      ],
      "execution_count": 8,
      "outputs": [
        {
          "output_type": "display_data",
          "data": {
            "image/png": "[encoded data removed]",
            "text/plain": [
              "<Figure size 432x288 with 1 Axes>"
            ]
          },
          "metadata": {
            "tags": [],
            "needs_background": "light"
          }
        }
      ]
    },
    {
      "cell_type": "code",
      "metadata": {
        "colab": {
          "base_uri": "https://localhost:8080/",
          "height": 320
        },
        "id": "XGZTeED5Hyrg",
        "outputId": "de69118b-ebaf-41f1-cb97-ad993c3ed963"
      },
      "source": [
        "# A quick exposure to various options of the \"hist\" command \r\n",
        "hist_score_3=restaurants.SCORE.hist(bins=50, # use 50 bars\r\n",
        "                          range=(0,50), # x-axis from 0 to 50\r\n",
        "                          density=False,  # show normalized count (density=True), or raw counts (density= False)\r\n",
        "                          figsize=(15,5), # controls the size of the plot\r\n",
        "                          alpha = 0.8 # make the plot 20% transparent\r\n",
        "                         )"
      ],
      "execution_count": 9,
      "outputs": [
        {
          "output_type": "display_data",
          "data": {
            "image/png": "[encoded data removed]",
            "text/plain": [
              "<Figure size 1080x360 with 1 Axes>"
            ]
          },
          "metadata": {
            "tags": [],
            "needs_background": "light"
          }
        }
      ]
    },
    {
      "cell_type": "markdown",
      "metadata": {
        "id": "QskynHO7ayNR"
      },
      "source": [
        "We now have some statistical information for the SCORE column. Let's convert some other columns to a more useful type."
      ]
    },
    {
      "cell_type": "markdown",
      "metadata": {
        "id": "ncwnUCNKch05"
      },
      "source": [
        "### <a class=\"anchor\"></a> 1.2.2 Descriptive statistics for DATETIME variables\r\n",
        "\r\n",
        "\r\n",
        "Remember that one of the dtypes handles Date and Time. Some of the columns in our DF contain this type of data, so let's convert these columns to the `datetime64` dtype so that we can further processings, statistics and distribution analysis for example.\r\n"
      ]
    },
    {
      "cell_type": "code",
      "metadata": {
        "colab": {
          "base_uri": "https://localhost:8080/"
        },
        "id": "GpHpl-lXdXOI",
        "outputId": "d1306e34-15c7-407a-f982-117993c00d65"
      },
      "source": [
        "restaurants[\"GRADE DATE\"].head(10)"
      ],
      "execution_count": 10,
      "outputs": [
        {
          "output_type": "execute_result",
          "data": {
            "text/plain": [
              "0    07/15/2019\n",
              "1           NaN\n",
              "2    05/03/2018\n",
              "3           NaN\n",
              "4    09/26/2018\n",
              "5           NaN\n",
              "6    10/24/2018\n",
              "7    10/16/2019\n",
              "8    01/17/2018\n",
              "9    04/25/2017\n",
              "Name: GRADE DATE, dtype: object"
            ]
          },
          "metadata": {
            "tags": []
          },
          "execution_count": 10
        }
      ]
    },
    {
      "cell_type": "markdown",
      "metadata": {
        "id": "HM24xiHNdokw"
      },
      "source": [
        "For that, we need to understand first how to parse dates using the [Python conventions.](https://docs.python.org/3/library/datetime.html#strftime-and-strptime-behavior) \r\n",
        "\r\n",
        "The relevant entries from the table are:\r\n",
        "\r\n",
        "    %m Month as a zero-padded decimal number.\r\n",
        "    %d Day of the month as a zero-padded decimal number.\r\n",
        "    %Y Year with century as a decimal number.\r\n",
        "\r\n",
        "Now that we know in what format the dates were entried (remember that americans write dates like this `month/day/year` , as opposed to `day/month/year`), we can convert our columns."
      ]
    },
    {
      "cell_type": "code",
      "metadata": {
        "colab": {
          "base_uri": "https://localhost:8080/"
        },
        "id": "WkFnmcNNea9I",
        "outputId": "ed908cb1-9860-4ca4-8797-ea52ad7cd41f"
      },
      "source": [
        "#We convert some columnd to the datetime64 tyoe\r\n",
        "restaurants[\"GRADE DATE\"] = pd.to_datetime(restaurants[\"GRADE DATE\"], format=\"%m/%d/%Y\")\r\n",
        "restaurants[\"RECORD DATE\"] = pd.to_datetime(restaurants[\"RECORD DATE\"], format=\"%m/%d/%Y\")\r\n",
        "restaurants[\"INSPECTION DATE\"] = pd.to_datetime(restaurants[\"INSPECTION DATE\"], format=\"%m/%d/%Y\")\r\n",
        "\r\n",
        "#Now we have another look at the dtaypes\r\n",
        "restaurants.dtypes"
      ],
      "execution_count": 11,
      "outputs": [
        {
          "output_type": "execute_result",
          "data": {
            "text/plain": [
              "CAMIS                             int64\n",
              "DBA                              object\n",
              "BORO                             object\n",
              "BUILDING                         object\n",
              "STREET                           object\n",
              "ZIPCODE                         float64\n",
              "PHONE                            object\n",
              "CUISINE DESCRIPTION              object\n",
              "INSPECTION DATE          datetime64[ns]\n",
              "ACTION                           object\n",
              "VIOLATION CODE                   object\n",
              "VIOLATION DESCRIPTION            object\n",
              "CRITICAL FLAG                    object\n",
              "SCORE                           float64\n",
              "GRADE                            object\n",
              "GRADE DATE               datetime64[ns]\n",
              "RECORD DATE              datetime64[ns]\n",
              "INSPECTION TYPE                  object\n",
              "Latitude                        float64\n",
              "Longitude                       float64\n",
              "Community Board                 float64\n",
              "Council District                float64\n",
              "Census Tract                    float64\n",
              "BIN                             float64\n",
              "BBL                             float64\n",
              "NTA                              object\n",
              "dtype: object"
            ]
          },
          "metadata": {
            "tags": []
          },
          "execution_count": 11
        }
      ]
    },
    {
      "cell_type": "markdown",
      "metadata": {
        "id": "x7FU3IlEe1MR"
      },
      "source": [
        "Let's see what the `.describe()` function can do now."
      ]
    },
    {
      "cell_type": "code",
      "metadata": {
        "colab": {
          "base_uri": "https://localhost:8080/",
          "height": 0
        },
        "id": "QjHjatoRedo5",
        "outputId": "210a6f64-b05a-4689-83b0-be6dd08296f9"
      },
      "source": [
        "restaurants[[\"INSPECTION DATE\", \"GRADE DATE\", \"RECORD DATE\"]].describe(datetime_is_numeric=True)"
      ],
      "execution_count": 12,
      "outputs": [
        {
          "output_type": "execute_result",
          "data": {
            "text/html": [
              "<div>\n",
              "<style scoped>\n",
              "    .dataframe tbody tr th:only-of-type {\n",
              "        vertical-align: middle;\n",
              "    }\n",
              "\n",
              "    .dataframe tbody tr th {\n",
              "        vertical-align: top;\n",
              "    }\n",
              "\n",
              "    .dataframe thead th {\n",
              "        text-align: right;\n",
              "    }\n",
              "</style>\n",
              "<table border=\"1\" class=\"dataframe\">\n",
              "  <thead>\n",
              "    <tr style=\"text-align: right;\">\n",
              "      <th></th>\n",
              "      <th>INSPECTION DATE</th>\n",
              "      <th>GRADE DATE</th>\n",
              "      <th>RECORD DATE</th>\n",
              "    </tr>\n",
              "  </thead>\n",
              "  <tbody>\n",
              "    <tr>\n",
              "      <th>count</th>\n",
              "      <td>395980</td>\n",
              "      <td>197628</td>\n",
              "      <td>395980</td>\n",
              "    </tr>\n",
              "    <tr>\n",
              "      <th>mean</th>\n",
              "      <td>2017-08-22 12:32:28.680120064</td>\n",
              "      <td>2018-09-16 18:42:49.336431616</td>\n",
              "      <td>2021-03-02 23:59:59.995581440</td>\n",
              "    </tr>\n",
              "    <tr>\n",
              "      <th>min</th>\n",
              "      <td>1900-01-01 00:00:00</td>\n",
              "      <td>2011-05-27 00:00:00</td>\n",
              "      <td>2021-03-03 00:00:00</td>\n",
              "    </tr>\n",
              "    <tr>\n",
              "      <th>25%</th>\n",
              "      <td>2017-12-28 00:00:00</td>\n",
              "      <td>2018-01-11 00:00:00</td>\n",
              "      <td>2021-03-03 00:00:00</td>\n",
              "    </tr>\n",
              "    <tr>\n",
              "      <th>50%</th>\n",
              "      <td>2018-10-24 00:00:00</td>\n",
              "      <td>2018-10-23 00:00:00</td>\n",
              "      <td>2021-03-03 00:00:00</td>\n",
              "    </tr>\n",
              "    <tr>\n",
              "      <th>75%</th>\n",
              "      <td>2019-07-11 00:00:00</td>\n",
              "      <td>2019-07-03 00:00:00</td>\n",
              "      <td>2021-03-03 00:00:00</td>\n",
              "    </tr>\n",
              "    <tr>\n",
              "      <th>max</th>\n",
              "      <td>2021-02-26 00:00:00</td>\n",
              "      <td>2020-12-31 00:00:00</td>\n",
              "      <td>2021-03-03 00:00:00</td>\n",
              "    </tr>\n",
              "  </tbody>\n",
              "</table>\n",
              "</div>"
            ],
            "text/plain": [
              "                     INSPECTION DATE  ...                    RECORD DATE\n",
              "count                         395980  ...                         395980\n",
              "mean   2017-08-22 12:32:28.680120064  ...  2021-03-02 23:59:59.995581440\n",
              "min              1900-01-01 00:00:00  ...            2021-03-03 00:00:00\n",
              "25%              2017-12-28 00:00:00  ...            2021-03-03 00:00:00\n",
              "50%              2018-10-24 00:00:00  ...            2021-03-03 00:00:00\n",
              "75%              2019-07-11 00:00:00  ...            2021-03-03 00:00:00\n",
              "max              2021-02-26 00:00:00  ...            2021-03-03 00:00:00\n",
              "\n",
              "[7 rows x 3 columns]"
            ]
          },
          "metadata": {
            "tags": []
          },
          "execution_count": 12
        }
      ]
    },
    {
      "cell_type": "markdown",
      "metadata": {
        "id": "8bCF8YwP7g8c"
      },
      "source": [
        "We can also plot an histogram for datetime variables:"
      ]
    },
    {
      "cell_type": "code",
      "metadata": {
        "id": "A-Nlhi4D1fGb",
        "colab": {
          "base_uri": "https://localhost:8080/",
          "height": 0
        },
        "outputId": "0be5ffb8-8d79-4a5f-8847-1a6b9d61e990"
      },
      "source": [
        "hist_date=restaurants[\"GRADE DATE\"].hist(bins=50)\r\n"
      ],
      "execution_count": 13,
      "outputs": [
        {
          "output_type": "display_data",
          "data": {
            "image/png": "[encoded data removed]",
            "text/plain": [
              "<Figure size 432x288 with 1 Axes>"
            ]
          },
          "metadata": {
            "tags": [],
            "needs_background": "light"
          }
        }
      ]
    },
    {
      "cell_type": "markdown",
      "metadata": {
        "id": "J0rTfZ5medCI"
      },
      "source": [
        "### <a class=\"anchor\"></a> 1.2.3 Descriptive statistics for categorical variables\r\n",
        "\r\n",
        "Now let's handle categorical data. This is most commonly useful when we have variables that have an implicit order (e.g., the A/B/C grade of the restaurant).\r\n",
        "\r\n",
        "We can use the pandas `.Categorical` function for this."
      ]
    },
    {
      "cell_type": "code",
      "metadata": {
        "colab": {
          "base_uri": "https://localhost:8080/"
        },
        "id": "F_U3zpWKfslZ",
        "outputId": "aa998c87-cf75-4c4f-b861-8b642edd12ed"
      },
      "source": [
        "#We convert the categorical columns\r\n",
        "restaurants[\"BORO\"] =  pd.Categorical(restaurants[\"BORO\"], ordered=False)\r\n",
        "restaurants[\"GRADE\"] =  pd.Categorical(restaurants[\"GRADE\"], categories = ['A', 'B', 'C'], ordered=True)\r\n",
        "restaurants[\"VIOLATION CODE\"] =  pd.Categorical(restaurants[\"VIOLATION CODE\"], ordered=False)\r\n",
        "restaurants[\"CRITICAL FLAG\"] =  pd.Categorical(restaurants[\"CRITICAL FLAG\"], ordered=False)\r\n",
        "restaurants[\"ACTION\"] =  pd.Categorical(restaurants[\"ACTION\"], ordered=False)\r\n",
        "restaurants[\"CUISINE DESCRIPTION\"] =  pd.Categorical(restaurants[\"CUISINE DESCRIPTION\"], ordered=False)\r\n",
        "\r\n",
        "#We have another look at the dtypes\r\n",
        "restaurants.dtypes"
      ],
      "execution_count": 14,
      "outputs": [
        {
          "output_type": "execute_result",
          "data": {
            "text/plain": [
              "CAMIS                             int64\n",
              "DBA                              object\n",
              "BORO                           category\n",
              "BUILDING                         object\n",
              "STREET                           object\n",
              "ZIPCODE                         float64\n",
              "PHONE                            object\n",
              "CUISINE DESCRIPTION            category\n",
              "INSPECTION DATE          datetime64[ns]\n",
              "ACTION                         category\n",
              "VIOLATION CODE                 category\n",
              "VIOLATION DESCRIPTION            object\n",
              "CRITICAL FLAG                  category\n",
              "SCORE                           float64\n",
              "GRADE                          category\n",
              "GRADE DATE               datetime64[ns]\n",
              "RECORD DATE              datetime64[ns]\n",
              "INSPECTION TYPE                  object\n",
              "Latitude                        float64\n",
              "Longitude                       float64\n",
              "Community Board                 float64\n",
              "Council District                float64\n",
              "Census Tract                    float64\n",
              "BIN                             float64\n",
              "BBL                             float64\n",
              "NTA                              object\n",
              "dtype: object"
            ]
          },
          "metadata": {
            "tags": []
          },
          "execution_count": 14
        }
      ]
    },
    {
      "cell_type": "code",
      "metadata": {
        "colab": {
          "base_uri": "https://localhost:8080/"
        },
        "id": "fytkMZlFgan5",
        "outputId": "68b37102-8796-4932-eaa8-47ae8d206f0f"
      },
      "source": [
        "#Display 10 first entries \n",
        "restaurants[\"DBA\"].value_counts()[:10]"
      ],
      "execution_count": 15,
      "outputs": [
        {
          "output_type": "execute_result",
          "data": {
            "text/plain": [
              "DUNKIN'                                  4148\n",
              "SUBWAY                                   2944\n",
              "STARBUCKS                                2130\n",
              "MCDONALD'S                               1925\n",
              "KENNEDY FRIED CHICKEN                    1339\n",
              "DUNKIN', BASKIN ROBBINS                  1165\n",
              "CROWN FRIED CHICKEN                      1106\n",
              "BURGER KING                              1032\n",
              "POPEYES                                   949\n",
              "GOLDEN KRUST CARIBBEAN BAKERY & GRILL     780\n",
              "Name: DBA, dtype: int64"
            ]
          },
          "metadata": {
            "tags": []
          },
          "execution_count": 15
        }
      ]
    },
    {
      "cell_type": "markdown",
      "metadata": {
        "id": "w9EaoV62gh4w"
      },
      "source": [
        "An explanation:\r\n",
        " * The `value_counts()` function counts how many different values there are.\r\n",
        " * The `[:10]` filters the list, thus showing us only the first 10 values.  \r\n",
        "\r\n",
        "\r\n",
        " "
      ]
    },
    {
      "cell_type": "code",
      "metadata": {
        "colab": {
          "base_uri": "https://localhost:8080/",
          "height": 0
        },
        "id": "izY0a0Qyg_K6",
        "outputId": "011a3a74-752f-471a-9c32-08a1f29db39f"
      },
      "source": [
        "#Display 5 first entries\n",
        "restaurants[\"CUISINE DESCRIPTION\"].value_counts()[:5].to_frame()"
      ],
      "execution_count": 16,
      "outputs": [
        {
          "output_type": "execute_result",
          "data": {
            "text/html": [
              "<div>\n",
              "<style scoped>\n",
              "    .dataframe tbody tr th:only-of-type {\n",
              "        vertical-align: middle;\n",
              "    }\n",
              "\n",
              "    .dataframe tbody tr th {\n",
              "        vertical-align: top;\n",
              "    }\n",
              "\n",
              "    .dataframe thead th {\n",
              "        text-align: right;\n",
              "    }\n",
              "</style>\n",
              "<table border=\"1\" class=\"dataframe\">\n",
              "  <thead>\n",
              "    <tr style=\"text-align: right;\">\n",
              "      <th></th>\n",
              "      <th>CUISINE DESCRIPTION</th>\n",
              "    </tr>\n",
              "  </thead>\n",
              "  <tbody>\n",
              "    <tr>\n",
              "      <th>American</th>\n",
              "      <td>81592</td>\n",
              "    </tr>\n",
              "    <tr>\n",
              "      <th>Chinese</th>\n",
              "      <td>41595</td>\n",
              "    </tr>\n",
              "    <tr>\n",
              "      <th>Pizza</th>\n",
              "      <td>25380</td>\n",
              "    </tr>\n",
              "    <tr>\n",
              "      <th>Café/Coffee/Tea</th>\n",
              "      <td>19591</td>\n",
              "    </tr>\n",
              "    <tr>\n",
              "      <th>Latin American (Central and South America)</th>\n",
              "      <td>17301</td>\n",
              "    </tr>\n",
              "  </tbody>\n",
              "</table>\n",
              "</div>"
            ],
            "text/plain": [
              "                                            CUISINE DESCRIPTION\n",
              "American                                                  81592\n",
              "Chinese                                                   41595\n",
              "Pizza                                                     25380\n",
              "Café/Coffee/Tea                                           19591\n",
              "Latin American (Central and South America)                17301"
            ]
          },
          "metadata": {
            "tags": []
          },
          "execution_count": 16
        }
      ]
    },
    {
      "cell_type": "markdown",
      "metadata": {
        "id": "YXRJhWgMhErJ"
      },
      "source": [
        "We can also plot the data, lets start by plotting the different categories of food with the `.plot()` function."
      ]
    },
    {
      "cell_type": "code",
      "metadata": {
        "colab": {
          "base_uri": "https://localhost:8080/",
          "height": 0
        },
        "id": "38BuE0behB_o",
        "outputId": "51dcf1b7-36d3-4a51-f618-88538cc173ad"
      },
      "source": [
        "hist_cuisine=restaurants[\"CUISINE DESCRIPTION\"].value_counts()[:5].plot(kind='bar')"
      ],
      "execution_count": 17,
      "outputs": [
        {
          "output_type": "display_data",
          "data": {
            "image/png": "[encoded data removed]",
            "text/plain": [
              "<Figure size 432x288 with 1 Axes>"
            ]
          },
          "metadata": {
            "tags": [],
            "needs_background": "light"
          }
        }
      ]
    },
    {
      "cell_type": "code",
      "metadata": {
        "colab": {
          "base_uri": "https://localhost:8080/",
          "height": 0
        },
        "id": "PM_T_wejhv8g",
        "outputId": "7af35fc8-d813-41b0-d506-b05dda855d0e"
      },
      "source": [
        "popular = restaurants[\"CUISINE DESCRIPTION\"].value_counts().to_frame().rename(columns={\"CUISINE DESCRIPTION\": \"Cuisine count\"})\r\n",
        "popular.head()"
      ],
      "execution_count": 18,
      "outputs": [
        {
          "output_type": "execute_result",
          "data": {
            "text/html": [
              "<div>\n",
              "<style scoped>\n",
              "    .dataframe tbody tr th:only-of-type {\n",
              "        vertical-align: middle;\n",
              "    }\n",
              "\n",
              "    .dataframe tbody tr th {\n",
              "        vertical-align: top;\n",
              "    }\n",
              "\n",
              "    .dataframe thead th {\n",
              "        text-align: right;\n",
              "    }\n",
              "</style>\n",
              "<table border=\"1\" class=\"dataframe\">\n",
              "  <thead>\n",
              "    <tr style=\"text-align: right;\">\n",
              "      <th></th>\n",
              "      <th>Cuisine count</th>\n",
              "    </tr>\n",
              "  </thead>\n",
              "  <tbody>\n",
              "    <tr>\n",
              "      <th>American</th>\n",
              "      <td>81592</td>\n",
              "    </tr>\n",
              "    <tr>\n",
              "      <th>Chinese</th>\n",
              "      <td>41595</td>\n",
              "    </tr>\n",
              "    <tr>\n",
              "      <th>Pizza</th>\n",
              "      <td>25380</td>\n",
              "    </tr>\n",
              "    <tr>\n",
              "      <th>Café/Coffee/Tea</th>\n",
              "      <td>19591</td>\n",
              "    </tr>\n",
              "    <tr>\n",
              "      <th>Latin American (Central and South America)</th>\n",
              "      <td>17301</td>\n",
              "    </tr>\n",
              "  </tbody>\n",
              "</table>\n",
              "</div>"
            ],
            "text/plain": [
              "                                            Cuisine count\n",
              "American                                            81592\n",
              "Chinese                                             41595\n",
              "Pizza                                               25380\n",
              "Café/Coffee/Tea                                     19591\n",
              "Latin American (Central and South America)          17301"
            ]
          },
          "metadata": {
            "tags": []
          },
          "execution_count": 18
        }
      ]
    },
    {
      "cell_type": "markdown",
      "metadata": {
        "id": "dY3l8-w_iWgw"
      },
      "source": [
        "If you have a look at the results of the last block of code, you will see that is seems to be quite detailed. We might for example want to treat \"Cuban\", \"Dominican\", \"Puerto Rican\", \"South & Central American\" just as \"Latin American\".\r\n",
        "\r\n",
        "The `.replace()` function allows us to do this."
      ]
    },
    {
      "cell_type": "code",
      "metadata": {
        "id": "picE57BmiUYY"
      },
      "source": [
        "#Latin American food\r\n",
        "restaurants[\"CUISINE DESCRIPTION\"].replace(\r\n",
        "    to_replace=['Latin American (Central and South America)', 'Chilean'],\r\n",
        "    value = 'Latin American',\r\n",
        "    inplace=True\r\n",
        ")\r\n",
        "\r\n",
        "#Coffe bar\r\n",
        "restaurants[\"CUISINE DESCRIPTION\"].replace(\r\n",
        "    to_replace='CafÃ©/Coffee/Tea',\r\n",
        "    value = 'Cafe/Coffee/Tea',\r\n",
        "    inplace=True\r\n",
        ")"
      ],
      "execution_count": 19,
      "outputs": []
    },
    {
      "cell_type": "code",
      "metadata": {
        "colab": {
          "base_uri": "https://localhost:8080/",
          "height": 0
        },
        "id": "k7_Jad3FJzms",
        "outputId": "bfc374a5-2664-40a7-83e9-270fb56eb701"
      },
      "source": [
        "popular = restaurants[\"CUISINE DESCRIPTION\"].value_counts().to_frame().rename(columns={\"CUISINE DESCRIPTION\": \"Cuisine count\"})\r\n",
        "popular.head()"
      ],
      "execution_count": 20,
      "outputs": [
        {
          "output_type": "execute_result",
          "data": {
            "text/html": [
              "<div>\n",
              "<style scoped>\n",
              "    .dataframe tbody tr th:only-of-type {\n",
              "        vertical-align: middle;\n",
              "    }\n",
              "\n",
              "    .dataframe tbody tr th {\n",
              "        vertical-align: top;\n",
              "    }\n",
              "\n",
              "    .dataframe thead th {\n",
              "        text-align: right;\n",
              "    }\n",
              "</style>\n",
              "<table border=\"1\" class=\"dataframe\">\n",
              "  <thead>\n",
              "    <tr style=\"text-align: right;\">\n",
              "      <th></th>\n",
              "      <th>Cuisine count</th>\n",
              "    </tr>\n",
              "  </thead>\n",
              "  <tbody>\n",
              "    <tr>\n",
              "      <th>American</th>\n",
              "      <td>81592</td>\n",
              "    </tr>\n",
              "    <tr>\n",
              "      <th>Chinese</th>\n",
              "      <td>41595</td>\n",
              "    </tr>\n",
              "    <tr>\n",
              "      <th>Pizza</th>\n",
              "      <td>25380</td>\n",
              "    </tr>\n",
              "    <tr>\n",
              "      <th>Café/Coffee/Tea</th>\n",
              "      <td>19591</td>\n",
              "    </tr>\n",
              "    <tr>\n",
              "      <th>Latin American</th>\n",
              "      <td>17333</td>\n",
              "    </tr>\n",
              "  </tbody>\n",
              "</table>\n",
              "</div>"
            ],
            "text/plain": [
              "                 Cuisine count\n",
              "American                 81592\n",
              "Chinese                  41595\n",
              "Pizza                    25380\n",
              "Café/Coffee/Tea          19591\n",
              "Latin American           17333"
            ]
          },
          "metadata": {
            "tags": []
          },
          "execution_count": 20
        }
      ]
    },
    {
      "cell_type": "markdown",
      "metadata": {
        "id": "EbTrqDwXJVZx"
      },
      "source": [
        "We can now plot the same barchart again, and see what the results are:\r\n",
        "\r\n"
      ]
    },
    {
      "cell_type": "code",
      "metadata": {
        "colab": {
          "base_uri": "https://localhost:8080/",
          "height": 0
        },
        "id": "PTKa2mAbJjjY",
        "outputId": "0a6d50e9-7ee5-4559-8bae-77ba6e380426"
      },
      "source": [
        "popular = restaurants[\"CUISINE DESCRIPTION\"].value_counts()\r\n",
        "hist_pop=popular[:5].plot(kind='bar')"
      ],
      "execution_count": 21,
      "outputs": [
        {
          "output_type": "display_data",
          "data": {
            "image/png": "[encoded data removed]",
            "text/plain": [
              "<Figure size 432x288 with 1 Axes>"
            ]
          },
          "metadata": {
            "tags": [],
            "needs_background": "light"
          }
        }
      ]
    },
    {
      "cell_type": "markdown",
      "metadata": {
        "id": "L7m2LIHKjDBU"
      },
      "source": [
        "## <a class=\"anchor\"></a> 1.3 Selecting Subsets\r\n",
        "\r\n",
        "\r\n"
      ]
    },
    {
      "cell_type": "markdown",
      "metadata": {
        "id": "kU3TPOupkSDo"
      },
      "source": [
        "To select rows, we can use the following approach, where we generate a list of boolean values, one for each row of the dataframe, and then we use the list to select which of the rows of the dataframe we want to keep"
      ]
    },
    {
      "cell_type": "code",
      "metadata": {
        "colab": {
          "base_uri": "https://localhost:8080/"
        },
        "id": "JpZNv0mjki_f",
        "outputId": "bf67cf74-8b7e-4a29-bb46-db28f2859dd6"
      },
      "source": [
        "# Create the condition \"has mice\" for code 04L\r\n",
        "mice = (restaurants[\"VIOLATION CODE\"] == \"04L\")\r\n",
        "mice.head()"
      ],
      "execution_count": 22,
      "outputs": [
        {
          "output_type": "execute_result",
          "data": {
            "text/plain": [
              "0    False\n",
              "1    False\n",
              "2    False\n",
              "3    False\n",
              "4    False\n",
              "Name: VIOLATION CODE, dtype: bool"
            ]
          },
          "metadata": {
            "tags": []
          },
          "execution_count": 22
        }
      ]
    },
    {
      "cell_type": "code",
      "metadata": {
        "colab": {
          "base_uri": "https://localhost:8080/",
          "height": 678
        },
        "id": "n5uQfBgnk4mZ",
        "outputId": "6254cefe-62d3-4c75-df3c-46eb5813148a"
      },
      "source": [
        "# Apply the condition to the dataframe \"restaurants\" and store the result \r\n",
        "# in a dataframe called  has_mice\r\n",
        "\r\n",
        "has_mice = restaurants[mice]\r\n",
        "has_mice.head()"
      ],
      "execution_count": 23,
      "outputs": [
        {
          "output_type": "execute_result",
          "data": {
            "text/html": [
              "<div>\n",
              "<style scoped>\n",
              "    .dataframe tbody tr th:only-of-type {\n",
              "        vertical-align: middle;\n",
              "    }\n",
              "\n",
              "    .dataframe tbody tr th {\n",
              "        vertical-align: top;\n",
              "    }\n",
              "\n",
              "    .dataframe thead th {\n",
              "        text-align: right;\n",
              "    }\n",
              "</style>\n",
              "<table border=\"1\" class=\"dataframe\">\n",
              "  <thead>\n",
              "    <tr style=\"text-align: right;\">\n",
              "      <th></th>\n",
              "      <th>CAMIS</th>\n",
              "      <th>DBA</th>\n",
              "      <th>BORO</th>\n",
              "      <th>BUILDING</th>\n",
              "      <th>STREET</th>\n",
              "      <th>ZIPCODE</th>\n",
              "      <th>PHONE</th>\n",
              "      <th>CUISINE DESCRIPTION</th>\n",
              "      <th>INSPECTION DATE</th>\n",
              "      <th>ACTION</th>\n",
              "      <th>VIOLATION CODE</th>\n",
              "      <th>VIOLATION DESCRIPTION</th>\n",
              "      <th>CRITICAL FLAG</th>\n",
              "      <th>SCORE</th>\n",
              "      <th>GRADE</th>\n",
              "      <th>GRADE DATE</th>\n",
              "      <th>RECORD DATE</th>\n",
              "      <th>INSPECTION TYPE</th>\n",
              "      <th>Latitude</th>\n",
              "      <th>Longitude</th>\n",
              "      <th>Community Board</th>\n",
              "      <th>Council District</th>\n",
              "      <th>Census Tract</th>\n",
              "      <th>BIN</th>\n",
              "      <th>BBL</th>\n",
              "      <th>NTA</th>\n",
              "    </tr>\n",
              "  </thead>\n",
              "  <tbody>\n",
              "    <tr>\n",
              "      <th>26</th>\n",
              "      <td>41451984</td>\n",
              "      <td>FAITHY'S KITCHEN</td>\n",
              "      <td>Bronx</td>\n",
              "      <td>3907</td>\n",
              "      <td>DYRE AVENUE</td>\n",
              "      <td>10466.0</td>\n",
              "      <td>7186550780</td>\n",
              "      <td>Caribbean (Inc. Cuban, Puerto Rican)</td>\n",
              "      <td>2018-06-22</td>\n",
              "      <td>Violations were cited in the following area(s).</td>\n",
              "      <td>04L</td>\n",
              "      <td>Evidence of mice or live mice present in facil...</td>\n",
              "      <td>Y</td>\n",
              "      <td>11.0</td>\n",
              "      <td>NaN</td>\n",
              "      <td>NaT</td>\n",
              "      <td>2021-03-03</td>\n",
              "      <td>Cycle Inspection / Initial Inspection</td>\n",
              "      <td>40.889440</td>\n",
              "      <td>-73.831277</td>\n",
              "      <td>212.0</td>\n",
              "      <td>12.0</td>\n",
              "      <td>45600.0</td>\n",
              "      <td>2088599.0</td>\n",
              "      <td>2.049680e+09</td>\n",
              "      <td>BX03</td>\n",
              "    </tr>\n",
              "    <tr>\n",
              "      <th>29</th>\n",
              "      <td>41316251</td>\n",
              "      <td>HURON CLUB/SOHO PLAYHOUSE</td>\n",
              "      <td>Manhattan</td>\n",
              "      <td>15</td>\n",
              "      <td>VANDAM STREET</td>\n",
              "      <td>10013.0</td>\n",
              "      <td>2126911555</td>\n",
              "      <td>American</td>\n",
              "      <td>2018-03-03</td>\n",
              "      <td>Violations were cited in the following area(s).</td>\n",
              "      <td>04L</td>\n",
              "      <td>Evidence of mice or live mice present in facil...</td>\n",
              "      <td>Y</td>\n",
              "      <td>14.0</td>\n",
              "      <td>NaN</td>\n",
              "      <td>NaT</td>\n",
              "      <td>2021-03-03</td>\n",
              "      <td>Cycle Inspection / Initial Inspection</td>\n",
              "      <td>40.726323</td>\n",
              "      <td>-74.004470</td>\n",
              "      <td>102.0</td>\n",
              "      <td>3.0</td>\n",
              "      <td>3700.0</td>\n",
              "      <td>1007836.0</td>\n",
              "      <td>1.005060e+09</td>\n",
              "      <td>MN24</td>\n",
              "    </tr>\n",
              "    <tr>\n",
              "      <th>41</th>\n",
              "      <td>41330933</td>\n",
              "      <td>D &amp; S BAKERY</td>\n",
              "      <td>Brooklyn</td>\n",
              "      <td>6302</td>\n",
              "      <td>NEW UTRECHT AVENUE</td>\n",
              "      <td>11219.0</td>\n",
              "      <td>7186212808</td>\n",
              "      <td>Cakes, Cupcakes, Desserts</td>\n",
              "      <td>2018-10-15</td>\n",
              "      <td>Violations were cited in the following area(s).</td>\n",
              "      <td>04L</td>\n",
              "      <td>Evidence of mice or live mice present in facil...</td>\n",
              "      <td>Y</td>\n",
              "      <td>15.0</td>\n",
              "      <td>NaN</td>\n",
              "      <td>NaT</td>\n",
              "      <td>2021-03-03</td>\n",
              "      <td>Cycle Inspection / Initial Inspection</td>\n",
              "      <td>40.625159</td>\n",
              "      <td>-73.997291</td>\n",
              "      <td>311.0</td>\n",
              "      <td>38.0</td>\n",
              "      <td>19400.0</td>\n",
              "      <td>3141886.0</td>\n",
              "      <td>3.057410e+09</td>\n",
              "      <td>BK30</td>\n",
              "    </tr>\n",
              "    <tr>\n",
              "      <th>42</th>\n",
              "      <td>50043851</td>\n",
              "      <td>CAPELLI'S CAFE</td>\n",
              "      <td>Queens</td>\n",
              "      <td>107-11</td>\n",
              "      <td>NORTHERN BOULEVARD</td>\n",
              "      <td>11368.0</td>\n",
              "      <td>9292966557</td>\n",
              "      <td>Spanish</td>\n",
              "      <td>2020-01-17</td>\n",
              "      <td>Violations were cited in the following area(s).</td>\n",
              "      <td>04L</td>\n",
              "      <td>Evidence of mice or live mice present in facil...</td>\n",
              "      <td>Y</td>\n",
              "      <td>35.0</td>\n",
              "      <td>NaN</td>\n",
              "      <td>NaT</td>\n",
              "      <td>2021-03-03</td>\n",
              "      <td>Cycle Inspection / Initial Inspection</td>\n",
              "      <td>40.757801</td>\n",
              "      <td>-73.861702</td>\n",
              "      <td>403.0</td>\n",
              "      <td>21.0</td>\n",
              "      <td>37300.0</td>\n",
              "      <td>4042212.0</td>\n",
              "      <td>4.017020e+09</td>\n",
              "      <td>QN27</td>\n",
              "    </tr>\n",
              "    <tr>\n",
              "      <th>58</th>\n",
              "      <td>50059023</td>\n",
              "      <td>SHI LIN XIANG SEAFOOD</td>\n",
              "      <td>Queens</td>\n",
              "      <td>13532</td>\n",
              "      <td>40TH RD</td>\n",
              "      <td>11354.0</td>\n",
              "      <td>7188861899</td>\n",
              "      <td>Chinese</td>\n",
              "      <td>2018-02-10</td>\n",
              "      <td>Violations were cited in the following area(s).</td>\n",
              "      <td>04L</td>\n",
              "      <td>Evidence of mice or live mice present in facil...</td>\n",
              "      <td>Y</td>\n",
              "      <td>20.0</td>\n",
              "      <td>NaN</td>\n",
              "      <td>NaT</td>\n",
              "      <td>2021-03-03</td>\n",
              "      <td>Cycle Inspection / Initial Inspection</td>\n",
              "      <td>40.758849</td>\n",
              "      <td>-73.830115</td>\n",
              "      <td>407.0</td>\n",
              "      <td>20.0</td>\n",
              "      <td>87100.0</td>\n",
              "      <td>4449970.0</td>\n",
              "      <td>4.050370e+09</td>\n",
              "      <td>QN22</td>\n",
              "    </tr>\n",
              "  </tbody>\n",
              "</table>\n",
              "</div>"
            ],
            "text/plain": [
              "       CAMIS                        DBA  ...           BBL   NTA\n",
              "26  41451984           FAITHY'S KITCHEN  ...  2.049680e+09  BX03\n",
              "29  41316251  HURON CLUB/SOHO PLAYHOUSE  ...  1.005060e+09  MN24\n",
              "41  41330933               D & S BAKERY  ...  3.057410e+09  BK30\n",
              "42  50043851             CAPELLI'S CAFE  ...  4.017020e+09  QN27\n",
              "58  50059023      SHI LIN XIANG SEAFOOD  ...  4.050370e+09  QN22\n",
              "\n",
              "[5 rows x 26 columns]"
            ]
          },
          "metadata": {
            "tags": []
          },
          "execution_count": 23
        }
      ]
    },
    {
      "cell_type": "code",
      "metadata": {
        "colab": {
          "base_uri": "https://localhost:8080/",
          "height": 677
        },
        "id": "PYkyVskFk9Np",
        "outputId": "5ad7c720-14d2-4bf1-b75c-63466da26b7e"
      },
      "source": [
        "# List the most frequent DBA values in the data of restaurants that have mice\r\n",
        "has_mice[\"DBA\"].value_counts()[:20].to_frame().rename(columns={\"DBA\": \"DBA count\"})"
      ],
      "execution_count": 24,
      "outputs": [
        {
          "output_type": "execute_result",
          "data": {
            "text/html": [
              "<div>\n",
              "<style scoped>\n",
              "    .dataframe tbody tr th:only-of-type {\n",
              "        vertical-align: middle;\n",
              "    }\n",
              "\n",
              "    .dataframe tbody tr th {\n",
              "        vertical-align: top;\n",
              "    }\n",
              "\n",
              "    .dataframe thead th {\n",
              "        text-align: right;\n",
              "    }\n",
              "</style>\n",
              "<table border=\"1\" class=\"dataframe\">\n",
              "  <thead>\n",
              "    <tr style=\"text-align: right;\">\n",
              "      <th></th>\n",
              "      <th>DBA count</th>\n",
              "    </tr>\n",
              "  </thead>\n",
              "  <tbody>\n",
              "    <tr>\n",
              "      <th>SUBWAY</th>\n",
              "      <td>254</td>\n",
              "    </tr>\n",
              "    <tr>\n",
              "      <th>DUNKIN'</th>\n",
              "      <td>146</td>\n",
              "    </tr>\n",
              "    <tr>\n",
              "      <th>KENNEDY FRIED CHICKEN</th>\n",
              "      <td>127</td>\n",
              "    </tr>\n",
              "    <tr>\n",
              "      <th>CROWN FRIED CHICKEN</th>\n",
              "      <td>116</td>\n",
              "    </tr>\n",
              "    <tr>\n",
              "      <th>STARBUCKS</th>\n",
              "      <td>85</td>\n",
              "    </tr>\n",
              "    <tr>\n",
              "      <th>MCDONALD'S</th>\n",
              "      <td>74</td>\n",
              "    </tr>\n",
              "    <tr>\n",
              "      <th>POPEYES</th>\n",
              "      <td>71</td>\n",
              "    </tr>\n",
              "    <tr>\n",
              "      <th>GOLDEN KRUST CARIBBEAN BAKERY &amp; GRILL</th>\n",
              "      <td>67</td>\n",
              "    </tr>\n",
              "    <tr>\n",
              "      <th>BURGER KING</th>\n",
              "      <td>65</td>\n",
              "    </tr>\n",
              "    <tr>\n",
              "      <th>DUNKIN', BASKIN ROBBINS</th>\n",
              "      <td>57</td>\n",
              "    </tr>\n",
              "    <tr>\n",
              "      <th>KFC</th>\n",
              "      <td>40</td>\n",
              "    </tr>\n",
              "    <tr>\n",
              "      <th>LITTLE CAESARS</th>\n",
              "      <td>33</td>\n",
              "    </tr>\n",
              "    <tr>\n",
              "      <th>AMC THEATRES</th>\n",
              "      <td>31</td>\n",
              "    </tr>\n",
              "    <tr>\n",
              "      <th>DOMINO'S</th>\n",
              "      <td>30</td>\n",
              "    </tr>\n",
              "    <tr>\n",
              "      <th>CARVEL ICE CREAM</th>\n",
              "      <td>29</td>\n",
              "    </tr>\n",
              "    <tr>\n",
              "      <th>LE PAIN QUOTIDIEN</th>\n",
              "      <td>24</td>\n",
              "    </tr>\n",
              "    <tr>\n",
              "      <th>VIVI BUBBLE TEA</th>\n",
              "      <td>22</td>\n",
              "    </tr>\n",
              "    <tr>\n",
              "      <th>PAPA JOHN'S</th>\n",
              "      <td>22</td>\n",
              "    </tr>\n",
              "    <tr>\n",
              "      <th>EMPANADAS MONUMENTAL</th>\n",
              "      <td>21</td>\n",
              "    </tr>\n",
              "    <tr>\n",
              "      <th>INSOMNIA COOKIES</th>\n",
              "      <td>21</td>\n",
              "    </tr>\n",
              "  </tbody>\n",
              "</table>\n",
              "</div>"
            ],
            "text/plain": [
              "                                       DBA count\n",
              "SUBWAY                                       254\n",
              "DUNKIN'                                      146\n",
              "KENNEDY FRIED CHICKEN                        127\n",
              "CROWN FRIED CHICKEN                          116\n",
              "STARBUCKS                                     85\n",
              "MCDONALD'S                                    74\n",
              "POPEYES                                       71\n",
              "GOLDEN KRUST CARIBBEAN BAKERY & GRILL         67\n",
              "BURGER KING                                   65\n",
              "DUNKIN', BASKIN ROBBINS                       57\n",
              "KFC                                           40\n",
              "LITTLE CAESARS                                33\n",
              "AMC THEATRES                                  31\n",
              "DOMINO'S                                      30\n",
              "CARVEL ICE CREAM                              29\n",
              "LE PAIN QUOTIDIEN                             24\n",
              "VIVI BUBBLE TEA                               22\n",
              "PAPA JOHN'S                                   22\n",
              "EMPANADAS MONUMENTAL                          21\n",
              "INSOMNIA COOKIES                              21"
            ]
          },
          "metadata": {
            "tags": []
          },
          "execution_count": 24
        }
      ]
    },
    {
      "cell_type": "code",
      "metadata": {
        "colab": {
          "base_uri": "https://localhost:8080/",
          "height": 206
        },
        "id": "9IkowTLrlDVI",
        "outputId": "b6b70595-a8aa-4dd6-cfc5-17ebe2072181"
      },
      "source": [
        "has_mice[\"CAMIS\"].value_counts()[:5].to_frame().rename(columns={\"CAMIS\": \"CAMIS count\"})"
      ],
      "execution_count": 25,
      "outputs": [
        {
          "output_type": "execute_result",
          "data": {
            "text/html": [
              "<div>\n",
              "<style scoped>\n",
              "    .dataframe tbody tr th:only-of-type {\n",
              "        vertical-align: middle;\n",
              "    }\n",
              "\n",
              "    .dataframe tbody tr th {\n",
              "        vertical-align: top;\n",
              "    }\n",
              "\n",
              "    .dataframe thead th {\n",
              "        text-align: right;\n",
              "    }\n",
              "</style>\n",
              "<table border=\"1\" class=\"dataframe\">\n",
              "  <thead>\n",
              "    <tr style=\"text-align: right;\">\n",
              "      <th></th>\n",
              "      <th>CAMIS count</th>\n",
              "    </tr>\n",
              "  </thead>\n",
              "  <tbody>\n",
              "    <tr>\n",
              "      <th>50016943</th>\n",
              "      <td>13</td>\n",
              "    </tr>\n",
              "    <tr>\n",
              "      <th>50015263</th>\n",
              "      <td>13</td>\n",
              "    </tr>\n",
              "    <tr>\n",
              "      <th>41642251</th>\n",
              "      <td>12</td>\n",
              "    </tr>\n",
              "    <tr>\n",
              "      <th>50046623</th>\n",
              "      <td>12</td>\n",
              "    </tr>\n",
              "    <tr>\n",
              "      <th>50058969</th>\n",
              "      <td>12</td>\n",
              "    </tr>\n",
              "  </tbody>\n",
              "</table>\n",
              "</div>"
            ],
            "text/plain": [
              "          CAMIS count\n",
              "50016943           13\n",
              "50015263           13\n",
              "41642251           12\n",
              "50046623           12\n",
              "50058969           12"
            ]
          },
          "metadata": {
            "tags": []
          },
          "execution_count": 25
        }
      ]
    },
    {
      "cell_type": "markdown",
      "metadata": {
        "id": "JKgTH03JlewI"
      },
      "source": [
        "And we can use more complex conditions."
      ]
    },
    {
      "cell_type": "code",
      "metadata": {
        "colab": {
          "base_uri": "https://localhost:8080/",
          "height": 521
        },
        "id": "i8QMmc3VlgMT",
        "outputId": "3b6af95d-92cf-49e6-cfc2-63ff399d6a9a"
      },
      "source": [
        "#Restaurants in Brooklyn that have mices\r\n",
        "mice_Brooklyn =  ( (restaurants[\"VIOLATION CODE\"] == \"04L\") \r\n",
        "                    & (restaurants[\"BORO\"] == \"Brooklyn\") )\r\n",
        "\r\n",
        "has_mice_brooklyn = restaurants[mice_Brooklyn]\r\n",
        "has_mice_brooklyn.head()"
      ],
      "execution_count": 26,
      "outputs": [
        {
          "output_type": "execute_result",
          "data": {
            "text/html": [
              "<div>\n",
              "<style scoped>\n",
              "    .dataframe tbody tr th:only-of-type {\n",
              "        vertical-align: middle;\n",
              "    }\n",
              "\n",
              "    .dataframe tbody tr th {\n",
              "        vertical-align: top;\n",
              "    }\n",
              "\n",
              "    .dataframe thead th {\n",
              "        text-align: right;\n",
              "    }\n",
              "</style>\n",
              "<table border=\"1\" class=\"dataframe\">\n",
              "  <thead>\n",
              "    <tr style=\"text-align: right;\">\n",
              "      <th></th>\n",
              "      <th>CAMIS</th>\n",
              "      <th>DBA</th>\n",
              "      <th>BORO</th>\n",
              "      <th>BUILDING</th>\n",
              "      <th>STREET</th>\n",
              "      <th>ZIPCODE</th>\n",
              "      <th>PHONE</th>\n",
              "      <th>CUISINE DESCRIPTION</th>\n",
              "      <th>INSPECTION DATE</th>\n",
              "      <th>ACTION</th>\n",
              "      <th>VIOLATION CODE</th>\n",
              "      <th>VIOLATION DESCRIPTION</th>\n",
              "      <th>CRITICAL FLAG</th>\n",
              "      <th>SCORE</th>\n",
              "      <th>GRADE</th>\n",
              "      <th>GRADE DATE</th>\n",
              "      <th>RECORD DATE</th>\n",
              "      <th>INSPECTION TYPE</th>\n",
              "      <th>Latitude</th>\n",
              "      <th>Longitude</th>\n",
              "      <th>Community Board</th>\n",
              "      <th>Council District</th>\n",
              "      <th>Census Tract</th>\n",
              "      <th>BIN</th>\n",
              "      <th>BBL</th>\n",
              "      <th>NTA</th>\n",
              "    </tr>\n",
              "  </thead>\n",
              "  <tbody>\n",
              "    <tr>\n",
              "      <th>41</th>\n",
              "      <td>41330933</td>\n",
              "      <td>D &amp; S BAKERY</td>\n",
              "      <td>Brooklyn</td>\n",
              "      <td>6302</td>\n",
              "      <td>NEW UTRECHT AVENUE</td>\n",
              "      <td>11219.0</td>\n",
              "      <td>7186212808</td>\n",
              "      <td>Cakes, Cupcakes, Desserts</td>\n",
              "      <td>2018-10-15</td>\n",
              "      <td>Violations were cited in the following area(s).</td>\n",
              "      <td>04L</td>\n",
              "      <td>Evidence of mice or live mice present in facil...</td>\n",
              "      <td>Y</td>\n",
              "      <td>15.0</td>\n",
              "      <td>NaN</td>\n",
              "      <td>NaT</td>\n",
              "      <td>2021-03-03</td>\n",
              "      <td>Cycle Inspection / Initial Inspection</td>\n",
              "      <td>40.625159</td>\n",
              "      <td>-73.997291</td>\n",
              "      <td>311.0</td>\n",
              "      <td>38.0</td>\n",
              "      <td>19400.0</td>\n",
              "      <td>3141886.0</td>\n",
              "      <td>3.057410e+09</td>\n",
              "      <td>BK30</td>\n",
              "    </tr>\n",
              "    <tr>\n",
              "      <th>176</th>\n",
              "      <td>50000040</td>\n",
              "      <td>D &amp; Y RESTAURANT</td>\n",
              "      <td>Brooklyn</td>\n",
              "      <td>5616</td>\n",
              "      <td>7 AVENUE</td>\n",
              "      <td>11220.0</td>\n",
              "      <td>7184928808</td>\n",
              "      <td>Chinese</td>\n",
              "      <td>2018-06-12</td>\n",
              "      <td>Violations were cited in the following area(s).</td>\n",
              "      <td>04L</td>\n",
              "      <td>Evidence of mice or live mice present in facil...</td>\n",
              "      <td>Y</td>\n",
              "      <td>8.0</td>\n",
              "      <td>A</td>\n",
              "      <td>2018-06-12</td>\n",
              "      <td>2021-03-03</td>\n",
              "      <td>Cycle Inspection / Re-inspection</td>\n",
              "      <td>40.638934</td>\n",
              "      <td>-74.009570</td>\n",
              "      <td>307.0</td>\n",
              "      <td>38.0</td>\n",
              "      <td>10200.0</td>\n",
              "      <td>3015470.0</td>\n",
              "      <td>3.008410e+09</td>\n",
              "      <td>BK34</td>\n",
              "    </tr>\n",
              "    <tr>\n",
              "      <th>255</th>\n",
              "      <td>41574441</td>\n",
              "      <td>PRINCESS PIZZA &amp; RESTAURANT</td>\n",
              "      <td>Brooklyn</td>\n",
              "      <td>535</td>\n",
              "      <td>5 AVENUE</td>\n",
              "      <td>11215.0</td>\n",
              "      <td>7187889111</td>\n",
              "      <td>Pizza</td>\n",
              "      <td>2018-05-07</td>\n",
              "      <td>Violations were cited in the following area(s).</td>\n",
              "      <td>04L</td>\n",
              "      <td>Evidence of mice or live mice present in facil...</td>\n",
              "      <td>Y</td>\n",
              "      <td>11.0</td>\n",
              "      <td>A</td>\n",
              "      <td>2018-05-07</td>\n",
              "      <td>2021-03-03</td>\n",
              "      <td>Cycle Inspection / Initial Inspection</td>\n",
              "      <td>40.666066</td>\n",
              "      <td>-73.988873</td>\n",
              "      <td>306.0</td>\n",
              "      <td>39.0</td>\n",
              "      <td>14100.0</td>\n",
              "      <td>3023694.0</td>\n",
              "      <td>3.010420e+09</td>\n",
              "      <td>BK37</td>\n",
              "    </tr>\n",
              "    <tr>\n",
              "      <th>257</th>\n",
              "      <td>50072789</td>\n",
              "      <td>CROWN FRIED CHICKEN</td>\n",
              "      <td>Brooklyn</td>\n",
              "      <td>580</td>\n",
              "      <td>ALBANY AVENUE</td>\n",
              "      <td>11203.0</td>\n",
              "      <td>9173613272</td>\n",
              "      <td>Chicken</td>\n",
              "      <td>2019-07-23</td>\n",
              "      <td>Violations were cited in the following area(s).</td>\n",
              "      <td>04L</td>\n",
              "      <td>Evidence of mice or live mice present in facil...</td>\n",
              "      <td>Y</td>\n",
              "      <td>22.0</td>\n",
              "      <td>NaN</td>\n",
              "      <td>NaT</td>\n",
              "      <td>2021-03-03</td>\n",
              "      <td>Cycle Inspection / Initial Inspection</td>\n",
              "      <td>40.660443</td>\n",
              "      <td>-73.939786</td>\n",
              "      <td>309.0</td>\n",
              "      <td>41.0</td>\n",
              "      <td>81000.0</td>\n",
              "      <td>3107064.0</td>\n",
              "      <td>3.048040e+09</td>\n",
              "      <td>BK60</td>\n",
              "    </tr>\n",
              "    <tr>\n",
              "      <th>289</th>\n",
              "      <td>50050950</td>\n",
              "      <td>LIANG'S SEAFOOD RESTAURANT</td>\n",
              "      <td>Brooklyn</td>\n",
              "      <td>4922</td>\n",
              "      <td>8 AVENUE</td>\n",
              "      <td>11220.0</td>\n",
              "      <td>7184370078</td>\n",
              "      <td>Seafood</td>\n",
              "      <td>2017-06-08</td>\n",
              "      <td>Establishment Closed by DOHMH.  Violations wer...</td>\n",
              "      <td>04L</td>\n",
              "      <td>Evidence of mice or live mice present in facil...</td>\n",
              "      <td>Y</td>\n",
              "      <td>56.0</td>\n",
              "      <td>NaN</td>\n",
              "      <td>NaT</td>\n",
              "      <td>2021-03-03</td>\n",
              "      <td>Cycle Inspection / Initial Inspection</td>\n",
              "      <td>40.641501</td>\n",
              "      <td>-74.003311</td>\n",
              "      <td>307.0</td>\n",
              "      <td>38.0</td>\n",
              "      <td>10800.0</td>\n",
              "      <td>3013116.0</td>\n",
              "      <td>3.007860e+09</td>\n",
              "      <td>BK34</td>\n",
              "    </tr>\n",
              "  </tbody>\n",
              "</table>\n",
              "</div>"
            ],
            "text/plain": [
              "        CAMIS                          DBA  ...           BBL   NTA\n",
              "41   41330933                 D & S BAKERY  ...  3.057410e+09  BK30\n",
              "176  50000040             D & Y RESTAURANT  ...  3.008410e+09  BK34\n",
              "255  41574441  PRINCESS PIZZA & RESTAURANT  ...  3.010420e+09  BK37\n",
              "257  50072789          CROWN FRIED CHICKEN  ...  3.048040e+09  BK60\n",
              "289  50050950   LIANG'S SEAFOOD RESTAURANT  ...  3.007860e+09  BK34\n",
              "\n",
              "[5 rows x 26 columns]"
            ]
          },
          "metadata": {
            "tags": []
          },
          "execution_count": 26
        }
      ]
    },
    {
      "cell_type": "code",
      "metadata": {
        "colab": {
          "base_uri": "https://localhost:8080/",
          "height": 677
        },
        "id": "d2Q3qHG7lnQA",
        "outputId": "a3de0d37-296f-45f1-c0e0-be4b77e1ce4a"
      },
      "source": [
        "has_mice_brooklyn[\"DBA\"].value_counts()[:20].to_frame().rename(columns={\"DBA\": \"DBA count\"})"
      ],
      "execution_count": 27,
      "outputs": [
        {
          "output_type": "execute_result",
          "data": {
            "text/html": [
              "<div>\n",
              "<style scoped>\n",
              "    .dataframe tbody tr th:only-of-type {\n",
              "        vertical-align: middle;\n",
              "    }\n",
              "\n",
              "    .dataframe tbody tr th {\n",
              "        vertical-align: top;\n",
              "    }\n",
              "\n",
              "    .dataframe thead th {\n",
              "        text-align: right;\n",
              "    }\n",
              "</style>\n",
              "<table border=\"1\" class=\"dataframe\">\n",
              "  <thead>\n",
              "    <tr style=\"text-align: right;\">\n",
              "      <th></th>\n",
              "      <th>DBA count</th>\n",
              "    </tr>\n",
              "  </thead>\n",
              "  <tbody>\n",
              "    <tr>\n",
              "      <th>CROWN FRIED CHICKEN</th>\n",
              "      <td>69</td>\n",
              "    </tr>\n",
              "    <tr>\n",
              "      <th>DUNKIN'</th>\n",
              "      <td>32</td>\n",
              "    </tr>\n",
              "    <tr>\n",
              "      <th>BURGER KING</th>\n",
              "      <td>31</td>\n",
              "    </tr>\n",
              "    <tr>\n",
              "      <th>SUBWAY</th>\n",
              "      <td>29</td>\n",
              "    </tr>\n",
              "    <tr>\n",
              "      <th>GOLDEN KRUST CARIBBEAN BAKERY &amp; GRILL</th>\n",
              "      <td>27</td>\n",
              "    </tr>\n",
              "    <tr>\n",
              "      <th>KENNEDY FRIED CHICKEN</th>\n",
              "      <td>21</td>\n",
              "    </tr>\n",
              "    <tr>\n",
              "      <th>KFC</th>\n",
              "      <td>18</td>\n",
              "    </tr>\n",
              "    <tr>\n",
              "      <th>PAPA JOHN'S</th>\n",
              "      <td>14</td>\n",
              "    </tr>\n",
              "    <tr>\n",
              "      <th>STARBUCKS</th>\n",
              "      <td>13</td>\n",
              "    </tr>\n",
              "    <tr>\n",
              "      <th>DUNKIN', BASKIN ROBBINS</th>\n",
              "      <td>13</td>\n",
              "    </tr>\n",
              "    <tr>\n",
              "      <th>COLD STONE CREAMERY</th>\n",
              "      <td>12</td>\n",
              "    </tr>\n",
              "    <tr>\n",
              "      <th>CAFE CREOLE</th>\n",
              "      <td>12</td>\n",
              "    </tr>\n",
              "    <tr>\n",
              "      <th>TAQUERIA RESTAURANTE MI BARRIO</th>\n",
              "      <td>11</td>\n",
              "    </tr>\n",
              "    <tr>\n",
              "      <th>RINCONCITO FAMILIAR MEXICAN CUISINE</th>\n",
              "      <td>11</td>\n",
              "    </tr>\n",
              "    <tr>\n",
              "      <th>FISHERMAN'S COVE</th>\n",
              "      <td>11</td>\n",
              "    </tr>\n",
              "    <tr>\n",
              "      <th>COCO ROCO RESTAURANT</th>\n",
              "      <td>11</td>\n",
              "    </tr>\n",
              "    <tr>\n",
              "      <th>AUTHENTIC SZECHUAN</th>\n",
              "      <td>11</td>\n",
              "    </tr>\n",
              "    <tr>\n",
              "      <th>DOUBLE DRAGON</th>\n",
              "      <td>11</td>\n",
              "    </tr>\n",
              "    <tr>\n",
              "      <th>EL POLLO III</th>\n",
              "      <td>10</td>\n",
              "    </tr>\n",
              "    <tr>\n",
              "      <th>BLUE AGAVE</th>\n",
              "      <td>10</td>\n",
              "    </tr>\n",
              "  </tbody>\n",
              "</table>\n",
              "</div>"
            ],
            "text/plain": [
              "                                       DBA count\n",
              "CROWN FRIED CHICKEN                           69\n",
              "DUNKIN'                                       32\n",
              "BURGER KING                                   31\n",
              "SUBWAY                                        29\n",
              "GOLDEN KRUST CARIBBEAN BAKERY & GRILL         27\n",
              "KENNEDY FRIED CHICKEN                         21\n",
              "KFC                                           18\n",
              "PAPA JOHN'S                                   14\n",
              "STARBUCKS                                     13\n",
              "DUNKIN', BASKIN ROBBINS                       13\n",
              "COLD STONE CREAMERY                           12\n",
              "CAFE CREOLE                                   12\n",
              "TAQUERIA RESTAURANTE MI BARRIO                11\n",
              "RINCONCITO FAMILIAR MEXICAN CUISINE           11\n",
              "FISHERMAN'S COVE                              11\n",
              "COCO ROCO RESTAURANT                          11\n",
              "AUTHENTIC SZECHUAN                            11\n",
              "DOUBLE DRAGON                                 11\n",
              "EL POLLO III                                  10\n",
              "BLUE AGAVE                                    10"
            ]
          },
          "metadata": {
            "tags": []
          },
          "execution_count": 27
        }
      ]
    },
    {
      "cell_type": "markdown",
      "metadata": {
        "id": "yM7_hpenLHWg"
      },
      "source": [
        "## <a class=\"anchor\"></a> 1.3 Exercice\r\n"
      ]
    },
    {
      "cell_type": "code",
      "metadata": {
        "id": "1sQADEghLNzo"
      },
      "source": [
        "# Use the .head() function on the \"VIOLATION CODE\" column\r\n",
        "#restaurants[\"Your code here\"].\"Your code here\""
      ],
      "execution_count": 28,
      "outputs": []
    },
    {
      "cell_type": "code",
      "metadata": {
        "id": "kjcEY_sdLhW4"
      },
      "source": [
        "#Use the .value_counts() function to count the number of occurences by violation code\r\n",
        "#violation_counts = \"Your code here\".\"Your code here\"\r\n"
      ],
      "execution_count": 29,
      "outputs": []
    },
    {
      "cell_type": "code",
      "metadata": {
        "id": "fu0RShUeMFkw"
      },
      "source": [
        "#Have a look at the first 10 values\r\n",
        "#violation_counts[\"Your code here\" : \"Your code here\"]"
      ],
      "execution_count": 30,
      "outputs": []
    },
    {
      "cell_type": "code",
      "metadata": {
        "id": "oTiRc5xfMunS"
      },
      "source": [
        "#Plot the 20 violation codes ocurring the most\r\n",
        "#\"Your code here\".plot(kind = 'bar')"
      ],
      "execution_count": 31,
      "outputs": []
    },
    {
      "cell_type": "markdown",
      "metadata": {
        "id": "QKp-KN8go5VM"
      },
      "source": [
        "## <a class=\"anchor\"></a> 1.4 Missing data\r\n",
        "\r\n",
        "Let's have a look at our missing data. We will write a function which counts the number of missing values per column, and then calculates the percentage of the total values that the missing values represent.\r\n"
      ]
    },
    {
      "cell_type": "code",
      "metadata": {
        "colab": {
          "base_uri": "https://localhost:8080/",
          "height": 865
        },
        "id": "53zMxx0kpcVq",
        "outputId": "11d9ff94-bef7-46c4-eb67-3d85b85cc375"
      },
      "source": [
        "#We store this code as a function in order to use it again later on\r\n",
        "def missing_values_calculation():\r\n",
        "\r\n",
        "  #We store the number of missing values for every column\r\n",
        "  total = restaurants.isnull().sum().sort_values(ascending=False)\r\n",
        "\r\n",
        "  #We make a new column contaning the percentage of missing values \r\n",
        "  #out of the total number of values\r\n",
        "  percent = (restaurants.isnull().sum()/restaurants.isnull().count()).sort_values(ascending=False)\r\n",
        "\r\n",
        "  #We now make a DF containing these 2 values\r\n",
        "  missing = pd.concat([total, percent], axis=1, keys=['Total', 'Percent'])\r\n",
        "\r\n",
        "  #And we print the DataFrame\r\n",
        "  display(missing)\r\n",
        "\r\n",
        "#We call the function\r\n",
        "missing_values_calculation()"
      ],
      "execution_count": 32,
      "outputs": [
        {
          "output_type": "display_data",
          "data": {
            "text/html": [
              "<div>\n",
              "<style scoped>\n",
              "    .dataframe tbody tr th:only-of-type {\n",
              "        vertical-align: middle;\n",
              "    }\n",
              "\n",
              "    .dataframe tbody tr th {\n",
              "        vertical-align: top;\n",
              "    }\n",
              "\n",
              "    .dataframe thead th {\n",
              "        text-align: right;\n",
              "    }\n",
              "</style>\n",
              "<table border=\"1\" class=\"dataframe\">\n",
              "  <thead>\n",
              "    <tr style=\"text-align: right;\">\n",
              "      <th></th>\n",
              "      <th>Total</th>\n",
              "      <th>Percent</th>\n",
              "    </tr>\n",
              "  </thead>\n",
              "  <tbody>\n",
              "    <tr>\n",
              "      <th>GRADE</th>\n",
              "      <td>201568</td>\n",
              "      <td>0.509036</td>\n",
              "    </tr>\n",
              "    <tr>\n",
              "      <th>GRADE DATE</th>\n",
              "      <td>198352</td>\n",
              "      <td>0.500914</td>\n",
              "    </tr>\n",
              "    <tr>\n",
              "      <th>SCORE</th>\n",
              "      <td>18745</td>\n",
              "      <td>0.047338</td>\n",
              "    </tr>\n",
              "    <tr>\n",
              "      <th>CRITICAL FLAG</th>\n",
              "      <td>11192</td>\n",
              "      <td>0.028264</td>\n",
              "    </tr>\n",
              "    <tr>\n",
              "      <th>VIOLATION DESCRIPTION</th>\n",
              "      <td>11192</td>\n",
              "      <td>0.028264</td>\n",
              "    </tr>\n",
              "    <tr>\n",
              "      <th>BIN</th>\n",
              "      <td>9816</td>\n",
              "      <td>0.024789</td>\n",
              "    </tr>\n",
              "    <tr>\n",
              "      <th>NTA</th>\n",
              "      <td>8000</td>\n",
              "      <td>0.020203</td>\n",
              "    </tr>\n",
              "    <tr>\n",
              "      <th>Census Tract</th>\n",
              "      <td>8000</td>\n",
              "      <td>0.020203</td>\n",
              "    </tr>\n",
              "    <tr>\n",
              "      <th>Community Board</th>\n",
              "      <td>8000</td>\n",
              "      <td>0.020203</td>\n",
              "    </tr>\n",
              "    <tr>\n",
              "      <th>Council District</th>\n",
              "      <td>8000</td>\n",
              "      <td>0.020203</td>\n",
              "    </tr>\n",
              "    <tr>\n",
              "      <th>VIOLATION CODE</th>\n",
              "      <td>7866</td>\n",
              "      <td>0.019865</td>\n",
              "    </tr>\n",
              "    <tr>\n",
              "      <th>ZIPCODE</th>\n",
              "      <td>6697</td>\n",
              "      <td>0.016912</td>\n",
              "    </tr>\n",
              "    <tr>\n",
              "      <th>ACTION</th>\n",
              "      <td>3594</td>\n",
              "      <td>0.009076</td>\n",
              "    </tr>\n",
              "    <tr>\n",
              "      <th>INSPECTION TYPE</th>\n",
              "      <td>3594</td>\n",
              "      <td>0.009076</td>\n",
              "    </tr>\n",
              "    <tr>\n",
              "      <th>Latitude</th>\n",
              "      <td>1425</td>\n",
              "      <td>0.003599</td>\n",
              "    </tr>\n",
              "    <tr>\n",
              "      <th>BBL</th>\n",
              "      <td>1425</td>\n",
              "      <td>0.003599</td>\n",
              "    </tr>\n",
              "    <tr>\n",
              "      <th>Longitude</th>\n",
              "      <td>1425</td>\n",
              "      <td>0.003599</td>\n",
              "    </tr>\n",
              "    <tr>\n",
              "      <th>BUILDING</th>\n",
              "      <td>1047</td>\n",
              "      <td>0.002644</td>\n",
              "    </tr>\n",
              "    <tr>\n",
              "      <th>DBA</th>\n",
              "      <td>682</td>\n",
              "      <td>0.001722</td>\n",
              "    </tr>\n",
              "    <tr>\n",
              "      <th>STREET</th>\n",
              "      <td>86</td>\n",
              "      <td>0.000217</td>\n",
              "    </tr>\n",
              "    <tr>\n",
              "      <th>PHONE</th>\n",
              "      <td>18</td>\n",
              "      <td>0.000045</td>\n",
              "    </tr>\n",
              "    <tr>\n",
              "      <th>INSPECTION DATE</th>\n",
              "      <td>0</td>\n",
              "      <td>0.000000</td>\n",
              "    </tr>\n",
              "    <tr>\n",
              "      <th>CUISINE DESCRIPTION</th>\n",
              "      <td>0</td>\n",
              "      <td>0.000000</td>\n",
              "    </tr>\n",
              "    <tr>\n",
              "      <th>RECORD DATE</th>\n",
              "      <td>0</td>\n",
              "      <td>0.000000</td>\n",
              "    </tr>\n",
              "    <tr>\n",
              "      <th>BORO</th>\n",
              "      <td>0</td>\n",
              "      <td>0.000000</td>\n",
              "    </tr>\n",
              "    <tr>\n",
              "      <th>CAMIS</th>\n",
              "      <td>0</td>\n",
              "      <td>0.000000</td>\n",
              "    </tr>\n",
              "  </tbody>\n",
              "</table>\n",
              "</div>"
            ],
            "text/plain": [
              "                        Total   Percent\n",
              "GRADE                  201568  0.509036\n",
              "GRADE DATE             198352  0.500914\n",
              "SCORE                   18745  0.047338\n",
              "CRITICAL FLAG           11192  0.028264\n",
              "VIOLATION DESCRIPTION   11192  0.028264\n",
              "BIN                      9816  0.024789\n",
              "NTA                      8000  0.020203\n",
              "Census Tract             8000  0.020203\n",
              "Community Board          8000  0.020203\n",
              "Council District         8000  0.020203\n",
              "VIOLATION CODE           7866  0.019865\n",
              "ZIPCODE                  6697  0.016912\n",
              "ACTION                   3594  0.009076\n",
              "INSPECTION TYPE          3594  0.009076\n",
              "Latitude                 1425  0.003599\n",
              "BBL                      1425  0.003599\n",
              "Longitude                1425  0.003599\n",
              "BUILDING                 1047  0.002644\n",
              "DBA                       682  0.001722\n",
              "STREET                     86  0.000217\n",
              "PHONE                      18  0.000045\n",
              "INSPECTION DATE             0  0.000000\n",
              "CUISINE DESCRIPTION         0  0.000000\n",
              "RECORD DATE                 0  0.000000\n",
              "BORO                        0  0.000000\n",
              "CAMIS                       0  0.000000"
            ]
          },
          "metadata": {
            "tags": []
          }
        }
      ]
    },
    {
      "cell_type": "markdown",
      "metadata": {
        "id": "Kw2-7px1q6NX"
      },
      "source": [
        "### <a class=\"anchor\"></a> 1.4.1 Dropping columns\r\n",
        "\r\n",
        "\r\n",
        "The GRADE and GRADE DATE columns containt a lot of missing values (more than half the data is missing). \r\n",
        "We may want to drop these 2 columns as the missing data is too much. We can use the `.drop()` function for this, but we need to pass an additional argument to tell Pandas we want to drop a column and not a row. This argument is: `axis = 1`"
      ]
    },
    {
      "cell_type": "code",
      "metadata": {
        "colab": {
          "base_uri": "https://localhost:8080/",
          "height": 0
        },
        "id": "xWIeVESkq9uf",
        "outputId": "c4f5eb0b-682c-459d-f763-419cdd203c74"
      },
      "source": [
        "restaurants.drop([\"GRADE\", 'GRADE DATE'], axis = 1)"
      ],
      "execution_count": 33,
      "outputs": [
        {
          "output_type": "execute_result",
          "data": {
            "text/html": [
              "<div>\n",
              "<style scoped>\n",
              "    .dataframe tbody tr th:only-of-type {\n",
              "        vertical-align: middle;\n",
              "    }\n",
              "\n",
              "    .dataframe tbody tr th {\n",
              "        vertical-align: top;\n",
              "    }\n",
              "\n",
              "    .dataframe thead th {\n",
              "        text-align: right;\n",
              "    }\n",
              "</style>\n",
              "<table border=\"1\" class=\"dataframe\">\n",
              "  <thead>\n",
              "    <tr style=\"text-align: right;\">\n",
              "      <th></th>\n",
              "      <th>CAMIS</th>\n",
              "      <th>DBA</th>\n",
              "      <th>BORO</th>\n",
              "      <th>BUILDING</th>\n",
              "      <th>STREET</th>\n",
              "      <th>ZIPCODE</th>\n",
              "      <th>PHONE</th>\n",
              "      <th>CUISINE DESCRIPTION</th>\n",
              "      <th>INSPECTION DATE</th>\n",
              "      <th>ACTION</th>\n",
              "      <th>VIOLATION CODE</th>\n",
              "      <th>VIOLATION DESCRIPTION</th>\n",
              "      <th>CRITICAL FLAG</th>\n",
              "      <th>SCORE</th>\n",
              "      <th>RECORD DATE</th>\n",
              "      <th>INSPECTION TYPE</th>\n",
              "      <th>Latitude</th>\n",
              "      <th>Longitude</th>\n",
              "      <th>Community Board</th>\n",
              "      <th>Council District</th>\n",
              "      <th>Census Tract</th>\n",
              "      <th>BIN</th>\n",
              "      <th>BBL</th>\n",
              "      <th>NTA</th>\n",
              "    </tr>\n",
              "  </thead>\n",
              "  <tbody>\n",
              "    <tr>\n",
              "      <th>0</th>\n",
              "      <td>50081432</td>\n",
              "      <td>AUDREY BAKERY &amp; CAFE</td>\n",
              "      <td>Manhattan</td>\n",
              "      <td>12</td>\n",
              "      <td>CHATHAM SQUARE</td>\n",
              "      <td>10038.0</td>\n",
              "      <td>2126089188</td>\n",
              "      <td>Cakes, Cupcakes, Desserts</td>\n",
              "      <td>2019-07-15</td>\n",
              "      <td>Violations were cited in the following area(s).</td>\n",
              "      <td>10I</td>\n",
              "      <td>Single service item reused, improperly stored,...</td>\n",
              "      <td>N</td>\n",
              "      <td>13.0</td>\n",
              "      <td>2021-03-03</td>\n",
              "      <td>Cycle Inspection / Re-inspection</td>\n",
              "      <td>40.713829</td>\n",
              "      <td>-73.997785</td>\n",
              "      <td>103.0</td>\n",
              "      <td>1.0</td>\n",
              "      <td>2900.0</td>\n",
              "      <td>1001705.0</td>\n",
              "      <td>1.001620e+09</td>\n",
              "      <td>MN27</td>\n",
              "    </tr>\n",
              "    <tr>\n",
              "      <th>1</th>\n",
              "      <td>50034105</td>\n",
              "      <td>ALFIE'S PIZZA AND PASTA</td>\n",
              "      <td>Queens</td>\n",
              "      <td>8608</td>\n",
              "      <td>117TH ST</td>\n",
              "      <td>11418.0</td>\n",
              "      <td>7188498701</td>\n",
              "      <td>Pizza</td>\n",
              "      <td>2018-03-13</td>\n",
              "      <td>No violations were recorded at the time of thi...</td>\n",
              "      <td>NaN</td>\n",
              "      <td>NaN</td>\n",
              "      <td>NaN</td>\n",
              "      <td>NaN</td>\n",
              "      <td>2021-03-03</td>\n",
              "      <td>Administrative Miscellaneous / Initial Inspection</td>\n",
              "      <td>40.699980</td>\n",
              "      <td>-73.832653</td>\n",
              "      <td>409.0</td>\n",
              "      <td>29.0</td>\n",
              "      <td>13200.0</td>\n",
              "      <td>4193387.0</td>\n",
              "      <td>4.092540e+09</td>\n",
              "      <td>QN54</td>\n",
              "    </tr>\n",
              "    <tr>\n",
              "      <th>2</th>\n",
              "      <td>50063229</td>\n",
              "      <td>LA PARRANDA BAR RESTAURANT</td>\n",
              "      <td>Bronx</td>\n",
              "      <td>2712</td>\n",
              "      <td>WHITE PLAINS ROAD</td>\n",
              "      <td>10467.0</td>\n",
              "      <td>7186841119</td>\n",
              "      <td>Spanish</td>\n",
              "      <td>2018-05-03</td>\n",
              "      <td>Violations were cited in the following area(s).</td>\n",
              "      <td>10F</td>\n",
              "      <td>Non-food contact surface improperly constructe...</td>\n",
              "      <td>N</td>\n",
              "      <td>11.0</td>\n",
              "      <td>2021-03-03</td>\n",
              "      <td>Pre-permit (Operational) / Re-inspection</td>\n",
              "      <td>40.865693</td>\n",
              "      <td>-73.867337</td>\n",
              "      <td>211.0</td>\n",
              "      <td>15.0</td>\n",
              "      <td>33800.0</td>\n",
              "      <td>2053552.0</td>\n",
              "      <td>2.045090e+09</td>\n",
              "      <td>BX07</td>\n",
              "    </tr>\n",
              "    <tr>\n",
              "      <th>3</th>\n",
              "      <td>41436344</td>\n",
              "      <td>KIM'S ISLAND CHINESE RESTAURANT</td>\n",
              "      <td>Staten Island</td>\n",
              "      <td>175</td>\n",
              "      <td>MAIN STREET</td>\n",
              "      <td>10307.0</td>\n",
              "      <td>7183565168</td>\n",
              "      <td>Chinese</td>\n",
              "      <td>2019-03-13</td>\n",
              "      <td>Violations were cited in the following area(s).</td>\n",
              "      <td>22C</td>\n",
              "      <td>Bulb not shielded or shatterproof, in areas wh...</td>\n",
              "      <td>N</td>\n",
              "      <td>NaN</td>\n",
              "      <td>2021-03-03</td>\n",
              "      <td>Administrative Miscellaneous / Re-inspection</td>\n",
              "      <td>40.510623</td>\n",
              "      <td>-74.248372</td>\n",
              "      <td>503.0</td>\n",
              "      <td>51.0</td>\n",
              "      <td>24800.0</td>\n",
              "      <td>5088877.0</td>\n",
              "      <td>5.080260e+09</td>\n",
              "      <td>SI11</td>\n",
              "    </tr>\n",
              "    <tr>\n",
              "      <th>4</th>\n",
              "      <td>50041847</td>\n",
              "      <td>BURGER KING</td>\n",
              "      <td>Brooklyn</td>\n",
              "      <td>2425</td>\n",
              "      <td>CONEY ISLAND AVENUE</td>\n",
              "      <td>11223.0</td>\n",
              "      <td>7183821409</td>\n",
              "      <td>American</td>\n",
              "      <td>2018-09-26</td>\n",
              "      <td>Violations were cited in the following area(s).</td>\n",
              "      <td>04N</td>\n",
              "      <td>Filth flies or food/refuse/sewage-associated (...</td>\n",
              "      <td>Y</td>\n",
              "      <td>26.0</td>\n",
              "      <td>2021-03-03</td>\n",
              "      <td>Cycle Inspection / Re-inspection</td>\n",
              "      <td>40.597616</td>\n",
              "      <td>-73.961125</td>\n",
              "      <td>315.0</td>\n",
              "      <td>48.0</td>\n",
              "      <td>58200.0</td>\n",
              "      <td>3199390.0</td>\n",
              "      <td>3.073430e+09</td>\n",
              "      <td>BK25</td>\n",
              "    </tr>\n",
              "    <tr>\n",
              "      <th>...</th>\n",
              "      <td>...</td>\n",
              "      <td>...</td>\n",
              "      <td>...</td>\n",
              "      <td>...</td>\n",
              "      <td>...</td>\n",
              "      <td>...</td>\n",
              "      <td>...</td>\n",
              "      <td>...</td>\n",
              "      <td>...</td>\n",
              "      <td>...</td>\n",
              "      <td>...</td>\n",
              "      <td>...</td>\n",
              "      <td>...</td>\n",
              "      <td>...</td>\n",
              "      <td>...</td>\n",
              "      <td>...</td>\n",
              "      <td>...</td>\n",
              "      <td>...</td>\n",
              "      <td>...</td>\n",
              "      <td>...</td>\n",
              "      <td>...</td>\n",
              "      <td>...</td>\n",
              "      <td>...</td>\n",
              "      <td>...</td>\n",
              "    </tr>\n",
              "    <tr>\n",
              "      <th>395975</th>\n",
              "      <td>41561022</td>\n",
              "      <td>99 CENTS FRESH HOT PIZZA</td>\n",
              "      <td>Brooklyn</td>\n",
              "      <td>51D</td>\n",
              "      <td>WILLOUGHBY STREET</td>\n",
              "      <td>11201.0</td>\n",
              "      <td>7187973841</td>\n",
              "      <td>Pizza</td>\n",
              "      <td>2018-11-26</td>\n",
              "      <td>Violations were cited in the following area(s).</td>\n",
              "      <td>09A</td>\n",
              "      <td>Canned food product observed dented and not se...</td>\n",
              "      <td>N</td>\n",
              "      <td>20.0</td>\n",
              "      <td>2021-03-03</td>\n",
              "      <td>Cycle Inspection / Re-inspection</td>\n",
              "      <td>40.692221</td>\n",
              "      <td>-73.986906</td>\n",
              "      <td>302.0</td>\n",
              "      <td>33.0</td>\n",
              "      <td>1100.0</td>\n",
              "      <td>3000339.0</td>\n",
              "      <td>3.001470e+09</td>\n",
              "      <td>BK38</td>\n",
              "    </tr>\n",
              "    <tr>\n",
              "      <th>395976</th>\n",
              "      <td>40996005</td>\n",
              "      <td>N &amp; D PIZZA</td>\n",
              "      <td>Brooklyn</td>\n",
              "      <td>2823</td>\n",
              "      <td>AVENUE U</td>\n",
              "      <td>11229.0</td>\n",
              "      <td>7187690909</td>\n",
              "      <td>Pizza</td>\n",
              "      <td>2018-08-14</td>\n",
              "      <td>Violations were cited in the following area(s).</td>\n",
              "      <td>02B</td>\n",
              "      <td>Hot food item not held at or above 140º F.</td>\n",
              "      <td>Y</td>\n",
              "      <td>22.0</td>\n",
              "      <td>2021-03-03</td>\n",
              "      <td>Cycle Inspection / Initial Inspection</td>\n",
              "      <td>40.600249</td>\n",
              "      <td>-73.943532</td>\n",
              "      <td>315.0</td>\n",
              "      <td>46.0</td>\n",
              "      <td>57400.0</td>\n",
              "      <td>3198857.0</td>\n",
              "      <td>3.073330e+09</td>\n",
              "      <td>BK44</td>\n",
              "    </tr>\n",
              "    <tr>\n",
              "      <th>395977</th>\n",
              "      <td>41300979</td>\n",
              "      <td>SRIPRAI HONEY'S THAI KITCHEN</td>\n",
              "      <td>Bronx</td>\n",
              "      <td>3036</td>\n",
              "      <td>WESTCHESTER AVENUE</td>\n",
              "      <td>10461.0</td>\n",
              "      <td>3476571750</td>\n",
              "      <td>Thai</td>\n",
              "      <td>2018-11-27</td>\n",
              "      <td>Violations were cited in the following area(s).</td>\n",
              "      <td>04A</td>\n",
              "      <td>Food Protection Certificate not held by superv...</td>\n",
              "      <td>Y</td>\n",
              "      <td>24.0</td>\n",
              "      <td>2021-03-03</td>\n",
              "      <td>Cycle Inspection / Re-inspection</td>\n",
              "      <td>40.847945</td>\n",
              "      <td>-73.831296</td>\n",
              "      <td>210.0</td>\n",
              "      <td>13.0</td>\n",
              "      <td>26602.0</td>\n",
              "      <td>2046599.0</td>\n",
              "      <td>2.041960e+09</td>\n",
              "      <td>BX10</td>\n",
              "    </tr>\n",
              "    <tr>\n",
              "      <th>395978</th>\n",
              "      <td>50057426</td>\n",
              "      <td>DENNY'S</td>\n",
              "      <td>Queens</td>\n",
              "      <td>8710</td>\n",
              "      <td>NORTHERN BLVD</td>\n",
              "      <td>11372.0</td>\n",
              "      <td>7184461312</td>\n",
              "      <td>American</td>\n",
              "      <td>2019-02-20</td>\n",
              "      <td>Violations were cited in the following area(s).</td>\n",
              "      <td>10F</td>\n",
              "      <td>Non-food contact surface improperly constructe...</td>\n",
              "      <td>N</td>\n",
              "      <td>9.0</td>\n",
              "      <td>2021-03-03</td>\n",
              "      <td>Cycle Inspection / Initial Inspection</td>\n",
              "      <td>40.756055</td>\n",
              "      <td>-73.880514</td>\n",
              "      <td>403.0</td>\n",
              "      <td>25.0</td>\n",
              "      <td>27900.0</td>\n",
              "      <td>4035342.0</td>\n",
              "      <td>4.014350e+09</td>\n",
              "      <td>QN28</td>\n",
              "    </tr>\n",
              "    <tr>\n",
              "      <th>395979</th>\n",
              "      <td>50036447</td>\n",
              "      <td>HABANERO</td>\n",
              "      <td>Brooklyn</td>\n",
              "      <td>1332</td>\n",
              "      <td>HALSEY STREET</td>\n",
              "      <td>11237.0</td>\n",
              "      <td>7184848338</td>\n",
              "      <td>Mexican</td>\n",
              "      <td>2018-09-25</td>\n",
              "      <td>Violations were cited in the following area(s).</td>\n",
              "      <td>06C</td>\n",
              "      <td>Food not protected from potential source of co...</td>\n",
              "      <td>Y</td>\n",
              "      <td>15.0</td>\n",
              "      <td>2021-03-03</td>\n",
              "      <td>Cycle Inspection / Initial Inspection</td>\n",
              "      <td>40.694698</td>\n",
              "      <td>-73.906391</td>\n",
              "      <td>304.0</td>\n",
              "      <td>37.0</td>\n",
              "      <td>43900.0</td>\n",
              "      <td>3078943.0</td>\n",
              "      <td>3.034130e+09</td>\n",
              "      <td>BK77</td>\n",
              "    </tr>\n",
              "  </tbody>\n",
              "</table>\n",
              "<p>395980 rows × 24 columns</p>\n",
              "</div>"
            ],
            "text/plain": [
              "           CAMIS                              DBA  ...           BBL   NTA\n",
              "0       50081432             AUDREY BAKERY & CAFE  ...  1.001620e+09  MN27\n",
              "1       50034105          ALFIE'S PIZZA AND PASTA  ...  4.092540e+09  QN54\n",
              "2       50063229       LA PARRANDA BAR RESTAURANT  ...  2.045090e+09  BX07\n",
              "3       41436344  KIM'S ISLAND CHINESE RESTAURANT  ...  5.080260e+09  SI11\n",
              "4       50041847                      BURGER KING  ...  3.073430e+09  BK25\n",
              "...          ...                              ...  ...           ...   ...\n",
              "395975  41561022         99 CENTS FRESH HOT PIZZA  ...  3.001470e+09  BK38\n",
              "395976  40996005                      N & D PIZZA  ...  3.073330e+09  BK44\n",
              "395977  41300979     SRIPRAI HONEY'S THAI KITCHEN  ...  2.041960e+09  BX10\n",
              "395978  50057426                          DENNY'S  ...  4.014350e+09  QN28\n",
              "395979  50036447                         HABANERO  ...  3.034130e+09  BK77\n",
              "\n",
              "[395980 rows x 24 columns]"
            ]
          },
          "metadata": {
            "tags": []
          },
          "execution_count": 33
        }
      ]
    },
    {
      "cell_type": "markdown",
      "metadata": {
        "id": "vRdaJpZDsK0Z"
      },
      "source": [
        "As you can see, the \"GRADE\" and \"GRADE DATE\" columns are not a part of our DataFrame anymore."
      ]
    },
    {
      "cell_type": "markdown",
      "metadata": {
        "id": "BIW5XpoyV-Qq"
      },
      "source": [
        "### <a class=\"anchor\"></a> 1.4.2 Fillna() and dropna()\r\n"
      ]
    },
    {
      "cell_type": "markdown",
      "metadata": {
        "id": "4E-WijGJsZ_i"
      },
      "source": [
        "For the remaining columns we may want to do three different things:\r\n",
        " * Replace the missing entries with a specific value\r\n",
        " * Either estimate a possible value using the median for example\r\n",
        " * Drop the row altogether.\r\n",
        "\r\n",
        " Remember that we can drop rows with `dropna()`. Another useful function is `fillna()`, this function allows us to replace missing values with a value we may want."
      ]
    },
    {
      "cell_type": "code",
      "metadata": {
        "colab": {
          "base_uri": "https://localhost:8080/",
          "height": 0
        },
        "id": "H8G9lzVEvvm5",
        "outputId": "a1587276-4868-4841-d978-bc124b51524c"
      },
      "source": [
        "# Replacing missing values with a given value\r\n",
        "#In this case we are going to assume that if the value is missing then there was no critical flag\r\n",
        "restaurants['CRITICAL FLAG'].fillna(\"N\", inplace = True)\r\n",
        "\r\n",
        "# Replacing missing values with an estimation (median)\r\n",
        "median = restaurants['SCORE'].median()\r\n",
        "restaurants['SCORE'].fillna(median, inplace=True)\r\n",
        "\r\n",
        "#Dropping the row, you should already know this one\r\n",
        "restaurants['VIOLATION DESCRIPTION'].dropna()\r\n",
        "\r\n",
        "#Let's see how many \r\n",
        "missing_values_calculation()\r\n",
        "\r\n"
      ],
      "execution_count": 34,
      "outputs": [
        {
          "output_type": "display_data",
          "data": {
            "text/html": [
              "<div>\n",
              "<style scoped>\n",
              "    .dataframe tbody tr th:only-of-type {\n",
              "        vertical-align: middle;\n",
              "    }\n",
              "\n",
              "    .dataframe tbody tr th {\n",
              "        vertical-align: top;\n",
              "    }\n",
              "\n",
              "    .dataframe thead th {\n",
              "        text-align: right;\n",
              "    }\n",
              "</style>\n",
              "<table border=\"1\" class=\"dataframe\">\n",
              "  <thead>\n",
              "    <tr style=\"text-align: right;\">\n",
              "      <th></th>\n",
              "      <th>Total</th>\n",
              "      <th>Percent</th>\n",
              "    </tr>\n",
              "  </thead>\n",
              "  <tbody>\n",
              "    <tr>\n",
              "      <th>GRADE</th>\n",
              "      <td>201568</td>\n",
              "      <td>0.509036</td>\n",
              "    </tr>\n",
              "    <tr>\n",
              "      <th>GRADE DATE</th>\n",
              "      <td>198352</td>\n",
              "      <td>0.500914</td>\n",
              "    </tr>\n",
              "    <tr>\n",
              "      <th>VIOLATION DESCRIPTION</th>\n",
              "      <td>11192</td>\n",
              "      <td>0.028264</td>\n",
              "    </tr>\n",
              "    <tr>\n",
              "      <th>BIN</th>\n",
              "      <td>9816</td>\n",
              "      <td>0.024789</td>\n",
              "    </tr>\n",
              "    <tr>\n",
              "      <th>Community Board</th>\n",
              "      <td>8000</td>\n",
              "      <td>0.020203</td>\n",
              "    </tr>\n",
              "    <tr>\n",
              "      <th>NTA</th>\n",
              "      <td>8000</td>\n",
              "      <td>0.020203</td>\n",
              "    </tr>\n",
              "    <tr>\n",
              "      <th>Council District</th>\n",
              "      <td>8000</td>\n",
              "      <td>0.020203</td>\n",
              "    </tr>\n",
              "    <tr>\n",
              "      <th>Census Tract</th>\n",
              "      <td>8000</td>\n",
              "      <td>0.020203</td>\n",
              "    </tr>\n",
              "    <tr>\n",
              "      <th>VIOLATION CODE</th>\n",
              "      <td>7866</td>\n",
              "      <td>0.019865</td>\n",
              "    </tr>\n",
              "    <tr>\n",
              "      <th>ZIPCODE</th>\n",
              "      <td>6697</td>\n",
              "      <td>0.016912</td>\n",
              "    </tr>\n",
              "    <tr>\n",
              "      <th>INSPECTION TYPE</th>\n",
              "      <td>3594</td>\n",
              "      <td>0.009076</td>\n",
              "    </tr>\n",
              "    <tr>\n",
              "      <th>ACTION</th>\n",
              "      <td>3594</td>\n",
              "      <td>0.009076</td>\n",
              "    </tr>\n",
              "    <tr>\n",
              "      <th>Longitude</th>\n",
              "      <td>1425</td>\n",
              "      <td>0.003599</td>\n",
              "    </tr>\n",
              "    <tr>\n",
              "      <th>Latitude</th>\n",
              "      <td>1425</td>\n",
              "      <td>0.003599</td>\n",
              "    </tr>\n",
              "    <tr>\n",
              "      <th>BBL</th>\n",
              "      <td>1425</td>\n",
              "      <td>0.003599</td>\n",
              "    </tr>\n",
              "    <tr>\n",
              "      <th>BUILDING</th>\n",
              "      <td>1047</td>\n",
              "      <td>0.002644</td>\n",
              "    </tr>\n",
              "    <tr>\n",
              "      <th>DBA</th>\n",
              "      <td>682</td>\n",
              "      <td>0.001722</td>\n",
              "    </tr>\n",
              "    <tr>\n",
              "      <th>STREET</th>\n",
              "      <td>86</td>\n",
              "      <td>0.000217</td>\n",
              "    </tr>\n",
              "    <tr>\n",
              "      <th>PHONE</th>\n",
              "      <td>18</td>\n",
              "      <td>0.000045</td>\n",
              "    </tr>\n",
              "    <tr>\n",
              "      <th>BORO</th>\n",
              "      <td>0</td>\n",
              "      <td>0.000000</td>\n",
              "    </tr>\n",
              "    <tr>\n",
              "      <th>CRITICAL FLAG</th>\n",
              "      <td>0</td>\n",
              "      <td>0.000000</td>\n",
              "    </tr>\n",
              "    <tr>\n",
              "      <th>CUISINE DESCRIPTION</th>\n",
              "      <td>0</td>\n",
              "      <td>0.000000</td>\n",
              "    </tr>\n",
              "    <tr>\n",
              "      <th>INSPECTION DATE</th>\n",
              "      <td>0</td>\n",
              "      <td>0.000000</td>\n",
              "    </tr>\n",
              "    <tr>\n",
              "      <th>SCORE</th>\n",
              "      <td>0</td>\n",
              "      <td>0.000000</td>\n",
              "    </tr>\n",
              "    <tr>\n",
              "      <th>RECORD DATE</th>\n",
              "      <td>0</td>\n",
              "      <td>0.000000</td>\n",
              "    </tr>\n",
              "    <tr>\n",
              "      <th>CAMIS</th>\n",
              "      <td>0</td>\n",
              "      <td>0.000000</td>\n",
              "    </tr>\n",
              "  </tbody>\n",
              "</table>\n",
              "</div>"
            ],
            "text/plain": [
              "                        Total   Percent\n",
              "GRADE                  201568  0.509036\n",
              "GRADE DATE             198352  0.500914\n",
              "VIOLATION DESCRIPTION   11192  0.028264\n",
              "BIN                      9816  0.024789\n",
              "Community Board          8000  0.020203\n",
              "NTA                      8000  0.020203\n",
              "Council District         8000  0.020203\n",
              "Census Tract             8000  0.020203\n",
              "VIOLATION CODE           7866  0.019865\n",
              "ZIPCODE                  6697  0.016912\n",
              "INSPECTION TYPE          3594  0.009076\n",
              "ACTION                   3594  0.009076\n",
              "Longitude                1425  0.003599\n",
              "Latitude                 1425  0.003599\n",
              "BBL                      1425  0.003599\n",
              "BUILDING                 1047  0.002644\n",
              "DBA                       682  0.001722\n",
              "STREET                     86  0.000217\n",
              "PHONE                      18  0.000045\n",
              "BORO                        0  0.000000\n",
              "CRITICAL FLAG               0  0.000000\n",
              "CUISINE DESCRIPTION         0  0.000000\n",
              "INSPECTION DATE             0  0.000000\n",
              "SCORE                       0  0.000000\n",
              "RECORD DATE                 0  0.000000\n",
              "CAMIS                       0  0.000000"
            ]
          },
          "metadata": {
            "tags": []
          }
        }
      ]
    },
    {
      "cell_type": "markdown",
      "metadata": {
        "id": "CkYusmSUNHAH"
      },
      "source": [
        "# <a class=\"anchor\"></a> 2 Boxplots and correlations\r\n",
        "\r\n",
        "We will now change datasets. This dataset containts the compensation of the CEO's of different companies.\r\n"
      ]
    },
    {
      "cell_type": "code",
      "metadata": {
        "colab": {
          "base_uri": "https://localhost:8080/",
          "height": 337
        },
        "id": "tfGDiGWTNRpH",
        "outputId": "eb4c8ebc-ac71-4764-f53f-10dd5ab46dca"
      },
      "source": [
        "#Run this cell\r\n",
        "url = \"https://raw.githubusercontent.com/michalis0/Business-Intelligence-and-Analytics/master/data/CEO%20compensation.csv\"\r\n",
        "data = pd.read_csv(url) \r\n",
        "data.head(3) #only shows the first 3 rows"
      ],
      "execution_count": 35,
      "outputs": [
        {
          "output_type": "execute_result",
          "data": {
            "text/html": [
              "<div>\n",
              "<style scoped>\n",
              "    .dataframe tbody tr th:only-of-type {\n",
              "        vertical-align: middle;\n",
              "    }\n",
              "\n",
              "    .dataframe tbody tr th {\n",
              "        vertical-align: top;\n",
              "    }\n",
              "\n",
              "    .dataframe thead th {\n",
              "        text-align: right;\n",
              "    }\n",
              "</style>\n",
              "<table border=\"1\" class=\"dataframe\">\n",
              "  <thead>\n",
              "    <tr style=\"text-align: right;\">\n",
              "      <th></th>\n",
              "      <th>Total Comp</th>\n",
              "      <th>Top 20</th>\n",
              "      <th>Wide Industry</th>\n",
              "      <th>Company</th>\n",
              "      <th>CEO</th>\n",
              "      <th>City of Birth</th>\n",
              "      <th>State of Birth</th>\n",
              "      <th>Age</th>\n",
              "      <th>Undergrad</th>\n",
              "      <th>UG Degree</th>\n",
              "      <th>UG Date</th>\n",
              "      <th>AgeOfUnder</th>\n",
              "      <th>Graduate</th>\n",
              "      <th>Grad Degree</th>\n",
              "      <th>MBA?</th>\n",
              "      <th>MasterPhd?</th>\n",
              "      <th>G_date</th>\n",
              "      <th>AgeOfGradu</th>\n",
              "      <th>YearsFirm</th>\n",
              "      <th>YearsCEO</th>\n",
              "      <th>Salary</th>\n",
              "      <th>Bonus</th>\n",
              "      <th>other</th>\n",
              "      <th>St_gains</th>\n",
              "      <th>Comp for 5 yrs</th>\n",
              "      <th>Stock owned</th>\n",
              "      <th>Sales</th>\n",
              "      <th>Profits</th>\n",
              "      <th>Return over 5 yrs</th>\n",
              "      <th>Industry</th>\n",
              "      <th>Industry Code</th>\n",
              "    </tr>\n",
              "  </thead>\n",
              "  <tbody>\n",
              "    <tr>\n",
              "      <th>0</th>\n",
              "      <td>203020000.0</td>\n",
              "      <td>True</td>\n",
              "      <td>Travel</td>\n",
              "      <td>Walt Disney</td>\n",
              "      <td>Mr. Michael D Eisner</td>\n",
              "      <td>New York</td>\n",
              "      <td>NY</td>\n",
              "      <td>52</td>\n",
              "      <td>Denison U</td>\n",
              "      <td>BA</td>\n",
              "      <td>64.0</td>\n",
              "      <td>22.0</td>\n",
              "      <td>NaN</td>\n",
              "      <td>none</td>\n",
              "      <td>0</td>\n",
              "      <td>0</td>\n",
              "      <td>NaN</td>\n",
              "      <td>NaN</td>\n",
              "      <td>10</td>\n",
              "      <td>10</td>\n",
              "      <td>750000.0</td>\n",
              "      <td>NaN</td>\n",
              "      <td>9667.0</td>\n",
              "      <td>202261000.0</td>\n",
              "      <td>236771000.0</td>\n",
              "      <td>0.561</td>\n",
              "      <td>8865</td>\n",
              "      <td>779.5</td>\n",
              "      <td>17.0</td>\n",
              "      <td>Travel-hotelsrecreation</td>\n",
              "      <td>8</td>\n",
              "    </tr>\n",
              "    <tr>\n",
              "      <th>1</th>\n",
              "      <td>53110900.0</td>\n",
              "      <td>True</td>\n",
              "      <td>Financial</td>\n",
              "      <td>Travelers</td>\n",
              "      <td>Mr. Sanford I Weill</td>\n",
              "      <td>New York</td>\n",
              "      <td>NY</td>\n",
              "      <td>61</td>\n",
              "      <td>Cornell</td>\n",
              "      <td>BA</td>\n",
              "      <td>55.0</td>\n",
              "      <td>22.0</td>\n",
              "      <td>NaN</td>\n",
              "      <td>none</td>\n",
              "      <td>0</td>\n",
              "      <td>0</td>\n",
              "      <td>NaN</td>\n",
              "      <td>NaN</td>\n",
              "      <td>8</td>\n",
              "      <td>8</td>\n",
              "      <td>1018750.0</td>\n",
              "      <td>3030310.0</td>\n",
              "      <td>2161890.0</td>\n",
              "      <td>46900000.0</td>\n",
              "      <td>141605000.0</td>\n",
              "      <td>1.168</td>\n",
              "      <td>6797</td>\n",
              "      <td>950.0</td>\n",
              "      <td>28.0</td>\n",
              "      <td>Financial services-leasefinance</td>\n",
              "      <td>1</td>\n",
              "    </tr>\n",
              "    <tr>\n",
              "      <th>2</th>\n",
              "      <td>38675400.0</td>\n",
              "      <td>True</td>\n",
              "      <td>Insurance</td>\n",
              "      <td>Conseco</td>\n",
              "      <td>Mr. Stephen C Hilbert</td>\n",
              "      <td>Terre Haute</td>\n",
              "      <td>IN</td>\n",
              "      <td>48</td>\n",
              "      <td>NaN</td>\n",
              "      <td>NaN</td>\n",
              "      <td>NaN</td>\n",
              "      <td>NaN</td>\n",
              "      <td>NaN</td>\n",
              "      <td>none</td>\n",
              "      <td>0</td>\n",
              "      <td>0</td>\n",
              "      <td>NaN</td>\n",
              "      <td>NaN</td>\n",
              "      <td>15</td>\n",
              "      <td>15</td>\n",
              "      <td>250000.0</td>\n",
              "      <td>8287670.0</td>\n",
              "      <td>190570.0</td>\n",
              "      <td>29947100.0</td>\n",
              "      <td>51156100.0</td>\n",
              "      <td>2.842</td>\n",
              "      <td>2637</td>\n",
              "      <td>308.9</td>\n",
              "      <td>76.0</td>\n",
              "      <td>Insurance-lifehealth</td>\n",
              "      <td>4</td>\n",
              "    </tr>\n",
              "  </tbody>\n",
              "</table>\n",
              "</div>"
            ],
            "text/plain": [
              "    Total Comp  Top 20  ...                         Industry Industry Code\n",
              "0  203020000.0    True  ...          Travel-hotelsrecreation             8\n",
              "1   53110900.0    True  ...  Financial services-leasefinance             1\n",
              "2   38675400.0    True  ...             Insurance-lifehealth             4\n",
              "\n",
              "[3 rows x 31 columns]"
            ]
          },
          "metadata": {
            "tags": []
          },
          "execution_count": 35
        }
      ]
    },
    {
      "cell_type": "code",
      "metadata": {
        "id": "pA30fVB4OPRw"
      },
      "source": [
        "# Run this cell to drop the rows where there are missing values\r\n",
        "data.dropna(inplace=True)"
      ],
      "execution_count": 36,
      "outputs": []
    },
    {
      "cell_type": "markdown",
      "metadata": {
        "id": "Ww0jmyFlOjbR"
      },
      "source": [
        "## <a class=\"anchor\"></a> 2.1 Boxplots\r\n",
        "\r\n",
        "Pandas allows you to plot boxplots with your data. If you do not remember what a Boxplot is you can refresh your memory following this link. Essentially they allow to see the following elements:\r\n",
        "\r\n",
        "* Minimum\r\n",
        "* Maximum\r\n",
        "* Median\r\n",
        "* Quartiles\r\n",
        "* Outliers\r\n",
        "\r\n",
        "We will use the `.boxplot()` function to see how much the salaries and bonuses of CEO's can vary. What part of CEO's compensation can vary the most, which one varies the least? Which one has the biggest outliers?\r\n",
        "\r\n"
      ]
    },
    {
      "cell_type": "code",
      "metadata": {
        "colab": {
          "base_uri": "https://localhost:8080/",
          "height": 602
        },
        "id": "lxTrHGTVPO5H",
        "outputId": "734af280-b929-4243-a341-f18c23ea5ff0"
      },
      "source": [
        "#Boxplot for salaries and bonuses\r\n",
        "box_plot=data.boxplot(column = [\"Salary\", \"Bonus\"], figsize = (20,10))\r\n"
      ],
      "execution_count": 37,
      "outputs": [
        {
          "output_type": "display_data",
          "data": {
            "image/png": "[encoded data removed]",
            "text/plain": [
              "<Figure size 1440x720 with 1 Axes>"
            ]
          },
          "metadata": {
            "tags": [],
            "needs_background": "light"
          }
        }
      ]
    },
    {
      "cell_type": "markdown",
      "metadata": {
        "id": "RMKBMlVCP8UB"
      },
      "source": [
        "### <a class=\"anchor\"></a> 2.1.2 Boxplot exercice\r\n",
        "\r\n",
        "Use the .boxplot function with the \"Bonus\" column. What is the mean, median, max, min and what are the outlier values?\r\n",
        "\r\n",
        "Subsequentially check your answers using the .describe() function.\r\n"
      ]
    },
    {
      "cell_type": "code",
      "metadata": {
        "id": "8lds-gnsQG7B"
      },
      "source": [
        "#Generate the Boxplot"
      ],
      "execution_count": 38,
      "outputs": []
    },
    {
      "cell_type": "code",
      "metadata": {
        "id": "dujQIpCUQGyv"
      },
      "source": [
        "#Check your answers"
      ],
      "execution_count": 39,
      "outputs": []
    },
    {
      "cell_type": "markdown",
      "metadata": {
        "id": "eTS_M7hIOjWA"
      },
      "source": [
        "## <a class=\"anchor\"></a> 2.1 Scatterplots and Correlation\r\n",
        "\r\n",
        "This plots are useful to find correlations between variables. Let's see if we can find any correlation (visually) between the Age and the Salary of the CEO's.\r\n"
      ]
    },
    {
      "cell_type": "code",
      "metadata": {
        "colab": {
          "base_uri": "https://localhost:8080/",
          "height": 290
        },
        "id": "FoaL2zSfRyEY",
        "outputId": "b5284069-3ed1-4f41-bd65-855c8fe137b5"
      },
      "source": [
        "scat = data.plot.scatter(x = \"Age\", y = \"Salary\")"
      ],
      "execution_count": 55,
      "outputs": [
        {
          "output_type": "display_data",
          "data": {
            "image/png": "[encoded data removed]",
            "text/plain": [
              "<Figure size 432x288 with 1 Axes>"
            ]
          },
          "metadata": {
            "tags": [],
            "needs_background": "light"
          }
        }
      ]
    },
    {
      "cell_type": "markdown",
      "metadata": {
        "id": "377oW8DISmGf"
      },
      "source": [
        "Pandas also includes a function `corr` which allows to easily calculate [Pearsons r coefficient](https://en.wikipedia.org/wiki/Pearson_correlation_coefficient)."
      ]
    },
    {
      "cell_type": "code",
      "metadata": {
        "colab": {
          "base_uri": "https://localhost:8080/"
        },
        "id": "TjM8U-cKStCz",
        "outputId": "5ee4b747-f2ba-4ad5-ac32-5b70dff1b218"
      },
      "source": [
        "data[\"Age\"].corr(data[\"Salary\"])"
      ],
      "execution_count": 41,
      "outputs": [
        {
          "output_type": "execute_result",
          "data": {
            "text/plain": [
              "0.30571805690619325"
            ]
          },
          "metadata": {
            "tags": []
          },
          "execution_count": 41
        }
      ]
    },
    {
      "cell_type": "markdown",
      "metadata": {
        "id": "b6moiPS6O_1N"
      },
      "source": [
        "The correlation seems quite low, so let's see what else we can find.\r\n",
        "\r\n",
        "Usually, as a way to inentivize managers to do a good job, they are given stocks or options. This way, they have an intrinsic motivation to make the stock price grow, as they can benefit enormously from this. Let's see if we can find a correlation between the stock owned by a CEO and the return of the stock in the last 5 years."
      ]
    },
    {
      "cell_type": "code",
      "metadata": {
        "id": "SW-7jLfnPqVO",
        "colab": {
          "base_uri": "https://localhost:8080/",
          "height": 308
        },
        "outputId": "2ca834b7-9dc0-43a4-b877-0189847da825"
      },
      "source": [
        "#Scatterplot\r\n",
        "profit_cat= data.plot.scatter(x=\"Profits\", y=\"Salary\")\r\n",
        "#Pearson's r coefficient\r\n",
        "print(\"Pearson's r coefficient is: {}\".format(round(data[\"Profits\"].corr(data[\"Salary\"]), 2)))\r\n"
      ],
      "execution_count": 58,
      "outputs": [
        {
          "output_type": "stream",
          "text": [
            "Pearson's r coefficient is: 0.66\n"
          ],
          "name": "stdout"
        },
        {
          "output_type": "display_data",
          "data": {
            "image/png": "[encoded data removed]",
            "text/plain": [
              "<Figure size 432x288 with 1 Axes>"
            ]
          },
          "metadata": {
            "tags": [],
            "needs_background": "light"
          }
        }
      ]
    },
    {
      "cell_type": "markdown",
      "metadata": {
        "id": "KZnA9SNMR6ow"
      },
      "source": [
        "There seems to be a correlation between the fixed part of a CEO's  compensation and the companies profit, but always remember that correlation does not imply causation.\r\n",
        "\r\n",
        "You can also include a third variable if you want to. In order to plot 3-different variables in 2 dimensions we can use the seaborn library and change the collor of the third variable. This is done with the `hue` argument."
      ]
    },
    {
      "cell_type": "code",
      "metadata": {
        "colab": {
          "base_uri": "https://localhost:8080/",
          "height": 290
        },
        "id": "hwX12aPrSKAv",
        "outputId": "1db43d31-c589-4220-cceb-d77262205a21"
      },
      "source": [
        "scat2=sns.scatterplot(x=data[\"YearsCEO\"], y=data[\"Bonus\"],hue=data[\"Top 20\"])"
      ],
      "execution_count": 68,
      "outputs": [
        {
          "output_type": "display_data",
          "data": {
            "image/png": "[encoded data removed]",
            "text/plain": [
              "<Figure size 432x288 with 1 Axes>"
            ]
          },
          "metadata": {
            "tags": [],
            "needs_background": "light"
          }
        }
      ]
    },
    {
      "cell_type": "markdown",
      "metadata": {
        "id": "knvKIP4-UZ4_"
      },
      "source": [
        "## <a class=\"anchor\"></a> 2.2 Exercice\r\n",
        "\r\n",
        "1) Load the dataset from the following url: `https://raw.githubusercontent.com/michalis0/Business-Intelligence-and-Analytics/master/data/Birthweight.csv`, set ID as the index column and use the .head() funtion to obtain an overview."
      ]
    },
    {
      "cell_type": "code",
      "metadata": {
        "id": "x3Yt6nJGU_X5",
        "colab": {
          "base_uri": "https://localhost:8080/",
          "height": 206
        },
        "outputId": "1d6e4c38-b1e4-47e2-817e-14205ba2d132"
      },
      "source": [
        "birth_data = pd.read_csv(\"https://raw.githubusercontent.com/michalis0/Business-Intelligence-and-Analytics/master/data/Birthweight.csv\")\r\n",
        "birth_data.head()"
      ],
      "execution_count": 44,
      "outputs": [
        {
          "output_type": "execute_result",
          "data": {
            "text/html": [
              "<div>\n",
              "<style scoped>\n",
              "    .dataframe tbody tr th:only-of-type {\n",
              "        vertical-align: middle;\n",
              "    }\n",
              "\n",
              "    .dataframe tbody tr th {\n",
              "        vertical-align: top;\n",
              "    }\n",
              "\n",
              "    .dataframe thead th {\n",
              "        text-align: right;\n",
              "    }\n",
              "</style>\n",
              "<table border=\"1\" class=\"dataframe\">\n",
              "  <thead>\n",
              "    <tr style=\"text-align: right;\">\n",
              "      <th></th>\n",
              "      <th>ID</th>\n",
              "      <th>Length</th>\n",
              "      <th>Birthweight</th>\n",
              "      <th>Headcirc</th>\n",
              "      <th>Gestation</th>\n",
              "      <th>smoker</th>\n",
              "      <th>mage</th>\n",
              "      <th>mnocig</th>\n",
              "      <th>mheight</th>\n",
              "      <th>mppwt</th>\n",
              "      <th>fage</th>\n",
              "      <th>fedyrs</th>\n",
              "      <th>fnocig</th>\n",
              "      <th>fheight</th>\n",
              "      <th>lowbwt</th>\n",
              "      <th>mage35</th>\n",
              "    </tr>\n",
              "  </thead>\n",
              "  <tbody>\n",
              "    <tr>\n",
              "      <th>0</th>\n",
              "      <td>1360</td>\n",
              "      <td>56</td>\n",
              "      <td>4.55</td>\n",
              "      <td>34</td>\n",
              "      <td>44</td>\n",
              "      <td>0</td>\n",
              "      <td>20</td>\n",
              "      <td>0</td>\n",
              "      <td>162</td>\n",
              "      <td>57</td>\n",
              "      <td>23</td>\n",
              "      <td>10</td>\n",
              "      <td>35</td>\n",
              "      <td>179</td>\n",
              "      <td>0</td>\n",
              "      <td>0</td>\n",
              "    </tr>\n",
              "    <tr>\n",
              "      <th>1</th>\n",
              "      <td>1016</td>\n",
              "      <td>53</td>\n",
              "      <td>4.32</td>\n",
              "      <td>36</td>\n",
              "      <td>40</td>\n",
              "      <td>0</td>\n",
              "      <td>19</td>\n",
              "      <td>0</td>\n",
              "      <td>171</td>\n",
              "      <td>62</td>\n",
              "      <td>19</td>\n",
              "      <td>12</td>\n",
              "      <td>0</td>\n",
              "      <td>183</td>\n",
              "      <td>0</td>\n",
              "      <td>0</td>\n",
              "    </tr>\n",
              "    <tr>\n",
              "      <th>2</th>\n",
              "      <td>462</td>\n",
              "      <td>58</td>\n",
              "      <td>4.10</td>\n",
              "      <td>39</td>\n",
              "      <td>41</td>\n",
              "      <td>0</td>\n",
              "      <td>35</td>\n",
              "      <td>0</td>\n",
              "      <td>172</td>\n",
              "      <td>58</td>\n",
              "      <td>31</td>\n",
              "      <td>16</td>\n",
              "      <td>25</td>\n",
              "      <td>185</td>\n",
              "      <td>0</td>\n",
              "      <td>1</td>\n",
              "    </tr>\n",
              "    <tr>\n",
              "      <th>3</th>\n",
              "      <td>1187</td>\n",
              "      <td>53</td>\n",
              "      <td>4.07</td>\n",
              "      <td>38</td>\n",
              "      <td>44</td>\n",
              "      <td>0</td>\n",
              "      <td>20</td>\n",
              "      <td>0</td>\n",
              "      <td>174</td>\n",
              "      <td>68</td>\n",
              "      <td>26</td>\n",
              "      <td>14</td>\n",
              "      <td>25</td>\n",
              "      <td>189</td>\n",
              "      <td>0</td>\n",
              "      <td>0</td>\n",
              "    </tr>\n",
              "    <tr>\n",
              "      <th>4</th>\n",
              "      <td>553</td>\n",
              "      <td>54</td>\n",
              "      <td>3.94</td>\n",
              "      <td>37</td>\n",
              "      <td>42</td>\n",
              "      <td>0</td>\n",
              "      <td>24</td>\n",
              "      <td>0</td>\n",
              "      <td>175</td>\n",
              "      <td>66</td>\n",
              "      <td>30</td>\n",
              "      <td>12</td>\n",
              "      <td>0</td>\n",
              "      <td>184</td>\n",
              "      <td>0</td>\n",
              "      <td>0</td>\n",
              "    </tr>\n",
              "  </tbody>\n",
              "</table>\n",
              "</div>"
            ],
            "text/plain": [
              "     ID  Length  Birthweight  Headcirc  ...  fnocig  fheight  lowbwt  mage35\n",
              "0  1360      56         4.55        34  ...      35      179       0       0\n",
              "1  1016      53         4.32        36  ...       0      183       0       0\n",
              "2   462      58         4.10        39  ...      25      185       0       1\n",
              "3  1187      53         4.07        38  ...      25      189       0       0\n",
              "4   553      54         3.94        37  ...       0      184       0       0\n",
              "\n",
              "[5 rows x 16 columns]"
            ]
          },
          "metadata": {
            "tags": []
          },
          "execution_count": 44
        }
      ]
    },
    {
      "cell_type": "markdown",
      "metadata": {
        "id": "vnOHLRuPks4n"
      },
      "source": [
        "2) The above dataset contains information about newborn babis and their mothers. Plot an histogram of the \"Gestation\" column. What is the mode and the mean of the gestation period?"
      ]
    },
    {
      "cell_type": "code",
      "metadata": {
        "id": "MQ-SxzqrlTnO"
      },
      "source": [
        ""
      ],
      "execution_count": 44,
      "outputs": []
    },
    {
      "cell_type": "markdown",
      "metadata": {
        "id": "aTYocBWblUHN"
      },
      "source": [
        "3) Plot a boxplot of the gestation period. Were you right about the mode and the median?"
      ]
    },
    {
      "cell_type": "code",
      "metadata": {
        "id": "PXlQpq_ZlVYV"
      },
      "source": [
        ""
      ],
      "execution_count": 44,
      "outputs": []
    },
    {
      "cell_type": "markdown",
      "metadata": {
        "id": "OokRXQ_7mmO9"
      },
      "source": [
        "4) It might be interesting to see whether there is a correlation between smoker/ non-smoker mothers and the babies birthweight.\r\n",
        "\r\n",
        "Plot a scatterplot between the \"smoker\", \"Birthweight\" and \"mage\" columns."
      ]
    },
    {
      "cell_type": "code",
      "metadata": {
        "id": "Ycc7nNlKmkU8"
      },
      "source": [
        ""
      ],
      "execution_count": 44,
      "outputs": []
    },
    {
      "cell_type": "code",
      "metadata": {
        "id": "vlp4eORnurBj"
      },
      "source": [
        "#Check the correlation between each pair of variables"
      ],
      "execution_count": 45,
      "outputs": []
    },
    {
      "cell_type": "markdown",
      "metadata": {
        "id": "b4Li-RA-ToFB"
      },
      "source": [
        "## <a class=\"anchor\"></a> 2.3 Pairgrids and heatmaps\r\n",
        "\r\n",
        "Pairgrids can be a usefool tool to visualize correlations. They allow us to plot the relationships of multiple variables against each other, 2 at a time.\r\n"
      ]
    },
    {
      "cell_type": "code",
      "metadata": {
        "id": "I5CfjmgXi8V1",
        "colab": {
          "base_uri": "https://localhost:8080/",
          "height": 644
        },
        "outputId": "83763cf2-8726-41b9-e70a-2c04e35bdc3a"
      },
      "source": [
        "scat3 = scatter_matrix(birth_data[[\"Length\", \"Birthweight\", \"Headcirc\"]], figsize=(10, 10), grid=True, s = 120)\n",
        "plt.suptitle('Scatter-matrix to find a possible correlation', size = 30, y = 0.93, x =0.55)\n",
        "plt.show()\n"
      ],
      "execution_count": 84,
      "outputs": [
        {
          "output_type": "display_data",
          "data": {
            "image/png": "[encoded data removed]",
            "text/plain": [
              "<Figure size 720x720 with 9 Axes>"
            ]
          },
          "metadata": {
            "tags": [],
            "needs_background": "light"
          }
        }
      ]
    },
    {
      "cell_type": "markdown",
      "metadata": {
        "id": "8yfeLB0U3ap8"
      },
      "source": [
        "Another more useful tools are [heatmaps](https://en.wikipedia.org/wiki/Heat_map). By first calculating the correlations between every variable, we can then plot a heatmap of those.\r\n"
      ]
    },
    {
      "cell_type": "code",
      "metadata": {
        "id": "58uUIo6-3mxT",
        "colab": {
          "base_uri": "https://localhost:8080/",
          "height": 317
        },
        "outputId": "072b23c2-54f6-48b1-a3c5-7749cf9f1096"
      },
      "source": [
        "correlations = birth_data.corr()\r\n",
        "heatmap=sns.heatmap(correlations)"
      ],
      "execution_count": 48,
      "outputs": [
        {
          "output_type": "display_data",
          "data": {
            "image/png": "[encoded data removed]",
            "text/plain": [
              "<Figure size 432x288 with 2 Axes>"
            ]
          },
          "metadata": {
            "tags": [],
            "needs_background": "light"
          }
        }
      ]
    }
  ]
}
