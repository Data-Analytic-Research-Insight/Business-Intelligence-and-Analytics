{
  "nbformat": 4,
  "nbformat_minor": 0,
  "metadata": {
    "colab": {
      "name": "Exercise1_week3.ipynb",
      "provenance": [],
      "collapsed_sections": [],
      "include_colab_link": true
    },
    "kernelspec": {
      "name": "python3",
      "display_name": "Python 3"
    }
  },
  "cells": [
    {
      "cell_type": "markdown",
      "metadata": {
        "id": "view-in-github",
        "colab_type": "text"
      },
      "source": [
        "<a href=\"https://colab.research.google.com/github/michalis0/Business-Intelligence-and-Analytics/blob/master/week3%20-%20Pandas%20-%20Data%20Cleaning/Exercises/Exercises/Exercise1_week3.ipynb\" target=\"_parent\"><img src=\"https://colab.research.google.com/assets/colab-badge.svg\" alt=\"Open In Colab\"/></a>"
      ]
    },
    {
      "cell_type": "markdown",
      "metadata": {
        "id": "AtYsn1mvhp4K"
      },
      "source": [
        "\n",
        "# EDA and data visualization\n",
        "\n",
        "## Exercises\n",
        "\n",
        "In this exercise you're going to put in practice what you just learned and implement the same types of charts.<br>\n",
        "Thoses chart will help you to answer questions.\n",
        "\n",
        "For this, we're going to use the same data-set we used in the walkthroughs.<br>\n",
        "\n",
        "***Beware ! You need to clean the data-set to be able to answer the questions ;)***"
      ]
    },
    {
      "cell_type": "markdown",
      "metadata": {
        "id": "JYocJ-4liOLV"
      },
      "source": [
        "## 1. Imports, data set and cleaning"
      ]
    },
    {
      "cell_type": "markdown",
      "metadata": {
        "id": "RijUQ0qCjW8t"
      },
      "source": [
        "###1.1 Imports"
      ]
    },
    {
      "cell_type": "markdown",
      "metadata": {
        "id": "cnpLDT6B1ZBa"
      },
      "source": [
        "First, you have to import the libraries you wil need. "
      ]
    },
    {
      "cell_type": "code",
      "metadata": {
        "id": "cGLLr160hapX"
      },
      "source": [
        "#do the imports here\r\n",
        "#Don't forget to import seaborn and scatter_matrix\r\n",
        "import pandas as pd\r\n",
        "import seaborn as sns\r\n",
        "from pandas.plotting import scatter_matrix\r\n",
        "import matplotlib.pyplot as plt\r\n"
      ],
      "execution_count": null,
      "outputs": []
    },
    {
      "cell_type": "markdown",
      "metadata": {
        "id": "XXOsSdIejaFv"
      },
      "source": [
        "###1.2 Load the data-set"
      ]
    },
    {
      "cell_type": "markdown",
      "metadata": {
        "id": "on331IB127tE"
      },
      "source": [
        "Here is the url to retreive the data set : https://raw.githubusercontent.com/michalis0/Business-Intelligence-and-Analytics/master/data/Telco-Customer-Churn.csv\n",
        "\n",
        "\n"
      ]
    },
    {
      "cell_type": "code",
      "metadata": {
        "id": "xFyebb9sitQQ"
      },
      "source": [
        "# import data set and call head function\r\n"
      ],
      "execution_count": null,
      "outputs": []
    },
    {
      "cell_type": "markdown",
      "metadata": {
        "id": "4wzFhxvh8Mrb"
      },
      "source": [
        "### 1.3 Converting column types\r\n"
      ]
    },
    {
      "cell_type": "code",
      "metadata": {
        "id": "699nhd2x8SZq"
      },
      "source": [
        "#Take a look at the column types\r\n"
      ],
      "execution_count": null,
      "outputs": []
    },
    {
      "cell_type": "code",
      "metadata": {
        "id": "KmNZ-IeY8ZmV"
      },
      "source": [
        "#Convert Total Charges to numeric, use error = 'coerce'\r\n"
      ],
      "execution_count": null,
      "outputs": []
    },
    {
      "cell_type": "code",
      "metadata": {
        "id": "D4qLmpwT8-K_"
      },
      "source": [
        "# What columns can be converted to the categorical type?\r\n",
        "# Convert 3 of them here\r\n",
        "\r\n",
        "\r\n"
      ],
      "execution_count": null,
      "outputs": []
    },
    {
      "cell_type": "markdown",
      "metadata": {
        "id": "L7HXDweH9mQT"
      },
      "source": [
        "### 1.4 Boolean values\r\n",
        "\r\n",
        "Remeber that boolean values are either True or False. Use the `value_counts()` function to see what values compose the `seniorCitizen` column."
      ]
    },
    {
      "cell_type": "code",
      "metadata": {
        "id": "HrHH1V5w-HfH"
      },
      "source": [
        ""
      ],
      "execution_count": null,
      "outputs": []
    },
    {
      "cell_type": "markdown",
      "metadata": {
        "id": "oPPs11sN-HvW"
      },
      "source": [
        "If you did it right, you should see that the column is composed only of 0's and 1's. We could change the 1's for `True` and the 0's for `False`.\r\n",
        "\r\n",
        "You can use the `astype` function for this, just pass 'bool' as an argument instead of 'category'.\r\n",
        "\r\n",
        "What other columns can be converted to this type? Convert at least 3 of them."
      ]
    },
    {
      "cell_type": "code",
      "metadata": {
        "id": "M5298v19-cLx"
      },
      "source": [
        ""
      ],
      "execution_count": null,
      "outputs": []
    },
    {
      "cell_type": "markdown",
      "metadata": {
        "id": "kFaAuHmujjsG"
      },
      "source": [
        "###1.5 Cleaning the NaN values"
      ]
    },
    {
      "cell_type": "markdown",
      "metadata": {
        "id": "7fPhklq63ghP"
      },
      "source": [
        "Now since the data set contains NaN values, you will need to clean first before the Analysis. "
      ]
    },
    {
      "cell_type": "code",
      "metadata": {
        "id": "Z3tQFRjAi4gZ"
      },
      "source": [
        "#Count the null values"
      ],
      "execution_count": null,
      "outputs": []
    },
    {
      "cell_type": "code",
      "metadata": {
        "id": "Gk6fbuU8EiIL"
      },
      "source": [
        "#Drop the null values"
      ],
      "execution_count": null,
      "outputs": []
    },
    {
      "cell_type": "markdown",
      "metadata": {
        "id": "hBAgHL0jjB-A"
      },
      "source": [
        "##2. First analysis\n",
        "**question:**\n",
        "What is the proportion of women in our Data?"
      ]
    },
    {
      "cell_type": "code",
      "metadata": {
        "id": "4JJPX8QqkFY9"
      },
      "source": [
        ""
      ],
      "execution_count": null,
      "outputs": []
    },
    {
      "cell_type": "markdown",
      "metadata": {
        "id": "oQsmwPedkdiN"
      },
      "source": [
        "##3. Histogram\n",
        "\n",
        "Now, plot an histogram of the `TotalCharges` column, use 20 bins.\n"
      ]
    },
    {
      "cell_type": "code",
      "metadata": {
        "id": "IR6u5OuflDfX"
      },
      "source": [
        ""
      ],
      "execution_count": null,
      "outputs": []
    },
    {
      "cell_type": "markdown",
      "metadata": {
        "id": "-F86Xg0erSRC"
      },
      "source": [
        "##4. Boxplot\n",
        "\n",
        "**question:** What are the mean, median, min and the value of the third quartile of the `MonthlyCharges` and `TotalCharges` ?<br>\n",
        "\n",
        "Plot both in one figure\n"
      ]
    },
    {
      "cell_type": "code",
      "metadata": {
        "id": "251-kJdnrzxf"
      },
      "source": [
        "#here for the visualization\r\n"
      ],
      "execution_count": null,
      "outputs": []
    },
    {
      "cell_type": "code",
      "metadata": {
        "id": "gs2HcETer6S6"
      },
      "source": [
        "#here for the numerical\r\n"
      ],
      "execution_count": null,
      "outputs": []
    },
    {
      "cell_type": "markdown",
      "metadata": {
        "id": "GkBnjB1jsLyl"
      },
      "source": [
        "## 5. Scatter Plot and lines\n"
      ]
    },
    {
      "cell_type": "markdown",
      "metadata": {
        "id": "vqIPh6zzsXqU"
      },
      "source": [
        "### 5.1 Scatter plot\n",
        "**question:** Is there a correlation between the `MonthlyCharges` and the `TotalCharges` ?"
      ]
    },
    {
      "cell_type": "code",
      "metadata": {
        "id": "ZbgTbWEltB0c"
      },
      "source": [
        ""
      ],
      "execution_count": null,
      "outputs": []
    },
    {
      "cell_type": "markdown",
      "metadata": {
        "id": "9AFfnMivupSb"
      },
      "source": [
        "### 5.2 Pair Grid\n",
        "**question:** could you find any correlation between one of those values: `tenure`, `MonthlyCharges`, `TotalCharges` ?\n",
        " (Use scatterplot)"
      ]
    },
    {
      "cell_type": "code",
      "metadata": {
        "id": "xePuV_YNwTeJ"
      },
      "source": [
        "\r\n"
      ],
      "execution_count": null,
      "outputs": []
    },
    {
      "cell_type": "markdown",
      "metadata": {
        "id": "pmOC7u59Foyi"
      },
      "source": [
        "## 6. Heatmap and correlations\r\n",
        "Calculate the correlation DataFrame, and plot its heatmap."
      ]
    },
    {
      "cell_type": "code",
      "metadata": {
        "id": "9Qr8aL3ZF5-J"
      },
      "source": [
        ""
      ],
      "execution_count": null,
      "outputs": []
    }
  ]
}