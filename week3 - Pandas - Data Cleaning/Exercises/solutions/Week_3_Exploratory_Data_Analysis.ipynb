{
  "nbformat": 4,
  "nbformat_minor": 0,
  "metadata": {
    "colab": {
      "name": "Week 3 - Exploratory Data Analysis.ipynb",
      "provenance": [],
      "authorship_tag": "ABX9TyMQLBxDDVJcl5CQEtfDhzGQ",
      "include_colab_link": true
    },
    "kernelspec": {
      "name": "python3",
      "display_name": "Python 3"
    }
  },
  "cells": [
    {
      "cell_type": "markdown",
      "metadata": {
        "id": "view-in-github",
        "colab_type": "text"
      },
      "source": [
        "<a href=\"https://colab.research.google.com/github/michalis0/Business_Intelligence_Analytics_private2021/blob/main/week3%20-%20Pandas%20-%20Data%20Cleaning/Exercises/solutions/Week_3_Exploratory_Data_Analysis.ipynb\" target=\"_parent\"><img src=\"https://colab.research.google.com/assets/colab-badge.svg\" alt=\"Open In Colab\"/></a>"
      ]
    },
    {
      "cell_type": "code",
      "metadata": {
        "colab": {
          "base_uri": "https://localhost:8080/",
          "height": 133
        },
        "id": "qBghKR9Knjm5",
        "cellView": "form",
        "outputId": "0da691cc-ff20-41f4-9e47-a93d2be1aaf9"
      },
      "source": [
        "#@title Walkthrough - Lab 3\n",
        "\n",
        "%%html\n",
        "\n",
        "<div>\n",
        "<td> \n",
        "<img src=\"https://www.unil.ch/logo/files/live/sites/logo/files/web/eps/lo_unil06_bleu.eps\" style=\"padding-right:10px;width:240px;float:left\"/></td>\n",
        "<h2 style=\"white-space: nowrap\">Business Intelligence and Analytics</h2></td>\n",
        "<hr style=\"clear:both\">\n",
        "<p style=\"font-size:0.85em; margin:2px; text-align:justify\">\n",
        "\n",
        "</div>"
      ],
      "execution_count": 301,
      "outputs": [
        {
          "output_type": "display_data",
          "data": {
            "text/html": [
              "\n",
              "<div>\n",
              "<td> \n",
              "<img src=\"https://www.unil.ch/logo/files/live/sites/logo/files/web/eps/lo_unil06_bleu.eps\" style=\"padding-right:10px;width:240px;float:left\"/></td>\n",
              "<h2 style=\"white-space: nowrap\">Business Intelligence and Analytics</h2></td>\n",
              "<hr style=\"clear:both\">\n",
              "<p style=\"font-size:0.85em; margin:2px; text-align:justify\">\n",
              "\n",
              "</div>"
            ],
            "text/plain": [
              "<IPython.core.display.HTML object>"
            ]
          },
          "metadata": {
            "tags": []
          }
        }
      ]
    },
    {
      "cell_type": "markdown",
      "metadata": {
        "id": "FPvLJ-TYoQQJ"
      },
      "source": [
        "\n",
        ">The goal of this Walkthrough is to provide you with insights on exploratory data analysis throughout the use of a fun and interactive technique known as webscrapping. During this laboratary, you will be provided with a broad overview of this technique as well as the major tools used in the process. You will also understand how data analysis can be conducted on real-time web data and hopefully see how this combination can be further applied to any other context. \n",
        "\n",
        "\n",
        ">In essence, webscrapping consits in harvesting the content of a web page in order to process its information for further use. In our example, webscrapping is used as fun way to extract data that we will analyse afterwards. In most cases, this thechniques comes hand in hand with data cleaning and data analysis. For futher information on webscrapping, click on the following [link](https://en.wikipedia.org/wiki/Web_scraping).\n"
      ]
    },
    {
      "cell_type": "markdown",
      "metadata": {
        "id": "B9s0aUxc0mgL"
      },
      "source": [
        "## Web Scrapping libraries"
      ]
    },
    {
      "cell_type": "markdown",
      "metadata": {
        "id": "CEPj9faM0zJn"
      },
      "source": [
        "In order to get the data from the Web with Python, we will require during the course of this lab to use the follwing two essential libraries:\n",
        "\n",
        "*  Requests (HTTP): retreives the web pages (html) to parse.\n",
        "\n",
        "*  Beautiful Soup (HTML Parsing): parses the html.\n",
        "\n",
        "Thanks to google colab, no specific environmental installation is needed to work on this lab. We can directly import the need libraries. \n",
        "Moreover, last week you were introduced with a very important library when it comes to EDA known as [Pandas](https://pandas.pydata.org/pandas-docs/version/0.15/tutorials.html). Dataframes and the allowed manipulations come in very handy for the analysis we shall conduct on the newly fetched Data. Therefore, we will continue using this library throughout this lab as well. If you feel like you are still not at ease with Pandas basic concepts, please refer to the previous documentation or ask one of the TAs. \n"
      ]
    },
    {
      "cell_type": "code",
      "metadata": {
        "id": "py3-Qcm_rmgh"
      },
      "source": [
        "# Import libraries\n",
        "import requests\n",
        "from bs4 import BeautifulSoup\n",
        "import pandas as pd\n"
      ],
      "execution_count": 262,
      "outputs": []
    },
    {
      "cell_type": "markdown",
      "metadata": {
        "id": "4k79JLnx28V9"
      },
      "source": [
        "## Retreiving the Data\n"
      ]
    },
    {
      "cell_type": "markdown",
      "metadata": {
        "id": "bketijLl3_zo"
      },
      "source": [
        ">In order to get started with webscrapping we must first make a [request](https://requests.readthedocs.io/en/master/user/quickstart/). In simple words, we will ask the server hosting the webpage we are interested in for its content.\n",
        "\n",
        "> In this laboratory, we will use the [Boat24.ch](https://www.boot24.ch/chde/motorboote/furtif-28-modele-unique/detail/463101/) by specifying its URL as parameter to the ``requests.get`` method. \n",
        "\n",
        "> We can check the status of our request using the library method ``status_code``. You can find more on the HTTP status code on this [link](https://en.wikipedia.org/wiki/List_of_HTTP_status_codes). A code of **200** means the HTTP request was successfuly completed. On the other hand, the response header display metadata aboug the request itself. You can see for yourself the details of the header running the next cell. \n",
        "\n"
      ]
    },
    {
      "cell_type": "code",
      "metadata": {
        "colab": {
          "base_uri": "https://localhost:8080/"
        },
        "id": "4YFEk6eAst0b",
        "outputId": "4b187517-e44b-450d-bc02-8cf7b6ca213e"
      },
      "source": [
        "# Make the request\n",
        "r = requests.get('https://www.boot24.ch/chde/motorboote/furtif-28-modele-unique/detail/463101/')\n",
        "# Response content\n",
        "print('Response status code: {0}\\n'.format(r.status_code))\n",
        "print('Response headers: {0}\\n'.format(r.headers))\n"
      ],
      "execution_count": 290,
      "outputs": [
        {
          "output_type": "stream",
          "text": [
            "Response status code: 200\n",
            "\n",
            "Response headers: {'Date': 'Mon, 22 Feb 2021 18:03:17 GMT', 'Server': 'Apache', 'Expires': '0', 'Cache-Control': 'private, post-check=0, pre-check=0, max-age=0', 'Pragma': 'no-cache', 'X-Frame-Options': 'deny', 'Set-Cookie': 'domaincheck=1; expires=Tue, 22-Feb-2022 18:03:17 GMT; Max-Age=31536000; path=/; domain=.boot24.ch, lan=chde; expires=Tue, 22-Feb-2022 18:03:17 GMT; Max-Age=31536000; path=/; domain=.boot24.ch, data=a%3A1%3A%7Bs%3A3%3A%22cat%22%3Ba%3A1%3A%7Bi%3A2%3Bi%3A1%3B%7D%7D; expires=Tue, 22-Feb-2022 18:03:17 GMT; Max-Age=31536000; path=/; domain=.boot24.ch', 'Upgrade': 'h2', 'Connection': 'Upgrade, Keep-Alive', 'Vary': 'Accept-Encoding', 'Content-Encoding': 'gzip', 'Content-Length': '12535', 'Keep-Alive': 'timeout=4, max=256', 'Content-Type': 'text/html; charset=utf-8'}\n",
            "\n"
          ],
          "name": "stdout"
        }
      ]
    },
    {
      "cell_type": "markdown",
      "metadata": {
        "id": "w0GBTKBQ8XAX"
      },
      "source": [
        "Now, lets see the raw content of our request. The body of the response here will be in HTML since we are asking for a webpage. Different format such as  JSON or XML could also be imagined for web services."
      ]
    },
    {
      "cell_type": "code",
      "metadata": {
        "colab": {
          "base_uri": "https://localhost:8080/"
        },
        "id": "ULW1S7GM8VOg",
        "outputId": "c25a4eb3-fc40-42ad-9bf2-2c73f7f65bb0"
      },
      "source": [
        "print('Response body: {0}'.format(r.text))\n"
      ],
      "execution_count": 291,
      "outputs": [
        {
          "output_type": "stream",
          "text": [
            "Response body: <!doctype html>\n",
            "<html class=\"no-js\" lang=\"de\" data-lan=\"chde\">\n",
            "<head>\n",
            "<meta charset=\"utf-8\">\n",
            "<meta http-equiv=\"X-UA-Compatible\" content=\"IE=edge\">\n",
            "<title>Furtif 28, modèle unique., 2020, 2h, CHF 295'000.- | boot24.ch</title>\n",
            "<meta name=\"keywords\" content=\"furtif 28, mod&egrave;le unique.,konsolenboot,motorboot,neuboot ab lager,kaufen\" />\n",
            "<meta name=\"description\" content=\"Furtif 28, mod&egrave;le unique. kaufen - Baujahr: 2020, L&auml;nge: 9.00 m, Breite: 2.80 m - Informationen, Fotos &amp; Kontaktangaben zum Occasionsboot. (ID: 463101)\" />\n",
            "<meta name=\"revisit-after\" content=\"1 days\" />\n",
            "<meta name=\"page-topic\" content=\"Occasionsboote, Boote\" />\n",
            "<meta name=\"page-type\" content=\"Anzeigen, Kleinanzeigen\" />\n",
            "<meta name=\"audience\" content=\"all\" />\n",
            "<meta name=\"publisher\" content=\"boot24.ch\" />\n",
            "<meta name=\"copyright\" content=\"boot24.ch\" />\n",
            "<meta name=\"distribution\" content=\"global\" />\n",
            "<meta name=\"author\" content=\"boot24.ch\" />\n",
            "<meta name=\"language\" content=\"de\" />\n",
            "<meta name=\"country\" content=\"CH\" />\n",
            "<meta name=\"viewport\" content=\"width=device-width, initial-scale=1\">\n",
            "<meta name=\"robots\" content=\"index,follow,noodp\" />\n",
            "<meta property=\"fb:pages\" content=\"111820172182512\">\n",
            "<link rel=\"shortcut icon\" href=\"/favicon.ico\">\n",
            "<link rel=\"apple-touch-icon\" sizes=\"180x180\" href=\"/v/a012510/assets/favicons/apple-touch-icon.png\">\n",
            "<link rel=\"icon\" type=\"image/png\" sizes=\"32x32\" href=\"/v/a012510/assets/favicons/favicon-32x32.png\">\n",
            "<link rel=\"icon\" type=\"image/png\" sizes=\"16x16\" href=\"/v/a012510/assets/favicons/favicon-16x16.png\">\n",
            "<link rel=\"manifest\" href=\"/chde/site.webmanifest\">\n",
            "<link rel=\"mask-icon\" href=\"/v/a012510/assets/favicons/safari-pinned-tab.svg\" color=\"#0073c0\">\n",
            "<link rel=\"shortcut icon\" href=\"/v/a012510/assets/favicons/favicon.ico\">\n",
            "<meta name=\"msapplication-TileColor\" content=\"#f5f5f6\">\n",
            "<meta name=\"msapplication-config\" content=\"/v/a012510/assets/favicons/browserconfig.xml\">\n",
            "<meta name=\"theme-color\" content=\"#ffffff\">\n",
            "<link rel=\"stylesheet\" href=\"/v/a012510/css/main.min.css\"><link rel=\"preload\" href=\"/v/a012510/fonts/source-sans-pro-v14-latin-regular.woff2\" as=\"font\" type=\"font/woff2\" crossorigin>\n",
            "<link rel=\"preload\" href=\"/v/a012510/fonts/source-sans-pro-v14-latin-700.woff2\" as=\"font\" type=\"font/woff2\" crossorigin>\n",
            "<link rel=\"preload\" href=\"/v/a012510/fonts/oswald-v35-latin-500.woff2\" as=\"font\" type=\"font/woff2\" crossorigin><script src=\"https://adnz.co/header.js?adTagId=118\"></script><link rel=\"alternate\" type=\"application/rss+xml\" title=\"boot24.ch - Neue Inserate\" href=\"https://www.boot24.ch/chde/rss/latestAds.xml\">\n",
            "<link rel=\"canonical\" href=\"https://www.boot24.ch/chde/motorboote/furtif-28-modele-unique/detail/463101/\">\n",
            "<link rel=\"alternate\" hreflang=\"de\" href=\"https://www.boat24.com/de/motorboote/furtif-28-modele-unique/detail/463101/\">\n",
            "<link rel=\"alternate\" hreflang=\"de-AT\" href=\"https://www.boat24.com/at/motorboote/furtif-28-modele-unique/detail/463101/\">\n",
            "<link rel=\"alternate\" hreflang=\"it\" href=\"https://www.boat24.com/it/barcheamotore/furtif-28-modele-unique/detail/463101/\">\n",
            "<link rel=\"alternate\" hreflang=\"fr\" href=\"https://www.boat24.com/fr/bateauxamoteur/furtif-28-modele-unique/detail/463101/\">\n",
            "<link rel=\"alternate\" hreflang=\"es\" href=\"https://www.boat24.com/es/barcosamotor/furtif-28-modele-unique/detail/463101/\">\n",
            "<link rel=\"alternate\" hreflang=\"pt\" href=\"https://www.boat24.com/pt/barcosamotor/furtif-28-modele-unique/detail/463101/\">\n",
            "<link rel=\"alternate\" hreflang=\"nl\" href=\"https://www.boat24.com/nl/motorboten/furtif-28-modele-unique/detail/463101/\">\n",
            "<link rel=\"alternate\" hreflang=\"nl-BE\" href=\"https://www.boat24.com/bn/motorboten/furtif-28-modele-unique/detail/463101/\">\n",
            "<link rel=\"alternate\" hreflang=\"fr-BE\" href=\"https://www.boat24.com/bf/bateauxamoteur/furtif-28-modele-unique/detail/463101/\">\n",
            "<link rel=\"alternate\" hreflang=\"da\" href=\"https://www.boat24.com/dk/motorbade/furtif-28-modele-unique/detail/463101/\">\n",
            "<link rel=\"alternate\" hreflang=\"sv\" href=\"https://www.boat24.com/se/motorbatar/furtif-28-modele-unique/detail/463101/\">\n",
            "<link rel=\"alternate\" hreflang=\"no\" href=\"https://www.boat24.com/no/motorbater/furtif-28-modele-unique/detail/463101/\">\n",
            "<link rel=\"alternate\" hreflang=\"fi\" href=\"https://www.boat24.com/fi/moottoriveneet/furtif-28-modele-unique/detail/463101/\">\n",
            "<link rel=\"alternate\" hreflang=\"en-GB\" href=\"https://www.boat24.com/uk/powerboats/furtif-28-modele-unique/detail/463101/\">\n",
            "<link rel=\"alternate\" hreflang=\"en-CH\" href=\"https://www.boat24.ch/chen/powerboats/furtif-28-modele-unique/detail/463101/\">\n",
            "<link rel=\"alternate\" hreflang=\"it-CH\" href=\"https://www.barca24.ch/chit/barcheamotore/furtif-28-modele-unique/detail/463101/\">\n",
            "<link rel=\"alternate\" hreflang=\"fr-CH\" href=\"https://www.bateau24.ch/chfr/bateauxamoteur/furtif-28-modele-unique/detail/463101/\">\n",
            "<link rel=\"alternate\" hreflang=\"de-CH\" href=\"https://www.boot24.ch/chde/motorboote/furtif-28-modele-unique/detail/463101/\">\n",
            "<link rel=\"alternate\" hreflang=\"en\" href=\"https://www.boat24.com/en/powerboats/furtif-28-modele-unique/detail/463101/\">\n",
            "<link rel=\"alternate\" hreflang=\"x-default\" href=\"https://www.boat24.com/en/powerboats/furtif-28-modele-unique/detail/463101/\">\n",
            "<script type=\"application/ld+json\">{\"@context\":\"http:\\/\\/schema.org\",\"@graph\":[{\"@type\":\"Vehicle\",\"sku\":\"463101\",\"category\":{\"@type\":\"Thing\",\"name\":\"Motorboot\",\"url\":\"https:\\/\\/www.boot24.ch\\/chde\\/motorboote\\/\"},\"name\":\"Furtif 28, mod\\u00e8le unique.\",\"description\":\"Bateau neuf, construction unique du chantier naval du Vieux Rh\\u00f4ne SA \\u00e0 Noville\\r\\nHomologation CE cat\\u00e9gorie C, 8 personnes + bagages.\\r\\nPlace de port possible au chantier naval du Vieux Rh\\u00f4ne\",\"material\":\"Holz\",\"productionDate\":\"2020\",\"image\":\"https:\\/\\/d196r9c7cfkkpm.cloudfront.net\\/thumbs\\/large\\/463101-1613370867.jpg\",\"offers\":[{\"@type\":\"Offer\",\"price\":\"295000\",\"priceCurrency\":\"CHF\",\"itemCondition\":\"NewCondition\",\"availability\":\"InStock\",\"url\":\"https:\\/\\/www.boot24.ch\\/chde\\/motorboote\\/furtif-28-modele-unique\\/detail\\/463101\\/\",\"offeredBy\":{\"@type\":\"Person\",\"name\":\"Monsieur Ries\",\"telephone\":\"\"}}],\"additionalType\":\"Product\",\"bodyType\":\"Konsolenboot\",\"color\":\"\",\"fuelType\":\"Bleifrei\",\"vehicleEngine\":\"Mercury 1 x 350 PS \\/ 257 kW\"}]}</script><meta property=\"fb:app_id\" content=\"115190235324065\" />\n",
            "<meta property=\"og:site_name\" content=\"boot24.ch\" />\n",
            "<meta property=\"og:type\" content=\"product\">\n",
            "<meta property=\"og:title\" content=\"Furtif 28, modèle unique.\">\n",
            "<meta property=\"og:description\" content=\"Baujahr: 2020, L&amp;auml;nge: 9.00 m, Breite: 2.80 m\">\n",
            "<meta property=\"og:image\" content=\"https://d196r9c7cfkkpm.cloudfront.net/thumbs/xxlarge/463101-1613370867.jpg\">\n",
            "<meta property=\"og:url\" content=\"https://www.boot24.ch/chde/motorboote/furtif-28-modele-unique/detail/463101/\">\n",
            "<meta property=\"og:updated_time\" content=\"1613370867\">\n",
            "\t<script>\n",
            "    (function(h,o,t,j,a,r){\n",
            "        h.hj=h.hj||function(){(h.hj.q=h.hj.q||[]).push(arguments)};\n",
            "        h._hjSettings={hjid:2062964,hjsv:6};\n",
            "        a=o.getElementsByTagName('head')[0];\n",
            "        r=o.createElement('script');r.async=1;\n",
            "        r.src=t+h._hjSettings.hjid+j+h._hjSettings.hjsv;\n",
            "        a.appendChild(r);\n",
            "    })(window,document,'https://static.hotjar.com/c/hotjar-','.js?sv=');\n",
            "\t</script>\n",
            "\t</head>\n",
            "<body id=\"body\" class=\"l-page\">\n",
            "    <header class=\"header\"><a href=\"https://www.boot24.ch/chde/\" title=\"Bootsmarkt f&uuml;r Occasionsboote\" class=\"header__logo\" rel=\"home\"><img src=\"https://www.boot24.ch/logos/logo_boot24_ch.svg\" alt=\"boot24.ch\" class=\"logo\"></a>\n",
            "<nav class=\"header__nav l-hide--md-d\"><ul class=\"header__nav-list\"><li class=\"header__nav-item\"><a href=\"https://www.boot24.ch/chde/occasionsboote/\" title=\"Boot kaufen\" class=\"header__nav-link\">Kaufen</a></li><li class=\"header__nav-item\"><a href=\"https://www.boot24.ch/chde/charter/\" title=\"Boot mieten\" class=\"header__nav-link\">Mieten</a></li><li class=\"header__nav-item\"><a href=\"https://www.boot24.ch/chde/verkaufen/\" title=\"Boot verkaufen\" class=\"header__nav-link\">Verkaufen</a></li><li class=\"header__nav-item\"><a href=\"https://www.boot24.ch/chde/dealers/infos/\" title=\"Für Händler\" class=\"header__nav-link\">Für Händler</a></li><li class=\"header__nav-item\"><a href=\"https://www.boot24.ch/chde/blog/\" title=\"Magazin\" class=\"header__nav-link\">Magazin</a></li></ul></nav><div class=\"header__side\"><a href=\"https://www.boot24.ch/chde/user/favorites/\" class=\"header__favorites\" style=\"display: none\"><span class=\"header__favorites-text\">Favoriten</span><span class=\"badge\">0</span></a><a href=\"https://www.boot24.ch/chde/user/\" title=\"Anmelden\" class=\"header__login button l-hide--sm-d\">Anmelden</a><button class=\"header__menu js-menu-trigger\" data-menu=\"mainmenu\"><span class=\"l-hide--sm-d\">Menü</span></button>\n",
            "<div class=\"menu js-menu\" data-menu=\"mainmenu\">\n",
            "\t<div class=\"menu__container\">\n",
            "\t\t<div class=\"menu__header\">\n",
            "\t\t\t<a href=\"https://www.boot24.ch/chde/\" title=\"Bootsmarkt f&uuml;r Occasionsboote\" class=\"menu__logo\" rel=\"home\"><img src=\"https://www.boot24.ch/logos/logo_boot24_ch.svg\" alt=\"boot24.ch\" class=\"logo\"></a>\n",
            "\t\t\t<button class=\"menu__close js-menu-trigger\" data-menu=\"mainmenu\"></button>\n",
            "\t\t</div>\n",
            "\t\t<div class=\"menu__search\">\n",
            "\t\t\t<div class=\"search search--menu\">\n",
            "\t\t\t\t<form action=\"https://www.boot24.ch/chde/occasionsboote/\" method=\"POST\">\n",
            "\t\t\t\t\t<div class=\"search__field\">\n",
            "\t\t\t\t\t\t<input type=\"search\" name=\"src\" class=\"search__input\" placeholder=\"Suche\">\n",
            "\t\t\t\t\t\t<button type=\"submit\" class=\"search__button button button--primary js-search-action\" title=\"Suchen\">\n",
            "\t\t\t\t\t\t\t<span class=\"icon icon--search\"></span>\n",
            "\t\t\t\t\t\t</button>\n",
            "\t\t\t\t\t</div>\n",
            "\t\t\t\t</form>\n",
            "\t\t\t\t<a href=\"https://www.boot24.ch/chde/suchen/\" title=\"Detailsuche\" class=\"link link--internal link--small l-mt-16\">Detailsuche</a>\t\t\t</div>\n",
            "\t\t</div>\n",
            "\t\t<div class=\"menu__content l-mt-32 l-mb-32\"><a href=\"https://www.boot24.ch/chde/verkaufen/\" title=\"Verkaufen\" class=\"button button--primary button--full-width\">Verkaufen</a></div><div class=\"menu__usernav menu__usernav--light\"><a href=\"https://www.boot24.ch/chde/user/\" title=\"Anmelden\" class=\"button button--full-width\">Anmelden</a></div><ul class=\"menu__list\"><li class=\"menu__list-item\"><a href=\"https://www.boot24.ch/chde/src/checkliste_gebrauchtboot/\" title=\"Checkliste Bootskauf\" class=\"menu__list-link\">Checkliste Bootskauf</a></li><li class=\"menu__list-item\"><a href=\"https://www.boot24.ch/chde/service/kaufvertrag_fuer_gebrauchtboote/\" title=\"Vertragsvorlage\" class=\"menu__list-link\">Vertragsvorlage</a></li><li class=\"menu__list-item\"><a href=\"https://www.boot24.ch/chde/blog/\" title=\"Magazin\" class=\"menu__list-link\">Magazin</a></li><li class=\"menu__list-item\"><a href=\"https://www.boot24.ch/chde/schools/\" title=\"Bootsfahrschulen\" class=\"menu__list-link\">Bootsfahrschulen</a></li><li class=\"menu__list-item\"><a href=\"https://www.boot24.ch/chde/service/temperaturen/\" title=\"Seetemperaturen\" class=\"menu__list-link\">Seetemperaturen</a></li></ul><ul class=\"menu__list menu__list--alternative\"><li class=\"menu__list-item menu__list-item--submenu js-accordion\"><a href=\"https://www.boot24.ch/chde/motorboote/\" title=\"Motorboote\" class=\"menu__list-link\"><img src=\"/img/alpha.gif\" class=\"icon icon--bigger image--lazy lazyload\" data-src=\"/v/a012510/assets/icons/boat-types/large/type-2-406.svg\" alt=\"Motorboote\">Motorboote</a><span class=\"menu__list-accordion js-accordion-trigger\"></span><ul class=\"menu__list\"><li class=\"menu__list-item\"><a href=\"https://www.boot24.ch/chde/motorboote/kajuetboot/?typ=821\" title=\"Kaj&uuml;tboot\" class=\"menu__list-link\"><img src=\"/img/alpha.gif\" class=\"icon icon--bigger image--lazy lazyload\" data-src=\"/v/a012510/assets/icons/boat-types/large/type-2-821.svg\" alt=\"Kaj&uuml;tboot\">Kajütboot</a></li><li class=\"menu__list-item\"><a href=\"https://www.boot24.ch/chde/motorboote/motorkatamaran/?typ=823\" title=\"Motorkatamaran\" class=\"menu__list-link\"><img src=\"/img/alpha.gif\" class=\"icon icon--bigger image--lazy lazyload\" data-src=\"/v/a012510/assets/icons/boat-types/large/type-2-823.svg\" alt=\"Motorkatamaran\">Motorkatamaran</a></li><li class=\"menu__list-item\"><a href=\"https://www.boot24.ch/chde/motorboote/motoryacht/?typ=824\" title=\"Motoryacht\" class=\"menu__list-link\"><img src=\"/img/alpha.gif\" class=\"icon icon--bigger image--lazy lazyload\" data-src=\"/v/a012510/assets/icons/boat-types/large/type-2-824.svg\" alt=\"Motoryacht\">Motoryacht</a></li><li class=\"menu__list-item\"><a href=\"https://www.boot24.ch/chde/motorboote/offshoreboot/?typ=825\" title=\"Offshoreboot\" class=\"menu__list-link\"><img src=\"/img/alpha.gif\" class=\"icon icon--bigger image--lazy lazyload\" data-src=\"/v/a012510/assets/icons/boat-types/large/type-2-825.svg\" alt=\"Offshoreboot\">Offshoreboot</a></li><li class=\"menu__list-item\"><a href=\"https://www.boot24.ch/chde/motorboote/runabout/?typ=826\" title=\"Runabout\" class=\"menu__list-link\"><img src=\"/img/alpha.gif\" class=\"icon icon--bigger image--lazy lazyload\" data-src=\"/v/a012510/assets/icons/boat-types/large/type-2-826.svg\" alt=\"Runabout\">Runabout</a></li><li class=\"menu__list-item\"><a href=\"https://www.boot24.ch/chde/motorboote/sportboot/?typ=827\" title=\"Sportboot\" class=\"menu__list-link\"><img src=\"/img/alpha.gif\" class=\"icon icon--bigger image--lazy lazyload\" data-src=\"/v/a012510/assets/icons/boat-types/large/type-2-827.svg\" alt=\"Sportboot\">Sportboot</a></li><li class=\"menu__list-item\"><a href=\"https://www.boot24.ch/chde/motorboote/pilothaus/?typ=2127\" title=\"Pilothaus\" class=\"menu__list-link\"><img src=\"/img/alpha.gif\" class=\"icon icon--bigger image--lazy lazyload\" data-src=\"/v/a012510/assets/icons/boat-types/large/type-2-2127.svg\" alt=\"Pilothaus\">Pilothaus</a></li><li class=\"menu__list-item\"><a href=\"https://www.boot24.ch/chde/motorboote/bowrider/?typ=2104\" title=\"Bowrider\" class=\"menu__list-link\"><img src=\"/img/alpha.gif\" class=\"icon icon--bigger image--lazy lazyload\" data-src=\"/v/a012510/assets/icons/boat-types/large/type-2-2104.svg\" alt=\"Bowrider\">Bowrider</a></li><li class=\"menu__list-item\"><a href=\"https://www.boot24.ch/chde/motorboote/deckboot/?typ=2105\" title=\"Deckboot\" class=\"menu__list-link\"><img src=\"/img/alpha.gif\" class=\"icon icon--bigger image--lazy lazyload\" data-src=\"/v/a012510/assets/icons/boat-types/large/type-2-2105.svg\" alt=\"Deckboot\">Deckboot</a></li><li class=\"menu__list-item\"><a href=\"https://www.boot24.ch/chde/motorboote/arbeitsboot/?typ=562\" title=\"Arbeitsboot\" class=\"menu__list-link\"><img src=\"/img/alpha.gif\" class=\"icon icon--bigger image--lazy lazyload\" data-src=\"/v/a012510/assets/icons/boat-types/large/type-2-562.svg\" alt=\"Arbeitsboot\">Arbeitsboot</a></li><li class=\"menu__list-item\"><a href=\"https://www.boot24.ch/chde/motorboote/fischerboot/?typ=1919\" title=\"Fischerboot\" class=\"menu__list-link\"><img src=\"/img/alpha.gif\" class=\"icon icon--bigger image--lazy lazyload\" data-src=\"/v/a012510/assets/icons/boat-types/large/type-2-1919.svg\" alt=\"Fischerboot\">Fischerboot</a></li><li class=\"menu__list-item\"><a href=\"https://www.boot24.ch/chde/motorboote/verdraenger/?typ=3493\" title=\"Verdr&auml;nger\" class=\"menu__list-link\"><img src=\"/img/alpha.gif\" class=\"icon icon--bigger image--lazy lazyload\" data-src=\"/v/a012510/assets/icons/boat-types/large/type-2-3493.svg\" alt=\"Verdr&auml;nger\">Verdränger</a></li><li class=\"menu__list-item\"><a href=\"https://www.boot24.ch/chde/motorboote/hausboot/?typ=2123\" title=\"Hausboot\" class=\"menu__list-link\"><img src=\"/img/alpha.gif\" class=\"icon icon--bigger image--lazy lazyload\" data-src=\"/v/a012510/assets/icons/boat-types/large/type-2-2123.svg\" alt=\"Hausboot\">Hausboot</a></li><li class=\"menu__list-item\"><a href=\"https://www.boot24.ch/chde/motorboote/flybridge/?typ=406\" title=\"Flybridge\" class=\"menu__list-link\"><img src=\"/img/alpha.gif\" class=\"icon icon--bigger image--lazy lazyload\" data-src=\"/v/a012510/assets/icons/boat-types/large/type-2-406.svg\" alt=\"Flybridge\">Flybridge</a></li><li class=\"menu__list-item\"><a href=\"https://www.boot24.ch/chde/motorboote/superyacht/?typ=2126\" title=\"Superyacht\" class=\"menu__list-link\"><img src=\"/img/alpha.gif\" class=\"icon icon--bigger image--lazy lazyload\" data-src=\"/v/a012510/assets/icons/boat-types/large/type-2-2126.svg\" alt=\"Superyacht\">Superyacht</a></li><li class=\"menu__list-item\"><a href=\"https://www.boot24.ch/chde/motorboote/ponton-boot/?typ=2113\" title=\"Ponton-Boot\" class=\"menu__list-link\"><img src=\"/img/alpha.gif\" class=\"icon icon--bigger image--lazy lazyload\" data-src=\"/v/a012510/assets/icons/boat-types/large/type-2-2113.svg\" alt=\"Ponton-Boot\">Ponton-Boot</a></li><li class=\"menu__list-item\"><a href=\"https://www.boot24.ch/chde/motorboote/hardtop/?typ=2665\" title=\"Hardtop\" class=\"menu__list-link\"><img src=\"/img/alpha.gif\" class=\"icon icon--bigger image--lazy lazyload\" data-src=\"/v/a012510/assets/icons/boat-types/large/type-2-2665.svg\" alt=\"Hardtop\">Hardtop</a></li><li class=\"menu__list-item\"><a href=\"https://www.boot24.ch/chde/motorboote/klassiker/?typ=4545\" title=\"Klassiker\" class=\"menu__list-link\"><img src=\"/img/alpha.gif\" class=\"icon icon--bigger image--lazy lazyload\" data-src=\"/v/a012510/assets/icons/boat-types/large/type-2-4545.svg\" alt=\"Klassiker\">Klassiker</a></li><li class=\"menu__list-item\"><a href=\"https://www.boot24.ch/chde/motorboote/konsolenboot/?typ=2119\" title=\"Konsolenboot\" class=\"menu__list-link\"><img src=\"/img/alpha.gif\" class=\"icon icon--bigger image--lazy lazyload\" data-src=\"/v/a012510/assets/icons/boat-types/large/type-2-2119.svg\" alt=\"Konsolenboot\">Konsolenboot</a></li><li class=\"menu__list-item\"><a href=\"https://www.boot24.ch/chde/motorboote/fahrgastschiff/?typ=4551\" title=\"Fahrgastschiff\" class=\"menu__list-link\"><img src=\"/img/alpha.gif\" class=\"icon icon--bigger image--lazy lazyload\" data-src=\"/v/a012510/assets/icons/boat-types/large/type-2-4551.svg\" alt=\"Fahrgastschiff\">Fahrgastschiff</a></li><li class=\"menu__list-item\"><a href=\"https://www.boot24.ch/chde/motorboote/wasserski/?typ=4552\" title=\"Wasserski\" class=\"menu__list-link\"><img src=\"/img/alpha.gif\" class=\"icon icon--bigger image--lazy lazyload\" data-src=\"/v/a012510/assets/icons/boat-types/large/type-2-4552.svg\" alt=\"Wasserski\">Wasserski</a></li><li class=\"menu__list-item\"><a href=\"https://www.boot24.ch/chde/motorboote/wakeboardwakesurf/?typ=4553\" title=\"Wakeboard/Wakesurf\" class=\"menu__list-link\"><img src=\"/img/alpha.gif\" class=\"icon icon--bigger image--lazy lazyload\" data-src=\"/v/a012510/assets/icons/boat-types/large/type-2-4553.svg\" alt=\"Wakeboard/Wakesurf\">Wakeboard/Wakesurf</a></li><li class=\"menu__list-item\"><a href=\"https://www.boot24.ch/chde/motorboote/tuckerboot/?typ=4562\" title=\"Tuckerboot\" class=\"menu__list-link\"><img src=\"/img/alpha.gif\" class=\"icon icon--bigger image--lazy lazyload\" data-src=\"/v/a012510/assets/icons/boat-types/large/type-2-4562.svg\" alt=\"Tuckerboot\">Tuckerboot</a></li></ul></li><li class=\"menu__list-item menu__list-item--submenu js-accordion\"><a href=\"https://www.boot24.ch/chde/segelboote/\" title=\"Segelboote\" class=\"menu__list-link\"><img src=\"/img/alpha.gif\" class=\"icon icon--bigger image--lazy lazyload\" data-src=\"/v/a012510/assets/icons/boat-types/large/type-1-230.svg\" alt=\"Segelboote\">Segelboote</a><span class=\"menu__list-accordion js-accordion-trigger\"></span><ul class=\"menu__list\"><li class=\"menu__list-item\"><a href=\"https://www.boot24.ch/chde/segelboote/segelyacht/?typ=230\" title=\"Segelyacht\" class=\"menu__list-link\"><img src=\"/img/alpha.gif\" class=\"icon icon--bigger image--lazy lazyload\" data-src=\"/v/a012510/assets/icons/boat-types/large/type-1-230.svg\" alt=\"Segelyacht\">Segelyacht</a></li><li class=\"menu__list-item\"><a href=\"https://www.boot24.ch/chde/segelboote/katamaran/?typ=231\" title=\"Katamaran\" class=\"menu__list-link\"><img src=\"/img/alpha.gif\" class=\"icon icon--bigger image--lazy lazyload\" data-src=\"/v/a012510/assets/icons/boat-types/large/type-1-231.svg\" alt=\"Katamaran\">Katamaran</a></li><li class=\"menu__list-item\"><a href=\"https://www.boot24.ch/chde/segelboote/motorsegler/?typ=232\" title=\"Motorsegler\" class=\"menu__list-link\"><img src=\"/img/alpha.gif\" class=\"icon icon--bigger image--lazy lazyload\" data-src=\"/v/a012510/assets/icons/boat-types/large/type-1-232.svg\" alt=\"Motorsegler\">Motorsegler</a></li><li class=\"menu__list-item\"><a href=\"https://www.boot24.ch/chde/segelboote/kielboot/?typ=235\" title=\"Kielboot\" class=\"menu__list-link\"><img src=\"/img/alpha.gif\" class=\"icon icon--bigger image--lazy lazyload\" data-src=\"/v/a012510/assets/icons/boat-types/large/type-1-235.svg\" alt=\"Kielboot\">Kielboot</a></li><li class=\"menu__list-item\"><a href=\"https://www.boot24.ch/chde/segelboote/jolle/?typ=236\" title=\"Jolle\" class=\"menu__list-link\"><img src=\"/img/alpha.gif\" class=\"icon icon--bigger image--lazy lazyload\" data-src=\"/v/a012510/assets/icons/boat-types/large/type-1-236.svg\" alt=\"Jolle\">Jolle</a></li><li class=\"menu__list-item\"><a href=\"https://www.boot24.ch/chde/segelboote/regattaboot/?typ=566\" title=\"Regattaboot\" class=\"menu__list-link\"><img src=\"/img/alpha.gif\" class=\"icon icon--bigger image--lazy lazyload\" data-src=\"/v/a012510/assets/icons/boat-types/large/type-1-566.svg\" alt=\"Regattaboot\">Regattaboot</a></li><li class=\"menu__list-item\"><a href=\"https://www.boot24.ch/chde/segelboote/trimaran/?typ=2577\" title=\"Trimaran\" class=\"menu__list-link\"><img src=\"/img/alpha.gif\" class=\"icon icon--bigger image--lazy lazyload\" data-src=\"/v/a012510/assets/icons/boat-types/large/type-1-2577.svg\" alt=\"Trimaran\">Trimaran</a></li><li class=\"menu__list-item\"><a href=\"https://www.boot24.ch/chde/segelboote/daysailer/?typ=2114\" title=\"Daysailer\" class=\"menu__list-link\"><img src=\"/img/alpha.gif\" class=\"icon icon--bigger image--lazy lazyload\" data-src=\"/v/a012510/assets/icons/boat-types/large/type-1-2114.svg\" alt=\"Daysailer\">Daysailer</a></li><li class=\"menu__list-item\"><a href=\"https://www.boot24.ch/chde/segelboote/plattbodenschiff/?typ=4193\" title=\"Plattbodenschiff\" class=\"menu__list-link\"><img src=\"/img/alpha.gif\" class=\"icon icon--bigger image--lazy lazyload\" data-src=\"/v/a012510/assets/icons/boat-types/large/type-1-4193.svg\" alt=\"Plattbodenschiff\">Plattbodenschiff</a></li><li class=\"menu__list-item\"><a href=\"https://www.boot24.ch/chde/segelboote/superyacht/?typ=2126\" title=\"Superyacht\" class=\"menu__list-link\"><img src=\"/img/alpha.gif\" class=\"icon icon--bigger image--lazy lazyload\" data-src=\"/v/a012510/assets/icons/boat-types/large/type-1-2126.svg\" alt=\"Superyacht\">Superyacht</a></li><li class=\"menu__list-item\"><a href=\"https://www.boot24.ch/chde/segelboote/ketch/?typ=390\" title=\"Ketch\" class=\"menu__list-link\"><img src=\"/img/alpha.gif\" class=\"icon icon--bigger image--lazy lazyload\" data-src=\"/v/a012510/assets/icons/boat-types/large/type-1-390.svg\" alt=\"Ketch\">Ketch</a></li><li class=\"menu__list-item\"><a href=\"https://www.boot24.ch/chde/segelboote/klassiker/?typ=4545\" title=\"Klassiker\" class=\"menu__list-link\"><img src=\"/img/alpha.gif\" class=\"icon icon--bigger image--lazy lazyload\" data-src=\"/v/a012510/assets/icons/boat-types/large/type-1-4545.svg\" alt=\"Klassiker\">Klassiker</a></li><li class=\"menu__list-item\"><a href=\"https://www.boot24.ch/chde/segelboote/gulet/?typ=4546\" title=\"Gulet\" class=\"menu__list-link\"><img src=\"/img/alpha.gif\" class=\"icon icon--bigger image--lazy lazyload\" data-src=\"/v/a012510/assets/icons/boat-types/large/type-1-4546.svg\" alt=\"Gulet\">Gulet</a></li><li class=\"menu__list-item\"><a href=\"https://www.boot24.ch/chde/segelboote/center-cockpit/?typ=4547\" title=\"Center Cockpit\" class=\"menu__list-link\"><img src=\"/img/alpha.gif\" class=\"icon icon--bigger image--lazy lazyload\" data-src=\"/v/a012510/assets/icons/boat-types/large/type-1-4547.svg\" alt=\"Center Cockpit\">Center Cockpit</a></li><li class=\"menu__list-item\"><a href=\"https://www.boot24.ch/chde/segelboote/blauwasseryacht/?typ=4548\" title=\"Blauwasseryacht\" class=\"menu__list-link\"><img src=\"/img/alpha.gif\" class=\"icon icon--bigger image--lazy lazyload\" data-src=\"/v/a012510/assets/icons/boat-types/large/type-1-4548.svg\" alt=\"Blauwasseryacht\">Blauwasseryacht</a></li><li class=\"menu__list-item\"><a href=\"https://www.boot24.ch/chde/segelboote/decksalon/?typ=4555\" title=\"Decksalon\" class=\"menu__list-link\"><img src=\"/img/alpha.gif\" class=\"icon icon--bigger image--lazy lazyload\" data-src=\"/v/a012510/assets/icons/boat-types/large/type-1-4555.svg\" alt=\"Decksalon\">Decksalon</a></li><li class=\"menu__list-item\"><a href=\"https://www.boot24.ch/chde/segelboote/jollenkreuzer/?typ=4563\" title=\"Jollenkreuzer\" class=\"menu__list-link\"><img src=\"/img/alpha.gif\" class=\"icon icon--bigger image--lazy lazyload\" data-src=\"/v/a012510/assets/icons/boat-types/large/type-1-4563.svg\" alt=\"Jollenkreuzer\">Jollenkreuzer</a></li></ul></li><li class=\"menu__list-item menu__list-item--submenu js-accordion\"><a href=\"https://www.boot24.ch/chde/schlauchboote/\" title=\"Schlauchboote\" class=\"menu__list-link\"><img src=\"/img/alpha.gif\" class=\"icon icon--bigger image--lazy lazyload\" data-src=\"/v/a012510/assets/icons/boat-types/large/type-4-563.svg\" alt=\"Schlauchboote\">Schlauchboote</a><span class=\"menu__list-accordion js-accordion-trigger\"></span><ul class=\"menu__list\"><li class=\"menu__list-item\"><a href=\"https://www.boot24.ch/chde/schlauchboote/beiboot-dinghi/?typ=563\" title=\"Beiboot / Dinghi\" class=\"menu__list-link\"><img src=\"/img/alpha.gif\" class=\"icon icon--bigger image--lazy lazyload\" data-src=\"/v/a012510/assets/icons/boat-types/large/type-4-563.svg\" alt=\"Beiboot / Dinghi\">Beiboot / Dinghi</a></li><li class=\"menu__list-item\"><a href=\"https://www.boot24.ch/chde/schlauchboote/festrumpfschlauchboot/?typ=2103\" title=\"Festrumpfschlauchboot\" class=\"menu__list-link\"><img src=\"/img/alpha.gif\" class=\"icon icon--bigger image--lazy lazyload\" data-src=\"/v/a012510/assets/icons/boat-types/large/type-4-2103.svg\" alt=\"Festrumpfschlauchboot\">Festrumpfschlauchboot</a></li></ul></li><li class=\"menu__list-item menu__list-item--submenu js-accordion\"><a href=\"https://www.boot24.ch/chde/kleinboote/\" title=\"Kleinboote\" class=\"menu__list-link\"><img src=\"/img/alpha.gif\" class=\"icon icon--bigger image--lazy lazyload\" data-src=\"/v/a012510/assets/icons/boat-types/large/type-5-3223.svg\" alt=\"Kleinboote\">Kleinboote</a><span class=\"menu__list-accordion js-accordion-trigger\"></span><ul class=\"menu__list\"><li class=\"menu__list-item\"><a href=\"https://www.boot24.ch/chde/kleinboote/beiboot-dinghi/?typ=563\" title=\"Beiboot / Dinghi\" class=\"menu__list-link\"><img src=\"/img/alpha.gif\" class=\"icon icon--bigger image--lazy lazyload\" data-src=\"/v/a012510/assets/icons/boat-types/large/type-5-563.svg\" alt=\"Beiboot / Dinghi\">Beiboot / Dinghi</a></li><li class=\"menu__list-item\"><a href=\"https://www.boot24.ch/chde/kleinboote/kanu/?typ=2307\" title=\"Kanu\" class=\"menu__list-link\"><img src=\"/img/alpha.gif\" class=\"icon icon--bigger image--lazy lazyload\" data-src=\"/v/a012510/assets/icons/boat-types/large/type-5-2307.svg\" alt=\"Kanu\">Kanu</a></li><li class=\"menu__list-item\"><a href=\"https://www.boot24.ch/chde/kleinboote/ruderboot/?typ=3223\" title=\"Ruderboot\" class=\"menu__list-link\"><img src=\"/img/alpha.gif\" class=\"icon icon--bigger image--lazy lazyload\" data-src=\"/v/a012510/assets/icons/boat-types/large/type-5-3223.svg\" alt=\"Ruderboot\">Ruderboot</a></li><li class=\"menu__list-item\"><a href=\"https://www.boot24.ch/chde/kleinboote/jetski/?typ=2111\" title=\"Jetski\" class=\"menu__list-link\"><img src=\"/img/alpha.gif\" class=\"icon icon--bigger image--lazy lazyload\" data-src=\"/v/a012510/assets/icons/boat-types/large/type-5-2111.svg\" alt=\"Jetski\">Jetski</a></li><li class=\"menu__list-item\"><a href=\"https://www.boot24.ch/chde/kleinboote/pedalo/?typ=4554\" title=\"Pedalo\" class=\"menu__list-link\"><img src=\"/img/alpha.gif\" class=\"icon icon--bigger image--lazy lazyload\" data-src=\"/v/a012510/assets/icons/boat-types/large/type-5-4554.svg\" alt=\"Pedalo\">Pedalo</a></li></ul></li><li class=\"menu__list-item menu__list-item--submenu js-accordion\"><a href=\"https://www.boot24.ch/chde/trailer/\" title=\"Trailer\" class=\"menu__list-link\"><img src=\"/img/alpha.gif\" class=\"icon icon--bigger image--lazy lazyload\" data-src=\"/v/a012510/assets/icons/boat-types/large/type-7-679.svg\" alt=\"Trailer\">Trailer</a><span class=\"menu__list-accordion js-accordion-trigger\"></span><ul class=\"menu__list\"><li class=\"menu__list-item\"><a href=\"https://www.boot24.ch/chde/trailer/einachser/?typ=677\" title=\"Einachser\" class=\"menu__list-link\"><img src=\"/img/alpha.gif\" class=\"icon icon--bigger image--lazy lazyload\" data-src=\"/v/a012510/assets/icons/boat-types/large/type-7-677.svg\" alt=\"Einachser\">Einachser</a></li><li class=\"menu__list-item\"><a href=\"https://www.boot24.ch/chde/trailer/zweiachser/?typ=679\" title=\"Zweiachser\" class=\"menu__list-link\"><img src=\"/img/alpha.gif\" class=\"icon icon--bigger image--lazy lazyload\" data-src=\"/v/a012510/assets/icons/boat-types/large/type-7-679.svg\" alt=\"Zweiachser\">Zweiachser</a></li><li class=\"menu__list-item\"><a href=\"https://www.boot24.ch/chde/trailer/dreiachser/?typ=676\" title=\"Dreiachser\" class=\"menu__list-link\"><img src=\"/img/alpha.gif\" class=\"icon icon--bigger image--lazy lazyload\" data-src=\"/v/a012510/assets/icons/boat-types/large/type-7-676.svg\" alt=\"Dreiachser\">Dreiachser</a></li><li class=\"menu__list-item\"><a href=\"https://www.boot24.ch/chde/trailer/hafentrailer/?typ=678\" title=\"Hafentrailer\" class=\"menu__list-link\"><img src=\"/img/alpha.gif\" class=\"icon icon--bigger image--lazy lazyload\" data-src=\"/v/a012510/assets/icons/boat-types/large/type-7-678.svg\" alt=\"Hafentrailer\">Hafentrailer</a></li><li class=\"menu__list-item\"><a href=\"https://www.boot24.ch/chde/trailer/winterlagertrailer/?typ=681\" title=\"Winterlagertrailer\" class=\"menu__list-link\"><img src=\"/img/alpha.gif\" class=\"icon icon--bigger image--lazy lazyload\" data-src=\"/v/a012510/assets/icons/boat-types/large/type-7-681.svg\" alt=\"Winterlagertrailer\">Winterlagertrailer</a></li></ul></li><li class=\"menu__list-item menu__list-item--submenu js-accordion\"><a href=\"https://www.boot24.ch/chde/bootsmotoren/\" title=\"Bootsmotoren\" class=\"menu__list-link\"><img src=\"/img/alpha.gif\" class=\"icon icon--bigger image--lazy lazyload\" data-src=\"/v/a012510/assets/icons/boat-types/large/type-8-352.svg\" alt=\"Bootsmotoren\">Bootsmotoren</a><span class=\"menu__list-accordion js-accordion-trigger\"></span><ul class=\"menu__list\"><li class=\"menu__list-item\"><a href=\"https://www.boot24.ch/chde/bootsmotoren/aussenborder/?typ=352\" title=\"Aussenborder\" class=\"menu__list-link\"><img src=\"/img/alpha.gif\" class=\"icon icon--bigger image--lazy lazyload\" data-src=\"/v/a012510/assets/icons/boat-types/large/type-8-352.svg\" alt=\"Aussenborder\">Aussenborder</a></li><li class=\"menu__list-item\"><a href=\"https://www.boot24.ch/chde/bootsmotoren/innenborder/?typ=1313\" title=\"Innenborder\" class=\"menu__list-link\"><img src=\"/img/alpha.gif\" class=\"icon icon--bigger image--lazy lazyload\" data-src=\"/v/a012510/assets/icons/boat-types/large/type-8-1313.svg\" alt=\"Innenborder\">Innenborder</a></li></ul></li><li class=\"menu__list-item menu__list-item--submenu js-accordion\"><a href=\"https://www.boot24.ch/chde/liegeplaetze/\" title=\"Liegepl&auml;tze\" class=\"menu__list-link\"><img src=\"/img/alpha.gif\" class=\"icon icon--bigger image--lazy lazyload\" data-src=\"/v/a012510/assets/icons/boat-types/large/type-9-4559.svg\" alt=\"Liegepl&auml;tze\">Liegeplätze</a><span class=\"menu__list-accordion js-accordion-trigger\"></span><ul class=\"menu__list\"><li class=\"menu__list-item\"><a href=\"https://www.boot24.ch/chde/liegeplaetze/halle-beheizt/?typ=1346\" title=\"Halle beheizt\" class=\"menu__list-link\"><img src=\"/img/alpha.gif\" class=\"icon icon--bigger image--lazy lazyload\" data-src=\"/v/a012510/assets/icons/boat-types/large/type-9-1346.svg\" alt=\"Halle beheizt\">Halle beheizt</a></li><li class=\"menu__list-item\"><a href=\"https://www.boot24.ch/chde/liegeplaetze/halle-unbeheizt/?typ=1347\" title=\"Halle unbeheizt\" class=\"menu__list-link\"><img src=\"/img/alpha.gif\" class=\"icon icon--bigger image--lazy lazyload\" data-src=\"/v/a012510/assets/icons/boat-types/large/type-9-1347.svg\" alt=\"Halle unbeheizt\">Halle unbeheizt</a></li><li class=\"menu__list-item\"><a href=\"https://www.boot24.ch/chde/liegeplaetze/bootshaus/?typ=1342\" title=\"Bootshaus\" class=\"menu__list-link\"><img src=\"/img/alpha.gif\" class=\"icon icon--bigger image--lazy lazyload\" data-src=\"/v/a012510/assets/icons/boat-types/large/type-9-1342.svg\" alt=\"Bootshaus\">Bootshaus</a></li><li class=\"menu__list-item\"><a href=\"https://www.boot24.ch/chde/liegeplaetze/fester-steg/?typ=4557\" title=\"Fester Steg\" class=\"menu__list-link\"><img src=\"/img/alpha.gif\" class=\"icon icon--bigger image--lazy lazyload\" data-src=\"/v/a012510/assets/icons/boat-types/large/type-9-4557.svg\" alt=\"Fester Steg\">Fester Steg</a></li><li class=\"menu__list-item\"><a href=\"https://www.boot24.ch/chde/liegeplaetze/mooringleine/?typ=4558\" title=\"Mooringleine\" class=\"menu__list-link\"><img src=\"/img/alpha.gif\" class=\"icon icon--bigger image--lazy lazyload\" data-src=\"/v/a012510/assets/icons/boat-types/large/type-9-4558.svg\" alt=\"Mooringleine\">Mooringleine</a></li><li class=\"menu__list-item\"><a href=\"https://www.boot24.ch/chde/liegeplaetze/bojenliegeplatz/?typ=1993\" title=\"Bojenliegeplatz\" class=\"menu__list-link\"><img src=\"/img/alpha.gif\" class=\"icon icon--bigger image--lazy lazyload\" data-src=\"/v/a012510/assets/icons/boat-types/large/type-9-1993.svg\" alt=\"Bojenliegeplatz\">Bojenliegeplatz</a></li><li class=\"menu__list-item\"><a href=\"https://www.boot24.ch/chde/liegeplaetze/aussenlager/?typ=1340\" title=\"Aussenlager\" class=\"menu__list-link\"><img src=\"/img/alpha.gif\" class=\"icon icon--bigger image--lazy lazyload\" data-src=\"/v/a012510/assets/icons/boat-types/large/type-9-1340.svg\" alt=\"Aussenlager\">Aussenlager</a></li><li class=\"menu__list-item\"><a href=\"https://www.boot24.ch/chde/liegeplaetze/schwimmsteg/?typ=4549\" title=\"Schwimmsteg\" class=\"menu__list-link\"><img src=\"/img/alpha.gif\" class=\"icon icon--bigger image--lazy lazyload\" data-src=\"/v/a012510/assets/icons/boat-types/large/type-9-4549.svg\" alt=\"Schwimmsteg\">Schwimmsteg</a></li><li class=\"menu__list-item\"><a href=\"https://www.boot24.ch/chde/liegeplaetze/stellplatz/?typ=1352\" title=\"Stellplatz\" class=\"menu__list-link\"><img src=\"/img/alpha.gif\" class=\"icon icon--bigger image--lazy lazyload\" data-src=\"/v/a012510/assets/icons/boat-types/large/type-9-1352.svg\" alt=\"Stellplatz\">Stellplatz</a></li><li class=\"menu__list-item\"><a href=\"https://www.boot24.ch/chde/liegeplaetze/dalben/?typ=4559\" title=\"Dalben\" class=\"menu__list-link\"><img src=\"/img/alpha.gif\" class=\"icon icon--bigger image--lazy lazyload\" data-src=\"/v/a012510/assets/icons/boat-types/large/type-9-4559.svg\" alt=\"Dalben\">Dalben</a></li></ul></li><li class=\"menu__list-item menu__list-item--submenu js-accordion\"><a href=\"https://www.boot24.ch/chde/bootszubehoer/\" title=\"Bootszubeh&ouml;r\" class=\"menu__list-link\"><img src=\"/img/alpha.gif\" class=\"icon icon--bigger image--lazy lazyload\" data-src=\"/v/a012510/assets/icons/boat-types/large/type-12-1823.svg\" alt=\"Bootszubeh&ouml;r\">Bootszubehör</a><span class=\"menu__list-accordion js-accordion-trigger\"></span><ul class=\"menu__list\"><li class=\"menu__list-item\"><a href=\"https://www.boot24.ch/chde/bootszubehoer/bordelektrik/?typ=1656\" title=\"Bordelektrik\" class=\"menu__list-link\"><img src=\"/img/alpha.gif\" class=\"icon icon--bigger image--lazy lazyload\" data-src=\"/v/a012510/assets/icons/boat-types/large/type-12-1656.svg\" alt=\"Bordelektrik\">Bordelektrik</a></li><li class=\"menu__list-item\"><a href=\"https://www.boot24.ch/chde/bootszubehoer/ersatzteil/?typ=1981\" title=\"Ersatzteil\" class=\"menu__list-link\"><img src=\"/img/alpha.gif\" class=\"icon icon--bigger image--lazy lazyload\" data-src=\"/v/a012510/assets/icons/boat-types/large/type-12-1981.svg\" alt=\"Ersatzteil\">Ersatzteil</a></li><li class=\"menu__list-item\"><a href=\"https://www.boot24.ch/chde/bootszubehoer/anderes/?typ=1134\" title=\"Anderes\" class=\"menu__list-link\"><img src=\"/img/alpha.gif\" class=\"icon icon--bigger image--lazy lazyload\" data-src=\"/v/a012510/assets/icons/boat-types/large/type-12-1134.svg\" alt=\"Anderes\">Anderes</a></li><li class=\"menu__list-item\"><a href=\"https://www.boot24.ch/chde/bootszubehoer/segel/?typ=3868\" title=\"Segel\" class=\"menu__list-link\"><img src=\"/img/alpha.gif\" class=\"icon icon--bigger image--lazy lazyload\" data-src=\"/v/a012510/assets/icons/boat-types/large/type-12-3868.svg\" alt=\"Segel\">Segel</a></li><li class=\"menu__list-item\"><a href=\"https://www.boot24.ch/chde/bootszubehoer/sicherheit/?typ=1823\" title=\"Sicherheit\" class=\"menu__list-link\"><img src=\"/img/alpha.gif\" class=\"icon icon--bigger image--lazy lazyload\" data-src=\"/v/a012510/assets/icons/boat-types/large/type-12-1823.svg\" alt=\"Sicherheit\">Sicherheit</a></li><li class=\"menu__list-item\"><a href=\"https://www.boot24.ch/chde/bootszubehoer/beschlaege/?typ=1824\" title=\"Beschl&auml;ge\" class=\"menu__list-link\"><img src=\"/img/alpha.gif\" class=\"icon icon--bigger image--lazy lazyload\" data-src=\"/v/a012510/assets/icons/boat-types/large/type-12-1824.svg\" alt=\"Beschl&auml;ge\">Beschläge</a></li><li class=\"menu__list-item\"><a href=\"https://www.boot24.ch/chde/bootszubehoer/bekleidung/?typ=1825\" title=\"Bekleidung\" class=\"menu__list-link\"><img src=\"/img/alpha.gif\" class=\"icon icon--bigger image--lazy lazyload\" data-src=\"/v/a012510/assets/icons/boat-types/large/type-12-1825.svg\" alt=\"Bekleidung\">Bekleidung</a></li><li class=\"menu__list-item\"><a href=\"https://www.boot24.ch/chde/bootszubehoer/wasserskiwake/?typ=1826\" title=\"Wasserski/Wake\" class=\"menu__list-link\"><img src=\"/img/alpha.gif\" class=\"icon icon--bigger image--lazy lazyload\" data-src=\"/v/a012510/assets/icons/boat-types/large/type-12-1826.svg\" alt=\"Wasserski/Wake\">Wasserski/Wake</a></li><li class=\"menu__list-item\"><a href=\"https://www.boot24.ch/chde/bootszubehoer/motorenzubehoer/?typ=1827\" title=\"Motorenzubeh&ouml;r\" class=\"menu__list-link\"><img src=\"/img/alpha.gif\" class=\"icon icon--bigger image--lazy lazyload\" data-src=\"/v/a012510/assets/icons/boat-types/large/type-12-1827.svg\" alt=\"Motorenzubeh&ouml;r\">Motorenzubehör</a></li></ul></li></ul>\t</div>\n",
            "</div></div></header><div class=\"sticky-header js-sticky\" data-sticky-trigger=\"#sticky-header-trigger\"><a class=\"sticky-header__back-link\" onclick=\"history.back()\"></a><a href=\"https://www.boot24.ch/chde/\" title=\"Startseite\" class=\"sticky-header__logo\"><img src=\"/v/a012510/assets/images/boat24-logo-compact.svg\" alt=\"boot24.ch\" class=\"logo\"></a><p class=\"sticky-header__title\">Furtif 28, modèle unique.</p><div class=\"sticky-header__divider\"></div><nav class=\"sticky-header__nav\"><ul class=\"list list--horizontal list--divider js-scrollspy\"><li><a href=\"#images\">Fotos</a></li><li><a href=\"#specs\">Steckbrief</a></li><li><a href=\"#location\">Standort</a></li><li><a href=\"#description\">Bemerkungen</a></li><li><a href=\"#equipment\">Ausstattung</a></li></ul></nav><div class=\"sticky-header__button button-group button-group--row\"><a class=\"sticky-header__button button button--primary button--small\" href=\"#contact\">Kontakt</a></div><div class=\"sticky-header__side\"><ul class=\"sticky-header__pagelinks pagelinks\">\n",
            "                <li class=\"pagelinks__item\"><a href=\"#\" class=\"pagelinks__link js-toggle-favorite\" data-id=\"463101\" data-type=\"ads\" data-notifications-title=\"Furtif 28, mod&egrave;le unique.\" data-notifications-message=\"Zu Ihren Favoriten hinzugef&uuml;gt\" data-notifications-picture=\"https://d196r9c7cfkkpm.cloudfront.net/thumbs/small/463101-1613370867.jpg\"><span class=\"icon icon--star\"></span><span class=\"pagelinks__text\">Favorit</span></a></li>\n",
            "                <li class=\"pagelinks__item\"><a href=\"https://www.boot24.ch/chde/src/share/463101/\" title=\"teilen\" class=\"pagelinks__link\"><span class=\"icon icon--share\"></span><span class=\"pagelinks__text\">Teilen</span></a></li>\n",
            "            </ul><a href=\"#body\" class=\"sticky-header__top-link\" title=\"nach oben\"></a></div></div><main class=\"l-page__main\"><section class=\"l-section\"><div class=\"l-section__content l-section__content--full-width l-mt-24 l-mb-16\"><div class=\"slider slider--hero is-loading\" id=\"images\"><div class=\"slider__wrapper js-slider\" data-gallery=\"detail\"><ul class=\"slider__slides js-slider-slides\"><li class=\"slider__slide js-slider-slide\" data-image-id=\"image1\"><img src=\"https://d196r9c7cfkkpm.cloudfront.net/fotos/medium/463101-4652193b3e56ee526f0bb21d34959a44.jpg\" data-srcset=\"https://d196r9c7cfkkpm.cloudfront.net/fotos/medium/463101-4652193b3e56ee526f0bb21d34959a44.jpg 480w, https://d196r9c7cfkkpm.cloudfront.net/fotos/large/463101-4652193b3e56ee526f0bb21d34959a44-ch.jpg 800w, https://d196r9c7cfkkpm.cloudfront.net/fotos/xlarge/463101-4652193b3e56ee526f0bb21d34959a44-ch.jpg 1280w\" data-sizes=\"auto\" class=\"slider__image image image--lazy lazyload\" width=\"480\" height=\"480\" alt=\"Furtif 28, mod&egrave;le unique.\"></li><li class=\"slider__slide js-slider-slide\" data-image-id=\"image2\"><img src=\"https://d196r9c7cfkkpm.cloudfront.net/fotos/medium/463101-291558ed37374375683dc1bef4b40a20.jpg\" data-srcset=\"https://d196r9c7cfkkpm.cloudfront.net/fotos/medium/463101-291558ed37374375683dc1bef4b40a20.jpg 480w, https://d196r9c7cfkkpm.cloudfront.net/fotos/large/463101-291558ed37374375683dc1bef4b40a20-ch.jpg 800w, https://d196r9c7cfkkpm.cloudfront.net/fotos/xlarge/463101-291558ed37374375683dc1bef4b40a20-ch.jpg 1280w\" data-sizes=\"auto\" class=\"slider__image image image--lazy lazyload\" width=\"480\" height=\"480\" alt=\"Furtif 28, mod&egrave;le unique.\"></li><li class=\"slider__slide js-slider-slide\" data-image-id=\"image3\"><img src=\"https://d196r9c7cfkkpm.cloudfront.net/fotos/medium/463101-0b684328577b17881cf2e54a1f189b79.jpg\" data-srcset=\"https://d196r9c7cfkkpm.cloudfront.net/fotos/medium/463101-0b684328577b17881cf2e54a1f189b79.jpg 480w, https://d196r9c7cfkkpm.cloudfront.net/fotos/large/463101-0b684328577b17881cf2e54a1f189b79-ch.jpg 800w, https://d196r9c7cfkkpm.cloudfront.net/fotos/xlarge/463101-0b684328577b17881cf2e54a1f189b79-ch.jpg 1280w\" data-sizes=\"auto\" class=\"slider__image image image--lazy lazyload\" width=\"480\" height=\"480\" alt=\"Furtif 28, mod&egrave;le unique.\"></li><li class=\"slider__slide js-slider-slide\" data-image-id=\"image4\"><img src=\"https://d196r9c7cfkkpm.cloudfront.net/fotos/medium/463101-79f0edc0ae31352e0ff5ed9c441c47d8.jpg\" data-srcset=\"https://d196r9c7cfkkpm.cloudfront.net/fotos/medium/463101-79f0edc0ae31352e0ff5ed9c441c47d8.jpg 480w, https://d196r9c7cfkkpm.cloudfront.net/fotos/large/463101-79f0edc0ae31352e0ff5ed9c441c47d8-ch.jpg 800w, https://d196r9c7cfkkpm.cloudfront.net/fotos/xlarge/463101-79f0edc0ae31352e0ff5ed9c441c47d8-ch.jpg 1280w\" data-sizes=\"auto\" class=\"slider__image image image--lazy lazyload\" width=\"480\" height=\"480\" alt=\"Furtif 28, mod&egrave;le unique.\"></li><li class=\"slider__slide js-slider-slide\" data-image-id=\"image5\"><img src=\"https://d196r9c7cfkkpm.cloudfront.net/fotos/medium/463101-ef7d377a44a153bec3b95b896c8de706.jpg\" data-srcset=\"https://d196r9c7cfkkpm.cloudfront.net/fotos/medium/463101-ef7d377a44a153bec3b95b896c8de706.jpg 480w, https://d196r9c7cfkkpm.cloudfront.net/fotos/large/463101-ef7d377a44a153bec3b95b896c8de706-ch.jpg 800w, https://d196r9c7cfkkpm.cloudfront.net/fotos/xlarge/463101-ef7d377a44a153bec3b95b896c8de706-ch.jpg 1280w\" data-sizes=\"auto\" class=\"slider__image image image--lazy lazyload\" width=\"480\" height=\"480\" alt=\"Furtif 28, mod&egrave;le unique.\"></li><li class=\"slider__slide js-slider-slide\" data-image-id=\"image6\"><img src=\"https://d196r9c7cfkkpm.cloudfront.net/fotos/medium/463101-2d1f433fb0eea59d20e5799d69fd22e5.jpg\" data-srcset=\"https://d196r9c7cfkkpm.cloudfront.net/fotos/medium/463101-2d1f433fb0eea59d20e5799d69fd22e5.jpg 480w, https://d196r9c7cfkkpm.cloudfront.net/fotos/large/463101-2d1f433fb0eea59d20e5799d69fd22e5-ch.jpg 800w, https://d196r9c7cfkkpm.cloudfront.net/fotos/xlarge/463101-2d1f433fb0eea59d20e5799d69fd22e5-ch.jpg 1280w\" data-sizes=\"auto\" class=\"slider__image image image--lazy lazyload\" width=\"480\" height=\"480\" alt=\"Furtif 28, mod&egrave;le unique.\"></li><li class=\"slider__slide js-slider-slide\" data-image-id=\"image7\"><img src=\"https://d196r9c7cfkkpm.cloudfront.net/fotos/medium/463101-7ff90359223ba9c3523f90c50bd6682a.jpg\" data-srcset=\"https://d196r9c7cfkkpm.cloudfront.net/fotos/medium/463101-7ff90359223ba9c3523f90c50bd6682a.jpg 480w, https://d196r9c7cfkkpm.cloudfront.net/fotos/large/463101-7ff90359223ba9c3523f90c50bd6682a-ch.jpg 800w, https://d196r9c7cfkkpm.cloudfront.net/fotos/xlarge/463101-7ff90359223ba9c3523f90c50bd6682a-ch.jpg 1280w\" data-sizes=\"auto\" class=\"slider__image image image--lazy lazyload\" width=\"480\" height=\"480\" alt=\"Furtif 28, mod&egrave;le unique.\"></li><li class=\"slider__slide js-slider-slide\" data-image-id=\"image8\"><img src=\"https://d196r9c7cfkkpm.cloudfront.net/fotos/medium/463101-1119c4895031b1971d92db763a2b0927.jpg\" data-srcset=\"https://d196r9c7cfkkpm.cloudfront.net/fotos/medium/463101-1119c4895031b1971d92db763a2b0927.jpg 480w, https://d196r9c7cfkkpm.cloudfront.net/fotos/large/463101-1119c4895031b1971d92db763a2b0927-ch.jpg 800w, https://d196r9c7cfkkpm.cloudfront.net/fotos/xlarge/463101-1119c4895031b1971d92db763a2b0927-ch.jpg 1280w\" data-sizes=\"auto\" class=\"slider__image image image--lazy lazyload\" width=\"480\" height=\"480\" alt=\"Furtif 28, mod&egrave;le unique.\"></li><li class=\"slider__slide js-slider-slide\" data-image-id=\"image9\"><img src=\"https://d196r9c7cfkkpm.cloudfront.net/fotos/medium/463101-46240d15c4422b15a716e797b4b06b39.jpg\" data-srcset=\"https://d196r9c7cfkkpm.cloudfront.net/fotos/medium/463101-46240d15c4422b15a716e797b4b06b39.jpg 480w, https://d196r9c7cfkkpm.cloudfront.net/fotos/large/463101-46240d15c4422b15a716e797b4b06b39-ch.jpg 800w, https://d196r9c7cfkkpm.cloudfront.net/fotos/xlarge/463101-46240d15c4422b15a716e797b4b06b39-ch.jpg 1280w\" data-sizes=\"auto\" class=\"slider__image image image--lazy lazyload\" width=\"480\" height=\"480\" alt=\"Furtif 28, mod&egrave;le unique.\"></li><li class=\"slider__slide js-slider-slide\" data-image-id=\"image10\"><img src=\"https://d196r9c7cfkkpm.cloudfront.net/fotos/medium/463101-26dd7ee2909b0fb2b130dfdbc93eec55.jpg\" data-srcset=\"https://d196r9c7cfkkpm.cloudfront.net/fotos/medium/463101-26dd7ee2909b0fb2b130dfdbc93eec55.jpg 480w, https://d196r9c7cfkkpm.cloudfront.net/fotos/large/463101-26dd7ee2909b0fb2b130dfdbc93eec55-ch.jpg 800w, https://d196r9c7cfkkpm.cloudfront.net/fotos/xlarge/463101-26dd7ee2909b0fb2b130dfdbc93eec55-ch.jpg 1280w\" data-sizes=\"auto\" class=\"slider__image image image--lazy lazyload\" width=\"480\" height=\"480\" alt=\"Furtif 28, mod&egrave;le unique.\"></li></ul><div class=\"slider__slide-prev js-slider-previous\">zurück</div><div class=\"slider__slide-next js-slider-next\">weiter</div></div></div><div class=\"gallery js-gallery\" id=\"js-gallery-detail\"><div class=\"gallery__ui\"><button class=\"button button--primary js-gallery-contact\">Kontakt</button><button class=\"button button--opaque js-gallery-close\">schliessen</button></div><div class=\"gallery__content\"><ul class=\"gallery__slides\"><li class=\"gallery__slide\"><figure><img src=\"data:image/svg+xml;base64,PHN2ZyB4bWxucz0iaHR0cDovL3d3dy53My5vcmcvMjAwMC9zdmciIHdpZHRoPSI4NTEiIGhlaWdodD0iMTI4MCIgdmlld0JveD0iMCAwIDg1MSAxMjgwIj48L3N2Zz4=\" data-src=\"https://d196r9c7cfkkpm.cloudfront.net/fotos/xlarge/463101-4652193b3e56ee526f0bb21d34959a44-ch.jpg\" class=\"gallery__image image--lazy lazyload\" id=\"image1\" alt=\"Furtif 28, mod&egrave;le unique.\"></figure></li><li class=\"gallery__slide\"><figure><img src=\"data:image/svg+xml;base64,PHN2ZyB4bWxucz0iaHR0cDovL3d3dy53My5vcmcvMjAwMC9zdmciIHdpZHRoPSIxMjgwIiBoZWlnaHQ9Ijg1MSIgdmlld0JveD0iMCAwIDEyODAgODUxIj48L3N2Zz4=\" data-src=\"https://d196r9c7cfkkpm.cloudfront.net/fotos/xlarge/463101-291558ed37374375683dc1bef4b40a20-ch.jpg\" class=\"gallery__image image--lazy lazyload\" id=\"image2\" alt=\"Furtif 28, mod&egrave;le unique.\"></figure></li><li class=\"gallery__slide\"><figure><img src=\"data:image/svg+xml;base64,PHN2ZyB4bWxucz0iaHR0cDovL3d3dy53My5vcmcvMjAwMC9zdmciIHdpZHRoPSIxMjgwIiBoZWlnaHQ9Ijg1MSIgdmlld0JveD0iMCAwIDEyODAgODUxIj48L3N2Zz4=\" data-src=\"https://d196r9c7cfkkpm.cloudfront.net/fotos/xlarge/463101-0b684328577b17881cf2e54a1f189b79-ch.jpg\" class=\"gallery__image image--lazy lazyload\" id=\"image3\" alt=\"Furtif 28, mod&egrave;le unique.\"></figure></li><li class=\"gallery__slide\"><figure><img src=\"data:image/svg+xml;base64,PHN2ZyB4bWxucz0iaHR0cDovL3d3dy53My5vcmcvMjAwMC9zdmciIHdpZHRoPSIxMjgwIiBoZWlnaHQ9Ijg1MSIgdmlld0JveD0iMCAwIDEyODAgODUxIj48L3N2Zz4=\" data-src=\"https://d196r9c7cfkkpm.cloudfront.net/fotos/xlarge/463101-79f0edc0ae31352e0ff5ed9c441c47d8-ch.jpg\" class=\"gallery__image image--lazy lazyload\" id=\"image4\" alt=\"Furtif 28, mod&egrave;le unique.\"></figure></li><li class=\"gallery__slide\"><figure><img src=\"data:image/svg+xml;base64,PHN2ZyB4bWxucz0iaHR0cDovL3d3dy53My5vcmcvMjAwMC9zdmciIHdpZHRoPSIxMjgwIiBoZWlnaHQ9Ijg1MSIgdmlld0JveD0iMCAwIDEyODAgODUxIj48L3N2Zz4=\" data-src=\"https://d196r9c7cfkkpm.cloudfront.net/fotos/xlarge/463101-ef7d377a44a153bec3b95b896c8de706-ch.jpg\" class=\"gallery__image image--lazy lazyload\" id=\"image5\" alt=\"Furtif 28, mod&egrave;le unique.\"></figure></li><li class=\"gallery__slide\"><figure><img src=\"data:image/svg+xml;base64,PHN2ZyB4bWxucz0iaHR0cDovL3d3dy53My5vcmcvMjAwMC9zdmciIHdpZHRoPSIxMjgwIiBoZWlnaHQ9Ijg1MSIgdmlld0JveD0iMCAwIDEyODAgODUxIj48L3N2Zz4=\" data-src=\"https://d196r9c7cfkkpm.cloudfront.net/fotos/xlarge/463101-2d1f433fb0eea59d20e5799d69fd22e5-ch.jpg\" class=\"gallery__image image--lazy lazyload\" id=\"image6\" alt=\"Furtif 28, mod&egrave;le unique.\"></figure></li><li class=\"gallery__slide\"><figure><img src=\"data:image/svg+xml;base64,PHN2ZyB4bWxucz0iaHR0cDovL3d3dy53My5vcmcvMjAwMC9zdmciIHdpZHRoPSIxMjgwIiBoZWlnaHQ9Ijg1MSIgdmlld0JveD0iMCAwIDEyODAgODUxIj48L3N2Zz4=\" data-src=\"https://d196r9c7cfkkpm.cloudfront.net/fotos/xlarge/463101-7ff90359223ba9c3523f90c50bd6682a-ch.jpg\" class=\"gallery__image image--lazy lazyload\" id=\"image7\" alt=\"Furtif 28, mod&egrave;le unique.\"></figure></li><li class=\"gallery__slide\"><figure><img src=\"data:image/svg+xml;base64,PHN2ZyB4bWxucz0iaHR0cDovL3d3dy53My5vcmcvMjAwMC9zdmciIHdpZHRoPSIxMjgwIiBoZWlnaHQ9Ijg1MSIgdmlld0JveD0iMCAwIDEyODAgODUxIj48L3N2Zz4=\" data-src=\"https://d196r9c7cfkkpm.cloudfront.net/fotos/xlarge/463101-1119c4895031b1971d92db763a2b0927-ch.jpg\" class=\"gallery__image image--lazy lazyload\" id=\"image8\" alt=\"Furtif 28, mod&egrave;le unique.\"></figure></li><li class=\"gallery__slide\"><figure><img src=\"data:image/svg+xml;base64,PHN2ZyB4bWxucz0iaHR0cDovL3d3dy53My5vcmcvMjAwMC9zdmciIHdpZHRoPSIxMjgwIiBoZWlnaHQ9Ijg1MSIgdmlld0JveD0iMCAwIDEyODAgODUxIj48L3N2Zz4=\" data-src=\"https://d196r9c7cfkkpm.cloudfront.net/fotos/xlarge/463101-46240d15c4422b15a716e797b4b06b39-ch.jpg\" class=\"gallery__image image--lazy lazyload\" id=\"image9\" alt=\"Furtif 28, mod&egrave;le unique.\"></figure></li><li class=\"gallery__slide\"><figure><img src=\"data:image/svg+xml;base64,PHN2ZyB4bWxucz0iaHR0cDovL3d3dy53My5vcmcvMjAwMC9zdmciIHdpZHRoPSIxMjgwIiBoZWlnaHQ9Ijg1MSIgdmlld0JveD0iMCAwIDEyODAgODUxIj48L3N2Zz4=\" data-src=\"https://d196r9c7cfkkpm.cloudfront.net/fotos/xlarge/463101-26dd7ee2909b0fb2b130dfdbc93eec55-ch.jpg\" class=\"gallery__image image--lazy lazyload\" id=\"image10\" alt=\"Furtif 28, mod&egrave;le unique.\"></figure></li></ul></div></div></div><div class=\"l-section__content l-mt-16 l-mb-24\"><ul class=\"pagelinks\"><li class=\"pagelinks__item\"><span class=\"pagelinks__link h-cursor--pointer js-toggle-favorite\" data-id=\"463101\" data-type=\"ads\" data-notifications-title=\"Furtif 28, mod&egrave;le unique.\" data-notifications-message=\"Zu Ihren Favoriten hinzugef&uuml;gt\" data-notifications-picture=\"https://d196r9c7cfkkpm.cloudfront.net/thumbs/small/463101-1613370867.jpg\"><span class=\"icon icon--star\"></span>Favorit</span></li><li class=\"pagelinks__item\"><span data-link=\"/pdf/ins/463101.chde.pdf\" data-target=\"blank\" class=\"pagelinks__link js-link\" title=\"Inserat drucken\"><span class=\"icon icon--print\"></span>PDF</span></li><li class=\"pagelinks__item\"><span data-link=\"https://www.boot24.ch/chde/src/share/463101/\" class=\"js-link pagelinks__link\" title=\"Inserat teilen\"><span class=\"icon icon--share\"></span>Teilen</span></li><li class=\"pagelinks__item\"><span data-link=\"https://www.boot24.ch/chde/src/report/463101/\" class=\"js-link pagelinks__link\" title=\"verd&auml;chtiges Inserat melden\"><span class=\"icon icon--report\"></span>Melden</span></li></ul></div></section><section class=\"l-section l-mt-24 l-mb-96\" id=\"sticky-header-trigger\"><div class=\"l-section__content\"><div class=\"l-grid l-grid--main-side\"><div><div id=\"specs\"><header class=\"heading heading--page l-mb-32\"><p class=\"heading__title-header\">Neuboot ab Lager, <a href=\"https://www.boot24.ch/chde/motorboote/konsolenboot/?typ=2119\" title=\"Konsolenboot\">Konsolenboot</a></p><h1 class=\"heading__title\">Furtif 28, modèle unique.</h1><p class=\"heading__subtitle\">Stealth 28, einzigartiges Modell in Epoxy CP, Liegeplatz möglich</p></header><ul class=\"list l-mb-24 l-hide--md-u\"><li><span class=\"list__value list__value--large\">CHF 295'000.-</span><span class=\"list__key\"></span></li></ul><ul class=\"list\"><li><span class=\"list__value\">2020</span><span class=\"list__key\">Baujahr</span></li>\n",
            "<li><span class=\"list__value\">neu</span><span class=\"list__key\">Zustand</span></li>\n",
            "</ul><ul class=\"list l-mt-16\">\n",
            "<li><span class=\"list__value\">9.00 m x 2.80 m</span><span class=\"list__key\">Länge x Breite</span></li>\n",
            "<li><span class=\"list__value\">1.00 m</span><span class=\"list__key\">Tiefgang</span></li>\n",
            "<li><span class=\"list__value\">2'200 kg</span><span class=\"list__key\">Verdrängung</span></li>\n",
            "<li><span class=\"list__value\">C - Küstennahe Gewässer</span><span class=\"list__key\">CE-Kennzeichnung</span></li>\n",
            "<li><span class=\"list__value\">Holz</span><span class=\"list__key\">Material</span></li>\n",
            "</ul><ul class=\"list l-mt-16\">\n",
            "<li><span class=\"list__value\">8 Personen</span><span class=\"list__key\">zugel. Personenzahl</span></li>\n",
            "<li><span class=\"list__value\">1 Kabine</span><span class=\"list__key\">Anz. Kabinen</span></li>\n",
            "<li><span class=\"list__value\">1 Koje</span><span class=\"list__key\">Anz. Kojen</span></li>\n",
            "<li><span class=\"list__value\">50 l Wasser</span><span class=\"list__key\">Frischwassertank</span></li>\n",
            "</ul><ul class=\"list l-mt-16\">\n",
            "<li><span class=\"list__value\">Aussenborder 4-Takt</span><span class=\"list__key\">Antrieb</span></li>\n",
            "<li><span class=\"list__value\">Mercury</span><span class=\"list__key\">Motor</span></li>\n",
            "<li><span class=\"list__value\">1 x 350 PS / 257 kW</span><span class=\"list__key\">Motorleistung</span></li>\n",
            "<li><span class=\"list__value\">Bleifrei</span><span class=\"list__key\">Treibstoff</span></li>\n",
            "<li><span class=\"list__value\">250 l</span><span class=\"list__key\">Brennstofftank</span></li>\n",
            "<li><span class=\"list__value\">2 h</span><span class=\"list__key\">Motorstunden</span></li></ul><hr class=\"divider l-mt-32 l-mb-32\"></div><div id=\"location\"><h2 class=\"heading\"><span class=\"heading__icon icon icon--marker\"></span>Standort</h2><p class=\"text\">Schweiz &raquo; Genfersee &raquo; <strong>Chantier naval du Vieux Rhône, 1845 Noville</strong></p><p class=\"text l-mt-8\">Liegeplatz verfügbar</p><hr class=\"divider l-mt-32 l-mb-32\"></div><div id=\"description\"><h2 class=\"heading\"><span class=\"heading__icon icon icon--text\"></span>Bemerkungen</h2><div class=\"content\"><div class=\"box box--small box--shade l-mb-24\"><p class=\"text text--small\">Dieser Text wurde automatisch übersetzt - <a href=\"#\" class=\"js-translated-content\">In Originalsprache anzeigen</a></p></div><div class=\"box box--small box--shade is-hidden l-mb-24\"><p class=\"text text--small\">Dieser Text wurde automatisch übersetzt - <a href=\"#\" class=\"js-translated-content\">Übersetzung anzeigen</a></p></div><div class=\"content content--readmore js-readmore\" id=\"translatedDescription\" lang=\"de-x-mtfrom-fr\" data-readmore-moretext=\"Weiterlesen\">Neues Boot, einzigartiger Bau der Werft Vieux Rh&ocirc;ne SA in Noville <br />\r\n",
            "CE-Zulassungskategorie C, 8 Personen + Gep&auml;ck. <br />\r\n",
            "M&ouml;glicher Liegeplatz auf der Werft Vieux Rh&ocirc;ne</p><p><span data-link=\"http://www.chantier-naval-vieux-rhone.ch\" data-target=\"blank\" class=\"js-link link link--external\">Weitere Infos</span></div><div class=\"is-hidden\" id=\"originalDescription\"><p class=\"text\">Bateau neuf, construction unique du chantier naval du Vieux Rh&ocirc;ne SA &agrave; Noville<br />\r\n",
            "Homologation CE cat&eacute;gorie C, 8 personnes + bagages.<br />\r\n",
            "Place de port possible au chantier naval du Vieux Rh&ocirc;ne</p><p><span data-link=\"http://www.chantier-naval-vieux-rhone.ch\" data-target=\"blank\" class=\"js-link link link--external\">Weitere Infos</span></p></div></div><hr class=\"divider l-mt-32 l-mb-32\"></div><div id=\"equipment\"><h2 class=\"heading\"><span class=\"heading__icon icon icon--compass\"></span>Ausstattung</h2><ul class=\"list list--space-8 l-columns l-columns--sm-2 l-columns--md-1 l-columns--lg-2 list--commas\"><li><span class=\"icon icon--bigger\" style=\"background-image: url('/v/a012510/assets/icons/equipment/473.svg')\"></span>Batterie</li><li><span class=\"icon icon--bigger\" style=\"background-image: url('/v/a012510/assets/icons/equipment/487.svg')\"></span>Anker</li><li><span class=\"icon icon--bigger\" style=\"background-image: url('/v/a012510/assets/icons/equipment/528.svg')\"></span>Bilgepumpe</li><li><span class=\"icon icon--bigger\" style=\"background-image: url('/v/a012510/assets/icons/equipment/3482.svg')\"></span>Navigationsbeleuchtung</li><li><span class=\"icon icon--bigger\" style=\"background-image: url('/v/a012510/assets/icons/equipment/531.svg')\"></span>Bugstrahlruder</li><li><span class=\"icon icon--bigger\" style=\"background-image: url('/v/a012510/assets/icons/equipment/521.svg')\"></span>Druckwasseranlage</li><li><span class=\"icon icon--bigger\" style=\"background-image: url('/v/a012510/assets/icons/equipment/431.svg')\"></span>Bordcomputer</li><li><span class=\"icon icon--bigger\" style=\"background-image: url('/v/a012510/assets/icons/equipment/438.svg')\"></span>Kompass</li><li><span class=\"icon icon--bigger\" style=\"background-image: url('/v/a012510/assets/icons/equipment/440.svg')\"></span>GPS</li><li><span class=\"icon icon--bigger\" style=\"background-image: url('/v/a012510/assets/icons/equipment/444.svg')\"></span>Kartenplotter</li><li><span class=\"icon icon--bigger\" style=\"background-image: url('/v/a012510/assets/icons/equipment/2163.svg')\"></span>Tiefenmesser</li><li><span class=\"icon icon--bigger\" style=\"background-image: url('/v/a012510/assets/icons/equipment/2294.svg')\"></span>Geschwindigkeitsmesser</li><li><span class=\"icon icon--bigger\" style=\"background-image: url('/v/a012510/assets/icons/equipment/539.svg')\"></span>Kühlbox</li><li><span class=\"icon icon--bigger\" style=\"background-image: url('/v/a012510/assets/icons/equipment/464.svg')\"></span>Bimini-Top</li><li><span class=\"icon icon--bigger\" style=\"background-image: url('/v/a012510/assets/icons/equipment/503.svg')\"></span>Badeleiter</li><li><span class=\"icon icon--bigger\" style=\"background-image: url('/v/a012510/assets/icons/equipment/526.svg')\"></span>Deckdusche</li><li><span class=\"icon icon--bigger\" style=\"background-image: url('/v/a012510/assets/icons/equipment/533.svg')\"></span>Feuerlöscher</li><li><span class=\"icon icon--bigger\" style=\"background-image: url('/v/a012510/assets/icons/equipment/556.svg')\"></span>Unterwasseranstrich</li></ul><hr class=\"divider l-mt-32 l-mb-32\"></div><h2 class=\"heading\"><span class=\"heading__icon icon icon--special\"></span>Services</h2><ul class=\"list list--space-24\"><li class=\"l-media\"><p class=\"l-media__text\"><a href=\"https://www.boot24.ch/chde/allianz/offerte/463101/\" class=\"link\" rel=\"nofollow\" title=\"Allianz Suisse\"  onclick=\"gtag('event', 'click', {'event_category': 'powerlink', 'event_label': 'allianz', 'value': 0})\">Allianz Suisse - Bootsversicherung</a><br><span class=\"text--small\">Versichern Sie Ihr Boot beim Marktleader</span></p><img src=\"/img/alpha.gif\" data-src=\"https://www.boot24.ch/img/powerlinks/allianz.png\" class=\"l-hide--xs-d lazyload\" alt=\"Allianz Suisse\" /></li><li class=\"l-media\"><p class=\"l-media__text\"><a href=\"https://www.boot24.ch/chde/pr/bootstransport/463101/\" class=\"link\"  onclick=\"gtag('event', 'click', {'event_category': 'powerlink', 'event_label': 'transportofferte', 'value': 0})\">Bootstransport Offerte anfordern</a><br><span class=\"text--small\">Bequem Offerten für Ihren Bootstransport erhalten</span></p><img src=\"/img/alpha.gif\" data-src=\"https://www.boot24.ch/img/powerlinks/transport2.png\" class=\"l-hide--xs-d lazyload\" alt=\"Transportofferte\" /></li></ul><hr class=\"divider l-mt-32 l-mb-32\"></div><aside><section class=\"contact-box l-mt-8 l-mb-32\"><div class=\"contact-box__price-section\" id=\"contact\"><div class=\"l-hide--sm-d\"><p class=\"contact-box__price\"><strong>CHF 295'000.-</strong></p><p class=\"contact-box__price-type\"></p></div><div class=\"l-hide--md-u l-media\"><img src=\"https://d196r9c7cfkkpm.cloudfront.net/thumbs/small/463101-1613370867.jpg\" width=\"120\" height=\"90\" class=\"l-media__media\" alt=\"Furtif 28, mod&egrave;le unique. Konsolenboot\" /><div class=\"l-media__text\"><h3 class=\"heading--paragraph\">Furtif 28, modèle unique.</h3><p class=\"text text--light\">CHF 295'000.-</p><p class=\"text text--light\">2020</p></div></div></div><div class=\"contact-box__contact-section\"><h2 class=\"contact-box__heading\">Verkäufer</h2><p class=\"contact-box__seller\">Monsieur Ries<span class=\"contact-box__verified\"><span class=\"icon icon--verified\"></span>verifizierter Verkäufer</span></p><h3 class=\"heading heading--block\" id=\"contactform\">Kontaktformular</h3><form method=\"post\" action=\"#contactform\"><div class=\"floating-label-field js-floating-label contact-box__field\"><input class=\"floating-label-field__input\" type=\"text\" name=\"name\" value=\"\" id=\"input-name\" ><label class=\"floating-label-field__label\" for=\"input-name\">Name</label></div><div class=\"floating-label-field js-floating-label contact-box__field\"><input class=\"floating-label-field__input\" type=\"email\" name=\"phone\" value=\"\" id=\"input-phone\" ><label class=\"floating-label-field__label\" for=\"input-phone\">E-Mail</label></div><div class=\"floating-label-field js-floating-label contact-box__field\"><input class=\"floating-label-field__input\" type=\"tel\" name=\"street\" value=\"\" id=\"input-street\" ><label class=\"floating-label-field__label\" for=\"input-street\">Telefon</label></div><div class=\"floating-label-field js-floating-label contact-box__field l-mb-8\"><textarea class=\"floating-label-field__input\" name=\"message\" id=\"input-message\" rows=\"3\"></textarea><label class=\"floating-label-field__label\" for=\"input-message\">Nachricht</label></div><p class=\"text text--small text--light\">Sie erhalten eine Kopie dieser Nachricht per E-Mail.</p><button type=\"submit\" name=\"contact\" class=\"button contact-box__submit button button--primary button--full-width l-mt-12\" >Nachricht senden</button></form><div class=\"l-mt-16\"><p class=\"text text--tiny text--light l-mb-8\">Mit Absenden dieses Formulares werden Ihre Kontaktdaten an den Verkäufer dieses Angebots weitergeleitet.</p><p class=\"text text--tiny text--light l-mb-8\">Das Kontaktformular darf nicht zur Bewerbung eigener Produkte oder Leistungen verwendet werden.</p><p class=\"text text--tiny text--light l-mb-8\">Es gelten unsere <a href=\"https://www.boot24.ch/pdf/gtc/b2c.chde.pdf\" class=\"link\" target=\"_blank\">AGB</a>.</p></div></div></section><section><h2 class=\"heading l-mb-16\">Infos</h2><ul class=\"list list--space-8\"><li>Inserat-ID: <strong>463101</strong></li><li>Aufgabedatum: <strong>08.02.2021</strong></li><li>Aufrufe in den letzten 7 Tagen: <strong>650</strong></li><li>In Favoriten: bei <strong>1</strong> Personen</li></ul><p class=\"l-mt-16 l-mb-32\"><a href=\"https://www.boot24.ch/chde/src/report/463101/\" title=\"Verdächtiges Inserat melden\"><span class=\"link link--not-bold link--not-colored icon icon--report\"></span>Verdächtiges Inserat melden</a></p><div id=\"adnz_rectangle_1\" class=\"l-mb-24\"></div><ul class=\"list list--space-8\"><li><a href=\"https://www.boot24.ch/chde/blog/archiv/kaufberatung/\" title=\"Kaufberatung Boot\" class=\"link link--internal\">Kaufberatung Boot</a></li><li><a href=\"https://www.boot24.ch/chde/blog/wichtige-punkte-beim-motorboot-kauf/\" title=\"Wichtige Punkte beim Motorboot-Kauf\" class=\"link link--internal\">Wichtige Punkte beim Motorboot-Kauf</a></li><li><a href=\"https://www.boot24.ch/chde/src/checkliste_gebrauchtboot/\" title=\"Occasionboot kaufen - die Checkliste\" class=\"link link--internal\">Checkliste Bootskauf</a></li><li><a href=\"https://www.boot24.ch/chde/blog/unterhaltskosten-boot/\" title=\"Unterhaltskosten Motorboot\" class=\"link link--internal\">Unterhaltskosten Motorboot</a></li></ul></section></aside></div></div></section><section class=\"l-section l-section--shade l-pt-48 l-pb-96\"><div class=\"l-section__content\"><h2 class=\"heading\">Ähnliche Inserate</h2><ul class=\"l-grid l-grid--lg-4 l-grid--xs-2\"><li><div class=\"blurb blurb--card blurb--singleline\"><div class=\"blurb__link-area js-link\" data-link=\"https://www.boot24.ch/chde/motorboote/chris-craft/chris-craft-catalina-30/detail/463495/\"><div class=\"blurb__image-area\"><figure class=\"blurb__image blurb__image--ratio-4-3\"><img src=\"/img/alpha.gif\" data-srcset=\"https://d196r9c7cfkkpm.cloudfront.net/thumbs/small/463495-1613370849.jpg 120w, https://d196r9c7cfkkpm.cloudfront.net/thumbs/large/463495-1613370849.jpg 240w, https://d196r9c7cfkkpm.cloudfront.net/thumbs/xlarge/463495-1613370849.jpg 480w\" data-sizes=\"auto\" alt=\"Chris Craft Catalina 30\" class=\"image image--lazy lazyload\"></figure></div><div class=\"blurb__main\"><p class=\"blurb__title-header\">Konsolenboot</p><h3 class=\"blurb__title blurb__title--small-margin\"><a href=\"https://www.boot24.ch/chde/motorboote/chris-craft/chris-craft-catalina-30/detail/463495/\" title=\"Chris Craft Catalina 30\" >Chris Craft Catalina 30</a></h3></div><aside class=\"blurb__side\"><p class=\"blurb__price\">CHF 350'000.-</p></aside></div></div></li><li><div class=\"blurb blurb--card blurb--singleline\"><div class=\"blurb__link-area js-link\" data-link=\"https://www.boot24.ch/chde/motorboote/de-antonio-yachts/de-antonio-yachts-d34-cruiser/detail/435166/\"><div class=\"blurb__image-area\"><figure class=\"blurb__image blurb__image--ratio-4-3\"><img src=\"/img/alpha.gif\" data-srcset=\"https://d196r9c7cfkkpm.cloudfront.net/fotos/thumbnail/435166-c003cad62e15e070405f41e477e1c84a.jpg 120w, https://d196r9c7cfkkpm.cloudfront.net/fotos/thumblarge/435166-c003cad62e15e070405f41e477e1c84a.jpg 240w, https://d196r9c7cfkkpm.cloudfront.net/fotos/medium/435166-c003cad62e15e070405f41e477e1c84a.jpg 480w, https://d196r9c7cfkkpm.cloudfront.net/fotos/large/435166-c003cad62e15e070405f41e477e1c84a-ch.jpg 800w\" data-sizes=\"auto\" alt=\"De Antonio Yachts D34 Cruiser\" class=\"image image--lazy lazyload\"></figure></div><div class=\"blurb__main\"><p class=\"blurb__title-header\">Konsolenboot</p><h3 class=\"blurb__title blurb__title--small-margin\"><a href=\"https://www.boot24.ch/chde/motorboote/de-antonio-yachts/de-antonio-yachts-d34-cruiser/detail/435166/\" title=\"De Antonio Yachts D34 Cruiser\" >De Antonio Yachts D34 Cruiser</a></h3></div><aside class=\"blurb__side\"><p class=\"blurb__price\">CHF 210'533.-</p></aside></div></div></li><li><div class=\"blurb blurb--card blurb--singleline\"><div class=\"blurb__link-area js-link\" data-link=\"https://www.boot24.ch/chde/motorboote/nuova-jolly/nuova-jolly-prince-38-cc/detail/463424/\"><div class=\"blurb__image-area\"><figure class=\"blurb__image blurb__image--ratio-4-3\"><img src=\"/img/alpha.gif\" data-srcset=\"https://d196r9c7cfkkpm.cloudfront.net/thumbs/small/463424-1613111227.jpg 120w, https://d196r9c7cfkkpm.cloudfront.net/thumbs/large/463424-1613111227.jpg 240w, https://d196r9c7cfkkpm.cloudfront.net/thumbs/xlarge/463424-1613111227.jpg 480w, https://d196r9c7cfkkpm.cloudfront.net/thumbs/xxlarge/463424-1613111227.jpg 960w\" data-sizes=\"auto\" alt=\"Nuova Jolly Prince 38 CC\" class=\"image image--lazy lazyload\"></figure></div><div class=\"blurb__main\"><p class=\"blurb__title-header\">Konsolenboot</p><h3 class=\"blurb__title blurb__title--small-margin\"><a href=\"https://www.boot24.ch/chde/motorboote/nuova-jolly/nuova-jolly-prince-38-cc/detail/463424/\" title=\"Nuova Jolly Prince 38 CC\" >Nuova Jolly Prince 38 CC</a></h3></div><aside class=\"blurb__side\"><p class=\"blurb__price\">CHF 210'000.-</p></aside></div></div></li><li><div class=\"blurb blurb--card blurb--singleline\"><div class=\"blurb__link-area js-link\" data-link=\"https://www.boot24.ch/chde/motorboote/de-antonio-yachts/de-antonio-yachts-d28-open/detail/330366/\"><div class=\"blurb__image-area\"><figure class=\"blurb__image blurb__image--ratio-4-3\"><img src=\"/img/alpha.gif\" data-srcset=\"https://d196r9c7cfkkpm.cloudfront.net/thumbs/small/330366-1516779432.jpg 120w, https://d196r9c7cfkkpm.cloudfront.net/thumbs/large/330366-1516779432.jpg 240w\" data-sizes=\"auto\" alt=\"De Antonio Yachts D28 Open\" class=\"image image--lazy lazyload\"></figure></div><div class=\"blurb__main\"><p class=\"blurb__title-header\">Konsolenboot</p><h3 class=\"blurb__title blurb__title--small-margin\"><a href=\"https://www.boot24.ch/chde/motorboote/de-antonio-yachts/de-antonio-yachts-d28-open/detail/330366/\" title=\"De Antonio Yachts D28 Open\" >De Antonio Yachts D28 Open</a></h3></div><aside class=\"blurb__side\"><p class=\"blurb__price\">CHF 192'500.-</p></aside></div></div></li></ul><ul class=\"list list--space-8 l-mt-48\"></ul></div></section><section class=\"l-section l-section--base is-dark l-pt-64 l-pb-96\"><div class=\"l-section__content\"><h2 class=\"heading\">Ein Boot verkaufen?  Jetzt ein Inserat bei boot24.ch schalten.</h2><a href=\"https://www.boot24.ch/chde/verkaufen/motorboot/\" title=\"Motorboot verkaufen\" class=\"link link--internal l-mt-8\">Motorboot verkaufen</a></div></section></main><footer class=\"footer sticky-max\"><div class=\"footer__breadcrumb l-section l-section--base\"><nav class=\"l-section__content l-pt-8 l-pb-8\"><ul class=\"footer__breadcrumb-list\" itemscope itemtype=\"https://schema.org/BreadcrumbList\"><li class=\"footer__breadcrumb-item\"><a href=\"https://www.boot24.ch/chde/\" class=\"footer__breadcrumb-link\">boot24.ch</a></li><li class=\"footer__breadcrumb-item\" itemprop=\"itemListElement\" itemscope itemtype=\"https://schema.org/ListItem\"><a class=\"footer__breadcrumb-link\" itemscope itemtype=\"https://schema.org/WebPage\" itemprop=\"item\" itemid=\"https://www.boot24.ch/chde/motorboote/\" href=\"https://www.boot24.ch/chde/motorboote/\" title=\"Motorboote\"><span itemprop=\"name\">Motorboote</span></a><meta itemprop=\"position\" content=\"1\" /></li><li class=\"footer__breadcrumb-item is-selected\" itemprop=\"itemListElement\" itemscope itemtype=\"https://schema.org/ListItem\"><span class=\"footer__breadcrumb-link\" itemprop=\"name\">Furtif 28, modèle unique.</span><meta itemprop=\"position\" content=\"2\" /></li></ul></nav></div><div class=\"l-section l-section--shade\"><div class=\"l-section__content\"><section class=\"footer__main l-pt-48 l-pb-48\"><ul class=\"footer__columns\"><li class=\"footer__column\"><h3 class=\"footer__column-heading\">Für Käufer</h3><ul><li><a href=\"https://www.boot24.ch/chde/suchen/\" title=\"Boot occasion suchen\" class=\"footer__link\">Detailsuche</a></li><li><a href=\"https://www.boot24.ch/chde/src/tests/\" title=\"Testberichte der aktuellsten Yachten und Boote\" class=\"footer__link\">Bootstests</a></li><li><a href=\"https://www.boot24.ch/chde/sitemap/\" title=\"Bootshersteller\" class=\"footer__link\">Bootshersteller</a></li><li><a href=\"https://www.boot24.ch/chde/src/checkliste_gebrauchtboot/\" title=\"Occasionboot kaufen - die Checkliste\" class=\"footer__link\">Checkliste Bootskauf</a></li><li><a href=\"https://www.boot24.ch/chde/pr/bootstransport/\" title=\"Bootstransport europaweit\" class=\"footer__link\">Bootstransport</a></li></ul></li><li class=\"footer__column\"><h3 class=\"footer__column-heading\">Für Verkäufer</h3><ul><li><a href=\"https://www.boot24.ch/chde/user/newlisting/\" title=\"Verkaufen Sie Ihr Boot! Jetzt Inserat aufgeben im gr&ouml;ssten Schweizer Bootsmarkt\" class=\"footer__link\">Inserat aufgeben</a></li><li><a href=\"https://www.boot24.ch/chde/sell/pricing/\" title=\"Preisliste\" class=\"footer__link\">Preisliste</a></li><li><a href=\"https://www.boot24.ch/chde/sell/leitfaden_bootsverkauf/\" title=\"Leitfaden Bootsverkauf\" class=\"footer__link\">Leitfaden Bootsverkauf</a></li><li><a href=\"https://www.boot24.ch/chde/src/archive/\" title=\"Bootsinserate-Archiv\" class=\"footer__link\">Bootsinserate-Archiv</a></li><li><a href=\"https://www.boot24.ch/chde/service/kaufvertrag_fuer_gebrauchtboote/\" title=\"Kaufvertrag f&uuml;r Occasionsboote\" class=\"footer__link\">Vertragsvorlage</a></li><li><a href=\"https://www.boot24.ch/chde/sell/feedbacks/\" title=\"Kundenfeedbacks\" class=\"footer__link\">Kundenfeedbacks</a></li></ul></li><li class=\"footer__column\"><h3 class=\"footer__column-heading\">Für Händler</h3><ul><li><a href=\"https://www.boot24.ch/chde/dealers/infos/\" title=\"Infos zum H&auml;ndlerkonto\" class=\"footer__link\">Händler-Konto</a></li><li><a href=\"https://www.boot24.ch/chde/dealers/pricing/\" title=\"Inseratepreise für Händler\" class=\"footer__link\">Inseratepreise für Händler</a></li><li><a href=\"https://www.boot24.ch/chde/haendler/\" title=\"Bootshändlerliste\" class=\"footer__link\">Bootshändlerliste</a></li><li><span class=\"footer__link js-link\" data-link=\"https://login.boatvertizer.com/\" data-target=\"blank\">Händler-Login</span></li></ul></li><li class=\"footer__column\"><h3 class=\"footer__column-heading\">Service</h3><ul><li><a href=\"https://www.boot24.ch/chde/about/ads/\" title=\"Werbung\" class=\"footer__link\">Werbung</a></li><li><a href=\"https://www.boot24.ch/chde/blog/\" title=\"Magazin\" class=\"footer__link\">Magazin</a></li><li><a href=\"https://www.boot24.ch/chde/service/temperaturen/\" title=\"Wassertemperaturen\" class=\"footer__link\">Seetemperaturen</a></li><li><a href=\"https://www.boot24.ch/chde/charter/\" title=\"Mietboote\" class=\"footer__link\">Mietboote</a></li><li><a href=\"https://www.boot24.ch/chde/schulen/\" title=\"Bootsfahrschulverzeichnis Schweiz\" class=\"footer__link\">Bootsfahrschulen</a></li><li><a href=\"https://www.boot24.ch/chde/service/events/\" title=\"Bootsmessen &amp; Events\" class=\"footer__link\">Bootsmessen &amp; Events</a></li><li><a href=\"https://www.boot24.ch/chde/service/beaufort/\" title=\"Beaufortskala\" class=\"footer__link\">Beaufortskala</a></li><li><a href=\"https://www.boot24.ch/chde/service/flaggenalphabet/\" title=\"Flaggenalphabet\" class=\"footer__link\">Flaggenalphabet</a></li><li><a href=\"https://www.boot24.ch/chde/service/segler_abc/\" title=\"Segel ABC\" class=\"footer__link\">Segelbegriffe</a></li></ul></li><li class=\"footer__column footer__column--side\"><h3 class=\"footer__column-heading\">Kooperationspartner</h3><ul class=\"footer__partner-logos\"><li class=\"footer__partner-logo\"><img src=\"/v/a012510/assets/images/marina-logo-d-grayscale.svg\" width=\"144\" alt=\"marina.ch\" class=\"footer__partner-logo js-link\" data-link=\"https://www.marina.ch/\" data-target=\"blank\"></li><li class=\"footer__partner-logo\"><img src=\"/v/a012510/assets/images/yacht-logo-grayscale.svg\" alt=\"YACHT\" class=\"footer__partner-logo js-link\" data-link=\"https://www.yacht.de/\" data-target=\"blank\"></li><li class=\"footer__partner-logo\"><img src=\"/v/a012510/assets/images/boote-logo-grayscale.svg\" alt=\"boote\" class=\"footer__partner-logo footer__partner-logo--boote js-link\" data-link=\"https://www.boote-magazin.de/\" data-target=\"blank\"></li></ul></li></ul></section><section class=\"footer__bottom l-pt-32 l-pb-32\"><a href=\"https://www.boot24.ch/chde/\" title=\"Bootsmarkt f&uuml;r Occasionsboote\" class=\"footer__logo\" rel=\"home\"><img src=\"https://www.boot24.ch/logos/logo_boot24_ch.svg\" alt=\"boot24.ch\" class=\"logo\"></a>\n",
            "             <nav class=\"footer__legal\">\n",
            "                \t<ul>\n",
            "                <li class=\"footer__legal-item\"><a href=\"https://www.boot24.ch/chde/about/\" title=\"Über uns\" class=\"footer__legal-link\">Über uns</a></li>\n",
            "<li class=\"footer__legal-item\"><a href=\"https://www.boot24.ch/chde/about/impressum/\" title=\"Impressum\" class=\"footer__legal-link\">Impressum</a></li>\n",
            "<li class=\"footer__legal-item\"><a href=\"https://www.boot24.ch/chde/about/privacy/\" title=\"Datenschutzerklärung\" class=\"footer__legal-link\">Datenschutzerklärung</a></li>\n",
            "<li class=\"footer__legal-item\"><a href=\"https://www.boot24.ch/chde/about/agb/\" title=\"AGB\" class=\"footer__legal-link\">AGB</a></li>\n",
            "<li class=\"footer__legal-item\"><a href=\"https://www.boot24.ch/chde/about/security/\" title=\"Sicherheitshinweise\" class=\"footer__legal-link\">Sicherheitshinweise</a></li>\n",
            "<li class=\"footer__legal-item\"><a href=\"https://www.boot24.ch/chde/sell/faq/\" title=\"FAQ\" class=\"footer__legal-link\">FAQ</a></li>\n",
            "<li class=\"footer__legal-item\"><a href=\"https://www.boot24.ch/chde/about/contact/\" title=\"Kontakt\" class=\"footer__legal-link\">Kontakt</a></li>\n",
            "                    </ul>\n",
            "                </nav>\n",
            "                <form class=\"footer__locale-switch\" action=\"#\">\n",
            "                \t<select name=\"locale\" id=\"locale\" class=\"dropdown\">\n",
            "                \t\t<option value=\"https://www.boot24.ch/chde/motorboote/furtif-28-modele-unique/detail/463101/\" selected>Schweiz - deutsch</option>\n",
            "<option value=\"https://www.bateau24.ch/chfr/bateauxamoteur/furtif-28-modele-unique/detail/463101/\">Suisse - fran&ccedil;ais</option>\n",
            "<option value=\"https://www.barca24.ch/chit/barcheamotore/furtif-28-modele-unique/detail/463101/\">Svizzera - italiano</option>\n",
            "<option value=\"https://www.boat24.ch/chen/powerboats/furtif-28-modele-unique/detail/463101/\">Switzerland - english</option>\n",
            "<option value=\"https://www.boat24.com/de/motorboote/furtif-28-modele-unique/detail/463101/\">International</option>\n",
            "                \t</select>\n",
            "                </form>\n",
            "            </section>\n",
            "        </div>\n",
            "\t</div>\n",
            "</footer><script async src=\"https://www.googletagmanager.com/gtag/js?id=UA-486402-1\"></script>\n",
            "<script>\n",
            "window.dataLayer = window.dataLayer || [];\n",
            "function gtag(){dataLayer.push(arguments);}\n",
            "gtag('js', new Date());\n",
            "gtag('config', 'UA-486402-1', { 'page_path': '/chde/src/detail/463101' });\n",
            "gtag('config', 'AW-1006457411');\n",
            "</script>\n",
            "<script data-main=\"/v/a012510/js-built/views/detail\" src=\"/v/a012510/js-built/require.min.js\"></script>\n",
            "</body>\n",
            "</html>\n",
            "\n"
          ],
          "name": "stdout"
        }
      ]
    },
    {
      "cell_type": "markdown",
      "metadata": {
        "id": "lSEkOX3k_Urr"
      },
      "source": [
        "## Parsing the Data"
      ]
    },
    {
      "cell_type": "markdown",
      "metadata": {
        "id": "-jv_Vnnc-HSk"
      },
      "source": [
        "Now as you can see, the HTTP response's body as it is, is hardly usable. Therefore, we rely on BeautifulSoup to parse the content to for further processings. Thus, we specify we need the html.parser. For more information, you can click [here](https://www.crummy.com/software/BeautifulSoup/bs4/doc/#installing-a-parser)\n",
        "\n",
        "BeatifulSoup, thanks to parsing the content, will allow us to conduct a series of different operations and commands that you will be discovering in the remaining part of this lab. Note that this library can be very powerfull and complete when it comes to parsing and manipulations, this overview is not meant to display all possible features offered by BeautifulSoup.\n"
      ]
    },
    {
      "cell_type": "code",
      "metadata": {
        "id": "v9eDztcDsxwx"
      },
      "source": [
        "page_body = r.text\n",
        "soup = BeautifulSoup(page_body, 'html.parser')\n"
      ],
      "execution_count": 264,
      "outputs": []
    },
    {
      "cell_type": "markdown",
      "metadata": {
        "id": "Avgq_l9sAgiG"
      },
      "source": [
        "For instance, you can very easily get the title of the page using ``soup.title``."
      ]
    },
    {
      "cell_type": "code",
      "metadata": {
        "colab": {
          "base_uri": "https://localhost:8080/"
        },
        "id": "1ge1IoVduZzy",
        "outputId": "443b98b1-8b2c-433a-e77a-dcc8b4ff8d67"
      },
      "source": [
        "soup.title\n"
      ],
      "execution_count": 266,
      "outputs": [
        {
          "output_type": "execute_result",
          "data": {
            "text/plain": [
              "<title>Furtif 28, modèle unique., 2020, 2h, CHF 295'000.- | boot24.ch</title>"
            ]
          },
          "metadata": {
            "tags": []
          },
          "execution_count": 266
        }
      ]
    },
    {
      "cell_type": "markdown",
      "metadata": {
        "id": "dtI-JGIQAs_R"
      },
      "source": [
        "Yet, this is stil in HTML format, therefore using the ``.string`` allows for a more conventional layout."
      ]
    },
    {
      "cell_type": "code",
      "metadata": {
        "colab": {
          "base_uri": "https://localhost:8080/",
          "height": 36
        },
        "id": "ENWhB2qaueGh",
        "outputId": "1d9f2e2b-dc48-4d90-e9f2-f61a249a27f2"
      },
      "source": [
        "soup.title.string\n"
      ],
      "execution_count": 267,
      "outputs": [
        {
          "output_type": "execute_result",
          "data": {
            "application/vnd.google.colaboratory.intrinsic+json": {
              "type": "string"
            },
            "text/plain": [
              "\"Furtif 28, modèle unique., 2020, 2h, CHF 295'000.- | boot24.ch\""
            ]
          },
          "metadata": {
            "tags": []
          },
          "execution_count": 267
        }
      ]
    },
    {
      "cell_type": "markdown",
      "metadata": {
        "id": "MI6Mj7DaBAzQ"
      },
      "source": [
        "To go further with this laboratory and with Data retreival after parsing, some html notions are required. In essence, you should get acquainted with concepts like **HTML tags**. Several functions and manipulations allowed by beautifulSoup rely on the different tags (headers,divisions, paragraphs, classes, ids etc..) to retreive the data they contain. You can find more on HTML tags [here](https://www.w3schools.com/html/html_elements.asp).\n",
        "\n",
        "**Important** : All the manipulations that are performed bellow rely on a study of the HTML body of the repsonse. As it is specific to the website, it is fundamental to understand how to retreive the information and how where to get it from.  \n",
        "\n",
        "In the next cell, we use the \"`a`\" tag as it is generally used for website links embedding (combined with ``href``). \n",
        "\n",
        "``soup.find`` and ``soup.find_all`` will be extensively in this lab to navigate the data structure, please do not hesitate to refere to the correpsonding  [documentation](https://https://www.crummy.com/software/BeautifulSoup/bs4/doc/) for more information.\n"
      ]
    },
    {
      "cell_type": "code",
      "metadata": {
        "colab": {
          "base_uri": "https://localhost:8080/"
        },
        "id": "kZjmpyJLu--P",
        "outputId": "380a6b6e-5ec9-4fd6-c69c-b9a9cc98aae9"
      },
      "source": [
        "links = soup.find_all('a')\n",
        "print('The webpage cointains {0} links...'.format(len(links)))"
      ],
      "execution_count": 292,
      "outputs": [
        {
          "output_type": "stream",
          "text": [
            "The webpage cointains 158 links...\n"
          ],
          "name": "stdout"
        }
      ]
    },
    {
      "cell_type": "markdown",
      "metadata": {
        "id": "6I8s5mzzEZb8"
      },
      "source": [
        "Analysis of the body can also allow us to easily retreive the purchase price. "
      ]
    },
    {
      "cell_type": "code",
      "metadata": {
        "colab": {
          "base_uri": "https://localhost:8080/",
          "height": 36
        },
        "id": "tOD0bt61hQSa",
        "outputId": "ff8ed62f-f7d6-49cc-efac-aa6974259ca8"
      },
      "source": [
        "price = soup.find_all('span',class_=\"list__value list__value--large\")\n",
        "price[0].text"
      ],
      "execution_count": 270,
      "outputs": [
        {
          "output_type": "execute_result",
          "data": {
            "application/vnd.google.colaboratory.intrinsic+json": {
              "type": "string"
            },
            "text/plain": [
              "\"CHF 295'000.-\""
            ]
          },
          "metadata": {
            "tags": []
          },
          "execution_count": 270
        }
      ]
    },
    {
      "cell_type": "markdown",
      "metadata": {
        "id": "4quEHHOTEyx7"
      },
      "source": [
        "Another usefull concept of html on wich BeautifulSoup relies is the notion of children. In fact, in HTML, tags are often assembled as a serie of containers each containg other tags. It is typical of a documented object model structure, you can find more clicking on this link : [DOM](https://www.w3schools.com/whatis/whatis_htmldom.asp).\n",
        "\n",
        "Inspecting the page and using this notion led to the following commands to retreive the advertisment metadata. "
      ]
    },
    {
      "cell_type": "code",
      "metadata": {
        "colab": {
          "base_uri": "https://localhost:8080/"
        },
        "id": "YUbCOXNRkaB_",
        "outputId": "c4e8dc0f-c34b-4126-fb91-4fa870535dfd"
      },
      "source": [
        "t=soup.find(\"ul\",class_=\"list list--space-8\")\n",
        "\n",
        "for child in t.children:\n",
        "    print(child.text)"
      ],
      "execution_count": 271,
      "outputs": [
        {
          "output_type": "stream",
          "text": [
            "Inserat-ID: 463101\n",
            "Aufgabedatum: 08.02.2021\n",
            "Aufrufe in den letzten 7 Tagen: 643\n",
            "In Favoriten: bei 1 Personen\n"
          ],
          "name": "stdout"
        }
      ]
    },
    {
      "cell_type": "markdown",
      "metadata": {
        "id": "DsfdWpHYGR8_"
      },
      "source": [
        "Similarly, you can also retreive and display articles with their links worth consulting as they are similar to the boat we seem to be interested in. "
      ]
    },
    {
      "cell_type": "code",
      "metadata": {
        "id": "dCve6Z_rBC4_",
        "colab": {
          "base_uri": "https://localhost:8080/"
        },
        "outputId": "d901dfeb-0848-4948-ab77-a2ba9a71745e"
      },
      "source": [
        "t = soup.find_all(\"div\", class_=\"blurb__link-area js-link\")\n",
        "for link in t:\n",
        "    link_ = link.findAll('a', attrs={'href': re.compile(\"^https://\")})\n",
        "    print( \"Item : {0}, Link : {1}\".format( link_[0].text,link_[0].get('href') ))\n",
        "        "
      ],
      "execution_count": 286,
      "outputs": [
        {
          "output_type": "stream",
          "text": [
            "Item : Chris Craft Catalina 30, Link : https://www.boot24.ch/chde/motorboote/chris-craft/chris-craft-catalina-30/detail/463495/\n",
            "Item : De Antonio Yachts D34 Cruiser, Link : https://www.boot24.ch/chde/motorboote/de-antonio-yachts/de-antonio-yachts-d34-cruiser/detail/435166/\n",
            "Item : Nuova Jolly Prince 38 CC, Link : https://www.boot24.ch/chde/motorboote/nuova-jolly/nuova-jolly-prince-38-cc/detail/463424/\n",
            "Item : De Antonio Yachts D28 Open, Link : https://www.boot24.ch/chde/motorboote/de-antonio-yachts/de-antonio-yachts-d28-open/detail/330366/\n"
          ],
          "name": "stdout"
        }
      ]
    },
    {
      "cell_type": "markdown",
      "metadata": {
        "id": "20eb7zBIHdp5"
      },
      "source": [
        "Now, we are interesting in getting the description for our boat, to that end, we first retreived the according section in the page. "
      ]
    },
    {
      "cell_type": "code",
      "metadata": {
        "colab": {
          "base_uri": "https://localhost:8080/"
        },
        "id": "M34oni74fBJQ",
        "outputId": "9ae7bccb-b589-41a5-8b79-768c18d75df8"
      },
      "source": [
        "informations = soup.find_all(\"ul\",class_=\"list l-mt-16\")\n",
        "informations\n"
      ],
      "execution_count": 273,
      "outputs": [
        {
          "output_type": "execute_result",
          "data": {
            "text/plain": [
              "[<ul class=\"list l-mt-16\">\n",
              " <li><span class=\"list__value\">9.00 m x 2.80 m</span><span class=\"list__key\">Länge x Breite</span></li>\n",
              " <li><span class=\"list__value\">1.00 m</span><span class=\"list__key\">Tiefgang</span></li>\n",
              " <li><span class=\"list__value\">2'200 kg</span><span class=\"list__key\">Verdrängung</span></li>\n",
              " <li><span class=\"list__value\">C - Küstennahe Gewässer</span><span class=\"list__key\">CE-Kennzeichnung</span></li>\n",
              " <li><span class=\"list__value\">Holz</span><span class=\"list__key\">Material</span></li>\n",
              " </ul>, <ul class=\"list l-mt-16\">\n",
              " <li><span class=\"list__value\">8 Personen</span><span class=\"list__key\">zugel. Personenzahl</span></li>\n",
              " <li><span class=\"list__value\">1 Kabine</span><span class=\"list__key\">Anz. Kabinen</span></li>\n",
              " <li><span class=\"list__value\">1 Koje</span><span class=\"list__key\">Anz. Kojen</span></li>\n",
              " <li><span class=\"list__value\">50 l Wasser</span><span class=\"list__key\">Frischwassertank</span></li>\n",
              " </ul>, <ul class=\"list l-mt-16\">\n",
              " <li><span class=\"list__value\">Aussenborder 4-Takt</span><span class=\"list__key\">Antrieb</span></li>\n",
              " <li><span class=\"list__value\">Mercury</span><span class=\"list__key\">Motor</span></li>\n",
              " <li><span class=\"list__value\">1 x 350 PS / 257 kW</span><span class=\"list__key\">Motorleistung</span></li>\n",
              " <li><span class=\"list__value\">Bleifrei</span><span class=\"list__key\">Treibstoff</span></li>\n",
              " <li><span class=\"list__value\">250 l</span><span class=\"list__key\">Brennstofftank</span></li>\n",
              " <li><span class=\"list__value\">2 h</span><span class=\"list__key\">Motorstunden</span></li></ul>]"
            ]
          },
          "metadata": {
            "tags": []
          },
          "execution_count": 273
        }
      ]
    },
    {
      "cell_type": "markdown",
      "metadata": {
        "id": "Eg0DNzPeH0Fy"
      },
      "source": [
        "Each part can be separatly processed. We can choose to view the first 5 characteristics. "
      ]
    },
    {
      "cell_type": "code",
      "metadata": {
        "colab": {
          "base_uri": "https://localhost:8080/"
        },
        "id": "2NK8rrjIfBOM",
        "outputId": "6f3f41fe-79c3-4487-bf44-e37eac09867b"
      },
      "source": [
        "description = informations[0]\n",
        "description"
      ],
      "execution_count": 274,
      "outputs": [
        {
          "output_type": "execute_result",
          "data": {
            "text/plain": [
              "<ul class=\"list l-mt-16\">\n",
              "<li><span class=\"list__value\">9.00 m x 2.80 m</span><span class=\"list__key\">Länge x Breite</span></li>\n",
              "<li><span class=\"list__value\">1.00 m</span><span class=\"list__key\">Tiefgang</span></li>\n",
              "<li><span class=\"list__value\">2'200 kg</span><span class=\"list__key\">Verdrängung</span></li>\n",
              "<li><span class=\"list__value\">C - Küstennahe Gewässer</span><span class=\"list__key\">CE-Kennzeichnung</span></li>\n",
              "<li><span class=\"list__value\">Holz</span><span class=\"list__key\">Material</span></li>\n",
              "</ul>"
            ]
          },
          "metadata": {
            "tags": []
          },
          "execution_count": 274
        }
      ]
    },
    {
      "cell_type": "code",
      "metadata": {
        "id": "yPbNkTyCxKFk"
      },
      "source": [
        "list__value =description.find_all(\"span\", class_=\"list__value\")\n",
        "list__key =description.find_all(\"span\", class_=\"list__key\")\n"
      ],
      "execution_count": 294,
      "outputs": []
    },
    {
      "cell_type": "markdown",
      "metadata": {
        "id": "AXOnVGSOILy8"
      },
      "source": [
        "Here comes Pandas and its Dataframes. We put the information in a two column Dataframe that could be further used. "
      ]
    },
    {
      "cell_type": "code",
      "metadata": {
        "id": "zOq0JiBDycUP"
      },
      "source": [
        "specs = pd.DataFrame(data={'list__value': list__value,\n",
        "     'list__key': list__key})\n"
      ],
      "execution_count": 295,
      "outputs": []
    },
    {
      "cell_type": "code",
      "metadata": {
        "colab": {
          "base_uri": "https://localhost:8080/",
          "height": 206
        },
        "id": "aj7iNfckgzbL",
        "outputId": "44789bd2-225e-4dab-a110-ad8640aeaba9"
      },
      "source": [
        "specs"
      ],
      "execution_count": 296,
      "outputs": [
        {
          "output_type": "execute_result",
          "data": {
            "text/html": [
              "<div>\n",
              "<style scoped>\n",
              "    .dataframe tbody tr th:only-of-type {\n",
              "        vertical-align: middle;\n",
              "    }\n",
              "\n",
              "    .dataframe tbody tr th {\n",
              "        vertical-align: top;\n",
              "    }\n",
              "\n",
              "    .dataframe thead th {\n",
              "        text-align: right;\n",
              "    }\n",
              "</style>\n",
              "<table border=\"1\" class=\"dataframe\">\n",
              "  <thead>\n",
              "    <tr style=\"text-align: right;\">\n",
              "      <th></th>\n",
              "      <th>list__value</th>\n",
              "      <th>list__key</th>\n",
              "    </tr>\n",
              "  </thead>\n",
              "  <tbody>\n",
              "    <tr>\n",
              "      <th>0</th>\n",
              "      <td>[9.00 m x 2.80 m]</td>\n",
              "      <td>[Länge x Breite]</td>\n",
              "    </tr>\n",
              "    <tr>\n",
              "      <th>1</th>\n",
              "      <td>[1.00 m]</td>\n",
              "      <td>[Tiefgang]</td>\n",
              "    </tr>\n",
              "    <tr>\n",
              "      <th>2</th>\n",
              "      <td>[2'200 kg]</td>\n",
              "      <td>[Verdrängung]</td>\n",
              "    </tr>\n",
              "    <tr>\n",
              "      <th>3</th>\n",
              "      <td>[C - Küstennahe Gewässer]</td>\n",
              "      <td>[CE-Kennzeichnung]</td>\n",
              "    </tr>\n",
              "    <tr>\n",
              "      <th>4</th>\n",
              "      <td>[Holz]</td>\n",
              "      <td>[Material]</td>\n",
              "    </tr>\n",
              "  </tbody>\n",
              "</table>\n",
              "</div>"
            ],
            "text/plain": [
              "                 list__value           list__key\n",
              "0          [9.00 m x 2.80 m]    [Länge x Breite]\n",
              "1                   [1.00 m]          [Tiefgang]\n",
              "2                 [2'200 kg]       [Verdrängung]\n",
              "3  [C - Küstennahe Gewässer]  [CE-Kennzeichnung]\n",
              "4                     [Holz]          [Material]"
            ]
          },
          "metadata": {
            "tags": []
          },
          "execution_count": 296
        }
      ]
    },
    {
      "cell_type": "markdown",
      "metadata": {
        "id": "7T7AOFGPIaIP"
      },
      "source": [
        "For processing purposes, we get rid of the braquets, it is trickier than it looks as the dtype of the dataframe is not ``string``. You can investigate the innerworkings of this command to feel more comfertable with the output. "
      ]
    },
    {
      "cell_type": "code",
      "metadata": {
        "id": "k_7NjVhtbghG"
      },
      "source": [
        "specs.list__value=specs.list__value.apply(lambda x: re.search('>(.*)<',str(x)).group(1) )\n",
        "specs.list__key=specs.list__key.apply(lambda x: re.search('>(.*)<',str(x)).group(1) )"
      ],
      "execution_count": 297,
      "outputs": []
    },
    {
      "cell_type": "code",
      "metadata": {
        "colab": {
          "base_uri": "https://localhost:8080/",
          "height": 206
        },
        "id": "-SvUDszBjZRe",
        "outputId": "a9902e11-abec-429a-e597-541d267a5587"
      },
      "source": [
        "specs"
      ],
      "execution_count": 298,
      "outputs": [
        {
          "output_type": "execute_result",
          "data": {
            "text/html": [
              "<div>\n",
              "<style scoped>\n",
              "    .dataframe tbody tr th:only-of-type {\n",
              "        vertical-align: middle;\n",
              "    }\n",
              "\n",
              "    .dataframe tbody tr th {\n",
              "        vertical-align: top;\n",
              "    }\n",
              "\n",
              "    .dataframe thead th {\n",
              "        text-align: right;\n",
              "    }\n",
              "</style>\n",
              "<table border=\"1\" class=\"dataframe\">\n",
              "  <thead>\n",
              "    <tr style=\"text-align: right;\">\n",
              "      <th></th>\n",
              "      <th>list__value</th>\n",
              "      <th>list__key</th>\n",
              "    </tr>\n",
              "  </thead>\n",
              "  <tbody>\n",
              "    <tr>\n",
              "      <th>0</th>\n",
              "      <td>9.00 m x 2.80 m</td>\n",
              "      <td>Länge x Breite</td>\n",
              "    </tr>\n",
              "    <tr>\n",
              "      <th>1</th>\n",
              "      <td>1.00 m</td>\n",
              "      <td>Tiefgang</td>\n",
              "    </tr>\n",
              "    <tr>\n",
              "      <th>2</th>\n",
              "      <td>2'200 kg</td>\n",
              "      <td>Verdrängung</td>\n",
              "    </tr>\n",
              "    <tr>\n",
              "      <th>3</th>\n",
              "      <td>C - Küstennahe Gewässer</td>\n",
              "      <td>CE-Kennzeichnung</td>\n",
              "    </tr>\n",
              "    <tr>\n",
              "      <th>4</th>\n",
              "      <td>Holz</td>\n",
              "      <td>Material</td>\n",
              "    </tr>\n",
              "  </tbody>\n",
              "</table>\n",
              "</div>"
            ],
            "text/plain": [
              "               list__value         list__key\n",
              "0          9.00 m x 2.80 m    Länge x Breite\n",
              "1                   1.00 m          Tiefgang\n",
              "2                 2'200 kg       Verdrängung\n",
              "3  C - Küstennahe Gewässer  CE-Kennzeichnung\n",
              "4                     Holz          Material"
            ]
          },
          "metadata": {
            "tags": []
          },
          "execution_count": 298
        }
      ]
    },
    {
      "cell_type": "markdown",
      "metadata": {
        "id": "2xHTYcO7I9iL"
      },
      "source": [
        "Now, we use a different approach to get all the characteristics at once. Yet, there is one odd piece of Data in our Dataframe, can you notice it ? "
      ]
    },
    {
      "cell_type": "code",
      "metadata": {
        "id": "2tAOYAP5iaRp"
      },
      "source": [
        "\n",
        "list__value =soup.find_all(\"span\", class_=\"list__value\")\n",
        "list__key =soup.find_all(\"span\", class_=\"list__key\")\n",
        "furn = pd.DataFrame(data={'list__value': list__value,\n",
        "     'list__key': list__key})\n",
        "furn.list__value=furn.list__value.apply(lambda x: re.search('>(.*)<',str(x)).group(1) )\n",
        "furn.list__key=furn.list__key.apply(lambda x: re.search('>(.*)<',str(x)).group(1) )"
      ],
      "execution_count": 299,
      "outputs": []
    },
    {
      "cell_type": "code",
      "metadata": {
        "colab": {
          "base_uri": "https://localhost:8080/",
          "height": 206
        },
        "id": "ioR5c_zSiaWM",
        "outputId": "d7e76752-3278-4a22-82ee-60e884204792"
      },
      "source": [
        "furn.head()"
      ],
      "execution_count": 300,
      "outputs": [
        {
          "output_type": "execute_result",
          "data": {
            "text/html": [
              "<div>\n",
              "<style scoped>\n",
              "    .dataframe tbody tr th:only-of-type {\n",
              "        vertical-align: middle;\n",
              "    }\n",
              "\n",
              "    .dataframe tbody tr th {\n",
              "        vertical-align: top;\n",
              "    }\n",
              "\n",
              "    .dataframe thead th {\n",
              "        text-align: right;\n",
              "    }\n",
              "</style>\n",
              "<table border=\"1\" class=\"dataframe\">\n",
              "  <thead>\n",
              "    <tr style=\"text-align: right;\">\n",
              "      <th></th>\n",
              "      <th>list__value</th>\n",
              "      <th>list__key</th>\n",
              "    </tr>\n",
              "  </thead>\n",
              "  <tbody>\n",
              "    <tr>\n",
              "      <th>0</th>\n",
              "      <td>CHF 295'000.-</td>\n",
              "      <td></td>\n",
              "    </tr>\n",
              "    <tr>\n",
              "      <th>1</th>\n",
              "      <td>2020</td>\n",
              "      <td>Baujahr</td>\n",
              "    </tr>\n",
              "    <tr>\n",
              "      <th>2</th>\n",
              "      <td>neu</td>\n",
              "      <td>Zustand</td>\n",
              "    </tr>\n",
              "    <tr>\n",
              "      <th>3</th>\n",
              "      <td>9.00 m x 2.80 m</td>\n",
              "      <td>Länge x Breite</td>\n",
              "    </tr>\n",
              "    <tr>\n",
              "      <th>4</th>\n",
              "      <td>1.00 m</td>\n",
              "      <td>Tiefgang</td>\n",
              "    </tr>\n",
              "  </tbody>\n",
              "</table>\n",
              "</div>"
            ],
            "text/plain": [
              "       list__value       list__key\n",
              "0    CHF 295'000.-                \n",
              "1             2020         Baujahr\n",
              "2              neu         Zustand\n",
              "3  9.00 m x 2.80 m  Länge x Breite\n",
              "4           1.00 m        Tiefgang"
            ]
          },
          "metadata": {
            "tags": []
          },
          "execution_count": 300
        }
      ]
    },
    {
      "cell_type": "code",
      "metadata": {
        "colab": {
          "base_uri": "https://localhost:8080/",
          "height": 582
        },
        "id": "Ty-vG-iNusRV",
        "outputId": "c6f37ff6-59bd-4a8d-af16-7374aaf3ef05"
      },
      "source": [
        "furn[1:]"
      ],
      "execution_count": 285,
      "outputs": [
        {
          "output_type": "execute_result",
          "data": {
            "text/html": [
              "<div>\n",
              "<style scoped>\n",
              "    .dataframe tbody tr th:only-of-type {\n",
              "        vertical-align: middle;\n",
              "    }\n",
              "\n",
              "    .dataframe tbody tr th {\n",
              "        vertical-align: top;\n",
              "    }\n",
              "\n",
              "    .dataframe thead th {\n",
              "        text-align: right;\n",
              "    }\n",
              "</style>\n",
              "<table border=\"1\" class=\"dataframe\">\n",
              "  <thead>\n",
              "    <tr style=\"text-align: right;\">\n",
              "      <th></th>\n",
              "      <th>list__value</th>\n",
              "      <th>list__key</th>\n",
              "    </tr>\n",
              "  </thead>\n",
              "  <tbody>\n",
              "    <tr>\n",
              "      <th>1</th>\n",
              "      <td>2020</td>\n",
              "      <td>Baujahr</td>\n",
              "    </tr>\n",
              "    <tr>\n",
              "      <th>2</th>\n",
              "      <td>neu</td>\n",
              "      <td>Zustand</td>\n",
              "    </tr>\n",
              "    <tr>\n",
              "      <th>3</th>\n",
              "      <td>9.00 m x 2.80 m</td>\n",
              "      <td>Länge x Breite</td>\n",
              "    </tr>\n",
              "    <tr>\n",
              "      <th>4</th>\n",
              "      <td>1.00 m</td>\n",
              "      <td>Tiefgang</td>\n",
              "    </tr>\n",
              "    <tr>\n",
              "      <th>5</th>\n",
              "      <td>2'200 kg</td>\n",
              "      <td>Verdrängung</td>\n",
              "    </tr>\n",
              "    <tr>\n",
              "      <th>6</th>\n",
              "      <td>C - Küstennahe Gewässer</td>\n",
              "      <td>CE-Kennzeichnung</td>\n",
              "    </tr>\n",
              "    <tr>\n",
              "      <th>7</th>\n",
              "      <td>Holz</td>\n",
              "      <td>Material</td>\n",
              "    </tr>\n",
              "    <tr>\n",
              "      <th>8</th>\n",
              "      <td>8 Personen</td>\n",
              "      <td>zugel. Personenzahl</td>\n",
              "    </tr>\n",
              "    <tr>\n",
              "      <th>9</th>\n",
              "      <td>1 Kabine</td>\n",
              "      <td>Anz. Kabinen</td>\n",
              "    </tr>\n",
              "    <tr>\n",
              "      <th>10</th>\n",
              "      <td>1 Koje</td>\n",
              "      <td>Anz. Kojen</td>\n",
              "    </tr>\n",
              "    <tr>\n",
              "      <th>11</th>\n",
              "      <td>50 l Wasser</td>\n",
              "      <td>Frischwassertank</td>\n",
              "    </tr>\n",
              "    <tr>\n",
              "      <th>12</th>\n",
              "      <td>Aussenborder 4-Takt</td>\n",
              "      <td>Antrieb</td>\n",
              "    </tr>\n",
              "    <tr>\n",
              "      <th>13</th>\n",
              "      <td>Mercury</td>\n",
              "      <td>Motor</td>\n",
              "    </tr>\n",
              "    <tr>\n",
              "      <th>14</th>\n",
              "      <td>1 x 350 PS / 257 kW</td>\n",
              "      <td>Motorleistung</td>\n",
              "    </tr>\n",
              "    <tr>\n",
              "      <th>15</th>\n",
              "      <td>Bleifrei</td>\n",
              "      <td>Treibstoff</td>\n",
              "    </tr>\n",
              "    <tr>\n",
              "      <th>16</th>\n",
              "      <td>250 l</td>\n",
              "      <td>Brennstofftank</td>\n",
              "    </tr>\n",
              "    <tr>\n",
              "      <th>17</th>\n",
              "      <td>2 h</td>\n",
              "      <td>Motorstunden</td>\n",
              "    </tr>\n",
              "  </tbody>\n",
              "</table>\n",
              "</div>"
            ],
            "text/plain": [
              "                list__value            list__key\n",
              "1                      2020              Baujahr\n",
              "2                       neu              Zustand\n",
              "3           9.00 m x 2.80 m       Länge x Breite\n",
              "4                    1.00 m             Tiefgang\n",
              "5                  2'200 kg          Verdrängung\n",
              "6   C - Küstennahe Gewässer     CE-Kennzeichnung\n",
              "7                      Holz             Material\n",
              "8                8 Personen  zugel. Personenzahl\n",
              "9                  1 Kabine         Anz. Kabinen\n",
              "10                   1 Koje           Anz. Kojen\n",
              "11              50 l Wasser     Frischwassertank\n",
              "12      Aussenborder 4-Takt              Antrieb\n",
              "13                  Mercury                Motor\n",
              "14      1 x 350 PS / 257 kW        Motorleistung\n",
              "15                 Bleifrei           Treibstoff\n",
              "16                    250 l       Brennstofftank\n",
              "17                      2 h         Motorstunden"
            ]
          },
          "metadata": {
            "tags": []
          },
          "execution_count": 285
        }
      ]
    }
  ]
}