{
  "nbformat": 4,
  "nbformat_minor": 0,
  "metadata": {
    "colab": {
      "name": "Introduction to EDA.ipynb",
      "provenance": [],
      "collapsed_sections": [],
      "include_colab_link": true
    },
    "kernelspec": {
      "name": "python3",
      "display_name": "Python 3"
    }
  },
  "cells": [
    {
      "cell_type": "markdown",
      "metadata": {
        "id": "view-in-github",
        "colab_type": "text"
      },
      "source": [
        "<a href=\"https://colab.research.google.com/github/michalis0/Business-Intelligence-and-Analytics/blob/master/week%203%20-%20Pandas%20-%20Data%20Cleaning/%20Introduction_to_EDA.ipynb\" target=\"_parent\"><img src=\"https://colab.research.google.com/assets/colab-badge.svg\" alt=\"Open In Colab\"/></a>"
      ]
    },
    {
      "cell_type": "code",
      "metadata": {
        "id": "-Et-C3loyXPx"
      },
      "source": [
        "#@title Walkthrough - Lab 3\n",
        "\n",
        "%%html\n",
        "\n",
        "<div>\n",
        "<td> \n",
        "<img src=\"https://www.unil.ch/logo/files/live/sites/logo/files/web/eps/lo_unil06_bleu.eps\" style=\"padding-right:10px;width:240px;float:left\"/></td>\n",
        "<h2 style=\"white-space: nowrap\">Business Intelligence and Analytics</h2></td>\n",
        "<hr style=\"clear:both\">\n",
        "<p style=\"font-size:0.85em; margin:2px; text-align:justify\">\n",
        "\n",
        "</div>"
      ],
      "execution_count": null,
      "outputs": []
    },
    {
      "cell_type": "markdown",
      "metadata": {
        "id": "V2ytee3GxKCe"
      },
      "source": [
        "\r\n",
        "\r\n",
        "The goal of this Walkthrough is to allow you to familiarize yourself with Exploratory Data Analysis (EDA), histograms and correlations.\r\n",
        "\r\n",
        "\r\n"
      ]
    },
    {
      "cell_type": "markdown",
      "metadata": {
        "id": "jyij8neZz4yD"
      },
      "source": [
        "# <a class=\"anchor\"></a> 1. Exploratory Data Analysis\r\n",
        "\r\n",
        "\r\n",
        "\r\n"
      ]
    },
    {
      "cell_type": "markdown",
      "metadata": {
        "id": "5gy-XniJZG9p"
      },
      "source": [
        "## <a class=\"anchor\"></a> 1.1. Loading and getting a first look at our Data \r\n"
      ]
    },
    {
      "cell_type": "code",
      "metadata": {
        "id": "HNZaB3NzUPt5"
      },
      "source": [
        "#Let's import pandas\r\n",
        "import pandas as pd\r\n",
        "import numpy as np\r\n",
        "import matplotlib\r\n",
        "import matplotlib.pyplot as plt\r\n",
        "import seaborn as sns\r\n"
      ],
      "execution_count": 77,
      "outputs": []
    },
    {
      "cell_type": "markdown",
      "metadata": {
        "id": "2Tc1olNXUl6D"
      },
      "source": [
        "The dataset we will use is available under the following url :`'https://data.cityofnewyork.us/api/views/43nn-pn8j/rows.csv?accessType=DOWNLOAD'`. This dataset containts the results of restaurant inspections in NYC."
      ]
    },
    {
      "cell_type": "code",
      "metadata": {
        "colab": {
          "base_uri": "https://localhost:8080/",
          "height": 678
        },
        "id": "3R9aJHOtVAep",
        "outputId": "6d7e5c97-c700-406b-876a-173a18580198"
      },
      "source": [
        "#You should already know what this block of code does. Ignore the arguments after url for now\r\n",
        "restaurants = pd.read_csv('https://data.cityofnewyork.us/api/views/43nn-pn8j/rows.csv?accessType=DOWNLOAD', \r\n",
        "                          encoding='utf_8', \r\n",
        "                          dtype = 'unicode',\r\n",
        "                          parse_dates = True,\r\n",
        "                          infer_datetime_format = True,\r\n",
        "                          low_memory=False)\r\n",
        "\r\n",
        "#Let's have a look at the data\r\n",
        "restaurants.head()"
      ],
      "execution_count": 78,
      "outputs": [
        {
          "output_type": "execute_result",
          "data": {
            "text/html": [
              "<div>\n",
              "<style scoped>\n",
              "    .dataframe tbody tr th:only-of-type {\n",
              "        vertical-align: middle;\n",
              "    }\n",
              "\n",
              "    .dataframe tbody tr th {\n",
              "        vertical-align: top;\n",
              "    }\n",
              "\n",
              "    .dataframe thead th {\n",
              "        text-align: right;\n",
              "    }\n",
              "</style>\n",
              "<table border=\"1\" class=\"dataframe\">\n",
              "  <thead>\n",
              "    <tr style=\"text-align: right;\">\n",
              "      <th></th>\n",
              "      <th>CAMIS</th>\n",
              "      <th>DBA</th>\n",
              "      <th>BORO</th>\n",
              "      <th>BUILDING</th>\n",
              "      <th>STREET</th>\n",
              "      <th>ZIPCODE</th>\n",
              "      <th>PHONE</th>\n",
              "      <th>CUISINE DESCRIPTION</th>\n",
              "      <th>INSPECTION DATE</th>\n",
              "      <th>ACTION</th>\n",
              "      <th>VIOLATION CODE</th>\n",
              "      <th>VIOLATION DESCRIPTION</th>\n",
              "      <th>CRITICAL FLAG</th>\n",
              "      <th>SCORE</th>\n",
              "      <th>GRADE</th>\n",
              "      <th>GRADE DATE</th>\n",
              "      <th>RECORD DATE</th>\n",
              "      <th>INSPECTION TYPE</th>\n",
              "      <th>Latitude</th>\n",
              "      <th>Longitude</th>\n",
              "      <th>Community Board</th>\n",
              "      <th>Council District</th>\n",
              "      <th>Census Tract</th>\n",
              "      <th>BIN</th>\n",
              "      <th>BBL</th>\n",
              "      <th>NTA</th>\n",
              "    </tr>\n",
              "  </thead>\n",
              "  <tbody>\n",
              "    <tr>\n",
              "      <th>0</th>\n",
              "      <td>41574968</td>\n",
              "      <td>PHAYUL RESTAURANT</td>\n",
              "      <td>Queens</td>\n",
              "      <td>3765</td>\n",
              "      <td>74 STREET</td>\n",
              "      <td>11372</td>\n",
              "      <td>7184241869</td>\n",
              "      <td>Asian</td>\n",
              "      <td>01/28/2020</td>\n",
              "      <td>Violations were cited in the following area(s).</td>\n",
              "      <td>10F</td>\n",
              "      <td>Non-food contact surface improperly constructe...</td>\n",
              "      <td>N</td>\n",
              "      <td>32</td>\n",
              "      <td>NaN</td>\n",
              "      <td>NaN</td>\n",
              "      <td>02/23/2021</td>\n",
              "      <td>Cycle Inspection / Initial Inspection</td>\n",
              "      <td>40.747172851789</td>\n",
              "      <td>-73.891483883179</td>\n",
              "      <td>403</td>\n",
              "      <td>25</td>\n",
              "      <td>028900</td>\n",
              "      <td>4029815</td>\n",
              "      <td>4012850004</td>\n",
              "      <td>QN28</td>\n",
              "    </tr>\n",
              "    <tr>\n",
              "      <th>1</th>\n",
              "      <td>40965048</td>\n",
              "      <td>UNCLE LOUIE G'S ITALIAN ICES &amp; ICE CREAM</td>\n",
              "      <td>Brooklyn</td>\n",
              "      <td>3138</td>\n",
              "      <td>AVENUE U</td>\n",
              "      <td>11229</td>\n",
              "      <td>7183661730</td>\n",
              "      <td>Ice Cream, Gelato, Yogurt, Ices</td>\n",
              "      <td>07/26/2017</td>\n",
              "      <td>Violations were cited in the following area(s).</td>\n",
              "      <td>10F</td>\n",
              "      <td>Non-food contact surface improperly constructe...</td>\n",
              "      <td>N</td>\n",
              "      <td>11</td>\n",
              "      <td>A</td>\n",
              "      <td>07/26/2017</td>\n",
              "      <td>02/23/2021</td>\n",
              "      <td>Cycle Inspection / Initial Inspection</td>\n",
              "      <td>40.60243191883</td>\n",
              "      <td>-73.933925756428</td>\n",
              "      <td>315</td>\n",
              "      <td>46</td>\n",
              "      <td>063200</td>\n",
              "      <td>3248250</td>\n",
              "      <td>3088190005</td>\n",
              "      <td>BK17</td>\n",
              "    </tr>\n",
              "    <tr>\n",
              "      <th>2</th>\n",
              "      <td>41577295</td>\n",
              "      <td>LECHONERA TROPICAL &amp; GRILL</td>\n",
              "      <td>Manhattan</td>\n",
              "      <td>172</td>\n",
              "      <td>EAST  103 STREET</td>\n",
              "      <td>10029</td>\n",
              "      <td>2127221344</td>\n",
              "      <td>Latin American (Central and South America)</td>\n",
              "      <td>10/04/2019</td>\n",
              "      <td>Violations were cited in the following area(s).</td>\n",
              "      <td>02B</td>\n",
              "      <td>Hot food item not held at or above 140º F.</td>\n",
              "      <td>Y</td>\n",
              "      <td>12</td>\n",
              "      <td>A</td>\n",
              "      <td>10/04/2019</td>\n",
              "      <td>02/23/2021</td>\n",
              "      <td>Cycle Inspection / Initial Inspection</td>\n",
              "      <td>40.789966950447</td>\n",
              "      <td>-73.946884242563</td>\n",
              "      <td>111</td>\n",
              "      <td>08</td>\n",
              "      <td>016600</td>\n",
              "      <td>1082390</td>\n",
              "      <td>1016300038</td>\n",
              "      <td>MN33</td>\n",
              "    </tr>\n",
              "    <tr>\n",
              "      <th>3</th>\n",
              "      <td>40660193</td>\n",
              "      <td>COOKIE'S LOUNGE</td>\n",
              "      <td>Queens</td>\n",
              "      <td>13208</td>\n",
              "      <td>CROSSBAY BOULEVARD</td>\n",
              "      <td>11417</td>\n",
              "      <td>7188355693</td>\n",
              "      <td>American</td>\n",
              "      <td>11/21/2017</td>\n",
              "      <td>Violations were cited in the following area(s).</td>\n",
              "      <td>04H</td>\n",
              "      <td>Raw, cooked or prepared food is adulterated, c...</td>\n",
              "      <td>Y</td>\n",
              "      <td>9</td>\n",
              "      <td>A</td>\n",
              "      <td>11/21/2017</td>\n",
              "      <td>02/23/2021</td>\n",
              "      <td>Cycle Inspection / Initial Inspection</td>\n",
              "      <td>40.676469925937</td>\n",
              "      <td>-73.843657609252</td>\n",
              "      <td>410</td>\n",
              "      <td>32</td>\n",
              "      <td>005800</td>\n",
              "      <td>4245349</td>\n",
              "      <td>4113540024</td>\n",
              "      <td>QN56</td>\n",
              "    </tr>\n",
              "    <tr>\n",
              "      <th>4</th>\n",
              "      <td>40974766</td>\n",
              "      <td>CHIKALICIOUS DESSERT BAR</td>\n",
              "      <td>Manhattan</td>\n",
              "      <td>203</td>\n",
              "      <td>EAST   10 STREET</td>\n",
              "      <td>10003</td>\n",
              "      <td>2129959511</td>\n",
              "      <td>Other</td>\n",
              "      <td>06/15/2017</td>\n",
              "      <td>Violations were cited in the following area(s).</td>\n",
              "      <td>04K</td>\n",
              "      <td>Evidence of rats or live rats present in facil...</td>\n",
              "      <td>Y</td>\n",
              "      <td>12</td>\n",
              "      <td>A</td>\n",
              "      <td>06/15/2017</td>\n",
              "      <td>02/23/2021</td>\n",
              "      <td>Cycle Inspection / Initial Inspection</td>\n",
              "      <td>40.729590997049</td>\n",
              "      <td>-73.986368724227</td>\n",
              "      <td>103</td>\n",
              "      <td>02</td>\n",
              "      <td>004000</td>\n",
              "      <td>1006433</td>\n",
              "      <td>1004520001</td>\n",
              "      <td>MN22</td>\n",
              "    </tr>\n",
              "  </tbody>\n",
              "</table>\n",
              "</div>"
            ],
            "text/plain": [
              "      CAMIS                                       DBA  ...         BBL   NTA\n",
              "0  41574968                         PHAYUL RESTAURANT  ...  4012850004  QN28\n",
              "1  40965048  UNCLE LOUIE G'S ITALIAN ICES & ICE CREAM  ...  3088190005  BK17\n",
              "2  41577295                LECHONERA TROPICAL & GRILL  ...  1016300038  MN33\n",
              "3  40660193                           COOKIE'S LOUNGE  ...  4113540024  QN56\n",
              "4  40974766                  CHIKALICIOUS DESSERT BAR  ...  1004520001  MN22\n",
              "\n",
              "[5 rows x 26 columns]"
            ]
          },
          "metadata": {
            "tags": []
          },
          "execution_count": 78
        }
      ]
    },
    {
      "cell_type": "markdown",
      "metadata": {
        "id": "htjkc528WuVJ"
      },
      "source": [
        "Let's use the `.describe()` function to get a quick overview of the Data we will be working with.\r\n"
      ]
    },
    {
      "cell_type": "code",
      "metadata": {
        "colab": {
          "base_uri": "https://localhost:8080/",
          "height": 299
        },
        "id": "ZaGkZwPSXhZ4",
        "outputId": "83b2286d-8dee-4b8a-994c-d33285624d60"
      },
      "source": [
        "restaurants.describe()"
      ],
      "execution_count": 79,
      "outputs": [
        {
          "output_type": "execute_result",
          "data": {
            "text/html": [
              "<div>\n",
              "<style scoped>\n",
              "    .dataframe tbody tr th:only-of-type {\n",
              "        vertical-align: middle;\n",
              "    }\n",
              "\n",
              "    .dataframe tbody tr th {\n",
              "        vertical-align: top;\n",
              "    }\n",
              "\n",
              "    .dataframe thead th {\n",
              "        text-align: right;\n",
              "    }\n",
              "</style>\n",
              "<table border=\"1\" class=\"dataframe\">\n",
              "  <thead>\n",
              "    <tr style=\"text-align: right;\">\n",
              "      <th></th>\n",
              "      <th>CAMIS</th>\n",
              "      <th>DBA</th>\n",
              "      <th>BORO</th>\n",
              "      <th>BUILDING</th>\n",
              "      <th>STREET</th>\n",
              "      <th>ZIPCODE</th>\n",
              "      <th>PHONE</th>\n",
              "      <th>CUISINE DESCRIPTION</th>\n",
              "      <th>INSPECTION DATE</th>\n",
              "      <th>ACTION</th>\n",
              "      <th>VIOLATION CODE</th>\n",
              "      <th>VIOLATION DESCRIPTION</th>\n",
              "      <th>CRITICAL FLAG</th>\n",
              "      <th>SCORE</th>\n",
              "      <th>GRADE</th>\n",
              "      <th>GRADE DATE</th>\n",
              "      <th>RECORD DATE</th>\n",
              "      <th>INSPECTION TYPE</th>\n",
              "      <th>Latitude</th>\n",
              "      <th>Longitude</th>\n",
              "      <th>Community Board</th>\n",
              "      <th>Council District</th>\n",
              "      <th>Census Tract</th>\n",
              "      <th>BIN</th>\n",
              "      <th>BBL</th>\n",
              "      <th>NTA</th>\n",
              "    </tr>\n",
              "  </thead>\n",
              "  <tbody>\n",
              "    <tr>\n",
              "      <th>count</th>\n",
              "      <td>396331</td>\n",
              "      <td>395681</td>\n",
              "      <td>396331</td>\n",
              "      <td>395031</td>\n",
              "      <td>396245</td>\n",
              "      <td>389631</td>\n",
              "      <td>396313</td>\n",
              "      <td>396331</td>\n",
              "      <td>396331</td>\n",
              "      <td>392826</td>\n",
              "      <td>388549</td>\n",
              "      <td>385220</td>\n",
              "      <td>385220</td>\n",
              "      <td>377669</td>\n",
              "      <td>200141</td>\n",
              "      <td>197852</td>\n",
              "      <td>396331</td>\n",
              "      <td>392826</td>\n",
              "      <td>394653</td>\n",
              "      <td>394653</td>\n",
              "      <td>388075</td>\n",
              "      <td>388075</td>\n",
              "      <td>388075</td>\n",
              "      <td>386289</td>\n",
              "      <td>394653</td>\n",
              "      <td>388075</td>\n",
              "    </tr>\n",
              "    <tr>\n",
              "      <th>unique</th>\n",
              "      <td>29165</td>\n",
              "      <td>22846</td>\n",
              "      <td>6</td>\n",
              "      <td>8134</td>\n",
              "      <td>2399</td>\n",
              "      <td>230</td>\n",
              "      <td>26971</td>\n",
              "      <td>82</td>\n",
              "      <td>1418</td>\n",
              "      <td>5</td>\n",
              "      <td>105</td>\n",
              "      <td>90</td>\n",
              "      <td>2</td>\n",
              "      <td>136</td>\n",
              "      <td>7</td>\n",
              "      <td>1306</td>\n",
              "      <td>1</td>\n",
              "      <td>31</td>\n",
              "      <td>23346</td>\n",
              "      <td>23346</td>\n",
              "      <td>68</td>\n",
              "      <td>51</td>\n",
              "      <td>1190</td>\n",
              "      <td>20257</td>\n",
              "      <td>19919</td>\n",
              "      <td>193</td>\n",
              "    </tr>\n",
              "    <tr>\n",
              "      <th>top</th>\n",
              "      <td>50018552</td>\n",
              "      <td>DUNKIN'</td>\n",
              "      <td>Manhattan</td>\n",
              "      <td>1</td>\n",
              "      <td>BROADWAY</td>\n",
              "      <td>10003</td>\n",
              "      <td>7185958100</td>\n",
              "      <td>American</td>\n",
              "      <td>01/01/1900</td>\n",
              "      <td>Violations were cited in the following area(s).</td>\n",
              "      <td>10F</td>\n",
              "      <td>Non-food contact surface improperly constructe...</td>\n",
              "      <td>Y</td>\n",
              "      <td>12</td>\n",
              "      <td>A</td>\n",
              "      <td>06/13/2019</td>\n",
              "      <td>02/23/2021</td>\n",
              "      <td>Cycle Inspection / Initial Inspection</td>\n",
              "      <td>0</td>\n",
              "      <td>0</td>\n",
              "      <td>105</td>\n",
              "      <td>03</td>\n",
              "      <td>003800</td>\n",
              "      <td>4000000</td>\n",
              "      <td>1</td>\n",
              "      <td>MN17</td>\n",
              "    </tr>\n",
              "    <tr>\n",
              "      <th>freq</th>\n",
              "      <td>98</td>\n",
              "      <td>4149</td>\n",
              "      <td>155933</td>\n",
              "      <td>2222</td>\n",
              "      <td>14423</td>\n",
              "      <td>10214</td>\n",
              "      <td>274</td>\n",
              "      <td>81766</td>\n",
              "      <td>3505</td>\n",
              "      <td>368469</td>\n",
              "      <td>56446</td>\n",
              "      <td>56446</td>\n",
              "      <td>215209</td>\n",
              "      <td>41510</td>\n",
              "      <td>158692</td>\n",
              "      <td>490</td>\n",
              "      <td>396331</td>\n",
              "      <td>230941</td>\n",
              "      <td>6578</td>\n",
              "      <td>6578</td>\n",
              "      <td>31812</td>\n",
              "      <td>34740</td>\n",
              "      <td>3240</td>\n",
              "      <td>1575</td>\n",
              "      <td>3925</td>\n",
              "      <td>23458</td>\n",
              "    </tr>\n",
              "  </tbody>\n",
              "</table>\n",
              "</div>"
            ],
            "text/plain": [
              "           CAMIS      DBA       BORO  ...      BIN     BBL     NTA\n",
              "count     396331   395681     396331  ...   386289  394653  388075\n",
              "unique     29165    22846          6  ...    20257   19919     193\n",
              "top     50018552  DUNKIN'  Manhattan  ...  4000000       1    MN17\n",
              "freq          98     4149     155933  ...     1575    3925   23458\n",
              "\n",
              "[4 rows x 26 columns]"
            ]
          },
          "metadata": {
            "tags": []
          },
          "execution_count": 79
        }
      ]
    },
    {
      "cell_type": "markdown",
      "metadata": {
        "id": "sFlEcTbLZZEr"
      },
      "source": [
        "## <a class=\"anchor\"></a> 1.2. Dtypes and descriptive statistics\r\n",
        "\r\n",
        "Recall from week2 that there are different dtypes in Pandas. Have a look at this table once again:\r\n",
        "\r\n",
        "\r\n",
        "| Pandas dtype  | Python type  | NumPy type|Usage\r\n",
        "| :--- | :--- | :--- | :--- |\r\n",
        "| object| str or mixed | string_, unicode_, mixed types| Text or mixed numeric and non_numeric values |\r\n",
        "| int 64| int| int_, int8, int16, int32, int64, uint8, uint18, uint32, uint64 | Integer numbers i.e. [1,2,3,...] |\r\n",
        "| float64| float| float_, float15, float32, float64 | Floating point numbers (They contain decimal points) |\r\n",
        "| bool| bool|bool_| True/False values|\r\n",
        "| datetime64 | NA | datetime64[ns]     | Date and time values  |\r\n",
        "| timedelta[ns] | NA  | NA| Differences between two datetime|\r\n",
        "| category | NA| NA| Finite list of text values|\r\n",
        "\r\n",
        "\r\n",
        "Now let's see what the dtypes of our DF are:\r\n"
      ]
    },
    {
      "cell_type": "code",
      "metadata": {
        "colab": {
          "base_uri": "https://localhost:8080/"
        },
        "id": "fOVgjWctXtvp",
        "outputId": "aaf1d6e4-eaf2-4f82-d323-5d967d583686"
      },
      "source": [
        "restaurants.dtypes"
      ],
      "execution_count": 80,
      "outputs": [
        {
          "output_type": "execute_result",
          "data": {
            "text/plain": [
              "CAMIS                    object\n",
              "DBA                      object\n",
              "BORO                     object\n",
              "BUILDING                 object\n",
              "STREET                   object\n",
              "ZIPCODE                  object\n",
              "PHONE                    object\n",
              "CUISINE DESCRIPTION      object\n",
              "INSPECTION DATE          object\n",
              "ACTION                   object\n",
              "VIOLATION CODE           object\n",
              "VIOLATION DESCRIPTION    object\n",
              "CRITICAL FLAG            object\n",
              "SCORE                    object\n",
              "GRADE                    object\n",
              "GRADE DATE               object\n",
              "RECORD DATE              object\n",
              "INSPECTION TYPE          object\n",
              "Latitude                 object\n",
              "Longitude                object\n",
              "Community Board          object\n",
              "Council District         object\n",
              "Census Tract             object\n",
              "BIN                      object\n",
              "BBL                      object\n",
              "NTA                      object\n",
              "dtype: object"
            ]
          },
          "metadata": {
            "tags": []
          },
          "execution_count": 80
        }
      ]
    },
    {
      "cell_type": "markdown",
      "metadata": {
        "id": "F6cXeIxnir33"
      },
      "source": [
        "### <a class=\"anchor\"></a> 1.2.1 Descriptive Statistics for numerical variables\n",
        " All our colums are `object` type. We will use the `pd.to_numeric()` function to convert some of the columns to `float64` type and see if the `.describe()` funciton can give us some more useful statistical information."
      ]
    },
    {
      "cell_type": "code",
      "metadata": {
        "colab": {
          "base_uri": "https://localhost:8080/"
        },
        "id": "3Z7jTfsQaRKp",
        "outputId": "1773e7d4-e49f-40dc-af57-04f4575a7095"
      },
      "source": [
        "#We convert the \"SCORE\" column to numeric\r\n",
        "restaurants[\"SCORE\"] = pd.to_numeric(restaurants[\"SCORE\"])\r\n",
        "\r\n",
        "#Describe the SCORE column\r\n",
        "restaurants.SCORE.describe()"
      ],
      "execution_count": 81,
      "outputs": [
        {
          "output_type": "execute_result",
          "data": {
            "text/plain": [
              "count    377669.000000\n",
              "mean         20.114108\n",
              "std          14.731309\n",
              "min          -1.000000\n",
              "25%          11.000000\n",
              "50%          15.000000\n",
              "75%          26.000000\n",
              "max         164.000000\n",
              "Name: SCORE, dtype: float64"
            ]
          },
          "metadata": {
            "tags": []
          },
          "execution_count": 81
        }
      ]
    },
    {
      "cell_type": "markdown",
      "metadata": {
        "id": "dWT6EPKDE8zE"
      },
      "source": [
        "Now that SCORE is a numeric variable, we can use the `.hist()` function to plot an histogram and get a better look at our data."
      ]
    },
    {
      "cell_type": "code",
      "metadata": {
        "colab": {
          "base_uri": "https://localhost:8080/",
          "height": 284
        },
        "id": "8jvoTXbVE-rA",
        "outputId": "ae6a7f63-f124-4bf6-dd59-0f504d4419eb"
      },
      "source": [
        "restaurants[\"SCORE\"].hist()"
      ],
      "execution_count": 82,
      "outputs": [
        {
          "output_type": "execute_result",
          "data": {
            "text/plain": [
              "<matplotlib.axes._subplots.AxesSubplot at 0x7fb5c5f11550>"
            ]
          },
          "metadata": {
            "tags": []
          },
          "execution_count": 82
        },
        {
          "output_type": "display_data",
          "data": {
            "image/png": "[encoded data removed]",
            "text/plain": [
              "<Figure size 432x288 with 1 Axes>"
            ]
          },
          "metadata": {
            "tags": [],
            "needs_background": "light"
          }
        }
      ]
    },
    {
      "cell_type": "markdown",
      "metadata": {
        "id": "NLHK6ncaGNsB"
      },
      "source": [
        "The `hist()` function allows to pass multiple arguments, you can find more information if you follow this [link](https://pandas.pydata.org/pandas-docs/stable/reference/api/pandas.DataFrame.hist.html)\r\n"
      ]
    },
    {
      "cell_type": "code",
      "metadata": {
        "colab": {
          "base_uri": "https://localhost:8080/",
          "height": 283
        },
        "id": "0ZmdQWYHHl7g",
        "outputId": "562dfdd7-7656-4fd4-a4e5-ace7b63e6dbf"
      },
      "source": [
        "restaurants[\"SCORE\"].hist(bins = 50)"
      ],
      "execution_count": 83,
      "outputs": [
        {
          "output_type": "execute_result",
          "data": {
            "text/plain": [
              "<matplotlib.axes._subplots.AxesSubplot at 0x7fb5c3b3fad0>"
            ]
          },
          "metadata": {
            "tags": []
          },
          "execution_count": 83
        },
        {
          "output_type": "display_data",
          "data": {
            "image/png": "[encoded data removed]",
            "text/plain": [
              "<Figure size 432x288 with 1 Axes>"
            ]
          },
          "metadata": {
            "tags": [],
            "needs_background": "light"
          }
        }
      ]
    },
    {
      "cell_type": "code",
      "metadata": {
        "colab": {
          "base_uri": "https://localhost:8080/",
          "height": 338
        },
        "id": "XGZTeED5Hyrg",
        "outputId": "975e44cb-b1b4-48b8-b23d-772aa6eb99b4"
      },
      "source": [
        "# A quick exposure to various options of the \"hist\" command \r\n",
        "restaurants.SCORE.hist(bins=50, # use 50 bars\r\n",
        "                          range=(0,50), # x-axis from 0 to 50\r\n",
        "                          density=False,  # show normalized count (density=True), or raw counts (density= False)\r\n",
        "                          figsize=(15,5), # controls the size of the plot\r\n",
        "                          alpha = 0.8 # make the plot 20% transparent\r\n",
        "                         )"
      ],
      "execution_count": 84,
      "outputs": [
        {
          "output_type": "execute_result",
          "data": {
            "text/plain": [
              "<matplotlib.axes._subplots.AxesSubplot at 0x7fb5c5f11190>"
            ]
          },
          "metadata": {
            "tags": []
          },
          "execution_count": 84
        },
        {
          "output_type": "display_data",
          "data": {
            "image/png": "[encoded data removed]",
            "text/plain": [
              "<Figure size 1080x360 with 1 Axes>"
            ]
          },
          "metadata": {
            "tags": [],
            "needs_background": "light"
          }
        }
      ]
    },
    {
      "cell_type": "markdown",
      "metadata": {
        "id": "QskynHO7ayNR"
      },
      "source": [
        "We now have some statistical information for the SCORE column. Let's convert some other columns to a more useful type."
      ]
    },
    {
      "cell_type": "markdown",
      "metadata": {
        "id": "ncwnUCNKch05"
      },
      "source": [
        "### <a class=\"anchor\"></a> 1.2.2 Descriptive statistics for DATETIME variables\r\n",
        "\r\n",
        "\r\n",
        "Remember that one of the dtypes handles Date and Time. Some of the columns in our DF contain this type of data, so let's convert these columns to the `datetime64` dtype.\r\n"
      ]
    },
    {
      "cell_type": "code",
      "metadata": {
        "colab": {
          "base_uri": "https://localhost:8080/"
        },
        "id": "GpHpl-lXdXOI",
        "outputId": "f84656e1-db14-483a-8f9f-8022f44748df"
      },
      "source": [
        "restaurants[\"GRADE DATE\"].head(10)"
      ],
      "execution_count": 88,
      "outputs": [
        {
          "output_type": "execute_result",
          "data": {
            "text/plain": [
              "0           NaN\n",
              "1    07/26/2017\n",
              "2    10/04/2019\n",
              "3    11/21/2017\n",
              "4    06/15/2017\n",
              "5           NaN\n",
              "6           NaN\n",
              "7    11/01/2017\n",
              "8    09/12/2019\n",
              "9           NaN\n",
              "Name: GRADE DATE, dtype: object"
            ]
          },
          "metadata": {
            "tags": []
          },
          "execution_count": 88
        }
      ]
    },
    {
      "cell_type": "markdown",
      "metadata": {
        "id": "HM24xiHNdokw"
      },
      "source": [
        "For that, we need to understand first how to parse dates using the [Python conventions.](https://docs.python.org/3/library/datetime.html#strftime-and-strptime-behavior) \r\n",
        "\r\n",
        "The relevant entries from the table are:\r\n",
        "\r\n",
        "    %m Month as a zero-padded decimal number.\r\n",
        "    %d Day of the month as a zero-padded decimal number.\r\n",
        "    %Y Year with century as a decimal number.\r\n",
        "\r\n",
        "Now that we know in what format the dates were entried (remember that americans write dates like this `month/day/year` , as opposed to `day/month/year`), we can convert our columns."
      ]
    },
    {
      "cell_type": "code",
      "metadata": {
        "colab": {
          "base_uri": "https://localhost:8080/"
        },
        "id": "WkFnmcNNea9I",
        "outputId": "3eeb05a6-a686-47aa-c999-875b962cce43"
      },
      "source": [
        "#We convert some columnd to the datetime64 tyoe\r\n",
        "restaurants[\"GRADE DATE\"] = pd.to_datetime(restaurants[\"GRADE DATE\"], format=\"%m/%d/%Y\")\r\n",
        "restaurants[\"RECORD DATE\"] = pd.to_datetime(restaurants[\"RECORD DATE\"], format=\"%m/%d/%Y\")\r\n",
        "restaurants[\"INSPECTION DATE\"] = pd.to_datetime(restaurants[\"INSPECTION DATE\"], format=\"%m/%d/%Y\")\r\n",
        "\r\n",
        "#Now we have another look at the dtaypes\r\n",
        "restaurants.dtypes"
      ],
      "execution_count": 89,
      "outputs": [
        {
          "output_type": "execute_result",
          "data": {
            "text/plain": [
              "CAMIS                             int64\n",
              "DBA                              object\n",
              "BORO                             object\n",
              "BUILDING                         object\n",
              "STREET                           object\n",
              "ZIPCODE                         float64\n",
              "PHONE                           float64\n",
              "CUISINE DESCRIPTION              object\n",
              "INSPECTION DATE          datetime64[ns]\n",
              "ACTION                           object\n",
              "VIOLATION CODE                   object\n",
              "VIOLATION DESCRIPTION            object\n",
              "CRITICAL FLAG                    object\n",
              "SCORE                           float64\n",
              "GRADE                            object\n",
              "GRADE DATE               datetime64[ns]\n",
              "RECORD DATE              datetime64[ns]\n",
              "INSPECTION TYPE                  object\n",
              "Latitude                         object\n",
              "Longitude                        object\n",
              "Community Board                 float64\n",
              "Council District                float64\n",
              "Census Tract                    float64\n",
              "BIN                             float64\n",
              "BBL                             float64\n",
              "NTA                              object\n",
              "dtype: object"
            ]
          },
          "metadata": {
            "tags": []
          },
          "execution_count": 89
        }
      ]
    },
    {
      "cell_type": "markdown",
      "metadata": {
        "id": "x7FU3IlEe1MR"
      },
      "source": [
        "Let's see what the `.describe()` function can do now."
      ]
    },
    {
      "cell_type": "code",
      "metadata": {
        "colab": {
          "base_uri": "https://localhost:8080/",
          "height": 269
        },
        "id": "QjHjatoRedo5",
        "outputId": "fcdcad0b-41c1-4608-a69b-0c2e92436b7a"
      },
      "source": [
        "restaurants[[\"INSPECTION DATE\", \"GRADE DATE\", \"RECORD DATE\"]].describe(datetime_is_numeric=True)"
      ],
      "execution_count": 90,
      "outputs": [
        {
          "output_type": "execute_result",
          "data": {
            "text/html": [
              "<div>\n",
              "<style scoped>\n",
              "    .dataframe tbody tr th:only-of-type {\n",
              "        vertical-align: middle;\n",
              "    }\n",
              "\n",
              "    .dataframe tbody tr th {\n",
              "        vertical-align: top;\n",
              "    }\n",
              "\n",
              "    .dataframe thead th {\n",
              "        text-align: right;\n",
              "    }\n",
              "</style>\n",
              "<table border=\"1\" class=\"dataframe\">\n",
              "  <thead>\n",
              "    <tr style=\"text-align: right;\">\n",
              "      <th></th>\n",
              "      <th>INSPECTION DATE</th>\n",
              "      <th>GRADE DATE</th>\n",
              "      <th>RECORD DATE</th>\n",
              "    </tr>\n",
              "  </thead>\n",
              "  <tbody>\n",
              "    <tr>\n",
              "      <th>count</th>\n",
              "      <td>396331</td>\n",
              "      <td>197852</td>\n",
              "      <td>396331</td>\n",
              "    </tr>\n",
              "    <tr>\n",
              "      <th>mean</th>\n",
              "      <td>2017-09-01 12:08:09.299996928</td>\n",
              "      <td>2018-09-16 16:47:51.091618048</td>\n",
              "      <td>2021-02-22 23:59:59.988484352</td>\n",
              "    </tr>\n",
              "    <tr>\n",
              "      <th>min</th>\n",
              "      <td>1900-01-01 00:00:00</td>\n",
              "      <td>2011-05-27 00:00:00</td>\n",
              "      <td>2021-02-23 00:00:00</td>\n",
              "    </tr>\n",
              "    <tr>\n",
              "      <th>25%</th>\n",
              "      <td>2017-12-28 00:00:00</td>\n",
              "      <td>2018-01-11 00:00:00</td>\n",
              "      <td>2021-02-23 00:00:00</td>\n",
              "    </tr>\n",
              "    <tr>\n",
              "      <th>50%</th>\n",
              "      <td>2018-10-24 00:00:00</td>\n",
              "      <td>2018-10-23 00:00:00</td>\n",
              "      <td>2021-02-23 00:00:00</td>\n",
              "    </tr>\n",
              "    <tr>\n",
              "      <th>75%</th>\n",
              "      <td>2019-07-11 00:00:00</td>\n",
              "      <td>2019-07-03 00:00:00</td>\n",
              "      <td>2021-02-23 00:00:00</td>\n",
              "    </tr>\n",
              "    <tr>\n",
              "      <th>max</th>\n",
              "      <td>2021-02-17 00:00:00</td>\n",
              "      <td>2020-12-31 00:00:00</td>\n",
              "      <td>2021-02-23 00:00:00</td>\n",
              "    </tr>\n",
              "  </tbody>\n",
              "</table>\n",
              "</div>"
            ],
            "text/plain": [
              "                     INSPECTION DATE  ...                    RECORD DATE\n",
              "count                         396331  ...                         396331\n",
              "mean   2017-09-01 12:08:09.299996928  ...  2021-02-22 23:59:59.988484352\n",
              "min              1900-01-01 00:00:00  ...            2021-02-23 00:00:00\n",
              "25%              2017-12-28 00:00:00  ...            2021-02-23 00:00:00\n",
              "50%              2018-10-24 00:00:00  ...            2021-02-23 00:00:00\n",
              "75%              2019-07-11 00:00:00  ...            2021-02-23 00:00:00\n",
              "max              2021-02-17 00:00:00  ...            2021-02-23 00:00:00\n",
              "\n",
              "[7 rows x 3 columns]"
            ]
          },
          "metadata": {
            "tags": []
          },
          "execution_count": 90
        }
      ]
    },
    {
      "cell_type": "markdown",
      "metadata": {
        "id": "J0rTfZ5medCI"
      },
      "source": [
        "### <a class=\"anchor\"></a> 1.2.3 Descriptive statistics for categorical variables\r\n",
        "\r\n",
        "Now let's handle categorical data. This is most commonly useful when we have variables that have an implicit order (e.g., the A/B/C grade of the restaurant).\r\n",
        "\r\n",
        "We can use the pandas `.Categorical` function for this."
      ]
    },
    {
      "cell_type": "code",
      "metadata": {
        "colab": {
          "base_uri": "https://localhost:8080/"
        },
        "id": "F_U3zpWKfslZ",
        "outputId": "b77fe5a4-007a-4e5f-eefd-2983d9cda71a"
      },
      "source": [
        "#We convert the categorical columns\r\n",
        "restaurants[\"BORO\"] =  pd.Categorical(restaurants[\"BORO\"], ordered=False)\r\n",
        "restaurants[\"GRADE\"] =  pd.Categorical(restaurants[\"GRADE\"], categories = ['A', 'B', 'C'], ordered=True)\r\n",
        "restaurants[\"VIOLATION CODE\"] =  pd.Categorical(restaurants[\"VIOLATION CODE\"], ordered=False)\r\n",
        "restaurants[\"CRITICAL FLAG\"] =  pd.Categorical(restaurants[\"CRITICAL FLAG\"], ordered=False)\r\n",
        "restaurants[\"ACTION\"] =  pd.Categorical(restaurants[\"ACTION\"], ordered=False)\r\n",
        "restaurants[\"CUISINE DESCRIPTION\"] =  pd.Categorical(restaurants[\"CUISINE DESCRIPTION\"], ordered=False)\r\n",
        "\r\n",
        "#We have another look at the dtypes\r\n",
        "restaurants.dtypes"
      ],
      "execution_count": 91,
      "outputs": [
        {
          "output_type": "execute_result",
          "data": {
            "text/plain": [
              "CAMIS                             int64\n",
              "DBA                              object\n",
              "BORO                           category\n",
              "BUILDING                         object\n",
              "STREET                           object\n",
              "ZIPCODE                         float64\n",
              "PHONE                           float64\n",
              "CUISINE DESCRIPTION            category\n",
              "INSPECTION DATE          datetime64[ns]\n",
              "ACTION                         category\n",
              "VIOLATION CODE                 category\n",
              "VIOLATION DESCRIPTION            object\n",
              "CRITICAL FLAG                  category\n",
              "SCORE                           float64\n",
              "GRADE                          category\n",
              "GRADE DATE               datetime64[ns]\n",
              "RECORD DATE              datetime64[ns]\n",
              "INSPECTION TYPE                  object\n",
              "Latitude                         object\n",
              "Longitude                        object\n",
              "Community Board                 float64\n",
              "Council District                float64\n",
              "Census Tract                    float64\n",
              "BIN                             float64\n",
              "BBL                             float64\n",
              "NTA                              object\n",
              "dtype: object"
            ]
          },
          "metadata": {
            "tags": []
          },
          "execution_count": 91
        }
      ]
    },
    {
      "cell_type": "code",
      "metadata": {
        "colab": {
          "base_uri": "https://localhost:8080/"
        },
        "id": "fytkMZlFgan5",
        "outputId": "4be1172b-c2e3-491b-c95d-4262fddac5bb"
      },
      "source": [
        "restaurants[\"DBA\"].value_counts()[:10]"
      ],
      "execution_count": 92,
      "outputs": [
        {
          "output_type": "execute_result",
          "data": {
            "text/plain": [
              "DUNKIN'                                  4149\n",
              "SUBWAY                                   2944\n",
              "STARBUCKS                                2130\n",
              "MCDONALD'S                               1925\n",
              "KENNEDY FRIED CHICKEN                    1339\n",
              "DUNKIN', BASKIN ROBBINS                  1165\n",
              "CROWN FRIED CHICKEN                      1106\n",
              "BURGER KING                              1031\n",
              "POPEYES                                   950\n",
              "GOLDEN KRUST CARIBBEAN BAKERY & GRILL     780\n",
              "Name: DBA, dtype: int64"
            ]
          },
          "metadata": {
            "tags": []
          },
          "execution_count": 92
        }
      ]
    },
    {
      "cell_type": "markdown",
      "metadata": {
        "id": "w9EaoV62gh4w"
      },
      "source": [
        "An explanation:\r\n",
        " * The `value_counts()` function counts how many different values there are.\r\n",
        " * The `[:10]` filters the list, thus showing us only the first 10 values.  \r\n",
        "\r\n",
        "\r\n",
        " "
      ]
    },
    {
      "cell_type": "code",
      "metadata": {
        "colab": {
          "base_uri": "https://localhost:8080/"
        },
        "id": "izY0a0Qyg_K6",
        "outputId": "1aaf04e9-842e-4130-ca42-3660ba5c5d89"
      },
      "source": [
        "restaurants[\"CUISINE DESCRIPTION\"].value_counts()[:5]"
      ],
      "execution_count": 93,
      "outputs": [
        {
          "output_type": "execute_result",
          "data": {
            "text/plain": [
              "American                                      81766\n",
              "Chinese                                       41607\n",
              "Pizza                                         25394\n",
              "Café/Coffee/Tea                               19616\n",
              "Latin American (Central and South America)    17301\n",
              "Name: CUISINE DESCRIPTION, dtype: int64"
            ]
          },
          "metadata": {
            "tags": []
          },
          "execution_count": 93
        }
      ]
    },
    {
      "cell_type": "markdown",
      "metadata": {
        "id": "YXRJhWgMhErJ"
      },
      "source": [
        "We can also plot the data, lets start by plotting the different categories of food with the `.plot()` function."
      ]
    },
    {
      "cell_type": "code",
      "metadata": {
        "colab": {
          "base_uri": "https://localhost:8080/",
          "height": 494
        },
        "id": "38BuE0behB_o",
        "outputId": "d78aff57-683e-4930-8240-54280d0df334"
      },
      "source": [
        "restaurants[\"CUISINE DESCRIPTION\"].value_counts()[:5].plot(kind='bar')"
      ],
      "execution_count": 94,
      "outputs": [
        {
          "output_type": "execute_result",
          "data": {
            "text/plain": [
              "<matplotlib.axes._subplots.AxesSubplot at 0x7fb5ceea6110>"
            ]
          },
          "metadata": {
            "tags": []
          },
          "execution_count": 94
        },
        {
          "output_type": "display_data",
          "data": {
            "image/png": "[encoded data removed]",
            "text/plain": [
              "<Figure size 432x288 with 1 Axes>"
            ]
          },
          "metadata": {
            "tags": [],
            "needs_background": "light"
          }
        }
      ]
    },
    {
      "cell_type": "code",
      "metadata": {
        "colab": {
          "base_uri": "https://localhost:8080/"
        },
        "id": "PM_T_wejhv8g",
        "outputId": "09d4a3f3-019c-46ed-ff4f-8deb1dafa4b4"
      },
      "source": [
        "popular = restaurants[\"CUISINE DESCRIPTION\"].value_counts()\r\n",
        "popular"
      ],
      "execution_count": 95,
      "outputs": [
        {
          "output_type": "execute_result",
          "data": {
            "text/plain": [
              "American                                      81766\n",
              "Chinese                                       41607\n",
              "Pizza                                         25394\n",
              "Café/Coffee/Tea                               19616\n",
              "Latin American (Central and South America)    17301\n",
              "                                              ...  \n",
              "Iranian                                          68\n",
              "Czech                                            43\n",
              "Nuts/Confectionary                               43\n",
              "Chilean                                          32\n",
              "Basque                                            9\n",
              "Name: CUISINE DESCRIPTION, Length: 82, dtype: int64"
            ]
          },
          "metadata": {
            "tags": []
          },
          "execution_count": 95
        }
      ]
    },
    {
      "cell_type": "markdown",
      "metadata": {
        "id": "dY3l8-w_iWgw"
      },
      "source": [
        "If you have a look at the results of the last block of code, you will see that is seems to be quite detailed. We might for example want to treat \"Cuban\", \"Dominican\", \"Puerto Rican\", \"South & Central American\" just as \"Latin American\".\r\n",
        "\r\n",
        "The `.replace()` function allows us to do this."
      ]
    },
    {
      "cell_type": "code",
      "metadata": {
        "id": "picE57BmiUYY"
      },
      "source": [
        "#Latin American food\r\n",
        "restaurants[\"CUISINE DESCRIPTION\"].replace(\r\n",
        "    to_replace=['Latin American (Central and South America)', 'Chilean'],\r\n",
        "    value = 'Latin American',\r\n",
        "    inplace=True\r\n",
        ")\r\n",
        "\r\n",
        "#Coffe bar\r\n",
        "restaurants[\"CUISINE DESCRIPTION\"].replace(\r\n",
        "    to_replace='CafÃ©/Coffee/Tea',\r\n",
        "    value = 'Cafe/Coffee/Tea',\r\n",
        "    inplace=True\r\n",
        ")"
      ],
      "execution_count": 96,
      "outputs": []
    },
    {
      "cell_type": "code",
      "metadata": {
        "colab": {
          "base_uri": "https://localhost:8080/"
        },
        "id": "k7_Jad3FJzms",
        "outputId": "9c60d2f5-0a89-4886-b597-c95872307b7a"
      },
      "source": [
        "popular = restaurants[\"CUISINE DESCRIPTION\"].value_counts()\r\n",
        "popular"
      ],
      "execution_count": 97,
      "outputs": [
        {
          "output_type": "execute_result",
          "data": {
            "text/plain": [
              "American              81766\n",
              "Chinese               41607\n",
              "Pizza                 25394\n",
              "Café/Coffee/Tea       19616\n",
              "Latin American        17333\n",
              "                      ...  \n",
              "Fruits/Vegetables        80\n",
              "Iranian                  68\n",
              "Nuts/Confectionary       43\n",
              "Czech                    43\n",
              "Basque                    9\n",
              "Name: CUISINE DESCRIPTION, Length: 81, dtype: int64"
            ]
          },
          "metadata": {
            "tags": []
          },
          "execution_count": 97
        }
      ]
    },
    {
      "cell_type": "markdown",
      "metadata": {
        "id": "EbTrqDwXJVZx"
      },
      "source": [
        "We can now plot the same barchart again, and see what the results are:\r\n",
        "\r\n"
      ]
    },
    {
      "cell_type": "code",
      "metadata": {
        "colab": {
          "base_uri": "https://localhost:8080/",
          "height": 352
        },
        "id": "PTKa2mAbJjjY",
        "outputId": "4ecceb9e-db65-4e1d-825f-365a36c77933"
      },
      "source": [
        "popular = restaurants[\"CUISINE DESCRIPTION\"].value_counts()\r\n",
        "popular[:5].plot(kind='bar')"
      ],
      "execution_count": 98,
      "outputs": [
        {
          "output_type": "execute_result",
          "data": {
            "text/plain": [
              "<matplotlib.axes._subplots.AxesSubplot at 0x7fb5c38a4050>"
            ]
          },
          "metadata": {
            "tags": []
          },
          "execution_count": 98
        },
        {
          "output_type": "display_data",
          "data": {
            "image/png": "[encoded data removed]",
            "text/plain": [
              "<Figure size 432x288 with 1 Axes>"
            ]
          },
          "metadata": {
            "tags": [],
            "needs_background": "light"
          }
        }
      ]
    },
    {
      "cell_type": "markdown",
      "metadata": {
        "id": "L7m2LIHKjDBU"
      },
      "source": [
        "## <a class=\"anchor\"></a> 1.3 Selecting Subsets\r\n",
        "\r\n",
        "\r\n"
      ]
    },
    {
      "cell_type": "markdown",
      "metadata": {
        "id": "kU3TPOupkSDo"
      },
      "source": [
        "To select rows, we can use the following approach, where we generate a list of boolean values, one for each row of the dataframe, and then we use the list to select which of the rows of the dataframe we want to keep"
      ]
    },
    {
      "cell_type": "code",
      "metadata": {
        "colab": {
          "base_uri": "https://localhost:8080/"
        },
        "id": "JpZNv0mjki_f",
        "outputId": "088cf86d-2b88-4e44-ee36-866db937a78a"
      },
      "source": [
        "# Create the condition \"has mice\" for code 04L\r\n",
        "mice = (restaurants[\"VIOLATION CODE\"] == \"04L\")\r\n",
        "mice.head()"
      ],
      "execution_count": 99,
      "outputs": [
        {
          "output_type": "execute_result",
          "data": {
            "text/plain": [
              "0    False\n",
              "1    False\n",
              "2    False\n",
              "3    False\n",
              "4    False\n",
              "Name: VIOLATION CODE, dtype: bool"
            ]
          },
          "metadata": {
            "tags": []
          },
          "execution_count": 99
        }
      ]
    },
    {
      "cell_type": "code",
      "metadata": {
        "colab": {
          "base_uri": "https://localhost:8080/",
          "height": 678
        },
        "id": "n5uQfBgnk4mZ",
        "outputId": "a53da670-a411-42e6-8cd0-199d5e66d758"
      },
      "source": [
        "# Apply the condition to the dataframe \"restaurants\" and store the result \r\n",
        "# in a dataframe called  has_mice\r\n",
        "\r\n",
        "has_mice = restaurants[mice]\r\n",
        "has_mice.head()"
      ],
      "execution_count": 100,
      "outputs": [
        {
          "output_type": "execute_result",
          "data": {
            "text/html": [
              "<div>\n",
              "<style scoped>\n",
              "    .dataframe tbody tr th:only-of-type {\n",
              "        vertical-align: middle;\n",
              "    }\n",
              "\n",
              "    .dataframe tbody tr th {\n",
              "        vertical-align: top;\n",
              "    }\n",
              "\n",
              "    .dataframe thead th {\n",
              "        text-align: right;\n",
              "    }\n",
              "</style>\n",
              "<table border=\"1\" class=\"dataframe\">\n",
              "  <thead>\n",
              "    <tr style=\"text-align: right;\">\n",
              "      <th></th>\n",
              "      <th>CAMIS</th>\n",
              "      <th>DBA</th>\n",
              "      <th>BORO</th>\n",
              "      <th>BUILDING</th>\n",
              "      <th>STREET</th>\n",
              "      <th>ZIPCODE</th>\n",
              "      <th>PHONE</th>\n",
              "      <th>CUISINE DESCRIPTION</th>\n",
              "      <th>INSPECTION DATE</th>\n",
              "      <th>ACTION</th>\n",
              "      <th>VIOLATION CODE</th>\n",
              "      <th>VIOLATION DESCRIPTION</th>\n",
              "      <th>CRITICAL FLAG</th>\n",
              "      <th>SCORE</th>\n",
              "      <th>GRADE</th>\n",
              "      <th>GRADE DATE</th>\n",
              "      <th>RECORD DATE</th>\n",
              "      <th>INSPECTION TYPE</th>\n",
              "      <th>Latitude</th>\n",
              "      <th>Longitude</th>\n",
              "      <th>Community Board</th>\n",
              "      <th>Council District</th>\n",
              "      <th>Census Tract</th>\n",
              "      <th>BIN</th>\n",
              "      <th>BBL</th>\n",
              "      <th>NTA</th>\n",
              "    </tr>\n",
              "  </thead>\n",
              "  <tbody>\n",
              "    <tr>\n",
              "      <th>5</th>\n",
              "      <td>41627520</td>\n",
              "      <td>EL FOGON COSTENO RESTAURANT.</td>\n",
              "      <td>Queens</td>\n",
              "      <td>109-12</td>\n",
              "      <td>NORTHERN BOULEVARD</td>\n",
              "      <td>11368.0</td>\n",
              "      <td>7.182053e+09</td>\n",
              "      <td>Spanish</td>\n",
              "      <td>2018-03-19</td>\n",
              "      <td>Violations were cited in the following area(s).</td>\n",
              "      <td>04L</td>\n",
              "      <td>Evidence of mice or live mice present in facil...</td>\n",
              "      <td>Y</td>\n",
              "      <td>11.0</td>\n",
              "      <td>NaN</td>\n",
              "      <td>NaT</td>\n",
              "      <td>2021-02-23</td>\n",
              "      <td>Cycle Inspection / Initial Inspection</td>\n",
              "      <td>40.757851402916</td>\n",
              "      <td>-73.859864309837</td>\n",
              "      <td>403.0</td>\n",
              "      <td>21.0</td>\n",
              "      <td>38100.0</td>\n",
              "      <td>4042811.0</td>\n",
              "      <td>4.017240e+09</td>\n",
              "      <td>QN26</td>\n",
              "    </tr>\n",
              "    <tr>\n",
              "      <th>8</th>\n",
              "      <td>50090118</td>\n",
              "      <td>DA E NET 777 CAFE</td>\n",
              "      <td>Brooklyn</td>\n",
              "      <td>1223</td>\n",
              "      <td>AVENUE U</td>\n",
              "      <td>11229.0</td>\n",
              "      <td>6.462871e+09</td>\n",
              "      <td>Eastern European</td>\n",
              "      <td>2019-09-12</td>\n",
              "      <td>Violations were cited in the following area(s).</td>\n",
              "      <td>04L</td>\n",
              "      <td>Evidence of mice or live mice present in facil...</td>\n",
              "      <td>Y</td>\n",
              "      <td>11.0</td>\n",
              "      <td>A</td>\n",
              "      <td>2019-09-12</td>\n",
              "      <td>2021-02-23</td>\n",
              "      <td>Cycle Inspection / Re-inspection</td>\n",
              "      <td>40.59850501589</td>\n",
              "      <td>-73.959395621383</td>\n",
              "      <td>315.0</td>\n",
              "      <td>48.0</td>\n",
              "      <td>58200.0</td>\n",
              "      <td>3197934.0</td>\n",
              "      <td>3.073160e+09</td>\n",
              "      <td>BK25</td>\n",
              "    </tr>\n",
              "    <tr>\n",
              "      <th>36</th>\n",
              "      <td>50057264</td>\n",
              "      <td>BOMBAY SPICE</td>\n",
              "      <td>Brooklyn</td>\n",
              "      <td>1018</td>\n",
              "      <td>BERGEN STREET</td>\n",
              "      <td>11216.0</td>\n",
              "      <td>7.184843e+09</td>\n",
              "      <td>Indian</td>\n",
              "      <td>2019-01-22</td>\n",
              "      <td>Violations were cited in the following area(s).</td>\n",
              "      <td>04L</td>\n",
              "      <td>Evidence of mice or live mice present in facil...</td>\n",
              "      <td>Y</td>\n",
              "      <td>15.0</td>\n",
              "      <td>B</td>\n",
              "      <td>2019-01-22</td>\n",
              "      <td>2021-02-23</td>\n",
              "      <td>Cycle Inspection / Re-inspection</td>\n",
              "      <td>40.676207053592</td>\n",
              "      <td>-73.952271186711</td>\n",
              "      <td>308.0</td>\n",
              "      <td>36.0</td>\n",
              "      <td>31500.0</td>\n",
              "      <td>3030641.0</td>\n",
              "      <td>3.012190e+09</td>\n",
              "      <td>BK61</td>\n",
              "    </tr>\n",
              "    <tr>\n",
              "      <th>88</th>\n",
              "      <td>40367373</td>\n",
              "      <td>JACKSON HOLE</td>\n",
              "      <td>Manhattan</td>\n",
              "      <td>232</td>\n",
              "      <td>EAST   64 STREET</td>\n",
              "      <td>10065.0</td>\n",
              "      <td>2.123717e+09</td>\n",
              "      <td>American</td>\n",
              "      <td>2018-07-09</td>\n",
              "      <td>Violations were cited in the following area(s).</td>\n",
              "      <td>04L</td>\n",
              "      <td>Evidence of mice or live mice present in facil...</td>\n",
              "      <td>Y</td>\n",
              "      <td>9.0</td>\n",
              "      <td>A</td>\n",
              "      <td>2018-07-09</td>\n",
              "      <td>2021-02-23</td>\n",
              "      <td>Cycle Inspection / Re-inspection</td>\n",
              "      <td>40.764309967429</td>\n",
              "      <td>-73.963456427466</td>\n",
              "      <td>108.0</td>\n",
              "      <td>4.0</td>\n",
              "      <td>11000.0</td>\n",
              "      <td>1043865.0</td>\n",
              "      <td>1.014180e+09</td>\n",
              "      <td>MN31</td>\n",
              "    </tr>\n",
              "    <tr>\n",
              "      <th>90</th>\n",
              "      <td>50073106</td>\n",
              "      <td>PAPA JOHN'S</td>\n",
              "      <td>Manhattan</td>\n",
              "      <td>523</td>\n",
              "      <td>WEST  207 STREET</td>\n",
              "      <td>10034.0</td>\n",
              "      <td>7.182957e+09</td>\n",
              "      <td>Pizza</td>\n",
              "      <td>2019-02-22</td>\n",
              "      <td>Violations were cited in the following area(s).</td>\n",
              "      <td>04L</td>\n",
              "      <td>Evidence of mice or live mice present in facil...</td>\n",
              "      <td>Y</td>\n",
              "      <td>9.0</td>\n",
              "      <td>A</td>\n",
              "      <td>2019-02-22</td>\n",
              "      <td>2021-02-23</td>\n",
              "      <td>Cycle Inspection / Initial Inspection</td>\n",
              "      <td>40.865222878717</td>\n",
              "      <td>-73.919617604491</td>\n",
              "      <td>112.0</td>\n",
              "      <td>10.0</td>\n",
              "      <td>29300.0</td>\n",
              "      <td>1064793.0</td>\n",
              "      <td>1.022230e+09</td>\n",
              "      <td>MN01</td>\n",
              "    </tr>\n",
              "  </tbody>\n",
              "</table>\n",
              "</div>"
            ],
            "text/plain": [
              "       CAMIS                           DBA  ...           BBL   NTA\n",
              "5   41627520  EL FOGON COSTENO RESTAURANT.  ...  4.017240e+09  QN26\n",
              "8   50090118             DA E NET 777 CAFE  ...  3.073160e+09  BK25\n",
              "36  50057264                  BOMBAY SPICE  ...  3.012190e+09  BK61\n",
              "88  40367373                  JACKSON HOLE  ...  1.014180e+09  MN31\n",
              "90  50073106                   PAPA JOHN'S  ...  1.022230e+09  MN01\n",
              "\n",
              "[5 rows x 26 columns]"
            ]
          },
          "metadata": {
            "tags": []
          },
          "execution_count": 100
        }
      ]
    },
    {
      "cell_type": "code",
      "metadata": {
        "colab": {
          "base_uri": "https://localhost:8080/"
        },
        "id": "PYkyVskFk9Np",
        "outputId": "71309575-9262-47d9-b137-658329d15e73"
      },
      "source": [
        "# List the most frequent DBA values in the data of restaurants that have mice\r\n",
        "has_mice[\"DBA\"].value_counts()[:20]"
      ],
      "execution_count": 101,
      "outputs": [
        {
          "output_type": "execute_result",
          "data": {
            "text/plain": [
              "SUBWAY                                   254\n",
              "DUNKIN'                                  146\n",
              "KENNEDY FRIED CHICKEN                    127\n",
              "CROWN FRIED CHICKEN                      116\n",
              "STARBUCKS                                 85\n",
              "MCDONALD'S                                74\n",
              "POPEYES                                   71\n",
              "GOLDEN KRUST CARIBBEAN BAKERY & GRILL     67\n",
              "BURGER KING                               65\n",
              "DUNKIN', BASKIN ROBBINS                   57\n",
              "KFC                                       40\n",
              "DOMINO'S                                  34\n",
              "LITTLE CAESARS                            33\n",
              "AMC THEATRES                              31\n",
              "CARVEL ICE CREAM                          29\n",
              "LE PAIN QUOTIDIEN                         24\n",
              "PAPA JOHN'S                               22\n",
              "VIVI BUBBLE TEA                           22\n",
              "EMPANADAS MONUMENTAL                      21\n",
              "INSOMNIA COOKIES                          21\n",
              "Name: DBA, dtype: int64"
            ]
          },
          "metadata": {
            "tags": []
          },
          "execution_count": 101
        }
      ]
    },
    {
      "cell_type": "code",
      "metadata": {
        "colab": {
          "base_uri": "https://localhost:8080/"
        },
        "id": "9IkowTLrlDVI",
        "outputId": "dec953b0-6af1-4190-88e2-96e821ae3994"
      },
      "source": [
        "has_mice[\"CAMIS\"].value_counts()[:5]"
      ],
      "execution_count": 102,
      "outputs": [
        {
          "output_type": "execute_result",
          "data": {
            "text/plain": [
              "50016943    13\n",
              "50015263    13\n",
              "41642251    12\n",
              "50046623    12\n",
              "50058969    12\n",
              "Name: CAMIS, dtype: int64"
            ]
          },
          "metadata": {
            "tags": []
          },
          "execution_count": 102
        }
      ]
    },
    {
      "cell_type": "markdown",
      "metadata": {
        "id": "JKgTH03JlewI"
      },
      "source": [
        "And we can use more complex conditions."
      ]
    },
    {
      "cell_type": "code",
      "metadata": {
        "colab": {
          "base_uri": "https://localhost:8080/",
          "height": 521
        },
        "id": "i8QMmc3VlgMT",
        "outputId": "8748cced-14f2-4813-bd7f-936d27652c7c"
      },
      "source": [
        "#Restaurants in Brooklyn that have mices\r\n",
        "mice_Brooklyn =  ( (restaurants[\"VIOLATION CODE\"] == \"04L\") \r\n",
        "                    & (restaurants[\"BORO\"] == \"Brooklyn\") )\r\n",
        "\r\n",
        "has_mice_brooklyn = restaurants[mice_Brooklyn]\r\n",
        "has_mice_brooklyn.head()"
      ],
      "execution_count": 103,
      "outputs": [
        {
          "output_type": "execute_result",
          "data": {
            "text/html": [
              "<div>\n",
              "<style scoped>\n",
              "    .dataframe tbody tr th:only-of-type {\n",
              "        vertical-align: middle;\n",
              "    }\n",
              "\n",
              "    .dataframe tbody tr th {\n",
              "        vertical-align: top;\n",
              "    }\n",
              "\n",
              "    .dataframe thead th {\n",
              "        text-align: right;\n",
              "    }\n",
              "</style>\n",
              "<table border=\"1\" class=\"dataframe\">\n",
              "  <thead>\n",
              "    <tr style=\"text-align: right;\">\n",
              "      <th></th>\n",
              "      <th>CAMIS</th>\n",
              "      <th>DBA</th>\n",
              "      <th>BORO</th>\n",
              "      <th>BUILDING</th>\n",
              "      <th>STREET</th>\n",
              "      <th>ZIPCODE</th>\n",
              "      <th>PHONE</th>\n",
              "      <th>CUISINE DESCRIPTION</th>\n",
              "      <th>INSPECTION DATE</th>\n",
              "      <th>ACTION</th>\n",
              "      <th>VIOLATION CODE</th>\n",
              "      <th>VIOLATION DESCRIPTION</th>\n",
              "      <th>CRITICAL FLAG</th>\n",
              "      <th>SCORE</th>\n",
              "      <th>GRADE</th>\n",
              "      <th>GRADE DATE</th>\n",
              "      <th>RECORD DATE</th>\n",
              "      <th>INSPECTION TYPE</th>\n",
              "      <th>Latitude</th>\n",
              "      <th>Longitude</th>\n",
              "      <th>Community Board</th>\n",
              "      <th>Council District</th>\n",
              "      <th>Census Tract</th>\n",
              "      <th>BIN</th>\n",
              "      <th>BBL</th>\n",
              "      <th>NTA</th>\n",
              "    </tr>\n",
              "  </thead>\n",
              "  <tbody>\n",
              "    <tr>\n",
              "      <th>8</th>\n",
              "      <td>50090118</td>\n",
              "      <td>DA E NET 777 CAFE</td>\n",
              "      <td>Brooklyn</td>\n",
              "      <td>1223</td>\n",
              "      <td>AVENUE U</td>\n",
              "      <td>11229.0</td>\n",
              "      <td>6.462871e+09</td>\n",
              "      <td>Eastern European</td>\n",
              "      <td>2019-09-12</td>\n",
              "      <td>Violations were cited in the following area(s).</td>\n",
              "      <td>04L</td>\n",
              "      <td>Evidence of mice or live mice present in facil...</td>\n",
              "      <td>Y</td>\n",
              "      <td>11.0</td>\n",
              "      <td>A</td>\n",
              "      <td>2019-09-12</td>\n",
              "      <td>2021-02-23</td>\n",
              "      <td>Cycle Inspection / Re-inspection</td>\n",
              "      <td>40.59850501589</td>\n",
              "      <td>-73.959395621383</td>\n",
              "      <td>315.0</td>\n",
              "      <td>48.0</td>\n",
              "      <td>58200.0</td>\n",
              "      <td>3197934.0</td>\n",
              "      <td>3.073160e+09</td>\n",
              "      <td>BK25</td>\n",
              "    </tr>\n",
              "    <tr>\n",
              "      <th>36</th>\n",
              "      <td>50057264</td>\n",
              "      <td>BOMBAY SPICE</td>\n",
              "      <td>Brooklyn</td>\n",
              "      <td>1018</td>\n",
              "      <td>BERGEN STREET</td>\n",
              "      <td>11216.0</td>\n",
              "      <td>7.184843e+09</td>\n",
              "      <td>Indian</td>\n",
              "      <td>2019-01-22</td>\n",
              "      <td>Violations were cited in the following area(s).</td>\n",
              "      <td>04L</td>\n",
              "      <td>Evidence of mice or live mice present in facil...</td>\n",
              "      <td>Y</td>\n",
              "      <td>15.0</td>\n",
              "      <td>B</td>\n",
              "      <td>2019-01-22</td>\n",
              "      <td>2021-02-23</td>\n",
              "      <td>Cycle Inspection / Re-inspection</td>\n",
              "      <td>40.676207053592</td>\n",
              "      <td>-73.952271186711</td>\n",
              "      <td>308.0</td>\n",
              "      <td>36.0</td>\n",
              "      <td>31500.0</td>\n",
              "      <td>3030641.0</td>\n",
              "      <td>3.012190e+09</td>\n",
              "      <td>BK61</td>\n",
              "    </tr>\n",
              "    <tr>\n",
              "      <th>228</th>\n",
              "      <td>50087423</td>\n",
              "      <td>STEP ON TOP TAKE OUT RESTAURANT</td>\n",
              "      <td>Brooklyn</td>\n",
              "      <td>2810</td>\n",
              "      <td>AVENUE D</td>\n",
              "      <td>11226.0</td>\n",
              "      <td>3.476632e+09</td>\n",
              "      <td>Caribbean (Inc. Cuban, Puerto Rican)</td>\n",
              "      <td>2019-08-13</td>\n",
              "      <td>Violations were cited in the following area(s).</td>\n",
              "      <td>04L</td>\n",
              "      <td>Evidence of mice or live mice present in facil...</td>\n",
              "      <td>Y</td>\n",
              "      <td>11.0</td>\n",
              "      <td>A</td>\n",
              "      <td>2019-08-13</td>\n",
              "      <td>2021-02-23</td>\n",
              "      <td>Cycle Inspection / Initial Inspection</td>\n",
              "      <td>40.640825971612</td>\n",
              "      <td>-73.95021031058</td>\n",
              "      <td>317.0</td>\n",
              "      <td>45.0</td>\n",
              "      <td>82800.0</td>\n",
              "      <td>3120477.0</td>\n",
              "      <td>3.052150e+09</td>\n",
              "      <td>BK95</td>\n",
              "    </tr>\n",
              "    <tr>\n",
              "      <th>374</th>\n",
              "      <td>41410071</td>\n",
              "      <td>RIMINI PASTRY SHOPPE</td>\n",
              "      <td>Brooklyn</td>\n",
              "      <td>6822</td>\n",
              "      <td>BAY PARKWAY</td>\n",
              "      <td>11204.0</td>\n",
              "      <td>7.182361e+09</td>\n",
              "      <td>Cakes, Cupcakes, Desserts</td>\n",
              "      <td>2019-05-13</td>\n",
              "      <td>Violations were cited in the following area(s).</td>\n",
              "      <td>04L</td>\n",
              "      <td>Evidence of mice or live mice present in facil...</td>\n",
              "      <td>Y</td>\n",
              "      <td>13.0</td>\n",
              "      <td>NaN</td>\n",
              "      <td>NaT</td>\n",
              "      <td>2021-02-23</td>\n",
              "      <td>Cycle Inspection / Initial Inspection</td>\n",
              "      <td>40.611658584394</td>\n",
              "      <td>-73.983713257125</td>\n",
              "      <td>311.0</td>\n",
              "      <td>47.0</td>\n",
              "      <td>25800.0</td>\n",
              "      <td>3336287.0</td>\n",
              "      <td>3.055800e+09</td>\n",
              "      <td>BK28</td>\n",
              "    </tr>\n",
              "    <tr>\n",
              "      <th>395</th>\n",
              "      <td>50098288</td>\n",
              "      <td>J II CAFE</td>\n",
              "      <td>Brooklyn</td>\n",
              "      <td>5114</td>\n",
              "      <td>13 AVENUE</td>\n",
              "      <td>11219.0</td>\n",
              "      <td>7.184386e+09</td>\n",
              "      <td>Jewish/Kosher</td>\n",
              "      <td>2020-02-05</td>\n",
              "      <td>Establishment Closed by DOHMH.  Violations wer...</td>\n",
              "      <td>04L</td>\n",
              "      <td>Evidence of mice or live mice present in facil...</td>\n",
              "      <td>Y</td>\n",
              "      <td>47.0</td>\n",
              "      <td>NaN</td>\n",
              "      <td>NaT</td>\n",
              "      <td>2021-02-23</td>\n",
              "      <td>Cycle Inspection / Initial Inspection</td>\n",
              "      <td>40.633763300687</td>\n",
              "      <td>-73.993439181713</td>\n",
              "      <td>312.0</td>\n",
              "      <td>44.0</td>\n",
              "      <td>22000.0</td>\n",
              "      <td>3138364.0</td>\n",
              "      <td>3.056550e+09</td>\n",
              "      <td>BK88</td>\n",
              "    </tr>\n",
              "  </tbody>\n",
              "</table>\n",
              "</div>"
            ],
            "text/plain": [
              "        CAMIS                              DBA  ...           BBL   NTA\n",
              "8    50090118                DA E NET 777 CAFE  ...  3.073160e+09  BK25\n",
              "36   50057264                     BOMBAY SPICE  ...  3.012190e+09  BK61\n",
              "228  50087423  STEP ON TOP TAKE OUT RESTAURANT  ...  3.052150e+09  BK95\n",
              "374  41410071             RIMINI PASTRY SHOPPE  ...  3.055800e+09  BK28\n",
              "395  50098288                        J II CAFE  ...  3.056550e+09  BK88\n",
              "\n",
              "[5 rows x 26 columns]"
            ]
          },
          "metadata": {
            "tags": []
          },
          "execution_count": 103
        }
      ]
    },
    {
      "cell_type": "code",
      "metadata": {
        "colab": {
          "base_uri": "https://localhost:8080/"
        },
        "id": "d2Q3qHG7lnQA",
        "outputId": "b66db101-6fb3-4541-fec8-f5cbca89ec52"
      },
      "source": [
        "has_mice_brooklyn[\"DBA\"].value_counts()[:20]"
      ],
      "execution_count": 104,
      "outputs": [
        {
          "output_type": "execute_result",
          "data": {
            "text/plain": [
              "CROWN FRIED CHICKEN                      69\n",
              "DUNKIN'                                  32\n",
              "BURGER KING                              31\n",
              "SUBWAY                                   29\n",
              "GOLDEN KRUST CARIBBEAN BAKERY & GRILL    27\n",
              "KENNEDY FRIED CHICKEN                    21\n",
              "KFC                                      18\n",
              "PAPA JOHN'S                              14\n",
              "STARBUCKS                                13\n",
              "DUNKIN', BASKIN ROBBINS                  13\n",
              "COLD STONE CREAMERY                      12\n",
              "CAFE CREOLE                              12\n",
              "COCO ROCO RESTAURANT                     11\n",
              "FISHERMAN'S COVE                         11\n",
              "AUTHENTIC SZECHUAN                       11\n",
              "DOUBLE DRAGON                            11\n",
              "RINCONCITO FAMILIAR MEXICAN CUISINE      11\n",
              "TAQUERIA RESTAURANTE MI BARRIO           11\n",
              "TASTEE PATTEE BAKERY AND GRILL           10\n",
              "GOLDEN DRAGON RESTAURANT                 10\n",
              "Name: DBA, dtype: int64"
            ]
          },
          "metadata": {
            "tags": []
          },
          "execution_count": 104
        }
      ]
    },
    {
      "cell_type": "markdown",
      "metadata": {
        "id": "yM7_hpenLHWg"
      },
      "source": [
        "## <a class=\"anchor\"></a> 1.3 Exercice\r\n"
      ]
    },
    {
      "cell_type": "code",
      "metadata": {
        "id": "1sQADEghLNzo"
      },
      "source": [
        "# Use the .head() function on the \"VIOLATION CODE\" column\r\n",
        "restaurants[\"Your code here\"].\"Your code here\""
      ],
      "execution_count": null,
      "outputs": []
    },
    {
      "cell_type": "code",
      "metadata": {
        "id": "kjcEY_sdLhW4"
      },
      "source": [
        "#Use the .value_counts() function to count the number of occurences by violation code\r\n",
        "violation_counts = \"Your code here\".\"Your code here\"\r\n"
      ],
      "execution_count": null,
      "outputs": []
    },
    {
      "cell_type": "code",
      "metadata": {
        "id": "fu0RShUeMFkw"
      },
      "source": [
        "#Have a look at the first 10 values\r\n",
        "violation_counts[\"Your code here\" : \"Your code here\"]"
      ],
      "execution_count": null,
      "outputs": []
    },
    {
      "cell_type": "code",
      "metadata": {
        "id": "oTiRc5xfMunS"
      },
      "source": [
        "#Plot the 20 violation codes ocurring the most\r\n",
        "\"Your code here\".plot(kind = 'bar')"
      ],
      "execution_count": null,
      "outputs": []
    },
    {
      "cell_type": "markdown",
      "metadata": {
        "id": "CkYusmSUNHAH"
      },
      "source": [
        "# <a class=\"anchor\"></a> 2 Boxplots and correlations\r\n",
        "\r\n",
        "We will now change datasets. This dataset containts the compensation of the CEO's of different companies.\r\n"
      ]
    },
    {
      "cell_type": "code",
      "metadata": {
        "colab": {
          "base_uri": "https://localhost:8080/",
          "height": 337
        },
        "id": "tfGDiGWTNRpH",
        "outputId": "671f4899-2bb5-4438-a93d-6a8fee503c6d"
      },
      "source": [
        "#Run this cell\r\n",
        "url = \"https://raw.githubusercontent.com/michalis0/Business-Intelligence-and-Analytics/master/data/CEO%20compensation.csv\"\r\n",
        "data = pd.read_csv(url) \r\n",
        "data.head(3) #only shows the first 3 rows"
      ],
      "execution_count": 105,
      "outputs": [
        {
          "output_type": "execute_result",
          "data": {
            "text/html": [
              "<div>\n",
              "<style scoped>\n",
              "    .dataframe tbody tr th:only-of-type {\n",
              "        vertical-align: middle;\n",
              "    }\n",
              "\n",
              "    .dataframe tbody tr th {\n",
              "        vertical-align: top;\n",
              "    }\n",
              "\n",
              "    .dataframe thead th {\n",
              "        text-align: right;\n",
              "    }\n",
              "</style>\n",
              "<table border=\"1\" class=\"dataframe\">\n",
              "  <thead>\n",
              "    <tr style=\"text-align: right;\">\n",
              "      <th></th>\n",
              "      <th>Total Comp</th>\n",
              "      <th>Top 20</th>\n",
              "      <th>Wide Industry</th>\n",
              "      <th>Company</th>\n",
              "      <th>CEO</th>\n",
              "      <th>City of Birth</th>\n",
              "      <th>State of Birth</th>\n",
              "      <th>Age</th>\n",
              "      <th>Undergrad</th>\n",
              "      <th>UG Degree</th>\n",
              "      <th>UG Date</th>\n",
              "      <th>AgeOfUnder</th>\n",
              "      <th>Graduate</th>\n",
              "      <th>Grad Degree</th>\n",
              "      <th>MBA?</th>\n",
              "      <th>MasterPhd?</th>\n",
              "      <th>G_date</th>\n",
              "      <th>AgeOfGradu</th>\n",
              "      <th>YearsFirm</th>\n",
              "      <th>YearsCEO</th>\n",
              "      <th>Salary</th>\n",
              "      <th>Bonus</th>\n",
              "      <th>other</th>\n",
              "      <th>St_gains</th>\n",
              "      <th>Comp for 5 yrs</th>\n",
              "      <th>Stock owned</th>\n",
              "      <th>Sales</th>\n",
              "      <th>Profits</th>\n",
              "      <th>Return over 5 yrs</th>\n",
              "      <th>Industry</th>\n",
              "      <th>Industry Code</th>\n",
              "    </tr>\n",
              "  </thead>\n",
              "  <tbody>\n",
              "    <tr>\n",
              "      <th>0</th>\n",
              "      <td>203020000.0</td>\n",
              "      <td>True</td>\n",
              "      <td>Travel</td>\n",
              "      <td>Walt Disney</td>\n",
              "      <td>Mr. Michael D Eisner</td>\n",
              "      <td>New York</td>\n",
              "      <td>NY</td>\n",
              "      <td>52</td>\n",
              "      <td>Denison U</td>\n",
              "      <td>BA</td>\n",
              "      <td>64.0</td>\n",
              "      <td>22.0</td>\n",
              "      <td>NaN</td>\n",
              "      <td>none</td>\n",
              "      <td>0</td>\n",
              "      <td>0</td>\n",
              "      <td>NaN</td>\n",
              "      <td>NaN</td>\n",
              "      <td>10</td>\n",
              "      <td>10</td>\n",
              "      <td>750000.0</td>\n",
              "      <td>NaN</td>\n",
              "      <td>9667.0</td>\n",
              "      <td>202261000.0</td>\n",
              "      <td>236771000.0</td>\n",
              "      <td>0.561</td>\n",
              "      <td>8865</td>\n",
              "      <td>779.5</td>\n",
              "      <td>17.0</td>\n",
              "      <td>Travel-hotelsrecreation</td>\n",
              "      <td>8</td>\n",
              "    </tr>\n",
              "    <tr>\n",
              "      <th>1</th>\n",
              "      <td>53110900.0</td>\n",
              "      <td>True</td>\n",
              "      <td>Financial</td>\n",
              "      <td>Travelers</td>\n",
              "      <td>Mr. Sanford I Weill</td>\n",
              "      <td>New York</td>\n",
              "      <td>NY</td>\n",
              "      <td>61</td>\n",
              "      <td>Cornell</td>\n",
              "      <td>BA</td>\n",
              "      <td>55.0</td>\n",
              "      <td>22.0</td>\n",
              "      <td>NaN</td>\n",
              "      <td>none</td>\n",
              "      <td>0</td>\n",
              "      <td>0</td>\n",
              "      <td>NaN</td>\n",
              "      <td>NaN</td>\n",
              "      <td>8</td>\n",
              "      <td>8</td>\n",
              "      <td>1018750.0</td>\n",
              "      <td>3030310.0</td>\n",
              "      <td>2161890.0</td>\n",
              "      <td>46900000.0</td>\n",
              "      <td>141605000.0</td>\n",
              "      <td>1.168</td>\n",
              "      <td>6797</td>\n",
              "      <td>950.0</td>\n",
              "      <td>28.0</td>\n",
              "      <td>Financial services-leasefinance</td>\n",
              "      <td>1</td>\n",
              "    </tr>\n",
              "    <tr>\n",
              "      <th>2</th>\n",
              "      <td>38675400.0</td>\n",
              "      <td>True</td>\n",
              "      <td>Insurance</td>\n",
              "      <td>Conseco</td>\n",
              "      <td>Mr. Stephen C Hilbert</td>\n",
              "      <td>Terre Haute</td>\n",
              "      <td>IN</td>\n",
              "      <td>48</td>\n",
              "      <td>NaN</td>\n",
              "      <td>NaN</td>\n",
              "      <td>NaN</td>\n",
              "      <td>NaN</td>\n",
              "      <td>NaN</td>\n",
              "      <td>none</td>\n",
              "      <td>0</td>\n",
              "      <td>0</td>\n",
              "      <td>NaN</td>\n",
              "      <td>NaN</td>\n",
              "      <td>15</td>\n",
              "      <td>15</td>\n",
              "      <td>250000.0</td>\n",
              "      <td>8287670.0</td>\n",
              "      <td>190570.0</td>\n",
              "      <td>29947100.0</td>\n",
              "      <td>51156100.0</td>\n",
              "      <td>2.842</td>\n",
              "      <td>2637</td>\n",
              "      <td>308.9</td>\n",
              "      <td>76.0</td>\n",
              "      <td>Insurance-lifehealth</td>\n",
              "      <td>4</td>\n",
              "    </tr>\n",
              "  </tbody>\n",
              "</table>\n",
              "</div>"
            ],
            "text/plain": [
              "    Total Comp  Top 20  ...                         Industry Industry Code\n",
              "0  203020000.0    True  ...          Travel-hotelsrecreation             8\n",
              "1   53110900.0    True  ...  Financial services-leasefinance             1\n",
              "2   38675400.0    True  ...             Insurance-lifehealth             4\n",
              "\n",
              "[3 rows x 31 columns]"
            ]
          },
          "metadata": {
            "tags": []
          },
          "execution_count": 105
        }
      ]
    },
    {
      "cell_type": "code",
      "metadata": {
        "id": "pA30fVB4OPRw"
      },
      "source": [
        "# Run this cell to drop the rows where there are missing values\r\n",
        "data.dropna(inplace=True)"
      ],
      "execution_count": 106,
      "outputs": []
    },
    {
      "cell_type": "markdown",
      "metadata": {
        "id": "Ww0jmyFlOjbR"
      },
      "source": [
        "## <a class=\"anchor\"></a> 2.1 Boxplots\r\n",
        "\r\n",
        "Pandas allows you to plot boxplots with your data. If you do not remember what a Boxplot is you can refresh your memory following this link. Essentially they allow to see the following elements:\r\n",
        "\r\n",
        "* Minimum\r\n",
        "* Maximum\r\n",
        "* Median\r\n",
        "* Quartiles\r\n",
        "* Outliers\r\n",
        "\r\n",
        "We will use the `.boxplot()` function to plot the age of the CEO's. \r\n",
        "\r\n"
      ]
    },
    {
      "cell_type": "code",
      "metadata": {
        "colab": {
          "base_uri": "https://localhost:8080/",
          "height": 283
        },
        "id": "lxTrHGTVPO5H",
        "outputId": "ce2a6c4a-d902-42d9-c8d1-ffc40772c9a0"
      },
      "source": [
        "#This values should help you understad the boxplot\r\n",
        "data[\"Age\"].describe()\r\n",
        "\r\n",
        "#Boxplot\r\n",
        "data.boxplot(column = \"Age\")\r\n"
      ],
      "execution_count": 107,
      "outputs": [
        {
          "output_type": "execute_result",
          "data": {
            "text/plain": [
              "<matplotlib.axes._subplots.AxesSubplot at 0x7fb5c3753090>"
            ]
          },
          "metadata": {
            "tags": []
          },
          "execution_count": 107
        },
        {
          "output_type": "display_data",
          "data": {
            "image/png": "[encoded data removed]",
            "text/plain": [
              "<Figure size 432x288 with 1 Axes>"
            ]
          },
          "metadata": {
            "tags": [],
            "needs_background": "light"
          }
        }
      ]
    },
    {
      "cell_type": "code",
      "metadata": {
        "colab": {
          "base_uri": "https://localhost:8080/",
          "height": 297
        },
        "id": "envzDsodPZKJ",
        "outputId": "bdb4538a-eeb2-4eb9-e964-3708918e6730"
      },
      "source": [
        "#The sns library also has a boxplot function, though the syntax differs a bit\r\n",
        "sns.boxplot(x=data[\"Age\"],color=\"r\", saturation=0.3)"
      ],
      "execution_count": 108,
      "outputs": [
        {
          "output_type": "execute_result",
          "data": {
            "text/plain": [
              "<matplotlib.axes._subplots.AxesSubplot at 0x7fb5c3738910>"
            ]
          },
          "metadata": {
            "tags": []
          },
          "execution_count": 108
        },
        {
          "output_type": "display_data",
          "data": {
            "image/png": "[encoded data removed]",
            "text/plain": [
              "<Figure size 432x288 with 1 Axes>"
            ]
          },
          "metadata": {
            "tags": [],
            "needs_background": "light"
          }
        }
      ]
    },
    {
      "cell_type": "markdown",
      "metadata": {
        "id": "RMKBMlVCP8UB"
      },
      "source": [
        "### <a class=\"anchor\"></a> 2.1.2 Boxplot exercice\r\n",
        "\r\n",
        "Use the .boxplot function with the \"Bonus\" column. What is the mean, median, max, min and what are the outlier values?\r\n",
        "\r\n",
        "Subsequentially check your answers using the .describe() function.\r\n"
      ]
    },
    {
      "cell_type": "code",
      "metadata": {
        "id": "8lds-gnsQG7B"
      },
      "source": [
        "#Generate the Boxplot"
      ],
      "execution_count": null,
      "outputs": []
    },
    {
      "cell_type": "code",
      "metadata": {
        "id": "dujQIpCUQGyv"
      },
      "source": [
        "#Check your answers"
      ],
      "execution_count": null,
      "outputs": []
    },
    {
      "cell_type": "markdown",
      "metadata": {
        "id": "eTS_M7hIOjWA"
      },
      "source": [
        "## <a class=\"anchor\"></a> 2.1 Scatterplots and Correlation\r\n",
        "\r\n",
        "This plots are useful to find correlations between variables. Let's see if we can find any correlation (visually) between the Age and the Salary of the CEO's.\r\n",
        "\r\n",
        "The function's name is scatterplot and it is included in the sns library, it is therefore called like this:\r\n",
        "\r\n",
        "`sns.scatterplot(x= Your_data_1, y= Your_data_2)`\r\n"
      ]
    },
    {
      "cell_type": "code",
      "metadata": {
        "colab": {
          "base_uri": "https://localhost:8080/",
          "height": 308
        },
        "id": "FoaL2zSfRyEY",
        "outputId": "48ea0448-6d22-4851-b4fb-4c3bad512419"
      },
      "source": [
        "sns.scatterplot(x=data[\"Age\"], y=data[\"Salary\"])"
      ],
      "execution_count": 109,
      "outputs": [
        {
          "output_type": "execute_result",
          "data": {
            "text/plain": [
              "<matplotlib.axes._subplots.AxesSubplot at 0x7fb5c36ad590>"
            ]
          },
          "metadata": {
            "tags": []
          },
          "execution_count": 109
        },
        {
          "output_type": "display_data",
          "data": {
            "image/png": "[encoded data removed]",
            "text/plain": [
              "<Figure size 432x288 with 1 Axes>"
            ]
          },
          "metadata": {
            "tags": [],
            "needs_background": "light"
          }
        }
      ]
    },
    {
      "cell_type": "markdown",
      "metadata": {
        "id": "377oW8DISmGf"
      },
      "source": [
        "Pandas also includes a function `corr` which allows to easily calculate [Pearsons r coefficient](https://en.wikipedia.org/wiki/Pearson_correlation_coefficient)."
      ]
    },
    {
      "cell_type": "code",
      "metadata": {
        "colab": {
          "base_uri": "https://localhost:8080/"
        },
        "id": "TjM8U-cKStCz",
        "outputId": "06d9a5d9-85ba-4085-8fd2-1ec72346e2cc"
      },
      "source": [
        "data[\"Age\"].corr(data[\"Salary\"])"
      ],
      "execution_count": 110,
      "outputs": [
        {
          "output_type": "execute_result",
          "data": {
            "text/plain": [
              "0.30571805690619325"
            ]
          },
          "metadata": {
            "tags": []
          },
          "execution_count": 110
        }
      ]
    },
    {
      "cell_type": "markdown",
      "metadata": {
        "id": "KZnA9SNMR6ow"
      },
      "source": [
        "You can also include a third variable if you want to. In order to plot 3-different variables in 2 dimensions we can change the collor of the third variable. This is done with the `hue` argument."
      ]
    },
    {
      "cell_type": "code",
      "metadata": {
        "colab": {
          "base_uri": "https://localhost:8080/",
          "height": 308
        },
        "id": "hwX12aPrSKAv",
        "outputId": "0cdb4a96-9eed-44c5-a6a3-edec7de8b0cc"
      },
      "source": [
        "sns.scatterplot(x=data[\"YearsCEO\"], y=data[\"Bonus\"],hue=data[\"Top 20\"])"
      ],
      "execution_count": 111,
      "outputs": [
        {
          "output_type": "execute_result",
          "data": {
            "text/plain": [
              "<matplotlib.axes._subplots.AxesSubplot at 0x7fb5c362cad0>"
            ]
          },
          "metadata": {
            "tags": []
          },
          "execution_count": 111
        },
        {
          "output_type": "display_data",
          "data": {
            "image/png": "[encoded data removed]",
            "text/plain": [
              "<Figure size 432x288 with 1 Axes>"
            ]
          },
          "metadata": {
            "tags": [],
            "needs_background": "light"
          }
        }
      ]
    },
    {
      "cell_type": "markdown",
      "metadata": {
        "id": "b4Li-RA-ToFB"
      },
      "source": [
        "## <a class=\"anchor\"></a> 2.2 Pairgrids\r\n",
        "\r\n",
        "Pairgrids can be a usefool tool to find correlations. They allow us to plot the relationships of multiple variables against each other, 2 at a time.\r\n"
      ]
    },
    {
      "cell_type": "code",
      "metadata": {
        "colab": {
          "base_uri": "https://localhost:8080/",
          "height": 760
        },
        "id": "grLoo9R7UF5w",
        "outputId": "8c414b10-c3f5-4c86-b24b-51d19a5bee40"
      },
      "source": [
        "g = sns.PairGrid(data, vars=['Age', 'Salary', 'St_gains', 'Bonus'],\r\n",
        "                 palette='pale red')\r\n",
        "g.map(plt.scatter, alpha=0.2)\r\n",
        "plt.subplots_adjust(top=0.9)\r\n",
        "g.fig.suptitle('PairGrid to find a possible correlation', size=24)\r\n",
        "g.add_legend();"
      ],
      "execution_count": 112,
      "outputs": [
        {
          "output_type": "stream",
          "text": [
            "/usr/local/lib/python3.7/dist-packages/seaborn/axisgrid.py:132: UserWarning: The handle <matplotlib.patches.Patch object at 0x7fb5c31ce6d0> has a label of '_nolegend_' which cannot be automatically added to the legend.\n",
            "  figlegend = self.fig.legend(handles, labels, **kwargs)\n"
          ],
          "name": "stderr"
        },
        {
          "output_type": "display_data",
          "data": {
            "image/png": "[encoded data removed]",
            "text/plain": [
              "<Figure size 728x720 with 16 Axes>"
            ]
          },
          "metadata": {
            "tags": [],
            "needs_background": "light"
          }
        }
      ]
    },
    {
      "cell_type": "markdown",
      "metadata": {
        "id": "knvKIP4-UZ4_"
      },
      "source": [
        "## <a class=\"anchor\"></a> 2.3 Exercice\r\n",
        "\r\n",
        "Can you see any visible correlation between the above variables? Use the `.corr()` function to check if your intiution was right.\r\n"
      ]
    },
    {
      "cell_type": "code",
      "metadata": {
        "id": "x3Yt6nJGU_X5"
      },
      "source": [
        "data[\"Your_data_1\"].corr(data[\"Your_data_2\"])"
      ],
      "execution_count": null,
      "outputs": []
    }
  ]
}