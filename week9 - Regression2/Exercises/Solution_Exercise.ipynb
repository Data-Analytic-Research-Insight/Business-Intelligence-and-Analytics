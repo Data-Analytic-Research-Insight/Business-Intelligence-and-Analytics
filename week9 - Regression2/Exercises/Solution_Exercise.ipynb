{
  "nbformat": 4,
  "nbformat_minor": 0,
  "metadata": {
    "colab": {
      "name": "Solution_Exercise.ipynb",
      "provenance": [],
      "collapsed_sections": [],
      "include_colab_link": true
    },
    "kernelspec": {
      "name": "python3",
      "display_name": "Python 3"
    },
    "language_info": {
      "name": "python"
    }
  },
  "cells": [
    {
      "cell_type": "markdown",
      "metadata": {
        "id": "view-in-github",
        "colab_type": "text"
      },
      "source": [
        "<a href=\"https://colab.research.google.com/github/michalis0/Business-Intelligence-and-Analytics/blob/master/week9%20-%20Regression2/Exercises/Solution_Exercise.ipynb\" target=\"_parent\"><img src=\"https://colab.research.google.com/assets/colab-badge.svg\" alt=\"Open In Colab\"/></a>"
      ]
    },
    {
      "cell_type": "markdown",
      "metadata": {
        "id": "Q3ulPpJvgTUG"
      },
      "source": [
        "# Exercise: Multivariate Linear Regression, Overfitting and Crossvalidation\n",
        "\n",
        "This exercise is an application of what you learned in the walkthrough. The following cell gathers the different modules you need for this exercise (take a look at the sklearn library).\n",
        "\n",
        "Some exercises consist of filling a part of the code without writing the whole code. Replace the `\"YOUR CODE HERE\"` by your own code."
      ]
    },
    {
      "cell_type": "code",
      "metadata": {
        "id": "KNJo8TENgOlq",
        "colab": {
          "base_uri": "https://localhost:8080/"
        },
        "outputId": "cbd363d4-3146-4a5c-f865-ccda07cfc475"
      },
      "source": [
        "# Useful starting lines\n",
        "%matplotlib inline\n",
        "%load_ext autoreload\n",
        "%autoreload 2\n",
        "\n",
        "import numpy as np\n",
        "import matplotlib.pyplot as plt\n",
        "#from matplotlib import collections  as mc\n",
        "import pandas as pd \n",
        "\n",
        "# Sklearn import\n",
        "from sklearn.preprocessing import MinMaxScaler # Normalization\n",
        "from sklearn.linear_model import LinearRegression # Regression linear model\n",
        "from sklearn.model_selection import train_test_split # Splitting the data set\n",
        "from sklearn.preprocessing import LabelEncoder #1-hot encoding\n",
        "from sklearn.preprocessing import OneHotEncoder # Label encoding\n",
        "from sklearn.metrics import mean_squared_error, mean_absolute_error, r2_score # Metrics for errors\n",
        "from sklearn.model_selection import KFold # Cross validation"
      ],
      "execution_count": null,
      "outputs": [
        {
          "output_type": "stream",
          "text": [
            "The autoreload extension is already loaded. To reload it, use:\n",
            "  %reload_ext autoreload\n"
          ],
          "name": "stdout"
        }
      ]
    },
    {
      "cell_type": "markdown",
      "metadata": {
        "id": "wdkiZF_EioFA"
      },
      "source": [
        "##Loading the dataset\n",
        "This week, we are going to use the `audi` dataset. Our task is to figure out how the different features have an influence the price of a car.\n",
        "Load the pandas dataset from the given URL. Then display the first 5 rows. How many observations and columns do we have? "
      ]
    },
    {
      "cell_type": "code",
      "metadata": {
        "colab": {
          "base_uri": "https://localhost:8080/",
          "height": 243
        },
        "id": "tcowo_jml1Wa",
        "outputId": "65669b21-0915-4a71-9c44-853cc885f767"
      },
      "source": [
        "url = 'https://raw.githubusercontent.com/michalis0/Business-Intelligence-and-Analytics/master/data/audi.csv'\n",
        "# Load the data\n",
        "audi = pd.read_csv(url)\n",
        "display(audi.head())\n",
        "\n",
        "# Observations and columns (dimensions)\n",
        "print(\"Number of observations\", audi.shape[0])\n",
        "print(\"Number of dimensions\", audi.shape[1])"
      ],
      "execution_count": null,
      "outputs": [
        {
          "output_type": "display_data",
          "data": {
            "text/html": [
              "<div>\n",
              "<style scoped>\n",
              "    .dataframe tbody tr th:only-of-type {\n",
              "        vertical-align: middle;\n",
              "    }\n",
              "\n",
              "    .dataframe tbody tr th {\n",
              "        vertical-align: top;\n",
              "    }\n",
              "\n",
              "    .dataframe thead th {\n",
              "        text-align: right;\n",
              "    }\n",
              "</style>\n",
              "<table border=\"1\" class=\"dataframe\">\n",
              "  <thead>\n",
              "    <tr style=\"text-align: right;\">\n",
              "      <th></th>\n",
              "      <th>model</th>\n",
              "      <th>year</th>\n",
              "      <th>price</th>\n",
              "      <th>transmission</th>\n",
              "      <th>mileage</th>\n",
              "      <th>fuelType</th>\n",
              "      <th>tax</th>\n",
              "      <th>mpg</th>\n",
              "      <th>engineSize</th>\n",
              "    </tr>\n",
              "  </thead>\n",
              "  <tbody>\n",
              "    <tr>\n",
              "      <th>0</th>\n",
              "      <td>A1</td>\n",
              "      <td>2017</td>\n",
              "      <td>12500</td>\n",
              "      <td>Manual</td>\n",
              "      <td>15735</td>\n",
              "      <td>Petrol</td>\n",
              "      <td>150</td>\n",
              "      <td>55.4</td>\n",
              "      <td>1.4</td>\n",
              "    </tr>\n",
              "    <tr>\n",
              "      <th>1</th>\n",
              "      <td>A6</td>\n",
              "      <td>2016</td>\n",
              "      <td>16500</td>\n",
              "      <td>Automatic</td>\n",
              "      <td>36203</td>\n",
              "      <td>Diesel</td>\n",
              "      <td>20</td>\n",
              "      <td>64.2</td>\n",
              "      <td>2.0</td>\n",
              "    </tr>\n",
              "    <tr>\n",
              "      <th>2</th>\n",
              "      <td>A1</td>\n",
              "      <td>2016</td>\n",
              "      <td>11000</td>\n",
              "      <td>Manual</td>\n",
              "      <td>29946</td>\n",
              "      <td>Petrol</td>\n",
              "      <td>30</td>\n",
              "      <td>55.4</td>\n",
              "      <td>1.4</td>\n",
              "    </tr>\n",
              "    <tr>\n",
              "      <th>3</th>\n",
              "      <td>A4</td>\n",
              "      <td>2017</td>\n",
              "      <td>16800</td>\n",
              "      <td>Automatic</td>\n",
              "      <td>25952</td>\n",
              "      <td>Diesel</td>\n",
              "      <td>145</td>\n",
              "      <td>67.3</td>\n",
              "      <td>2.0</td>\n",
              "    </tr>\n",
              "    <tr>\n",
              "      <th>4</th>\n",
              "      <td>A3</td>\n",
              "      <td>2019</td>\n",
              "      <td>17300</td>\n",
              "      <td>Manual</td>\n",
              "      <td>1998</td>\n",
              "      <td>Petrol</td>\n",
              "      <td>145</td>\n",
              "      <td>49.6</td>\n",
              "      <td>1.0</td>\n",
              "    </tr>\n",
              "  </tbody>\n",
              "</table>\n",
              "</div>"
            ],
            "text/plain": [
              "  model  year  price transmission  mileage fuelType  tax   mpg  engineSize\n",
              "0    A1  2017  12500       Manual    15735   Petrol  150  55.4         1.4\n",
              "1    A6  2016  16500    Automatic    36203   Diesel   20  64.2         2.0\n",
              "2    A1  2016  11000       Manual    29946   Petrol   30  55.4         1.4\n",
              "3    A4  2017  16800    Automatic    25952   Diesel  145  67.3         2.0\n",
              "4    A3  2019  17300       Manual     1998   Petrol  145  49.6         1.0"
            ]
          },
          "metadata": {
            "tags": []
          }
        },
        {
          "output_type": "stream",
          "text": [
            "Number of observations 10668\n",
            "Number of dimensions 9\n"
          ],
          "name": "stdout"
        }
      ]
    },
    {
      "cell_type": "markdown",
      "metadata": {
        "id": "tJB_4Ej1o9WM"
      },
      "source": [
        "An overview of the columns:\n",
        " * `price`: price in £\n",
        " * `model` : audi model\n",
        " * `year`: registration year\n",
        " * `transmission`: type of gearbox\n",
        " * `mileage`: distance used\n",
        " * `fuelType`: engine fuel\n",
        " * `tax` : road tax\n",
        " * `mpg`: miles per gallon\n",
        " * `engineSize`: size in litres\n",
        " \n",
        " We will try to predict the price using some of the other variables."
      ]
    },
    {
      "cell_type": "markdown",
      "metadata": {
        "id": "pVTn7xB6qIar"
      },
      "source": [
        "##Dealing with categorical variables\n",
        "First we have to deal with our categorical variables. Since it's not possible to regress anything on them, we must transform them using techniques such as label encoding or 1-hot encoding. In this part, our goal is to obtain a final dataset :`AUDI` where there is no categorical variable."
      ]
    },
    {
      "cell_type": "markdown",
      "metadata": {
        "id": "ZHBQAqMjuFMh"
      },
      "source": [
        "Let's start with the `fuelType`. Since there are only 3 types of engine fuel, try to assign 0 for 'Petrol', 1 for 'Diesel' and 2 for 'Hybrid'. \n",
        "\n",
        "**Hint** use .replace()"
      ]
    },
    {
      "cell_type": "code",
      "metadata": {
        "colab": {
          "base_uri": "https://localhost:8080/",
          "height": 206
        },
        "id": "NbhTS4ClqHvt",
        "outputId": "054f9b13-5c18-4508-f540-da57886ca958"
      },
      "source": [
        "audi['fuelType'] = audi['fuelType'].replace(['Petrol','Diesel','Hybrid'], [0,1,2])\n",
        "display(audi.head())\n"
      ],
      "execution_count": null,
      "outputs": [
        {
          "output_type": "display_data",
          "data": {
            "text/html": [
              "<div>\n",
              "<style scoped>\n",
              "    .dataframe tbody tr th:only-of-type {\n",
              "        vertical-align: middle;\n",
              "    }\n",
              "\n",
              "    .dataframe tbody tr th {\n",
              "        vertical-align: top;\n",
              "    }\n",
              "\n",
              "    .dataframe thead th {\n",
              "        text-align: right;\n",
              "    }\n",
              "</style>\n",
              "<table border=\"1\" class=\"dataframe\">\n",
              "  <thead>\n",
              "    <tr style=\"text-align: right;\">\n",
              "      <th></th>\n",
              "      <th>model</th>\n",
              "      <th>year</th>\n",
              "      <th>price</th>\n",
              "      <th>transmission</th>\n",
              "      <th>mileage</th>\n",
              "      <th>fuelType</th>\n",
              "      <th>tax</th>\n",
              "      <th>mpg</th>\n",
              "      <th>engineSize</th>\n",
              "    </tr>\n",
              "  </thead>\n",
              "  <tbody>\n",
              "    <tr>\n",
              "      <th>0</th>\n",
              "      <td>A1</td>\n",
              "      <td>2017</td>\n",
              "      <td>12500</td>\n",
              "      <td>Manual</td>\n",
              "      <td>15735</td>\n",
              "      <td>0</td>\n",
              "      <td>150</td>\n",
              "      <td>55.4</td>\n",
              "      <td>1.4</td>\n",
              "    </tr>\n",
              "    <tr>\n",
              "      <th>1</th>\n",
              "      <td>A6</td>\n",
              "      <td>2016</td>\n",
              "      <td>16500</td>\n",
              "      <td>Automatic</td>\n",
              "      <td>36203</td>\n",
              "      <td>1</td>\n",
              "      <td>20</td>\n",
              "      <td>64.2</td>\n",
              "      <td>2.0</td>\n",
              "    </tr>\n",
              "    <tr>\n",
              "      <th>2</th>\n",
              "      <td>A1</td>\n",
              "      <td>2016</td>\n",
              "      <td>11000</td>\n",
              "      <td>Manual</td>\n",
              "      <td>29946</td>\n",
              "      <td>0</td>\n",
              "      <td>30</td>\n",
              "      <td>55.4</td>\n",
              "      <td>1.4</td>\n",
              "    </tr>\n",
              "    <tr>\n",
              "      <th>3</th>\n",
              "      <td>A4</td>\n",
              "      <td>2017</td>\n",
              "      <td>16800</td>\n",
              "      <td>Automatic</td>\n",
              "      <td>25952</td>\n",
              "      <td>1</td>\n",
              "      <td>145</td>\n",
              "      <td>67.3</td>\n",
              "      <td>2.0</td>\n",
              "    </tr>\n",
              "    <tr>\n",
              "      <th>4</th>\n",
              "      <td>A3</td>\n",
              "      <td>2019</td>\n",
              "      <td>17300</td>\n",
              "      <td>Manual</td>\n",
              "      <td>1998</td>\n",
              "      <td>0</td>\n",
              "      <td>145</td>\n",
              "      <td>49.6</td>\n",
              "      <td>1.0</td>\n",
              "    </tr>\n",
              "  </tbody>\n",
              "</table>\n",
              "</div>"
            ],
            "text/plain": [
              "  model  year  price transmission  mileage  fuelType  tax   mpg  engineSize\n",
              "0    A1  2017  12500       Manual    15735         0  150  55.4         1.4\n",
              "1    A6  2016  16500    Automatic    36203         1   20  64.2         2.0\n",
              "2    A1  2016  11000       Manual    29946         0   30  55.4         1.4\n",
              "3    A4  2017  16800    Automatic    25952         1  145  67.3         2.0\n",
              "4    A3  2019  17300       Manual     1998         0  145  49.6         1.0"
            ]
          },
          "metadata": {
            "tags": []
          }
        }
      ]
    },
    {
      "cell_type": "markdown",
      "metadata": {
        "id": "Z7CUaX2MwgJb"
      },
      "source": [
        "Now, let's transform `model`. There are a lot of various models, thinking about what you've seen in last week lesson which technique should we use ?"
      ]
    },
    {
      "cell_type": "code",
      "metadata": {
        "id": "hjsQP3ANwdCc"
      },
      "source": [
        "#Label encoding \n",
        "\n",
        "X = audi[['model']]\n",
        "\n",
        "X_label = X.apply(LabelEncoder().fit_transform)\n",
        "del audi['model']"
      ],
      "execution_count": null,
      "outputs": []
    },
    {
      "cell_type": "markdown",
      "metadata": {
        "id": "GmiNrgomvleI"
      },
      "source": [
        "Lastly, let's tackle `transmission` using 1-hot encoding."
      ]
    },
    {
      "cell_type": "code",
      "metadata": {
        "colab": {
          "base_uri": "https://localhost:8080/",
          "height": 206
        },
        "id": "-Kxevu-twHpc",
        "outputId": "735be4f7-6944-4079-dd6a-8229003d3cfd"
      },
      "source": [
        "#1-hot encoding\n",
        "\n",
        "#We create a DF with Dummy variables\n",
        "dummies = pd.get_dummies(audi[\"transmission\"])\n",
        "X_hot = pd.concat([audi, dummies], axis = 1)\n",
        "\n",
        "#We drop the transmission column \n",
        "del X_hot[\"transmission\"]\n",
        "\n",
        "display(X_hot.head())"
      ],
      "execution_count": null,
      "outputs": [
        {
          "output_type": "display_data",
          "data": {
            "text/html": [
              "<div>\n",
              "<style scoped>\n",
              "    .dataframe tbody tr th:only-of-type {\n",
              "        vertical-align: middle;\n",
              "    }\n",
              "\n",
              "    .dataframe tbody tr th {\n",
              "        vertical-align: top;\n",
              "    }\n",
              "\n",
              "    .dataframe thead th {\n",
              "        text-align: right;\n",
              "    }\n",
              "</style>\n",
              "<table border=\"1\" class=\"dataframe\">\n",
              "  <thead>\n",
              "    <tr style=\"text-align: right;\">\n",
              "      <th></th>\n",
              "      <th>year</th>\n",
              "      <th>price</th>\n",
              "      <th>mileage</th>\n",
              "      <th>fuelType</th>\n",
              "      <th>tax</th>\n",
              "      <th>mpg</th>\n",
              "      <th>engineSize</th>\n",
              "      <th>Automatic</th>\n",
              "      <th>Manual</th>\n",
              "      <th>Semi-Auto</th>\n",
              "    </tr>\n",
              "  </thead>\n",
              "  <tbody>\n",
              "    <tr>\n",
              "      <th>0</th>\n",
              "      <td>2017</td>\n",
              "      <td>12500</td>\n",
              "      <td>15735</td>\n",
              "      <td>0</td>\n",
              "      <td>150</td>\n",
              "      <td>55.4</td>\n",
              "      <td>1.4</td>\n",
              "      <td>0</td>\n",
              "      <td>1</td>\n",
              "      <td>0</td>\n",
              "    </tr>\n",
              "    <tr>\n",
              "      <th>1</th>\n",
              "      <td>2016</td>\n",
              "      <td>16500</td>\n",
              "      <td>36203</td>\n",
              "      <td>1</td>\n",
              "      <td>20</td>\n",
              "      <td>64.2</td>\n",
              "      <td>2.0</td>\n",
              "      <td>1</td>\n",
              "      <td>0</td>\n",
              "      <td>0</td>\n",
              "    </tr>\n",
              "    <tr>\n",
              "      <th>2</th>\n",
              "      <td>2016</td>\n",
              "      <td>11000</td>\n",
              "      <td>29946</td>\n",
              "      <td>0</td>\n",
              "      <td>30</td>\n",
              "      <td>55.4</td>\n",
              "      <td>1.4</td>\n",
              "      <td>0</td>\n",
              "      <td>1</td>\n",
              "      <td>0</td>\n",
              "    </tr>\n",
              "    <tr>\n",
              "      <th>3</th>\n",
              "      <td>2017</td>\n",
              "      <td>16800</td>\n",
              "      <td>25952</td>\n",
              "      <td>1</td>\n",
              "      <td>145</td>\n",
              "      <td>67.3</td>\n",
              "      <td>2.0</td>\n",
              "      <td>1</td>\n",
              "      <td>0</td>\n",
              "      <td>0</td>\n",
              "    </tr>\n",
              "    <tr>\n",
              "      <th>4</th>\n",
              "      <td>2019</td>\n",
              "      <td>17300</td>\n",
              "      <td>1998</td>\n",
              "      <td>0</td>\n",
              "      <td>145</td>\n",
              "      <td>49.6</td>\n",
              "      <td>1.0</td>\n",
              "      <td>0</td>\n",
              "      <td>1</td>\n",
              "      <td>0</td>\n",
              "    </tr>\n",
              "  </tbody>\n",
              "</table>\n",
              "</div>"
            ],
            "text/plain": [
              "   year  price  mileage  fuelType  ...  engineSize  Automatic  Manual  Semi-Auto\n",
              "0  2017  12500    15735         0  ...         1.4          0       1          0\n",
              "1  2016  16500    36203         1  ...         2.0          1       0          0\n",
              "2  2016  11000    29946         0  ...         1.4          0       1          0\n",
              "3  2017  16800    25952         1  ...         2.0          1       0          0\n",
              "4  2019  17300     1998         0  ...         1.0          0       1          0\n",
              "\n",
              "[5 rows x 10 columns]"
            ]
          },
          "metadata": {
            "tags": []
          }
        }
      ]
    },
    {
      "cell_type": "markdown",
      "metadata": {
        "id": "GlUQ1jMx1Nbs"
      },
      "source": [
        "Let's get an overview of our transformed dataset without categorical variables."
      ]
    },
    {
      "cell_type": "code",
      "metadata": {
        "colab": {
          "base_uri": "https://localhost:8080/",
          "height": 206
        },
        "id": "KP0iM5gDzNF8",
        "outputId": "5ea2a3c9-2848-48f9-aabe-4c7dc5ea8fea"
      },
      "source": [
        "AUDI = pd.concat([X_hot, X_label], axis=1)\n",
        "display(AUDI.head())"
      ],
      "execution_count": null,
      "outputs": [
        {
          "output_type": "display_data",
          "data": {
            "text/html": [
              "<div>\n",
              "<style scoped>\n",
              "    .dataframe tbody tr th:only-of-type {\n",
              "        vertical-align: middle;\n",
              "    }\n",
              "\n",
              "    .dataframe tbody tr th {\n",
              "        vertical-align: top;\n",
              "    }\n",
              "\n",
              "    .dataframe thead th {\n",
              "        text-align: right;\n",
              "    }\n",
              "</style>\n",
              "<table border=\"1\" class=\"dataframe\">\n",
              "  <thead>\n",
              "    <tr style=\"text-align: right;\">\n",
              "      <th></th>\n",
              "      <th>year</th>\n",
              "      <th>price</th>\n",
              "      <th>mileage</th>\n",
              "      <th>fuelType</th>\n",
              "      <th>tax</th>\n",
              "      <th>mpg</th>\n",
              "      <th>engineSize</th>\n",
              "      <th>Automatic</th>\n",
              "      <th>Manual</th>\n",
              "      <th>Semi-Auto</th>\n",
              "      <th>model</th>\n",
              "    </tr>\n",
              "  </thead>\n",
              "  <tbody>\n",
              "    <tr>\n",
              "      <th>0</th>\n",
              "      <td>2017</td>\n",
              "      <td>12500</td>\n",
              "      <td>15735</td>\n",
              "      <td>0</td>\n",
              "      <td>150</td>\n",
              "      <td>55.4</td>\n",
              "      <td>1.4</td>\n",
              "      <td>0</td>\n",
              "      <td>1</td>\n",
              "      <td>0</td>\n",
              "      <td>0</td>\n",
              "    </tr>\n",
              "    <tr>\n",
              "      <th>1</th>\n",
              "      <td>2016</td>\n",
              "      <td>16500</td>\n",
              "      <td>36203</td>\n",
              "      <td>1</td>\n",
              "      <td>20</td>\n",
              "      <td>64.2</td>\n",
              "      <td>2.0</td>\n",
              "      <td>1</td>\n",
              "      <td>0</td>\n",
              "      <td>0</td>\n",
              "      <td>5</td>\n",
              "    </tr>\n",
              "    <tr>\n",
              "      <th>2</th>\n",
              "      <td>2016</td>\n",
              "      <td>11000</td>\n",
              "      <td>29946</td>\n",
              "      <td>0</td>\n",
              "      <td>30</td>\n",
              "      <td>55.4</td>\n",
              "      <td>1.4</td>\n",
              "      <td>0</td>\n",
              "      <td>1</td>\n",
              "      <td>0</td>\n",
              "      <td>0</td>\n",
              "    </tr>\n",
              "    <tr>\n",
              "      <th>3</th>\n",
              "      <td>2017</td>\n",
              "      <td>16800</td>\n",
              "      <td>25952</td>\n",
              "      <td>1</td>\n",
              "      <td>145</td>\n",
              "      <td>67.3</td>\n",
              "      <td>2.0</td>\n",
              "      <td>1</td>\n",
              "      <td>0</td>\n",
              "      <td>0</td>\n",
              "      <td>3</td>\n",
              "    </tr>\n",
              "    <tr>\n",
              "      <th>4</th>\n",
              "      <td>2019</td>\n",
              "      <td>17300</td>\n",
              "      <td>1998</td>\n",
              "      <td>0</td>\n",
              "      <td>145</td>\n",
              "      <td>49.6</td>\n",
              "      <td>1.0</td>\n",
              "      <td>0</td>\n",
              "      <td>1</td>\n",
              "      <td>0</td>\n",
              "      <td>2</td>\n",
              "    </tr>\n",
              "  </tbody>\n",
              "</table>\n",
              "</div>"
            ],
            "text/plain": [
              "   year  price  mileage  fuelType  ...  Automatic  Manual  Semi-Auto  model\n",
              "0  2017  12500    15735         0  ...          0       1          0      0\n",
              "1  2016  16500    36203         1  ...          1       0          0      5\n",
              "2  2016  11000    29946         0  ...          0       1          0      0\n",
              "3  2017  16800    25952         1  ...          1       0          0      3\n",
              "4  2019  17300     1998         0  ...          0       1          0      2\n",
              "\n",
              "[5 rows x 11 columns]"
            ]
          },
          "metadata": {
            "tags": []
          }
        }
      ]
    },
    {
      "cell_type": "markdown",
      "metadata": {
        "id": "du-PMbPa1g4u"
      },
      "source": [
        "## Multivariate Regression\n",
        "Now that our variables are usable  let's get to regression. Using the steps we covered last week, try to predict the `price` using our variables."
      ]
    },
    {
      "cell_type": "code",
      "metadata": {
        "id": "W8gwBcMr58uX"
      },
      "source": [
        "#We want to predict the price using other columns\n",
        "y = AUDI[\"price\"]\n",
        "X = AUDI.drop(\"price\", axis = 1)"
      ],
      "execution_count": null,
      "outputs": []
    },
    {
      "cell_type": "code",
      "metadata": {
        "colab": {
          "base_uri": "https://localhost:8080/"
        },
        "id": "pA31OO8P6G_H",
        "outputId": "98f3d25c-b1d9-432c-9cdc-7c19ed93b52e"
      },
      "source": [
        "#Split the data set\n",
        "X_train, X_test, y_train, y_test = train_test_split(X, y, test_size=0.2, random_state=0, shuffle=True)\n",
        "\n",
        "#Create the model\n",
        "model = LinearRegression()\n",
        "model.fit(X_train, y_train)\n",
        "predictions = model.predict(X_test)\n",
        "\n",
        "# Performance metrics\n",
        "print(\"Test scores: \")\n",
        "print(\"MAE %.2f\" % mean_absolute_error(y_test, predictions))\n",
        "print(\"MSE %.2f\" % mean_squared_error(y_test, predictions))\n",
        "print(\"R^2 %.2f\" % r2_score(y_test, predictions))\n",
        "\n",
        "print(\"Train metrics\")\n",
        "print(\"params: \", model.coef_)\n",
        "print(\"constant: \", model.intercept_)\n",
        "print(\"R^2 score: \", model.score(X, y))"
      ],
      "execution_count": null,
      "outputs": [
        {
          "output_type": "stream",
          "text": [
            "Test scores: \n",
            "MAE 3380.78\n",
            "MSE 28747993.68\n",
            "R^2 0.79\n",
            "Train metrics\n",
            "params:  [ 2.00510542e+03 -9.74001793e-02 -5.12966893e+02 -2.11739405e+01\n",
            " -1.70308265e+02  1.03592053e+04  7.92987327e+02 -1.15425080e+03\n",
            "  3.61263478e+02  2.77074433e+02]\n",
            "constant:  -4029060.8188127205\n",
            "R^2 score:  0.7896311971412315\n"
          ],
          "name": "stdout"
        }
      ]
    },
    {
      "cell_type": "markdown",
      "metadata": {
        "id": "_8fsYdwA8_Sz"
      },
      "source": [
        "## Evaluation and Overfitting\n"
      ]
    },
    {
      "cell_type": "markdown",
      "metadata": {
        "id": "LaexShaXVCsL"
      },
      "source": [
        "### Overfitting\n",
        "First, compute the mean absolute error of the training set and the testing set, save the values into the two arrays which are already defined. Plot the different errors values depending on the number of features."
      ]
    },
    {
      "cell_type": "code",
      "metadata": {
        "colab": {
          "base_uri": "https://localhost:8080/",
          "height": 352
        },
        "id": "k5GTGN3n-yQd",
        "outputId": "093848c3-738f-4528-b4e7-fed32dced70d"
      },
      "source": [
        "# Arrays to save the different errors\n",
        "train_err = []\n",
        "test_err = []\n",
        "\n",
        "# Iterate over our features\n",
        "for nbr_col in range(1, 13):\n",
        "    # Select the good number of features for X\n",
        "    X_temp = X[X.columns[:nbr_col]]\n",
        "    # Split the dat set\n",
        "    X_train, X_test, y_train, y_test = train_test_split(X_temp, y, test_size=0.2, random_state=10)\n",
        "    # Create the linear model\n",
        "    LR = LinearRegression(fit_intercept=False)\n",
        "    # Fit the linear model\n",
        "    LR.fit(X_train, y_train)\n",
        "    \n",
        "    #Compute and save the mean absolute error fro training and testing set\n",
        "    train_err.append(mean_absolute_error(y_train, LR.predict(X_train)))\n",
        "    test_err.append(mean_absolute_error(y_test, LR.predict(X_test)))\n",
        "\n",
        "# Print the train and the test errors\n",
        "print(\"Train error: \", train_err)\n",
        "print(\"Test error : \", test_err)\n",
        "\n",
        "plt.title(\"Training and test error regarding the number of features\")\n",
        "plt.plot(range(1,13), train_err, label=\"train_error\")\n",
        "plt.plot(range(1,13), test_err, label=\"test_error\")\n",
        "plt.legend(fontsize=10)\n",
        "plt.xlabel(\"Number of features\")\n",
        "plt.ylabel(\"Error\")\n",
        "plt.show()"
      ],
      "execution_count": null,
      "outputs": [
        {
          "output_type": "stream",
          "text": [
            "Train error:  [8415.311125191496, 6614.71721248791, 6440.108383710164, 5870.291144637267, 4548.254394590731, 3982.1386250601063, 3973.30710443698, 3904.8555212243, 3415.988649789239, 3363.4155561263437, 3363.4155561263437, 3363.4155561263437]\n",
            "Test error :  [8260.94428028863, 6597.026539939061, 6467.921118811798, 5868.270464785988, 4604.671392815442, 3969.323077742746, 3960.805460367728, 3913.31013781994, 3338.1693839486993, 3302.9499473470355, 3302.9499473470355, 3302.9499473470355]\n"
          ],
          "name": "stdout"
        },
        {
          "output_type": "display_data",
          "data": {
            "image/png": "[encoded data removed]",
            "text/plain": [
              "<Figure size 432x288 with 1 Axes>"
            ]
          },
          "metadata": {
            "tags": [],
            "needs_background": "light"
          }
        }
      ]
    },
    {
      "cell_type": "markdown",
      "metadata": {
        "id": "dFBDk8kkVGdl"
      },
      "source": [
        "###Cross validation\n",
        "The standard way to do a hyperparameter tuning is through cross validation. We need to make sure that our model has a has a good generalisation power and performs well on unseen data. We use the KFold sklearn module to separate the data set into different combination of data. It will reduce the overfitting issue When you create a new KFold object, you have to specify the number of splits you want."
      ]
    },
    {
      "cell_type": "code",
      "metadata": {
        "colab": {
          "base_uri": "https://localhost:8080/"
        },
        "id": "HZ7jp8jY3OVi",
        "outputId": "a61bd96e-5a86-40a5-d62c-0852a2282bfa"
      },
      "source": [
        "from sklearn.model_selection import KFold\n",
        "\n",
        "y = AUDI[\"price\"]\n",
        "X = AUDI.drop(\"price\", axis = 1)\n",
        "\n",
        "kf = KFold(n_splits = 10, random_state = None)\n",
        "model = LinearRegression()\n",
        "\n",
        "mae_cumm = []\n",
        "mse_cumm = []\n",
        "r2_cumm = []\n",
        "\n",
        "for train_index, test_index in kf.split(X):\n",
        "  \n",
        "  X_train, X_test = X.iloc[train_index, :], X.iloc[test_index, :]\n",
        "  y_train, y_test = y.iloc[train_index], y.iloc[test_index]\n",
        "\n",
        "  model.fit(X_train, y_train)\n",
        "  predictions = model.predict(X_test)\n",
        "\n",
        "\n",
        "  mae = mean_absolute_error(y_test, predictions)\n",
        "  mse = mean_squared_error(y_test, predictions)\n",
        "  r2 = r2_score(y_test, predictions)\n",
        "\n",
        "  mae_cumm.append(mae)\n",
        "  mse_cumm.append(mse)\n",
        "  r2_cumm.append(r2)\n",
        "\n",
        "  \n",
        "mean_mae = sum(mae_cumm)/len(mae_cumm)\n",
        "mean_mse = sum(mse_cumm)/len(mse_cumm)\n",
        "mean_r2 = sum(r2_cumm)/len(r2_cumm)\n",
        "\n",
        "print(\"The mean absolute error of all our folds was: \",round(mean_mae, 3))\n",
        "print(\"The mean squared error of all our folds was: \", round(mean_mse, 3))\n",
        "print(\"The mean accuracy of all our folds was: \", round(mean_r2, 3))"
      ],
      "execution_count": null,
      "outputs": [
        {
          "output_type": "stream",
          "text": [
            "The mean absolute error of all our folds was:  3402.054\n",
            "The mean squared error of all our folds was:  30488591.2\n",
            "The mean accuracy of all our folds was:  0.761\n"
          ],
          "name": "stdout"
        }
      ]
    }
  ]
}