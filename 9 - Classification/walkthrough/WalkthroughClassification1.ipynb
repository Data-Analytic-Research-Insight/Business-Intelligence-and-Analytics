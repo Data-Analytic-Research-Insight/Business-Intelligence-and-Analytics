{
  "nbformat": 4,
  "nbformat_minor": 0,
  "metadata": {
    "colab": {
      "name": "WalkthroughClassification1.ipynb",
      "provenance": [],
      "include_colab_link": true
    },
    "kernelspec": {
      "display_name": "Python 3",
      "language": "python",
      "name": "python3"
    },
    "language_info": {
      "codemirror_mode": {
        "name": "ipython",
        "version": 3
      },
      "file_extension": ".py",
      "mimetype": "text/x-python",
      "name": "python",
      "nbconvert_exporter": "python",
      "pygments_lexer": "ipython3",
      "version": "3.6.9"
    }
  },
  "cells": [
    {
      "cell_type": "markdown",
      "metadata": {
        "id": "view-in-github",
        "colab_type": "text"
      },
      "source": [
        "<a href=\"https://colab.research.google.com/github/michalis0/Business-Intelligence-and-Analytics/blob/master/9%20-%20Classification/walkthrough/WalkthroughClassification1.ipynb\" target=\"_parent\"><img src=\"https://colab.research.google.com/assets/colab-badge.svg\" alt=\"Open In Colab\"/></a>"
      ]
    },
    {
      "cell_type": "markdown",
      "metadata": {
        "id": "yqS3Z6AtqrmH"
      },
      "source": [
        "# Classification\n",
        "\n",
        "Classification is part of **supervised learning**. <br>\n",
        "### Here is a quick reminder: <br>\n",
        "\n",
        "#### Types of Machine Learning: \n",
        "- Supervised Learning:\n",
        "  - **Classification**\n",
        "  - Regression\n",
        "- Unsupervised Learning:\n",
        "  - Dimensionality Reduction \n",
        "  - Clustering\n",
        "- others\n",
        "\n",
        "The idea is to classify items of a dataset into **predefined classes**. \n",
        "\n",
        "#### Examples of classification: <br>\n",
        "- Image classification (Is this a cat or not?)\n",
        "- Risky or safe loan application (Should a bank provide a loan to applicant or not?)\n",
        "- Prediction of customer behaviour (will a customer buy this new product or not?)\n",
        "- etc.\n",
        "\n",
        "\n",
        "\n",
        "\n"
      ]
    },
    {
      "cell_type": "markdown",
      "metadata": {
        "id": "kPrU-9xrG0vz"
      },
      "source": [
        "For the Walkthough we will use a **dataset on wine quality**. As usual, you can find it in the /data folder.\n",
        "\n",
        "<img src='https://assets.pbimgs.com/pbimgs/rk/images/dp/wcm/202145/0002/schott-zwiesel-classico-wine-glasses-c.jpg' width=\"300\">"
      ]
    },
    {
      "cell_type": "code",
      "metadata": {
        "id": "rjbMSebFfy3F",
        "colab": {
          "base_uri": "https://localhost:8080/",
          "height": 267
        },
        "outputId": "49ec4a29-f1f9-40ad-ec68-4885eee2da11"
      },
      "source": [
        "#Load dataset\n",
        "%matplotlib inline\n",
        "import pandas as pd\n",
        "import matplotlib.pyplot as plt\n",
        "import seaborn as sns\n",
        "url = 'https://media.githubusercontent.com/media/michalis0/Business-Intelligence-and-Analytics/master/data/winequality-red.csv'\n",
        "wines = pd.read_csv(url)\n",
        "wines.head()\n"
      ],
      "execution_count": 6,
      "outputs": [
        {
          "output_type": "execute_result",
          "data": {
            "text/plain": [
              "   fixed acidity  volatile acidity  citric acid  residual sugar  chlorides  \\\n",
              "0            7.4              0.70         0.00             1.9      0.076   \n",
              "1            7.8              0.88         0.00             2.6      0.098   \n",
              "2            7.8              0.76         0.04             2.3      0.092   \n",
              "3           11.2              0.28         0.56             1.9      0.075   \n",
              "4            7.4              0.70         0.00             1.9      0.076   \n",
              "\n",
              "   free sulfur dioxide  total sulfur dioxide  density    pH  sulphates  \\\n",
              "0                 11.0                  34.0   0.9978  3.51       0.56   \n",
              "1                 25.0                  67.0   0.9968  3.20       0.68   \n",
              "2                 15.0                  54.0   0.9970  3.26       0.65   \n",
              "3                 17.0                  60.0   0.9980  3.16       0.58   \n",
              "4                 11.0                  34.0   0.9978  3.51       0.56   \n",
              "\n",
              "   alcohol  quality  \n",
              "0      9.4        0  \n",
              "1      9.8        0  \n",
              "2      9.8        0  \n",
              "3      9.8        1  \n",
              "4      9.4        0  "
            ],
            "text/html": [
              "\n",
              "  <div id=\"df-f7cea7cf-7cd6-4b1b-b118-32bb43be8063\">\n",
              "    <div class=\"colab-df-container\">\n",
              "      <div>\n",
              "<style scoped>\n",
              "    .dataframe tbody tr th:only-of-type {\n",
              "        vertical-align: middle;\n",
              "    }\n",
              "\n",
              "    .dataframe tbody tr th {\n",
              "        vertical-align: top;\n",
              "    }\n",
              "\n",
              "    .dataframe thead th {\n",
              "        text-align: right;\n",
              "    }\n",
              "</style>\n",
              "<table border=\"1\" class=\"dataframe\">\n",
              "  <thead>\n",
              "    <tr style=\"text-align: right;\">\n",
              "      <th></th>\n",
              "      <th>fixed acidity</th>\n",
              "      <th>volatile acidity</th>\n",
              "      <th>citric acid</th>\n",
              "      <th>residual sugar</th>\n",
              "      <th>chlorides</th>\n",
              "      <th>free sulfur dioxide</th>\n",
              "      <th>total sulfur dioxide</th>\n",
              "      <th>density</th>\n",
              "      <th>pH</th>\n",
              "      <th>sulphates</th>\n",
              "      <th>alcohol</th>\n",
              "      <th>quality</th>\n",
              "    </tr>\n",
              "  </thead>\n",
              "  <tbody>\n",
              "    <tr>\n",
              "      <th>0</th>\n",
              "      <td>7.4</td>\n",
              "      <td>0.70</td>\n",
              "      <td>0.00</td>\n",
              "      <td>1.9</td>\n",
              "      <td>0.076</td>\n",
              "      <td>11.0</td>\n",
              "      <td>34.0</td>\n",
              "      <td>0.9978</td>\n",
              "      <td>3.51</td>\n",
              "      <td>0.56</td>\n",
              "      <td>9.4</td>\n",
              "      <td>0</td>\n",
              "    </tr>\n",
              "    <tr>\n",
              "      <th>1</th>\n",
              "      <td>7.8</td>\n",
              "      <td>0.88</td>\n",
              "      <td>0.00</td>\n",
              "      <td>2.6</td>\n",
              "      <td>0.098</td>\n",
              "      <td>25.0</td>\n",
              "      <td>67.0</td>\n",
              "      <td>0.9968</td>\n",
              "      <td>3.20</td>\n",
              "      <td>0.68</td>\n",
              "      <td>9.8</td>\n",
              "      <td>0</td>\n",
              "    </tr>\n",
              "    <tr>\n",
              "      <th>2</th>\n",
              "      <td>7.8</td>\n",
              "      <td>0.76</td>\n",
              "      <td>0.04</td>\n",
              "      <td>2.3</td>\n",
              "      <td>0.092</td>\n",
              "      <td>15.0</td>\n",
              "      <td>54.0</td>\n",
              "      <td>0.9970</td>\n",
              "      <td>3.26</td>\n",
              "      <td>0.65</td>\n",
              "      <td>9.8</td>\n",
              "      <td>0</td>\n",
              "    </tr>\n",
              "    <tr>\n",
              "      <th>3</th>\n",
              "      <td>11.2</td>\n",
              "      <td>0.28</td>\n",
              "      <td>0.56</td>\n",
              "      <td>1.9</td>\n",
              "      <td>0.075</td>\n",
              "      <td>17.0</td>\n",
              "      <td>60.0</td>\n",
              "      <td>0.9980</td>\n",
              "      <td>3.16</td>\n",
              "      <td>0.58</td>\n",
              "      <td>9.8</td>\n",
              "      <td>1</td>\n",
              "    </tr>\n",
              "    <tr>\n",
              "      <th>4</th>\n",
              "      <td>7.4</td>\n",
              "      <td>0.70</td>\n",
              "      <td>0.00</td>\n",
              "      <td>1.9</td>\n",
              "      <td>0.076</td>\n",
              "      <td>11.0</td>\n",
              "      <td>34.0</td>\n",
              "      <td>0.9978</td>\n",
              "      <td>3.51</td>\n",
              "      <td>0.56</td>\n",
              "      <td>9.4</td>\n",
              "      <td>0</td>\n",
              "    </tr>\n",
              "  </tbody>\n",
              "</table>\n",
              "</div>\n",
              "      <button class=\"colab-df-convert\" onclick=\"convertToInteractive('df-f7cea7cf-7cd6-4b1b-b118-32bb43be8063')\"\n",
              "              title=\"Convert this dataframe to an interactive table.\"\n",
              "              style=\"display:none;\">\n",
              "        \n",
              "  <svg xmlns=\"http://www.w3.org/2000/svg\" height=\"24px\"viewBox=\"0 0 24 24\"\n",
              "       width=\"24px\">\n",
              "    <path d=\"M0 0h24v24H0V0z\" fill=\"none\"/>\n",
              "    <path d=\"M18.56 5.44l.94 2.06.94-2.06 2.06-.94-2.06-.94-.94-2.06-.94 2.06-2.06.94zm-11 1L8.5 8.5l.94-2.06 2.06-.94-2.06-.94L8.5 2.5l-.94 2.06-2.06.94zm10 10l.94 2.06.94-2.06 2.06-.94-2.06-.94-.94-2.06-.94 2.06-2.06.94z\"/><path d=\"M17.41 7.96l-1.37-1.37c-.4-.4-.92-.59-1.43-.59-.52 0-1.04.2-1.43.59L10.3 9.45l-7.72 7.72c-.78.78-.78 2.05 0 2.83L4 21.41c.39.39.9.59 1.41.59.51 0 1.02-.2 1.41-.59l7.78-7.78 2.81-2.81c.8-.78.8-2.07 0-2.86zM5.41 20L4 18.59l7.72-7.72 1.47 1.35L5.41 20z\"/>\n",
              "  </svg>\n",
              "      </button>\n",
              "      \n",
              "  <style>\n",
              "    .colab-df-container {\n",
              "      display:flex;\n",
              "      flex-wrap:wrap;\n",
              "      gap: 12px;\n",
              "    }\n",
              "\n",
              "    .colab-df-convert {\n",
              "      background-color: #E8F0FE;\n",
              "      border: none;\n",
              "      border-radius: 50%;\n",
              "      cursor: pointer;\n",
              "      display: none;\n",
              "      fill: #1967D2;\n",
              "      height: 32px;\n",
              "      padding: 0 0 0 0;\n",
              "      width: 32px;\n",
              "    }\n",
              "\n",
              "    .colab-df-convert:hover {\n",
              "      background-color: #E2EBFA;\n",
              "      box-shadow: 0px 1px 2px rgba(60, 64, 67, 0.3), 0px 1px 3px 1px rgba(60, 64, 67, 0.15);\n",
              "      fill: #174EA6;\n",
              "    }\n",
              "\n",
              "    [theme=dark] .colab-df-convert {\n",
              "      background-color: #3B4455;\n",
              "      fill: #D2E3FC;\n",
              "    }\n",
              "\n",
              "    [theme=dark] .colab-df-convert:hover {\n",
              "      background-color: #434B5C;\n",
              "      box-shadow: 0px 1px 3px 1px rgba(0, 0, 0, 0.15);\n",
              "      filter: drop-shadow(0px 1px 2px rgba(0, 0, 0, 0.3));\n",
              "      fill: #FFFFFF;\n",
              "    }\n",
              "  </style>\n",
              "\n",
              "      <script>\n",
              "        const buttonEl =\n",
              "          document.querySelector('#df-f7cea7cf-7cd6-4b1b-b118-32bb43be8063 button.colab-df-convert');\n",
              "        buttonEl.style.display =\n",
              "          google.colab.kernel.accessAllowed ? 'block' : 'none';\n",
              "\n",
              "        async function convertToInteractive(key) {\n",
              "          const element = document.querySelector('#df-f7cea7cf-7cd6-4b1b-b118-32bb43be8063');\n",
              "          const dataTable =\n",
              "            await google.colab.kernel.invokeFunction('convertToInteractive',\n",
              "                                                     [key], {});\n",
              "          if (!dataTable) return;\n",
              "\n",
              "          const docLinkHtml = 'Like what you see? Visit the ' +\n",
              "            '<a target=\"_blank\" href=https://colab.research.google.com/notebooks/data_table.ipynb>data table notebook</a>'\n",
              "            + ' to learn more about interactive tables.';\n",
              "          element.innerHTML = '';\n",
              "          dataTable['output_type'] = 'display_data';\n",
              "          await google.colab.output.renderOutput(dataTable, element);\n",
              "          const docLink = document.createElement('div');\n",
              "          docLink.innerHTML = docLinkHtml;\n",
              "          element.appendChild(docLink);\n",
              "        }\n",
              "      </script>\n",
              "    </div>\n",
              "  </div>\n",
              "  "
            ]
          },
          "metadata": {},
          "execution_count": 6
        }
      ]
    },
    {
      "cell_type": "code",
      "metadata": {
        "id": "TO_08h8zl3Wm"
      },
      "source": [
        "#Define features and target variable\n",
        "X = wines.drop(columns='quality')\n",
        "y = wines['quality']"
      ],
      "execution_count": 7,
      "outputs": []
    },
    {
      "cell_type": "markdown",
      "metadata": {
        "id": "dK_lptPte5pu"
      },
      "source": [
        "Let's see the different classes"
      ]
    },
    {
      "cell_type": "code",
      "metadata": {
        "colab": {
          "base_uri": "https://localhost:8080/"
        },
        "id": "nwO7sXM1DQlt",
        "outputId": "d932eb3a-991b-4367-ef4f-3445588f0dd8"
      },
      "source": [
        "wines['quality'].value_counts()"
      ],
      "execution_count": 8,
      "outputs": [
        {
          "output_type": "execute_result",
          "data": {
            "text/plain": [
              "0    681\n",
              "1    638\n",
              "Name: quality, dtype: int64"
            ]
          },
          "metadata": {},
          "execution_count": 8
        }
      ]
    },
    {
      "cell_type": "markdown",
      "metadata": {
        "id": "tlUPoK3Ie5pz"
      },
      "source": [
        "In this exercise, we are going to classify the the wine based on his content characteristics to find the quality category to which it corresponds to.  "
      ]
    },
    {
      "cell_type": "markdown",
      "metadata": {
        "id": "AkF9wmujkOmZ"
      },
      "source": [
        "#### 1) Split into train and test set\n",
        " \n",
        "The data is split into random train and test subsets. The training set contains a known output and the model learns on this data in order to be generalized to other data later on. We use the test dataset in order to test our prediction on this subset.\n"
      ]
    },
    {
      "cell_type": "code",
      "metadata": {
        "id": "0KxeLYcbf0wx"
      },
      "source": [
        "#Split data set into a train and a test data sets\n",
        "from sklearn.model_selection import train_test_split\n",
        "X_train, X_test, y_train, y_test = train_test_split(X, y, random_state=50, test_size=0.3)"
      ],
      "execution_count": 9,
      "outputs": []
    },
    {
      "cell_type": "markdown",
      "metadata": {
        "id": "oWsiJT07Gt7c"
      },
      "source": [
        "#### 2) Normalization\n",
        "\n",
        "When we have a dataset with features that have very distinct ranges (for example one feature where age is between 0 and 99 year and another feature being the income ranging from 1'000CHF to 200'000CHF) we might get biaised results. We want the features to be in the same or similar ranges. Therefore, we **normalize** the data. It involves scaling all values for a specific feature given attribute so that they fall within a small specified range.\n",
        "We can use *StandardScaler()*, *MinMaxScaler* () or others for normalization.\n",
        "<br>\n",
        "\n",
        "In our example we will normalize our **train AND test data** using MinMaxScaler.\n",
        "\n",
        "/!\\ **IMPORTANT**: When you normalize the train data, you need to do the same modification (here normalization) to the test data. "
      ]
    },
    {
      "cell_type": "code",
      "metadata": {
        "id": "xVOubyMJ7-HX",
        "colab": {
          "base_uri": "https://localhost:8080/"
        },
        "outputId": "fc392721-c305-457a-ba44-88b6d1727c8f"
      },
      "source": [
        "#Define normalization \n",
        "from sklearn.preprocessing import MinMaxScaler\n",
        "\n",
        "scaler = MinMaxScaler()\n",
        "scaler.fit(X_train)"
      ],
      "execution_count": 10,
      "outputs": [
        {
          "output_type": "execute_result",
          "data": {
            "text/plain": [
              "MinMaxScaler()"
            ]
          },
          "metadata": {},
          "execution_count": 10
        }
      ]
    },
    {
      "cell_type": "code",
      "metadata": {
        "id": "1xFGLVl2lSD6"
      },
      "source": [
        "#Apply normalization\n",
        "X_train = scaler.transform(X_train)\n",
        "X_test = scaler.transform(X_test)"
      ],
      "execution_count": 11,
      "outputs": []
    },
    {
      "cell_type": "markdown",
      "metadata": {
        "id": "y3Sd10_7HXd8"
      },
      "source": [
        "\n",
        "#### 3) Building the Classifier or Model <br>\n",
        "\n",
        "First we will need to create our model which can be for example a *Linear Regression* (simple linear classifier, simple quadratic classifier) or a *Logistic Regression*. We will build the model from the **training set**. So, we will need to split our dataset into **test** and **trainig sets**. Then we use the train set to create the model. "
      ]
    },
    {
      "cell_type": "code",
      "metadata": {
        "id": "F73BSCQVlVx7"
      },
      "source": [
        "#Create model\n",
        "from sklearn.linear_model import LogisticRegression\n",
        "model = LogisticRegression(max_iter=1000)"
      ],
      "execution_count": 12,
      "outputs": []
    },
    {
      "cell_type": "code",
      "metadata": {
        "id": "EAKdFLlPmcUF",
        "colab": {
          "base_uri": "https://localhost:8080/"
        },
        "outputId": "418fa6e7-80d3-4f57-d2c7-4e8f2d50630e"
      },
      "source": [
        "#Fit model\n",
        "model.fit(X_train, y_train)"
      ],
      "execution_count": 13,
      "outputs": [
        {
          "output_type": "execute_result",
          "data": {
            "text/plain": [
              "LogisticRegression(max_iter=1000)"
            ]
          },
          "metadata": {},
          "execution_count": 13
        }
      ]
    },
    {
      "cell_type": "markdown",
      "metadata": {
        "id": "QHty9lwXmiKB"
      },
      "source": [
        "#### 4) Using Classifier for Classification\n",
        "\n",
        "Once our model has been built we can use the **test set** to predict the model. Basically, the test data is used to estimate the accuracy of classification rules. If the accuracy is considered acceptable we can use our model for new data. <br>\n",
        "*/!\\ When using new data in our model we will need potentially to normalize this data.*"
      ]
    },
    {
      "cell_type": "markdown",
      "metadata": {
        "id": "ToSIOpO5HfI6"
      },
      "source": [
        "#### 5) Evaluation of our Classification\n",
        "\n",
        "We want to check the accuracy of our model using train and test data. "
      ]
    },
    {
      "cell_type": "code",
      "metadata": {
        "id": "c9yJCqcll9lo",
        "colab": {
          "base_uri": "https://localhost:8080/"
        },
        "outputId": "360a7b93-5f55-49f1-ab70-1b2e9a6023ad"
      },
      "source": [
        "#Use model on test and check accuracy\n",
        "print('Accuracy of Logistic regression classifier on training set: {:.2f}'\n",
        "     .format(model.score(X_train, y_train)))\n",
        "print('Accuracy of Logistic regression classifier on test set: {:.2f}'\n",
        "     .format(model.score(X_test, y_test)))"
      ],
      "execution_count": 14,
      "outputs": [
        {
          "output_type": "stream",
          "name": "stdout",
          "text": [
            "Accuracy of Logistic regression classifier on training set: 0.72\n",
            "Accuracy of Logistic regression classifier on test set: 0.71\n"
          ]
        }
      ]
    },
    {
      "cell_type": "markdown",
      "metadata": {
        "id": "jRDYL9TMDT__"
      },
      "source": [
        "####Baserate for evaluation\n",
        "\n",
        "You should have found an accuracy of approximately 70%? Is it good or bad? \n",
        "\n",
        "Lets investigate class distribution : \n"
      ]
    },
    {
      "cell_type": "code",
      "metadata": {
        "colab": {
          "base_uri": "https://localhost:8080/",
          "height": 279
        },
        "id": "iNxCcPxoZ4_D",
        "outputId": "77584f33-eeb0-403b-9582-a870c7abfcf9"
      },
      "source": [
        "import warnings\n",
        "warnings.filterwarnings('ignore')\n",
        "sns.countplot(y)\n",
        "plot = plt.show()"
      ],
      "execution_count": 15,
      "outputs": [
        {
          "output_type": "display_data",
          "data": {
            "text/plain": [
              "<Figure size 432x288 with 1 Axes>"
            ],
            "image/png": "[encoded data removed]"
          },
          "metadata": {
            "needs_background": "light"
          }
        }
      ]
    },
    {
      "cell_type": "markdown",
      "metadata": {
        "id": "UIFK1SpVjD9T"
      },
      "source": [
        "\n",
        "It all depends on the baserate. Baserate = $\\frac{\\text{most frequent class}}{\\text{total observations}}$\n",
        "\n",
        "If the base rate is too high then the classification can be biaised, meaning that the data set has too many variables of one class compared to the other classes and has hence more impact on the classification results. \n",
        "\n",
        "Let's calculate the base rate!"
      ]
    },
    {
      "cell_type": "code",
      "metadata": {
        "id": "zlidCzmpez92",
        "colab": {
          "base_uri": "https://localhost:8080/"
        },
        "outputId": "3fab7a07-c55f-4105-ae5d-09f3baef019c"
      },
      "source": [
        "#Compute the base rate\n",
        "#Base rate = (most frequent class)/(total observations)\n",
        "\n",
        "quality_0 = wines.loc[wines[\"quality\"] == 0].shape[0]\n",
        "print(\"# = class 0 \", quality_0)\n",
        "quality_1 = wines.loc[wines[\"quality\"] == 1].shape[0]\n",
        "print(\"# = class 1 \", quality_1)\n",
        "print(\"Baserate = \", max(quality_0, quality_1)/(wines[\"quality\"].shape[0]))"
      ],
      "execution_count": 16,
      "outputs": [
        {
          "output_type": "stream",
          "name": "stdout",
          "text": [
            "# = class 0  681\n",
            "# = class 1  638\n",
            "Baserate =  0.5163002274450341\n"
          ]
        }
      ]
    },
    {
      "cell_type": "markdown",
      "metadata": {
        "id": "41xpKWLMihMq"
      },
      "source": [
        "####Confusion matrix\n",
        "The confusion matrix allows us to get more details on the performance of our model. It will allow us to see what our classification model is getting right and what types of errors it is making.\n",
        "\n",
        "You will get this: \n",
        "\n",
        "|   | Class 1 predicted  | Class 2 predicted  |    \n",
        "|---|---|---|\n",
        "| **Class 1 actual**  |  TP |FN   |    \n",
        "| **Class 2 actual**  | FP  | TN  |   \n",
        "\n",
        "<br>\n",
        "\n",
        "where TP = true positive, FN = false negative, FP = false positive and TN = true negative \n",
        "          "
      ]
    },
    {
      "cell_type": "code",
      "metadata": {
        "id": "SgiVb0dwo8_n",
        "colab": {
          "base_uri": "https://localhost:8080/"
        },
        "outputId": "af0f969b-e54f-4d3f-d406-8d8284ddc197"
      },
      "source": [
        "#Confusion matrix\n",
        "from sklearn.metrics import confusion_matrix\n",
        "confusion_matrix(y_test, model.predict(X_test))\n"
      ],
      "execution_count": 17,
      "outputs": [
        {
          "output_type": "execute_result",
          "data": {
            "text/plain": [
              "array([[154,  57],\n",
              "       [ 59, 126]])"
            ]
          },
          "metadata": {},
          "execution_count": 17
        }
      ]
    },
    {
      "cell_type": "markdown",
      "metadata": {
        "id": "lB-9LrkMu0wt"
      },
      "source": [
        "One score wich is always interesting to compute in order to have a robust idea of the model performance is to compute the precision. It accounts for the ratio of true positives over all positive entries in the data set "
      ]
    },
    {
      "cell_type": "code",
      "metadata": {
        "colab": {
          "base_uri": "https://localhost:8080/"
        },
        "id": "59E41K-ulclu",
        "outputId": "5a357f49-ce44-4a17-ec4b-b45557438576"
      },
      "source": [
        "from sklearn.metrics import precision_score\n",
        "precision_score(y_test, model.predict(X_test), average='macro')"
      ],
      "execution_count": 18,
      "outputs": [
        {
          "output_type": "execute_result",
          "data": {
            "text/plain": [
              "0.7057646424998076"
            ]
          },
          "metadata": {},
          "execution_count": 18
        }
      ]
    },
    {
      "cell_type": "markdown",
      "metadata": {
        "id": "yC_mMp8ruhf2"
      },
      "source": [
        "#### 6) Visualization of our Model / Decision boundary \n",
        "\n",
        "Now, for visualization purposes, lets build a 2d model to predict quality from  alcohol and sulphite content and  plot decision boundaries. In fact, depending on how many classes we have we will see different zones on the graph. Each zone corresponds to a class. Decision boundaries indicate the lines above / below which a data point belongs to one or another class.\n",
        "\n",
        "However we can only visualize 2 dimensional data. Thus for visualization purposes we are only going to consider the mass and the width feature.\n",
        "\n",
        "\n",
        "\n",
        "\n",
        "\n"
      ]
    },
    {
      "cell_type": "code",
      "metadata": {
        "id": "2pYKIkOmIswc",
        "colab": {
          "base_uri": "https://localhost:8080/",
          "height": 279
        },
        "outputId": "bb3141f6-2c01-4184-881a-6561f21a5b5d"
      },
      "source": [
        "#Decision boundaries\n",
        "import numpy as np\n",
        "import matplotlib.pyplot as plt\n",
        "\n",
        "\n",
        "X = X [['sulphates', 'alcohol']]\n",
        "model = LogisticRegression()\n",
        "model.fit(X, y)\n",
        "\n",
        "\n",
        "plt.scatter(X['sulphates'].values, X['alcohol'].values, c=y, edgecolors='k', cmap=plt.cm.Paired)\n",
        "ax = plt.gca()\n",
        "x_vals = np.array(ax.get_xlim())\n",
        "y_vals = (-x_vals * model.coef_[0][0] - model.intercept_[0])/model.coef_[0][1]\n",
        "plt.plot(x_vals, y_vals, '--', c=\"red\")\n",
        "\n",
        "plt.xlabel('Wine sulphates content ')\n",
        "plt.ylabel('Wine alcohol content')\n",
        "\n",
        "\n",
        "plt.xticks()\n",
        "plt.yticks()\n",
        "\n",
        "plt.show()"
      ],
      "execution_count": 19,
      "outputs": [
        {
          "output_type": "display_data",
          "data": {
            "text/plain": [
              "<Figure size 432x288 with 1 Axes>"
            ],
            "image/png": "[encoded data removed]"
          },
          "metadata": {
            "needs_background": "light"
          }
        }
      ]
    },
    {
      "cell_type": "markdown",
      "metadata": {
        "id": "M9V4G8hs72nu"
      },
      "source": [
        "Let's interpret this graph. The red doted line shows the boundary between the two regions. Everything on one side of this line will be in one class while everything on the other side will be on the other class. \n",
        "Furthermore, the closer a point is to the decision region boundary the more uncertain we are about the accuracy of the classification. This doted line is found using the coefficient of our model."
      ]
    },
    {
      "cell_type": "markdown",
      "metadata": {
        "id": "iqZM40W272nv"
      },
      "source": [
        "Let's see how our model would classify new data points"
      ]
    },
    {
      "cell_type": "code",
      "metadata": {
        "id": "eovmM3UN72nw",
        "colab": {
          "base_uri": "https://localhost:8080/"
        },
        "outputId": "3876e905-f886-4cc0-c8aa-a4f4fc71e2e2"
      },
      "source": [
        "model.predict([[0.56,10.8], [0.56,8.8]])"
      ],
      "execution_count": 20,
      "outputs": [
        {
          "output_type": "execute_result",
          "data": {
            "text/plain": [
              "array([1, 0])"
            ]
          },
          "metadata": {},
          "execution_count": 20
        }
      ]
    },
    {
      "cell_type": "markdown",
      "metadata": {
        "id": "KrjtfI8v72n1"
      },
      "source": [
        "As expected a wine with sulphite at 0.56 and an alcohol percentage of 8.8 is in one class while for the same sulphite content but for an alcohol percentage of 10.8 the wine belongs to the other class."
      ]
    },
    {
      "cell_type": "markdown",
      "metadata": {
        "id": "VGKkgupM72n2"
      },
      "source": [
        "We can also compute the probability of making the correct prediction. Obviously any point on the boundary has equal probability for both classes"
      ]
    },
    {
      "cell_type": "code",
      "metadata": {
        "id": "YaidYOpb72n3",
        "colab": {
          "base_uri": "https://localhost:8080/"
        },
        "outputId": "0c60dc54-2bfd-4f43-d7eb-a2a97ffc80f3"
      },
      "source": [
        "model.predict_proba([[0.56,10.8], [0.56,8.8]])"
      ],
      "execution_count": 21,
      "outputs": [
        {
          "output_type": "execute_result",
          "data": {
            "text/plain": [
              "array([[0.42414687, 0.57585313],\n",
              "       [0.82104667, 0.17895333]])"
            ]
          },
          "metadata": {},
          "execution_count": 21
        }
      ]
    },
    {
      "cell_type": "markdown",
      "metadata": {
        "id": "NDEvAve_72n-"
      },
      "source": [
        "We see that the second data point is correclty classified with almost certainty. It makes sense since it is located far from the boundary. However, for the first one, it is way more uncertain"
      ]
    },
    {
      "cell_type": "markdown",
      "metadata": {
        "id": "8325gFVRrlD4"
      },
      "source": [
        "#### Adding Cross Validation\n",
        "We will use logisitic regression with CROSS VALIDATION. So, instead of LogisticRegresion() we will use LogisticRegresionCV(CV= K)\n",
        "\n",
        "To prevent overfitting we can use cross-validation. We will as before split the data set into train and test data, \n",
        "fit the model using training data and evaluate the model using testing data. **The difference** is that we will now repeat the process K times then take average of the testing errors as a final performance measure.\n",
        "\n"
      ]
    },
    {
      "cell_type": "code",
      "metadata": {
        "id": "2p10i_pVxKAJ"
      },
      "source": [
        "#Create model\n",
        "from sklearn.linear_model import LogisticRegressionCV\n",
        "model_cv = LogisticRegressionCV(solver='lbfgs', cv=5, max_iter=1000)"
      ],
      "execution_count": 22,
      "outputs": []
    },
    {
      "cell_type": "code",
      "metadata": {
        "id": "9x60_hmqxSEV",
        "colab": {
          "base_uri": "https://localhost:8080/"
        },
        "outputId": "da6eea44-16ef-428f-91b6-dc4b5863f223"
      },
      "source": [
        "#Fit the model using the training data\n",
        "model_cv.fit(X_train, y_train)"
      ],
      "execution_count": 23,
      "outputs": [
        {
          "output_type": "execute_result",
          "data": {
            "text/plain": [
              "LogisticRegressionCV(cv=5, max_iter=1000)"
            ]
          },
          "metadata": {},
          "execution_count": 23
        }
      ]
    },
    {
      "cell_type": "code",
      "metadata": {
        "id": "skNLbFaux1tN",
        "colab": {
          "base_uri": "https://localhost:8080/"
        },
        "outputId": "3a6a7875-0da9-491d-ff1b-d3d2ae5d073f"
      },
      "source": [
        "#Use model on test and check accuracy\n",
        "print('Accuracy of Logistic regression classifier on training set: {:.2f}'\n",
        "     .format(model_cv.score(X_train, y_train)))\n",
        "print('Accuracy of Logistic regression classifier on test set: {:.2f}'\n",
        "     .format(model_cv.score(X_test, y_test)))"
      ],
      "execution_count": 24,
      "outputs": [
        {
          "output_type": "stream",
          "name": "stdout",
          "text": [
            "Accuracy of Logistic regression classifier on training set: 0.72\n",
            "Accuracy of Logistic regression classifier on test set: 0.70\n"
          ]
        }
      ]
    },
    {
      "cell_type": "code",
      "metadata": {
        "id": "6-Q_WdnGpibs",
        "colab": {
          "base_uri": "https://localhost:8080/"
        },
        "outputId": "2ddacb16-48bd-42cf-ac8c-58f81af45bf5"
      },
      "source": [
        "#Confusion matrix\n",
        "from sklearn.metrics import confusion_matrix\n",
        "cf = confusion_matrix(y_train, model_cv.predict(X_train))\n",
        "print(cf)"
      ],
      "execution_count": 25,
      "outputs": [
        {
          "output_type": "stream",
          "name": "stdout",
          "text": [
            "[[352 118]\n",
            " [143 310]]\n"
          ]
        }
      ]
    },
    {
      "cell_type": "markdown",
      "metadata": {
        "id": "_3HFKJi8udOq"
      },
      "source": [
        "Let's make the confusion matrix a little bit nicer."
      ]
    },
    {
      "cell_type": "code",
      "metadata": {
        "id": "OKjwux2qubaC",
        "colab": {
          "base_uri": "https://localhost:8080/",
          "height": 295
        },
        "outputId": "6ccc67dc-7489-4eef-d450-e5acd86a0cc5"
      },
      "source": [
        "ax = plt.subplot()\n",
        "r = sns.heatmap(cf, annot = True, fmt = 'g', ax = ax)\n",
        "\n",
        "ax.set_xlabel('Predicted label')\n",
        "ax.set_ylabel('True labels')\n",
        "ax.set_title('Confusion Matrix')\n",
        "ax.xaxis.set_ticklabels(['0', '1'])\n",
        "w =ax.yaxis.set_ticklabels(['0', '1'])\n"
      ],
      "execution_count": 26,
      "outputs": [
        {
          "output_type": "display_data",
          "data": {
            "text/plain": [
              "<Figure size 432x288 with 2 Axes>"
            ],
            "image/png": "[encoded data removed]"
          },
          "metadata": {
            "needs_background": "light"
          }
        }
      ]
    },
    {
      "cell_type": "code",
      "metadata": {
        "id": "1Lmg-IsOx-VP",
        "colab": {
          "base_uri": "https://localhost:8080/",
          "height": 279
        },
        "outputId": "a2bcc9a1-feff-4142-b070-0c869874327e"
      },
      "source": [
        "#Decision boundaries\n",
        "import numpy as np\n",
        "import matplotlib.pyplot as plt\n",
        "\n",
        "\n",
        "X = X [['sulphates', 'alcohol']]\n",
        "model = LogisticRegressionCV(solver='lbfgs', cv=5, max_iter=1000)\n",
        "model.fit(X, y)\n",
        "\n",
        "\n",
        "plt.scatter(X['sulphates'].values, X['alcohol'].values, c=y, edgecolors='k', cmap=plt.cm.Paired)\n",
        "ax = plt.gca()\n",
        "x_vals = np.array(ax.get_xlim())\n",
        "y_vals = (-x_vals * model.coef_[0][0] - model.intercept_[0])/model.coef_[0][1]\n",
        "plt.plot(x_vals, y_vals, '--', c=\"red\")\n",
        "\n",
        "plt.xlabel('Wine sulphates')\n",
        "plt.ylabel('Wine alcohol %')\n",
        "\n",
        "\n",
        "plt.xticks()\n",
        "plt.yticks()\n",
        "\n",
        "plt.show()"
      ],
      "execution_count": 27,
      "outputs": [
        {
          "output_type": "display_data",
          "data": {
            "text/plain": [
              "<Figure size 432x288 with 1 Axes>"
            ],
            "image/png": "[encoded data removed]"
          },
          "metadata": {
            "needs_background": "light"
          }
        }
      ]
    },
    {
      "cell_type": "code",
      "metadata": {
        "id": "Y_oy7I7epBpm"
      },
      "source": [
        ""
      ],
      "execution_count": null,
      "outputs": []
    }
  ]
}