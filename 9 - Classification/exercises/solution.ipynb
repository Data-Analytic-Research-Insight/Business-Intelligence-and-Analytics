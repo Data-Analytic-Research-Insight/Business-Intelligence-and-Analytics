{
  "nbformat": 4,
  "nbformat_minor": 0,
  "metadata": {
    "colab": {
      "name": "Exercises_Classification_1_Correction.ipynb",
      "provenance": [],
      "include_colab_link": true
    },
    "kernelspec": {
      "display_name": "Python 3",
      "language": "python",
      "name": "python3"
    },
    "language_info": {
      "codemirror_mode": {
        "name": "ipython",
        "version": 3
      },
      "file_extension": ".py",
      "mimetype": "text/x-python",
      "name": "python",
      "nbconvert_exporter": "python",
      "pygments_lexer": "ipython3",
      "version": "3.6.9"
    }
  },
  "cells": [
    {
      "cell_type": "markdown",
      "metadata": {
        "id": "view-in-github",
        "colab_type": "text"
      },
      "source": [
        "<a href=\"https://colab.research.google.com/github/michalis0/Business-Intelligence-and-Analytics/blob/master/week10%20-%20Classification/exercises/solution.ipynb\" target=\"_parent\"><img src=\"https://colab.research.google.com/assets/colab-badge.svg\" alt=\"Open In Colab\"/></a>"
      ]
    },
    {
      "cell_type": "markdown",
      "metadata": {
        "id": "R1BSf8GX2sQd"
      },
      "source": [
        "# Classification\n",
        "\n",
        "## Logistic Regression \n",
        "\n",
        "In this lab we will explore logistic regression which is a well known method for classification problems. We will work with a hearth disease data-set, and we will try to predict whether the patient has a heart disease or not.\n",
        "\n",
        "\n",
        "\n",
        "![Heart](https://img.webmd.com/dtmcms/live/webmd/consumer_assets/site_images/articles/health_tools/how_heart_disease_affects_your_body_slideshow/493ss_thinkstock_rf_heart_anatomy_illustration.jpg)\n"
      ]
    },
    {
      "cell_type": "code",
      "metadata": {
        "id": "2D9mQhcj2sQe"
      },
      "source": [
        "#Load the necessary libraries\n",
        "%matplotlib inline\n",
        "import numpy as np\n",
        "import matplotlib.pyplot as plt\n",
        "from matplotlib import collections  as mc\n",
        "%load_ext autoreload\n",
        "%autoreload 2\n",
        "import pandas as pd \n",
        "import seaborn as sns\n",
        "from sklearn.preprocessing import LabelEncoder, OneHotEncoder\n",
        "sns.set_style(\"white\")"
      ],
      "execution_count": null,
      "outputs": []
    },
    {
      "cell_type": "code",
      "metadata": {
        "id": "Q1CKWYwc2sQh"
      },
      "source": [
        "np.random.seed = 72"
      ],
      "execution_count": null,
      "outputs": []
    },
    {
      "cell_type": "markdown",
      "metadata": {
        "id": "bTVsCvCv2sQl"
      },
      "source": [
        "### Load data\n",
        "\n",
        "We will start with the hear disease data-set. Here's a description of the attributes in the data-set:\n",
        "\n",
        "1. `age`\n",
        "2. `sex`\n",
        "3. `cp`: chest pain type (4 values)\n",
        "4. `trestbps`: resting blood pressure\n",
        "5. `chol`: serum cholestoral in mg/dl\n",
        "6. `fbs`: fasting blood sugar > 120 mg/dl\n",
        "7. `restecg`: resting electrocardiographic results (values 0,1,2)\n",
        "8. `thalach`: maximum heart rate achieved\n",
        "9. `exang`: exercise induced angina\n",
        "10. `target`: presence of heart disease (1), absence of heart disease(0)\n",
        "\n",
        "![ECG](https://media.eurekalert.org/multimedia_prod/pub/web/230705_web.jpg)\n"
      ]
    },
    {
      "cell_type": "code",
      "metadata": {
        "id": "5trH0DXt2sQl",
        "colab": {
          "base_uri": "https://localhost:8080/",
          "height": 204
        },
        "outputId": "0892bba9-768d-4b12-ac6c-58f7684b1b83"
      },
      "source": [
        "# data-set: heart.csv\n",
        "df = pd.read_csv(\"https://raw.githubusercontent.com/michalis0/Business-Intelligence-and-Analytics/master/data/heart.csv\")\n",
        "df.head()"
      ],
      "execution_count": null,
      "outputs": [
        {
          "output_type": "execute_result",
          "data": {
            "text/html": [
              "<div>\n",
              "<style scoped>\n",
              "    .dataframe tbody tr th:only-of-type {\n",
              "        vertical-align: middle;\n",
              "    }\n",
              "\n",
              "    .dataframe tbody tr th {\n",
              "        vertical-align: top;\n",
              "    }\n",
              "\n",
              "    .dataframe thead th {\n",
              "        text-align: right;\n",
              "    }\n",
              "</style>\n",
              "<table border=\"1\" class=\"dataframe\">\n",
              "  <thead>\n",
              "    <tr style=\"text-align: right;\">\n",
              "      <th></th>\n",
              "      <th>age</th>\n",
              "      <th>sex</th>\n",
              "      <th>cp</th>\n",
              "      <th>trestbps</th>\n",
              "      <th>chol</th>\n",
              "      <th>fbs</th>\n",
              "      <th>restecg</th>\n",
              "      <th>thalach</th>\n",
              "      <th>exang</th>\n",
              "      <th>target</th>\n",
              "    </tr>\n",
              "  </thead>\n",
              "  <tbody>\n",
              "    <tr>\n",
              "      <th>0</th>\n",
              "      <td>63</td>\n",
              "      <td>M</td>\n",
              "      <td>D</td>\n",
              "      <td>145</td>\n",
              "      <td>233</td>\n",
              "      <td>yes</td>\n",
              "      <td>A</td>\n",
              "      <td>150</td>\n",
              "      <td>no</td>\n",
              "      <td>1</td>\n",
              "    </tr>\n",
              "    <tr>\n",
              "      <th>1</th>\n",
              "      <td>37</td>\n",
              "      <td>M</td>\n",
              "      <td>C</td>\n",
              "      <td>130</td>\n",
              "      <td>250</td>\n",
              "      <td>no</td>\n",
              "      <td>B</td>\n",
              "      <td>187</td>\n",
              "      <td>no</td>\n",
              "      <td>1</td>\n",
              "    </tr>\n",
              "    <tr>\n",
              "      <th>2</th>\n",
              "      <td>41</td>\n",
              "      <td>F</td>\n",
              "      <td>B</td>\n",
              "      <td>130</td>\n",
              "      <td>204</td>\n",
              "      <td>no</td>\n",
              "      <td>A</td>\n",
              "      <td>172</td>\n",
              "      <td>no</td>\n",
              "      <td>1</td>\n",
              "    </tr>\n",
              "    <tr>\n",
              "      <th>3</th>\n",
              "      <td>56</td>\n",
              "      <td>M</td>\n",
              "      <td>B</td>\n",
              "      <td>120</td>\n",
              "      <td>236</td>\n",
              "      <td>no</td>\n",
              "      <td>B</td>\n",
              "      <td>178</td>\n",
              "      <td>no</td>\n",
              "      <td>1</td>\n",
              "    </tr>\n",
              "    <tr>\n",
              "      <th>4</th>\n",
              "      <td>57</td>\n",
              "      <td>F</td>\n",
              "      <td>A</td>\n",
              "      <td>120</td>\n",
              "      <td>354</td>\n",
              "      <td>no</td>\n",
              "      <td>B</td>\n",
              "      <td>163</td>\n",
              "      <td>yes</td>\n",
              "      <td>1</td>\n",
              "    </tr>\n",
              "  </tbody>\n",
              "</table>\n",
              "</div>"
            ],
            "text/plain": [
              "   age sex cp  trestbps  chol  fbs restecg  thalach exang  target\n",
              "0   63   M  D       145   233  yes       A      150    no       1\n",
              "1   37   M  C       130   250   no       B      187    no       1\n",
              "2   41   F  B       130   204   no       A      172    no       1\n",
              "3   56   M  B       120   236   no       B      178    no       1\n",
              "4   57   F  A       120   354   no       B      163   yes       1"
            ]
          },
          "metadata": {
            "tags": []
          },
          "execution_count": 3
        }
      ]
    },
    {
      "cell_type": "code",
      "metadata": {
        "id": "yFUEig7y2sQp"
      },
      "source": [
        "from sklearn.linear_model import LogisticRegressionCV\n",
        "from sklearn.linear_model import LogisticRegression\n",
        "from sklearn.preprocessing import StandardScaler\n",
        "from sklearn import datasets"
      ],
      "execution_count": null,
      "outputs": []
    },
    {
      "cell_type": "markdown",
      "metadata": {
        "id": "7BLOy4W32sQt"
      },
      "source": [
        "### Simple Logistic Regression\n",
        "\n",
        "Let's start with only 2 features: age and maximum heart rate achieved (`talach`). Define your features and target variable. "
      ]
    },
    {
      "cell_type": "code",
      "metadata": {
        "id": "ki6QRs6t2sQu"
      },
      "source": [
        "X = df[[\"age\", \"thalach\"]]\n",
        "y = df[\"target\"]"
      ],
      "execution_count": null,
      "outputs": []
    },
    {
      "cell_type": "markdown",
      "metadata": {
        "id": "IjPq4TjY4I-C"
      },
      "source": [
        "Split your data set into train and test subsets. "
      ]
    },
    {
      "cell_type": "code",
      "metadata": {
        "id": "iNvVsTIp2sQx"
      },
      "source": [
        "from sklearn.model_selection import train_test_split\n",
        "X_train, X_test, y_train, y_test = train_test_split(X, y, test_size=0.3, random_state=72)"
      ],
      "execution_count": null,
      "outputs": []
    },
    {
      "cell_type": "markdown",
      "metadata": {
        "id": "UNpdZRMv2sQ0"
      },
      "source": [
        "#### Standardizing\n",
        "\n",
        "When you do standardization (or any other modification) to the training data, you have to apply the same modifications to the test data as well. Otherwise your test accuracy would be non-sense.\n",
        "\n",
        "Here we apply the same standardisation to test data, which means that we normalize the test data with mean and standard deviation from the train data.\n",
        "\n",
        "Use *StandardScaler()* for normalization. "
      ]
    },
    {
      "cell_type": "code",
      "metadata": {
        "id": "3h50T5Lh2sQ1",
        "colab": {
          "base_uri": "https://localhost:8080/"
        },
        "outputId": "e1bce9d6-4098-4d27-d5a1-c62dc97f9469"
      },
      "source": [
        "scaler = StandardScaler()\n",
        "scaler.fit(X_train)"
      ],
      "execution_count": null,
      "outputs": [
        {
          "output_type": "execute_result",
          "data": {
            "text/plain": [
              "StandardScaler(copy=True, with_mean=True, with_std=True)"
            ]
          },
          "metadata": {
            "tags": []
          },
          "execution_count": 7
        }
      ]
    },
    {
      "cell_type": "markdown",
      "metadata": {
        "id": "g7a6TZVV3ZZi"
      },
      "source": [
        "Apply the standardization to your train and test set. "
      ]
    },
    {
      "cell_type": "code",
      "metadata": {
        "id": "xGjKow5Y2sQ4"
      },
      "source": [
        "#Apply normalization\n",
        "X_train = scaler.transform(X_train)\n",
        "X_test = scaler.transform(X_test)"
      ],
      "execution_count": null,
      "outputs": []
    },
    {
      "cell_type": "markdown",
      "metadata": {
        "id": "Vw5rbTEV3hnH"
      },
      "source": [
        "Define your model. Try to use a logistic regression with cross validation (cv = 10). "
      ]
    },
    {
      "cell_type": "code",
      "metadata": {
        "id": "nExvGYiR2sQ7"
      },
      "source": [
        "# logistic regression with 5 fold cross validation\n",
        "LR_cv = LogisticRegressionCV(solver='lbfgs', cv=10, max_iter=100)"
      ],
      "execution_count": null,
      "outputs": []
    },
    {
      "cell_type": "markdown",
      "metadata": {
        "id": "MyxTAXGs3nez"
      },
      "source": [
        "Fit your model now using the train set. "
      ]
    },
    {
      "cell_type": "code",
      "metadata": {
        "id": "F9WckoiSD8kv",
        "colab": {
          "base_uri": "https://localhost:8080/"
        },
        "outputId": "88034055-1c5d-49db-e5a7-843f553de6b6"
      },
      "source": [
        "LR_cv.fit(X_train,y_train)"
      ],
      "execution_count": null,
      "outputs": [
        {
          "output_type": "execute_result",
          "data": {
            "text/plain": [
              "LogisticRegressionCV(Cs=10, class_weight=None, cv=10, dual=False,\n",
              "                     fit_intercept=True, intercept_scaling=1.0, l1_ratios=None,\n",
              "                     max_iter=100, multi_class='auto', n_jobs=None,\n",
              "                     penalty='l2', random_state=None, refit=True, scoring=None,\n",
              "                     solver='lbfgs', tol=0.0001, verbose=0)"
            ]
          },
          "metadata": {
            "tags": []
          },
          "execution_count": 10
        }
      ]
    },
    {
      "cell_type": "markdown",
      "metadata": {
        "id": "WCu8nkWe3sXG"
      },
      "source": [
        "Compare your train and test accuracy for your model."
      ]
    },
    {
      "cell_type": "code",
      "metadata": {
        "id": "-YK9xRp6CIyP",
        "colab": {
          "base_uri": "https://localhost:8080/"
        },
        "outputId": "b6c764ee-e4b9-4b13-f980-a1af5d6ef738"
      },
      "source": [
        "# train accuracy with CV\n",
        "LR_cv.score(X_train,y_train)"
      ],
      "execution_count": null,
      "outputs": [
        {
          "output_type": "execute_result",
          "data": {
            "text/plain": [
              "0.6886792452830188"
            ]
          },
          "metadata": {
            "tags": []
          },
          "execution_count": 11
        }
      ]
    },
    {
      "cell_type": "code",
      "metadata": {
        "id": "4V2KZ7XTCNNK",
        "colab": {
          "base_uri": "https://localhost:8080/"
        },
        "outputId": "9cf52aad-3ea4-4684-e4f5-ed30f7e73bd1"
      },
      "source": [
        "# test accuracy with CV\n",
        "LR_cv.score(X_test, y_test)"
      ],
      "execution_count": null,
      "outputs": [
        {
          "output_type": "execute_result",
          "data": {
            "text/plain": [
              "0.7142857142857143"
            ]
          },
          "metadata": {
            "tags": []
          },
          "execution_count": 12
        }
      ]
    },
    {
      "cell_type": "markdown",
      "metadata": {
        "id": "oAQUUePbnBz1"
      },
      "source": [
        "Have a look at the class distribution."
      ]
    },
    {
      "cell_type": "code",
      "metadata": {
        "id": "ugiJVKSqnErM",
        "colab": {
          "base_uri": "https://localhost:8080/",
          "height": 279
        },
        "outputId": "6b66ed43-c186-43ef-c482-22baee784c48"
      },
      "source": [
        "import warnings\n",
        "warnings.filterwarnings('ignore')\n",
        "sns.countplot(y)\n",
        "plot = plt.show()"
      ],
      "execution_count": null,
      "outputs": [
        {
          "output_type": "display_data",
          "data": {
            "image/png": "[encoded data removed]",
            "text/plain": [
              "<Figure size 432x288 with 1 Axes>"
            ]
          },
          "metadata": {
            "tags": [],
            "needs_background": "light"
          }
        }
      ]
    },
    {
      "cell_type": "markdown",
      "metadata": {
        "id": "WYS-bFxJrZNw"
      },
      "source": [
        "Compute the baserate.\n",
        "\n",
        "$$Base rate = \\frac{Most\\_frequent\\_class}{Total\\_observations}$$"
      ]
    },
    {
      "cell_type": "code",
      "metadata": {
        "id": "EFsMa1m2r7pj",
        "colab": {
          "base_uri": "https://localhost:8080/"
        },
        "outputId": "69fabc71-ebd5-4a20-af6c-19cd1a232402"
      },
      "source": [
        "#Compute the base rate\n",
        "\n",
        "nbr_heart_disease = df[df[\"target\"] == 1].shape[0]\n",
        "print(\"Heart disease = \", nbr_heart_disease)\n",
        "\n",
        "nbr_no_heart_disease = df[df[\"target\"] == 0].shape[0]\n",
        "print(\"No heart disease = \", nbr_no_heart_disease)\n",
        "\n",
        "print(\"Baserate = \", max(nbr_heart_disease, nbr_no_heart_disease)/(nbr_heart_disease+ nbr_no_heart_disease))"
      ],
      "execution_count": null,
      "outputs": [
        {
          "output_type": "stream",
          "text": [
            "Heart disease =  165\n",
            "No heart disease =  138\n",
            "Baserate =  0.5445544554455446\n"
          ],
          "name": "stdout"
        }
      ]
    },
    {
      "cell_type": "markdown",
      "metadata": {
        "id": "cjgp2sfVrb8B"
      },
      "source": [
        "Use the confusion_matrix module to show the confusion matrix."
      ]
    },
    {
      "cell_type": "code",
      "metadata": {
        "id": "2DsK5wpLrfSt",
        "colab": {
          "base_uri": "https://localhost:8080/"
        },
        "outputId": "bdd92d41-cc33-4c91-9e11-608c92ec51eb"
      },
      "source": [
        "#Confusion matrix\n",
        "from sklearn.metrics import confusion_matrix\n",
        "cf = confusion_matrix(y_train, LR_cv.predict(X_train))\n",
        "print(cf)"
      ],
      "execution_count": null,
      "outputs": [
        {
          "output_type": "stream",
          "text": [
            "[[61 39]\n",
            " [27 85]]\n"
          ],
          "name": "stdout"
        }
      ]
    },
    {
      "cell_type": "markdown",
      "metadata": {
        "id": "7okv5X22mr71"
      },
      "source": [
        "Plot the confusion matrix."
      ]
    },
    {
      "cell_type": "code",
      "metadata": {
        "id": "habDtqZpnO4r",
        "colab": {
          "base_uri": "https://localhost:8080/",
          "height": 295
        },
        "outputId": "f02a3a68-123a-4aba-e209-fe81f5112e45"
      },
      "source": [
        "ax = plt.subplot()\n",
        "r = sns.heatmap(cf, annot = True, fmt = 'g', ax = ax)\n",
        "\n",
        "ax.set_xlabel('Predicted label')\n",
        "ax.set_ylabel('True labels')\n",
        "ax.set_title('Confusion Matrix')\n",
        "ax.xaxis.set_ticklabels(['0', '1'])\n",
        "w =ax.yaxis.set_ticklabels(['0', '1'])\n",
        "\n"
      ],
      "execution_count": null,
      "outputs": [
        {
          "output_type": "display_data",
          "data": {
            "image/png": "[encoded data removed]",
            "text/plain": [
              "<Figure size 432x288 with 2 Axes>"
            ]
          },
          "metadata": {
            "tags": [],
            "needs_background": "light"
          }
        }
      ]
    },
    {
      "cell_type": "markdown",
      "metadata": {
        "id": "K1CT6zVb2sRM"
      },
      "source": [
        "### Decision boundary\n",
        "\n",
        "As we used only two features for classification, we can observe the linear decision boundary made by the logistic regression in a 2D plot. You can also observe the mis-classified training points in this plot. Let's plot the decision boundary for the model with cross validation. "
      ]
    },
    {
      "cell_type": "code",
      "metadata": {
        "id": "QpsAOlN22sRM",
        "scrolled": false,
        "colab": {
          "base_uri": "https://localhost:8080/",
          "height": 279
        },
        "outputId": "32f37374-3448-4671-a071-ddf902e123ea"
      },
      "source": [
        "#Decision boundaries\n",
        "\n",
        "model = LogisticRegression()\n",
        "model.fit(X, y)\n",
        "\n",
        "\n",
        "plt.scatter(X['age'], X['thalach'], c=y, edgecolors='k', cmap=plt.cm.Paired)\n",
        "ax = plt.gca()\n",
        "x_vals = np.array(ax.get_xlim())\n",
        "y_vals = (-x_vals * model.coef_[0][0] - model.intercept_[0])/model.coef_[0][1]\n",
        "plt.plot(x_vals, y_vals, '--', c=\"red\")\n",
        "\n",
        "plt.xlabel('Age')\n",
        "plt.ylabel('Thalach')\n",
        "\n",
        "\n",
        "plt.xticks()\n",
        "plt.yticks()\n",
        "\n",
        "plt.show()"
      ],
      "execution_count": null,
      "outputs": [
        {
          "output_type": "display_data",
          "data": {
            "image/png": "[encoded data removed]",
            "text/plain": [
              "<Figure size 432x288 with 1 Axes>"
            ]
          },
          "metadata": {
            "tags": [],
            "needs_background": "light"
          }
        }
      ]
    },
    {
      "cell_type": "markdown",
      "metadata": {
        "id": "iwF1RHqA75K6"
      },
      "source": [
        "Try to predict the class and probability of correct classification for Age = 50, Thalach = 130 and Age = 70, Thalach = 160"
      ]
    },
    {
      "cell_type": "code",
      "metadata": {
        "id": "jxYtT2fU75K7",
        "colab": {
          "base_uri": "https://localhost:8080/"
        },
        "outputId": "c55dd589-7d48-42c7-eaf6-bf3a562d73f3"
      },
      "source": [
        "print(model.predict([[50,130],[70,160]]))\n",
        "print(model.predict_proba([[50,130],[70,160]]))"
      ],
      "execution_count": null,
      "outputs": [
        {
          "output_type": "stream",
          "text": [
            "[0 1]\n",
            "[[0.62982786 0.37017214]\n",
            " [0.42091442 0.57908558]]\n"
          ],
          "name": "stdout"
        }
      ]
    },
    {
      "cell_type": "markdown",
      "metadata": {
        "id": "QRpOrur22sRV"
      },
      "source": [
        "Now let's try more numerical features and see if the accuracy improuves.\n",
        "We will use now \"age\", \"thalach\", \"trestbps\" and \"chol\". \n",
        "Define your features and your target variable. "
      ]
    },
    {
      "cell_type": "code",
      "metadata": {
        "id": "uDnaUYF92sRV"
      },
      "source": [
        "X = df[[\"age\", \"thalach\", \"trestbps\", \"chol\"]]\n",
        "y = df[\"target\"]"
      ],
      "execution_count": null,
      "outputs": []
    },
    {
      "cell_type": "markdown",
      "metadata": {
        "id": "0q09jUP34hme"
      },
      "source": [
        "Split your data set into train and test subsets."
      ]
    },
    {
      "cell_type": "code",
      "metadata": {
        "id": "1g55iCbL2sRY"
      },
      "source": [
        "X_train, X_test, y_train, y_test = train_test_split(X, y, test_size=0.2, random_state=72)"
      ],
      "execution_count": null,
      "outputs": []
    },
    {
      "cell_type": "markdown",
      "metadata": {
        "id": "CsuD0tPc4ugm"
      },
      "source": [
        "Standardize your data. "
      ]
    },
    {
      "cell_type": "code",
      "metadata": {
        "id": "R9ScYZRs2sRd",
        "colab": {
          "base_uri": "https://localhost:8080/"
        },
        "outputId": "513ac79e-22ff-4fe6-8969-f76dd8a33359"
      },
      "source": [
        "scaler = StandardScaler()\n",
        "scaler.fit(X_train)"
      ],
      "execution_count": null,
      "outputs": [
        {
          "output_type": "execute_result",
          "data": {
            "text/plain": [
              "StandardScaler(copy=True, with_mean=True, with_std=True)"
            ]
          },
          "metadata": {
            "tags": []
          },
          "execution_count": 21
        }
      ]
    },
    {
      "cell_type": "code",
      "metadata": {
        "id": "I9Y0TMkp2sRg"
      },
      "source": [
        "#Apply normalization\n",
        "X_train = scaler.transform(X_train)\n",
        "X_test = scaler.transform(X_test)"
      ],
      "execution_count": null,
      "outputs": []
    },
    {
      "cell_type": "markdown",
      "metadata": {
        "id": "QQOpg_A04zNw"
      },
      "source": [
        "Fit your model using the train data. Let's use the logistic regression with cross validation here. "
      ]
    },
    {
      "cell_type": "code",
      "metadata": {
        "id": "8MMBMLJZ2sRk",
        "colab": {
          "base_uri": "https://localhost:8080/"
        },
        "outputId": "c70e6002-e483-4f1d-8442-3fab9144db59"
      },
      "source": [
        "LR_cv.fit(X_train, y_train)"
      ],
      "execution_count": null,
      "outputs": [
        {
          "output_type": "execute_result",
          "data": {
            "text/plain": [
              "LogisticRegressionCV(Cs=10, class_weight=None, cv=10, dual=False,\n",
              "                     fit_intercept=True, intercept_scaling=1.0, l1_ratios=None,\n",
              "                     max_iter=100, multi_class='auto', n_jobs=None,\n",
              "                     penalty='l2', random_state=None, refit=True, scoring=None,\n",
              "                     solver='lbfgs', tol=0.0001, verbose=0)"
            ]
          },
          "metadata": {
            "tags": []
          },
          "execution_count": 23
        }
      ]
    },
    {
      "cell_type": "markdown",
      "metadata": {
        "id": "pEOw7KN8421R"
      },
      "source": [
        "Compare your train and test accurary. "
      ]
    },
    {
      "cell_type": "code",
      "metadata": {
        "id": "nwPGNVyx2sRp",
        "colab": {
          "base_uri": "https://localhost:8080/"
        },
        "outputId": "43f0bd0f-5a2b-47cd-c476-7096031a3606"
      },
      "source": [
        "# train accuracy\n",
        "LR_cv.score(X_train,y_train)"
      ],
      "execution_count": null,
      "outputs": [
        {
          "output_type": "execute_result",
          "data": {
            "text/plain": [
              "0.7024793388429752"
            ]
          },
          "metadata": {
            "tags": []
          },
          "execution_count": 24
        }
      ]
    },
    {
      "cell_type": "code",
      "metadata": {
        "id": "w2cIMQD-2sRs",
        "colab": {
          "base_uri": "https://localhost:8080/"
        },
        "outputId": "775570dd-ac96-4c02-a5c3-0852968d1aff"
      },
      "source": [
        "# test accuracy\n",
        "LR_cv.score(X_test, y_test)"
      ],
      "execution_count": null,
      "outputs": [
        {
          "output_type": "execute_result",
          "data": {
            "text/plain": [
              "0.7704918032786885"
            ]
          },
          "metadata": {
            "tags": []
          },
          "execution_count": 25
        }
      ]
    },
    {
      "cell_type": "markdown",
      "metadata": {
        "id": "3x26in-_pF3N"
      },
      "source": [
        "Finally, show the confusion matrix."
      ]
    },
    {
      "cell_type": "code",
      "metadata": {
        "id": "wn-EZaVmD0of",
        "colab": {
          "base_uri": "https://localhost:8080/"
        },
        "outputId": "abe65b65-72ce-4fbd-d612-e0205b130fd3"
      },
      "source": [
        "#Confusion matrix\n",
        "from sklearn.metrics import confusion_matrix\n",
        "confusion_matrix(y_train, LR_cv.predict(X_train))"
      ],
      "execution_count": null,
      "outputs": [
        {
          "output_type": "execute_result",
          "data": {
            "text/plain": [
              "array([[73, 42],\n",
              "       [30, 97]])"
            ]
          },
          "metadata": {
            "tags": []
          },
          "execution_count": 26
        }
      ]
    }
  ]
}