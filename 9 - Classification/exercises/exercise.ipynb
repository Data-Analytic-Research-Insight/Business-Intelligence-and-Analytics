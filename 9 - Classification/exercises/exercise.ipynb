{
  "nbformat": 4,
  "nbformat_minor": 0,
  "metadata": {
    "colab": {
      "name": "Exercises_Classification_1.ipynb",
      "provenance": [],
      "include_colab_link": true
    },
    "kernelspec": {
      "display_name": "Python 3",
      "language": "python",
      "name": "python3"
    },
    "language_info": {
      "codemirror_mode": {
        "name": "ipython",
        "version": 3
      },
      "file_extension": ".py",
      "mimetype": "text/x-python",
      "name": "python",
      "nbconvert_exporter": "python",
      "pygments_lexer": "ipython3",
      "version": "3.6.9"
    }
  },
  "cells": [
    {
      "cell_type": "markdown",
      "metadata": {
        "id": "view-in-github",
        "colab_type": "text"
      },
      "source": [
        "<a href=\"https://colab.research.google.com/github/michalis0/Business-Intelligence-and-Analytics/blob/master/week10%20-%20Classification/exercises/exercise.ipynb\" target=\"_parent\"><img src=\"https://colab.research.google.com/assets/colab-badge.svg\" alt=\"Open In Colab\"/></a>"
      ]
    },
    {
      "cell_type": "markdown",
      "metadata": {
        "id": "R1BSf8GX2sQd"
      },
      "source": [
        "# Classification\n",
        "\n",
        "## Logistic Regression \n",
        "\n",
        "In this lab we will explore logistic regression which is a well known method for classification problems. We will work with a hearth disease data-set, and we will try to predict whether the patient has a heart disease or not.\n",
        "\n",
        "\n",
        "![Heart](https://img.webmd.com/dtmcms/live/webmd/consumer_assets/site_images/articles/health_tools/how_heart_disease_affects_your_body_slideshow/493ss_thinkstock_rf_heart_anatomy_illustration.jpg)\n"
      ]
    },
    {
      "cell_type": "code",
      "metadata": {
        "id": "2D9mQhcj2sQe"
      },
      "source": [
        "# Imports \n",
        "%matplotlib inline\n",
        "import numpy as np\n",
        "import matplotlib.pyplot as plt\n",
        "from matplotlib import collections  as mc\n",
        "%load_ext autoreload\n",
        "%autoreload 2\n",
        "import pandas as pd \n",
        "import seaborn as sns\n",
        "from sklearn.preprocessing import LabelEncoder, OneHotEncoder\n",
        "sns.set_style(\"white\")"
      ],
      "execution_count": 1,
      "outputs": []
    },
    {
      "cell_type": "code",
      "metadata": {
        "id": "Q1CKWYwc2sQh"
      },
      "source": [
        "# set random seed \n",
        "np.random.seed = 72"
      ],
      "execution_count": 2,
      "outputs": []
    },
    {
      "cell_type": "markdown",
      "metadata": {
        "id": "bTVsCvCv2sQl"
      },
      "source": [
        "### Load data\n",
        "\n",
        "We will start with the hear disease data-set. Here's a description of the attributes in the data-set:\n",
        "\n",
        "1. `age`\n",
        "2. `sex`\n",
        "3. `cp`: chest pain type (4 values)\n",
        "4. `trestbps`: resting blood pressure\n",
        "5. `chol`: serum cholestoral in mg/dl\n",
        "6. `fbs`: fasting blood sugar > 120 mg/dl\n",
        "7. `restecg`: resting electrocardiographic results (values 0,1,2)\n",
        "8. `thalach`: maximum heart rate achieved\n",
        "9. `exang`: exercise induced angina\n",
        "10. `target`: presence of heart disease (1), absence of heart disease(0)\n",
        "\n",
        "![ECG](https://media.eurekalert.org/multimedia_prod/pub/web/230705_web.jpg)\n",
        "\n",
        "\n",
        "\n",
        "\n"
      ]
    },
    {
      "cell_type": "code",
      "metadata": {
        "id": "5trH0DXt2sQl",
        "colab": {
          "base_uri": "https://localhost:8080/",
          "height": 206
        },
        "outputId": "41855499-92fa-46cc-9c39-47e256b87fe0"
      },
      "source": [
        "#Load data\n",
        "# data-set: heart.csv\n",
        "url = \"https://raw.githubusercontent.com/michalis0/Business-Intelligence-and-Analytics/master/data/heart.csv\"\n",
        "df = pd.read_csv(url)\n",
        "df.head()"
      ],
      "execution_count": 3,
      "outputs": [
        {
          "output_type": "execute_result",
          "data": {
            "text/html": [
              "<div>\n",
              "<style scoped>\n",
              "    .dataframe tbody tr th:only-of-type {\n",
              "        vertical-align: middle;\n",
              "    }\n",
              "\n",
              "    .dataframe tbody tr th {\n",
              "        vertical-align: top;\n",
              "    }\n",
              "\n",
              "    .dataframe thead th {\n",
              "        text-align: right;\n",
              "    }\n",
              "</style>\n",
              "<table border=\"1\" class=\"dataframe\">\n",
              "  <thead>\n",
              "    <tr style=\"text-align: right;\">\n",
              "      <th></th>\n",
              "      <th>age</th>\n",
              "      <th>sex</th>\n",
              "      <th>cp</th>\n",
              "      <th>trestbps</th>\n",
              "      <th>chol</th>\n",
              "      <th>fbs</th>\n",
              "      <th>restecg</th>\n",
              "      <th>thalach</th>\n",
              "      <th>exang</th>\n",
              "      <th>target</th>\n",
              "    </tr>\n",
              "  </thead>\n",
              "  <tbody>\n",
              "    <tr>\n",
              "      <th>0</th>\n",
              "      <td>63</td>\n",
              "      <td>M</td>\n",
              "      <td>D</td>\n",
              "      <td>145</td>\n",
              "      <td>233</td>\n",
              "      <td>yes</td>\n",
              "      <td>A</td>\n",
              "      <td>150</td>\n",
              "      <td>no</td>\n",
              "      <td>1</td>\n",
              "    </tr>\n",
              "    <tr>\n",
              "      <th>1</th>\n",
              "      <td>37</td>\n",
              "      <td>M</td>\n",
              "      <td>C</td>\n",
              "      <td>130</td>\n",
              "      <td>250</td>\n",
              "      <td>no</td>\n",
              "      <td>B</td>\n",
              "      <td>187</td>\n",
              "      <td>no</td>\n",
              "      <td>1</td>\n",
              "    </tr>\n",
              "    <tr>\n",
              "      <th>2</th>\n",
              "      <td>41</td>\n",
              "      <td>F</td>\n",
              "      <td>B</td>\n",
              "      <td>130</td>\n",
              "      <td>204</td>\n",
              "      <td>no</td>\n",
              "      <td>A</td>\n",
              "      <td>172</td>\n",
              "      <td>no</td>\n",
              "      <td>1</td>\n",
              "    </tr>\n",
              "    <tr>\n",
              "      <th>3</th>\n",
              "      <td>56</td>\n",
              "      <td>M</td>\n",
              "      <td>B</td>\n",
              "      <td>120</td>\n",
              "      <td>236</td>\n",
              "      <td>no</td>\n",
              "      <td>B</td>\n",
              "      <td>178</td>\n",
              "      <td>no</td>\n",
              "      <td>1</td>\n",
              "    </tr>\n",
              "    <tr>\n",
              "      <th>4</th>\n",
              "      <td>57</td>\n",
              "      <td>F</td>\n",
              "      <td>A</td>\n",
              "      <td>120</td>\n",
              "      <td>354</td>\n",
              "      <td>no</td>\n",
              "      <td>B</td>\n",
              "      <td>163</td>\n",
              "      <td>yes</td>\n",
              "      <td>1</td>\n",
              "    </tr>\n",
              "  </tbody>\n",
              "</table>\n",
              "</div>"
            ],
            "text/plain": [
              "   age sex cp  trestbps  chol  fbs restecg  thalach exang  target\n",
              "0   63   M  D       145   233  yes       A      150    no       1\n",
              "1   37   M  C       130   250   no       B      187    no       1\n",
              "2   41   F  B       130   204   no       A      172    no       1\n",
              "3   56   M  B       120   236   no       B      178    no       1\n",
              "4   57   F  A       120   354   no       B      163   yes       1"
            ]
          },
          "metadata": {
            "tags": []
          },
          "execution_count": 3
        }
      ]
    },
    {
      "cell_type": "code",
      "metadata": {
        "id": "yFUEig7y2sQp"
      },
      "source": [
        "# sklearn imports \n",
        "from sklearn.linear_model import LogisticRegressionCV\n",
        "from sklearn.linear_model import LogisticRegression\n",
        "from sklearn.preprocessing import StandardScaler\n",
        "from sklearn import datasets"
      ],
      "execution_count": 7,
      "outputs": []
    },
    {
      "cell_type": "markdown",
      "metadata": {
        "id": "7BLOy4W32sQt"
      },
      "source": [
        "### Simple Logistic Regression\n",
        "\n",
        "Let's start with only 2 features: age and maximum heart rate achieved (`talach`). Define your features and target variable. "
      ]
    },
    {
      "cell_type": "code",
      "metadata": {
        "id": "ki6QRs6t2sQu"
      },
      "source": [
        "X = # TODO : select features\n",
        "y = # TODO :  select features"
      ],
      "execution_count": 5,
      "outputs": []
    },
    {
      "cell_type": "markdown",
      "metadata": {
        "id": "IjPq4TjY4I-C"
      },
      "source": [
        "Split your data set into train and test subsets. "
      ]
    },
    {
      "cell_type": "code",
      "metadata": {
        "id": "iFO3lzpD2NKN"
      },
      "source": [
        "from sklearn.model_selection import train_test_split   \n",
        "\"Your code here\" = train_test_split(X, y, test_size=0.3, random_state=72)"
      ],
      "execution_count": null,
      "outputs": []
    },
    {
      "cell_type": "markdown",
      "metadata": {
        "id": "UNpdZRMv2sQ0"
      },
      "source": [
        "#### Standardizing\n",
        "\n",
        "When you do standardization (or any other modification) to the training data, you have to apply the same modifications to the test data as well. Otherwise your test accuracy would be non-sense.\n",
        "\n",
        "Here we apply the same standardisation to test data, which means that we normalize the test data with mean and standard deviation from the train data.\n",
        "\n",
        "Use *StandardScaler()* for normalization. "
      ]
    },
    {
      "cell_type": "code",
      "metadata": {
        "id": "3h50T5Lh2sQ1"
      },
      "source": [
        "scaler = StandardScaler()\n",
        "# TODO : fit normalizer "
      ],
      "execution_count": null,
      "outputs": []
    },
    {
      "cell_type": "markdown",
      "metadata": {
        "id": "g7a6TZVV3ZZi"
      },
      "source": [
        "Apply the standardization to your train and test set. "
      ]
    },
    {
      "cell_type": "code",
      "metadata": {
        "id": "xGjKow5Y2sQ4"
      },
      "source": [
        "X_train = # TODO : transform train set \n",
        "X_test =# TODO : transform test set "
      ],
      "execution_count": null,
      "outputs": []
    },
    {
      "cell_type": "markdown",
      "metadata": {
        "id": "Vw5rbTEV3hnH"
      },
      "source": [
        "Define your model. Try to use a logistic regression with cross validation (cv = 10). "
      ]
    },
    {
      "cell_type": "code",
      "metadata": {
        "id": "nExvGYiR2sQ7"
      },
      "source": [
        "# logistic regression with 10 fold cross validation\n",
        "LR_cv = LogisticRegressionCV(solver='lbfgs', cv=\"Your code here\", max_iter=100)"
      ],
      "execution_count": 8,
      "outputs": []
    },
    {
      "cell_type": "markdown",
      "metadata": {
        "id": "MyxTAXGs3nez"
      },
      "source": [
        "Fit your model now using the train set. "
      ]
    },
    {
      "cell_type": "code",
      "metadata": {
        "id": "F9WckoiSD8kv"
      },
      "source": [
        "LR_cv.fit(\"Your code here\",\"Yout code here\")"
      ],
      "execution_count": null,
      "outputs": []
    },
    {
      "cell_type": "markdown",
      "metadata": {
        "id": "WCu8nkWe3sXG"
      },
      "source": [
        "Compare your train and test accuracy for your model."
      ]
    },
    {
      "cell_type": "code",
      "metadata": {
        "id": "-YK9xRp6CIyP"
      },
      "source": [
        "# train accuracy with CV\n",
        "LR_cv.score(\"Your code here\", \"Your code here\")"
      ],
      "execution_count": null,
      "outputs": []
    },
    {
      "cell_type": "code",
      "metadata": {
        "id": "4V2KZ7XTCNNK"
      },
      "source": [
        "# test accuracy with CV\n",
        "LR_cv.score(\"Your code here\", \"Your code here\")"
      ],
      "execution_count": null,
      "outputs": []
    },
    {
      "cell_type": "markdown",
      "metadata": {
        "id": "pJGMIl1ynW5V"
      },
      "source": [
        "Have a look at the class distribution"
      ]
    },
    {
      "cell_type": "code",
      "metadata": {
        "id": "Wv5YrDBGnaB7"
      },
      "source": [
        "import warnings\n",
        "warnings.filterwarnings('ignore')\n",
        "#Your code here"
      ],
      "execution_count": null,
      "outputs": []
    },
    {
      "cell_type": "markdown",
      "metadata": {
        "id": "WYS-bFxJrZNw"
      },
      "source": [
        "Compute the baserate.\n",
        "\n",
        "$$Base rate = \\frac{Most\\_frequent\\_class}{Total\\_observations}$$"
      ]
    },
    {
      "cell_type": "code",
      "metadata": {
        "id": "EFsMa1m2r7pj"
      },
      "source": [
        "#Compute the base rate\n",
        "\n",
        "nbr_heart_disease = df.loc[df[\"target\"] == 1].shape[0]\n",
        "print(\"#Heart disease = \", \"Your code here\")\n",
        "\n",
        "nbr_no_heart_disease = df.loc[df[\"target\"] == 0].shape[0]\n",
        "print(\"#No heart disease = \", \"Your code here\")\n",
        "\n",
        "print(\"Baserate = \", max(\"Your code here\", \"Your code here\")/(\"Your code here\" + \"Your code here\"))"
      ],
      "execution_count": null,
      "outputs": []
    },
    {
      "cell_type": "markdown",
      "metadata": {
        "id": "cjgp2sfVrb8B"
      },
      "source": [
        "Use the confusion_matrix module to show the confusion matrix."
      ]
    },
    {
      "cell_type": "code",
      "metadata": {
        "id": "2DsK5wpLrfSt"
      },
      "source": [
        "#Confusion matrix\n",
        "from sklearn.metrics import confusion_matrix\n",
        "cf = confusion_matrix(\"Your code here\", LR_cv.predict(\"Your code here\"))\n",
        "print(cf)"
      ],
      "execution_count": null,
      "outputs": []
    },
    {
      "cell_type": "markdown",
      "metadata": {
        "id": "fH8ULHCQmv0b"
      },
      "source": [
        "Plot the confusion matrix"
      ]
    },
    {
      "cell_type": "code",
      "metadata": {
        "id": "ZUMb12IdmxtV"
      },
      "source": [
        "ax = \"Your code here\"\n",
        "r = sns.heatmap(\"Your code here\")\n",
        "\n",
        "\"Your code here\".('Predicted label')\n",
        "\"Your code here\"('True labels')\n",
        "\"Your code here\"('Confusion Matrix')\n",
        "\"Your code here\"\n",
        "\"Your code here\"\n"
      ],
      "execution_count": null,
      "outputs": []
    },
    {
      "cell_type": "markdown",
      "metadata": {
        "id": "K1CT6zVb2sRM"
      },
      "source": [
        "### Decision boundary\n",
        "\n",
        "As we used only two features for classification, we can observe the linear decision boundary made by the logistic regression in a 2D plot. You can also observe the mis-classified training points in this plot. Let's plot the decision boundary for the model with cross validation. "
      ]
    },
    {
      "cell_type": "code",
      "metadata": {
        "id": "QpsAOlN22sRM",
        "scrolled": false
      },
      "source": [
        "#Decision boundaries\n",
        "\n",
        "model = LogisticRegression()\n",
        "model.fit(\"Your code here\", \"Your code here\")\n",
        "\n",
        "\n",
        "plt.scatter(X[:,0], X[:,1], c=y, edgecolors='k', cmap=plt.cm.Paired)\n",
        "ax = plt.gca()\n",
        "x_vals = np.array(ax.get_xlim())\n",
        "y_vals = (-x_vals * model.coef_[0][0] - model.intercept_[0])/model.coef_[0][1]\n",
        "plt.plot(x_vals, y_vals, '--', c=\"red\")\n",
        "\n",
        "plt.xlabel(\"Your code here\")\n",
        "plt.ylabel(\"Your code here\")\n",
        "\n",
        "\n",
        "plt.xticks()\n",
        "plt.yticks()\n",
        "\n",
        "plt.show()"
      ],
      "execution_count": null,
      "outputs": []
    },
    {
      "cell_type": "markdown",
      "metadata": {
        "id": "iwF1RHqA75K6"
      },
      "source": [
        "Try to predict the class and probability of correct classification for Age = 50, Thalach = 130 and Age = 70, Thalach = 160"
      ]
    },
    {
      "cell_type": "code",
      "metadata": {
        "id": "jxYtT2fU75K7"
      },
      "source": [
        "print(model.predict([[\"Your code here\"],[\"Your code here\"]]))\n",
        "print(model.predict_proba([[\"Your code here\"],[\"Your code here\"]]))"
      ],
      "execution_count": null,
      "outputs": []
    },
    {
      "cell_type": "markdown",
      "metadata": {
        "id": "QRpOrur22sRV"
      },
      "source": [
        "Now let's try more numerical features and see if the accuracy improuves.\n",
        "We will use now \"age\", \"thalach\", \"trestbps\" and \"chol\". \n",
        "Define your features and your target variable. "
      ]
    },
    {
      "cell_type": "code",
      "metadata": {
        "id": "uDnaUYF92sRV"
      },
      "source": [
        "X = df[[\"Your code here\"]]\n",
        "y = df[\"Your code here\"]"
      ],
      "execution_count": null,
      "outputs": []
    },
    {
      "cell_type": "markdown",
      "metadata": {
        "id": "0q09jUP34hme"
      },
      "source": [
        "Split your data set into train and test subsets."
      ]
    },
    {
      "cell_type": "code",
      "metadata": {
        "id": "1g55iCbL2sRY"
      },
      "source": [
        "\"Your code here\" = train_test_split(X, y, test_size=0.2, random_state=72)"
      ],
      "execution_count": null,
      "outputs": []
    },
    {
      "cell_type": "markdown",
      "metadata": {
        "id": "CsuD0tPc4ugm"
      },
      "source": [
        "Standardize your data."
      ]
    },
    {
      "cell_type": "code",
      "metadata": {
        "id": "R9ScYZRs2sRd"
      },
      "source": [
        "scaler = StandardScaler()\n",
        "#TODO: fit normalizer "
      ],
      "execution_count": null,
      "outputs": []
    },
    {
      "cell_type": "code",
      "metadata": {
        "id": "I9Y0TMkp2sRg"
      },
      "source": [
        "X_train =  #TODO: tranform train set \n",
        "X_test =  #TODO: tranform test set "
      ],
      "execution_count": null,
      "outputs": []
    },
    {
      "cell_type": "markdown",
      "metadata": {
        "id": "QQOpg_A04zNw"
      },
      "source": [
        "Fit your model using the train data. Let's use the logistic regression with cross validation here. "
      ]
    },
    {
      "cell_type": "code",
      "metadata": {
        "id": "8MMBMLJZ2sRk"
      },
      "source": [
        "LR_cv.fit(\"Your code here\", \"Your code here\")"
      ],
      "execution_count": null,
      "outputs": []
    },
    {
      "cell_type": "markdown",
      "metadata": {
        "id": "pEOw7KN8421R"
      },
      "source": [
        "Compare your train and test accurary. "
      ]
    },
    {
      "cell_type": "code",
      "metadata": {
        "id": "nwPGNVyx2sRp"
      },
      "source": [
        "# train accuracy\n",
        "LR_cv.score(\"Your code here\")"
      ],
      "execution_count": null,
      "outputs": []
    },
    {
      "cell_type": "code",
      "metadata": {
        "id": "w2cIMQD-2sRs"
      },
      "source": [
        "# test accuracy\n",
        "LR_cv.score(\"Your code here\")"
      ],
      "execution_count": null,
      "outputs": []
    },
    {
      "cell_type": "markdown",
      "metadata": {
        "id": "ceS90RCBoqws"
      },
      "source": [
        "Finally, show the confusion matrix."
      ]
    },
    {
      "cell_type": "code",
      "metadata": {
        "id": "wn-EZaVmD0of"
      },
      "source": [
        "#Confusion matrix\n",
        "from sklearn.metrics import confusion_matrix\n",
        "confusion_matrix(\"Your code here\", LR_cv.predict(\"Your code here\"))"
      ],
      "execution_count": null,
      "outputs": []
    }
  ]
}