{
  "nbformat": 4,
  "nbformat_minor": 0,
  "metadata": {
    "colab": {
      "name": "SQL1_EX1",
      "provenance": [],
      "collapsed_sections": [],
      "include_colab_link": true
    },
    "kernelspec": {
      "name": "python3",
      "display_name": "Python 3"
    }
  },
  "cells": [
    {
      "cell_type": "markdown",
      "metadata": {
        "id": "view-in-github",
        "colab_type": "text"
      },
      "source": [
        "<a href=\"https://colab.research.google.com/github/michalis0/Business-Intelligence-and-Analytics/blob/master/week5%20-%20SQL/exercices/SQL1_EX1.ipynb\" target=\"_parent\"><img src=\"https://colab.research.google.com/assets/colab-badge.svg\" alt=\"Open In Colab\"/></a>"
      ]
    },
    {
      "cell_type": "markdown",
      "metadata": {
        "id": "FnSwSz5vSOG3"
      },
      "source": [
        "# Week 5 - SQL (1/2) - Exercice\n",
        "First, we need to import the Python libraries we will need and do various setups."
      ]
    },
    {
      "cell_type": "code",
      "metadata": {
        "id": "uDu6vmfkQssS"
      },
      "source": [
        "import pandas as pd\n",
        "from sqlalchemy import create_engine\n",
        "db = create_engine('sqlite://', echo=False)\n",
        "csvfile = 'https://raw.githubusercontent.com/michalis0/Business-Intelligence-and-Analytics/master/data/artists%20(1).csv'\n",
        "df = pd.read_csv(csvfile)\n",
        "df.columns = map(str.lower, df.columns)\n",
        "table_name = 'artists'\n",
        "df.to_sql(table_name, con=db)"
      ],
      "execution_count": null,
      "outputs": []
    },
    {
      "cell_type": "markdown",
      "metadata": {
        "id": "jtWiN27bSfLq"
      },
      "source": [
        "Now, let's take a first look at the data we will be working with."
      ]
    },
    {
      "cell_type": "code",
      "metadata": {
        "id": "OLWhFgJ1SagD",
        "colab": {
          "base_uri": "https://localhost:8080/",
          "height": 598
        },
        "outputId": "40996e55-a5f3-4fbb-8445-29ddab88722c"
      },
      "source": [
        "query = \"\"\"\n",
        "select * from artists\n",
        "limit 5\n",
        "\"\"\"\n",
        "sql_df = pd.read_sql(query, con=db)\n",
        "sql_df"
      ],
      "execution_count": null,
      "outputs": [
        {
          "output_type": "execute_result",
          "data": {
            "text/html": [
              "<div>\n",
              "<style scoped>\n",
              "    .dataframe tbody tr th:only-of-type {\n",
              "        vertical-align: middle;\n",
              "    }\n",
              "\n",
              "    .dataframe tbody tr th {\n",
              "        vertical-align: top;\n",
              "    }\n",
              "\n",
              "    .dataframe thead th {\n",
              "        text-align: right;\n",
              "    }\n",
              "</style>\n",
              "<table border=\"1\" class=\"dataframe\">\n",
              "  <thead>\n",
              "    <tr style=\"text-align: right;\">\n",
              "      <th></th>\n",
              "      <th>index</th>\n",
              "      <th>id</th>\n",
              "      <th>name</th>\n",
              "      <th>years</th>\n",
              "      <th>genre</th>\n",
              "      <th>nationality</th>\n",
              "      <th>bio</th>\n",
              "      <th>wikipedia</th>\n",
              "      <th>paintings</th>\n",
              "    </tr>\n",
              "  </thead>\n",
              "  <tbody>\n",
              "    <tr>\n",
              "      <th>0</th>\n",
              "      <td>0</td>\n",
              "      <td>0</td>\n",
              "      <td>Amedeo Modigliani</td>\n",
              "      <td>1884 - 1920</td>\n",
              "      <td>Expressionism</td>\n",
              "      <td>Italian</td>\n",
              "      <td>Amedeo Clemente Modigliani (Italian pronunciat...</td>\n",
              "      <td>http://en.wikipedia.org/wiki/Amedeo_Modigliani</td>\n",
              "      <td>193</td>\n",
              "    </tr>\n",
              "    <tr>\n",
              "      <th>1</th>\n",
              "      <td>1</td>\n",
              "      <td>1</td>\n",
              "      <td>Vasiliy Kandinskiy</td>\n",
              "      <td>1866 - 1944</td>\n",
              "      <td>Expressionism,Abstractionism</td>\n",
              "      <td>Russian</td>\n",
              "      <td>Wassily Wassilyevich Kandinsky (Russian: Васи́...</td>\n",
              "      <td>http://en.wikipedia.org/wiki/Wassily_Kandinsky</td>\n",
              "      <td>88</td>\n",
              "    </tr>\n",
              "    <tr>\n",
              "      <th>2</th>\n",
              "      <td>2</td>\n",
              "      <td>2</td>\n",
              "      <td>Diego Rivera</td>\n",
              "      <td>1886 - 1957</td>\n",
              "      <td>Social Realism,Muralism</td>\n",
              "      <td>Mexican</td>\n",
              "      <td>Diego María de la Concepción Juan Nepomuceno E...</td>\n",
              "      <td>http://en.wikipedia.org/wiki/Diego_Rivera</td>\n",
              "      <td>70</td>\n",
              "    </tr>\n",
              "    <tr>\n",
              "      <th>3</th>\n",
              "      <td>3</td>\n",
              "      <td>3</td>\n",
              "      <td>Claude Monet</td>\n",
              "      <td>1840 - 1926</td>\n",
              "      <td>Impressionism</td>\n",
              "      <td>French</td>\n",
              "      <td>Oscar-Claude Monet (; French: [klod mɔnɛ]; 14 ...</td>\n",
              "      <td>http://en.wikipedia.org/wiki/Claude_Monet</td>\n",
              "      <td>73</td>\n",
              "    </tr>\n",
              "    <tr>\n",
              "      <th>4</th>\n",
              "      <td>4</td>\n",
              "      <td>4</td>\n",
              "      <td>Rene Magritte</td>\n",
              "      <td>1898 - 1967</td>\n",
              "      <td>Surrealism,Impressionism</td>\n",
              "      <td>Belgian</td>\n",
              "      <td>René François Ghislain Magritte (French: [ʁəne...</td>\n",
              "      <td>http://en.wikipedia.org/wiki/René_Magritte</td>\n",
              "      <td>194</td>\n",
              "    </tr>\n",
              "  </tbody>\n",
              "</table>\n",
              "</div>"
            ],
            "text/plain": [
              "   index  id  ...                                       wikipedia paintings\n",
              "0      0   0  ...  http://en.wikipedia.org/wiki/Amedeo_Modigliani       193\n",
              "1      1   1  ...  http://en.wikipedia.org/wiki/Wassily_Kandinsky        88\n",
              "2      2   2  ...       http://en.wikipedia.org/wiki/Diego_Rivera        70\n",
              "3      3   3  ...       http://en.wikipedia.org/wiki/Claude_Monet        73\n",
              "4      4   4  ...      http://en.wikipedia.org/wiki/René_Magritte       194\n",
              "\n",
              "[5 rows x 9 columns]"
            ]
          },
          "metadata": {
            "tags": []
          },
          "execution_count": 2
        }
      ]
    },
    {
      "cell_type": "markdown",
      "metadata": {
        "id": "1ypa25-JYgZy"
      },
      "source": [
        "Each row contains a painter. We can see that the dataset contains the following information:\n",
        "- **`name`**\n",
        "- **`years`**: date of birth - date of death\n",
        "- **`genre`**: the artistic movement they embody\n",
        "- **`nationality`**\n",
        "- **`bio`**\n",
        "- **`wikipedia`**\n",
        "- **`paintings`**: total number of paintings"
      ]
    },
    {
      "cell_type": "markdown",
      "metadata": {
        "id": "2wLut5taU0nY"
      },
      "source": [
        "### Question 1\n",
        "Find the names of all French artists and order them by alphabetical order."
      ]
    },
    {
      "cell_type": "code",
      "metadata": {
        "id": "ZxLeN_2gQJIM"
      },
      "source": [
        "query = \"\"\" \n",
        "select \n",
        "\n",
        "\"\"\"\n",
        "sql_df = pd.read_sql(query, con=db)\n",
        "sql_df"
      ],
      "execution_count": null,
      "outputs": []
    },
    {
      "cell_type": "markdown",
      "metadata": {
        "id": "Vmncy2dokId3"
      },
      "source": [
        "###Question 2\n",
        "Find the total number of Italian artists."
      ]
    },
    {
      "cell_type": "code",
      "metadata": {
        "id": "K3MeFGL0ngP5"
      },
      "source": [
        "query = \"\"\" \n",
        "select\n",
        "\n",
        " \"\"\"\n",
        "sql_df = pd.read_sql(query, con=db)\n",
        "sql_df.head()"
      ],
      "execution_count": null,
      "outputs": []
    },
    {
      "cell_type": "markdown",
      "metadata": {
        "id": "LSHfyjQbaaYX"
      },
      "source": [
        "###Question 3\n",
        "\n",
        "Find the painter that was the most prolific."
      ]
    },
    {
      "cell_type": "code",
      "metadata": {
        "id": "20FjNGRnaZvU"
      },
      "source": [
        "query = \"\"\" \n",
        "select \n",
        "\n",
        " \"\"\"\n",
        "sql_df = pd.read_sql(query, con=db)\n",
        "sql_df.head()"
      ],
      "execution_count": null,
      "outputs": []
    },
    {
      "cell_type": "markdown",
      "metadata": {
        "id": "mHc2s--Qjs1o"
      },
      "source": [
        "###Question 4\n",
        "Find the 5 genres that are the most represented. Display the genres and the respective number of artists representing them (as NumberOfRepresentants)"
      ]
    },
    {
      "cell_type": "code",
      "metadata": {
        "id": "0fp6u6U4kiNg"
      },
      "source": [
        "query = \"\"\" \n",
        "select\n",
        "\n",
        "\"\"\"\n",
        "sql_df = pd.read_sql(query, con=db)\n",
        "sql_df"
      ],
      "execution_count": null,
      "outputs": []
    },
    {
      "cell_type": "markdown",
      "metadata": {
        "id": "F-ucieLWaNX1"
      },
      "source": [
        "###Question 5\n",
        "Find all the artists whose name start by a 'P' and have painted more than 200 paintings"
      ]
    },
    {
      "cell_type": "code",
      "metadata": {
        "id": "8nibn9X_o2Ng"
      },
      "source": [
        "query = \"\"\" \n",
        "select\n",
        "\n",
        "\"\"\"\n",
        "sql_df = pd.read_sql(query, con=db)\n",
        "sql_df"
      ],
      "execution_count": null,
      "outputs": []
    },
    {
      "cell_type": "markdown",
      "metadata": {
        "id": "rlYLjAMgp3B9"
      },
      "source": [
        "###Question 6\n",
        "Find the genres where the Total number of paintings is greater or equal than 1000."
      ]
    },
    {
      "cell_type": "code",
      "metadata": {
        "id": "KkP5SHvBqAXz"
      },
      "source": [
        "query = \"\"\" \n",
        "select\n",
        "\n",
        "\"\"\"\n",
        "sql_df = pd.read_sql(query, con=db)\n",
        "sql_df"
      ],
      "execution_count": null,
      "outputs": []
    },
    {
      "cell_type": "markdown",
      "metadata": {
        "id": "fmsGWjb7q00n"
      },
      "source": [
        "###Question 7\n",
        "Find all the artists that where born after 1900. Display their names and their dates of birth and death."
      ]
    },
    {
      "cell_type": "code",
      "metadata": {
        "id": "TSIJKOn9q1GR"
      },
      "source": [
        "query = \"\"\" \n",
        "select\n",
        "\n",
        "\"\"\"\n",
        "sql_df = pd.read_sql(query, con=db)\n",
        "sql_df"
      ],
      "execution_count": null,
      "outputs": []
    },
    {
      "cell_type": "markdown",
      "metadata": {
        "id": "mK16XQedsjCZ"
      },
      "source": [
        "###Question 8\n",
        "Find all the artists that where born during the XVII century and are Spanish or Italian."
      ]
    },
    {
      "cell_type": "code",
      "metadata": {
        "id": "qu28hEDGsxTf"
      },
      "source": [
        "query = \"\"\" \n",
        "select\n",
        "\n",
        "\"\"\"\n",
        "sql_df = pd.read_sql(query, con=db)\n",
        "sql_df"
      ],
      "execution_count": null,
      "outputs": []
    }
  ]
}