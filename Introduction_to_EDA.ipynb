{
  "nbformat": 4,
  "nbformat_minor": 0,
  "metadata": {
    "colab": {
      "name": "Introduction_to_EDA.ipynb",
      "provenance": [],
      "collapsed_sections": [],
      "include_colab_link": true
    },
    "kernelspec": {
      "name": "python3",
      "display_name": "Python 3"
    }
  },
  "cells": [
    {
      "cell_type": "markdown",
      "metadata": {
        "id": "view-in-github",
        "colab_type": "text"
      },
      "source": [
        "<a href=\"https://colab.research.google.com/github/michalis0/Business-Intelligence-and-Analytics/blob/master/Introduction_to_EDA.ipynb\" target=\"_parent\"><img src=\"https://colab.research.google.com/assets/colab-badge.svg\" alt=\"Open In Colab\"/></a>"
      ]
    },
    {
      "cell_type": "code",
      "metadata": {
        "id": "-Et-C3loyXPx",
        "colab": {
          "base_uri": "https://localhost:8080/",
          "height": 133
        },
        "cellView": "form",
        "outputId": "29570b82-acd2-41aa-ed31-20d2d8dd7497"
      },
      "source": [
        "#@title Introduction to EDA - Lab 3\n",
        "\n",
        "%%html\n",
        "\n",
        "<div>\n",
        "<td> \n",
        "<img src=\"https://upload.wikimedia.org/wikipedia/commons/thumb/2/2b/Logo_Universit%C3%A9_de_Lausanne.svg/2000px-Logo_Universit%C3%A9_de_Lausanne.svg.png\" style=\"padding-right:10px;width:240px;float:left\"/></td>\n",
        "<h2 style=\"white-space: nowrap\">Business Intelligence and Analytics</h2></td>\n",
        "<hr style=\"clear:both\">\n",
        "<p style=\"font-size:0.85em; margin:2px; text-align:justify\">\n",
        "\n",
        "</div>"
      ],
      "execution_count": null,
      "outputs": [
        {
          "output_type": "display_data",
          "data": {
            "text/html": [
              "\n",
              "<div>\n",
              "<td> \n",
              "<img src=\"https://upload.wikimedia.org/wikipedia/commons/thumb/2/2b/Logo_Universit%C3%A9_de_Lausanne.svg/2000px-Logo_Universit%C3%A9_de_Lausanne.svg.png\" style=\"padding-right:10px;width:240px;float:left\"/></td>\n",
              "<h2 style=\"white-space: nowrap\">Business Intelligence and Analytics</h2></td>\n",
              "<hr style=\"clear:both\">\n",
              "<p style=\"font-size:0.85em; margin:2px; text-align:justify\">\n",
              "\n",
              "</div>"
            ],
            "text/plain": [
              "<IPython.core.display.HTML object>"
            ]
          },
          "metadata": {
            "tags": []
          }
        }
      ]
    },
    {
      "cell_type": "markdown",
      "metadata": {
        "id": "FPvLJ-TYoQQJ"
      },
      "source": [
        "# Web scrapping - Part 0\n",
        ">The goal of this Walkthrough is to provide you with insights on exploratory data analysis throughout the use of a fun and interactive technique known as webscrapping. During this laboratory, you will be provided with a broad overview of this technique as well as the major tools used in the process. You will also understand how data analysis can be conducted on real-time web data and hopefully see how this combination can be further applied to any other context. \n",
        "\n",
        "\n",
        ">In essence, webscrapping consits in harvesting the content of a web page in order to process its information for further use. In our example, webscrapping is used as a fun way to extract data that we will analyse afterwards. In most cases, this thechnique comes hand in hand with data cleaning and data analysis. For futher information on webscrapping, click on the following [link](https://en.wikipedia.org/wiki/Web_scraping).\n"
      ]
    },
    {
      "cell_type": "markdown",
      "metadata": {
        "id": "Jm-4rNdQvDZ_"
      },
      "source": [
        "## Web scrapping with Pandas\n",
        "\n",
        ">Last week you were introduced with Pandas library and its DataFrame. Many different functions were presented to you for Dataframe manipulation. You should have noticed by now that this is a really usefull library when it comes to using tables. More over, one of the perks of using this Pandas is that you can diretly scrap HTML tables from the web... Lets dive into it.\n",
        "\n",
        "> The main function we are going to be using is `read_html`, it allows you the directly put the data of webpage table into a DataFrame. For more information, just click on this [link](https://pandas.pydata.org/pandas-docs/stable/reference/api/pandas.read_html.html). \n",
        "\n",
        ">For example, imagine we wanted to demonstrate the importance of the reserch department for the future of a company, we would have at some point to provide evidences for such statment. To that end, lets get the [top 50 companies](https://en.wikipedia.org/wiki/List_of_companies_by_research_and_development_spending) with the highest research and development expenses in 2018."
      ]
    },
    {
      "cell_type": "code",
      "metadata": {
        "id": "IZRM0yOyKKNa"
      },
      "source": [
        "import pandas as pd"
      ],
      "execution_count": null,
      "outputs": []
    },
    {
      "cell_type": "code",
      "metadata": {
        "colab": {
          "base_uri": "https://localhost:8080/"
        },
        "id": "WNqFVaQe0o0r",
        "outputId": "442ad0a0-af18-4195-9845-b1d88f0e396d"
      },
      "source": [
        "scrapped_list=pd.read_html('https://en.wikipedia.org/wiki/List_of_companies_by_research_and_development_spending')\n",
        "print(\"scrapped tables \" , len(scrapped_list))\n",
        "\n",
        "\n",
        "\n"
      ],
      "execution_count": null,
      "outputs": [
        {
          "output_type": "stream",
          "text": [
            "scrapped tables  5\n"
          ],
          "name": "stdout"
        }
      ]
    },
    {
      "cell_type": "markdown",
      "metadata": {
        "id": "z7F51lmXqX1k"
      },
      "source": [
        " The `read_html` function scraps any table from the webpage of interest as long as it has the right format. To display ther to top 5 companies, we have to specify with the right index. "
      ]
    },
    {
      "cell_type": "code",
      "metadata": {
        "colab": {
          "base_uri": "https://localhost:8080/",
          "height": 201
        },
        "id": "-VyngrytqNjJ",
        "outputId": "6ab4fad8-ddf4-467b-fdb2-432e64b5bf0a"
      },
      "source": [
        "scrapped_list[2].head()"
      ],
      "execution_count": null,
      "outputs": [
        {
          "output_type": "execute_result",
          "data": {
            "text/html": [
              "<div>\n",
              "<style scoped>\n",
              "    .dataframe tbody tr th:only-of-type {\n",
              "        vertical-align: middle;\n",
              "    }\n",
              "\n",
              "    .dataframe tbody tr th {\n",
              "        vertical-align: top;\n",
              "    }\n",
              "\n",
              "    .dataframe thead th {\n",
              "        text-align: right;\n",
              "    }\n",
              "</style>\n",
              "<table border=\"1\" class=\"dataframe\">\n",
              "  <thead>\n",
              "    <tr style=\"text-align: right;\">\n",
              "      <th></th>\n",
              "      <th>Rank</th>\n",
              "      <th>Company</th>\n",
              "      <th>Country</th>\n",
              "      <th>Sector</th>\n",
              "      <th>Expenditures on R&amp;D (billions of US$)</th>\n",
              "    </tr>\n",
              "  </thead>\n",
              "  <tbody>\n",
              "    <tr>\n",
              "      <th>0</th>\n",
              "      <td>1</td>\n",
              "      <td>Volkswagen Group</td>\n",
              "      <td>Germany</td>\n",
              "      <td>Automotive</td>\n",
              "      <td>13.5</td>\n",
              "    </tr>\n",
              "    <tr>\n",
              "      <th>1</th>\n",
              "      <td>2</td>\n",
              "      <td>Samsung</td>\n",
              "      <td>South Korea</td>\n",
              "      <td>Computing and Electronics</td>\n",
              "      <td>13.4</td>\n",
              "    </tr>\n",
              "    <tr>\n",
              "      <th>2</th>\n",
              "      <td>3</td>\n",
              "      <td>Intel</td>\n",
              "      <td>United States</td>\n",
              "      <td>Computing and Electronics</td>\n",
              "      <td>10.6</td>\n",
              "    </tr>\n",
              "    <tr>\n",
              "      <th>3</th>\n",
              "      <td>4</td>\n",
              "      <td>Microsoft</td>\n",
              "      <td>United States</td>\n",
              "      <td>Software and Internet</td>\n",
              "      <td>10.4</td>\n",
              "    </tr>\n",
              "    <tr>\n",
              "      <th>4</th>\n",
              "      <td>5</td>\n",
              "      <td>Roche Holding</td>\n",
              "      <td>Switzerland</td>\n",
              "      <td>Health Care</td>\n",
              "      <td>10.0</td>\n",
              "    </tr>\n",
              "  </tbody>\n",
              "</table>\n",
              "</div>"
            ],
            "text/plain": [
              "   Rank  ... Expenditures on R&D (billions of US$)\n",
              "0     1  ...                                  13.5\n",
              "1     2  ...                                  13.4\n",
              "2     3  ...                                  10.6\n",
              "3     4  ...                                  10.4\n",
              "4     5  ...                                  10.0\n",
              "\n",
              "[5 rows x 5 columns]"
            ]
          },
          "metadata": {
            "tags": []
          },
          "execution_count": 7
        }
      ]
    },
    {
      "cell_type": "markdown",
      "metadata": {
        "id": "B9s0aUxc0mgL"
      },
      "source": [
        "## Web Scrapping libraries"
      ]
    },
    {
      "cell_type": "markdown",
      "metadata": {
        "id": "CEPj9faM0zJn"
      },
      "source": [
        "In order to get the data from the Web with Python, we will require during the course of this lab to use the follwing two essential libraries:\n",
        "\n",
        "*  Requests (HTTP): retreives the web pages (html) to parse.\n",
        "\n",
        "*  Beautiful Soup (HTML Parsing): parses the html.\n",
        "\n",
        "Thanks to google colab, no specific environmental installation is needed to work on this lab. We can directly import the need libraries. \n",
        "Moreover, last week you were introduced with a very important library when it comes to EDA known as [Pandas](https://pandas.pydata.org/pandas-docs/version/0.15/tutorials.html). Dataframes and the allowed manipulations come in very handy for the analysis we shall conduct on the newly fetched Data. Therefore, we will continue using this library throughout this lab as well. If you feel like you are still not at ease with Pandas basic concepts, please refer to the previous documentation or ask one of the TAs. \n"
      ]
    },
    {
      "cell_type": "code",
      "metadata": {
        "id": "py3-Qcm_rmgh"
      },
      "source": [
        "# Import libraries\n",
        "import requests\n",
        "from bs4 import BeautifulSoup\n",
        "import pandas as pd\n",
        "import re \n"
      ],
      "execution_count": null,
      "outputs": []
    },
    {
      "cell_type": "markdown",
      "metadata": {
        "id": "4k79JLnx28V9"
      },
      "source": [
        "## Retreiving the Data\n"
      ]
    },
    {
      "cell_type": "markdown",
      "metadata": {
        "id": "bketijLl3_zo"
      },
      "source": [
        ">In order to get started with webscrapping we must first make a [request](https://requests.readthedocs.io/en/master/user/quickstart/). In simple words, we will ask the server hosting the webpage we are interested in for its content.\n",
        "\n",
        "> In this laboratory, we will use the [Boat24.ch](https://www.boot24.ch/chde/motorboote/furtif-28-modele-unique/detail/463101/) by specifying its URL as parameter to the ``requests.get`` method. \n",
        "\n",
        "> We can check the status of our request using the library method ``status_code``. You can find more on the HTTP status code on this [link](https://en.wikipedia.org/wiki/List_of_HTTP_status_codes). A code of **200** means the HTTP request was successfuly completed. On the other hand, the response header display metadata aboug the request itself. You can see for yourself the details of the header running the next cell. \n",
        "\n"
      ]
    },
    {
      "cell_type": "code",
      "metadata": {
        "colab": {
          "base_uri": "https://localhost:8080/"
        },
        "id": "4YFEk6eAst0b",
        "outputId": "e4fb1f22-d896-4942-9cac-489e0432cad1"
      },
      "source": [
        "# Make the request\n",
        "r = requests.get('https://www.bateau24.ch/chfr/bateauxamoteur/furtif-28-modele-unique/detail/463101/')\n",
        "# Response content\n",
        "print('Response status code: {0}\\n'.format(r.status_code))\n",
        "print('Response headers: {0}\\n'.format(r.headers))\n"
      ],
      "execution_count": null,
      "outputs": [
        {
          "output_type": "stream",
          "text": [
            "Response status code: 200\n",
            "\n",
            "Response headers: {'Date': 'Wed, 03 Mar 2021 10:39:39 GMT', 'Server': 'Apache', 'Expires': '0', 'Cache-Control': 'private, post-check=0, pre-check=0, max-age=0', 'Pragma': 'no-cache', 'X-Frame-Options': 'deny', 'Set-Cookie': 'domaincheck=1; expires=Thu, 03-Mar-2022 10:39:39 GMT; Max-Age=31536000; path=/; domain=.bateau24.ch, lan=chfr; expires=Thu, 03-Mar-2022 10:39:39 GMT; Max-Age=31536000; path=/; domain=.bateau24.ch, data=a%3A1%3A%7Bs%3A3%3A%22cat%22%3Ba%3A1%3A%7Bi%3A2%3Bi%3A1%3B%7D%7D; expires=Thu, 03-Mar-2022 10:39:39 GMT; Max-Age=31536000; path=/; domain=.bateau24.ch', 'Upgrade': 'h2', 'Connection': 'Upgrade, Keep-Alive', 'Vary': 'Accept-Encoding', 'Content-Encoding': 'gzip', 'Content-Length': '12005', 'Keep-Alive': 'timeout=4, max=256', 'Content-Type': 'text/html; charset=utf-8'}\n",
            "\n"
          ],
          "name": "stdout"
        }
      ]
    },
    {
      "cell_type": "markdown",
      "metadata": {
        "id": "w0GBTKBQ8XAX"
      },
      "source": [
        "Now, lets see the raw content of our request. The body of the response here will be in HTML since we are asking for a webpage. Different format such as  JSON or XML could also be imagined for web services."
      ]
    },
    {
      "cell_type": "code",
      "metadata": {
        "colab": {
          "base_uri": "https://localhost:8080/"
        },
        "id": "ULW1S7GM8VOg",
        "outputId": "fc93848d-b599-4afc-82b3-88052c6203b7"
      },
      "source": [
        "print('Response body: {0}'.format(r.text))\n"
      ],
      "execution_count": null,
      "outputs": [
        {
          "output_type": "stream",
          "text": [
            "Response body: <!doctype html>\n",
            "<html class=\"no-js\" lang=\"fr\" data-lan=\"chfr\">\n",
            "<head>\n",
            "<meta charset=\"utf-8\">\n",
            "<meta http-equiv=\"X-UA-Compatible\" content=\"IE=edge\">\n",
            "<title>Furtif 28, modèle unique., 2020, 2h, CHF 295.000,- | bateau24.ch</title>\n",
            "<meta name=\"keywords\" content=\"furtif 28, mod&egrave;le unique.,bateau &agrave; console centrale,bateau &agrave; moteur,nouveau bateau disponible en stock,acheter\" />\n",
            "<meta name=\"description\" content=\"Furtif 28, mod&egrave;le unique. acheter - Ann&eacute;e de fabrication: 2020, Longueur: 9.00 m, Largeur: 2.80 m - Suivez ce lien pour plus de details, photos, informations et coordonnées : bateau24.ch (ID: 463101)\" />\n",
            "<meta name=\"revisit-after\" content=\"1 days\" />\n",
            "<meta name=\"page-topic\" content=\"Bateaux d'occasion, Bateaux\" />\n",
            "<meta name=\"page-type\" content=\"Annonces, Petites annonces\" />\n",
            "<meta name=\"audience\" content=\"all\" />\n",
            "<meta name=\"publisher\" content=\"bateau24.ch\" />\n",
            "<meta name=\"copyright\" content=\"bateau24.ch\" />\n",
            "<meta name=\"distribution\" content=\"global\" />\n",
            "<meta name=\"author\" content=\"bateau24.ch\" />\n",
            "<meta name=\"language\" content=\"fr\" />\n",
            "<meta name=\"country\" content=\"CH\" />\n",
            "<meta name=\"viewport\" content=\"width=device-width, initial-scale=1\">\n",
            "<meta name=\"robots\" content=\"index,follow,noodp\" />\n",
            "<meta property=\"fb:pages\" content=\"111820172182512\">\n",
            "<link rel=\"shortcut icon\" href=\"/favicon.ico\">\n",
            "<link rel=\"apple-touch-icon\" sizes=\"180x180\" href=\"/v/a012510/assets/favicons/apple-touch-icon.png\">\n",
            "<link rel=\"icon\" type=\"image/png\" sizes=\"32x32\" href=\"/v/a012510/assets/favicons/favicon-32x32.png\">\n",
            "<link rel=\"icon\" type=\"image/png\" sizes=\"16x16\" href=\"/v/a012510/assets/favicons/favicon-16x16.png\">\n",
            "<link rel=\"manifest\" href=\"/chfr/site.webmanifest\">\n",
            "<link rel=\"mask-icon\" href=\"/v/a012510/assets/favicons/safari-pinned-tab.svg\" color=\"#0073c0\">\n",
            "<link rel=\"shortcut icon\" href=\"/v/a012510/assets/favicons/favicon.ico\">\n",
            "<meta name=\"msapplication-TileColor\" content=\"#f5f5f6\">\n",
            "<meta name=\"msapplication-config\" content=\"/v/a012510/assets/favicons/browserconfig.xml\">\n",
            "<meta name=\"theme-color\" content=\"#ffffff\">\n",
            "<link rel=\"stylesheet\" href=\"/v/a012510/css/main.min.css\"><link rel=\"preload\" href=\"/v/a012510/fonts/source-sans-pro-v14-latin-regular.woff2\" as=\"font\" type=\"font/woff2\" crossorigin>\n",
            "<link rel=\"preload\" href=\"/v/a012510/fonts/source-sans-pro-v14-latin-700.woff2\" as=\"font\" type=\"font/woff2\" crossorigin>\n",
            "<link rel=\"preload\" href=\"/v/a012510/fonts/oswald-v35-latin-500.woff2\" as=\"font\" type=\"font/woff2\" crossorigin><script src=\"https://adnz.co/header.js?adTagId=121\"></script><link rel=\"alternate\" type=\"application/rss+xml\" title=\"bateau24.ch - Nouvelle annonces\" href=\"https://www.bateau24.ch/chfr/rss/latestAds.xml\">\n",
            "<link rel=\"canonical\" href=\"https://www.bateau24.ch/chfr/bateauxamoteur/furtif-28-modele-unique/detail/463101/\">\n",
            "<link rel=\"alternate\" hreflang=\"de\" href=\"https://www.boat24.com/de/motorboote/furtif-28-modele-unique/detail/463101/\">\n",
            "<link rel=\"alternate\" hreflang=\"de-AT\" href=\"https://www.boat24.com/at/motorboote/furtif-28-modele-unique/detail/463101/\">\n",
            "<link rel=\"alternate\" hreflang=\"it\" href=\"https://www.boat24.com/it/barcheamotore/furtif-28-modele-unique/detail/463101/\">\n",
            "<link rel=\"alternate\" hreflang=\"fr\" href=\"https://www.boat24.com/fr/bateauxamoteur/furtif-28-modele-unique/detail/463101/\">\n",
            "<link rel=\"alternate\" hreflang=\"es\" href=\"https://www.boat24.com/es/barcosamotor/furtif-28-modele-unique/detail/463101/\">\n",
            "<link rel=\"alternate\" hreflang=\"pt\" href=\"https://www.boat24.com/pt/barcosamotor/furtif-28-modele-unique/detail/463101/\">\n",
            "<link rel=\"alternate\" hreflang=\"nl\" href=\"https://www.boat24.com/nl/motorboten/furtif-28-modele-unique/detail/463101/\">\n",
            "<link rel=\"alternate\" hreflang=\"nl-BE\" href=\"https://www.boat24.com/bn/motorboten/furtif-28-modele-unique/detail/463101/\">\n",
            "<link rel=\"alternate\" hreflang=\"fr-BE\" href=\"https://www.boat24.com/bf/bateauxamoteur/furtif-28-modele-unique/detail/463101/\">\n",
            "<link rel=\"alternate\" hreflang=\"da\" href=\"https://www.boat24.com/dk/motorbade/furtif-28-modele-unique/detail/463101/\">\n",
            "<link rel=\"alternate\" hreflang=\"sv\" href=\"https://www.boat24.com/se/motorbatar/furtif-28-modele-unique/detail/463101/\">\n",
            "<link rel=\"alternate\" hreflang=\"no\" href=\"https://www.boat24.com/no/motorbater/furtif-28-modele-unique/detail/463101/\">\n",
            "<link rel=\"alternate\" hreflang=\"fi\" href=\"https://www.boat24.com/fi/moottoriveneet/furtif-28-modele-unique/detail/463101/\">\n",
            "<link rel=\"alternate\" hreflang=\"en-GB\" href=\"https://www.boat24.com/uk/powerboats/furtif-28-modele-unique/detail/463101/\">\n",
            "<link rel=\"alternate\" hreflang=\"en-CH\" href=\"https://www.boat24.ch/chen/powerboats/furtif-28-modele-unique/detail/463101/\">\n",
            "<link rel=\"alternate\" hreflang=\"it-CH\" href=\"https://www.barca24.ch/chit/barcheamotore/furtif-28-modele-unique/detail/463101/\">\n",
            "<link rel=\"alternate\" hreflang=\"fr-CH\" href=\"https://www.bateau24.ch/chfr/bateauxamoteur/furtif-28-modele-unique/detail/463101/\">\n",
            "<link rel=\"alternate\" hreflang=\"de-CH\" href=\"https://www.boot24.ch/chde/motorboote/furtif-28-modele-unique/detail/463101/\">\n",
            "<link rel=\"alternate\" hreflang=\"en\" href=\"https://www.boat24.com/en/powerboats/furtif-28-modele-unique/detail/463101/\">\n",
            "<link rel=\"alternate\" hreflang=\"x-default\" href=\"https://www.boat24.com/en/powerboats/furtif-28-modele-unique/detail/463101/\">\n",
            "<script type=\"application/ld+json\">{\"@context\":\"http:\\/\\/schema.org\",\"@graph\":[{\"@type\":\"Vehicle\",\"sku\":\"463101\",\"category\":{\"@type\":\"Thing\",\"name\":\"Bateau \\u00e0 moteur\",\"url\":\"https:\\/\\/www.bateau24.ch\\/chfr\\/bateauxamoteur\\/\"},\"name\":\"Furtif 28, mod\\u00e8le unique.\",\"description\":\"Bateau neuf, construction unique du chantier naval du Vieux Rh\\u00f4ne SA \\u00e0 Noville\\r\\nHomologation CE cat\\u00e9gorie C, 8 personnes + bagages.\\r\\nPlace de port possible au chantier naval du Vieux Rh\\u00f4ne\",\"material\":\"Bois\",\"productionDate\":\"2020\",\"image\":\"https:\\/\\/d196r9c7cfkkpm.cloudfront.net\\/thumbs\\/large\\/463101-1613370867.jpg\",\"offers\":[{\"@type\":\"Offer\",\"price\":\"295000\",\"priceCurrency\":\"CHF\",\"itemCondition\":\"NewCondition\",\"availability\":\"InStock\",\"url\":\"https:\\/\\/www.bateau24.ch\\/chfr\\/bateauxamoteur\\/furtif-28-modele-unique\\/detail\\/463101\\/\",\"offeredBy\":{\"@type\":\"Person\",\"name\":\"Monsieur Ries\",\"telephone\":\"\"}}],\"additionalType\":\"Product\",\"bodyType\":\"Bateau \\u00e0 console centrale\",\"color\":\"\",\"fuelType\":\"sans plomb\",\"vehicleEngine\":\"Mercury 1 x 350 cv \\/ 257 kW\"}]}</script><meta property=\"fb:app_id\" content=\"266441973484279\" />\n",
            "<meta property=\"og:site_name\" content=\"bateau24.ch\" />\n",
            "<meta property=\"og:type\" content=\"product\">\n",
            "<meta property=\"og:title\" content=\"Furtif 28, modèle unique.\">\n",
            "<meta property=\"og:description\" content=\"Ann&amp;eacute;e de fabrication: 2020, Longueur: 9.00 m, Largeur: 2.80 m\">\n",
            "<meta property=\"og:image\" content=\"https://d196r9c7cfkkpm.cloudfront.net/thumbs/xxlarge/463101-1613370867.jpg\">\n",
            "<meta property=\"og:url\" content=\"https://www.bateau24.ch/chfr/bateauxamoteur/furtif-28-modele-unique/detail/463101/\">\n",
            "<meta property=\"og:updated_time\" content=\"1613370867\">\n",
            "</head>\n",
            "<body id=\"body\" class=\"l-page\">\n",
            "    <header class=\"header\"><a href=\"https://www.bateau24.ch/chfr/\" title=\"March&eacute; &agrave; bateaux d&#039;occasion\" class=\"header__logo\" rel=\"home\"><img src=\"https://www.bateau24.ch/logos/logo_bateau24_ch.svg\" alt=\"bateau24.ch\" class=\"logo\"></a>\n",
            "<nav class=\"header__nav l-hide--md-d\"><ul class=\"header__nav-list\"><li class=\"header__nav-item\"><a href=\"https://www.bateau24.ch/chfr/bateauxdoccasion/\" title=\"achat d&#039;un bateau\" class=\"header__nav-link\">Acheter</a></li><li class=\"header__nav-item\"><a href=\"https://www.bateau24.ch/chfr/charter/\" title=\"Louer un bateau\" class=\"header__nav-link\">Louer</a></li><li class=\"header__nav-item\"><a href=\"https://www.bateau24.ch/chfr/vendre/\" title=\"Vendre un bateau\" class=\"header__nav-link\">Vendre</a></li><li class=\"header__nav-item\"><a href=\"https://www.bateau24.ch/chfr/dealers/infos/\" title=\"Accès professionnels\" class=\"header__nav-link\">Accès professionnels</a></li></ul></nav><div class=\"header__side\"><a href=\"https://www.bateau24.ch/chfr/user/favorites/\" class=\"header__favorites\" style=\"display: none\"><span class=\"header__favorites-text\">Favoris</span><span class=\"badge\">0</span></a><a href=\"https://www.bateau24.ch/chfr/user/\" title=\"S'inscrire\" class=\"header__login button l-hide--sm-d\">S'inscrire</a><button class=\"header__menu js-menu-trigger\" data-menu=\"mainmenu\"><span class=\"l-hide--sm-d\">Menu</span></button>\n",
            "<div class=\"menu js-menu\" data-menu=\"mainmenu\">\n",
            "\t<div class=\"menu__container\">\n",
            "\t\t<div class=\"menu__header\">\n",
            "\t\t\t<a href=\"https://www.bateau24.ch/chfr/\" title=\"March&eacute; &agrave; bateaux d&#039;occasion\" class=\"menu__logo\" rel=\"home\"><img src=\"https://www.bateau24.ch/logos/logo_bateau24_ch.svg\" alt=\"bateau24.ch\" class=\"logo\"></a>\n",
            "\t\t\t<button class=\"menu__close js-menu-trigger\" data-menu=\"mainmenu\"></button>\n",
            "\t\t</div>\n",
            "\t\t<div class=\"menu__search\">\n",
            "\t\t\t<div class=\"search search--menu\">\n",
            "\t\t\t\t<form action=\"https://www.bateau24.ch/chfr/bateauxdoccasion/\" method=\"POST\">\n",
            "\t\t\t\t\t<div class=\"search__field\">\n",
            "\t\t\t\t\t\t<input type=\"search\" name=\"src\" class=\"search__input\" placeholder=\"Recherche\">\n",
            "\t\t\t\t\t\t<button type=\"submit\" class=\"search__button button button--primary js-search-action\" title=\"Chercher\">\n",
            "\t\t\t\t\t\t\t<span class=\"icon icon--search\"></span>\n",
            "\t\t\t\t\t\t</button>\n",
            "\t\t\t\t\t</div>\n",
            "\t\t\t\t</form>\n",
            "\t\t\t\t<a href=\"https://www.bateau24.ch/chfr/chercher/\" title=\"Recherche détaillée\" class=\"link link--internal link--small l-mt-16\">Recherche détaillée</a>\t\t\t</div>\n",
            "\t\t</div>\n",
            "\t\t<div class=\"menu__content l-mt-32 l-mb-32\"><a href=\"https://www.bateau24.ch/chfr/vendre/\" title=\"Vendre\" class=\"button button--primary button--full-width\">Vendre</a></div><div class=\"menu__usernav menu__usernav--light\"><a href=\"https://www.bateau24.ch/chfr/user/\" title=\"S'inscrire\" class=\"button button--full-width\">S'inscrire</a></div><ul class=\"menu__list\"><li class=\"menu__list-item\"><a href=\"https://www.bateau24.ch/chfr/service/kaufvertrag_fuer_gebrauchtboote/\" title=\"Contrat-modèle\" class=\"menu__list-link\">Contrat-modèle</a></li><li class=\"menu__list-item\"><a href=\"https://www.bateau24.ch/chfr/schools/\" title=\"Écoles de navigation\" class=\"menu__list-link\">Écoles de navigation</a></li><li class=\"menu__list-item\"><a href=\"https://www.bateau24.ch/chfr/service/temperaturen/\" title=\"Température de l'eau\" class=\"menu__list-link\">Température de l'eau</a></li></ul><ul class=\"menu__list menu__list--alternative\"><li class=\"menu__list-item menu__list-item--submenu js-accordion\"><a href=\"https://www.bateau24.ch/chfr/bateauxamoteur/\" title=\"Bateaux &agrave; moteur\" class=\"menu__list-link\"><img src=\"/img/alpha.gif\" class=\"icon icon--bigger image--lazy lazyload\" data-src=\"/v/a012510/assets/icons/boat-types/large/type-2-406.svg\" alt=\"Bateaux &agrave; moteur\">Bateaux à moteur</a><span class=\"menu__list-accordion js-accordion-trigger\"></span><ul class=\"menu__list\"><li class=\"menu__list-item\"><a href=\"https://www.bateau24.ch/chfr/bateauxamoteur/bateau-a-cabine/?typ=821\" title=\"Bateau &agrave; cabine\" class=\"menu__list-link\"><img src=\"/img/alpha.gif\" class=\"icon icon--bigger image--lazy lazyload\" data-src=\"/v/a012510/assets/icons/boat-types/large/type-2-821.svg\" alt=\"Bateau &agrave; cabine\">Bateau à cabine</a></li><li class=\"menu__list-item\"><a href=\"https://www.bateau24.ch/chfr/bateauxamoteur/catamaran-a-moteur/?typ=823\" title=\"Catamaran &agrave; moteur\" class=\"menu__list-link\"><img src=\"/img/alpha.gif\" class=\"icon icon--bigger image--lazy lazyload\" data-src=\"/v/a012510/assets/icons/boat-types/large/type-2-823.svg\" alt=\"Catamaran &agrave; moteur\">Catamaran à moteur</a></li><li class=\"menu__list-item\"><a href=\"https://www.bateau24.ch/chfr/bateauxamoteur/yacht-a-moteur/?typ=824\" title=\"Yacht &agrave; moteur\" class=\"menu__list-link\"><img src=\"/img/alpha.gif\" class=\"icon icon--bigger image--lazy lazyload\" data-src=\"/v/a012510/assets/icons/boat-types/large/type-2-824.svg\" alt=\"Yacht &agrave; moteur\">Yacht à moteur</a></li><li class=\"menu__list-item\"><a href=\"https://www.bateau24.ch/chfr/bateauxamoteur/offshore/?typ=825\" title=\"Offshore\" class=\"menu__list-link\"><img src=\"/img/alpha.gif\" class=\"icon icon--bigger image--lazy lazyload\" data-src=\"/v/a012510/assets/icons/boat-types/large/type-2-825.svg\" alt=\"Offshore\">Offshore</a></li><li class=\"menu__list-item\"><a href=\"https://www.bateau24.ch/chfr/bateauxamoteur/runabout/?typ=826\" title=\"Runabout\" class=\"menu__list-link\"><img src=\"/img/alpha.gif\" class=\"icon icon--bigger image--lazy lazyload\" data-src=\"/v/a012510/assets/icons/boat-types/large/type-2-826.svg\" alt=\"Runabout\">Runabout</a></li><li class=\"menu__list-item\"><a href=\"https://www.bateau24.ch/chfr/bateauxamoteur/bateau-de-sport/?typ=827\" title=\"Bateau de sport\" class=\"menu__list-link\"><img src=\"/img/alpha.gif\" class=\"icon icon--bigger image--lazy lazyload\" data-src=\"/v/a012510/assets/icons/boat-types/large/type-2-827.svg\" alt=\"Bateau de sport\">Bateau de sport</a></li><li class=\"menu__list-item\"><a href=\"https://www.bateau24.ch/chfr/bateauxamoteur/pilothouse/?typ=2127\" title=\"Pilothouse\" class=\"menu__list-link\"><img src=\"/img/alpha.gif\" class=\"icon icon--bigger image--lazy lazyload\" data-src=\"/v/a012510/assets/icons/boat-types/large/type-2-2127.svg\" alt=\"Pilothouse\">Pilothouse</a></li><li class=\"menu__list-item\"><a href=\"https://www.bateau24.ch/chfr/bateauxamoteur/bowrider/?typ=2104\" title=\"Bowrider\" class=\"menu__list-link\"><img src=\"/img/alpha.gif\" class=\"icon icon--bigger image--lazy lazyload\" data-src=\"/v/a012510/assets/icons/boat-types/large/type-2-2104.svg\" alt=\"Bowrider\">Bowrider</a></li><li class=\"menu__list-item\"><a href=\"https://www.bateau24.ch/chfr/bateauxamoteur/deck-boat/?typ=2105\" title=\"Deck-boat\" class=\"menu__list-link\"><img src=\"/img/alpha.gif\" class=\"icon icon--bigger image--lazy lazyload\" data-src=\"/v/a012510/assets/icons/boat-types/large/type-2-2105.svg\" alt=\"Deck-boat\">Deck-boat</a></li><li class=\"menu__list-item\"><a href=\"https://www.bateau24.ch/chfr/bateauxamoteur/bateau-de-travail/?typ=562\" title=\"Bateau de travail\" class=\"menu__list-link\"><img src=\"/img/alpha.gif\" class=\"icon icon--bigger image--lazy lazyload\" data-src=\"/v/a012510/assets/icons/boat-types/large/type-2-562.svg\" alt=\"Bateau de travail\">Bateau de travail</a></li><li class=\"menu__list-item\"><a href=\"https://www.bateau24.ch/chfr/bateauxamoteur/bateau-de-pche/?typ=1919\" title=\"Bateau de p&ecirc;che\" class=\"menu__list-link\"><img src=\"/img/alpha.gif\" class=\"icon icon--bigger image--lazy lazyload\" data-src=\"/v/a012510/assets/icons/boat-types/large/type-2-1919.svg\" alt=\"Bateau de p&ecirc;che\">Bateau de pêche</a></li><li class=\"menu__list-item\"><a href=\"https://www.bateau24.ch/chfr/bateauxamoteur/bateau-a-deplacement/?typ=3493\" title=\"Bateau &agrave; d&eacute;placement\" class=\"menu__list-link\"><img src=\"/img/alpha.gif\" class=\"icon icon--bigger image--lazy lazyload\" data-src=\"/v/a012510/assets/icons/boat-types/large/type-2-3493.svg\" alt=\"Bateau &agrave; d&eacute;placement\">Bateau à déplacement</a></li><li class=\"menu__list-item\"><a href=\"https://www.bateau24.ch/chfr/bateauxamoteur/bateau-maison/?typ=2123\" title=\"Bateau-maison\" class=\"menu__list-link\"><img src=\"/img/alpha.gif\" class=\"icon icon--bigger image--lazy lazyload\" data-src=\"/v/a012510/assets/icons/boat-types/large/type-2-2123.svg\" alt=\"Bateau-maison\">Bateau-maison</a></li><li class=\"menu__list-item\"><a href=\"https://www.bateau24.ch/chfr/bateauxamoteur/flybridge/?typ=406\" title=\"Flybridge\" class=\"menu__list-link\"><img src=\"/img/alpha.gif\" class=\"icon icon--bigger image--lazy lazyload\" data-src=\"/v/a012510/assets/icons/boat-types/large/type-2-406.svg\" alt=\"Flybridge\">Flybridge</a></li><li class=\"menu__list-item\"><a href=\"https://www.bateau24.ch/chfr/bateauxamoteur/superyacht/?typ=2126\" title=\"Superyacht\" class=\"menu__list-link\"><img src=\"/img/alpha.gif\" class=\"icon icon--bigger image--lazy lazyload\" data-src=\"/v/a012510/assets/icons/boat-types/large/type-2-2126.svg\" alt=\"Superyacht\">Superyacht</a></li><li class=\"menu__list-item\"><a href=\"https://www.bateau24.ch/chfr/bateauxamoteur/bateau-ponton/?typ=2113\" title=\"Bateau ponton\" class=\"menu__list-link\"><img src=\"/img/alpha.gif\" class=\"icon icon--bigger image--lazy lazyload\" data-src=\"/v/a012510/assets/icons/boat-types/large/type-2-2113.svg\" alt=\"Bateau ponton\">Bateau ponton</a></li><li class=\"menu__list-item\"><a href=\"https://www.bateau24.ch/chfr/bateauxamoteur/hardtop/?typ=2665\" title=\"Hardtop\" class=\"menu__list-link\"><img src=\"/img/alpha.gif\" class=\"icon icon--bigger image--lazy lazyload\" data-src=\"/v/a012510/assets/icons/boat-types/large/type-2-2665.svg\" alt=\"Hardtop\">Hardtop</a></li><li class=\"menu__list-item\"><a href=\"https://www.bateau24.ch/chfr/bateauxamoteur/classiques/?typ=4545\" title=\"Classiques\" class=\"menu__list-link\"><img src=\"/img/alpha.gif\" class=\"icon icon--bigger image--lazy lazyload\" data-src=\"/v/a012510/assets/icons/boat-types/large/type-2-4545.svg\" alt=\"Classiques\">Classiques</a></li><li class=\"menu__list-item\"><a href=\"https://www.bateau24.ch/chfr/bateauxamoteur/bateau-a-console-centrale/?typ=2119\" title=\"Bateau &agrave; console centrale\" class=\"menu__list-link\"><img src=\"/img/alpha.gif\" class=\"icon icon--bigger image--lazy lazyload\" data-src=\"/v/a012510/assets/icons/boat-types/large/type-2-2119.svg\" alt=\"Bateau &agrave; console centrale\">Bateau à console centrale</a></li><li class=\"menu__list-item\"><a href=\"https://www.bateau24.ch/chfr/bateauxamoteur/navire-a-passagers/?typ=4551\" title=\"Navire &agrave; passagers\" class=\"menu__list-link\"><img src=\"/img/alpha.gif\" class=\"icon icon--bigger image--lazy lazyload\" data-src=\"/v/a012510/assets/icons/boat-types/large/type-2-4551.svg\" alt=\"Navire &agrave; passagers\">Navire à passagers</a></li><li class=\"menu__list-item\"><a href=\"https://www.bateau24.ch/chfr/bateauxamoteur/ski-nautique/?typ=4552\" title=\"Ski nautique\" class=\"menu__list-link\"><img src=\"/img/alpha.gif\" class=\"icon icon--bigger image--lazy lazyload\" data-src=\"/v/a012510/assets/icons/boat-types/large/type-2-4552.svg\" alt=\"Ski nautique\">Ski nautique</a></li><li class=\"menu__list-item\"><a href=\"https://www.bateau24.ch/chfr/bateauxamoteur/wakeboardwakesurf/?typ=4553\" title=\"Wakeboard/Wakesurf\" class=\"menu__list-link\"><img src=\"/img/alpha.gif\" class=\"icon icon--bigger image--lazy lazyload\" data-src=\"/v/a012510/assets/icons/boat-types/large/type-2-4553.svg\" alt=\"Wakeboard/Wakesurf\">Wakeboard/wakesurf</a></li><li class=\"menu__list-item\"><a href=\"https://www.bateau24.ch/chfr/bateauxamoteur/chaloupe/?typ=4562\" title=\"Chaloupe\" class=\"menu__list-link\"><img src=\"/img/alpha.gif\" class=\"icon icon--bigger image--lazy lazyload\" data-src=\"/v/a012510/assets/icons/boat-types/large/type-2-4562.svg\" alt=\"Chaloupe\">Chaloupe</a></li></ul></li><li class=\"menu__list-item menu__list-item--submenu js-accordion\"><a href=\"https://www.bateau24.ch/chfr/voiliers/\" title=\"Voiliers\" class=\"menu__list-link\"><img src=\"/img/alpha.gif\" class=\"icon icon--bigger image--lazy lazyload\" data-src=\"/v/a012510/assets/icons/boat-types/large/type-1-230.svg\" alt=\"Voiliers\">Voiliers</a><span class=\"menu__list-accordion js-accordion-trigger\"></span><ul class=\"menu__list\"><li class=\"menu__list-item\"><a href=\"https://www.bateau24.ch/chfr/voiliers/yacht-a-voile/?typ=230\" title=\"Yacht &agrave; voile\" class=\"menu__list-link\"><img src=\"/img/alpha.gif\" class=\"icon icon--bigger image--lazy lazyload\" data-src=\"/v/a012510/assets/icons/boat-types/large/type-1-230.svg\" alt=\"Yacht &agrave; voile\">Yacht à voile</a></li><li class=\"menu__list-item\"><a href=\"https://www.bateau24.ch/chfr/voiliers/catamaran/?typ=231\" title=\"Catamaran\" class=\"menu__list-link\"><img src=\"/img/alpha.gif\" class=\"icon icon--bigger image--lazy lazyload\" data-src=\"/v/a012510/assets/icons/boat-types/large/type-1-231.svg\" alt=\"Catamaran\">Catamaran</a></li><li class=\"menu__list-item\"><a href=\"https://www.bateau24.ch/chfr/voiliers/voilier-a-moteur-auxiliaire/?typ=232\" title=\"Voilier &agrave; moteur auxiliaire\" class=\"menu__list-link\"><img src=\"/img/alpha.gif\" class=\"icon icon--bigger image--lazy lazyload\" data-src=\"/v/a012510/assets/icons/boat-types/large/type-1-232.svg\" alt=\"Voilier &agrave; moteur auxiliaire\">Voilier à moteur auxiliaire</a></li><li class=\"menu__list-item\"><a href=\"https://www.bateau24.ch/chfr/voiliers/quillard/?typ=235\" title=\"Quillard\" class=\"menu__list-link\"><img src=\"/img/alpha.gif\" class=\"icon icon--bigger image--lazy lazyload\" data-src=\"/v/a012510/assets/icons/boat-types/large/type-1-235.svg\" alt=\"Quillard\">Quillard</a></li><li class=\"menu__list-item\"><a href=\"https://www.bateau24.ch/chfr/voiliers/deriveur-yole/?typ=236\" title=\"D&eacute;riveur / Yole\" class=\"menu__list-link\"><img src=\"/img/alpha.gif\" class=\"icon icon--bigger image--lazy lazyload\" data-src=\"/v/a012510/assets/icons/boat-types/large/type-1-236.svg\" alt=\"D&eacute;riveur / Yole\">Dériveur / yole</a></li><li class=\"menu__list-item\"><a href=\"https://www.bateau24.ch/chfr/voiliers/bateau-de-regate/?typ=566\" title=\"Bateau de r&eacute;gate\" class=\"menu__list-link\"><img src=\"/img/alpha.gif\" class=\"icon icon--bigger image--lazy lazyload\" data-src=\"/v/a012510/assets/icons/boat-types/large/type-1-566.svg\" alt=\"Bateau de r&eacute;gate\">Bateau de régate</a></li><li class=\"menu__list-item\"><a href=\"https://www.bateau24.ch/chfr/voiliers/trimaran/?typ=2577\" title=\"Trimaran\" class=\"menu__list-link\"><img src=\"/img/alpha.gif\" class=\"icon icon--bigger image--lazy lazyload\" data-src=\"/v/a012510/assets/icons/boat-types/large/type-1-2577.svg\" alt=\"Trimaran\">Trimaran</a></li><li class=\"menu__list-item\"><a href=\"https://www.bateau24.ch/chfr/voiliers/daysailer/?typ=2114\" title=\"Daysailer\" class=\"menu__list-link\"><img src=\"/img/alpha.gif\" class=\"icon icon--bigger image--lazy lazyload\" data-src=\"/v/a012510/assets/icons/boat-types/large/type-1-2114.svg\" alt=\"Daysailer\">Daysailer</a></li><li class=\"menu__list-item\"><a href=\"https://www.bateau24.ch/chfr/voiliers/flatboat/?typ=4193\" title=\"flatboat\" class=\"menu__list-link\"><img src=\"/img/alpha.gif\" class=\"icon icon--bigger image--lazy lazyload\" data-src=\"/v/a012510/assets/icons/boat-types/large/type-1-4193.svg\" alt=\"flatboat\">Flatboat</a></li><li class=\"menu__list-item\"><a href=\"https://www.bateau24.ch/chfr/voiliers/superyacht/?typ=2126\" title=\"Superyacht\" class=\"menu__list-link\"><img src=\"/img/alpha.gif\" class=\"icon icon--bigger image--lazy lazyload\" data-src=\"/v/a012510/assets/icons/boat-types/large/type-1-2126.svg\" alt=\"Superyacht\">Superyacht</a></li><li class=\"menu__list-item\"><a href=\"https://www.bateau24.ch/chfr/voiliers/ketch/?typ=390\" title=\"Ketch\" class=\"menu__list-link\"><img src=\"/img/alpha.gif\" class=\"icon icon--bigger image--lazy lazyload\" data-src=\"/v/a012510/assets/icons/boat-types/large/type-1-390.svg\" alt=\"Ketch\">Ketch</a></li><li class=\"menu__list-item\"><a href=\"https://www.bateau24.ch/chfr/voiliers/classiques/?typ=4545\" title=\"Classiques\" class=\"menu__list-link\"><img src=\"/img/alpha.gif\" class=\"icon icon--bigger image--lazy lazyload\" data-src=\"/v/a012510/assets/icons/boat-types/large/type-1-4545.svg\" alt=\"Classiques\">Classiques</a></li><li class=\"menu__list-item\"><a href=\"https://www.bateau24.ch/chfr/voiliers/goelette/?typ=4546\" title=\"Go&eacute;lette\" class=\"menu__list-link\"><img src=\"/img/alpha.gif\" class=\"icon icon--bigger image--lazy lazyload\" data-src=\"/v/a012510/assets/icons/boat-types/large/type-1-4546.svg\" alt=\"Go&eacute;lette\">Goélette</a></li><li class=\"menu__list-item\"><a href=\"https://www.bateau24.ch/chfr/voiliers/cockpit-central/?typ=4547\" title=\"Cockpit central\" class=\"menu__list-link\"><img src=\"/img/alpha.gif\" class=\"icon icon--bigger image--lazy lazyload\" data-src=\"/v/a012510/assets/icons/boat-types/large/type-1-4547.svg\" alt=\"Cockpit central\">Cockpit central</a></li><li class=\"menu__list-item\"><a href=\"https://www.bateau24.ch/chfr/voiliers/croisiere/?typ=4548\" title=\"Croisi&egrave;re\" class=\"menu__list-link\"><img src=\"/img/alpha.gif\" class=\"icon icon--bigger image--lazy lazyload\" data-src=\"/v/a012510/assets/icons/boat-types/large/type-1-4548.svg\" alt=\"Croisi&egrave;re\">Croisière</a></li><li class=\"menu__list-item\"><a href=\"https://www.bateau24.ch/chfr/voiliers/salon-de-pont/?typ=4555\" title=\"Salon de pont\" class=\"menu__list-link\"><img src=\"/img/alpha.gif\" class=\"icon icon--bigger image--lazy lazyload\" data-src=\"/v/a012510/assets/icons/boat-types/large/type-1-4555.svg\" alt=\"Salon de pont\">Salon de pont</a></li><li class=\"menu__list-item\"><a href=\"https://www.bateau24.ch/chfr/voiliers/deriveur-de-croisiere/?typ=4563\" title=\"D&eacute;riveur de croisi&egrave;re\" class=\"menu__list-link\"><img src=\"/img/alpha.gif\" class=\"icon icon--bigger image--lazy lazyload\" data-src=\"/v/a012510/assets/icons/boat-types/large/type-1-4563.svg\" alt=\"D&eacute;riveur de croisi&egrave;re\">Dériveur de croisière</a></li></ul></li><li class=\"menu__list-item menu__list-item--submenu js-accordion\"><a href=\"https://www.bateau24.ch/chfr/canotspneumatiques/\" title=\"Canots pneumatiques\" class=\"menu__list-link\"><img src=\"/img/alpha.gif\" class=\"icon icon--bigger image--lazy lazyload\" data-src=\"/v/a012510/assets/icons/boat-types/large/type-4-563.svg\" alt=\"Canots pneumatiques\">Canots pneumatiques</a><span class=\"menu__list-accordion js-accordion-trigger\"></span><ul class=\"menu__list\"><li class=\"menu__list-item\"><a href=\"https://www.bateau24.ch/chfr/canotspneumatiques/bateau-annexe/?typ=563\" title=\"Bateau annexe\" class=\"menu__list-link\"><img src=\"/img/alpha.gif\" class=\"icon icon--bigger image--lazy lazyload\" data-src=\"/v/a012510/assets/icons/boat-types/large/type-4-563.svg\" alt=\"Bateau annexe\">Bateau annexe</a></li><li class=\"menu__list-item\"><a href=\"https://www.bateau24.ch/chfr/canotspneumatiques/canot-pneumatique-a-coque-rigide/?typ=2103\" title=\"Canot pneumatique &agrave; coque rigide\" class=\"menu__list-link\"><img src=\"/img/alpha.gif\" class=\"icon icon--bigger image--lazy lazyload\" data-src=\"/v/a012510/assets/icons/boat-types/large/type-4-2103.svg\" alt=\"Canot pneumatique &agrave; coque rigide\">Canot pneumatique à coque rigide</a></li></ul></li><li class=\"menu__list-item menu__list-item--submenu js-accordion\"><a href=\"https://www.bateau24.ch/chfr/petitsbateaux/\" title=\"Petits bateaux\" class=\"menu__list-link\"><img src=\"/img/alpha.gif\" class=\"icon icon--bigger image--lazy lazyload\" data-src=\"/v/a012510/assets/icons/boat-types/large/type-5-3223.svg\" alt=\"Petits bateaux\">Petits bateaux</a><span class=\"menu__list-accordion js-accordion-trigger\"></span><ul class=\"menu__list\"><li class=\"menu__list-item\"><a href=\"https://www.bateau24.ch/chfr/petitsbateaux/bateau-annexe/?typ=563\" title=\"Bateau annexe\" class=\"menu__list-link\"><img src=\"/img/alpha.gif\" class=\"icon icon--bigger image--lazy lazyload\" data-src=\"/v/a012510/assets/icons/boat-types/large/type-5-563.svg\" alt=\"Bateau annexe\">Bateau annexe</a></li><li class=\"menu__list-item\"><a href=\"https://www.bateau24.ch/chfr/petitsbateaux/canoe/?typ=2307\" title=\"Cano&euml;\" class=\"menu__list-link\"><img src=\"/img/alpha.gif\" class=\"icon icon--bigger image--lazy lazyload\" data-src=\"/v/a012510/assets/icons/boat-types/large/type-5-2307.svg\" alt=\"Cano&euml;\">Canoë</a></li><li class=\"menu__list-item\"><a href=\"https://www.bateau24.ch/chfr/petitsbateaux/bateau-a-rame/?typ=3223\" title=\"Bateau &agrave; rame\" class=\"menu__list-link\"><img src=\"/img/alpha.gif\" class=\"icon icon--bigger image--lazy lazyload\" data-src=\"/v/a012510/assets/icons/boat-types/large/type-5-3223.svg\" alt=\"Bateau &agrave; rame\">Bateau à rame</a></li><li class=\"menu__list-item\"><a href=\"https://www.bateau24.ch/chfr/petitsbateaux/jet-ski/?typ=2111\" title=\"Jet-Ski\" class=\"menu__list-link\"><img src=\"/img/alpha.gif\" class=\"icon icon--bigger image--lazy lazyload\" data-src=\"/v/a012510/assets/icons/boat-types/large/type-5-2111.svg\" alt=\"Jet-Ski\">Jet-ski</a></li><li class=\"menu__list-item\"><a href=\"https://www.bateau24.ch/chfr/petitsbateaux/pedalo/?typ=4554\" title=\"P&eacute;dalo\" class=\"menu__list-link\"><img src=\"/img/alpha.gif\" class=\"icon icon--bigger image--lazy lazyload\" data-src=\"/v/a012510/assets/icons/boat-types/large/type-5-4554.svg\" alt=\"P&eacute;dalo\">Pédalo</a></li></ul></li><li class=\"menu__list-item menu__list-item--submenu js-accordion\"><a href=\"https://www.bateau24.ch/chfr/remorques/\" title=\"Remorques\" class=\"menu__list-link\"><img src=\"/img/alpha.gif\" class=\"icon icon--bigger image--lazy lazyload\" data-src=\"/v/a012510/assets/icons/boat-types/large/type-7-679.svg\" alt=\"Remorques\">Remorques</a><span class=\"menu__list-accordion js-accordion-trigger\"></span><ul class=\"menu__list\"><li class=\"menu__list-item\"><a href=\"https://www.bateau24.ch/chfr/remorques/un-essieu/?typ=677\" title=\"un essieu\" class=\"menu__list-link\"><img src=\"/img/alpha.gif\" class=\"icon icon--bigger image--lazy lazyload\" data-src=\"/v/a012510/assets/icons/boat-types/large/type-7-677.svg\" alt=\"un essieu\">Un essieu</a></li><li class=\"menu__list-item\"><a href=\"https://www.bateau24.ch/chfr/remorques/tandem/?typ=679\" title=\"Tandem\" class=\"menu__list-link\"><img src=\"/img/alpha.gif\" class=\"icon icon--bigger image--lazy lazyload\" data-src=\"/v/a012510/assets/icons/boat-types/large/type-7-679.svg\" alt=\"Tandem\">Tandem</a></li><li class=\"menu__list-item\"><a href=\"https://www.bateau24.ch/chfr/remorques/trois-essieux/?typ=676\" title=\"trois essieux\" class=\"menu__list-link\"><img src=\"/img/alpha.gif\" class=\"icon icon--bigger image--lazy lazyload\" data-src=\"/v/a012510/assets/icons/boat-types/large/type-7-676.svg\" alt=\"trois essieux\">Trois essieux</a></li><li class=\"menu__list-item\"><a href=\"https://www.bateau24.ch/chfr/remorques/remorque-de-port/?typ=678\" title=\"Remorque de port\" class=\"menu__list-link\"><img src=\"/img/alpha.gif\" class=\"icon icon--bigger image--lazy lazyload\" data-src=\"/v/a012510/assets/icons/boat-types/large/type-7-678.svg\" alt=\"Remorque de port\">Remorque de port</a></li><li class=\"menu__list-item\"><a href=\"https://www.bateau24.ch/chfr/remorques/remorque-dhivernage/?typ=681\" title=\"Remorque d&#039;hivernage\" class=\"menu__list-link\"><img src=\"/img/alpha.gif\" class=\"icon icon--bigger image--lazy lazyload\" data-src=\"/v/a012510/assets/icons/boat-types/large/type-7-681.svg\" alt=\"Remorque d&#039;hivernage\">Remorque d'hivernage</a></li></ul></li><li class=\"menu__list-item menu__list-item--submenu js-accordion\"><a href=\"https://www.bateau24.ch/chfr/moteurs/\" title=\"Moteurs\" class=\"menu__list-link\"><img src=\"/img/alpha.gif\" class=\"icon icon--bigger image--lazy lazyload\" data-src=\"/v/a012510/assets/icons/boat-types/large/type-8-352.svg\" alt=\"Moteurs\">Moteurs</a><span class=\"menu__list-accordion js-accordion-trigger\"></span><ul class=\"menu__list\"><li class=\"menu__list-item\"><a href=\"https://www.bateau24.ch/chfr/moteurs/hors-bord/?typ=352\" title=\"Hors-bord\" class=\"menu__list-link\"><img src=\"/img/alpha.gif\" class=\"icon icon--bigger image--lazy lazyload\" data-src=\"/v/a012510/assets/icons/boat-types/large/type-8-352.svg\" alt=\"Hors-bord\">Hors-bord</a></li><li class=\"menu__list-item\"><a href=\"https://www.bateau24.ch/chfr/moteurs/moteur-inboard/?typ=1313\" title=\"Moteur inboard\" class=\"menu__list-link\"><img src=\"/img/alpha.gif\" class=\"icon icon--bigger image--lazy lazyload\" data-src=\"/v/a012510/assets/icons/boat-types/large/type-8-1313.svg\" alt=\"Moteur inboard\">Moteur inboard</a></li></ul></li><li class=\"menu__list-item menu__list-item--submenu js-accordion\"><a href=\"https://www.bateau24.ch/chfr/placesdamarrage/\" title=\"Places d&#039;amarrage\" class=\"menu__list-link\"><img src=\"/img/alpha.gif\" class=\"icon icon--bigger image--lazy lazyload\" data-src=\"/v/a012510/assets/icons/boat-types/large/type-9-4559.svg\" alt=\"Places d&#039;amarrage\">Places d'amarrage</a><span class=\"menu__list-accordion js-accordion-trigger\"></span><ul class=\"menu__list\"><li class=\"menu__list-item\"><a href=\"https://www.bateau24.ch/chfr/placesdamarrage/hangar-chauffe/?typ=1346\" title=\"Hangar chauff&eacute;\" class=\"menu__list-link\"><img src=\"/img/alpha.gif\" class=\"icon icon--bigger image--lazy lazyload\" data-src=\"/v/a012510/assets/icons/boat-types/large/type-9-1346.svg\" alt=\"Hangar chauff&eacute;\">Hangar chauffé</a></li><li class=\"menu__list-item\"><a href=\"https://www.bateau24.ch/chfr/placesdamarrage/hangar-non-chauffe/?typ=1347\" title=\"Hangar non chauff&eacute;\" class=\"menu__list-link\"><img src=\"/img/alpha.gif\" class=\"icon icon--bigger image--lazy lazyload\" data-src=\"/v/a012510/assets/icons/boat-types/large/type-9-1347.svg\" alt=\"Hangar non chauff&eacute;\">Hangar non chauffé</a></li><li class=\"menu__list-item\"><a href=\"https://www.bateau24.ch/chfr/placesdamarrage/hangar-pour-bateaux/?typ=1342\" title=\"Hangar pour bateaux\" class=\"menu__list-link\"><img src=\"/img/alpha.gif\" class=\"icon icon--bigger image--lazy lazyload\" data-src=\"/v/a012510/assets/icons/boat-types/large/type-9-1342.svg\" alt=\"Hangar pour bateaux\">Hangar pour bateaux</a></li><li class=\"menu__list-item\"><a href=\"https://www.bateau24.ch/chfr/placesdamarrage/jetee/?typ=4557\" title=\"Jet&eacute;e\" class=\"menu__list-link\"><img src=\"/img/alpha.gif\" class=\"icon icon--bigger image--lazy lazyload\" data-src=\"/v/a012510/assets/icons/boat-types/large/type-9-4557.svg\" alt=\"Jet&eacute;e\">Jetée</a></li><li class=\"menu__list-item\"><a href=\"https://www.bateau24.ch/chfr/placesdamarrage/amarrage/?typ=4558\" title=\"Amarrage\" class=\"menu__list-link\"><img src=\"/img/alpha.gif\" class=\"icon icon--bigger image--lazy lazyload\" data-src=\"/v/a012510/assets/icons/boat-types/large/type-9-4558.svg\" alt=\"Amarrage\">Amarrage</a></li><li class=\"menu__list-item\"><a href=\"https://www.bateau24.ch/chfr/placesdamarrage/amarrage-a-une-bouee/?typ=1993\" title=\"Amarrage &agrave; une bou&eacute;e\" class=\"menu__list-link\"><img src=\"/img/alpha.gif\" class=\"icon icon--bigger image--lazy lazyload\" data-src=\"/v/a012510/assets/icons/boat-types/large/type-9-1993.svg\" alt=\"Amarrage &agrave; une bou&eacute;e\">Amarrage à une bouée</a></li><li class=\"menu__list-item\"><a href=\"https://www.bateau24.ch/chfr/placesdamarrage/dept-exterieur/?typ=1340\" title=\"D&eacute;p&ocirc;t ext&eacute;rieur\" class=\"menu__list-link\"><img src=\"/img/alpha.gif\" class=\"icon icon--bigger image--lazy lazyload\" data-src=\"/v/a012510/assets/icons/boat-types/large/type-9-1340.svg\" alt=\"D&eacute;p&ocirc;t ext&eacute;rieur\">Dépôt extérieur</a></li><li class=\"menu__list-item\"><a href=\"https://www.bateau24.ch/chfr/placesdamarrage/ponton/?typ=4549\" title=\"Ponton\" class=\"menu__list-link\"><img src=\"/img/alpha.gif\" class=\"icon icon--bigger image--lazy lazyload\" data-src=\"/v/a012510/assets/icons/boat-types/large/type-9-4549.svg\" alt=\"Ponton\">Ponton</a></li><li class=\"menu__list-item\"><a href=\"https://www.bateau24.ch/chfr/placesdamarrage/emplacement/?typ=1352\" title=\"Emplacement\" class=\"menu__list-link\"><img src=\"/img/alpha.gif\" class=\"icon icon--bigger image--lazy lazyload\" data-src=\"/v/a012510/assets/icons/boat-types/large/type-9-1352.svg\" alt=\"Emplacement\">Emplacement</a></li><li class=\"menu__list-item\"><a href=\"https://www.bateau24.ch/chfr/placesdamarrage/dauphins/?typ=4559\" title=\"Dauphins\" class=\"menu__list-link\"><img src=\"/img/alpha.gif\" class=\"icon icon--bigger image--lazy lazyload\" data-src=\"/v/a012510/assets/icons/boat-types/large/type-9-4559.svg\" alt=\"Dauphins\">Dauphins</a></li></ul></li><li class=\"menu__list-item menu__list-item--submenu js-accordion\"><a href=\"https://www.bateau24.ch/chfr/accessoires/\" title=\"Accessoires\" class=\"menu__list-link\"><img src=\"/img/alpha.gif\" class=\"icon icon--bigger image--lazy lazyload\" data-src=\"/v/a012510/assets/icons/boat-types/large/type-12-1823.svg\" alt=\"Accessoires\">Accessoires</a><span class=\"menu__list-accordion js-accordion-trigger\"></span><ul class=\"menu__list\"><li class=\"menu__list-item\"><a href=\"https://www.bateau24.ch/chfr/accessoires/systeme-electronique-de-bord/?typ=1656\" title=\"Syst&egrave;me &eacute;lectronique de bord\" class=\"menu__list-link\"><img src=\"/img/alpha.gif\" class=\"icon icon--bigger image--lazy lazyload\" data-src=\"/v/a012510/assets/icons/boat-types/large/type-12-1656.svg\" alt=\"Syst&egrave;me &eacute;lectronique de bord\">Système électronique de bord</a></li><li class=\"menu__list-item\"><a href=\"https://www.bateau24.ch/chfr/accessoires/piece-de-rechange/?typ=1981\" title=\"Pi&egrave;ce de rechange\" class=\"menu__list-link\"><img src=\"/img/alpha.gif\" class=\"icon icon--bigger image--lazy lazyload\" data-src=\"/v/a012510/assets/icons/boat-types/large/type-12-1981.svg\" alt=\"Pi&egrave;ce de rechange\">Pièce de rechange</a></li><li class=\"menu__list-item\"><a href=\"https://www.bateau24.ch/chfr/accessoires/autre/?typ=1134\" title=\"Autre\" class=\"menu__list-link\"><img src=\"/img/alpha.gif\" class=\"icon icon--bigger image--lazy lazyload\" data-src=\"/v/a012510/assets/icons/boat-types/large/type-12-1134.svg\" alt=\"Autre\">Autre</a></li><li class=\"menu__list-item\"><a href=\"https://www.bateau24.ch/chfr/accessoires/voilure/?typ=3868\" title=\"Voilure\" class=\"menu__list-link\"><img src=\"/img/alpha.gif\" class=\"icon icon--bigger image--lazy lazyload\" data-src=\"/v/a012510/assets/icons/boat-types/large/type-12-3868.svg\" alt=\"Voilure\">Voilure</a></li><li class=\"menu__list-item\"><a href=\"https://www.bateau24.ch/chfr/accessoires/securite/?typ=1823\" title=\"S&eacute;curit&eacute;\" class=\"menu__list-link\"><img src=\"/img/alpha.gif\" class=\"icon icon--bigger image--lazy lazyload\" data-src=\"/v/a012510/assets/icons/boat-types/large/type-12-1823.svg\" alt=\"S&eacute;curit&eacute;\">Sécurité</a></li><li class=\"menu__list-item\"><a href=\"https://www.bateau24.ch/chfr/accessoires/ferrures/?typ=1824\" title=\"Ferrures\" class=\"menu__list-link\"><img src=\"/img/alpha.gif\" class=\"icon icon--bigger image--lazy lazyload\" data-src=\"/v/a012510/assets/icons/boat-types/large/type-12-1824.svg\" alt=\"Ferrures\">Ferrures</a></li><li class=\"menu__list-item\"><a href=\"https://www.bateau24.ch/chfr/accessoires/vtements/?typ=1825\" title=\"V&ecirc;tements\" class=\"menu__list-link\"><img src=\"/img/alpha.gif\" class=\"icon icon--bigger image--lazy lazyload\" data-src=\"/v/a012510/assets/icons/boat-types/large/type-12-1825.svg\" alt=\"V&ecirc;tements\">Vêtements</a></li><li class=\"menu__list-item\"><a href=\"https://www.bateau24.ch/chfr/accessoires/ski-nautique-wakeboard/?typ=1826\" title=\"Ski nautique / Wakeboard\" class=\"menu__list-link\"><img src=\"/img/alpha.gif\" class=\"icon icon--bigger image--lazy lazyload\" data-src=\"/v/a012510/assets/icons/boat-types/large/type-12-1826.svg\" alt=\"Ski nautique / Wakeboard\">Ski nautique / wakeboard</a></li><li class=\"menu__list-item\"><a href=\"https://www.bateau24.ch/chfr/accessoires/accessoires-pour-moteur/?typ=1827\" title=\"Accessoires pour moteur\" class=\"menu__list-link\"><img src=\"/img/alpha.gif\" class=\"icon icon--bigger image--lazy lazyload\" data-src=\"/v/a012510/assets/icons/boat-types/large/type-12-1827.svg\" alt=\"Accessoires pour moteur\">Accessoires pour moteur</a></li></ul></li></ul>\t</div>\n",
            "</div></div></header><div class=\"sticky-header js-sticky\" data-sticky-trigger=\"#sticky-header-trigger\"><a class=\"sticky-header__back-link\" onclick=\"history.back()\"></a><a href=\"https://www.bateau24.ch/chfr/\" title=\"Accueil\" class=\"sticky-header__logo\"><img src=\"/v/a012510/assets/images/boat24-logo-compact.svg\" alt=\"bateau24.ch\" class=\"logo\"></a><p class=\"sticky-header__title\">Furtif 28, modèle unique.</p><div class=\"sticky-header__divider\"></div><nav class=\"sticky-header__nav\"><ul class=\"list list--horizontal list--divider js-scrollspy\"><li><a href=\"#images\">Photos</a></li><li><a href=\"#specs\">Caractéristiques</a></li><li><a href=\"#location\">Emplacement</a></li><li><a href=\"#description\">Remarques</a></li><li><a href=\"#equipment\">Équipement</a></li></ul></nav><div class=\"sticky-header__button button-group button-group--row\"><a class=\"sticky-header__button button button--primary button--small\" href=\"#contact\">Contact</a></div><div class=\"sticky-header__side\"><ul class=\"sticky-header__pagelinks pagelinks\">\n",
            "                <li class=\"pagelinks__item\"><a href=\"#\" class=\"pagelinks__link js-toggle-favorite\" data-id=\"463101\" data-type=\"ads\" data-notifications-title=\"Furtif 28, mod&egrave;le unique.\" data-notifications-message=\"Ajout&eacute; &agrave; vos favoris\" data-notifications-picture=\"https://d196r9c7cfkkpm.cloudfront.net/thumbs/small/463101-1613370867.jpg\"><span class=\"icon icon--star\"></span><span class=\"pagelinks__text\">Favori</span></a></li>\n",
            "                <li class=\"pagelinks__item\"><a href=\"https://www.bateau24.ch/chfr/src/share/463101/\" title=\"partager\" class=\"pagelinks__link\"><span class=\"icon icon--share\"></span><span class=\"pagelinks__text\">Partager</span></a></li>\n",
            "            </ul><a href=\"#body\" class=\"sticky-header__top-link\" title=\"vers le haut\"></a></div></div><main class=\"l-page__main\"><section class=\"l-section\"><div class=\"l-section__content l-section__content--full-width l-mt-24 l-mb-16\"><div class=\"slider slider--hero is-loading\" id=\"images\"><div class=\"slider__wrapper js-slider\" data-gallery=\"detail\"><ul class=\"slider__slides js-slider-slides\"><li class=\"slider__slide js-slider-slide\" data-image-id=\"image1\"><img src=\"https://d196r9c7cfkkpm.cloudfront.net/fotos/medium/463101-4652193b3e56ee526f0bb21d34959a44.jpg\" data-srcset=\"https://d196r9c7cfkkpm.cloudfront.net/fotos/medium/463101-4652193b3e56ee526f0bb21d34959a44.jpg 480w, https://d196r9c7cfkkpm.cloudfront.net/fotos/large/463101-4652193b3e56ee526f0bb21d34959a44-ch.jpg 800w, https://d196r9c7cfkkpm.cloudfront.net/fotos/xlarge/463101-4652193b3e56ee526f0bb21d34959a44-ch.jpg 1280w\" data-sizes=\"auto\" class=\"slider__image image image--lazy lazyload\" width=\"480\" height=\"480\" alt=\"Furtif 28, mod&egrave;le unique.\"></li><li class=\"slider__slide js-slider-slide\" data-image-id=\"image2\"><img src=\"https://d196r9c7cfkkpm.cloudfront.net/fotos/medium/463101-291558ed37374375683dc1bef4b40a20.jpg\" data-srcset=\"https://d196r9c7cfkkpm.cloudfront.net/fotos/medium/463101-291558ed37374375683dc1bef4b40a20.jpg 480w, https://d196r9c7cfkkpm.cloudfront.net/fotos/large/463101-291558ed37374375683dc1bef4b40a20-ch.jpg 800w, https://d196r9c7cfkkpm.cloudfront.net/fotos/xlarge/463101-291558ed37374375683dc1bef4b40a20-ch.jpg 1280w\" data-sizes=\"auto\" class=\"slider__image image image--lazy lazyload\" width=\"480\" height=\"480\" alt=\"Furtif 28, mod&egrave;le unique.\"></li><li class=\"slider__slide js-slider-slide\" data-image-id=\"image3\"><img src=\"https://d196r9c7cfkkpm.cloudfront.net/fotos/medium/463101-0b684328577b17881cf2e54a1f189b79.jpg\" data-srcset=\"https://d196r9c7cfkkpm.cloudfront.net/fotos/medium/463101-0b684328577b17881cf2e54a1f189b79.jpg 480w, https://d196r9c7cfkkpm.cloudfront.net/fotos/large/463101-0b684328577b17881cf2e54a1f189b79-ch.jpg 800w, https://d196r9c7cfkkpm.cloudfront.net/fotos/xlarge/463101-0b684328577b17881cf2e54a1f189b79-ch.jpg 1280w\" data-sizes=\"auto\" class=\"slider__image image image--lazy lazyload\" width=\"480\" height=\"480\" alt=\"Furtif 28, mod&egrave;le unique.\"></li><li class=\"slider__slide js-slider-slide\" data-image-id=\"image4\"><img src=\"https://d196r9c7cfkkpm.cloudfront.net/fotos/medium/463101-79f0edc0ae31352e0ff5ed9c441c47d8.jpg\" data-srcset=\"https://d196r9c7cfkkpm.cloudfront.net/fotos/medium/463101-79f0edc0ae31352e0ff5ed9c441c47d8.jpg 480w, https://d196r9c7cfkkpm.cloudfront.net/fotos/large/463101-79f0edc0ae31352e0ff5ed9c441c47d8-ch.jpg 800w, https://d196r9c7cfkkpm.cloudfront.net/fotos/xlarge/463101-79f0edc0ae31352e0ff5ed9c441c47d8-ch.jpg 1280w\" data-sizes=\"auto\" class=\"slider__image image image--lazy lazyload\" width=\"480\" height=\"480\" alt=\"Furtif 28, mod&egrave;le unique.\"></li><li class=\"slider__slide js-slider-slide\" data-image-id=\"image5\"><img src=\"https://d196r9c7cfkkpm.cloudfront.net/fotos/medium/463101-ef7d377a44a153bec3b95b896c8de706.jpg\" data-srcset=\"https://d196r9c7cfkkpm.cloudfront.net/fotos/medium/463101-ef7d377a44a153bec3b95b896c8de706.jpg 480w, https://d196r9c7cfkkpm.cloudfront.net/fotos/large/463101-ef7d377a44a153bec3b95b896c8de706-ch.jpg 800w, https://d196r9c7cfkkpm.cloudfront.net/fotos/xlarge/463101-ef7d377a44a153bec3b95b896c8de706-ch.jpg 1280w\" data-sizes=\"auto\" class=\"slider__image image image--lazy lazyload\" width=\"480\" height=\"480\" alt=\"Furtif 28, mod&egrave;le unique.\"></li><li class=\"slider__slide js-slider-slide\" data-image-id=\"image6\"><img src=\"https://d196r9c7cfkkpm.cloudfront.net/fotos/medium/463101-2d1f433fb0eea59d20e5799d69fd22e5.jpg\" data-srcset=\"https://d196r9c7cfkkpm.cloudfront.net/fotos/medium/463101-2d1f433fb0eea59d20e5799d69fd22e5.jpg 480w, https://d196r9c7cfkkpm.cloudfront.net/fotos/large/463101-2d1f433fb0eea59d20e5799d69fd22e5-ch.jpg 800w, https://d196r9c7cfkkpm.cloudfront.net/fotos/xlarge/463101-2d1f433fb0eea59d20e5799d69fd22e5-ch.jpg 1280w\" data-sizes=\"auto\" class=\"slider__image image image--lazy lazyload\" width=\"480\" height=\"480\" alt=\"Furtif 28, mod&egrave;le unique.\"></li><li class=\"slider__slide js-slider-slide\" data-image-id=\"image7\"><img src=\"https://d196r9c7cfkkpm.cloudfront.net/fotos/medium/463101-7ff90359223ba9c3523f90c50bd6682a.jpg\" data-srcset=\"https://d196r9c7cfkkpm.cloudfront.net/fotos/medium/463101-7ff90359223ba9c3523f90c50bd6682a.jpg 480w, https://d196r9c7cfkkpm.cloudfront.net/fotos/large/463101-7ff90359223ba9c3523f90c50bd6682a-ch.jpg 800w, https://d196r9c7cfkkpm.cloudfront.net/fotos/xlarge/463101-7ff90359223ba9c3523f90c50bd6682a-ch.jpg 1280w\" data-sizes=\"auto\" class=\"slider__image image image--lazy lazyload\" width=\"480\" height=\"480\" alt=\"Furtif 28, mod&egrave;le unique.\"></li><li class=\"slider__slide js-slider-slide\" data-image-id=\"image8\"><img src=\"https://d196r9c7cfkkpm.cloudfront.net/fotos/medium/463101-1119c4895031b1971d92db763a2b0927.jpg\" data-srcset=\"https://d196r9c7cfkkpm.cloudfront.net/fotos/medium/463101-1119c4895031b1971d92db763a2b0927.jpg 480w, https://d196r9c7cfkkpm.cloudfront.net/fotos/large/463101-1119c4895031b1971d92db763a2b0927-ch.jpg 800w, https://d196r9c7cfkkpm.cloudfront.net/fotos/xlarge/463101-1119c4895031b1971d92db763a2b0927-ch.jpg 1280w\" data-sizes=\"auto\" class=\"slider__image image image--lazy lazyload\" width=\"480\" height=\"480\" alt=\"Furtif 28, mod&egrave;le unique.\"></li><li class=\"slider__slide js-slider-slide\" data-image-id=\"image9\"><img src=\"https://d196r9c7cfkkpm.cloudfront.net/fotos/medium/463101-46240d15c4422b15a716e797b4b06b39.jpg\" data-srcset=\"https://d196r9c7cfkkpm.cloudfront.net/fotos/medium/463101-46240d15c4422b15a716e797b4b06b39.jpg 480w, https://d196r9c7cfkkpm.cloudfront.net/fotos/large/463101-46240d15c4422b15a716e797b4b06b39-ch.jpg 800w, https://d196r9c7cfkkpm.cloudfront.net/fotos/xlarge/463101-46240d15c4422b15a716e797b4b06b39-ch.jpg 1280w\" data-sizes=\"auto\" class=\"slider__image image image--lazy lazyload\" width=\"480\" height=\"480\" alt=\"Furtif 28, mod&egrave;le unique.\"></li><li class=\"slider__slide js-slider-slide\" data-image-id=\"image10\"><img src=\"https://d196r9c7cfkkpm.cloudfront.net/fotos/medium/463101-26dd7ee2909b0fb2b130dfdbc93eec55.jpg\" data-srcset=\"https://d196r9c7cfkkpm.cloudfront.net/fotos/medium/463101-26dd7ee2909b0fb2b130dfdbc93eec55.jpg 480w, https://d196r9c7cfkkpm.cloudfront.net/fotos/large/463101-26dd7ee2909b0fb2b130dfdbc93eec55-ch.jpg 800w, https://d196r9c7cfkkpm.cloudfront.net/fotos/xlarge/463101-26dd7ee2909b0fb2b130dfdbc93eec55-ch.jpg 1280w\" data-sizes=\"auto\" class=\"slider__image image image--lazy lazyload\" width=\"480\" height=\"480\" alt=\"Furtif 28, mod&egrave;le unique.\"></li></ul><div class=\"slider__slide-prev js-slider-previous\">précédent</div><div class=\"slider__slide-next js-slider-next\">suivant</div></div></div><div class=\"gallery js-gallery\" id=\"js-gallery-detail\"><div class=\"gallery__ui\"><button class=\"button button--primary js-gallery-contact\">Contact</button><button class=\"button button--opaque js-gallery-close\">Fermer</button></div><div class=\"gallery__content\"><ul class=\"gallery__slides\"><li class=\"gallery__slide\"><figure><img src=\"data:image/svg+xml;base64,PHN2ZyB4bWxucz0iaHR0cDovL3d3dy53My5vcmcvMjAwMC9zdmciIHdpZHRoPSI4NTEiIGhlaWdodD0iMTI4MCIgdmlld0JveD0iMCAwIDg1MSAxMjgwIj48L3N2Zz4=\" data-src=\"https://d196r9c7cfkkpm.cloudfront.net/fotos/xlarge/463101-4652193b3e56ee526f0bb21d34959a44-ch.jpg\" class=\"gallery__image image--lazy lazyload\" id=\"image1\" alt=\"Furtif 28, mod&egrave;le unique.\"></figure></li><li class=\"gallery__slide\"><figure><img src=\"data:image/svg+xml;base64,PHN2ZyB4bWxucz0iaHR0cDovL3d3dy53My5vcmcvMjAwMC9zdmciIHdpZHRoPSIxMjgwIiBoZWlnaHQ9Ijg1MSIgdmlld0JveD0iMCAwIDEyODAgODUxIj48L3N2Zz4=\" data-src=\"https://d196r9c7cfkkpm.cloudfront.net/fotos/xlarge/463101-291558ed37374375683dc1bef4b40a20-ch.jpg\" class=\"gallery__image image--lazy lazyload\" id=\"image2\" alt=\"Furtif 28, mod&egrave;le unique.\"></figure></li><li class=\"gallery__slide\"><figure><img src=\"data:image/svg+xml;base64,PHN2ZyB4bWxucz0iaHR0cDovL3d3dy53My5vcmcvMjAwMC9zdmciIHdpZHRoPSIxMjgwIiBoZWlnaHQ9Ijg1MSIgdmlld0JveD0iMCAwIDEyODAgODUxIj48L3N2Zz4=\" data-src=\"https://d196r9c7cfkkpm.cloudfront.net/fotos/xlarge/463101-0b684328577b17881cf2e54a1f189b79-ch.jpg\" class=\"gallery__image image--lazy lazyload\" id=\"image3\" alt=\"Furtif 28, mod&egrave;le unique.\"></figure></li><li class=\"gallery__slide\"><figure><img src=\"data:image/svg+xml;base64,PHN2ZyB4bWxucz0iaHR0cDovL3d3dy53My5vcmcvMjAwMC9zdmciIHdpZHRoPSIxMjgwIiBoZWlnaHQ9Ijg1MSIgdmlld0JveD0iMCAwIDEyODAgODUxIj48L3N2Zz4=\" data-src=\"https://d196r9c7cfkkpm.cloudfront.net/fotos/xlarge/463101-79f0edc0ae31352e0ff5ed9c441c47d8-ch.jpg\" class=\"gallery__image image--lazy lazyload\" id=\"image4\" alt=\"Furtif 28, mod&egrave;le unique.\"></figure></li><li class=\"gallery__slide\"><figure><img src=\"data:image/svg+xml;base64,PHN2ZyB4bWxucz0iaHR0cDovL3d3dy53My5vcmcvMjAwMC9zdmciIHdpZHRoPSIxMjgwIiBoZWlnaHQ9Ijg1MSIgdmlld0JveD0iMCAwIDEyODAgODUxIj48L3N2Zz4=\" data-src=\"https://d196r9c7cfkkpm.cloudfront.net/fotos/xlarge/463101-ef7d377a44a153bec3b95b896c8de706-ch.jpg\" class=\"gallery__image image--lazy lazyload\" id=\"image5\" alt=\"Furtif 28, mod&egrave;le unique.\"></figure></li><li class=\"gallery__slide\"><figure><img src=\"data:image/svg+xml;base64,PHN2ZyB4bWxucz0iaHR0cDovL3d3dy53My5vcmcvMjAwMC9zdmciIHdpZHRoPSIxMjgwIiBoZWlnaHQ9Ijg1MSIgdmlld0JveD0iMCAwIDEyODAgODUxIj48L3N2Zz4=\" data-src=\"https://d196r9c7cfkkpm.cloudfront.net/fotos/xlarge/463101-2d1f433fb0eea59d20e5799d69fd22e5-ch.jpg\" class=\"gallery__image image--lazy lazyload\" id=\"image6\" alt=\"Furtif 28, mod&egrave;le unique.\"></figure></li><li class=\"gallery__slide\"><figure><img src=\"data:image/svg+xml;base64,PHN2ZyB4bWxucz0iaHR0cDovL3d3dy53My5vcmcvMjAwMC9zdmciIHdpZHRoPSIxMjgwIiBoZWlnaHQ9Ijg1MSIgdmlld0JveD0iMCAwIDEyODAgODUxIj48L3N2Zz4=\" data-src=\"https://d196r9c7cfkkpm.cloudfront.net/fotos/xlarge/463101-7ff90359223ba9c3523f90c50bd6682a-ch.jpg\" class=\"gallery__image image--lazy lazyload\" id=\"image7\" alt=\"Furtif 28, mod&egrave;le unique.\"></figure></li><li class=\"gallery__slide\"><figure><img src=\"data:image/svg+xml;base64,PHN2ZyB4bWxucz0iaHR0cDovL3d3dy53My5vcmcvMjAwMC9zdmciIHdpZHRoPSIxMjgwIiBoZWlnaHQ9Ijg1MSIgdmlld0JveD0iMCAwIDEyODAgODUxIj48L3N2Zz4=\" data-src=\"https://d196r9c7cfkkpm.cloudfront.net/fotos/xlarge/463101-1119c4895031b1971d92db763a2b0927-ch.jpg\" class=\"gallery__image image--lazy lazyload\" id=\"image8\" alt=\"Furtif 28, mod&egrave;le unique.\"></figure></li><li class=\"gallery__slide\"><figure><img src=\"data:image/svg+xml;base64,PHN2ZyB4bWxucz0iaHR0cDovL3d3dy53My5vcmcvMjAwMC9zdmciIHdpZHRoPSIxMjgwIiBoZWlnaHQ9Ijg1MSIgdmlld0JveD0iMCAwIDEyODAgODUxIj48L3N2Zz4=\" data-src=\"https://d196r9c7cfkkpm.cloudfront.net/fotos/xlarge/463101-46240d15c4422b15a716e797b4b06b39-ch.jpg\" class=\"gallery__image image--lazy lazyload\" id=\"image9\" alt=\"Furtif 28, mod&egrave;le unique.\"></figure></li><li class=\"gallery__slide\"><figure><img src=\"data:image/svg+xml;base64,PHN2ZyB4bWxucz0iaHR0cDovL3d3dy53My5vcmcvMjAwMC9zdmciIHdpZHRoPSIxMjgwIiBoZWlnaHQ9Ijg1MSIgdmlld0JveD0iMCAwIDEyODAgODUxIj48L3N2Zz4=\" data-src=\"https://d196r9c7cfkkpm.cloudfront.net/fotos/xlarge/463101-26dd7ee2909b0fb2b130dfdbc93eec55-ch.jpg\" class=\"gallery__image image--lazy lazyload\" id=\"image10\" alt=\"Furtif 28, mod&egrave;le unique.\"></figure></li></ul></div></div></div><div class=\"l-section__content l-mt-16 l-mb-24\"><ul class=\"pagelinks\"><li class=\"pagelinks__item\"><span class=\"pagelinks__link h-cursor--pointer js-toggle-favorite\" data-id=\"463101\" data-type=\"ads\" data-notifications-title=\"Furtif 28, mod&egrave;le unique.\" data-notifications-message=\"Ajout&eacute; &agrave; vos favoris\" data-notifications-picture=\"https://d196r9c7cfkkpm.cloudfront.net/thumbs/small/463101-1613370867.jpg\"><span class=\"icon icon--star\"></span>Favori</span></li><li class=\"pagelinks__item\"><span data-link=\"/pdf/ins/463101.chfr.pdf\" data-target=\"blank\" class=\"pagelinks__link js-link\" title=\"imprimer l&#039;annonce\"><span class=\"icon icon--print\"></span>PDF</span></li><li class=\"pagelinks__item\"><span data-link=\"https://www.bateau24.ch/chfr/src/share/463101/\" class=\"js-link pagelinks__link\" title=\"Partager l&#039;annonce\"><span class=\"icon icon--share\"></span>Partager</span></li><li class=\"pagelinks__item\"><span data-link=\"https://www.bateau24.ch/chfr/src/report/463101/\" class=\"js-link pagelinks__link\" title=\"signaler une annonce suspecte\"><span class=\"icon icon--report\"></span>Signaler</span></li></ul></div></section><section class=\"l-section l-mt-24 l-mb-96\" id=\"sticky-header-trigger\"><div class=\"l-section__content\"><div class=\"l-grid l-grid--main-side\"><div><div id=\"specs\"><header class=\"heading heading--page l-mb-32\"><p class=\"heading__title-header\">Nouveau bateau disponible en stock, <a href=\"https://www.bateau24.ch/chfr/bateauxamoteur/bateau-a-console-centrale/?typ=2119\" title=\"Bateau à console centrale\">Bateau à console centrale</a></p><h1 class=\"heading__title\">Furtif 28, modèle unique.</h1><p class=\"heading__subtitle\">Furtif 28, modèle unique en cp époxy, place de port possible</p></header><ul class=\"list l-mb-24 l-hide--md-u\"><li><span class=\"list__value list__value--large\">CHF 295.000,-</span><span class=\"list__key\"></span></li></ul><ul class=\"list\"><li><span class=\"list__value\">2020</span><span class=\"list__key\">année de fabrication</span></li>\n",
            "<li><span class=\"list__value\">neuf</span><span class=\"list__key\">état</span></li>\n",
            "</ul><ul class=\"list l-mt-16\">\n",
            "<li><span class=\"list__value\">9.00 m x 2.80 m</span><span class=\"list__key\">longueur x largeur</span></li>\n",
            "<li><span class=\"list__value\">1.00 m</span><span class=\"list__key\">tirant d'eau</span></li>\n",
            "<li><span class=\"list__value\">2'200 kg</span><span class=\"list__key\">déplacement</span></li>\n",
            "<li><span class=\"list__value\">C - Eaux côtières</span><span class=\"list__key\">catégorie de conception ce</span></li>\n",
            "<li><span class=\"list__value\">Bois</span><span class=\"list__key\">matériau</span></li>\n",
            "</ul><ul class=\"list l-mt-16\">\n",
            "<li><span class=\"list__value\">8 personnes</span><span class=\"list__key\">nombre de personnes admises</span></li>\n",
            "<li><span class=\"list__value\">1 cabine</span><span class=\"list__key\">nombre de cabines</span></li>\n",
            "<li><span class=\"list__value\">1 couchette</span><span class=\"list__key\">nombre de couchettes</span></li>\n",
            "<li><span class=\"list__value\">50 l Eau</span><span class=\"list__key\">réservoir d'eau douce</span></li>\n",
            "</ul><ul class=\"list l-mt-16\">\n",
            "<li><span class=\"list__value\">Hors-bord 4 temps</span><span class=\"list__key\">propulsion</span></li>\n",
            "<li><span class=\"list__value\">Mercury</span><span class=\"list__key\">moteur</span></li>\n",
            "<li><span class=\"list__value\">1 x 350 cv / 257 kW</span><span class=\"list__key\">puissance du moteur</span></li>\n",
            "<li><span class=\"list__value\">sans plomb</span><span class=\"list__key\">carburant</span></li>\n",
            "<li><span class=\"list__value\">250 l</span><span class=\"list__key\">réservoir de carburant</span></li>\n",
            "<li><span class=\"list__value\">2 h</span><span class=\"list__key\">heures moteur</span></li></ul><hr class=\"divider l-mt-32 l-mb-32\"></div><div id=\"location\"><h2 class=\"heading\"><span class=\"heading__icon icon icon--marker\"></span>Emplacement</h2><p class=\"text\">Suisse &raquo; Lac Léman &raquo; <strong>Chantier naval du Vieux Rhône, 1845 Noville</strong></p><p class=\"text l-mt-8\">Place d'amarrage disponible</p><hr class=\"divider l-mt-32 l-mb-32\"></div><div id=\"description\"><h2 class=\"heading\"><span class=\"heading__icon icon icon--text\"></span>Remarques</h2><div class=\"content\"><div class=\"content content--readmore js-readmore\" data-readmore-moretext=\"Continuer de lire\"><p class=\"text\">Bateau neuf, construction unique du chantier naval du Vieux Rh&ocirc;ne SA &agrave; Noville<br />\r\n",
            "Homologation CE cat&eacute;gorie C, 8 personnes + bagages.<br />\r\n",
            "Place de port possible au chantier naval du Vieux Rh&ocirc;ne</p><p><span data-link=\"http://www.chantier-naval-vieux-rhone.ch\" data-target=\"blank\" class=\"js-link link link--external\">Autres informations</span></p></div></div><hr class=\"divider l-mt-32 l-mb-32\"></div><div id=\"equipment\"><h2 class=\"heading\"><span class=\"heading__icon icon icon--compass\"></span>Équipement</h2><ul class=\"list list--space-8 l-columns l-columns--sm-2 l-columns--md-1 l-columns--lg-2 list--commas\"><li><span class=\"icon icon--bigger\" style=\"background-image: url('/v/a012510/assets/icons/equipment/473.svg')\"></span>Batterie</li><li><span class=\"icon icon--bigger\" style=\"background-image: url('/v/a012510/assets/icons/equipment/487.svg')\"></span>Ancre</li><li><span class=\"icon icon--bigger\" style=\"background-image: url('/v/a012510/assets/icons/equipment/528.svg')\"></span>Pompe de cale</li><li><span class=\"icon icon--bigger\" style=\"background-image: url('/v/a012510/assets/icons/equipment/3482.svg')\"></span>feux de navigation</li><li><span class=\"icon icon--bigger\" style=\"background-image: url('/v/a012510/assets/icons/equipment/531.svg')\"></span>Propulseur d'étrave</li><li><span class=\"icon icon--bigger\" style=\"background-image: url('/v/a012510/assets/icons/equipment/521.svg')\"></span>Installation d'eau sous pression</li><li><span class=\"icon icon--bigger\" style=\"background-image: url('/v/a012510/assets/icons/equipment/431.svg')\"></span>Ordinateur de bord</li><li><span class=\"icon icon--bigger\" style=\"background-image: url('/v/a012510/assets/icons/equipment/438.svg')\"></span>Compas</li><li><span class=\"icon icon--bigger\" style=\"background-image: url('/v/a012510/assets/icons/equipment/440.svg')\"></span>GPS</li><li><span class=\"icon icon--bigger\" style=\"background-image: url('/v/a012510/assets/icons/equipment/444.svg')\"></span>Traceur de cartes</li><li><span class=\"icon icon--bigger\" style=\"background-image: url('/v/a012510/assets/icons/equipment/2163.svg')\"></span>Sondeur</li><li><span class=\"icon icon--bigger\" style=\"background-image: url('/v/a012510/assets/icons/equipment/2294.svg')\"></span>Tachymètre</li><li><span class=\"icon icon--bigger\" style=\"background-image: url('/v/a012510/assets/icons/equipment/539.svg')\"></span>Glacière</li><li><span class=\"icon icon--bigger\" style=\"background-image: url('/v/a012510/assets/icons/equipment/464.svg')\"></span>Top Bimini</li><li><span class=\"icon icon--bigger\" style=\"background-image: url('/v/a012510/assets/icons/equipment/503.svg')\"></span>Échelle de bain</li><li><span class=\"icon icon--bigger\" style=\"background-image: url('/v/a012510/assets/icons/equipment/526.svg')\"></span>Douche de pont</li><li><span class=\"icon icon--bigger\" style=\"background-image: url('/v/a012510/assets/icons/equipment/533.svg')\"></span>Extincteur</li><li><span class=\"icon icon--bigger\" style=\"background-image: url('/v/a012510/assets/icons/equipment/556.svg')\"></span>Peinture sous-marine</li></ul><hr class=\"divider l-mt-32 l-mb-32\"></div><h2 class=\"heading\"><span class=\"heading__icon icon icon--special\"></span>Services</h2><ul class=\"list list--space-24\"><li class=\"l-media\"><p class=\"l-media__text\"><a href=\"https://www.bateau24.ch/chfr/allianz/offerte/463101/\" class=\"link\" rel=\"nofollow\" title=\"Allianz Suisse\"  onclick=\"gtag('event', 'click', {'event_category': 'powerlink', 'event_label': 'allianz', 'value': 0})\">Alliance Suisse - Assurances bateaux</a><br><span class=\"text--small\">Assurez votre bateau auprès du leader du marché.</span></p><img src=\"/img/alpha.gif\" data-src=\"https://www.bateau24.ch/img/powerlinks/allianz.png\" class=\"l-hide--xs-d lazyload\" alt=\"Allianz Suisse\" /></li></ul><hr class=\"divider l-mt-32 l-mb-32\"></div><aside><section class=\"contact-box l-mt-8 l-mb-32\"><div class=\"contact-box__price-section\" id=\"contact\"><div class=\"l-hide--sm-d\"><p class=\"contact-box__price\"><strong>CHF 295.000,-</strong></p><p class=\"contact-box__price-type\"></p></div><div class=\"l-hide--md-u l-media\"><img src=\"https://d196r9c7cfkkpm.cloudfront.net/thumbs/small/463101-1613370867.jpg\" width=\"120\" height=\"90\" class=\"l-media__media\" alt=\"Furtif 28, mod&egrave;le unique. Bateau à console centrale\" /><div class=\"l-media__text\"><h3 class=\"heading--paragraph\">Furtif 28, modèle unique.</h3><p class=\"text text--light\">CHF 295.000,-</p><p class=\"text text--light\">2020</p></div></div></div><div class=\"contact-box__contact-section\"><h2 class=\"contact-box__heading\">Vendeur</h2><p class=\"contact-box__seller\">Monsieur Ries<span class=\"contact-box__verified\"><span class=\"icon icon--verified\"></span>Vendeur vérifié</span></p><h3 class=\"heading heading--block\" id=\"contactform\">Formulaire de contact</h3><form method=\"post\" action=\"#contactform\"><div class=\"floating-label-field js-floating-label contact-box__field\"><input class=\"floating-label-field__input\" type=\"text\" name=\"name\" value=\"\" id=\"input-name\" ><label class=\"floating-label-field__label\" for=\"input-name\">Nom</label></div><div class=\"floating-label-field js-floating-label contact-box__field\"><input class=\"floating-label-field__input\" type=\"email\" name=\"phone\" value=\"\" id=\"input-phone\" ><label class=\"floating-label-field__label\" for=\"input-phone\">E-mail</label></div><div class=\"floating-label-field js-floating-label contact-box__field\"><input class=\"floating-label-field__input\" type=\"tel\" name=\"street\" value=\"\" id=\"input-street\" ><label class=\"floating-label-field__label\" for=\"input-street\">Téléphone</label></div><div class=\"floating-label-field js-floating-label contact-box__field l-mb-8\"><textarea class=\"floating-label-field__input\" name=\"message\" id=\"input-message\" rows=\"3\"></textarea><label class=\"floating-label-field__label\" for=\"input-message\">Message</label></div><p class=\"text text--small text--light\">Vous allez recevoir une copie de ce message par e-mail.</p><button type=\"submit\" name=\"contact\" class=\"button contact-box__submit button button--primary button--full-width l-mt-12\" >Envoyer</button></form><div class=\"l-mt-16\"><p class=\"text text--tiny text--light l-mb-8\">En soumettant ce formulaire, vos coordonnées seront transmises au vendeur de cette offre.</p><p class=\"text text--tiny text--light l-mb-8\">Le formulaire de contact ne peut pas être utilisé pour annoncer vos propres produits ou services.</p><p class=\"text text--tiny text--light l-mb-8\">Nos <a href=\"https://www.bateau24.ch/pdf/gtc/b2c.chfr.pdf\" class=\"link\" target=\"_blank\">CGV</a> s'appliquent.</p></div></div></section><section><h2 class=\"heading l-mb-16\">Infos</h2><ul class=\"list list--space-8\"><li>Identifiant: <strong>463101</strong></li><li>Publiée le: <strong>08.02.2021</strong></li><li>Nombre de vues depuis 7 jours: <strong>523</strong></li><li>Dans les favoris: de <strong>1</strong> personnes</li></ul><p class=\"l-mt-16 l-mb-32\"><a href=\"https://www.bateau24.ch/chfr/src/report/463101/\" title=\"Signaler une annonce suspecte\"><span class=\"link link--not-bold link--not-colored icon icon--report\"></span>Signaler une annonce suspecte</a></p><ul class=\"list list--space-8\"></ul></section></aside></div></div></section><section class=\"l-section l-section--shade l-pt-48 l-pb-96\"><div class=\"l-section__content\"><h2 class=\"heading\">Annonces similaires</h2><ul class=\"l-grid l-grid--lg-4 l-grid--xs-2\"><li><div class=\"blurb blurb--card blurb--singleline\"><div class=\"blurb__link-area js-link\" data-link=\"https://www.bateau24.ch/chfr/bateauxamoteur/chris-craft/chris-craft-catalina-30/detail/463495/\"><div class=\"blurb__image-area\"><figure class=\"blurb__image blurb__image--ratio-4-3\"><img src=\"/img/alpha.gif\" data-srcset=\"https://d196r9c7cfkkpm.cloudfront.net/thumbs/small/463495-1613370849.jpg 120w, https://d196r9c7cfkkpm.cloudfront.net/thumbs/large/463495-1613370849.jpg 240w, https://d196r9c7cfkkpm.cloudfront.net/thumbs/xlarge/463495-1613370849.jpg 480w\" data-sizes=\"auto\" alt=\"Chris Craft Catalina 30\" class=\"image image--lazy lazyload\"></figure></div><div class=\"blurb__main\"><p class=\"blurb__title-header\">Bateau à console centrale</p><h3 class=\"blurb__title blurb__title--small-margin\"><a href=\"https://www.bateau24.ch/chfr/bateauxamoteur/chris-craft/chris-craft-catalina-30/detail/463495/\" title=\"Chris Craft Catalina 30\" >Chris Craft Catalina 30</a></h3></div><aside class=\"blurb__side\"><p class=\"blurb__price\">CHF 350.000,-</p></aside></div></div></li><li><div class=\"blurb blurb--card blurb--singleline\"><div class=\"blurb__link-area js-link\" data-link=\"https://www.bateau24.ch/chfr/bateauxamoteur/de-antonio-yachts/de-antonio-yachts-d34-cruiser/detail/435166/\"><div class=\"blurb__image-area\"><figure class=\"blurb__image blurb__image--ratio-4-3\"><img src=\"/img/alpha.gif\" data-srcset=\"https://d196r9c7cfkkpm.cloudfront.net/fotos/thumbnail/435166-c003cad62e15e070405f41e477e1c84a.jpg 120w, https://d196r9c7cfkkpm.cloudfront.net/fotos/thumblarge/435166-c003cad62e15e070405f41e477e1c84a.jpg 240w, https://d196r9c7cfkkpm.cloudfront.net/fotos/medium/435166-c003cad62e15e070405f41e477e1c84a.jpg 480w, https://d196r9c7cfkkpm.cloudfront.net/fotos/large/435166-c003cad62e15e070405f41e477e1c84a-ch.jpg 800w\" data-sizes=\"auto\" alt=\"De Antonio Yachts D34 Cruiser\" class=\"image image--lazy lazyload\"></figure></div><div class=\"blurb__main\"><p class=\"blurb__title-header\">Bateau à console centrale</p><h3 class=\"blurb__title blurb__title--small-margin\"><a href=\"https://www.bateau24.ch/chfr/bateauxamoteur/de-antonio-yachts/de-antonio-yachts-d34-cruiser/detail/435166/\" title=\"De Antonio Yachts D34 Cruiser\" >De Antonio Yachts D34 Cruiser</a></h3></div><aside class=\"blurb__side\"><p class=\"blurb__price\">CHF 210.533,-</p></aside></div></div></li><li><div class=\"blurb blurb--card blurb--singleline\"><div class=\"blurb__link-area js-link\" data-link=\"https://www.bateau24.ch/chfr/bateauxamoteur/nuova-jolly/nuova-jolly-prince-38-cc/detail/463424/\"><div class=\"blurb__image-area\"><figure class=\"blurb__image blurb__image--ratio-4-3\"><img src=\"/img/alpha.gif\" data-srcset=\"https://d196r9c7cfkkpm.cloudfront.net/thumbs/small/463424-1613111227.jpg 120w, https://d196r9c7cfkkpm.cloudfront.net/thumbs/large/463424-1613111227.jpg 240w, https://d196r9c7cfkkpm.cloudfront.net/thumbs/xlarge/463424-1613111227.jpg 480w, https://d196r9c7cfkkpm.cloudfront.net/thumbs/xxlarge/463424-1613111227.jpg 960w\" data-sizes=\"auto\" alt=\"Nuova Jolly Prince 38 CC\" class=\"image image--lazy lazyload\"></figure></div><div class=\"blurb__main\"><p class=\"blurb__title-header\">Bateau à console centrale</p><h3 class=\"blurb__title blurb__title--small-margin\"><a href=\"https://www.bateau24.ch/chfr/bateauxamoteur/nuova-jolly/nuova-jolly-prince-38-cc/detail/463424/\" title=\"Nuova Jolly Prince 38 CC\" >Nuova Jolly Prince 38 CC</a></h3></div><aside class=\"blurb__side\"><p class=\"blurb__price\">CHF 210.000,-</p></aside></div></div></li><li><div class=\"blurb blurb--card blurb--singleline\"><div class=\"blurb__link-area js-link\" data-link=\"https://www.bateau24.ch/chfr/bateauxamoteur/de-antonio-yachts/de-antonio-yachts-d28-open/detail/330366/\"><div class=\"blurb__image-area\"><figure class=\"blurb__image blurb__image--ratio-4-3\"><img src=\"/img/alpha.gif\" data-srcset=\"https://d196r9c7cfkkpm.cloudfront.net/thumbs/small/330366-1516779432.jpg 120w, https://d196r9c7cfkkpm.cloudfront.net/thumbs/large/330366-1516779432.jpg 240w\" data-sizes=\"auto\" alt=\"De Antonio Yachts D28 Open\" class=\"image image--lazy lazyload\"></figure></div><div class=\"blurb__main\"><p class=\"blurb__title-header\">Bateau à console centrale</p><h3 class=\"blurb__title blurb__title--small-margin\"><a href=\"https://www.bateau24.ch/chfr/bateauxamoteur/de-antonio-yachts/de-antonio-yachts-d28-open/detail/330366/\" title=\"De Antonio Yachts D28 Open\" >De Antonio Yachts D28 Open</a></h3></div><aside class=\"blurb__side\"><p class=\"blurb__price\">CHF 195.900,-</p></aside></div></div></li></ul><ul class=\"list list--space-8 l-mt-48\"></ul></div></section><section class=\"l-section l-section--base is-dark l-pt-64 l-pb-96\"><div class=\"l-section__content\"><h2 class=\"heading\">Vous souhaitez vendre un bateau?</h2><a href=\"https://www.bateau24.ch/chfr/vendre/bateaumoteur/\" title=\"Vendre un bateau &agrave; moteur\" class=\"link link--internal l-mt-8\">Vendre un bateau à moteur</a></div></section><div class=\"ad ad--section l-pt-48 l-pb-48 sticky-max\" style=\"min-height: 196px\" id=\"adnz_leaderboard_2\"></div></main><footer class=\"footer sticky-max\"><div class=\"footer__breadcrumb l-section l-section--base\"><nav class=\"l-section__content l-pt-8 l-pb-8\"><ul class=\"footer__breadcrumb-list\" itemscope itemtype=\"https://schema.org/BreadcrumbList\"><li class=\"footer__breadcrumb-item\"><a href=\"https://www.bateau24.ch/chfr/\" class=\"footer__breadcrumb-link\">bateau24.ch</a></li><li class=\"footer__breadcrumb-item\" itemprop=\"itemListElement\" itemscope itemtype=\"https://schema.org/ListItem\"><a class=\"footer__breadcrumb-link\" itemscope itemtype=\"https://schema.org/WebPage\" itemprop=\"item\" itemid=\"https://www.bateau24.ch/chfr/bateauxamoteur/\" href=\"https://www.bateau24.ch/chfr/bateauxamoteur/\" title=\"Bateaux à moteur\"><span itemprop=\"name\">Bateaux à moteur</span></a><meta itemprop=\"position\" content=\"1\" /></li><li class=\"footer__breadcrumb-item is-selected\" itemprop=\"itemListElement\" itemscope itemtype=\"https://schema.org/ListItem\"><span class=\"footer__breadcrumb-link\" itemprop=\"name\">Furtif 28, modèle unique.</span><meta itemprop=\"position\" content=\"2\" /></li></ul></nav></div><div class=\"l-section l-section--shade\"><div class=\"l-section__content\"><section class=\"footer__main l-pt-48 l-pb-48\"><ul class=\"footer__columns\"><li class=\"footer__column\"><h3 class=\"footer__column-heading\">Pour les acheteurs</h3><ul><li><a href=\"https://www.bateau24.ch/chfr/chercher/\" title=\"Rechercher bateaux d&#039;occasion\" class=\"footer__link\">Recherche détaillée</a></li><li><a href=\"https://www.bateau24.ch/chfr/src/tests/\" title=\"Tests des yachts et des bateaux les plus r&eacute;cents\" class=\"footer__link\">Rapports d'essai</a></li><li><a href=\"https://www.bateau24.ch/chfr/sitemap/\" title=\"Fabricants de bateaux\" class=\"footer__link\">Fabricants de bateaux</a></li></ul></li><li class=\"footer__column\"><h3 class=\"footer__column-heading\">Pour les vendeurs</h3><ul><li><a href=\"https://www.bateau24.ch/chfr/user/newlisting/\" title=\"Vendre des bateaux d&#039;occasion\" class=\"footer__link\">Publier une annonce</a></li><li><a href=\"https://www.bateau24.ch/chfr/sell/pricing/\" title=\"Liste des prix\" class=\"footer__link\">Liste des prix</a></li><li><a href=\"https://www.bateau24.ch/chfr/src/archive/\" title=\"Archives des annonces\" class=\"footer__link\">Archives des annonces</a></li><li><a href=\"https://www.bateau24.ch/chfr/service/kaufvertrag_fuer_gebrauchtboote/\" title=\"Contrat de vente pour bateaux d&#039;occasion\" class=\"footer__link\">Contrat-modèle</a></li><li><a href=\"https://www.bateau24.ch/chfr/sell/feedbacks/\" title=\"Avis de nos clients\" class=\"footer__link\">Avis de nos clients</a></li></ul></li><li class=\"footer__column\"><h3 class=\"footer__column-heading\">Accès professionnels</h3><ul><li><a href=\"https://www.bateau24.ch/chfr/dealers/infos/\" title=\"infos sur le compte pro\" class=\"footer__link\">Compte pro</a></li><li><a href=\"https://www.bateau24.ch/chfr/dealers/pricing/\" title=\"Prix des abonnements\" class=\"footer__link\">Prix des abonnements</a></li><li><a href=\"https://www.bateau24.ch/chfr/professionnels/\" title=\"Liste\" class=\"footer__link\">Liste</a></li><li><span class=\"footer__link js-link\" data-link=\"https://login.boatvertizer.com/\" data-target=\"blank\">Accès professionnel</span></li></ul></li><li class=\"footer__column\"><h3 class=\"footer__column-heading\">Service</h3><ul><li><a href=\"https://www.bateau24.ch/chfr/about/ads/\" title=\"Publicité\" class=\"footer__link\">Publicité</a></li><li><a href=\"https://www.bateau24.ch/chfr/service/temperaturen/\" title=\"Temp&eacute;ratures de l&#039;eau\" class=\"footer__link\">Température de l'eau</a></li><li><a href=\"https://www.bateau24.ch/chfr/charter/\" title=\"Bateaux de location\" class=\"footer__link\">Bateaux de location</a></li><li><a href=\"https://www.bateau24.ch/chfr/schulen/\" title=\"Registre des &eacute;coles de navigation suisses\" class=\"footer__link\">Écoles de navigation</a></li><li><a href=\"https://www.bateau24.ch/chfr/service/events/\" title=\"Salons et événements\" class=\"footer__link\">Salons et événements</a></li></ul></li></ul></section><section class=\"footer__bottom l-pt-32 l-pb-32\"><a href=\"https://www.bateau24.ch/chfr/\" title=\"March&eacute; &agrave; bateaux d&#039;occasion\" class=\"footer__logo\" rel=\"home\"><img src=\"https://www.bateau24.ch/logos/logo_bateau24_ch.svg\" alt=\"bateau24.ch\" class=\"logo\"></a>\n",
            "             <nav class=\"footer__legal\">\n",
            "                \t<ul>\n",
            "                <li class=\"footer__legal-item\"><a href=\"https://www.bateau24.ch/chfr/about/\" title=\"Qui sommes-nous?\" class=\"footer__legal-link\">Qui sommes-nous?</a></li>\n",
            "<li class=\"footer__legal-item\"><a href=\"https://www.bateau24.ch/chfr/about/impressum/\" title=\"Mentions légales \" class=\"footer__legal-link\">Mentions légales </a></li>\n",
            "<li class=\"footer__legal-item\"><a href=\"https://www.bateau24.ch/chfr/about/privacy/\" title=\"Politique de protection des données personnelles\" class=\"footer__legal-link\">Politique de protection des données personnelles</a></li>\n",
            "<li class=\"footer__legal-item\"><a href=\"https://www.bateau24.ch/chfr/about/agb/\" title=\"CGV\" class=\"footer__legal-link\">CGV</a></li>\n",
            "<li class=\"footer__legal-item\"><a href=\"https://www.bateau24.ch/chfr/about/security/\" title=\"Conseils de sécurité\" class=\"footer__legal-link\">Conseils de sécurité</a></li>\n",
            "<li class=\"footer__legal-item\"><a href=\"https://www.bateau24.ch/chfr/sell/faq/\" title=\"FAQ\" class=\"footer__legal-link\">FAQ</a></li>\n",
            "<li class=\"footer__legal-item\"><a href=\"https://www.bateau24.ch/chfr/about/contact/\" title=\"Contact\" class=\"footer__legal-link\">Contact</a></li>\n",
            "                    </ul>\n",
            "                </nav>\n",
            "                <form class=\"footer__locale-switch\" action=\"#\">\n",
            "                \t<select name=\"locale\" id=\"locale\" class=\"dropdown\">\n",
            "                \t\t<option value=\"https://www.boot24.ch/chde/motorboote/furtif-28-modele-unique/detail/463101/\">Schweiz - deutsch</option>\n",
            "<option value=\"https://www.bateau24.ch/chfr/bateauxamoteur/furtif-28-modele-unique/detail/463101/\" selected>Suisse - fran&ccedil;ais</option>\n",
            "<option value=\"https://www.barca24.ch/chit/barcheamotore/furtif-28-modele-unique/detail/463101/\">Svizzera - italiano</option>\n",
            "<option value=\"https://www.boat24.ch/chen/powerboats/furtif-28-modele-unique/detail/463101/\">Switzerland - english</option>\n",
            "<option value=\"https://www.boat24.com/fr/bateauxamoteur/furtif-28-modele-unique/detail/463101/\">International</option>\n",
            "                \t</select>\n",
            "                </form>\n",
            "            </section>\n",
            "        </div>\n",
            "\t</div>\n",
            "</footer><script async src=\"https://www.googletagmanager.com/gtag/js?id=UA-486402-1\"></script>\n",
            "<script>\n",
            "window.dataLayer = window.dataLayer || [];\n",
            "function gtag(){dataLayer.push(arguments);}\n",
            "gtag('js', new Date());\n",
            "gtag('config', 'UA-486402-1', { 'page_path': '/chfr/src/detail/463101' });\n",
            "gtag('config', 'AW-1006457411');\n",
            "</script>\n",
            "<script data-main=\"/v/a012510/js-built/views/detail\" src=\"/v/a012510/js-built/require.min.js\"></script>\n",
            "</body>\n",
            "</html>\n",
            "\n"
          ],
          "name": "stdout"
        }
      ]
    },
    {
      "cell_type": "markdown",
      "metadata": {
        "id": "lSEkOX3k_Urr"
      },
      "source": [
        "## Parsing the Data"
      ]
    },
    {
      "cell_type": "markdown",
      "metadata": {
        "id": "-jv_Vnnc-HSk"
      },
      "source": [
        "Now as you can see, the HTTP response's body as it is, is hardly usable. Therefore, we rely on BeautifulSoup to parse the content to for further processings. Thus, we specify we need the html.parser. For more information, you can click [here](https://www.crummy.com/software/BeautifulSoup/bs4/doc/#installing-a-parser)\n",
        "\n",
        "BeatifulSoup, thanks to parsing the content, will allow us to conduct a series of different operations and commands that you will be discovering in the remaining part of this lab. Note that this library can be very powerfull and complete when it comes to parsing and manipulations, this overview is not meant to display all possible features offered by BeautifulSoup.\n"
      ]
    },
    {
      "cell_type": "code",
      "metadata": {
        "id": "v9eDztcDsxwx"
      },
      "source": [
        "page_body = r.text\n",
        "soup = BeautifulSoup(page_body, 'html.parser')\n"
      ],
      "execution_count": null,
      "outputs": []
    },
    {
      "cell_type": "markdown",
      "metadata": {
        "id": "Avgq_l9sAgiG"
      },
      "source": [
        "For instance, you can very easily get the title of the page using ``soup.title``."
      ]
    },
    {
      "cell_type": "code",
      "metadata": {
        "colab": {
          "base_uri": "https://localhost:8080/"
        },
        "id": "1ge1IoVduZzy",
        "outputId": "f1473974-fbc8-4e27-dae9-3e9a4897bfd0"
      },
      "source": [
        "soup.title\n"
      ],
      "execution_count": null,
      "outputs": [
        {
          "output_type": "execute_result",
          "data": {
            "text/plain": [
              "<title>Furtif 28, modèle unique., 2020, 2h, CHF 295.000,- | bateau24.ch</title>"
            ]
          },
          "metadata": {
            "tags": []
          },
          "execution_count": 12
        }
      ]
    },
    {
      "cell_type": "markdown",
      "metadata": {
        "id": "dtI-JGIQAs_R"
      },
      "source": [
        "Yet, this is stil in HTML format, therefore using the ``.string`` allows for a more conventional layout."
      ]
    },
    {
      "cell_type": "code",
      "metadata": {
        "colab": {
          "base_uri": "https://localhost:8080/",
          "height": 34
        },
        "id": "ENWhB2qaueGh",
        "outputId": "f9bbd8ae-7eff-422a-e26e-6082a7f3e5e1"
      },
      "source": [
        "soup.title.string\n"
      ],
      "execution_count": null,
      "outputs": [
        {
          "output_type": "execute_result",
          "data": {
            "application/vnd.google.colaboratory.intrinsic+json": {
              "type": "string"
            },
            "text/plain": [
              "'Furtif 28, modèle unique., 2020, 2h, CHF 295.000,- | bateau24.ch'"
            ]
          },
          "metadata": {
            "tags": []
          },
          "execution_count": 13
        }
      ]
    },
    {
      "cell_type": "markdown",
      "metadata": {
        "id": "MI6Mj7DaBAzQ"
      },
      "source": [
        "To go further with this laboratory and with Data retreival after parsing, some html notions are required. In essence, you should get acquainted with concepts like **HTML tags**. Several functions and manipulations allowed by beautifulSoup rely on the different tags (headers,divisions, paragraphs, classes, ids etc..) to retreive the data they contain. You can find more on HTML tags [here](https://www.w3schools.com/html/html_elements.asp).\n",
        "\n",
        "**Important** : All the manipulations that are performed bellow rely on a study of the HTML body of the repsonse. As it is specific to the website, it is fundamental to understand how to retreive the information and how where to get it from.  \n",
        "\n",
        "In the next cell, we use the \"`a`\" tag as it is generally used for website links embedding (combined with ``href``). \n",
        "\n",
        "``soup.find`` and ``soup.find_all`` will be extensively in this lab to navigate the data structure, please do not hesitate to refere to the correpsonding  [documentation](https://https://www.crummy.com/software/BeautifulSoup/bs4/doc/) for more information.\n"
      ]
    },
    {
      "cell_type": "code",
      "metadata": {
        "colab": {
          "base_uri": "https://localhost:8080/"
        },
        "id": "kZjmpyJLu--P",
        "outputId": "78eba2e6-d575-43f8-8794-b611eb57aef2"
      },
      "source": [
        "links = soup.find_all('a')\n",
        "print('The webpage cointains {0} links...'.format(len(links)))"
      ],
      "execution_count": null,
      "outputs": [
        {
          "output_type": "stream",
          "text": [
            "The webpage cointains 141 links...\n"
          ],
          "name": "stdout"
        }
      ]
    },
    {
      "cell_type": "markdown",
      "metadata": {
        "id": "6I8s5mzzEZb8"
      },
      "source": [
        "Analysis of the body can also allow us to easily retreive the purchase price. "
      ]
    },
    {
      "cell_type": "code",
      "metadata": {
        "colab": {
          "base_uri": "https://localhost:8080/",
          "height": 34
        },
        "id": "tOD0bt61hQSa",
        "outputId": "7bc9110e-a975-437c-cc62-d28181fd1f6b"
      },
      "source": [
        "price = soup.find_all('span',class_=\"list__value list__value--large\")\n",
        "price[0].text"
      ],
      "execution_count": null,
      "outputs": [
        {
          "output_type": "execute_result",
          "data": {
            "application/vnd.google.colaboratory.intrinsic+json": {
              "type": "string"
            },
            "text/plain": [
              "'CHF 295.000,-'"
            ]
          },
          "metadata": {
            "tags": []
          },
          "execution_count": 15
        }
      ]
    },
    {
      "cell_type": "markdown",
      "metadata": {
        "id": "4quEHHOTEyx7"
      },
      "source": [
        "Another usefull concept of html on wich BeautifulSoup relies is the notion of children. In fact, in HTML, tags are often assembled as a serie of containers each containg other tags. It is typical of a documented object model structure, you can find more clicking on this link : [DOM](https://www.w3schools.com/whatis/whatis_htmldom.asp).\n",
        "\n",
        "Inspecting the page and using this notion led to the following commands to retreive the advertisment metadata. "
      ]
    },
    {
      "cell_type": "code",
      "metadata": {
        "colab": {
          "base_uri": "https://localhost:8080/"
        },
        "id": "YUbCOXNRkaB_",
        "outputId": "44f76b44-1a70-48f6-ec2d-0ec4cd8358d5"
      },
      "source": [
        "t=soup.find(\"ul\",class_=\"list list--space-8\")\n",
        "\n",
        "for child in t.children:\n",
        "    print(child.text)"
      ],
      "execution_count": null,
      "outputs": [
        {
          "output_type": "stream",
          "text": [
            "Identifiant: 463101\n",
            "Publiée le: 08.02.2021\n",
            "Nombre de vues depuis 7 jours: 523\n",
            "Dans les favoris: de 1 personnes\n"
          ],
          "name": "stdout"
        }
      ]
    },
    {
      "cell_type": "markdown",
      "metadata": {
        "id": "DsfdWpHYGR8_"
      },
      "source": [
        "Similarly, you can also retreive and display articles with their links worth consulting as they are similar to the boat we seem to be interested in. "
      ]
    },
    {
      "cell_type": "code",
      "metadata": {
        "id": "dCve6Z_rBC4_",
        "colab": {
          "base_uri": "https://localhost:8080/"
        },
        "outputId": "4a4725dc-d734-4109-81de-d3c1a68a1579"
      },
      "source": [
        "t = soup.find_all(\"div\", class_=\"blurb__link-area js-link\")\n",
        "for link in t:\n",
        "    link_ = link.findAll('a', attrs={'href': re.compile(\"^https://\")})\n",
        "    print( \"Item : {0}, Link : {1}\".format( link_[0].text,link_[0].get('href') ))\n",
        "        "
      ],
      "execution_count": null,
      "outputs": [
        {
          "output_type": "stream",
          "text": [
            "Item : Chris Craft Catalina 30, Link : https://www.bateau24.ch/chfr/bateauxamoteur/chris-craft/chris-craft-catalina-30/detail/463495/\n",
            "Item : De Antonio Yachts D34 Cruiser, Link : https://www.bateau24.ch/chfr/bateauxamoteur/de-antonio-yachts/de-antonio-yachts-d34-cruiser/detail/435166/\n",
            "Item : Nuova Jolly Prince 38 CC, Link : https://www.bateau24.ch/chfr/bateauxamoteur/nuova-jolly/nuova-jolly-prince-38-cc/detail/463424/\n",
            "Item : De Antonio Yachts D28 Open, Link : https://www.bateau24.ch/chfr/bateauxamoteur/de-antonio-yachts/de-antonio-yachts-d28-open/detail/330366/\n"
          ],
          "name": "stdout"
        }
      ]
    },
    {
      "cell_type": "markdown",
      "metadata": {
        "id": "20eb7zBIHdp5"
      },
      "source": [
        "Now, we are interesting in getting the description for our boat, to that end, we first retreived the according section in the page. "
      ]
    },
    {
      "cell_type": "code",
      "metadata": {
        "colab": {
          "base_uri": "https://localhost:8080/"
        },
        "id": "M34oni74fBJQ",
        "outputId": "e98cb643-de35-4db1-ae6f-9773b1176f84"
      },
      "source": [
        "informations = soup.find_all(\"ul\",class_=\"list l-mt-16\")\n",
        "informations\n"
      ],
      "execution_count": null,
      "outputs": [
        {
          "output_type": "execute_result",
          "data": {
            "text/plain": [
              "[<ul class=\"list l-mt-16\">\n",
              " <li><span class=\"list__value\">9.00 m x 2.80 m</span><span class=\"list__key\">longueur x largeur</span></li>\n",
              " <li><span class=\"list__value\">1.00 m</span><span class=\"list__key\">tirant d'eau</span></li>\n",
              " <li><span class=\"list__value\">2'200 kg</span><span class=\"list__key\">déplacement</span></li>\n",
              " <li><span class=\"list__value\">C - Eaux côtières</span><span class=\"list__key\">catégorie de conception ce</span></li>\n",
              " <li><span class=\"list__value\">Bois</span><span class=\"list__key\">matériau</span></li>\n",
              " </ul>, <ul class=\"list l-mt-16\">\n",
              " <li><span class=\"list__value\">8 personnes</span><span class=\"list__key\">nombre de personnes admises</span></li>\n",
              " <li><span class=\"list__value\">1 cabine</span><span class=\"list__key\">nombre de cabines</span></li>\n",
              " <li><span class=\"list__value\">1 couchette</span><span class=\"list__key\">nombre de couchettes</span></li>\n",
              " <li><span class=\"list__value\">50 l Eau</span><span class=\"list__key\">réservoir d'eau douce</span></li>\n",
              " </ul>, <ul class=\"list l-mt-16\">\n",
              " <li><span class=\"list__value\">Hors-bord 4 temps</span><span class=\"list__key\">propulsion</span></li>\n",
              " <li><span class=\"list__value\">Mercury</span><span class=\"list__key\">moteur</span></li>\n",
              " <li><span class=\"list__value\">1 x 350 cv / 257 kW</span><span class=\"list__key\">puissance du moteur</span></li>\n",
              " <li><span class=\"list__value\">sans plomb</span><span class=\"list__key\">carburant</span></li>\n",
              " <li><span class=\"list__value\">250 l</span><span class=\"list__key\">réservoir de carburant</span></li>\n",
              " <li><span class=\"list__value\">2 h</span><span class=\"list__key\">heures moteur</span></li></ul>]"
            ]
          },
          "metadata": {
            "tags": []
          },
          "execution_count": 18
        }
      ]
    },
    {
      "cell_type": "markdown",
      "metadata": {
        "id": "Eg0DNzPeH0Fy"
      },
      "source": [
        "Each part can be separatly processed. We can choose to view the first 5 characteristics. "
      ]
    },
    {
      "cell_type": "code",
      "metadata": {
        "colab": {
          "base_uri": "https://localhost:8080/"
        },
        "id": "2NK8rrjIfBOM",
        "outputId": "999f547d-a899-4909-c5e3-6da1e2303413"
      },
      "source": [
        "[description,description2,description3]= informations[0],informations[1],informations[2]\n",
        "description"
      ],
      "execution_count": null,
      "outputs": [
        {
          "output_type": "execute_result",
          "data": {
            "text/plain": [
              "<ul class=\"list l-mt-16\">\n",
              "<li><span class=\"list__value\">9.00 m x 2.80 m</span><span class=\"list__key\">longueur x largeur</span></li>\n",
              "<li><span class=\"list__value\">1.00 m</span><span class=\"list__key\">tirant d'eau</span></li>\n",
              "<li><span class=\"list__value\">2'200 kg</span><span class=\"list__key\">déplacement</span></li>\n",
              "<li><span class=\"list__value\">C - Eaux côtières</span><span class=\"list__key\">catégorie de conception ce</span></li>\n",
              "<li><span class=\"list__value\">Bois</span><span class=\"list__key\">matériau</span></li>\n",
              "</ul>"
            ]
          },
          "metadata": {
            "tags": []
          },
          "execution_count": 19
        }
      ]
    },
    {
      "cell_type": "code",
      "metadata": {
        "id": "yPbNkTyCxKFk"
      },
      "source": [
        "list__value =description.find_all(\"span\", class_=\"list__value\")\n",
        "list__key =description.find_all(\"span\", class_=\"list__key\")\n",
        "  "
      ],
      "execution_count": null,
      "outputs": []
    },
    {
      "cell_type": "code",
      "metadata": {
        "colab": {
          "base_uri": "https://localhost:8080/"
        },
        "id": "yiEaM0B1jWev",
        "outputId": "e401573b-9d73-4c32-bebe-5970614aedcf"
      },
      "source": [
        "list__value"
      ],
      "execution_count": null,
      "outputs": [
        {
          "output_type": "execute_result",
          "data": {
            "text/plain": [
              "[<span class=\"list__value\">9.00 m x 2.80 m</span>,\n",
              " <span class=\"list__value\">1.00 m</span>,\n",
              " <span class=\"list__value\">2'200 kg</span>,\n",
              " <span class=\"list__value\">C - Eaux côtières</span>,\n",
              " <span class=\"list__value\">Bois</span>]"
            ]
          },
          "metadata": {
            "tags": []
          },
          "execution_count": 21
        }
      ]
    },
    {
      "cell_type": "markdown",
      "metadata": {
        "id": "AXOnVGSOILy8"
      },
      "source": [
        "Here comes Pandas and its Dataframes. We put the information in a two column Dataframe that could be further used. "
      ]
    },
    {
      "cell_type": "code",
      "metadata": {
        "id": "gwfoC8-2hYjF"
      },
      "source": [
        "\n",
        "specs = pd.DataFrame(data={\n",
        "     'list__key': list__key,'list__value': list__value})"
      ],
      "execution_count": null,
      "outputs": []
    },
    {
      "cell_type": "code",
      "metadata": {
        "colab": {
          "base_uri": "https://localhost:8080/",
          "height": 201
        },
        "id": "aj7iNfckgzbL",
        "outputId": "5d110ca7-9bc7-4078-c8f7-9b3472e06f73"
      },
      "source": [
        "specs"
      ],
      "execution_count": null,
      "outputs": [
        {
          "output_type": "execute_result",
          "data": {
            "text/html": [
              "<div>\n",
              "<style scoped>\n",
              "    .dataframe tbody tr th:only-of-type {\n",
              "        vertical-align: middle;\n",
              "    }\n",
              "\n",
              "    .dataframe tbody tr th {\n",
              "        vertical-align: top;\n",
              "    }\n",
              "\n",
              "    .dataframe thead th {\n",
              "        text-align: right;\n",
              "    }\n",
              "</style>\n",
              "<table border=\"1\" class=\"dataframe\">\n",
              "  <thead>\n",
              "    <tr style=\"text-align: right;\">\n",
              "      <th></th>\n",
              "      <th>list__key</th>\n",
              "      <th>list__value</th>\n",
              "    </tr>\n",
              "  </thead>\n",
              "  <tbody>\n",
              "    <tr>\n",
              "      <th>0</th>\n",
              "      <td>[longueur x largeur]</td>\n",
              "      <td>[9.00 m x 2.80 m]</td>\n",
              "    </tr>\n",
              "    <tr>\n",
              "      <th>1</th>\n",
              "      <td>[tirant d'eau]</td>\n",
              "      <td>[1.00 m]</td>\n",
              "    </tr>\n",
              "    <tr>\n",
              "      <th>2</th>\n",
              "      <td>[déplacement]</td>\n",
              "      <td>[2'200 kg]</td>\n",
              "    </tr>\n",
              "    <tr>\n",
              "      <th>3</th>\n",
              "      <td>[catégorie de conception ce]</td>\n",
              "      <td>[C - Eaux côtières]</td>\n",
              "    </tr>\n",
              "    <tr>\n",
              "      <th>4</th>\n",
              "      <td>[matériau]</td>\n",
              "      <td>[Bois]</td>\n",
              "    </tr>\n",
              "  </tbody>\n",
              "</table>\n",
              "</div>"
            ],
            "text/plain": [
              "                      list__key          list__value\n",
              "0          [longueur x largeur]    [9.00 m x 2.80 m]\n",
              "1                [tirant d'eau]             [1.00 m]\n",
              "2                 [déplacement]           [2'200 kg]\n",
              "3  [catégorie de conception ce]  [C - Eaux côtières]\n",
              "4                    [matériau]               [Bois]"
            ]
          },
          "metadata": {
            "tags": []
          },
          "execution_count": 23
        }
      ]
    },
    {
      "cell_type": "markdown",
      "metadata": {
        "id": "7T7AOFGPIaIP"
      },
      "source": [
        "For processing purposes, we get rid of the braquets, it is trickier than it looks as the dtype of the dataframe is not ``string``. You can investigate the innerworkings of this command to feel more comfertable with the output. "
      ]
    },
    {
      "cell_type": "code",
      "metadata": {
        "id": "k_7NjVhtbghG"
      },
      "source": [
        "specs.list__key=specs.list__key.apply(lambda x: re.search('>(.*)<',str(x)).group(1) )\n"
      ],
      "execution_count": null,
      "outputs": []
    },
    {
      "cell_type": "code",
      "metadata": {
        "colab": {
          "base_uri": "https://localhost:8080/",
          "height": 201
        },
        "id": "-SvUDszBjZRe",
        "outputId": "08f91a87-deb9-4279-9c01-909dd6372845"
      },
      "source": [
        "specs"
      ],
      "execution_count": null,
      "outputs": [
        {
          "output_type": "execute_result",
          "data": {
            "text/html": [
              "<div>\n",
              "<style scoped>\n",
              "    .dataframe tbody tr th:only-of-type {\n",
              "        vertical-align: middle;\n",
              "    }\n",
              "\n",
              "    .dataframe tbody tr th {\n",
              "        vertical-align: top;\n",
              "    }\n",
              "\n",
              "    .dataframe thead th {\n",
              "        text-align: right;\n",
              "    }\n",
              "</style>\n",
              "<table border=\"1\" class=\"dataframe\">\n",
              "  <thead>\n",
              "    <tr style=\"text-align: right;\">\n",
              "      <th></th>\n",
              "      <th>list__key</th>\n",
              "      <th>list__value</th>\n",
              "    </tr>\n",
              "  </thead>\n",
              "  <tbody>\n",
              "    <tr>\n",
              "      <th>0</th>\n",
              "      <td>longueur x largeur</td>\n",
              "      <td>[9.00 m x 2.80 m]</td>\n",
              "    </tr>\n",
              "    <tr>\n",
              "      <th>1</th>\n",
              "      <td>tirant d'eau</td>\n",
              "      <td>[1.00 m]</td>\n",
              "    </tr>\n",
              "    <tr>\n",
              "      <th>2</th>\n",
              "      <td>déplacement</td>\n",
              "      <td>[2'200 kg]</td>\n",
              "    </tr>\n",
              "    <tr>\n",
              "      <th>3</th>\n",
              "      <td>catégorie de conception ce</td>\n",
              "      <td>[C - Eaux côtières]</td>\n",
              "    </tr>\n",
              "    <tr>\n",
              "      <th>4</th>\n",
              "      <td>matériau</td>\n",
              "      <td>[Bois]</td>\n",
              "    </tr>\n",
              "  </tbody>\n",
              "</table>\n",
              "</div>"
            ],
            "text/plain": [
              "                    list__key          list__value\n",
              "0          longueur x largeur    [9.00 m x 2.80 m]\n",
              "1                tirant d'eau             [1.00 m]\n",
              "2                 déplacement           [2'200 kg]\n",
              "3  catégorie de conception ce  [C - Eaux côtières]\n",
              "4                    matériau               [Bois]"
            ]
          },
          "metadata": {
            "tags": []
          },
          "execution_count": 25
        }
      ]
    },
    {
      "cell_type": "code",
      "metadata": {
        "id": "NuJC_E90hx-4"
      },
      "source": [
        "list__value =description2.find(\"span\", class_=\"list__value\")\n",
        "list__key =description2.find_all(\"span\", class_=\"list__key\")\n",
        "specs2 = pd.DataFrame(data={'list__value': list__value,\n",
        "     'list__key': list__key})"
      ],
      "execution_count": null,
      "outputs": []
    },
    {
      "cell_type": "code",
      "metadata": {
        "id": "reqOTCORhyE8"
      },
      "source": [
        "list__value =description3.find(\"span\", class_=\"list__value\")\n",
        "list__key =description3.find_all(\"span\", class_=\"list__key\")\n",
        "specs3 = pd.DataFrame(data={'list__value': list__value,\n",
        "     'list__key': list__key})"
      ],
      "execution_count": null,
      "outputs": []
    },
    {
      "cell_type": "code",
      "metadata": {
        "colab": {
          "base_uri": "https://localhost:8080/",
          "height": 504
        },
        "id": "AgXF_stFh5vU",
        "outputId": "866ba36c-3f3e-4d2e-842d-7b920108661f"
      },
      "source": [
        "concatenated = pd.concat([specs,specs2,specs3])\n",
        "\n",
        "concatenated"
      ],
      "execution_count": null,
      "outputs": [
        {
          "output_type": "execute_result",
          "data": {
            "text/html": [
              "<div>\n",
              "<style scoped>\n",
              "    .dataframe tbody tr th:only-of-type {\n",
              "        vertical-align: middle;\n",
              "    }\n",
              "\n",
              "    .dataframe tbody tr th {\n",
              "        vertical-align: top;\n",
              "    }\n",
              "\n",
              "    .dataframe thead th {\n",
              "        text-align: right;\n",
              "    }\n",
              "</style>\n",
              "<table border=\"1\" class=\"dataframe\">\n",
              "  <thead>\n",
              "    <tr style=\"text-align: right;\">\n",
              "      <th></th>\n",
              "      <th>list__key</th>\n",
              "      <th>list__value</th>\n",
              "    </tr>\n",
              "  </thead>\n",
              "  <tbody>\n",
              "    <tr>\n",
              "      <th>0</th>\n",
              "      <td>longueur x largeur</td>\n",
              "      <td>[9.00 m x 2.80 m]</td>\n",
              "    </tr>\n",
              "    <tr>\n",
              "      <th>1</th>\n",
              "      <td>tirant d'eau</td>\n",
              "      <td>[1.00 m]</td>\n",
              "    </tr>\n",
              "    <tr>\n",
              "      <th>2</th>\n",
              "      <td>déplacement</td>\n",
              "      <td>[2'200 kg]</td>\n",
              "    </tr>\n",
              "    <tr>\n",
              "      <th>3</th>\n",
              "      <td>catégorie de conception ce</td>\n",
              "      <td>[C - Eaux côtières]</td>\n",
              "    </tr>\n",
              "    <tr>\n",
              "      <th>4</th>\n",
              "      <td>matériau</td>\n",
              "      <td>[Bois]</td>\n",
              "    </tr>\n",
              "    <tr>\n",
              "      <th>0</th>\n",
              "      <td>[nombre de personnes admises]</td>\n",
              "      <td>8 personnes</td>\n",
              "    </tr>\n",
              "    <tr>\n",
              "      <th>1</th>\n",
              "      <td>[nombre de cabines]</td>\n",
              "      <td>8 personnes</td>\n",
              "    </tr>\n",
              "    <tr>\n",
              "      <th>2</th>\n",
              "      <td>[nombre de couchettes]</td>\n",
              "      <td>8 personnes</td>\n",
              "    </tr>\n",
              "    <tr>\n",
              "      <th>3</th>\n",
              "      <td>[réservoir d'eau douce]</td>\n",
              "      <td>8 personnes</td>\n",
              "    </tr>\n",
              "    <tr>\n",
              "      <th>0</th>\n",
              "      <td>[propulsion]</td>\n",
              "      <td>Hors-bord 4 temps</td>\n",
              "    </tr>\n",
              "    <tr>\n",
              "      <th>1</th>\n",
              "      <td>[moteur]</td>\n",
              "      <td>Hors-bord 4 temps</td>\n",
              "    </tr>\n",
              "    <tr>\n",
              "      <th>2</th>\n",
              "      <td>[puissance du moteur]</td>\n",
              "      <td>Hors-bord 4 temps</td>\n",
              "    </tr>\n",
              "    <tr>\n",
              "      <th>3</th>\n",
              "      <td>[carburant]</td>\n",
              "      <td>Hors-bord 4 temps</td>\n",
              "    </tr>\n",
              "    <tr>\n",
              "      <th>4</th>\n",
              "      <td>[réservoir de carburant]</td>\n",
              "      <td>Hors-bord 4 temps</td>\n",
              "    </tr>\n",
              "    <tr>\n",
              "      <th>5</th>\n",
              "      <td>[heures moteur]</td>\n",
              "      <td>Hors-bord 4 temps</td>\n",
              "    </tr>\n",
              "  </tbody>\n",
              "</table>\n",
              "</div>"
            ],
            "text/plain": [
              "                       list__key          list__value\n",
              "0             longueur x largeur    [9.00 m x 2.80 m]\n",
              "1                   tirant d'eau             [1.00 m]\n",
              "2                    déplacement           [2'200 kg]\n",
              "3     catégorie de conception ce  [C - Eaux côtières]\n",
              "4                       matériau               [Bois]\n",
              "0  [nombre de personnes admises]          8 personnes\n",
              "1            [nombre de cabines]          8 personnes\n",
              "2         [nombre de couchettes]          8 personnes\n",
              "3        [réservoir d'eau douce]          8 personnes\n",
              "0                   [propulsion]    Hors-bord 4 temps\n",
              "1                       [moteur]    Hors-bord 4 temps\n",
              "2          [puissance du moteur]    Hors-bord 4 temps\n",
              "3                    [carburant]    Hors-bord 4 temps\n",
              "4       [réservoir de carburant]    Hors-bord 4 temps\n",
              "5                [heures moteur]    Hors-bord 4 temps"
            ]
          },
          "metadata": {
            "tags": []
          },
          "execution_count": 29
        }
      ]
    },
    {
      "cell_type": "markdown",
      "metadata": {
        "id": "2xHTYcO7I9iL"
      },
      "source": [
        "**Advanced**\n",
        "\n",
        "Now, we use a different approach to get all the characteristics at once. Yet, there is one odd piece of Data in our Dataframe, can you notice it ? "
      ]
    },
    {
      "cell_type": "code",
      "metadata": {
        "id": "2tAOYAP5iaRp"
      },
      "source": [
        "\n",
        "list__value =soup.find_all(\"span\", class_=\"list__value\")\n",
        "list__key =soup.find_all(\"span\", class_=\"list__key\")\n",
        "furn = pd.DataFrame(data={'list__value': list__value,\n",
        "     'list__key': list__key})\n",
        "furn.list__value=furn.list__value.apply(lambda x: re.search('>(.*)<',str(x)).group(1) )\n",
        "furn.list__key=furn.list__key.apply(lambda x: re.search('>(.*)<',str(x)).group(1) )"
      ],
      "execution_count": null,
      "outputs": []
    },
    {
      "cell_type": "code",
      "metadata": {
        "colab": {
          "base_uri": "https://localhost:8080/",
          "height": 201
        },
        "id": "ioR5c_zSiaWM",
        "outputId": "01b1acef-43e2-4997-c6b3-eacafea7e4cc"
      },
      "source": [
        "furn.head()"
      ],
      "execution_count": null,
      "outputs": [
        {
          "output_type": "execute_result",
          "data": {
            "text/html": [
              "<div>\n",
              "<style scoped>\n",
              "    .dataframe tbody tr th:only-of-type {\n",
              "        vertical-align: middle;\n",
              "    }\n",
              "\n",
              "    .dataframe tbody tr th {\n",
              "        vertical-align: top;\n",
              "    }\n",
              "\n",
              "    .dataframe thead th {\n",
              "        text-align: right;\n",
              "    }\n",
              "</style>\n",
              "<table border=\"1\" class=\"dataframe\">\n",
              "  <thead>\n",
              "    <tr style=\"text-align: right;\">\n",
              "      <th></th>\n",
              "      <th>list__value</th>\n",
              "      <th>list__key</th>\n",
              "    </tr>\n",
              "  </thead>\n",
              "  <tbody>\n",
              "    <tr>\n",
              "      <th>0</th>\n",
              "      <td>CHF 295.000,-</td>\n",
              "      <td></td>\n",
              "    </tr>\n",
              "    <tr>\n",
              "      <th>1</th>\n",
              "      <td>2020</td>\n",
              "      <td>année de fabrication</td>\n",
              "    </tr>\n",
              "    <tr>\n",
              "      <th>2</th>\n",
              "      <td>neuf</td>\n",
              "      <td>état</td>\n",
              "    </tr>\n",
              "    <tr>\n",
              "      <th>3</th>\n",
              "      <td>9.00 m x 2.80 m</td>\n",
              "      <td>longueur x largeur</td>\n",
              "    </tr>\n",
              "    <tr>\n",
              "      <th>4</th>\n",
              "      <td>1.00 m</td>\n",
              "      <td>tirant d'eau</td>\n",
              "    </tr>\n",
              "  </tbody>\n",
              "</table>\n",
              "</div>"
            ],
            "text/plain": [
              "       list__value             list__key\n",
              "0    CHF 295.000,-                      \n",
              "1             2020  année de fabrication\n",
              "2             neuf                  état\n",
              "3  9.00 m x 2.80 m    longueur x largeur\n",
              "4           1.00 m          tirant d'eau"
            ]
          },
          "metadata": {
            "tags": []
          },
          "execution_count": 31
        }
      ]
    },
    {
      "cell_type": "code",
      "metadata": {
        "colab": {
          "base_uri": "https://localhost:8080/",
          "height": 565
        },
        "id": "Ty-vG-iNusRV",
        "outputId": "3d0bf954-1b26-40b3-920d-32979ff18c49"
      },
      "source": [
        "furn[1:]"
      ],
      "execution_count": null,
      "outputs": [
        {
          "output_type": "execute_result",
          "data": {
            "text/html": [
              "<div>\n",
              "<style scoped>\n",
              "    .dataframe tbody tr th:only-of-type {\n",
              "        vertical-align: middle;\n",
              "    }\n",
              "\n",
              "    .dataframe tbody tr th {\n",
              "        vertical-align: top;\n",
              "    }\n",
              "\n",
              "    .dataframe thead th {\n",
              "        text-align: right;\n",
              "    }\n",
              "</style>\n",
              "<table border=\"1\" class=\"dataframe\">\n",
              "  <thead>\n",
              "    <tr style=\"text-align: right;\">\n",
              "      <th></th>\n",
              "      <th>list__value</th>\n",
              "      <th>list__key</th>\n",
              "    </tr>\n",
              "  </thead>\n",
              "  <tbody>\n",
              "    <tr>\n",
              "      <th>1</th>\n",
              "      <td>2020</td>\n",
              "      <td>année de fabrication</td>\n",
              "    </tr>\n",
              "    <tr>\n",
              "      <th>2</th>\n",
              "      <td>neuf</td>\n",
              "      <td>état</td>\n",
              "    </tr>\n",
              "    <tr>\n",
              "      <th>3</th>\n",
              "      <td>9.00 m x 2.80 m</td>\n",
              "      <td>longueur x largeur</td>\n",
              "    </tr>\n",
              "    <tr>\n",
              "      <th>4</th>\n",
              "      <td>1.00 m</td>\n",
              "      <td>tirant d'eau</td>\n",
              "    </tr>\n",
              "    <tr>\n",
              "      <th>5</th>\n",
              "      <td>2'200 kg</td>\n",
              "      <td>déplacement</td>\n",
              "    </tr>\n",
              "    <tr>\n",
              "      <th>6</th>\n",
              "      <td>C - Eaux côtières</td>\n",
              "      <td>catégorie de conception ce</td>\n",
              "    </tr>\n",
              "    <tr>\n",
              "      <th>7</th>\n",
              "      <td>Bois</td>\n",
              "      <td>matériau</td>\n",
              "    </tr>\n",
              "    <tr>\n",
              "      <th>8</th>\n",
              "      <td>8 personnes</td>\n",
              "      <td>nombre de personnes admises</td>\n",
              "    </tr>\n",
              "    <tr>\n",
              "      <th>9</th>\n",
              "      <td>1 cabine</td>\n",
              "      <td>nombre de cabines</td>\n",
              "    </tr>\n",
              "    <tr>\n",
              "      <th>10</th>\n",
              "      <td>1 couchette</td>\n",
              "      <td>nombre de couchettes</td>\n",
              "    </tr>\n",
              "    <tr>\n",
              "      <th>11</th>\n",
              "      <td>50 l Eau</td>\n",
              "      <td>réservoir d'eau douce</td>\n",
              "    </tr>\n",
              "    <tr>\n",
              "      <th>12</th>\n",
              "      <td>Hors-bord 4 temps</td>\n",
              "      <td>propulsion</td>\n",
              "    </tr>\n",
              "    <tr>\n",
              "      <th>13</th>\n",
              "      <td>Mercury</td>\n",
              "      <td>moteur</td>\n",
              "    </tr>\n",
              "    <tr>\n",
              "      <th>14</th>\n",
              "      <td>1 x 350 cv / 257 kW</td>\n",
              "      <td>puissance du moteur</td>\n",
              "    </tr>\n",
              "    <tr>\n",
              "      <th>15</th>\n",
              "      <td>sans plomb</td>\n",
              "      <td>carburant</td>\n",
              "    </tr>\n",
              "    <tr>\n",
              "      <th>16</th>\n",
              "      <td>250 l</td>\n",
              "      <td>réservoir de carburant</td>\n",
              "    </tr>\n",
              "    <tr>\n",
              "      <th>17</th>\n",
              "      <td>2 h</td>\n",
              "      <td>heures moteur</td>\n",
              "    </tr>\n",
              "  </tbody>\n",
              "</table>\n",
              "</div>"
            ],
            "text/plain": [
              "            list__value                    list__key\n",
              "1                  2020         année de fabrication\n",
              "2                  neuf                         état\n",
              "3       9.00 m x 2.80 m           longueur x largeur\n",
              "4                1.00 m                 tirant d'eau\n",
              "5              2'200 kg                  déplacement\n",
              "6     C - Eaux côtières   catégorie de conception ce\n",
              "7                  Bois                     matériau\n",
              "8           8 personnes  nombre de personnes admises\n",
              "9              1 cabine            nombre de cabines\n",
              "10          1 couchette         nombre de couchettes\n",
              "11             50 l Eau        réservoir d'eau douce\n",
              "12    Hors-bord 4 temps                   propulsion\n",
              "13              Mercury                       moteur\n",
              "14  1 x 350 cv / 257 kW          puissance du moteur\n",
              "15           sans plomb                    carburant\n",
              "16                250 l       réservoir de carburant\n",
              "17                  2 h                heures moteur"
            ]
          },
          "metadata": {
            "tags": []
          },
          "execution_count": 32
        }
      ]
    },
    {
      "cell_type": "markdown",
      "metadata": {
        "id": "1C_urPUSYx2A"
      },
      "source": [
        "## Scrapping exercise \n",
        "\n",
        "Now, we want you to exercise your scrapping skills to rapidly retreive [the list of countries by unemployment rate.]('https://en.wikipedia.org/wiki/List_of_countries_by_unemployment_rate'). \n",
        "\n",
        "Result should look this way : \n",
        "![Capture d’écran 2021-03-02 à 11.11.34.png](data:image/png;base64,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)"
      ]
    },
    {
      "cell_type": "markdown",
      "metadata": {
        "id": "jyij8neZz4yD"
      },
      "source": [
        "# <a class=\"anchor\"></a> 1. Exploratory Data Analysis\r\n",
        "\r\n",
        "\r\n",
        "\r\n"
      ]
    },
    {
      "cell_type": "markdown",
      "metadata": {
        "id": "izvXpAkgrfDY"
      },
      "source": [
        "Now lets get into the Data Analysis per say. This part will extensively rely on the Pandas Dataframes, and functions. Please do not hesitate to refer to last sessions introduction if you don't feel yet comfortable. Throughout this part, you will learn more about the dtypes of data you can find in data frame and manipulate its columns for analysis purposes. "
      ]
    },
    {
      "cell_type": "markdown",
      "metadata": {
        "id": "5gy-XniJZG9p"
      },
      "source": [
        "## <a class=\"anchor\"></a> 1.1. Loading and getting a first look at our Data \r\n"
      ]
    },
    {
      "cell_type": "code",
      "metadata": {
        "id": "HNZaB3NzUPt5"
      },
      "source": [
        "#Let's import pandas\r\n",
        "import pandas as pd\r\n",
        "import numpy as np\r\n",
        "import matplotlib\r\n",
        "import matplotlib.pyplot as plt\r\n",
        "import seaborn as sns\r\n"
      ],
      "execution_count": null,
      "outputs": []
    },
    {
      "cell_type": "markdown",
      "metadata": {
        "id": "2Tc1olNXUl6D"
      },
      "source": [
        "The dataset we will use is available under the following url :`'https://data.cityofnewyork.us/api/views/43nn-pn8j/rows.csv?accessType=DOWNLOAD'`. This dataset containts the results of restaurant inspections in NYC."
      ]
    },
    {
      "cell_type": "code",
      "metadata": {
        "colab": {
          "base_uri": "https://localhost:8080/",
          "height": 649
        },
        "id": "3R9aJHOtVAep",
        "outputId": "eee29c40-006e-4285-ab41-70a798465108"
      },
      "source": [
        "#You should already know what this block of code does. Ignore the arguments after url for now\r\n",
        "restaurants = pd.read_csv('https://data.cityofnewyork.us/api/views/43nn-pn8j/rows.csv?accessType=DOWNLOAD')\r\n",
        "\r\n",
        "#Let's have a look at the data\r\n",
        "restaurants.head()"
      ],
      "execution_count": null,
      "outputs": [
        {
          "output_type": "execute_result",
          "data": {
            "text/html": [
              "<div>\n",
              "<style scoped>\n",
              "    .dataframe tbody tr th:only-of-type {\n",
              "        vertical-align: middle;\n",
              "    }\n",
              "\n",
              "    .dataframe tbody tr th {\n",
              "        vertical-align: top;\n",
              "    }\n",
              "\n",
              "    .dataframe thead th {\n",
              "        text-align: right;\n",
              "    }\n",
              "</style>\n",
              "<table border=\"1\" class=\"dataframe\">\n",
              "  <thead>\n",
              "    <tr style=\"text-align: right;\">\n",
              "      <th></th>\n",
              "      <th>CAMIS</th>\n",
              "      <th>DBA</th>\n",
              "      <th>BORO</th>\n",
              "      <th>BUILDING</th>\n",
              "      <th>STREET</th>\n",
              "      <th>ZIPCODE</th>\n",
              "      <th>PHONE</th>\n",
              "      <th>CUISINE DESCRIPTION</th>\n",
              "      <th>INSPECTION DATE</th>\n",
              "      <th>ACTION</th>\n",
              "      <th>VIOLATION CODE</th>\n",
              "      <th>VIOLATION DESCRIPTION</th>\n",
              "      <th>CRITICAL FLAG</th>\n",
              "      <th>SCORE</th>\n",
              "      <th>GRADE</th>\n",
              "      <th>GRADE DATE</th>\n",
              "      <th>RECORD DATE</th>\n",
              "      <th>INSPECTION TYPE</th>\n",
              "      <th>Latitude</th>\n",
              "      <th>Longitude</th>\n",
              "      <th>Community Board</th>\n",
              "      <th>Council District</th>\n",
              "      <th>Census Tract</th>\n",
              "      <th>BIN</th>\n",
              "      <th>BBL</th>\n",
              "      <th>NTA</th>\n",
              "    </tr>\n",
              "  </thead>\n",
              "  <tbody>\n",
              "    <tr>\n",
              "      <th>0</th>\n",
              "      <td>41047941</td>\n",
              "      <td>SWEETWATER RESTAURANT</td>\n",
              "      <td>Brooklyn</td>\n",
              "      <td>105</td>\n",
              "      <td>NORTH    6 STREET</td>\n",
              "      <td>11249.0</td>\n",
              "      <td>7189630608</td>\n",
              "      <td>American</td>\n",
              "      <td>11/28/2018</td>\n",
              "      <td>Violations were cited in the following area(s).</td>\n",
              "      <td>08A</td>\n",
              "      <td>Facility not vermin proof. Harborage or condit...</td>\n",
              "      <td>N</td>\n",
              "      <td>14.0</td>\n",
              "      <td>B</td>\n",
              "      <td>11/28/2018</td>\n",
              "      <td>03/02/2021</td>\n",
              "      <td>Cycle Inspection / Re-inspection</td>\n",
              "      <td>40.718318</td>\n",
              "      <td>-73.959979</td>\n",
              "      <td>301.0</td>\n",
              "      <td>33.0</td>\n",
              "      <td>55500.0</td>\n",
              "      <td>3062063.0</td>\n",
              "      <td>3.023260e+09</td>\n",
              "      <td>BK73</td>\n",
              "    </tr>\n",
              "    <tr>\n",
              "      <th>1</th>\n",
              "      <td>50074871</td>\n",
              "      <td>CHEESY KOSHER PIZZA</td>\n",
              "      <td>Brooklyn</td>\n",
              "      <td>314-316</td>\n",
              "      <td>MARCY AVE</td>\n",
              "      <td>11211.0</td>\n",
              "      <td>7185763579</td>\n",
              "      <td>Jewish/Kosher</td>\n",
              "      <td>05/22/2019</td>\n",
              "      <td>Violations were cited in the following area(s).</td>\n",
              "      <td>10F</td>\n",
              "      <td>Non-food contact surface improperly constructe...</td>\n",
              "      <td>N</td>\n",
              "      <td>11.0</td>\n",
              "      <td>A</td>\n",
              "      <td>05/22/2019</td>\n",
              "      <td>03/02/2021</td>\n",
              "      <td>Cycle Inspection / Re-inspection</td>\n",
              "      <td>40.704040</td>\n",
              "      <td>-73.954790</td>\n",
              "      <td>301.0</td>\n",
              "      <td>33.0</td>\n",
              "      <td>53300.0</td>\n",
              "      <td>3060847.0</td>\n",
              "      <td>3.022190e+09</td>\n",
              "      <td>BK72</td>\n",
              "    </tr>\n",
              "    <tr>\n",
              "      <th>2</th>\n",
              "      <td>41040849</td>\n",
              "      <td>DISHES</td>\n",
              "      <td>Manhattan</td>\n",
              "      <td>6</td>\n",
              "      <td>EAST   45 STREET</td>\n",
              "      <td>10017.0</td>\n",
              "      <td>2126875511</td>\n",
              "      <td>American</td>\n",
              "      <td>09/12/2018</td>\n",
              "      <td>Violations were cited in the following area(s).</td>\n",
              "      <td>06F</td>\n",
              "      <td>Wiping cloths soiled or not stored in sanitizi...</td>\n",
              "      <td>Y</td>\n",
              "      <td>38.0</td>\n",
              "      <td>NaN</td>\n",
              "      <td>NaN</td>\n",
              "      <td>03/02/2021</td>\n",
              "      <td>Cycle Inspection / Initial Inspection</td>\n",
              "      <td>40.755212</td>\n",
              "      <td>-73.979062</td>\n",
              "      <td>105.0</td>\n",
              "      <td>4.0</td>\n",
              "      <td>9400.0</td>\n",
              "      <td>1035379.0</td>\n",
              "      <td>1.012790e+09</td>\n",
              "      <td>MN17</td>\n",
              "    </tr>\n",
              "    <tr>\n",
              "      <th>3</th>\n",
              "      <td>41386156</td>\n",
              "      <td>DOUBLE DRAGON RESTAURANT</td>\n",
              "      <td>Brooklyn</td>\n",
              "      <td>7714</td>\n",
              "      <td>13 AVENUE</td>\n",
              "      <td>11228.0</td>\n",
              "      <td>7182388818</td>\n",
              "      <td>Chinese</td>\n",
              "      <td>11/27/2019</td>\n",
              "      <td>Violations were cited in the following area(s).</td>\n",
              "      <td>08A</td>\n",
              "      <td>Facility not vermin proof. Harborage or condit...</td>\n",
              "      <td>N</td>\n",
              "      <td>24.0</td>\n",
              "      <td>NaN</td>\n",
              "      <td>NaN</td>\n",
              "      <td>03/02/2021</td>\n",
              "      <td>Cycle Inspection / Initial Inspection</td>\n",
              "      <td>40.619002</td>\n",
              "      <td>-74.008793</td>\n",
              "      <td>310.0</td>\n",
              "      <td>43.0</td>\n",
              "      <td>20000.0</td>\n",
              "      <td>3161149.0</td>\n",
              "      <td>3.062430e+09</td>\n",
              "      <td>BK30</td>\n",
              "    </tr>\n",
              "    <tr>\n",
              "      <th>4</th>\n",
              "      <td>50069069</td>\n",
              "      <td>MANCINI'S WOOD-FIRED PIZZA</td>\n",
              "      <td>Brooklyn</td>\n",
              "      <td>8504</td>\n",
              "      <td>5 AVENUE</td>\n",
              "      <td>11209.0</td>\n",
              "      <td>9176898401</td>\n",
              "      <td>Italian</td>\n",
              "      <td>10/10/2018</td>\n",
              "      <td>Violations were cited in the following area(s).</td>\n",
              "      <td>10F</td>\n",
              "      <td>Non-food contact surface improperly constructe...</td>\n",
              "      <td>N</td>\n",
              "      <td>4.0</td>\n",
              "      <td>A</td>\n",
              "      <td>10/10/2018</td>\n",
              "      <td>03/02/2021</td>\n",
              "      <td>Cycle Inspection / Initial Inspection</td>\n",
              "      <td>40.622021</td>\n",
              "      <td>-74.025770</td>\n",
              "      <td>310.0</td>\n",
              "      <td>43.0</td>\n",
              "      <td>13800.0</td>\n",
              "      <td>3153165.0</td>\n",
              "      <td>3.060350e+09</td>\n",
              "      <td>BK31</td>\n",
              "    </tr>\n",
              "  </tbody>\n",
              "</table>\n",
              "</div>"
            ],
            "text/plain": [
              "      CAMIS                         DBA  ...           BBL   NTA\n",
              "0  41047941       SWEETWATER RESTAURANT  ...  3.023260e+09  BK73\n",
              "1  50074871         CHEESY KOSHER PIZZA  ...  3.022190e+09  BK72\n",
              "2  41040849                      DISHES  ...  1.012790e+09  MN17\n",
              "3  41386156    DOUBLE DRAGON RESTAURANT  ...  3.062430e+09  BK30\n",
              "4  50069069  MANCINI'S WOOD-FIRED PIZZA  ...  3.060350e+09  BK31\n",
              "\n",
              "[5 rows x 26 columns]"
            ]
          },
          "metadata": {
            "tags": []
          },
          "execution_count": 35
        }
      ]
    },
    {
      "cell_type": "markdown",
      "metadata": {
        "id": "htjkc528WuVJ"
      },
      "source": [
        "Let's use the `.describe()` function to get a quick overview of the Data we will be working with.\r\n"
      ]
    },
    {
      "cell_type": "code",
      "metadata": {
        "colab": {
          "base_uri": "https://localhost:8080/",
          "height": 328
        },
        "id": "ZaGkZwPSXhZ4",
        "outputId": "425344ff-8fc1-4d80-9ea7-ac7c3138f096"
      },
      "source": [
        "restaurants.describe()"
      ],
      "execution_count": null,
      "outputs": [
        {
          "output_type": "execute_result",
          "data": {
            "text/html": [
              "<div>\n",
              "<style scoped>\n",
              "    .dataframe tbody tr th:only-of-type {\n",
              "        vertical-align: middle;\n",
              "    }\n",
              "\n",
              "    .dataframe tbody tr th {\n",
              "        vertical-align: top;\n",
              "    }\n",
              "\n",
              "    .dataframe thead th {\n",
              "        text-align: right;\n",
              "    }\n",
              "</style>\n",
              "<table border=\"1\" class=\"dataframe\">\n",
              "  <thead>\n",
              "    <tr style=\"text-align: right;\">\n",
              "      <th></th>\n",
              "      <th>CAMIS</th>\n",
              "      <th>ZIPCODE</th>\n",
              "      <th>SCORE</th>\n",
              "      <th>Latitude</th>\n",
              "      <th>Longitude</th>\n",
              "      <th>Community Board</th>\n",
              "      <th>Council District</th>\n",
              "      <th>Census Tract</th>\n",
              "      <th>BIN</th>\n",
              "      <th>BBL</th>\n",
              "    </tr>\n",
              "  </thead>\n",
              "  <tbody>\n",
              "    <tr>\n",
              "      <th>count</th>\n",
              "      <td>3.960240e+05</td>\n",
              "      <td>389327.000000</td>\n",
              "      <td>377299.000000</td>\n",
              "      <td>394599.000000</td>\n",
              "      <td>394599.000000</td>\n",
              "      <td>388024.000000</td>\n",
              "      <td>388024.000000</td>\n",
              "      <td>388024.000000</td>\n",
              "      <td>3.862080e+05</td>\n",
              "      <td>3.945990e+05</td>\n",
              "    </tr>\n",
              "    <tr>\n",
              "      <th>mean</th>\n",
              "      <td>4.622489e+07</td>\n",
              "      <td>10679.784461</td>\n",
              "      <td>20.112192</td>\n",
              "      <td>40.049941</td>\n",
              "      <td>-72.711215</td>\n",
              "      <td>248.382229</td>\n",
              "      <td>20.055837</td>\n",
              "      <td>28749.866501</td>\n",
              "      <td>2.509323e+06</td>\n",
              "      <td>2.395102e+09</td>\n",
              "    </tr>\n",
              "    <tr>\n",
              "      <th>std</th>\n",
              "      <td>4.393519e+06</td>\n",
              "      <td>602.235680</td>\n",
              "      <td>14.729430</td>\n",
              "      <td>5.213835</td>\n",
              "      <td>9.465286</td>\n",
              "      <td>130.397006</td>\n",
              "      <td>15.829094</td>\n",
              "      <td>30523.030365</td>\n",
              "      <td>1.349085e+06</td>\n",
              "      <td>1.344761e+09</td>\n",
              "    </tr>\n",
              "    <tr>\n",
              "      <th>min</th>\n",
              "      <td>3.007544e+07</td>\n",
              "      <td>10000.000000</td>\n",
              "      <td>-1.000000</td>\n",
              "      <td>0.000000</td>\n",
              "      <td>-74.249101</td>\n",
              "      <td>101.000000</td>\n",
              "      <td>1.000000</td>\n",
              "      <td>100.000000</td>\n",
              "      <td>1.000000e+06</td>\n",
              "      <td>1.000000e+00</td>\n",
              "    </tr>\n",
              "    <tr>\n",
              "      <th>25%</th>\n",
              "      <td>4.140501e+07</td>\n",
              "      <td>10022.000000</td>\n",
              "      <td>11.000000</td>\n",
              "      <td>40.685261</td>\n",
              "      <td>-73.989201</td>\n",
              "      <td>105.000000</td>\n",
              "      <td>4.000000</td>\n",
              "      <td>7800.000000</td>\n",
              "      <td>1.042824e+06</td>\n",
              "      <td>1.010360e+09</td>\n",
              "    </tr>\n",
              "    <tr>\n",
              "      <th>50%</th>\n",
              "      <td>5.000905e+07</td>\n",
              "      <td>10468.000000</td>\n",
              "      <td>15.000000</td>\n",
              "      <td>40.732084</td>\n",
              "      <td>-73.958119</td>\n",
              "      <td>301.000000</td>\n",
              "      <td>20.000000</td>\n",
              "      <td>16100.000000</td>\n",
              "      <td>3.007692e+06</td>\n",
              "      <td>3.001640e+09</td>\n",
              "    </tr>\n",
              "    <tr>\n",
              "      <th>75%</th>\n",
              "      <td>5.005960e+07</td>\n",
              "      <td>11229.000000</td>\n",
              "      <td>26.000000</td>\n",
              "      <td>40.761562</td>\n",
              "      <td>-73.898493</td>\n",
              "      <td>401.000000</td>\n",
              "      <td>34.000000</td>\n",
              "      <td>40300.000000</td>\n",
              "      <td>4.001953e+06</td>\n",
              "      <td>4.001350e+09</td>\n",
              "    </tr>\n",
              "    <tr>\n",
              "      <th>max</th>\n",
              "      <td>5.010903e+07</td>\n",
              "      <td>30339.000000</td>\n",
              "      <td>164.000000</td>\n",
              "      <td>40.912822</td>\n",
              "      <td>0.000000</td>\n",
              "      <td>595.000000</td>\n",
              "      <td>51.000000</td>\n",
              "      <td>162100.000000</td>\n",
              "      <td>5.799501e+06</td>\n",
              "      <td>5.270001e+09</td>\n",
              "    </tr>\n",
              "  </tbody>\n",
              "</table>\n",
              "</div>"
            ],
            "text/plain": [
              "              CAMIS        ZIPCODE  ...           BIN           BBL\n",
              "count  3.960240e+05  389327.000000  ...  3.862080e+05  3.945990e+05\n",
              "mean   4.622489e+07   10679.784461  ...  2.509323e+06  2.395102e+09\n",
              "std    4.393519e+06     602.235680  ...  1.349085e+06  1.344761e+09\n",
              "min    3.007544e+07   10000.000000  ...  1.000000e+06  1.000000e+00\n",
              "25%    4.140501e+07   10022.000000  ...  1.042824e+06  1.010360e+09\n",
              "50%    5.000905e+07   10468.000000  ...  3.007692e+06  3.001640e+09\n",
              "75%    5.005960e+07   11229.000000  ...  4.001953e+06  4.001350e+09\n",
              "max    5.010903e+07   30339.000000  ...  5.799501e+06  5.270001e+09\n",
              "\n",
              "[8 rows x 10 columns]"
            ]
          },
          "metadata": {
            "tags": []
          },
          "execution_count": 37
        }
      ]
    },
    {
      "cell_type": "markdown",
      "metadata": {
        "id": "sFlEcTbLZZEr"
      },
      "source": [
        "## <a class=\"anchor\"></a> 1.2. Dtypes and descriptive statistics\r\n",
        "\r\n",
        "Recall from week2 that there are different dtypes in Pandas. Have a look at this table once again:\r\n",
        "\r\n",
        "\r\n",
        "| Pandas dtype  | Python type  | NumPy type|Usage\r\n",
        "| :--- | :--- | :--- | :--- |\r\n",
        "| object| str or mixed | string_, unicode_, mixed types| Text or mixed numeric and non_numeric values |\r\n",
        "| int 64| int| int_, int8, int16, int32, int64, uint8, uint18, uint32, uint64 | Integer numbers i.e. [1,2,3,...] |\r\n",
        "| float64| float| float_, float15, float32, float64 | Floating point numbers (They contain decimal points) |\r\n",
        "| bool| bool|bool_| True/False values|\r\n",
        "| datetime64 | NA | datetime64[ns]     | Date and time values  |\r\n",
        "| timedelta[ns] | NA  | NA| Differences between two datetime|\r\n",
        "| category | NA| NA| Finite list of text values|\r\n",
        "\r\n",
        "\r\n",
        "Now let's see what the dtypes of our DF are:\r\n"
      ]
    },
    {
      "cell_type": "code",
      "metadata": {
        "colab": {
          "base_uri": "https://localhost:8080/"
        },
        "id": "fOVgjWctXtvp",
        "outputId": "da207ad9-878f-47b8-e1b6-9f952d3244c8"
      },
      "source": [
        "restaurants.dtypes"
      ],
      "execution_count": null,
      "outputs": [
        {
          "output_type": "execute_result",
          "data": {
            "text/plain": [
              "CAMIS                      int64\n",
              "DBA                       object\n",
              "BORO                      object\n",
              "BUILDING                  object\n",
              "STREET                    object\n",
              "ZIPCODE                  float64\n",
              "PHONE                     object\n",
              "CUISINE DESCRIPTION       object\n",
              "INSPECTION DATE           object\n",
              "ACTION                    object\n",
              "VIOLATION CODE            object\n",
              "VIOLATION DESCRIPTION     object\n",
              "CRITICAL FLAG             object\n",
              "SCORE                    float64\n",
              "GRADE                     object\n",
              "GRADE DATE                object\n",
              "RECORD DATE               object\n",
              "INSPECTION TYPE           object\n",
              "Latitude                 float64\n",
              "Longitude                float64\n",
              "Community Board          float64\n",
              "Council District         float64\n",
              "Census Tract             float64\n",
              "BIN                      float64\n",
              "BBL                      float64\n",
              "NTA                       object\n",
              "dtype: object"
            ]
          },
          "metadata": {
            "tags": []
          },
          "execution_count": 38
        }
      ]
    },
    {
      "cell_type": "markdown",
      "metadata": {
        "id": "F6cXeIxnir33"
      },
      "source": [
        "### <a class=\"anchor\"></a> 1.2.1 Descriptive Statistics for numerical variables\n",
        "\n",
        "As you can see, the DataFrame comprises different types of Data. You always have to pay attention to this, as the supported operations depends on it. For instance, float64 is a desired type for decimal data, especially if we want to see statistics, distribution etc... \n"
      ]
    },
    {
      "cell_type": "code",
      "metadata": {
        "colab": {
          "base_uri": "https://localhost:8080/"
        },
        "id": "3Z7jTfsQaRKp",
        "outputId": "7590ca8a-0916-4759-8e0c-b32b7d8e2573"
      },
      "source": [
        "#Describe the SCORE column\r\n",
        "restaurants.SCORE.describe()"
      ],
      "execution_count": null,
      "outputs": [
        {
          "output_type": "execute_result",
          "data": {
            "text/plain": [
              "count    377299.000000\n",
              "mean         20.112192\n",
              "std          14.729430\n",
              "min          -1.000000\n",
              "25%          11.000000\n",
              "50%          15.000000\n",
              "75%          26.000000\n",
              "max         164.000000\n",
              "Name: SCORE, dtype: float64"
            ]
          },
          "metadata": {
            "tags": []
          },
          "execution_count": 40
        }
      ]
    },
    {
      "cell_type": "markdown",
      "metadata": {
        "id": "dWT6EPKDE8zE"
      },
      "source": [
        "We can use the `.hist()` function to plot an histogram and analyze data distribution. "
      ]
    },
    {
      "cell_type": "code",
      "metadata": {
        "colab": {
          "base_uri": "https://localhost:8080/",
          "height": 264
        },
        "id": "8jvoTXbVE-rA",
        "outputId": "cf18bcfe-0ae0-4fe9-fbaf-c866b20cfc4a"
      },
      "source": [
        "hist_score=restaurants[\"SCORE\"].hist()"
      ],
      "execution_count": null,
      "outputs": [
        {
          "output_type": "display_data",
          "data": {
            "image/png": "[encoded data removed]",
            "text/plain": [
              "<Figure size 432x288 with 1 Axes>"
            ]
          },
          "metadata": {
            "tags": [],
            "needs_background": "light"
          }
        }
      ]
    },
    {
      "cell_type": "markdown",
      "metadata": {
        "id": "NLHK6ncaGNsB"
      },
      "source": [
        "Granularity is important for distribution analysis and precision. It can be changed by varying the number if bins used for display.  The `hist()` function allows to pass multiple arguments, you can find more information if you follow this [link](https://pandas.pydata.org/pandas-docs/stable/reference/api/pandas.DataFrame.hist.html)\r\n"
      ]
    },
    {
      "cell_type": "code",
      "metadata": {
        "colab": {
          "base_uri": "https://localhost:8080/",
          "height": 263
        },
        "id": "0ZmdQWYHHl7g",
        "outputId": "0cb7df9a-5bac-40eb-e6a2-59ef3d568db1"
      },
      "source": [
        "hist_score_2=restaurants[\"SCORE\"].hist(bins = 50)"
      ],
      "execution_count": null,
      "outputs": [
        {
          "output_type": "display_data",
          "data": {
            "image/png": "[encoded data removed]",
            "text/plain": [
              "<Figure size 432x288 with 1 Axes>"
            ]
          },
          "metadata": {
            "tags": [],
            "needs_background": "light"
          }
        }
      ]
    },
    {
      "cell_type": "code",
      "metadata": {
        "colab": {
          "base_uri": "https://localhost:8080/",
          "height": 318
        },
        "id": "XGZTeED5Hyrg",
        "outputId": "cac714bc-2a00-4a0d-b760-4bcfdc17146b"
      },
      "source": [
        "# A quick exposure to various options of the \"hist\" command \r\n",
        "hist_score_3=restaurants.SCORE.hist(bins=50, # use 50 bars\r\n",
        "                          range=(0,50), # x-axis from 0 to 50\r\n",
        "                          density=False,  # show normalized count (density=True), or raw counts (density= False)\r\n",
        "                          figsize=(15,5), # controls the size of the plot\r\n",
        "                          alpha = 0.8 # make the plot 20% transparent\r\n",
        "                         )"
      ],
      "execution_count": null,
      "outputs": [
        {
          "output_type": "display_data",
          "data": {
            "image/png": "[encoded data removed]",
            "text/plain": [
              "<Figure size 1080x360 with 1 Axes>"
            ]
          },
          "metadata": {
            "tags": [],
            "needs_background": "light"
          }
        }
      ]
    },
    {
      "cell_type": "markdown",
      "metadata": {
        "id": "QskynHO7ayNR"
      },
      "source": [
        "We now have some statistical information for the SCORE column. Let's convert some other columns to a more useful type."
      ]
    },
    {
      "cell_type": "markdown",
      "metadata": {
        "id": "ncwnUCNKch05"
      },
      "source": [
        "### <a class=\"anchor\"></a> 1.2.2 Descriptive statistics for DATETIME variables\r\n",
        "\r\n",
        "\r\n",
        "Remember that one of the dtypes handles Date and Time. Some of the columns in our DF contain this type of data, so let's convert these columns to the `datetime64` dtype so that we can further processings, statistics and distribution analysis for example.\r\n"
      ]
    },
    {
      "cell_type": "code",
      "metadata": {
        "colab": {
          "base_uri": "https://localhost:8080/"
        },
        "id": "GpHpl-lXdXOI",
        "outputId": "0769509d-0f95-48de-f093-5ac6d0a49268"
      },
      "source": [
        "restaurants[\"GRADE DATE\"].head(10)"
      ],
      "execution_count": null,
      "outputs": [
        {
          "output_type": "execute_result",
          "data": {
            "text/plain": [
              "0    11/28/2018\n",
              "1    05/22/2019\n",
              "2           NaN\n",
              "3           NaN\n",
              "4    10/10/2018\n",
              "5           NaN\n",
              "6           NaN\n",
              "7           NaN\n",
              "8    05/09/2018\n",
              "9           NaN\n",
              "Name: GRADE DATE, dtype: object"
            ]
          },
          "metadata": {
            "tags": []
          },
          "execution_count": 45
        }
      ]
    },
    {
      "cell_type": "markdown",
      "metadata": {
        "id": "HM24xiHNdokw"
      },
      "source": [
        "For that, we need to understand first how to parse dates using the [Python conventions.](https://docs.python.org/3/library/datetime.html#strftime-and-strptime-behavior) \r\n",
        "\r\n",
        "The relevant entries from the table are:\r\n",
        "\r\n",
        "    %m Month as a zero-padded decimal number.\r\n",
        "    %d Day of the month as a zero-padded decimal number.\r\n",
        "    %Y Year with century as a decimal number.\r\n",
        "\r\n",
        "Now that we know in what format the dates were entried (remember that americans write dates like this `month/day/year` , as opposed to `day/month/year`), we can convert our columns."
      ]
    },
    {
      "cell_type": "code",
      "metadata": {
        "colab": {
          "base_uri": "https://localhost:8080/"
        },
        "id": "WkFnmcNNea9I",
        "outputId": "aa04d581-eb15-4739-cee7-3bb67baec37c"
      },
      "source": [
        "#We convert some columnd to the datetime64 tyoe\r\n",
        "restaurants[\"GRADE DATE\"] = pd.to_datetime(restaurants[\"GRADE DATE\"], format=\"%m/%d/%Y\")\r\n",
        "restaurants[\"RECORD DATE\"] = pd.to_datetime(restaurants[\"RECORD DATE\"], format=\"%m/%d/%Y\")\r\n",
        "restaurants[\"INSPECTION DATE\"] = pd.to_datetime(restaurants[\"INSPECTION DATE\"], format=\"%m/%d/%Y\")\r\n",
        "\r\n",
        "#Now we have another look at the dtaypes\r\n",
        "restaurants.dtypes"
      ],
      "execution_count": null,
      "outputs": [
        {
          "output_type": "execute_result",
          "data": {
            "text/plain": [
              "CAMIS                             int64\n",
              "DBA                              object\n",
              "BORO                             object\n",
              "BUILDING                         object\n",
              "STREET                           object\n",
              "ZIPCODE                         float64\n",
              "PHONE                            object\n",
              "CUISINE DESCRIPTION              object\n",
              "INSPECTION DATE          datetime64[ns]\n",
              "ACTION                           object\n",
              "VIOLATION CODE                   object\n",
              "VIOLATION DESCRIPTION            object\n",
              "CRITICAL FLAG                    object\n",
              "SCORE                           float64\n",
              "GRADE                            object\n",
              "GRADE DATE               datetime64[ns]\n",
              "RECORD DATE              datetime64[ns]\n",
              "INSPECTION TYPE                  object\n",
              "Latitude                        float64\n",
              "Longitude                       float64\n",
              "Community Board                 float64\n",
              "Council District                float64\n",
              "Census Tract                    float64\n",
              "BIN                             float64\n",
              "BBL                             float64\n",
              "NTA                              object\n",
              "dtype: object"
            ]
          },
          "metadata": {
            "tags": []
          },
          "execution_count": 46
        }
      ]
    },
    {
      "cell_type": "markdown",
      "metadata": {
        "id": "x7FU3IlEe1MR"
      },
      "source": [
        "Let's see what the `.describe()` function can do now."
      ]
    },
    {
      "cell_type": "code",
      "metadata": {
        "colab": {
          "base_uri": "https://localhost:8080/",
          "height": 261
        },
        "id": "QjHjatoRedo5",
        "outputId": "47a47dae-32f4-4d2c-fadb-46243bd36418"
      },
      "source": [
        "restaurants[[\"INSPECTION DATE\", \"GRADE DATE\", \"RECORD DATE\"]].describe(datetime_is_numeric=True)"
      ],
      "execution_count": null,
      "outputs": [
        {
          "output_type": "execute_result",
          "data": {
            "text/html": [
              "<div>\n",
              "<style scoped>\n",
              "    .dataframe tbody tr th:only-of-type {\n",
              "        vertical-align: middle;\n",
              "    }\n",
              "\n",
              "    .dataframe tbody tr th {\n",
              "        vertical-align: top;\n",
              "    }\n",
              "\n",
              "    .dataframe thead th {\n",
              "        text-align: right;\n",
              "    }\n",
              "</style>\n",
              "<table border=\"1\" class=\"dataframe\">\n",
              "  <thead>\n",
              "    <tr style=\"text-align: right;\">\n",
              "      <th></th>\n",
              "      <th>INSPECTION DATE</th>\n",
              "      <th>GRADE DATE</th>\n",
              "      <th>RECORD DATE</th>\n",
              "    </tr>\n",
              "  </thead>\n",
              "  <tbody>\n",
              "    <tr>\n",
              "      <th>count</th>\n",
              "      <td>396024</td>\n",
              "      <td>197666</td>\n",
              "      <td>396024</td>\n",
              "    </tr>\n",
              "    <tr>\n",
              "      <th>mean</th>\n",
              "      <td>2017-08-25 00:02:44.717165312</td>\n",
              "      <td>2018-09-16 19:22:09.843375360</td>\n",
              "      <td>2021-03-02 00:00:00.012812288</td>\n",
              "    </tr>\n",
              "    <tr>\n",
              "      <th>min</th>\n",
              "      <td>1900-01-01 00:00:00</td>\n",
              "      <td>2011-05-27 00:00:00</td>\n",
              "      <td>2021-03-02 00:00:00</td>\n",
              "    </tr>\n",
              "    <tr>\n",
              "      <th>25%</th>\n",
              "      <td>2017-12-28 00:00:00</td>\n",
              "      <td>2018-01-11 00:00:00</td>\n",
              "      <td>2021-03-02 00:00:00</td>\n",
              "    </tr>\n",
              "    <tr>\n",
              "      <th>50%</th>\n",
              "      <td>2018-10-24 00:00:00</td>\n",
              "      <td>2018-10-23 00:00:00</td>\n",
              "      <td>2021-03-02 00:00:00</td>\n",
              "    </tr>\n",
              "    <tr>\n",
              "      <th>75%</th>\n",
              "      <td>2019-07-11 00:00:00</td>\n",
              "      <td>2019-07-03 00:00:00</td>\n",
              "      <td>2021-03-02 00:00:00</td>\n",
              "    </tr>\n",
              "    <tr>\n",
              "      <th>max</th>\n",
              "      <td>2021-02-26 00:00:00</td>\n",
              "      <td>2020-12-31 00:00:00</td>\n",
              "      <td>2021-03-02 00:00:00</td>\n",
              "    </tr>\n",
              "  </tbody>\n",
              "</table>\n",
              "</div>"
            ],
            "text/plain": [
              "                     INSPECTION DATE  ...                    RECORD DATE\n",
              "count                         396024  ...                         396024\n",
              "mean   2017-08-25 00:02:44.717165312  ...  2021-03-02 00:00:00.012812288\n",
              "min              1900-01-01 00:00:00  ...            2021-03-02 00:00:00\n",
              "25%              2017-12-28 00:00:00  ...            2021-03-02 00:00:00\n",
              "50%              2018-10-24 00:00:00  ...            2021-03-02 00:00:00\n",
              "75%              2019-07-11 00:00:00  ...            2021-03-02 00:00:00\n",
              "max              2021-02-26 00:00:00  ...            2021-03-02 00:00:00\n",
              "\n",
              "[7 rows x 3 columns]"
            ]
          },
          "metadata": {
            "tags": []
          },
          "execution_count": 47
        }
      ]
    },
    {
      "cell_type": "markdown",
      "metadata": {
        "id": "8bCF8YwP7g8c"
      },
      "source": [
        "We can also plot an histogram for datetime variables:"
      ]
    },
    {
      "cell_type": "code",
      "metadata": {
        "id": "A-Nlhi4D1fGb",
        "colab": {
          "base_uri": "https://localhost:8080/",
          "height": 263
        },
        "outputId": "66f7c17f-b271-433e-cc34-081f8f212e84"
      },
      "source": [
        "hist_date=restaurants[\"GRADE DATE\"].hist(bins=50)\r\n"
      ],
      "execution_count": null,
      "outputs": [
        {
          "output_type": "display_data",
          "data": {
            "image/png": "[encoded data removed]",
            "text/plain": [
              "<Figure size 432x288 with 1 Axes>"
            ]
          },
          "metadata": {
            "tags": [],
            "needs_background": "light"
          }
        }
      ]
    },
    {
      "cell_type": "markdown",
      "metadata": {
        "id": "J0rTfZ5medCI"
      },
      "source": [
        "### <a class=\"anchor\"></a> 1.2.3 Descriptive statistics for categorical variables\r\n",
        "\r\n",
        "Now let's handle categorical data. This is most commonly useful when we have variables that have an implicit order (e.g., the A/B/C grade of the restaurant).\r\n",
        "\r\n",
        "We can use the pandas `.Categorical` function for this."
      ]
    },
    {
      "cell_type": "code",
      "metadata": {
        "colab": {
          "base_uri": "https://localhost:8080/"
        },
        "id": "F_U3zpWKfslZ",
        "outputId": "dd1afe5d-833b-4425-b7b0-68d8d70a499f"
      },
      "source": [
        "#We convert the categorical columns\r\n",
        "restaurants[\"BORO\"] =  pd.Categorical(restaurants[\"BORO\"], ordered=False)\r\n",
        "restaurants[\"GRADE\"] =  pd.Categorical(restaurants[\"GRADE\"], categories = ['A', 'B', 'C'], ordered=True)\r\n",
        "restaurants[\"VIOLATION CODE\"] =  pd.Categorical(restaurants[\"VIOLATION CODE\"], ordered=False)\r\n",
        "restaurants[\"CRITICAL FLAG\"] =  pd.Categorical(restaurants[\"CRITICAL FLAG\"], ordered=False)\r\n",
        "restaurants[\"ACTION\"] =  pd.Categorical(restaurants[\"ACTION\"], ordered=False)\r\n",
        "restaurants[\"CUISINE DESCRIPTION\"] =  pd.Categorical(restaurants[\"CUISINE DESCRIPTION\"], ordered=False)\r\n",
        "\r\n",
        "#We have another look at the dtypes\r\n",
        "restaurants.dtypes"
      ],
      "execution_count": null,
      "outputs": [
        {
          "output_type": "execute_result",
          "data": {
            "text/plain": [
              "CAMIS                             int64\n",
              "DBA                              object\n",
              "BORO                           category\n",
              "BUILDING                         object\n",
              "STREET                           object\n",
              "ZIPCODE                         float64\n",
              "PHONE                            object\n",
              "CUISINE DESCRIPTION            category\n",
              "INSPECTION DATE          datetime64[ns]\n",
              "ACTION                         category\n",
              "VIOLATION CODE                 category\n",
              "VIOLATION DESCRIPTION            object\n",
              "CRITICAL FLAG                  category\n",
              "SCORE                           float64\n",
              "GRADE                          category\n",
              "GRADE DATE               datetime64[ns]\n",
              "RECORD DATE              datetime64[ns]\n",
              "INSPECTION TYPE                  object\n",
              "Latitude                        float64\n",
              "Longitude                       float64\n",
              "Community Board                 float64\n",
              "Council District                float64\n",
              "Census Tract                    float64\n",
              "BIN                             float64\n",
              "BBL                             float64\n",
              "NTA                              object\n",
              "dtype: object"
            ]
          },
          "metadata": {
            "tags": []
          },
          "execution_count": 58
        }
      ]
    },
    {
      "cell_type": "code",
      "metadata": {
        "colab": {
          "base_uri": "https://localhost:8080/"
        },
        "id": "fytkMZlFgan5",
        "outputId": "ff0121da-fcbd-41b2-815b-94ee72182d7e"
      },
      "source": [
        "#Display 10 first entries \n",
        "restaurants[\"DBA\"].value_counts()[:10]"
      ],
      "execution_count": null,
      "outputs": [
        {
          "output_type": "execute_result",
          "data": {
            "text/plain": [
              "DUNKIN'                                  4149\n",
              "SUBWAY                                   2944\n",
              "STARBUCKS                                2130\n",
              "MCDONALD'S                               1925\n",
              "KENNEDY FRIED CHICKEN                    1339\n",
              "DUNKIN', BASKIN ROBBINS                  1165\n",
              "CROWN FRIED CHICKEN                      1106\n",
              "BURGER KING                              1032\n",
              "POPEYES                                   949\n",
              "GOLDEN KRUST CARIBBEAN BAKERY & GRILL     780\n",
              "Name: DBA, dtype: int64"
            ]
          },
          "metadata": {
            "tags": []
          },
          "execution_count": 61
        }
      ]
    },
    {
      "cell_type": "markdown",
      "metadata": {
        "id": "w9EaoV62gh4w"
      },
      "source": [
        "An explanation:\r\n",
        " * The `value_counts()` function counts how many different values there are.\r\n",
        " * The `[:10]` filters the list, thus showing us only the first 10 values.  \r\n",
        "\r\n",
        "\r\n",
        " "
      ]
    },
    {
      "cell_type": "code",
      "metadata": {
        "colab": {
          "base_uri": "https://localhost:8080/",
          "height": 201
        },
        "id": "izY0a0Qyg_K6",
        "outputId": "53465513-3fc6-4ba1-ef45-cbedb080adf2"
      },
      "source": [
        "#Display 5 first entries\n",
        "restaurants[\"CUISINE DESCRIPTION\"].value_counts()[:5].to_frame()"
      ],
      "execution_count": null,
      "outputs": [
        {
          "output_type": "execute_result",
          "data": {
            "text/html": [
              "<div>\n",
              "<style scoped>\n",
              "    .dataframe tbody tr th:only-of-type {\n",
              "        vertical-align: middle;\n",
              "    }\n",
              "\n",
              "    .dataframe tbody tr th {\n",
              "        vertical-align: top;\n",
              "    }\n",
              "\n",
              "    .dataframe thead th {\n",
              "        text-align: right;\n",
              "    }\n",
              "</style>\n",
              "<table border=\"1\" class=\"dataframe\">\n",
              "  <thead>\n",
              "    <tr style=\"text-align: right;\">\n",
              "      <th></th>\n",
              "      <th>CUISINE DESCRIPTION</th>\n",
              "    </tr>\n",
              "  </thead>\n",
              "  <tbody>\n",
              "    <tr>\n",
              "      <th>American</th>\n",
              "      <td>81633</td>\n",
              "    </tr>\n",
              "    <tr>\n",
              "      <th>Chinese</th>\n",
              "      <td>41595</td>\n",
              "    </tr>\n",
              "    <tr>\n",
              "      <th>Pizza</th>\n",
              "      <td>25382</td>\n",
              "    </tr>\n",
              "    <tr>\n",
              "      <th>Café/Coffee/Tea</th>\n",
              "      <td>19591</td>\n",
              "    </tr>\n",
              "    <tr>\n",
              "      <th>Latin American (Central and South America)</th>\n",
              "      <td>17301</td>\n",
              "    </tr>\n",
              "  </tbody>\n",
              "</table>\n",
              "</div>"
            ],
            "text/plain": [
              "                                            CUISINE DESCRIPTION\n",
              "American                                                  81633\n",
              "Chinese                                                   41595\n",
              "Pizza                                                     25382\n",
              "Café/Coffee/Tea                                           19591\n",
              "Latin American (Central and South America)                17301"
            ]
          },
          "metadata": {
            "tags": []
          },
          "execution_count": 69
        }
      ]
    },
    {
      "cell_type": "markdown",
      "metadata": {
        "id": "YXRJhWgMhErJ"
      },
      "source": [
        "We can also plot the data, lets start by plotting the different categories of food with the `.plot()` function."
      ]
    },
    {
      "cell_type": "code",
      "metadata": {
        "colab": {
          "base_uri": "https://localhost:8080/",
          "height": 475
        },
        "id": "38BuE0behB_o",
        "outputId": "292dfbc9-63cd-4845-8937-34144255ac72"
      },
      "source": [
        "hist_cuisine=restaurants[\"CUISINE DESCRIPTION\"].value_counts()[:5].plot(kind='bar')"
      ],
      "execution_count": null,
      "outputs": [
        {
          "output_type": "display_data",
          "data": {
            "image/png": "[encoded data removed]",
            "text/plain": [
              "<Figure size 432x288 with 1 Axes>"
            ]
          },
          "metadata": {
            "tags": [],
            "needs_background": "light"
          }
        }
      ]
    },
    {
      "cell_type": "code",
      "metadata": {
        "colab": {
          "base_uri": "https://localhost:8080/",
          "height": 201
        },
        "id": "PM_T_wejhv8g",
        "outputId": "2d4e5e2d-0118-4105-8407-0c76ea12b650"
      },
      "source": [
        "popular = restaurants[\"CUISINE DESCRIPTION\"].value_counts().to_frame().rename(columns={\"CUISINE DESCRIPTION\": \"Cuisine count\"})\r\n",
        "popular.head()"
      ],
      "execution_count": null,
      "outputs": [
        {
          "output_type": "execute_result",
          "data": {
            "text/html": [
              "<div>\n",
              "<style scoped>\n",
              "    .dataframe tbody tr th:only-of-type {\n",
              "        vertical-align: middle;\n",
              "    }\n",
              "\n",
              "    .dataframe tbody tr th {\n",
              "        vertical-align: top;\n",
              "    }\n",
              "\n",
              "    .dataframe thead th {\n",
              "        text-align: right;\n",
              "    }\n",
              "</style>\n",
              "<table border=\"1\" class=\"dataframe\">\n",
              "  <thead>\n",
              "    <tr style=\"text-align: right;\">\n",
              "      <th></th>\n",
              "      <th>Cuisine count</th>\n",
              "    </tr>\n",
              "  </thead>\n",
              "  <tbody>\n",
              "    <tr>\n",
              "      <th>American</th>\n",
              "      <td>81633</td>\n",
              "    </tr>\n",
              "    <tr>\n",
              "      <th>Chinese</th>\n",
              "      <td>41595</td>\n",
              "    </tr>\n",
              "    <tr>\n",
              "      <th>Pizza</th>\n",
              "      <td>25382</td>\n",
              "    </tr>\n",
              "    <tr>\n",
              "      <th>Café/Coffee/Tea</th>\n",
              "      <td>19591</td>\n",
              "    </tr>\n",
              "    <tr>\n",
              "      <th>Latin American (Central and South America)</th>\n",
              "      <td>17301</td>\n",
              "    </tr>\n",
              "  </tbody>\n",
              "</table>\n",
              "</div>"
            ],
            "text/plain": [
              "                                            Cuisine count\n",
              "American                                            81633\n",
              "Chinese                                             41595\n",
              "Pizza                                               25382\n",
              "Café/Coffee/Tea                                     19591\n",
              "Latin American (Central and South America)          17301"
            ]
          },
          "metadata": {
            "tags": []
          },
          "execution_count": 78
        }
      ]
    },
    {
      "cell_type": "markdown",
      "metadata": {
        "id": "dY3l8-w_iWgw"
      },
      "source": [
        "If you have a look at the results of the last block of code, you will see that is seems to be quite detailed. We might for example want to treat \"Cuban\", \"Dominican\", \"Puerto Rican\", \"South & Central American\" just as \"Latin American\".\r\n",
        "\r\n",
        "The `.replace()` function allows us to do this."
      ]
    },
    {
      "cell_type": "code",
      "metadata": {
        "id": "picE57BmiUYY"
      },
      "source": [
        "#Latin American food\r\n",
        "restaurants[\"CUISINE DESCRIPTION\"].replace(\r\n",
        "    to_replace=['Latin American (Central and South America)', 'Chilean'],\r\n",
        "    value = 'Latin American',\r\n",
        "    inplace=True\r\n",
        ")\r\n",
        "\r\n",
        "#Coffe bar\r\n",
        "restaurants[\"CUISINE DESCRIPTION\"].replace(\r\n",
        "    to_replace='CafÃ©/Coffee/Tea',\r\n",
        "    value = 'Cafe/Coffee/Tea',\r\n",
        "    inplace=True\r\n",
        ")"
      ],
      "execution_count": null,
      "outputs": []
    },
    {
      "cell_type": "code",
      "metadata": {
        "colab": {
          "base_uri": "https://localhost:8080/",
          "height": 201
        },
        "id": "k7_Jad3FJzms",
        "outputId": "4dda85c3-305c-47f6-97fc-fc9e8d749d31"
      },
      "source": [
        "popular = restaurants[\"CUISINE DESCRIPTION\"].value_counts().to_frame().rename(columns={\"CUISINE DESCRIPTION\": \"Cuisine count\"})\r\n",
        "popular.head()"
      ],
      "execution_count": null,
      "outputs": [
        {
          "output_type": "execute_result",
          "data": {
            "text/html": [
              "<div>\n",
              "<style scoped>\n",
              "    .dataframe tbody tr th:only-of-type {\n",
              "        vertical-align: middle;\n",
              "    }\n",
              "\n",
              "    .dataframe tbody tr th {\n",
              "        vertical-align: top;\n",
              "    }\n",
              "\n",
              "    .dataframe thead th {\n",
              "        text-align: right;\n",
              "    }\n",
              "</style>\n",
              "<table border=\"1\" class=\"dataframe\">\n",
              "  <thead>\n",
              "    <tr style=\"text-align: right;\">\n",
              "      <th></th>\n",
              "      <th>Cuisine count</th>\n",
              "    </tr>\n",
              "  </thead>\n",
              "  <tbody>\n",
              "    <tr>\n",
              "      <th>American</th>\n",
              "      <td>81633</td>\n",
              "    </tr>\n",
              "    <tr>\n",
              "      <th>Chinese</th>\n",
              "      <td>41595</td>\n",
              "    </tr>\n",
              "    <tr>\n",
              "      <th>Pizza</th>\n",
              "      <td>25382</td>\n",
              "    </tr>\n",
              "    <tr>\n",
              "      <th>Café/Coffee/Tea</th>\n",
              "      <td>19591</td>\n",
              "    </tr>\n",
              "    <tr>\n",
              "      <th>Latin American</th>\n",
              "      <td>17333</td>\n",
              "    </tr>\n",
              "  </tbody>\n",
              "</table>\n",
              "</div>"
            ],
            "text/plain": [
              "                 Cuisine count\n",
              "American                 81633\n",
              "Chinese                  41595\n",
              "Pizza                    25382\n",
              "Café/Coffee/Tea          19591\n",
              "Latin American           17333"
            ]
          },
          "metadata": {
            "tags": []
          },
          "execution_count": 80
        }
      ]
    },
    {
      "cell_type": "markdown",
      "metadata": {
        "id": "EbTrqDwXJVZx"
      },
      "source": [
        "We can now plot the same barchart again, and see what the results are:\r\n",
        "\r\n"
      ]
    },
    {
      "cell_type": "code",
      "metadata": {
        "colab": {
          "base_uri": "https://localhost:8080/",
          "height": 332
        },
        "id": "PTKa2mAbJjjY",
        "outputId": "d4a9ecf4-73be-4f5b-8197-927f9138f3d3"
      },
      "source": [
        "popular = restaurants[\"CUISINE DESCRIPTION\"].value_counts()\r\n",
        "hist_pop=popular[:5].plot(kind='bar')"
      ],
      "execution_count": null,
      "outputs": [
        {
          "output_type": "display_data",
          "data": {
            "image/png": "[encoded data removed]",
            "text/plain": [
              "<Figure size 432x288 with 1 Axes>"
            ]
          },
          "metadata": {
            "tags": [],
            "needs_background": "light"
          }
        }
      ]
    },
    {
      "cell_type": "markdown",
      "metadata": {
        "id": "L7m2LIHKjDBU"
      },
      "source": [
        "## <a class=\"anchor\"></a> 1.3 Selecting Subsets\r\n",
        "\r\n",
        "\r\n"
      ]
    },
    {
      "cell_type": "markdown",
      "metadata": {
        "id": "kU3TPOupkSDo"
      },
      "source": [
        "To select rows, we can use the following approach, where we generate a list of boolean values, one for each row of the dataframe, and then we use the list to select which of the rows of the dataframe we want to keep"
      ]
    },
    {
      "cell_type": "code",
      "metadata": {
        "colab": {
          "base_uri": "https://localhost:8080/"
        },
        "id": "JpZNv0mjki_f",
        "outputId": "3a61dfbe-9bad-4881-da4b-1dd1e645e87d"
      },
      "source": [
        "# Create the condition \"has mice\" for code 04L\r\n",
        "mice = (restaurants[\"VIOLATION CODE\"] == \"04L\")\r\n",
        "mice.head()"
      ],
      "execution_count": null,
      "outputs": [
        {
          "output_type": "execute_result",
          "data": {
            "text/plain": [
              "0    False\n",
              "1    False\n",
              "2    False\n",
              "3    False\n",
              "4    False\n",
              "Name: VIOLATION CODE, dtype: bool"
            ]
          },
          "metadata": {
            "tags": []
          },
          "execution_count": 82
        }
      ]
    },
    {
      "cell_type": "code",
      "metadata": {
        "colab": {
          "base_uri": "https://localhost:8080/",
          "height": 649
        },
        "id": "n5uQfBgnk4mZ",
        "outputId": "1e366202-30a6-421f-ef20-57d3bc3ddc4e"
      },
      "source": [
        "# Apply the condition to the dataframe \"restaurants\" and store the result \r\n",
        "# in a dataframe called  has_mice\r\n",
        "\r\n",
        "has_mice = restaurants[mice]\r\n",
        "has_mice.head()"
      ],
      "execution_count": null,
      "outputs": [
        {
          "output_type": "execute_result",
          "data": {
            "text/html": [
              "<div>\n",
              "<style scoped>\n",
              "    .dataframe tbody tr th:only-of-type {\n",
              "        vertical-align: middle;\n",
              "    }\n",
              "\n",
              "    .dataframe tbody tr th {\n",
              "        vertical-align: top;\n",
              "    }\n",
              "\n",
              "    .dataframe thead th {\n",
              "        text-align: right;\n",
              "    }\n",
              "</style>\n",
              "<table border=\"1\" class=\"dataframe\">\n",
              "  <thead>\n",
              "    <tr style=\"text-align: right;\">\n",
              "      <th></th>\n",
              "      <th>CAMIS</th>\n",
              "      <th>DBA</th>\n",
              "      <th>BORO</th>\n",
              "      <th>BUILDING</th>\n",
              "      <th>STREET</th>\n",
              "      <th>ZIPCODE</th>\n",
              "      <th>PHONE</th>\n",
              "      <th>CUISINE DESCRIPTION</th>\n",
              "      <th>INSPECTION DATE</th>\n",
              "      <th>ACTION</th>\n",
              "      <th>VIOLATION CODE</th>\n",
              "      <th>VIOLATION DESCRIPTION</th>\n",
              "      <th>CRITICAL FLAG</th>\n",
              "      <th>SCORE</th>\n",
              "      <th>GRADE</th>\n",
              "      <th>GRADE DATE</th>\n",
              "      <th>RECORD DATE</th>\n",
              "      <th>INSPECTION TYPE</th>\n",
              "      <th>Latitude</th>\n",
              "      <th>Longitude</th>\n",
              "      <th>Community Board</th>\n",
              "      <th>Council District</th>\n",
              "      <th>Census Tract</th>\n",
              "      <th>BIN</th>\n",
              "      <th>BBL</th>\n",
              "      <th>NTA</th>\n",
              "    </tr>\n",
              "  </thead>\n",
              "  <tbody>\n",
              "    <tr>\n",
              "      <th>10</th>\n",
              "      <td>41408277</td>\n",
              "      <td>NOBI SUSHI</td>\n",
              "      <td>Manhattan</td>\n",
              "      <td>437</td>\n",
              "      <td>3 AVENUE</td>\n",
              "      <td>10016.0</td>\n",
              "      <td>2124818333</td>\n",
              "      <td>Japanese</td>\n",
              "      <td>2017-03-21</td>\n",
              "      <td>Violations were cited in the following area(s).</td>\n",
              "      <td>04L</td>\n",
              "      <td>Evidence of mice or live mice present in facil...</td>\n",
              "      <td>Y</td>\n",
              "      <td>20.0</td>\n",
              "      <td>B</td>\n",
              "      <td>2017-03-21</td>\n",
              "      <td>2021-03-02</td>\n",
              "      <td>Cycle Inspection / Re-inspection</td>\n",
              "      <td>40.743432</td>\n",
              "      <td>-73.979780</td>\n",
              "      <td>106.0</td>\n",
              "      <td>2.0</td>\n",
              "      <td>7000.0</td>\n",
              "      <td>1019947.0</td>\n",
              "      <td>1.009110e+09</td>\n",
              "      <td>MN20</td>\n",
              "    </tr>\n",
              "    <tr>\n",
              "      <th>29</th>\n",
              "      <td>50090029</td>\n",
              "      <td>HECTOR &amp; MARCO PIZZERIA</td>\n",
              "      <td>Bronx</td>\n",
              "      <td>2454</td>\n",
              "      <td>EAST TREMONT AVENUE</td>\n",
              "      <td>10461.0</td>\n",
              "      <td>6466260325</td>\n",
              "      <td>Mexican</td>\n",
              "      <td>2019-12-04</td>\n",
              "      <td>Violations were cited in the following area(s).</td>\n",
              "      <td>04L</td>\n",
              "      <td>Evidence of mice or live mice present in facil...</td>\n",
              "      <td>Y</td>\n",
              "      <td>10.0</td>\n",
              "      <td>A</td>\n",
              "      <td>2019-12-04</td>\n",
              "      <td>2021-03-02</td>\n",
              "      <td>Cycle Inspection / Re-inspection</td>\n",
              "      <td>40.842673</td>\n",
              "      <td>-73.851434</td>\n",
              "      <td>210.0</td>\n",
              "      <td>18.0</td>\n",
              "      <td>20400.0</td>\n",
              "      <td>2042250.0</td>\n",
              "      <td>2.039970e+09</td>\n",
              "      <td>BX59</td>\n",
              "    </tr>\n",
              "    <tr>\n",
              "      <th>36</th>\n",
              "      <td>40812630</td>\n",
              "      <td>THE LOEB BOATHOUSE CENTRAL PARK</td>\n",
              "      <td>Manhattan</td>\n",
              "      <td>0</td>\n",
              "      <td>E 72ST CENTRAL PK DRIVE NORTH</td>\n",
              "      <td>NaN</td>\n",
              "      <td>2125172233</td>\n",
              "      <td>American</td>\n",
              "      <td>2017-06-12</td>\n",
              "      <td>Violations were cited in the following area(s).</td>\n",
              "      <td>04L</td>\n",
              "      <td>Evidence of mice or live mice present in facil...</td>\n",
              "      <td>Y</td>\n",
              "      <td>27.0</td>\n",
              "      <td>NaN</td>\n",
              "      <td>NaT</td>\n",
              "      <td>2021-03-02</td>\n",
              "      <td>Cycle Inspection / Initial Inspection</td>\n",
              "      <td>0.000000</td>\n",
              "      <td>0.000000</td>\n",
              "      <td>NaN</td>\n",
              "      <td>NaN</td>\n",
              "      <td>NaN</td>\n",
              "      <td>NaN</td>\n",
              "      <td>1.000000e+00</td>\n",
              "      <td>NaN</td>\n",
              "    </tr>\n",
              "    <tr>\n",
              "      <th>42</th>\n",
              "      <td>41134066</td>\n",
              "      <td>HAPPY DAYS LOUNGE</td>\n",
              "      <td>Queens</td>\n",
              "      <td>11816</td>\n",
              "      <td>JAMAICA AVENUE</td>\n",
              "      <td>11418.0</td>\n",
              "      <td>7188499421</td>\n",
              "      <td>American</td>\n",
              "      <td>2019-02-06</td>\n",
              "      <td>Violations were cited in the following area(s).</td>\n",
              "      <td>04L</td>\n",
              "      <td>Evidence of mice or live mice present in facil...</td>\n",
              "      <td>Y</td>\n",
              "      <td>25.0</td>\n",
              "      <td>NaN</td>\n",
              "      <td>NaT</td>\n",
              "      <td>2021-03-02</td>\n",
              "      <td>Cycle Inspection / Initial Inspection</td>\n",
              "      <td>40.699950</td>\n",
              "      <td>-73.831037</td>\n",
              "      <td>409.0</td>\n",
              "      <td>29.0</td>\n",
              "      <td>12200.0</td>\n",
              "      <td>4195915.0</td>\n",
              "      <td>4.093280e+09</td>\n",
              "      <td>QN54</td>\n",
              "    </tr>\n",
              "    <tr>\n",
              "      <th>49</th>\n",
              "      <td>50003374</td>\n",
              "      <td>SAMUDRA INDIAN RESTAURANT</td>\n",
              "      <td>Queens</td>\n",
              "      <td>75-18</td>\n",
              "      <td>37 AVENUE</td>\n",
              "      <td>11372.0</td>\n",
              "      <td>7182551757</td>\n",
              "      <td>Indian</td>\n",
              "      <td>2018-05-16</td>\n",
              "      <td>Violations were cited in the following area(s).</td>\n",
              "      <td>04L</td>\n",
              "      <td>Evidence of mice or live mice present in facil...</td>\n",
              "      <td>Y</td>\n",
              "      <td>12.0</td>\n",
              "      <td>A</td>\n",
              "      <td>2018-05-16</td>\n",
              "      <td>2021-03-02</td>\n",
              "      <td>Cycle Inspection / Re-inspection</td>\n",
              "      <td>40.749074</td>\n",
              "      <td>-73.890560</td>\n",
              "      <td>403.0</td>\n",
              "      <td>25.0</td>\n",
              "      <td>28700.0</td>\n",
              "      <td>4029851.0</td>\n",
              "      <td>4.012860e+09</td>\n",
              "      <td>QN28</td>\n",
              "    </tr>\n",
              "  </tbody>\n",
              "</table>\n",
              "</div>"
            ],
            "text/plain": [
              "       CAMIS                              DBA  ...           BBL   NTA\n",
              "10  41408277                       NOBI SUSHI  ...  1.009110e+09  MN20\n",
              "29  50090029          HECTOR & MARCO PIZZERIA  ...  2.039970e+09  BX59\n",
              "36  40812630  THE LOEB BOATHOUSE CENTRAL PARK  ...  1.000000e+00   NaN\n",
              "42  41134066                HAPPY DAYS LOUNGE  ...  4.093280e+09  QN54\n",
              "49  50003374        SAMUDRA INDIAN RESTAURANT  ...  4.012860e+09  QN28\n",
              "\n",
              "[5 rows x 26 columns]"
            ]
          },
          "metadata": {
            "tags": []
          },
          "execution_count": 83
        }
      ]
    },
    {
      "cell_type": "code",
      "metadata": {
        "colab": {
          "base_uri": "https://localhost:8080/",
          "height": 657
        },
        "id": "PYkyVskFk9Np",
        "outputId": "16af245b-12f9-4f4f-b353-be00617b2056"
      },
      "source": [
        "# List the most frequent DBA values in the data of restaurants that have mice\r\n",
        "has_mice[\"DBA\"].value_counts()[:20].to_frame().rename(columns={\"DBA\": \"DBA count\"})"
      ],
      "execution_count": null,
      "outputs": [
        {
          "output_type": "execute_result",
          "data": {
            "text/html": [
              "<div>\n",
              "<style scoped>\n",
              "    .dataframe tbody tr th:only-of-type {\n",
              "        vertical-align: middle;\n",
              "    }\n",
              "\n",
              "    .dataframe tbody tr th {\n",
              "        vertical-align: top;\n",
              "    }\n",
              "\n",
              "    .dataframe thead th {\n",
              "        text-align: right;\n",
              "    }\n",
              "</style>\n",
              "<table border=\"1\" class=\"dataframe\">\n",
              "  <thead>\n",
              "    <tr style=\"text-align: right;\">\n",
              "      <th></th>\n",
              "      <th>DBA count</th>\n",
              "    </tr>\n",
              "  </thead>\n",
              "  <tbody>\n",
              "    <tr>\n",
              "      <th>SUBWAY</th>\n",
              "      <td>254</td>\n",
              "    </tr>\n",
              "    <tr>\n",
              "      <th>DUNKIN'</th>\n",
              "      <td>146</td>\n",
              "    </tr>\n",
              "    <tr>\n",
              "      <th>KENNEDY FRIED CHICKEN</th>\n",
              "      <td>127</td>\n",
              "    </tr>\n",
              "    <tr>\n",
              "      <th>CROWN FRIED CHICKEN</th>\n",
              "      <td>116</td>\n",
              "    </tr>\n",
              "    <tr>\n",
              "      <th>STARBUCKS</th>\n",
              "      <td>85</td>\n",
              "    </tr>\n",
              "    <tr>\n",
              "      <th>MCDONALD'S</th>\n",
              "      <td>74</td>\n",
              "    </tr>\n",
              "    <tr>\n",
              "      <th>POPEYES</th>\n",
              "      <td>71</td>\n",
              "    </tr>\n",
              "    <tr>\n",
              "      <th>GOLDEN KRUST CARIBBEAN BAKERY &amp; GRILL</th>\n",
              "      <td>67</td>\n",
              "    </tr>\n",
              "    <tr>\n",
              "      <th>BURGER KING</th>\n",
              "      <td>65</td>\n",
              "    </tr>\n",
              "    <tr>\n",
              "      <th>DUNKIN', BASKIN ROBBINS</th>\n",
              "      <td>57</td>\n",
              "    </tr>\n",
              "    <tr>\n",
              "      <th>KFC</th>\n",
              "      <td>40</td>\n",
              "    </tr>\n",
              "    <tr>\n",
              "      <th>LITTLE CAESARS</th>\n",
              "      <td>33</td>\n",
              "    </tr>\n",
              "    <tr>\n",
              "      <th>AMC THEATRES</th>\n",
              "      <td>31</td>\n",
              "    </tr>\n",
              "    <tr>\n",
              "      <th>DOMINO'S</th>\n",
              "      <td>30</td>\n",
              "    </tr>\n",
              "    <tr>\n",
              "      <th>CARVEL ICE CREAM</th>\n",
              "      <td>29</td>\n",
              "    </tr>\n",
              "    <tr>\n",
              "      <th>LE PAIN QUOTIDIEN</th>\n",
              "      <td>24</td>\n",
              "    </tr>\n",
              "    <tr>\n",
              "      <th>VIVI BUBBLE TEA</th>\n",
              "      <td>22</td>\n",
              "    </tr>\n",
              "    <tr>\n",
              "      <th>PAPA JOHN'S</th>\n",
              "      <td>22</td>\n",
              "    </tr>\n",
              "    <tr>\n",
              "      <th>EMPANADAS MONUMENTAL</th>\n",
              "      <td>21</td>\n",
              "    </tr>\n",
              "    <tr>\n",
              "      <th>INSOMNIA COOKIES</th>\n",
              "      <td>21</td>\n",
              "    </tr>\n",
              "  </tbody>\n",
              "</table>\n",
              "</div>"
            ],
            "text/plain": [
              "                                       DBA count\n",
              "SUBWAY                                       254\n",
              "DUNKIN'                                      146\n",
              "KENNEDY FRIED CHICKEN                        127\n",
              "CROWN FRIED CHICKEN                          116\n",
              "STARBUCKS                                     85\n",
              "MCDONALD'S                                    74\n",
              "POPEYES                                       71\n",
              "GOLDEN KRUST CARIBBEAN BAKERY & GRILL         67\n",
              "BURGER KING                                   65\n",
              "DUNKIN', BASKIN ROBBINS                       57\n",
              "KFC                                           40\n",
              "LITTLE CAESARS                                33\n",
              "AMC THEATRES                                  31\n",
              "DOMINO'S                                      30\n",
              "CARVEL ICE CREAM                              29\n",
              "LE PAIN QUOTIDIEN                             24\n",
              "VIVI BUBBLE TEA                               22\n",
              "PAPA JOHN'S                                   22\n",
              "EMPANADAS MONUMENTAL                          21\n",
              "INSOMNIA COOKIES                              21"
            ]
          },
          "metadata": {
            "tags": []
          },
          "execution_count": 88
        }
      ]
    },
    {
      "cell_type": "code",
      "metadata": {
        "colab": {
          "base_uri": "https://localhost:8080/",
          "height": 201
        },
        "id": "9IkowTLrlDVI",
        "outputId": "a77b03fa-232d-49d3-d596-cf32e4a69313"
      },
      "source": [
        "has_mice[\"CAMIS\"].value_counts()[:5].to_frame().rename(columns={\"CAMIS\": \"CAMIS count\"})"
      ],
      "execution_count": null,
      "outputs": [
        {
          "output_type": "execute_result",
          "data": {
            "text/html": [
              "<div>\n",
              "<style scoped>\n",
              "    .dataframe tbody tr th:only-of-type {\n",
              "        vertical-align: middle;\n",
              "    }\n",
              "\n",
              "    .dataframe tbody tr th {\n",
              "        vertical-align: top;\n",
              "    }\n",
              "\n",
              "    .dataframe thead th {\n",
              "        text-align: right;\n",
              "    }\n",
              "</style>\n",
              "<table border=\"1\" class=\"dataframe\">\n",
              "  <thead>\n",
              "    <tr style=\"text-align: right;\">\n",
              "      <th></th>\n",
              "      <th>CAMIS count</th>\n",
              "    </tr>\n",
              "  </thead>\n",
              "  <tbody>\n",
              "    <tr>\n",
              "      <th>50016943</th>\n",
              "      <td>13</td>\n",
              "    </tr>\n",
              "    <tr>\n",
              "      <th>50015263</th>\n",
              "      <td>13</td>\n",
              "    </tr>\n",
              "    <tr>\n",
              "      <th>50046623</th>\n",
              "      <td>12</td>\n",
              "    </tr>\n",
              "    <tr>\n",
              "      <th>50058969</th>\n",
              "      <td>12</td>\n",
              "    </tr>\n",
              "    <tr>\n",
              "      <th>41642251</th>\n",
              "      <td>12</td>\n",
              "    </tr>\n",
              "  </tbody>\n",
              "</table>\n",
              "</div>"
            ],
            "text/plain": [
              "          CAMIS count\n",
              "50016943           13\n",
              "50015263           13\n",
              "50046623           12\n",
              "50058969           12\n",
              "41642251           12"
            ]
          },
          "metadata": {
            "tags": []
          },
          "execution_count": 89
        }
      ]
    },
    {
      "cell_type": "markdown",
      "metadata": {
        "id": "JKgTH03JlewI"
      },
      "source": [
        "And we can use more complex conditions."
      ]
    },
    {
      "cell_type": "code",
      "metadata": {
        "colab": {
          "base_uri": "https://localhost:8080/",
          "height": 501
        },
        "id": "i8QMmc3VlgMT",
        "outputId": "c714d4a0-8e06-4ff1-807a-ec1d482e45ef"
      },
      "source": [
        "#Restaurants in Brooklyn that have mices\r\n",
        "mice_Brooklyn =  ( (restaurants[\"VIOLATION CODE\"] == \"04L\") \r\n",
        "                    & (restaurants[\"BORO\"] == \"Brooklyn\") )\r\n",
        "\r\n",
        "has_mice_brooklyn = restaurants[mice_Brooklyn]\r\n",
        "has_mice_brooklyn.head()"
      ],
      "execution_count": null,
      "outputs": [
        {
          "output_type": "execute_result",
          "data": {
            "text/html": [
              "<div>\n",
              "<style scoped>\n",
              "    .dataframe tbody tr th:only-of-type {\n",
              "        vertical-align: middle;\n",
              "    }\n",
              "\n",
              "    .dataframe tbody tr th {\n",
              "        vertical-align: top;\n",
              "    }\n",
              "\n",
              "    .dataframe thead th {\n",
              "        text-align: right;\n",
              "    }\n",
              "</style>\n",
              "<table border=\"1\" class=\"dataframe\">\n",
              "  <thead>\n",
              "    <tr style=\"text-align: right;\">\n",
              "      <th></th>\n",
              "      <th>CAMIS</th>\n",
              "      <th>DBA</th>\n",
              "      <th>BORO</th>\n",
              "      <th>BUILDING</th>\n",
              "      <th>STREET</th>\n",
              "      <th>ZIPCODE</th>\n",
              "      <th>PHONE</th>\n",
              "      <th>CUISINE DESCRIPTION</th>\n",
              "      <th>INSPECTION DATE</th>\n",
              "      <th>ACTION</th>\n",
              "      <th>VIOLATION CODE</th>\n",
              "      <th>VIOLATION DESCRIPTION</th>\n",
              "      <th>CRITICAL FLAG</th>\n",
              "      <th>SCORE</th>\n",
              "      <th>GRADE</th>\n",
              "      <th>GRADE DATE</th>\n",
              "      <th>RECORD DATE</th>\n",
              "      <th>INSPECTION TYPE</th>\n",
              "      <th>Latitude</th>\n",
              "      <th>Longitude</th>\n",
              "      <th>Community Board</th>\n",
              "      <th>Council District</th>\n",
              "      <th>Census Tract</th>\n",
              "      <th>BIN</th>\n",
              "      <th>BBL</th>\n",
              "      <th>NTA</th>\n",
              "    </tr>\n",
              "  </thead>\n",
              "  <tbody>\n",
              "    <tr>\n",
              "      <th>64</th>\n",
              "      <td>50052373</td>\n",
              "      <td>LA CEMITA MEXICAN GRILL</td>\n",
              "      <td>Brooklyn</td>\n",
              "      <td>6417</td>\n",
              "      <td>20 AVENUE</td>\n",
              "      <td>11204.0</td>\n",
              "      <td>7183762364</td>\n",
              "      <td>Mexican</td>\n",
              "      <td>2017-12-11</td>\n",
              "      <td>Violations were cited in the following area(s).</td>\n",
              "      <td>04L</td>\n",
              "      <td>Evidence of mice or live mice present in facil...</td>\n",
              "      <td>Y</td>\n",
              "      <td>39.0</td>\n",
              "      <td>NaN</td>\n",
              "      <td>NaT</td>\n",
              "      <td>2021-03-02</td>\n",
              "      <td>Cycle Inspection / Initial Inspection</td>\n",
              "      <td>40.616954</td>\n",
              "      <td>-73.985390</td>\n",
              "      <td>311.0</td>\n",
              "      <td>47.0</td>\n",
              "      <td>25400.0</td>\n",
              "      <td>3133620.0</td>\n",
              "      <td>3.055490e+09</td>\n",
              "      <td>BK28</td>\n",
              "    </tr>\n",
              "    <tr>\n",
              "      <th>206</th>\n",
              "      <td>41403094</td>\n",
              "      <td>HIGH DIVE</td>\n",
              "      <td>Brooklyn</td>\n",
              "      <td>243</td>\n",
              "      <td>FIFTH AVENUE</td>\n",
              "      <td>11215.0</td>\n",
              "      <td>7187880401</td>\n",
              "      <td>American</td>\n",
              "      <td>2020-02-19</td>\n",
              "      <td>Violations were cited in the following area(s).</td>\n",
              "      <td>04L</td>\n",
              "      <td>Evidence of mice or live mice present in facil...</td>\n",
              "      <td>Y</td>\n",
              "      <td>14.0</td>\n",
              "      <td>NaN</td>\n",
              "      <td>NaT</td>\n",
              "      <td>2021-03-02</td>\n",
              "      <td>Cycle Inspection / Initial Inspection</td>\n",
              "      <td>40.675005</td>\n",
              "      <td>-73.981423</td>\n",
              "      <td>306.0</td>\n",
              "      <td>39.0</td>\n",
              "      <td>13300.0</td>\n",
              "      <td>3020436.0</td>\n",
              "      <td>3.009620e+09</td>\n",
              "      <td>BK37</td>\n",
              "    </tr>\n",
              "    <tr>\n",
              "      <th>230</th>\n",
              "      <td>50007121</td>\n",
              "      <td>SLICE OF BROOKLYN  INC.</td>\n",
              "      <td>Brooklyn</td>\n",
              "      <td>849</td>\n",
              "      <td>4 AVENUE</td>\n",
              "      <td>11232.0</td>\n",
              "      <td>7184992121</td>\n",
              "      <td>Pizza</td>\n",
              "      <td>2018-02-12</td>\n",
              "      <td>Violations were cited in the following area(s).</td>\n",
              "      <td>04L</td>\n",
              "      <td>Evidence of mice or live mice present in facil...</td>\n",
              "      <td>Y</td>\n",
              "      <td>12.0</td>\n",
              "      <td>A</td>\n",
              "      <td>2018-02-12</td>\n",
              "      <td>2021-03-02</td>\n",
              "      <td>Cycle Inspection / Re-inspection</td>\n",
              "      <td>40.657015</td>\n",
              "      <td>-74.001589</td>\n",
              "      <td>307.0</td>\n",
              "      <td>38.0</td>\n",
              "      <td>10100.0</td>\n",
              "      <td>3010017.0</td>\n",
              "      <td>3.006770e+09</td>\n",
              "      <td>BK32</td>\n",
              "    </tr>\n",
              "    <tr>\n",
              "      <th>255</th>\n",
              "      <td>40735965</td>\n",
              "      <td>MESIVTA EITZ CHAIM</td>\n",
              "      <td>Brooklyn</td>\n",
              "      <td>1577</td>\n",
              "      <td>48 STREET</td>\n",
              "      <td>11219.0</td>\n",
              "      <td>7184382018</td>\n",
              "      <td>Jewish/Kosher</td>\n",
              "      <td>2017-12-05</td>\n",
              "      <td>Violations were cited in the following area(s).</td>\n",
              "      <td>04L</td>\n",
              "      <td>Evidence of mice or live mice present in facil...</td>\n",
              "      <td>Y</td>\n",
              "      <td>22.0</td>\n",
              "      <td>NaN</td>\n",
              "      <td>NaT</td>\n",
              "      <td>2021-03-02</td>\n",
              "      <td>Cycle Inspection / Initial Inspection</td>\n",
              "      <td>40.632006</td>\n",
              "      <td>-73.985600</td>\n",
              "      <td>312.0</td>\n",
              "      <td>44.0</td>\n",
              "      <td>23400.0</td>\n",
              "      <td>3128806.0</td>\n",
              "      <td>3.054420e+09</td>\n",
              "      <td>BK88</td>\n",
              "    </tr>\n",
              "    <tr>\n",
              "      <th>322</th>\n",
              "      <td>41493727</td>\n",
              "      <td>MID CHINA</td>\n",
              "      <td>Brooklyn</td>\n",
              "      <td>9409</td>\n",
              "      <td>5 AVENUE</td>\n",
              "      <td>11209.0</td>\n",
              "      <td>7188338900</td>\n",
              "      <td>Chinese</td>\n",
              "      <td>2018-01-31</td>\n",
              "      <td>Establishment Closed by DOHMH.  Violations wer...</td>\n",
              "      <td>04L</td>\n",
              "      <td>Evidence of mice or live mice present in facil...</td>\n",
              "      <td>Y</td>\n",
              "      <td>36.0</td>\n",
              "      <td>NaN</td>\n",
              "      <td>NaT</td>\n",
              "      <td>2021-03-02</td>\n",
              "      <td>Cycle Inspection / Re-inspection</td>\n",
              "      <td>40.616300</td>\n",
              "      <td>-74.030638</td>\n",
              "      <td>310.0</td>\n",
              "      <td>43.0</td>\n",
              "      <td>16200.0</td>\n",
              "      <td>3155642.0</td>\n",
              "      <td>3.061180e+09</td>\n",
              "      <td>BK31</td>\n",
              "    </tr>\n",
              "  </tbody>\n",
              "</table>\n",
              "</div>"
            ],
            "text/plain": [
              "        CAMIS                      DBA      BORO  ...        BIN           BBL   NTA\n",
              "64   50052373  LA CEMITA MEXICAN GRILL  Brooklyn  ...  3133620.0  3.055490e+09  BK28\n",
              "206  41403094                HIGH DIVE  Brooklyn  ...  3020436.0  3.009620e+09  BK37\n",
              "230  50007121  SLICE OF BROOKLYN  INC.  Brooklyn  ...  3010017.0  3.006770e+09  BK32\n",
              "255  40735965       MESIVTA EITZ CHAIM  Brooklyn  ...  3128806.0  3.054420e+09  BK88\n",
              "322  41493727                MID CHINA  Brooklyn  ...  3155642.0  3.061180e+09  BK31\n",
              "\n",
              "[5 rows x 26 columns]"
            ]
          },
          "metadata": {
            "tags": []
          },
          "execution_count": 86
        }
      ]
    },
    {
      "cell_type": "code",
      "metadata": {
        "colab": {
          "base_uri": "https://localhost:8080/",
          "height": 657
        },
        "id": "d2Q3qHG7lnQA",
        "outputId": "80939b74-bec9-4f3a-e895-8251edac67e0"
      },
      "source": [
        "has_mice_brooklyn[\"DBA\"].value_counts()[:20].to_frame().rename(columns={\"DBA\": \"DBA count\"})"
      ],
      "execution_count": null,
      "outputs": [
        {
          "output_type": "execute_result",
          "data": {
            "text/html": [
              "<div>\n",
              "<style scoped>\n",
              "    .dataframe tbody tr th:only-of-type {\n",
              "        vertical-align: middle;\n",
              "    }\n",
              "\n",
              "    .dataframe tbody tr th {\n",
              "        vertical-align: top;\n",
              "    }\n",
              "\n",
              "    .dataframe thead th {\n",
              "        text-align: right;\n",
              "    }\n",
              "</style>\n",
              "<table border=\"1\" class=\"dataframe\">\n",
              "  <thead>\n",
              "    <tr style=\"text-align: right;\">\n",
              "      <th></th>\n",
              "      <th>DBA count</th>\n",
              "    </tr>\n",
              "  </thead>\n",
              "  <tbody>\n",
              "    <tr>\n",
              "      <th>CROWN FRIED CHICKEN</th>\n",
              "      <td>69</td>\n",
              "    </tr>\n",
              "    <tr>\n",
              "      <th>DUNKIN'</th>\n",
              "      <td>32</td>\n",
              "    </tr>\n",
              "    <tr>\n",
              "      <th>BURGER KING</th>\n",
              "      <td>31</td>\n",
              "    </tr>\n",
              "    <tr>\n",
              "      <th>SUBWAY</th>\n",
              "      <td>29</td>\n",
              "    </tr>\n",
              "    <tr>\n",
              "      <th>GOLDEN KRUST CARIBBEAN BAKERY &amp; GRILL</th>\n",
              "      <td>27</td>\n",
              "    </tr>\n",
              "    <tr>\n",
              "      <th>KENNEDY FRIED CHICKEN</th>\n",
              "      <td>21</td>\n",
              "    </tr>\n",
              "    <tr>\n",
              "      <th>KFC</th>\n",
              "      <td>18</td>\n",
              "    </tr>\n",
              "    <tr>\n",
              "      <th>PAPA JOHN'S</th>\n",
              "      <td>14</td>\n",
              "    </tr>\n",
              "    <tr>\n",
              "      <th>STARBUCKS</th>\n",
              "      <td>13</td>\n",
              "    </tr>\n",
              "    <tr>\n",
              "      <th>DUNKIN', BASKIN ROBBINS</th>\n",
              "      <td>13</td>\n",
              "    </tr>\n",
              "    <tr>\n",
              "      <th>CAFE CREOLE</th>\n",
              "      <td>12</td>\n",
              "    </tr>\n",
              "    <tr>\n",
              "      <th>COLD STONE CREAMERY</th>\n",
              "      <td>12</td>\n",
              "    </tr>\n",
              "    <tr>\n",
              "      <th>RINCONCITO FAMILIAR MEXICAN CUISINE</th>\n",
              "      <td>11</td>\n",
              "    </tr>\n",
              "    <tr>\n",
              "      <th>COCO ROCO RESTAURANT</th>\n",
              "      <td>11</td>\n",
              "    </tr>\n",
              "    <tr>\n",
              "      <th>TAQUERIA RESTAURANTE MI BARRIO</th>\n",
              "      <td>11</td>\n",
              "    </tr>\n",
              "    <tr>\n",
              "      <th>FISHERMAN'S COVE</th>\n",
              "      <td>11</td>\n",
              "    </tr>\n",
              "    <tr>\n",
              "      <th>DOUBLE DRAGON</th>\n",
              "      <td>11</td>\n",
              "    </tr>\n",
              "    <tr>\n",
              "      <th>AUTHENTIC SZECHUAN</th>\n",
              "      <td>11</td>\n",
              "    </tr>\n",
              "    <tr>\n",
              "      <th>TWIN SISTER PAN</th>\n",
              "      <td>10</td>\n",
              "    </tr>\n",
              "    <tr>\n",
              "      <th>SUSHI YU</th>\n",
              "      <td>10</td>\n",
              "    </tr>\n",
              "  </tbody>\n",
              "</table>\n",
              "</div>"
            ],
            "text/plain": [
              "                                       DBA count\n",
              "CROWN FRIED CHICKEN                           69\n",
              "DUNKIN'                                       32\n",
              "BURGER KING                                   31\n",
              "SUBWAY                                        29\n",
              "GOLDEN KRUST CARIBBEAN BAKERY & GRILL         27\n",
              "KENNEDY FRIED CHICKEN                         21\n",
              "KFC                                           18\n",
              "PAPA JOHN'S                                   14\n",
              "STARBUCKS                                     13\n",
              "DUNKIN', BASKIN ROBBINS                       13\n",
              "CAFE CREOLE                                   12\n",
              "COLD STONE CREAMERY                           12\n",
              "RINCONCITO FAMILIAR MEXICAN CUISINE           11\n",
              "COCO ROCO RESTAURANT                          11\n",
              "TAQUERIA RESTAURANTE MI BARRIO                11\n",
              "FISHERMAN'S COVE                              11\n",
              "DOUBLE DRAGON                                 11\n",
              "AUTHENTIC SZECHUAN                            11\n",
              "TWIN SISTER PAN                               10\n",
              "SUSHI YU                                      10"
            ]
          },
          "metadata": {
            "tags": []
          },
          "execution_count": 87
        }
      ]
    },
    {
      "cell_type": "markdown",
      "metadata": {
        "id": "yM7_hpenLHWg"
      },
      "source": [
        "## <a class=\"anchor\"></a> 1.3 Exercice\r\n"
      ]
    },
    {
      "cell_type": "code",
      "metadata": {
        "id": "1sQADEghLNzo"
      },
      "source": [
        "# Use the .head() function on the \"VIOLATION CODE\" column\r\n",
        "#restaurants[\"Your code here\"].\"Your code here\""
      ],
      "execution_count": null,
      "outputs": []
    },
    {
      "cell_type": "code",
      "metadata": {
        "id": "kjcEY_sdLhW4"
      },
      "source": [
        "#Use the .value_counts() function to count the number of occurences by violation code\r\n",
        "#violation_counts = \"Your code here\".\"Your code here\"\r\n"
      ],
      "execution_count": null,
      "outputs": []
    },
    {
      "cell_type": "code",
      "metadata": {
        "id": "fu0RShUeMFkw"
      },
      "source": [
        "#Have a look at the first 10 values\r\n",
        "#violation_counts[\"Your code here\" : \"Your code here\"]"
      ],
      "execution_count": null,
      "outputs": []
    },
    {
      "cell_type": "code",
      "metadata": {
        "id": "oTiRc5xfMunS"
      },
      "source": [
        "#Plot the 20 violation codes ocurring the most\r\n",
        "#\"Your code here\".plot(kind = 'bar')"
      ],
      "execution_count": null,
      "outputs": []
    },
    {
      "cell_type": "markdown",
      "metadata": {
        "id": "QKp-KN8go5VM"
      },
      "source": [
        "## <a class=\"anchor\"></a> 1.4 Missing data\r\n",
        "\r\n",
        "Let's have a look at our missing data. We will write a function which counts the number of missing values per column, and then calculates the percentage of the total values that the missing values represent.\r\n"
      ]
    },
    {
      "cell_type": "code",
      "metadata": {
        "colab": {
          "base_uri": "https://localhost:8080/",
          "height": 865
        },
        "id": "53zMxx0kpcVq",
        "outputId": "b90b54af-d793-4f01-fb14-db0c435b4118"
      },
      "source": [
        "#We store this code as a function in order to use it again later on\r\n",
        "def missing_values_calculation():\r\n",
        "\r\n",
        "  #We store the number of missing values for every column\r\n",
        "  total = restaurants.isnull().sum().sort_values(ascending=False)\r\n",
        "\r\n",
        "  #We make a new column contaning the percentage of missing values \r\n",
        "  #out of the total number of values\r\n",
        "  percent = (restaurants.isnull().sum()/restaurants.isnull().count()).sort_values(ascending=False)\r\n",
        "\r\n",
        "  #We now make a DF containing these 2 values\r\n",
        "  missing = pd.concat([total, percent], axis=1, keys=['Total', 'Percent'])\r\n",
        "\r\n",
        "  #And we print the DataFrame\r\n",
        "  display(missing)\r\n",
        "\r\n",
        "#We call the function\r\n",
        "missing_values_calculation()"
      ],
      "execution_count": null,
      "outputs": [
        {
          "output_type": "display_data",
          "data": {
            "text/html": [
              "<div>\n",
              "<style scoped>\n",
              "    .dataframe tbody tr th:only-of-type {\n",
              "        vertical-align: middle;\n",
              "    }\n",
              "\n",
              "    .dataframe tbody tr th {\n",
              "        vertical-align: top;\n",
              "    }\n",
              "\n",
              "    .dataframe thead th {\n",
              "        text-align: right;\n",
              "    }\n",
              "</style>\n",
              "<table border=\"1\" class=\"dataframe\">\n",
              "  <thead>\n",
              "    <tr style=\"text-align: right;\">\n",
              "      <th></th>\n",
              "      <th>Total</th>\n",
              "      <th>Percent</th>\n",
              "    </tr>\n",
              "  </thead>\n",
              "  <tbody>\n",
              "    <tr>\n",
              "      <th>GRADE</th>\n",
              "      <td>201571</td>\n",
              "      <td>0.508989</td>\n",
              "    </tr>\n",
              "    <tr>\n",
              "      <th>GRADE DATE</th>\n",
              "      <td>198347</td>\n",
              "      <td>0.500848</td>\n",
              "    </tr>\n",
              "    <tr>\n",
              "      <th>SCORE</th>\n",
              "      <td>18712</td>\n",
              "      <td>0.047250</td>\n",
              "    </tr>\n",
              "    <tr>\n",
              "      <th>CRITICAL FLAG</th>\n",
              "      <td>11157</td>\n",
              "      <td>0.028173</td>\n",
              "    </tr>\n",
              "    <tr>\n",
              "      <th>VIOLATION DESCRIPTION</th>\n",
              "      <td>11157</td>\n",
              "      <td>0.028173</td>\n",
              "    </tr>\n",
              "    <tr>\n",
              "      <th>BIN</th>\n",
              "      <td>9816</td>\n",
              "      <td>0.024787</td>\n",
              "    </tr>\n",
              "    <tr>\n",
              "      <th>NTA</th>\n",
              "      <td>8000</td>\n",
              "      <td>0.020201</td>\n",
              "    </tr>\n",
              "    <tr>\n",
              "      <th>Census Tract</th>\n",
              "      <td>8000</td>\n",
              "      <td>0.020201</td>\n",
              "    </tr>\n",
              "    <tr>\n",
              "      <th>Community Board</th>\n",
              "      <td>8000</td>\n",
              "      <td>0.020201</td>\n",
              "    </tr>\n",
              "    <tr>\n",
              "      <th>Council District</th>\n",
              "      <td>8000</td>\n",
              "      <td>0.020201</td>\n",
              "    </tr>\n",
              "    <tr>\n",
              "      <th>VIOLATION CODE</th>\n",
              "      <td>7831</td>\n",
              "      <td>0.019774</td>\n",
              "    </tr>\n",
              "    <tr>\n",
              "      <th>ZIPCODE</th>\n",
              "      <td>6697</td>\n",
              "      <td>0.016911</td>\n",
              "    </tr>\n",
              "    <tr>\n",
              "      <th>ACTION</th>\n",
              "      <td>3559</td>\n",
              "      <td>0.008987</td>\n",
              "    </tr>\n",
              "    <tr>\n",
              "      <th>INSPECTION TYPE</th>\n",
              "      <td>3559</td>\n",
              "      <td>0.008987</td>\n",
              "    </tr>\n",
              "    <tr>\n",
              "      <th>Latitude</th>\n",
              "      <td>1425</td>\n",
              "      <td>0.003598</td>\n",
              "    </tr>\n",
              "    <tr>\n",
              "      <th>BBL</th>\n",
              "      <td>1425</td>\n",
              "      <td>0.003598</td>\n",
              "    </tr>\n",
              "    <tr>\n",
              "      <th>Longitude</th>\n",
              "      <td>1425</td>\n",
              "      <td>0.003598</td>\n",
              "    </tr>\n",
              "    <tr>\n",
              "      <th>BUILDING</th>\n",
              "      <td>1047</td>\n",
              "      <td>0.002644</td>\n",
              "    </tr>\n",
              "    <tr>\n",
              "      <th>DBA</th>\n",
              "      <td>659</td>\n",
              "      <td>0.001664</td>\n",
              "    </tr>\n",
              "    <tr>\n",
              "      <th>STREET</th>\n",
              "      <td>86</td>\n",
              "      <td>0.000217</td>\n",
              "    </tr>\n",
              "    <tr>\n",
              "      <th>PHONE</th>\n",
              "      <td>18</td>\n",
              "      <td>0.000045</td>\n",
              "    </tr>\n",
              "    <tr>\n",
              "      <th>INSPECTION DATE</th>\n",
              "      <td>0</td>\n",
              "      <td>0.000000</td>\n",
              "    </tr>\n",
              "    <tr>\n",
              "      <th>CUISINE DESCRIPTION</th>\n",
              "      <td>0</td>\n",
              "      <td>0.000000</td>\n",
              "    </tr>\n",
              "    <tr>\n",
              "      <th>RECORD DATE</th>\n",
              "      <td>0</td>\n",
              "      <td>0.000000</td>\n",
              "    </tr>\n",
              "    <tr>\n",
              "      <th>BORO</th>\n",
              "      <td>0</td>\n",
              "      <td>0.000000</td>\n",
              "    </tr>\n",
              "    <tr>\n",
              "      <th>CAMIS</th>\n",
              "      <td>0</td>\n",
              "      <td>0.000000</td>\n",
              "    </tr>\n",
              "  </tbody>\n",
              "</table>\n",
              "</div>"
            ],
            "text/plain": [
              "                        Total   Percent\n",
              "GRADE                  201571  0.508989\n",
              "GRADE DATE             198347  0.500848\n",
              "SCORE                   18712  0.047250\n",
              "CRITICAL FLAG           11157  0.028173\n",
              "VIOLATION DESCRIPTION   11157  0.028173\n",
              "BIN                      9816  0.024787\n",
              "NTA                      8000  0.020201\n",
              "Census Tract             8000  0.020201\n",
              "Community Board          8000  0.020201\n",
              "Council District         8000  0.020201\n",
              "VIOLATION CODE           7831  0.019774\n",
              "ZIPCODE                  6697  0.016911\n",
              "ACTION                   3559  0.008987\n",
              "INSPECTION TYPE          3559  0.008987\n",
              "Latitude                 1425  0.003598\n",
              "BBL                      1425  0.003598\n",
              "Longitude                1425  0.003598\n",
              "BUILDING                 1047  0.002644\n",
              "DBA                       659  0.001664\n",
              "STREET                     86  0.000217\n",
              "PHONE                      18  0.000045\n",
              "INSPECTION DATE             0  0.000000\n",
              "CUISINE DESCRIPTION         0  0.000000\n",
              "RECORD DATE                 0  0.000000\n",
              "BORO                        0  0.000000\n",
              "CAMIS                       0  0.000000"
            ]
          },
          "metadata": {
            "tags": []
          }
        }
      ]
    },
    {
      "cell_type": "markdown",
      "metadata": {
        "id": "Kw2-7px1q6NX"
      },
      "source": [
        "### <a class=\"anchor\"></a> 1.4.1 Dropping columns\r\n",
        "\r\n",
        "\r\n",
        "The GRADE and GRADE DATE columns containt a lot of missing values (more than half the data is missing). \r\n",
        "We may want to drop these 2 columns as the missing data is too much. We can use the `.drop()` function for this, but we need to pass an additional argument to tell Pandas we want to drop a column and not a row. This argument is: `axis = 1`"
      ]
    },
    {
      "cell_type": "code",
      "metadata": {
        "colab": {
          "base_uri": "https://localhost:8080/",
          "height": 1000
        },
        "id": "xWIeVESkq9uf",
        "outputId": "0156fc41-a2a6-4c69-e597-660bb1d8a83f"
      },
      "source": [
        "restaurants.drop([\"GRADE\", 'GRADE DATE'], axis = 1)"
      ],
      "execution_count": null,
      "outputs": [
        {
          "output_type": "execute_result",
          "data": {
            "text/html": [
              "<div>\n",
              "<style scoped>\n",
              "    .dataframe tbody tr th:only-of-type {\n",
              "        vertical-align: middle;\n",
              "    }\n",
              "\n",
              "    .dataframe tbody tr th {\n",
              "        vertical-align: top;\n",
              "    }\n",
              "\n",
              "    .dataframe thead th {\n",
              "        text-align: right;\n",
              "    }\n",
              "</style>\n",
              "<table border=\"1\" class=\"dataframe\">\n",
              "  <thead>\n",
              "    <tr style=\"text-align: right;\">\n",
              "      <th></th>\n",
              "      <th>CAMIS</th>\n",
              "      <th>DBA</th>\n",
              "      <th>BORO</th>\n",
              "      <th>BUILDING</th>\n",
              "      <th>STREET</th>\n",
              "      <th>ZIPCODE</th>\n",
              "      <th>PHONE</th>\n",
              "      <th>CUISINE DESCRIPTION</th>\n",
              "      <th>INSPECTION DATE</th>\n",
              "      <th>ACTION</th>\n",
              "      <th>VIOLATION CODE</th>\n",
              "      <th>VIOLATION DESCRIPTION</th>\n",
              "      <th>CRITICAL FLAG</th>\n",
              "      <th>SCORE</th>\n",
              "      <th>RECORD DATE</th>\n",
              "      <th>INSPECTION TYPE</th>\n",
              "      <th>Latitude</th>\n",
              "      <th>Longitude</th>\n",
              "      <th>Community Board</th>\n",
              "      <th>Council District</th>\n",
              "      <th>Census Tract</th>\n",
              "      <th>BIN</th>\n",
              "      <th>BBL</th>\n",
              "      <th>NTA</th>\n",
              "    </tr>\n",
              "  </thead>\n",
              "  <tbody>\n",
              "    <tr>\n",
              "      <th>0</th>\n",
              "      <td>50072759</td>\n",
              "      <td>GFG BAKERY</td>\n",
              "      <td>Manhattan</td>\n",
              "      <td>39</td>\n",
              "      <td>BEEKMAN STREET</td>\n",
              "      <td>10038.0</td>\n",
              "      <td>2123443465</td>\n",
              "      <td>Cakes, Cupcakes, Desserts</td>\n",
              "      <td>2019-10-10</td>\n",
              "      <td>Violations were cited in the following area(s).</td>\n",
              "      <td>02H</td>\n",
              "      <td>Food not cooled by an approved method whereby ...</td>\n",
              "      <td>Y</td>\n",
              "      <td>24.0</td>\n",
              "      <td>2021-03-01</td>\n",
              "      <td>Cycle Inspection / Initial Inspection</td>\n",
              "      <td>40.710274</td>\n",
              "      <td>-74.005490</td>\n",
              "      <td>101.0</td>\n",
              "      <td>1.0</td>\n",
              "      <td>1501.0</td>\n",
              "      <td>1001284.0</td>\n",
              "      <td>1.000930e+09</td>\n",
              "      <td>MN25</td>\n",
              "    </tr>\n",
              "    <tr>\n",
              "      <th>1</th>\n",
              "      <td>50064392</td>\n",
              "      <td>PATIALA GRILL</td>\n",
              "      <td>Manhattan</td>\n",
              "      <td>371</td>\n",
              "      <td>WEST   34 STREET</td>\n",
              "      <td>10001.0</td>\n",
              "      <td>2125648255</td>\n",
              "      <td>Indian</td>\n",
              "      <td>2019-06-11</td>\n",
              "      <td>Violations were cited in the following area(s).</td>\n",
              "      <td>10F</td>\n",
              "      <td>Non-food contact surface improperly constructe...</td>\n",
              "      <td>N</td>\n",
              "      <td>34.0</td>\n",
              "      <td>2021-03-01</td>\n",
              "      <td>Cycle Inspection / Initial Inspection</td>\n",
              "      <td>40.752969</td>\n",
              "      <td>-73.995304</td>\n",
              "      <td>104.0</td>\n",
              "      <td>3.0</td>\n",
              "      <td>11100.0</td>\n",
              "      <td>1013555.0</td>\n",
              "      <td>1.007580e+09</td>\n",
              "      <td>MN13</td>\n",
              "    </tr>\n",
              "    <tr>\n",
              "      <th>2</th>\n",
              "      <td>50001693</td>\n",
              "      <td>ANKA GRILL</td>\n",
              "      <td>Manhattan</td>\n",
              "      <td>642</td>\n",
              "      <td>LEXINGTON AVENUE</td>\n",
              "      <td>10022.0</td>\n",
              "      <td>6466926494</td>\n",
              "      <td>Turkish</td>\n",
              "      <td>2018-10-19</td>\n",
              "      <td>Violations were cited in the following area(s).</td>\n",
              "      <td>04H</td>\n",
              "      <td>Raw, cooked or prepared food is adulterated, c...</td>\n",
              "      <td>Y</td>\n",
              "      <td>33.0</td>\n",
              "      <td>2021-03-01</td>\n",
              "      <td>Cycle Inspection / Re-inspection</td>\n",
              "      <td>40.759237</td>\n",
              "      <td>-73.970368</td>\n",
              "      <td>105.0</td>\n",
              "      <td>4.0</td>\n",
              "      <td>10000.0</td>\n",
              "      <td>1071461.0</td>\n",
              "      <td>1.013098e+09</td>\n",
              "      <td>MN19</td>\n",
              "    </tr>\n",
              "    <tr>\n",
              "      <th>3</th>\n",
              "      <td>50018652</td>\n",
              "      <td>KIABACCA PIZZA AND BEER</td>\n",
              "      <td>Manhattan</td>\n",
              "      <td>639</td>\n",
              "      <td>10 AVENUE</td>\n",
              "      <td>10036.0</td>\n",
              "      <td>2126494675</td>\n",
              "      <td>American</td>\n",
              "      <td>2019-04-17</td>\n",
              "      <td>Violations were cited in the following area(s).</td>\n",
              "      <td>10B</td>\n",
              "      <td>Plumbing not properly installed or maintained;...</td>\n",
              "      <td>N</td>\n",
              "      <td>12.0</td>\n",
              "      <td>2021-03-01</td>\n",
              "      <td>Cycle Inspection / Initial Inspection</td>\n",
              "      <td>40.761758</td>\n",
              "      <td>-73.993928</td>\n",
              "      <td>104.0</td>\n",
              "      <td>3.0</td>\n",
              "      <td>12900.0</td>\n",
              "      <td>1026940.0</td>\n",
              "      <td>1.010740e+09</td>\n",
              "      <td>MN15</td>\n",
              "    </tr>\n",
              "    <tr>\n",
              "      <th>4</th>\n",
              "      <td>50012356</td>\n",
              "      <td>TEXAS CHICKEN &amp; BURGERS</td>\n",
              "      <td>Manhattan</td>\n",
              "      <td>151</td>\n",
              "      <td>EAST  103 STREET</td>\n",
              "      <td>10029.0</td>\n",
              "      <td>9173304730</td>\n",
              "      <td>Chicken</td>\n",
              "      <td>2018-05-03</td>\n",
              "      <td>Violations were cited in the following area(s).</td>\n",
              "      <td>02B</td>\n",
              "      <td>Hot food item not held at or above 140º F.</td>\n",
              "      <td>Y</td>\n",
              "      <td>12.0</td>\n",
              "      <td>2021-03-01</td>\n",
              "      <td>Cycle Inspection / Initial Inspection</td>\n",
              "      <td>40.790198</td>\n",
              "      <td>-73.947393</td>\n",
              "      <td>111.0</td>\n",
              "      <td>8.0</td>\n",
              "      <td>16600.0</td>\n",
              "      <td>1051915.0</td>\n",
              "      <td>1.016310e+09</td>\n",
              "      <td>MN33</td>\n",
              "    </tr>\n",
              "    <tr>\n",
              "      <th>...</th>\n",
              "      <td>...</td>\n",
              "      <td>...</td>\n",
              "      <td>...</td>\n",
              "      <td>...</td>\n",
              "      <td>...</td>\n",
              "      <td>...</td>\n",
              "      <td>...</td>\n",
              "      <td>...</td>\n",
              "      <td>...</td>\n",
              "      <td>...</td>\n",
              "      <td>...</td>\n",
              "      <td>...</td>\n",
              "      <td>...</td>\n",
              "      <td>...</td>\n",
              "      <td>...</td>\n",
              "      <td>...</td>\n",
              "      <td>...</td>\n",
              "      <td>...</td>\n",
              "      <td>...</td>\n",
              "      <td>...</td>\n",
              "      <td>...</td>\n",
              "      <td>...</td>\n",
              "      <td>...</td>\n",
              "      <td>...</td>\n",
              "    </tr>\n",
              "    <tr>\n",
              "      <th>396017</th>\n",
              "      <td>50097986</td>\n",
              "      <td>BAODEGA</td>\n",
              "      <td>Manhattan</td>\n",
              "      <td>7</td>\n",
              "      <td>WEST   20 STREET</td>\n",
              "      <td>10011.0</td>\n",
              "      <td>6463706034</td>\n",
              "      <td>Chinese</td>\n",
              "      <td>2019-11-14</td>\n",
              "      <td>Establishment Closed by DOHMH.  Violations wer...</td>\n",
              "      <td>06D</td>\n",
              "      <td>Food contact surface not properly washed, rins...</td>\n",
              "      <td>Y</td>\n",
              "      <td>32.0</td>\n",
              "      <td>2021-03-01</td>\n",
              "      <td>Pre-permit (Operational) / Re-inspection</td>\n",
              "      <td>40.739937</td>\n",
              "      <td>-73.991563</td>\n",
              "      <td>105.0</td>\n",
              "      <td>3.0</td>\n",
              "      <td>5400.0</td>\n",
              "      <td>1015497.0</td>\n",
              "      <td>1.008220e+09</td>\n",
              "      <td>MN13</td>\n",
              "    </tr>\n",
              "    <tr>\n",
              "      <th>396018</th>\n",
              "      <td>50016112</td>\n",
              "      <td>ANTOJITOS ECUATORIANOS</td>\n",
              "      <td>Brooklyn</td>\n",
              "      <td>3398</td>\n",
              "      <td>FULTON STREET</td>\n",
              "      <td>11208.0</td>\n",
              "      <td>7182770970</td>\n",
              "      <td>Latin American</td>\n",
              "      <td>2019-12-30</td>\n",
              "      <td>Violations were cited in the following area(s).</td>\n",
              "      <td>02H</td>\n",
              "      <td>Food not cooled by an approved method whereby ...</td>\n",
              "      <td>Y</td>\n",
              "      <td>13.0</td>\n",
              "      <td>2021-03-01</td>\n",
              "      <td>Cycle Inspection / Re-inspection</td>\n",
              "      <td>40.684208</td>\n",
              "      <td>-73.870173</td>\n",
              "      <td>305.0</td>\n",
              "      <td>37.0</td>\n",
              "      <td>118400.0</td>\n",
              "      <td>3092908.0</td>\n",
              "      <td>3.041490e+09</td>\n",
              "      <td>BK83</td>\n",
              "    </tr>\n",
              "    <tr>\n",
              "      <th>396019</th>\n",
              "      <td>41331156</td>\n",
              "      <td>ROOM MATE GRACE HOTEL</td>\n",
              "      <td>Manhattan</td>\n",
              "      <td>125</td>\n",
              "      <td>WEST   45 STREET</td>\n",
              "      <td>10036.0</td>\n",
              "      <td>2123542323</td>\n",
              "      <td>American</td>\n",
              "      <td>2017-04-28</td>\n",
              "      <td>Violations were cited in the following area(s).</td>\n",
              "      <td>06D</td>\n",
              "      <td>Food contact surface not properly washed, rins...</td>\n",
              "      <td>Y</td>\n",
              "      <td>22.0</td>\n",
              "      <td>2021-03-01</td>\n",
              "      <td>Cycle Inspection / Initial Inspection</td>\n",
              "      <td>40.757156</td>\n",
              "      <td>-73.983613</td>\n",
              "      <td>105.0</td>\n",
              "      <td>4.0</td>\n",
              "      <td>11900.0</td>\n",
              "      <td>1022637.0</td>\n",
              "      <td>1.009980e+09</td>\n",
              "      <td>MN17</td>\n",
              "    </tr>\n",
              "    <tr>\n",
              "      <th>396020</th>\n",
              "      <td>50044336</td>\n",
              "      <td>KING DRAGON 88</td>\n",
              "      <td>Manhattan</td>\n",
              "      <td>1548</td>\n",
              "      <td>MADISON AVENUE</td>\n",
              "      <td>10029.0</td>\n",
              "      <td>2123696788</td>\n",
              "      <td>Chinese</td>\n",
              "      <td>2017-04-24</td>\n",
              "      <td>Violations were cited in the following area(s).</td>\n",
              "      <td>06E</td>\n",
              "      <td>Sanitized equipment or utensil, including in-u...</td>\n",
              "      <td>Y</td>\n",
              "      <td>10.0</td>\n",
              "      <td>2021-03-01</td>\n",
              "      <td>Cycle Inspection / Initial Inspection</td>\n",
              "      <td>40.792678</td>\n",
              "      <td>-73.950194</td>\n",
              "      <td>111.0</td>\n",
              "      <td>8.0</td>\n",
              "      <td>16800.0</td>\n",
              "      <td>1051506.0</td>\n",
              "      <td>1.016100e+09</td>\n",
              "      <td>MN33</td>\n",
              "    </tr>\n",
              "    <tr>\n",
              "      <th>396021</th>\n",
              "      <td>50073021</td>\n",
              "      <td>NEW FUN SING RESTAURANT</td>\n",
              "      <td>Brooklyn</td>\n",
              "      <td>689</td>\n",
              "      <td>BROADWAY</td>\n",
              "      <td>11206.0</td>\n",
              "      <td>7187826915</td>\n",
              "      <td>Chinese</td>\n",
              "      <td>2019-02-19</td>\n",
              "      <td>Violations were cited in the following area(s).</td>\n",
              "      <td>04L</td>\n",
              "      <td>Evidence of mice or live mice present in facil...</td>\n",
              "      <td>Y</td>\n",
              "      <td>9.0</td>\n",
              "      <td>2021-03-01</td>\n",
              "      <td>Cycle Inspection / Initial Inspection</td>\n",
              "      <td>40.701751</td>\n",
              "      <td>-73.943622</td>\n",
              "      <td>301.0</td>\n",
              "      <td>34.0</td>\n",
              "      <td>49100.0</td>\n",
              "      <td>3071596.0</td>\n",
              "      <td>3.031190e+09</td>\n",
              "      <td>BK90</td>\n",
              "    </tr>\n",
              "  </tbody>\n",
              "</table>\n",
              "<p>396022 rows × 24 columns</p>\n",
              "</div>"
            ],
            "text/plain": [
              "           CAMIS                      DBA  ...           BBL   NTA\n",
              "0       50072759               GFG BAKERY  ...  1.000930e+09  MN25\n",
              "1       50064392            PATIALA GRILL  ...  1.007580e+09  MN13\n",
              "2       50001693               ANKA GRILL  ...  1.013098e+09  MN19\n",
              "3       50018652  KIABACCA PIZZA AND BEER  ...  1.010740e+09  MN15\n",
              "4       50012356  TEXAS CHICKEN & BURGERS  ...  1.016310e+09  MN33\n",
              "...          ...                      ...  ...           ...   ...\n",
              "396017  50097986                  BAODEGA  ...  1.008220e+09  MN13\n",
              "396018  50016112   ANTOJITOS ECUATORIANOS  ...  3.041490e+09  BK83\n",
              "396019  41331156    ROOM MATE GRACE HOTEL  ...  1.009980e+09  MN17\n",
              "396020  50044336           KING DRAGON 88  ...  1.016100e+09  MN33\n",
              "396021  50073021  NEW FUN SING RESTAURANT  ...  3.031190e+09  BK90\n",
              "\n",
              "[396022 rows x 24 columns]"
            ]
          },
          "metadata": {
            "tags": []
          },
          "execution_count": 67
        }
      ]
    },
    {
      "cell_type": "markdown",
      "metadata": {
        "id": "vRdaJpZDsK0Z"
      },
      "source": [
        "As you can see, the \"GRADE\" and \"GRADE DATE\" columns are not a part of our DataFrame anymore."
      ]
    },
    {
      "cell_type": "markdown",
      "metadata": {
        "id": "BIW5XpoyV-Qq"
      },
      "source": [
        "### <a class=\"anchor\"></a> 1.4.2 Fillna() and dropna()\r\n"
      ]
    },
    {
      "cell_type": "markdown",
      "metadata": {
        "id": "4E-WijGJsZ_i"
      },
      "source": [
        "For the remaining columns we may want to do three different things:\r\n",
        " * Replace the missing entries with a specific value\r\n",
        " * Either estimate a possible value using the median for example\r\n",
        " * Drop the row altogether.\r\n",
        "\r\n",
        " Remember that we can drop rows with `dropna()`. Another useful function is `fillna()`, this function allows us to replace missing values with a value we may want."
      ]
    },
    {
      "cell_type": "code",
      "metadata": {
        "colab": {
          "base_uri": "https://localhost:8080/",
          "height": 865
        },
        "id": "H8G9lzVEvvm5",
        "outputId": "be0c8e72-c675-4a65-c97d-20d333c11335"
      },
      "source": [
        "# Replacing missing values with a given value\r\n",
        "#In this case we are going to assume that if the value is missing then there was no critical flag\r\n",
        "restaurants['CRITICAL FLAG'].fillna(\"N\", inplace = True)\r\n",
        "\r\n",
        "# Replacing missing values with an estimation (median)\r\n",
        "median = restaurants['SCORE'].median()\r\n",
        "restaurants['SCORE'].fillna(median, inplace=True)\r\n",
        "\r\n",
        "#Dropping the row, you should already know this one\r\n",
        "restaurants['VIOLATION DESCRIPTION'].dropna()\r\n",
        "\r\n",
        "#Let's see how many \r\n",
        "missing_values_calculation()\r\n",
        "\r\n"
      ],
      "execution_count": null,
      "outputs": [
        {
          "output_type": "display_data",
          "data": {
            "text/html": [
              "<div>\n",
              "<style scoped>\n",
              "    .dataframe tbody tr th:only-of-type {\n",
              "        vertical-align: middle;\n",
              "    }\n",
              "\n",
              "    .dataframe tbody tr th {\n",
              "        vertical-align: top;\n",
              "    }\n",
              "\n",
              "    .dataframe thead th {\n",
              "        text-align: right;\n",
              "    }\n",
              "</style>\n",
              "<table border=\"1\" class=\"dataframe\">\n",
              "  <thead>\n",
              "    <tr style=\"text-align: right;\">\n",
              "      <th></th>\n",
              "      <th>Total</th>\n",
              "      <th>Percent</th>\n",
              "    </tr>\n",
              "  </thead>\n",
              "  <tbody>\n",
              "    <tr>\n",
              "      <th>GRADE</th>\n",
              "      <td>201571</td>\n",
              "      <td>0.508989</td>\n",
              "    </tr>\n",
              "    <tr>\n",
              "      <th>GRADE DATE</th>\n",
              "      <td>198347</td>\n",
              "      <td>0.500848</td>\n",
              "    </tr>\n",
              "    <tr>\n",
              "      <th>VIOLATION DESCRIPTION</th>\n",
              "      <td>11157</td>\n",
              "      <td>0.028173</td>\n",
              "    </tr>\n",
              "    <tr>\n",
              "      <th>BIN</th>\n",
              "      <td>9816</td>\n",
              "      <td>0.024787</td>\n",
              "    </tr>\n",
              "    <tr>\n",
              "      <th>Community Board</th>\n",
              "      <td>8000</td>\n",
              "      <td>0.020201</td>\n",
              "    </tr>\n",
              "    <tr>\n",
              "      <th>NTA</th>\n",
              "      <td>8000</td>\n",
              "      <td>0.020201</td>\n",
              "    </tr>\n",
              "    <tr>\n",
              "      <th>Council District</th>\n",
              "      <td>8000</td>\n",
              "      <td>0.020201</td>\n",
              "    </tr>\n",
              "    <tr>\n",
              "      <th>Census Tract</th>\n",
              "      <td>8000</td>\n",
              "      <td>0.020201</td>\n",
              "    </tr>\n",
              "    <tr>\n",
              "      <th>VIOLATION CODE</th>\n",
              "      <td>7831</td>\n",
              "      <td>0.019774</td>\n",
              "    </tr>\n",
              "    <tr>\n",
              "      <th>ZIPCODE</th>\n",
              "      <td>6697</td>\n",
              "      <td>0.016911</td>\n",
              "    </tr>\n",
              "    <tr>\n",
              "      <th>INSPECTION TYPE</th>\n",
              "      <td>3559</td>\n",
              "      <td>0.008987</td>\n",
              "    </tr>\n",
              "    <tr>\n",
              "      <th>ACTION</th>\n",
              "      <td>3559</td>\n",
              "      <td>0.008987</td>\n",
              "    </tr>\n",
              "    <tr>\n",
              "      <th>Longitude</th>\n",
              "      <td>1425</td>\n",
              "      <td>0.003598</td>\n",
              "    </tr>\n",
              "    <tr>\n",
              "      <th>Latitude</th>\n",
              "      <td>1425</td>\n",
              "      <td>0.003598</td>\n",
              "    </tr>\n",
              "    <tr>\n",
              "      <th>BBL</th>\n",
              "      <td>1425</td>\n",
              "      <td>0.003598</td>\n",
              "    </tr>\n",
              "    <tr>\n",
              "      <th>BUILDING</th>\n",
              "      <td>1047</td>\n",
              "      <td>0.002644</td>\n",
              "    </tr>\n",
              "    <tr>\n",
              "      <th>DBA</th>\n",
              "      <td>659</td>\n",
              "      <td>0.001664</td>\n",
              "    </tr>\n",
              "    <tr>\n",
              "      <th>STREET</th>\n",
              "      <td>86</td>\n",
              "      <td>0.000217</td>\n",
              "    </tr>\n",
              "    <tr>\n",
              "      <th>PHONE</th>\n",
              "      <td>18</td>\n",
              "      <td>0.000045</td>\n",
              "    </tr>\n",
              "    <tr>\n",
              "      <th>BORO</th>\n",
              "      <td>0</td>\n",
              "      <td>0.000000</td>\n",
              "    </tr>\n",
              "    <tr>\n",
              "      <th>CRITICAL FLAG</th>\n",
              "      <td>0</td>\n",
              "      <td>0.000000</td>\n",
              "    </tr>\n",
              "    <tr>\n",
              "      <th>CUISINE DESCRIPTION</th>\n",
              "      <td>0</td>\n",
              "      <td>0.000000</td>\n",
              "    </tr>\n",
              "    <tr>\n",
              "      <th>INSPECTION DATE</th>\n",
              "      <td>0</td>\n",
              "      <td>0.000000</td>\n",
              "    </tr>\n",
              "    <tr>\n",
              "      <th>SCORE</th>\n",
              "      <td>0</td>\n",
              "      <td>0.000000</td>\n",
              "    </tr>\n",
              "    <tr>\n",
              "      <th>RECORD DATE</th>\n",
              "      <td>0</td>\n",
              "      <td>0.000000</td>\n",
              "    </tr>\n",
              "    <tr>\n",
              "      <th>CAMIS</th>\n",
              "      <td>0</td>\n",
              "      <td>0.000000</td>\n",
              "    </tr>\n",
              "  </tbody>\n",
              "</table>\n",
              "</div>"
            ],
            "text/plain": [
              "                        Total   Percent\n",
              "GRADE                  201571  0.508989\n",
              "GRADE DATE             198347  0.500848\n",
              "VIOLATION DESCRIPTION   11157  0.028173\n",
              "BIN                      9816  0.024787\n",
              "Community Board          8000  0.020201\n",
              "NTA                      8000  0.020201\n",
              "Council District         8000  0.020201\n",
              "Census Tract             8000  0.020201\n",
              "VIOLATION CODE           7831  0.019774\n",
              "ZIPCODE                  6697  0.016911\n",
              "INSPECTION TYPE          3559  0.008987\n",
              "ACTION                   3559  0.008987\n",
              "Longitude                1425  0.003598\n",
              "Latitude                 1425  0.003598\n",
              "BBL                      1425  0.003598\n",
              "BUILDING                 1047  0.002644\n",
              "DBA                       659  0.001664\n",
              "STREET                     86  0.000217\n",
              "PHONE                      18  0.000045\n",
              "BORO                        0  0.000000\n",
              "CRITICAL FLAG               0  0.000000\n",
              "CUISINE DESCRIPTION         0  0.000000\n",
              "INSPECTION DATE             0  0.000000\n",
              "SCORE                       0  0.000000\n",
              "RECORD DATE                 0  0.000000\n",
              "CAMIS                       0  0.000000"
            ]
          },
          "metadata": {
            "tags": []
          }
        }
      ]
    },
    {
      "cell_type": "markdown",
      "metadata": {
        "id": "CkYusmSUNHAH"
      },
      "source": [
        "# <a class=\"anchor\"></a> 2 Boxplots and correlations\r\n",
        "\r\n",
        "We will now change datasets. This dataset containts the compensation of the CEO's of different companies.\r\n"
      ]
    },
    {
      "cell_type": "code",
      "metadata": {
        "colab": {
          "base_uri": "https://localhost:8080/",
          "height": 324
        },
        "id": "tfGDiGWTNRpH",
        "outputId": "836abf53-c8e8-4234-8c7b-654220397c68"
      },
      "source": [
        "#Run this cell\r\n",
        "url = \"https://raw.githubusercontent.com/michalis0/Business-Intelligence-and-Analytics/master/data/CEO%20compensation.csv\"\r\n",
        "data = pd.read_csv(url) \r\n",
        "data.head(3) #only shows the first 3 rows"
      ],
      "execution_count": null,
      "outputs": [
        {
          "output_type": "execute_result",
          "data": {
            "text/html": [
              "<div>\n",
              "<style scoped>\n",
              "    .dataframe tbody tr th:only-of-type {\n",
              "        vertical-align: middle;\n",
              "    }\n",
              "\n",
              "    .dataframe tbody tr th {\n",
              "        vertical-align: top;\n",
              "    }\n",
              "\n",
              "    .dataframe thead th {\n",
              "        text-align: right;\n",
              "    }\n",
              "</style>\n",
              "<table border=\"1\" class=\"dataframe\">\n",
              "  <thead>\n",
              "    <tr style=\"text-align: right;\">\n",
              "      <th></th>\n",
              "      <th>Total Comp</th>\n",
              "      <th>Top 20</th>\n",
              "      <th>Wide Industry</th>\n",
              "      <th>Company</th>\n",
              "      <th>CEO</th>\n",
              "      <th>City of Birth</th>\n",
              "      <th>State of Birth</th>\n",
              "      <th>Age</th>\n",
              "      <th>Undergrad</th>\n",
              "      <th>UG Degree</th>\n",
              "      <th>UG Date</th>\n",
              "      <th>AgeOfUnder</th>\n",
              "      <th>Graduate</th>\n",
              "      <th>Grad Degree</th>\n",
              "      <th>MBA?</th>\n",
              "      <th>MasterPhd?</th>\n",
              "      <th>G_date</th>\n",
              "      <th>AgeOfGradu</th>\n",
              "      <th>YearsFirm</th>\n",
              "      <th>YearsCEO</th>\n",
              "      <th>Salary</th>\n",
              "      <th>Bonus</th>\n",
              "      <th>other</th>\n",
              "      <th>St_gains</th>\n",
              "      <th>Comp for 5 yrs</th>\n",
              "      <th>Stock owned</th>\n",
              "      <th>Sales</th>\n",
              "      <th>Profits</th>\n",
              "      <th>Return over 5 yrs</th>\n",
              "      <th>Industry</th>\n",
              "      <th>Industry Code</th>\n",
              "    </tr>\n",
              "  </thead>\n",
              "  <tbody>\n",
              "    <tr>\n",
              "      <th>0</th>\n",
              "      <td>203020000.0</td>\n",
              "      <td>True</td>\n",
              "      <td>Travel</td>\n",
              "      <td>Walt Disney</td>\n",
              "      <td>Mr. Michael D Eisner</td>\n",
              "      <td>New York</td>\n",
              "      <td>NY</td>\n",
              "      <td>52</td>\n",
              "      <td>Denison U</td>\n",
              "      <td>BA</td>\n",
              "      <td>64.0</td>\n",
              "      <td>22.0</td>\n",
              "      <td>NaN</td>\n",
              "      <td>none</td>\n",
              "      <td>0</td>\n",
              "      <td>0</td>\n",
              "      <td>NaN</td>\n",
              "      <td>NaN</td>\n",
              "      <td>10</td>\n",
              "      <td>10</td>\n",
              "      <td>750000.0</td>\n",
              "      <td>NaN</td>\n",
              "      <td>9667.0</td>\n",
              "      <td>202261000.0</td>\n",
              "      <td>236771000.0</td>\n",
              "      <td>0.561</td>\n",
              "      <td>8865</td>\n",
              "      <td>779.5</td>\n",
              "      <td>17.0</td>\n",
              "      <td>Travel-hotelsrecreation</td>\n",
              "      <td>8</td>\n",
              "    </tr>\n",
              "    <tr>\n",
              "      <th>1</th>\n",
              "      <td>53110900.0</td>\n",
              "      <td>True</td>\n",
              "      <td>Financial</td>\n",
              "      <td>Travelers</td>\n",
              "      <td>Mr. Sanford I Weill</td>\n",
              "      <td>New York</td>\n",
              "      <td>NY</td>\n",
              "      <td>61</td>\n",
              "      <td>Cornell</td>\n",
              "      <td>BA</td>\n",
              "      <td>55.0</td>\n",
              "      <td>22.0</td>\n",
              "      <td>NaN</td>\n",
              "      <td>none</td>\n",
              "      <td>0</td>\n",
              "      <td>0</td>\n",
              "      <td>NaN</td>\n",
              "      <td>NaN</td>\n",
              "      <td>8</td>\n",
              "      <td>8</td>\n",
              "      <td>1018750.0</td>\n",
              "      <td>3030310.0</td>\n",
              "      <td>2161890.0</td>\n",
              "      <td>46900000.0</td>\n",
              "      <td>141605000.0</td>\n",
              "      <td>1.168</td>\n",
              "      <td>6797</td>\n",
              "      <td>950.0</td>\n",
              "      <td>28.0</td>\n",
              "      <td>Financial services-leasefinance</td>\n",
              "      <td>1</td>\n",
              "    </tr>\n",
              "    <tr>\n",
              "      <th>2</th>\n",
              "      <td>38675400.0</td>\n",
              "      <td>True</td>\n",
              "      <td>Insurance</td>\n",
              "      <td>Conseco</td>\n",
              "      <td>Mr. Stephen C Hilbert</td>\n",
              "      <td>Terre Haute</td>\n",
              "      <td>IN</td>\n",
              "      <td>48</td>\n",
              "      <td>NaN</td>\n",
              "      <td>NaN</td>\n",
              "      <td>NaN</td>\n",
              "      <td>NaN</td>\n",
              "      <td>NaN</td>\n",
              "      <td>none</td>\n",
              "      <td>0</td>\n",
              "      <td>0</td>\n",
              "      <td>NaN</td>\n",
              "      <td>NaN</td>\n",
              "      <td>15</td>\n",
              "      <td>15</td>\n",
              "      <td>250000.0</td>\n",
              "      <td>8287670.0</td>\n",
              "      <td>190570.0</td>\n",
              "      <td>29947100.0</td>\n",
              "      <td>51156100.0</td>\n",
              "      <td>2.842</td>\n",
              "      <td>2637</td>\n",
              "      <td>308.9</td>\n",
              "      <td>76.0</td>\n",
              "      <td>Insurance-lifehealth</td>\n",
              "      <td>4</td>\n",
              "    </tr>\n",
              "  </tbody>\n",
              "</table>\n",
              "</div>"
            ],
            "text/plain": [
              "    Total Comp  Top 20  ...                         Industry Industry Code\n",
              "0  203020000.0    True  ...          Travel-hotelsrecreation             8\n",
              "1   53110900.0    True  ...  Financial services-leasefinance             1\n",
              "2   38675400.0    True  ...             Insurance-lifehealth             4\n",
              "\n",
              "[3 rows x 31 columns]"
            ]
          },
          "metadata": {
            "tags": []
          },
          "execution_count": 90
        }
      ]
    },
    {
      "cell_type": "code",
      "metadata": {
        "id": "pA30fVB4OPRw"
      },
      "source": [
        "# Run this cell to drop the rows where there are missing values\r\n",
        "data.dropna(inplace=True)"
      ],
      "execution_count": null,
      "outputs": []
    },
    {
      "cell_type": "markdown",
      "metadata": {
        "id": "Ww0jmyFlOjbR"
      },
      "source": [
        "## <a class=\"anchor\"></a> 2.1 Boxplots\r\n",
        "\r\n",
        "Pandas allows you to plot boxplots with your data. If you do not remember what a Boxplot is you can refresh your memory following this link. Essentially they allow to see the following elements:\r\n",
        "\r\n",
        "* Minimum\r\n",
        "* Maximum\r\n",
        "* Median\r\n",
        "* Quartiles\r\n",
        "* Outliers\r\n",
        "\r\n",
        "We will use the `.boxplot()` function to see how much the salaries and bonuses of CEO's can vary. What part of CEO's compensation can vary the most, which one varies the least? Which one has the biggest outliers?\r\n",
        "\r\n"
      ]
    },
    {
      "cell_type": "code",
      "metadata": {
        "colab": {
          "base_uri": "https://localhost:8080/",
          "height": 565
        },
        "id": "lxTrHGTVPO5H",
        "outputId": "4851bb35-2d98-46eb-e63d-33774ed7bb50"
      },
      "source": [
        "#Boxplot for salaries\r\n",
        "box_plot_salary=data.boxplot(column = \"Salary\", figsize = (20,10))\r\n",
        "\r\n"
      ],
      "execution_count": null,
      "outputs": [
        {
          "output_type": "display_data",
          "data": {
            "image/png": "[encoded data removed]",
            "text/plain": [
              "<Figure size 1440x720 with 1 Axes>"
            ]
          },
          "metadata": {
            "tags": [],
            "needs_background": "light"
          }
        }
      ]
    },
    {
      "cell_type": "code",
      "metadata": {
        "id": "ceh3ApkcMzWe",
        "colab": {
          "base_uri": "https://localhost:8080/",
          "height": 570
        },
        "outputId": "3b69febb-54d7-4ce5-bc37-d6b0fc852a79"
      },
      "source": [
        "#Boxplot for bonuses\r\n",
        "box_plot_bonus=data.boxplot(column = \"Bonus\", figsize = (20,10) )"
      ],
      "execution_count": null,
      "outputs": [
        {
          "output_type": "display_data",
          "data": {
            "image/png": "[encoded data removed]",
            "text/plain": [
              "<Figure size 1440x720 with 1 Axes>"
            ]
          },
          "metadata": {
            "tags": [],
            "needs_background": "light"
          }
        }
      ]
    },
    {
      "cell_type": "markdown",
      "metadata": {
        "id": "RMKBMlVCP8UB"
      },
      "source": [
        "### <a class=\"anchor\"></a> 2.1.2 Boxplot exercice\r\n",
        "\r\n",
        "Use the .boxplot function with the \"Bonus\" column. What is the mean, median, max, min and what are the outlier values?\r\n",
        "\r\n",
        "Subsequentially check your answers using the .describe() function.\r\n"
      ]
    },
    {
      "cell_type": "code",
      "metadata": {
        "id": "8lds-gnsQG7B"
      },
      "source": [
        "#Generate the Boxplot"
      ],
      "execution_count": null,
      "outputs": []
    },
    {
      "cell_type": "code",
      "metadata": {
        "id": "dujQIpCUQGyv"
      },
      "source": [
        "#Check your answers"
      ],
      "execution_count": null,
      "outputs": []
    },
    {
      "cell_type": "markdown",
      "metadata": {
        "id": "eTS_M7hIOjWA"
      },
      "source": [
        "## <a class=\"anchor\"></a> 2.1 Scatterplots and Correlation\r\n",
        "\r\n",
        "This plots are useful to find correlations between variables. Let's see if we can find any correlation (visually) between the Age and the Salary of the CEO's.\r\n",
        "\r\n",
        "The function's name is scatterplot and it is included in the sns library, it is therefore called like this:\r\n",
        "\r\n",
        "`sns.scatterplot(x= Your_data_1, y= Your_data_2)`\r\n"
      ]
    },
    {
      "cell_type": "code",
      "metadata": {
        "colab": {
          "base_uri": "https://localhost:8080/",
          "height": 289
        },
        "id": "FoaL2zSfRyEY",
        "outputId": "0dd9e81b-8af0-4230-891d-9220c191eb59"
      },
      "source": [
        "scat=sns.scatterplot(x=data[\"Age\"], y=data[\"Salary\"])"
      ],
      "execution_count": null,
      "outputs": [
        {
          "output_type": "display_data",
          "data": {
            "image/png": "[encoded data removed]",
            "text/plain": [
              "<Figure size 432x288 with 1 Axes>"
            ]
          },
          "metadata": {
            "tags": [],
            "needs_background": "light"
          }
        }
      ]
    },
    {
      "cell_type": "markdown",
      "metadata": {
        "id": "377oW8DISmGf"
      },
      "source": [
        "Pandas also includes a function `corr` which allows to easily calculate [Pearsons r coefficient](https://en.wikipedia.org/wiki/Pearson_correlation_coefficient)."
      ]
    },
    {
      "cell_type": "code",
      "metadata": {
        "colab": {
          "base_uri": "https://localhost:8080/"
        },
        "id": "TjM8U-cKStCz",
        "outputId": "6f3e17f4-b8ca-4c32-92a8-c7dd4e3079c7"
      },
      "source": [
        "data[\"Age\"].corr(data[\"Salary\"])"
      ],
      "execution_count": null,
      "outputs": [
        {
          "output_type": "execute_result",
          "data": {
            "text/plain": [
              "0.30571805690619325"
            ]
          },
          "metadata": {
            "tags": []
          },
          "execution_count": 97
        }
      ]
    },
    {
      "cell_type": "markdown",
      "metadata": {
        "id": "b6moiPS6O_1N"
      },
      "source": [
        "The correlation seems quite low, so let's see what else we can find.\r\n",
        "\r\n",
        "Usually, as a way to inentivize managers to do a good job, they are given stocks or options. This way, they have an intrinsic motivation to make the stock price grow, as they can benefit enormously from this. Let's see if we can find a correlation between the stock owned by a CEO and the return of the stock in the last 5 years."
      ]
    },
    {
      "cell_type": "code",
      "metadata": {
        "id": "SW-7jLfnPqVO",
        "colab": {
          "base_uri": "https://localhost:8080/",
          "height": 305
        },
        "outputId": "3f7ee6c5-afae-4a13-dcc8-3378208f4fc4"
      },
      "source": [
        "#Scatterplot\r\n",
        "profit_cat=sns.scatterplot(x=data[\"Profits\"], y=data[\"Salary\"])\r\n",
        "#Pearson's r coefficient\r\n",
        "print(\"Pearson's r coefficient is: {}\".format(round(data[\"Profits\"].corr(data[\"Salary\"]), 2)))\r\n"
      ],
      "execution_count": null,
      "outputs": [
        {
          "output_type": "stream",
          "text": [
            "Pearson's r coefficient is: 0.66\n"
          ],
          "name": "stdout"
        },
        {
          "output_type": "display_data",
          "data": {
            "image/png": "[encoded data removed]",
            "text/plain": [
              "<Figure size 432x288 with 1 Axes>"
            ]
          },
          "metadata": {
            "tags": [],
            "needs_background": "light"
          }
        }
      ]
    },
    {
      "cell_type": "markdown",
      "metadata": {
        "id": "KZnA9SNMR6ow"
      },
      "source": [
        "There seems to be a correlation between the fixed part of a CEO's  compensation and the companies profit, but always remember that correlation does not imply causation.\r\n",
        "\r\n",
        "You can also include a third variable if you want to. In order to plot 3-different variables in 2 dimensions we can change the collor of the third variable. This is done with the `hue` argument."
      ]
    },
    {
      "cell_type": "code",
      "metadata": {
        "colab": {
          "base_uri": "https://localhost:8080/",
          "height": 289
        },
        "id": "hwX12aPrSKAv",
        "outputId": "c38cfc67-3763-41d1-cecb-c2311f12b19f"
      },
      "source": [
        "scat2=sns.scatterplot(x=data[\"YearsCEO\"], y=data[\"Bonus\"],hue=data[\"Top 20\"])"
      ],
      "execution_count": null,
      "outputs": [
        {
          "output_type": "display_data",
          "data": {
            "image/png": "[encoded data removed]",
            "text/plain": [
              "<Figure size 432x288 with 1 Axes>"
            ]
          },
          "metadata": {
            "tags": [],
            "needs_background": "light"
          }
        }
      ]
    },
    {
      "cell_type": "markdown",
      "metadata": {
        "id": "knvKIP4-UZ4_"
      },
      "source": [
        "## <a class=\"anchor\"></a> 2.2 Exercice\r\n",
        "\r\n",
        "1) Load the dataset from the following url: `https://raw.githubusercontent.com/michalis0/Business-Intelligence-and-Analytics/master/data/Birthweight.csv`, set ID as the index column and use the .head() funtion to obtain an overview."
      ]
    },
    {
      "cell_type": "code",
      "metadata": {
        "id": "x3Yt6nJGU_X5",
        "colab": {
          "base_uri": "https://localhost:8080/",
          "height": 221
        },
        "outputId": "dca1964d-151e-46d0-d70c-635f81c70260"
      },
      "source": [
        "birth_data = pd.read_csv(\"https://raw.githubusercontent.com/michalis0/Business-Intelligence-and-Analytics/master/data/Birthweight.csv\")\r\n",
        "birth_data.head()"
      ],
      "execution_count": null,
      "outputs": [
        {
          "output_type": "execute_result",
          "data": {
            "text/html": [
              "<div>\n",
              "<style scoped>\n",
              "    .dataframe tbody tr th:only-of-type {\n",
              "        vertical-align: middle;\n",
              "    }\n",
              "\n",
              "    .dataframe tbody tr th {\n",
              "        vertical-align: top;\n",
              "    }\n",
              "\n",
              "    .dataframe thead th {\n",
              "        text-align: right;\n",
              "    }\n",
              "</style>\n",
              "<table border=\"1\" class=\"dataframe\">\n",
              "  <thead>\n",
              "    <tr style=\"text-align: right;\">\n",
              "      <th></th>\n",
              "      <th>ID</th>\n",
              "      <th>Length</th>\n",
              "      <th>Birthweight</th>\n",
              "      <th>Headcirc</th>\n",
              "      <th>Gestation</th>\n",
              "      <th>smoker</th>\n",
              "      <th>mage</th>\n",
              "      <th>mnocig</th>\n",
              "      <th>mheight</th>\n",
              "      <th>mppwt</th>\n",
              "      <th>fage</th>\n",
              "      <th>fedyrs</th>\n",
              "      <th>fnocig</th>\n",
              "      <th>fheight</th>\n",
              "      <th>lowbwt</th>\n",
              "      <th>mage35</th>\n",
              "    </tr>\n",
              "  </thead>\n",
              "  <tbody>\n",
              "    <tr>\n",
              "      <th>0</th>\n",
              "      <td>1360</td>\n",
              "      <td>56</td>\n",
              "      <td>4.55</td>\n",
              "      <td>34</td>\n",
              "      <td>44</td>\n",
              "      <td>0</td>\n",
              "      <td>20</td>\n",
              "      <td>0</td>\n",
              "      <td>162</td>\n",
              "      <td>57</td>\n",
              "      <td>23</td>\n",
              "      <td>10</td>\n",
              "      <td>35</td>\n",
              "      <td>179</td>\n",
              "      <td>0</td>\n",
              "      <td>0</td>\n",
              "    </tr>\n",
              "    <tr>\n",
              "      <th>1</th>\n",
              "      <td>1016</td>\n",
              "      <td>53</td>\n",
              "      <td>4.32</td>\n",
              "      <td>36</td>\n",
              "      <td>40</td>\n",
              "      <td>0</td>\n",
              "      <td>19</td>\n",
              "      <td>0</td>\n",
              "      <td>171</td>\n",
              "      <td>62</td>\n",
              "      <td>19</td>\n",
              "      <td>12</td>\n",
              "      <td>0</td>\n",
              "      <td>183</td>\n",
              "      <td>0</td>\n",
              "      <td>0</td>\n",
              "    </tr>\n",
              "    <tr>\n",
              "      <th>2</th>\n",
              "      <td>462</td>\n",
              "      <td>58</td>\n",
              "      <td>4.10</td>\n",
              "      <td>39</td>\n",
              "      <td>41</td>\n",
              "      <td>0</td>\n",
              "      <td>35</td>\n",
              "      <td>0</td>\n",
              "      <td>172</td>\n",
              "      <td>58</td>\n",
              "      <td>31</td>\n",
              "      <td>16</td>\n",
              "      <td>25</td>\n",
              "      <td>185</td>\n",
              "      <td>0</td>\n",
              "      <td>1</td>\n",
              "    </tr>\n",
              "    <tr>\n",
              "      <th>3</th>\n",
              "      <td>1187</td>\n",
              "      <td>53</td>\n",
              "      <td>4.07</td>\n",
              "      <td>38</td>\n",
              "      <td>44</td>\n",
              "      <td>0</td>\n",
              "      <td>20</td>\n",
              "      <td>0</td>\n",
              "      <td>174</td>\n",
              "      <td>68</td>\n",
              "      <td>26</td>\n",
              "      <td>14</td>\n",
              "      <td>25</td>\n",
              "      <td>189</td>\n",
              "      <td>0</td>\n",
              "      <td>0</td>\n",
              "    </tr>\n",
              "    <tr>\n",
              "      <th>4</th>\n",
              "      <td>553</td>\n",
              "      <td>54</td>\n",
              "      <td>3.94</td>\n",
              "      <td>37</td>\n",
              "      <td>42</td>\n",
              "      <td>0</td>\n",
              "      <td>24</td>\n",
              "      <td>0</td>\n",
              "      <td>175</td>\n",
              "      <td>66</td>\n",
              "      <td>30</td>\n",
              "      <td>12</td>\n",
              "      <td>0</td>\n",
              "      <td>184</td>\n",
              "      <td>0</td>\n",
              "      <td>0</td>\n",
              "    </tr>\n",
              "  </tbody>\n",
              "</table>\n",
              "</div>"
            ],
            "text/plain": [
              "     ID  Length  Birthweight  Headcirc  ...  fnocig  fheight  lowbwt  mage35\n",
              "0  1360      56         4.55        34  ...      35      179       0       0\n",
              "1  1016      53         4.32        36  ...       0      183       0       0\n",
              "2   462      58         4.10        39  ...      25      185       0       1\n",
              "3  1187      53         4.07        38  ...      25      189       0       0\n",
              "4   553      54         3.94        37  ...       0      184       0       0\n",
              "\n",
              "[5 rows x 16 columns]"
            ]
          },
          "metadata": {
            "tags": []
          },
          "execution_count": 101
        }
      ]
    },
    {
      "cell_type": "markdown",
      "metadata": {
        "id": "vnOHLRuPks4n"
      },
      "source": [
        "2) The above dataset contains information about newborn babis and their mothers. Plot an histogram of the \"Gestation\" column. What is the mode and the mean of the gestation period?"
      ]
    },
    {
      "cell_type": "code",
      "metadata": {
        "id": "MQ-SxzqrlTnO"
      },
      "source": [
        ""
      ],
      "execution_count": null,
      "outputs": []
    },
    {
      "cell_type": "markdown",
      "metadata": {
        "id": "aTYocBWblUHN"
      },
      "source": [
        "3) Plot a boxplot of the gestation period. Were you right about the mode and the median?"
      ]
    },
    {
      "cell_type": "code",
      "metadata": {
        "id": "PXlQpq_ZlVYV"
      },
      "source": [
        ""
      ],
      "execution_count": null,
      "outputs": []
    },
    {
      "cell_type": "markdown",
      "metadata": {
        "id": "OokRXQ_7mmO9"
      },
      "source": [
        "4) It might be interesting to see whether there is a correlation between smoker/ non-smoker mothers and the babies birthweight.\r\n",
        "\r\n",
        "Plot a scatterplot between the \"smoker\", \"Birthweight\" and \"mage\" columns."
      ]
    },
    {
      "cell_type": "code",
      "metadata": {
        "id": "Ycc7nNlKmkU8"
      },
      "source": [
        ""
      ],
      "execution_count": null,
      "outputs": []
    },
    {
      "cell_type": "code",
      "metadata": {
        "id": "vlp4eORnurBj"
      },
      "source": [
        "#Check the correlation between each pair of variables"
      ],
      "execution_count": null,
      "outputs": []
    },
    {
      "cell_type": "markdown",
      "metadata": {
        "id": "b4Li-RA-ToFB"
      },
      "source": [
        "## <a class=\"anchor\"></a> 2.3 Pairgrids and heatmaps\r\n",
        "\r\n",
        "Pairgrids can be a usefool tool to visualize correlations. They allow us to plot the relationships of multiple variables against each other, 2 at a time.\r\n"
      ]
    },
    {
      "cell_type": "code",
      "metadata": {
        "colab": {
          "base_uri": "https://localhost:8080/",
          "height": 549
        },
        "id": "grLoo9R7UF5w",
        "outputId": "bd57cc9c-1630-4a96-c880-27dfcefff57f"
      },
      "source": [
        "g = sns.PairGrid(birth_data, vars=['Length', 'Birthweight', 'Headcirc'],\r\n",
        "                 palette='pale red')\r\n",
        "g.map(plt.scatter, alpha=0.2)\r\n",
        "plt.subplots_adjust(top=0.9)\r\n",
        "txt=g.fig.suptitle('PairGrid to find a possible correlation', size=24)\r\n",
        "\r\n",
        "\r\n",
        "#add heatmap"
      ],
      "execution_count": null,
      "outputs": [
        {
          "output_type": "display_data",
          "data": {
            "image/png": "[encoded data removed]",
            "text/plain": [
              "<Figure size 540x540 with 9 Axes>"
            ]
          },
          "metadata": {
            "tags": [],
            "needs_background": "light"
          }
        }
      ]
    },
    {
      "cell_type": "markdown",
      "metadata": {
        "id": "8yfeLB0U3ap8"
      },
      "source": [
        "Another more useful tools are [heatmaps](https://en.wikipedia.org/wiki/Heat_map). By first calculating the correlations between every variable, we can then plot a heatmap of those.\r\n"
      ]
    },
    {
      "cell_type": "code",
      "metadata": {
        "id": "58uUIo6-3mxT",
        "colab": {
          "base_uri": "https://localhost:8080/",
          "height": 316
        },
        "outputId": "71316a45-ff3b-42f3-9d3a-81d4be69bbce"
      },
      "source": [
        "correlations = birth_data.corr()\r\n",
        "heatmap=sns.heatmap(correlations)"
      ],
      "execution_count": null,
      "outputs": [
        {
          "output_type": "display_data",
          "data": {
            "image/png": "[encoded data removed]",
            "text/plain": [
              "<Figure size 432x288 with 2 Axes>"
            ]
          },
          "metadata": {
            "tags": [],
            "needs_background": "light"
          }
        }
      ]
    }
  ]
}