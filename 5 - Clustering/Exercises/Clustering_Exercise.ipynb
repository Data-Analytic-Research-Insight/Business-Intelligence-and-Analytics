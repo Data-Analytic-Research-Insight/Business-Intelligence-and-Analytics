{
  "nbformat": 4,
  "nbformat_minor": 0,
  "metadata": {
    "kernelspec": {
      "display_name": "Python 3",
      "language": "python",
      "name": "python3"
    },
    "language_info": {
      "codemirror_mode": {
        "name": "ipython",
        "version": 3
      },
      "file_extension": ".py",
      "mimetype": "text/x-python",
      "name": "python",
      "nbconvert_exporter": "python",
      "pygments_lexer": "ipython3",
      "version": "3.7.7"
    },
    "colab": {
      "name": "Exercise1_clustering.ipynb",
      "provenance": [],
      "include_colab_link": true
    }
  },
  "cells": [
    {
      "cell_type": "markdown",
      "metadata": {
        "id": "view-in-github",
        "colab_type": "text"
      },
      "source": [
        "<a href=\"https://colab.research.google.com/github/michalis0/Business-Intelligence-and-Analytics/blob/master/5%20-%20Clustering/Exercises/Clustering_Exercise.ipynb\" target=\"_parent\"><img src=\"https://colab.research.google.com/assets/colab-badge.svg\" alt=\"Open In Colab\"/></a>"
      ]
    },
    {
      "cell_type": "markdown",
      "metadata": {
        "id": "B7JnzQTHHv6a"
      },
      "source": [
        "## Exercise 1: clustering\n",
        "\n",
        "In this exercise we are going to work on the TelCo dataset. \n"
      ]
    },
    {
      "cell_type": "code",
      "metadata": {
        "id": "P2GEnXQlHv6c"
      },
      "source": [
        "import numpy as np\n",
        "import pandas as pd \n",
        "import seaborn as sns\n",
        "import matplotlib\n",
        "import matplotlib.pyplot as plt\n",
        "from matplotlib.colors import ListedColormap\n",
        "%matplotlib inline\n",
        "\n",
        "sns.set(style=\"darkgrid\") #dark\n",
        "pd.set_option('display.max_rows', 500)\n",
        "pd.set_option('display.max_columns', 500)\n",
        "pd.set_option('display.width', 1000)\n",
        "\n",
        "# Sklearn import\n",
        "from sklearn.cluster import KMeans # K-means Clustering\n",
        "from sklearn.cluster import AgglomerativeClustering # Hierarchical Clustering\n",
        "from scipy.cluster.hierarchy import linkage, dendrogram\n",
        "from sklearn.preprocessing import MinMaxScaler # Normalization\n"
      ],
      "execution_count": 1,
      "outputs": []
    },
    {
      "cell_type": "markdown",
      "metadata": {
        "id": "GQ4f2EXpHv6j"
      },
      "source": [
        "### Load the data & Preprocessing\n"
      ]
    },
    {
      "cell_type": "code",
      "metadata": {
        "scrolled": true,
        "id": "jQxvxxFzHv6n",
        "outputId": "21854520-619f-498f-a8f7-7d5adc098390",
        "colab": {
          "base_uri": "https://localhost:8080/",
          "height": 319
        }
      },
      "source": [
        "url = \"https://media.githubusercontent.com/media/michalis0/Business-Intelligence-and-Analytics/master/data/customers_prepro.csv\"\n",
        "telco_df = pd.read_csv(url)\n",
        "telco_df.drop(\"Unnamed: 0\", axis=1, inplace=True)\n",
        "telco_df.set_index(\"customerID\", inplace=True)\n",
        "telco_df_NoChurn = telco_df.drop(\"Churn\", axis=1)\n",
        "display(telco_df.head())\n"
      ],
      "execution_count": 2,
      "outputs": [
        {
          "output_type": "display_data",
          "data": {
            "text/plain": [
              "            gender  SeniorCitizen  Partner  Dependents  tenure  PhoneService  MultipleLines  InternetService  OnlineSecurity  OnlineBackup  DeviceProtection  TechSupport  StreamingTV  StreamingMovies  Contract  PaperlessBilling  PaymentMethod  MonthlyCharges  TotalCharges  Churn\n",
              "customerID                                                                                                                                                                                                                                                                             \n",
              "7590-VHVEG       0              0        1           0       1             0              0                2               0             1                 0            0            0                0         0                 1              0           29.85         29.85      0\n",
              "5575-GNVDE       1              0        0           0      34             1              0                2               1             0                 1            0            0                0         1                 0              1           56.95       1889.50      0\n",
              "3668-QPYBK       1              0        0           0       2             1              0                2               1             1                 0            0            0                0         0                 1              1           53.85        108.15      1\n",
              "7795-CFOCW       1              0        0           0      45             0              0                2               1             0                 1            1            0                0         1                 0              2           42.30       1840.75      0\n",
              "9237-HQITU       0              0        0           0       2             1              0                1               0             0                 0            0            0                0         0                 1              0           70.70        151.65      1"
            ],
            "text/html": [
              "\n",
              "  <div id=\"df-f70ddc2a-245d-4b45-86f2-b5b2713885f5\">\n",
              "    <div class=\"colab-df-container\">\n",
              "      <div>\n",
              "<style scoped>\n",
              "    .dataframe tbody tr th:only-of-type {\n",
              "        vertical-align: middle;\n",
              "    }\n",
              "\n",
              "    .dataframe tbody tr th {\n",
              "        vertical-align: top;\n",
              "    }\n",
              "\n",
              "    .dataframe thead th {\n",
              "        text-align: right;\n",
              "    }\n",
              "</style>\n",
              "<table border=\"1\" class=\"dataframe\">\n",
              "  <thead>\n",
              "    <tr style=\"text-align: right;\">\n",
              "      <th></th>\n",
              "      <th>gender</th>\n",
              "      <th>SeniorCitizen</th>\n",
              "      <th>Partner</th>\n",
              "      <th>Dependents</th>\n",
              "      <th>tenure</th>\n",
              "      <th>PhoneService</th>\n",
              "      <th>MultipleLines</th>\n",
              "      <th>InternetService</th>\n",
              "      <th>OnlineSecurity</th>\n",
              "      <th>OnlineBackup</th>\n",
              "      <th>DeviceProtection</th>\n",
              "      <th>TechSupport</th>\n",
              "      <th>StreamingTV</th>\n",
              "      <th>StreamingMovies</th>\n",
              "      <th>Contract</th>\n",
              "      <th>PaperlessBilling</th>\n",
              "      <th>PaymentMethod</th>\n",
              "      <th>MonthlyCharges</th>\n",
              "      <th>TotalCharges</th>\n",
              "      <th>Churn</th>\n",
              "    </tr>\n",
              "    <tr>\n",
              "      <th>customerID</th>\n",
              "      <th></th>\n",
              "      <th></th>\n",
              "      <th></th>\n",
              "      <th></th>\n",
              "      <th></th>\n",
              "      <th></th>\n",
              "      <th></th>\n",
              "      <th></th>\n",
              "      <th></th>\n",
              "      <th></th>\n",
              "      <th></th>\n",
              "      <th></th>\n",
              "      <th></th>\n",
              "      <th></th>\n",
              "      <th></th>\n",
              "      <th></th>\n",
              "      <th></th>\n",
              "      <th></th>\n",
              "      <th></th>\n",
              "      <th></th>\n",
              "    </tr>\n",
              "  </thead>\n",
              "  <tbody>\n",
              "    <tr>\n",
              "      <th>7590-VHVEG</th>\n",
              "      <td>0</td>\n",
              "      <td>0</td>\n",
              "      <td>1</td>\n",
              "      <td>0</td>\n",
              "      <td>1</td>\n",
              "      <td>0</td>\n",
              "      <td>0</td>\n",
              "      <td>2</td>\n",
              "      <td>0</td>\n",
              "      <td>1</td>\n",
              "      <td>0</td>\n",
              "      <td>0</td>\n",
              "      <td>0</td>\n",
              "      <td>0</td>\n",
              "      <td>0</td>\n",
              "      <td>1</td>\n",
              "      <td>0</td>\n",
              "      <td>29.85</td>\n",
              "      <td>29.85</td>\n",
              "      <td>0</td>\n",
              "    </tr>\n",
              "    <tr>\n",
              "      <th>5575-GNVDE</th>\n",
              "      <td>1</td>\n",
              "      <td>0</td>\n",
              "      <td>0</td>\n",
              "      <td>0</td>\n",
              "      <td>34</td>\n",
              "      <td>1</td>\n",
              "      <td>0</td>\n",
              "      <td>2</td>\n",
              "      <td>1</td>\n",
              "      <td>0</td>\n",
              "      <td>1</td>\n",
              "      <td>0</td>\n",
              "      <td>0</td>\n",
              "      <td>0</td>\n",
              "      <td>1</td>\n",
              "      <td>0</td>\n",
              "      <td>1</td>\n",
              "      <td>56.95</td>\n",
              "      <td>1889.50</td>\n",
              "      <td>0</td>\n",
              "    </tr>\n",
              "    <tr>\n",
              "      <th>3668-QPYBK</th>\n",
              "      <td>1</td>\n",
              "      <td>0</td>\n",
              "      <td>0</td>\n",
              "      <td>0</td>\n",
              "      <td>2</td>\n",
              "      <td>1</td>\n",
              "      <td>0</td>\n",
              "      <td>2</td>\n",
              "      <td>1</td>\n",
              "      <td>1</td>\n",
              "      <td>0</td>\n",
              "      <td>0</td>\n",
              "      <td>0</td>\n",
              "      <td>0</td>\n",
              "      <td>0</td>\n",
              "      <td>1</td>\n",
              "      <td>1</td>\n",
              "      <td>53.85</td>\n",
              "      <td>108.15</td>\n",
              "      <td>1</td>\n",
              "    </tr>\n",
              "    <tr>\n",
              "      <th>7795-CFOCW</th>\n",
              "      <td>1</td>\n",
              "      <td>0</td>\n",
              "      <td>0</td>\n",
              "      <td>0</td>\n",
              "      <td>45</td>\n",
              "      <td>0</td>\n",
              "      <td>0</td>\n",
              "      <td>2</td>\n",
              "      <td>1</td>\n",
              "      <td>0</td>\n",
              "      <td>1</td>\n",
              "      <td>1</td>\n",
              "      <td>0</td>\n",
              "      <td>0</td>\n",
              "      <td>1</td>\n",
              "      <td>0</td>\n",
              "      <td>2</td>\n",
              "      <td>42.30</td>\n",
              "      <td>1840.75</td>\n",
              "      <td>0</td>\n",
              "    </tr>\n",
              "    <tr>\n",
              "      <th>9237-HQITU</th>\n",
              "      <td>0</td>\n",
              "      <td>0</td>\n",
              "      <td>0</td>\n",
              "      <td>0</td>\n",
              "      <td>2</td>\n",
              "      <td>1</td>\n",
              "      <td>0</td>\n",
              "      <td>1</td>\n",
              "      <td>0</td>\n",
              "      <td>0</td>\n",
              "      <td>0</td>\n",
              "      <td>0</td>\n",
              "      <td>0</td>\n",
              "      <td>0</td>\n",
              "      <td>0</td>\n",
              "      <td>1</td>\n",
              "      <td>0</td>\n",
              "      <td>70.70</td>\n",
              "      <td>151.65</td>\n",
              "      <td>1</td>\n",
              "    </tr>\n",
              "  </tbody>\n",
              "</table>\n",
              "</div>\n",
              "      <button class=\"colab-df-convert\" onclick=\"convertToInteractive('df-f70ddc2a-245d-4b45-86f2-b5b2713885f5')\"\n",
              "              title=\"Convert this dataframe to an interactive table.\"\n",
              "              style=\"display:none;\">\n",
              "        \n",
              "  <svg xmlns=\"http://www.w3.org/2000/svg\" height=\"24px\"viewBox=\"0 0 24 24\"\n",
              "       width=\"24px\">\n",
              "    <path d=\"M0 0h24v24H0V0z\" fill=\"none\"/>\n",
              "    <path d=\"M18.56 5.44l.94 2.06.94-2.06 2.06-.94-2.06-.94-.94-2.06-.94 2.06-2.06.94zm-11 1L8.5 8.5l.94-2.06 2.06-.94-2.06-.94L8.5 2.5l-.94 2.06-2.06.94zm10 10l.94 2.06.94-2.06 2.06-.94-2.06-.94-.94-2.06-.94 2.06-2.06.94z\"/><path d=\"M17.41 7.96l-1.37-1.37c-.4-.4-.92-.59-1.43-.59-.52 0-1.04.2-1.43.59L10.3 9.45l-7.72 7.72c-.78.78-.78 2.05 0 2.83L4 21.41c.39.39.9.59 1.41.59.51 0 1.02-.2 1.41-.59l7.78-7.78 2.81-2.81c.8-.78.8-2.07 0-2.86zM5.41 20L4 18.59l7.72-7.72 1.47 1.35L5.41 20z\"/>\n",
              "  </svg>\n",
              "      </button>\n",
              "      \n",
              "  <style>\n",
              "    .colab-df-container {\n",
              "      display:flex;\n",
              "      flex-wrap:wrap;\n",
              "      gap: 12px;\n",
              "    }\n",
              "\n",
              "    .colab-df-convert {\n",
              "      background-color: #E8F0FE;\n",
              "      border: none;\n",
              "      border-radius: 50%;\n",
              "      cursor: pointer;\n",
              "      display: none;\n",
              "      fill: #1967D2;\n",
              "      height: 32px;\n",
              "      padding: 0 0 0 0;\n",
              "      width: 32px;\n",
              "    }\n",
              "\n",
              "    .colab-df-convert:hover {\n",
              "      background-color: #E2EBFA;\n",
              "      box-shadow: 0px 1px 2px rgba(60, 64, 67, 0.3), 0px 1px 3px 1px rgba(60, 64, 67, 0.15);\n",
              "      fill: #174EA6;\n",
              "    }\n",
              "\n",
              "    [theme=dark] .colab-df-convert {\n",
              "      background-color: #3B4455;\n",
              "      fill: #D2E3FC;\n",
              "    }\n",
              "\n",
              "    [theme=dark] .colab-df-convert:hover {\n",
              "      background-color: #434B5C;\n",
              "      box-shadow: 0px 1px 3px 1px rgba(0, 0, 0, 0.15);\n",
              "      filter: drop-shadow(0px 1px 2px rgba(0, 0, 0, 0.3));\n",
              "      fill: #FFFFFF;\n",
              "    }\n",
              "  </style>\n",
              "\n",
              "      <script>\n",
              "        const buttonEl =\n",
              "          document.querySelector('#df-f70ddc2a-245d-4b45-86f2-b5b2713885f5 button.colab-df-convert');\n",
              "        buttonEl.style.display =\n",
              "          google.colab.kernel.accessAllowed ? 'block' : 'none';\n",
              "\n",
              "        async function convertToInteractive(key) {\n",
              "          const element = document.querySelector('#df-f70ddc2a-245d-4b45-86f2-b5b2713885f5');\n",
              "          const dataTable =\n",
              "            await google.colab.kernel.invokeFunction('convertToInteractive',\n",
              "                                                     [key], {});\n",
              "          if (!dataTable) return;\n",
              "\n",
              "          const docLinkHtml = 'Like what you see? Visit the ' +\n",
              "            '<a target=\"_blank\" href=https://colab.research.google.com/notebooks/data_table.ipynb>data table notebook</a>'\n",
              "            + ' to learn more about interactive tables.';\n",
              "          element.innerHTML = '';\n",
              "          dataTable['output_type'] = 'display_data';\n",
              "          await google.colab.output.renderOutput(dataTable, element);\n",
              "          const docLink = document.createElement('div');\n",
              "          docLink.innerHTML = docLinkHtml;\n",
              "          element.appendChild(docLink);\n",
              "        }\n",
              "      </script>\n",
              "    </div>\n",
              "  </div>\n",
              "  "
            ]
          },
          "metadata": {}
        }
      ]
    },
    {
      "cell_type": "markdown",
      "metadata": {
        "id": "m-Fk10UcHv6u"
      },
      "source": [
        "## K-means\n",
        "\n",
        "Now we will apply different clustering procedure to extract interesting information about the data.  \n",
        "\n",
        "The **KMeans** algorithm clusters data by trying to separate samples in n groups of equal variance, minimizing a criterion known as the inertia or within-cluster **sum-of-squares**. This algorithm requires the number of clusters to be specified. It scales well to large number of samples and has been used across a large range of application areas in many different fields.  \n",
        "\n",
        "The **K-means** algorithm aims to choose centroids that minimise the inertia, or within-cluster sum-of-squares criterion:  \n",
        "\n",
        "\n",
        "$$ \\sum \\limits_{i=0}^{n} \\min\\limits_{\\mu_j \\in C}(||x_i - \\mu_j||^2) $$\n",
        "\n",
        "\n",
        "K-means clustering is \"isotropic\" in all directions of space and therefore tends to produce more or less round (rather than elongated) clusters. In this situation leaving variances unequal is equivalent to putting more weight on variables with smaller variance, so clusters will tend to be separated along variables with greater variance.  \n",
        "\n",
        "For this reason we should normalize the continuous data.  \n",
        "\n",
        "**Question 1:**  \n",
        "Use the minMaxScaler module from sklearn to normalize the continuous-valued data.\n",
        "\n",
        "**Hint:**  \n",
        "The continuous-values data are : `tenure`, `MonthlyCharges` and `TotalCharges`."
      ]
    },
    {
      "cell_type": "code",
      "metadata": {
        "scrolled": false,
        "id": "GoDbVoagHv60"
      },
      "source": [
        "#Your code here\n",
        "scaler = ...\n",
        "...\n",
        "display(telco_df.head())"
      ],
      "execution_count": null,
      "outputs": []
    },
    {
      "cell_type": "markdown",
      "metadata": {
        "id": "TrVmSiySHv65"
      },
      "source": [
        "**Question2:**  \n",
        "Now we want to identify which categorical features are in no direct relationship with the charges. Create a new list that contains all categorical features. Then for each element plot a pairplot. From your result what can you conclude? Identify relevant and irrelevant features.   \n",
        "\n",
        "**Hint:** \n",
        "The pairplot should always show the `MonthlyCharges` and the `TotalCharges`. Use the `hue` argument of `sns.pairplot()` to display the current feature in your graph."
      ]
    },
    {
      "cell_type": "code",
      "metadata": {
        "id": "vjiQQOKBHv66"
      },
      "source": [
        "# Identify discret variables as list\n",
        "cat_features = ...\n",
        "print(cat_features)"
      ],
      "execution_count": null,
      "outputs": []
    },
    {
      "cell_type": "code",
      "metadata": {
        "scrolled": false,
        "id": "oT8kOwX4Hv6_"
      },
      "source": [
        "# Pairplots | this cell will take 1-2 minutes to run\n",
        "for feature in cat_features:\n",
        "    sns.pairplot(..., vars=..., hue=..., aspect=1.5)\n",
        "    plt.show()\n"
      ],
      "execution_count": null,
      "outputs": []
    },
    {
      "cell_type": "markdown",
      "metadata": {
        "id": "p0Ttra2pHv7F"
      },
      "source": [
        "**Question 3:**  \n",
        "Drop the most irrelevant feature.\n",
        "\n",
        "**Hint:** The irrelevant features due not tell us anything about the distribution of the `MonthlyCharges` and the `TotalCharges`. Hence, they can be identified by looking at the distribution of the charges (if the feature doesn't change the distribution, it is irrelevant). This means that if the superposed distributions, each representing a state of the feature, are almost perfectly alike, it is irrelevant."
      ]
    },
    {
      "cell_type": "code",
      "metadata": {
        "id": "aK8g_8mgHv7F"
      },
      "source": [
        "#Your code here\n",
        "...\n",
        "display(telco_df.head())\n"
      ],
      "execution_count": null,
      "outputs": []
    },
    {
      "cell_type": "markdown",
      "metadata": {
        "id": "0p1WIzI_Hv7I"
      },
      "source": [
        "**Question 4:**  \n",
        "Now we will to apply the **K-means** algorithm and we want to estimate the number of clusters. We will use the **The Elbow Method** ([doc](https://en.wikipedia.org/wiki/Elbow_method_(clustering)) )).  \n",
        "\n",
        "The method consists of plotting the explained variation as a function of the number of clusters and picking the elbow of the curve (from clustering **inertia**) as the number of clusters to use. The intuition is that increasing the number of clusters will naturally improve the fit (explain more of the variation), since there are more parameters (more clusters) to use, but that at some point this is **over-fitting**, and the elbow reflects this. \n",
        "\n",
        "Using the KMeans module from sklearn, iteratively apply the K-means algorithm, save the parameter `inertia_` (i.e sum of squared distances of samples to their closest cluster center). Then plot the inertia relative to the number of clusters. Knowing that the elbow method tells us to select the cluster where there is a significant change in inertia, find the possible elbow point (possible number of cluster).\n",
        "\n",
        "How many clusters could you use now ?"
      ]
    },
    {
      "cell_type": "code",
      "metadata": {
        "id": "TjKgf7P1Hv7J"
      },
      "source": [
        "# Save inertia value\n",
        "inertias = []\n",
        "nbr_clusters = range(1,11)\n",
        "\n",
        "# Iterate over several number of clusters\n",
        "for i in nbr_clusters:\n",
        "    km = KMeans(n_clusters=...).fit(...)\n",
        "    inertias.append(...)\n",
        "    \n",
        "plt.plot(..., ..., '-o')\n",
        "plt.title('Elbow method for inertia')\n",
        "plt.xlabel('Clusters')\n",
        "plt.ylabel('Inertia')"
      ],
      "execution_count": null,
      "outputs": []
    },
    {
      "cell_type": "markdown",
      "metadata": {
        "id": "TikENCjvHv7O"
      },
      "source": [
        "**Question 5:**  \n",
        "\n",
        "\n",
        "Now, we want to cluster only with two features. Select the `MonthlyCharges` over the `tenure` for churned people (`Churn` == 1), then, with the number of cluster find in the previous question, apply the K-means algorithms. Save the labels into a dataframe (`labels_` parameter).  \n",
        "With a scatterplot display the dataset points according to the corresponding `Labels_`. Finally try to display the centers on your graph (use the `cluster_centers_`parameter of the k-mean model). \n",
        "\n",
        "\n",
        "**Hint:**  \n",
        "- Use the `model.labels_ ` from the KMeans parameters for the `hue`\n",
        "- The `model.cluster_centers_` parameter returns an numpy array (not a dataframe). Use slicing to access the right column (i.e `centers[:, feature_index]`)"
      ]
    },
    {
      "cell_type": "code",
      "metadata": {
        "scrolled": false,
        "id": "YdfGV5ApHv7O"
      },
      "source": [
        "# Number of clusters\n",
        "nbr_clusters = ...\n",
        "\n",
        "\n",
        "#Select data\n",
        "temp = ...\n",
        "\n",
        "#Fit the model\n",
        "model = KMeans(n_clusters=...).fit(...)\n",
        "\n",
        "plt.figure(figsize=(12, 8))\n",
        "\n",
        "sns.scatterplot(x=..., y=..., hue=..., palette=sns.color_palette('YlGnBu', n_colors=...))\n",
        "\n",
        "\n",
        "#Plot cluster centers\n",
        "centers = ...\n",
        "plt.scatter(centers[:,...], centers[:,...], c='black', s=200, alpha = 0.5)\n",
        "plt.title('KMeans with 3 Clusters MonthlyCharges over Tenure for Churned People')\n",
        "plt.show()\n",
        "\n"
      ],
      "execution_count": null,
      "outputs": []
    },
    {
      "cell_type": "markdown",
      "metadata": {
        "id": "oAeLeKFzHv7T"
      },
      "source": [
        "**Question 6:**  \n",
        "Do the same work as in question 5 but on:\n",
        "-  `MonthlyCharges` over `TotalCharges` for people who have `Contract == 0`.\n",
        "- `TotalCharges` over `tenure` for churned people e "
      ]
    },
    {
      "cell_type": "code",
      "metadata": {
        "id": "sb8wFcisHv7T"
      },
      "source": [
        "#Select data\n",
        "temp = ...\n",
        "\n",
        "#Fit the model\n",
        "model = KMeans(n_clusters=...).fit(...)\n",
        "\n",
        "plt.figure(figsize=(12, 8))\n",
        "\n",
        "sns.scatterplot(x=..., y=..., hue=..., palette=sns.color_palette('YlGnBu', n_colors=...))\n",
        "\n",
        "#Plot cluster centers\n",
        "centers = ...\n",
        "plt.scatter(centers[:,...], centers[:,...], c='black', s=200, alpha = 0.5)\n",
        "plt.title('KMeans with 3 Clusters MonthlyCharges over TotalCharges for Month-to-month contract')\n",
        "plt.show()\n"
      ],
      "execution_count": null,
      "outputs": []
    },
    {
      "cell_type": "code",
      "metadata": {
        "scrolled": false,
        "id": "ks3dO8WZHv7X"
      },
      "source": [
        "#Select data\n",
        "temp = ...\n",
        "\n",
        "#Fit the model\n",
        "model = KMeans(n_clusters=...).fit(...)\n",
        "\n",
        "plt.figure(figsize=(12, 8))\n",
        "\n",
        "sns.scatterplot(x=..., y=..., hue=..., palette=sns.color_palette('YlGnBu', nb_colors=...))\n",
        "\n",
        "#Plot cluster centers\n",
        "centers = ...\n",
        "plt.scatter(centers[:,...], centers[:,...], c='black', s=200, alpha = 0.5)\n",
        "plt.title('KMeans with 3 Clusters TotalCharges over Tenure for churned people')\n",
        "plt.show()\n"
      ],
      "execution_count": null,
      "outputs": []
    },
    {
      "cell_type": "markdown",
      "metadata": {
        "id": "nmXbCor5Hv7c"
      },
      "source": [
        "## hierarchical clustering\n",
        "\n",
        "In this part we will focus on hierarchical clustering over the TelCo dataset.  \n",
        "\n",
        "**Question 7:**  \n",
        "From the `telco_df` dataframe define a variable X which correspond to all columns except `\"Churn\"`, put the `\"Churn\"` data into a new dataframe y.\n",
        "Create 3 dendograms with these linkage method: `['complete', 'average', 'ward']`. What are the differences among these variants ?"
      ]
    },
    {
      "cell_type": "code",
      "metadata": {
        "scrolled": false,
        "id": "0sQqf8AmHv7d"
      },
      "source": [
        "X = ...\n",
        "y = ...\n",
        "display(X.head())\n",
        "display(y.head())"
      ],
      "execution_count": null,
      "outputs": []
    },
    {
      "cell_type": "code",
      "metadata": {
        "scrolled": true,
        "id": "KgU88QZeHv7j"
      },
      "source": [
        "# It is normal for this cell to take up to 10 minutes to run. You can already look at the next questions during that time.\n",
        "for method in ...:\n",
        "    plt.figure(figsize=(25, 10))\n",
        "    plt.title('Hierarchical Clustering Dendrogram (' + ... + ' linkage)', fontsize=20)\n",
        "    plt.xlabel('Number of points in node (or index of point if no parenthesis)', fontsize=20)\n",
        "    plt.ylabel('distance', fontsize=20)\n",
        "    merg = linkage(...)#Provide the type of linkage we wants.\n",
        "    dendrogram(..., leaf_rotation = 90)#compute the dendogram according the linkage\n",
        "    plt.show()"
      ],
      "execution_count": null,
      "outputs": []
    },
    {
      "cell_type": "markdown",
      "metadata": {
        "id": "LfnnjLv9Hv7m"
      },
      "source": [
        "**Question 8:**  \n",
        "Run an `AgglomerativeClustering` model using `ward` linkage and 3 clusters, then compute the percentage of observations placed in the correct clusters."
      ]
    },
    {
      "cell_type": "code",
      "metadata": {
        "id": "J8mXaRgkHv7n"
      },
      "source": [
        "model = ...\n",
        "cluster = model.fit_predict(...)\n",
        "sum([1 if x else 0 for x in (...)])/len(...)"
      ],
      "execution_count": null,
      "outputs": []
    },
    {
      "cell_type": "markdown",
      "metadata": {
        "id": "y4XQJWUuHv7q"
      },
      "source": [
        "**Question 9:**  \n",
        "Compare the computationnal time between K-Mean and hierarchical Clustering using `%%time`. What are the pros and cons of each method?"
      ]
    },
    {
      "cell_type": "code",
      "metadata": {
        "id": "wGN7hRg8Hv7r"
      },
      "source": [
        "%%time\n",
        "#Kmeans clustering\n",
        "model = ...\n",
        "model.fit(...)"
      ],
      "execution_count": null,
      "outputs": []
    },
    {
      "cell_type": "code",
      "metadata": {
        "id": "lHkEHjUGHv7u"
      },
      "source": [
        "%%time\n",
        "#hierarchical clustering\n",
        "model = ...\n",
        "model.fit(...)"
      ],
      "execution_count": null,
      "outputs": []
    }
  ]
}