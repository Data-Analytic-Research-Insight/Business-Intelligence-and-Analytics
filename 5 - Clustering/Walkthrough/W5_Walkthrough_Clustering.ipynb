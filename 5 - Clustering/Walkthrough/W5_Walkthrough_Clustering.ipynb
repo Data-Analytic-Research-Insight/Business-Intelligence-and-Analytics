{
  "nbformat": 4,
  "nbformat_minor": 0,
  "metadata": {
    "colab": {
      "name": "W5_Walkthrough_Clustering.ipynb",
      "provenance": [],
      "collapsed_sections": [],
      "include_colab_link": true
    },
    "kernelspec": {
      "display_name": "Python 3",
      "language": "python",
      "name": "python3"
    },
    "language_info": {
      "codemirror_mode": {
        "name": "ipython",
        "version": 3
      },
      "file_extension": ".py",
      "mimetype": "text/x-python",
      "name": "python",
      "nbconvert_exporter": "python",
      "pygments_lexer": "ipython3",
      "version": "3.7.7"
    }
  },
  "cells": [
    {
      "cell_type": "markdown",
      "metadata": {
        "id": "view-in-github",
        "colab_type": "text"
      },
      "source": [
        "<a href=\"https://colab.research.google.com/github/michalis0/Business-Intelligence-and-Analytics/blob/master/5%20-%20Clustering/Walkthrough/W5_Walkthrough_Clustering.ipynb\" target=\"_parent\"><img src=\"https://colab.research.google.com/assets/colab-badge.svg\" alt=\"Open In Colab\"/></a>"
      ]
    },
    {
      "cell_type": "markdown",
      "metadata": {
        "id": "pmL212ek75bh"
      },
      "source": [
        "#Clustering\n",
        "\n",
        "**Goal**: Learn how to use K-means and Hierarchial clustering."
      ]
    },
    {
      "cell_type": "code",
      "metadata": {
        "id": "LQP1xZ8p1i_7"
      },
      "source": [
        "import pandas as pd\n",
        "import numpy as np\n",
        "import sklearn.metrics as sm\n",
        "import matplotlib.pyplot as plt\n",
        "from sklearn.cluster import KMeans\n",
        "from sklearn import datasets"
      ],
      "execution_count": 1,
      "outputs": []
    },
    {
      "cell_type": "markdown",
      "metadata": {
        "id": "FjB9fn6A8TB8"
      },
      "source": [
        "#The Dataset\n",
        "The dataset we're going to use in this walkthrough is the Iris one, which contains measurement for 3 different types of iris flowers: setosa, versicolor, and virginica.</br>\n",
        "\n",
        "<img src='https://machinelearninghd.com/wp-content/uploads/2021/03/iris-dataset.png' width=\"500\">\n",
        "\n",
        "\n",
        "Data included for each Iris flower: width and length of sepals and petals. We will use clustering on this data to try to group flowers by the three different types.\n",
        "\n",
        "This dataset is provided in the `sklearn` library and is well known.\n",
        "\n",
        "\n",
        " "
      ]
    },
    {
      "cell_type": "code",
      "metadata": {
        "id": "9NUKDjkz1oF3"
      },
      "source": [
        "iris = datasets.load_iris()"
      ],
      "execution_count": 2,
      "outputs": []
    },
    {
      "cell_type": "code",
      "metadata": {
        "id": "J6QxAAAN1ub1",
        "colab": {
          "base_uri": "https://localhost:8080/"
        },
        "outputId": "a9c4214c-a128-4b8d-c78b-8d2476851a1c"
      },
      "source": [
        "print(\"The different types of irises are:\", iris.target_names)\n",
        "print(\"They are encoded as:\", iris.target)"
      ],
      "execution_count": 3,
      "outputs": [
        {
          "output_type": "stream",
          "name": "stdout",
          "text": [
            "The different types of irises are: ['setosa' 'versicolor' 'virginica']\n",
            "They are encoded as: [0 0 0 0 0 0 0 0 0 0 0 0 0 0 0 0 0 0 0 0 0 0 0 0 0 0 0 0 0 0 0 0 0 0 0 0 0\n",
            " 0 0 0 0 0 0 0 0 0 0 0 0 0 1 1 1 1 1 1 1 1 1 1 1 1 1 1 1 1 1 1 1 1 1 1 1 1\n",
            " 1 1 1 1 1 1 1 1 1 1 1 1 1 1 1 1 1 1 1 1 1 1 1 1 1 1 2 2 2 2 2 2 2 2 2 2 2\n",
            " 2 2 2 2 2 2 2 2 2 2 2 2 2 2 2 2 2 2 2 2 2 2 2 2 2 2 2 2 2 2 2 2 2 2 2 2 2\n",
            " 2 2]\n"
          ]
        }
      ]
    },
    {
      "cell_type": "markdown",
      "metadata": {
        "id": "HQgvvzvB9A-f"
      },
      "source": [
        "As you can see, the **iris** dataset is saved as a set of numpy arrays.<br>\n",
        "\n",
        "We're going to transform it into a `pandas dataframe`.</br>\n",
        "**Note:** We could have used the numpy array format as well for the k-means Clustering.\n"
      ]
    },
    {
      "cell_type": "code",
      "metadata": {
        "id": "q3zKL6oe12yg",
        "colab": {
          "base_uri": "https://localhost:8080/",
          "height": 206
        },
        "outputId": "e6a7aee5-b6cd-46bd-8725-71dacd89948b"
      },
      "source": [
        "# note that X only includes data about the flowers, NOT including the actual labels (0, 1 or 2)\n",
        "X = pd.DataFrame(iris.data, columns=iris.feature_names)\n",
        "X.head()"
      ],
      "execution_count": 4,
      "outputs": [
        {
          "output_type": "execute_result",
          "data": {
            "text/plain": [
              "   sepal length (cm)  sepal width (cm)  petal length (cm)  petal width (cm)\n",
              "0                5.1               3.5                1.4               0.2\n",
              "1                4.9               3.0                1.4               0.2\n",
              "2                4.7               3.2                1.3               0.2\n",
              "3                4.6               3.1                1.5               0.2\n",
              "4                5.0               3.6                1.4               0.2"
            ],
            "text/html": [
              "\n",
              "  <div id=\"df-2b5fa7e5-b364-43de-a79e-64675d2f7216\">\n",
              "    <div class=\"colab-df-container\">\n",
              "      <div>\n",
              "<style scoped>\n",
              "    .dataframe tbody tr th:only-of-type {\n",
              "        vertical-align: middle;\n",
              "    }\n",
              "\n",
              "    .dataframe tbody tr th {\n",
              "        vertical-align: top;\n",
              "    }\n",
              "\n",
              "    .dataframe thead th {\n",
              "        text-align: right;\n",
              "    }\n",
              "</style>\n",
              "<table border=\"1\" class=\"dataframe\">\n",
              "  <thead>\n",
              "    <tr style=\"text-align: right;\">\n",
              "      <th></th>\n",
              "      <th>sepal length (cm)</th>\n",
              "      <th>sepal width (cm)</th>\n",
              "      <th>petal length (cm)</th>\n",
              "      <th>petal width (cm)</th>\n",
              "    </tr>\n",
              "  </thead>\n",
              "  <tbody>\n",
              "    <tr>\n",
              "      <th>0</th>\n",
              "      <td>5.1</td>\n",
              "      <td>3.5</td>\n",
              "      <td>1.4</td>\n",
              "      <td>0.2</td>\n",
              "    </tr>\n",
              "    <tr>\n",
              "      <th>1</th>\n",
              "      <td>4.9</td>\n",
              "      <td>3.0</td>\n",
              "      <td>1.4</td>\n",
              "      <td>0.2</td>\n",
              "    </tr>\n",
              "    <tr>\n",
              "      <th>2</th>\n",
              "      <td>4.7</td>\n",
              "      <td>3.2</td>\n",
              "      <td>1.3</td>\n",
              "      <td>0.2</td>\n",
              "    </tr>\n",
              "    <tr>\n",
              "      <th>3</th>\n",
              "      <td>4.6</td>\n",
              "      <td>3.1</td>\n",
              "      <td>1.5</td>\n",
              "      <td>0.2</td>\n",
              "    </tr>\n",
              "    <tr>\n",
              "      <th>4</th>\n",
              "      <td>5.0</td>\n",
              "      <td>3.6</td>\n",
              "      <td>1.4</td>\n",
              "      <td>0.2</td>\n",
              "    </tr>\n",
              "  </tbody>\n",
              "</table>\n",
              "</div>\n",
              "      <button class=\"colab-df-convert\" onclick=\"convertToInteractive('df-2b5fa7e5-b364-43de-a79e-64675d2f7216')\"\n",
              "              title=\"Convert this dataframe to an interactive table.\"\n",
              "              style=\"display:none;\">\n",
              "        \n",
              "  <svg xmlns=\"http://www.w3.org/2000/svg\" height=\"24px\"viewBox=\"0 0 24 24\"\n",
              "       width=\"24px\">\n",
              "    <path d=\"M0 0h24v24H0V0z\" fill=\"none\"/>\n",
              "    <path d=\"M18.56 5.44l.94 2.06.94-2.06 2.06-.94-2.06-.94-.94-2.06-.94 2.06-2.06.94zm-11 1L8.5 8.5l.94-2.06 2.06-.94-2.06-.94L8.5 2.5l-.94 2.06-2.06.94zm10 10l.94 2.06.94-2.06 2.06-.94-2.06-.94-.94-2.06-.94 2.06-2.06.94z\"/><path d=\"M17.41 7.96l-1.37-1.37c-.4-.4-.92-.59-1.43-.59-.52 0-1.04.2-1.43.59L10.3 9.45l-7.72 7.72c-.78.78-.78 2.05 0 2.83L4 21.41c.39.39.9.59 1.41.59.51 0 1.02-.2 1.41-.59l7.78-7.78 2.81-2.81c.8-.78.8-2.07 0-2.86zM5.41 20L4 18.59l7.72-7.72 1.47 1.35L5.41 20z\"/>\n",
              "  </svg>\n",
              "      </button>\n",
              "      \n",
              "  <style>\n",
              "    .colab-df-container {\n",
              "      display:flex;\n",
              "      flex-wrap:wrap;\n",
              "      gap: 12px;\n",
              "    }\n",
              "\n",
              "    .colab-df-convert {\n",
              "      background-color: #E8F0FE;\n",
              "      border: none;\n",
              "      border-radius: 50%;\n",
              "      cursor: pointer;\n",
              "      display: none;\n",
              "      fill: #1967D2;\n",
              "      height: 32px;\n",
              "      padding: 0 0 0 0;\n",
              "      width: 32px;\n",
              "    }\n",
              "\n",
              "    .colab-df-convert:hover {\n",
              "      background-color: #E2EBFA;\n",
              "      box-shadow: 0px 1px 2px rgba(60, 64, 67, 0.3), 0px 1px 3px 1px rgba(60, 64, 67, 0.15);\n",
              "      fill: #174EA6;\n",
              "    }\n",
              "\n",
              "    [theme=dark] .colab-df-convert {\n",
              "      background-color: #3B4455;\n",
              "      fill: #D2E3FC;\n",
              "    }\n",
              "\n",
              "    [theme=dark] .colab-df-convert:hover {\n",
              "      background-color: #434B5C;\n",
              "      box-shadow: 0px 1px 3px 1px rgba(0, 0, 0, 0.15);\n",
              "      filter: drop-shadow(0px 1px 2px rgba(0, 0, 0, 0.3));\n",
              "      fill: #FFFFFF;\n",
              "    }\n",
              "  </style>\n",
              "\n",
              "      <script>\n",
              "        const buttonEl =\n",
              "          document.querySelector('#df-2b5fa7e5-b364-43de-a79e-64675d2f7216 button.colab-df-convert');\n",
              "        buttonEl.style.display =\n",
              "          google.colab.kernel.accessAllowed ? 'block' : 'none';\n",
              "\n",
              "        async function convertToInteractive(key) {\n",
              "          const element = document.querySelector('#df-2b5fa7e5-b364-43de-a79e-64675d2f7216');\n",
              "          const dataTable =\n",
              "            await google.colab.kernel.invokeFunction('convertToInteractive',\n",
              "                                                     [key], {});\n",
              "          if (!dataTable) return;\n",
              "\n",
              "          const docLinkHtml = 'Like what you see? Visit the ' +\n",
              "            '<a target=\"_blank\" href=https://colab.research.google.com/notebooks/data_table.ipynb>data table notebook</a>'\n",
              "            + ' to learn more about interactive tables.';\n",
              "          element.innerHTML = '';\n",
              "          dataTable['output_type'] = 'display_data';\n",
              "          await google.colab.output.renderOutput(dataTable, element);\n",
              "          const docLink = document.createElement('div');\n",
              "          docLink.innerHTML = docLinkHtml;\n",
              "          element.appendChild(docLink);\n",
              "        }\n",
              "      </script>\n",
              "    </div>\n",
              "  </div>\n",
              "  "
            ]
          },
          "metadata": {},
          "execution_count": 4
        }
      ]
    },
    {
      "cell_type": "markdown",
      "source": [
        "We have 4 different metrics stored in X. To make for a clearer demonstration, let's for now only keep two of them: `sepal lenght` and `sepal width` and sore it as X_sepal. We'll come back to X the full set of features later on."
      ],
      "metadata": {
        "id": "WU2nynC9d41N"
      }
    },
    {
      "cell_type": "code",
      "source": [
        "X_sepal = X.iloc[:, [0,1]]\n",
        "X_sepal.head()"
      ],
      "metadata": {
        "id": "Fh5dlTsseUwv",
        "outputId": "d885ea28-2961-4a40-e0ab-d68c30dd829a",
        "colab": {
          "base_uri": "https://localhost:8080/",
          "height": 206
        }
      },
      "execution_count": 5,
      "outputs": [
        {
          "output_type": "execute_result",
          "data": {
            "text/plain": [
              "   sepal length (cm)  sepal width (cm)\n",
              "0                5.1               3.5\n",
              "1                4.9               3.0\n",
              "2                4.7               3.2\n",
              "3                4.6               3.1\n",
              "4                5.0               3.6"
            ],
            "text/html": [
              "\n",
              "  <div id=\"df-4fb3131d-9d3b-4f98-a0b9-1e63c3019d8b\">\n",
              "    <div class=\"colab-df-container\">\n",
              "      <div>\n",
              "<style scoped>\n",
              "    .dataframe tbody tr th:only-of-type {\n",
              "        vertical-align: middle;\n",
              "    }\n",
              "\n",
              "    .dataframe tbody tr th {\n",
              "        vertical-align: top;\n",
              "    }\n",
              "\n",
              "    .dataframe thead th {\n",
              "        text-align: right;\n",
              "    }\n",
              "</style>\n",
              "<table border=\"1\" class=\"dataframe\">\n",
              "  <thead>\n",
              "    <tr style=\"text-align: right;\">\n",
              "      <th></th>\n",
              "      <th>sepal length (cm)</th>\n",
              "      <th>sepal width (cm)</th>\n",
              "    </tr>\n",
              "  </thead>\n",
              "  <tbody>\n",
              "    <tr>\n",
              "      <th>0</th>\n",
              "      <td>5.1</td>\n",
              "      <td>3.5</td>\n",
              "    </tr>\n",
              "    <tr>\n",
              "      <th>1</th>\n",
              "      <td>4.9</td>\n",
              "      <td>3.0</td>\n",
              "    </tr>\n",
              "    <tr>\n",
              "      <th>2</th>\n",
              "      <td>4.7</td>\n",
              "      <td>3.2</td>\n",
              "    </tr>\n",
              "    <tr>\n",
              "      <th>3</th>\n",
              "      <td>4.6</td>\n",
              "      <td>3.1</td>\n",
              "    </tr>\n",
              "    <tr>\n",
              "      <th>4</th>\n",
              "      <td>5.0</td>\n",
              "      <td>3.6</td>\n",
              "    </tr>\n",
              "  </tbody>\n",
              "</table>\n",
              "</div>\n",
              "      <button class=\"colab-df-convert\" onclick=\"convertToInteractive('df-4fb3131d-9d3b-4f98-a0b9-1e63c3019d8b')\"\n",
              "              title=\"Convert this dataframe to an interactive table.\"\n",
              "              style=\"display:none;\">\n",
              "        \n",
              "  <svg xmlns=\"http://www.w3.org/2000/svg\" height=\"24px\"viewBox=\"0 0 24 24\"\n",
              "       width=\"24px\">\n",
              "    <path d=\"M0 0h24v24H0V0z\" fill=\"none\"/>\n",
              "    <path d=\"M18.56 5.44l.94 2.06.94-2.06 2.06-.94-2.06-.94-.94-2.06-.94 2.06-2.06.94zm-11 1L8.5 8.5l.94-2.06 2.06-.94-2.06-.94L8.5 2.5l-.94 2.06-2.06.94zm10 10l.94 2.06.94-2.06 2.06-.94-2.06-.94-.94-2.06-.94 2.06-2.06.94z\"/><path d=\"M17.41 7.96l-1.37-1.37c-.4-.4-.92-.59-1.43-.59-.52 0-1.04.2-1.43.59L10.3 9.45l-7.72 7.72c-.78.78-.78 2.05 0 2.83L4 21.41c.39.39.9.59 1.41.59.51 0 1.02-.2 1.41-.59l7.78-7.78 2.81-2.81c.8-.78.8-2.07 0-2.86zM5.41 20L4 18.59l7.72-7.72 1.47 1.35L5.41 20z\"/>\n",
              "  </svg>\n",
              "      </button>\n",
              "      \n",
              "  <style>\n",
              "    .colab-df-container {\n",
              "      display:flex;\n",
              "      flex-wrap:wrap;\n",
              "      gap: 12px;\n",
              "    }\n",
              "\n",
              "    .colab-df-convert {\n",
              "      background-color: #E8F0FE;\n",
              "      border: none;\n",
              "      border-radius: 50%;\n",
              "      cursor: pointer;\n",
              "      display: none;\n",
              "      fill: #1967D2;\n",
              "      height: 32px;\n",
              "      padding: 0 0 0 0;\n",
              "      width: 32px;\n",
              "    }\n",
              "\n",
              "    .colab-df-convert:hover {\n",
              "      background-color: #E2EBFA;\n",
              "      box-shadow: 0px 1px 2px rgba(60, 64, 67, 0.3), 0px 1px 3px 1px rgba(60, 64, 67, 0.15);\n",
              "      fill: #174EA6;\n",
              "    }\n",
              "\n",
              "    [theme=dark] .colab-df-convert {\n",
              "      background-color: #3B4455;\n",
              "      fill: #D2E3FC;\n",
              "    }\n",
              "\n",
              "    [theme=dark] .colab-df-convert:hover {\n",
              "      background-color: #434B5C;\n",
              "      box-shadow: 0px 1px 3px 1px rgba(0, 0, 0, 0.15);\n",
              "      filter: drop-shadow(0px 1px 2px rgba(0, 0, 0, 0.3));\n",
              "      fill: #FFFFFF;\n",
              "    }\n",
              "  </style>\n",
              "\n",
              "      <script>\n",
              "        const buttonEl =\n",
              "          document.querySelector('#df-4fb3131d-9d3b-4f98-a0b9-1e63c3019d8b button.colab-df-convert');\n",
              "        buttonEl.style.display =\n",
              "          google.colab.kernel.accessAllowed ? 'block' : 'none';\n",
              "\n",
              "        async function convertToInteractive(key) {\n",
              "          const element = document.querySelector('#df-4fb3131d-9d3b-4f98-a0b9-1e63c3019d8b');\n",
              "          const dataTable =\n",
              "            await google.colab.kernel.invokeFunction('convertToInteractive',\n",
              "                                                     [key], {});\n",
              "          if (!dataTable) return;\n",
              "\n",
              "          const docLinkHtml = 'Like what you see? Visit the ' +\n",
              "            '<a target=\"_blank\" href=https://colab.research.google.com/notebooks/data_table.ipynb>data table notebook</a>'\n",
              "            + ' to learn more about interactive tables.';\n",
              "          element.innerHTML = '';\n",
              "          dataTable['output_type'] = 'display_data';\n",
              "          await google.colab.output.renderOutput(dataTable, element);\n",
              "          const docLink = document.createElement('div');\n",
              "          docLink.innerHTML = docLinkHtml;\n",
              "          element.appendChild(docLink);\n",
              "        }\n",
              "      </script>\n",
              "    </div>\n",
              "  </div>\n",
              "  "
            ]
          },
          "metadata": {},
          "execution_count": 5
        }
      ]
    },
    {
      "cell_type": "markdown",
      "source": [
        "Below we save the labels, which indicate for each flower of which kind it is."
      ],
      "metadata": {
        "id": "ihM8bL4zQynt"
      }
    },
    {
      "cell_type": "code",
      "metadata": {
        "id": "lRDDxdQP2HNy",
        "colab": {
          "base_uri": "https://localhost:8080/",
          "height": 206
        },
        "outputId": "63b75f86-f464-470a-94b2-9a312ea549ea"
      },
      "source": [
        "y=pd.DataFrame(iris.target, columns=[\"Flower_type\"])\n",
        "y.head()"
      ],
      "execution_count": 6,
      "outputs": [
        {
          "output_type": "execute_result",
          "data": {
            "text/plain": [
              "   Flower_type\n",
              "0            0\n",
              "1            0\n",
              "2            0\n",
              "3            0\n",
              "4            0"
            ],
            "text/html": [
              "\n",
              "  <div id=\"df-ef318d4c-beb0-4514-a1cd-cf0e149566f3\">\n",
              "    <div class=\"colab-df-container\">\n",
              "      <div>\n",
              "<style scoped>\n",
              "    .dataframe tbody tr th:only-of-type {\n",
              "        vertical-align: middle;\n",
              "    }\n",
              "\n",
              "    .dataframe tbody tr th {\n",
              "        vertical-align: top;\n",
              "    }\n",
              "\n",
              "    .dataframe thead th {\n",
              "        text-align: right;\n",
              "    }\n",
              "</style>\n",
              "<table border=\"1\" class=\"dataframe\">\n",
              "  <thead>\n",
              "    <tr style=\"text-align: right;\">\n",
              "      <th></th>\n",
              "      <th>Flower_type</th>\n",
              "    </tr>\n",
              "  </thead>\n",
              "  <tbody>\n",
              "    <tr>\n",
              "      <th>0</th>\n",
              "      <td>0</td>\n",
              "    </tr>\n",
              "    <tr>\n",
              "      <th>1</th>\n",
              "      <td>0</td>\n",
              "    </tr>\n",
              "    <tr>\n",
              "      <th>2</th>\n",
              "      <td>0</td>\n",
              "    </tr>\n",
              "    <tr>\n",
              "      <th>3</th>\n",
              "      <td>0</td>\n",
              "    </tr>\n",
              "    <tr>\n",
              "      <th>4</th>\n",
              "      <td>0</td>\n",
              "    </tr>\n",
              "  </tbody>\n",
              "</table>\n",
              "</div>\n",
              "      <button class=\"colab-df-convert\" onclick=\"convertToInteractive('df-ef318d4c-beb0-4514-a1cd-cf0e149566f3')\"\n",
              "              title=\"Convert this dataframe to an interactive table.\"\n",
              "              style=\"display:none;\">\n",
              "        \n",
              "  <svg xmlns=\"http://www.w3.org/2000/svg\" height=\"24px\"viewBox=\"0 0 24 24\"\n",
              "       width=\"24px\">\n",
              "    <path d=\"M0 0h24v24H0V0z\" fill=\"none\"/>\n",
              "    <path d=\"M18.56 5.44l.94 2.06.94-2.06 2.06-.94-2.06-.94-.94-2.06-.94 2.06-2.06.94zm-11 1L8.5 8.5l.94-2.06 2.06-.94-2.06-.94L8.5 2.5l-.94 2.06-2.06.94zm10 10l.94 2.06.94-2.06 2.06-.94-2.06-.94-.94-2.06-.94 2.06-2.06.94z\"/><path d=\"M17.41 7.96l-1.37-1.37c-.4-.4-.92-.59-1.43-.59-.52 0-1.04.2-1.43.59L10.3 9.45l-7.72 7.72c-.78.78-.78 2.05 0 2.83L4 21.41c.39.39.9.59 1.41.59.51 0 1.02-.2 1.41-.59l7.78-7.78 2.81-2.81c.8-.78.8-2.07 0-2.86zM5.41 20L4 18.59l7.72-7.72 1.47 1.35L5.41 20z\"/>\n",
              "  </svg>\n",
              "      </button>\n",
              "      \n",
              "  <style>\n",
              "    .colab-df-container {\n",
              "      display:flex;\n",
              "      flex-wrap:wrap;\n",
              "      gap: 12px;\n",
              "    }\n",
              "\n",
              "    .colab-df-convert {\n",
              "      background-color: #E8F0FE;\n",
              "      border: none;\n",
              "      border-radius: 50%;\n",
              "      cursor: pointer;\n",
              "      display: none;\n",
              "      fill: #1967D2;\n",
              "      height: 32px;\n",
              "      padding: 0 0 0 0;\n",
              "      width: 32px;\n",
              "    }\n",
              "\n",
              "    .colab-df-convert:hover {\n",
              "      background-color: #E2EBFA;\n",
              "      box-shadow: 0px 1px 2px rgba(60, 64, 67, 0.3), 0px 1px 3px 1px rgba(60, 64, 67, 0.15);\n",
              "      fill: #174EA6;\n",
              "    }\n",
              "\n",
              "    [theme=dark] .colab-df-convert {\n",
              "      background-color: #3B4455;\n",
              "      fill: #D2E3FC;\n",
              "    }\n",
              "\n",
              "    [theme=dark] .colab-df-convert:hover {\n",
              "      background-color: #434B5C;\n",
              "      box-shadow: 0px 1px 3px 1px rgba(0, 0, 0, 0.15);\n",
              "      filter: drop-shadow(0px 1px 2px rgba(0, 0, 0, 0.3));\n",
              "      fill: #FFFFFF;\n",
              "    }\n",
              "  </style>\n",
              "\n",
              "      <script>\n",
              "        const buttonEl =\n",
              "          document.querySelector('#df-ef318d4c-beb0-4514-a1cd-cf0e149566f3 button.colab-df-convert');\n",
              "        buttonEl.style.display =\n",
              "          google.colab.kernel.accessAllowed ? 'block' : 'none';\n",
              "\n",
              "        async function convertToInteractive(key) {\n",
              "          const element = document.querySelector('#df-ef318d4c-beb0-4514-a1cd-cf0e149566f3');\n",
              "          const dataTable =\n",
              "            await google.colab.kernel.invokeFunction('convertToInteractive',\n",
              "                                                     [key], {});\n",
              "          if (!dataTable) return;\n",
              "\n",
              "          const docLinkHtml = 'Like what you see? Visit the ' +\n",
              "            '<a target=\"_blank\" href=https://colab.research.google.com/notebooks/data_table.ipynb>data table notebook</a>'\n",
              "            + ' to learn more about interactive tables.';\n",
              "          element.innerHTML = '';\n",
              "          dataTable['output_type'] = 'display_data';\n",
              "          await google.colab.output.renderOutput(dataTable, element);\n",
              "          const docLink = document.createElement('div');\n",
              "          docLink.innerHTML = docLinkHtml;\n",
              "          element.appendChild(docLink);\n",
              "        }\n",
              "      </script>\n",
              "    </div>\n",
              "  </div>\n",
              "  "
            ]
          },
          "metadata": {},
          "execution_count": 6
        }
      ]
    },
    {
      "cell_type": "markdown",
      "source": [
        "To get a quick idea we can see with the code below we have 50 samples of each flower type."
      ],
      "metadata": {
        "id": "qIIptKz8R0hZ"
      }
    },
    {
      "cell_type": "code",
      "source": [
        "y.value_counts()"
      ],
      "metadata": {
        "id": "O3T4_lEeRveo",
        "outputId": "fddfb6a4-daa7-49d4-b230-05e61951243d",
        "colab": {
          "base_uri": "https://localhost:8080/"
        }
      },
      "execution_count": 7,
      "outputs": [
        {
          "output_type": "execute_result",
          "data": {
            "text/plain": [
              "Flower_type\n",
              "0              50\n",
              "1              50\n",
              "2              50\n",
              "dtype: int64"
            ]
          },
          "metadata": {},
          "execution_count": 7
        }
      ]
    },
    {
      "cell_type": "markdown",
      "source": [
        "The code below can give us an idea of how the X_sepal features vary depending on the flower label."
      ],
      "metadata": {
        "id": "PE3J1QYwmsKP"
      }
    },
    {
      "cell_type": "code",
      "source": [
        "pd.concat([X_sepal, y], axis=1).groupby(['Flower_type']).describe().loc[:,(slice(None),['max','min','mean'])].transpose().sort_index()"
      ],
      "metadata": {
        "id": "c0QerjV0kOdO",
        "outputId": "544e28a2-c682-42e0-8f86-c2c60a43d5a6",
        "colab": {
          "base_uri": "https://localhost:8080/",
          "height": 237
        }
      },
      "execution_count": 8,
      "outputs": [
        {
          "output_type": "execute_result",
          "data": {
            "text/plain": [
              "Flower_type                 0      1      2\n",
              "sepal length (cm) max   5.800  7.000  7.900\n",
              "                  mean  5.006  5.936  6.588\n",
              "                  min   4.300  4.900  4.900\n",
              "sepal width (cm)  max   4.400  3.400  3.800\n",
              "                  mean  3.428  2.770  2.974\n",
              "                  min   2.300  2.000  2.200"
            ],
            "text/html": [
              "\n",
              "  <div id=\"df-9bb2e6ab-5a96-4406-82ca-e5b5e55c2d3c\">\n",
              "    <div class=\"colab-df-container\">\n",
              "      <div>\n",
              "<style scoped>\n",
              "    .dataframe tbody tr th:only-of-type {\n",
              "        vertical-align: middle;\n",
              "    }\n",
              "\n",
              "    .dataframe tbody tr th {\n",
              "        vertical-align: top;\n",
              "    }\n",
              "\n",
              "    .dataframe thead th {\n",
              "        text-align: right;\n",
              "    }\n",
              "</style>\n",
              "<table border=\"1\" class=\"dataframe\">\n",
              "  <thead>\n",
              "    <tr style=\"text-align: right;\">\n",
              "      <th></th>\n",
              "      <th>Flower_type</th>\n",
              "      <th>0</th>\n",
              "      <th>1</th>\n",
              "      <th>2</th>\n",
              "    </tr>\n",
              "  </thead>\n",
              "  <tbody>\n",
              "    <tr>\n",
              "      <th rowspan=\"3\" valign=\"top\">sepal length (cm)</th>\n",
              "      <th>max</th>\n",
              "      <td>5.800</td>\n",
              "      <td>7.000</td>\n",
              "      <td>7.900</td>\n",
              "    </tr>\n",
              "    <tr>\n",
              "      <th>mean</th>\n",
              "      <td>5.006</td>\n",
              "      <td>5.936</td>\n",
              "      <td>6.588</td>\n",
              "    </tr>\n",
              "    <tr>\n",
              "      <th>min</th>\n",
              "      <td>4.300</td>\n",
              "      <td>4.900</td>\n",
              "      <td>4.900</td>\n",
              "    </tr>\n",
              "    <tr>\n",
              "      <th rowspan=\"3\" valign=\"top\">sepal width (cm)</th>\n",
              "      <th>max</th>\n",
              "      <td>4.400</td>\n",
              "      <td>3.400</td>\n",
              "      <td>3.800</td>\n",
              "    </tr>\n",
              "    <tr>\n",
              "      <th>mean</th>\n",
              "      <td>3.428</td>\n",
              "      <td>2.770</td>\n",
              "      <td>2.974</td>\n",
              "    </tr>\n",
              "    <tr>\n",
              "      <th>min</th>\n",
              "      <td>2.300</td>\n",
              "      <td>2.000</td>\n",
              "      <td>2.200</td>\n",
              "    </tr>\n",
              "  </tbody>\n",
              "</table>\n",
              "</div>\n",
              "      <button class=\"colab-df-convert\" onclick=\"convertToInteractive('df-9bb2e6ab-5a96-4406-82ca-e5b5e55c2d3c')\"\n",
              "              title=\"Convert this dataframe to an interactive table.\"\n",
              "              style=\"display:none;\">\n",
              "        \n",
              "  <svg xmlns=\"http://www.w3.org/2000/svg\" height=\"24px\"viewBox=\"0 0 24 24\"\n",
              "       width=\"24px\">\n",
              "    <path d=\"M0 0h24v24H0V0z\" fill=\"none\"/>\n",
              "    <path d=\"M18.56 5.44l.94 2.06.94-2.06 2.06-.94-2.06-.94-.94-2.06-.94 2.06-2.06.94zm-11 1L8.5 8.5l.94-2.06 2.06-.94-2.06-.94L8.5 2.5l-.94 2.06-2.06.94zm10 10l.94 2.06.94-2.06 2.06-.94-2.06-.94-.94-2.06-.94 2.06-2.06.94z\"/><path d=\"M17.41 7.96l-1.37-1.37c-.4-.4-.92-.59-1.43-.59-.52 0-1.04.2-1.43.59L10.3 9.45l-7.72 7.72c-.78.78-.78 2.05 0 2.83L4 21.41c.39.39.9.59 1.41.59.51 0 1.02-.2 1.41-.59l7.78-7.78 2.81-2.81c.8-.78.8-2.07 0-2.86zM5.41 20L4 18.59l7.72-7.72 1.47 1.35L5.41 20z\"/>\n",
              "  </svg>\n",
              "      </button>\n",
              "      \n",
              "  <style>\n",
              "    .colab-df-container {\n",
              "      display:flex;\n",
              "      flex-wrap:wrap;\n",
              "      gap: 12px;\n",
              "    }\n",
              "\n",
              "    .colab-df-convert {\n",
              "      background-color: #E8F0FE;\n",
              "      border: none;\n",
              "      border-radius: 50%;\n",
              "      cursor: pointer;\n",
              "      display: none;\n",
              "      fill: #1967D2;\n",
              "      height: 32px;\n",
              "      padding: 0 0 0 0;\n",
              "      width: 32px;\n",
              "    }\n",
              "\n",
              "    .colab-df-convert:hover {\n",
              "      background-color: #E2EBFA;\n",
              "      box-shadow: 0px 1px 2px rgba(60, 64, 67, 0.3), 0px 1px 3px 1px rgba(60, 64, 67, 0.15);\n",
              "      fill: #174EA6;\n",
              "    }\n",
              "\n",
              "    [theme=dark] .colab-df-convert {\n",
              "      background-color: #3B4455;\n",
              "      fill: #D2E3FC;\n",
              "    }\n",
              "\n",
              "    [theme=dark] .colab-df-convert:hover {\n",
              "      background-color: #434B5C;\n",
              "      box-shadow: 0px 1px 3px 1px rgba(0, 0, 0, 0.15);\n",
              "      filter: drop-shadow(0px 1px 2px rgba(0, 0, 0, 0.3));\n",
              "      fill: #FFFFFF;\n",
              "    }\n",
              "  </style>\n",
              "\n",
              "      <script>\n",
              "        const buttonEl =\n",
              "          document.querySelector('#df-9bb2e6ab-5a96-4406-82ca-e5b5e55c2d3c button.colab-df-convert');\n",
              "        buttonEl.style.display =\n",
              "          google.colab.kernel.accessAllowed ? 'block' : 'none';\n",
              "\n",
              "        async function convertToInteractive(key) {\n",
              "          const element = document.querySelector('#df-9bb2e6ab-5a96-4406-82ca-e5b5e55c2d3c');\n",
              "          const dataTable =\n",
              "            await google.colab.kernel.invokeFunction('convertToInteractive',\n",
              "                                                     [key], {});\n",
              "          if (!dataTable) return;\n",
              "\n",
              "          const docLinkHtml = 'Like what you see? Visit the ' +\n",
              "            '<a target=\"_blank\" href=https://colab.research.google.com/notebooks/data_table.ipynb>data table notebook</a>'\n",
              "            + ' to learn more about interactive tables.';\n",
              "          element.innerHTML = '';\n",
              "          dataTable['output_type'] = 'display_data';\n",
              "          await google.colab.output.renderOutput(dataTable, element);\n",
              "          const docLink = document.createElement('div');\n",
              "          docLink.innerHTML = docLinkHtml;\n",
              "          element.appendChild(docLink);\n",
              "        }\n",
              "      </script>\n",
              "    </div>\n",
              "  </div>\n",
              "  "
            ]
          },
          "metadata": {},
          "execution_count": 8
        }
      ]
    },
    {
      "cell_type": "markdown",
      "source": [
        "And this is the order in which the labels appear in the iris dataset."
      ],
      "metadata": {
        "id": "-XPTn6lpVcB2"
      }
    },
    {
      "cell_type": "code",
      "source": [
        "y['Flower_type'].values"
      ],
      "metadata": {
        "id": "Hse9Dg9nVk7t",
        "outputId": "d41c1a95-477f-4210-d16c-f7d68e9d0d7b",
        "colab": {
          "base_uri": "https://localhost:8080/"
        }
      },
      "execution_count": 9,
      "outputs": [
        {
          "output_type": "execute_result",
          "data": {
            "text/plain": [
              "array([0, 0, 0, 0, 0, 0, 0, 0, 0, 0, 0, 0, 0, 0, 0, 0, 0, 0, 0, 0, 0, 0,\n",
              "       0, 0, 0, 0, 0, 0, 0, 0, 0, 0, 0, 0, 0, 0, 0, 0, 0, 0, 0, 0, 0, 0,\n",
              "       0, 0, 0, 0, 0, 0, 1, 1, 1, 1, 1, 1, 1, 1, 1, 1, 1, 1, 1, 1, 1, 1,\n",
              "       1, 1, 1, 1, 1, 1, 1, 1, 1, 1, 1, 1, 1, 1, 1, 1, 1, 1, 1, 1, 1, 1,\n",
              "       1, 1, 1, 1, 1, 1, 1, 1, 1, 1, 1, 1, 2, 2, 2, 2, 2, 2, 2, 2, 2, 2,\n",
              "       2, 2, 2, 2, 2, 2, 2, 2, 2, 2, 2, 2, 2, 2, 2, 2, 2, 2, 2, 2, 2, 2,\n",
              "       2, 2, 2, 2, 2, 2, 2, 2, 2, 2, 2, 2, 2, 2, 2, 2, 2, 2])"
            ]
          },
          "metadata": {},
          "execution_count": 9
        }
      ]
    },
    {
      "cell_type": "markdown",
      "metadata": {
        "id": "BBoG7MUKBIQ4"
      },
      "source": [
        "##K-Means\n",
        "We're going to use the K-Means provided by the `sklearn` library.<br>\n",
        "For illustration, we're going to do two KMeans and fit it on X_sepal:\n",
        "\n",
        "*   K-means with **3 clusters**\n",
        "*   K-means with **5 clusters**\n",
        "\n",
        "The one with **5 clusters** is only for illustration, because we know already that there are only 3 different types of iris in the dataset.\n",
        "\n",
        "\n"
      ]
    },
    {
      "cell_type": "code",
      "source": [
        "# create an instace of KMeans and specify the number of clusters=3, \n",
        "# the random state help make sure we all have exactly the same results\n",
        "model3=KMeans(n_clusters=3, random_state=0) #3 clusters\n",
        "\n",
        "# fit the model on the set of features we previously labelled as X_sepal (NOT including the labels on the type of flowers)\n",
        "model3.fit(X_sepal)"
      ],
      "metadata": {
        "id": "zVK3mygASLJJ",
        "outputId": "426638a5-1406-4421-ccf5-adf1836840bc",
        "colab": {
          "base_uri": "https://localhost:8080/"
        }
      },
      "execution_count": 10,
      "outputs": [
        {
          "output_type": "execute_result",
          "data": {
            "text/plain": [
              "KMeans(n_clusters=3, random_state=0)"
            ]
          },
          "metadata": {},
          "execution_count": 10
        }
      ]
    },
    {
      "cell_type": "code",
      "source": [
        "# these are the labels returned by the model with 3 clusters\n",
        "print(model3.labels_)"
      ],
      "metadata": {
        "id": "BttCwNFiSjVQ",
        "outputId": "9d470952-c06b-4a69-d0fe-5d17da57c967",
        "colab": {
          "base_uri": "https://localhost:8080/"
        }
      },
      "execution_count": 11,
      "outputs": [
        {
          "output_type": "stream",
          "name": "stdout",
          "text": [
            "[1 1 1 1 1 1 1 1 1 1 1 1 1 1 1 1 1 1 1 1 1 1 1 1 1 1 1 1 1 1 1 1 1 1 1 1 1\n",
            " 1 1 1 1 1 1 1 1 1 1 1 1 1 2 2 2 0 2 0 2 0 2 0 0 0 0 0 0 2 0 0 0 0 0 0 0 0\n",
            " 2 2 2 2 0 0 0 0 0 0 0 0 2 0 0 0 0 0 0 0 0 0 0 0 0 0 2 0 2 2 2 2 0 2 2 2 2\n",
            " 2 2 0 0 2 2 2 2 0 2 0 2 0 2 2 0 0 2 2 2 2 2 0 0 2 2 2 0 2 2 2 0 2 2 2 0 2\n",
            " 2 0]\n"
          ]
        }
      ]
    },
    {
      "cell_type": "markdown",
      "source": [
        "Now the model with 5 clusters."
      ],
      "metadata": {
        "id": "rVxc8ZxLTT97"
      }
    },
    {
      "cell_type": "code",
      "metadata": {
        "id": "qCMGWXcS3AQa",
        "colab": {
          "base_uri": "https://localhost:8080/"
        },
        "outputId": "7dbe63f3-5d7c-4855-a266-ecf82b14740b"
      },
      "source": [
        "# create an instance of KMeans\n",
        "model5=KMeans(n_clusters=5, random_state=0) #5 clusters\n",
        "\n",
        "# fit the model on the X features\n",
        "model5.fit(X_sepal)"
      ],
      "execution_count": 12,
      "outputs": [
        {
          "output_type": "execute_result",
          "data": {
            "text/plain": [
              "KMeans(n_clusters=5, random_state=0)"
            ]
          },
          "metadata": {},
          "execution_count": 12
        }
      ]
    },
    {
      "cell_type": "code",
      "metadata": {
        "id": "NCWqdM656rHv",
        "colab": {
          "base_uri": "https://localhost:8080/"
        },
        "outputId": "5b46b748-5d1f-4368-96bf-828a8b049722"
      },
      "source": [
        "print(model5.labels_)"
      ],
      "execution_count": 13,
      "outputs": [
        {
          "output_type": "stream",
          "name": "stdout",
          "text": [
            "[4 0 0 0 4 4 0 4 0 0 4 4 0 0 4 4 4 4 4 4 4 4 4 4 4 0 4 4 4 0 0 4 4 4 0 0 4\n",
            " 4 0 4 4 0 0 4 4 0 4 0 4 4 3 3 3 1 3 1 3 0 3 0 0 1 1 1 1 3 1 1 1 1 1 1 1 1\n",
            " 3 3 3 3 1 1 1 1 1 1 1 3 3 1 1 1 1 1 1 0 1 1 1 1 0 1 3 1 2 3 3 2 0 2 3 2 3\n",
            " 3 3 1 1 3 3 2 2 1 3 1 2 1 3 2 1 1 3 2 2 2 3 3 1 2 3 3 1 3 3 3 1 3 3 3 1 3\n",
            " 3 1]\n"
          ]
        }
      ]
    },
    {
      "cell_type": "markdown",
      "metadata": {
        "id": "8fFZdMceCmQd"
      },
      "source": [
        "###Graphical Representation\n",
        "The output (labels) of the K-means can easily be plotted in a 2D representation.<br>\n",
        "Below, you can find the scatter plot according to `\"sepal length (cm)\"` by `\"sepal width (cm)\"`, our X_sepal."
      ]
    },
    {
      "cell_type": "code",
      "metadata": {
        "id": "0FrmfOvb3K8K",
        "colab": {
          "base_uri": "https://localhost:8080/",
          "height": 314
        },
        "outputId": "bee33e68-354a-4e4a-8cc7-1d22ceb00d97"
      },
      "source": [
        "plt.scatter(X_sepal[\"sepal length (cm)\"], X_sepal[\"sepal width (cm)\"], c=y['Flower_type'], cmap='plasma') # points colored by the different flower types\n",
        "plt.xlabel(X_sepal.columns[0])\n",
        "plt.ylabel(X_sepal.columns[1])\n",
        "plt.title(\"Raw data\")"
      ],
      "execution_count": 16,
      "outputs": [
        {
          "output_type": "execute_result",
          "data": {
            "text/plain": [
              "Text(0.5, 1.0, 'Raw data')"
            ]
          },
          "metadata": {},
          "execution_count": 16
        },
        {
          "output_type": "display_data",
          "data": {
            "text/plain": [
              "<Figure size 432x288 with 1 Axes>"
            ],
            "image/png": "[encoded data removed]"
          },
          "metadata": {
            "needs_background": "light"
          }
        }
      ]
    },
    {
      "cell_type": "markdown",
      "metadata": {
        "id": "XmG4b-P2EXf9"
      },
      "source": [
        "Below we visualize how **K-means** performs for the different numbers of clusters."
      ]
    },
    {
      "cell_type": "code",
      "metadata": {
        "id": "HhtQMOYy3o8Z",
        "colab": {
          "base_uri": "https://localhost:8080/",
          "height": 573
        },
        "outputId": "ecb9c018-ef59-435e-d5da-dec9cfbcb646"
      },
      "source": [
        "plt.scatter(X_sepal[\"sepal length (cm)\"], X_sepal[\"sepal width (cm)\"], c=model3.labels_, cmap='plasma')\n",
        "plt.xlabel(X_sepal.columns[0])\n",
        "plt.ylabel(X_sepal.columns[1])\n",
        "plt.title(\"KMeans Model with 3 Clusters on X_sepal\")\n",
        "plt.show()\n",
        "\n",
        "plt.scatter(X_sepal[\"sepal length (cm)\"], X_sepal[\"sepal width (cm)\"], c=model5.labels_, cmap='plasma')\n",
        "plt.xlabel(X_sepal.columns[0])\n",
        "plt.ylabel(X_sepal.columns[1])\n",
        "plt.title(\"KMeans Model with 5 Clusters on X_sepal\")\n",
        "plt.show()"
      ],
      "execution_count": 17,
      "outputs": [
        {
          "output_type": "display_data",
          "data": {
            "text/plain": [
              "<Figure size 432x288 with 1 Axes>"
            ],
            "image/png": "[encoded data removed]"
          },
          "metadata": {
            "needs_background": "light"
          }
        },
        {
          "output_type": "display_data",
          "data": {
            "text/plain": [
              "<Figure size 432x288 with 1 Axes>"
            ],
            "image/png": "[encoded data removed]"
          },
          "metadata": {
            "needs_background": "light"
          }
        }
      ]
    },
    {
      "cell_type": "markdown",
      "metadata": {
        "id": "OfAgKfo1E4nE"
      },
      "source": [
        "So if we take our 3 cluster K-means, how accurate is it? To perform this we count the number of matches we have between the labels predicted by the model and the target.\n",
        "\n",
        "However, we first need to reorder the encoding because it seems that the labels do not match.\n",
        "\n",
        "| \"True\" Label | \"Model\" Label |\n",
        "| :---: | :---: |\n",
        "| 0 | 1 |\n",
        "| 1 | 0 |\n",
        "| 2 | 2 |\n",
        "\n",
        "**Note:** Remember that in the general case we do not have the target variable (KMeans is an example of unsupervised learning), meaning that we cannot compute the accuracy (ratio of correct over total predictions). Therefore, other metrics like the inertia are used to evaluate the model."
      ]
    },
    {
      "cell_type": "code",
      "metadata": {
        "id": "agNm_5Jwm1mf",
        "colab": {
          "base_uri": "https://localhost:8080/"
        },
        "outputId": "1c5e6f68-32fe-40b1-e434-61ce085b46a7"
      },
      "source": [
        "iris.target"
      ],
      "execution_count": 18,
      "outputs": [
        {
          "output_type": "execute_result",
          "data": {
            "text/plain": [
              "array([0, 0, 0, 0, 0, 0, 0, 0, 0, 0, 0, 0, 0, 0, 0, 0, 0, 0, 0, 0, 0, 0,\n",
              "       0, 0, 0, 0, 0, 0, 0, 0, 0, 0, 0, 0, 0, 0, 0, 0, 0, 0, 0, 0, 0, 0,\n",
              "       0, 0, 0, 0, 0, 0, 1, 1, 1, 1, 1, 1, 1, 1, 1, 1, 1, 1, 1, 1, 1, 1,\n",
              "       1, 1, 1, 1, 1, 1, 1, 1, 1, 1, 1, 1, 1, 1, 1, 1, 1, 1, 1, 1, 1, 1,\n",
              "       1, 1, 1, 1, 1, 1, 1, 1, 1, 1, 1, 1, 2, 2, 2, 2, 2, 2, 2, 2, 2, 2,\n",
              "       2, 2, 2, 2, 2, 2, 2, 2, 2, 2, 2, 2, 2, 2, 2, 2, 2, 2, 2, 2, 2, 2,\n",
              "       2, 2, 2, 2, 2, 2, 2, 2, 2, 2, 2, 2, 2, 2, 2, 2, 2, 2])"
            ]
          },
          "metadata": {},
          "execution_count": 18
        }
      ]
    },
    {
      "cell_type": "code",
      "metadata": {
        "id": "QwgJmMDVm_aI",
        "colab": {
          "base_uri": "https://localhost:8080/"
        },
        "outputId": "4c3d54a1-6515-4c6f-8447-5cd844693b4b"
      },
      "source": [
        "model3.labels_"
      ],
      "execution_count": 19,
      "outputs": [
        {
          "output_type": "execute_result",
          "data": {
            "text/plain": [
              "array([1, 1, 1, 1, 1, 1, 1, 1, 1, 1, 1, 1, 1, 1, 1, 1, 1, 1, 1, 1, 1, 1,\n",
              "       1, 1, 1, 1, 1, 1, 1, 1, 1, 1, 1, 1, 1, 1, 1, 1, 1, 1, 1, 1, 1, 1,\n",
              "       1, 1, 1, 1, 1, 1, 2, 2, 2, 0, 2, 0, 2, 0, 2, 0, 0, 0, 0, 0, 0, 2,\n",
              "       0, 0, 0, 0, 0, 0, 0, 0, 2, 2, 2, 2, 0, 0, 0, 0, 0, 0, 0, 0, 2, 0,\n",
              "       0, 0, 0, 0, 0, 0, 0, 0, 0, 0, 0, 0, 2, 0, 2, 2, 2, 2, 0, 2, 2, 2,\n",
              "       2, 2, 2, 0, 0, 2, 2, 2, 2, 0, 2, 0, 2, 0, 2, 2, 0, 0, 2, 2, 2, 2,\n",
              "       2, 0, 0, 2, 2, 2, 0, 2, 2, 2, 0, 2, 2, 2, 0, 2, 2, 0], dtype=int32)"
            ]
          },
          "metadata": {},
          "execution_count": 19
        }
      ]
    },
    {
      "cell_type": "code",
      "source": [
        "# with the code below we transform 1 predictions into 0s, 2 predictions remain 2s, 0 predictions into 1s\n",
        "pd.DataFrame(model3.labels_, columns=['Predictions']).Predictions.map({1:0, 2:2, 0:1}).values"
      ],
      "metadata": {
        "id": "j_tXLQRCbiJH",
        "outputId": "d5c7d1af-db16-4fc5-d982-089c61b69f8e",
        "colab": {
          "base_uri": "https://localhost:8080/"
        }
      },
      "execution_count": 20,
      "outputs": [
        {
          "output_type": "execute_result",
          "data": {
            "text/plain": [
              "array([0, 0, 0, 0, 0, 0, 0, 0, 0, 0, 0, 0, 0, 0, 0, 0, 0, 0, 0, 0, 0, 0,\n",
              "       0, 0, 0, 0, 0, 0, 0, 0, 0, 0, 0, 0, 0, 0, 0, 0, 0, 0, 0, 0, 0, 0,\n",
              "       0, 0, 0, 0, 0, 0, 2, 2, 2, 1, 2, 1, 2, 1, 2, 1, 1, 1, 1, 1, 1, 2,\n",
              "       1, 1, 1, 1, 1, 1, 1, 1, 2, 2, 2, 2, 1, 1, 1, 1, 1, 1, 1, 1, 2, 1,\n",
              "       1, 1, 1, 1, 1, 1, 1, 1, 1, 1, 1, 1, 2, 1, 2, 2, 2, 2, 1, 2, 2, 2,\n",
              "       2, 2, 2, 1, 1, 2, 2, 2, 2, 1, 2, 1, 2, 1, 2, 2, 1, 1, 2, 2, 2, 2,\n",
              "       2, 1, 1, 2, 2, 2, 1, 2, 2, 2, 1, 2, 2, 2, 1, 2, 2, 1])"
            ]
          },
          "metadata": {},
          "execution_count": 20
        }
      ]
    },
    {
      "cell_type": "code",
      "metadata": {
        "id": "LvJ1XVmNnlvM",
        "colab": {
          "base_uri": "https://localhost:8080/"
        },
        "outputId": "467ad8ba-a3d9-41dc-ef06-b4cebaed684b"
      },
      "source": [
        "reordered_target3= pd.DataFrame(model3.labels_, columns=['Predictions']).Predictions.map({1:0, 2:2, 0:1})\n",
        "reordered_target3.head()"
      ],
      "execution_count": 26,
      "outputs": [
        {
          "output_type": "execute_result",
          "data": {
            "text/plain": [
              "0    0\n",
              "1    0\n",
              "2    0\n",
              "3    0\n",
              "4    0\n",
              "Name: Predictions, dtype: int64"
            ]
          },
          "metadata": {},
          "execution_count": 26
        }
      ]
    },
    {
      "cell_type": "code",
      "source": [
        "# concatenate the reordered predictions and the original true targets we previously saved as y\n",
        "comparison3 = pd.concat([reordered_target3, y], axis=1)\n",
        "\n",
        "# create new column 'Match' which takes on 1 if predictions=flower type and 0 otherwise\n",
        "comparison3.loc[comparison3['Predictions'] == comparison3['Flower_type'], 'Match'] = 1\n",
        "comparison3.loc[comparison3['Predictions'] != comparison3['Flower_type'], 'Match'] = 0\n",
        "\n",
        "comparison3.head()"
      ],
      "metadata": {
        "id": "JrBJFp_AdBgS",
        "outputId": "b98a80af-4757-4c04-a877-843580a3f120",
        "colab": {
          "base_uri": "https://localhost:8080/",
          "height": 206
        }
      },
      "execution_count": 27,
      "outputs": [
        {
          "output_type": "execute_result",
          "data": {
            "text/plain": [
              "   Predictions  Flower_type  Match\n",
              "0            0            0    1.0\n",
              "1            0            0    1.0\n",
              "2            0            0    1.0\n",
              "3            0            0    1.0\n",
              "4            0            0    1.0"
            ],
            "text/html": [
              "\n",
              "  <div id=\"df-09f898a3-f6ad-4153-90d4-e498495ef90a\">\n",
              "    <div class=\"colab-df-container\">\n",
              "      <div>\n",
              "<style scoped>\n",
              "    .dataframe tbody tr th:only-of-type {\n",
              "        vertical-align: middle;\n",
              "    }\n",
              "\n",
              "    .dataframe tbody tr th {\n",
              "        vertical-align: top;\n",
              "    }\n",
              "\n",
              "    .dataframe thead th {\n",
              "        text-align: right;\n",
              "    }\n",
              "</style>\n",
              "<table border=\"1\" class=\"dataframe\">\n",
              "  <thead>\n",
              "    <tr style=\"text-align: right;\">\n",
              "      <th></th>\n",
              "      <th>Predictions</th>\n",
              "      <th>Flower_type</th>\n",
              "      <th>Match</th>\n",
              "    </tr>\n",
              "  </thead>\n",
              "  <tbody>\n",
              "    <tr>\n",
              "      <th>0</th>\n",
              "      <td>0</td>\n",
              "      <td>0</td>\n",
              "      <td>1.0</td>\n",
              "    </tr>\n",
              "    <tr>\n",
              "      <th>1</th>\n",
              "      <td>0</td>\n",
              "      <td>0</td>\n",
              "      <td>1.0</td>\n",
              "    </tr>\n",
              "    <tr>\n",
              "      <th>2</th>\n",
              "      <td>0</td>\n",
              "      <td>0</td>\n",
              "      <td>1.0</td>\n",
              "    </tr>\n",
              "    <tr>\n",
              "      <th>3</th>\n",
              "      <td>0</td>\n",
              "      <td>0</td>\n",
              "      <td>1.0</td>\n",
              "    </tr>\n",
              "    <tr>\n",
              "      <th>4</th>\n",
              "      <td>0</td>\n",
              "      <td>0</td>\n",
              "      <td>1.0</td>\n",
              "    </tr>\n",
              "  </tbody>\n",
              "</table>\n",
              "</div>\n",
              "      <button class=\"colab-df-convert\" onclick=\"convertToInteractive('df-09f898a3-f6ad-4153-90d4-e498495ef90a')\"\n",
              "              title=\"Convert this dataframe to an interactive table.\"\n",
              "              style=\"display:none;\">\n",
              "        \n",
              "  <svg xmlns=\"http://www.w3.org/2000/svg\" height=\"24px\"viewBox=\"0 0 24 24\"\n",
              "       width=\"24px\">\n",
              "    <path d=\"M0 0h24v24H0V0z\" fill=\"none\"/>\n",
              "    <path d=\"M18.56 5.44l.94 2.06.94-2.06 2.06-.94-2.06-.94-.94-2.06-.94 2.06-2.06.94zm-11 1L8.5 8.5l.94-2.06 2.06-.94-2.06-.94L8.5 2.5l-.94 2.06-2.06.94zm10 10l.94 2.06.94-2.06 2.06-.94-2.06-.94-.94-2.06-.94 2.06-2.06.94z\"/><path d=\"M17.41 7.96l-1.37-1.37c-.4-.4-.92-.59-1.43-.59-.52 0-1.04.2-1.43.59L10.3 9.45l-7.72 7.72c-.78.78-.78 2.05 0 2.83L4 21.41c.39.39.9.59 1.41.59.51 0 1.02-.2 1.41-.59l7.78-7.78 2.81-2.81c.8-.78.8-2.07 0-2.86zM5.41 20L4 18.59l7.72-7.72 1.47 1.35L5.41 20z\"/>\n",
              "  </svg>\n",
              "      </button>\n",
              "      \n",
              "  <style>\n",
              "    .colab-df-container {\n",
              "      display:flex;\n",
              "      flex-wrap:wrap;\n",
              "      gap: 12px;\n",
              "    }\n",
              "\n",
              "    .colab-df-convert {\n",
              "      background-color: #E8F0FE;\n",
              "      border: none;\n",
              "      border-radius: 50%;\n",
              "      cursor: pointer;\n",
              "      display: none;\n",
              "      fill: #1967D2;\n",
              "      height: 32px;\n",
              "      padding: 0 0 0 0;\n",
              "      width: 32px;\n",
              "    }\n",
              "\n",
              "    .colab-df-convert:hover {\n",
              "      background-color: #E2EBFA;\n",
              "      box-shadow: 0px 1px 2px rgba(60, 64, 67, 0.3), 0px 1px 3px 1px rgba(60, 64, 67, 0.15);\n",
              "      fill: #174EA6;\n",
              "    }\n",
              "\n",
              "    [theme=dark] .colab-df-convert {\n",
              "      background-color: #3B4455;\n",
              "      fill: #D2E3FC;\n",
              "    }\n",
              "\n",
              "    [theme=dark] .colab-df-convert:hover {\n",
              "      background-color: #434B5C;\n",
              "      box-shadow: 0px 1px 3px 1px rgba(0, 0, 0, 0.15);\n",
              "      filter: drop-shadow(0px 1px 2px rgba(0, 0, 0, 0.3));\n",
              "      fill: #FFFFFF;\n",
              "    }\n",
              "  </style>\n",
              "\n",
              "      <script>\n",
              "        const buttonEl =\n",
              "          document.querySelector('#df-09f898a3-f6ad-4153-90d4-e498495ef90a button.colab-df-convert');\n",
              "        buttonEl.style.display =\n",
              "          google.colab.kernel.accessAllowed ? 'block' : 'none';\n",
              "\n",
              "        async function convertToInteractive(key) {\n",
              "          const element = document.querySelector('#df-09f898a3-f6ad-4153-90d4-e498495ef90a');\n",
              "          const dataTable =\n",
              "            await google.colab.kernel.invokeFunction('convertToInteractive',\n",
              "                                                     [key], {});\n",
              "          if (!dataTable) return;\n",
              "\n",
              "          const docLinkHtml = 'Like what you see? Visit the ' +\n",
              "            '<a target=\"_blank\" href=https://colab.research.google.com/notebooks/data_table.ipynb>data table notebook</a>'\n",
              "            + ' to learn more about interactive tables.';\n",
              "          element.innerHTML = '';\n",
              "          dataTable['output_type'] = 'display_data';\n",
              "          await google.colab.output.renderOutput(dataTable, element);\n",
              "          const docLink = document.createElement('div');\n",
              "          docLink.innerHTML = docLinkHtml;\n",
              "          element.appendChild(docLink);\n",
              "        }\n",
              "      </script>\n",
              "    </div>\n",
              "  </div>\n",
              "  "
            ]
          },
          "metadata": {},
          "execution_count": 27
        }
      ]
    },
    {
      "cell_type": "code",
      "metadata": {
        "id": "yuNrvq-JCNaN",
        "colab": {
          "base_uri": "https://localhost:8080/"
        },
        "outputId": "dddfdb40-50dc-4e47-bb6a-478935c7fe73"
      },
      "source": [
        "# how accurate are the k-means labels\n",
        "comparison3.Match.sum()/comparison3.shape[0]"
      ],
      "execution_count": 28,
      "outputs": [
        {
          "output_type": "execute_result",
          "data": {
            "text/plain": [
              "0.82"
            ]
          },
          "metadata": {},
          "execution_count": 28
        }
      ]
    },
    {
      "cell_type": "markdown",
      "source": [
        "Let's now get back to our full set of features stored in X. We can't represent graphically the clusters on many dimensions, but we can run the model."
      ],
      "metadata": {
        "id": "0LuShNRrhr4G"
      }
    },
    {
      "cell_type": "code",
      "source": [
        "# create an instace of KMeans and specify the number of clusters=3, \n",
        "# the random state help make sure we all have exactly the same results\n",
        "model3X=KMeans(n_clusters=3, random_state=0) #3 clusters\n",
        "\n",
        "# fit the model on the set of features we previously labelled as X (NOT including the labels on the type of flowers)\n",
        "model3X.fit(X)\n",
        "\n",
        "# fix the predicted labels to match the true target labels\n",
        "reordered_target3X= pd.DataFrame(model3X.labels_, columns=['Predictions']).Predictions.map({1:0, 2:2, 0:1})\n",
        "\n",
        "# concatenate the reordered predictions and the original true targets we previously saved as y\n",
        "comparison3X = pd.concat([reordered_target3X, y], axis=1)\n",
        "\n",
        "# create new column 'Match' which takes on 1 if predictions=flower type and 0 otherwise\n",
        "comparison3X.loc[comparison3X['Predictions'] == comparison3X['Flower_type'], 'Match'] = 1\n",
        "comparison3X.loc[comparison3X['Predictions'] != comparison3X['Flower_type'], 'Match'] = 0\n",
        "\n",
        "# how accurate are the k-means labels with the full set of features\n",
        "comparison3X.Match.sum()/comparison3X.shape[0]"
      ],
      "metadata": {
        "id": "eYJNgt4CkD_a",
        "outputId": "ecd28f61-efe6-4c65-aa9e-9a618e2324ac",
        "colab": {
          "base_uri": "https://localhost:8080/"
        }
      },
      "execution_count": 30,
      "outputs": [
        {
          "output_type": "execute_result",
          "data": {
            "text/plain": [
              "0.8933333333333333"
            ]
          },
          "metadata": {},
          "execution_count": 30
        }
      ]
    },
    {
      "cell_type": "markdown",
      "metadata": {
        "id": "Tl26TuQ65sZS"
      },
      "source": [
        "##Elbow method\n",
        "We will now apply the **K-means** algorithm to find the optimal number of clusters. For this, we will use **The Elbow Method** ([further reading](https://en.wikipedia.org/wiki/Elbow_method_(clustering))).  \n",
        "\n",
        "This method consists in plotting the explained variation as a function of the number of clusters, and picking the elbow of the curve (**inertia**) as the number of clusters to use. The intuition is that increasing the number of clusters will always improve the fit (explain more of the variation), since there are more parameters (more clusters). However, this will at some point result in **over-fitting**, with only minimal gains in the fit, which the elbow reflects. \n",
        "\n",
        "In the code below, using the KMeans module from sklearn, we will iteratively apply the K-means algorithm for different values of k, save the parameter `inertia_` (i.e sum of squared distances of samples to their closest cluster center). Then plot the inertia compared to the number of clusters. Knowing that the elbow method tells us to select the cluster when there is a significant change in inertia, find the possible elbow point (possible number of cluster).\n",
        "\n",
        "How many clusters should you use now?"
      ]
    },
    {
      "cell_type": "code",
      "metadata": {
        "id": "2Odv1IPc6BiN",
        "colab": {
          "base_uri": "https://localhost:8080/",
          "height": 314
        },
        "outputId": "c05015af-6390-4df2-e404-52170fe06a43"
      },
      "source": [
        "inertias = []\n",
        "nbr_clusters = range(1,11)\n",
        "\n",
        "for i in nbr_clusters:\n",
        "    km = KMeans(n_clusters=i, random_state=0).fit(X)\n",
        "    inertias.append(km.inertia_)\n",
        "    \n",
        "plt.plot(nbr_clusters, inertias, '-o')\n",
        "plt.xticks(np.arange(min(nbr_clusters), max(nbr_clusters)+1, 1.0))\n",
        "plt.title('Elbow method for inertia')\n",
        "plt.xlabel('Number of clusters (k)')\n",
        "plt.ylabel('Inertia')"
      ],
      "execution_count": 31,
      "outputs": [
        {
          "output_type": "execute_result",
          "data": {
            "text/plain": [
              "Text(0, 0.5, 'Inertia')"
            ]
          },
          "metadata": {},
          "execution_count": 31
        },
        {
          "output_type": "display_data",
          "data": {
            "text/plain": [
              "<Figure size 432x288 with 1 Axes>"
            ],
            "image/png": "[encoded data removed]"
          },
          "metadata": {
            "needs_background": "light"
          }
        }
      ]
    },
    {
      "cell_type": "markdown",
      "metadata": {
        "id": "y18tbZw1FVrm"
      },
      "source": [
        "## Hierarchial clustering\n",
        "We're going to use the `AgglomerativeClustering` function provided by the `sklearn` library. This will help us do the hierarchial clustering<br>\n"
      ]
    },
    {
      "cell_type": "code",
      "metadata": {
        "id": "9ZbB48dmGUzf"
      },
      "source": [
        "from sklearn.cluster import AgglomerativeClustering"
      ],
      "execution_count": null,
      "outputs": []
    },
    {
      "cell_type": "markdown",
      "metadata": {
        "id": "lrktWdtpQWCR"
      },
      "source": [
        "Below, we're going to create an instace and fit the model."
      ]
    },
    {
      "cell_type": "code",
      "metadata": {
        "id": "NbpDjYOQGXxw",
        "colab": {
          "base_uri": "https://localhost:8080/"
        },
        "outputId": "a5d9f311-f730-4cc1-b549-bd0114d70068"
      },
      "source": [
        "clustering3 = AgglomerativeClustering(n_clusters=3)\n",
        "clustering3.fit(X)"
      ],
      "execution_count": null,
      "outputs": [
        {
          "output_type": "execute_result",
          "data": {
            "text/plain": [
              "AgglomerativeClustering(n_clusters=3)"
            ]
          },
          "metadata": {},
          "execution_count": 60
        }
      ]
    },
    {
      "cell_type": "markdown",
      "metadata": {
        "id": "RPUE6leXQcFv"
      },
      "source": [
        "Like before, we take a look at the \"reponse\" the model gave us and the original ones."
      ]
    },
    {
      "cell_type": "code",
      "metadata": {
        "id": "jIWdvGIhG7I2",
        "colab": {
          "base_uri": "https://localhost:8080/"
        },
        "outputId": "d8a94e48-81fa-46a6-fb54-ca9e8c802e49"
      },
      "source": [
        "clustering3.labels_"
      ],
      "execution_count": null,
      "outputs": [
        {
          "output_type": "execute_result",
          "data": {
            "text/plain": [
              "array([1, 1, 1, 1, 1, 1, 1, 1, 1, 1, 1, 1, 1, 1, 1, 1, 1, 1, 1, 1, 1, 1,\n",
              "       1, 1, 1, 1, 1, 1, 1, 1, 1, 1, 1, 1, 1, 1, 1, 1, 1, 1, 1, 1, 1, 1,\n",
              "       1, 1, 1, 1, 1, 1, 0, 0, 0, 0, 0, 0, 0, 0, 0, 0, 0, 0, 0, 0, 0, 0,\n",
              "       0, 0, 0, 0, 0, 0, 0, 0, 0, 0, 0, 2, 0, 0, 0, 0, 0, 0, 0, 0, 0, 0,\n",
              "       0, 0, 0, 0, 0, 0, 0, 0, 0, 0, 0, 0, 2, 0, 2, 2, 2, 2, 0, 2, 2, 2,\n",
              "       2, 2, 2, 0, 0, 2, 2, 2, 2, 0, 2, 0, 2, 0, 2, 2, 0, 0, 2, 2, 2, 2,\n",
              "       2, 0, 0, 2, 2, 2, 0, 2, 2, 2, 0, 2, 2, 2, 0, 2, 2, 0])"
            ]
          },
          "metadata": {},
          "execution_count": 61
        }
      ]
    },
    {
      "cell_type": "code",
      "metadata": {
        "id": "j-ddownjHWHM",
        "colab": {
          "base_uri": "https://localhost:8080/"
        },
        "outputId": "65659d6b-fe3a-4a9c-e8f7-4b8cd68ebb88"
      },
      "source": [
        "iris.target"
      ],
      "execution_count": null,
      "outputs": [
        {
          "output_type": "execute_result",
          "data": {
            "text/plain": [
              "array([0, 0, 0, 0, 0, 0, 0, 0, 0, 0, 0, 0, 0, 0, 0, 0, 0, 0, 0, 0, 0, 0,\n",
              "       0, 0, 0, 0, 0, 0, 0, 0, 0, 0, 0, 0, 0, 0, 0, 0, 0, 0, 0, 0, 0, 0,\n",
              "       0, 0, 0, 0, 0, 0, 1, 1, 1, 1, 1, 1, 1, 1, 1, 1, 1, 1, 1, 1, 1, 1,\n",
              "       1, 1, 1, 1, 1, 1, 1, 1, 1, 1, 1, 1, 1, 1, 1, 1, 1, 1, 1, 1, 1, 1,\n",
              "       1, 1, 1, 1, 1, 1, 1, 1, 1, 1, 1, 1, 2, 2, 2, 2, 2, 2, 2, 2, 2, 2,\n",
              "       2, 2, 2, 2, 2, 2, 2, 2, 2, 2, 2, 2, 2, 2, 2, 2, 2, 2, 2, 2, 2, 2,\n",
              "       2, 2, 2, 2, 2, 2, 2, 2, 2, 2, 2, 2, 2, 2, 2, 2, 2, 2])"
            ]
          },
          "metadata": {},
          "execution_count": 62
        }
      ]
    },
    {
      "cell_type": "markdown",
      "metadata": {
        "id": "CT1lZPSUQl_M"
      },
      "source": [
        "As we can see, again, the encoding of our Hierachical clustering is not the same as the original target.<br>\n",
        "In order to compar them, we're going to reorder the `iris.target`.\n",
        "\n",
        "| \"True\" label | \"Model\" label |\n",
        "| :---: | :---: |\n",
        "| 0 | 1 |\n",
        "| 1 | 0 |\n",
        "| 2 | 2 |"
      ]
    },
    {
      "cell_type": "code",
      "metadata": {
        "id": "m7xhIeDRHUvx",
        "colab": {
          "base_uri": "https://localhost:8080/"
        },
        "outputId": "b68f5cbf-a24b-41fb-9827-2bb4cd6df16d"
      },
      "source": [
        "reordered_target= pd.DataFrame(clustering3.labels_, columns=['Predictions']).Predictions.map({1:0, 2:2, 0:1})\n",
        "reordered_target.values"
      ],
      "execution_count": null,
      "outputs": [
        {
          "output_type": "execute_result",
          "data": {
            "text/plain": [
              "array([0, 0, 0, 0, 0, 0, 0, 0, 0, 0, 0, 0, 0, 0, 0, 0, 0, 0, 0, 0, 0, 0,\n",
              "       0, 0, 0, 0, 0, 0, 0, 0, 0, 0, 0, 0, 0, 0, 0, 0, 0, 0, 0, 0, 0, 0,\n",
              "       0, 0, 0, 0, 0, 0, 1, 1, 1, 1, 1, 1, 1, 1, 1, 1, 1, 1, 1, 1, 1, 1,\n",
              "       1, 1, 1, 1, 1, 1, 1, 1, 1, 1, 1, 2, 1, 1, 1, 1, 1, 1, 1, 1, 1, 1,\n",
              "       1, 1, 1, 1, 1, 1, 1, 1, 1, 1, 1, 1, 2, 1, 2, 2, 2, 2, 1, 2, 2, 2,\n",
              "       2, 2, 2, 1, 1, 2, 2, 2, 2, 1, 2, 1, 2, 1, 2, 2, 1, 1, 2, 2, 2, 2,\n",
              "       2, 1, 1, 2, 2, 2, 1, 2, 2, 2, 1, 2, 2, 2, 1, 2, 2, 1])"
            ]
          },
          "metadata": {},
          "execution_count": 73
        }
      ]
    },
    {
      "cell_type": "markdown",
      "metadata": {
        "id": "AxryGoS0Q9op"
      },
      "source": [
        "Here we can see that the final result is the same as the one of the K-means. Therefore, it comes to no surprize that the accuracy is the same."
      ]
    },
    {
      "cell_type": "code",
      "metadata": {
        "id": "iLPWxoiSHJA0",
        "colab": {
          "base_uri": "https://localhost:8080/"
        },
        "outputId": "23fc02ef-cf30-473e-f4dd-9174550f6719"
      },
      "source": [
        "# concatenate the reordered predictions and the original true targets we previously saved as y\n",
        "comparison = pd.concat([reordered_target, y], axis=1)\n",
        "\n",
        "# create new column 'Match' which takes on 1 if predictions=flower type and 0 otherwise\n",
        "comparison.loc[comparison['Predictions'] == comparison['Flower_type'], 'Match'] = 1\n",
        "comparison.loc[comparison['Predictions'] != comparison['Flower_type'], 'Match'] = 0\n",
        "\n",
        "# how accurate are the clustering labels\n",
        "comparison.Match.sum()/comparison.shape[0]"
      ],
      "execution_count": null,
      "outputs": [
        {
          "output_type": "execute_result",
          "data": {
            "text/plain": [
              "0.8933333333333333"
            ]
          },
          "metadata": {},
          "execution_count": 69
        }
      ]
    },
    {
      "cell_type": "markdown",
      "metadata": {
        "id": "KNkGyA6eJ7Sc"
      },
      "source": [
        "## Runtime of both Clustering Types\n",
        "Here we want to see the computation time needed for the **Kmeans** and the **Hierarchial** clusterings.\n",
        "\n",
        "For this we use `%%time` which will provide the computation time.\n",
        "\n"
      ]
    },
    {
      "cell_type": "code",
      "source": [
        "import time"
      ],
      "metadata": {
        "id": "6OirF-g8pNP0"
      },
      "execution_count": null,
      "outputs": []
    },
    {
      "cell_type": "code",
      "source": [
        "start = time.time()\n",
        "clustering3 = AgglomerativeClustering(n_clusters=3)\n",
        "clustering3.fit(X)\n",
        "end = time.time()\n",
        "print('Time: ', round(end-start, 4))"
      ],
      "metadata": {
        "id": "Lfmj_hBwpPFU",
        "outputId": "20b3f8c0-c79b-43e2-87f1-d96ff6d5a797",
        "colab": {
          "base_uri": "https://localhost:8080/"
        }
      },
      "execution_count": null,
      "outputs": [
        {
          "output_type": "stream",
          "name": "stdout",
          "text": [
            "Time:  0.0081\n"
          ]
        }
      ]
    },
    {
      "cell_type": "code",
      "source": [
        "start = time.time()\n",
        "model3=KMeans(n_clusters=3)\n",
        "model3.fit(X)\n",
        "end = time.time()\n",
        "print('Time: ', round(end-start, 4))"
      ],
      "metadata": {
        "id": "_Fx74TAGpZIK",
        "outputId": "9a076e73-2c89-4e58-a769-1501d1079ff7",
        "colab": {
          "base_uri": "https://localhost:8080/"
        }
      },
      "execution_count": null,
      "outputs": [
        {
          "output_type": "stream",
          "name": "stdout",
          "text": [
            "Time:  0.1885\n"
          ]
        }
      ]
    },
    {
      "cell_type": "markdown",
      "metadata": {
        "id": "X5N1b2aNfT-q"
      },
      "source": [
        "**Note:** This dataset is small (150 observations), which is why KMeans takes longer than hierarchical clustering. However, generally, hierarchical clustering takes much longer than KMeans, which you will experience in the exercise."
      ]
    },
    {
      "cell_type": "markdown",
      "metadata": {
        "id": "xuS9ADQNLQEJ"
      },
      "source": [
        "###Dendogram visualization\n",
        "\n",
        "In this section, we're going to present a simple way to create a **Dendogram**.<br>\n",
        "To do it, we're going to use the `scipy.cluster.hierarchy` library. In this library, we're going to use: \n",
        "\n",
        "\n",
        "*   `dendogram`: It allow us to plot the dendogram.\n",
        "*   `linkage`: It allows us to specify the type of linkage between the cluster. \n",
        "\n",
        "<img src='https://scikit-learn.org/stable/_images/sphx_glr_plot_linkage_comparison_001.png' width=\"500\">\n",
        "\n"
      ]
    },
    {
      "cell_type": "code",
      "metadata": {
        "id": "CAGoQ-4MLWqp"
      },
      "source": [
        "from scipy.cluster.hierarchy import dendrogram, linkage #hierarchical clustering"
      ],
      "execution_count": null,
      "outputs": []
    },
    {
      "cell_type": "code",
      "metadata": {
        "id": "GUIALNDYLZqp",
        "colab": {
          "base_uri": "https://localhost:8080/",
          "height": 472
        },
        "outputId": "e9464b43-ec2f-401e-f9ba-f96d88c9e427"
      },
      "source": [
        "# Single linkage\n",
        "\n",
        "plt.figure(figsize=(13, 7))\n",
        "plt.title('Hierarchical Clustering Dendrogram (Single Linkage)', fontsize=20)\n",
        "plt.xlabel('Number of points in node (or index of point if no parenthesis)', fontsize=20)\n",
        "plt.ylabel('distance', fontsize=20)\n",
        "\n",
        "Z = linkage(X,'single') #Provide the type of linkage we want.\n",
        "dendrogram(Z) #compute the dendogram according the linkage\n",
        "\n",
        "plt.show()"
      ],
      "execution_count": null,
      "outputs": [
        {
          "output_type": "display_data",
          "data": {
            "text/plain": [
              "<Figure size 936x504 with 1 Axes>"
            ],
            "image/png": "[encoded data removed]"
          },
          "metadata": {
            "needs_background": "light"
          }
        }
      ]
    },
    {
      "cell_type": "markdown",
      "metadata": {
        "id": "ON6qcf_BUK3M"
      },
      "source": [
        "###Exercise\n",
        "Plot the 3 other types of linkages and look at what is changing."
      ]
    },
    {
      "cell_type": "code",
      "metadata": {
        "id": "0kl200ZKTH9s"
      },
      "source": [
        "# Average linkage\n",
        "\n",
        "plt.figure(figsize=(13, 7))\n",
        "plt.title('Hierarchical Clustering Dendrogram (Average Linkage)', fontsize=20)\n",
        "plt.xlabel('Number of points in node (or index of point if no parenthesis)', fontsize=20)\n",
        "plt.ylabel('distance', fontsize=20)\n",
        "\n",
        "Z = linkage(X,'...') #ADD YOUR CODE INSTEAD OF ...\n",
        "dendrogram(Z)\n",
        "\n",
        "plt.show()"
      ],
      "execution_count": null,
      "outputs": []
    },
    {
      "cell_type": "code",
      "metadata": {
        "id": "9Jchw80e7gh2"
      },
      "source": [
        "# Complete linkage\n",
        "\n",
        "plt.figure(figsize=(13, 7))\n",
        "plt.title('Hierarchical Clustering Dendrogram (Complete Linkage)', fontsize=20)\n",
        "plt.xlabel('Number of points in node (or index of point if no parenthesis)', fontsize=20)\n",
        "plt.ylabel('distance', fontsize=20)\n",
        "\n",
        "Z = linkage(X,'...') #ADD YOUR CODE INSTEAD OF ...\n",
        "dendrogram(Z)\n",
        "\n",
        "plt.show()"
      ],
      "execution_count": null,
      "outputs": []
    },
    {
      "cell_type": "code",
      "metadata": {
        "id": "nGym--7L7jBB"
      },
      "source": [
        "# Ward linkage\n",
        "\n",
        "plt.figure(figsize=(13, 7))\n",
        "plt.title('Hierarchical Clustering Dendrogram (Ward Linkage)', fontsize=20)\n",
        "plt.xlabel('Number of points in node (or index of point if no parenthesis)', fontsize=20)\n",
        "plt.ylabel('distance', fontsize=20)\n",
        "\n",
        "Z = linkage(X,'...') #ADD YOUR CODE INSTEAD OF ...\n",
        "dendrogram(Z)\n",
        "\n",
        "plt.show()"
      ],
      "execution_count": null,
      "outputs": []
    }
  ]
}