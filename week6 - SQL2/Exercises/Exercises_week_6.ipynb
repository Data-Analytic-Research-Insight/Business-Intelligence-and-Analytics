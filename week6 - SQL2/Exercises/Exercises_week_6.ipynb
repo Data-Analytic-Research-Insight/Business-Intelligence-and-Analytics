{
  "nbformat": 4,
  "nbformat_minor": 0,
  "metadata": {
    "kernelspec": {
      "display_name": "Python 3",
      "language": "python",
      "name": "python3"
    },
    "language_info": {
      "codemirror_mode": {
        "name": "ipython",
        "version": 3
      },
      "file_extension": ".py",
      "mimetype": "text/x-python",
      "name": "python",
      "nbconvert_exporter": "python",
      "pygments_lexer": "ipython3",
      "version": "3.6.7"
    },
    "colab": {
      "name": "Exercises week 6",
      "provenance": [],
      "collapsed_sections": [
        "v1dXQKXu8WTv",
        "i1uXCjq68WUJ"
      ],
      "include_colab_link": true
    },
    "nteract": {
      "version": "0.22.0"
    }
  },
  "cells": [
    {
      "cell_type": "markdown",
      "metadata": {
        "id": "view-in-github",
        "colab_type": "text"
      },
      "source": [
        "<a href=\"https://colab.research.google.com/github/michalis0/Business-Intelligence-and-Analytics/blob/master/week6%20-%20SQL2/Exercises/Exercises_week_6.ipynb\" target=\"_parent\"><img src=\"https://colab.research.google.com/assets/colab-badge.svg\" alt=\"Open In Colab\"/></a>"
      ]
    },
    {
      "cell_type": "markdown",
      "metadata": {
        "id": "Ow3xcCbn8WSO"
      },
      "source": [
        "# Lab SQL and Python"
      ]
    },
    {
      "cell_type": "code",
      "metadata": {
        "id": "QDym0OMZ30rN"
      },
      "source": [
        "# Example how to read from Python\n",
        "import pandas as pd\n",
        "from sqlalchemy import create_engine\n",
        "import seaborn as sns\n",
        "import matplotlib\n",
        "import matplotlib.pyplot as plt\n",
        "%matplotlib inline\n",
        "\n",
        "# create the database\n",
        "db = create_engine('sqlite://', echo=False)\n",
        "\n",
        "# first table\n",
        "csvfile = 'https://raw.githubusercontent.com/michalis0/Business-Intelligence-and-Analytics/master/week6%20-%20SQL2/data/Players.csv'\n",
        "df = pd.read_csv(csvfile)\n",
        "table_name = \"Players\"\n",
        "df.to_sql(table_name, con=db) # populate it with the data\n",
        "\n",
        "# second table\n",
        "csvfile = 'https://raw.githubusercontent.com/michalis0/Business-Intelligence-and-Analytics/master/week6%20-%20SQL2/data/Teams.csv'\n",
        "df = pd.read_csv(csvfile)\n",
        "table_name = \"Teams\"\n",
        "df.to_sql(table_name, con=db) # populate it with the data\n",
        "\n"
      ],
      "execution_count": null,
      "outputs": []
    },
    {
      "cell_type": "markdown",
      "metadata": {
        "id": "H2Ea0LTO8WSe"
      },
      "source": [
        "### <font color = 'green'>World Cup Data</font>"
      ]
    },
    {
      "cell_type": "markdown",
      "metadata": {
        "id": "meZCn5os8WSu"
      },
      "source": [
        "#### Take a look at a sample of the Players and Teams tables"
      ]
    },
    {
      "cell_type": "code",
      "metadata": {
        "id": "meh70hNH8WSx"
      },
      "source": [
        "query = \"\n",
        "\"\n",
        "sql_df = pd.read_sql(query, con=db)\n",
        "sql_df"
      ],
      "execution_count": null,
      "outputs": []
    },
    {
      "cell_type": "code",
      "metadata": {
        "id": "flnoKz4U8WS6"
      },
      "source": [
        "query = \"\n",
        "\"\n",
        "sql_df = pd.read_sql(query, con=db)\n",
        "sql_df"
      ],
      "execution_count": null,
      "outputs": []
    },
    {
      "cell_type": "markdown",
      "metadata": {
        "id": "v1dXQKXu8WTv"
      },
      "source": [
        "## <font color = 'green'>World Cup Advanced Queries</font>"
      ]
    },
    {
      "cell_type": "markdown",
      "metadata": {
        "id": "js1aBftZ8WTy"
      },
      "source": [
        "### Question 1\n",
        "\n",
        "Find all pairs of teams who have the same number of `goalsFor` against\n",
        "each other and the same number of `goalsAgainst` against each other.\n",
        "Return the teams and numbers of goalsFor and goalsAgainst.\n",
        "Make sure to return each pair only once.\n",
        "\n",
        "__Hint: You basically need to do a self join of the Teams table. For that you need to join different name aliases of the Teams table. checkout [here](https://www.w3schools.com/sql/sql_join_self.asp) for help.__"
      ]
    },
    {
      "cell_type": "code",
      "metadata": {
        "id": "LzpO1c3V8WTz"
      },
      "source": [
        "query = \"\"\"\n",
        "\n",
        "\"\"\"\n",
        "sql_df = pd.read_sql(query, con=db)\n",
        "sql_df\n"
      ],
      "execution_count": null,
      "outputs": []
    },
    {
      "cell_type": "markdown",
      "metadata": {
        "id": "g9QX2Jie8WT4"
      },
      "source": [
        "### Question 2\n",
        "Find all teams with ranking <30 where no player made more than 150 passes. Return the team and ranking.\n",
        "\n",
        "__Hint: use HAVING clause (documentation [here](https://www.w3schools.com/sql/sql_having.asp))__"
      ]
    },
    {
      "cell_type": "code",
      "metadata": {
        "id": "xPOBexhd8WT4"
      },
      "source": [
        "query = \"\"\"\n",
        "\n",
        "\"\"\"\n",
        "sql_df = pd.read_sql(query, con=db)\n",
        "sql_df"
      ],
      "execution_count": null,
      "outputs": []
    },
    {
      "cell_type": "markdown",
      "metadata": {
        "id": "NbJzKIm98WT7"
      },
      "source": [
        "### Question 3\n",
        "Which team has the highest ratio of `goalsFor` to `goalsAgainst`?"
      ]
    },
    {
      "cell_type": "code",
      "metadata": {
        "id": "Bi2SUQgM8WT8"
      },
      "source": [
        "query = \"\"\"\n",
        "\n",
        "\"\"\"\n",
        "sql_df = pd.read_sql(query, con=db)\n",
        "sql_df"
      ],
      "execution_count": null,
      "outputs": []
    },
    {
      "cell_type": "markdown",
      "metadata": {
        "id": "u_7fplnQ8WT-"
      },
      "source": [
        "### Question 4\n",
        "Find all teams whose defenders averaged more than 150 passes. Return the team and average number of passes by defenders, in descending order of average passes.\n",
        "\n",
        "__Hint: again you may use the HAVING clause here__"
      ]
    },
    {
      "cell_type": "code",
      "metadata": {
        "id": "qOapic7E8WT_"
      },
      "source": [
        "query = \"\"\"\n",
        "\n",
        "\"\"\"\n",
        "sql_df = pd.read_sql(query, con=db)\n",
        "sql_df"
      ],
      "execution_count": null,
      "outputs": []
    },
    {
      "cell_type": "markdown",
      "metadata": {
        "id": "DWtBlt4jPgVZ"
      },
      "source": [
        "## <font color = 'green'>World Cup Basic Queries and Python</font>"
      ]
    },
    {
      "cell_type": "markdown",
      "metadata": {
        "id": "7_-A-UimMRfY"
      },
      "source": [
        "### Question 1\n",
        "Use seaborn to find if their is a correlation for players between: `minutes`,`shots`, `minutes`,`passes`, `tackles`. "
      ]
    },
    {
      "cell_type": "code",
      "metadata": {
        "id": "-N7apE4INhhz"
      },
      "source": [
        "#hints: you need to do a query and have a look at the last plot of the:\"walkthroughs week 3 BIA\" \n",
        "query = \"\n",
        "\"\n",
        "sql_df = pd.read_sql(query, con=db)\n",
        "sql_df\n",
        "g = sns.PairGrid(sql_df, vars=[],\n",
        "                 palette='pale red')\n",
        "g.map(plt.scatter, alpha=0.2)\n",
        "plt.subplots_adjust(top=0.9)\n",
        "g.fig.suptitle('PairGrid to find a possible correlation', size=24)\n",
        "g.add_legend();\n",
        "\n",
        "sql_df.corr(method='pearson')"
      ],
      "execution_count": null,
      "outputs": []
    },
    {
      "cell_type": "markdown",
      "metadata": {
        "collapsed": true,
        "id": "aLralf658WTb"
      },
      "source": [
        "###Question 2\n",
        "Find the goalkeepers of teams that played more than four games. List the surname of the goalkeeper, the team, and the number of minutes the goalkeeper played.\n",
        "\n",
        "**Hint: You should join the two tables**"
      ]
    },
    {
      "cell_type": "code",
      "metadata": {
        "id": "AMRLCwdh8WTc"
      },
      "source": [
        "query = \"\"\"\n",
        "\n",
        "\"\"\"\n",
        "sql_df = pd.read_sql(query, con=db)\n",
        "sql_df"
      ],
      "execution_count": null,
      "outputs": []
    },
    {
      "cell_type": "code",
      "metadata": {
        "id": "AzBzw9jFpxFd"
      },
      "source": [
        "fig = plt.gcf() #the aera of the plt figure\n",
        "fig.set_size_inches(16, 12) #resize the figure\n",
        "ax = sns.barplot(x=\"\", y=\"\", data=sql_df)\n",
        "plt.show() "
      ],
      "execution_count": null,
      "outputs": []
    },
    {
      "cell_type": "markdown",
      "metadata": {
        "id": "as0Jh2YK8WTF"
      },
      "source": [
        "\n",
        "## <font color = 'green'>World Cup Basic Queries</font>"
      ]
    },
    {
      "cell_type": "markdown",
      "metadata": {
        "collapsed": true,
        "id": "C4zdhp2c8WTG"
      },
      "source": [
        "### Question 1\n",
        "What player on a team with “ia” in the team name played less than 200 minutes and made more than 100 passes? Return the player surname and team. \n",
        "\n",
        "**Hint: To check if attribute A contains string S use \\\"A like '%S%'\"**"
      ]
    },
    {
      "cell_type": "code",
      "metadata": {
        "id": "6K_kIn3b8WTK"
      },
      "source": [
        "query = \"\"\"\n",
        "\n",
        "\"\"\"\n",
        "sql_df = pd.read_sql(query, con=db)\n",
        "sql_df"
      ],
      "execution_count": null,
      "outputs": []
    },
    {
      "cell_type": "markdown",
      "metadata": {
        "id": "CY78pmNuN5Xy"
      },
      "source": [
        "###Question 2\n",
        "Return players names, their teams and the ranking of their team."
      ]
    },
    {
      "cell_type": "code",
      "metadata": {
        "id": "6ybE3EuhOgSZ"
      },
      "source": [
        "query = \"\"\"\n",
        "\n",
        "\"\"\"\n",
        "sql_df = pd.read_sql(query, con=db)\n",
        "sql_df"
      ],
      "execution_count": null,
      "outputs": []
    },
    {
      "cell_type": "markdown",
      "metadata": {
        "id": "d5ERHVSsOkEJ"
      },
      "source": [
        "###Question 3\n",
        "Find all pairs of teams who have scored (`goalsFor`) and received (`goalsAgainst`) the same number of goals. We want only 1 instance for every pair of countries (i.e the pair Italy Mexico should appear only once)\n"
      ]
    },
    {
      "cell_type": "code",
      "metadata": {
        "id": "fP1m0CRWOxZQ"
      },
      "source": [
        "query = \"\"\"\n",
        "\n",
        "\"\"\"\n",
        "sql_df = pd.read_sql(query, con=db)\n",
        "sql_df"
      ],
      "execution_count": null,
      "outputs": []
    },
    {
      "cell_type": "markdown",
      "metadata": {
        "id": "j6jGph9pO8Vu"
      },
      "source": [
        "### Question 4\n",
        "\n",
        "For all countries participating in the 2010 World Cup, if available, select all past world cup years in which they have won. \n",
        "\n",
        "\n",
        "__Hint: Use a Left Join."
      ]
    },
    {
      "cell_type": "code",
      "metadata": {
        "id": "VdbzD4fRPEml"
      },
      "source": [
        "query = \"\"\"\n",
        "\n",
        "\"\"\"\n",
        "sql_df = pd.read_sql(query, con=db)\n",
        "sql_df"
      ],
      "execution_count": null,
      "outputs": []
    },
    {
      "cell_type": "markdown",
      "metadata": {
        "collapsed": true,
        "id": "vRT0J7sY8WTh"
      },
      "source": [
        "### Question 5\n",
        "How many players who play on a team with ranking <10 played more than 350 minutes? Return one number in a column named 'superstar'.*\n",
        "\n",
        "__Hint: use \"SELECT ... AS new_col_name\" to rename a column__"
      ]
    },
    {
      "cell_type": "code",
      "metadata": {
        "id": "hSseV7oi8WTi"
      },
      "source": [
        "query = \"\"\"\n",
        "\n",
        "\"\"\"\n",
        "sql_df = pd.read_sql(query, con=db)\n",
        "sql_df"
      ],
      "execution_count": null,
      "outputs": []
    },
    {
      "cell_type": "markdown",
      "metadata": {
        "collapsed": true,
        "id": "DZlTul358WTl"
      },
      "source": [
        "### Question 6\n",
        "What is the average number of passes made by forwards? By midfielders? Write one query that returns both values with the corresponding position.\n",
        "\n",
        "__Hint: use the GROUP BY clause__\n",
        "\n",
        "__Hint: when selecting columns you can use AVG, SUM or COUNT clauses to calculate aggregates__"
      ]
    },
    {
      "cell_type": "code",
      "metadata": {
        "id": "76mZ7BVJ8WTm"
      },
      "source": [
        "query = \"\"\"\n",
        "\n",
        "\"\"\"\n",
        "sql_df = pd.read_sql(query, con=db)\n",
        "sql_df"
      ],
      "execution_count": null,
      "outputs": []
    },
    {
      "cell_type": "markdown",
      "metadata": {
        "collapsed": true,
        "id": "4gNjdG4H8WTR"
      },
      "source": [
        "### Question 7\n",
        " Find all players who made more than 20 shots. Return all player information in descending order of shots made.\n",
        "\n",
        "**Hint: SQL ordering syntax: \"ORDER BY column1, column2,... ASC|DESC\\\"**"
      ]
    },
    {
      "cell_type": "code",
      "metadata": {
        "id": "wmYeLAw68WTU"
      },
      "source": [
        "query = \"\"\"\n",
        "\n",
        "\"\"\"\n",
        "sql_df = pd.read_sql(query, con=db)\n",
        "sql_df"
      ],
      "execution_count": null,
      "outputs": []
    },
    {
      "cell_type": "markdown",
      "metadata": {
        "collapsed": true,
        "id": "pLjyR6wh8WTo"
      },
      "source": [
        "###Question 8\n",
        "Which team has the highest average number of passes per minute played? Return the team and average passes per minute.\n",
        "\n",
        "**Hint 1: You can compute a team's average number of passes per minute played by dividing the total number of passes by the total number of minutes. To force floating point division, multiply one operand by 1.0.**\n",
        "\n",
        "**Hint 2: Consider using Limit.**"
      ]
    },
    {
      "cell_type": "code",
      "metadata": {
        "id": "7ApyOn9N8WTq"
      },
      "source": [
        "query = \"\"\"\n",
        "\n",
        "\"\"\"\n",
        "sql_df = pd.read_sql(query, con=db)\n",
        "sql_df"
      ],
      "execution_count": null,
      "outputs": []
    }
  ]
}