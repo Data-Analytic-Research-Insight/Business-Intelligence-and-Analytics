{
  "nbformat": 4,
  "nbformat_minor": 0,
  "metadata": {
    "colab": {
      "name": "Walkthrough_Classification_2_.ipynb",
      "provenance": [],
      "include_colab_link": true
    },
    "kernelspec": {
      "display_name": "Python 3",
      "language": "python",
      "name": "python3"
    },
    "language_info": {
      "codemirror_mode": {
        "name": "ipython",
        "version": 3
      },
      "file_extension": ".py",
      "mimetype": "text/x-python",
      "name": "python",
      "nbconvert_exporter": "python",
      "pygments_lexer": "ipython3",
      "version": "3.6.9"
    }
  },
  "cells": [
    {
      "cell_type": "markdown",
      "metadata": {
        "id": "view-in-github",
        "colab_type": "text"
      },
      "source": [
        "<a href=\"https://colab.research.google.com/github/michalis0/Business-Intelligence-and-Analytics/blob/master/week12%20-%20Classification2/Walkthrough/Walkthrough_Classification2.ipynb\" target=\"_parent\"><img src=\"https://colab.research.google.com/assets/colab-badge.svg\" alt=\"Open In Colab\"/></a>"
      ]
    },
    {
      "cell_type": "markdown",
      "metadata": {
        "id": "yqS3Z6AtqrmH"
      },
      "source": [
        "# Classification\n",
        "\n",
        "For classification we can use different algorithms, for example: \n",
        "- Logisitic regression (seen last week)\n",
        "- K-Nearest Neighbours\n",
        "- Decision Tree\n",
        "- Random Forest\n",
        "- Gradient Descent\n",
        "- etc. \n",
        "\n",
        "This week we will cover **K-Nearest Neighbours** and **Decision Trees**.\n",
        "\n",
        "\n"
      ]
    },
    {
      "cell_type": "markdown",
      "metadata": {
        "id": "kPrU-9xrG0vz"
      },
      "source": [
        "For the walkthrough we will use a dataset with *fruits*  and show two new classification algorithms. Independently on which algorithm we use, we need to: \n",
        "- Load our dataset\n",
        "- Define our dependent and independent variables\n",
        "- Split our dataset into train and test subsets\n",
        "- Normalize our dataset\n",
        "- Create the model (regression, KNN, decision tree, ...)\n",
        "- Train our model \n",
        "- Check the accuracy"
      ]
    },
    {
      "cell_type": "code",
      "metadata": {
        "id": "rjbMSebFfy3F",
        "colab": {
          "base_uri": "https://localhost:8080/",
          "height": 204
        },
        "outputId": "f9b9a81f-b74c-48e5-f1cf-de7e32669714"
      },
      "source": [
        "#Load dataset\n",
        "%matplotlib inline\n",
        "import pandas as pd\n",
        "import matplotlib.pyplot as plt\n",
        "url = 'https://raw.githubusercontent.com/michalis0/Business-Intelligence-and-Analytics/master/data/Fruits.csv'\n",
        "fruits = pd.read_csv(url,sep=\";\")\n",
        "fruits.head()"
      ],
      "execution_count": null,
      "outputs": [
        {
          "output_type": "execute_result",
          "data": {
            "text/html": [
              "<div>\n",
              "<style scoped>\n",
              "    .dataframe tbody tr th:only-of-type {\n",
              "        vertical-align: middle;\n",
              "    }\n",
              "\n",
              "    .dataframe tbody tr th {\n",
              "        vertical-align: top;\n",
              "    }\n",
              "\n",
              "    .dataframe thead th {\n",
              "        text-align: right;\n",
              "    }\n",
              "</style>\n",
              "<table border=\"1\" class=\"dataframe\">\n",
              "  <thead>\n",
              "    <tr style=\"text-align: right;\">\n",
              "      <th></th>\n",
              "      <th>fruit_label</th>\n",
              "      <th>fruit_name</th>\n",
              "      <th>fruit_subtype</th>\n",
              "      <th>mass</th>\n",
              "      <th>width</th>\n",
              "      <th>height</th>\n",
              "      <th>color_score</th>\n",
              "    </tr>\n",
              "  </thead>\n",
              "  <tbody>\n",
              "    <tr>\n",
              "      <th>0</th>\n",
              "      <td>1</td>\n",
              "      <td>apple</td>\n",
              "      <td>granny_smith</td>\n",
              "      <td>192</td>\n",
              "      <td>8.4</td>\n",
              "      <td>7.3</td>\n",
              "      <td>0.55</td>\n",
              "    </tr>\n",
              "    <tr>\n",
              "      <th>1</th>\n",
              "      <td>1</td>\n",
              "      <td>apple</td>\n",
              "      <td>granny_smith</td>\n",
              "      <td>180</td>\n",
              "      <td>8.0</td>\n",
              "      <td>6.8</td>\n",
              "      <td>0.59</td>\n",
              "    </tr>\n",
              "    <tr>\n",
              "      <th>2</th>\n",
              "      <td>1</td>\n",
              "      <td>apple</td>\n",
              "      <td>granny_smith</td>\n",
              "      <td>176</td>\n",
              "      <td>7.4</td>\n",
              "      <td>7.2</td>\n",
              "      <td>0.60</td>\n",
              "    </tr>\n",
              "    <tr>\n",
              "      <th>3</th>\n",
              "      <td>1</td>\n",
              "      <td>apple</td>\n",
              "      <td>braeburn</td>\n",
              "      <td>178</td>\n",
              "      <td>7.1</td>\n",
              "      <td>7.8</td>\n",
              "      <td>0.92</td>\n",
              "    </tr>\n",
              "    <tr>\n",
              "      <th>4</th>\n",
              "      <td>1</td>\n",
              "      <td>apple</td>\n",
              "      <td>braeburn</td>\n",
              "      <td>172</td>\n",
              "      <td>7.4</td>\n",
              "      <td>7.0</td>\n",
              "      <td>0.89</td>\n",
              "    </tr>\n",
              "  </tbody>\n",
              "</table>\n",
              "</div>"
            ],
            "text/plain": [
              "   fruit_label fruit_name fruit_subtype  mass  width  height  color_score\n",
              "0            1      apple  granny_smith   192    8.4     7.3         0.55\n",
              "1            1      apple  granny_smith   180    8.0     6.8         0.59\n",
              "2            1      apple  granny_smith   176    7.4     7.2         0.60\n",
              "3            1      apple      braeburn   178    7.1     7.8         0.92\n",
              "4            1      apple      braeburn   172    7.4     7.0         0.89"
            ]
          },
          "metadata": {
            "tags": []
          },
          "execution_count": 32
        }
      ]
    },
    {
      "cell_type": "markdown",
      "metadata": {
        "id": "AXFyix9yf-6A"
      },
      "source": [
        "Here, we want to predict the class (`fruit label`) using other features.\n",
        "\n"
      ]
    },
    {
      "cell_type": "code",
      "metadata": {
        "id": "TO_08h8zl3Wm"
      },
      "source": [
        "#Define features and target variable\n",
        "features = ['mass', 'width', 'height', 'color_score']\n",
        "X = fruits[features]\n",
        "y = fruits['fruit_label']"
      ],
      "execution_count": null,
      "outputs": []
    },
    {
      "cell_type": "markdown",
      "metadata": {
        "id": "dK_lptPte5pu"
      },
      "source": [
        "Let's see the different classes"
      ]
    },
    {
      "cell_type": "code",
      "metadata": {
        "id": "fe_eDCBIe5pv",
        "colab": {
          "base_uri": "https://localhost:8080/"
        },
        "outputId": "2c578188-bcba-4698-d393-11a54f88c252"
      },
      "source": [
        "print(fruits['fruit_name'].unique())"
      ],
      "execution_count": null,
      "outputs": [
        {
          "output_type": "stream",
          "text": [
            "['apple' 'orange']\n"
          ],
          "name": "stdout"
        }
      ]
    },
    {
      "cell_type": "markdown",
      "metadata": {
        "id": "AkF9wmujkOmZ"
      },
      "source": [
        "### 1. Split into Train and Test Set\n",
        " \n",
        "The data is split randomly into train and test subsets. The training set contains a known output and the model learns on this data in order to be generalized to other data later on. We use the test set in order to test our prediction on this subset.\n"
      ]
    },
    {
      "cell_type": "code",
      "metadata": {
        "id": "SFVvnrRyvkr0"
      },
      "source": [
        ""
      ],
      "execution_count": null,
      "outputs": []
    },
    {
      "cell_type": "code",
      "metadata": {
        "id": "0KxeLYcbf0wx"
      },
      "source": [
        "#Split data set into a train and a test data sets\n",
        "from sklearn.model_selection import train_test_split\n",
        "X_train, X_test, y_train, y_test = train_test_split(X, y, random_state=0)"
      ],
      "execution_count": null,
      "outputs": []
    },
    {
      "cell_type": "markdown",
      "metadata": {
        "id": "oWsiJT07Gt7c"
      },
      "source": [
        "### (2. Normalization) This step is not necessary since no feature normalization or scaling typically needed\n",
        "\n",
        "When we have a dataset with features that have very distinct ranges (for example one feature where the age is between 0 and 99 year and another feature being the income ranging from 1'000CHF to 200'000CHF), we might get biaised results. We want the features to be in the same or similar ranges. Therefore, we **normalize** the data. It involves scaling all values for a specific feature given attribute so that they fall within a small specified range.\n",
        "We can use the *StandardScaler()*, the *MinMaxScaler* () or other scalers for the normalization.\n",
        "<br>\n",
        "\n",
        "In our example we will normalize our **train AND test set** using the MinMaxScaler.\n",
        "\n",
        "**IMPORTANT**: When you normalize the train set, you need to do the same modificaiton (here normalization) to the test set. "
      ]
    },
    {
      "cell_type": "code",
      "metadata": {
        "id": "xVOubyMJ7-HX",
        "colab": {
          "base_uri": "https://localhost:8080/"
        },
        "outputId": "fdd7e71f-594d-47a1-c4bd-092487a32a52"
      },
      "source": [
        "#Define normalization \n",
        "from sklearn.preprocessing import MinMaxScaler\n",
        "scaler = MinMaxScaler()\n",
        "scaler.fit(X_train, y_train)"
      ],
      "execution_count": null,
      "outputs": [
        {
          "output_type": "execute_result",
          "data": {
            "text/plain": [
              "MinMaxScaler(copy=True, feature_range=(0, 1))"
            ]
          },
          "metadata": {
            "tags": []
          },
          "execution_count": 36
        }
      ]
    },
    {
      "cell_type": "code",
      "metadata": {
        "id": "1xFGLVl2lSD6"
      },
      "source": [
        "#Apply normalization\n",
        "X_train = scaler.transform(X_train)\n",
        "X_test = scaler.transform(X_test)"
      ],
      "execution_count": null,
      "outputs": []
    },
    {
      "cell_type": "markdown",
      "metadata": {
        "id": "y3Sd10_7HXd8"
      },
      "source": [
        "### 3. K-Nearest Neighbor\n",
        "\n",
        "The KNN algorithm classifies new examples considering the most represented class among the K nearest neighbors in the hyperspace. This means that if k = 1, the object is simply assigned to the class of the single nearest neighbor. If k = 5, then the classification of the object will be based on a majority vote of the 5 nearest datapoints. It is simple to implement, robust to noisy training set, and effective if the training set is large. Nevertheless, we need to determine the value of K and the computation cost is high as it needs to compute the distance of each instance to all the training samples. <br>\n",
        "\n",
        "As seen before, we will first need to create our model. We will build the model from the **training set**. We have already split our dataset into **test** and **trainig sets**. \n",
        "\n",
        "Here we need to specify **how many neighbors** are to be considered in the classification when creating the model. "
      ]
    },
    {
      "cell_type": "code",
      "metadata": {
        "id": "F73BSCQVlVx7"
      },
      "source": [
        "#Create model with K=10\n",
        "from sklearn.neighbors import KNeighborsClassifier\n",
        "model = KNeighborsClassifier(10)"
      ],
      "execution_count": null,
      "outputs": []
    },
    {
      "cell_type": "code",
      "metadata": {
        "id": "EAKdFLlPmcUF",
        "colab": {
          "base_uri": "https://localhost:8080/"
        },
        "outputId": "36c646e8-5393-4610-ebb0-c30978f65fd4"
      },
      "source": [
        "#Fit model\n",
        "model.fit(X_train, y_train)"
      ],
      "execution_count": null,
      "outputs": [
        {
          "output_type": "execute_result",
          "data": {
            "text/plain": [
              "KNeighborsClassifier(algorithm='auto', leaf_size=30, metric='minkowski',\n",
              "                     metric_params=None, n_jobs=None, n_neighbors=10, p=2,\n",
              "                     weights='uniform')"
            ]
          },
          "metadata": {
            "tags": []
          },
          "execution_count": 39
        }
      ]
    },
    {
      "cell_type": "code",
      "metadata": {
        "id": "c9yJCqcll9lo",
        "colab": {
          "base_uri": "https://localhost:8080/"
        },
        "outputId": "ab75483c-3950-413b-d0cb-e12551e52b22"
      },
      "source": [
        "#Use model on test and check accuracy\n",
        "print('Accuracy of KNN classifier on training set: {:.2f}'\n",
        "     .format(model.score(X_train, y_train)))\n",
        "print('Accuracy of KNN classifier on test set: {:.2f}'\n",
        "     .format(model.score(X_test, y_test)))"
      ],
      "execution_count": null,
      "outputs": [
        {
          "output_type": "stream",
          "text": [
            "Accuracy of KNN classifier on training set: 0.86\n",
            "Accuracy of KNN classifier on test set: 0.80\n"
          ],
          "name": "stdout"
        }
      ]
    },
    {
      "cell_type": "markdown",
      "metadata": {
        "id": "uBZSIihRKCEg"
      },
      "source": [
        "We chose k = 10 arbitrarily, maybe we can have a better accuracy with another number. Similarly we could change other parameters. Let's try with a different **weight** which gives less importance to far away points and to **p** to change the way we compute distance between 2 points [See here for information on p-norm](https://en.wikipedia.org/wiki/Minkowski_distance). Let's try for different values."
      ]
    },
    {
      "cell_type": "code",
      "metadata": {
        "id": "8IIGWzoTLAqQ",
        "colab": {
          "base_uri": "https://localhost:8080/"
        },
        "outputId": "25ae5d26-0b66-4b04-ad3f-d80b49d93953"
      },
      "source": [
        "n_neighbors = [2,3,4,5]\n",
        "p_values = [1,2,3]\n",
        "weights = ['uniform', 'distance']\n",
        "for n in n_neighbors:\n",
        "    for p in p_values:\n",
        "        for w in weights:\n",
        "            model = KNeighborsClassifier(n_neighbors=n, p=p, weights=w)\n",
        "            model.fit(X_train, y_train)\n",
        "            print(\"accuracy for k = \" + str(n) + \", p = \" + str(p) + \", weight = \" + w + \" : \" + str(model.score(X_test, y_test)))"
      ],
      "execution_count": null,
      "outputs": [
        {
          "output_type": "stream",
          "text": [
            "accuracy for k = 2, p = 1, weight = uniform : 1.0\n",
            "accuracy for k = 2, p = 1, weight = distance : 1.0\n",
            "accuracy for k = 2, p = 2, weight = uniform : 0.8\n",
            "accuracy for k = 2, p = 2, weight = distance : 0.9\n",
            "accuracy for k = 2, p = 3, weight = uniform : 0.8\n",
            "accuracy for k = 2, p = 3, weight = distance : 0.9\n",
            "accuracy for k = 3, p = 1, weight = uniform : 1.0\n",
            "accuracy for k = 3, p = 1, weight = distance : 1.0\n",
            "accuracy for k = 3, p = 2, weight = uniform : 1.0\n",
            "accuracy for k = 3, p = 2, weight = distance : 1.0\n",
            "accuracy for k = 3, p = 3, weight = uniform : 0.9\n",
            "accuracy for k = 3, p = 3, weight = distance : 0.9\n",
            "accuracy for k = 4, p = 1, weight = uniform : 1.0\n",
            "accuracy for k = 4, p = 1, weight = distance : 1.0\n",
            "accuracy for k = 4, p = 2, weight = uniform : 0.9\n",
            "accuracy for k = 4, p = 2, weight = distance : 1.0\n",
            "accuracy for k = 4, p = 3, weight = uniform : 0.9\n",
            "accuracy for k = 4, p = 3, weight = distance : 0.9\n",
            "accuracy for k = 5, p = 1, weight = uniform : 0.9\n",
            "accuracy for k = 5, p = 1, weight = distance : 0.9\n",
            "accuracy for k = 5, p = 2, weight = uniform : 0.9\n",
            "accuracy for k = 5, p = 2, weight = distance : 0.9\n",
            "accuracy for k = 5, p = 3, weight = uniform : 1.0\n",
            "accuracy for k = 5, p = 3, weight = distance : 1.0\n"
          ],
          "name": "stdout"
        }
      ]
    },
    {
      "cell_type": "markdown",
      "metadata": {
        "id": "yCjgPfscMomt"
      },
      "source": [
        "### 4. Decision Tree\n",
        "A decision tree classifier relies on a decision tree to predict the class of a new datapoint. In fact, it produces a sequence of rules that can be used to classify the data. It is a great algorithm as it is easy to understand and visualize. Furthermore, it can handle numerical and categorical data.\n",
        "\n",
        " **Warning:** It is possible that decision trees build models that are too complexe or that cannot generalize well (overfitting). It can also be unstable, as small variations in the data set might cause the generation of a completely different tree. <br>\n",
        "\n",
        "Before building it we need to specify the maximum depth of our tree, which represents the amount of nodes we allow the tree to generate."
      ]
    },
    {
      "cell_type": "code",
      "metadata": {
        "id": "GgxIcRa6MbaN",
        "colab": {
          "base_uri": "https://localhost:8080/"
        },
        "outputId": "2070bbba-f522-483a-efb4-e66bde89595b"
      },
      "source": [
        "#create, fit and test model \n",
        "from sklearn.tree import DecisionTreeClassifier\n",
        "model = DecisionTreeClassifier(max_depth = 5)\n",
        "model.fit(X_train, y_train)\n",
        "print(model.score(X_test, y_test))"
      ],
      "execution_count": null,
      "outputs": [
        {
          "output_type": "stream",
          "text": [
            "1.0\n"
          ],
          "name": "stdout"
        }
      ]
    },
    {
      "cell_type": "markdown",
      "metadata": {
        "id": "NPn36xwrNWZX"
      },
      "source": [
        "We achieve perfection on the test set, but our model may be overly complicated. Let's see if we can reduce max depth without losing accuracy.\n",
        "Let's randomly try some numbers. "
      ]
    },
    {
      "cell_type": "code",
      "metadata": {
        "id": "PTpQBh9DzP17",
        "colab": {
          "base_uri": "https://localhost:8080/"
        },
        "outputId": "ba85c765-c03e-4ac8-e01c-50037333e889"
      },
      "source": [
        "from sklearn import tree\n",
        "from sklearn.tree import DecisionTreeClassifier\n",
        "model = DecisionTreeClassifier(max_depth = 1)\n",
        "model.fit(X_train, y_train)\n",
        "print(model.score(X_test, y_test))"
      ],
      "execution_count": null,
      "outputs": [
        {
          "output_type": "stream",
          "text": [
            "0.7\n"
          ],
          "name": "stdout"
        }
      ]
    },
    {
      "cell_type": "code",
      "metadata": {
        "id": "XtzENTXmNHKH",
        "colab": {
          "base_uri": "https://localhost:8080/"
        },
        "outputId": "5d5d14c7-c68b-4cb8-97ff-1a3aed389d21"
      },
      "source": [
        "#fonction to find lowest depth (less complicated model) keeping an accuracy of 1\n",
        "depth = 5\n",
        "model = DecisionTreeClassifier(max_depth = depth)\n",
        "model.fit(X_train, y_train)\n",
        "accuracy = model.score(X_test, y_test)\n",
        "while accuracy == 1:\n",
        "    depth -= 1\n",
        "    model = DecisionTreeClassifier(max_depth = depth)\n",
        "    model.fit(X_train, y_train)\n",
        "    accuracy = model.score(X_test, y_test)\n",
        "print(depth+1)"
      ],
      "execution_count": null,
      "outputs": [
        {
          "output_type": "stream",
          "text": [
            "2\n"
          ],
          "name": "stdout"
        }
      ]
    },
    {
      "cell_type": "code",
      "metadata": {
        "id": "ZzTxvgdGczDH",
        "colab": {
          "base_uri": "https://localhost:8080/",
          "height": 702
        },
        "outputId": "06c8e441-c8d5-42dd-8192-3ad6b8ce5292"
      },
      "source": [
        "import numpy as np\n",
        "import matplotlib.pyplot as plt\n",
        "\n",
        "from sklearn.tree import DecisionTreeClassifier, plot_tree\n",
        "\n",
        "plot_colors = \"rb\"\n",
        "plot_step = 0.02\n",
        "\n",
        "\n",
        "X = X[['mass', 'width']].values\n",
        "\n",
        "clf = DecisionTreeClassifier().fit(X, y)\n",
        "\n",
        "x_min, x_max = X[:, 0].min() - 1, X[:, 0].max() + 1\n",
        "y_min, y_max = X[:, 1].min() - 1, X[:, 1].max() + 1\n",
        "xx, yy = np.meshgrid(np.arange(x_min, x_max, plot_step), np.arange(y_min, y_max, plot_step))\n",
        "plt.tight_layout(h_pad=0.5, w_pad=0.5, pad=2.5)\n",
        "\n",
        "Z = clf.predict(np.c_[xx.ravel(), yy.ravel()])\n",
        "Z = Z.reshape(xx.shape)\n",
        "cs = plt.contourf(xx, yy, Z, cmap=plt.cm.RdYlBu)\n",
        "\n",
        "plt.xlabel('fruit mass')\n",
        "plt.ylabel('fruit width')\n",
        "\n",
        "# Plot the training points\n",
        "for i, color in zip(range(2), plot_colors):\n",
        "    idx = np.where(y == i+1)\n",
        "    plt.scatter(X[idx, 0], X[idx, 1], c=color,\n",
        "                cmap=plt.cm.RdYlBu, edgecolor='black', s=15)\n",
        "\n",
        "plt.suptitle(\"Decision surface of a decision tree using paired features\")\n",
        "plt.axis(\"tight\")\n",
        "\n",
        "plt.figure(figsize=(11,7))\n",
        "clf = DecisionTreeClassifier().fit(X, y)\n",
        "plot_tree(clf, filled=True)\n",
        "plt.show()"
      ],
      "execution_count": null,
      "outputs": [
        {
          "output_type": "display_data",
          "data": {
            "image/png": "[encoded data removed]",
            "text/plain": [
              "<Figure size 432x288 with 1 Axes>"
            ]
          },
          "metadata": {
            "tags": [],
            "needs_background": "light"
          }
        },
        {
          "output_type": "display_data",
          "data": {
            "image/png": "[encoded data removed]",
            "text/plain": [
              "<Figure size 792x504 with 1 Axes>"
            ]
          },
          "metadata": {
            "tags": [],
            "needs_background": "light"
          }
        }
      ]
    }
  ]
}