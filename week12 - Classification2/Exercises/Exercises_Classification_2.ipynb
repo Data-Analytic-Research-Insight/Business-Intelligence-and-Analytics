{
  "nbformat": 4,
  "nbformat_minor": 0,
  "metadata": {
    "colab": {
      "name": "Exercises_Classification_2.ipynb",
      "provenance": [],
      "include_colab_link": true
    },
    "kernelspec": {
      "display_name": "Python 3",
      "language": "python",
      "name": "python3"
    },
    "language_info": {
      "codemirror_mode": {
        "name": "ipython",
        "version": 3
      },
      "file_extension": ".py",
      "mimetype": "text/x-python",
      "name": "python",
      "nbconvert_exporter": "python",
      "pygments_lexer": "ipython3",
      "version": "3.6.9"
    }
  },
  "cells": [
    {
      "cell_type": "markdown",
      "metadata": {
        "id": "view-in-github",
        "colab_type": "text"
      },
      "source": [
        "<a href=\"https://colab.research.google.com/github/michalis0/Business-Intelligence-and-Analytics/blob/master/week12%20-%20Classification2/Exercises/Exercises_Classification_2.ipynb\" target=\"_parent\"><img src=\"https://colab.research.google.com/assets/colab-badge.svg\" alt=\"Open In Colab\"/></a>"
      ]
    },
    {
      "cell_type": "markdown",
      "metadata": {
        "id": "R1BSf8GX2sQd"
      },
      "source": [
        "# Classification 2\n",
        "\n",
        "## KNN and Decision Trees\n",
        "\n",
        "In this lab we will work on K Nearest Neighbor and Decision Trees for classification."
      ]
    },
    {
      "cell_type": "code",
      "metadata": {
        "id": "2D9mQhcj2sQe"
      },
      "source": [
        "%matplotlib inline\n",
        "import numpy as np\n",
        "import matplotlib.pyplot as plt\n",
        "from matplotlib import collections  as mc\n",
        "%load_ext autoreload\n",
        "%autoreload 2\n",
        "import pandas as pd \n",
        "import seaborn as sns\n",
        "from sklearn.preprocessing import LabelEncoder, OneHotEncoder\n",
        "sns.set_style(\"white\")"
      ],
      "execution_count": null,
      "outputs": []
    },
    {
      "cell_type": "code",
      "metadata": {
        "id": "Q1CKWYwc2sQh"
      },
      "source": [
        "np.random.seed = 72"
      ],
      "execution_count": null,
      "outputs": []
    },
    {
      "cell_type": "markdown",
      "metadata": {
        "id": "bTVsCvCv2sQl"
      },
      "source": [
        "### Load data\n",
        "\n",
        "We will start with the `heart disease` dataset from last week. Here's a description of the attributes in the data-set:\n",
        "\n",
        "> 1. age\n",
        "> 2. sex\n",
        "> 3. chest pain type (4 values)\n",
        "> 4. resting blood pressure\n",
        "> 5. serum cholestoral in mg/dl\n",
        "> 6. fasting blood sugar > 120 mg/dl\n",
        "> 7. resting electrocardiographic results (values 0,1,2)\n",
        "> 8. maximum heart rate achieved\n",
        "> 9. exercise induced angina\n",
        "> 10. target: 1: presence 0: absence of a heart disease"
      ]
    },
    {
      "cell_type": "code",
      "metadata": {
        "id": "5trH0DXt2sQl",
        "colab": {
          "base_uri": "https://localhost:8080/",
          "height": 204
        },
        "outputId": "6dfaf003-dfe0-4ddb-970c-35aa10f8ecc5"
      },
      "source": [
        "# data-set: heart.csv\n",
        "df = pd.read_csv(\"https://raw.githubusercontent.com/michalis0/Business-Intelligence-and-Analytics/master/data/heart.csv\")\n",
        "df.head()"
      ],
      "execution_count": null,
      "outputs": [
        {
          "output_type": "execute_result",
          "data": {
            "text/html": [
              "<div>\n",
              "<style scoped>\n",
              "    .dataframe tbody tr th:only-of-type {\n",
              "        vertical-align: middle;\n",
              "    }\n",
              "\n",
              "    .dataframe tbody tr th {\n",
              "        vertical-align: top;\n",
              "    }\n",
              "\n",
              "    .dataframe thead th {\n",
              "        text-align: right;\n",
              "    }\n",
              "</style>\n",
              "<table border=\"1\" class=\"dataframe\">\n",
              "  <thead>\n",
              "    <tr style=\"text-align: right;\">\n",
              "      <th></th>\n",
              "      <th>age</th>\n",
              "      <th>sex</th>\n",
              "      <th>cp</th>\n",
              "      <th>trestbps</th>\n",
              "      <th>chol</th>\n",
              "      <th>fbs</th>\n",
              "      <th>restecg</th>\n",
              "      <th>thalach</th>\n",
              "      <th>exang</th>\n",
              "      <th>target</th>\n",
              "    </tr>\n",
              "  </thead>\n",
              "  <tbody>\n",
              "    <tr>\n",
              "      <th>0</th>\n",
              "      <td>63</td>\n",
              "      <td>M</td>\n",
              "      <td>D</td>\n",
              "      <td>145</td>\n",
              "      <td>233</td>\n",
              "      <td>yes</td>\n",
              "      <td>A</td>\n",
              "      <td>150</td>\n",
              "      <td>no</td>\n",
              "      <td>1</td>\n",
              "    </tr>\n",
              "    <tr>\n",
              "      <th>1</th>\n",
              "      <td>37</td>\n",
              "      <td>M</td>\n",
              "      <td>C</td>\n",
              "      <td>130</td>\n",
              "      <td>250</td>\n",
              "      <td>no</td>\n",
              "      <td>B</td>\n",
              "      <td>187</td>\n",
              "      <td>no</td>\n",
              "      <td>1</td>\n",
              "    </tr>\n",
              "    <tr>\n",
              "      <th>2</th>\n",
              "      <td>41</td>\n",
              "      <td>F</td>\n",
              "      <td>B</td>\n",
              "      <td>130</td>\n",
              "      <td>204</td>\n",
              "      <td>no</td>\n",
              "      <td>A</td>\n",
              "      <td>172</td>\n",
              "      <td>no</td>\n",
              "      <td>1</td>\n",
              "    </tr>\n",
              "    <tr>\n",
              "      <th>3</th>\n",
              "      <td>56</td>\n",
              "      <td>M</td>\n",
              "      <td>B</td>\n",
              "      <td>120</td>\n",
              "      <td>236</td>\n",
              "      <td>no</td>\n",
              "      <td>B</td>\n",
              "      <td>178</td>\n",
              "      <td>no</td>\n",
              "      <td>1</td>\n",
              "    </tr>\n",
              "    <tr>\n",
              "      <th>4</th>\n",
              "      <td>57</td>\n",
              "      <td>F</td>\n",
              "      <td>A</td>\n",
              "      <td>120</td>\n",
              "      <td>354</td>\n",
              "      <td>no</td>\n",
              "      <td>B</td>\n",
              "      <td>163</td>\n",
              "      <td>yes</td>\n",
              "      <td>1</td>\n",
              "    </tr>\n",
              "  </tbody>\n",
              "</table>\n",
              "</div>"
            ],
            "text/plain": [
              "   age sex cp  trestbps  chol  fbs restecg  thalach exang  target\n",
              "0   63   M  D       145   233  yes       A      150    no       1\n",
              "1   37   M  C       130   250   no       B      187    no       1\n",
              "2   41   F  B       130   204   no       A      172    no       1\n",
              "3   56   M  B       120   236   no       B      178    no       1\n",
              "4   57   F  A       120   354   no       B      163   yes       1"
            ]
          },
          "metadata": {
            "tags": []
          },
          "execution_count": 3
        }
      ]
    },
    {
      "cell_type": "code",
      "metadata": {
        "id": "yFUEig7y2sQp"
      },
      "source": [
        "from sklearn.neighbors import KNeighborsClassifier\n",
        "from sklearn.preprocessing import StandardScaler\n",
        "from sklearn import datasets"
      ],
      "execution_count": null,
      "outputs": []
    },
    {
      "cell_type": "markdown",
      "metadata": {
        "id": "7BLOy4W32sQt"
      },
      "source": [
        "### K-neirest neighbor classification\n",
        "\n",
        "Let's start with only 2 features: age and maximum heart rate achieved (thalach). Define your features and target variable. "
      ]
    },
    {
      "cell_type": "code",
      "metadata": {
        "id": "ki6QRs6t2sQu"
      },
      "source": [
        "X = \"YOUR CODE HERE\"\n",
        "y = \"YOUR CODE HERE\""
      ],
      "execution_count": null,
      "outputs": []
    },
    {
      "cell_type": "markdown",
      "metadata": {
        "id": "IjPq4TjY4I-C"
      },
      "source": [
        "Split your data set into train and test subsets. "
      ]
    },
    {
      "cell_type": "code",
      "metadata": {
        "id": "iNvVsTIp2sQx",
        "colab": {
          "base_uri": "https://localhost:8080/",
          "height": 130
        },
        "outputId": "698641f2-edfb-43d7-d780-0b9a7914a165"
      },
      "source": [
        "from sklearn.model_selection import train_test_split\n",
        "\"YOUR CODE HERE\" = \"YOUR CODE HERE\"(X, y, test_size=0.2, random_state=72)"
      ],
      "execution_count": null,
      "outputs": [
        {
          "output_type": "error",
          "ename": "SyntaxError",
          "evalue": "ignored",
          "traceback": [
            "\u001b[0;36m  File \u001b[0;32m\"<ipython-input-6-e2c5fa9d595a>\"\u001b[0;36m, line \u001b[0;32m2\u001b[0m\n\u001b[0;31m    \"YOUR CODE HERE\" = \"YOUR CODE HERE\"(X, y, test_size=0.2, random_state=72)\u001b[0m\n\u001b[0m                                                                             ^\u001b[0m\n\u001b[0;31mSyntaxError\u001b[0m\u001b[0;31m:\u001b[0m can't assign to literal\n"
          ]
        }
      ]
    },
    {
      "cell_type": "markdown",
      "metadata": {
        "id": "Vw5rbTEV3hnH"
      },
      "source": [
        "Define your model. Try to use a KNN ( with n=3)"
      ]
    },
    {
      "cell_type": "code",
      "metadata": {
        "id": "DQM7lDu1uMUy"
      },
      "source": [
        "#Create model\n",
        "model = \"YOUR CODE HERE\""
      ],
      "execution_count": null,
      "outputs": []
    },
    {
      "cell_type": "markdown",
      "metadata": {
        "id": "MyxTAXGs3nez"
      },
      "source": [
        "Fit your model now using the train set. "
      ]
    },
    {
      "cell_type": "code",
      "metadata": {
        "id": "F9WckoiSD8kv"
      },
      "source": [
        "model.fit(\"YOUR CODE HERE\")"
      ],
      "execution_count": null,
      "outputs": []
    },
    {
      "cell_type": "markdown",
      "metadata": {
        "id": "WCu8nkWe3sXG"
      },
      "source": [
        "Compare your train and test accuracy for your model."
      ]
    },
    {
      "cell_type": "code",
      "metadata": {
        "id": "-YK9xRp6CIyP"
      },
      "source": [
        "# train accuracy with CV\n",
        "\"YOUR CODE HERE\""
      ],
      "execution_count": null,
      "outputs": []
    },
    {
      "cell_type": "code",
      "metadata": {
        "id": "4V2KZ7XTCNNK"
      },
      "source": [
        "# test accuracy with CV\n",
        "\"YOUR CODE HERE\""
      ],
      "execution_count": null,
      "outputs": []
    },
    {
      "cell_type": "markdown",
      "metadata": {
        "id": "WYS-bFxJrZNw"
      },
      "source": [
        "Calculate the base rate"
      ]
    },
    {
      "cell_type": "code",
      "metadata": {
        "id": "EFsMa1m2r7pj"
      },
      "source": [
        "#Compute the base rate\n",
        "#Base rate = (most frequent class)/(total observations)\n",
        "nbr_heart_disease = df.loc[df[\"YOUR CODE HERE\"] == 1].shape[0]\n",
        "print(\"#Heart disease = \", \"YOUR CODE HERE\")\n",
        "\n",
        "nbr_no_heart_disease = df.loc[df[\"YOUR CODE HERE\"] == 0].shape[0]\n",
        "print(\"#No heart disease = \", \"YOUR CODE HERE\")\n",
        "\n",
        "print(\"Baserate = \", \"YOUR CODE HERE\")"
      ],
      "execution_count": null,
      "outputs": []
    },
    {
      "cell_type": "markdown",
      "metadata": {
        "id": "cjgp2sfVrb8B"
      },
      "source": [
        "Show the confusion matrix"
      ]
    },
    {
      "cell_type": "code",
      "metadata": {
        "id": "2DsK5wpLrfSt"
      },
      "source": [
        "#Confusion matrix\n",
        "from sklearn.metrics import confusion_matrix\n",
        "confusion_matrix(\"YOUR CODE HERE\")"
      ],
      "execution_count": null,
      "outputs": []
    },
    {
      "cell_type": "markdown",
      "metadata": {
        "id": "BapRfVTr8N5Z"
      },
      "source": [
        "For which K (number of neighbors), p-value and weight do we obtain the best accurary?"
      ]
    },
    {
      "cell_type": "code",
      "metadata": {
        "id": "OAzuyS0E8W_E"
      },
      "source": [
        "n_neighbors = [2,3,4,5,6,7]\n",
        "p_values = [1,2,3]\n",
        "weights = ['uniform', 'distance']\n",
        "for n in n_neighbors:\n",
        "    for p in p_values:\n",
        "        for w in weights:\n",
        "            model = KNeighborsClassifier(n_neighbors=n, p=p, weights=w)\n",
        "            model.fit(\"YOUR CODE HERE\")\n",
        "            print(\"accuracy for k = \" + str(n) + \", p = \" + str(p) + \", weight = \" + w + \" : \" + str(model.score(\"YOUR CODE HERE\")))"
      ],
      "execution_count": null,
      "outputs": []
    },
    {
      "cell_type": "markdown",
      "metadata": {
        "id": "iwF1RHqA75K6"
      },
      "source": [
        "Now, let's try to predict the class and probability of correct classification for Age = 50, Thalach = 130 and Age = 70, Thalach = 160"
      ]
    },
    {
      "cell_type": "code",
      "metadata": {
        "id": "jxYtT2fU75K7"
      },
      "source": [
        "print(model.predict(\"YOUR CODE HERE\"))\n",
        "print(model.predict_proba(\"YOUR CODE HERE\"))"
      ],
      "execution_count": null,
      "outputs": []
    },
    {
      "cell_type": "markdown",
      "metadata": {
        "id": "QRpOrur22sRV"
      },
      "source": [
        "Now let's try more numerical features and see if the accuracy improuves.\n",
        "We will use now \"age\", \"thalach\", \"trestbps\" and \"chol\". \n",
        "Define your features and your target variable. "
      ]
    },
    {
      "cell_type": "code",
      "metadata": {
        "id": "uDnaUYF92sRV"
      },
      "source": [
        "X = \"YOUR CODE HERE\"\n",
        "y = \"YOUR CODE HERE\""
      ],
      "execution_count": null,
      "outputs": []
    },
    {
      "cell_type": "markdown",
      "metadata": {
        "id": "0q09jUP34hme"
      },
      "source": [
        "Split your data set into train and test subsets."
      ]
    },
    {
      "cell_type": "code",
      "metadata": {
        "id": "1g55iCbL2sRY"
      },
      "source": [
        "\"YOUR CODE HERE\" = \"YOUR CODE HERE\"(X, y, test_size=0.2, random_state=72)"
      ],
      "execution_count": null,
      "outputs": []
    },
    {
      "cell_type": "markdown",
      "metadata": {
        "id": "CsuD0tPc4ugm"
      },
      "source": [
        "Standardize your data. "
      ]
    },
    {
      "cell_type": "code",
      "metadata": {
        "id": "R9ScYZRs2sRd"
      },
      "source": [
        "standardize = StandardScaler()\n",
        "\"YOUR CODE HERE\""
      ],
      "execution_count": null,
      "outputs": []
    },
    {
      "cell_type": "code",
      "metadata": {
        "id": "I9Y0TMkp2sRg"
      },
      "source": [
        "X_train = \"YOUR CODE HERE\"\n",
        "X_test = \"YOUR CODE HERE\""
      ],
      "execution_count": null,
      "outputs": []
    },
    {
      "cell_type": "markdown",
      "metadata": {
        "id": "QQOpg_A04zNw"
      },
      "source": [
        "Fit your model using the train data. Let's use the KNN here. "
      ]
    },
    {
      "cell_type": "code",
      "metadata": {
        "id": "8MMBMLJZ2sRk"
      },
      "source": [
        "model.fit(\"YOUR CODE HERE\")"
      ],
      "execution_count": null,
      "outputs": []
    },
    {
      "cell_type": "markdown",
      "metadata": {
        "id": "pEOw7KN8421R"
      },
      "source": [
        "Compare your train and test accurary. "
      ]
    },
    {
      "cell_type": "code",
      "metadata": {
        "id": "nwPGNVyx2sRp"
      },
      "source": [
        "# train accuracy\n",
        "\"YOUR CODE HERE\""
      ],
      "execution_count": null,
      "outputs": []
    },
    {
      "cell_type": "code",
      "metadata": {
        "id": "w2cIMQD-2sRs"
      },
      "source": [
        "# test accuracy\n",
        "\"YOUR CODE HERE\""
      ],
      "execution_count": null,
      "outputs": []
    },
    {
      "cell_type": "code",
      "metadata": {
        "id": "wn-EZaVmD0of"
      },
      "source": [
        "#Confusion matrix\n",
        "from sklearn.metrics import confusion_matrix\n",
        "\"YOUR CODE HERE\""
      ],
      "execution_count": null,
      "outputs": []
    },
    {
      "cell_type": "markdown",
      "metadata": {
        "id": "8LyUkgxEejXV"
      },
      "source": [
        "### Decision tree classification\n",
        "\n",
        "We will now use the decision tree algorithm for classification.\n",
        "\n",
        "Import the necessary libraries for decision tree classification, define the model and train your model. The test it. What is the accuracy of your model (using the test set)?"
      ]
    },
    {
      "cell_type": "code",
      "metadata": {
        "id": "TLeAUxpCev2f"
      },
      "source": [
        "from sklearn import tree\n",
        "from sklearn.tree import DecisionTreeClassifier\n",
        "model = DecisionTreeClassifier(max_depth = 1)\n",
        "model.fit(\"YOUR CODE HERE\")\n",
        "print(model.score(\"YOUR CODE HERE\"))"
      ],
      "execution_count": null,
      "outputs": []
    },
    {
      "cell_type": "markdown",
      "metadata": {
        "id": "foQ2ukBEkxmo"
      },
      "source": [
        "How can you improve your model? Find the lowest depth with for an accuracy of 1. "
      ]
    },
    {
      "cell_type": "code",
      "metadata": {
        "id": "qfJ0pPZHexKG"
      },
      "source": [
        "#fonction to find lowest depth (less complicated model) keeping an accuracy of 1\n",
        "depth = 5\n",
        "model = DecisionTreeClassifier(max_depth = depth)\n",
        "model.fit(\"YOUR CODE HERE\")\n",
        "accuracy = model.score(\"YOUR CODE HERE\")\n",
        "while accuracy == 1:\n",
        "    depth -= 1\n",
        "    model = DecisionTreeClassifier(max_depth = depth)\n",
        "    model.fit(\"YOUR CODE HERE\")\n",
        "    accuracy = model.score(X_test, y_test)\n",
        "print(depth+1)"
      ],
      "execution_count": null,
      "outputs": []
    },
    {
      "cell_type": "markdown",
      "metadata": {
        "id": "kB_U_LF4k9o5"
      },
      "source": [
        "Plot the decision tree and the decision boundaries for a model using 'age' and 'thalach' as features. How do you interpret these visualisations?"
      ]
    },
    {
      "cell_type": "code",
      "metadata": {
        "id": "TvkP2BgRe052"
      },
      "source": [
        "import numpy as np\n",
        "import matplotlib.pyplot as plt\n",
        "\n",
        "from sklearn.tree import DecisionTreeClassifier, plot_tree\n",
        "\n",
        "plot_colors = \"br\"\n",
        "plot_step = 0.02\n",
        "\n",
        "\n",
        "X = X[[\"YOUR CODE HERE\"]].values\n",
        "\n",
        "clf = Decision...().fit(X, y)\n",
        "\n",
        "x_min, x_max = X[:, 0].min() - 1, X[:, 0].max() + 1\n",
        "y_min, y_max = X[:, 1].min() - 1, X[:, 1].max() + 1\n",
        "xx, yy = np.meshgrid(np.arange(x_min, x_max, plot_step), np.arange(y_min, y_max, plot_step))\n",
        "plt.tight_layout(h_pad=0.5, w_pad=0.5, pad=2.5)\n",
        "\n",
        "Z = clf.predict(np.c_[xx.ravel(), yy.ravel()])\n",
        "Z = Z.reshape(xx.shape)\n",
        "cs = plt.contourf(xx, yy, Z, cmap=plt.cm.RdYlBu)\n",
        "\n",
        "plt.xlabel(...)\n",
        "plt.ylabel(...)\n",
        "\n",
        "# Plot the training points\n",
        "for i, color in zip(range(2), plot_colors):\n",
        "    idx = np.where(y == i+1)\n",
        "    plt.scatter(X[idx, 0], X[idx, 1], c=color,\n",
        "                cmap=plt.cm.RdYlBu, edgecolor='black', s=15)\n",
        "\n",
        "plt.suptitle(\"Decision surface of a decision tree using paired features\")\n",
        "plt.axis(\"tight\")\n",
        "\n",
        "plt.figure(figsize=(11,7))\n",
        "clf = \"YOUR CODE HERE\"().fit(X, y)\n",
        "plot_tree(clf, filled=True)\n",
        "plt.show()"
      ],
      "execution_count": null,
      "outputs": []
    }
  ]
}