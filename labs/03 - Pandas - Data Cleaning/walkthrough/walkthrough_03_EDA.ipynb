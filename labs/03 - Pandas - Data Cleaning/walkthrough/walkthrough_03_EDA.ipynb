{
  "cells": [
    {
      "attachments": {},
      "cell_type": "markdown",
      "metadata": {
        "colab_type": "text",
        "id": "view-in-github"
      },
      "source": [
        "<a target=\"_blank\" href=\"https://colab.research.google.com/github/michalis0/Business-Intelligence-and-Analytics/blob/master/labs/03%20-%20Pandas%20-%20Data%20Cleaning/walkthrough/walkthrough_03_EDA.ipynb\">\n",
        "  <img src=\"https://colab.research.google.com/assets/colab-badge.svg\" alt=\"Open In Colab\"/>\n",
        "</a>"
      ]
    },
    {
      "cell_type": "markdown",
      "metadata": {
        "id": "jyij8neZz4yD"
      },
      "source": [
        "# <a class=\"anchor\"></a> 1. Exploratory Data Analysis\n",
        "\n",
        "\n",
        "\n"
      ]
    },
    {
      "cell_type": "markdown",
      "metadata": {
        "id": "izvXpAkgrfDY"
      },
      "source": [
        "Now lets get into the Data Analysis per say. This part will extensively rely on the Pandas Dataframes, and functions. Please do not hesitate to refer to last sessions introduction if you don't feel yet comfortable. Throughout this part, you will learn more about the dtypes of data you can find in data frame and manipulate its columns for analysis purposes. "
      ]
    },
    {
      "cell_type": "markdown",
      "metadata": {
        "id": "5gy-XniJZG9p"
      },
      "source": [
        "## <a class=\"anchor\"></a> 1.1. Loading and getting a first look at our Data \n"
      ]
    },
    {
      "cell_type": "code",
      "execution_count": 32,
      "metadata": {
        "id": "HNZaB3NzUPt5"
      },
      "outputs": [],
      "source": [
        "# Import libraries\n",
        "import pandas as pd\n",
        "import numpy as np\n",
        "import matplotlib\n",
        "import matplotlib.pyplot as plt\n",
        "import seaborn as sns\n",
        "from pandas.plotting import scatter_matrix\n",
        "\n",
        "sns.set_style('darkgrid')"
      ]
    },
    {
      "attachments": {},
      "cell_type": "markdown",
      "metadata": {
        "id": "2Tc1olNXUl6D"
      },
      "source": [
        "The dataset we will use is available under the following url :`'https://data.cityofnewyork.us/api/views/43nn-pn8j/rows.csv'`. This dataset containts the results of restaurant inspections in NYC."
      ]
    },
    {
      "cell_type": "code",
      "execution_count": 33,
      "metadata": {
        "colab": {
          "base_uri": "https://localhost:8080/",
          "height": 751
        },
        "id": "3R9aJHOtVAep",
        "outputId": "1413eaaf-4bef-4285-e7ec-c12237f661dd"
      },
      "outputs": [
        {
          "data": {
            "text/html": [
              "<div>\n",
              "<style scoped>\n",
              "    .dataframe tbody tr th:only-of-type {\n",
              "        vertical-align: middle;\n",
              "    }\n",
              "\n",
              "    .dataframe tbody tr th {\n",
              "        vertical-align: top;\n",
              "    }\n",
              "\n",
              "    .dataframe thead th {\n",
              "        text-align: right;\n",
              "    }\n",
              "</style>\n",
              "<table border=\"1\" class=\"dataframe\">\n",
              "  <thead>\n",
              "    <tr style=\"text-align: right;\">\n",
              "      <th></th>\n",
              "      <th>CAMIS</th>\n",
              "      <th>DBA</th>\n",
              "      <th>BORO</th>\n",
              "      <th>BUILDING</th>\n",
              "      <th>STREET</th>\n",
              "      <th>ZIPCODE</th>\n",
              "      <th>PHONE</th>\n",
              "      <th>CUISINE DESCRIPTION</th>\n",
              "      <th>INSPECTION DATE</th>\n",
              "      <th>ACTION</th>\n",
              "      <th>...</th>\n",
              "      <th>INSPECTION TYPE</th>\n",
              "      <th>Latitude</th>\n",
              "      <th>Longitude</th>\n",
              "      <th>Community Board</th>\n",
              "      <th>Council District</th>\n",
              "      <th>Census Tract</th>\n",
              "      <th>BIN</th>\n",
              "      <th>BBL</th>\n",
              "      <th>NTA</th>\n",
              "      <th>Location Point</th>\n",
              "    </tr>\n",
              "  </thead>\n",
              "  <tbody>\n",
              "    <tr>\n",
              "      <th>0</th>\n",
              "      <td>50118355</td>\n",
              "      <td>NaN</td>\n",
              "      <td>Brooklyn</td>\n",
              "      <td>524</td>\n",
              "      <td>4 AVENUE</td>\n",
              "      <td>11215.0</td>\n",
              "      <td>7186390222</td>\n",
              "      <td>NaN</td>\n",
              "      <td>01/01/1900</td>\n",
              "      <td>NaN</td>\n",
              "      <td>...</td>\n",
              "      <td>NaN</td>\n",
              "      <td>40.667546</td>\n",
              "      <td>-73.991064</td>\n",
              "      <td>306.0</td>\n",
              "      <td>39.0</td>\n",
              "      <td>11700.0</td>\n",
              "      <td>3023364.0</td>\n",
              "      <td>3.010330e+09</td>\n",
              "      <td>BK37</td>\n",
              "      <td>NaN</td>\n",
              "    </tr>\n",
              "    <tr>\n",
              "      <th>1</th>\n",
              "      <td>50105474</td>\n",
              "      <td>BARNJOO</td>\n",
              "      <td>Manhattan</td>\n",
              "      <td>816</td>\n",
              "      <td>6 AVENUE</td>\n",
              "      <td>10001.0</td>\n",
              "      <td>9178870079</td>\n",
              "      <td>NaN</td>\n",
              "      <td>01/01/1900</td>\n",
              "      <td>NaN</td>\n",
              "      <td>...</td>\n",
              "      <td>NaN</td>\n",
              "      <td>40.746164</td>\n",
              "      <td>-73.990407</td>\n",
              "      <td>105.0</td>\n",
              "      <td>3.0</td>\n",
              "      <td>7600.0</td>\n",
              "      <td>1015709.0</td>\n",
              "      <td>1.008300e+09</td>\n",
              "      <td>MN17</td>\n",
              "      <td>NaN</td>\n",
              "    </tr>\n",
              "    <tr>\n",
              "      <th>2</th>\n",
              "      <td>50111457</td>\n",
              "      <td>THE TEN BELLS</td>\n",
              "      <td>Brooklyn</td>\n",
              "      <td>65</td>\n",
              "      <td>IRVING AVENUE</td>\n",
              "      <td>11237.0</td>\n",
              "      <td>3478224572</td>\n",
              "      <td>NaN</td>\n",
              "      <td>01/01/1900</td>\n",
              "      <td>NaN</td>\n",
              "      <td>...</td>\n",
              "      <td>NaN</td>\n",
              "      <td>40.704504</td>\n",
              "      <td>-73.924018</td>\n",
              "      <td>304.0</td>\n",
              "      <td>34.0</td>\n",
              "      <td>44700.0</td>\n",
              "      <td>3072587.0</td>\n",
              "      <td>3.031880e+09</td>\n",
              "      <td>BK77</td>\n",
              "      <td>NaN</td>\n",
              "    </tr>\n",
              "    <tr>\n",
              "      <th>3</th>\n",
              "      <td>50104766</td>\n",
              "      <td>JUNIOR'S</td>\n",
              "      <td>Queens</td>\n",
              "      <td>1</td>\n",
              "      <td>CENTRAL TERMINAL</td>\n",
              "      <td>NaN</td>\n",
              "      <td>9732067277</td>\n",
              "      <td>NaN</td>\n",
              "      <td>01/01/1900</td>\n",
              "      <td>NaN</td>\n",
              "      <td>...</td>\n",
              "      <td>NaN</td>\n",
              "      <td>0.000000</td>\n",
              "      <td>0.000000</td>\n",
              "      <td>NaN</td>\n",
              "      <td>NaN</td>\n",
              "      <td>NaN</td>\n",
              "      <td>NaN</td>\n",
              "      <td>4.000000e+00</td>\n",
              "      <td>NaN</td>\n",
              "      <td>NaN</td>\n",
              "    </tr>\n",
              "    <tr>\n",
              "      <th>4</th>\n",
              "      <td>50131306</td>\n",
              "      <td>SUBWAY</td>\n",
              "      <td>Manhattan</td>\n",
              "      <td>830</td>\n",
              "      <td>7 AVENUE</td>\n",
              "      <td>10019.0</td>\n",
              "      <td>5166557659</td>\n",
              "      <td>NaN</td>\n",
              "      <td>01/01/1900</td>\n",
              "      <td>NaN</td>\n",
              "      <td>...</td>\n",
              "      <td>NaN</td>\n",
              "      <td>40.763225</td>\n",
              "      <td>-73.981712</td>\n",
              "      <td>105.0</td>\n",
              "      <td>4.0</td>\n",
              "      <td>13100.0</td>\n",
              "      <td>1076200.0</td>\n",
              "      <td>1.010258e+09</td>\n",
              "      <td>MN17</td>\n",
              "      <td>NaN</td>\n",
              "    </tr>\n",
              "    <tr>\n",
              "      <th>5</th>\n",
              "      <td>50114233</td>\n",
              "      <td>NUVEEN</td>\n",
              "      <td>Manhattan</td>\n",
              "      <td>730</td>\n",
              "      <td>3 AVENUE</td>\n",
              "      <td>10017.0</td>\n",
              "      <td>7043284036</td>\n",
              "      <td>NaN</td>\n",
              "      <td>01/01/1900</td>\n",
              "      <td>NaN</td>\n",
              "      <td>...</td>\n",
              "      <td>NaN</td>\n",
              "      <td>40.753097</td>\n",
              "      <td>-73.972757</td>\n",
              "      <td>106.0</td>\n",
              "      <td>4.0</td>\n",
              "      <td>9200.0</td>\n",
              "      <td>1036195.0</td>\n",
              "      <td>1.013000e+09</td>\n",
              "      <td>MN19</td>\n",
              "      <td>NaN</td>\n",
              "    </tr>\n",
              "    <tr>\n",
              "      <th>6</th>\n",
              "      <td>50116096</td>\n",
              "      <td>NaN</td>\n",
              "      <td>Queens</td>\n",
              "      <td>16006</td>\n",
              "      <td>NORTHERN BLVD</td>\n",
              "      <td>11358.0</td>\n",
              "      <td>3478999999</td>\n",
              "      <td>NaN</td>\n",
              "      <td>01/01/1900</td>\n",
              "      <td>NaN</td>\n",
              "      <td>...</td>\n",
              "      <td>NaN</td>\n",
              "      <td>40.762817</td>\n",
              "      <td>-73.805355</td>\n",
              "      <td>407.0</td>\n",
              "      <td>20.0</td>\n",
              "      <td>117100.0</td>\n",
              "      <td>4120445.0</td>\n",
              "      <td>4.053350e+09</td>\n",
              "      <td>QN51</td>\n",
              "      <td>NaN</td>\n",
              "    </tr>\n",
              "    <tr>\n",
              "      <th>7</th>\n",
              "      <td>50131100</td>\n",
              "      <td>NaN</td>\n",
              "      <td>Queens</td>\n",
              "      <td>10916</td>\n",
              "      <td>SUTPHIN BLVD</td>\n",
              "      <td>11435.0</td>\n",
              "      <td>5616764022</td>\n",
              "      <td>NaN</td>\n",
              "      <td>01/01/1900</td>\n",
              "      <td>NaN</td>\n",
              "      <td>...</td>\n",
              "      <td>NaN</td>\n",
              "      <td>40.691379</td>\n",
              "      <td>-73.797880</td>\n",
              "      <td>412.0</td>\n",
              "      <td>28.0</td>\n",
              "      <td>19600.0</td>\n",
              "      <td>4258309.0</td>\n",
              "      <td>4.119470e+09</td>\n",
              "      <td>QN01</td>\n",
              "      <td>NaN</td>\n",
              "    </tr>\n",
              "    <tr>\n",
              "      <th>8</th>\n",
              "      <td>50115937</td>\n",
              "      <td>NaN</td>\n",
              "      <td>Manhattan</td>\n",
              "      <td>289</td>\n",
              "      <td>MERCER STREET</td>\n",
              "      <td>10003.0</td>\n",
              "      <td>6179091935</td>\n",
              "      <td>NaN</td>\n",
              "      <td>01/01/1900</td>\n",
              "      <td>NaN</td>\n",
              "      <td>...</td>\n",
              "      <td>NaN</td>\n",
              "      <td>40.730176</td>\n",
              "      <td>-73.993902</td>\n",
              "      <td>102.0</td>\n",
              "      <td>1.0</td>\n",
              "      <td>5900.0</td>\n",
              "      <td>1008838.0</td>\n",
              "      <td>1.005480e+09</td>\n",
              "      <td>MN23</td>\n",
              "      <td>NaN</td>\n",
              "    </tr>\n",
              "    <tr>\n",
              "      <th>9</th>\n",
              "      <td>50096994</td>\n",
              "      <td>JONGRO BANCHANJIP</td>\n",
              "      <td>Queens</td>\n",
              "      <td>15702</td>\n",
              "      <td>NORTHERN BLVD</td>\n",
              "      <td>11354.0</td>\n",
              "      <td>7183535101</td>\n",
              "      <td>NaN</td>\n",
              "      <td>01/01/1900</td>\n",
              "      <td>NaN</td>\n",
              "      <td>...</td>\n",
              "      <td>NaN</td>\n",
              "      <td>40.763733</td>\n",
              "      <td>-73.808085</td>\n",
              "      <td>407.0</td>\n",
              "      <td>20.0</td>\n",
              "      <td>117100.0</td>\n",
              "      <td>4119352.0</td>\n",
              "      <td>4.052760e+09</td>\n",
              "      <td>QN51</td>\n",
              "      <td>NaN</td>\n",
              "    </tr>\n",
              "  </tbody>\n",
              "</table>\n",
              "<p>10 rows × 27 columns</p>\n",
              "</div>"
            ],
            "text/plain": [
              "      CAMIS                DBA       BORO BUILDING            STREET  ZIPCODE  \\\n",
              "0  50118355                NaN   Brooklyn      524          4 AVENUE  11215.0   \n",
              "1  50105474            BARNJOO  Manhattan      816          6 AVENUE  10001.0   \n",
              "2  50111457      THE TEN BELLS   Brooklyn       65     IRVING AVENUE  11237.0   \n",
              "3  50104766           JUNIOR'S     Queens        1  CENTRAL TERMINAL      NaN   \n",
              "4  50131306             SUBWAY  Manhattan      830          7 AVENUE  10019.0   \n",
              "5  50114233             NUVEEN  Manhattan      730          3 AVENUE  10017.0   \n",
              "6  50116096                NaN     Queens    16006     NORTHERN BLVD  11358.0   \n",
              "7  50131100                NaN     Queens    10916      SUTPHIN BLVD  11435.0   \n",
              "8  50115937                NaN  Manhattan      289     MERCER STREET  10003.0   \n",
              "9  50096994  JONGRO BANCHANJIP     Queens    15702     NORTHERN BLVD  11354.0   \n",
              "\n",
              "        PHONE CUISINE DESCRIPTION INSPECTION DATE ACTION  ... INSPECTION TYPE  \\\n",
              "0  7186390222                 NaN      01/01/1900    NaN  ...             NaN   \n",
              "1  9178870079                 NaN      01/01/1900    NaN  ...             NaN   \n",
              "2  3478224572                 NaN      01/01/1900    NaN  ...             NaN   \n",
              "3  9732067277                 NaN      01/01/1900    NaN  ...             NaN   \n",
              "4  5166557659                 NaN      01/01/1900    NaN  ...             NaN   \n",
              "5  7043284036                 NaN      01/01/1900    NaN  ...             NaN   \n",
              "6  3478999999                 NaN      01/01/1900    NaN  ...             NaN   \n",
              "7  5616764022                 NaN      01/01/1900    NaN  ...             NaN   \n",
              "8  6179091935                 NaN      01/01/1900    NaN  ...             NaN   \n",
              "9  7183535101                 NaN      01/01/1900    NaN  ...             NaN   \n",
              "\n",
              "    Latitude  Longitude  Community Board Council District Census Tract  \\\n",
              "0  40.667546 -73.991064            306.0             39.0      11700.0   \n",
              "1  40.746164 -73.990407            105.0              3.0       7600.0   \n",
              "2  40.704504 -73.924018            304.0             34.0      44700.0   \n",
              "3   0.000000   0.000000              NaN              NaN          NaN   \n",
              "4  40.763225 -73.981712            105.0              4.0      13100.0   \n",
              "5  40.753097 -73.972757            106.0              4.0       9200.0   \n",
              "6  40.762817 -73.805355            407.0             20.0     117100.0   \n",
              "7  40.691379 -73.797880            412.0             28.0      19600.0   \n",
              "8  40.730176 -73.993902            102.0              1.0       5900.0   \n",
              "9  40.763733 -73.808085            407.0             20.0     117100.0   \n",
              "\n",
              "         BIN           BBL   NTA  Location Point  \n",
              "0  3023364.0  3.010330e+09  BK37             NaN  \n",
              "1  1015709.0  1.008300e+09  MN17             NaN  \n",
              "2  3072587.0  3.031880e+09  BK77             NaN  \n",
              "3        NaN  4.000000e+00   NaN             NaN  \n",
              "4  1076200.0  1.010258e+09  MN17             NaN  \n",
              "5  1036195.0  1.013000e+09  MN19             NaN  \n",
              "6  4120445.0  4.053350e+09  QN51             NaN  \n",
              "7  4258309.0  4.119470e+09  QN01             NaN  \n",
              "8  1008838.0  1.005480e+09  MN23             NaN  \n",
              "9  4119352.0  4.052760e+09  QN51             NaN  \n",
              "\n",
              "[10 rows x 27 columns]"
            ]
          },
          "execution_count": 33,
          "metadata": {},
          "output_type": "execute_result"
        }
      ],
      "source": [
        "# Load data into a DataFrame\n",
        "restaurants = pd.read_csv('https://data.cityofnewyork.us/api/views/43nn-pn8j/rows.csv')\n",
        "\n",
        "# Print the first 10 rows of the DataFrame\n",
        "restaurants.head(10)"
      ]
    },
    {
      "attachments": {},
      "cell_type": "markdown",
      "metadata": {
        "id": "htjkc528WuVJ"
      },
      "source": [
        "Let's use the `.describe()` function to get a quick overview of the data we will be working with.\n"
      ]
    },
    {
      "cell_type": "code",
      "execution_count": 34,
      "metadata": {
        "colab": {
          "base_uri": "https://localhost:8080/",
          "height": 361
        },
        "id": "ZaGkZwPSXhZ4",
        "outputId": "e678e909-4377-4b72-e92d-2386ac96631a"
      },
      "outputs": [
        {
          "data": {
            "text/html": [
              "<div>\n",
              "<style scoped>\n",
              "    .dataframe tbody tr th:only-of-type {\n",
              "        vertical-align: middle;\n",
              "    }\n",
              "\n",
              "    .dataframe tbody tr th {\n",
              "        vertical-align: top;\n",
              "    }\n",
              "\n",
              "    .dataframe thead th {\n",
              "        text-align: right;\n",
              "    }\n",
              "</style>\n",
              "<table border=\"1\" class=\"dataframe\">\n",
              "  <thead>\n",
              "    <tr style=\"text-align: right;\">\n",
              "      <th></th>\n",
              "      <th>CAMIS</th>\n",
              "      <th>ZIPCODE</th>\n",
              "      <th>SCORE</th>\n",
              "      <th>Latitude</th>\n",
              "      <th>Longitude</th>\n",
              "      <th>Community Board</th>\n",
              "      <th>Council District</th>\n",
              "      <th>Census Tract</th>\n",
              "      <th>BIN</th>\n",
              "      <th>BBL</th>\n",
              "      <th>Location Point</th>\n",
              "    </tr>\n",
              "  </thead>\n",
              "  <tbody>\n",
              "    <tr>\n",
              "      <th>count</th>\n",
              "      <td>2.091150e+05</td>\n",
              "      <td>206196.000000</td>\n",
              "      <td>198147.000000</td>\n",
              "      <td>208817.000000</td>\n",
              "      <td>208817.000000</td>\n",
              "      <td>205662.000000</td>\n",
              "      <td>205662.000000</td>\n",
              "      <td>205662.000000</td>\n",
              "      <td>2.045690e+05</td>\n",
              "      <td>2.085560e+05</td>\n",
              "      <td>0.0</td>\n",
              "    </tr>\n",
              "    <tr>\n",
              "      <th>mean</th>\n",
              "      <td>4.712553e+07</td>\n",
              "      <td>10701.317208</td>\n",
              "      <td>21.779235</td>\n",
              "      <td>40.163556</td>\n",
              "      <td>-72.916374</td>\n",
              "      <td>252.339275</td>\n",
              "      <td>20.532281</td>\n",
              "      <td>29790.463202</td>\n",
              "      <td>2.550635e+06</td>\n",
              "      <td>2.438073e+09</td>\n",
              "      <td>NaN</td>\n",
              "    </tr>\n",
              "    <tr>\n",
              "      <th>std</th>\n",
              "      <td>4.197601e+06</td>\n",
              "      <td>593.828723</td>\n",
              "      <td>16.934444</td>\n",
              "      <td>4.761835</td>\n",
              "      <td>8.644483</td>\n",
              "      <td>129.411546</td>\n",
              "      <td>15.741145</td>\n",
              "      <td>31289.766859</td>\n",
              "      <td>1.338117e+06</td>\n",
              "      <td>1.331019e+09</td>\n",
              "      <td>NaN</td>\n",
              "    </tr>\n",
              "    <tr>\n",
              "      <th>min</th>\n",
              "      <td>3.007544e+07</td>\n",
              "      <td>8512.000000</td>\n",
              "      <td>0.000000</td>\n",
              "      <td>0.000000</td>\n",
              "      <td>-74.249101</td>\n",
              "      <td>101.000000</td>\n",
              "      <td>1.000000</td>\n",
              "      <td>100.000000</td>\n",
              "      <td>1.000000e+06</td>\n",
              "      <td>1.000000e+00</td>\n",
              "      <td>NaN</td>\n",
              "    </tr>\n",
              "    <tr>\n",
              "      <th>25%</th>\n",
              "      <td>4.156438e+07</td>\n",
              "      <td>10023.000000</td>\n",
              "      <td>11.000000</td>\n",
              "      <td>40.683844</td>\n",
              "      <td>-73.988816</td>\n",
              "      <td>106.000000</td>\n",
              "      <td>4.000000</td>\n",
              "      <td>7900.000000</td>\n",
              "      <td>1.049918e+06</td>\n",
              "      <td>1.010650e+09</td>\n",
              "      <td>NaN</td>\n",
              "    </tr>\n",
              "    <tr>\n",
              "      <th>50%</th>\n",
              "      <td>5.004951e+07</td>\n",
              "      <td>11040.000000</td>\n",
              "      <td>17.000000</td>\n",
              "      <td>40.730805</td>\n",
              "      <td>-73.956289</td>\n",
              "      <td>301.000000</td>\n",
              "      <td>20.000000</td>\n",
              "      <td>17300.000000</td>\n",
              "      <td>3.016347e+06</td>\n",
              "      <td>3.004670e+09</td>\n",
              "      <td>NaN</td>\n",
              "    </tr>\n",
              "    <tr>\n",
              "      <th>75%</th>\n",
              "      <td>5.009331e+07</td>\n",
              "      <td>11230.000000</td>\n",
              "      <td>29.000000</td>\n",
              "      <td>40.761661</td>\n",
              "      <td>-73.895922</td>\n",
              "      <td>401.000000</td>\n",
              "      <td>34.000000</td>\n",
              "      <td>42100.000000</td>\n",
              "      <td>4.002508e+06</td>\n",
              "      <td>4.001883e+09</td>\n",
              "      <td>NaN</td>\n",
              "    </tr>\n",
              "    <tr>\n",
              "      <th>max</th>\n",
              "      <td>5.013298e+07</td>\n",
              "      <td>14228.000000</td>\n",
              "      <td>157.000000</td>\n",
              "      <td>40.912822</td>\n",
              "      <td>0.000000</td>\n",
              "      <td>595.000000</td>\n",
              "      <td>51.000000</td>\n",
              "      <td>162100.000000</td>\n",
              "      <td>5.799501e+06</td>\n",
              "      <td>5.270001e+09</td>\n",
              "      <td>NaN</td>\n",
              "    </tr>\n",
              "  </tbody>\n",
              "</table>\n",
              "</div>"
            ],
            "text/plain": [
              "              CAMIS        ZIPCODE          SCORE       Latitude  \\\n",
              "count  2.091150e+05  206196.000000  198147.000000  208817.000000   \n",
              "mean   4.712553e+07   10701.317208      21.779235      40.163556   \n",
              "std    4.197601e+06     593.828723      16.934444       4.761835   \n",
              "min    3.007544e+07    8512.000000       0.000000       0.000000   \n",
              "25%    4.156438e+07   10023.000000      11.000000      40.683844   \n",
              "50%    5.004951e+07   11040.000000      17.000000      40.730805   \n",
              "75%    5.009331e+07   11230.000000      29.000000      40.761661   \n",
              "max    5.013298e+07   14228.000000     157.000000      40.912822   \n",
              "\n",
              "           Longitude  Community Board  Council District   Census Tract  \\\n",
              "count  208817.000000    205662.000000     205662.000000  205662.000000   \n",
              "mean      -72.916374       252.339275         20.532281   29790.463202   \n",
              "std         8.644483       129.411546         15.741145   31289.766859   \n",
              "min       -74.249101       101.000000          1.000000     100.000000   \n",
              "25%       -73.988816       106.000000          4.000000    7900.000000   \n",
              "50%       -73.956289       301.000000         20.000000   17300.000000   \n",
              "75%       -73.895922       401.000000         34.000000   42100.000000   \n",
              "max         0.000000       595.000000         51.000000  162100.000000   \n",
              "\n",
              "                BIN           BBL  Location Point  \n",
              "count  2.045690e+05  2.085560e+05             0.0  \n",
              "mean   2.550635e+06  2.438073e+09             NaN  \n",
              "std    1.338117e+06  1.331019e+09             NaN  \n",
              "min    1.000000e+06  1.000000e+00             NaN  \n",
              "25%    1.049918e+06  1.010650e+09             NaN  \n",
              "50%    3.016347e+06  3.004670e+09             NaN  \n",
              "75%    4.002508e+06  4.001883e+09             NaN  \n",
              "max    5.799501e+06  5.270001e+09             NaN  "
            ]
          },
          "execution_count": 34,
          "metadata": {},
          "output_type": "execute_result"
        }
      ],
      "source": [
        "restaurants.describe()"
      ]
    },
    {
      "cell_type": "markdown",
      "metadata": {
        "id": "sFlEcTbLZZEr"
      },
      "source": [
        "## <a class=\"anchor\"></a> 1.2. Dtypes and descriptive statistics\n",
        "\n",
        "Recall from week2 that there are different dtypes in Pandas. Have a look at this table once again:\n",
        "\n",
        "\n",
        "| Pandas dtype  | Python type  | NumPy type|Usage\n",
        "| :--- | :--- | :--- | :--- |\n",
        "| object| str or mixed | string_, unicode_, mixed types| Text or mixed numeric and non_numeric values |\n",
        "| int 64| int| int_, int8, int16, int32, int64, uint8, uint18, uint32, uint64 | Integer numbers i.e. [1,2,3,...] |\n",
        "| float64| float| float_, float15, float32, float64 | Floating point numbers (They contain decimal points) |\n",
        "| bool| bool|bool_| True/False values|\n",
        "| datetime64 | NA | datetime64[ns]     | Date and time values  |\n",
        "| timedelta[ns] | NA  | NA| Differences between two datetime|\n",
        "| category | NA| NA| Finite list of text values|\n",
        "\n",
        "\n",
        "Now let's see what the dtypes of our DF are:\n"
      ]
    },
    {
      "cell_type": "code",
      "execution_count": 35,
      "metadata": {
        "colab": {
          "base_uri": "https://localhost:8080/"
        },
        "id": "fOVgjWctXtvp",
        "outputId": "470da47e-cb56-4c9e-ccf7-64c0ae6b15b3"
      },
      "outputs": [
        {
          "data": {
            "text/plain": [
              "CAMIS                      int64\n",
              "DBA                       object\n",
              "BORO                      object\n",
              "BUILDING                  object\n",
              "STREET                    object\n",
              "ZIPCODE                  float64\n",
              "PHONE                     object\n",
              "CUISINE DESCRIPTION       object\n",
              "INSPECTION DATE           object\n",
              "ACTION                    object\n",
              "VIOLATION CODE            object\n",
              "VIOLATION DESCRIPTION     object\n",
              "CRITICAL FLAG             object\n",
              "SCORE                    float64\n",
              "GRADE                     object\n",
              "GRADE DATE                object\n",
              "RECORD DATE               object\n",
              "INSPECTION TYPE           object\n",
              "Latitude                 float64\n",
              "Longitude                float64\n",
              "Community Board          float64\n",
              "Council District         float64\n",
              "Census Tract             float64\n",
              "BIN                      float64\n",
              "BBL                      float64\n",
              "NTA                       object\n",
              "Location Point           float64\n",
              "dtype: object"
            ]
          },
          "execution_count": 35,
          "metadata": {},
          "output_type": "execute_result"
        }
      ],
      "source": [
        "restaurants.dtypes"
      ]
    },
    {
      "cell_type": "markdown",
      "metadata": {
        "id": "F6cXeIxnir33"
      },
      "source": [
        "### <a class=\"anchor\"></a> 1.2.1 Descriptive Statistics for numerical variables\n",
        "\n",
        "As you can see, the DataFrame comprises different types of Data. You always have to pay attention to this, as the supported operations depends on it. For instance, float64 is a desired type for decimal data, especially if we want to see statistics, distribution etc... \n"
      ]
    },
    {
      "cell_type": "code",
      "execution_count": 36,
      "metadata": {
        "colab": {
          "base_uri": "https://localhost:8080/"
        },
        "id": "3Z7jTfsQaRKp",
        "outputId": "fcf87f30-4813-437d-de43-ec76e67155c9"
      },
      "outputs": [
        {
          "data": {
            "text/plain": [
              "count    198147.000000\n",
              "mean         21.779235\n",
              "std          16.934444\n",
              "min           0.000000\n",
              "25%          11.000000\n",
              "50%          17.000000\n",
              "75%          29.000000\n",
              "max         157.000000\n",
              "Name: SCORE, dtype: float64"
            ]
          },
          "execution_count": 36,
          "metadata": {},
          "output_type": "execute_result"
        }
      ],
      "source": [
        "#Describe the SCORE column\n",
        "restaurants.SCORE.describe()"
      ]
    },
    {
      "cell_type": "markdown",
      "metadata": {
        "id": "dWT6EPKDE8zE"
      },
      "source": [
        "We can use the `.hist()` function to plot an histogram and analyze data distribution. "
      ]
    },
    {
      "cell_type": "code",
      "execution_count": 37,
      "metadata": {
        "colab": {
          "base_uri": "https://localhost:8080/",
          "height": 265
        },
        "id": "8jvoTXbVE-rA",
        "outputId": "12fb72e3-f482-4e8e-a112-0996194901e3"
      },
      "outputs": [
        {
          "data": {
            "image/png": "[encoded data removed]",
            "text/plain": [
              "<Figure size 640x480 with 1 Axes>"
            ]
          },
          "metadata": {},
          "output_type": "display_data"
        }
      ],
      "source": [
        "hist_score=restaurants[\"SCORE\"].hist()"
      ]
    },
    {
      "cell_type": "markdown",
      "metadata": {
        "id": "NLHK6ncaGNsB"
      },
      "source": [
        "Granularity is important for distribution analysis and precision. It can be changed by varying the number if bins used for display.  The `hist()` function allows to pass multiple arguments, you can find more information if you follow this [link](https://pandas.pydata.org/pandas-docs/stable/reference/api/pandas.DataFrame.hist.html)\n"
      ]
    },
    {
      "cell_type": "code",
      "execution_count": 38,
      "metadata": {
        "colab": {
          "base_uri": "https://localhost:8080/",
          "height": 265
        },
        "id": "0ZmdQWYHHl7g",
        "outputId": "0c2fb216-cead-4842-eac3-2c07ac9347f9"
      },
      "outputs": [
        {
          "data": {
            "image/png": "[encoded data removed]",
            "text/plain": [
              "<Figure size 640x480 with 1 Axes>"
            ]
          },
          "metadata": {},
          "output_type": "display_data"
        }
      ],
      "source": [
        "hist_score_2=restaurants[\"SCORE\"].hist(bins = 50)"
      ]
    },
    {
      "cell_type": "code",
      "execution_count": 39,
      "metadata": {
        "colab": {
          "base_uri": "https://localhost:8080/",
          "height": 320
        },
        "id": "XGZTeED5Hyrg",
        "outputId": "2e69abae-6715-439f-f40d-ed6fca55c243"
      },
      "outputs": [
        {
          "data": {
            "image/png": "[encoded data removed]",
            "text/plain": [
              "<Figure size 1500x500 with 1 Axes>"
            ]
          },
          "metadata": {},
          "output_type": "display_data"
        }
      ],
      "source": [
        "# A quick exposure to various options of the \"hist\" command \n",
        "hist_score_3=restaurants.SCORE.hist(bins=50, # use 50 bars\n",
        "                          range=(0,50), # x-axis from 0 to 50\n",
        "                          density=False,  # show normalized count (density=True), or raw counts (density= False)\n",
        "                          figsize=(15,5), # controls the size of the plot\n",
        "                          alpha = 0.8 # make the plot 20% transparent\n",
        "                         )"
      ]
    },
    {
      "cell_type": "markdown",
      "metadata": {
        "id": "QskynHO7ayNR"
      },
      "source": [
        "We now have some statistical information for the SCORE column. Let's convert some other columns to a more useful type."
      ]
    },
    {
      "cell_type": "markdown",
      "metadata": {
        "id": "ncwnUCNKch05"
      },
      "source": [
        "### <a class=\"anchor\"></a> 1.2.2 Descriptive statistics for DATETIME variables\n",
        "\n",
        "\n",
        "Remember that one of the dtypes handles Date and Time. Some of the columns in our DF contain this type of data, so let's convert these columns to the `datetime64` dtype so that we can further processings, statistics and distribution analysis for example.\n"
      ]
    },
    {
      "cell_type": "code",
      "execution_count": 40,
      "metadata": {
        "colab": {
          "base_uri": "https://localhost:8080/"
        },
        "id": "GpHpl-lXdXOI",
        "outputId": "525fe15c-815a-470d-e328-dae3f40f33ee"
      },
      "outputs": [
        {
          "data": {
            "text/plain": [
              "23114     03/17/2022\n",
              "18018            NaN\n",
              "206366    10/26/2022\n",
              "60946     08/05/2021\n",
              "98565     04/09/2019\n",
              "134226           NaN\n",
              "71437            NaN\n",
              "68849            NaN\n",
              "198830           NaN\n",
              "6077      01/03/2023\n",
              "Name: GRADE DATE, dtype: object"
            ]
          },
          "execution_count": 40,
          "metadata": {},
          "output_type": "execute_result"
        }
      ],
      "source": [
        "restaurants[\"GRADE DATE\"].sample(10)"
      ]
    },
    {
      "cell_type": "markdown",
      "metadata": {
        "id": "HM24xiHNdokw"
      },
      "source": [
        "For that, we need to understand first how to parse dates using the [Python conventions.](https://docs.python.org/3/library/datetime.html#strftime-and-strptime-behavior) \n",
        "\n",
        "The relevant entries from the table are:\n",
        "\n",
        "    %m Month as a zero-padded decimal number.\n",
        "    %d Day of the month as a zero-padded decimal number.\n",
        "    %Y Year with century as a decimal number.\n",
        "\n",
        "Now that we know in what format the dates were entried (remember that americans write dates like this `month/day/year` , as opposed to `day/month/year`), we can convert our columns."
      ]
    },
    {
      "cell_type": "code",
      "execution_count": 41,
      "metadata": {
        "colab": {
          "base_uri": "https://localhost:8080/"
        },
        "id": "WkFnmcNNea9I",
        "outputId": "250a6b47-e4e7-4ffe-c998-c417b52c5809"
      },
      "outputs": [
        {
          "data": {
            "text/plain": [
              "CAMIS                             int64\n",
              "DBA                              object\n",
              "BORO                             object\n",
              "BUILDING                         object\n",
              "STREET                           object\n",
              "ZIPCODE                         float64\n",
              "PHONE                            object\n",
              "CUISINE DESCRIPTION              object\n",
              "INSPECTION DATE          datetime64[ns]\n",
              "ACTION                           object\n",
              "VIOLATION CODE                   object\n",
              "VIOLATION DESCRIPTION            object\n",
              "CRITICAL FLAG                    object\n",
              "SCORE                           float64\n",
              "GRADE                            object\n",
              "GRADE DATE               datetime64[ns]\n",
              "RECORD DATE              datetime64[ns]\n",
              "INSPECTION TYPE                  object\n",
              "Latitude                        float64\n",
              "Longitude                       float64\n",
              "Community Board                 float64\n",
              "Council District                float64\n",
              "Census Tract                    float64\n",
              "BIN                             float64\n",
              "BBL                             float64\n",
              "NTA                              object\n",
              "Location Point                  float64\n",
              "dtype: object"
            ]
          },
          "execution_count": 41,
          "metadata": {},
          "output_type": "execute_result"
        }
      ],
      "source": [
        "#We convert some columnd to the datetime64 tyoe\n",
        "restaurants[\"GRADE DATE\"] = pd.to_datetime(restaurants[\"GRADE DATE\"], format=\"%m/%d/%Y\")\n",
        "restaurants[\"RECORD DATE\"] = pd.to_datetime(restaurants[\"RECORD DATE\"], format=\"%m/%d/%Y\")\n",
        "restaurants[\"INSPECTION DATE\"] = pd.to_datetime(restaurants[\"INSPECTION DATE\"], format=\"%m/%d/%Y\")\n",
        "\n",
        "#Now we have another look at the dtaypes\n",
        "restaurants.dtypes"
      ]
    },
    {
      "cell_type": "markdown",
      "metadata": {
        "id": "x7FU3IlEe1MR"
      },
      "source": [
        "Let's see what the `.describe()` function can do now."
      ]
    },
    {
      "cell_type": "code",
      "execution_count": 42,
      "metadata": {
        "colab": {
          "base_uri": "https://localhost:8080/",
          "height": 269
        },
        "id": "QjHjatoRedo5",
        "outputId": "4a9154f4-9cd6-4001-bc15-c0ff0e087c36"
      },
      "outputs": [
        {
          "data": {
            "text/html": [
              "<div>\n",
              "<style scoped>\n",
              "    .dataframe tbody tr th:only-of-type {\n",
              "        vertical-align: middle;\n",
              "    }\n",
              "\n",
              "    .dataframe tbody tr th {\n",
              "        vertical-align: top;\n",
              "    }\n",
              "\n",
              "    .dataframe thead th {\n",
              "        text-align: right;\n",
              "    }\n",
              "</style>\n",
              "<table border=\"1\" class=\"dataframe\">\n",
              "  <thead>\n",
              "    <tr style=\"text-align: right;\">\n",
              "      <th></th>\n",
              "      <th>INSPECTION DATE</th>\n",
              "      <th>GRADE DATE</th>\n",
              "      <th>RECORD DATE</th>\n",
              "    </tr>\n",
              "  </thead>\n",
              "  <tbody>\n",
              "    <tr>\n",
              "      <th>count</th>\n",
              "      <td>209115</td>\n",
              "      <td>96346</td>\n",
              "      <td>209115</td>\n",
              "    </tr>\n",
              "    <tr>\n",
              "      <th>mean</th>\n",
              "      <td>2018-11-12 15:44:35.739186688</td>\n",
              "      <td>2021-04-28 07:36:03.975670784</td>\n",
              "      <td>2023-02-26 00:00:00</td>\n",
              "    </tr>\n",
              "    <tr>\n",
              "      <th>min</th>\n",
              "      <td>1900-01-01 00:00:00</td>\n",
              "      <td>2012-05-01 00:00:00</td>\n",
              "      <td>2023-02-26 00:00:00</td>\n",
              "    </tr>\n",
              "    <tr>\n",
              "      <th>25%</th>\n",
              "      <td>2019-12-06 00:00:00</td>\n",
              "      <td>2019-11-20 00:00:00</td>\n",
              "      <td>2023-02-26 00:00:00</td>\n",
              "    </tr>\n",
              "    <tr>\n",
              "      <th>50%</th>\n",
              "      <td>2022-01-31 00:00:00</td>\n",
              "      <td>2022-01-24 00:00:00</td>\n",
              "      <td>2023-02-26 00:00:00</td>\n",
              "    </tr>\n",
              "    <tr>\n",
              "      <th>75%</th>\n",
              "      <td>2022-08-12 00:00:00</td>\n",
              "      <td>2022-09-02 00:00:00</td>\n",
              "      <td>2023-02-26 00:00:00</td>\n",
              "    </tr>\n",
              "    <tr>\n",
              "      <th>max</th>\n",
              "      <td>2023-02-24 00:00:00</td>\n",
              "      <td>2023-02-24 00:00:00</td>\n",
              "      <td>2023-02-26 00:00:00</td>\n",
              "    </tr>\n",
              "  </tbody>\n",
              "</table>\n",
              "</div>"
            ],
            "text/plain": [
              "                     INSPECTION DATE                     GRADE DATE  \\\n",
              "count                         209115                          96346   \n",
              "mean   2018-11-12 15:44:35.739186688  2021-04-28 07:36:03.975670784   \n",
              "min              1900-01-01 00:00:00            2012-05-01 00:00:00   \n",
              "25%              2019-12-06 00:00:00            2019-11-20 00:00:00   \n",
              "50%              2022-01-31 00:00:00            2022-01-24 00:00:00   \n",
              "75%              2022-08-12 00:00:00            2022-09-02 00:00:00   \n",
              "max              2023-02-24 00:00:00            2023-02-24 00:00:00   \n",
              "\n",
              "               RECORD DATE  \n",
              "count               209115  \n",
              "mean   2023-02-26 00:00:00  \n",
              "min    2023-02-26 00:00:00  \n",
              "25%    2023-02-26 00:00:00  \n",
              "50%    2023-02-26 00:00:00  \n",
              "75%    2023-02-26 00:00:00  \n",
              "max    2023-02-26 00:00:00  "
            ]
          },
          "execution_count": 42,
          "metadata": {},
          "output_type": "execute_result"
        }
      ],
      "source": [
        "restaurants[[\"INSPECTION DATE\", \"GRADE DATE\", \"RECORD DATE\"]].describe(datetime_is_numeric=True)"
      ]
    },
    {
      "cell_type": "markdown",
      "metadata": {
        "id": "8bCF8YwP7g8c"
      },
      "source": [
        "We can also plot an histogram for datetime variables:"
      ]
    },
    {
      "cell_type": "code",
      "execution_count": 43,
      "metadata": {
        "colab": {
          "base_uri": "https://localhost:8080/",
          "height": 267
        },
        "id": "A-Nlhi4D1fGb",
        "outputId": "68d82462-0685-41a3-ff05-f3c2d0417821"
      },
      "outputs": [
        {
          "data": {
            "image/png": "[encoded data removed]",
            "text/plain": [
              "<Figure size 640x480 with 1 Axes>"
            ]
          },
          "metadata": {},
          "output_type": "display_data"
        }
      ],
      "source": [
        "hist_date=restaurants[\"GRADE DATE\"].hist(bins=50)"
      ]
    },
    {
      "cell_type": "markdown",
      "metadata": {
        "id": "J0rTfZ5medCI"
      },
      "source": [
        "### <a class=\"anchor\"></a> 1.2.3 Descriptive statistics for categorical variables\n",
        "\n",
        "Now let's handle categorical data. This is most commonly useful when we have variables that have an implicit order (e.g., the A/B/C grade of the restaurant).\n",
        "\n",
        "We can use the pandas `.Categorical` function for this."
      ]
    },
    {
      "cell_type": "code",
      "execution_count": 44,
      "metadata": {
        "colab": {
          "base_uri": "https://localhost:8080/"
        },
        "id": "F_U3zpWKfslZ",
        "outputId": "bc73334e-7511-4c07-e81a-97b922596c69"
      },
      "outputs": [
        {
          "data": {
            "text/plain": [
              "CAMIS                             int64\n",
              "DBA                              object\n",
              "BORO                           category\n",
              "BUILDING                         object\n",
              "STREET                           object\n",
              "ZIPCODE                         float64\n",
              "PHONE                            object\n",
              "CUISINE DESCRIPTION            category\n",
              "INSPECTION DATE          datetime64[ns]\n",
              "ACTION                         category\n",
              "VIOLATION CODE                 category\n",
              "VIOLATION DESCRIPTION            object\n",
              "CRITICAL FLAG                  category\n",
              "SCORE                           float64\n",
              "GRADE                          category\n",
              "GRADE DATE               datetime64[ns]\n",
              "RECORD DATE              datetime64[ns]\n",
              "INSPECTION TYPE                  object\n",
              "Latitude                        float64\n",
              "Longitude                       float64\n",
              "Community Board                 float64\n",
              "Council District                float64\n",
              "Census Tract                    float64\n",
              "BIN                             float64\n",
              "BBL                             float64\n",
              "NTA                              object\n",
              "Location Point                  float64\n",
              "dtype: object"
            ]
          },
          "execution_count": 44,
          "metadata": {},
          "output_type": "execute_result"
        }
      ],
      "source": [
        "#We convert the categorical columns\n",
        "restaurants[\"BORO\"] =  pd.Categorical(restaurants[\"BORO\"], ordered=False)\n",
        "restaurants[\"GRADE\"] =  pd.Categorical(restaurants[\"GRADE\"], categories = ['A', 'B', 'C'], ordered=True)\n",
        "restaurants[\"VIOLATION CODE\"] =  pd.Categorical(restaurants[\"VIOLATION CODE\"], ordered=False)\n",
        "restaurants[\"CRITICAL FLAG\"] =  pd.Categorical(restaurants[\"CRITICAL FLAG\"], ordered=False)\n",
        "restaurants[\"ACTION\"] =  pd.Categorical(restaurants[\"ACTION\"], ordered=False)\n",
        "restaurants[\"CUISINE DESCRIPTION\"] =  pd.Categorical(restaurants[\"CUISINE DESCRIPTION\"], ordered=False)\n",
        "\n",
        "#We have another look at the dtypes\n",
        "restaurants.dtypes"
      ]
    },
    {
      "cell_type": "code",
      "execution_count": 45,
      "metadata": {
        "colab": {
          "base_uri": "https://localhost:8080/"
        },
        "id": "p1an3tNfOgKH",
        "outputId": "56efaf7c-5d21-4cf4-b5a6-d6b195af7981"
      },
      "outputs": [
        {
          "data": {
            "text/plain": [
              "A    74367\n",
              "B     9613\n",
              "C     5057\n",
              "Name: GRADE, dtype: int64"
            ]
          },
          "execution_count": 45,
          "metadata": {},
          "output_type": "execute_result"
        }
      ],
      "source": [
        "restaurants.GRADE.value_counts()"
      ]
    },
    {
      "cell_type": "code",
      "execution_count": 46,
      "metadata": {
        "colab": {
          "base_uri": "https://localhost:8080/"
        },
        "id": "fytkMZlFgan5",
        "outputId": "d42e6ee4-dbd2-4ac9-b9c5-8ca25b0c8cae"
      },
      "outputs": [
        {
          "data": {
            "text/plain": [
              "DUNKIN                                   2542\n",
              "SUBWAY                                   1527\n",
              "STARBUCKS                                1107\n",
              "MCDONALD'S                                949\n",
              "KENNEDY FRIED CHICKEN                     717\n",
              "POPEYES                                   621\n",
              "BURGER KING                               619\n",
              "CROWN FRIED CHICKEN                       590\n",
              "GOLDEN KRUST CARIBBEAN BAKERY & GRILL     498\n",
              "DOMINO'S                                  459\n",
              "Name: DBA, dtype: int64"
            ]
          },
          "execution_count": 46,
          "metadata": {},
          "output_type": "execute_result"
        }
      ],
      "source": [
        "#Display 10 first entries \n",
        "restaurants[\"DBA\"].value_counts()[:10]"
      ]
    },
    {
      "cell_type": "markdown",
      "metadata": {
        "id": "w9EaoV62gh4w"
      },
      "source": [
        "An explanation:\n",
        " * The `value_counts()` function counts how many different values there are.\n",
        " * The `[:10]` filters the list, thus showing us only the first 10 values.  \n",
        "\n",
        "\n",
        " "
      ]
    },
    {
      "cell_type": "code",
      "execution_count": 47,
      "metadata": {
        "colab": {
          "base_uri": "https://localhost:8080/",
          "height": 206
        },
        "id": "izY0a0Qyg_K6",
        "outputId": "6a13d9a9-c171-4026-b3cd-d7d255bb6029"
      },
      "outputs": [
        {
          "data": {
            "text/html": [
              "<div>\n",
              "<style scoped>\n",
              "    .dataframe tbody tr th:only-of-type {\n",
              "        vertical-align: middle;\n",
              "    }\n",
              "\n",
              "    .dataframe tbody tr th {\n",
              "        vertical-align: top;\n",
              "    }\n",
              "\n",
              "    .dataframe thead th {\n",
              "        text-align: right;\n",
              "    }\n",
              "</style>\n",
              "<table border=\"1\" class=\"dataframe\">\n",
              "  <thead>\n",
              "    <tr style=\"text-align: right;\">\n",
              "      <th></th>\n",
              "      <th>CUISINE DESCRIPTION</th>\n",
              "    </tr>\n",
              "  </thead>\n",
              "  <tbody>\n",
              "    <tr>\n",
              "      <th>American</th>\n",
              "      <td>36591</td>\n",
              "    </tr>\n",
              "    <tr>\n",
              "      <th>Chinese</th>\n",
              "      <td>20051</td>\n",
              "    </tr>\n",
              "    <tr>\n",
              "      <th>Pizza</th>\n",
              "      <td>12896</td>\n",
              "    </tr>\n",
              "    <tr>\n",
              "      <th>Coffee/Tea</th>\n",
              "      <td>11923</td>\n",
              "    </tr>\n",
              "    <tr>\n",
              "      <th>Latin American</th>\n",
              "      <td>8676</td>\n",
              "    </tr>\n",
              "  </tbody>\n",
              "</table>\n",
              "</div>"
            ],
            "text/plain": [
              "                CUISINE DESCRIPTION\n",
              "American                      36591\n",
              "Chinese                       20051\n",
              "Pizza                         12896\n",
              "Coffee/Tea                    11923\n",
              "Latin American                 8676"
            ]
          },
          "execution_count": 47,
          "metadata": {},
          "output_type": "execute_result"
        }
      ],
      "source": [
        "#Display 5 first entries\n",
        "restaurants[\"CUISINE DESCRIPTION\"].value_counts()[:5].to_frame()"
      ]
    },
    {
      "cell_type": "markdown",
      "metadata": {
        "id": "YXRJhWgMhErJ"
      },
      "source": [
        "We can also plot the data, lets start by plotting the different categories of food with the `.plot()` function."
      ]
    },
    {
      "cell_type": "code",
      "execution_count": 48,
      "metadata": {
        "colab": {
          "base_uri": "https://localhost:8080/",
          "height": 331
        },
        "id": "38BuE0behB_o",
        "outputId": "cfe40daa-be52-447f-bee0-c101bfd93296"
      },
      "outputs": [
        {
          "data": {
            "image/png": "[encoded data removed]",
            "text/plain": [
              "<Figure size 640x480 with 1 Axes>"
            ]
          },
          "metadata": {},
          "output_type": "display_data"
        }
      ],
      "source": [
        "hist_cuisine=restaurants[\"CUISINE DESCRIPTION\"].value_counts()[:5].plot(kind='bar')"
      ]
    },
    {
      "cell_type": "code",
      "execution_count": 49,
      "metadata": {
        "colab": {
          "base_uri": "https://localhost:8080/",
          "height": 206
        },
        "id": "PM_T_wejhv8g",
        "outputId": "f2f84179-dfe3-47c0-ea4d-8f20a1d2f0df"
      },
      "outputs": [
        {
          "data": {
            "text/html": [
              "<div>\n",
              "<style scoped>\n",
              "    .dataframe tbody tr th:only-of-type {\n",
              "        vertical-align: middle;\n",
              "    }\n",
              "\n",
              "    .dataframe tbody tr th {\n",
              "        vertical-align: top;\n",
              "    }\n",
              "\n",
              "    .dataframe thead th {\n",
              "        text-align: right;\n",
              "    }\n",
              "</style>\n",
              "<table border=\"1\" class=\"dataframe\">\n",
              "  <thead>\n",
              "    <tr style=\"text-align: right;\">\n",
              "      <th></th>\n",
              "      <th>Cuisine count</th>\n",
              "    </tr>\n",
              "  </thead>\n",
              "  <tbody>\n",
              "    <tr>\n",
              "      <th>American</th>\n",
              "      <td>36591</td>\n",
              "    </tr>\n",
              "    <tr>\n",
              "      <th>Chinese</th>\n",
              "      <td>20051</td>\n",
              "    </tr>\n",
              "    <tr>\n",
              "      <th>Pizza</th>\n",
              "      <td>12896</td>\n",
              "    </tr>\n",
              "    <tr>\n",
              "      <th>Coffee/Tea</th>\n",
              "      <td>11923</td>\n",
              "    </tr>\n",
              "    <tr>\n",
              "      <th>Latin American</th>\n",
              "      <td>8676</td>\n",
              "    </tr>\n",
              "  </tbody>\n",
              "</table>\n",
              "</div>"
            ],
            "text/plain": [
              "                Cuisine count\n",
              "American                36591\n",
              "Chinese                 20051\n",
              "Pizza                   12896\n",
              "Coffee/Tea              11923\n",
              "Latin American           8676"
            ]
          },
          "execution_count": 49,
          "metadata": {},
          "output_type": "execute_result"
        }
      ],
      "source": [
        "popular = restaurants[\"CUISINE DESCRIPTION\"].value_counts().to_frame().rename(columns={\"CUISINE DESCRIPTION\": \"Cuisine count\"})\n",
        "popular.head()"
      ]
    },
    {
      "cell_type": "markdown",
      "metadata": {
        "id": "dY3l8-w_iWgw"
      },
      "source": [
        "If you have a look at the results of the last block of code, you will see that is seems to be quite detailed. We might for example want to treat \"Cuban\", \"Dominican\", \"Puerto Rican\", \"South & Central American\" just as \"Latin American\".\n",
        "\n",
        "The `.replace()` function allows us to do this."
      ]
    },
    {
      "cell_type": "code",
      "execution_count": 50,
      "metadata": {
        "id": "picE57BmiUYY"
      },
      "outputs": [],
      "source": [
        "#Latin American food\n",
        "restaurants[\"CUISINE DESCRIPTION\"].replace(\n",
        "    to_replace=['Latin American (Central and South America)', 'Chilean'],\n",
        "    value = 'Latin American',\n",
        "    inplace=True\n",
        ")\n",
        "\n",
        "#Coffe bar\n",
        "restaurants[\"CUISINE DESCRIPTION\"].replace(\n",
        "    to_replace='CafÃ©/Coffee/Tea',\n",
        "    value = 'Cafe/Coffee/Tea',\n",
        "    inplace=True\n",
        ")"
      ]
    },
    {
      "cell_type": "code",
      "execution_count": 51,
      "metadata": {
        "colab": {
          "base_uri": "https://localhost:8080/",
          "height": 206
        },
        "id": "k7_Jad3FJzms",
        "outputId": "817a0ebb-43ac-4a5e-f257-8fc5525e6175"
      },
      "outputs": [
        {
          "data": {
            "text/html": [
              "<div>\n",
              "<style scoped>\n",
              "    .dataframe tbody tr th:only-of-type {\n",
              "        vertical-align: middle;\n",
              "    }\n",
              "\n",
              "    .dataframe tbody tr th {\n",
              "        vertical-align: top;\n",
              "    }\n",
              "\n",
              "    .dataframe thead th {\n",
              "        text-align: right;\n",
              "    }\n",
              "</style>\n",
              "<table border=\"1\" class=\"dataframe\">\n",
              "  <thead>\n",
              "    <tr style=\"text-align: right;\">\n",
              "      <th></th>\n",
              "      <th>Cuisine count</th>\n",
              "    </tr>\n",
              "  </thead>\n",
              "  <tbody>\n",
              "    <tr>\n",
              "      <th>American</th>\n",
              "      <td>36591</td>\n",
              "    </tr>\n",
              "    <tr>\n",
              "      <th>Chinese</th>\n",
              "      <td>20051</td>\n",
              "    </tr>\n",
              "    <tr>\n",
              "      <th>Pizza</th>\n",
              "      <td>12896</td>\n",
              "    </tr>\n",
              "    <tr>\n",
              "      <th>Coffee/Tea</th>\n",
              "      <td>11923</td>\n",
              "    </tr>\n",
              "    <tr>\n",
              "      <th>Latin American</th>\n",
              "      <td>8706</td>\n",
              "    </tr>\n",
              "  </tbody>\n",
              "</table>\n",
              "</div>"
            ],
            "text/plain": [
              "                Cuisine count\n",
              "American                36591\n",
              "Chinese                 20051\n",
              "Pizza                   12896\n",
              "Coffee/Tea              11923\n",
              "Latin American           8706"
            ]
          },
          "execution_count": 51,
          "metadata": {},
          "output_type": "execute_result"
        }
      ],
      "source": [
        "popular = restaurants[\"CUISINE DESCRIPTION\"].value_counts().to_frame().rename(columns={\"CUISINE DESCRIPTION\": \"Cuisine count\"})\n",
        "popular.head()"
      ]
    },
    {
      "cell_type": "markdown",
      "metadata": {
        "id": "EbTrqDwXJVZx"
      },
      "source": [
        "We can now plot the same barchart again, and see what the results are:\n",
        "\n"
      ]
    },
    {
      "cell_type": "code",
      "execution_count": 52,
      "metadata": {
        "colab": {
          "base_uri": "https://localhost:8080/",
          "height": 331
        },
        "id": "PTKa2mAbJjjY",
        "outputId": "225603cc-c95a-4b54-dbe2-4746c56bfb89"
      },
      "outputs": [
        {
          "data": {
            "image/png": "[encoded data removed]",
            "text/plain": [
              "<Figure size 640x480 with 1 Axes>"
            ]
          },
          "metadata": {},
          "output_type": "display_data"
        }
      ],
      "source": [
        "popular = restaurants[\"CUISINE DESCRIPTION\"].value_counts()\n",
        "hist_pop=popular[:5].plot(kind='bar')"
      ]
    },
    {
      "cell_type": "markdown",
      "metadata": {
        "id": "L7m2LIHKjDBU"
      },
      "source": [
        "## <a class=\"anchor\"></a> 1.3 Selecting Subsets\n",
        "\n",
        "\n"
      ]
    },
    {
      "cell_type": "markdown",
      "metadata": {
        "id": "kU3TPOupkSDo"
      },
      "source": [
        "To select rows, we can use the following approach, where we generate a list of boolean values, one for each row of the dataframe, and then we use the list to select which of the rows of the dataframe we want to keep"
      ]
    },
    {
      "cell_type": "code",
      "execution_count": 53,
      "metadata": {
        "colab": {
          "base_uri": "https://localhost:8080/"
        },
        "id": "JpZNv0mjki_f",
        "outputId": "2ee61456-4144-45f2-ee72-019bef3c5271"
      },
      "outputs": [
        {
          "data": {
            "text/plain": [
              "0    False\n",
              "1    False\n",
              "2    False\n",
              "3    False\n",
              "4    False\n",
              "Name: VIOLATION CODE, dtype: bool"
            ]
          },
          "execution_count": 53,
          "metadata": {},
          "output_type": "execute_result"
        }
      ],
      "source": [
        "# Create the condition \"has mice\" for code 04L\n",
        "mice = (restaurants[\"VIOLATION CODE\"] == \"04L\")\n",
        "mice.head()"
      ]
    },
    {
      "cell_type": "code",
      "execution_count": 54,
      "metadata": {
        "colab": {
          "base_uri": "https://localhost:8080/",
          "height": 751
        },
        "id": "n5uQfBgnk4mZ",
        "outputId": "a383a908-5ed7-49fc-f87e-349c2e40a123"
      },
      "outputs": [
        {
          "data": {
            "text/html": [
              "<div>\n",
              "<style scoped>\n",
              "    .dataframe tbody tr th:only-of-type {\n",
              "        vertical-align: middle;\n",
              "    }\n",
              "\n",
              "    .dataframe tbody tr th {\n",
              "        vertical-align: top;\n",
              "    }\n",
              "\n",
              "    .dataframe thead th {\n",
              "        text-align: right;\n",
              "    }\n",
              "</style>\n",
              "<table border=\"1\" class=\"dataframe\">\n",
              "  <thead>\n",
              "    <tr style=\"text-align: right;\">\n",
              "      <th></th>\n",
              "      <th>CAMIS</th>\n",
              "      <th>DBA</th>\n",
              "      <th>BORO</th>\n",
              "      <th>BUILDING</th>\n",
              "      <th>STREET</th>\n",
              "      <th>ZIPCODE</th>\n",
              "      <th>PHONE</th>\n",
              "      <th>CUISINE DESCRIPTION</th>\n",
              "      <th>INSPECTION DATE</th>\n",
              "      <th>ACTION</th>\n",
              "      <th>...</th>\n",
              "      <th>INSPECTION TYPE</th>\n",
              "      <th>Latitude</th>\n",
              "      <th>Longitude</th>\n",
              "      <th>Community Board</th>\n",
              "      <th>Council District</th>\n",
              "      <th>Census Tract</th>\n",
              "      <th>BIN</th>\n",
              "      <th>BBL</th>\n",
              "      <th>NTA</th>\n",
              "      <th>Location Point</th>\n",
              "    </tr>\n",
              "  </thead>\n",
              "  <tbody>\n",
              "    <tr>\n",
              "      <th>124</th>\n",
              "      <td>41706169</td>\n",
              "      <td>FELFLA</td>\n",
              "      <td>Brooklyn</td>\n",
              "      <td>6906</td>\n",
              "      <td>3 AVENUE</td>\n",
              "      <td>11209.0</td>\n",
              "      <td>7186800609</td>\n",
              "      <td>Middle Eastern</td>\n",
              "      <td>2022-11-15</td>\n",
              "      <td>Violations were cited in the following area(s).</td>\n",
              "      <td>...</td>\n",
              "      <td>Cycle Inspection / Initial Inspection</td>\n",
              "      <td>40.635567</td>\n",
              "      <td>-74.026114</td>\n",
              "      <td>310.0</td>\n",
              "      <td>43.0</td>\n",
              "      <td>6800.0</td>\n",
              "      <td>3145621.0</td>\n",
              "      <td>3.058710e+09</td>\n",
              "      <td>BK31</td>\n",
              "      <td>NaN</td>\n",
              "    </tr>\n",
              "    <tr>\n",
              "      <th>398</th>\n",
              "      <td>41276645</td>\n",
              "      <td>ECUATORIANA RESTAURANT</td>\n",
              "      <td>Manhattan</td>\n",
              "      <td>16851687</td>\n",
              "      <td>AMSTERDAM AVENUE</td>\n",
              "      <td>NaN</td>\n",
              "      <td>2124914626</td>\n",
              "      <td>Spanish</td>\n",
              "      <td>2019-06-13</td>\n",
              "      <td>Violations were cited in the following area(s).</td>\n",
              "      <td>...</td>\n",
              "      <td>Cycle Inspection / Re-inspection</td>\n",
              "      <td>0.000000</td>\n",
              "      <td>0.000000</td>\n",
              "      <td>NaN</td>\n",
              "      <td>NaN</td>\n",
              "      <td>NaN</td>\n",
              "      <td>NaN</td>\n",
              "      <td>1.000000e+00</td>\n",
              "      <td>NaN</td>\n",
              "      <td>NaN</td>\n",
              "    </tr>\n",
              "    <tr>\n",
              "      <th>413</th>\n",
              "      <td>41275015</td>\n",
              "      <td>VANKA CAFE</td>\n",
              "      <td>Brooklyn</td>\n",
              "      <td>3810</td>\n",
              "      <td>NOSTRAND AVENUE</td>\n",
              "      <td>11235.0</td>\n",
              "      <td>3477024023</td>\n",
              "      <td>Russian</td>\n",
              "      <td>2023-01-13</td>\n",
              "      <td>Establishment re-opened by DOHMH.</td>\n",
              "      <td>...</td>\n",
              "      <td>Cycle Inspection / Reopening Inspection</td>\n",
              "      <td>40.590817</td>\n",
              "      <td>-73.940047</td>\n",
              "      <td>315.0</td>\n",
              "      <td>48.0</td>\n",
              "      <td>59600.0</td>\n",
              "      <td>3327490.0</td>\n",
              "      <td>3.074450e+09</td>\n",
              "      <td>BK17</td>\n",
              "      <td>NaN</td>\n",
              "    </tr>\n",
              "    <tr>\n",
              "      <th>530</th>\n",
              "      <td>40879245</td>\n",
              "      <td>GRAND HYATT NEW YORK HOTEL</td>\n",
              "      <td>Manhattan</td>\n",
              "      <td>0</td>\n",
              "      <td>@ GRAND CENTRAL</td>\n",
              "      <td>NaN</td>\n",
              "      <td>6462136774</td>\n",
              "      <td>American</td>\n",
              "      <td>2019-12-17</td>\n",
              "      <td>Violations were cited in the following area(s).</td>\n",
              "      <td>...</td>\n",
              "      <td>Cycle Inspection / Initial Inspection</td>\n",
              "      <td>0.000000</td>\n",
              "      <td>0.000000</td>\n",
              "      <td>NaN</td>\n",
              "      <td>NaN</td>\n",
              "      <td>NaN</td>\n",
              "      <td>NaN</td>\n",
              "      <td>1.000000e+00</td>\n",
              "      <td>NaN</td>\n",
              "      <td>NaN</td>\n",
              "    </tr>\n",
              "    <tr>\n",
              "      <th>679</th>\n",
              "      <td>50001856</td>\n",
              "      <td>DUNKIN</td>\n",
              "      <td>Manhattan</td>\n",
              "      <td>2103</td>\n",
              "      <td>FREDERICK DOUGLASS BOULEVARD</td>\n",
              "      <td>NaN</td>\n",
              "      <td>2122806414</td>\n",
              "      <td>Donuts</td>\n",
              "      <td>2021-09-07</td>\n",
              "      <td>Violations were cited in the following area(s).</td>\n",
              "      <td>...</td>\n",
              "      <td>Cycle Inspection / Initial Inspection</td>\n",
              "      <td>0.000000</td>\n",
              "      <td>0.000000</td>\n",
              "      <td>NaN</td>\n",
              "      <td>NaN</td>\n",
              "      <td>NaN</td>\n",
              "      <td>NaN</td>\n",
              "      <td>1.000000e+00</td>\n",
              "      <td>NaN</td>\n",
              "      <td>NaN</td>\n",
              "    </tr>\n",
              "  </tbody>\n",
              "</table>\n",
              "<p>5 rows × 27 columns</p>\n",
              "</div>"
            ],
            "text/plain": [
              "        CAMIS                         DBA       BORO  BUILDING  \\\n",
              "124  41706169                      FELFLA   Brooklyn      6906   \n",
              "398  41276645      ECUATORIANA RESTAURANT  Manhattan  16851687   \n",
              "413  41275015                  VANKA CAFE   Brooklyn      3810   \n",
              "530  40879245  GRAND HYATT NEW YORK HOTEL  Manhattan         0   \n",
              "679  50001856                      DUNKIN  Manhattan      2103   \n",
              "\n",
              "                           STREET  ZIPCODE       PHONE CUISINE DESCRIPTION  \\\n",
              "124                      3 AVENUE  11209.0  7186800609      Middle Eastern   \n",
              "398              AMSTERDAM AVENUE      NaN  2124914626             Spanish   \n",
              "413               NOSTRAND AVENUE  11235.0  3477024023             Russian   \n",
              "530               @ GRAND CENTRAL      NaN  6462136774            American   \n",
              "679  FREDERICK DOUGLASS BOULEVARD      NaN  2122806414              Donuts   \n",
              "\n",
              "    INSPECTION DATE                                           ACTION  ...  \\\n",
              "124      2022-11-15  Violations were cited in the following area(s).  ...   \n",
              "398      2019-06-13  Violations were cited in the following area(s).  ...   \n",
              "413      2023-01-13                Establishment re-opened by DOHMH.  ...   \n",
              "530      2019-12-17  Violations were cited in the following area(s).  ...   \n",
              "679      2021-09-07  Violations were cited in the following area(s).  ...   \n",
              "\n",
              "                             INSPECTION TYPE   Latitude  Longitude  \\\n",
              "124    Cycle Inspection / Initial Inspection  40.635567 -74.026114   \n",
              "398         Cycle Inspection / Re-inspection   0.000000   0.000000   \n",
              "413  Cycle Inspection / Reopening Inspection  40.590817 -73.940047   \n",
              "530    Cycle Inspection / Initial Inspection   0.000000   0.000000   \n",
              "679    Cycle Inspection / Initial Inspection   0.000000   0.000000   \n",
              "\n",
              "     Community Board Council District Census Tract        BIN           BBL  \\\n",
              "124            310.0             43.0       6800.0  3145621.0  3.058710e+09   \n",
              "398              NaN              NaN          NaN        NaN  1.000000e+00   \n",
              "413            315.0             48.0      59600.0  3327490.0  3.074450e+09   \n",
              "530              NaN              NaN          NaN        NaN  1.000000e+00   \n",
              "679              NaN              NaN          NaN        NaN  1.000000e+00   \n",
              "\n",
              "      NTA  Location Point  \n",
              "124  BK31             NaN  \n",
              "398   NaN             NaN  \n",
              "413  BK17             NaN  \n",
              "530   NaN             NaN  \n",
              "679   NaN             NaN  \n",
              "\n",
              "[5 rows x 27 columns]"
            ]
          },
          "execution_count": 54,
          "metadata": {},
          "output_type": "execute_result"
        }
      ],
      "source": [
        "# Apply the condition to the dataframe \"restaurants\" and store the result \n",
        "# in a dataframe called  has_mice\n",
        "\n",
        "has_mice = restaurants[mice]\n",
        "has_mice.head()"
      ]
    },
    {
      "cell_type": "code",
      "execution_count": 55,
      "metadata": {
        "colab": {
          "base_uri": "https://localhost:8080/",
          "height": 677
        },
        "id": "PYkyVskFk9Np",
        "outputId": "ee9226f1-822a-4184-b7d3-49c0cd380586"
      },
      "outputs": [
        {
          "data": {
            "text/html": [
              "<div>\n",
              "<style scoped>\n",
              "    .dataframe tbody tr th:only-of-type {\n",
              "        vertical-align: middle;\n",
              "    }\n",
              "\n",
              "    .dataframe tbody tr th {\n",
              "        vertical-align: top;\n",
              "    }\n",
              "\n",
              "    .dataframe thead th {\n",
              "        text-align: right;\n",
              "    }\n",
              "</style>\n",
              "<table border=\"1\" class=\"dataframe\">\n",
              "  <thead>\n",
              "    <tr style=\"text-align: right;\">\n",
              "      <th></th>\n",
              "      <th>DBA count</th>\n",
              "    </tr>\n",
              "  </thead>\n",
              "  <tbody>\n",
              "    <tr>\n",
              "      <th>SUBWAY</th>\n",
              "      <td>119</td>\n",
              "    </tr>\n",
              "    <tr>\n",
              "      <th>DUNKIN</th>\n",
              "      <td>97</td>\n",
              "    </tr>\n",
              "    <tr>\n",
              "      <th>KENNEDY FRIED CHICKEN</th>\n",
              "      <td>59</td>\n",
              "    </tr>\n",
              "    <tr>\n",
              "      <th>CROWN FRIED CHICKEN</th>\n",
              "      <td>57</td>\n",
              "    </tr>\n",
              "    <tr>\n",
              "      <th>BURGER KING</th>\n",
              "      <td>43</td>\n",
              "    </tr>\n",
              "    <tr>\n",
              "      <th>GOLDEN KRUST CARIBBEAN BAKERY &amp; GRILL</th>\n",
              "      <td>41</td>\n",
              "    </tr>\n",
              "    <tr>\n",
              "      <th>STARBUCKS</th>\n",
              "      <td>40</td>\n",
              "    </tr>\n",
              "    <tr>\n",
              "      <th>POPEYES</th>\n",
              "      <td>33</td>\n",
              "    </tr>\n",
              "    <tr>\n",
              "      <th>MCDONALD'S</th>\n",
              "      <td>32</td>\n",
              "    </tr>\n",
              "    <tr>\n",
              "      <th>CARVEL</th>\n",
              "      <td>28</td>\n",
              "    </tr>\n",
              "    <tr>\n",
              "      <th>DOMINO'S</th>\n",
              "      <td>28</td>\n",
              "    </tr>\n",
              "    <tr>\n",
              "      <th>PAPA JOHN'S</th>\n",
              "      <td>26</td>\n",
              "    </tr>\n",
              "    <tr>\n",
              "      <th>DUNKIN',' BASKIN ROBBINS</th>\n",
              "      <td>20</td>\n",
              "    </tr>\n",
              "    <tr>\n",
              "      <th>IHOP</th>\n",
              "      <td>18</td>\n",
              "    </tr>\n",
              "    <tr>\n",
              "      <th>AMC THEATRES</th>\n",
              "      <td>17</td>\n",
              "    </tr>\n",
              "    <tr>\n",
              "      <th>LE PAIN QUOTIDIEN</th>\n",
              "      <td>17</td>\n",
              "    </tr>\n",
              "    <tr>\n",
              "      <th>LITTLE CAESARS</th>\n",
              "      <td>16</td>\n",
              "    </tr>\n",
              "    <tr>\n",
              "      <th>CHIRPING CHICKEN</th>\n",
              "      <td>14</td>\n",
              "    </tr>\n",
              "    <tr>\n",
              "      <th>KFC</th>\n",
              "      <td>14</td>\n",
              "    </tr>\n",
              "    <tr>\n",
              "      <th>JOE &amp; THE JUICE</th>\n",
              "      <td>14</td>\n",
              "    </tr>\n",
              "  </tbody>\n",
              "</table>\n",
              "</div>"
            ],
            "text/plain": [
              "                                       DBA count\n",
              "SUBWAY                                       119\n",
              "DUNKIN                                        97\n",
              "KENNEDY FRIED CHICKEN                         59\n",
              "CROWN FRIED CHICKEN                           57\n",
              "BURGER KING                                   43\n",
              "GOLDEN KRUST CARIBBEAN BAKERY & GRILL         41\n",
              "STARBUCKS                                     40\n",
              "POPEYES                                       33\n",
              "MCDONALD'S                                    32\n",
              "CARVEL                                        28\n",
              "DOMINO'S                                      28\n",
              "PAPA JOHN'S                                   26\n",
              "DUNKIN',' BASKIN ROBBINS                      20\n",
              "IHOP                                          18\n",
              "AMC THEATRES                                  17\n",
              "LE PAIN QUOTIDIEN                             17\n",
              "LITTLE CAESARS                                16\n",
              "CHIRPING CHICKEN                              14\n",
              "KFC                                           14\n",
              "JOE & THE JUICE                               14"
            ]
          },
          "execution_count": 55,
          "metadata": {},
          "output_type": "execute_result"
        }
      ],
      "source": [
        "# List the most frequent DBA values in the data of restaurants that have mice\n",
        "has_mice[\"DBA\"].value_counts()[:20].to_frame().rename(columns={\"DBA\": \"DBA count\"})"
      ]
    },
    {
      "cell_type": "code",
      "execution_count": 56,
      "metadata": {
        "colab": {
          "base_uri": "https://localhost:8080/",
          "height": 206
        },
        "id": "9IkowTLrlDVI",
        "outputId": "72f8bf54-7918-4a64-a8c7-ee004c55f36d"
      },
      "outputs": [
        {
          "data": {
            "text/html": [
              "<div>\n",
              "<style scoped>\n",
              "    .dataframe tbody tr th:only-of-type {\n",
              "        vertical-align: middle;\n",
              "    }\n",
              "\n",
              "    .dataframe tbody tr th {\n",
              "        vertical-align: top;\n",
              "    }\n",
              "\n",
              "    .dataframe thead th {\n",
              "        text-align: right;\n",
              "    }\n",
              "</style>\n",
              "<table border=\"1\" class=\"dataframe\">\n",
              "  <thead>\n",
              "    <tr style=\"text-align: right;\">\n",
              "      <th></th>\n",
              "      <th>CAMIS count</th>\n",
              "    </tr>\n",
              "  </thead>\n",
              "  <tbody>\n",
              "    <tr>\n",
              "      <th>50044250</th>\n",
              "      <td>8</td>\n",
              "    </tr>\n",
              "    <tr>\n",
              "      <th>40610000</th>\n",
              "      <td>8</td>\n",
              "    </tr>\n",
              "    <tr>\n",
              "      <th>50106610</th>\n",
              "      <td>8</td>\n",
              "    </tr>\n",
              "    <tr>\n",
              "      <th>50042800</th>\n",
              "      <td>7</td>\n",
              "    </tr>\n",
              "    <tr>\n",
              "      <th>41474882</th>\n",
              "      <td>7</td>\n",
              "    </tr>\n",
              "  </tbody>\n",
              "</table>\n",
              "</div>"
            ],
            "text/plain": [
              "          CAMIS count\n",
              "50044250            8\n",
              "40610000            8\n",
              "50106610            8\n",
              "50042800            7\n",
              "41474882            7"
            ]
          },
          "execution_count": 56,
          "metadata": {},
          "output_type": "execute_result"
        }
      ],
      "source": [
        "has_mice[\"CAMIS\"].value_counts()[:5].to_frame().rename(columns={\"CAMIS\": \"CAMIS count\"})"
      ]
    },
    {
      "cell_type": "markdown",
      "metadata": {
        "id": "JKgTH03JlewI"
      },
      "source": [
        "And we can use more complex conditions."
      ]
    },
    {
      "cell_type": "code",
      "execution_count": 57,
      "metadata": {
        "colab": {
          "base_uri": "https://localhost:8080/",
          "height": 751
        },
        "id": "i8QMmc3VlgMT",
        "outputId": "7da85bd9-60c0-463a-d739-3aed53e4a381"
      },
      "outputs": [
        {
          "data": {
            "text/html": [
              "<div>\n",
              "<style scoped>\n",
              "    .dataframe tbody tr th:only-of-type {\n",
              "        vertical-align: middle;\n",
              "    }\n",
              "\n",
              "    .dataframe tbody tr th {\n",
              "        vertical-align: top;\n",
              "    }\n",
              "\n",
              "    .dataframe thead th {\n",
              "        text-align: right;\n",
              "    }\n",
              "</style>\n",
              "<table border=\"1\" class=\"dataframe\">\n",
              "  <thead>\n",
              "    <tr style=\"text-align: right;\">\n",
              "      <th></th>\n",
              "      <th>CAMIS</th>\n",
              "      <th>DBA</th>\n",
              "      <th>BORO</th>\n",
              "      <th>BUILDING</th>\n",
              "      <th>STREET</th>\n",
              "      <th>ZIPCODE</th>\n",
              "      <th>PHONE</th>\n",
              "      <th>CUISINE DESCRIPTION</th>\n",
              "      <th>INSPECTION DATE</th>\n",
              "      <th>ACTION</th>\n",
              "      <th>...</th>\n",
              "      <th>INSPECTION TYPE</th>\n",
              "      <th>Latitude</th>\n",
              "      <th>Longitude</th>\n",
              "      <th>Community Board</th>\n",
              "      <th>Council District</th>\n",
              "      <th>Census Tract</th>\n",
              "      <th>BIN</th>\n",
              "      <th>BBL</th>\n",
              "      <th>NTA</th>\n",
              "      <th>Location Point</th>\n",
              "    </tr>\n",
              "  </thead>\n",
              "  <tbody>\n",
              "    <tr>\n",
              "      <th>124</th>\n",
              "      <td>41706169</td>\n",
              "      <td>FELFLA</td>\n",
              "      <td>Brooklyn</td>\n",
              "      <td>6906</td>\n",
              "      <td>3 AVENUE</td>\n",
              "      <td>11209.0</td>\n",
              "      <td>7186800609</td>\n",
              "      <td>Middle Eastern</td>\n",
              "      <td>2022-11-15</td>\n",
              "      <td>Violations were cited in the following area(s).</td>\n",
              "      <td>...</td>\n",
              "      <td>Cycle Inspection / Initial Inspection</td>\n",
              "      <td>40.635567</td>\n",
              "      <td>-74.026114</td>\n",
              "      <td>310.0</td>\n",
              "      <td>43.0</td>\n",
              "      <td>6800.0</td>\n",
              "      <td>3145621.0</td>\n",
              "      <td>3.058710e+09</td>\n",
              "      <td>BK31</td>\n",
              "      <td>NaN</td>\n",
              "    </tr>\n",
              "    <tr>\n",
              "      <th>413</th>\n",
              "      <td>41275015</td>\n",
              "      <td>VANKA CAFE</td>\n",
              "      <td>Brooklyn</td>\n",
              "      <td>3810</td>\n",
              "      <td>NOSTRAND AVENUE</td>\n",
              "      <td>11235.0</td>\n",
              "      <td>3477024023</td>\n",
              "      <td>Russian</td>\n",
              "      <td>2023-01-13</td>\n",
              "      <td>Establishment re-opened by DOHMH.</td>\n",
              "      <td>...</td>\n",
              "      <td>Cycle Inspection / Reopening Inspection</td>\n",
              "      <td>40.590817</td>\n",
              "      <td>-73.940047</td>\n",
              "      <td>315.0</td>\n",
              "      <td>48.0</td>\n",
              "      <td>59600.0</td>\n",
              "      <td>3327490.0</td>\n",
              "      <td>3.074450e+09</td>\n",
              "      <td>BK17</td>\n",
              "      <td>NaN</td>\n",
              "    </tr>\n",
              "    <tr>\n",
              "      <th>861</th>\n",
              "      <td>41223224</td>\n",
              "      <td>SIRICO'S CATERING</td>\n",
              "      <td>Brooklyn</td>\n",
              "      <td>8015 23</td>\n",
              "      <td>13 AVENUE</td>\n",
              "      <td>NaN</td>\n",
              "      <td>7183312900</td>\n",
              "      <td>Italian</td>\n",
              "      <td>2022-03-31</td>\n",
              "      <td>Violations were cited in the following area(s).</td>\n",
              "      <td>...</td>\n",
              "      <td>Cycle Inspection / Initial Inspection</td>\n",
              "      <td>0.000000</td>\n",
              "      <td>0.000000</td>\n",
              "      <td>NaN</td>\n",
              "      <td>NaN</td>\n",
              "      <td>NaN</td>\n",
              "      <td>NaN</td>\n",
              "      <td>3.000000e+00</td>\n",
              "      <td>NaN</td>\n",
              "      <td>NaN</td>\n",
              "    </tr>\n",
              "    <tr>\n",
              "      <th>867</th>\n",
              "      <td>50100631</td>\n",
              "      <td>CHINA I</td>\n",
              "      <td>Brooklyn</td>\n",
              "      <td>5602</td>\n",
              "      <td>4 AVENUE</td>\n",
              "      <td>11220.0</td>\n",
              "      <td>9176716518</td>\n",
              "      <td>Chinese</td>\n",
              "      <td>2023-02-23</td>\n",
              "      <td>Violations were cited in the following area(s).</td>\n",
              "      <td>...</td>\n",
              "      <td>Cycle Inspection / Initial Inspection</td>\n",
              "      <td>40.643015</td>\n",
              "      <td>-74.016176</td>\n",
              "      <td>307.0</td>\n",
              "      <td>38.0</td>\n",
              "      <td>7400.0</td>\n",
              "      <td>3015279.0</td>\n",
              "      <td>3.008380e+09</td>\n",
              "      <td>BK32</td>\n",
              "      <td>NaN</td>\n",
              "    </tr>\n",
              "    <tr>\n",
              "      <th>1551</th>\n",
              "      <td>41627123</td>\n",
              "      <td>WALTER'S, KARASU</td>\n",
              "      <td>Brooklyn</td>\n",
              "      <td>166</td>\n",
              "      <td>DEKALB AVENUE</td>\n",
              "      <td>11217.0</td>\n",
              "      <td>7184887800</td>\n",
              "      <td>American</td>\n",
              "      <td>2022-07-19</td>\n",
              "      <td>Violations were cited in the following area(s).</td>\n",
              "      <td>...</td>\n",
              "      <td>Cycle Inspection / Initial Inspection</td>\n",
              "      <td>40.689611</td>\n",
              "      <td>-73.973273</td>\n",
              "      <td>302.0</td>\n",
              "      <td>35.0</td>\n",
              "      <td>18100.0</td>\n",
              "      <td>3058963.0</td>\n",
              "      <td>3.021010e+09</td>\n",
              "      <td>BK68</td>\n",
              "      <td>NaN</td>\n",
              "    </tr>\n",
              "  </tbody>\n",
              "</table>\n",
              "<p>5 rows × 27 columns</p>\n",
              "</div>"
            ],
            "text/plain": [
              "         CAMIS                DBA      BORO BUILDING           STREET  \\\n",
              "124   41706169             FELFLA  Brooklyn     6906         3 AVENUE   \n",
              "413   41275015         VANKA CAFE  Brooklyn     3810  NOSTRAND AVENUE   \n",
              "861   41223224  SIRICO'S CATERING  Brooklyn  8015 23        13 AVENUE   \n",
              "867   50100631            CHINA I  Brooklyn     5602         4 AVENUE   \n",
              "1551  41627123   WALTER'S, KARASU  Brooklyn      166    DEKALB AVENUE   \n",
              "\n",
              "      ZIPCODE       PHONE CUISINE DESCRIPTION INSPECTION DATE  \\\n",
              "124   11209.0  7186800609      Middle Eastern      2022-11-15   \n",
              "413   11235.0  3477024023             Russian      2023-01-13   \n",
              "861       NaN  7183312900             Italian      2022-03-31   \n",
              "867   11220.0  9176716518             Chinese      2023-02-23   \n",
              "1551  11217.0  7184887800            American      2022-07-19   \n",
              "\n",
              "                                               ACTION  ...  \\\n",
              "124   Violations were cited in the following area(s).  ...   \n",
              "413                 Establishment re-opened by DOHMH.  ...   \n",
              "861   Violations were cited in the following area(s).  ...   \n",
              "867   Violations were cited in the following area(s).  ...   \n",
              "1551  Violations were cited in the following area(s).  ...   \n",
              "\n",
              "                              INSPECTION TYPE   Latitude  Longitude  \\\n",
              "124     Cycle Inspection / Initial Inspection  40.635567 -74.026114   \n",
              "413   Cycle Inspection / Reopening Inspection  40.590817 -73.940047   \n",
              "861     Cycle Inspection / Initial Inspection   0.000000   0.000000   \n",
              "867     Cycle Inspection / Initial Inspection  40.643015 -74.016176   \n",
              "1551    Cycle Inspection / Initial Inspection  40.689611 -73.973273   \n",
              "\n",
              "      Community Board Council District Census Tract        BIN           BBL  \\\n",
              "124             310.0             43.0       6800.0  3145621.0  3.058710e+09   \n",
              "413             315.0             48.0      59600.0  3327490.0  3.074450e+09   \n",
              "861               NaN              NaN          NaN        NaN  3.000000e+00   \n",
              "867             307.0             38.0       7400.0  3015279.0  3.008380e+09   \n",
              "1551            302.0             35.0      18100.0  3058963.0  3.021010e+09   \n",
              "\n",
              "       NTA  Location Point  \n",
              "124   BK31             NaN  \n",
              "413   BK17             NaN  \n",
              "861    NaN             NaN  \n",
              "867   BK32             NaN  \n",
              "1551  BK68             NaN  \n",
              "\n",
              "[5 rows x 27 columns]"
            ]
          },
          "execution_count": 57,
          "metadata": {},
          "output_type": "execute_result"
        }
      ],
      "source": [
        "#Restaurants in Brooklyn that have mices\n",
        "mice_Brooklyn =  ( (restaurants[\"VIOLATION CODE\"] == \"04L\") \n",
        "                    & (restaurants[\"BORO\"] == \"Brooklyn\") )\n",
        "\n",
        "has_mice_brooklyn = restaurants[mice_Brooklyn]\n",
        "has_mice_brooklyn.head()"
      ]
    },
    {
      "cell_type": "code",
      "execution_count": 58,
      "metadata": {
        "colab": {
          "base_uri": "https://localhost:8080/",
          "height": 677
        },
        "id": "d2Q3qHG7lnQA",
        "outputId": "62e4044a-2667-4c1f-e579-594346985553"
      },
      "outputs": [
        {
          "data": {
            "text/html": [
              "<div>\n",
              "<style scoped>\n",
              "    .dataframe tbody tr th:only-of-type {\n",
              "        vertical-align: middle;\n",
              "    }\n",
              "\n",
              "    .dataframe tbody tr th {\n",
              "        vertical-align: top;\n",
              "    }\n",
              "\n",
              "    .dataframe thead th {\n",
              "        text-align: right;\n",
              "    }\n",
              "</style>\n",
              "<table border=\"1\" class=\"dataframe\">\n",
              "  <thead>\n",
              "    <tr style=\"text-align: right;\">\n",
              "      <th></th>\n",
              "      <th>DBA count</th>\n",
              "    </tr>\n",
              "  </thead>\n",
              "  <tbody>\n",
              "    <tr>\n",
              "      <th>CROWN FRIED CHICKEN</th>\n",
              "      <td>31</td>\n",
              "    </tr>\n",
              "    <tr>\n",
              "      <th>BURGER KING</th>\n",
              "      <td>15</td>\n",
              "    </tr>\n",
              "    <tr>\n",
              "      <th>DUNKIN</th>\n",
              "      <td>15</td>\n",
              "    </tr>\n",
              "    <tr>\n",
              "      <th>GOLDEN KRUST CARIBBEAN BAKERY &amp; GRILL</th>\n",
              "      <td>15</td>\n",
              "    </tr>\n",
              "    <tr>\n",
              "      <th>KENNEDY FRIED CHICKEN</th>\n",
              "      <td>14</td>\n",
              "    </tr>\n",
              "    <tr>\n",
              "      <th>PAPA JOHN'S</th>\n",
              "      <td>14</td>\n",
              "    </tr>\n",
              "    <tr>\n",
              "      <th>SUBWAY</th>\n",
              "      <td>9</td>\n",
              "    </tr>\n",
              "    <tr>\n",
              "      <th>HOP LEE KITCHEN</th>\n",
              "      <td>8</td>\n",
              "    </tr>\n",
              "    <tr>\n",
              "      <th>BUKA</th>\n",
              "      <td>7</td>\n",
              "    </tr>\n",
              "    <tr>\n",
              "      <th>TASTE OF CHINA</th>\n",
              "      <td>7</td>\n",
              "    </tr>\n",
              "    <tr>\n",
              "      <th>LUZZO'S BK</th>\n",
              "      <td>7</td>\n",
              "    </tr>\n",
              "    <tr>\n",
              "      <th>LA BAGEL DELIGHT</th>\n",
              "      <td>6</td>\n",
              "    </tr>\n",
              "    <tr>\n",
              "      <th>STARBUCKS</th>\n",
              "      <td>6</td>\n",
              "    </tr>\n",
              "    <tr>\n",
              "      <th>N.Y. TRACKS CAFE</th>\n",
              "      <td>6</td>\n",
              "    </tr>\n",
              "    <tr>\n",
              "      <th>DOMINOS</th>\n",
              "      <td>6</td>\n",
              "    </tr>\n",
              "    <tr>\n",
              "      <th>MIKE'S COFFEE SHOP</th>\n",
              "      <td>6</td>\n",
              "    </tr>\n",
              "    <tr>\n",
              "      <th>TORTILLAS KING</th>\n",
              "      <td>6</td>\n",
              "    </tr>\n",
              "    <tr>\n",
              "      <th>WRAY'S CARIBBEAN AND SEAFOOD CUISINE</th>\n",
              "      <td>6</td>\n",
              "    </tr>\n",
              "    <tr>\n",
              "      <th>BAOBURG</th>\n",
              "      <td>6</td>\n",
              "    </tr>\n",
              "    <tr>\n",
              "      <th>LOOKING GLASS</th>\n",
              "      <td>6</td>\n",
              "    </tr>\n",
              "  </tbody>\n",
              "</table>\n",
              "</div>"
            ],
            "text/plain": [
              "                                       DBA count\n",
              "CROWN FRIED CHICKEN                           31\n",
              "BURGER KING                                   15\n",
              "DUNKIN                                        15\n",
              "GOLDEN KRUST CARIBBEAN BAKERY & GRILL         15\n",
              "KENNEDY FRIED CHICKEN                         14\n",
              "PAPA JOHN'S                                   14\n",
              "SUBWAY                                         9\n",
              "HOP LEE KITCHEN                                8\n",
              "BUKA                                           7\n",
              "TASTE OF CHINA                                 7\n",
              "LUZZO'S BK                                     7\n",
              "LA BAGEL DELIGHT                               6\n",
              "STARBUCKS                                      6\n",
              "N.Y. TRACKS CAFE                               6\n",
              "DOMINOS                                        6\n",
              "MIKE'S COFFEE SHOP                             6\n",
              "TORTILLAS KING                                 6\n",
              "WRAY'S CARIBBEAN AND SEAFOOD CUISINE           6\n",
              "BAOBURG                                        6\n",
              "LOOKING GLASS                                  6"
            ]
          },
          "execution_count": 58,
          "metadata": {},
          "output_type": "execute_result"
        }
      ],
      "source": [
        "has_mice_brooklyn[\"DBA\"].value_counts()[:20].to_frame().rename(columns={\"DBA\": \"DBA count\"})"
      ]
    },
    {
      "cell_type": "markdown",
      "metadata": {
        "id": "yM7_hpenLHWg"
      },
      "source": [
        "## <a class=\"anchor\"></a> 1.3 Exercice\n"
      ]
    },
    {
      "cell_type": "code",
      "execution_count": 59,
      "metadata": {
        "id": "1sQADEghLNzo"
      },
      "outputs": [],
      "source": [
        "# Use the .head() function on the \"VIOLATION CODE\" column restaurants\n",
        "# [\"Your code here\"]."
      ]
    },
    {
      "cell_type": "code",
      "execution_count": 60,
      "metadata": {
        "id": "kjcEY_sdLhW4"
      },
      "outputs": [],
      "source": [
        "# Use the .value_counts() function to count the number of occurences by violation code\n",
        "# violation_counts = \"Your code here\"."
      ]
    },
    {
      "cell_type": "code",
      "execution_count": 61,
      "metadata": {
        "id": "fu0RShUeMFkw"
      },
      "outputs": [],
      "source": [
        "# Have a look at the first 10 values\n",
        "# [\"Your code here\"]"
      ]
    },
    {
      "cell_type": "code",
      "execution_count": 62,
      "metadata": {
        "id": "oTiRc5xfMunS"
      },
      "outputs": [],
      "source": [
        "# Plot the 20 violation codes ocurring the most\n",
        "# HINT : use the function .plot(kind = 'bar')\n",
        "# [\"Your code here\"]"
      ]
    },
    {
      "cell_type": "markdown",
      "metadata": {
        "id": "QKp-KN8go5VM"
      },
      "source": [
        "## <a class=\"anchor\"></a> 1.4 Missing data\n",
        "\n",
        "Let's have a look at our missing data. We will write a function which counts the number of missing values per column, and then calculates the percentage of the total values that the missing values represent.\n"
      ]
    },
    {
      "cell_type": "code",
      "execution_count": 63,
      "metadata": {
        "colab": {
          "base_uri": "https://localhost:8080/",
          "height": 865
        },
        "id": "53zMxx0kpcVq",
        "outputId": "29b2cc49-18b7-44ee-9e2a-8fde73f4cfab"
      },
      "outputs": [
        {
          "data": {
            "text/html": [
              "<div>\n",
              "<style scoped>\n",
              "    .dataframe tbody tr th:only-of-type {\n",
              "        vertical-align: middle;\n",
              "    }\n",
              "\n",
              "    .dataframe tbody tr th {\n",
              "        vertical-align: top;\n",
              "    }\n",
              "\n",
              "    .dataframe thead th {\n",
              "        text-align: right;\n",
              "    }\n",
              "</style>\n",
              "<table border=\"1\" class=\"dataframe\">\n",
              "  <thead>\n",
              "    <tr style=\"text-align: right;\">\n",
              "      <th></th>\n",
              "      <th>Total</th>\n",
              "      <th>Percent</th>\n",
              "    </tr>\n",
              "  </thead>\n",
              "  <tbody>\n",
              "    <tr>\n",
              "      <th>Location Point</th>\n",
              "      <td>209115</td>\n",
              "      <td>1.000000</td>\n",
              "    </tr>\n",
              "    <tr>\n",
              "      <th>GRADE</th>\n",
              "      <td>120078</td>\n",
              "      <td>0.574220</td>\n",
              "    </tr>\n",
              "    <tr>\n",
              "      <th>GRADE DATE</th>\n",
              "      <td>112769</td>\n",
              "      <td>0.539268</td>\n",
              "    </tr>\n",
              "    <tr>\n",
              "      <th>SCORE</th>\n",
              "      <td>10968</td>\n",
              "      <td>0.052450</td>\n",
              "    </tr>\n",
              "    <tr>\n",
              "      <th>VIOLATION CODE</th>\n",
              "      <td>5710</td>\n",
              "      <td>0.027306</td>\n",
              "    </tr>\n",
              "    <tr>\n",
              "      <th>VIOLATION DESCRIPTION</th>\n",
              "      <td>5710</td>\n",
              "      <td>0.027306</td>\n",
              "    </tr>\n",
              "    <tr>\n",
              "      <th>BIN</th>\n",
              "      <td>4546</td>\n",
              "      <td>0.021739</td>\n",
              "    </tr>\n",
              "    <tr>\n",
              "      <th>CUISINE DESCRIPTION</th>\n",
              "      <td>4409</td>\n",
              "      <td>0.021084</td>\n",
              "    </tr>\n",
              "    <tr>\n",
              "      <th>ACTION</th>\n",
              "      <td>4409</td>\n",
              "      <td>0.021084</td>\n",
              "    </tr>\n",
              "    <tr>\n",
              "      <th>INSPECTION TYPE</th>\n",
              "      <td>4409</td>\n",
              "      <td>0.021084</td>\n",
              "    </tr>\n",
              "    <tr>\n",
              "      <th>Council District</th>\n",
              "      <td>3453</td>\n",
              "      <td>0.016512</td>\n",
              "    </tr>\n",
              "    <tr>\n",
              "      <th>Community Board</th>\n",
              "      <td>3453</td>\n",
              "      <td>0.016512</td>\n",
              "    </tr>\n",
              "    <tr>\n",
              "      <th>NTA</th>\n",
              "      <td>3453</td>\n",
              "      <td>0.016512</td>\n",
              "    </tr>\n",
              "    <tr>\n",
              "      <th>Census Tract</th>\n",
              "      <td>3453</td>\n",
              "      <td>0.016512</td>\n",
              "    </tr>\n",
              "    <tr>\n",
              "      <th>ZIPCODE</th>\n",
              "      <td>2919</td>\n",
              "      <td>0.013959</td>\n",
              "    </tr>\n",
              "    <tr>\n",
              "      <th>DBA</th>\n",
              "      <td>1759</td>\n",
              "      <td>0.008412</td>\n",
              "    </tr>\n",
              "    <tr>\n",
              "      <th>BBL</th>\n",
              "      <td>559</td>\n",
              "      <td>0.002673</td>\n",
              "    </tr>\n",
              "    <tr>\n",
              "      <th>BUILDING</th>\n",
              "      <td>328</td>\n",
              "      <td>0.001569</td>\n",
              "    </tr>\n",
              "    <tr>\n",
              "      <th>Latitude</th>\n",
              "      <td>298</td>\n",
              "      <td>0.001425</td>\n",
              "    </tr>\n",
              "    <tr>\n",
              "      <th>Longitude</th>\n",
              "      <td>298</td>\n",
              "      <td>0.001425</td>\n",
              "    </tr>\n",
              "    <tr>\n",
              "      <th>STREET</th>\n",
              "      <td>25</td>\n",
              "      <td>0.000120</td>\n",
              "    </tr>\n",
              "    <tr>\n",
              "      <th>PHONE</th>\n",
              "      <td>14</td>\n",
              "      <td>0.000067</td>\n",
              "    </tr>\n",
              "    <tr>\n",
              "      <th>BORO</th>\n",
              "      <td>0</td>\n",
              "      <td>0.000000</td>\n",
              "    </tr>\n",
              "    <tr>\n",
              "      <th>RECORD DATE</th>\n",
              "      <td>0</td>\n",
              "      <td>0.000000</td>\n",
              "    </tr>\n",
              "    <tr>\n",
              "      <th>CRITICAL FLAG</th>\n",
              "      <td>0</td>\n",
              "      <td>0.000000</td>\n",
              "    </tr>\n",
              "    <tr>\n",
              "      <th>INSPECTION DATE</th>\n",
              "      <td>0</td>\n",
              "      <td>0.000000</td>\n",
              "    </tr>\n",
              "    <tr>\n",
              "      <th>CAMIS</th>\n",
              "      <td>0</td>\n",
              "      <td>0.000000</td>\n",
              "    </tr>\n",
              "  </tbody>\n",
              "</table>\n",
              "</div>"
            ],
            "text/plain": [
              "                        Total   Percent\n",
              "Location Point         209115  1.000000\n",
              "GRADE                  120078  0.574220\n",
              "GRADE DATE             112769  0.539268\n",
              "SCORE                   10968  0.052450\n",
              "VIOLATION CODE           5710  0.027306\n",
              "VIOLATION DESCRIPTION    5710  0.027306\n",
              "BIN                      4546  0.021739\n",
              "CUISINE DESCRIPTION      4409  0.021084\n",
              "ACTION                   4409  0.021084\n",
              "INSPECTION TYPE          4409  0.021084\n",
              "Council District         3453  0.016512\n",
              "Community Board          3453  0.016512\n",
              "NTA                      3453  0.016512\n",
              "Census Tract             3453  0.016512\n",
              "ZIPCODE                  2919  0.013959\n",
              "DBA                      1759  0.008412\n",
              "BBL                       559  0.002673\n",
              "BUILDING                  328  0.001569\n",
              "Latitude                  298  0.001425\n",
              "Longitude                 298  0.001425\n",
              "STREET                     25  0.000120\n",
              "PHONE                      14  0.000067\n",
              "BORO                        0  0.000000\n",
              "RECORD DATE                 0  0.000000\n",
              "CRITICAL FLAG               0  0.000000\n",
              "INSPECTION DATE             0  0.000000\n",
              "CAMIS                       0  0.000000"
            ]
          },
          "metadata": {},
          "output_type": "display_data"
        }
      ],
      "source": [
        "#We store this code as a function in order to use it again later on\n",
        "def missing_values_calculation():\n",
        "\n",
        "  #We store the number of missing values for every column\n",
        "  total = restaurants.isnull().sum().sort_values(ascending=False)\n",
        "\n",
        "  #We make a new column contaning the percentage of missing values \n",
        "  #out of the total number of values\n",
        "  percent = (restaurants.isnull().sum()/restaurants.isnull().count()).sort_values(ascending=False)\n",
        "\n",
        "  #We now make a DF containing these 2 values\n",
        "  missing = pd.concat([total, percent], axis=1, keys=['Total', 'Percent'])\n",
        "\n",
        "  #And we print the DataFrame\n",
        "  display(missing)\n",
        "\n",
        "#We call the function\n",
        "missing_values_calculation()"
      ]
    },
    {
      "cell_type": "markdown",
      "metadata": {
        "id": "Kw2-7px1q6NX"
      },
      "source": [
        "### <a class=\"anchor\"></a> 1.4.1 Dropping columns\n",
        "\n",
        "\n",
        "The GRADE and GRADE DATE columns containt a lot of missing values (more than half the data is missing). \n",
        "We may want to drop these 2 columns as the missing data is too much. We can use the `.drop()` function for this, but we need to pass an additional argument to tell Pandas we want to drop a column and not a row. This argument is: `axis = 1`. \n",
        "\n",
        "Try with and without the argument `inplace=True` and check whether the chage was implemented in the restaurants dataframe or only on a copy."
      ]
    },
    {
      "cell_type": "code",
      "execution_count": 64,
      "metadata": {
        "id": "xWIeVESkq9uf"
      },
      "outputs": [],
      "source": [
        "restaurants.drop([\"GRADE\", 'GRADE DATE'], axis = 1, inplace=True)"
      ]
    },
    {
      "cell_type": "markdown",
      "metadata": {
        "id": "vRdaJpZDsK0Z"
      },
      "source": [
        "As you can see, the \"GRADE\" and \"GRADE DATE\" columns are not a part of our DataFrame anymore."
      ]
    },
    {
      "cell_type": "markdown",
      "metadata": {
        "id": "BIW5XpoyV-Qq"
      },
      "source": [
        "### <a class=\"anchor\"></a> 1.4.2 Fillna() and dropna()\n"
      ]
    },
    {
      "cell_type": "markdown",
      "metadata": {
        "id": "4E-WijGJsZ_i"
      },
      "source": [
        "For the remaining columns we may want to do three different things:\n",
        " * Replace the missing entries with a specific value\n",
        " * Either estimate a possible value using the median for example\n",
        " * Drop the row altogether.\n",
        "\n",
        " Remember that we can drop rows with `dropna()`. Another useful function is `fillna()`, this function allows us to replace missing values with a value we may want."
      ]
    },
    {
      "cell_type": "code",
      "execution_count": 65,
      "metadata": {
        "colab": {
          "base_uri": "https://localhost:8080/",
          "height": 802
        },
        "id": "H8G9lzVEvvm5",
        "outputId": "8c8b404b-854b-4fb1-da24-aea0973fe87d"
      },
      "outputs": [
        {
          "data": {
            "text/html": [
              "<div>\n",
              "<style scoped>\n",
              "    .dataframe tbody tr th:only-of-type {\n",
              "        vertical-align: middle;\n",
              "    }\n",
              "\n",
              "    .dataframe tbody tr th {\n",
              "        vertical-align: top;\n",
              "    }\n",
              "\n",
              "    .dataframe thead th {\n",
              "        text-align: right;\n",
              "    }\n",
              "</style>\n",
              "<table border=\"1\" class=\"dataframe\">\n",
              "  <thead>\n",
              "    <tr style=\"text-align: right;\">\n",
              "      <th></th>\n",
              "      <th>Total</th>\n",
              "      <th>Percent</th>\n",
              "    </tr>\n",
              "  </thead>\n",
              "  <tbody>\n",
              "    <tr>\n",
              "      <th>Location Point</th>\n",
              "      <td>203405</td>\n",
              "      <td>1.000000</td>\n",
              "    </tr>\n",
              "    <tr>\n",
              "      <th>BIN</th>\n",
              "      <td>4236</td>\n",
              "      <td>0.020825</td>\n",
              "    </tr>\n",
              "    <tr>\n",
              "      <th>NTA</th>\n",
              "      <td>3225</td>\n",
              "      <td>0.015855</td>\n",
              "    </tr>\n",
              "    <tr>\n",
              "      <th>Census Tract</th>\n",
              "      <td>3225</td>\n",
              "      <td>0.015855</td>\n",
              "    </tr>\n",
              "    <tr>\n",
              "      <th>Council District</th>\n",
              "      <td>3225</td>\n",
              "      <td>0.015855</td>\n",
              "    </tr>\n",
              "    <tr>\n",
              "      <th>ZIPCODE</th>\n",
              "      <td>2752</td>\n",
              "      <td>0.013530</td>\n",
              "    </tr>\n",
              "    <tr>\n",
              "      <th>BBL</th>\n",
              "      <td>473</td>\n",
              "      <td>0.002325</td>\n",
              "    </tr>\n",
              "    <tr>\n",
              "      <th>BUILDING</th>\n",
              "      <td>280</td>\n",
              "      <td>0.001377</td>\n",
              "    </tr>\n",
              "    <tr>\n",
              "      <th>Longitude</th>\n",
              "      <td>224</td>\n",
              "      <td>0.001101</td>\n",
              "    </tr>\n",
              "    <tr>\n",
              "      <th>Latitude</th>\n",
              "      <td>224</td>\n",
              "      <td>0.001101</td>\n",
              "    </tr>\n",
              "    <tr>\n",
              "      <th>PHONE</th>\n",
              "      <td>9</td>\n",
              "      <td>0.000044</td>\n",
              "    </tr>\n",
              "    <tr>\n",
              "      <th>RECORD DATE</th>\n",
              "      <td>0</td>\n",
              "      <td>0.000000</td>\n",
              "    </tr>\n",
              "    <tr>\n",
              "      <th>Community Board</th>\n",
              "      <td>0</td>\n",
              "      <td>0.000000</td>\n",
              "    </tr>\n",
              "    <tr>\n",
              "      <th>INSPECTION TYPE</th>\n",
              "      <td>0</td>\n",
              "      <td>0.000000</td>\n",
              "    </tr>\n",
              "    <tr>\n",
              "      <th>CAMIS</th>\n",
              "      <td>0</td>\n",
              "      <td>0.000000</td>\n",
              "    </tr>\n",
              "    <tr>\n",
              "      <th>SCORE</th>\n",
              "      <td>0</td>\n",
              "      <td>0.000000</td>\n",
              "    </tr>\n",
              "    <tr>\n",
              "      <th>DBA</th>\n",
              "      <td>0</td>\n",
              "      <td>0.000000</td>\n",
              "    </tr>\n",
              "    <tr>\n",
              "      <th>VIOLATION DESCRIPTION</th>\n",
              "      <td>0</td>\n",
              "      <td>0.000000</td>\n",
              "    </tr>\n",
              "    <tr>\n",
              "      <th>VIOLATION CODE</th>\n",
              "      <td>0</td>\n",
              "      <td>0.000000</td>\n",
              "    </tr>\n",
              "    <tr>\n",
              "      <th>ACTION</th>\n",
              "      <td>0</td>\n",
              "      <td>0.000000</td>\n",
              "    </tr>\n",
              "    <tr>\n",
              "      <th>INSPECTION DATE</th>\n",
              "      <td>0</td>\n",
              "      <td>0.000000</td>\n",
              "    </tr>\n",
              "    <tr>\n",
              "      <th>CUISINE DESCRIPTION</th>\n",
              "      <td>0</td>\n",
              "      <td>0.000000</td>\n",
              "    </tr>\n",
              "    <tr>\n",
              "      <th>STREET</th>\n",
              "      <td>0</td>\n",
              "      <td>0.000000</td>\n",
              "    </tr>\n",
              "    <tr>\n",
              "      <th>BORO</th>\n",
              "      <td>0</td>\n",
              "      <td>0.000000</td>\n",
              "    </tr>\n",
              "    <tr>\n",
              "      <th>CRITICAL FLAG</th>\n",
              "      <td>0</td>\n",
              "      <td>0.000000</td>\n",
              "    </tr>\n",
              "  </tbody>\n",
              "</table>\n",
              "</div>"
            ],
            "text/plain": [
              "                        Total   Percent\n",
              "Location Point         203405  1.000000\n",
              "BIN                      4236  0.020825\n",
              "NTA                      3225  0.015855\n",
              "Census Tract             3225  0.015855\n",
              "Council District         3225  0.015855\n",
              "ZIPCODE                  2752  0.013530\n",
              "BBL                       473  0.002325\n",
              "BUILDING                  280  0.001377\n",
              "Longitude                 224  0.001101\n",
              "Latitude                  224  0.001101\n",
              "PHONE                       9  0.000044\n",
              "RECORD DATE                 0  0.000000\n",
              "Community Board             0  0.000000\n",
              "INSPECTION TYPE             0  0.000000\n",
              "CAMIS                       0  0.000000\n",
              "SCORE                       0  0.000000\n",
              "DBA                         0  0.000000\n",
              "VIOLATION DESCRIPTION       0  0.000000\n",
              "VIOLATION CODE              0  0.000000\n",
              "ACTION                      0  0.000000\n",
              "INSPECTION DATE             0  0.000000\n",
              "CUISINE DESCRIPTION         0  0.000000\n",
              "STREET                      0  0.000000\n",
              "BORO                        0  0.000000\n",
              "CRITICAL FLAG               0  0.000000"
            ]
          },
          "metadata": {},
          "output_type": "display_data"
        }
      ],
      "source": [
        "# Replacing missing values with a given value\n",
        "#In this case we are going to assume that if the value is missing then there was no critical flag\n",
        "restaurants['Community Board'].fillna(\"N\", inplace = True)\n",
        "\n",
        "# Replacing missing values with an estimation (median)\n",
        "median = restaurants['SCORE'].median()\n",
        "restaurants['SCORE'].fillna(median, inplace=True)\n",
        "\n",
        "#Dropping the row, you should already know this one\n",
        "restaurants.dropna(subset=['VIOLATION DESCRIPTION'], inplace=True)\n",
        "\n",
        "#Let's see how many \n",
        "missing_values_calculation()"
      ]
    },
    {
      "cell_type": "markdown",
      "metadata": {
        "id": "CkYusmSUNHAH"
      },
      "source": [
        "# <a class=\"anchor\"></a> 2 Boxplots and correlations\n",
        "\n",
        "We will now change datasets. This dataset containts the compensation of the CEO's of different companies.\n"
      ]
    },
    {
      "cell_type": "code",
      "execution_count": 66,
      "metadata": {
        "colab": {
          "base_uri": "https://localhost:8080/",
          "height": 410
        },
        "id": "tfGDiGWTNRpH",
        "outputId": "6768899c-cfcf-488b-ca94-0ece2ccdcea8"
      },
      "outputs": [
        {
          "data": {
            "text/html": [
              "<div>\n",
              "<style scoped>\n",
              "    .dataframe tbody tr th:only-of-type {\n",
              "        vertical-align: middle;\n",
              "    }\n",
              "\n",
              "    .dataframe tbody tr th {\n",
              "        vertical-align: top;\n",
              "    }\n",
              "\n",
              "    .dataframe thead th {\n",
              "        text-align: right;\n",
              "    }\n",
              "</style>\n",
              "<table border=\"1\" class=\"dataframe\">\n",
              "  <thead>\n",
              "    <tr style=\"text-align: right;\">\n",
              "      <th></th>\n",
              "      <th>Total Comp</th>\n",
              "      <th>Top 20</th>\n",
              "      <th>Wide Industry</th>\n",
              "      <th>Company</th>\n",
              "      <th>CEO</th>\n",
              "      <th>City of Birth</th>\n",
              "      <th>State of Birth</th>\n",
              "      <th>Age</th>\n",
              "      <th>Undergrad</th>\n",
              "      <th>UG Degree</th>\n",
              "      <th>...</th>\n",
              "      <th>Bonus</th>\n",
              "      <th>other</th>\n",
              "      <th>St_gains</th>\n",
              "      <th>Comp for 5 yrs</th>\n",
              "      <th>Stock owned</th>\n",
              "      <th>Sales</th>\n",
              "      <th>Profits</th>\n",
              "      <th>Return over 5 yrs</th>\n",
              "      <th>Industry</th>\n",
              "      <th>Industry Code</th>\n",
              "    </tr>\n",
              "  </thead>\n",
              "  <tbody>\n",
              "    <tr>\n",
              "      <th>0</th>\n",
              "      <td>203020000.0</td>\n",
              "      <td>True</td>\n",
              "      <td>Travel</td>\n",
              "      <td>Walt Disney</td>\n",
              "      <td>Mr. Michael D Eisner</td>\n",
              "      <td>New York</td>\n",
              "      <td>NY</td>\n",
              "      <td>52</td>\n",
              "      <td>Denison U</td>\n",
              "      <td>BA</td>\n",
              "      <td>...</td>\n",
              "      <td>NaN</td>\n",
              "      <td>9667.0</td>\n",
              "      <td>202261000.0</td>\n",
              "      <td>236771000.0</td>\n",
              "      <td>0.561</td>\n",
              "      <td>8865</td>\n",
              "      <td>779.5</td>\n",
              "      <td>17.0</td>\n",
              "      <td>Travel-hotelsrecreation</td>\n",
              "      <td>8</td>\n",
              "    </tr>\n",
              "    <tr>\n",
              "      <th>1</th>\n",
              "      <td>53110900.0</td>\n",
              "      <td>True</td>\n",
              "      <td>Financial</td>\n",
              "      <td>Travelers</td>\n",
              "      <td>Mr. Sanford I Weill</td>\n",
              "      <td>New York</td>\n",
              "      <td>NY</td>\n",
              "      <td>61</td>\n",
              "      <td>Cornell</td>\n",
              "      <td>BA</td>\n",
              "      <td>...</td>\n",
              "      <td>3030310.0</td>\n",
              "      <td>2161890.0</td>\n",
              "      <td>46900000.0</td>\n",
              "      <td>141605000.0</td>\n",
              "      <td>1.168</td>\n",
              "      <td>6797</td>\n",
              "      <td>950.0</td>\n",
              "      <td>28.0</td>\n",
              "      <td>Financial services-leasefinance</td>\n",
              "      <td>1</td>\n",
              "    </tr>\n",
              "    <tr>\n",
              "      <th>2</th>\n",
              "      <td>38675400.0</td>\n",
              "      <td>True</td>\n",
              "      <td>Insurance</td>\n",
              "      <td>Conseco</td>\n",
              "      <td>Mr. Stephen C Hilbert</td>\n",
              "      <td>Terre Haute</td>\n",
              "      <td>IN</td>\n",
              "      <td>48</td>\n",
              "      <td>NaN</td>\n",
              "      <td>NaN</td>\n",
              "      <td>...</td>\n",
              "      <td>8287670.0</td>\n",
              "      <td>190570.0</td>\n",
              "      <td>29947100.0</td>\n",
              "      <td>51156100.0</td>\n",
              "      <td>2.842</td>\n",
              "      <td>2637</td>\n",
              "      <td>308.9</td>\n",
              "      <td>76.0</td>\n",
              "      <td>Insurance-lifehealth</td>\n",
              "      <td>4</td>\n",
              "    </tr>\n",
              "  </tbody>\n",
              "</table>\n",
              "<p>3 rows × 31 columns</p>\n",
              "</div>"
            ],
            "text/plain": [
              "    Total Comp  Top 20 Wide Industry      Company                    CEO  \\\n",
              "0  203020000.0    True        Travel  Walt Disney   Mr. Michael D Eisner   \n",
              "1   53110900.0    True     Financial    Travelers    Mr. Sanford I Weill   \n",
              "2   38675400.0    True     Insurance      Conseco  Mr. Stephen C Hilbert   \n",
              "\n",
              "  City of Birth State of Birth  Age  Undergrad UG Degree  ...      Bonus  \\\n",
              "0      New York             NY   52  Denison U        BA  ...        NaN   \n",
              "1      New York             NY   61    Cornell        BA  ...  3030310.0   \n",
              "2   Terre Haute             IN   48        NaN       NaN  ...  8287670.0   \n",
              "\n",
              "       other     St_gains Comp for 5 yrs  Stock owned  Sales  Profits  \\\n",
              "0     9667.0  202261000.0    236771000.0        0.561   8865    779.5   \n",
              "1  2161890.0   46900000.0    141605000.0        1.168   6797    950.0   \n",
              "2   190570.0   29947100.0     51156100.0        2.842   2637    308.9   \n",
              "\n",
              "   Return over 5 yrs                         Industry  Industry Code  \n",
              "0               17.0          Travel-hotelsrecreation              8  \n",
              "1               28.0  Financial services-leasefinance              1  \n",
              "2               76.0             Insurance-lifehealth              4  \n",
              "\n",
              "[3 rows x 31 columns]"
            ]
          },
          "execution_count": 66,
          "metadata": {},
          "output_type": "execute_result"
        }
      ],
      "source": [
        "#Run this cell\n",
        "url = \"https://media.githubusercontent.com/media/michalis0/Business-Intelligence-and-Analytics/master/data/CEO%20compensation.csv\"\n",
        "data = pd.read_csv(url) \n",
        "data.head(3) #only shows the first 3 rows"
      ]
    },
    {
      "cell_type": "code",
      "execution_count": 67,
      "metadata": {
        "id": "pA30fVB4OPRw"
      },
      "outputs": [],
      "source": [
        "# Run this cell to drop the rows where there are missing values\n",
        "data.dropna(inplace=True)"
      ]
    },
    {
      "cell_type": "markdown",
      "metadata": {
        "id": "Ww0jmyFlOjbR"
      },
      "source": [
        "## <a class=\"anchor\"></a> 2.1 Boxplots\n",
        "\n",
        "Pandas allows you to plot boxplots with your data. If you do not remember what a Boxplot is you can refresh your memory following this link. Essentially they allow to see the following elements:\n",
        "\n",
        "* Minimum\n",
        "* Maximum\n",
        "* Median\n",
        "* Quartiles\n",
        "* Outliers\n",
        "\n",
        "We will use the `.boxplot()` function to see how much the salaries and bonuses of CEO's can vary. What part of CEO's compensation can vary the most, which one varies the least? Which one has the biggest outliers?\n",
        "\n"
      ]
    },
    {
      "cell_type": "code",
      "execution_count": 68,
      "metadata": {
        "colab": {
          "base_uri": "https://localhost:8080/",
          "height": 602
        },
        "id": "lxTrHGTVPO5H",
        "outputId": "4edd465d-7a52-44fa-f92c-e2245ac7ce57"
      },
      "outputs": [
        {
          "data": {
            "image/png": "[encoded data removed]",
            "text/plain": [
              "<Figure size 2000x1000 with 1 Axes>"
            ]
          },
          "metadata": {},
          "output_type": "display_data"
        }
      ],
      "source": [
        "#Boxplot for salaries and bonuses\n",
        "box_plot=data.boxplot(column = [\"Salary\", \"Bonus\"], figsize = (20,10))\n"
      ]
    },
    {
      "cell_type": "markdown",
      "metadata": {
        "id": "RMKBMlVCP8UB"
      },
      "source": [
        "### <a class=\"anchor\"></a> 2.1.2 Boxplot exercice\n",
        "\n",
        "Use the .boxplot function with the \"Bonus\" column. What is the mean, median, max, min and what are the outlier values?\n",
        "\n",
        "Subsequentially check your answers using the .describe() function.\n"
      ]
    },
    {
      "cell_type": "code",
      "execution_count": 69,
      "metadata": {
        "id": "8lds-gnsQG7B"
      },
      "outputs": [],
      "source": [
        "#Generate the Boxplot"
      ]
    },
    {
      "cell_type": "code",
      "execution_count": 70,
      "metadata": {
        "id": "dujQIpCUQGyv"
      },
      "outputs": [],
      "source": [
        "#Check your answers"
      ]
    },
    {
      "cell_type": "markdown",
      "metadata": {
        "id": "eTS_M7hIOjWA"
      },
      "source": [
        "## <a class=\"anchor\"></a> 2.1 Scatterplots and Correlation\n",
        "\n",
        "This plots are useful to find correlations between variables. Let's see if we can find any correlation (visually) between the Age and the Salary of the CEO's.\n"
      ]
    },
    {
      "cell_type": "code",
      "execution_count": 71,
      "metadata": {
        "colab": {
          "base_uri": "https://localhost:8080/",
          "height": 290
        },
        "id": "FoaL2zSfRyEY",
        "outputId": "115e2912-ff26-4b0b-e7d8-f00296a495c8"
      },
      "outputs": [
        {
          "data": {
            "image/png": "[encoded data removed]",
            "text/plain": [
              "<Figure size 640x480 with 1 Axes>"
            ]
          },
          "metadata": {},
          "output_type": "display_data"
        }
      ],
      "source": [
        "scat = data.plot.scatter(x = \"Age\", y = \"Salary\")"
      ]
    },
    {
      "cell_type": "markdown",
      "metadata": {
        "id": "377oW8DISmGf"
      },
      "source": [
        "Pandas also includes a function `corr` which allows to easily calculate [Pearsons r coefficient](https://en.wikipedia.org/wiki/Pearson_correlation_coefficient)."
      ]
    },
    {
      "cell_type": "code",
      "execution_count": 72,
      "metadata": {
        "colab": {
          "base_uri": "https://localhost:8080/"
        },
        "id": "TjM8U-cKStCz",
        "outputId": "ec0509d1-2599-457b-e000-84f0cf4d5af1"
      },
      "outputs": [
        {
          "data": {
            "text/plain": [
              "0.30571805690619325"
            ]
          },
          "execution_count": 72,
          "metadata": {},
          "output_type": "execute_result"
        }
      ],
      "source": [
        "data[\"Age\"].corr(data[\"Salary\"])"
      ]
    },
    {
      "cell_type": "markdown",
      "metadata": {
        "id": "b6moiPS6O_1N"
      },
      "source": [
        "The correlation seems quite low, so let's see what else we can find.\n",
        "\n",
        "Usually, as a way to inentivize managers to do a good job, they are given stocks or options. This way, they have an intrinsic motivation to make the stock price grow, as they can benefit enormously from this. Let's see if we can find a correlation between the stock owned by a CEO and the return of the stock in the last 5 years."
      ]
    },
    {
      "cell_type": "code",
      "execution_count": 73,
      "metadata": {
        "colab": {
          "base_uri": "https://localhost:8080/",
          "height": 309
        },
        "id": "SW-7jLfnPqVO",
        "outputId": "d87a9293-4962-46d8-9bc2-aa914f5dc784"
      },
      "outputs": [
        {
          "name": "stdout",
          "output_type": "stream",
          "text": [
            "Pearson's r coefficient is: 0.66\n"
          ]
        },
        {
          "data": {
            "image/png": "[encoded data removed]",
            "text/plain": [
              "<Figure size 640x480 with 1 Axes>"
            ]
          },
          "metadata": {},
          "output_type": "display_data"
        }
      ],
      "source": [
        "#Scatterplot\n",
        "profit_cat= data.plot.scatter(x=\"Profits\", y=\"Salary\")\n",
        "#Pearson's r coefficient\n",
        "print(\"Pearson's r coefficient is: {}\".format(round(data[\"Profits\"].corr(data[\"Salary\"]), 2)))\n"
      ]
    },
    {
      "cell_type": "markdown",
      "metadata": {
        "id": "KZnA9SNMR6ow"
      },
      "source": [
        "There seems to be a correlation between the fixed part of a CEO's  compensation and the companies profit, but always remember that correlation does not imply causation.\n",
        "\n",
        "You can also include a third variable if you want to. In order to plot 3-different variables in 2 dimensions we can use the seaborn library and change the collor of the third variable. This is done with the `hue` argument."
      ]
    },
    {
      "cell_type": "code",
      "execution_count": 74,
      "metadata": {
        "colab": {
          "base_uri": "https://localhost:8080/",
          "height": 290
        },
        "id": "hwX12aPrSKAv",
        "outputId": "e0fce0e1-19ba-4e90-8590-769641b9ed68"
      },
      "outputs": [
        {
          "data": {
            "image/png": "[encoded data removed]",
            "text/plain": [
              "<Figure size 640x480 with 1 Axes>"
            ]
          },
          "metadata": {},
          "output_type": "display_data"
        }
      ],
      "source": [
        "scat2=sns.scatterplot(x=data[\"YearsCEO\"], y=data[\"Bonus\"],hue=data[\"Top 20\"])"
      ]
    },
    {
      "cell_type": "markdown",
      "metadata": {
        "id": "knvKIP4-UZ4_"
      },
      "source": [
        "## <a class=\"anchor\"></a> 2.2 Exercice\n",
        "\n",
        "1) Load the dataset from the following url: `https://raw.githubusercontent.com/michalis0/Business-Intelligence-and-Analytics/master/data/Birthweight.csv`, set ID as the index column and use the .head() funtion to obtain an overview."
      ]
    },
    {
      "cell_type": "code",
      "execution_count": 75,
      "metadata": {
        "colab": {
          "base_uri": "https://localhost:8080/",
          "height": 206
        },
        "id": "x3Yt6nJGU_X5",
        "outputId": "de1b0052-3fa3-48c4-9e7a-358c65ff1b9c"
      },
      "outputs": [
        {
          "data": {
            "text/html": [
              "<div>\n",
              "<style scoped>\n",
              "    .dataframe tbody tr th:only-of-type {\n",
              "        vertical-align: middle;\n",
              "    }\n",
              "\n",
              "    .dataframe tbody tr th {\n",
              "        vertical-align: top;\n",
              "    }\n",
              "\n",
              "    .dataframe thead th {\n",
              "        text-align: right;\n",
              "    }\n",
              "</style>\n",
              "<table border=\"1\" class=\"dataframe\">\n",
              "  <thead>\n",
              "    <tr style=\"text-align: right;\">\n",
              "      <th></th>\n",
              "      <th>ID</th>\n",
              "      <th>Length</th>\n",
              "      <th>Birthweight</th>\n",
              "      <th>Headcirc</th>\n",
              "      <th>Gestation</th>\n",
              "      <th>smoker</th>\n",
              "      <th>mage</th>\n",
              "      <th>mnocig</th>\n",
              "      <th>mheight</th>\n",
              "      <th>mppwt</th>\n",
              "      <th>fage</th>\n",
              "      <th>fedyrs</th>\n",
              "      <th>fnocig</th>\n",
              "      <th>fheight</th>\n",
              "      <th>lowbwt</th>\n",
              "      <th>mage35</th>\n",
              "    </tr>\n",
              "  </thead>\n",
              "  <tbody>\n",
              "    <tr>\n",
              "      <th>0</th>\n",
              "      <td>1360</td>\n",
              "      <td>56</td>\n",
              "      <td>4.55</td>\n",
              "      <td>34</td>\n",
              "      <td>44</td>\n",
              "      <td>0</td>\n",
              "      <td>20</td>\n",
              "      <td>0</td>\n",
              "      <td>162</td>\n",
              "      <td>57</td>\n",
              "      <td>23</td>\n",
              "      <td>10</td>\n",
              "      <td>35</td>\n",
              "      <td>179</td>\n",
              "      <td>0</td>\n",
              "      <td>0</td>\n",
              "    </tr>\n",
              "    <tr>\n",
              "      <th>1</th>\n",
              "      <td>1016</td>\n",
              "      <td>53</td>\n",
              "      <td>4.32</td>\n",
              "      <td>36</td>\n",
              "      <td>40</td>\n",
              "      <td>0</td>\n",
              "      <td>19</td>\n",
              "      <td>0</td>\n",
              "      <td>171</td>\n",
              "      <td>62</td>\n",
              "      <td>19</td>\n",
              "      <td>12</td>\n",
              "      <td>0</td>\n",
              "      <td>183</td>\n",
              "      <td>0</td>\n",
              "      <td>0</td>\n",
              "    </tr>\n",
              "    <tr>\n",
              "      <th>2</th>\n",
              "      <td>462</td>\n",
              "      <td>58</td>\n",
              "      <td>4.10</td>\n",
              "      <td>39</td>\n",
              "      <td>41</td>\n",
              "      <td>0</td>\n",
              "      <td>35</td>\n",
              "      <td>0</td>\n",
              "      <td>172</td>\n",
              "      <td>58</td>\n",
              "      <td>31</td>\n",
              "      <td>16</td>\n",
              "      <td>25</td>\n",
              "      <td>185</td>\n",
              "      <td>0</td>\n",
              "      <td>1</td>\n",
              "    </tr>\n",
              "    <tr>\n",
              "      <th>3</th>\n",
              "      <td>1187</td>\n",
              "      <td>53</td>\n",
              "      <td>4.07</td>\n",
              "      <td>38</td>\n",
              "      <td>44</td>\n",
              "      <td>0</td>\n",
              "      <td>20</td>\n",
              "      <td>0</td>\n",
              "      <td>174</td>\n",
              "      <td>68</td>\n",
              "      <td>26</td>\n",
              "      <td>14</td>\n",
              "      <td>25</td>\n",
              "      <td>189</td>\n",
              "      <td>0</td>\n",
              "      <td>0</td>\n",
              "    </tr>\n",
              "    <tr>\n",
              "      <th>4</th>\n",
              "      <td>553</td>\n",
              "      <td>54</td>\n",
              "      <td>3.94</td>\n",
              "      <td>37</td>\n",
              "      <td>42</td>\n",
              "      <td>0</td>\n",
              "      <td>24</td>\n",
              "      <td>0</td>\n",
              "      <td>175</td>\n",
              "      <td>66</td>\n",
              "      <td>30</td>\n",
              "      <td>12</td>\n",
              "      <td>0</td>\n",
              "      <td>184</td>\n",
              "      <td>0</td>\n",
              "      <td>0</td>\n",
              "    </tr>\n",
              "  </tbody>\n",
              "</table>\n",
              "</div>"
            ],
            "text/plain": [
              "     ID  Length  Birthweight  Headcirc  Gestation  smoker  mage  mnocig  \\\n",
              "0  1360      56         4.55        34         44       0    20       0   \n",
              "1  1016      53         4.32        36         40       0    19       0   \n",
              "2   462      58         4.10        39         41       0    35       0   \n",
              "3  1187      53         4.07        38         44       0    20       0   \n",
              "4   553      54         3.94        37         42       0    24       0   \n",
              "\n",
              "   mheight  mppwt  fage  fedyrs  fnocig  fheight  lowbwt  mage35  \n",
              "0      162     57    23      10      35      179       0       0  \n",
              "1      171     62    19      12       0      183       0       0  \n",
              "2      172     58    31      16      25      185       0       1  \n",
              "3      174     68    26      14      25      189       0       0  \n",
              "4      175     66    30      12       0      184       0       0  "
            ]
          },
          "execution_count": 75,
          "metadata": {},
          "output_type": "execute_result"
        }
      ],
      "source": [
        "birth_data = pd.read_csv(\"https://media.githubusercontent.com/media/michalis0/Business-Intelligence-and-Analytics/master/data/Birthweight.csv\")\n",
        "birth_data.head()"
      ]
    },
    {
      "cell_type": "markdown",
      "metadata": {
        "id": "vnOHLRuPks4n"
      },
      "source": [
        "2) The above dataset contains information about newborn babis and their mothers. Plot an histogram of the \"Gestation\" column. What is the mode and the mean of the gestation period?"
      ]
    },
    {
      "cell_type": "code",
      "execution_count": null,
      "metadata": {
        "id": "MQ-SxzqrlTnO"
      },
      "outputs": [],
      "source": []
    },
    {
      "cell_type": "markdown",
      "metadata": {
        "id": "aTYocBWblUHN"
      },
      "source": [
        "3) Plot a boxplot of the gestation period. Were you right about the mode and the median?"
      ]
    },
    {
      "cell_type": "code",
      "execution_count": null,
      "metadata": {
        "id": "PXlQpq_ZlVYV"
      },
      "outputs": [],
      "source": []
    },
    {
      "cell_type": "markdown",
      "metadata": {
        "id": "OokRXQ_7mmO9"
      },
      "source": [
        "4) It might be interesting to see whether there is a correlation between smoker/ non-smoker mothers and the babies birthweight.\n",
        "\n",
        "Plot a scatterplot between the \"smoker\", \"Birthweight\" and \"mage\" columns."
      ]
    },
    {
      "cell_type": "code",
      "execution_count": null,
      "metadata": {
        "id": "Ycc7nNlKmkU8"
      },
      "outputs": [],
      "source": []
    },
    {
      "cell_type": "code",
      "execution_count": 76,
      "metadata": {
        "id": "vlp4eORnurBj"
      },
      "outputs": [],
      "source": [
        "#Check the correlation between each pair of variables"
      ]
    },
    {
      "cell_type": "markdown",
      "metadata": {
        "id": "b4Li-RA-ToFB"
      },
      "source": [
        "## <a class=\"anchor\"></a> 2.3 Pairgrids and heatmaps\n",
        "\n",
        "Pairgrids can be a usefool tool to visualize correlations. They allow us to plot the relationships of multiple variables against each other, 2 at a time.\n"
      ]
    },
    {
      "cell_type": "code",
      "execution_count": 77,
      "metadata": {
        "colab": {
          "base_uri": "https://localhost:8080/",
          "height": 644
        },
        "id": "I5CfjmgXi8V1",
        "outputId": "5762a59b-18a0-4fe0-8c15-a826d1e291db"
      },
      "outputs": [
        {
          "data": {
            "image/png": "[encoded data removed]",
            "text/plain": [
              "<Figure size 1000x1000 with 9 Axes>"
            ]
          },
          "metadata": {},
          "output_type": "display_data"
        }
      ],
      "source": [
        "scat3 = scatter_matrix(birth_data[[\"Length\", \"Birthweight\", \"Headcirc\"]], figsize=(10, 10), grid=True, s = 120)\n",
        "plt.suptitle('Scatter-matrix to find a possible correlation', size = 30, y = 0.93, x =0.55)\n",
        "plt.show()\n"
      ]
    },
    {
      "cell_type": "markdown",
      "metadata": {
        "id": "8yfeLB0U3ap8"
      },
      "source": [
        "Another more useful tools are [heatmaps](https://en.wikipedia.org/wiki/Heat_map). By first calculating the correlations between every variable, we can then plot a heatmap of those.\n"
      ]
    },
    {
      "cell_type": "code",
      "execution_count": 78,
      "metadata": {
        "colab": {
          "base_uri": "https://localhost:8080/",
          "height": 317
        },
        "id": "58uUIo6-3mxT",
        "outputId": "c095da73-9c5b-49fc-b6d8-99aed1923662"
      },
      "outputs": [
        {
          "data": {
            "image/png": "[encoded data removed]",
            "text/plain": [
              "<Figure size 640x480 with 2 Axes>"
            ]
          },
          "metadata": {},
          "output_type": "display_data"
        }
      ],
      "source": [
        "correlations = birth_data.corr()\n",
        "heatmap=sns.heatmap(correlations)"
      ]
    }
  ],
  "metadata": {
    "colab": {
      "include_colab_link": true,
      "name": "Introduction_to_EDA.ipynb",
      "provenance": []
    },
    "kernelspec": {
      "display_name": "base",
      "language": "python",
      "name": "python3"
    },
    "language_info": {
      "codemirror_mode": {
        "name": "ipython",
        "version": 3
      },
      "file_extension": ".py",
      "mimetype": "text/x-python",
      "name": "python",
      "nbconvert_exporter": "python",
      "pygments_lexer": "ipython3",
      "version": "3.9.15"
    },
    "vscode": {
      "interpreter": {
        "hash": "b0cc462c96df3621bcc58e01fadcdf9264a069c5c4bbf07201077bb349d3c6bf"
      }
    }
  },
  "nbformat": 4,
  "nbformat_minor": 0
}
