{
  "cells": [
    {
      "attachments": {},
      "cell_type": "markdown",
      "metadata": {
        "colab_type": "text",
        "id": "view-in-github"
      },
      "source": [
        "<a target=\"_blank\" href=\"https://colab.research.google.com/github/michalis0/Business-Intelligence-and-Analytics/blob/master/labs/03%20-%20Pandas%20-%20Data%20Cleaning/walkthrough/walkthrough_03_EDA.ipynb\">\n",
        "  <img src=\"https://colab.research.google.com/assets/colab-badge.svg\" alt=\"Open In Colab\"/>\n",
        "</a>"
      ]
    },
    {
      "cell_type": "markdown",
      "metadata": {
        "id": "jyij8neZz4yD"
      },
      "source": [
        "# <a class=\"anchor\"></a> 1. Exploratory Data Analysis\n",
        "\n",
        "\n",
        "\n"
      ]
    },
    {
      "cell_type": "markdown",
      "metadata": {
        "id": "izvXpAkgrfDY"
      },
      "source": [
        "Now lets get into the Data Analysis per say. This part will extensively rely on the Pandas Dataframes, and functions. Please do not hesitate to refer to last sessions introduction if you don't feel yet comfortable. Throughout this part, you will learn more about the dtypes of data you can find in data frame and manipulate its columns for analysis purposes. "
      ]
    },
    {
      "cell_type": "markdown",
      "metadata": {
        "id": "5gy-XniJZG9p"
      },
      "source": [
        "## <a class=\"anchor\"></a> 1.1. Loading and getting a first look at our Data \n"
      ]
    },
    {
      "cell_type": "code",
      "execution_count": 1,
      "metadata": {
        "id": "HNZaB3NzUPt5"
      },
      "outputs": [],
      "source": [
        "# Import libraries\n",
        "import pandas as pd\n",
        "import numpy as np\n",
        "import matplotlib\n",
        "import matplotlib.pyplot as plt\n",
        "import seaborn as sns\n",
        "from pandas.plotting import scatter_matrix\n",
        "\n",
        "sns.set_style('darkgrid')"
      ]
    },
    {
      "attachments": {},
      "cell_type": "markdown",
      "metadata": {
        "id": "2Tc1olNXUl6D"
      },
      "source": [
        "The dataset we will use is available under the following url :`'https://data.cityofnewyork.us/api/views/43nn-pn8j/rows.csv'`. This dataset containts the results of restaurant inspections in NYC."
      ]
    },
    {
      "cell_type": "code",
      "execution_count": 2,
      "metadata": {
        "colab": {
          "base_uri": "https://localhost:8080/",
          "height": 751
        },
        "id": "3R9aJHOtVAep",
        "outputId": "1413eaaf-4bef-4285-e7ec-c12237f661dd"
      },
      "outputs": [
        {
          "data": {
            "text/html": [
              "<div>\n",
              "<style scoped>\n",
              "    .dataframe tbody tr th:only-of-type {\n",
              "        vertical-align: middle;\n",
              "    }\n",
              "\n",
              "    .dataframe tbody tr th {\n",
              "        vertical-align: top;\n",
              "    }\n",
              "\n",
              "    .dataframe thead th {\n",
              "        text-align: right;\n",
              "    }\n",
              "</style>\n",
              "<table border=\"1\" class=\"dataframe\">\n",
              "  <thead>\n",
              "    <tr style=\"text-align: right;\">\n",
              "      <th></th>\n",
              "      <th>CAMIS</th>\n",
              "      <th>DBA</th>\n",
              "      <th>BORO</th>\n",
              "      <th>BUILDING</th>\n",
              "      <th>STREET</th>\n",
              "      <th>ZIPCODE</th>\n",
              "      <th>PHONE</th>\n",
              "      <th>CUISINE DESCRIPTION</th>\n",
              "      <th>INSPECTION DATE</th>\n",
              "      <th>ACTION</th>\n",
              "      <th>...</th>\n",
              "      <th>INSPECTION TYPE</th>\n",
              "      <th>Latitude</th>\n",
              "      <th>Longitude</th>\n",
              "      <th>Community Board</th>\n",
              "      <th>Council District</th>\n",
              "      <th>Census Tract</th>\n",
              "      <th>BIN</th>\n",
              "      <th>BBL</th>\n",
              "      <th>NTA</th>\n",
              "      <th>Location Point</th>\n",
              "    </tr>\n",
              "  </thead>\n",
              "  <tbody>\n",
              "    <tr>\n",
              "      <th>0</th>\n",
              "      <td>50120012</td>\n",
              "      <td>NaN</td>\n",
              "      <td>Queens</td>\n",
              "      <td>40-05</td>\n",
              "      <td>SKILLMAN AVENUE</td>\n",
              "      <td>11104.0</td>\n",
              "      <td>3478439587</td>\n",
              "      <td>NaN</td>\n",
              "      <td>01/01/1900</td>\n",
              "      <td>NaN</td>\n",
              "      <td>...</td>\n",
              "      <td>NaN</td>\n",
              "      <td>40.747196</td>\n",
              "      <td>-73.923417</td>\n",
              "      <td>402.0</td>\n",
              "      <td>26.0</td>\n",
              "      <td>17100.0</td>\n",
              "      <td>4002375.0</td>\n",
              "      <td>4.001830e+09</td>\n",
              "      <td>QN31</td>\n",
              "      <td>NaN</td>\n",
              "    </tr>\n",
              "    <tr>\n",
              "      <th>1</th>\n",
              "      <td>50123212</td>\n",
              "      <td>POMO</td>\n",
              "      <td>Brooklyn</td>\n",
              "      <td>2122</td>\n",
              "      <td>BEEKMAN PLACE</td>\n",
              "      <td>11225.0</td>\n",
              "      <td>9177573253</td>\n",
              "      <td>NaN</td>\n",
              "      <td>01/01/1900</td>\n",
              "      <td>NaN</td>\n",
              "      <td>...</td>\n",
              "      <td>NaN</td>\n",
              "      <td>40.660002</td>\n",
              "      <td>-73.960825</td>\n",
              "      <td>309.0</td>\n",
              "      <td>40.0</td>\n",
              "      <td>79802.0</td>\n",
              "      <td>3114599.0</td>\n",
              "      <td>3.050260e+09</td>\n",
              "      <td>BK60</td>\n",
              "      <td>NaN</td>\n",
              "    </tr>\n",
              "    <tr>\n",
              "      <th>2</th>\n",
              "      <td>50105922</td>\n",
              "      <td>ROYAL PALACE TBILISI</td>\n",
              "      <td>Brooklyn</td>\n",
              "      <td>811</td>\n",
              "      <td>KINGS HIGHWAY</td>\n",
              "      <td>11223.0</td>\n",
              "      <td>3473746863</td>\n",
              "      <td>NaN</td>\n",
              "      <td>01/01/1900</td>\n",
              "      <td>NaN</td>\n",
              "      <td>...</td>\n",
              "      <td>NaN</td>\n",
              "      <td>40.606541</td>\n",
              "      <td>-73.964422</td>\n",
              "      <td>315.0</td>\n",
              "      <td>44.0</td>\n",
              "      <td>41800.0</td>\n",
              "      <td>3177550.0</td>\n",
              "      <td>3.066650e+09</td>\n",
              "      <td>BK25</td>\n",
              "      <td>NaN</td>\n",
              "    </tr>\n",
              "    <tr>\n",
              "      <th>3</th>\n",
              "      <td>50116603</td>\n",
              "      <td>UNCLE LOU</td>\n",
              "      <td>Manhattan</td>\n",
              "      <td>73</td>\n",
              "      <td>MULBERRY STREET</td>\n",
              "      <td>10013.0</td>\n",
              "      <td>2129665538</td>\n",
              "      <td>NaN</td>\n",
              "      <td>01/01/1900</td>\n",
              "      <td>NaN</td>\n",
              "      <td>...</td>\n",
              "      <td>NaN</td>\n",
              "      <td>40.716211</td>\n",
              "      <td>-73.999149</td>\n",
              "      <td>103.0</td>\n",
              "      <td>1.0</td>\n",
              "      <td>2900.0</td>\n",
              "      <td>1002379.0</td>\n",
              "      <td>1.001990e+09</td>\n",
              "      <td>MN27</td>\n",
              "      <td>NaN</td>\n",
              "    </tr>\n",
              "    <tr>\n",
              "      <th>4</th>\n",
              "      <td>50131493</td>\n",
              "      <td>PIZZA  R  US</td>\n",
              "      <td>Staten Island</td>\n",
              "      <td>124</td>\n",
              "      <td>OCEAN AVENUE</td>\n",
              "      <td>10305.0</td>\n",
              "      <td>7186195643</td>\n",
              "      <td>NaN</td>\n",
              "      <td>01/01/1900</td>\n",
              "      <td>NaN</td>\n",
              "      <td>...</td>\n",
              "      <td>NaN</td>\n",
              "      <td>40.595484</td>\n",
              "      <td>-74.063043</td>\n",
              "      <td>502.0</td>\n",
              "      <td>50.0</td>\n",
              "      <td>7400.0</td>\n",
              "      <td>5046081.0</td>\n",
              "      <td>5.031240e+09</td>\n",
              "      <td>SI14</td>\n",
              "      <td>NaN</td>\n",
              "    </tr>\n",
              "    <tr>\n",
              "      <th>5</th>\n",
              "      <td>50122250</td>\n",
              "      <td>PALENQUE COLOMBIAN FOOD</td>\n",
              "      <td>Manhattan</td>\n",
              "      <td>NKA</td>\n",
              "      <td>HIGH LINE PARK W 15TH ST</td>\n",
              "      <td>10011.0</td>\n",
              "      <td>7189541955</td>\n",
              "      <td>NaN</td>\n",
              "      <td>01/01/1900</td>\n",
              "      <td>NaN</td>\n",
              "      <td>...</td>\n",
              "      <td>NaN</td>\n",
              "      <td>NaN</td>\n",
              "      <td>NaN</td>\n",
              "      <td>NaN</td>\n",
              "      <td>NaN</td>\n",
              "      <td>NaN</td>\n",
              "      <td>NaN</td>\n",
              "      <td>NaN</td>\n",
              "      <td>NaN</td>\n",
              "      <td>NaN</td>\n",
              "    </tr>\n",
              "    <tr>\n",
              "      <th>6</th>\n",
              "      <td>50117306</td>\n",
              "      <td>Buena Onda</td>\n",
              "      <td>Manhattan</td>\n",
              "      <td>1446</td>\n",
              "      <td>1 AVENUE</td>\n",
              "      <td>10021.0</td>\n",
              "      <td>9173196127</td>\n",
              "      <td>NaN</td>\n",
              "      <td>01/01/1900</td>\n",
              "      <td>NaN</td>\n",
              "      <td>...</td>\n",
              "      <td>NaN</td>\n",
              "      <td>40.769892</td>\n",
              "      <td>-73.954457</td>\n",
              "      <td>108.0</td>\n",
              "      <td>5.0</td>\n",
              "      <td>13200.0</td>\n",
              "      <td>1045918.0</td>\n",
              "      <td>1.014700e+09</td>\n",
              "      <td>MN31</td>\n",
              "      <td>NaN</td>\n",
              "    </tr>\n",
              "    <tr>\n",
              "      <th>7</th>\n",
              "      <td>50111086</td>\n",
              "      <td>CHUCK E CHEESE'S</td>\n",
              "      <td>Queens</td>\n",
              "      <td>13335</td>\n",
              "      <td>79TH ST</td>\n",
              "      <td>11414.0</td>\n",
              "      <td>9722584217</td>\n",
              "      <td>NaN</td>\n",
              "      <td>01/01/1900</td>\n",
              "      <td>NaN</td>\n",
              "      <td>...</td>\n",
              "      <td>NaN</td>\n",
              "      <td>40.671909</td>\n",
              "      <td>-73.856675</td>\n",
              "      <td>410.0</td>\n",
              "      <td>32.0</td>\n",
              "      <td>6202.0</td>\n",
              "      <td>4541244.0</td>\n",
              "      <td>4.113590e+09</td>\n",
              "      <td>QN57</td>\n",
              "      <td>NaN</td>\n",
              "    </tr>\n",
              "    <tr>\n",
              "      <th>8</th>\n",
              "      <td>50117246</td>\n",
              "      <td>NaN</td>\n",
              "      <td>Manhattan</td>\n",
              "      <td>20</td>\n",
              "      <td>UNION SQUARE WEST</td>\n",
              "      <td>10003.0</td>\n",
              "      <td>5303604717</td>\n",
              "      <td>NaN</td>\n",
              "      <td>01/01/1900</td>\n",
              "      <td>NaN</td>\n",
              "      <td>...</td>\n",
              "      <td>NaN</td>\n",
              "      <td>40.736610</td>\n",
              "      <td>-73.990679</td>\n",
              "      <td>105.0</td>\n",
              "      <td>2.0</td>\n",
              "      <td>5200.0</td>\n",
              "      <td>1016108.0</td>\n",
              "      <td>1.008450e+09</td>\n",
              "      <td>MN13</td>\n",
              "      <td>NaN</td>\n",
              "    </tr>\n",
              "    <tr>\n",
              "      <th>9</th>\n",
              "      <td>50128743</td>\n",
              "      <td>LATITUDE 39</td>\n",
              "      <td>Manhattan</td>\n",
              "      <td>306</td>\n",
              "      <td>WEST   39 STREET</td>\n",
              "      <td>10018.0</td>\n",
              "      <td>3036850697</td>\n",
              "      <td>NaN</td>\n",
              "      <td>01/01/1900</td>\n",
              "      <td>NaN</td>\n",
              "      <td>...</td>\n",
              "      <td>NaN</td>\n",
              "      <td>40.755546</td>\n",
              "      <td>-73.991731</td>\n",
              "      <td>104.0</td>\n",
              "      <td>3.0</td>\n",
              "      <td>11500.0</td>\n",
              "      <td>1090194.0</td>\n",
              "      <td>1.007620e+09</td>\n",
              "      <td>MN15</td>\n",
              "      <td>NaN</td>\n",
              "    </tr>\n",
              "  </tbody>\n",
              "</table>\n",
              "<p>10 rows × 27 columns</p>\n",
              "</div>"
            ],
            "text/plain": [
              "      CAMIS                      DBA           BORO BUILDING  \\\n",
              "0  50120012                      NaN         Queens    40-05   \n",
              "1  50123212                     POMO       Brooklyn     2122   \n",
              "2  50105922     ROYAL PALACE TBILISI       Brooklyn      811   \n",
              "3  50116603                UNCLE LOU      Manhattan       73   \n",
              "4  50131493             PIZZA  R  US  Staten Island      124   \n",
              "5  50122250  PALENQUE COLOMBIAN FOOD      Manhattan      NKA   \n",
              "6  50117306               Buena Onda      Manhattan     1446   \n",
              "7  50111086         CHUCK E CHEESE'S         Queens    13335   \n",
              "8  50117246                      NaN      Manhattan       20   \n",
              "9  50128743              LATITUDE 39      Manhattan      306   \n",
              "\n",
              "                     STREET  ZIPCODE       PHONE CUISINE DESCRIPTION  \\\n",
              "0           SKILLMAN AVENUE  11104.0  3478439587                 NaN   \n",
              "1             BEEKMAN PLACE  11225.0  9177573253                 NaN   \n",
              "2             KINGS HIGHWAY  11223.0  3473746863                 NaN   \n",
              "3           MULBERRY STREET  10013.0  2129665538                 NaN   \n",
              "4              OCEAN AVENUE  10305.0  7186195643                 NaN   \n",
              "5  HIGH LINE PARK W 15TH ST  10011.0  7189541955                 NaN   \n",
              "6                  1 AVENUE  10021.0  9173196127                 NaN   \n",
              "7                   79TH ST  11414.0  9722584217                 NaN   \n",
              "8         UNION SQUARE WEST  10003.0  5303604717                 NaN   \n",
              "9          WEST   39 STREET  10018.0  3036850697                 NaN   \n",
              "\n",
              "  INSPECTION DATE ACTION  ... INSPECTION TYPE   Latitude  Longitude  \\\n",
              "0      01/01/1900    NaN  ...             NaN  40.747196 -73.923417   \n",
              "1      01/01/1900    NaN  ...             NaN  40.660002 -73.960825   \n",
              "2      01/01/1900    NaN  ...             NaN  40.606541 -73.964422   \n",
              "3      01/01/1900    NaN  ...             NaN  40.716211 -73.999149   \n",
              "4      01/01/1900    NaN  ...             NaN  40.595484 -74.063043   \n",
              "5      01/01/1900    NaN  ...             NaN        NaN        NaN   \n",
              "6      01/01/1900    NaN  ...             NaN  40.769892 -73.954457   \n",
              "7      01/01/1900    NaN  ...             NaN  40.671909 -73.856675   \n",
              "8      01/01/1900    NaN  ...             NaN  40.736610 -73.990679   \n",
              "9      01/01/1900    NaN  ...             NaN  40.755546 -73.991731   \n",
              "\n",
              "   Community Board Council District Census Tract        BIN           BBL  \\\n",
              "0            402.0             26.0      17100.0  4002375.0  4.001830e+09   \n",
              "1            309.0             40.0      79802.0  3114599.0  3.050260e+09   \n",
              "2            315.0             44.0      41800.0  3177550.0  3.066650e+09   \n",
              "3            103.0              1.0       2900.0  1002379.0  1.001990e+09   \n",
              "4            502.0             50.0       7400.0  5046081.0  5.031240e+09   \n",
              "5              NaN              NaN          NaN        NaN           NaN   \n",
              "6            108.0              5.0      13200.0  1045918.0  1.014700e+09   \n",
              "7            410.0             32.0       6202.0  4541244.0  4.113590e+09   \n",
              "8            105.0              2.0       5200.0  1016108.0  1.008450e+09   \n",
              "9            104.0              3.0      11500.0  1090194.0  1.007620e+09   \n",
              "\n",
              "    NTA  Location Point  \n",
              "0  QN31             NaN  \n",
              "1  BK60             NaN  \n",
              "2  BK25             NaN  \n",
              "3  MN27             NaN  \n",
              "4  SI14             NaN  \n",
              "5   NaN             NaN  \n",
              "6  MN31             NaN  \n",
              "7  QN57             NaN  \n",
              "8  MN13             NaN  \n",
              "9  MN15             NaN  \n",
              "\n",
              "[10 rows x 27 columns]"
            ]
          },
          "execution_count": 2,
          "metadata": {},
          "output_type": "execute_result"
        }
      ],
      "source": [
        "# Load data into a DataFrame\n",
        "restaurants = pd.read_csv('https://data.cityofnewyork.us/api/views/43nn-pn8j/rows.csv')\n",
        "\n",
        "# Print the first 10 rows of the DataFrame\n",
        "restaurants.head(10)"
      ]
    },
    {
      "attachments": {},
      "cell_type": "markdown",
      "metadata": {
        "id": "htjkc528WuVJ"
      },
      "source": [
        "Let's use the `.describe()` function to get a quick overview of the data we will be working with.\n"
      ]
    },
    {
      "cell_type": "code",
      "execution_count": 3,
      "metadata": {
        "colab": {
          "base_uri": "https://localhost:8080/",
          "height": 361
        },
        "id": "ZaGkZwPSXhZ4",
        "outputId": "e678e909-4377-4b72-e92d-2386ac96631a"
      },
      "outputs": [
        {
          "data": {
            "text/html": [
              "<div>\n",
              "<style scoped>\n",
              "    .dataframe tbody tr th:only-of-type {\n",
              "        vertical-align: middle;\n",
              "    }\n",
              "\n",
              "    .dataframe tbody tr th {\n",
              "        vertical-align: top;\n",
              "    }\n",
              "\n",
              "    .dataframe thead th {\n",
              "        text-align: right;\n",
              "    }\n",
              "</style>\n",
              "<table border=\"1\" class=\"dataframe\">\n",
              "  <thead>\n",
              "    <tr style=\"text-align: right;\">\n",
              "      <th></th>\n",
              "      <th>CAMIS</th>\n",
              "      <th>ZIPCODE</th>\n",
              "      <th>SCORE</th>\n",
              "      <th>Latitude</th>\n",
              "      <th>Longitude</th>\n",
              "      <th>Community Board</th>\n",
              "      <th>Council District</th>\n",
              "      <th>Census Tract</th>\n",
              "      <th>BIN</th>\n",
              "      <th>BBL</th>\n",
              "      <th>Location Point</th>\n",
              "    </tr>\n",
              "  </thead>\n",
              "  <tbody>\n",
              "    <tr>\n",
              "      <th>count</th>\n",
              "      <td>2.088550e+05</td>\n",
              "      <td>205950.000000</td>\n",
              "      <td>197865.000000</td>\n",
              "      <td>208557.000000</td>\n",
              "      <td>208557.000000</td>\n",
              "      <td>205412.000000</td>\n",
              "      <td>205412.000000</td>\n",
              "      <td>205412.000000</td>\n",
              "      <td>2.043160e+05</td>\n",
              "      <td>2.082920e+05</td>\n",
              "      <td>0.0</td>\n",
              "    </tr>\n",
              "    <tr>\n",
              "      <th>mean</th>\n",
              "      <td>4.713618e+07</td>\n",
              "      <td>10701.931624</td>\n",
              "      <td>21.798833</td>\n",
              "      <td>40.165535</td>\n",
              "      <td>-72.920006</td>\n",
              "      <td>252.527214</td>\n",
              "      <td>20.547587</td>\n",
              "      <td>29841.688008</td>\n",
              "      <td>2.552577e+06</td>\n",
              "      <td>2.439967e+09</td>\n",
              "      <td>NaN</td>\n",
              "    </tr>\n",
              "    <tr>\n",
              "      <th>std</th>\n",
              "      <td>4.194073e+06</td>\n",
              "      <td>593.804623</td>\n",
              "      <td>16.931675</td>\n",
              "      <td>4.753379</td>\n",
              "      <td>8.629135</td>\n",
              "      <td>129.443065</td>\n",
              "      <td>15.744736</td>\n",
              "      <td>31343.940367</td>\n",
              "      <td>1.338471e+06</td>\n",
              "      <td>1.331359e+09</td>\n",
              "      <td>NaN</td>\n",
              "    </tr>\n",
              "    <tr>\n",
              "      <th>min</th>\n",
              "      <td>3.007544e+07</td>\n",
              "      <td>8512.000000</td>\n",
              "      <td>0.000000</td>\n",
              "      <td>0.000000</td>\n",
              "      <td>-74.249101</td>\n",
              "      <td>101.000000</td>\n",
              "      <td>1.000000</td>\n",
              "      <td>100.000000</td>\n",
              "      <td>1.000000e+06</td>\n",
              "      <td>1.000000e+00</td>\n",
              "      <td>NaN</td>\n",
              "    </tr>\n",
              "    <tr>\n",
              "      <th>25%</th>\n",
              "      <td>4.156738e+07</td>\n",
              "      <td>10023.000000</td>\n",
              "      <td>11.000000</td>\n",
              "      <td>40.683726</td>\n",
              "      <td>-73.988785</td>\n",
              "      <td>106.000000</td>\n",
              "      <td>4.000000</td>\n",
              "      <td>7900.000000</td>\n",
              "      <td>1.049985e+06</td>\n",
              "      <td>1.010660e+09</td>\n",
              "      <td>NaN</td>\n",
              "    </tr>\n",
              "    <tr>\n",
              "      <th>50%</th>\n",
              "      <td>5.005010e+07</td>\n",
              "      <td>11101.000000</td>\n",
              "      <td>17.000000</td>\n",
              "      <td>40.730777</td>\n",
              "      <td>-73.956212</td>\n",
              "      <td>302.000000</td>\n",
              "      <td>20.000000</td>\n",
              "      <td>17401.000000</td>\n",
              "      <td>3.016610e+06</td>\n",
              "      <td>3.005310e+09</td>\n",
              "      <td>NaN</td>\n",
              "    </tr>\n",
              "    <tr>\n",
              "      <th>75%</th>\n",
              "      <td>5.009366e+07</td>\n",
              "      <td>11230.000000</td>\n",
              "      <td>29.000000</td>\n",
              "      <td>40.761653</td>\n",
              "      <td>-73.895827</td>\n",
              "      <td>401.000000</td>\n",
              "      <td>34.000000</td>\n",
              "      <td>42200.000000</td>\n",
              "      <td>4.002596e+06</td>\n",
              "      <td>4.001930e+09</td>\n",
              "      <td>NaN</td>\n",
              "    </tr>\n",
              "    <tr>\n",
              "      <th>max</th>\n",
              "      <td>5.013327e+07</td>\n",
              "      <td>14228.000000</td>\n",
              "      <td>157.000000</td>\n",
              "      <td>40.912822</td>\n",
              "      <td>0.000000</td>\n",
              "      <td>595.000000</td>\n",
              "      <td>51.000000</td>\n",
              "      <td>162100.000000</td>\n",
              "      <td>5.799501e+06</td>\n",
              "      <td>5.270001e+09</td>\n",
              "      <td>NaN</td>\n",
              "    </tr>\n",
              "  </tbody>\n",
              "</table>\n",
              "</div>"
            ],
            "text/plain": [
              "              CAMIS        ZIPCODE          SCORE       Latitude  \\\n",
              "count  2.088550e+05  205950.000000  197865.000000  208557.000000   \n",
              "mean   4.713618e+07   10701.931624      21.798833      40.165535   \n",
              "std    4.194073e+06     593.804623      16.931675       4.753379   \n",
              "min    3.007544e+07    8512.000000       0.000000       0.000000   \n",
              "25%    4.156738e+07   10023.000000      11.000000      40.683726   \n",
              "50%    5.005010e+07   11101.000000      17.000000      40.730777   \n",
              "75%    5.009366e+07   11230.000000      29.000000      40.761653   \n",
              "max    5.013327e+07   14228.000000     157.000000      40.912822   \n",
              "\n",
              "           Longitude  Community Board  Council District   Census Tract  \\\n",
              "count  208557.000000    205412.000000     205412.000000  205412.000000   \n",
              "mean      -72.920006       252.527214         20.547587   29841.688008   \n",
              "std         8.629135       129.443065         15.744736   31343.940367   \n",
              "min       -74.249101       101.000000          1.000000     100.000000   \n",
              "25%       -73.988785       106.000000          4.000000    7900.000000   \n",
              "50%       -73.956212       302.000000         20.000000   17401.000000   \n",
              "75%       -73.895827       401.000000         34.000000   42200.000000   \n",
              "max         0.000000       595.000000         51.000000  162100.000000   \n",
              "\n",
              "                BIN           BBL  Location Point  \n",
              "count  2.043160e+05  2.082920e+05             0.0  \n",
              "mean   2.552577e+06  2.439967e+09             NaN  \n",
              "std    1.338471e+06  1.331359e+09             NaN  \n",
              "min    1.000000e+06  1.000000e+00             NaN  \n",
              "25%    1.049985e+06  1.010660e+09             NaN  \n",
              "50%    3.016610e+06  3.005310e+09             NaN  \n",
              "75%    4.002596e+06  4.001930e+09             NaN  \n",
              "max    5.799501e+06  5.270001e+09             NaN  "
            ]
          },
          "execution_count": 3,
          "metadata": {},
          "output_type": "execute_result"
        }
      ],
      "source": [
        "restaurants.describe()"
      ]
    },
    {
      "cell_type": "markdown",
      "metadata": {
        "id": "sFlEcTbLZZEr"
      },
      "source": [
        "## <a class=\"anchor\"></a> 1.2. Dtypes and descriptive statistics\n",
        "\n",
        "Recall from week2 that there are different dtypes in Pandas. Have a look at this table once again:\n",
        "\n",
        "\n",
        "| Pandas dtype  | Python type  | NumPy type|Usage\n",
        "| :--- | :--- | :--- | :--- |\n",
        "| object| str or mixed | string_, unicode_, mixed types| Text or mixed numeric and non_numeric values |\n",
        "| int 64| int| int_, int8, int16, int32, int64, uint8, uint18, uint32, uint64 | Integer numbers i.e. [1,2,3,...] |\n",
        "| float64| float| float_, float15, float32, float64 | Floating point numbers (They contain decimal points) |\n",
        "| bool| bool|bool_| True/False values|\n",
        "| datetime64 | NA | datetime64[ns]     | Date and time values  |\n",
        "| timedelta[ns] | NA  | NA| Differences between two datetime|\n",
        "| category | NA| NA| Finite list of text values|\n",
        "\n",
        "\n",
        "Now let's see what the dtypes of our DF are:\n"
      ]
    },
    {
      "cell_type": "code",
      "execution_count": 4,
      "metadata": {
        "colab": {
          "base_uri": "https://localhost:8080/"
        },
        "id": "fOVgjWctXtvp",
        "outputId": "470da47e-cb56-4c9e-ccf7-64c0ae6b15b3"
      },
      "outputs": [
        {
          "data": {
            "text/plain": [
              "CAMIS                      int64\n",
              "DBA                       object\n",
              "BORO                      object\n",
              "BUILDING                  object\n",
              "STREET                    object\n",
              "ZIPCODE                  float64\n",
              "PHONE                     object\n",
              "CUISINE DESCRIPTION       object\n",
              "INSPECTION DATE           object\n",
              "ACTION                    object\n",
              "VIOLATION CODE            object\n",
              "VIOLATION DESCRIPTION     object\n",
              "CRITICAL FLAG             object\n",
              "SCORE                    float64\n",
              "GRADE                     object\n",
              "GRADE DATE                object\n",
              "RECORD DATE               object\n",
              "INSPECTION TYPE           object\n",
              "Latitude                 float64\n",
              "Longitude                float64\n",
              "Community Board          float64\n",
              "Council District         float64\n",
              "Census Tract             float64\n",
              "BIN                      float64\n",
              "BBL                      float64\n",
              "NTA                       object\n",
              "Location Point           float64\n",
              "dtype: object"
            ]
          },
          "execution_count": 4,
          "metadata": {},
          "output_type": "execute_result"
        }
      ],
      "source": [
        "restaurants.dtypes"
      ]
    },
    {
      "cell_type": "markdown",
      "metadata": {
        "id": "F6cXeIxnir33"
      },
      "source": [
        "### <a class=\"anchor\"></a> 1.2.1 Descriptive Statistics for numerical variables\n",
        "\n",
        "As you can see, the DataFrame comprises different types of Data. You always have to pay attention to this, as the supported operations depends on it. For instance, float64 is a desired type for decimal data, especially if we want to see statistics, distribution etc... \n"
      ]
    },
    {
      "cell_type": "code",
      "execution_count": 5,
      "metadata": {
        "colab": {
          "base_uri": "https://localhost:8080/"
        },
        "id": "3Z7jTfsQaRKp",
        "outputId": "fcf87f30-4813-437d-de43-ec76e67155c9"
      },
      "outputs": [
        {
          "data": {
            "text/plain": [
              "count    197865.000000\n",
              "mean         21.798833\n",
              "std          16.931675\n",
              "min           0.000000\n",
              "25%          11.000000\n",
              "50%          17.000000\n",
              "75%          29.000000\n",
              "max         157.000000\n",
              "Name: SCORE, dtype: float64"
            ]
          },
          "execution_count": 5,
          "metadata": {},
          "output_type": "execute_result"
        }
      ],
      "source": [
        "#Describe the SCORE column\n",
        "restaurants.SCORE.describe()"
      ]
    },
    {
      "cell_type": "markdown",
      "metadata": {
        "id": "dWT6EPKDE8zE"
      },
      "source": [
        "We can use the `.hist()` function to plot an histogram and analyze data distribution. "
      ]
    },
    {
      "cell_type": "code",
      "execution_count": 6,
      "metadata": {
        "colab": {
          "base_uri": "https://localhost:8080/",
          "height": 265
        },
        "id": "8jvoTXbVE-rA",
        "outputId": "12fb72e3-f482-4e8e-a112-0996194901e3"
      },
      "outputs": [
        {
          "data": {
            "image/png": "[encoded data removed]",
            "text/plain": [
              "<Figure size 640x480 with 1 Axes>"
            ]
          },
          "metadata": {},
          "output_type": "display_data"
        }
      ],
      "source": [
        "hist_score=restaurants[\"SCORE\"].hist()"
      ]
    },
    {
      "cell_type": "markdown",
      "metadata": {
        "id": "NLHK6ncaGNsB"
      },
      "source": [
        "Granularity is important for distribution analysis and precision. It can be changed by varying the number if bins used for display.  The `hist()` function allows to pass multiple arguments, you can find more information if you follow this [link](https://pandas.pydata.org/pandas-docs/stable/reference/api/pandas.DataFrame.hist.html)\n"
      ]
    },
    {
      "cell_type": "code",
      "execution_count": 7,
      "metadata": {
        "colab": {
          "base_uri": "https://localhost:8080/",
          "height": 265
        },
        "id": "0ZmdQWYHHl7g",
        "outputId": "0c2fb216-cead-4842-eac3-2c07ac9347f9"
      },
      "outputs": [
        {
          "data": {
            "image/png": "[encoded data removed]",
            "text/plain": [
              "<Figure size 640x480 with 1 Axes>"
            ]
          },
          "metadata": {},
          "output_type": "display_data"
        }
      ],
      "source": [
        "hist_score_2=restaurants[\"SCORE\"].hist(bins = 50)"
      ]
    },
    {
      "cell_type": "code",
      "execution_count": 8,
      "metadata": {
        "colab": {
          "base_uri": "https://localhost:8080/",
          "height": 320
        },
        "id": "XGZTeED5Hyrg",
        "outputId": "2e69abae-6715-439f-f40d-ed6fca55c243"
      },
      "outputs": [
        {
          "data": {
            "image/png": "[encoded data removed]",
            "text/plain": [
              "<Figure size 1500x500 with 1 Axes>"
            ]
          },
          "metadata": {},
          "output_type": "display_data"
        }
      ],
      "source": [
        "# A quick exposure to various options of the \"hist\" command \n",
        "hist_score_3=restaurants.SCORE.hist(bins=50, # use 50 bars\n",
        "                          range=(0,50), # x-axis from 0 to 50\n",
        "                          density=False,  # show normalized count (density=True), or raw counts (density= False)\n",
        "                          figsize=(15,5), # controls the size of the plot\n",
        "                          alpha = 0.8 # make the plot 20% transparent\n",
        "                         )"
      ]
    },
    {
      "cell_type": "markdown",
      "metadata": {
        "id": "QskynHO7ayNR"
      },
      "source": [
        "We now have some statistical information for the SCORE column. Let's convert some other columns to a more useful type."
      ]
    },
    {
      "cell_type": "markdown",
      "metadata": {
        "id": "ncwnUCNKch05"
      },
      "source": [
        "### <a class=\"anchor\"></a> 1.2.2 Descriptive statistics for DATETIME variables\n",
        "\n",
        "\n",
        "Remember that one of the dtypes handles Date and Time. Some of the columns in our DF contain this type of data, so let's convert these columns to the `datetime64` dtype so that we can further processings, statistics and distribution analysis for example.\n"
      ]
    },
    {
      "cell_type": "code",
      "execution_count": 9,
      "metadata": {
        "colab": {
          "base_uri": "https://localhost:8080/"
        },
        "id": "GpHpl-lXdXOI",
        "outputId": "525fe15c-815a-470d-e328-dae3f40f33ee"
      },
      "outputs": [
        {
          "data": {
            "text/plain": [
              "189713    04/14/2022\n",
              "135155           NaN\n",
              "89847     09/14/2022\n",
              "43771     12/01/2021\n",
              "133482           NaN\n",
              "13639            NaN\n",
              "149301    10/26/2022\n",
              "120272           NaN\n",
              "61138            NaN\n",
              "61396            NaN\n",
              "Name: GRADE DATE, dtype: object"
            ]
          },
          "execution_count": 9,
          "metadata": {},
          "output_type": "execute_result"
        }
      ],
      "source": [
        "restaurants[\"GRADE DATE\"].sample(10)"
      ]
    },
    {
      "cell_type": "markdown",
      "metadata": {
        "id": "HM24xiHNdokw"
      },
      "source": [
        "For that, we need to understand first how to parse dates using the [Python conventions.](https://docs.python.org/3/library/datetime.html#strftime-and-strptime-behavior) \n",
        "\n",
        "The relevant entries from the table are:\n",
        "\n",
        "    %m Month as a zero-padded decimal number.\n",
        "    %d Day of the month as a zero-padded decimal number.\n",
        "    %Y Year with century as a decimal number.\n",
        "\n",
        "Now that we know in what format the dates were entried (remember that americans write dates like this `month/day/year` , as opposed to `day/month/year`), we can convert our columns."
      ]
    },
    {
      "cell_type": "code",
      "execution_count": 10,
      "metadata": {
        "colab": {
          "base_uri": "https://localhost:8080/"
        },
        "id": "WkFnmcNNea9I",
        "outputId": "250a6b47-e4e7-4ffe-c998-c417b52c5809"
      },
      "outputs": [
        {
          "data": {
            "text/plain": [
              "CAMIS                             int64\n",
              "DBA                              object\n",
              "BORO                             object\n",
              "BUILDING                         object\n",
              "STREET                           object\n",
              "ZIPCODE                         float64\n",
              "PHONE                            object\n",
              "CUISINE DESCRIPTION              object\n",
              "INSPECTION DATE          datetime64[ns]\n",
              "ACTION                           object\n",
              "VIOLATION CODE                   object\n",
              "VIOLATION DESCRIPTION            object\n",
              "CRITICAL FLAG                    object\n",
              "SCORE                           float64\n",
              "GRADE                            object\n",
              "GRADE DATE               datetime64[ns]\n",
              "RECORD DATE              datetime64[ns]\n",
              "INSPECTION TYPE                  object\n",
              "Latitude                        float64\n",
              "Longitude                       float64\n",
              "Community Board                 float64\n",
              "Council District                float64\n",
              "Census Tract                    float64\n",
              "BIN                             float64\n",
              "BBL                             float64\n",
              "NTA                              object\n",
              "Location Point                  float64\n",
              "dtype: object"
            ]
          },
          "execution_count": 10,
          "metadata": {},
          "output_type": "execute_result"
        }
      ],
      "source": [
        "#We convert some columnd to the datetime64 tyoe\n",
        "restaurants[\"GRADE DATE\"] = pd.to_datetime(restaurants[\"GRADE DATE\"], format=\"%m/%d/%Y\")\n",
        "restaurants[\"RECORD DATE\"] = pd.to_datetime(restaurants[\"RECORD DATE\"], format=\"%m/%d/%Y\")\n",
        "restaurants[\"INSPECTION DATE\"] = pd.to_datetime(restaurants[\"INSPECTION DATE\"], format=\"%m/%d/%Y\")\n",
        "\n",
        "#Now we have another look at the dtaypes\n",
        "restaurants.dtypes"
      ]
    },
    {
      "cell_type": "markdown",
      "metadata": {
        "id": "x7FU3IlEe1MR"
      },
      "source": [
        "Let's see what the `.describe()` function can do now."
      ]
    },
    {
      "cell_type": "code",
      "execution_count": 11,
      "metadata": {
        "colab": {
          "base_uri": "https://localhost:8080/",
          "height": 269
        },
        "id": "QjHjatoRedo5",
        "outputId": "4a9154f4-9cd6-4001-bc15-c0ff0e087c36"
      },
      "outputs": [
        {
          "data": {
            "text/html": [
              "<div>\n",
              "<style scoped>\n",
              "    .dataframe tbody tr th:only-of-type {\n",
              "        vertical-align: middle;\n",
              "    }\n",
              "\n",
              "    .dataframe tbody tr th {\n",
              "        vertical-align: top;\n",
              "    }\n",
              "\n",
              "    .dataframe thead th {\n",
              "        text-align: right;\n",
              "    }\n",
              "</style>\n",
              "<table border=\"1\" class=\"dataframe\">\n",
              "  <thead>\n",
              "    <tr style=\"text-align: right;\">\n",
              "      <th></th>\n",
              "      <th>INSPECTION DATE</th>\n",
              "      <th>GRADE DATE</th>\n",
              "      <th>RECORD DATE</th>\n",
              "    </tr>\n",
              "  </thead>\n",
              "  <tbody>\n",
              "    <tr>\n",
              "      <th>count</th>\n",
              "      <td>208855</td>\n",
              "      <td>96599</td>\n",
              "      <td>208855</td>\n",
              "    </tr>\n",
              "    <tr>\n",
              "      <th>mean</th>\n",
              "      <td>2018-11-14 07:04:03.229034496</td>\n",
              "      <td>2021-05-13 10:18:18.719448576</td>\n",
              "      <td>2023-03-06 00:00:00</td>\n",
              "    </tr>\n",
              "    <tr>\n",
              "      <th>min</th>\n",
              "      <td>1900-01-01 00:00:00</td>\n",
              "      <td>2012-05-01 00:00:00</td>\n",
              "      <td>2023-03-06 00:00:00</td>\n",
              "    </tr>\n",
              "    <tr>\n",
              "      <th>25%</th>\n",
              "      <td>2019-12-12 00:00:00</td>\n",
              "      <td>2019-11-27 00:00:00</td>\n",
              "      <td>2023-03-06 00:00:00</td>\n",
              "    </tr>\n",
              "    <tr>\n",
              "      <th>50%</th>\n",
              "      <td>2022-02-04 00:00:00</td>\n",
              "      <td>2022-01-28 00:00:00</td>\n",
              "      <td>2023-03-06 00:00:00</td>\n",
              "    </tr>\n",
              "    <tr>\n",
              "      <th>75%</th>\n",
              "      <td>2022-08-19 00:00:00</td>\n",
              "      <td>2022-09-12 00:00:00</td>\n",
              "      <td>2023-03-06 00:00:00</td>\n",
              "    </tr>\n",
              "    <tr>\n",
              "      <th>max</th>\n",
              "      <td>2023-03-05 00:00:00</td>\n",
              "      <td>2023-03-05 00:00:00</td>\n",
              "      <td>2023-03-06 00:00:00</td>\n",
              "    </tr>\n",
              "  </tbody>\n",
              "</table>\n",
              "</div>"
            ],
            "text/plain": [
              "                     INSPECTION DATE                     GRADE DATE  \\\n",
              "count                         208855                          96599   \n",
              "mean   2018-11-14 07:04:03.229034496  2021-05-13 10:18:18.719448576   \n",
              "min              1900-01-01 00:00:00            2012-05-01 00:00:00   \n",
              "25%              2019-12-12 00:00:00            2019-11-27 00:00:00   \n",
              "50%              2022-02-04 00:00:00            2022-01-28 00:00:00   \n",
              "75%              2022-08-19 00:00:00            2022-09-12 00:00:00   \n",
              "max              2023-03-05 00:00:00            2023-03-05 00:00:00   \n",
              "\n",
              "               RECORD DATE  \n",
              "count               208855  \n",
              "mean   2023-03-06 00:00:00  \n",
              "min    2023-03-06 00:00:00  \n",
              "25%    2023-03-06 00:00:00  \n",
              "50%    2023-03-06 00:00:00  \n",
              "75%    2023-03-06 00:00:00  \n",
              "max    2023-03-06 00:00:00  "
            ]
          },
          "execution_count": 11,
          "metadata": {},
          "output_type": "execute_result"
        }
      ],
      "source": [
        "restaurants[[\"INSPECTION DATE\", \"GRADE DATE\", \"RECORD DATE\"]].describe(datetime_is_numeric=True)"
      ]
    },
    {
      "cell_type": "markdown",
      "metadata": {
        "id": "8bCF8YwP7g8c"
      },
      "source": [
        "We can also plot an histogram for datetime variables:"
      ]
    },
    {
      "cell_type": "code",
      "execution_count": 12,
      "metadata": {
        "colab": {
          "base_uri": "https://localhost:8080/",
          "height": 267
        },
        "id": "A-Nlhi4D1fGb",
        "outputId": "68d82462-0685-41a3-ff05-f3c2d0417821"
      },
      "outputs": [
        {
          "data": {
            "image/png": "[encoded data removed]",
            "text/plain": [
              "<Figure size 640x480 with 1 Axes>"
            ]
          },
          "metadata": {},
          "output_type": "display_data"
        }
      ],
      "source": [
        "hist_date=restaurants[\"GRADE DATE\"].hist(bins=50)"
      ]
    },
    {
      "cell_type": "markdown",
      "metadata": {
        "id": "J0rTfZ5medCI"
      },
      "source": [
        "### <a class=\"anchor\"></a> 1.2.3 Descriptive statistics for categorical variables\n",
        "\n",
        "Now let's handle categorical data. This is most commonly useful when we have variables that have an implicit order (e.g., the A/B/C grade of the restaurant).\n",
        "\n",
        "We can use the pandas `.Categorical` function for this."
      ]
    },
    {
      "cell_type": "code",
      "execution_count": 13,
      "metadata": {
        "colab": {
          "base_uri": "https://localhost:8080/"
        },
        "id": "F_U3zpWKfslZ",
        "outputId": "bc73334e-7511-4c07-e81a-97b922596c69"
      },
      "outputs": [
        {
          "data": {
            "text/plain": [
              "CAMIS                             int64\n",
              "DBA                              object\n",
              "BORO                           category\n",
              "BUILDING                         object\n",
              "STREET                           object\n",
              "ZIPCODE                         float64\n",
              "PHONE                            object\n",
              "CUISINE DESCRIPTION            category\n",
              "INSPECTION DATE          datetime64[ns]\n",
              "ACTION                         category\n",
              "VIOLATION CODE                 category\n",
              "VIOLATION DESCRIPTION            object\n",
              "CRITICAL FLAG                  category\n",
              "SCORE                           float64\n",
              "GRADE                          category\n",
              "GRADE DATE               datetime64[ns]\n",
              "RECORD DATE              datetime64[ns]\n",
              "INSPECTION TYPE                  object\n",
              "Latitude                        float64\n",
              "Longitude                       float64\n",
              "Community Board                 float64\n",
              "Council District                float64\n",
              "Census Tract                    float64\n",
              "BIN                             float64\n",
              "BBL                             float64\n",
              "NTA                              object\n",
              "Location Point                  float64\n",
              "dtype: object"
            ]
          },
          "execution_count": 13,
          "metadata": {},
          "output_type": "execute_result"
        }
      ],
      "source": [
        "#We convert the categorical columns\n",
        "restaurants[\"BORO\"] =  pd.Categorical(restaurants[\"BORO\"], ordered=False)\n",
        "restaurants[\"GRADE\"] =  pd.Categorical(restaurants[\"GRADE\"], categories = ['A', 'B', 'C'], ordered=True)\n",
        "restaurants[\"VIOLATION CODE\"] =  pd.Categorical(restaurants[\"VIOLATION CODE\"], ordered=False)\n",
        "restaurants[\"CRITICAL FLAG\"] =  pd.Categorical(restaurants[\"CRITICAL FLAG\"], ordered=False)\n",
        "restaurants[\"ACTION\"] =  pd.Categorical(restaurants[\"ACTION\"], ordered=False)\n",
        "restaurants[\"CUISINE DESCRIPTION\"] =  pd.Categorical(restaurants[\"CUISINE DESCRIPTION\"], ordered=False)\n",
        "\n",
        "#We have another look at the dtypes\n",
        "restaurants.dtypes"
      ]
    },
    {
      "cell_type": "code",
      "execution_count": 14,
      "metadata": {
        "colab": {
          "base_uri": "https://localhost:8080/"
        },
        "id": "p1an3tNfOgKH",
        "outputId": "56efaf7c-5d21-4cf4-b5a6-d6b195af7981"
      },
      "outputs": [
        {
          "data": {
            "text/plain": [
              "A    74267\n",
              "B     9817\n",
              "C     5121\n",
              "Name: GRADE, dtype: int64"
            ]
          },
          "execution_count": 14,
          "metadata": {},
          "output_type": "execute_result"
        }
      ],
      "source": [
        "restaurants.GRADE.value_counts()"
      ]
    },
    {
      "cell_type": "code",
      "execution_count": 15,
      "metadata": {
        "colab": {
          "base_uri": "https://localhost:8080/"
        },
        "id": "fytkMZlFgan5",
        "outputId": "d42e6ee4-dbd2-4ac9-b9c5-8ca25b0c8cae"
      },
      "outputs": [
        {
          "data": {
            "text/plain": [
              "DUNKIN                                   2539\n",
              "SUBWAY                                   1522\n",
              "STARBUCKS                                1106\n",
              "MCDONALD'S                                955\n",
              "KENNEDY FRIED CHICKEN                     714\n",
              "BURGER KING                               627\n",
              "POPEYES                                   622\n",
              "CROWN FRIED CHICKEN                       592\n",
              "GOLDEN KRUST CARIBBEAN BAKERY & GRILL     497\n",
              "DOMINO'S                                  459\n",
              "Name: DBA, dtype: int64"
            ]
          },
          "execution_count": 15,
          "metadata": {},
          "output_type": "execute_result"
        }
      ],
      "source": [
        "#Display 10 first entries \n",
        "restaurants[\"DBA\"].value_counts()[:10]"
      ]
    },
    {
      "cell_type": "markdown",
      "metadata": {
        "id": "w9EaoV62gh4w"
      },
      "source": [
        "An explanation:\n",
        " * The `value_counts()` function counts how many different values there are.\n",
        " * The `[:10]` filters the list, thus showing us only the first 10 values.  \n",
        "\n",
        "\n",
        " "
      ]
    },
    {
      "cell_type": "code",
      "execution_count": 16,
      "metadata": {
        "colab": {
          "base_uri": "https://localhost:8080/",
          "height": 206
        },
        "id": "izY0a0Qyg_K6",
        "outputId": "6a13d9a9-c171-4026-b3cd-d7d255bb6029"
      },
      "outputs": [
        {
          "data": {
            "text/html": [
              "<div>\n",
              "<style scoped>\n",
              "    .dataframe tbody tr th:only-of-type {\n",
              "        vertical-align: middle;\n",
              "    }\n",
              "\n",
              "    .dataframe tbody tr th {\n",
              "        vertical-align: top;\n",
              "    }\n",
              "\n",
              "    .dataframe thead th {\n",
              "        text-align: right;\n",
              "    }\n",
              "</style>\n",
              "<table border=\"1\" class=\"dataframe\">\n",
              "  <thead>\n",
              "    <tr style=\"text-align: right;\">\n",
              "      <th></th>\n",
              "      <th>CUISINE DESCRIPTION</th>\n",
              "    </tr>\n",
              "  </thead>\n",
              "  <tbody>\n",
              "    <tr>\n",
              "      <th>American</th>\n",
              "      <td>36471</td>\n",
              "    </tr>\n",
              "    <tr>\n",
              "      <th>Chinese</th>\n",
              "      <td>20028</td>\n",
              "    </tr>\n",
              "    <tr>\n",
              "      <th>Pizza</th>\n",
              "      <td>12860</td>\n",
              "    </tr>\n",
              "    <tr>\n",
              "      <th>Coffee/Tea</th>\n",
              "      <td>11969</td>\n",
              "    </tr>\n",
              "    <tr>\n",
              "      <th>Latin American</th>\n",
              "      <td>8695</td>\n",
              "    </tr>\n",
              "  </tbody>\n",
              "</table>\n",
              "</div>"
            ],
            "text/plain": [
              "                CUISINE DESCRIPTION\n",
              "American                      36471\n",
              "Chinese                       20028\n",
              "Pizza                         12860\n",
              "Coffee/Tea                    11969\n",
              "Latin American                 8695"
            ]
          },
          "execution_count": 16,
          "metadata": {},
          "output_type": "execute_result"
        }
      ],
      "source": [
        "#Display 5 first entries\n",
        "restaurants[\"CUISINE DESCRIPTION\"].value_counts()[:5].to_frame()"
      ]
    },
    {
      "cell_type": "markdown",
      "metadata": {
        "id": "YXRJhWgMhErJ"
      },
      "source": [
        "We can also plot the data, lets start by plotting the different categories of food with the `.plot()` function."
      ]
    },
    {
      "cell_type": "code",
      "execution_count": 17,
      "metadata": {
        "colab": {
          "base_uri": "https://localhost:8080/",
          "height": 331
        },
        "id": "38BuE0behB_o",
        "outputId": "cfe40daa-be52-447f-bee0-c101bfd93296"
      },
      "outputs": [
        {
          "data": {
            "image/png": "[encoded data removed]",
            "text/plain": [
              "<Figure size 640x480 with 1 Axes>"
            ]
          },
          "metadata": {},
          "output_type": "display_data"
        }
      ],
      "source": [
        "hist_cuisine=restaurants[\"CUISINE DESCRIPTION\"].value_counts()[:5].plot(kind='bar')"
      ]
    },
    {
      "cell_type": "code",
      "execution_count": 18,
      "metadata": {
        "colab": {
          "base_uri": "https://localhost:8080/",
          "height": 206
        },
        "id": "PM_T_wejhv8g",
        "outputId": "f2f84179-dfe3-47c0-ea4d-8f20a1d2f0df"
      },
      "outputs": [
        {
          "data": {
            "text/html": [
              "<div>\n",
              "<style scoped>\n",
              "    .dataframe tbody tr th:only-of-type {\n",
              "        vertical-align: middle;\n",
              "    }\n",
              "\n",
              "    .dataframe tbody tr th {\n",
              "        vertical-align: top;\n",
              "    }\n",
              "\n",
              "    .dataframe thead th {\n",
              "        text-align: right;\n",
              "    }\n",
              "</style>\n",
              "<table border=\"1\" class=\"dataframe\">\n",
              "  <thead>\n",
              "    <tr style=\"text-align: right;\">\n",
              "      <th></th>\n",
              "      <th>Cuisine count</th>\n",
              "    </tr>\n",
              "  </thead>\n",
              "  <tbody>\n",
              "    <tr>\n",
              "      <th>American</th>\n",
              "      <td>36471</td>\n",
              "    </tr>\n",
              "    <tr>\n",
              "      <th>Chinese</th>\n",
              "      <td>20028</td>\n",
              "    </tr>\n",
              "    <tr>\n",
              "      <th>Pizza</th>\n",
              "      <td>12860</td>\n",
              "    </tr>\n",
              "    <tr>\n",
              "      <th>Coffee/Tea</th>\n",
              "      <td>11969</td>\n",
              "    </tr>\n",
              "    <tr>\n",
              "      <th>Latin American</th>\n",
              "      <td>8695</td>\n",
              "    </tr>\n",
              "  </tbody>\n",
              "</table>\n",
              "</div>"
            ],
            "text/plain": [
              "                Cuisine count\n",
              "American                36471\n",
              "Chinese                 20028\n",
              "Pizza                   12860\n",
              "Coffee/Tea              11969\n",
              "Latin American           8695"
            ]
          },
          "execution_count": 18,
          "metadata": {},
          "output_type": "execute_result"
        }
      ],
      "source": [
        "popular = restaurants[\"CUISINE DESCRIPTION\"].value_counts().to_frame().rename(columns={\"CUISINE DESCRIPTION\": \"Cuisine count\"})\n",
        "popular.head()"
      ]
    },
    {
      "cell_type": "markdown",
      "metadata": {
        "id": "dY3l8-w_iWgw"
      },
      "source": [
        "If you have a look at the results of the last block of code, you will see that is seems to be quite detailed. We might for example want to treat \"Cuban\", \"Dominican\", \"Puerto Rican\", \"South & Central American\" just as \"Latin American\".\n",
        "\n",
        "The `.replace()` function allows us to do this."
      ]
    },
    {
      "cell_type": "code",
      "execution_count": 19,
      "metadata": {
        "id": "picE57BmiUYY"
      },
      "outputs": [],
      "source": [
        "#Latin American food\n",
        "restaurants[\"CUISINE DESCRIPTION\"].replace(\n",
        "    to_replace=['Latin American (Central and South America)', 'Chilean'],\n",
        "    value = 'Latin American',\n",
        "    inplace=True\n",
        ")\n",
        "\n",
        "#Coffe bar\n",
        "restaurants[\"CUISINE DESCRIPTION\"].replace(\n",
        "    to_replace='CafÃ©/Coffee/Tea',\n",
        "    value = 'Cafe/Coffee/Tea',\n",
        "    inplace=True\n",
        ")"
      ]
    },
    {
      "cell_type": "code",
      "execution_count": 20,
      "metadata": {
        "colab": {
          "base_uri": "https://localhost:8080/",
          "height": 206
        },
        "id": "k7_Jad3FJzms",
        "outputId": "817a0ebb-43ac-4a5e-f257-8fc5525e6175"
      },
      "outputs": [
        {
          "data": {
            "text/html": [
              "<div>\n",
              "<style scoped>\n",
              "    .dataframe tbody tr th:only-of-type {\n",
              "        vertical-align: middle;\n",
              "    }\n",
              "\n",
              "    .dataframe tbody tr th {\n",
              "        vertical-align: top;\n",
              "    }\n",
              "\n",
              "    .dataframe thead th {\n",
              "        text-align: right;\n",
              "    }\n",
              "</style>\n",
              "<table border=\"1\" class=\"dataframe\">\n",
              "  <thead>\n",
              "    <tr style=\"text-align: right;\">\n",
              "      <th></th>\n",
              "      <th>Cuisine count</th>\n",
              "    </tr>\n",
              "  </thead>\n",
              "  <tbody>\n",
              "    <tr>\n",
              "      <th>American</th>\n",
              "      <td>36471</td>\n",
              "    </tr>\n",
              "    <tr>\n",
              "      <th>Chinese</th>\n",
              "      <td>20028</td>\n",
              "    </tr>\n",
              "    <tr>\n",
              "      <th>Pizza</th>\n",
              "      <td>12860</td>\n",
              "    </tr>\n",
              "    <tr>\n",
              "      <th>Coffee/Tea</th>\n",
              "      <td>11969</td>\n",
              "    </tr>\n",
              "    <tr>\n",
              "      <th>Latin American</th>\n",
              "      <td>8725</td>\n",
              "    </tr>\n",
              "  </tbody>\n",
              "</table>\n",
              "</div>"
            ],
            "text/plain": [
              "                Cuisine count\n",
              "American                36471\n",
              "Chinese                 20028\n",
              "Pizza                   12860\n",
              "Coffee/Tea              11969\n",
              "Latin American           8725"
            ]
          },
          "execution_count": 20,
          "metadata": {},
          "output_type": "execute_result"
        }
      ],
      "source": [
        "popular = restaurants[\"CUISINE DESCRIPTION\"].value_counts().to_frame().rename(columns={\"CUISINE DESCRIPTION\": \"Cuisine count\"})\n",
        "popular.head()"
      ]
    },
    {
      "cell_type": "markdown",
      "metadata": {
        "id": "EbTrqDwXJVZx"
      },
      "source": [
        "We can now plot the same barchart again, and see what the results are:\n",
        "\n"
      ]
    },
    {
      "cell_type": "code",
      "execution_count": 21,
      "metadata": {
        "colab": {
          "base_uri": "https://localhost:8080/",
          "height": 331
        },
        "id": "PTKa2mAbJjjY",
        "outputId": "225603cc-c95a-4b54-dbe2-4746c56bfb89"
      },
      "outputs": [
        {
          "data": {
            "image/png": "[encoded data removed]",
            "text/plain": [
              "<Figure size 640x480 with 1 Axes>"
            ]
          },
          "metadata": {},
          "output_type": "display_data"
        }
      ],
      "source": [
        "popular = restaurants[\"CUISINE DESCRIPTION\"].value_counts()\n",
        "hist_pop=popular[:5].plot(kind='bar')"
      ]
    },
    {
      "cell_type": "markdown",
      "metadata": {
        "id": "L7m2LIHKjDBU"
      },
      "source": [
        "## <a class=\"anchor\"></a> 1.3 Selecting Subsets\n",
        "\n",
        "\n"
      ]
    },
    {
      "cell_type": "markdown",
      "metadata": {
        "id": "kU3TPOupkSDo"
      },
      "source": [
        "To select rows, we can use the following approach, where we generate a list of boolean values, one for each row of the dataframe, and then we use the list to select which of the rows of the dataframe we want to keep"
      ]
    },
    {
      "cell_type": "code",
      "execution_count": 22,
      "metadata": {
        "colab": {
          "base_uri": "https://localhost:8080/"
        },
        "id": "JpZNv0mjki_f",
        "outputId": "2ee61456-4144-45f2-ee72-019bef3c5271"
      },
      "outputs": [
        {
          "data": {
            "text/plain": [
              "0    False\n",
              "1    False\n",
              "2    False\n",
              "3    False\n",
              "4    False\n",
              "Name: VIOLATION CODE, dtype: bool"
            ]
          },
          "execution_count": 22,
          "metadata": {},
          "output_type": "execute_result"
        }
      ],
      "source": [
        "# Create the condition \"has mice\" for code 04L\n",
        "mice = restaurants[\"VIOLATION CODE\"] == \"04L\"\n",
        "mice.head()"
      ]
    },
    {
      "cell_type": "code",
      "execution_count": 23,
      "metadata": {
        "colab": {
          "base_uri": "https://localhost:8080/",
          "height": 751
        },
        "id": "n5uQfBgnk4mZ",
        "outputId": "a383a908-5ed7-49fc-f87e-349c2e40a123"
      },
      "outputs": [
        {
          "data": {
            "text/html": [
              "<div>\n",
              "<style scoped>\n",
              "    .dataframe tbody tr th:only-of-type {\n",
              "        vertical-align: middle;\n",
              "    }\n",
              "\n",
              "    .dataframe tbody tr th {\n",
              "        vertical-align: top;\n",
              "    }\n",
              "\n",
              "    .dataframe thead th {\n",
              "        text-align: right;\n",
              "    }\n",
              "</style>\n",
              "<table border=\"1\" class=\"dataframe\">\n",
              "  <thead>\n",
              "    <tr style=\"text-align: right;\">\n",
              "      <th></th>\n",
              "      <th>CAMIS</th>\n",
              "      <th>DBA</th>\n",
              "      <th>BORO</th>\n",
              "      <th>BUILDING</th>\n",
              "      <th>STREET</th>\n",
              "      <th>ZIPCODE</th>\n",
              "      <th>PHONE</th>\n",
              "      <th>CUISINE DESCRIPTION</th>\n",
              "      <th>INSPECTION DATE</th>\n",
              "      <th>ACTION</th>\n",
              "      <th>...</th>\n",
              "      <th>INSPECTION TYPE</th>\n",
              "      <th>Latitude</th>\n",
              "      <th>Longitude</th>\n",
              "      <th>Community Board</th>\n",
              "      <th>Council District</th>\n",
              "      <th>Census Tract</th>\n",
              "      <th>BIN</th>\n",
              "      <th>BBL</th>\n",
              "      <th>NTA</th>\n",
              "      <th>Location Point</th>\n",
              "    </tr>\n",
              "  </thead>\n",
              "  <tbody>\n",
              "    <tr>\n",
              "      <th>108</th>\n",
              "      <td>40783903</td>\n",
              "      <td>ALICE</td>\n",
              "      <td>Manhattan</td>\n",
              "      <td>126</td>\n",
              "      <td>WEST   13 STREET</td>\n",
              "      <td>10011.0</td>\n",
              "      <td>2126914886</td>\n",
              "      <td>Italian</td>\n",
              "      <td>2022-12-27</td>\n",
              "      <td>Violations were cited in the following area(s).</td>\n",
              "      <td>...</td>\n",
              "      <td>Cycle Inspection / Re-inspection</td>\n",
              "      <td>40.737058</td>\n",
              "      <td>-73.998300</td>\n",
              "      <td>102.0</td>\n",
              "      <td>3.0</td>\n",
              "      <td>7100.0</td>\n",
              "      <td>1078119.0</td>\n",
              "      <td>1.006080e+09</td>\n",
              "      <td>MN23</td>\n",
              "      <td>NaN</td>\n",
              "    </tr>\n",
              "    <tr>\n",
              "      <th>202</th>\n",
              "      <td>41716646</td>\n",
              "      <td>METRO STAR COFFEE SHOP</td>\n",
              "      <td>Queens</td>\n",
              "      <td>3211</td>\n",
              "      <td>JUCTION BLVD</td>\n",
              "      <td>NaN</td>\n",
              "      <td>9179371556</td>\n",
              "      <td>American</td>\n",
              "      <td>2022-07-08</td>\n",
              "      <td>Violations were cited in the following area(s).</td>\n",
              "      <td>...</td>\n",
              "      <td>Cycle Inspection / Initial Inspection</td>\n",
              "      <td>0.000000</td>\n",
              "      <td>0.000000</td>\n",
              "      <td>NaN</td>\n",
              "      <td>NaN</td>\n",
              "      <td>NaN</td>\n",
              "      <td>NaN</td>\n",
              "      <td>4.000000e+00</td>\n",
              "      <td>NaN</td>\n",
              "      <td>NaN</td>\n",
              "    </tr>\n",
              "    <tr>\n",
              "      <th>315</th>\n",
              "      <td>50067445</td>\n",
              "      <td>LAO CHAO BUNS</td>\n",
              "      <td>Queens</td>\n",
              "      <td>4214B</td>\n",
              "      <td>BOWNE ST</td>\n",
              "      <td>11355.0</td>\n",
              "      <td>7188881277</td>\n",
              "      <td>Chinese</td>\n",
              "      <td>2023-02-06</td>\n",
              "      <td>Violations were cited in the following area(s).</td>\n",
              "      <td>...</td>\n",
              "      <td>Cycle Inspection / Re-inspection</td>\n",
              "      <td>40.756846</td>\n",
              "      <td>-73.821793</td>\n",
              "      <td>407.0</td>\n",
              "      <td>20.0</td>\n",
              "      <td>85700.0</td>\n",
              "      <td>NaN</td>\n",
              "      <td>4.000000e+00</td>\n",
              "      <td>QN22</td>\n",
              "      <td>NaN</td>\n",
              "    </tr>\n",
              "    <tr>\n",
              "      <th>645</th>\n",
              "      <td>50103409</td>\n",
              "      <td>EAT PRETTY</td>\n",
              "      <td>Manhattan</td>\n",
              "      <td>501 1/2</td>\n",
              "      <td>EAST   83 STREET</td>\n",
              "      <td>10028.0</td>\n",
              "      <td>6465908190</td>\n",
              "      <td>Other</td>\n",
              "      <td>2023-02-24</td>\n",
              "      <td>Violations were cited in the following area(s).</td>\n",
              "      <td>...</td>\n",
              "      <td>Cycle Inspection / Initial Inspection</td>\n",
              "      <td>40.773828</td>\n",
              "      <td>-73.948193</td>\n",
              "      <td>NaN</td>\n",
              "      <td>NaN</td>\n",
              "      <td>NaN</td>\n",
              "      <td>NaN</td>\n",
              "      <td>NaN</td>\n",
              "      <td>NaN</td>\n",
              "      <td>NaN</td>\n",
              "    </tr>\n",
              "    <tr>\n",
              "      <th>1079</th>\n",
              "      <td>50052842</td>\n",
              "      <td>CUP OF BROOKLYN</td>\n",
              "      <td>Brooklyn</td>\n",
              "      <td>1071B</td>\n",
              "      <td>GATES AVE</td>\n",
              "      <td>NaN</td>\n",
              "      <td>9178555647</td>\n",
              "      <td>Coffee/Tea</td>\n",
              "      <td>2022-12-19</td>\n",
              "      <td>Violations were cited in the following area(s).</td>\n",
              "      <td>...</td>\n",
              "      <td>Cycle Inspection / Initial Inspection</td>\n",
              "      <td>0.000000</td>\n",
              "      <td>0.000000</td>\n",
              "      <td>NaN</td>\n",
              "      <td>NaN</td>\n",
              "      <td>NaN</td>\n",
              "      <td>NaN</td>\n",
              "      <td>3.000000e+00</td>\n",
              "      <td>NaN</td>\n",
              "      <td>NaN</td>\n",
              "    </tr>\n",
              "  </tbody>\n",
              "</table>\n",
              "<p>5 rows × 27 columns</p>\n",
              "</div>"
            ],
            "text/plain": [
              "         CAMIS                     DBA       BORO BUILDING            STREET  \\\n",
              "108   40783903                   ALICE  Manhattan      126  WEST   13 STREET   \n",
              "202   41716646  METRO STAR COFFEE SHOP     Queens     3211      JUCTION BLVD   \n",
              "315   50067445           LAO CHAO BUNS     Queens    4214B          BOWNE ST   \n",
              "645   50103409              EAT PRETTY  Manhattan  501 1/2  EAST   83 STREET   \n",
              "1079  50052842         CUP OF BROOKLYN   Brooklyn    1071B         GATES AVE   \n",
              "\n",
              "      ZIPCODE       PHONE CUISINE DESCRIPTION INSPECTION DATE  \\\n",
              "108   10011.0  2126914886             Italian      2022-12-27   \n",
              "202       NaN  9179371556            American      2022-07-08   \n",
              "315   11355.0  7188881277             Chinese      2023-02-06   \n",
              "645   10028.0  6465908190               Other      2023-02-24   \n",
              "1079      NaN  9178555647          Coffee/Tea      2022-12-19   \n",
              "\n",
              "                                               ACTION  ...  \\\n",
              "108   Violations were cited in the following area(s).  ...   \n",
              "202   Violations were cited in the following area(s).  ...   \n",
              "315   Violations were cited in the following area(s).  ...   \n",
              "645   Violations were cited in the following area(s).  ...   \n",
              "1079  Violations were cited in the following area(s).  ...   \n",
              "\n",
              "                            INSPECTION TYPE   Latitude  Longitude  \\\n",
              "108        Cycle Inspection / Re-inspection  40.737058 -73.998300   \n",
              "202   Cycle Inspection / Initial Inspection   0.000000   0.000000   \n",
              "315        Cycle Inspection / Re-inspection  40.756846 -73.821793   \n",
              "645   Cycle Inspection / Initial Inspection  40.773828 -73.948193   \n",
              "1079  Cycle Inspection / Initial Inspection   0.000000   0.000000   \n",
              "\n",
              "      Community Board Council District Census Tract        BIN           BBL  \\\n",
              "108             102.0              3.0       7100.0  1078119.0  1.006080e+09   \n",
              "202               NaN              NaN          NaN        NaN  4.000000e+00   \n",
              "315             407.0             20.0      85700.0        NaN  4.000000e+00   \n",
              "645               NaN              NaN          NaN        NaN           NaN   \n",
              "1079              NaN              NaN          NaN        NaN  3.000000e+00   \n",
              "\n",
              "       NTA  Location Point  \n",
              "108   MN23             NaN  \n",
              "202    NaN             NaN  \n",
              "315   QN22             NaN  \n",
              "645    NaN             NaN  \n",
              "1079   NaN             NaN  \n",
              "\n",
              "[5 rows x 27 columns]"
            ]
          },
          "execution_count": 23,
          "metadata": {},
          "output_type": "execute_result"
        }
      ],
      "source": [
        "# Apply the condition to the dataframe \"restaurants\" and store the result \n",
        "# in a dataframe called  has_mice\n",
        "\n",
        "has_mice = restaurants[mice]\n",
        "# Similar to the previous line, but using the \"loc\" method\n",
        "# has_mice = restaurants.loc[mice]\n",
        "has_mice.head()"
      ]
    },
    {
      "cell_type": "code",
      "execution_count": 24,
      "metadata": {
        "colab": {
          "base_uri": "https://localhost:8080/",
          "height": 677
        },
        "id": "PYkyVskFk9Np",
        "outputId": "ee9226f1-822a-4184-b7d3-49c0cd380586"
      },
      "outputs": [
        {
          "data": {
            "text/html": [
              "<div>\n",
              "<style scoped>\n",
              "    .dataframe tbody tr th:only-of-type {\n",
              "        vertical-align: middle;\n",
              "    }\n",
              "\n",
              "    .dataframe tbody tr th {\n",
              "        vertical-align: top;\n",
              "    }\n",
              "\n",
              "    .dataframe thead th {\n",
              "        text-align: right;\n",
              "    }\n",
              "</style>\n",
              "<table border=\"1\" class=\"dataframe\">\n",
              "  <thead>\n",
              "    <tr style=\"text-align: right;\">\n",
              "      <th></th>\n",
              "      <th>DBA count</th>\n",
              "    </tr>\n",
              "  </thead>\n",
              "  <tbody>\n",
              "    <tr>\n",
              "      <th>SUBWAY</th>\n",
              "      <td>119</td>\n",
              "    </tr>\n",
              "    <tr>\n",
              "      <th>DUNKIN</th>\n",
              "      <td>97</td>\n",
              "    </tr>\n",
              "    <tr>\n",
              "      <th>CROWN FRIED CHICKEN</th>\n",
              "      <td>58</td>\n",
              "    </tr>\n",
              "    <tr>\n",
              "      <th>KENNEDY FRIED CHICKEN</th>\n",
              "      <td>57</td>\n",
              "    </tr>\n",
              "    <tr>\n",
              "      <th>BURGER KING</th>\n",
              "      <td>44</td>\n",
              "    </tr>\n",
              "    <tr>\n",
              "      <th>GOLDEN KRUST CARIBBEAN BAKERY &amp; GRILL</th>\n",
              "      <td>42</td>\n",
              "    </tr>\n",
              "    <tr>\n",
              "      <th>STARBUCKS</th>\n",
              "      <td>40</td>\n",
              "    </tr>\n",
              "    <tr>\n",
              "      <th>POPEYES</th>\n",
              "      <td>33</td>\n",
              "    </tr>\n",
              "    <tr>\n",
              "      <th>MCDONALD'S</th>\n",
              "      <td>32</td>\n",
              "    </tr>\n",
              "    <tr>\n",
              "      <th>DOMINO'S</th>\n",
              "      <td>28</td>\n",
              "    </tr>\n",
              "    <tr>\n",
              "      <th>CARVEL</th>\n",
              "      <td>28</td>\n",
              "    </tr>\n",
              "    <tr>\n",
              "      <th>PAPA JOHN'S</th>\n",
              "      <td>26</td>\n",
              "    </tr>\n",
              "    <tr>\n",
              "      <th>DUNKIN',' BASKIN ROBBINS</th>\n",
              "      <td>20</td>\n",
              "    </tr>\n",
              "    <tr>\n",
              "      <th>IHOP</th>\n",
              "      <td>19</td>\n",
              "    </tr>\n",
              "    <tr>\n",
              "      <th>LE PAIN QUOTIDIEN</th>\n",
              "      <td>17</td>\n",
              "    </tr>\n",
              "    <tr>\n",
              "      <th>AMC THEATRES</th>\n",
              "      <td>17</td>\n",
              "    </tr>\n",
              "    <tr>\n",
              "      <th>LITTLE CAESARS</th>\n",
              "      <td>16</td>\n",
              "    </tr>\n",
              "    <tr>\n",
              "      <th>KFC</th>\n",
              "      <td>15</td>\n",
              "    </tr>\n",
              "    <tr>\n",
              "      <th>VIVI BUBBLE TEA</th>\n",
              "      <td>14</td>\n",
              "    </tr>\n",
              "    <tr>\n",
              "      <th>JOE &amp; THE JUICE</th>\n",
              "      <td>14</td>\n",
              "    </tr>\n",
              "  </tbody>\n",
              "</table>\n",
              "</div>"
            ],
            "text/plain": [
              "                                       DBA count\n",
              "SUBWAY                                       119\n",
              "DUNKIN                                        97\n",
              "CROWN FRIED CHICKEN                           58\n",
              "KENNEDY FRIED CHICKEN                         57\n",
              "BURGER KING                                   44\n",
              "GOLDEN KRUST CARIBBEAN BAKERY & GRILL         42\n",
              "STARBUCKS                                     40\n",
              "POPEYES                                       33\n",
              "MCDONALD'S                                    32\n",
              "DOMINO'S                                      28\n",
              "CARVEL                                        28\n",
              "PAPA JOHN'S                                   26\n",
              "DUNKIN',' BASKIN ROBBINS                      20\n",
              "IHOP                                          19\n",
              "LE PAIN QUOTIDIEN                             17\n",
              "AMC THEATRES                                  17\n",
              "LITTLE CAESARS                                16\n",
              "KFC                                           15\n",
              "VIVI BUBBLE TEA                               14\n",
              "JOE & THE JUICE                               14"
            ]
          },
          "execution_count": 24,
          "metadata": {},
          "output_type": "execute_result"
        }
      ],
      "source": [
        "# List the most frequent DBA values in the data of restaurants that have mice\n",
        "has_mice[\"DBA\"].value_counts()[:20].to_frame().rename(columns={\"DBA\": \"DBA count\"})"
      ]
    },
    {
      "cell_type": "code",
      "execution_count": 25,
      "metadata": {
        "colab": {
          "base_uri": "https://localhost:8080/",
          "height": 206
        },
        "id": "9IkowTLrlDVI",
        "outputId": "72f8bf54-7918-4a64-a8c7-ee004c55f36d"
      },
      "outputs": [
        {
          "data": {
            "text/html": [
              "<div>\n",
              "<style scoped>\n",
              "    .dataframe tbody tr th:only-of-type {\n",
              "        vertical-align: middle;\n",
              "    }\n",
              "\n",
              "    .dataframe tbody tr th {\n",
              "        vertical-align: top;\n",
              "    }\n",
              "\n",
              "    .dataframe thead th {\n",
              "        text-align: right;\n",
              "    }\n",
              "</style>\n",
              "<table border=\"1\" class=\"dataframe\">\n",
              "  <thead>\n",
              "    <tr style=\"text-align: right;\">\n",
              "      <th></th>\n",
              "      <th>CAMIS count</th>\n",
              "    </tr>\n",
              "  </thead>\n",
              "  <tbody>\n",
              "    <tr>\n",
              "      <th>50106610</th>\n",
              "      <td>8</td>\n",
              "    </tr>\n",
              "    <tr>\n",
              "      <th>40610000</th>\n",
              "      <td>8</td>\n",
              "    </tr>\n",
              "    <tr>\n",
              "      <th>50044250</th>\n",
              "      <td>8</td>\n",
              "    </tr>\n",
              "    <tr>\n",
              "      <th>50006002</th>\n",
              "      <td>7</td>\n",
              "    </tr>\n",
              "    <tr>\n",
              "      <th>41474882</th>\n",
              "      <td>7</td>\n",
              "    </tr>\n",
              "  </tbody>\n",
              "</table>\n",
              "</div>"
            ],
            "text/plain": [
              "          CAMIS count\n",
              "50106610            8\n",
              "40610000            8\n",
              "50044250            8\n",
              "50006002            7\n",
              "41474882            7"
            ]
          },
          "execution_count": 25,
          "metadata": {},
          "output_type": "execute_result"
        }
      ],
      "source": [
        "has_mice[\"CAMIS\"].value_counts()[:5].to_frame().rename(columns={\"CAMIS\": \"CAMIS count\"})"
      ]
    },
    {
      "cell_type": "markdown",
      "metadata": {
        "id": "JKgTH03JlewI"
      },
      "source": [
        "And we can use more complex conditions."
      ]
    },
    {
      "cell_type": "code",
      "execution_count": 26,
      "metadata": {
        "colab": {
          "base_uri": "https://localhost:8080/",
          "height": 751
        },
        "id": "i8QMmc3VlgMT",
        "outputId": "7da85bd9-60c0-463a-d739-3aed53e4a381"
      },
      "outputs": [
        {
          "data": {
            "text/html": [
              "<div>\n",
              "<style scoped>\n",
              "    .dataframe tbody tr th:only-of-type {\n",
              "        vertical-align: middle;\n",
              "    }\n",
              "\n",
              "    .dataframe tbody tr th {\n",
              "        vertical-align: top;\n",
              "    }\n",
              "\n",
              "    .dataframe thead th {\n",
              "        text-align: right;\n",
              "    }\n",
              "</style>\n",
              "<table border=\"1\" class=\"dataframe\">\n",
              "  <thead>\n",
              "    <tr style=\"text-align: right;\">\n",
              "      <th></th>\n",
              "      <th>CAMIS</th>\n",
              "      <th>DBA</th>\n",
              "      <th>BORO</th>\n",
              "      <th>BUILDING</th>\n",
              "      <th>STREET</th>\n",
              "      <th>ZIPCODE</th>\n",
              "      <th>PHONE</th>\n",
              "      <th>CUISINE DESCRIPTION</th>\n",
              "      <th>INSPECTION DATE</th>\n",
              "      <th>ACTION</th>\n",
              "      <th>...</th>\n",
              "      <th>INSPECTION TYPE</th>\n",
              "      <th>Latitude</th>\n",
              "      <th>Longitude</th>\n",
              "      <th>Community Board</th>\n",
              "      <th>Council District</th>\n",
              "      <th>Census Tract</th>\n",
              "      <th>BIN</th>\n",
              "      <th>BBL</th>\n",
              "      <th>NTA</th>\n",
              "      <th>Location Point</th>\n",
              "    </tr>\n",
              "  </thead>\n",
              "  <tbody>\n",
              "    <tr>\n",
              "      <th>1079</th>\n",
              "      <td>50052842</td>\n",
              "      <td>CUP OF BROOKLYN</td>\n",
              "      <td>Brooklyn</td>\n",
              "      <td>1071B</td>\n",
              "      <td>GATES AVE</td>\n",
              "      <td>NaN</td>\n",
              "      <td>9178555647</td>\n",
              "      <td>Coffee/Tea</td>\n",
              "      <td>2022-12-19</td>\n",
              "      <td>Violations were cited in the following area(s).</td>\n",
              "      <td>...</td>\n",
              "      <td>Cycle Inspection / Initial Inspection</td>\n",
              "      <td>0.000000</td>\n",
              "      <td>0.000000</td>\n",
              "      <td>NaN</td>\n",
              "      <td>NaN</td>\n",
              "      <td>NaN</td>\n",
              "      <td>NaN</td>\n",
              "      <td>3.000000e+00</td>\n",
              "      <td>NaN</td>\n",
              "      <td>NaN</td>\n",
              "    </tr>\n",
              "    <tr>\n",
              "      <th>1477</th>\n",
              "      <td>41385083</td>\n",
              "      <td>KOSHER PIZZA TIME</td>\n",
              "      <td>Brooklyn</td>\n",
              "      <td>1324</td>\n",
              "      <td>AVENUE J</td>\n",
              "      <td>11230.0</td>\n",
              "      <td>7182528801</td>\n",
              "      <td>Pizza</td>\n",
              "      <td>2020-02-25</td>\n",
              "      <td>Violations were cited in the following area(s).</td>\n",
              "      <td>...</td>\n",
              "      <td>Cycle Inspection / Initial Inspection</td>\n",
              "      <td>40.624996</td>\n",
              "      <td>-73.962949</td>\n",
              "      <td>314.0</td>\n",
              "      <td>44.0</td>\n",
              "      <td>53400.0</td>\n",
              "      <td>3179949.0</td>\n",
              "      <td>3.067150e+09</td>\n",
              "      <td>BK43</td>\n",
              "      <td>NaN</td>\n",
              "    </tr>\n",
              "    <tr>\n",
              "      <th>1496</th>\n",
              "      <td>50045961</td>\n",
              "      <td>TAI LAI RESTAURANT</td>\n",
              "      <td>Brooklyn</td>\n",
              "      <td>990</td>\n",
              "      <td>T S BOYLAND ST</td>\n",
              "      <td>NaN</td>\n",
              "      <td>7184987787</td>\n",
              "      <td>Chinese</td>\n",
              "      <td>2022-05-19</td>\n",
              "      <td>Violations were cited in the following area(s).</td>\n",
              "      <td>...</td>\n",
              "      <td>Cycle Inspection / Initial Inspection</td>\n",
              "      <td>0.000000</td>\n",
              "      <td>0.000000</td>\n",
              "      <td>NaN</td>\n",
              "      <td>NaN</td>\n",
              "      <td>NaN</td>\n",
              "      <td>NaN</td>\n",
              "      <td>3.000000e+00</td>\n",
              "      <td>NaN</td>\n",
              "      <td>NaN</td>\n",
              "    </tr>\n",
              "    <tr>\n",
              "      <th>1547</th>\n",
              "      <td>50102665</td>\n",
              "      <td>MERA</td>\n",
              "      <td>Brooklyn</td>\n",
              "      <td>282</td>\n",
              "      <td>KINGS HIGHWAY</td>\n",
              "      <td>11223.0</td>\n",
              "      <td>3479679403</td>\n",
              "      <td>Mediterranean</td>\n",
              "      <td>2020-01-25</td>\n",
              "      <td>Violations were cited in the following area(s).</td>\n",
              "      <td>...</td>\n",
              "      <td>Pre-permit (Operational) / Initial Inspection</td>\n",
              "      <td>40.605172</td>\n",
              "      <td>-73.980240</td>\n",
              "      <td>311.0</td>\n",
              "      <td>47.0</td>\n",
              "      <td>42600.0</td>\n",
              "      <td>3176751.0</td>\n",
              "      <td>3.066490e+09</td>\n",
              "      <td>BK29</td>\n",
              "      <td>NaN</td>\n",
              "    </tr>\n",
              "    <tr>\n",
              "      <th>1551</th>\n",
              "      <td>50058745</td>\n",
              "      <td>RICO CHIMI BROOKLYN</td>\n",
              "      <td>Brooklyn</td>\n",
              "      <td>2928</td>\n",
              "      <td>ATLANTIC AVENUE</td>\n",
              "      <td>11207.0</td>\n",
              "      <td>3477157272</td>\n",
              "      <td>Latin American</td>\n",
              "      <td>2019-05-23</td>\n",
              "      <td>Violations were cited in the following area(s).</td>\n",
              "      <td>...</td>\n",
              "      <td>Cycle Inspection / Initial Inspection</td>\n",
              "      <td>40.677500</td>\n",
              "      <td>-73.886251</td>\n",
              "      <td>305.0</td>\n",
              "      <td>37.0</td>\n",
              "      <td>117000.0</td>\n",
              "      <td>3088338.0</td>\n",
              "      <td>3.039670e+09</td>\n",
              "      <td>BK82</td>\n",
              "      <td>NaN</td>\n",
              "    </tr>\n",
              "  </tbody>\n",
              "</table>\n",
              "<p>5 rows × 27 columns</p>\n",
              "</div>"
            ],
            "text/plain": [
              "         CAMIS                  DBA      BORO BUILDING           STREET  \\\n",
              "1079  50052842      CUP OF BROOKLYN  Brooklyn    1071B        GATES AVE   \n",
              "1477  41385083    KOSHER PIZZA TIME  Brooklyn     1324         AVENUE J   \n",
              "1496  50045961   TAI LAI RESTAURANT  Brooklyn      990   T S BOYLAND ST   \n",
              "1547  50102665                 MERA  Brooklyn      282    KINGS HIGHWAY   \n",
              "1551  50058745  RICO CHIMI BROOKLYN  Brooklyn     2928  ATLANTIC AVENUE   \n",
              "\n",
              "      ZIPCODE       PHONE CUISINE DESCRIPTION INSPECTION DATE  \\\n",
              "1079      NaN  9178555647          Coffee/Tea      2022-12-19   \n",
              "1477  11230.0  7182528801               Pizza      2020-02-25   \n",
              "1496      NaN  7184987787             Chinese      2022-05-19   \n",
              "1547  11223.0  3479679403       Mediterranean      2020-01-25   \n",
              "1551  11207.0  3477157272      Latin American      2019-05-23   \n",
              "\n",
              "                                               ACTION  ...  \\\n",
              "1079  Violations were cited in the following area(s).  ...   \n",
              "1477  Violations were cited in the following area(s).  ...   \n",
              "1496  Violations were cited in the following area(s).  ...   \n",
              "1547  Violations were cited in the following area(s).  ...   \n",
              "1551  Violations were cited in the following area(s).  ...   \n",
              "\n",
              "                                    INSPECTION TYPE   Latitude  Longitude  \\\n",
              "1079          Cycle Inspection / Initial Inspection   0.000000   0.000000   \n",
              "1477          Cycle Inspection / Initial Inspection  40.624996 -73.962949   \n",
              "1496          Cycle Inspection / Initial Inspection   0.000000   0.000000   \n",
              "1547  Pre-permit (Operational) / Initial Inspection  40.605172 -73.980240   \n",
              "1551          Cycle Inspection / Initial Inspection  40.677500 -73.886251   \n",
              "\n",
              "      Community Board Council District Census Tract        BIN           BBL  \\\n",
              "1079              NaN              NaN          NaN        NaN  3.000000e+00   \n",
              "1477            314.0             44.0      53400.0  3179949.0  3.067150e+09   \n",
              "1496              NaN              NaN          NaN        NaN  3.000000e+00   \n",
              "1547            311.0             47.0      42600.0  3176751.0  3.066490e+09   \n",
              "1551            305.0             37.0     117000.0  3088338.0  3.039670e+09   \n",
              "\n",
              "       NTA  Location Point  \n",
              "1079   NaN             NaN  \n",
              "1477  BK43             NaN  \n",
              "1496   NaN             NaN  \n",
              "1547  BK29             NaN  \n",
              "1551  BK82             NaN  \n",
              "\n",
              "[5 rows x 27 columns]"
            ]
          },
          "execution_count": 26,
          "metadata": {},
          "output_type": "execute_result"
        }
      ],
      "source": [
        "#Restaurants in Brooklyn that have mices\n",
        "mice_Brooklyn =  ( (restaurants[\"VIOLATION CODE\"] == \"04L\") \n",
        "                    & (restaurants[\"BORO\"] == \"Brooklyn\") )\n",
        "\n",
        "has_mice_brooklyn = restaurants[mice_Brooklyn]\n",
        "has_mice_brooklyn.head()"
      ]
    },
    {
      "cell_type": "code",
      "execution_count": 27,
      "metadata": {
        "colab": {
          "base_uri": "https://localhost:8080/",
          "height": 677
        },
        "id": "d2Q3qHG7lnQA",
        "outputId": "62e4044a-2667-4c1f-e579-594346985553"
      },
      "outputs": [
        {
          "data": {
            "text/html": [
              "<div>\n",
              "<style scoped>\n",
              "    .dataframe tbody tr th:only-of-type {\n",
              "        vertical-align: middle;\n",
              "    }\n",
              "\n",
              "    .dataframe tbody tr th {\n",
              "        vertical-align: top;\n",
              "    }\n",
              "\n",
              "    .dataframe thead th {\n",
              "        text-align: right;\n",
              "    }\n",
              "</style>\n",
              "<table border=\"1\" class=\"dataframe\">\n",
              "  <thead>\n",
              "    <tr style=\"text-align: right;\">\n",
              "      <th></th>\n",
              "      <th>DBA count</th>\n",
              "    </tr>\n",
              "  </thead>\n",
              "  <tbody>\n",
              "    <tr>\n",
              "      <th>CROWN FRIED CHICKEN</th>\n",
              "      <td>31</td>\n",
              "    </tr>\n",
              "    <tr>\n",
              "      <th>BURGER KING</th>\n",
              "      <td>16</td>\n",
              "    </tr>\n",
              "    <tr>\n",
              "      <th>GOLDEN KRUST CARIBBEAN BAKERY &amp; GRILL</th>\n",
              "      <td>16</td>\n",
              "    </tr>\n",
              "    <tr>\n",
              "      <th>DUNKIN</th>\n",
              "      <td>16</td>\n",
              "    </tr>\n",
              "    <tr>\n",
              "      <th>KENNEDY FRIED CHICKEN</th>\n",
              "      <td>15</td>\n",
              "    </tr>\n",
              "    <tr>\n",
              "      <th>PAPA JOHN'S</th>\n",
              "      <td>14</td>\n",
              "    </tr>\n",
              "    <tr>\n",
              "      <th>SUBWAY</th>\n",
              "      <td>9</td>\n",
              "    </tr>\n",
              "    <tr>\n",
              "      <th>HOP LEE KITCHEN</th>\n",
              "      <td>8</td>\n",
              "    </tr>\n",
              "    <tr>\n",
              "      <th>LUZZO'S BK</th>\n",
              "      <td>7</td>\n",
              "    </tr>\n",
              "    <tr>\n",
              "      <th>TASTE OF CHINA</th>\n",
              "      <td>7</td>\n",
              "    </tr>\n",
              "    <tr>\n",
              "      <th>BUKA</th>\n",
              "      <td>7</td>\n",
              "    </tr>\n",
              "    <tr>\n",
              "      <th>N.Y. TRACKS CAFE</th>\n",
              "      <td>6</td>\n",
              "    </tr>\n",
              "    <tr>\n",
              "      <th>MIKE'S COFFEE SHOP</th>\n",
              "      <td>6</td>\n",
              "    </tr>\n",
              "    <tr>\n",
              "      <th>BAOBURG</th>\n",
              "      <td>6</td>\n",
              "    </tr>\n",
              "    <tr>\n",
              "      <th>WRAY'S CARIBBEAN AND SEAFOOD CUISINE</th>\n",
              "      <td>6</td>\n",
              "    </tr>\n",
              "    <tr>\n",
              "      <th>LOOKING GLASS</th>\n",
              "      <td>6</td>\n",
              "    </tr>\n",
              "    <tr>\n",
              "      <th>TORTILLAS KING</th>\n",
              "      <td>6</td>\n",
              "    </tr>\n",
              "    <tr>\n",
              "      <th>DOMINOS</th>\n",
              "      <td>6</td>\n",
              "    </tr>\n",
              "    <tr>\n",
              "      <th>LA BAGEL DELIGHT</th>\n",
              "      <td>6</td>\n",
              "    </tr>\n",
              "    <tr>\n",
              "      <th>STARBUCKS</th>\n",
              "      <td>6</td>\n",
              "    </tr>\n",
              "  </tbody>\n",
              "</table>\n",
              "</div>"
            ],
            "text/plain": [
              "                                       DBA count\n",
              "CROWN FRIED CHICKEN                           31\n",
              "BURGER KING                                   16\n",
              "GOLDEN KRUST CARIBBEAN BAKERY & GRILL         16\n",
              "DUNKIN                                        16\n",
              "KENNEDY FRIED CHICKEN                         15\n",
              "PAPA JOHN'S                                   14\n",
              "SUBWAY                                         9\n",
              "HOP LEE KITCHEN                                8\n",
              "LUZZO'S BK                                     7\n",
              "TASTE OF CHINA                                 7\n",
              "BUKA                                           7\n",
              "N.Y. TRACKS CAFE                               6\n",
              "MIKE'S COFFEE SHOP                             6\n",
              "BAOBURG                                        6\n",
              "WRAY'S CARIBBEAN AND SEAFOOD CUISINE           6\n",
              "LOOKING GLASS                                  6\n",
              "TORTILLAS KING                                 6\n",
              "DOMINOS                                        6\n",
              "LA BAGEL DELIGHT                               6\n",
              "STARBUCKS                                      6"
            ]
          },
          "execution_count": 27,
          "metadata": {},
          "output_type": "execute_result"
        }
      ],
      "source": [
        "has_mice_brooklyn[\"DBA\"].value_counts()[:20].to_frame().rename(columns={\"DBA\": \"DBA count\"})"
      ]
    },
    {
      "cell_type": "markdown",
      "metadata": {
        "id": "yM7_hpenLHWg"
      },
      "source": [
        "## <a class=\"anchor\"></a> 1.3 Exercice\n"
      ]
    },
    {
      "cell_type": "code",
      "execution_count": 28,
      "metadata": {
        "id": "1sQADEghLNzo"
      },
      "outputs": [],
      "source": [
        "# Use the .head() function on the \"VIOLATION CODE\" column restaurants\n",
        "# [\"Your code here\"]."
      ]
    },
    {
      "cell_type": "code",
      "execution_count": 29,
      "metadata": {
        "id": "kjcEY_sdLhW4"
      },
      "outputs": [],
      "source": [
        "# Use the .value_counts() function to count the number of occurences by violation code\n",
        "# violation_counts = \"Your code here\"."
      ]
    },
    {
      "cell_type": "code",
      "execution_count": 30,
      "metadata": {
        "id": "fu0RShUeMFkw"
      },
      "outputs": [],
      "source": [
        "# Have a look at the first 10 values\n",
        "# [\"Your code here\"]"
      ]
    },
    {
      "cell_type": "code",
      "execution_count": 31,
      "metadata": {
        "id": "oTiRc5xfMunS"
      },
      "outputs": [],
      "source": [
        "# Plot the 20 violation codes ocurring the most\n",
        "# HINT : use the function .plot(kind = 'bar')\n",
        "# [\"Your code here\"]"
      ]
    },
    {
      "cell_type": "markdown",
      "metadata": {
        "id": "QKp-KN8go5VM"
      },
      "source": [
        "## <a class=\"anchor\"></a> 1.4 Missing data\n",
        "\n",
        "Let's have a look at our missing data. We will write a function which counts the number of missing values per column, and then calculates the percentage of the total values that the missing values represent.\n"
      ]
    },
    {
      "cell_type": "code",
      "execution_count": 32,
      "metadata": {
        "colab": {
          "base_uri": "https://localhost:8080/",
          "height": 865
        },
        "id": "53zMxx0kpcVq",
        "outputId": "29b2cc49-18b7-44ee-9e2a-8fde73f4cfab"
      },
      "outputs": [
        {
          "data": {
            "text/html": [
              "<div>\n",
              "<style scoped>\n",
              "    .dataframe tbody tr th:only-of-type {\n",
              "        vertical-align: middle;\n",
              "    }\n",
              "\n",
              "    .dataframe tbody tr th {\n",
              "        vertical-align: top;\n",
              "    }\n",
              "\n",
              "    .dataframe thead th {\n",
              "        text-align: right;\n",
              "    }\n",
              "</style>\n",
              "<table border=\"1\" class=\"dataframe\">\n",
              "  <thead>\n",
              "    <tr style=\"text-align: right;\">\n",
              "      <th></th>\n",
              "      <th>Total</th>\n",
              "      <th>Percent</th>\n",
              "    </tr>\n",
              "  </thead>\n",
              "  <tbody>\n",
              "    <tr>\n",
              "      <th>Location Point</th>\n",
              "      <td>208855</td>\n",
              "      <td>1.000000</td>\n",
              "    </tr>\n",
              "    <tr>\n",
              "      <th>GRADE</th>\n",
              "      <td>119650</td>\n",
              "      <td>0.572885</td>\n",
              "    </tr>\n",
              "    <tr>\n",
              "      <th>GRADE DATE</th>\n",
              "      <td>112256</td>\n",
              "      <td>0.537483</td>\n",
              "    </tr>\n",
              "    <tr>\n",
              "      <th>SCORE</th>\n",
              "      <td>10990</td>\n",
              "      <td>0.052620</td>\n",
              "    </tr>\n",
              "    <tr>\n",
              "      <th>VIOLATION CODE</th>\n",
              "      <td>5715</td>\n",
              "      <td>0.027363</td>\n",
              "    </tr>\n",
              "    <tr>\n",
              "      <th>VIOLATION DESCRIPTION</th>\n",
              "      <td>5715</td>\n",
              "      <td>0.027363</td>\n",
              "    </tr>\n",
              "    <tr>\n",
              "      <th>BIN</th>\n",
              "      <td>4539</td>\n",
              "      <td>0.021733</td>\n",
              "    </tr>\n",
              "    <tr>\n",
              "      <th>CUISINE DESCRIPTION</th>\n",
              "      <td>4449</td>\n",
              "      <td>0.021302</td>\n",
              "    </tr>\n",
              "    <tr>\n",
              "      <th>ACTION</th>\n",
              "      <td>4449</td>\n",
              "      <td>0.021302</td>\n",
              "    </tr>\n",
              "    <tr>\n",
              "      <th>INSPECTION TYPE</th>\n",
              "      <td>4449</td>\n",
              "      <td>0.021302</td>\n",
              "    </tr>\n",
              "    <tr>\n",
              "      <th>Council District</th>\n",
              "      <td>3443</td>\n",
              "      <td>0.016485</td>\n",
              "    </tr>\n",
              "    <tr>\n",
              "      <th>Community Board</th>\n",
              "      <td>3443</td>\n",
              "      <td>0.016485</td>\n",
              "    </tr>\n",
              "    <tr>\n",
              "      <th>NTA</th>\n",
              "      <td>3443</td>\n",
              "      <td>0.016485</td>\n",
              "    </tr>\n",
              "    <tr>\n",
              "      <th>Census Tract</th>\n",
              "      <td>3443</td>\n",
              "      <td>0.016485</td>\n",
              "    </tr>\n",
              "    <tr>\n",
              "      <th>ZIPCODE</th>\n",
              "      <td>2905</td>\n",
              "      <td>0.013909</td>\n",
              "    </tr>\n",
              "    <tr>\n",
              "      <th>DBA</th>\n",
              "      <td>1787</td>\n",
              "      <td>0.008556</td>\n",
              "    </tr>\n",
              "    <tr>\n",
              "      <th>BBL</th>\n",
              "      <td>563</td>\n",
              "      <td>0.002696</td>\n",
              "    </tr>\n",
              "    <tr>\n",
              "      <th>BUILDING</th>\n",
              "      <td>328</td>\n",
              "      <td>0.001570</td>\n",
              "    </tr>\n",
              "    <tr>\n",
              "      <th>Latitude</th>\n",
              "      <td>298</td>\n",
              "      <td>0.001427</td>\n",
              "    </tr>\n",
              "    <tr>\n",
              "      <th>Longitude</th>\n",
              "      <td>298</td>\n",
              "      <td>0.001427</td>\n",
              "    </tr>\n",
              "    <tr>\n",
              "      <th>STREET</th>\n",
              "      <td>25</td>\n",
              "      <td>0.000120</td>\n",
              "    </tr>\n",
              "    <tr>\n",
              "      <th>PHONE</th>\n",
              "      <td>14</td>\n",
              "      <td>0.000067</td>\n",
              "    </tr>\n",
              "    <tr>\n",
              "      <th>BORO</th>\n",
              "      <td>0</td>\n",
              "      <td>0.000000</td>\n",
              "    </tr>\n",
              "    <tr>\n",
              "      <th>RECORD DATE</th>\n",
              "      <td>0</td>\n",
              "      <td>0.000000</td>\n",
              "    </tr>\n",
              "    <tr>\n",
              "      <th>CRITICAL FLAG</th>\n",
              "      <td>0</td>\n",
              "      <td>0.000000</td>\n",
              "    </tr>\n",
              "    <tr>\n",
              "      <th>INSPECTION DATE</th>\n",
              "      <td>0</td>\n",
              "      <td>0.000000</td>\n",
              "    </tr>\n",
              "    <tr>\n",
              "      <th>CAMIS</th>\n",
              "      <td>0</td>\n",
              "      <td>0.000000</td>\n",
              "    </tr>\n",
              "  </tbody>\n",
              "</table>\n",
              "</div>"
            ],
            "text/plain": [
              "                        Total   Percent\n",
              "Location Point         208855  1.000000\n",
              "GRADE                  119650  0.572885\n",
              "GRADE DATE             112256  0.537483\n",
              "SCORE                   10990  0.052620\n",
              "VIOLATION CODE           5715  0.027363\n",
              "VIOLATION DESCRIPTION    5715  0.027363\n",
              "BIN                      4539  0.021733\n",
              "CUISINE DESCRIPTION      4449  0.021302\n",
              "ACTION                   4449  0.021302\n",
              "INSPECTION TYPE          4449  0.021302\n",
              "Council District         3443  0.016485\n",
              "Community Board          3443  0.016485\n",
              "NTA                      3443  0.016485\n",
              "Census Tract             3443  0.016485\n",
              "ZIPCODE                  2905  0.013909\n",
              "DBA                      1787  0.008556\n",
              "BBL                       563  0.002696\n",
              "BUILDING                  328  0.001570\n",
              "Latitude                  298  0.001427\n",
              "Longitude                 298  0.001427\n",
              "STREET                     25  0.000120\n",
              "PHONE                      14  0.000067\n",
              "BORO                        0  0.000000\n",
              "RECORD DATE                 0  0.000000\n",
              "CRITICAL FLAG               0  0.000000\n",
              "INSPECTION DATE             0  0.000000\n",
              "CAMIS                       0  0.000000"
            ]
          },
          "metadata": {},
          "output_type": "display_data"
        }
      ],
      "source": [
        "#We store this code as a function in order to use it again later on\n",
        "def missing_values_calculation():\n",
        "\n",
        "  #We store the number of missing values for every column\n",
        "  total = restaurants.isnull().sum().sort_values(ascending=False)\n",
        "\n",
        "  #We make a new column contaning the percentage of missing values \n",
        "  #out of the total number of values\n",
        "  percent = (restaurants.isnull().sum()/restaurants.isnull().count()).sort_values(ascending=False)\n",
        "\n",
        "  #We now make a DF containing these 2 values\n",
        "  missing = pd.concat([total, percent], axis=1, keys=['Total', 'Percent'])\n",
        "\n",
        "  #And we print the DataFrame\n",
        "  display(missing)\n",
        "\n",
        "#We call the function\n",
        "missing_values_calculation()"
      ]
    },
    {
      "cell_type": "markdown",
      "metadata": {
        "id": "Kw2-7px1q6NX"
      },
      "source": [
        "### <a class=\"anchor\"></a> 1.4.1 Dropping columns\n",
        "\n",
        "\n",
        "The GRADE and GRADE DATE columns containt a lot of missing values (more than half the data is missing). \n",
        "We may want to drop these 2 columns as the missing data is too much. We can use the `.drop()` function for this, but we need to pass an additional argument to tell Pandas we want to drop a column and not a row. This argument is: `axis = 1`. \n",
        "\n",
        "Try with and without the argument `inplace=True` and check whether the chage was implemented in the restaurants dataframe or only on a copy."
      ]
    },
    {
      "cell_type": "code",
      "execution_count": 33,
      "metadata": {
        "id": "xWIeVESkq9uf"
      },
      "outputs": [
        {
          "data": {
            "text/html": [
              "<div>\n",
              "<style scoped>\n",
              "    .dataframe tbody tr th:only-of-type {\n",
              "        vertical-align: middle;\n",
              "    }\n",
              "\n",
              "    .dataframe tbody tr th {\n",
              "        vertical-align: top;\n",
              "    }\n",
              "\n",
              "    .dataframe thead th {\n",
              "        text-align: right;\n",
              "    }\n",
              "</style>\n",
              "<table border=\"1\" class=\"dataframe\">\n",
              "  <thead>\n",
              "    <tr style=\"text-align: right;\">\n",
              "      <th></th>\n",
              "      <th>CAMIS</th>\n",
              "      <th>DBA</th>\n",
              "      <th>BORO</th>\n",
              "      <th>BUILDING</th>\n",
              "      <th>STREET</th>\n",
              "      <th>ZIPCODE</th>\n",
              "      <th>PHONE</th>\n",
              "      <th>CUISINE DESCRIPTION</th>\n",
              "      <th>INSPECTION DATE</th>\n",
              "      <th>ACTION</th>\n",
              "      <th>...</th>\n",
              "      <th>INSPECTION TYPE</th>\n",
              "      <th>Latitude</th>\n",
              "      <th>Longitude</th>\n",
              "      <th>Community Board</th>\n",
              "      <th>Council District</th>\n",
              "      <th>Census Tract</th>\n",
              "      <th>BIN</th>\n",
              "      <th>BBL</th>\n",
              "      <th>NTA</th>\n",
              "      <th>Location Point</th>\n",
              "    </tr>\n",
              "  </thead>\n",
              "  <tbody>\n",
              "    <tr>\n",
              "      <th>0</th>\n",
              "      <td>50120012</td>\n",
              "      <td>NaN</td>\n",
              "      <td>Queens</td>\n",
              "      <td>40-05</td>\n",
              "      <td>SKILLMAN AVENUE</td>\n",
              "      <td>11104.0</td>\n",
              "      <td>3478439587</td>\n",
              "      <td>NaN</td>\n",
              "      <td>1900-01-01</td>\n",
              "      <td>NaN</td>\n",
              "      <td>...</td>\n",
              "      <td>NaN</td>\n",
              "      <td>40.747196</td>\n",
              "      <td>-73.923417</td>\n",
              "      <td>402.0</td>\n",
              "      <td>26.0</td>\n",
              "      <td>17100.0</td>\n",
              "      <td>4002375.0</td>\n",
              "      <td>4.001830e+09</td>\n",
              "      <td>QN31</td>\n",
              "      <td>NaN</td>\n",
              "    </tr>\n",
              "    <tr>\n",
              "      <th>1</th>\n",
              "      <td>50123212</td>\n",
              "      <td>POMO</td>\n",
              "      <td>Brooklyn</td>\n",
              "      <td>2122</td>\n",
              "      <td>BEEKMAN PLACE</td>\n",
              "      <td>11225.0</td>\n",
              "      <td>9177573253</td>\n",
              "      <td>NaN</td>\n",
              "      <td>1900-01-01</td>\n",
              "      <td>NaN</td>\n",
              "      <td>...</td>\n",
              "      <td>NaN</td>\n",
              "      <td>40.660002</td>\n",
              "      <td>-73.960825</td>\n",
              "      <td>309.0</td>\n",
              "      <td>40.0</td>\n",
              "      <td>79802.0</td>\n",
              "      <td>3114599.0</td>\n",
              "      <td>3.050260e+09</td>\n",
              "      <td>BK60</td>\n",
              "      <td>NaN</td>\n",
              "    </tr>\n",
              "    <tr>\n",
              "      <th>2</th>\n",
              "      <td>50105922</td>\n",
              "      <td>ROYAL PALACE TBILISI</td>\n",
              "      <td>Brooklyn</td>\n",
              "      <td>811</td>\n",
              "      <td>KINGS HIGHWAY</td>\n",
              "      <td>11223.0</td>\n",
              "      <td>3473746863</td>\n",
              "      <td>NaN</td>\n",
              "      <td>1900-01-01</td>\n",
              "      <td>NaN</td>\n",
              "      <td>...</td>\n",
              "      <td>NaN</td>\n",
              "      <td>40.606541</td>\n",
              "      <td>-73.964422</td>\n",
              "      <td>315.0</td>\n",
              "      <td>44.0</td>\n",
              "      <td>41800.0</td>\n",
              "      <td>3177550.0</td>\n",
              "      <td>3.066650e+09</td>\n",
              "      <td>BK25</td>\n",
              "      <td>NaN</td>\n",
              "    </tr>\n",
              "    <tr>\n",
              "      <th>3</th>\n",
              "      <td>50116603</td>\n",
              "      <td>UNCLE LOU</td>\n",
              "      <td>Manhattan</td>\n",
              "      <td>73</td>\n",
              "      <td>MULBERRY STREET</td>\n",
              "      <td>10013.0</td>\n",
              "      <td>2129665538</td>\n",
              "      <td>NaN</td>\n",
              "      <td>1900-01-01</td>\n",
              "      <td>NaN</td>\n",
              "      <td>...</td>\n",
              "      <td>NaN</td>\n",
              "      <td>40.716211</td>\n",
              "      <td>-73.999149</td>\n",
              "      <td>103.0</td>\n",
              "      <td>1.0</td>\n",
              "      <td>2900.0</td>\n",
              "      <td>1002379.0</td>\n",
              "      <td>1.001990e+09</td>\n",
              "      <td>MN27</td>\n",
              "      <td>NaN</td>\n",
              "    </tr>\n",
              "    <tr>\n",
              "      <th>4</th>\n",
              "      <td>50131493</td>\n",
              "      <td>PIZZA  R  US</td>\n",
              "      <td>Staten Island</td>\n",
              "      <td>124</td>\n",
              "      <td>OCEAN AVENUE</td>\n",
              "      <td>10305.0</td>\n",
              "      <td>7186195643</td>\n",
              "      <td>NaN</td>\n",
              "      <td>1900-01-01</td>\n",
              "      <td>NaN</td>\n",
              "      <td>...</td>\n",
              "      <td>NaN</td>\n",
              "      <td>40.595484</td>\n",
              "      <td>-74.063043</td>\n",
              "      <td>502.0</td>\n",
              "      <td>50.0</td>\n",
              "      <td>7400.0</td>\n",
              "      <td>5046081.0</td>\n",
              "      <td>5.031240e+09</td>\n",
              "      <td>SI14</td>\n",
              "      <td>NaN</td>\n",
              "    </tr>\n",
              "  </tbody>\n",
              "</table>\n",
              "<p>5 rows × 25 columns</p>\n",
              "</div>"
            ],
            "text/plain": [
              "      CAMIS                   DBA           BORO BUILDING           STREET  \\\n",
              "0  50120012                   NaN         Queens    40-05  SKILLMAN AVENUE   \n",
              "1  50123212                  POMO       Brooklyn     2122    BEEKMAN PLACE   \n",
              "2  50105922  ROYAL PALACE TBILISI       Brooklyn      811    KINGS HIGHWAY   \n",
              "3  50116603             UNCLE LOU      Manhattan       73  MULBERRY STREET   \n",
              "4  50131493          PIZZA  R  US  Staten Island      124     OCEAN AVENUE   \n",
              "\n",
              "   ZIPCODE       PHONE CUISINE DESCRIPTION INSPECTION DATE ACTION  ...  \\\n",
              "0  11104.0  3478439587                 NaN      1900-01-01    NaN  ...   \n",
              "1  11225.0  9177573253                 NaN      1900-01-01    NaN  ...   \n",
              "2  11223.0  3473746863                 NaN      1900-01-01    NaN  ...   \n",
              "3  10013.0  2129665538                 NaN      1900-01-01    NaN  ...   \n",
              "4  10305.0  7186195643                 NaN      1900-01-01    NaN  ...   \n",
              "\n",
              "  INSPECTION TYPE   Latitude  Longitude  Community Board Council District  \\\n",
              "0             NaN  40.747196 -73.923417            402.0             26.0   \n",
              "1             NaN  40.660002 -73.960825            309.0             40.0   \n",
              "2             NaN  40.606541 -73.964422            315.0             44.0   \n",
              "3             NaN  40.716211 -73.999149            103.0              1.0   \n",
              "4             NaN  40.595484 -74.063043            502.0             50.0   \n",
              "\n",
              "  Census Tract        BIN           BBL   NTA  Location Point  \n",
              "0      17100.0  4002375.0  4.001830e+09  QN31             NaN  \n",
              "1      79802.0  3114599.0  3.050260e+09  BK60             NaN  \n",
              "2      41800.0  3177550.0  3.066650e+09  BK25             NaN  \n",
              "3       2900.0  1002379.0  1.001990e+09  MN27             NaN  \n",
              "4       7400.0  5046081.0  5.031240e+09  SI14             NaN  \n",
              "\n",
              "[5 rows x 25 columns]"
            ]
          },
          "execution_count": 33,
          "metadata": {},
          "output_type": "execute_result"
        }
      ],
      "source": [
        "restaurants.drop([\"GRADE\", 'GRADE DATE'], axis = 1, inplace=True)\n",
        "restaurants.head()"
      ]
    },
    {
      "cell_type": "markdown",
      "metadata": {
        "id": "vRdaJpZDsK0Z"
      },
      "source": [
        "As you can see, the \"GRADE\" and \"GRADE DATE\" columns are not a part of our DataFrame anymore."
      ]
    },
    {
      "cell_type": "markdown",
      "metadata": {
        "id": "BIW5XpoyV-Qq"
      },
      "source": [
        "### <a class=\"anchor\"></a> 1.4.2 Fillna() and dropna()\n"
      ]
    },
    {
      "cell_type": "markdown",
      "metadata": {
        "id": "4E-WijGJsZ_i"
      },
      "source": [
        "For the remaining columns we may want to do three different things:\n",
        " * Replace the missing entries with a specific value\n",
        " * Either estimate a possible value using the median for example\n",
        " * Drop the row altogether.\n",
        "\n",
        " Remember that we can drop rows with `dropna()`. Another useful function is `fillna()`, this function allows us to replace missing values with a value we may want."
      ]
    },
    {
      "cell_type": "code",
      "execution_count": 34,
      "metadata": {
        "colab": {
          "base_uri": "https://localhost:8080/",
          "height": 802
        },
        "id": "H8G9lzVEvvm5",
        "outputId": "8c8b404b-854b-4fb1-da24-aea0973fe87d"
      },
      "outputs": [
        {
          "data": {
            "text/html": [
              "<div>\n",
              "<style scoped>\n",
              "    .dataframe tbody tr th:only-of-type {\n",
              "        vertical-align: middle;\n",
              "    }\n",
              "\n",
              "    .dataframe tbody tr th {\n",
              "        vertical-align: top;\n",
              "    }\n",
              "\n",
              "    .dataframe thead th {\n",
              "        text-align: right;\n",
              "    }\n",
              "</style>\n",
              "<table border=\"1\" class=\"dataframe\">\n",
              "  <thead>\n",
              "    <tr style=\"text-align: right;\">\n",
              "      <th></th>\n",
              "      <th>Total</th>\n",
              "      <th>Percent</th>\n",
              "    </tr>\n",
              "  </thead>\n",
              "  <tbody>\n",
              "    <tr>\n",
              "      <th>Location Point</th>\n",
              "      <td>203140</td>\n",
              "      <td>1.000000</td>\n",
              "    </tr>\n",
              "    <tr>\n",
              "      <th>BIN</th>\n",
              "      <td>4232</td>\n",
              "      <td>0.020833</td>\n",
              "    </tr>\n",
              "    <tr>\n",
              "      <th>NTA</th>\n",
              "      <td>3216</td>\n",
              "      <td>0.015831</td>\n",
              "    </tr>\n",
              "    <tr>\n",
              "      <th>Census Tract</th>\n",
              "      <td>3216</td>\n",
              "      <td>0.015831</td>\n",
              "    </tr>\n",
              "    <tr>\n",
              "      <th>Council District</th>\n",
              "      <td>3216</td>\n",
              "      <td>0.015831</td>\n",
              "    </tr>\n",
              "    <tr>\n",
              "      <th>ZIPCODE</th>\n",
              "      <td>2740</td>\n",
              "      <td>0.013488</td>\n",
              "    </tr>\n",
              "    <tr>\n",
              "      <th>BBL</th>\n",
              "      <td>476</td>\n",
              "      <td>0.002343</td>\n",
              "    </tr>\n",
              "    <tr>\n",
              "      <th>BUILDING</th>\n",
              "      <td>280</td>\n",
              "      <td>0.001378</td>\n",
              "    </tr>\n",
              "    <tr>\n",
              "      <th>Longitude</th>\n",
              "      <td>224</td>\n",
              "      <td>0.001103</td>\n",
              "    </tr>\n",
              "    <tr>\n",
              "      <th>Latitude</th>\n",
              "      <td>224</td>\n",
              "      <td>0.001103</td>\n",
              "    </tr>\n",
              "    <tr>\n",
              "      <th>PHONE</th>\n",
              "      <td>9</td>\n",
              "      <td>0.000044</td>\n",
              "    </tr>\n",
              "    <tr>\n",
              "      <th>RECORD DATE</th>\n",
              "      <td>0</td>\n",
              "      <td>0.000000</td>\n",
              "    </tr>\n",
              "    <tr>\n",
              "      <th>Community Board</th>\n",
              "      <td>0</td>\n",
              "      <td>0.000000</td>\n",
              "    </tr>\n",
              "    <tr>\n",
              "      <th>INSPECTION TYPE</th>\n",
              "      <td>0</td>\n",
              "      <td>0.000000</td>\n",
              "    </tr>\n",
              "    <tr>\n",
              "      <th>CAMIS</th>\n",
              "      <td>0</td>\n",
              "      <td>0.000000</td>\n",
              "    </tr>\n",
              "    <tr>\n",
              "      <th>SCORE</th>\n",
              "      <td>0</td>\n",
              "      <td>0.000000</td>\n",
              "    </tr>\n",
              "    <tr>\n",
              "      <th>DBA</th>\n",
              "      <td>0</td>\n",
              "      <td>0.000000</td>\n",
              "    </tr>\n",
              "    <tr>\n",
              "      <th>VIOLATION DESCRIPTION</th>\n",
              "      <td>0</td>\n",
              "      <td>0.000000</td>\n",
              "    </tr>\n",
              "    <tr>\n",
              "      <th>VIOLATION CODE</th>\n",
              "      <td>0</td>\n",
              "      <td>0.000000</td>\n",
              "    </tr>\n",
              "    <tr>\n",
              "      <th>ACTION</th>\n",
              "      <td>0</td>\n",
              "      <td>0.000000</td>\n",
              "    </tr>\n",
              "    <tr>\n",
              "      <th>INSPECTION DATE</th>\n",
              "      <td>0</td>\n",
              "      <td>0.000000</td>\n",
              "    </tr>\n",
              "    <tr>\n",
              "      <th>CUISINE DESCRIPTION</th>\n",
              "      <td>0</td>\n",
              "      <td>0.000000</td>\n",
              "    </tr>\n",
              "    <tr>\n",
              "      <th>STREET</th>\n",
              "      <td>0</td>\n",
              "      <td>0.000000</td>\n",
              "    </tr>\n",
              "    <tr>\n",
              "      <th>BORO</th>\n",
              "      <td>0</td>\n",
              "      <td>0.000000</td>\n",
              "    </tr>\n",
              "    <tr>\n",
              "      <th>CRITICAL FLAG</th>\n",
              "      <td>0</td>\n",
              "      <td>0.000000</td>\n",
              "    </tr>\n",
              "  </tbody>\n",
              "</table>\n",
              "</div>"
            ],
            "text/plain": [
              "                        Total   Percent\n",
              "Location Point         203140  1.000000\n",
              "BIN                      4232  0.020833\n",
              "NTA                      3216  0.015831\n",
              "Census Tract             3216  0.015831\n",
              "Council District         3216  0.015831\n",
              "ZIPCODE                  2740  0.013488\n",
              "BBL                       476  0.002343\n",
              "BUILDING                  280  0.001378\n",
              "Longitude                 224  0.001103\n",
              "Latitude                  224  0.001103\n",
              "PHONE                       9  0.000044\n",
              "RECORD DATE                 0  0.000000\n",
              "Community Board             0  0.000000\n",
              "INSPECTION TYPE             0  0.000000\n",
              "CAMIS                       0  0.000000\n",
              "SCORE                       0  0.000000\n",
              "DBA                         0  0.000000\n",
              "VIOLATION DESCRIPTION       0  0.000000\n",
              "VIOLATION CODE              0  0.000000\n",
              "ACTION                      0  0.000000\n",
              "INSPECTION DATE             0  0.000000\n",
              "CUISINE DESCRIPTION         0  0.000000\n",
              "STREET                      0  0.000000\n",
              "BORO                        0  0.000000\n",
              "CRITICAL FLAG               0  0.000000"
            ]
          },
          "metadata": {},
          "output_type": "display_data"
        }
      ],
      "source": [
        "# Replacing missing values with a given value\n",
        "#In this case we are going to assume that if the value is missing then there was no critical flag\n",
        "restaurants['Community Board'].fillna(\"N\", inplace = True)\n",
        "\n",
        "# Replacing missing values with an estimation (median)\n",
        "median = restaurants['SCORE'].median()\n",
        "restaurants['SCORE'].fillna(median, inplace=True)\n",
        "\n",
        "#Dropping the row, you should already know this one\n",
        "restaurants.dropna(subset=['VIOLATION DESCRIPTION'], inplace=True)\n",
        "\n",
        "#Let's see how many \n",
        "missing_values_calculation()"
      ]
    },
    {
      "cell_type": "markdown",
      "metadata": {
        "id": "CkYusmSUNHAH"
      },
      "source": [
        "# <a class=\"anchor\"></a> 2 Boxplots and correlations\n",
        "\n",
        "We will now change datasets. This dataset containts the compensation of the CEO's of different companies.\n"
      ]
    },
    {
      "cell_type": "code",
      "execution_count": 35,
      "metadata": {
        "colab": {
          "base_uri": "https://localhost:8080/",
          "height": 410
        },
        "id": "tfGDiGWTNRpH",
        "outputId": "6768899c-cfcf-488b-ca94-0ece2ccdcea8"
      },
      "outputs": [
        {
          "data": {
            "text/html": [
              "<div>\n",
              "<style scoped>\n",
              "    .dataframe tbody tr th:only-of-type {\n",
              "        vertical-align: middle;\n",
              "    }\n",
              "\n",
              "    .dataframe tbody tr th {\n",
              "        vertical-align: top;\n",
              "    }\n",
              "\n",
              "    .dataframe thead th {\n",
              "        text-align: right;\n",
              "    }\n",
              "</style>\n",
              "<table border=\"1\" class=\"dataframe\">\n",
              "  <thead>\n",
              "    <tr style=\"text-align: right;\">\n",
              "      <th></th>\n",
              "      <th>Total Comp</th>\n",
              "      <th>Top 20</th>\n",
              "      <th>Wide Industry</th>\n",
              "      <th>Company</th>\n",
              "      <th>CEO</th>\n",
              "      <th>City of Birth</th>\n",
              "      <th>State of Birth</th>\n",
              "      <th>Age</th>\n",
              "      <th>Undergrad</th>\n",
              "      <th>UG Degree</th>\n",
              "      <th>...</th>\n",
              "      <th>Bonus</th>\n",
              "      <th>other</th>\n",
              "      <th>St_gains</th>\n",
              "      <th>Comp for 5 yrs</th>\n",
              "      <th>Stock owned</th>\n",
              "      <th>Sales</th>\n",
              "      <th>Profits</th>\n",
              "      <th>Return over 5 yrs</th>\n",
              "      <th>Industry</th>\n",
              "      <th>Industry Code</th>\n",
              "    </tr>\n",
              "  </thead>\n",
              "  <tbody>\n",
              "    <tr>\n",
              "      <th>0</th>\n",
              "      <td>203020000.0</td>\n",
              "      <td>True</td>\n",
              "      <td>Travel</td>\n",
              "      <td>Walt Disney</td>\n",
              "      <td>Mr. Michael D Eisner</td>\n",
              "      <td>New York</td>\n",
              "      <td>NY</td>\n",
              "      <td>52</td>\n",
              "      <td>Denison U</td>\n",
              "      <td>BA</td>\n",
              "      <td>...</td>\n",
              "      <td>NaN</td>\n",
              "      <td>9667.0</td>\n",
              "      <td>202261000.0</td>\n",
              "      <td>236771000.0</td>\n",
              "      <td>0.561</td>\n",
              "      <td>8865</td>\n",
              "      <td>779.5</td>\n",
              "      <td>17.0</td>\n",
              "      <td>Travel-hotelsrecreation</td>\n",
              "      <td>8</td>\n",
              "    </tr>\n",
              "    <tr>\n",
              "      <th>1</th>\n",
              "      <td>53110900.0</td>\n",
              "      <td>True</td>\n",
              "      <td>Financial</td>\n",
              "      <td>Travelers</td>\n",
              "      <td>Mr. Sanford I Weill</td>\n",
              "      <td>New York</td>\n",
              "      <td>NY</td>\n",
              "      <td>61</td>\n",
              "      <td>Cornell</td>\n",
              "      <td>BA</td>\n",
              "      <td>...</td>\n",
              "      <td>3030310.0</td>\n",
              "      <td>2161890.0</td>\n",
              "      <td>46900000.0</td>\n",
              "      <td>141605000.0</td>\n",
              "      <td>1.168</td>\n",
              "      <td>6797</td>\n",
              "      <td>950.0</td>\n",
              "      <td>28.0</td>\n",
              "      <td>Financial services-leasefinance</td>\n",
              "      <td>1</td>\n",
              "    </tr>\n",
              "    <tr>\n",
              "      <th>2</th>\n",
              "      <td>38675400.0</td>\n",
              "      <td>True</td>\n",
              "      <td>Insurance</td>\n",
              "      <td>Conseco</td>\n",
              "      <td>Mr. Stephen C Hilbert</td>\n",
              "      <td>Terre Haute</td>\n",
              "      <td>IN</td>\n",
              "      <td>48</td>\n",
              "      <td>NaN</td>\n",
              "      <td>NaN</td>\n",
              "      <td>...</td>\n",
              "      <td>8287670.0</td>\n",
              "      <td>190570.0</td>\n",
              "      <td>29947100.0</td>\n",
              "      <td>51156100.0</td>\n",
              "      <td>2.842</td>\n",
              "      <td>2637</td>\n",
              "      <td>308.9</td>\n",
              "      <td>76.0</td>\n",
              "      <td>Insurance-lifehealth</td>\n",
              "      <td>4</td>\n",
              "    </tr>\n",
              "  </tbody>\n",
              "</table>\n",
              "<p>3 rows × 31 columns</p>\n",
              "</div>"
            ],
            "text/plain": [
              "    Total Comp  Top 20 Wide Industry      Company                    CEO  \\\n",
              "0  203020000.0    True        Travel  Walt Disney   Mr. Michael D Eisner   \n",
              "1   53110900.0    True     Financial    Travelers    Mr. Sanford I Weill   \n",
              "2   38675400.0    True     Insurance      Conseco  Mr. Stephen C Hilbert   \n",
              "\n",
              "  City of Birth State of Birth  Age  Undergrad UG Degree  ...      Bonus  \\\n",
              "0      New York             NY   52  Denison U        BA  ...        NaN   \n",
              "1      New York             NY   61    Cornell        BA  ...  3030310.0   \n",
              "2   Terre Haute             IN   48        NaN       NaN  ...  8287670.0   \n",
              "\n",
              "       other     St_gains Comp for 5 yrs  Stock owned  Sales  Profits  \\\n",
              "0     9667.0  202261000.0    236771000.0        0.561   8865    779.5   \n",
              "1  2161890.0   46900000.0    141605000.0        1.168   6797    950.0   \n",
              "2   190570.0   29947100.0     51156100.0        2.842   2637    308.9   \n",
              "\n",
              "   Return over 5 yrs                         Industry  Industry Code  \n",
              "0               17.0          Travel-hotelsrecreation              8  \n",
              "1               28.0  Financial services-leasefinance              1  \n",
              "2               76.0             Insurance-lifehealth              4  \n",
              "\n",
              "[3 rows x 31 columns]"
            ]
          },
          "execution_count": 35,
          "metadata": {},
          "output_type": "execute_result"
        }
      ],
      "source": [
        "#Run this cell\n",
        "url = \"https://media.githubusercontent.com/media/michalis0/Business-Intelligence-and-Analytics/master/data/CEO%20compensation.csv\"\n",
        "data = pd.read_csv(url) \n",
        "data.head(3) #only shows the first 3 rows"
      ]
    },
    {
      "cell_type": "code",
      "execution_count": 36,
      "metadata": {
        "id": "pA30fVB4OPRw"
      },
      "outputs": [],
      "source": [
        "# Run this cell to drop the rows where there are missing values\n",
        "data.dropna(inplace=True)"
      ]
    },
    {
      "cell_type": "markdown",
      "metadata": {
        "id": "Ww0jmyFlOjbR"
      },
      "source": [
        "## <a class=\"anchor\"></a> 2.1 Boxplots\n",
        "\n",
        "Pandas allows you to plot boxplots with your data. If you do not remember what a Boxplot is you can refresh your memory following this link. Essentially they allow to see the following elements:\n",
        "\n",
        "* Minimum\n",
        "* Maximum\n",
        "* Median\n",
        "* Quartiles\n",
        "* Outliers\n",
        "\n",
        "We will use the `.boxplot()` function to see how much the salaries and bonuses of CEO's can vary. What part of CEO's compensation can vary the most, which one varies the least? Which one has the biggest outliers?\n",
        "\n"
      ]
    },
    {
      "cell_type": "code",
      "execution_count": 37,
      "metadata": {
        "colab": {
          "base_uri": "https://localhost:8080/",
          "height": 602
        },
        "id": "lxTrHGTVPO5H",
        "outputId": "4edd465d-7a52-44fa-f92c-e2245ac7ce57"
      },
      "outputs": [
        {
          "data": {
            "image/png": "[encoded data removed]",
            "text/plain": [
              "<Figure size 2000x1000 with 1 Axes>"
            ]
          },
          "metadata": {},
          "output_type": "display_data"
        }
      ],
      "source": [
        "#Boxplot for salaries and bonuses\n",
        "box_plot=data.boxplot(column = [\"Salary\", \"Bonus\"], figsize = (20,10))"
      ]
    },
    {
      "cell_type": "markdown",
      "metadata": {
        "id": "RMKBMlVCP8UB"
      },
      "source": [
        "### <a class=\"anchor\"></a> 2.1.2 Boxplot exercice\n",
        "\n",
        "Use the .boxplot function with the \"Bonus\" column. What is the mean, median, max, min and what are the outlier values?\n",
        "\n",
        "Subsequentially check your answers using the .describe() function.\n"
      ]
    },
    {
      "cell_type": "code",
      "execution_count": null,
      "metadata": {
        "id": "8lds-gnsQG7B"
      },
      "outputs": [],
      "source": [
        "#Generate the Boxplot"
      ]
    },
    {
      "cell_type": "code",
      "execution_count": null,
      "metadata": {
        "id": "dujQIpCUQGyv"
      },
      "outputs": [],
      "source": [
        "#Check your answers"
      ]
    },
    {
      "cell_type": "markdown",
      "metadata": {
        "id": "eTS_M7hIOjWA"
      },
      "source": [
        "## <a class=\"anchor\"></a> 2.1 Scatterplots and Correlation\n",
        "\n",
        "This plots are useful to find correlations between variables. Let's see if we can find any correlation (visually) between the Age and the Salary of the CEO's.\n"
      ]
    },
    {
      "cell_type": "code",
      "execution_count": 38,
      "metadata": {
        "colab": {
          "base_uri": "https://localhost:8080/",
          "height": 290
        },
        "id": "FoaL2zSfRyEY",
        "outputId": "115e2912-ff26-4b0b-e7d8-f00296a495c8"
      },
      "outputs": [
        {
          "data": {
            "image/png": "[encoded data removed]",
            "text/plain": [
              "<Figure size 640x480 with 1 Axes>"
            ]
          },
          "metadata": {},
          "output_type": "display_data"
        }
      ],
      "source": [
        "scat = data.plot.scatter(x = \"Age\", y = \"Salary\")"
      ]
    },
    {
      "cell_type": "markdown",
      "metadata": {
        "id": "377oW8DISmGf"
      },
      "source": [
        "Pandas also includes a function `corr` which allows to easily calculate [Pearsons r coefficient](https://en.wikipedia.org/wiki/Pearson_correlation_coefficient)."
      ]
    },
    {
      "cell_type": "code",
      "execution_count": 39,
      "metadata": {
        "colab": {
          "base_uri": "https://localhost:8080/"
        },
        "id": "TjM8U-cKStCz",
        "outputId": "ec0509d1-2599-457b-e000-84f0cf4d5af1"
      },
      "outputs": [
        {
          "data": {
            "text/plain": [
              "0.30571805690619325"
            ]
          },
          "execution_count": 39,
          "metadata": {},
          "output_type": "execute_result"
        }
      ],
      "source": [
        "data[\"Age\"].corr(data[\"Salary\"])"
      ]
    },
    {
      "cell_type": "markdown",
      "metadata": {
        "id": "b6moiPS6O_1N"
      },
      "source": [
        "The correlation seems quite low, so let's see what else we can find.\n",
        "\n",
        "Usually, as a way to inentivize managers to do a good job, they are given stocks or options. This way, they have an intrinsic motivation to make the stock price grow, as they can benefit enormously from this. Let's see if we can find a correlation between the stock owned by a CEO and the return of the stock in the last 5 years."
      ]
    },
    {
      "cell_type": "code",
      "execution_count": 40,
      "metadata": {
        "colab": {
          "base_uri": "https://localhost:8080/",
          "height": 309
        },
        "id": "SW-7jLfnPqVO",
        "outputId": "d87a9293-4962-46d8-9bc2-aa914f5dc784"
      },
      "outputs": [
        {
          "name": "stdout",
          "output_type": "stream",
          "text": [
            "Pearson's r coefficient is: 0.66\n"
          ]
        },
        {
          "data": {
            "image/png": "[encoded data removed]",
            "text/plain": [
              "<Figure size 640x480 with 1 Axes>"
            ]
          },
          "metadata": {},
          "output_type": "display_data"
        }
      ],
      "source": [
        "#Scatterplot\n",
        "profit_cat= data.plot.scatter(x=\"Profits\", y=\"Salary\")\n",
        "#Pearson's r coefficient\n",
        "print(\"Pearson's r coefficient is: {}\".format(round(data[\"Profits\"].corr(data[\"Salary\"]), 2)))\n"
      ]
    },
    {
      "cell_type": "markdown",
      "metadata": {
        "id": "KZnA9SNMR6ow"
      },
      "source": [
        "There seems to be a correlation between the fixed part of a CEO's  compensation and the companies profit, but always remember that correlation does not imply causation.\n",
        "\n",
        "You can also include a third variable if you want to. In order to plot 3-different variables in 2 dimensions we can use the seaborn library and change the collor of the third variable. This is done with the `hue` argument."
      ]
    },
    {
      "cell_type": "code",
      "execution_count": 41,
      "metadata": {
        "colab": {
          "base_uri": "https://localhost:8080/",
          "height": 290
        },
        "id": "hwX12aPrSKAv",
        "outputId": "e0fce0e1-19ba-4e90-8590-769641b9ed68"
      },
      "outputs": [
        {
          "data": {
            "image/png": "[encoded data removed]",
            "text/plain": [
              "<Figure size 640x480 with 1 Axes>"
            ]
          },
          "metadata": {},
          "output_type": "display_data"
        }
      ],
      "source": [
        "scat2=sns.scatterplot(x=data[\"YearsCEO\"], y=data[\"Bonus\"],hue=data[\"Top 20\"])"
      ]
    },
    {
      "cell_type": "markdown",
      "metadata": {
        "id": "knvKIP4-UZ4_"
      },
      "source": [
        "## <a class=\"anchor\"></a> 2.2 Exercice\n",
        "\n",
        "1) Load the dataset from the following url: `https://raw.githubusercontent.com/michalis0/Business-Intelligence-and-Analytics/master/data/Birthweight.csv`, set ID as the index column and use the .head() funtion to obtain an overview."
      ]
    },
    {
      "cell_type": "code",
      "execution_count": 42,
      "metadata": {
        "colab": {
          "base_uri": "https://localhost:8080/",
          "height": 206
        },
        "id": "x3Yt6nJGU_X5",
        "outputId": "de1b0052-3fa3-48c4-9e7a-358c65ff1b9c"
      },
      "outputs": [
        {
          "data": {
            "text/html": [
              "<div>\n",
              "<style scoped>\n",
              "    .dataframe tbody tr th:only-of-type {\n",
              "        vertical-align: middle;\n",
              "    }\n",
              "\n",
              "    .dataframe tbody tr th {\n",
              "        vertical-align: top;\n",
              "    }\n",
              "\n",
              "    .dataframe thead th {\n",
              "        text-align: right;\n",
              "    }\n",
              "</style>\n",
              "<table border=\"1\" class=\"dataframe\">\n",
              "  <thead>\n",
              "    <tr style=\"text-align: right;\">\n",
              "      <th></th>\n",
              "      <th>ID</th>\n",
              "      <th>Length</th>\n",
              "      <th>Birthweight</th>\n",
              "      <th>Headcirc</th>\n",
              "      <th>Gestation</th>\n",
              "      <th>smoker</th>\n",
              "      <th>mage</th>\n",
              "      <th>mnocig</th>\n",
              "      <th>mheight</th>\n",
              "      <th>mppwt</th>\n",
              "      <th>fage</th>\n",
              "      <th>fedyrs</th>\n",
              "      <th>fnocig</th>\n",
              "      <th>fheight</th>\n",
              "      <th>lowbwt</th>\n",
              "      <th>mage35</th>\n",
              "    </tr>\n",
              "  </thead>\n",
              "  <tbody>\n",
              "    <tr>\n",
              "      <th>0</th>\n",
              "      <td>1360</td>\n",
              "      <td>56</td>\n",
              "      <td>4.55</td>\n",
              "      <td>34</td>\n",
              "      <td>44</td>\n",
              "      <td>0</td>\n",
              "      <td>20</td>\n",
              "      <td>0</td>\n",
              "      <td>162</td>\n",
              "      <td>57</td>\n",
              "      <td>23</td>\n",
              "      <td>10</td>\n",
              "      <td>35</td>\n",
              "      <td>179</td>\n",
              "      <td>0</td>\n",
              "      <td>0</td>\n",
              "    </tr>\n",
              "    <tr>\n",
              "      <th>1</th>\n",
              "      <td>1016</td>\n",
              "      <td>53</td>\n",
              "      <td>4.32</td>\n",
              "      <td>36</td>\n",
              "      <td>40</td>\n",
              "      <td>0</td>\n",
              "      <td>19</td>\n",
              "      <td>0</td>\n",
              "      <td>171</td>\n",
              "      <td>62</td>\n",
              "      <td>19</td>\n",
              "      <td>12</td>\n",
              "      <td>0</td>\n",
              "      <td>183</td>\n",
              "      <td>0</td>\n",
              "      <td>0</td>\n",
              "    </tr>\n",
              "    <tr>\n",
              "      <th>2</th>\n",
              "      <td>462</td>\n",
              "      <td>58</td>\n",
              "      <td>4.10</td>\n",
              "      <td>39</td>\n",
              "      <td>41</td>\n",
              "      <td>0</td>\n",
              "      <td>35</td>\n",
              "      <td>0</td>\n",
              "      <td>172</td>\n",
              "      <td>58</td>\n",
              "      <td>31</td>\n",
              "      <td>16</td>\n",
              "      <td>25</td>\n",
              "      <td>185</td>\n",
              "      <td>0</td>\n",
              "      <td>1</td>\n",
              "    </tr>\n",
              "    <tr>\n",
              "      <th>3</th>\n",
              "      <td>1187</td>\n",
              "      <td>53</td>\n",
              "      <td>4.07</td>\n",
              "      <td>38</td>\n",
              "      <td>44</td>\n",
              "      <td>0</td>\n",
              "      <td>20</td>\n",
              "      <td>0</td>\n",
              "      <td>174</td>\n",
              "      <td>68</td>\n",
              "      <td>26</td>\n",
              "      <td>14</td>\n",
              "      <td>25</td>\n",
              "      <td>189</td>\n",
              "      <td>0</td>\n",
              "      <td>0</td>\n",
              "    </tr>\n",
              "    <tr>\n",
              "      <th>4</th>\n",
              "      <td>553</td>\n",
              "      <td>54</td>\n",
              "      <td>3.94</td>\n",
              "      <td>37</td>\n",
              "      <td>42</td>\n",
              "      <td>0</td>\n",
              "      <td>24</td>\n",
              "      <td>0</td>\n",
              "      <td>175</td>\n",
              "      <td>66</td>\n",
              "      <td>30</td>\n",
              "      <td>12</td>\n",
              "      <td>0</td>\n",
              "      <td>184</td>\n",
              "      <td>0</td>\n",
              "      <td>0</td>\n",
              "    </tr>\n",
              "  </tbody>\n",
              "</table>\n",
              "</div>"
            ],
            "text/plain": [
              "     ID  Length  Birthweight  Headcirc  Gestation  smoker  mage  mnocig  \\\n",
              "0  1360      56         4.55        34         44       0    20       0   \n",
              "1  1016      53         4.32        36         40       0    19       0   \n",
              "2   462      58         4.10        39         41       0    35       0   \n",
              "3  1187      53         4.07        38         44       0    20       0   \n",
              "4   553      54         3.94        37         42       0    24       0   \n",
              "\n",
              "   mheight  mppwt  fage  fedyrs  fnocig  fheight  lowbwt  mage35  \n",
              "0      162     57    23      10      35      179       0       0  \n",
              "1      171     62    19      12       0      183       0       0  \n",
              "2      172     58    31      16      25      185       0       1  \n",
              "3      174     68    26      14      25      189       0       0  \n",
              "4      175     66    30      12       0      184       0       0  "
            ]
          },
          "execution_count": 42,
          "metadata": {},
          "output_type": "execute_result"
        }
      ],
      "source": [
        "birth_data = pd.read_csv(\"https://media.githubusercontent.com/media/michalis0/Business-Intelligence-and-Analytics/master/data/Birthweight.csv\")\n",
        "birth_data.head()"
      ]
    },
    {
      "cell_type": "markdown",
      "metadata": {
        "id": "vnOHLRuPks4n"
      },
      "source": [
        "2) The above dataset contains information about newborn babis and their mothers. Plot an histogram of the \"Gestation\" column. What is the mode and the mean of the gestation period?"
      ]
    },
    {
      "cell_type": "code",
      "execution_count": null,
      "metadata": {
        "id": "MQ-SxzqrlTnO"
      },
      "outputs": [],
      "source": []
    },
    {
      "cell_type": "markdown",
      "metadata": {
        "id": "aTYocBWblUHN"
      },
      "source": [
        "3) Plot a boxplot of the gestation period. Were you right about the mode and the median?"
      ]
    },
    {
      "cell_type": "code",
      "execution_count": null,
      "metadata": {
        "id": "PXlQpq_ZlVYV"
      },
      "outputs": [],
      "source": []
    },
    {
      "cell_type": "markdown",
      "metadata": {
        "id": "OokRXQ_7mmO9"
      },
      "source": [
        "4) It might be interesting to see whether there is a correlation between smoker/ non-smoker mothers and the babies birthweight.\n",
        "\n",
        "Plot a scatterplot between the \"smoker\", \"Birthweight\" and \"mage\" columns."
      ]
    },
    {
      "cell_type": "code",
      "execution_count": null,
      "metadata": {
        "id": "Ycc7nNlKmkU8"
      },
      "outputs": [],
      "source": []
    },
    {
      "cell_type": "code",
      "execution_count": null,
      "metadata": {
        "id": "vlp4eORnurBj"
      },
      "outputs": [],
      "source": [
        "#Check the correlation between each pair of variables"
      ]
    },
    {
      "cell_type": "markdown",
      "metadata": {
        "id": "b4Li-RA-ToFB"
      },
      "source": [
        "## <a class=\"anchor\"></a> 2.3 Pairgrids and heatmaps\n",
        "\n",
        "Pairgrids can be a usefool tool to visualize correlations. They allow us to plot the relationships of multiple variables against each other, 2 at a time.\n"
      ]
    },
    {
      "cell_type": "code",
      "execution_count": 45,
      "metadata": {
        "colab": {
          "base_uri": "https://localhost:8080/",
          "height": 644
        },
        "id": "I5CfjmgXi8V1",
        "outputId": "5762a59b-18a0-4fe0-8c15-a826d1e291db"
      },
      "outputs": [
        {
          "data": {
            "image/png": "[encoded data removed]",
            "text/plain": [
              "<Figure size 1000x1000 with 9 Axes>"
            ]
          },
          "metadata": {},
          "output_type": "display_data"
        }
      ],
      "source": [
        "scat3 = scatter_matrix(birth_data[[\"Length\", \"Birthweight\", \"Headcirc\"]], figsize=(10, 10), grid=True, s = 120)\n",
        "plt.suptitle('Scatter-matrix to find a possible correlation', size = 20, y = 0.93, x =0.55)\n",
        "plt.show()\n"
      ]
    },
    {
      "cell_type": "markdown",
      "metadata": {
        "id": "8yfeLB0U3ap8"
      },
      "source": [
        "Another more useful tools are [heatmaps](https://en.wikipedia.org/wiki/Heat_map). By first calculating the correlations between every variable, we can then plot a heatmap of those.\n"
      ]
    },
    {
      "cell_type": "code",
      "execution_count": 46,
      "metadata": {
        "colab": {
          "base_uri": "https://localhost:8080/",
          "height": 317
        },
        "id": "58uUIo6-3mxT",
        "outputId": "c095da73-9c5b-49fc-b6d8-99aed1923662"
      },
      "outputs": [
        {
          "data": {
            "image/png": "[encoded data removed]",
            "text/plain": [
              "<Figure size 640x480 with 2 Axes>"
            ]
          },
          "metadata": {},
          "output_type": "display_data"
        }
      ],
      "source": [
        "correlations = birth_data.corr()\n",
        "heatmap=sns.heatmap(correlations)"
      ]
    }
  ],
  "metadata": {
    "colab": {
      "include_colab_link": true,
      "name": "Introduction_to_EDA.ipynb",
      "provenance": []
    },
    "kernelspec": {
      "display_name": "base",
      "language": "python",
      "name": "python3"
    },
    "language_info": {
      "codemirror_mode": {
        "name": "ipython",
        "version": 3
      },
      "file_extension": ".py",
      "mimetype": "text/x-python",
      "name": "python",
      "nbconvert_exporter": "python",
      "pygments_lexer": "ipython3",
      "version": "3.9.15"
    },
    "vscode": {
      "interpreter": {
        "hash": "b0cc462c96df3621bcc58e01fadcdf9264a069c5c4bbf07201077bb349d3c6bf"
      }
    }
  },
  "nbformat": 4,
  "nbformat_minor": 0
}
