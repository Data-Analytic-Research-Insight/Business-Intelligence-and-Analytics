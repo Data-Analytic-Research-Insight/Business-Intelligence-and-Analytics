{
  "cells": [
    {
      "cell_type": "markdown",
      "metadata": {
        "id": "view-in-github",
        "colab_type": "text"
      },
      "source": [
        "<a href=\"https://colab.research.google.com/github/michalis0/Business-Intelligence-and-Analytics/blob/master/labs/02%20-%20Pandas%20and%20Python/walkthroughs/Basic_Pandas_Load_File.ipynb\" target=\"_parent\"><img src=\"https://colab.research.google.com/assets/colab-badge.svg\" alt=\"Open In Colab\"/></a>"
      ]
    },
    {
      "cell_type": "markdown",
      "metadata": {
        "id": "1k_qF-UHvc3B"
      },
      "source": [
        "<h1 align=\"center\"> Walkthrough - Lab 2</h1>\n",
        "\n",
        "<div>\n",
        "<td> \n",
        "<img src=\"https://upload.wikimedia.org/wikipedia/commons/thumb/2/2b/Logo_Universit%C3%A9_de_Lausanne.svg/2000px-Logo_Universit%C3%A9_de_Lausanne.svg.png\" style=\"padding-right:10px;width:240px;float:left\"/></td>\n",
        "<h2 style=\"white-space: nowrap\">Business Intelligence and Analytics</h2></td>\n",
        "<hr style=\"clear:both\">\n",
        "<p style=\"font-size:0.85em; margin:2px; text-align:justify\">\n",
        "\n",
        "</div>"
      ]
    },
    {
      "cell_type": "markdown",
      "metadata": {
        "id": "HT7WDJuNMc-F"
      },
      "source": [
        "# Basic Pandas operations\n",
        "\n",
        "**Goal**: Our goal here is to learn how to load a dataset into a Pandas DataFrame. The dataset can come either in CSV or in JSON format. We will see also how to perform basic data manipulations and very basic data visualizations so that you understand the nature of your data."
      ]
    },
    {
      "cell_type": "markdown",
      "metadata": {
        "id": "oV2jka2Hvc3F"
      },
      "source": [
        "## 1. Loading a dataset in CSV format\n",
        "\n",
        "First you have to import the `pandas` package."
      ]
    },
    {
      "cell_type": "code",
      "execution_count": 135,
      "metadata": {
        "id": "1Z3Tez5xNcE2"
      },
      "outputs": [],
      "source": [
        "import pandas as pd # press shift+enter to execute it"
      ]
    },
    {
      "cell_type": "markdown",
      "metadata": {
        "id": "V3kh8_9rNfLZ"
      },
      "source": [
        "Now you can see that you autocomplete your code with functions that are included in `pandas`. Eg type `pd.read` and see that it recommends some functions:\n"
      ]
    },
    {
      "cell_type": "code",
      "execution_count": 136,
      "metadata": {
        "id": "e9Up10t7Mc-H",
        "scrolled": true,
        "colab": {
          "base_uri": "https://localhost:8080/",
          "height": 206
        },
        "outputId": "8c5ca206-5c36-4e5b-f889-e9e57996fd9f"
      },
      "outputs": [
        {
          "output_type": "execute_result",
          "data": {
            "text/plain": [
              "  01.01.2018 00:01;read;country_7;2458151261;SEO;North America\n",
              "0  01.01.2018 00:03;read;country_7;2458151262;SEO...          \n",
              "1  01.01.2018 00:04;read;country_7;2458151263;AdW...          \n",
              "2  01.01.2018 00:04;read;country_7;2458151264;AdW...          \n",
              "3  01.01.2018 00:05;read;country_8;2458151265;Red...          \n",
              "4  01.01.2018 00:05;read;country_6;2458151266;Red...          "
            ],
            "text/html": [
              "\n",
              "  <div id=\"df-a666c365-80e2-4a70-a569-9de0799c8875\">\n",
              "    <div class=\"colab-df-container\">\n",
              "      <div>\n",
              "<style scoped>\n",
              "    .dataframe tbody tr th:only-of-type {\n",
              "        vertical-align: middle;\n",
              "    }\n",
              "\n",
              "    .dataframe tbody tr th {\n",
              "        vertical-align: top;\n",
              "    }\n",
              "\n",
              "    .dataframe thead th {\n",
              "        text-align: right;\n",
              "    }\n",
              "</style>\n",
              "<table border=\"1\" class=\"dataframe\">\n",
              "  <thead>\n",
              "    <tr style=\"text-align: right;\">\n",
              "      <th></th>\n",
              "      <th>01.01.2018 00:01;read;country_7;2458151261;SEO;North America</th>\n",
              "    </tr>\n",
              "  </thead>\n",
              "  <tbody>\n",
              "    <tr>\n",
              "      <th>0</th>\n",
              "      <td>01.01.2018 00:03;read;country_7;2458151262;SEO...</td>\n",
              "    </tr>\n",
              "    <tr>\n",
              "      <th>1</th>\n",
              "      <td>01.01.2018 00:04;read;country_7;2458151263;AdW...</td>\n",
              "    </tr>\n",
              "    <tr>\n",
              "      <th>2</th>\n",
              "      <td>01.01.2018 00:04;read;country_7;2458151264;AdW...</td>\n",
              "    </tr>\n",
              "    <tr>\n",
              "      <th>3</th>\n",
              "      <td>01.01.2018 00:05;read;country_8;2458151265;Red...</td>\n",
              "    </tr>\n",
              "    <tr>\n",
              "      <th>4</th>\n",
              "      <td>01.01.2018 00:05;read;country_6;2458151266;Red...</td>\n",
              "    </tr>\n",
              "  </tbody>\n",
              "</table>\n",
              "</div>\n",
              "      <button class=\"colab-df-convert\" onclick=\"convertToInteractive('df-a666c365-80e2-4a70-a569-9de0799c8875')\"\n",
              "              title=\"Convert this dataframe to an interactive table.\"\n",
              "              style=\"display:none;\">\n",
              "        \n",
              "  <svg xmlns=\"http://www.w3.org/2000/svg\" height=\"24px\"viewBox=\"0 0 24 24\"\n",
              "       width=\"24px\">\n",
              "    <path d=\"M0 0h24v24H0V0z\" fill=\"none\"/>\n",
              "    <path d=\"M18.56 5.44l.94 2.06.94-2.06 2.06-.94-2.06-.94-.94-2.06-.94 2.06-2.06.94zm-11 1L8.5 8.5l.94-2.06 2.06-.94-2.06-.94L8.5 2.5l-.94 2.06-2.06.94zm10 10l.94 2.06.94-2.06 2.06-.94-2.06-.94-.94-2.06-.94 2.06-2.06.94z\"/><path d=\"M17.41 7.96l-1.37-1.37c-.4-.4-.92-.59-1.43-.59-.52 0-1.04.2-1.43.59L10.3 9.45l-7.72 7.72c-.78.78-.78 2.05 0 2.83L4 21.41c.39.39.9.59 1.41.59.51 0 1.02-.2 1.41-.59l7.78-7.78 2.81-2.81c.8-.78.8-2.07 0-2.86zM5.41 20L4 18.59l7.72-7.72 1.47 1.35L5.41 20z\"/>\n",
              "  </svg>\n",
              "      </button>\n",
              "      \n",
              "  <style>\n",
              "    .colab-df-container {\n",
              "      display:flex;\n",
              "      flex-wrap:wrap;\n",
              "      gap: 12px;\n",
              "    }\n",
              "\n",
              "    .colab-df-convert {\n",
              "      background-color: #E8F0FE;\n",
              "      border: none;\n",
              "      border-radius: 50%;\n",
              "      cursor: pointer;\n",
              "      display: none;\n",
              "      fill: #1967D2;\n",
              "      height: 32px;\n",
              "      padding: 0 0 0 0;\n",
              "      width: 32px;\n",
              "    }\n",
              "\n",
              "    .colab-df-convert:hover {\n",
              "      background-color: #E2EBFA;\n",
              "      box-shadow: 0px 1px 2px rgba(60, 64, 67, 0.3), 0px 1px 3px 1px rgba(60, 64, 67, 0.15);\n",
              "      fill: #174EA6;\n",
              "    }\n",
              "\n",
              "    [theme=dark] .colab-df-convert {\n",
              "      background-color: #3B4455;\n",
              "      fill: #D2E3FC;\n",
              "    }\n",
              "\n",
              "    [theme=dark] .colab-df-convert:hover {\n",
              "      background-color: #434B5C;\n",
              "      box-shadow: 0px 1px 3px 1px rgba(0, 0, 0, 0.15);\n",
              "      filter: drop-shadow(0px 1px 2px rgba(0, 0, 0, 0.3));\n",
              "      fill: #FFFFFF;\n",
              "    }\n",
              "  </style>\n",
              "\n",
              "      <script>\n",
              "        const buttonEl =\n",
              "          document.querySelector('#df-a666c365-80e2-4a70-a569-9de0799c8875 button.colab-df-convert');\n",
              "        buttonEl.style.display =\n",
              "          google.colab.kernel.accessAllowed ? 'block' : 'none';\n",
              "\n",
              "        async function convertToInteractive(key) {\n",
              "          const element = document.querySelector('#df-a666c365-80e2-4a70-a569-9de0799c8875');\n",
              "          const dataTable =\n",
              "            await google.colab.kernel.invokeFunction('convertToInteractive',\n",
              "                                                     [key], {});\n",
              "          if (!dataTable) return;\n",
              "\n",
              "          const docLinkHtml = 'Like what you see? Visit the ' +\n",
              "            '<a target=\"_blank\" href=https://colab.research.google.com/notebooks/data_table.ipynb>data table notebook</a>'\n",
              "            + ' to learn more about interactive tables.';\n",
              "          element.innerHTML = '';\n",
              "          dataTable['output_type'] = 'display_data';\n",
              "          await google.colab.output.renderOutput(dataTable, element);\n",
              "          const docLink = document.createElement('div');\n",
              "          docLink.innerHTML = docLinkHtml;\n",
              "          element.appendChild(docLink);\n",
              "        }\n",
              "      </script>\n",
              "    </div>\n",
              "  </div>\n",
              "  "
            ]
          },
          "metadata": {},
          "execution_count": 136
        }
      ],
      "source": [
        "# let's load a file\n",
        "url = \"https://media.githubusercontent.com/media/michalis0/Business-Intelligence-and-Analytics/master/data/pandas_tutorial_read.csv\"\n",
        "data = pd.read_csv(url) \n",
        "data.head()"
      ]
    },
    {
      "cell_type": "markdown",
      "metadata": {
        "id": "opHgAjE6Mc-O"
      },
      "source": [
        "Is the above correct? Most likely not. \n",
        "\n",
        "CSV stands for \"Comma Separated Values\", which is not the case here. We see there are ';' and the data seem to be in one column. The default delimiter is ',' so we need to change it."
      ]
    },
    {
      "cell_type": "code",
      "execution_count": 137,
      "metadata": {
        "id": "Yv5UVka1Mc-Q",
        "colab": {
          "base_uri": "https://localhost:8080/",
          "height": 206
        },
        "outputId": "9e9c64ca-5584-47b0-e79c-495b39cd7042"
      },
      "outputs": [
        {
          "output_type": "execute_result",
          "data": {
            "text/plain": [
              "   01.01.2018 00:01  read  country_7  2458151261      SEO  North America\n",
              "0  01.01.2018 00:03  read  country_7  2458151262      SEO  South America\n",
              "1  01.01.2018 00:04  read  country_7  2458151263  AdWords         Africa\n",
              "2  01.01.2018 00:04  read  country_7  2458151264  AdWords         Europe\n",
              "3  01.01.2018 00:05  read  country_8  2458151265   Reddit  North America\n",
              "4  01.01.2018 00:05  read  country_6  2458151266   Reddit  North America"
            ],
            "text/html": [
              "\n",
              "  <div id=\"df-ef035655-5b15-4de8-b293-6803e1897cc9\">\n",
              "    <div class=\"colab-df-container\">\n",
              "      <div>\n",
              "<style scoped>\n",
              "    .dataframe tbody tr th:only-of-type {\n",
              "        vertical-align: middle;\n",
              "    }\n",
              "\n",
              "    .dataframe tbody tr th {\n",
              "        vertical-align: top;\n",
              "    }\n",
              "\n",
              "    .dataframe thead th {\n",
              "        text-align: right;\n",
              "    }\n",
              "</style>\n",
              "<table border=\"1\" class=\"dataframe\">\n",
              "  <thead>\n",
              "    <tr style=\"text-align: right;\">\n",
              "      <th></th>\n",
              "      <th>01.01.2018 00:01</th>\n",
              "      <th>read</th>\n",
              "      <th>country_7</th>\n",
              "      <th>2458151261</th>\n",
              "      <th>SEO</th>\n",
              "      <th>North America</th>\n",
              "    </tr>\n",
              "  </thead>\n",
              "  <tbody>\n",
              "    <tr>\n",
              "      <th>0</th>\n",
              "      <td>01.01.2018 00:03</td>\n",
              "      <td>read</td>\n",
              "      <td>country_7</td>\n",
              "      <td>2458151262</td>\n",
              "      <td>SEO</td>\n",
              "      <td>South America</td>\n",
              "    </tr>\n",
              "    <tr>\n",
              "      <th>1</th>\n",
              "      <td>01.01.2018 00:04</td>\n",
              "      <td>read</td>\n",
              "      <td>country_7</td>\n",
              "      <td>2458151263</td>\n",
              "      <td>AdWords</td>\n",
              "      <td>Africa</td>\n",
              "    </tr>\n",
              "    <tr>\n",
              "      <th>2</th>\n",
              "      <td>01.01.2018 00:04</td>\n",
              "      <td>read</td>\n",
              "      <td>country_7</td>\n",
              "      <td>2458151264</td>\n",
              "      <td>AdWords</td>\n",
              "      <td>Europe</td>\n",
              "    </tr>\n",
              "    <tr>\n",
              "      <th>3</th>\n",
              "      <td>01.01.2018 00:05</td>\n",
              "      <td>read</td>\n",
              "      <td>country_8</td>\n",
              "      <td>2458151265</td>\n",
              "      <td>Reddit</td>\n",
              "      <td>North America</td>\n",
              "    </tr>\n",
              "    <tr>\n",
              "      <th>4</th>\n",
              "      <td>01.01.2018 00:05</td>\n",
              "      <td>read</td>\n",
              "      <td>country_6</td>\n",
              "      <td>2458151266</td>\n",
              "      <td>Reddit</td>\n",
              "      <td>North America</td>\n",
              "    </tr>\n",
              "  </tbody>\n",
              "</table>\n",
              "</div>\n",
              "      <button class=\"colab-df-convert\" onclick=\"convertToInteractive('df-ef035655-5b15-4de8-b293-6803e1897cc9')\"\n",
              "              title=\"Convert this dataframe to an interactive table.\"\n",
              "              style=\"display:none;\">\n",
              "        \n",
              "  <svg xmlns=\"http://www.w3.org/2000/svg\" height=\"24px\"viewBox=\"0 0 24 24\"\n",
              "       width=\"24px\">\n",
              "    <path d=\"M0 0h24v24H0V0z\" fill=\"none\"/>\n",
              "    <path d=\"M18.56 5.44l.94 2.06.94-2.06 2.06-.94-2.06-.94-.94-2.06-.94 2.06-2.06.94zm-11 1L8.5 8.5l.94-2.06 2.06-.94-2.06-.94L8.5 2.5l-.94 2.06-2.06.94zm10 10l.94 2.06.94-2.06 2.06-.94-2.06-.94-.94-2.06-.94 2.06-2.06.94z\"/><path d=\"M17.41 7.96l-1.37-1.37c-.4-.4-.92-.59-1.43-.59-.52 0-1.04.2-1.43.59L10.3 9.45l-7.72 7.72c-.78.78-.78 2.05 0 2.83L4 21.41c.39.39.9.59 1.41.59.51 0 1.02-.2 1.41-.59l7.78-7.78 2.81-2.81c.8-.78.8-2.07 0-2.86zM5.41 20L4 18.59l7.72-7.72 1.47 1.35L5.41 20z\"/>\n",
              "  </svg>\n",
              "      </button>\n",
              "      \n",
              "  <style>\n",
              "    .colab-df-container {\n",
              "      display:flex;\n",
              "      flex-wrap:wrap;\n",
              "      gap: 12px;\n",
              "    }\n",
              "\n",
              "    .colab-df-convert {\n",
              "      background-color: #E8F0FE;\n",
              "      border: none;\n",
              "      border-radius: 50%;\n",
              "      cursor: pointer;\n",
              "      display: none;\n",
              "      fill: #1967D2;\n",
              "      height: 32px;\n",
              "      padding: 0 0 0 0;\n",
              "      width: 32px;\n",
              "    }\n",
              "\n",
              "    .colab-df-convert:hover {\n",
              "      background-color: #E2EBFA;\n",
              "      box-shadow: 0px 1px 2px rgba(60, 64, 67, 0.3), 0px 1px 3px 1px rgba(60, 64, 67, 0.15);\n",
              "      fill: #174EA6;\n",
              "    }\n",
              "\n",
              "    [theme=dark] .colab-df-convert {\n",
              "      background-color: #3B4455;\n",
              "      fill: #D2E3FC;\n",
              "    }\n",
              "\n",
              "    [theme=dark] .colab-df-convert:hover {\n",
              "      background-color: #434B5C;\n",
              "      box-shadow: 0px 1px 3px 1px rgba(0, 0, 0, 0.15);\n",
              "      filter: drop-shadow(0px 1px 2px rgba(0, 0, 0, 0.3));\n",
              "      fill: #FFFFFF;\n",
              "    }\n",
              "  </style>\n",
              "\n",
              "      <script>\n",
              "        const buttonEl =\n",
              "          document.querySelector('#df-ef035655-5b15-4de8-b293-6803e1897cc9 button.colab-df-convert');\n",
              "        buttonEl.style.display =\n",
              "          google.colab.kernel.accessAllowed ? 'block' : 'none';\n",
              "\n",
              "        async function convertToInteractive(key) {\n",
              "          const element = document.querySelector('#df-ef035655-5b15-4de8-b293-6803e1897cc9');\n",
              "          const dataTable =\n",
              "            await google.colab.kernel.invokeFunction('convertToInteractive',\n",
              "                                                     [key], {});\n",
              "          if (!dataTable) return;\n",
              "\n",
              "          const docLinkHtml = 'Like what you see? Visit the ' +\n",
              "            '<a target=\"_blank\" href=https://colab.research.google.com/notebooks/data_table.ipynb>data table notebook</a>'\n",
              "            + ' to learn more about interactive tables.';\n",
              "          element.innerHTML = '';\n",
              "          dataTable['output_type'] = 'display_data';\n",
              "          await google.colab.output.renderOutput(dataTable, element);\n",
              "          const docLink = document.createElement('div');\n",
              "          docLink.innerHTML = docLinkHtml;\n",
              "          element.appendChild(docLink);\n",
              "        }\n",
              "      </script>\n",
              "    </div>\n",
              "  </div>\n",
              "  "
            ]
          },
          "metadata": {},
          "execution_count": 137
        }
      ],
      "source": [
        "data = pd.read_csv(url, delimiter=';') \n",
        "data.head()"
      ]
    },
    {
      "cell_type": "markdown",
      "metadata": {
        "id": "q2PcFLDEMc-U"
      },
      "source": [
        "This looks better. But something else does not look good now. Our DataFrame is missing a header, let's assign one:"
      ]
    },
    {
      "cell_type": "code",
      "execution_count": 138,
      "metadata": {
        "id": "0p8R3uQFMc-V",
        "colab": {
          "base_uri": "https://localhost:8080/",
          "height": 206
        },
        "outputId": "d8a1cfe4-5f99-46e8-f231-ec3182a7a6ec"
      },
      "outputs": [
        {
          "output_type": "execute_result",
          "data": {
            "text/plain": [
              "        my_datetime event    country     user_id   source          topic\n",
              "0  01.01.2018 00:01  read  country_7  2458151261      SEO  North America\n",
              "1  01.01.2018 00:03  read  country_7  2458151262      SEO  South America\n",
              "2  01.01.2018 00:04  read  country_7  2458151263  AdWords         Africa\n",
              "3  01.01.2018 00:04  read  country_7  2458151264  AdWords         Europe\n",
              "4  01.01.2018 00:05  read  country_8  2458151265   Reddit  North America"
            ],
            "text/html": [
              "\n",
              "  <div id=\"df-80dc476c-5eab-439a-a97b-4d8e5a7033f9\">\n",
              "    <div class=\"colab-df-container\">\n",
              "      <div>\n",
              "<style scoped>\n",
              "    .dataframe tbody tr th:only-of-type {\n",
              "        vertical-align: middle;\n",
              "    }\n",
              "\n",
              "    .dataframe tbody tr th {\n",
              "        vertical-align: top;\n",
              "    }\n",
              "\n",
              "    .dataframe thead th {\n",
              "        text-align: right;\n",
              "    }\n",
              "</style>\n",
              "<table border=\"1\" class=\"dataframe\">\n",
              "  <thead>\n",
              "    <tr style=\"text-align: right;\">\n",
              "      <th></th>\n",
              "      <th>my_datetime</th>\n",
              "      <th>event</th>\n",
              "      <th>country</th>\n",
              "      <th>user_id</th>\n",
              "      <th>source</th>\n",
              "      <th>topic</th>\n",
              "    </tr>\n",
              "  </thead>\n",
              "  <tbody>\n",
              "    <tr>\n",
              "      <th>0</th>\n",
              "      <td>01.01.2018 00:01</td>\n",
              "      <td>read</td>\n",
              "      <td>country_7</td>\n",
              "      <td>2458151261</td>\n",
              "      <td>SEO</td>\n",
              "      <td>North America</td>\n",
              "    </tr>\n",
              "    <tr>\n",
              "      <th>1</th>\n",
              "      <td>01.01.2018 00:03</td>\n",
              "      <td>read</td>\n",
              "      <td>country_7</td>\n",
              "      <td>2458151262</td>\n",
              "      <td>SEO</td>\n",
              "      <td>South America</td>\n",
              "    </tr>\n",
              "    <tr>\n",
              "      <th>2</th>\n",
              "      <td>01.01.2018 00:04</td>\n",
              "      <td>read</td>\n",
              "      <td>country_7</td>\n",
              "      <td>2458151263</td>\n",
              "      <td>AdWords</td>\n",
              "      <td>Africa</td>\n",
              "    </tr>\n",
              "    <tr>\n",
              "      <th>3</th>\n",
              "      <td>01.01.2018 00:04</td>\n",
              "      <td>read</td>\n",
              "      <td>country_7</td>\n",
              "      <td>2458151264</td>\n",
              "      <td>AdWords</td>\n",
              "      <td>Europe</td>\n",
              "    </tr>\n",
              "    <tr>\n",
              "      <th>4</th>\n",
              "      <td>01.01.2018 00:05</td>\n",
              "      <td>read</td>\n",
              "      <td>country_8</td>\n",
              "      <td>2458151265</td>\n",
              "      <td>Reddit</td>\n",
              "      <td>North America</td>\n",
              "    </tr>\n",
              "  </tbody>\n",
              "</table>\n",
              "</div>\n",
              "      <button class=\"colab-df-convert\" onclick=\"convertToInteractive('df-80dc476c-5eab-439a-a97b-4d8e5a7033f9')\"\n",
              "              title=\"Convert this dataframe to an interactive table.\"\n",
              "              style=\"display:none;\">\n",
              "        \n",
              "  <svg xmlns=\"http://www.w3.org/2000/svg\" height=\"24px\"viewBox=\"0 0 24 24\"\n",
              "       width=\"24px\">\n",
              "    <path d=\"M0 0h24v24H0V0z\" fill=\"none\"/>\n",
              "    <path d=\"M18.56 5.44l.94 2.06.94-2.06 2.06-.94-2.06-.94-.94-2.06-.94 2.06-2.06.94zm-11 1L8.5 8.5l.94-2.06 2.06-.94-2.06-.94L8.5 2.5l-.94 2.06-2.06.94zm10 10l.94 2.06.94-2.06 2.06-.94-2.06-.94-.94-2.06-.94 2.06-2.06.94z\"/><path d=\"M17.41 7.96l-1.37-1.37c-.4-.4-.92-.59-1.43-.59-.52 0-1.04.2-1.43.59L10.3 9.45l-7.72 7.72c-.78.78-.78 2.05 0 2.83L4 21.41c.39.39.9.59 1.41.59.51 0 1.02-.2 1.41-.59l7.78-7.78 2.81-2.81c.8-.78.8-2.07 0-2.86zM5.41 20L4 18.59l7.72-7.72 1.47 1.35L5.41 20z\"/>\n",
              "  </svg>\n",
              "      </button>\n",
              "      \n",
              "  <style>\n",
              "    .colab-df-container {\n",
              "      display:flex;\n",
              "      flex-wrap:wrap;\n",
              "      gap: 12px;\n",
              "    }\n",
              "\n",
              "    .colab-df-convert {\n",
              "      background-color: #E8F0FE;\n",
              "      border: none;\n",
              "      border-radius: 50%;\n",
              "      cursor: pointer;\n",
              "      display: none;\n",
              "      fill: #1967D2;\n",
              "      height: 32px;\n",
              "      padding: 0 0 0 0;\n",
              "      width: 32px;\n",
              "    }\n",
              "\n",
              "    .colab-df-convert:hover {\n",
              "      background-color: #E2EBFA;\n",
              "      box-shadow: 0px 1px 2px rgba(60, 64, 67, 0.3), 0px 1px 3px 1px rgba(60, 64, 67, 0.15);\n",
              "      fill: #174EA6;\n",
              "    }\n",
              "\n",
              "    [theme=dark] .colab-df-convert {\n",
              "      background-color: #3B4455;\n",
              "      fill: #D2E3FC;\n",
              "    }\n",
              "\n",
              "    [theme=dark] .colab-df-convert:hover {\n",
              "      background-color: #434B5C;\n",
              "      box-shadow: 0px 1px 3px 1px rgba(0, 0, 0, 0.15);\n",
              "      filter: drop-shadow(0px 1px 2px rgba(0, 0, 0, 0.3));\n",
              "      fill: #FFFFFF;\n",
              "    }\n",
              "  </style>\n",
              "\n",
              "      <script>\n",
              "        const buttonEl =\n",
              "          document.querySelector('#df-80dc476c-5eab-439a-a97b-4d8e5a7033f9 button.colab-df-convert');\n",
              "        buttonEl.style.display =\n",
              "          google.colab.kernel.accessAllowed ? 'block' : 'none';\n",
              "\n",
              "        async function convertToInteractive(key) {\n",
              "          const element = document.querySelector('#df-80dc476c-5eab-439a-a97b-4d8e5a7033f9');\n",
              "          const dataTable =\n",
              "            await google.colab.kernel.invokeFunction('convertToInteractive',\n",
              "                                                     [key], {});\n",
              "          if (!dataTable) return;\n",
              "\n",
              "          const docLinkHtml = 'Like what you see? Visit the ' +\n",
              "            '<a target=\"_blank\" href=https://colab.research.google.com/notebooks/data_table.ipynb>data table notebook</a>'\n",
              "            + ' to learn more about interactive tables.';\n",
              "          element.innerHTML = '';\n",
              "          dataTable['output_type'] = 'display_data';\n",
              "          await google.colab.output.renderOutput(dataTable, element);\n",
              "          const docLink = document.createElement('div');\n",
              "          docLink.innerHTML = docLinkHtml;\n",
              "          element.appendChild(docLink);\n",
              "        }\n",
              "      </script>\n",
              "    </div>\n",
              "  </div>\n",
              "  "
            ]
          },
          "metadata": {},
          "execution_count": 138
        }
      ],
      "source": [
        "data = pd.read_csv(url, \n",
        "                   delimiter=';', \n",
        "                   names = ['my_datetime', 'event', 'country', 'user_id', 'source', 'topic']) \n",
        "data.head()\n"
      ]
    },
    {
      "cell_type": "markdown",
      "metadata": {
        "id": "qwwVIxHfMc-c"
      },
      "source": [
        "With the `head` function you see the first few lines. The .shape function shows the shape of the dataframe (rows, columns). You can also see the:\n",
        "\n",
        "- whole dataset: just type ```data```\n",
        "- the beginning as before ```data.head()``` \n",
        "- the last 5 entries ```data.tail()``` or \n",
        "- a sample such as ```data.sample(5)```\n",
        "- some descriptive statistics ```data.describe()```\n",
        "Try it out below:"
      ]
    },
    {
      "cell_type": "code",
      "execution_count": 139,
      "metadata": {
        "id": "RorAv2x0Mc-d",
        "colab": {
          "base_uri": "https://localhost:8080/"
        },
        "outputId": "4b71be91-6306-47e8-e337-07aaf382fe07"
      },
      "outputs": [
        {
          "output_type": "execute_result",
          "data": {
            "text/plain": [
              "(1795, 6)"
            ]
          },
          "metadata": {},
          "execution_count": 139
        }
      ],
      "source": [
        "data.shape"
      ]
    },
    {
      "cell_type": "code",
      "execution_count": 140,
      "metadata": {
        "id": "IUv7cCsl_g7T"
      },
      "outputs": [],
      "source": [
        "#Use this cell to write your own code"
      ]
    },
    {
      "cell_type": "markdown",
      "metadata": {
        "id": "Z6qhq8t3Mc-f"
      },
      "source": [
        "### DataFrame components\n",
        "There are three components of the DataFrame: the index, columns and data (values). We can extract each of these components into their own variables. Let's do that and then inspect them:"
      ]
    },
    {
      "cell_type": "code",
      "execution_count": 141,
      "metadata": {
        "id": "SssBXmqWMc-f"
      },
      "outputs": [],
      "source": [
        "index = data.index\n",
        "columns = data.columns\n",
        "values = data.values"
      ]
    },
    {
      "cell_type": "code",
      "execution_count": 142,
      "metadata": {
        "id": "jcFpF9yoMc-i",
        "colab": {
          "base_uri": "https://localhost:8080/"
        },
        "outputId": "3b1dfa49-d185-45fd-d839-e396585949dc"
      },
      "outputs": [
        {
          "output_type": "execute_result",
          "data": {
            "text/plain": [
              "RangeIndex(start=0, stop=1795, step=1)"
            ]
          },
          "metadata": {},
          "execution_count": 142
        }
      ],
      "source": [
        "index"
      ]
    },
    {
      "cell_type": "code",
      "execution_count": 143,
      "metadata": {
        "id": "a2PH_uMMMc-j",
        "colab": {
          "base_uri": "https://localhost:8080/"
        },
        "outputId": "723048c1-1216-42db-b0ca-3f4f59301f4a"
      },
      "outputs": [
        {
          "output_type": "execute_result",
          "data": {
            "text/plain": [
              "Index(['my_datetime', 'event', 'country', 'user_id', 'source', 'topic'], dtype='object')"
            ]
          },
          "metadata": {},
          "execution_count": 143
        }
      ],
      "source": [
        "columns"
      ]
    },
    {
      "cell_type": "code",
      "execution_count": 144,
      "metadata": {
        "id": "sV6mB-WBMc-l",
        "colab": {
          "base_uri": "https://localhost:8080/"
        },
        "outputId": "3a05b572-00ac-4bc6-fda9-2ac0d7ef534b"
      },
      "outputs": [
        {
          "output_type": "execute_result",
          "data": {
            "text/plain": [
              "array([['01.01.2018 00:01', 'read', 'country_7', '2458151261', 'SEO',\n",
              "        'North America'],\n",
              "       ['01.01.2018 00:03', 'read', 'country_7', '2458151262', 'SEO',\n",
              "        'South America'],\n",
              "       ['01.01.2018 00:04', 'read', 'country_7', '2458151263', 'AdWords',\n",
              "        'Africa'],\n",
              "       ...,\n",
              "       ['01.01.2018 23:59', 'read', 'country_6', '2458153053', 'Reddit',\n",
              "        'Asia'],\n",
              "       ['01.01.2018 23:59', 'read', 'country_7', '2458153054', 'AdWords',\n",
              "        'Europe'],\n",
              "       ['01.01.2018 23:59', 'read', 'country_5', '2458153055', 'Reddit',\n",
              "        'Asia']], dtype=object)"
            ]
          },
          "metadata": {},
          "execution_count": 144
        }
      ],
      "source": [
        "values"
      ]
    },
    {
      "cell_type": "markdown",
      "metadata": {
        "id": "pF-4EXbOMc-n"
      },
      "source": [
        "### Data types of the components"
      ]
    },
    {
      "cell_type": "code",
      "execution_count": 145,
      "metadata": {
        "id": "kcUBNR9AMc-n",
        "colab": {
          "base_uri": "https://localhost:8080/"
        },
        "outputId": "fa1c3798-38df-4e2f-de75-5c1980e84702"
      },
      "outputs": [
        {
          "output_type": "execute_result",
          "data": {
            "text/plain": [
              "pandas.core.indexes.range.RangeIndex"
            ]
          },
          "metadata": {},
          "execution_count": 145
        }
      ],
      "source": [
        "type(index)"
      ]
    },
    {
      "cell_type": "code",
      "execution_count": 146,
      "metadata": {
        "id": "iccy4ZE8Mc-p",
        "colab": {
          "base_uri": "https://localhost:8080/"
        },
        "outputId": "37e2f967-07eb-4229-81d3-a2b11cae9efa"
      },
      "outputs": [
        {
          "output_type": "execute_result",
          "data": {
            "text/plain": [
              "pandas.core.indexes.base.Index"
            ]
          },
          "metadata": {},
          "execution_count": 146
        }
      ],
      "source": [
        "type(columns)"
      ]
    },
    {
      "cell_type": "code",
      "execution_count": 147,
      "metadata": {
        "id": "wDBYWUCrMc-q",
        "colab": {
          "base_uri": "https://localhost:8080/"
        },
        "outputId": "dc24c953-8640-4fdb-e173-abe547b8e616"
      },
      "outputs": [
        {
          "output_type": "execute_result",
          "data": {
            "text/plain": [
              "numpy.ndarray"
            ]
          },
          "metadata": {},
          "execution_count": 147
        }
      ],
      "source": [
        "type(values)"
      ]
    },
    {
      "cell_type": "markdown",
      "metadata": {
        "id": "ihQFsP5DMc-s"
      },
      "source": [
        "\n",
        "The index and the columns are the same type: a pandas **`Index`** object (**`RangeIndex`** is of type **`Index`**), which is a sequence of labels for either the rows or the columns.\n",
        "\n",
        "The values are a NumPy **`ndarray`**, which stands for n-dimensional array, and is the primary container of data in the NumPy library. Pandas is built directly on top of NumPy."
      ]
    },
    {
      "cell_type": "markdown",
      "metadata": {
        "id": "NPZ-0mD_Mc-s"
      },
      "source": [
        "### Selecting columns\n",
        "\n",
        "If you want to select two particular columns you can do it like that:\n",
        "\n",
        "```data[['country', 'user_id']]``` \n",
        "\n",
        "or you can take the columns in a different order: \n",
        "\n",
        "```data[['user_id', 'country']]```.\n",
        "\n",
        "The way to remember the syntax is that outer brackets signify that you want to select columns, and the inner brackets are for the list itself.\n",
        "\n",
        "Try it out."
      ]
    },
    {
      "cell_type": "code",
      "execution_count": 147,
      "metadata": {
        "id": "aUEQ-RAlMc-t"
      },
      "outputs": [],
      "source": []
    },
    {
      "cell_type": "markdown",
      "metadata": {
        "id": "V6VtRZPtMc-u"
      },
      "source": [
        "The above returns a pandas.DataFrame. If you want to return a pandas.Series instead then you can use this syntax:\n",
        "\n",
        "```data.user_id ```\n",
        "\n",
        "or \n",
        "\n",
        "``` data['user_id'] ```"
      ]
    },
    {
      "cell_type": "code",
      "execution_count": 147,
      "metadata": {
        "id": "waGTpqepMc-u"
      },
      "outputs": [],
      "source": []
    },
    {
      "cell_type": "markdown",
      "metadata": {
        "id": "Nw3hClEJMc-w"
      },
      "source": [
        "If you want to filter one those users that came from SEO then you can write:\n",
        "\n",
        "``` data[data.source == 'SEO'] ```\n",
        "\n",
        "where the inner statement will create a boolean mask."
      ]
    },
    {
      "cell_type": "code",
      "execution_count": 147,
      "metadata": {
        "id": "gzpqqRYtMc-w"
      },
      "outputs": [],
      "source": []
    },
    {
      "cell_type": "markdown",
      "metadata": {
        "id": "RJYHORgqMc-x"
      },
      "source": [
        "### Chaining\n",
        "\n",
        "You can combine multiple selection methods as follows:\n",
        "\n",
        "``` data.head()[['country', 'user_id']] ```\n",
        "\n",
        "**CAUTION**: A thing to keep in mind is that when you use chaining you work on *copies* of the original DataFrame. So if you use chaining to change data, you may observe that the original DataFrame was not changed."
      ]
    },
    {
      "cell_type": "markdown",
      "metadata": {
        "id": "vYETQYsOMc-y"
      },
      "source": [
        "#### Exercice 1:\n",
        "Now it's your turn to solve an exercise and deepen your knowledge.\n",
        "\n",
        "Select the user_id, the country and the topic columns for the users who are from country_2 and show only the first 10 results"
      ]
    },
    {
      "cell_type": "code",
      "execution_count": 148,
      "metadata": {
        "id": "lg4wCaGiMc-z"
      },
      "outputs": [],
      "source": [
        "# enter your solution here."
      ]
    },
    {
      "cell_type": "markdown",
      "metadata": {
        "id": "ON8xtuzBdCoc"
      },
      "source": [
        "### Column Types\n",
        "\n",
        "Remember that each column/attribute of our data may have different attribute types. Have a look at the following table to understand the different DataTypes in Pandas and Python.\n",
        "\n",
        "| Pandas dtype  | Python type  | NumPy type|Usage\n",
        "| :--- | :--- | :--- | :--- |\n",
        "| object| str or mixed | string_, unicode_, mixed types| Text or mixed numeric and non_numeric values |\n",
        "| int 64| int| int_, int8, int16, int32, int64, uint8, uint18, uint32, uint64 | Integer numbers i.e. [1,2,3,...] |\n",
        "| float64| float| float_, float15, float32, float64 | Floating point numbers (They contain decimal points) |\n",
        "| bool| bool|bool_| True/False values|\n",
        "| datetime64 | NA | datetime64[ns]     | Date and time values  |\n",
        "| timedelta[ns] | NA  | NA| Differences between two datetime|\n",
        "| category | NA| NA| Finite list of text values|\n",
        "\n",
        "Although Pandas will correctly infer the type of data most of the times, it is important to check our columns and convert them if needed. Otherwise our results might get messed up.\n",
        "\n",
        "The function `.dtypes` allows us to see the type of each column. Run the following cell to see how it works:"
      ]
    },
    {
      "cell_type": "code",
      "execution_count": 149,
      "metadata": {
        "id": "N9reNjiHfRSj",
        "colab": {
          "base_uri": "https://localhost:8080/"
        },
        "outputId": "6dfe5625-f12f-48f5-9077-b8f78081c04a"
      },
      "outputs": [
        {
          "output_type": "execute_result",
          "data": {
            "text/plain": [
              "my_datetime    object\n",
              "event          object\n",
              "country        object\n",
              "user_id        object\n",
              "source         object\n",
              "topic          object\n",
              "dtype: object"
            ]
          },
          "metadata": {},
          "execution_count": 149
        }
      ],
      "source": [
        "data.dtypes"
      ]
    },
    {
      "cell_type": "markdown",
      "metadata": {
        "id": "-L2tFm-Kfzt6"
      },
      "source": [
        "We can see that altough most columns seem to have the correct type, we can still improve our DataFrame. Let's convert the [\"my_datetime\"] column to the \"datetime64\" type, so that Pandas knows this column contains Date and Time values.\n",
        "\n",
        "For this, the [.to_datetime()](https://https://pandas.pydata.org/pandas-docs/stable/reference/api/pandas.to_datetime.html) function might come in handy.\n"
      ]
    },
    {
      "cell_type": "code",
      "execution_count": 150,
      "metadata": {
        "id": "YGXheJTNh2gp",
        "colab": {
          "base_uri": "https://localhost:8080/"
        },
        "outputId": "ee953b02-4832-4ee2-d481-06a14f902962"
      },
      "outputs": [
        {
          "output_type": "execute_result",
          "data": {
            "text/plain": [
              "my_datetime    datetime64[ns]\n",
              "event                  object\n",
              "country                object\n",
              "user_id                object\n",
              "source                 object\n",
              "topic                  object\n",
              "dtype: object"
            ]
          },
          "metadata": {},
          "execution_count": 150
        }
      ],
      "source": [
        "# First, let's convert the column type\n",
        "data[\"my_datetime\"] = pd.to_datetime(data[\"my_datetime\"]) \n",
        "\n",
        "#Now let's have a look at the dtypes once again\n",
        "data.dtypes"
      ]
    },
    {
      "cell_type": "markdown",
      "metadata": {
        "id": "E2agT1bFijyS"
      },
      "source": [
        "The user_id column seems to contain integers. Pandas did not correctly infer it since some of the rows in this column are corrupted (they contain other values than integers). \n",
        "\n",
        "However, we can still use the `pd.to_numeric` function to convert the column to the correct type. We can use the `errors = 'coerce' argument to handle these errors. This will set all cells in the [\"user_id\"] column containing corrupted entries to NaN (Not a Number). \n",
        "\n",
        "Other possible values for \"errors=\" are:\n",
        " * `errors = raise` This will raise an error if it encounters an invalid entry\n",
        " * `errors = ignore` This will return the original data (the data we passed as an argument) if it encounters an error. No conversion will take place."
      ]
    },
    {
      "cell_type": "code",
      "execution_count": 151,
      "metadata": {
        "id": "RvklRN2uk8tg",
        "colab": {
          "base_uri": "https://localhost:8080/"
        },
        "outputId": "2265282a-f15d-4df6-c3ff-42b66723f010"
      },
      "outputs": [
        {
          "output_type": "execute_result",
          "data": {
            "text/plain": [
              "my_datetime    datetime64[ns]\n",
              "event                  object\n",
              "country                object\n",
              "user_id               float64\n",
              "source                 object\n",
              "topic                  object\n",
              "dtype: object"
            ]
          },
          "metadata": {},
          "execution_count": 151
        }
      ],
      "source": [
        "#Let's convert the column type \n",
        "data[\"user_id\"] = pd.to_numeric(data[\"user_id\"], errors='coerce')\n",
        "\n",
        "#Now let's have a look at the dtypes once again\n",
        "data.dtypes\n"
      ]
    },
    {
      "cell_type": "markdown",
      "metadata": {
        "id": "LPH8sxAu8xdT"
      },
      "source": [
        "Since the number of possible countries is limited, we can convert that column to the categorical type with the `.astype()` function: "
      ]
    },
    {
      "cell_type": "code",
      "execution_count": 152,
      "metadata": {
        "id": "ns2RWHFp9Asl",
        "colab": {
          "base_uri": "https://localhost:8080/"
        },
        "outputId": "22a78d01-f9aa-4a3d-8193-9828e90d5f33"
      },
      "outputs": [
        {
          "output_type": "execute_result",
          "data": {
            "text/plain": [
              "my_datetime    datetime64[ns]\n",
              "event                  object\n",
              "country              category\n",
              "user_id               float64\n",
              "source                 object\n",
              "topic                  object\n",
              "dtype: object"
            ]
          },
          "metadata": {},
          "execution_count": 152
        }
      ],
      "source": [
        "#Change dtype\n",
        "data['country'] = data['country'].astype('category')\n",
        "\n",
        "#Now let's have a look at the dtypes once again\n",
        "data.dtypes\n",
        "\n"
      ]
    },
    {
      "cell_type": "markdown",
      "metadata": {
        "id": "orVO6jOCyVPd"
      },
      "source": [
        "### Dropping missing values\n",
        "\n",
        "Since our column contained some corrupted data, those cells were set to NaN. \n",
        "The function `.isnull()` will return a DataFrame with values:\n",
        " * False for cells where the data is not null\n",
        " * True for cells where the data is null\n",
        "\n",
        "We can then use `.sum()` to sum all values where the latter is True."
      ]
    },
    {
      "cell_type": "code",
      "execution_count": 153,
      "metadata": {
        "id": "_gred764ziGW",
        "colab": {
          "base_uri": "https://localhost:8080/"
        },
        "outputId": "45e565e7-5d43-4807-a99f-e424c641834e"
      },
      "outputs": [
        {
          "output_type": "execute_result",
          "data": {
            "text/plain": [
              "my_datetime    0\n",
              "event          0\n",
              "country        0\n",
              "user_id        4\n",
              "source         0\n",
              "topic          0\n",
              "dtype: int64"
            ]
          },
          "metadata": {},
          "execution_count": 153
        }
      ],
      "source": [
        "#Let's see how many column values are missing\n",
        "data.isnull().sum()"
      ]
    },
    {
      "cell_type": "markdown",
      "metadata": {
        "id": "qOJDUQuC1Gu2"
      },
      "source": [
        "We can now remove the missing values with the `.dropna()` function.\n",
        "If no argument is passed, this function will drop all rows where at least one of the values is missing."
      ]
    },
    {
      "cell_type": "code",
      "execution_count": 154,
      "metadata": {
        "id": "-ENKXDKG1Rv0",
        "colab": {
          "base_uri": "https://localhost:8080/"
        },
        "outputId": "0124a60e-1a6c-454d-f3fd-0e0458d88cfc"
      },
      "outputs": [
        {
          "output_type": "execute_result",
          "data": {
            "text/plain": [
              "my_datetime    0\n",
              "event          0\n",
              "country        0\n",
              "user_id        0\n",
              "source         0\n",
              "topic          0\n",
              "dtype: int64"
            ]
          },
          "metadata": {},
          "execution_count": 154
        }
      ],
      "source": [
        "#We first drop all the rows\n",
        "data = data.dropna()\n",
        "\n",
        "#Let's have another look\n",
        "data.isnull().sum()\n"
      ]
    },
    {
      "cell_type": "markdown",
      "metadata": {
        "id": "-XtrLvjFMc-3"
      },
      "source": [
        "---\n",
        "## 2. Loading JSON files\n",
        "\n",
        "Many of the data in the Internet exists in JSON format which is a structured text format, and is very similar to a Python dictionary.\n",
        "\n",
        "We will see how to load a JSON dataset in a Pandas DataFrame.\n",
        "\n",
        "We will use the Citibike API that provides a real-time view of the Citibike stations in New York.\n",
        "The API call at http://www.citibikenyc.com/stations/json."
      ]
    },
    {
      "cell_type": "code",
      "execution_count": 155,
      "metadata": {
        "id": "IdSOwaauvc3U"
      },
      "outputs": [],
      "source": [
        "# Import libraries\n",
        "import pandas as pd\n",
        "\n",
        "# Display all columns\n",
        "pd.set_option('display.max_columns', None)\n",
        "# Display max 50 rows\n",
        "pd.set_option('display.max_rows', 50)"
      ]
    },
    {
      "cell_type": "code",
      "execution_count": 156,
      "metadata": {
        "id": "42hyYkTRvc3U"
      },
      "outputs": [],
      "source": [
        "# Read json file\n",
        "\n",
        "# import urllib library\n",
        "from urllib.request import urlopen\n",
        "  \n",
        "# import json\n",
        "import json\n",
        "# store the URL in url as \n",
        "# parameter for urlopen\n",
        "url = \"https://raw.githubusercontent.com/michalis0/Business-Intelligence-and-Analytics/master/labs/02%20-%20Pandas%20and%20Python/walkthroughs/data/station_information.json\"\n",
        "  \n",
        "# store the response of URL\n",
        "response = urlopen(url)\n",
        "  \n",
        "# storing the JSON response \n",
        "# from url in data\n",
        "data = json.loads(response.read())\n",
        "\n",
        "#uncomment to see how the data looks:\n",
        "#print(data)  "
      ]
    },
    {
      "cell_type": "code",
      "execution_count": 157,
      "metadata": {
        "id": "vsuOO0WKvc3V",
        "colab": {
          "base_uri": "https://localhost:8080/"
        },
        "outputId": "9a9950cf-c730-4c74-df29-613b7179e4c9"
      },
      "outputs": [
        {
          "output_type": "execute_result",
          "data": {
            "text/plain": [
              "dict_keys(['data', 'last_updated', 'ttl'])"
            ]
          },
          "metadata": {},
          "execution_count": 157
        }
      ],
      "source": [
        "# Below you see how the JSON file looks. The JSON results contain two keys:\n",
        "#  - The 'data' key contains all the data\n",
        "#  - The 'last_updated' key contains the timestamp of the last update\n",
        "#  - And the 'ttl' key contains the time to live of the data\n",
        "data.keys()"
      ]
    },
    {
      "cell_type": "code",
      "execution_count": 158,
      "metadata": {
        "id": "sCiLDwz-vc3V",
        "colab": {
          "base_uri": "https://localhost:8080/"
        },
        "outputId": "ef8ec3ac-8ed5-4a16-bdd7-e5f9001cefbe"
      },
      "outputs": [
        {
          "output_type": "execute_result",
          "data": {
            "text/plain": [
              "dict_keys(['stations'])"
            ]
          },
          "metadata": {},
          "execution_count": 158
        }
      ],
      "source": [
        "# The field \"data\" contains the information we want but it has a nested structure\n",
        "data[\"data\"].keys()\n",
        "# The field \"stations\" contains the actual data"
      ]
    },
    {
      "cell_type": "code",
      "execution_count": 159,
      "metadata": {
        "id": "LZRE6sAZvc3V",
        "colab": {
          "base_uri": "https://localhost:8080/",
          "height": 530
        },
        "outputId": "b6703892-e229-4257-ef54-8d89fb5a82fb"
      },
      "outputs": [
        {
          "output_type": "execute_result",
          "data": {
            "text/plain": [
              "                                station_id  \\\n",
              "1471                                  4572   \n",
              "844                                   3822   \n",
              "915                                   3896   \n",
              "359   66dd49eb-0aca-11e7-82f6-3863bb44ef7c   \n",
              "1041                                  4051   \n",
              "\n",
              "                                            rental_uris  has_kiosk region_id  \\\n",
              "1471  {'android': 'https://bkn.lft.to/lastmile_qr_sc...       True        71   \n",
              "844   {'android': 'https://bkn.lft.to/lastmile_qr_sc...       True        71   \n",
              "915   {'android': 'https://bkn.lft.to/lastmile_qr_sc...       True        71   \n",
              "359   {'android': 'https://bkn.lft.to/lastmile_qr_sc...       True        71   \n",
              "1041  {'android': 'https://bkn.lft.to/lastmile_qr_sc...       True        71   \n",
              "\n",
              "      electric_bike_surcharge_waiver  capacity        lat        lon  \\\n",
              "1471                           False        23  40.856987 -73.898237   \n",
              "844                            False        20  40.700760 -73.936410   \n",
              "915                            False        22  40.701830 -73.906250   \n",
              "359                            False        31  40.771639 -73.982614   \n",
              "1041                           False        26  40.834468 -73.939865   \n",
              "\n",
              "                               external_id     rental_methods  \\\n",
              "1471  191d5d54-de64-4312-99c7-eee141efa4ef  [KEY, CREDITCARD]   \n",
              "844   0575e356-72f4-4251-8e15-574cf60bd190  [KEY, CREDITCARD]   \n",
              "915   26cae473-0e59-4af7-bad5-bb6fec85c8bc  [KEY, CREDITCARD]   \n",
              "359   66dd49eb-0aca-11e7-82f6-3863bb44ef7c  [KEY, CREDITCARD]   \n",
              "1041  b83b2a73-af8e-4b82-b61e-aeaaf075fbe2  [KEY, CREDITCARD]   \n",
              "\n",
              "                             name eightd_station_services station_type  \\\n",
              "1471     Valentine Ave & E 183 St                      []      classic   \n",
              "844     Bushwick Ave & Forrest St                      []      classic   \n",
              "915       Madison St & Seneca Ave                      []      classic   \n",
              "359            W 63 St & Broadway                      []      classic   \n",
              "1041  W 160 St & St. Nicholas Ave                      []      classic   \n",
              "\n",
              "     legacy_id short_name  eightd_has_key_dispenser  \n",
              "1471      4572    8472.06                     False  \n",
              "844       3822    4914.03                     False  \n",
              "915       3896    4880.11                     False  \n",
              "359       3158    7052.01                     False  \n",
              "1041      4051    8138.07                     False  "
            ],
            "text/html": [
              "\n",
              "  <div id=\"df-3b72da98-c394-49b4-b7e8-eb261f061c47\">\n",
              "    <div class=\"colab-df-container\">\n",
              "      <div>\n",
              "<style scoped>\n",
              "    .dataframe tbody tr th:only-of-type {\n",
              "        vertical-align: middle;\n",
              "    }\n",
              "\n",
              "    .dataframe tbody tr th {\n",
              "        vertical-align: top;\n",
              "    }\n",
              "\n",
              "    .dataframe thead th {\n",
              "        text-align: right;\n",
              "    }\n",
              "</style>\n",
              "<table border=\"1\" class=\"dataframe\">\n",
              "  <thead>\n",
              "    <tr style=\"text-align: right;\">\n",
              "      <th></th>\n",
              "      <th>station_id</th>\n",
              "      <th>rental_uris</th>\n",
              "      <th>has_kiosk</th>\n",
              "      <th>region_id</th>\n",
              "      <th>electric_bike_surcharge_waiver</th>\n",
              "      <th>capacity</th>\n",
              "      <th>lat</th>\n",
              "      <th>lon</th>\n",
              "      <th>external_id</th>\n",
              "      <th>rental_methods</th>\n",
              "      <th>name</th>\n",
              "      <th>eightd_station_services</th>\n",
              "      <th>station_type</th>\n",
              "      <th>legacy_id</th>\n",
              "      <th>short_name</th>\n",
              "      <th>eightd_has_key_dispenser</th>\n",
              "    </tr>\n",
              "  </thead>\n",
              "  <tbody>\n",
              "    <tr>\n",
              "      <th>1471</th>\n",
              "      <td>4572</td>\n",
              "      <td>{'android': 'https://bkn.lft.to/lastmile_qr_sc...</td>\n",
              "      <td>True</td>\n",
              "      <td>71</td>\n",
              "      <td>False</td>\n",
              "      <td>23</td>\n",
              "      <td>40.856987</td>\n",
              "      <td>-73.898237</td>\n",
              "      <td>191d5d54-de64-4312-99c7-eee141efa4ef</td>\n",
              "      <td>[KEY, CREDITCARD]</td>\n",
              "      <td>Valentine Ave &amp; E 183 St</td>\n",
              "      <td>[]</td>\n",
              "      <td>classic</td>\n",
              "      <td>4572</td>\n",
              "      <td>8472.06</td>\n",
              "      <td>False</td>\n",
              "    </tr>\n",
              "    <tr>\n",
              "      <th>844</th>\n",
              "      <td>3822</td>\n",
              "      <td>{'android': 'https://bkn.lft.to/lastmile_qr_sc...</td>\n",
              "      <td>True</td>\n",
              "      <td>71</td>\n",
              "      <td>False</td>\n",
              "      <td>20</td>\n",
              "      <td>40.700760</td>\n",
              "      <td>-73.936410</td>\n",
              "      <td>0575e356-72f4-4251-8e15-574cf60bd190</td>\n",
              "      <td>[KEY, CREDITCARD]</td>\n",
              "      <td>Bushwick Ave &amp; Forrest St</td>\n",
              "      <td>[]</td>\n",
              "      <td>classic</td>\n",
              "      <td>3822</td>\n",
              "      <td>4914.03</td>\n",
              "      <td>False</td>\n",
              "    </tr>\n",
              "    <tr>\n",
              "      <th>915</th>\n",
              "      <td>3896</td>\n",
              "      <td>{'android': 'https://bkn.lft.to/lastmile_qr_sc...</td>\n",
              "      <td>True</td>\n",
              "      <td>71</td>\n",
              "      <td>False</td>\n",
              "      <td>22</td>\n",
              "      <td>40.701830</td>\n",
              "      <td>-73.906250</td>\n",
              "      <td>26cae473-0e59-4af7-bad5-bb6fec85c8bc</td>\n",
              "      <td>[KEY, CREDITCARD]</td>\n",
              "      <td>Madison St &amp; Seneca Ave</td>\n",
              "      <td>[]</td>\n",
              "      <td>classic</td>\n",
              "      <td>3896</td>\n",
              "      <td>4880.11</td>\n",
              "      <td>False</td>\n",
              "    </tr>\n",
              "    <tr>\n",
              "      <th>359</th>\n",
              "      <td>66dd49eb-0aca-11e7-82f6-3863bb44ef7c</td>\n",
              "      <td>{'android': 'https://bkn.lft.to/lastmile_qr_sc...</td>\n",
              "      <td>True</td>\n",
              "      <td>71</td>\n",
              "      <td>False</td>\n",
              "      <td>31</td>\n",
              "      <td>40.771639</td>\n",
              "      <td>-73.982614</td>\n",
              "      <td>66dd49eb-0aca-11e7-82f6-3863bb44ef7c</td>\n",
              "      <td>[KEY, CREDITCARD]</td>\n",
              "      <td>W 63 St &amp; Broadway</td>\n",
              "      <td>[]</td>\n",
              "      <td>classic</td>\n",
              "      <td>3158</td>\n",
              "      <td>7052.01</td>\n",
              "      <td>False</td>\n",
              "    </tr>\n",
              "    <tr>\n",
              "      <th>1041</th>\n",
              "      <td>4051</td>\n",
              "      <td>{'android': 'https://bkn.lft.to/lastmile_qr_sc...</td>\n",
              "      <td>True</td>\n",
              "      <td>71</td>\n",
              "      <td>False</td>\n",
              "      <td>26</td>\n",
              "      <td>40.834468</td>\n",
              "      <td>-73.939865</td>\n",
              "      <td>b83b2a73-af8e-4b82-b61e-aeaaf075fbe2</td>\n",
              "      <td>[KEY, CREDITCARD]</td>\n",
              "      <td>W 160 St &amp; St. Nicholas Ave</td>\n",
              "      <td>[]</td>\n",
              "      <td>classic</td>\n",
              "      <td>4051</td>\n",
              "      <td>8138.07</td>\n",
              "      <td>False</td>\n",
              "    </tr>\n",
              "  </tbody>\n",
              "</table>\n",
              "</div>\n",
              "      <button class=\"colab-df-convert\" onclick=\"convertToInteractive('df-3b72da98-c394-49b4-b7e8-eb261f061c47')\"\n",
              "              title=\"Convert this dataframe to an interactive table.\"\n",
              "              style=\"display:none;\">\n",
              "        \n",
              "  <svg xmlns=\"http://www.w3.org/2000/svg\" height=\"24px\"viewBox=\"0 0 24 24\"\n",
              "       width=\"24px\">\n",
              "    <path d=\"M0 0h24v24H0V0z\" fill=\"none\"/>\n",
              "    <path d=\"M18.56 5.44l.94 2.06.94-2.06 2.06-.94-2.06-.94-.94-2.06-.94 2.06-2.06.94zm-11 1L8.5 8.5l.94-2.06 2.06-.94-2.06-.94L8.5 2.5l-.94 2.06-2.06.94zm10 10l.94 2.06.94-2.06 2.06-.94-2.06-.94-.94-2.06-.94 2.06-2.06.94z\"/><path d=\"M17.41 7.96l-1.37-1.37c-.4-.4-.92-.59-1.43-.59-.52 0-1.04.2-1.43.59L10.3 9.45l-7.72 7.72c-.78.78-.78 2.05 0 2.83L4 21.41c.39.39.9.59 1.41.59.51 0 1.02-.2 1.41-.59l7.78-7.78 2.81-2.81c.8-.78.8-2.07 0-2.86zM5.41 20L4 18.59l7.72-7.72 1.47 1.35L5.41 20z\"/>\n",
              "  </svg>\n",
              "      </button>\n",
              "      \n",
              "  <style>\n",
              "    .colab-df-container {\n",
              "      display:flex;\n",
              "      flex-wrap:wrap;\n",
              "      gap: 12px;\n",
              "    }\n",
              "\n",
              "    .colab-df-convert {\n",
              "      background-color: #E8F0FE;\n",
              "      border: none;\n",
              "      border-radius: 50%;\n",
              "      cursor: pointer;\n",
              "      display: none;\n",
              "      fill: #1967D2;\n",
              "      height: 32px;\n",
              "      padding: 0 0 0 0;\n",
              "      width: 32px;\n",
              "    }\n",
              "\n",
              "    .colab-df-convert:hover {\n",
              "      background-color: #E2EBFA;\n",
              "      box-shadow: 0px 1px 2px rgba(60, 64, 67, 0.3), 0px 1px 3px 1px rgba(60, 64, 67, 0.15);\n",
              "      fill: #174EA6;\n",
              "    }\n",
              "\n",
              "    [theme=dark] .colab-df-convert {\n",
              "      background-color: #3B4455;\n",
              "      fill: #D2E3FC;\n",
              "    }\n",
              "\n",
              "    [theme=dark] .colab-df-convert:hover {\n",
              "      background-color: #434B5C;\n",
              "      box-shadow: 0px 1px 3px 1px rgba(0, 0, 0, 0.15);\n",
              "      filter: drop-shadow(0px 1px 2px rgba(0, 0, 0, 0.3));\n",
              "      fill: #FFFFFF;\n",
              "    }\n",
              "  </style>\n",
              "\n",
              "      <script>\n",
              "        const buttonEl =\n",
              "          document.querySelector('#df-3b72da98-c394-49b4-b7e8-eb261f061c47 button.colab-df-convert');\n",
              "        buttonEl.style.display =\n",
              "          google.colab.kernel.accessAllowed ? 'block' : 'none';\n",
              "\n",
              "        async function convertToInteractive(key) {\n",
              "          const element = document.querySelector('#df-3b72da98-c394-49b4-b7e8-eb261f061c47');\n",
              "          const dataTable =\n",
              "            await google.colab.kernel.invokeFunction('convertToInteractive',\n",
              "                                                     [key], {});\n",
              "          if (!dataTable) return;\n",
              "\n",
              "          const docLinkHtml = 'Like what you see? Visit the ' +\n",
              "            '<a target=\"_blank\" href=https://colab.research.google.com/notebooks/data_table.ipynb>data table notebook</a>'\n",
              "            + ' to learn more about interactive tables.';\n",
              "          element.innerHTML = '';\n",
              "          dataTable['output_type'] = 'display_data';\n",
              "          await google.colab.output.renderOutput(dataTable, element);\n",
              "          const docLink = document.createElement('div');\n",
              "          docLink.innerHTML = docLinkHtml;\n",
              "          element.appendChild(docLink);\n",
              "        }\n",
              "      </script>\n",
              "    </div>\n",
              "  </div>\n",
              "  "
            ]
          },
          "metadata": {},
          "execution_count": 159
        }
      ],
      "source": [
        "# We can convert the nested dictionary to a pandas dataframe\n",
        "# We want to extract the data from the key \"data\"\n",
        "df_info = pd.DataFrame(data[\"data\"][\"stations\"])\n",
        "df_info.sample(5)"
      ]
    },
    {
      "cell_type": "code",
      "execution_count": 160,
      "metadata": {
        "id": "zyTjJ6-5vc3W",
        "colab": {
          "base_uri": "https://localhost:8080/"
        },
        "outputId": "e5d52e61-7414-47c4-8163-301d661dc171"
      },
      "outputs": [
        {
          "output_type": "execute_result",
          "data": {
            "text/plain": [
              "station_id                         object\n",
              "rental_uris                        object\n",
              "has_kiosk                            bool\n",
              "region_id                          object\n",
              "electric_bike_surcharge_waiver       bool\n",
              "capacity                            int64\n",
              "lat                               float64\n",
              "lon                               float64\n",
              "external_id                        object\n",
              "rental_methods                     object\n",
              "name                               object\n",
              "eightd_station_services            object\n",
              "station_type                       object\n",
              "legacy_id                          object\n",
              "short_name                         object\n",
              "eightd_has_key_dispenser             bool\n",
              "dtype: object"
            ]
          },
          "metadata": {},
          "execution_count": 160
        }
      ],
      "source": [
        "# Display types of each column\n",
        "df_info.dtypes"
      ]
    },
    {
      "cell_type": "code",
      "execution_count": 161,
      "metadata": {
        "id": "brOhicEjvc3W"
      },
      "outputs": [],
      "source": [
        "# Replace NAN value of all integer fields by 0\n",
        "df_info.fillna(0, inplace=True)"
      ]
    },
    {
      "cell_type": "markdown",
      "metadata": {
        "id": "5wHkwCavvc3W"
      },
      "source": [
        "---\n",
        "For the following questions, you may find usefull to use the following functions:\n",
        "- `describe()`,\n",
        "- `mean()`,\n",
        "- `groupby()`,\n",
        "- `where()`,\n",
        "- `sort_values()`\n",
        "\n",
        "You will find more information about them on the offcial documentation."
      ]
    },
    {
      "cell_type": "markdown",
      "metadata": {
        "id": "ts8TUGJvvc3W"
      },
      "source": [
        "__Question 2.1:__ Add a column nammed `ebike_prop` which contains the proportion of available e-bikes among all available bikes. That is we want the following ratio expressed in percenatge : $$\\frac{num \\ ebikes \\ available}{num \\ ebikes \\ available + num \\ bikes \\ available}$$"
      ]
    },
    {
      "cell_type": "code",
      "execution_count": 162,
      "metadata": {
        "id": "QgGyrdvmvc3X",
        "colab": {
          "base_uri": "https://localhost:8080/",
          "height": 530
        },
        "outputId": "189682b7-6b85-4932-fe9f-ba9ab7a051aa"
      },
      "outputs": [
        {
          "output_type": "execute_result",
          "data": {
            "text/plain": [
              "                             station_id  \\\n",
              "0  66dd17a5-0aca-11e7-82f6-3863bb44ef7c   \n",
              "1  66dc10d1-0aca-11e7-82f6-3863bb44ef7c   \n",
              "2  66dbee85-0aca-11e7-82f6-3863bb44ef7c   \n",
              "3  66dcc37f-0aca-11e7-82f6-3863bb44ef7c   \n",
              "4  66dc7ba2-0aca-11e7-82f6-3863bb44ef7c   \n",
              "\n",
              "                                         rental_uris  has_kiosk region_id  \\\n",
              "0  {'android': 'https://bkn.lft.to/lastmile_qr_sc...       True        71   \n",
              "1  {'android': 'https://bkn.lft.to/lastmile_qr_sc...       True        71   \n",
              "2  {'android': 'https://bkn.lft.to/lastmile_qr_sc...       True        71   \n",
              "3  {'android': 'https://bkn.lft.to/lastmile_qr_sc...       True        71   \n",
              "4  {'android': 'https://bkn.lft.to/lastmile_qr_sc...       True        71   \n",
              "\n",
              "   electric_bike_surcharge_waiver  capacity        lat        lon  \\\n",
              "0                           False        51  40.724813 -73.947526   \n",
              "1                           False        45  40.726218 -73.983799   \n",
              "2                           False        75  40.684157 -73.969223   \n",
              "3                           False        23  40.688334 -73.950916   \n",
              "4                           False        43  40.729387 -73.977724   \n",
              "\n",
              "                            external_id     rental_methods  \\\n",
              "0  66dd17a5-0aca-11e7-82f6-3863bb44ef7c  [KEY, CREDITCARD]   \n",
              "1  66dc10d1-0aca-11e7-82f6-3863bb44ef7c  [KEY, CREDITCARD]   \n",
              "2  66dbee85-0aca-11e7-82f6-3863bb44ef7c  [KEY, CREDITCARD]   \n",
              "3  66dcc37f-0aca-11e7-82f6-3863bb44ef7c  [KEY, CREDITCARD]   \n",
              "4  66dc7ba2-0aca-11e7-82f6-3863bb44ef7c  [KEY, CREDITCARD]   \n",
              "\n",
              "                        name eightd_station_services station_type legacy_id  \\\n",
              "0     Nassau Ave & Newell St                      []      classic      3100   \n",
              "1          E 7 St & Avenue A                      []      classic       432   \n",
              "2   Fulton St & Clermont Ave                      []      classic       397   \n",
              "3  Greene Ave & Nostrand Ave                      []      classic      3055   \n",
              "4         E 14 St & Avenue B                      []      classic       511   \n",
              "\n",
              "  short_name  eightd_has_key_dispenser ebike_prop  \n",
              "0    5623.03                     False   Ellipsis  \n",
              "1    5626.07                     False   Ellipsis  \n",
              "2    4386.05                     False   Ellipsis  \n",
              "3    4519.02                     False   Ellipsis  \n",
              "4    5736.09                     False   Ellipsis  "
            ],
            "text/html": [
              "\n",
              "  <div id=\"df-96e519d0-47f5-43f9-841c-37874d50be2e\">\n",
              "    <div class=\"colab-df-container\">\n",
              "      <div>\n",
              "<style scoped>\n",
              "    .dataframe tbody tr th:only-of-type {\n",
              "        vertical-align: middle;\n",
              "    }\n",
              "\n",
              "    .dataframe tbody tr th {\n",
              "        vertical-align: top;\n",
              "    }\n",
              "\n",
              "    .dataframe thead th {\n",
              "        text-align: right;\n",
              "    }\n",
              "</style>\n",
              "<table border=\"1\" class=\"dataframe\">\n",
              "  <thead>\n",
              "    <tr style=\"text-align: right;\">\n",
              "      <th></th>\n",
              "      <th>station_id</th>\n",
              "      <th>rental_uris</th>\n",
              "      <th>has_kiosk</th>\n",
              "      <th>region_id</th>\n",
              "      <th>electric_bike_surcharge_waiver</th>\n",
              "      <th>capacity</th>\n",
              "      <th>lat</th>\n",
              "      <th>lon</th>\n",
              "      <th>external_id</th>\n",
              "      <th>rental_methods</th>\n",
              "      <th>name</th>\n",
              "      <th>eightd_station_services</th>\n",
              "      <th>station_type</th>\n",
              "      <th>legacy_id</th>\n",
              "      <th>short_name</th>\n",
              "      <th>eightd_has_key_dispenser</th>\n",
              "      <th>ebike_prop</th>\n",
              "    </tr>\n",
              "  </thead>\n",
              "  <tbody>\n",
              "    <tr>\n",
              "      <th>0</th>\n",
              "      <td>66dd17a5-0aca-11e7-82f6-3863bb44ef7c</td>\n",
              "      <td>{'android': 'https://bkn.lft.to/lastmile_qr_sc...</td>\n",
              "      <td>True</td>\n",
              "      <td>71</td>\n",
              "      <td>False</td>\n",
              "      <td>51</td>\n",
              "      <td>40.724813</td>\n",
              "      <td>-73.947526</td>\n",
              "      <td>66dd17a5-0aca-11e7-82f6-3863bb44ef7c</td>\n",
              "      <td>[KEY, CREDITCARD]</td>\n",
              "      <td>Nassau Ave &amp; Newell St</td>\n",
              "      <td>[]</td>\n",
              "      <td>classic</td>\n",
              "      <td>3100</td>\n",
              "      <td>5623.03</td>\n",
              "      <td>False</td>\n",
              "      <td>Ellipsis</td>\n",
              "    </tr>\n",
              "    <tr>\n",
              "      <th>1</th>\n",
              "      <td>66dc10d1-0aca-11e7-82f6-3863bb44ef7c</td>\n",
              "      <td>{'android': 'https://bkn.lft.to/lastmile_qr_sc...</td>\n",
              "      <td>True</td>\n",
              "      <td>71</td>\n",
              "      <td>False</td>\n",
              "      <td>45</td>\n",
              "      <td>40.726218</td>\n",
              "      <td>-73.983799</td>\n",
              "      <td>66dc10d1-0aca-11e7-82f6-3863bb44ef7c</td>\n",
              "      <td>[KEY, CREDITCARD]</td>\n",
              "      <td>E 7 St &amp; Avenue A</td>\n",
              "      <td>[]</td>\n",
              "      <td>classic</td>\n",
              "      <td>432</td>\n",
              "      <td>5626.07</td>\n",
              "      <td>False</td>\n",
              "      <td>Ellipsis</td>\n",
              "    </tr>\n",
              "    <tr>\n",
              "      <th>2</th>\n",
              "      <td>66dbee85-0aca-11e7-82f6-3863bb44ef7c</td>\n",
              "      <td>{'android': 'https://bkn.lft.to/lastmile_qr_sc...</td>\n",
              "      <td>True</td>\n",
              "      <td>71</td>\n",
              "      <td>False</td>\n",
              "      <td>75</td>\n",
              "      <td>40.684157</td>\n",
              "      <td>-73.969223</td>\n",
              "      <td>66dbee85-0aca-11e7-82f6-3863bb44ef7c</td>\n",
              "      <td>[KEY, CREDITCARD]</td>\n",
              "      <td>Fulton St &amp; Clermont Ave</td>\n",
              "      <td>[]</td>\n",
              "      <td>classic</td>\n",
              "      <td>397</td>\n",
              "      <td>4386.05</td>\n",
              "      <td>False</td>\n",
              "      <td>Ellipsis</td>\n",
              "    </tr>\n",
              "    <tr>\n",
              "      <th>3</th>\n",
              "      <td>66dcc37f-0aca-11e7-82f6-3863bb44ef7c</td>\n",
              "      <td>{'android': 'https://bkn.lft.to/lastmile_qr_sc...</td>\n",
              "      <td>True</td>\n",
              "      <td>71</td>\n",
              "      <td>False</td>\n",
              "      <td>23</td>\n",
              "      <td>40.688334</td>\n",
              "      <td>-73.950916</td>\n",
              "      <td>66dcc37f-0aca-11e7-82f6-3863bb44ef7c</td>\n",
              "      <td>[KEY, CREDITCARD]</td>\n",
              "      <td>Greene Ave &amp; Nostrand Ave</td>\n",
              "      <td>[]</td>\n",
              "      <td>classic</td>\n",
              "      <td>3055</td>\n",
              "      <td>4519.02</td>\n",
              "      <td>False</td>\n",
              "      <td>Ellipsis</td>\n",
              "    </tr>\n",
              "    <tr>\n",
              "      <th>4</th>\n",
              "      <td>66dc7ba2-0aca-11e7-82f6-3863bb44ef7c</td>\n",
              "      <td>{'android': 'https://bkn.lft.to/lastmile_qr_sc...</td>\n",
              "      <td>True</td>\n",
              "      <td>71</td>\n",
              "      <td>False</td>\n",
              "      <td>43</td>\n",
              "      <td>40.729387</td>\n",
              "      <td>-73.977724</td>\n",
              "      <td>66dc7ba2-0aca-11e7-82f6-3863bb44ef7c</td>\n",
              "      <td>[KEY, CREDITCARD]</td>\n",
              "      <td>E 14 St &amp; Avenue B</td>\n",
              "      <td>[]</td>\n",
              "      <td>classic</td>\n",
              "      <td>511</td>\n",
              "      <td>5736.09</td>\n",
              "      <td>False</td>\n",
              "      <td>Ellipsis</td>\n",
              "    </tr>\n",
              "  </tbody>\n",
              "</table>\n",
              "</div>\n",
              "      <button class=\"colab-df-convert\" onclick=\"convertToInteractive('df-96e519d0-47f5-43f9-841c-37874d50be2e')\"\n",
              "              title=\"Convert this dataframe to an interactive table.\"\n",
              "              style=\"display:none;\">\n",
              "        \n",
              "  <svg xmlns=\"http://www.w3.org/2000/svg\" height=\"24px\"viewBox=\"0 0 24 24\"\n",
              "       width=\"24px\">\n",
              "    <path d=\"M0 0h24v24H0V0z\" fill=\"none\"/>\n",
              "    <path d=\"M18.56 5.44l.94 2.06.94-2.06 2.06-.94-2.06-.94-.94-2.06-.94 2.06-2.06.94zm-11 1L8.5 8.5l.94-2.06 2.06-.94-2.06-.94L8.5 2.5l-.94 2.06-2.06.94zm10 10l.94 2.06.94-2.06 2.06-.94-2.06-.94-.94-2.06-.94 2.06-2.06.94z\"/><path d=\"M17.41 7.96l-1.37-1.37c-.4-.4-.92-.59-1.43-.59-.52 0-1.04.2-1.43.59L10.3 9.45l-7.72 7.72c-.78.78-.78 2.05 0 2.83L4 21.41c.39.39.9.59 1.41.59.51 0 1.02-.2 1.41-.59l7.78-7.78 2.81-2.81c.8-.78.8-2.07 0-2.86zM5.41 20L4 18.59l7.72-7.72 1.47 1.35L5.41 20z\"/>\n",
              "  </svg>\n",
              "      </button>\n",
              "      \n",
              "  <style>\n",
              "    .colab-df-container {\n",
              "      display:flex;\n",
              "      flex-wrap:wrap;\n",
              "      gap: 12px;\n",
              "    }\n",
              "\n",
              "    .colab-df-convert {\n",
              "      background-color: #E8F0FE;\n",
              "      border: none;\n",
              "      border-radius: 50%;\n",
              "      cursor: pointer;\n",
              "      display: none;\n",
              "      fill: #1967D2;\n",
              "      height: 32px;\n",
              "      padding: 0 0 0 0;\n",
              "      width: 32px;\n",
              "    }\n",
              "\n",
              "    .colab-df-convert:hover {\n",
              "      background-color: #E2EBFA;\n",
              "      box-shadow: 0px 1px 2px rgba(60, 64, 67, 0.3), 0px 1px 3px 1px rgba(60, 64, 67, 0.15);\n",
              "      fill: #174EA6;\n",
              "    }\n",
              "\n",
              "    [theme=dark] .colab-df-convert {\n",
              "      background-color: #3B4455;\n",
              "      fill: #D2E3FC;\n",
              "    }\n",
              "\n",
              "    [theme=dark] .colab-df-convert:hover {\n",
              "      background-color: #434B5C;\n",
              "      box-shadow: 0px 1px 3px 1px rgba(0, 0, 0, 0.15);\n",
              "      filter: drop-shadow(0px 1px 2px rgba(0, 0, 0, 0.3));\n",
              "      fill: #FFFFFF;\n",
              "    }\n",
              "  </style>\n",
              "\n",
              "      <script>\n",
              "        const buttonEl =\n",
              "          document.querySelector('#df-96e519d0-47f5-43f9-841c-37874d50be2e button.colab-df-convert');\n",
              "        buttonEl.style.display =\n",
              "          google.colab.kernel.accessAllowed ? 'block' : 'none';\n",
              "\n",
              "        async function convertToInteractive(key) {\n",
              "          const element = document.querySelector('#df-96e519d0-47f5-43f9-841c-37874d50be2e');\n",
              "          const dataTable =\n",
              "            await google.colab.kernel.invokeFunction('convertToInteractive',\n",
              "                                                     [key], {});\n",
              "          if (!dataTable) return;\n",
              "\n",
              "          const docLinkHtml = 'Like what you see? Visit the ' +\n",
              "            '<a target=\"_blank\" href=https://colab.research.google.com/notebooks/data_table.ipynb>data table notebook</a>'\n",
              "            + ' to learn more about interactive tables.';\n",
              "          element.innerHTML = '';\n",
              "          dataTable['output_type'] = 'display_data';\n",
              "          await google.colab.output.renderOutput(dataTable, element);\n",
              "          const docLink = document.createElement('div');\n",
              "          docLink.innerHTML = docLinkHtml;\n",
              "          element.appendChild(docLink);\n",
              "        }\n",
              "      </script>\n",
              "    </div>\n",
              "  </div>\n",
              "  "
            ]
          },
          "metadata": {},
          "execution_count": 162
        }
      ],
      "source": [
        "# Add column with the proportion of e-bikes available\n",
        "df_info[\"ebike_prop\"] = ... # enter your solution here\n",
        "df_info.head()"
      ]
    },
    {
      "cell_type": "markdown",
      "metadata": {
        "id": "4mZ3r3yrvc3X"
      },
      "source": [
        "__Question 2.2:__ What are the `station_id` of the stations with the greatest proportion of available e-bikes ? Display the first 5 stations."
      ]
    },
    {
      "cell_type": "code",
      "execution_count": 163,
      "metadata": {
        "id": "LuvIgy8Ivc3Y"
      },
      "outputs": [],
      "source": [
        "# enter your solution here"
      ]
    },
    {
      "cell_type": "markdown",
      "metadata": {
        "id": "yKixlJIZvc3Y"
      },
      "source": [
        "__Question 2.3:__ What are the `station_id` of the stations with the greatest proportion of available e-bikes where the number of available e-bikes is greater or equal to 10 (so that you can maximize your chances to get an e-bike by the time you reach the station) ? Display the first 10 stations id with the proportion, number of docks of the station and the number of bikes available."
      ]
    },
    {
      "cell_type": "code",
      "execution_count": 164,
      "metadata": {
        "id": "378ph2E7vc3Z"
      },
      "outputs": [],
      "source": [
        "# enter your solution here"
      ]
    },
    {
      "cell_type": "markdown",
      "metadata": {
        "id": "nUPJVJiLvc3Z"
      },
      "source": [
        "__Question 2.4:__ It is often interesting to find simple statistics about a column like the mean, or the highest values. Whhat is the proportion of stations with a proportion of available e-bikes >= 50 % ? Same question for a proportion of 75 %."
      ]
    },
    {
      "cell_type": "code",
      "execution_count": 165,
      "metadata": {
        "id": "ywmQVyqYvc3Z"
      },
      "outputs": [],
      "source": [
        "# Display the statistics of the initial data file for the newly_created column \"ebike_prop\"\n",
        "# enter your solution here"
      ]
    },
    {
      "cell_type": "markdown",
      "metadata": {
        "id": "ez35041svc3a"
      },
      "source": [
        "__Question 2.5:__ Print the number of disabled bikes in the entire network."
      ]
    },
    {
      "cell_type": "code",
      "execution_count": 166,
      "metadata": {
        "id": "2Bm5UcTavc3a"
      },
      "outputs": [],
      "source": [
        "# enter your solution here"
      ]
    },
    {
      "cell_type": "markdown",
      "metadata": {
        "id": "hZhwxyTjvc3a"
      },
      "source": [
        "__Question 2.6:__ Count the number of stations with at least 5 bikes unavailable. Display the following fields:\n",
        "- station_id,\n",
        "- station_status,\n",
        "- num_bikes_available,\n",
        "- num_docks_available,\n",
        "- num_bikes_disabled"
      ]
    },
    {
      "cell_type": "markdown",
      "metadata": {
        "id": "ESYgL8A7Mc_P"
      },
      "source": [
        "---\n",
        "## Writing the data to a CSV\n",
        "\n",
        "With the above, we just scratched the surface of what it means to do data processing.\n",
        "\n",
        "After you did your basic data processing, you may want to save the DataFrame in a new CSV file, so that you don't have to repeat the same pre-processing everytime. You can use the [to_csv](https://datatofish.com/export-dataframe-to-csv/) function.\n",
        "\n",
        "**Note**: When you use Google Colab, this file will only be saved in your temporary virtual machine space and will be deleted once your Colab instance is closed (i.e. you close the window). If you want to explore more permanent solutions of saving your file look [here](https://colab.research.google.com/notebooks/io.ipynb).\n"
      ]
    },
    {
      "cell_type": "code",
      "execution_count": 167,
      "metadata": {
        "id": "geghC3KjMc_Q"
      },
      "outputs": [],
      "source": [
        "# uncomment the following to save the file\n",
        "# df.to_csv(\"my_new_file.csv\", sep=\",\")"
      ]
    }
  ],
  "metadata": {
    "colab": {
      "collapsed_sections": [
        "RJYHORgqMc-x"
      ],
      "provenance": [],
      "include_colab_link": true
    },
    "kernel_info": {
      "name": "python3"
    },
    "kernelspec": {
      "display_name": "base",
      "language": "python",
      "name": "python3"
    },
    "language_info": {
      "codemirror_mode": {
        "name": "ipython",
        "version": 3
      },
      "file_extension": ".py",
      "mimetype": "text/x-python",
      "name": "python",
      "nbconvert_exporter": "python",
      "pygments_lexer": "ipython3",
      "version": "3.9.15"
    },
    "nteract": {
      "version": "0.15.0"
    },
    "vscode": {
      "interpreter": {
        "hash": "b0cc462c96df3621bcc58e01fadcdf9264a069c5c4bbf07201077bb349d3c6bf"
      }
    }
  },
  "nbformat": 4,
  "nbformat_minor": 0
}