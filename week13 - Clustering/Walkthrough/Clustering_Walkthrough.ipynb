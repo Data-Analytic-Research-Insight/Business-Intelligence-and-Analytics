{
  "nbformat": 4,
  "nbformat_minor": 0,
  "metadata": {
    "colab": {
      "name": "Week11_Walkthrough_Clustering.ipynb",
      "provenance": [],
      "collapsed_sections": [],
      "include_colab_link": true
    },
    "kernelspec": {
      "display_name": "Python 3",
      "language": "python",
      "name": "python3"
    },
    "language_info": {
      "codemirror_mode": {
        "name": "ipython",
        "version": 3
      },
      "file_extension": ".py",
      "mimetype": "text/x-python",
      "name": "python",
      "nbconvert_exporter": "python",
      "pygments_lexer": "ipython3",
      "version": "3.7.7"
    }
  },
  "cells": [
    {
      "cell_type": "markdown",
      "metadata": {
        "id": "view-in-github",
        "colab_type": "text"
      },
      "source": [
        "<a href=\"https://colab.research.google.com/github/michalis0/Business-Intelligence-and-Analytics/blob/master/week13%20-%20Clustering/Walkthrough/Clustering_Walkthrough.ipynb\" target=\"_parent\"><img src=\"https://colab.research.google.com/assets/colab-badge.svg\" alt=\"Open In Colab\"/></a>"
      ]
    },
    {
      "cell_type": "markdown",
      "metadata": {
        "id": "pmL212ek75bh"
      },
      "source": [
        "#Clustering\n",
        "\n",
        "**Goal**: Learn how to use K-means and Hierarchial clustering."
      ]
    },
    {
      "cell_type": "code",
      "metadata": {
        "id": "LQP1xZ8p1i_7"
      },
      "source": [
        "import pandas as pd\n",
        "import numpy as np\n",
        "import sklearn.metrics as sm\n",
        "import matplotlib.pyplot as plt\n",
        "from sklearn.cluster import KMeans\n",
        "from sklearn import datasets"
      ],
      "execution_count": 1,
      "outputs": []
    },
    {
      "cell_type": "markdown",
      "metadata": {
        "id": "FjB9fn6A8TB8"
      },
      "source": [
        "#The Dataset\n",
        "The dataset we're going to use in this walkthrough is the iris one, which contains 3 differents types of irises.</br>\n",
        "This dataset is composed of the width and length of both the sepal and petal of the irises. We're going clustering according to its length and width.\n",
        "\n",
        "This dataset is provided in the `sklearn` library and is well known.\n",
        "\n",
        "\n",
        " "
      ]
    },
    {
      "cell_type": "code",
      "metadata": {
        "id": "9NUKDjkz1oF3"
      },
      "source": [
        "iris = datasets.load_iris()"
      ],
      "execution_count": 2,
      "outputs": []
    },
    {
      "cell_type": "code",
      "metadata": {
        "id": "J6QxAAAN1ub1",
        "colab": {
          "base_uri": "https://localhost:8080/"
        },
        "outputId": "37efb0d3-5919-4086-8438-cc3626723cd8"
      },
      "source": [
        "print(\"The different types of irises are:\",iris.target_names)\n",
        "print(\"They are encoded as:\", iris.target)"
      ],
      "execution_count": 3,
      "outputs": [
        {
          "output_type": "stream",
          "text": [
            "The different types of irises are: ['setosa' 'versicolor' 'virginica']\n",
            "They are encoded as: [0 0 0 0 0 0 0 0 0 0 0 0 0 0 0 0 0 0 0 0 0 0 0 0 0 0 0 0 0 0 0 0 0 0 0 0 0\n",
            " 0 0 0 0 0 0 0 0 0 0 0 0 0 1 1 1 1 1 1 1 1 1 1 1 1 1 1 1 1 1 1 1 1 1 1 1 1\n",
            " 1 1 1 1 1 1 1 1 1 1 1 1 1 1 1 1 1 1 1 1 1 1 1 1 1 1 2 2 2 2 2 2 2 2 2 2 2\n",
            " 2 2 2 2 2 2 2 2 2 2 2 2 2 2 2 2 2 2 2 2 2 2 2 2 2 2 2 2 2 2 2 2 2 2 2 2 2\n",
            " 2 2]\n"
          ],
          "name": "stdout"
        }
      ]
    },
    {
      "cell_type": "markdown",
      "metadata": {
        "id": "HQgvvzvB9A-f"
      },
      "source": [
        "As you can see, the **iris** dataset is numpy array.<br>\n",
        "\n",
        "For a better visualization, we're going to transform it into a `pandas dataframe`.</br>\n",
        "**Hint:** We can use the numpy array as it is for the k-means Clustering.\n"
      ]
    },
    {
      "cell_type": "code",
      "metadata": {
        "id": "q3zKL6oe12yg",
        "colab": {
          "base_uri": "https://localhost:8080/",
          "height": 195
        },
        "outputId": "ccf5e70f-d58a-481e-da4d-7f033b4e60c4"
      },
      "source": [
        "X = pd.DataFrame(iris.data, columns=iris.feature_names)\n",
        "X.head()"
      ],
      "execution_count": 4,
      "outputs": [
        {
          "output_type": "execute_result",
          "data": {
            "text/html": [
              "<div>\n",
              "<style scoped>\n",
              "    .dataframe tbody tr th:only-of-type {\n",
              "        vertical-align: middle;\n",
              "    }\n",
              "\n",
              "    .dataframe tbody tr th {\n",
              "        vertical-align: top;\n",
              "    }\n",
              "\n",
              "    .dataframe thead th {\n",
              "        text-align: right;\n",
              "    }\n",
              "</style>\n",
              "<table border=\"1\" class=\"dataframe\">\n",
              "  <thead>\n",
              "    <tr style=\"text-align: right;\">\n",
              "      <th></th>\n",
              "      <th>sepal length (cm)</th>\n",
              "      <th>sepal width (cm)</th>\n",
              "      <th>petal length (cm)</th>\n",
              "      <th>petal width (cm)</th>\n",
              "    </tr>\n",
              "  </thead>\n",
              "  <tbody>\n",
              "    <tr>\n",
              "      <th>0</th>\n",
              "      <td>5.1</td>\n",
              "      <td>3.5</td>\n",
              "      <td>1.4</td>\n",
              "      <td>0.2</td>\n",
              "    </tr>\n",
              "    <tr>\n",
              "      <th>1</th>\n",
              "      <td>4.9</td>\n",
              "      <td>3.0</td>\n",
              "      <td>1.4</td>\n",
              "      <td>0.2</td>\n",
              "    </tr>\n",
              "    <tr>\n",
              "      <th>2</th>\n",
              "      <td>4.7</td>\n",
              "      <td>3.2</td>\n",
              "      <td>1.3</td>\n",
              "      <td>0.2</td>\n",
              "    </tr>\n",
              "    <tr>\n",
              "      <th>3</th>\n",
              "      <td>4.6</td>\n",
              "      <td>3.1</td>\n",
              "      <td>1.5</td>\n",
              "      <td>0.2</td>\n",
              "    </tr>\n",
              "    <tr>\n",
              "      <th>4</th>\n",
              "      <td>5.0</td>\n",
              "      <td>3.6</td>\n",
              "      <td>1.4</td>\n",
              "      <td>0.2</td>\n",
              "    </tr>\n",
              "  </tbody>\n",
              "</table>\n",
              "</div>"
            ],
            "text/plain": [
              "   sepal length (cm)  sepal width (cm)  petal length (cm)  petal width (cm)\n",
              "0                5.1               3.5                1.4               0.2\n",
              "1                4.9               3.0                1.4               0.2\n",
              "2                4.7               3.2                1.3               0.2\n",
              "3                4.6               3.1                1.5               0.2\n",
              "4                5.0               3.6                1.4               0.2"
            ]
          },
          "metadata": {
            "tags": []
          },
          "execution_count": 4
        }
      ]
    },
    {
      "cell_type": "code",
      "metadata": {
        "id": "lRDDxdQP2HNy",
        "colab": {
          "base_uri": "https://localhost:8080/",
          "height": 195
        },
        "outputId": "579bd6d0-2fc3-4b70-d177-20c8d1eb66fc"
      },
      "source": [
        "y=pd.DataFrame(iris.target, columns=[\"Targets\"])\n",
        "y.head()"
      ],
      "execution_count": 5,
      "outputs": [
        {
          "output_type": "execute_result",
          "data": {
            "text/html": [
              "<div>\n",
              "<style scoped>\n",
              "    .dataframe tbody tr th:only-of-type {\n",
              "        vertical-align: middle;\n",
              "    }\n",
              "\n",
              "    .dataframe tbody tr th {\n",
              "        vertical-align: top;\n",
              "    }\n",
              "\n",
              "    .dataframe thead th {\n",
              "        text-align: right;\n",
              "    }\n",
              "</style>\n",
              "<table border=\"1\" class=\"dataframe\">\n",
              "  <thead>\n",
              "    <tr style=\"text-align: right;\">\n",
              "      <th></th>\n",
              "      <th>Targets</th>\n",
              "    </tr>\n",
              "  </thead>\n",
              "  <tbody>\n",
              "    <tr>\n",
              "      <th>0</th>\n",
              "      <td>0</td>\n",
              "    </tr>\n",
              "    <tr>\n",
              "      <th>1</th>\n",
              "      <td>0</td>\n",
              "    </tr>\n",
              "    <tr>\n",
              "      <th>2</th>\n",
              "      <td>0</td>\n",
              "    </tr>\n",
              "    <tr>\n",
              "      <th>3</th>\n",
              "      <td>0</td>\n",
              "    </tr>\n",
              "    <tr>\n",
              "      <th>4</th>\n",
              "      <td>0</td>\n",
              "    </tr>\n",
              "  </tbody>\n",
              "</table>\n",
              "</div>"
            ],
            "text/plain": [
              "   Targets\n",
              "0        0\n",
              "1        0\n",
              "2        0\n",
              "3        0\n",
              "4        0"
            ]
          },
          "metadata": {
            "tags": []
          },
          "execution_count": 5
        }
      ]
    },
    {
      "cell_type": "markdown",
      "metadata": {
        "id": "BBoG7MUKBIQ4"
      },
      "source": [
        "##K-Means\n",
        "We're going to use the K-Means provided by the `sklearn` library.<br>\n",
        "For illustration, we're going to do two Kmeans:\n",
        "\n",
        "*   K-means with **3 clusters**\n",
        "*   K-means with **5 clusters**\n",
        "\n",
        "The one with **5 clusters** is only for illustration, because we know already that there are only 3 differents types of iris in the dataset.\n",
        "\n",
        "\n"
      ]
    },
    {
      "cell_type": "code",
      "metadata": {
        "id": "qCMGWXcS3AQa",
        "colab": {
          "base_uri": "https://localhost:8080/"
        },
        "outputId": "cdb9654c-582c-4534-ec90-2b958ccd2860"
      },
      "source": [
        "model3=KMeans(n_clusters=3, random_state=0) #3 clusters\n",
        "model5=KMeans(n_clusters=5, random_state=0) #5 clusters\n",
        "model3.fit(X)\n",
        "model5.fit(X)"
      ],
      "execution_count": 6,
      "outputs": [
        {
          "output_type": "execute_result",
          "data": {
            "text/plain": [
              "KMeans(algorithm='auto', copy_x=True, init='k-means++', max_iter=300,\n",
              "       n_clusters=5, n_init=10, n_jobs=None, precompute_distances='auto',\n",
              "       random_state=0, tol=0.0001, verbose=0)"
            ]
          },
          "metadata": {
            "tags": []
          },
          "execution_count": 6
        }
      ]
    },
    {
      "cell_type": "markdown",
      "metadata": {
        "id": "vhLYtg3sCJ9a"
      },
      "source": [
        "In the following two outputs, you're going to find the results of our two K-means."
      ]
    },
    {
      "cell_type": "code",
      "metadata": {
        "id": "flWm5YCK3W7w",
        "colab": {
          "base_uri": "https://localhost:8080/"
        },
        "outputId": "d7552227-1bd2-44b0-99bb-16b7df9c4267"
      },
      "source": [
        "print(model3.labels_)"
      ],
      "execution_count": 7,
      "outputs": [
        {
          "output_type": "stream",
          "text": [
            "[1 1 1 1 1 1 1 1 1 1 1 1 1 1 1 1 1 1 1 1 1 1 1 1 1 1 1 1 1 1 1 1 1 1 1 1 1\n",
            " 1 1 1 1 1 1 1 1 1 1 1 1 1 2 2 0 2 2 2 2 2 2 2 2 2 2 2 2 2 2 2 2 2 2 2 2 2\n",
            " 2 2 2 0 2 2 2 2 2 2 2 2 2 2 2 2 2 2 2 2 2 2 2 2 2 2 0 2 0 0 0 0 2 0 0 0 0\n",
            " 0 0 2 2 0 0 0 0 2 0 2 0 2 0 0 2 2 0 0 0 0 0 2 0 0 0 0 2 0 0 0 2 0 0 0 2 0\n",
            " 0 2]\n"
          ],
          "name": "stdout"
        }
      ]
    },
    {
      "cell_type": "code",
      "metadata": {
        "id": "NCWqdM656rHv",
        "colab": {
          "base_uri": "https://localhost:8080/"
        },
        "outputId": "97eb6dea-5ec9-4454-c80b-2a5143c4d774"
      },
      "source": [
        "print(model5.labels_)"
      ],
      "execution_count": 8,
      "outputs": [
        {
          "output_type": "stream",
          "text": [
            "[0 0 0 0 0 0 0 0 0 0 0 0 0 0 0 0 0 0 0 0 0 0 0 0 0 0 0 0 0 0 0 0 0 0 0 0 0\n",
            " 0 0 0 0 0 0 0 0 0 0 0 0 0 4 4 4 3 4 4 4 3 4 3 3 4 3 4 3 4 4 3 4 3 4 3 4 4\n",
            " 4 4 4 4 4 3 3 3 3 4 3 4 4 4 3 3 3 4 3 3 3 3 3 4 3 3 1 4 2 1 1 2 3 2 1 2 1\n",
            " 1 1 4 1 1 1 2 2 4 1 4 2 4 1 2 4 4 1 2 2 2 1 4 4 2 1 1 4 1 1 1 4 1 1 1 4 1\n",
            " 1 4]\n"
          ],
          "name": "stdout"
        }
      ]
    },
    {
      "cell_type": "markdown",
      "metadata": {
        "id": "8fFZdMceCmQd"
      },
      "source": [
        "###Graphical Representation\n",
        "The output (labels) of the K-means can easily be plotted in a 2D representation.<br>\n",
        "Below, you can find the scatter plot according to `\"sepal length (cm)\"` by `\"sepal width (cm)\"` (only two of the four features used)."
      ]
    },
    {
      "cell_type": "code",
      "metadata": {
        "id": "0FrmfOvb3K8K",
        "colab": {
          "base_uri": "https://localhost:8080/",
          "height": 312
        },
        "outputId": "56116e6a-f8c1-458f-dd1e-93aa62117f68"
      },
      "source": [
        "plt.scatter(X[\"sepal length (cm)\"], X[\"sepal width (cm)\"])\n",
        "plt.xlabel(X.columns[0])\n",
        "plt.ylabel(X.columns[1])\n",
        "plt.title(\"Raw data\")"
      ],
      "execution_count": 9,
      "outputs": [
        {
          "output_type": "execute_result",
          "data": {
            "text/plain": [
              "Text(0.5, 1.0, 'Raw data')"
            ]
          },
          "metadata": {
            "tags": []
          },
          "execution_count": 9
        },
        {
          "output_type": "display_data",
          "data": {
            "image/png": "[encoded data removed]",
            "text/plain": [
              "<Figure size 432x288 with 1 Axes>"
            ]
          },
          "metadata": {
            "tags": [],
            "needs_background": "light"
          }
        }
      ]
    },
    {
      "cell_type": "markdown",
      "metadata": {
        "id": "XmG4b-P2EXf9"
      },
      "source": [
        "Here we're going to visualize how **K-means** performs for the different numbers of clusters."
      ]
    },
    {
      "cell_type": "code",
      "metadata": {
        "id": "HhtQMOYy3o8Z",
        "colab": {
          "base_uri": "https://localhost:8080/",
          "height": 573
        },
        "outputId": "a942fd17-302b-4698-9e4b-76042eb0a892"
      },
      "source": [
        "plt.scatter(X[\"sepal length (cm)\"], X[\"sepal width (cm)\"], c=model3.labels_)\n",
        "plt.xlabel(X.columns[0])\n",
        "plt.ylabel(X.columns[1])\n",
        "plt.title(\"3 Clusters\")\n",
        "plt.show()\n",
        "\n",
        "plt.scatter(X[\"sepal length (cm)\"], X[\"sepal width (cm)\"], c=model5.labels_)\n",
        "plt.xlabel(X.columns[0])\n",
        "plt.ylabel(X.columns[1])\n",
        "plt.title(\"5 Clusters\")\n",
        "plt.show()"
      ],
      "execution_count": 10,
      "outputs": [
        {
          "output_type": "display_data",
          "data": {
            "image/png": "[encoded data removed]",
            "text/plain": [
              "<Figure size 432x288 with 1 Axes>"
            ]
          },
          "metadata": {
            "tags": [],
            "needs_background": "light"
          }
        },
        {
          "output_type": "display_data",
          "data": {
            "image/png": "[encoded data removed]",
            "text/plain": [
              "<Figure size 432x288 with 1 Axes>"
            ]
          },
          "metadata": {
            "tags": [],
            "needs_background": "light"
          }
        }
      ]
    },
    {
      "cell_type": "markdown",
      "metadata": {
        "id": "Q-tnIyRBEsZK"
      },
      "source": [
        "Here we're going to see how the \"real\" classification looks like. However, usually, we cannot do that because clustering is mostly used without knowing the target variable."
      ]
    },
    {
      "cell_type": "code",
      "metadata": {
        "id": "E24ACnXz6aFK",
        "colab": {
          "base_uri": "https://localhost:8080/",
          "height": 285
        },
        "outputId": "9b6cc957-9816-42bb-a9d4-0642459ab515"
      },
      "source": [
        "plt.scatter(X[\"sepal length (cm)\"], X[\"sepal width (cm)\"], c=y[\"Targets\"])"
      ],
      "execution_count": 11,
      "outputs": [
        {
          "output_type": "execute_result",
          "data": {
            "text/plain": [
              "<matplotlib.collections.PathCollection at 0x7f33b87cb210>"
            ]
          },
          "metadata": {
            "tags": []
          },
          "execution_count": 11
        },
        {
          "output_type": "display_data",
          "data": {
            "image/png": "[encoded data removed]",
            "text/plain": [
              "<Figure size 432x288 with 1 Axes>"
            ]
          },
          "metadata": {
            "tags": [],
            "needs_background": "light"
          }
        }
      ]
    },
    {
      "cell_type": "markdown",
      "metadata": {
        "id": "OfAgKfo1E4nE"
      },
      "source": [
        "So if we take our 3 cluster K-means, how accurate is it? To perform this we count the number of matches we have between the labels predicted by the model and the target.\n",
        "\n",
        "However, we first need to reorder the encoding because it seems that the labels do not match.\n",
        "\n",
        "| \"True\" Label | \"Model\" Label |\n",
        "| :---: | :---: |\n",
        "| 0 | 1 |\n",
        "| 1 | 2 |\n",
        "| 2 | 0 |\n",
        "\n",
        "**Note:** Remenber that in the general case we do not have the target variable (unsupervised learning), meaning that we cannot compute the accuracy (ratio of correct over total predictions). Therefore, other metrics like the inertia are used to evaluate the model."
      ]
    },
    {
      "cell_type": "code",
      "metadata": {
        "id": "agNm_5Jwm1mf",
        "colab": {
          "base_uri": "https://localhost:8080/"
        },
        "outputId": "44517867-e42d-4c46-f058-45e4b581f441"
      },
      "source": [
        "iris.target"
      ],
      "execution_count": 12,
      "outputs": [
        {
          "output_type": "execute_result",
          "data": {
            "text/plain": [
              "array([0, 0, 0, 0, 0, 0, 0, 0, 0, 0, 0, 0, 0, 0, 0, 0, 0, 0, 0, 0, 0, 0,\n",
              "       0, 0, 0, 0, 0, 0, 0, 0, 0, 0, 0, 0, 0, 0, 0, 0, 0, 0, 0, 0, 0, 0,\n",
              "       0, 0, 0, 0, 0, 0, 1, 1, 1, 1, 1, 1, 1, 1, 1, 1, 1, 1, 1, 1, 1, 1,\n",
              "       1, 1, 1, 1, 1, 1, 1, 1, 1, 1, 1, 1, 1, 1, 1, 1, 1, 1, 1, 1, 1, 1,\n",
              "       1, 1, 1, 1, 1, 1, 1, 1, 1, 1, 1, 1, 2, 2, 2, 2, 2, 2, 2, 2, 2, 2,\n",
              "       2, 2, 2, 2, 2, 2, 2, 2, 2, 2, 2, 2, 2, 2, 2, 2, 2, 2, 2, 2, 2, 2,\n",
              "       2, 2, 2, 2, 2, 2, 2, 2, 2, 2, 2, 2, 2, 2, 2, 2, 2, 2])"
            ]
          },
          "metadata": {
            "tags": []
          },
          "execution_count": 12
        }
      ]
    },
    {
      "cell_type": "code",
      "metadata": {
        "id": "QwgJmMDVm_aI",
        "colab": {
          "base_uri": "https://localhost:8080/"
        },
        "outputId": "e420553b-f985-4a03-d920-da9c889f5146"
      },
      "source": [
        "model3.labels_"
      ],
      "execution_count": 13,
      "outputs": [
        {
          "output_type": "execute_result",
          "data": {
            "text/plain": [
              "array([1, 1, 1, 1, 1, 1, 1, 1, 1, 1, 1, 1, 1, 1, 1, 1, 1, 1, 1, 1, 1, 1,\n",
              "       1, 1, 1, 1, 1, 1, 1, 1, 1, 1, 1, 1, 1, 1, 1, 1, 1, 1, 1, 1, 1, 1,\n",
              "       1, 1, 1, 1, 1, 1, 2, 2, 0, 2, 2, 2, 2, 2, 2, 2, 2, 2, 2, 2, 2, 2,\n",
              "       2, 2, 2, 2, 2, 2, 2, 2, 2, 2, 2, 0, 2, 2, 2, 2, 2, 2, 2, 2, 2, 2,\n",
              "       2, 2, 2, 2, 2, 2, 2, 2, 2, 2, 2, 2, 0, 2, 0, 0, 0, 0, 2, 0, 0, 0,\n",
              "       0, 0, 0, 2, 2, 0, 0, 0, 0, 2, 0, 2, 0, 2, 0, 0, 2, 2, 0, 0, 0, 0,\n",
              "       0, 2, 0, 0, 0, 0, 2, 0, 0, 0, 2, 0, 0, 0, 2, 0, 0, 2], dtype=int32)"
            ]
          },
          "metadata": {
            "tags": []
          },
          "execution_count": 13
        }
      ]
    },
    {
      "cell_type": "code",
      "metadata": {
        "id": "LvJ1XVmNnlvM",
        "colab": {
          "base_uri": "https://localhost:8080/"
        },
        "outputId": "69a40a30-368f-4c0b-e8a9-7ebb3d0692e7"
      },
      "source": [
        "reordered_target = np.zeros(len(iris.target))        #put 0 everywhere \n",
        "reordered_target[np.where(iris.target==0)[0]] = 1    #put 1 where the iris.target = 0\n",
        "reordered_target[np.where(iris.target==1)[0]] = 2    #put 2 where the iris.target = 1\n",
        "reordered_target[np.where(iris.target==2)[0]] = 0    #put 0 where the iris.target = 2\n",
        "reordered_target"
      ],
      "execution_count": 14,
      "outputs": [
        {
          "output_type": "execute_result",
          "data": {
            "text/plain": [
              "array([1., 1., 1., 1., 1., 1., 1., 1., 1., 1., 1., 1., 1., 1., 1., 1., 1.,\n",
              "       1., 1., 1., 1., 1., 1., 1., 1., 1., 1., 1., 1., 1., 1., 1., 1., 1.,\n",
              "       1., 1., 1., 1., 1., 1., 1., 1., 1., 1., 1., 1., 1., 1., 1., 1., 2.,\n",
              "       2., 2., 2., 2., 2., 2., 2., 2., 2., 2., 2., 2., 2., 2., 2., 2., 2.,\n",
              "       2., 2., 2., 2., 2., 2., 2., 2., 2., 2., 2., 2., 2., 2., 2., 2., 2.,\n",
              "       2., 2., 2., 2., 2., 2., 2., 2., 2., 2., 2., 2., 2., 2., 2., 0., 0.,\n",
              "       0., 0., 0., 0., 0., 0., 0., 0., 0., 0., 0., 0., 0., 0., 0., 0., 0.,\n",
              "       0., 0., 0., 0., 0., 0., 0., 0., 0., 0., 0., 0., 0., 0., 0., 0., 0.,\n",
              "       0., 0., 0., 0., 0., 0., 0., 0., 0., 0., 0., 0., 0., 0.])"
            ]
          },
          "metadata": {
            "tags": []
          },
          "execution_count": 14
        }
      ]
    },
    {
      "cell_type": "code",
      "metadata": {
        "id": "yuNrvq-JCNaN",
        "colab": {
          "base_uri": "https://localhost:8080/"
        },
        "outputId": "e5caeb5f-5f7a-4c7c-e1b4-8f655b30198c"
      },
      "source": [
        "# how accurate are the k-means labels\n",
        "sum([1 if x else 0 for x in (model3.labels_ == reordered_target)]) / len(model3.labels_)"
      ],
      "execution_count": 15,
      "outputs": [
        {
          "output_type": "execute_result",
          "data": {
            "text/plain": [
              "0.8933333333333333"
            ]
          },
          "metadata": {
            "tags": []
          },
          "execution_count": 15
        }
      ]
    },
    {
      "cell_type": "markdown",
      "metadata": {
        "id": "Tl26TuQ65sZS"
      },
      "source": [
        "##Elbow method\n",
        "We will now apply the **K-means** algorithm to estimate the number of clusters. For this, we will use the **The Elbow Method** ([further reading](https://en.wikipedia.org/wiki/Elbow_method_(clustering))).  \n",
        "\n",
        "This method consists in plotting the explained variation as a function of the number of clusters, and picking the elbow of the curve (**inertia**) as the number of clusters to use. The intuition is that increasing the number of clusters will naturally improve the fit (explain more of the variation), since there are more parameters (more clusters). However, this will at some point result in **over-fitting**, which the elbow reflects. \n",
        "\n",
        "Using the KMeans module from sklearn, we will iteratively apply the K-means algorithm, save the parameter `inertia_` (i.e sum of squared distances of samples to their closest cluster center). Then plot the inertia compared to the number of clusters. Knowing that the elbow method tells us to select the cluster when there is a significant change in inertia, find the possible elbow point (possible number of cluster).\n",
        "\n",
        "How many clusters could you use now?"
      ]
    },
    {
      "cell_type": "code",
      "metadata": {
        "id": "2Odv1IPc6BiN",
        "colab": {
          "base_uri": "https://localhost:8080/",
          "height": 312
        },
        "outputId": "554fe5b6-8586-4ba3-ab31-b171cd32d8b0"
      },
      "source": [
        "inertias = []\n",
        "nbr_clusters = range(1,11)\n",
        "\n",
        "for i in nbr_clusters:\n",
        "    km = KMeans(n_clusters=i, random_state=0).fit(X)\n",
        "    inertias.append(km.inertia_)\n",
        "    \n",
        "plt.plot(nbr_clusters, inertias, '-o')\n",
        "plt.title('Elbow method for inertia')\n",
        "plt.xlabel('Clusters')\n",
        "plt.ylabel('Inertia')"
      ],
      "execution_count": 16,
      "outputs": [
        {
          "output_type": "execute_result",
          "data": {
            "text/plain": [
              "Text(0, 0.5, 'Inertia')"
            ]
          },
          "metadata": {
            "tags": []
          },
          "execution_count": 16
        },
        {
          "output_type": "display_data",
          "data": {
            "image/png": "[encoded data removed]",
            "text/plain": [
              "<Figure size 432x288 with 1 Axes>"
            ]
          },
          "metadata": {
            "tags": [],
            "needs_background": "light"
          }
        }
      ]
    },
    {
      "cell_type": "markdown",
      "metadata": {
        "id": "y18tbZw1FVrm"
      },
      "source": [
        "## Hierarchial clustering\n",
        "We're going to use the `AgglomerativeClustering` function provided by the `sklearn` library. This will help us do the hierarchial clustering<br>\n"
      ]
    },
    {
      "cell_type": "code",
      "metadata": {
        "id": "9ZbB48dmGUzf"
      },
      "source": [
        "from sklearn.cluster import AgglomerativeClustering"
      ],
      "execution_count": 17,
      "outputs": []
    },
    {
      "cell_type": "markdown",
      "metadata": {
        "id": "lrktWdtpQWCR"
      },
      "source": [
        "Below, we're going to creat and fit the model."
      ]
    },
    {
      "cell_type": "code",
      "metadata": {
        "id": "NbpDjYOQGXxw",
        "colab": {
          "base_uri": "https://localhost:8080/"
        },
        "outputId": "f37c9a08-fd28-4c89-be96-d0e6c5025381"
      },
      "source": [
        "clustering3 = AgglomerativeClustering(n_clusters=3)\n",
        "clustering3.fit(X, y)"
      ],
      "execution_count": 18,
      "outputs": [
        {
          "output_type": "execute_result",
          "data": {
            "text/plain": [
              "AgglomerativeClustering(affinity='euclidean', compute_full_tree='auto',\n",
              "                        connectivity=None, distance_threshold=None,\n",
              "                        linkage='ward', memory=None, n_clusters=3)"
            ]
          },
          "metadata": {
            "tags": []
          },
          "execution_count": 18
        }
      ]
    },
    {
      "cell_type": "markdown",
      "metadata": {
        "id": "RPUE6leXQcFv"
      },
      "source": [
        "Like before, we take a look at the \"reponse\" the model gave us and the original ones."
      ]
    },
    {
      "cell_type": "code",
      "metadata": {
        "id": "jIWdvGIhG7I2",
        "colab": {
          "base_uri": "https://localhost:8080/"
        },
        "outputId": "e6482e83-bd8e-451d-c1d2-ff7fa6fa5dad"
      },
      "source": [
        "clustering3.labels_"
      ],
      "execution_count": 19,
      "outputs": [
        {
          "output_type": "execute_result",
          "data": {
            "text/plain": [
              "array([1, 1, 1, 1, 1, 1, 1, 1, 1, 1, 1, 1, 1, 1, 1, 1, 1, 1, 1, 1, 1, 1,\n",
              "       1, 1, 1, 1, 1, 1, 1, 1, 1, 1, 1, 1, 1, 1, 1, 1, 1, 1, 1, 1, 1, 1,\n",
              "       1, 1, 1, 1, 1, 1, 0, 0, 0, 0, 0, 0, 0, 0, 0, 0, 0, 0, 0, 0, 0, 0,\n",
              "       0, 0, 0, 0, 0, 0, 0, 0, 0, 0, 0, 2, 0, 0, 0, 0, 0, 0, 0, 0, 0, 0,\n",
              "       0, 0, 0, 0, 0, 0, 0, 0, 0, 0, 0, 0, 2, 0, 2, 2, 2, 2, 0, 2, 2, 2,\n",
              "       2, 2, 2, 0, 0, 2, 2, 2, 2, 0, 2, 0, 2, 0, 2, 2, 0, 0, 2, 2, 2, 2,\n",
              "       2, 0, 0, 2, 2, 2, 0, 2, 2, 2, 0, 2, 2, 2, 0, 2, 2, 0])"
            ]
          },
          "metadata": {
            "tags": []
          },
          "execution_count": 19
        }
      ]
    },
    {
      "cell_type": "code",
      "metadata": {
        "id": "j-ddownjHWHM",
        "colab": {
          "base_uri": "https://localhost:8080/"
        },
        "outputId": "0e0c7384-cb10-4513-92c8-4d679748763f"
      },
      "source": [
        "iris.target"
      ],
      "execution_count": 20,
      "outputs": [
        {
          "output_type": "execute_result",
          "data": {
            "text/plain": [
              "array([0, 0, 0, 0, 0, 0, 0, 0, 0, 0, 0, 0, 0, 0, 0, 0, 0, 0, 0, 0, 0, 0,\n",
              "       0, 0, 0, 0, 0, 0, 0, 0, 0, 0, 0, 0, 0, 0, 0, 0, 0, 0, 0, 0, 0, 0,\n",
              "       0, 0, 0, 0, 0, 0, 1, 1, 1, 1, 1, 1, 1, 1, 1, 1, 1, 1, 1, 1, 1, 1,\n",
              "       1, 1, 1, 1, 1, 1, 1, 1, 1, 1, 1, 1, 1, 1, 1, 1, 1, 1, 1, 1, 1, 1,\n",
              "       1, 1, 1, 1, 1, 1, 1, 1, 1, 1, 1, 1, 2, 2, 2, 2, 2, 2, 2, 2, 2, 2,\n",
              "       2, 2, 2, 2, 2, 2, 2, 2, 2, 2, 2, 2, 2, 2, 2, 2, 2, 2, 2, 2, 2, 2,\n",
              "       2, 2, 2, 2, 2, 2, 2, 2, 2, 2, 2, 2, 2, 2, 2, 2, 2, 2])"
            ]
          },
          "metadata": {
            "tags": []
          },
          "execution_count": 20
        }
      ]
    },
    {
      "cell_type": "markdown",
      "metadata": {
        "id": "CT1lZPSUQl_M"
      },
      "source": [
        "As we can see, the encoding of our Hierachical clustering is not the same as the original target.<br>\n",
        "In order to compar them, we're going to reorder the `iris.target`.\n",
        "\n",
        "| \"True\" label | \"Model\" label |\n",
        "| :---: | :---: |\n",
        "| 0 | 1 |\n",
        "| 1 | 0 |\n",
        "| 2 | 2 |"
      ]
    },
    {
      "cell_type": "code",
      "metadata": {
        "id": "m7xhIeDRHUvx",
        "colab": {
          "base_uri": "https://localhost:8080/"
        },
        "outputId": "b07810c3-2a2a-43c5-842b-24312f3e0543"
      },
      "source": [
        "reordered_target = np.zeros(len(iris.target))        #put 0 everywhere \n",
        "reordered_target[np.where(iris.target==0)[0]] = 1    #put 1 where the iris.target = 0\n",
        "reordered_target[np.where(iris.target==2)[0]] = 2    #put 2 where the iris.target = 2\n",
        "reordered_target"
      ],
      "execution_count": 21,
      "outputs": [
        {
          "output_type": "execute_result",
          "data": {
            "text/plain": [
              "array([1., 1., 1., 1., 1., 1., 1., 1., 1., 1., 1., 1., 1., 1., 1., 1., 1.,\n",
              "       1., 1., 1., 1., 1., 1., 1., 1., 1., 1., 1., 1., 1., 1., 1., 1., 1.,\n",
              "       1., 1., 1., 1., 1., 1., 1., 1., 1., 1., 1., 1., 1., 1., 1., 1., 0.,\n",
              "       0., 0., 0., 0., 0., 0., 0., 0., 0., 0., 0., 0., 0., 0., 0., 0., 0.,\n",
              "       0., 0., 0., 0., 0., 0., 0., 0., 0., 0., 0., 0., 0., 0., 0., 0., 0.,\n",
              "       0., 0., 0., 0., 0., 0., 0., 0., 0., 0., 0., 0., 0., 0., 0., 2., 2.,\n",
              "       2., 2., 2., 2., 2., 2., 2., 2., 2., 2., 2., 2., 2., 2., 2., 2., 2.,\n",
              "       2., 2., 2., 2., 2., 2., 2., 2., 2., 2., 2., 2., 2., 2., 2., 2., 2.,\n",
              "       2., 2., 2., 2., 2., 2., 2., 2., 2., 2., 2., 2., 2., 2.])"
            ]
          },
          "metadata": {
            "tags": []
          },
          "execution_count": 21
        }
      ]
    },
    {
      "cell_type": "markdown",
      "metadata": {
        "id": "AxryGoS0Q9op"
      },
      "source": [
        "Here we can see that the final result is the same as the one of the K-means. Therefore, it comes to no surprize that the accuracy is the same."
      ]
    },
    {
      "cell_type": "code",
      "metadata": {
        "id": "iLPWxoiSHJA0",
        "colab": {
          "base_uri": "https://localhost:8080/"
        },
        "outputId": "4afcb860-1a8a-4217-a0d5-ebf1b93ead95"
      },
      "source": [
        "sum([1 if x else 0 for x in (clustering3.labels_ == reordered_target)]) / len(clustering3.labels_)"
      ],
      "execution_count": 22,
      "outputs": [
        {
          "output_type": "execute_result",
          "data": {
            "text/plain": [
              "0.8933333333333333"
            ]
          },
          "metadata": {
            "tags": []
          },
          "execution_count": 22
        }
      ]
    },
    {
      "cell_type": "markdown",
      "metadata": {
        "id": "KNkGyA6eJ7Sc"
      },
      "source": [
        "## Runtime of both Clustering Types\n",
        "Here we want to see the computation time needed for the **Kmeans** and the **Hierarchial** clusterings.\n",
        "\n",
        "For this we use `%%time` which will provide the computation time.\n",
        "\n"
      ]
    },
    {
      "cell_type": "code",
      "metadata": {
        "id": "5JY25NP8JjIc",
        "colab": {
          "base_uri": "https://localhost:8080/"
        },
        "outputId": "74f87fc2-8e1a-4ca4-d485-bcdd9be4818c"
      },
      "source": [
        "%%time\n",
        "clustering3 = AgglomerativeClustering(n_clusters=3)\n",
        "clustering3.fit(X, y)"
      ],
      "execution_count": 23,
      "outputs": [
        {
          "output_type": "stream",
          "text": [
            "CPU times: user 2.74 ms, sys: 0 ns, total: 2.74 ms\n",
            "Wall time: 2.94 ms\n"
          ],
          "name": "stdout"
        }
      ]
    },
    {
      "cell_type": "code",
      "metadata": {
        "id": "RGBAWR48Jojs",
        "colab": {
          "base_uri": "https://localhost:8080/"
        },
        "outputId": "7d26aeac-566a-4443-9491-d69586a38cc2"
      },
      "source": [
        "%%time\n",
        "model3=KMeans(n_clusters=3)\n",
        "model3.fit(X)"
      ],
      "execution_count": 24,
      "outputs": [
        {
          "output_type": "stream",
          "text": [
            "CPU times: user 40.6 ms, sys: 0 ns, total: 40.6 ms\n",
            "Wall time: 43.9 ms\n"
          ],
          "name": "stdout"
        }
      ]
    },
    {
      "cell_type": "markdown",
      "metadata": {
        "id": "X5N1b2aNfT-q"
      },
      "source": [
        "**Note:** This dataset is small (150 observations), which is why kmeans takes longer than hierarchical clustering. However, generally, hierarchical clustering takes much longer than kmeans, which you will experience in the exercise."
      ]
    },
    {
      "cell_type": "markdown",
      "metadata": {
        "id": "xuS9ADQNLQEJ"
      },
      "source": [
        "###Dendogram visualization\n",
        "\n",
        "In this section, we're going to present a simple way to create a **Dendogram**.<br>\n",
        "To do it, we're going to use the `scipy.cluster.hierarchy` library. In this library, we're going to use: \n",
        "\n",
        "\n",
        "*   `dendogram`: It allow us to plot the dendogram.\n",
        "*   `linkage`: It allows us to specify the type of linkage between the cluster. \n",
        "\n",
        "![Texte alternatif…](https://scikit-learn.org/stable/_images/sphx_glr_plot_linkage_comparison_001.png)\n"
      ]
    },
    {
      "cell_type": "code",
      "metadata": {
        "id": "CAGoQ-4MLWqp"
      },
      "source": [
        "from scipy.cluster.hierarchy import dendrogram, linkage #hierarchical clustering"
      ],
      "execution_count": 25,
      "outputs": []
    },
    {
      "cell_type": "code",
      "metadata": {
        "id": "GUIALNDYLZqp",
        "colab": {
          "base_uri": "https://localhost:8080/",
          "height": 618
        },
        "outputId": "2ad1dfcd-3fdf-4059-f3da-f118306506c9"
      },
      "source": [
        "# Single linkage\n",
        "\n",
        "plt.figure(figsize=(25, 10))\n",
        "plt.title('Hierarchical Clustering Dendrogram (Single Linkage)', fontsize=20)\n",
        "plt.xlabel('Number of points in node (or index of point if no parenthesis)', fontsize=20)\n",
        "plt.ylabel('distance', fontsize=20)\n",
        "\n",
        "Z = linkage(X,'single') #Provide the type of linkage we want.\n",
        "dendrogram(Z) #compute the dendogram according the linkage\n",
        "\n",
        "plt.show()"
      ],
      "execution_count": 26,
      "outputs": [
        {
          "output_type": "display_data",
          "data": {
            "image/png": "[encoded data removed]",
            "text/plain": [
              "<Figure size 1800x720 with 1 Axes>"
            ]
          },
          "metadata": {
            "tags": [],
            "needs_background": "light"
          }
        }
      ]
    },
    {
      "cell_type": "markdown",
      "metadata": {
        "id": "ON6qcf_BUK3M"
      },
      "source": [
        "###Exercise\n",
        "Plot the 3 other types of linkages and look at what is changing."
      ]
    },
    {
      "cell_type": "code",
      "metadata": {
        "id": "0kl200ZKTH9s"
      },
      "source": [
        "# Average linkage\n",
        "\n",
        "plt.figure(figsize=(13, 7))\n",
        "plt.title('Hierarchical Clustering Dendrogram (Average Linkage)', fontsize=20)\n",
        "plt.xlabel('Number of points in node (or index of point if no parenthesis)', fontsize=20)\n",
        "plt.ylabel('distance', fontsize=20)\n",
        "\n",
        "Z = linkage(X,'...') #something here\n",
        "dendrogram(Z)\n",
        "\n",
        "plt.show()"
      ],
      "execution_count": null,
      "outputs": []
    },
    {
      "cell_type": "code",
      "metadata": {
        "id": "9Jchw80e7gh2"
      },
      "source": [
        "# Complete linkage\n",
        "\n",
        "plt.figure(figsize=(13, 7))\n",
        "plt.title('Hierarchical Clustering Dendrogram (Complete Linkage)', fontsize=20)\n",
        "plt.xlabel('Number of points in node (or index of point if no parenthesis)', fontsize=20)\n",
        "plt.ylabel('distance', fontsize=20)\n",
        "\n",
        "Z = linkage(X,'...') #something here\n",
        "dendrogram(Z)\n",
        "\n",
        "plt.show()"
      ],
      "execution_count": null,
      "outputs": []
    },
    {
      "cell_type": "code",
      "metadata": {
        "id": "nGym--7L7jBB"
      },
      "source": [
        "# Ward linkage\n",
        "\n",
        "plt.figure(figsize=(13, 7))\n",
        "plt.title('Hierarchical Clustering Dendrogram (Ward Linkage)', fontsize=20)\n",
        "plt.xlabel('Number of points in node (or index of point if no parenthesis)', fontsize=20)\n",
        "plt.ylabel('distance', fontsize=20)\n",
        "\n",
        "Z = linkage(X,'...') #something here\n",
        "dendrogram(Z)\n",
        "\n",
        "plt.show()"
      ],
      "execution_count": null,
      "outputs": []
    }
  ]
}